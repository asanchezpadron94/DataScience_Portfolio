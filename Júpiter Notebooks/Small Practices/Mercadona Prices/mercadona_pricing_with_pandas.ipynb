{
 "cells": [
  {
   "cell_type": "markdown",
   "source": "# Mercadonas Prices Analytics:",
   "metadata": {
    "id": "4LdLr5otGRdG",
    "cell_id": "00000-d692e02f-4864-4c97-8163-b7d7919321c6",
    "deepnote_cell_type": "markdown"
   }
  },
  {
   "cell_type": "markdown",
   "source": "## Import libraries:",
   "metadata": {
    "id": "uNMdUJQi-s8L",
    "cell_id": "00001-02effdd1-82a4-49ba-903a-0fb43ad3f7b4",
    "deepnote_cell_type": "markdown"
   }
  },
  {
   "cell_type": "code",
   "metadata": {
    "id": "dS1-hrdL7QnP",
    "executionInfo": {
     "status": "ok",
     "timestamp": 1625412588426,
     "user_tz": 240,
     "elapsed": 170,
     "user": {
      "displayName": "Andrés Sánchez",
      "photoUrl": "https://lh3.googleusercontent.com/a-/AOh14Gg69bZMv30ckb-T1MJy0nSxWIHUaP0p2uP6MYBuvQ=s64",
      "userId": "07985253921366566280"
     }
    },
    "cell_id": "00002-da329cc5-a8e2-4839-b710-ad5ab1d37a03",
    "deepnote_to_be_reexecuted": false,
    "source_hash": "cee230ab",
    "execution_start": 1630094711051,
    "execution_millis": 1375,
    "deepnote_cell_type": "code"
   },
   "source": "# Data:\nimport pandas as pd\nimport numpy as np\nimport datetime as dt\n\n# Plots:\nimport matplotlib.pyplot as plt\nfrom matplotlib import figure\nimport matplotlib.dates as mdates\nimport seaborn as sns",
   "outputs": [],
   "execution_count": null
  },
  {
   "cell_type": "markdown",
   "source": "## Read CSV File and Data Normalization:",
   "metadata": {
    "id": "uaSB5s-F-vrc",
    "cell_id": "00005-e70483dc-3723-4788-a232-3574f1dc8447",
    "deepnote_cell_type": "markdown"
   }
  },
  {
   "cell_type": "code",
   "metadata": {
    "id": "rW_OliHBERuT",
    "executionInfo": {
     "status": "ok",
     "timestamp": 1625412592274,
     "user_tz": 240,
     "elapsed": 540,
     "user": {
      "displayName": "Andrés Sánchez",
      "photoUrl": "https://lh3.googleusercontent.com/a-/AOh14Gg69bZMv30ckb-T1MJy0nSxWIHUaP0p2uP6MYBuvQ=s64",
      "userId": "07985253921366566280"
     }
    },
    "cell_id": "00007-aa9a57b5-388c-4eb4-9d82-f6652dd9ef58",
    "deepnote_to_be_reexecuted": false,
    "source_hash": "e0e2e341",
    "execution_start": 1630094712430,
    "execution_millis": 3,
    "deepnote_cell_type": "code"
   },
   "source": "def load_data():\n\n    # Append all the files.\n    mercadona_prices = pd.read_csv('/datasets/personalcloud/2021 - Mercadona Prices/mercadona_data.csv', sep = ',')\n\n    # Delete useless columns:\n    mercadona_prices = mercadona_prices.drop(columns = ['supermarket'])\n\n    # Ajust the format of each column.\n    mercadona_prices['insert_date'] = pd.to_datetime(mercadona_prices['insert_date'])\n    mercadona_prices = mercadona_prices.convert_dtypes()\n\n    # Reset the index and drop the old one.\n    mercadona_prices = pd.DataFrame(mercadona_prices.reset_index(drop = True))\n    \n    # Add the units column.\n    mercadona_prices['units'] = mercadona_prices['price'] / mercadona_prices['reference_price']\n\n    return mercadona_prices",
   "outputs": [],
   "execution_count": null
  },
  {
   "cell_type": "code",
   "metadata": {
    "tags": [],
    "cell_id": "00005-5af80b7e-52fa-4a39-8d1e-9e0abfaf09c6",
    "deepnote_to_be_reexecuted": false,
    "source_hash": "efe720d8",
    "execution_start": 1630094712438,
    "execution_millis": 1864,
    "deepnote_cell_type": "code"
   },
   "source": "mercadona_prices = load_data()",
   "outputs": [],
   "execution_count": null
  },
  {
   "cell_type": "markdown",
   "source": "## Fast view:",
   "metadata": {
    "id": "VCGubEEy4icA",
    "cell_id": "00013-b6fca14c-d07f-4876-a582-6750fb1e6978",
    "deepnote_cell_type": "markdown"
   }
  },
  {
   "cell_type": "code",
   "metadata": {
    "colab": {
     "base_uri": "https://localhost:8080/",
     "height": 0
    },
    "id": "s5mpwfYTFEGS",
    "executionInfo": {
     "status": "ok",
     "timestamp": 1625412594109,
     "user_tz": 240,
     "elapsed": 553,
     "user": {
      "displayName": "Andrés Sánchez",
      "photoUrl": "https://lh3.googleusercontent.com/a-/AOh14Gg69bZMv30ckb-T1MJy0nSxWIHUaP0p2uP6MYBuvQ=s64",
      "userId": "07985253921366566280"
     }
    },
    "outputId": "7f08eb7e-a28b-403f-957b-69908603955e",
    "cell_id": "00014-b27de53d-daec-4a4e-a8e5-b1f74d68887f",
    "deepnote_to_be_reexecuted": false,
    "source_hash": "25c49dea",
    "execution_start": 1630094714317,
    "execution_millis": 62,
    "deepnote_cell_type": "code"
   },
   "source": "# Check:\nmercadona_prices.tail(1000)",
   "outputs": [
    {
     "output_type": "execute_result",
     "execution_count": 4,
     "data": {
      "application/vnd.deepnote.dataframe.v2+json": {
       "row_count": 1000,
       "column_count": 8,
       "columns": [
        {
         "name": "id",
         "dtype": "Int64",
         "stats": {
          "unique_count": 1000,
          "nan_count": 0,
          "categories": [
           {
            "name": "2428532",
            "count": 1
           },
           {
            "name": "2428533",
            "count": 1
           },
           {
            "name": "998 others",
            "count": 998
           }
          ]
         }
        },
        {
         "name": "category",
         "dtype": "string",
         "stats": {
          "unique_count": 32,
          "nan_count": 0,
          "categories": [
           {
            "name": "pizzas_y_platos_preparados_platos_preparados_calientes",
            "count": 69
           },
           {
            "name": "mascotas_perro",
            "count": 60
           },
           {
            "name": "30 others",
            "count": 871
           }
          ]
         }
        },
        {
         "name": "name",
         "dtype": "string",
         "stats": {
          "unique_count": 912,
          "nan_count": 0,
          "categories": [
           {
            "name": "Bocaditos en gelatina gato adulto Delikuit",
            "count": 4
           },
           {
            "name": "Bocaditos en salsa gato adulto Delikuit",
            "count": 4
           },
           {
            "name": "910 others",
            "count": 992
           }
          ]
         }
        },
        {
         "name": "price",
         "dtype": "Float64",
         "stats": {
          "unique_count": 222,
          "nan_count": 0,
          "categories": [
           {
            "name": "1.5",
            "count": 41
           },
           {
            "name": "1.0",
            "count": 32
           },
           {
            "name": "220 others",
            "count": 927
           }
          ]
         }
        },
        {
         "name": "reference_price",
         "dtype": "Float64",
         "stats": {
          "unique_count": 474,
          "nan_count": 0,
          "categories": [
           {
            "name": "3.75",
            "count": 21
           },
           {
            "name": "6.5",
            "count": 15
           },
           {
            "name": "472 others",
            "count": 964
           }
          ]
         }
        },
        {
         "name": "reference_unit",
         "dtype": "string",
         "stats": {
          "unique_count": 5,
          "nan_count": 0,
          "categories": [
           {
            "name": "kg",
            "count": 870
           },
           {
            "name": "L",
            "count": 97
           },
           {
            "name": "3 others",
            "count": 33
           }
          ]
         }
        },
        {
         "name": "insert_date",
         "dtype": "datetime64[ns]",
         "stats": {
          "unique_count": 1,
          "nan_count": 0,
          "min": "2020-10-07 12:00:00",
          "max": "2020-10-07 12:00:00",
          "histogram": null
         }
        },
        {
         "name": "units",
         "dtype": "Float64",
         "stats": {
          "unique_count": 493,
          "nan_count": 0,
          "categories": [
           {
            "name": "1.0",
            "count": 82
           },
           {
            "name": "0.5",
            "count": 70
           },
           {
            "name": "491 others",
            "count": 848
           }
          ]
         }
        },
        {
         "name": "_deepnote_index_column",
         "dtype": "int64"
        }
       ],
       "rows_top": [
        {
         "id": 2428532,
         "category": "marisco_y_pescado_pescado_en_bandeja",
         "name": "Salmón al curry con arroz",
         "price": 3.5,
         "reference_price": 12.73,
         "reference_unit": "kg",
         "insert_date": "2020-10-07T12:00:00.000000",
         "units": 0.2749410840534171,
         "_deepnote_index_column": 1002020
        },
        {
         "id": 2428533,
         "category": "marisco_y_pescado_pescado_en_bandeja",
         "name": "Huevas cocidas de merluzas Embumar",
         "price": 2.15,
         "reference_price": 10.75,
         "reference_unit": "kg",
         "insert_date": "2020-10-07T12:00:00.000000",
         "units": 0.19999999999999998,
         "_deepnote_index_column": 1002021
        },
        {
         "id": 2428534,
         "category": "marisco_y_pescado_pescado_en_bandeja",
         "name": "Caracoles en salsa mediterránea",
         "price": 3.95,
         "reference_price": 7.18,
         "reference_unit": "kg",
         "insert_date": "2020-10-07T12:00:00.000000",
         "units": 0.5501392757660167,
         "_deepnote_index_column": 1002022
        },
        {
         "id": 2428570,
         "category": "marisco_y_pescado_pescado_fresco",
         "name": "Calamar pequeño sin limpiar descongelado",
         "price": 0.24,
         "reference_price": 5.95,
         "reference_unit": "kg",
         "insert_date": "2020-10-07T12:00:00.000000",
         "units": 0.04033613445378151,
         "_deepnote_index_column": 1002023
        },
        {
         "id": 2428571,
         "category": "marisco_y_pescado_pescado_fresco",
         "name": "Calamar pequeño limpio descongelado sin barquilla y sin tripa",
         "price": 0.24,
         "reference_price": 5.95,
         "reference_unit": "kg",
         "insert_date": "2020-10-07T12:00:00.000000",
         "units": 0.04033613445378151,
         "_deepnote_index_column": 1002024
        },
        {
         "id": 2428572,
         "category": "marisco_y_pescado_pescado_fresco",
         "name": "Calamar mediano sin limpiar descongelado",
         "price": 1.09,
         "reference_price": 9.95,
         "reference_unit": "kg",
         "insert_date": "2020-10-07T12:00:00.000000",
         "units": 0.10954773869346736,
         "_deepnote_index_column": 1002025
        },
        {
         "id": 2428573,
         "category": "marisco_y_pescado_pescado_fresco",
         "name": "Calamar mediano limpio descongelado sin barquilla y sin tripa",
         "price": 1.09,
         "reference_price": 9.95,
         "reference_unit": "kg",
         "insert_date": "2020-10-07T12:00:00.000000",
         "units": 0.10954773869346736,
         "_deepnote_index_column": 1002026
        },
        {
         "id": 2428574,
         "category": "marisco_y_pescado_pescado_fresco",
         "name": "Calamar grande sin limpiar descongelado",
         "price": 5.5,
         "reference_price": 12.5,
         "reference_unit": "kg",
         "insert_date": "2020-10-07T12:00:00.000000",
         "units": 0.44,
         "_deepnote_index_column": 1002027
        },
        {
         "id": 2428575,
         "category": "marisco_y_pescado_pescado_fresco",
         "name": "Calamar grande limpio descongelado sin barquilla y sin tripa",
         "price": 5.5,
         "reference_price": 12.5,
         "reference_unit": "kg",
         "insert_date": "2020-10-07T12:00:00.000000",
         "units": 0.44,
         "_deepnote_index_column": 1002028
        },
        {
         "id": 2428576,
         "category": "marisco_y_pescado_pescado_fresco",
         "name": "Sepia",
         "price": 9.86,
         "reference_price": 10.95,
         "reference_unit": "kg",
         "insert_date": "2020-10-07T12:00:00.000000",
         "units": 0.9004566210045662,
         "_deepnote_index_column": 1002029
        },
        {
         "id": 2428577,
         "category": "marisco_y_pescado_pescado_fresco",
         "name": "Tiras de potón descongeladas",
         "price": 589.05,
         "reference_price": 5.95,
         "reference_unit": "kg",
         "insert_date": "2020-10-07T12:00:00.000000",
         "units": 98.99999999999999,
         "_deepnote_index_column": 1002030
        },
        {
         "id": 2428578,
         "category": "marisco_y_pescado_pescado_fresco",
         "name": "Boquerón sin limpiar",
         "price": 1.39,
         "reference_price": 6.95,
         "reference_unit": "kg",
         "insert_date": "2020-10-07T12:00:00.000000",
         "units": 0.19999999999999998,
         "_deepnote_index_column": 1002031
        },
        {
         "id": 2428579,
         "category": "marisco_y_pescado_pescado_fresco",
         "name": "Boquerón limpio",
         "price": 1.39,
         "reference_price": 6.95,
         "reference_unit": "kg",
         "insert_date": "2020-10-07T12:00:00.000000",
         "units": 0.19999999999999998,
         "_deepnote_index_column": 1002032
        },
        {
         "id": 2428580,
         "category": "marisco_y_pescado_pescado_fresco",
         "name": "Sardina sin limpiar",
         "price": 1.19,
         "reference_price": 5.95,
         "reference_unit": "kg",
         "insert_date": "2020-10-07T12:00:00.000000",
         "units": 0.19999999999999998,
         "_deepnote_index_column": 1002033
        },
        {
         "id": 2428581,
         "category": "marisco_y_pescado_pescado_fresco",
         "name": "Sardina limpia",
         "price": 1.49,
         "reference_price": 5.95,
         "reference_unit": "kg",
         "insert_date": "2020-10-07T12:00:00.000000",
         "units": 0.2504201680672269,
         "_deepnote_index_column": 1002034
        },
        {
         "id": 2428582,
         "category": "marisco_y_pescado_pescado_fresco",
         "name": "Morralla",
         "price": 688.05,
         "reference_price": 6.95,
         "reference_unit": "kg",
         "insert_date": "2020-10-07T12:00:00.000000",
         "units": 98.99999999999999,
         "_deepnote_index_column": 1002035
        },
        {
         "id": 2428583,
         "category": "marisco_y_pescado_pescado_fresco",
         "name": "Lenguado sin cabeza y sin piel",
         "price": 1.81,
         "reference_price": 12.95,
         "reference_unit": "kg",
         "insert_date": "2020-10-07T12:00:00.000000",
         "units": 0.13976833976833977,
         "_deepnote_index_column": 1002036
        },
        {
         "id": 2428584,
         "category": "marisco_y_pescado_pescado_fresco",
         "name": "Lenguado sin limpiar",
         "price": 1.81,
         "reference_price": 12.95,
         "reference_unit": "kg",
         "insert_date": "2020-10-07T12:00:00.000000",
         "units": 0.13976833976833977,
         "_deepnote_index_column": 1002037
        },
        {
         "id": 2428585,
         "category": "marisco_y_pescado_pescado_fresco",
         "name": "Corvina limpia con cabeza",
         "price": 7.87,
         "reference_price": 7.95,
         "reference_unit": "kg",
         "insert_date": "2020-10-07T12:00:00.000000",
         "units": 0.989937106918239,
         "_deepnote_index_column": 1002038
        },
        {
         "id": 2428586,
         "category": "marisco_y_pescado_pescado_fresco",
         "name": "Corvina abierta a la espalda con espinas y con cabeza",
         "price": 7.87,
         "reference_price": 7.95,
         "reference_unit": "kg",
         "insert_date": "2020-10-07T12:00:00.000000",
         "units": 0.989937106918239,
         "_deepnote_index_column": 1002039
        },
        {
         "id": 2428587,
         "category": "marisco_y_pescado_pescado_fresco",
         "name": "Corvina a filetes sin cabeza y sin espina",
         "price": 7.87,
         "reference_price": 7.95,
         "reference_unit": "kg",
         "insert_date": "2020-10-07T12:00:00.000000",
         "units": 0.989937106918239,
         "_deepnote_index_column": 1002040
        },
        {
         "id": 2428588,
         "category": "marisco_y_pescado_pescado_fresco",
         "name": "Dorada limpia con cabeza",
         "price": 3.32,
         "reference_price": 6.5,
         "reference_unit": "kg",
         "insert_date": "2020-10-07T12:00:00.000000",
         "units": 0.5107692307692308,
         "_deepnote_index_column": 1002041
        },
        {
         "id": 2428589,
         "category": "marisco_y_pescado_pescado_fresco",
         "name": "Dorada abierta a la espalda con espinas y con cabeza",
         "price": 3.32,
         "reference_price": 6.5,
         "reference_unit": "kg",
         "insert_date": "2020-10-07T12:00:00.000000",
         "units": 0.5107692307692308,
         "_deepnote_index_column": 1002042
        },
        {
         "id": 2428590,
         "category": "marisco_y_pescado_pescado_fresco",
         "name": "Dorada a filetes sin cabeza y sin espina",
         "price": 3.32,
         "reference_price": 6.5,
         "reference_unit": "kg",
         "insert_date": "2020-10-07T12:00:00.000000",
         "units": 0.5107692307692308,
         "_deepnote_index_column": 1002043
        },
        {
         "id": 2428591,
         "category": "marisco_y_pescado_pescado_fresco",
         "name": "Dorada abierta en libro sin cabeza y sin espina",
         "price": 3.32,
         "reference_price": 6.5,
         "reference_unit": "kg",
         "insert_date": "2020-10-07T12:00:00.000000",
         "units": 0.5107692307692308,
         "_deepnote_index_column": 1002044
        },
        {
         "id": 2428592,
         "category": "marisco_y_pescado_pescado_fresco",
         "name": "Dorada sin limpiar",
         "price": 3.32,
         "reference_price": 6.5,
         "reference_unit": "kg",
         "insert_date": "2020-10-07T12:00:00.000000",
         "units": 0.5107692307692308,
         "_deepnote_index_column": 1002045
        },
        {
         "id": 2428593,
         "category": "marisco_y_pescado_pescado_fresco",
         "name": "Lubina limpia con cabeza",
         "price": 3.64,
         "reference_price": 6.5,
         "reference_unit": "kg",
         "insert_date": "2020-10-07T12:00:00.000000",
         "units": 0.56,
         "_deepnote_index_column": 1002046
        },
        {
         "id": 2428594,
         "category": "marisco_y_pescado_pescado_fresco",
         "name": "Lubina abierta a la espalda con espinas y con cabeza",
         "price": 3.64,
         "reference_price": 6.5,
         "reference_unit": "kg",
         "insert_date": "2020-10-07T12:00:00.000000",
         "units": 0.56,
         "_deepnote_index_column": 1002047
        },
        {
         "id": 2428595,
         "category": "marisco_y_pescado_pescado_fresco",
         "name": "Lubina a filetes sin cabeza y sin espina",
         "price": 3.64,
         "reference_price": 6.5,
         "reference_unit": "kg",
         "insert_date": "2020-10-07T12:00:00.000000",
         "units": 0.56,
         "_deepnote_index_column": 1002048
        },
        {
         "id": 2428596,
         "category": "marisco_y_pescado_pescado_fresco",
         "name": "Lubina abierta en libro sin cabeza y sin espina",
         "price": 3.64,
         "reference_price": 6.5,
         "reference_unit": "kg",
         "insert_date": "2020-10-07T12:00:00.000000",
         "units": 0.56,
         "_deepnote_index_column": 1002049
        },
        {
         "id": 2428597,
         "category": "marisco_y_pescado_pescado_fresco",
         "name": "Lubina sin limpiar",
         "price": 3.64,
         "reference_price": 6.5,
         "reference_unit": "kg",
         "insert_date": "2020-10-07T12:00:00.000000",
         "units": 0.56,
         "_deepnote_index_column": 1002050
        },
        {
         "id": 2428598,
         "category": "marisco_y_pescado_pescado_fresco",
         "name": "Trucha abierta en libro con cabeza",
         "price": 2.27,
         "reference_price": 6.5,
         "reference_unit": "kg",
         "insert_date": "2020-10-07T12:00:00.000000",
         "units": 0.34923076923076923,
         "_deepnote_index_column": 1002051
        },
        {
         "id": 2428599,
         "category": "marisco_y_pescado_pescado_fresco",
         "name": "Trucha abierta en libro sin cabeza y sin espina",
         "price": 2.27,
         "reference_price": 6.5,
         "reference_unit": "kg",
         "insert_date": "2020-10-07T12:00:00.000000",
         "units": 0.34923076923076923,
         "_deepnote_index_column": 1002052
        },
        {
         "id": 2428600,
         "category": "marisco_y_pescado_pescado_fresco",
         "name": "Trucha sin aletas",
         "price": 2.27,
         "reference_price": 6.5,
         "reference_unit": "kg",
         "insert_date": "2020-10-07T12:00:00.000000",
         "units": 0.34923076923076923,
         "_deepnote_index_column": 1002053
        },
        {
         "id": 2428601,
         "category": "marisco_y_pescado_pescado_fresco",
         "name": "Bacalao a rodajas",
         "price": 10.57,
         "reference_price": 7.5,
         "reference_unit": "kg",
         "insert_date": "2020-10-07T12:00:00.000000",
         "units": 1.4093333333333333,
         "_deepnote_index_column": 1002054
        },
        {
         "id": 2428602,
         "category": "marisco_y_pescado_pescado_fresco",
         "name": "Bacalao media pieza a rodajas",
         "price": 6.37,
         "reference_price": 7.5,
         "reference_unit": "kg",
         "insert_date": "2020-10-07T12:00:00.000000",
         "units": 0.8493333333333334,
         "_deepnote_index_column": 1002055
        },
        {
         "id": 2428603,
         "category": "marisco_y_pescado_pescado_fresco",
         "name": "Bacalao abierto en libro sin cabeza y sin espina",
         "price": 10.57,
         "reference_price": 7.5,
         "reference_unit": "kg",
         "insert_date": "2020-10-07T12:00:00.000000",
         "units": 1.4093333333333333,
         "_deepnote_index_column": 1002056
        },
        {
         "id": 2428604,
         "category": "marisco_y_pescado_pescado_fresco",
         "name": "Bacalao media pieza abierto en libro sin cabeza y sin espina",
         "price": 6.37,
         "reference_price": 7.5,
         "reference_unit": "kg",
         "insert_date": "2020-10-07T12:00:00.000000",
         "units": 0.8493333333333334,
         "_deepnote_index_column": 1002057
        },
        {
         "id": 2428605,
         "category": "marisco_y_pescado_pescado_fresco",
         "name": "Salmón a rodajas",
         "price": 26.47,
         "reference_price": 7.95,
         "reference_unit": "kg",
         "insert_date": "2020-10-07T12:00:00.000000",
         "units": 3.329559748427673,
         "_deepnote_index_column": 1002058
        },
        {
         "id": 2428606,
         "category": "marisco_y_pescado_pescado_fresco",
         "name": "Salmón media pieza a rodajas",
         "price": 13.28,
         "reference_price": 7.95,
         "reference_unit": "kg",
         "insert_date": "2020-10-07T12:00:00.000000",
         "units": 1.670440251572327,
         "_deepnote_index_column": 1002059
        },
        {
         "id": 2428607,
         "category": "marisco_y_pescado_pescado_fresco",
         "name": "Salmón abierto en libro sin cabeza y sin espina",
         "price": 26.47,
         "reference_price": 7.95,
         "reference_unit": "kg",
         "insert_date": "2020-10-07T12:00:00.000000",
         "units": 3.329559748427673,
         "_deepnote_index_column": 1002060
        },
        {
         "id": 2428608,
         "category": "marisco_y_pescado_pescado_fresco",
         "name": "Salmón media pieza abierto en libro sin cabeza y sin espina",
         "price": 13.28,
         "reference_price": 7.95,
         "reference_unit": "kg",
         "insert_date": "2020-10-07T12:00:00.000000",
         "units": 1.670440251572327,
         "_deepnote_index_column": 1002061
        },
        {
         "id": 2428609,
         "category": "marisco_y_pescado_pescado_fresco",
         "name": "Salmón sin aletas y sin escamas",
         "price": 26.47,
         "reference_price": 7.95,
         "reference_unit": "kg",
         "insert_date": "2020-10-07T12:00:00.000000",
         "units": 3.329559748427673,
         "_deepnote_index_column": 1002062
        },
        {
         "id": 2428610,
         "category": "marisco_y_pescado_pescado_fresco",
         "name": "Salmón media pieza sin aletas y sin escamas",
         "price": 13.28,
         "reference_price": 7.95,
         "reference_unit": "kg",
         "insert_date": "2020-10-07T12:00:00.000000",
         "units": 1.670440251572327,
         "_deepnote_index_column": 1002063
        },
        {
         "id": 2428611,
         "category": "marisco_y_pescado_pescado_fresco",
         "name": "Rape a rodajas",
         "price": 14.14,
         "reference_price": 8.95,
         "reference_unit": "kg",
         "insert_date": "2020-10-07T12:00:00.000000",
         "units": 1.5798882681564248,
         "_deepnote_index_column": 1002064
        },
        {
         "id": 2428612,
         "category": "marisco_y_pescado_pescado_fresco",
         "name": "Rape abierto en libro sin espina",
         "price": 14.14,
         "reference_price": 8.95,
         "reference_unit": "kg",
         "insert_date": "2020-10-07T12:00:00.000000",
         "units": 1.5798882681564248,
         "_deepnote_index_column": 1002065
        },
        {
         "id": 2428613,
         "category": "marisco_y_pescado_pescado_fresco",
         "name": "Rape sin piel y sin cabeza",
         "price": 14.14,
         "reference_price": 8.95,
         "reference_unit": "kg",
         "insert_date": "2020-10-07T12:00:00.000000",
         "units": 1.5798882681564248,
         "_deepnote_index_column": 1002066
        },
        {
         "id": 2428614,
         "category": "marisco_y_pescado_pescado_fresco",
         "name": "Rape sin aletas y sin dientes",
         "price": 14.14,
         "reference_price": 8.95,
         "reference_unit": "kg",
         "insert_date": "2020-10-07T12:00:00.000000",
         "units": 1.5798882681564248,
         "_deepnote_index_column": 1002067
        },
        {
         "id": 2428615,
         "category": "marisco_y_pescado_pescado_fresco",
         "name": "Rodaballo con piel, sin aletas y sin agallas",
         "price": 12.59,
         "reference_price": 10.95,
         "reference_unit": "kg",
         "insert_date": "2020-10-07T12:00:00.000000",
         "units": 1.149771689497717,
         "_deepnote_index_column": 1002068
        },
        {
         "id": 2428616,
         "category": "marisco_y_pescado_pescado_fresco",
         "name": "Rodaballo a filetes",
         "price": 12.59,
         "reference_price": 10.95,
         "reference_unit": "kg",
         "insert_date": "2020-10-07T12:00:00.000000",
         "units": 1.149771689497717,
         "_deepnote_index_column": 1002069
        },
        {
         "id": 2428617,
         "category": "marisco_y_pescado_pescado_fresco",
         "name": "Rodaballo a filetes y sin piel",
         "price": 12.59,
         "reference_price": 10.95,
         "reference_unit": "kg",
         "insert_date": "2020-10-07T12:00:00.000000",
         "units": 1.149771689497717,
         "_deepnote_index_column": 1002070
        },
        {
         "id": 2428618,
         "category": "marisco_y_pescado_salazones_y_ahumados",
         "name": "Filetes de anchoa en aceite de girasol Hacendado",
         "price": 1.65,
         "reference_price": 18.97,
         "reference_unit": "kg",
         "insert_date": "2020-10-07T12:00:00.000000",
         "units": 0.08697944122298366,
         "_deepnote_index_column": 1002071
        },
        {
         "id": 2428619,
         "category": "marisco_y_pescado_salazones_y_ahumados",
         "name": "Boquerones en vinagre Hacendado en aceite de girasol",
         "price": 1.65,
         "reference_price": 27.5,
         "reference_unit": "kg",
         "insert_date": "2020-10-07T12:00:00.000000",
         "units": 0.06,
         "_deepnote_index_column": 1002072
        },
        {
         "id": 2428620,
         "category": "marisco_y_pescado_salazones_y_ahumados",
         "name": "Filetes de anchoa en aceite de oliva Hacendado",
         "price": 1,
         "reference_price": 34.48,
         "reference_unit": "kg",
         "insert_date": "2020-10-07T12:00:00.000000",
         "units": 0.02900232018561485,
         "_deepnote_index_column": 1002073
        },
        {
         "id": 2428621,
         "category": "marisco_y_pescado_salazones_y_ahumados",
         "name": "Filetes de anchoa en aceite de oliva Hacendado",
         "price": 2.5,
         "reference_price": 28.74,
         "reference_unit": "kg",
         "insert_date": "2020-10-07T12:00:00.000000",
         "units": 0.08698677800974253,
         "_deepnote_index_column": 1002074
        },
        {
         "id": 2428622,
         "category": "marisco_y_pescado_salazones_y_ahumados",
         "name": "Palito de bacalao seco y salado Ubago",
         "price": 2.44,
         "reference_price": 28.75,
         "reference_unit": "kg",
         "insert_date": "2020-10-07T12:00:00.000000",
         "units": 0.08486956521739131,
         "_deepnote_index_column": 1002075
        },
        {
         "id": 2428623,
         "category": "marisco_y_pescado_salazones_y_ahumados",
         "name": "Filetes de sardina anchoada Hacendado en aceite de girasol",
         "price": 1.5,
         "reference_price": 25,
         "reference_unit": "kg",
         "insert_date": "2020-10-07T12:00:00.000000",
         "units": 0.06,
         "_deepnote_index_column": 1002076
        },
        {
         "id": 2428624,
         "category": "marisco_y_pescado_salazones_y_ahumados",
         "name": "Migas de bacalao desaladas Hacendado",
         "price": 4.35,
         "reference_price": 17.4,
         "reference_unit": "kg",
         "insert_date": "2020-10-07T12:00:00.000000",
         "units": 0.25,
         "_deepnote_index_column": 1002077
        },
        {
         "id": 2428625,
         "category": "marisco_y_pescado_salazones_y_ahumados",
         "name": "Boquerones al vinagre Hacendado en aceite de girasol",
         "price": 5.1,
         "reference_price": 19.25,
         "reference_unit": "kg",
         "insert_date": "2020-10-07T12:00:00.000000",
         "units": 0.2649350649350649,
         "_deepnote_index_column": 1002078
        },
        {
         "id": 2428626,
         "category": "marisco_y_pescado_salazones_y_ahumados",
         "name": "Migas de bacalao al estilo inglés Ubago",
         "price": 3,
         "reference_price": 30,
         "reference_unit": "kg",
         "insert_date": "2020-10-07T12:00:00.000000",
         "units": 0.1,
         "_deepnote_index_column": 1002079
        },
        {
         "id": 2428627,
         "category": "marisco_y_pescado_salazones_y_ahumados",
         "name": "Filetes de sardina marinada Hacendado en aceite de oliva virgen extra",
         "price": 1.3,
         "reference_price": 26,
         "reference_unit": "kg",
         "insert_date": "2020-10-07T12:00:00.000000",
         "units": 0.05,
         "_deepnote_index_column": 1002080
        },
        {
         "id": 2428628,
         "category": "marisco_y_pescado_salazones_y_ahumados",
         "name": "Sucedáneo de caviar negro Ubago Caviartic",
         "price": 1.85,
         "reference_price": 24.67,
         "reference_unit": "kg",
         "insert_date": "2020-10-07T12:00:00.000000",
         "units": 0.07498986623429266,
         "_deepnote_index_column": 1002081
        }
       ],
       "rows_bottom": [
        {
         "id": 2430558,
         "category": "zumos_fruta_variada",
         "name": "Fruta + leche tropical Bifrutas",
         "price": 1.79,
         "reference_price": 1.81,
         "reference_unit": "L",
         "insert_date": "2020-10-07T12:00:00.000000",
         "units": 0.988950276243094,
         "_deepnote_index_column": 1002957
        },
        {
         "id": 2430559,
         "category": "zumos_fruta_variada",
         "name": "Fruta + leche tropical Hacendado",
         "price": 0.69,
         "reference_price": 0.7,
         "reference_unit": "L",
         "insert_date": "2020-10-07T12:00:00.000000",
         "units": 0.9857142857142857,
         "_deepnote_index_column": 1002958
        },
        {
         "id": 2430560,
         "category": "zumos_fruta_variada",
         "name": "Fruta + leche Caribe Don Simón zero materia grasa",
         "price": 1.2,
         "reference_price": 1,
         "reference_unit": "L",
         "insert_date": "2020-10-07T12:00:00.000000",
         "units": 1.2,
         "_deepnote_index_column": 1002959
        },
        {
         "id": 2430561,
         "category": "zumos_fruta_variada",
         "name": "Fruta + leche melón y sandía Hacendado",
         "price": 1.05,
         "reference_price": 1.05,
         "reference_unit": "L",
         "insert_date": "2020-10-07T12:00:00.000000",
         "units": 1,
         "_deepnote_index_column": 1002960
        },
        {
         "id": 2430562,
         "category": "zumos_fruta_variada",
         "name": "Fruta + leche melón y sandía Hacendado",
         "price": 1.15,
         "reference_price": 1.16,
         "reference_unit": "L",
         "insert_date": "2020-10-07T12:00:00.000000",
         "units": 0.9913793103448276,
         "_deepnote_index_column": 1002961
        },
        {
         "id": 2430563,
         "category": "zumos_fruta_variada",
         "name": "Fruta + leche melocotón y albaricoque Hacendado",
         "price": 0.85,
         "reference_price": 0.86,
         "reference_unit": "L",
         "insert_date": "2020-10-07T12:00:00.000000",
         "units": 0.9883720930232558,
         "_deepnote_index_column": 1002962
        },
        {
         "id": 2430564,
         "category": "zumos_fruta_variada",
         "name": "Fruta + leche naranja y mango Hacendado sin azúcares añadidos",
         "price": 1.1,
         "reference_price": 1.11,
         "reference_unit": "L",
         "insert_date": "2020-10-07T12:00:00.000000",
         "units": 0.990990990990991,
         "_deepnote_index_column": 1002963
        },
        {
         "id": 2430565,
         "category": "zumos_fruta_variada",
         "name": "Néctar de 8 frutos Hacendado 80% fruta",
         "price": 0.75,
         "reference_price": 1.25,
         "reference_unit": "L",
         "insert_date": "2020-10-07T12:00:00.000000",
         "units": 0.6,
         "_deepnote_index_column": 1002964
        },
        {
         "id": 2430566,
         "category": "zumos_fruta_variada",
         "name": "Bebida Bahamas Hacendado",
         "price": 0.95,
         "reference_price": 0.48,
         "reference_unit": "L",
         "insert_date": "2020-10-07T12:00:00.000000",
         "units": 1.9791666666666667,
         "_deepnote_index_column": 1002965
        },
        {
         "id": 2430567,
         "category": "zumos_fruta_variada",
         "name": "Néctar tropical Hacendado sin azúcares añadidos",
         "price": 0.57,
         "reference_price": 0.57,
         "reference_unit": "L",
         "insert_date": "2020-10-07T12:00:00.000000",
         "units": 1,
         "_deepnote_index_column": 1002966
        },
        {
         "id": 2430568,
         "category": "zumos_fruta_variada",
         "name": "Bebida de zumo de naranja, mango y zanahoria La Verja sin azúcares añadidos",
         "price": 1,
         "reference_price": 0.67,
         "reference_unit": "L",
         "insert_date": "2020-10-07T12:00:00.000000",
         "units": 1.4925373134328357,
         "_deepnote_index_column": 1002967
        },
        {
         "id": 2430569,
         "category": "zumos_fruta_variada",
         "name": "Néctar 5 frutas Hacendado sin azúcares añadidos",
         "price": 1.25,
         "reference_price": 1.04,
         "reference_unit": "L",
         "insert_date": "2020-10-07T12:00:00.000000",
         "units": 1.2019230769230769,
         "_deepnote_index_column": 1002968
        },
        {
         "id": 2430570,
         "category": "zumos_fruta_variada",
         "name": "Bebida de arándanos y frutas rojas Hacendado sin azúcares añadidos",
         "price": 1.4,
         "reference_price": 1.4,
         "reference_unit": "L",
         "insert_date": "2020-10-07T12:00:00.000000",
         "units": 1,
         "_deepnote_index_column": 1002969
        },
        {
         "id": 2430571,
         "category": "zumos_fruta_variada",
         "name": "Zumo tropical Hacendado",
         "price": 0.9,
         "reference_price": 0.9,
         "reference_unit": "L",
         "insert_date": "2020-10-07T12:00:00.000000",
         "units": 1,
         "_deepnote_index_column": 1002970
        },
        {
         "id": 2430572,
         "category": "zumos_fruta_variada",
         "name": "Zumo tropical Hacendado",
         "price": 1.3,
         "reference_price": 1.08,
         "reference_unit": "L",
         "insert_date": "2020-10-07T12:00:00.000000",
         "units": 1.2037037037037037,
         "_deepnote_index_column": 1002971
        },
        {
         "id": 2430573,
         "category": "zumos_fruta_variada",
         "name": "Bebida de frutas rojas antioxidante Hacendado sin azúcares añadidos",
         "price": 1.45,
         "reference_price": 1.45,
         "reference_unit": "L",
         "insert_date": "2020-10-07T12:00:00.000000",
         "units": 1,
         "_deepnote_index_column": 1002972
        },
        {
         "id": 2430574,
         "category": "zumos_fruta_variada",
         "name": "Néctar multivitaminas Hacendado sin azúcares añadidos",
         "price": 0.85,
         "reference_price": 0.85,
         "reference_unit": "L",
         "insert_date": "2020-10-07T12:00:00.000000",
         "units": 1,
         "_deepnote_index_column": 1002973
        },
        {
         "id": 2430575,
         "category": "zumos_fruta_variada",
         "name": "Zumo fresh maracuyá & chía Hacendado",
         "price": 2.75,
         "reference_price": 3.67,
         "reference_unit": "L",
         "insert_date": "2020-10-07T12:00:00.000000",
         "units": 0.7493188010899182,
         "_deepnote_index_column": 1002974
        },
        {
         "id": 2430576,
         "category": "zumos_fruta_variada",
         "name": "Smoothie fresa Hacendado",
         "price": 2.2,
         "reference_price": 4.4,
         "reference_unit": "L",
         "insert_date": "2020-10-07T12:00:00.000000",
         "units": 0.5,
         "_deepnote_index_column": 1002975
        },
        {
         "id": 2430577,
         "category": "zumos_fruta_variada",
         "name": "Zumo fresh jengibre & manzana Hacendado",
         "price": 1.6,
         "reference_price": 6.4,
         "reference_unit": "L",
         "insert_date": "2020-10-07T12:00:00.000000",
         "units": 0.25,
         "_deepnote_index_column": 1002976
        },
        {
         "id": 2430578,
         "category": "zumos_fruta_variada",
         "name": "Smoothie mango & coco Hacendado",
         "price": 1.6,
         "reference_price": 6.4,
         "reference_unit": "L",
         "insert_date": "2020-10-07T12:00:00.000000",
         "units": 0.25,
         "_deepnote_index_column": 1002977
        },
        {
         "id": 2430579,
         "category": "zumos_fruta_variada",
         "name": "Zumo de frutas y jengibre Active Hacendado",
         "price": 1.35,
         "reference_price": 22.5,
         "reference_unit": "L",
         "insert_date": "2020-10-07T12:00:00.000000",
         "units": 0.060000000000000005,
         "_deepnote_index_column": 1002978
        },
        {
         "id": 2430585,
         "category": "zumos_melocoton_y_pina",
         "name": "Zumo de melocotón y uva Hacendado",
         "price": 0.58,
         "reference_price": 0.58,
         "reference_unit": "L",
         "insert_date": "2020-10-07T12:00:00.000000",
         "units": 1,
         "_deepnote_index_column": 1002979
        },
        {
         "id": 2430586,
         "category": "zumos_melocoton_y_pina",
         "name": "Zumo de melocotón y uva Hacendado",
         "price": 0.87,
         "reference_price": 0.73,
         "reference_unit": "L",
         "insert_date": "2020-10-07T12:00:00.000000",
         "units": 1.1917808219178083,
         "_deepnote_index_column": 1002980
        },
        {
         "id": 2430587,
         "category": "zumos_melocoton_y_pina",
         "name": "Néctar de melocotón Hacendado sin azúcares añadidos",
         "price": 0.55,
         "reference_price": 0.55,
         "reference_unit": "L",
         "insert_date": "2020-10-07T12:00:00.000000",
         "units": 1,
         "_deepnote_index_column": 1002981
        },
        {
         "id": 2430588,
         "category": "zumos_melocoton_y_pina",
         "name": "Néctar de melocotón Hacendado sin azúcares añadidos",
         "price": 1.08,
         "reference_price": 0.9,
         "reference_unit": "L",
         "insert_date": "2020-10-07T12:00:00.000000",
         "units": 1.2,
         "_deepnote_index_column": 1002982
        },
        {
         "id": 2430589,
         "category": "zumos_melocoton_y_pina",
         "name": "Néctar de melocotón La Verja",
         "price": 1.19,
         "reference_price": 0.79,
         "reference_unit": "L",
         "insert_date": "2020-10-07T12:00:00.000000",
         "units": 1.5063291139240504,
         "_deepnote_index_column": 1002983
        },
        {
         "id": 2430590,
         "category": "zumos_melocoton_y_pina",
         "name": "Néctar de melocotón La Verja",
         "price": 1.25,
         "reference_price": 1.04,
         "reference_unit": "L",
         "insert_date": "2020-10-07T12:00:00.000000",
         "units": 1.2019230769230769,
         "_deepnote_index_column": 1002984
        },
        {
         "id": 2430591,
         "category": "zumos_melocoton_y_pina",
         "name": "Zumo de piña y uva Hacendado",
         "price": 0.58,
         "reference_price": 0.58,
         "reference_unit": "L",
         "insert_date": "2020-10-07T12:00:00.000000",
         "units": 1,
         "_deepnote_index_column": 1002985
        },
        {
         "id": 2430592,
         "category": "zumos_melocoton_y_pina",
         "name": "Zumo de piña y uva Hacendado",
         "price": 0.95,
         "reference_price": 0.79,
         "reference_unit": "L",
         "insert_date": "2020-10-07T12:00:00.000000",
         "units": 1.2025316455696202,
         "_deepnote_index_column": 1002986
        },
        {
         "id": 2430593,
         "category": "zumos_melocoton_y_pina",
         "name": "Néctar de piña Hacendado sin azúcares añadidos",
         "price": 0.59,
         "reference_price": 0.59,
         "reference_unit": "L",
         "insert_date": "2020-10-07T12:00:00.000000",
         "units": 1,
         "_deepnote_index_column": 1002987
        },
        {
         "id": 2430594,
         "category": "zumos_melocoton_y_pina",
         "name": "Néctar de piña Hacendado sin azúcares añadidos",
         "price": 1.15,
         "reference_price": 0.96,
         "reference_unit": "L",
         "insert_date": "2020-10-07T12:00:00.000000",
         "units": 1.1979166666666665,
         "_deepnote_index_column": 1002988
        },
        {
         "id": 2430595,
         "category": "zumos_melocoton_y_pina",
         "name": "Zumo de piña Hacendado",
         "price": 0.75,
         "reference_price": 0.75,
         "reference_unit": "L",
         "insert_date": "2020-10-07T12:00:00.000000",
         "units": 1,
         "_deepnote_index_column": 1002989
        },
        {
         "id": 2430596,
         "category": "zumos_melocoton_y_pina",
         "name": "Zumo de piña selección Hacendado",
         "price": 1.59,
         "reference_price": 1.59,
         "reference_unit": "L",
         "insert_date": "2020-10-07T12:00:00.000000",
         "units": 1,
         "_deepnote_index_column": 1002990
        },
        {
         "id": 2430597,
         "category": "zumos_melocoton_y_pina",
         "name": "Zumo de piña selección Hacendado",
         "price": 1.94,
         "reference_price": 1.96,
         "reference_unit": "L",
         "insert_date": "2020-10-07T12:00:00.000000",
         "units": 0.9897959183673469,
         "_deepnote_index_column": 1002991
        },
        {
         "id": 2430598,
         "category": "zumos_melocoton_y_pina",
         "name": "Bebida de zumo de piña y coco La Verja",
         "price": 1.12,
         "reference_price": 0.75,
         "reference_unit": "L",
         "insert_date": "2020-10-07T12:00:00.000000",
         "units": 1.4933333333333334,
         "_deepnote_index_column": 1002992
        },
        {
         "id": 2430599,
         "category": "zumos_melocoton_y_pina",
         "name": "Néctar de piña La Verja",
         "price": 1.19,
         "reference_price": 0.79,
         "reference_unit": "L",
         "insert_date": "2020-10-07T12:00:00.000000",
         "units": 1.5063291139240504,
         "_deepnote_index_column": 1002993
        },
        {
         "id": 2430600,
         "category": "zumos_melocoton_y_pina",
         "name": "Néctar de piña La Verja",
         "price": 1.25,
         "reference_price": 1.04,
         "reference_unit": "L",
         "insert_date": "2020-10-07T12:00:00.000000",
         "units": 1.2019230769230769,
         "_deepnote_index_column": 1002994
        },
        {
         "id": 2430641,
         "category": "zumos_naranja",
         "name": "Zumo de naranja recién exprimido Hacendado",
         "price": 1.89,
         "reference_price": 7.56,
         "reference_unit": "L",
         "insert_date": "2020-10-07T12:00:00.000000",
         "units": 0.25,
         "_deepnote_index_column": 1002995
        },
        {
         "id": 2430642,
         "category": "zumos_naranja",
         "name": "Zumo de naranja recién exprimido Hacendado",
         "price": 2.89,
         "reference_price": 5.78,
         "reference_unit": "L",
         "insert_date": "2020-10-07T12:00:00.000000",
         "units": 0.5,
         "_deepnote_index_column": 1002996
        },
        {
         "id": 2430643,
         "category": "zumos_naranja",
         "name": "Zumo de naranja recién exprimido Hacendado",
         "price": 4.89,
         "reference_price": 4.89,
         "reference_unit": "L",
         "insert_date": "2020-10-07T12:00:00.000000",
         "units": 1,
         "_deepnote_index_column": 1002997
        },
        {
         "id": 2430644,
         "category": "zumos_naranja",
         "name": "Zumo pura naranja Hacendado",
         "price": 1,
         "reference_price": 1,
         "reference_unit": "L",
         "insert_date": "2020-10-07T12:00:00.000000",
         "units": 1,
         "_deepnote_index_column": 1002998
        },
        {
         "id": 2430645,
         "category": "zumos_naranja",
         "name": "Zumo pura naranja Hacendado",
         "price": 1.9,
         "reference_price": 1.58,
         "reference_unit": "L",
         "insert_date": "2020-10-07T12:00:00.000000",
         "units": 1.2025316455696202,
         "_deepnote_index_column": 1002999
        },
        {
         "id": 2430646,
         "category": "zumos_naranja",
         "name": "Zumo pura naranja con pulpa Hacendado",
         "price": 1,
         "reference_price": 1,
         "reference_unit": "L",
         "insert_date": "2020-10-07T12:00:00.000000",
         "units": 1,
         "_deepnote_index_column": 1003000
        },
        {
         "id": 2430647,
         "category": "zumos_naranja",
         "name": "Zumo de naranja selección Hacendado",
         "price": 1.3,
         "reference_price": 1.3,
         "reference_unit": "L",
         "insert_date": "2020-10-07T12:00:00.000000",
         "units": 1,
         "_deepnote_index_column": 1003001
        },
        {
         "id": 2430648,
         "category": "zumos_naranja",
         "name": "Zumo de naranja selección Hacendado",
         "price": 1.78,
         "reference_price": 1.8,
         "reference_unit": "L",
         "insert_date": "2020-10-07T12:00:00.000000",
         "units": 0.9888888888888889,
         "_deepnote_index_column": 1003002
        },
        {
         "id": 2430649,
         "category": "zumos_naranja",
         "name": "Bebida Florida Hacendado",
         "price": 0.95,
         "reference_price": 0.48,
         "reference_unit": "L",
         "insert_date": "2020-10-07T12:00:00.000000",
         "units": 1.9791666666666667,
         "_deepnote_index_column": 1003003
        },
        {
         "id": 2430650,
         "category": "zumos_naranja",
         "name": "Néctar de naranja Hacendado sin azúcares añadidos",
         "price": 0.55,
         "reference_price": 0.55,
         "reference_unit": "L",
         "insert_date": "2020-10-07T12:00:00.000000",
         "units": 1,
         "_deepnote_index_column": 1003004
        },
        {
         "id": 2430651,
         "category": "zumos_naranja",
         "name": "Néctar de naranja Hacendado sin azúcares añadidos",
         "price": 1.08,
         "reference_price": 0.9,
         "reference_unit": "L",
         "insert_date": "2020-10-07T12:00:00.000000",
         "units": 1.2,
         "_deepnote_index_column": 1003005
        },
        {
         "id": 2430652,
         "category": "zumos_naranja",
         "name": "Zumo de clementina selección Hacendado",
         "price": 1.3,
         "reference_price": 1.3,
         "reference_unit": "L",
         "insert_date": "2020-10-07T12:00:00.000000",
         "units": 1,
         "_deepnote_index_column": 1003006
        },
        {
         "id": 2430661,
         "category": "zumos_tomate_y_otros_sabores",
         "name": "Zumo de tomate Hacendado",
         "price": 0.65,
         "reference_price": 0.65,
         "reference_unit": "L",
         "insert_date": "2020-10-07T12:00:00.000000",
         "units": 1,
         "_deepnote_index_column": 1003007
        },
        {
         "id": 2430662,
         "category": "zumos_tomate_y_otros_sabores",
         "name": "Zumo de tomate Hacendado",
         "price": 1.15,
         "reference_price": 1.44,
         "reference_unit": "L",
         "insert_date": "2020-10-07T12:00:00.000000",
         "units": 0.798611111111111,
         "_deepnote_index_column": 1003008
        },
        {
         "id": 2430663,
         "category": "zumos_tomate_y_otros_sabores",
         "name": "Zumo de tomate Bonnysa",
         "price": 1.99,
         "reference_price": 3.32,
         "reference_unit": "L",
         "insert_date": "2020-10-07T12:00:00.000000",
         "units": 0.5993975903614458,
         "_deepnote_index_column": 1003009
        },
        {
         "id": 2430664,
         "category": "zumos_tomate_y_otros_sabores",
         "name": "Zumo de tomate picante Big Tom",
         "price": 1.65,
         "reference_price": 6.6,
         "reference_unit": "L",
         "insert_date": "2020-10-07T12:00:00.000000",
         "units": 0.25,
         "_deepnote_index_column": 1003010
        },
        {
         "id": 2430665,
         "category": "zumos_tomate_y_otros_sabores",
         "name": "Zumo de manzana Hacendado",
         "price": 0.59,
         "reference_price": 0.59,
         "reference_unit": "L",
         "insert_date": "2020-10-07T12:00:00.000000",
         "units": 1,
         "_deepnote_index_column": 1003011
        },
        {
         "id": 2430666,
         "category": "zumos_tomate_y_otros_sabores",
         "name": "Zumo de manzana Hacendado",
         "price": 1.05,
         "reference_price": 0.88,
         "reference_unit": "L",
         "insert_date": "2020-10-07T12:00:00.000000",
         "units": 1.1931818181818181,
         "_deepnote_index_column": 1003012
        },
        {
         "id": 2430667,
         "category": "zumos_tomate_y_otros_sabores",
         "name": "Néctar de maracuyá Hacendado fruta de la pasión, mango, uva y manzana",
         "price": 0.7,
         "reference_price": 0.7,
         "reference_unit": "L",
         "insert_date": "2020-10-07T12:00:00.000000",
         "units": 1,
         "_deepnote_index_column": 1003013
        },
        {
         "id": 2430669,
         "category": "zumos_tomate_y_otros_sabores",
         "name": "Néctar de mango Hacendado sin azúcares añadidos",
         "price": 0.76,
         "reference_price": 0.76,
         "reference_unit": "L",
         "insert_date": "2020-10-07T12:00:00.000000",
         "units": 1,
         "_deepnote_index_column": 1003014
        },
        {
         "id": 2430670,
         "category": "zumos_tomate_y_otros_sabores",
         "name": "Néctar de pomelo Hacendado sin azúcares añadidos",
         "price": 1,
         "reference_price": 1,
         "reference_unit": "L",
         "insert_date": "2020-10-07T12:00:00.000000",
         "units": 1,
         "_deepnote_index_column": 1003015
        },
        {
         "id": 2430671,
         "category": "zumos_tomate_y_otros_sabores",
         "name": "Néctar guayaba Hacendado sin azúcares añadidos",
         "price": 0.9,
         "reference_price": 0.9,
         "reference_unit": "L",
         "insert_date": "2020-10-07T12:00:00.000000",
         "units": 1,
         "_deepnote_index_column": 1003016
        },
        {
         "id": 2430672,
         "category": "zumos_tomate_y_otros_sabores",
         "name": "Néctar de pera Hacendado sin azúcares añadidos",
         "price": 0.9,
         "reference_price": 0.9,
         "reference_unit": "L",
         "insert_date": "2020-10-07T12:00:00.000000",
         "units": 1,
         "_deepnote_index_column": 1003017
        },
        {
         "id": 2430673,
         "category": "zumos_tomate_y_otros_sabores",
         "name": "Zumo de pomelo Hacendado",
         "price": 1.3,
         "reference_price": 1.3,
         "reference_unit": "L",
         "insert_date": "2020-10-07T12:00:00.000000",
         "units": 1,
         "_deepnote_index_column": 1003018
        },
        {
         "id": 2430674,
         "category": "zumos_tomate_y_otros_sabores",
         "name": "Zumo de manzana selección Hacendado",
         "price": 1.36,
         "reference_price": 1.36,
         "reference_unit": "L",
         "insert_date": "2020-10-07T12:00:00.000000",
         "units": 1,
         "_deepnote_index_column": 1003019
        }
       ]
      },
      "text/plain": "              id                              category  \\\n1002020  2428532  marisco_y_pescado_pescado_en_bandeja   \n1002021  2428533  marisco_y_pescado_pescado_en_bandeja   \n1002022  2428534  marisco_y_pescado_pescado_en_bandeja   \n1002023  2428570      marisco_y_pescado_pescado_fresco   \n1002024  2428571      marisco_y_pescado_pescado_fresco   \n...          ...                                   ...   \n1003015  2430670          zumos_tomate_y_otros_sabores   \n1003016  2430671          zumos_tomate_y_otros_sabores   \n1003017  2430672          zumos_tomate_y_otros_sabores   \n1003018  2430673          zumos_tomate_y_otros_sabores   \n1003019  2430674          zumos_tomate_y_otros_sabores   \n\n                                                      name  price  \\\n1002020                          Salmón al curry con arroz    3.5   \n1002021                 Huevas cocidas de merluzas Embumar   2.15   \n1002022                    Caracoles en salsa mediterránea   3.95   \n1002023           Calamar pequeño sin limpiar descongelado   0.24   \n1002024  Calamar pequeño limpio descongelado sin barqui...   0.24   \n...                                                    ...    ...   \n1003015   Néctar de pomelo Hacendado sin azúcares añadidos    1.0   \n1003016     Néctar guayaba Hacendado sin azúcares añadidos    0.9   \n1003017     Néctar de pera Hacendado sin azúcares añadidos    0.9   \n1003018                           Zumo de pomelo Hacendado    1.3   \n1003019                Zumo de manzana selección Hacendado   1.36   \n\n         reference_price reference_unit         insert_date     units  \n1002020            12.73             kg 2020-10-07 12:00:00  0.274941  \n1002021            10.75             kg 2020-10-07 12:00:00       0.2  \n1002022             7.18             kg 2020-10-07 12:00:00  0.550139  \n1002023             5.95             kg 2020-10-07 12:00:00  0.040336  \n1002024             5.95             kg 2020-10-07 12:00:00  0.040336  \n...                  ...            ...                 ...       ...  \n1003015              1.0              L 2020-10-07 12:00:00       1.0  \n1003016              0.9              L 2020-10-07 12:00:00       1.0  \n1003017              0.9              L 2020-10-07 12:00:00       1.0  \n1003018              1.3              L 2020-10-07 12:00:00       1.0  \n1003019             1.36              L 2020-10-07 12:00:00       1.0  \n\n[1000 rows x 8 columns]",
      "text/html": "<div>\n<style scoped>\n    .dataframe tbody tr th:only-of-type {\n        vertical-align: middle;\n    }\n\n    .dataframe tbody tr th {\n        vertical-align: top;\n    }\n\n    .dataframe thead th {\n        text-align: right;\n    }\n</style>\n<table border=\"1\" class=\"dataframe\">\n  <thead>\n    <tr style=\"text-align: right;\">\n      <th></th>\n      <th>id</th>\n      <th>category</th>\n      <th>name</th>\n      <th>price</th>\n      <th>reference_price</th>\n      <th>reference_unit</th>\n      <th>insert_date</th>\n      <th>units</th>\n    </tr>\n  </thead>\n  <tbody>\n    <tr>\n      <th>1002020</th>\n      <td>2428532</td>\n      <td>marisco_y_pescado_pescado_en_bandeja</td>\n      <td>Salmón al curry con arroz</td>\n      <td>3.5</td>\n      <td>12.73</td>\n      <td>kg</td>\n      <td>2020-10-07 12:00:00</td>\n      <td>0.274941</td>\n    </tr>\n    <tr>\n      <th>1002021</th>\n      <td>2428533</td>\n      <td>marisco_y_pescado_pescado_en_bandeja</td>\n      <td>Huevas cocidas de merluzas Embumar</td>\n      <td>2.15</td>\n      <td>10.75</td>\n      <td>kg</td>\n      <td>2020-10-07 12:00:00</td>\n      <td>0.2</td>\n    </tr>\n    <tr>\n      <th>1002022</th>\n      <td>2428534</td>\n      <td>marisco_y_pescado_pescado_en_bandeja</td>\n      <td>Caracoles en salsa mediterránea</td>\n      <td>3.95</td>\n      <td>7.18</td>\n      <td>kg</td>\n      <td>2020-10-07 12:00:00</td>\n      <td>0.550139</td>\n    </tr>\n    <tr>\n      <th>1002023</th>\n      <td>2428570</td>\n      <td>marisco_y_pescado_pescado_fresco</td>\n      <td>Calamar pequeño sin limpiar descongelado</td>\n      <td>0.24</td>\n      <td>5.95</td>\n      <td>kg</td>\n      <td>2020-10-07 12:00:00</td>\n      <td>0.040336</td>\n    </tr>\n    <tr>\n      <th>1002024</th>\n      <td>2428571</td>\n      <td>marisco_y_pescado_pescado_fresco</td>\n      <td>Calamar pequeño limpio descongelado sin barqui...</td>\n      <td>0.24</td>\n      <td>5.95</td>\n      <td>kg</td>\n      <td>2020-10-07 12:00:00</td>\n      <td>0.040336</td>\n    </tr>\n    <tr>\n      <th>...</th>\n      <td>...</td>\n      <td>...</td>\n      <td>...</td>\n      <td>...</td>\n      <td>...</td>\n      <td>...</td>\n      <td>...</td>\n      <td>...</td>\n    </tr>\n    <tr>\n      <th>1003015</th>\n      <td>2430670</td>\n      <td>zumos_tomate_y_otros_sabores</td>\n      <td>Néctar de pomelo Hacendado sin azúcares añadidos</td>\n      <td>1.0</td>\n      <td>1.0</td>\n      <td>L</td>\n      <td>2020-10-07 12:00:00</td>\n      <td>1.0</td>\n    </tr>\n    <tr>\n      <th>1003016</th>\n      <td>2430671</td>\n      <td>zumos_tomate_y_otros_sabores</td>\n      <td>Néctar guayaba Hacendado sin azúcares añadidos</td>\n      <td>0.9</td>\n      <td>0.9</td>\n      <td>L</td>\n      <td>2020-10-07 12:00:00</td>\n      <td>1.0</td>\n    </tr>\n    <tr>\n      <th>1003017</th>\n      <td>2430672</td>\n      <td>zumos_tomate_y_otros_sabores</td>\n      <td>Néctar de pera Hacendado sin azúcares añadidos</td>\n      <td>0.9</td>\n      <td>0.9</td>\n      <td>L</td>\n      <td>2020-10-07 12:00:00</td>\n      <td>1.0</td>\n    </tr>\n    <tr>\n      <th>1003018</th>\n      <td>2430673</td>\n      <td>zumos_tomate_y_otros_sabores</td>\n      <td>Zumo de pomelo Hacendado</td>\n      <td>1.3</td>\n      <td>1.3</td>\n      <td>L</td>\n      <td>2020-10-07 12:00:00</td>\n      <td>1.0</td>\n    </tr>\n    <tr>\n      <th>1003019</th>\n      <td>2430674</td>\n      <td>zumos_tomate_y_otros_sabores</td>\n      <td>Zumo de manzana selección Hacendado</td>\n      <td>1.36</td>\n      <td>1.36</td>\n      <td>L</td>\n      <td>2020-10-07 12:00:00</td>\n      <td>1.0</td>\n    </tr>\n  </tbody>\n</table>\n<p>1000 rows × 8 columns</p>\n</div>"
     },
     "metadata": {}
    }
   ],
   "execution_count": null
  },
  {
   "cell_type": "markdown",
   "source": "## Questions about the data:",
   "metadata": {
    "id": "bcsA2xic-zPm",
    "cell_id": "00015-093df043-a4d5-4d1f-b763-2c0969a138b1",
    "deepnote_cell_type": "markdown"
   }
  },
  {
   "cell_type": "markdown",
   "source": "### ¿How many categories do we have?",
   "metadata": {
    "id": "u9NFt6A1Lfxz",
    "cell_id": "00016-a90c44b3-f7e2-4a90-b80c-3c96dc02eb75",
    "deepnote_cell_type": "markdown"
   }
  },
  {
   "cell_type": "code",
   "metadata": {
    "colab": {
     "base_uri": "https://localhost:8080/"
    },
    "id": "oAwHtkzTLbdP",
    "executionInfo": {
     "status": "ok",
     "timestamp": 1625412594110,
     "user_tz": 240,
     "elapsed": 4,
     "user": {
      "displayName": "Andrés Sánchez",
      "photoUrl": "https://lh3.googleusercontent.com/a-/AOh14Gg69bZMv30ckb-T1MJy0nSxWIHUaP0p2uP6MYBuvQ=s64",
      "userId": "07985253921366566280"
     }
    },
    "outputId": "5af2e0b9-f8bb-4237-f6b4-38a1c8944ff7",
    "cell_id": "00017-69d09a4d-6a49-4706-bb07-b343db0a3948",
    "deepnote_to_be_reexecuted": false,
    "source_hash": "2dec8d0e",
    "execution_start": 1630094714420,
    "execution_millis": 90,
    "deepnote_cell_type": "code"
   },
   "source": "mercadona_prices.category.nunique()",
   "outputs": [
    {
     "output_type": "execute_result",
     "execution_count": 5,
     "data": {
      "text/plain": "305"
     },
     "metadata": {}
    }
   ],
   "execution_count": null
  },
  {
   "cell_type": "markdown",
   "source": "### ¿Which kinds of units do we have?",
   "metadata": {
    "id": "CgLaIirjbl9t",
    "cell_id": "00018-93b9d3de-da29-4a60-96b6-b30d8c3ef9f8",
    "deepnote_cell_type": "markdown"
   }
  },
  {
   "cell_type": "code",
   "metadata": {
    "colab": {
     "base_uri": "https://localhost:8080/"
    },
    "id": "_SVcXIgIblYd",
    "executionInfo": {
     "status": "ok",
     "timestamp": 1625412594110,
     "user_tz": 240,
     "elapsed": 3,
     "user": {
      "displayName": "Andrés Sánchez",
      "photoUrl": "https://lh3.googleusercontent.com/a-/AOh14Gg69bZMv30ckb-T1MJy0nSxWIHUaP0p2uP6MYBuvQ=s64",
      "userId": "07985253921366566280"
     }
    },
    "outputId": "e809fe51-9ced-421e-b94b-aa97d45f2f60",
    "cell_id": "00019-65b2c8c2-d9de-4213-aaad-2c08d736fb95",
    "deepnote_to_be_reexecuted": false,
    "source_hash": "28eab841",
    "execution_start": 1630094714542,
    "execution_millis": 23,
    "deepnote_cell_type": "code"
   },
   "source": "list(mercadona_prices['reference_unit'].unique())",
   "outputs": [
    {
     "output_type": "execute_result",
     "execution_count": 6,
     "data": {
      "text/plain": "['kg', 'ud', '100 g', 'L', 'dc', '100 ml', 'lv', 'm']"
     },
     "metadata": {}
    }
   ],
   "execution_count": null
  },
  {
   "cell_type": "markdown",
   "source": "### ¿How many items do we have on each category?",
   "metadata": {
    "id": "BHS6LxRUMSV0",
    "cell_id": "00020-c86ff909-ee0d-418f-b9b5-b3a7bc857cf4",
    "deepnote_cell_type": "markdown"
   }
  },
  {
   "cell_type": "code",
   "metadata": {
    "colab": {
     "base_uri": "https://localhost:8080/",
     "height": 0
    },
    "id": "7RvcohmaL7m3",
    "executionInfo": {
     "status": "ok",
     "timestamp": 1625412594644,
     "user_tz": 240,
     "elapsed": 536,
     "user": {
      "displayName": "Andrés Sánchez",
      "photoUrl": "https://lh3.googleusercontent.com/a-/AOh14Gg69bZMv30ckb-T1MJy0nSxWIHUaP0p2uP6MYBuvQ=s64",
      "userId": "07985253921366566280"
     }
    },
    "outputId": "ba0c6439-49aa-4f6f-ee2c-781d0ebd4ec8",
    "cell_id": "00021-09cccd00-94ea-4e8e-96cf-5c3e6f5c260f",
    "deepnote_to_be_reexecuted": false,
    "source_hash": "7f3e347b",
    "execution_start": 1630094714603,
    "execution_millis": 386,
    "deepnote_cell_type": "code"
   },
   "source": "pd.DataFrame(mercadona_prices.groupby('category')['name'].nunique()).reset_index().sort_values(by = 'name', ascending = False)",
   "outputs": [
    {
     "output_type": "execute_result",
     "execution_count": 7,
     "data": {
      "application/vnd.deepnote.dataframe.v2+json": {
       "row_count": 305,
       "column_count": 2,
       "columns": [
        {
         "name": "category",
         "dtype": "object",
         "stats": {
          "unique_count": 305,
          "nan_count": 0,
          "categories": [
           {
            "name": "perfume_y_colonia",
            "count": 1
           },
           {
            "name": "cuidado_facial_y_corporal_perfume_y_colonia",
            "count": 1
           },
           {
            "name": "303 others",
            "count": 303
           }
          ]
         }
        },
        {
         "name": "name",
         "dtype": "int64",
         "stats": {
          "unique_count": 87,
          "nan_count": 0,
          "min": "2",
          "max": "210",
          "histogram": [
           {
            "bin_start": 2,
            "bin_end": 22.8,
            "count": 92
           },
           {
            "bin_start": 22.8,
            "bin_end": 43.6,
            "count": 103
           },
           {
            "bin_start": 43.6,
            "bin_end": 64.4,
            "count": 61
           },
           {
            "bin_start": 64.4,
            "bin_end": 85.2,
            "count": 35
           },
           {
            "bin_start": 85.2,
            "bin_end": 106,
            "count": 9
           },
           {
            "bin_start": 106,
            "bin_end": 126.80000000000001,
            "count": 0
           },
           {
            "bin_start": 126.80000000000001,
            "bin_end": 147.6,
            "count": 1
           },
           {
            "bin_start": 147.6,
            "bin_end": 168.4,
            "count": 3
           },
           {
            "bin_start": 168.4,
            "bin_end": 189.20000000000002,
            "count": 0
           },
           {
            "bin_start": 189.20000000000002,
            "bin_end": 210,
            "count": 1
           }
          ]
         }
        },
        {
         "name": "_deepnote_index_column",
         "dtype": "int64"
        }
       ],
       "rows_top": [
        {
         "category": "perfume_y_colonia",
         "name": 210,
         "_deepnote_index_column": 241
        },
        {
         "category": "cuidado_facial_y_corporal_perfume_y_colonia",
         "name": 165,
         "_deepnote_index_column": 131
        },
        {
         "category": "verdura",
         "name": 162,
         "_deepnote_index_column": 291
        },
        {
         "category": "coloracion_cabello",
         "name": 150,
         "_deepnote_index_column": 94
        },
        {
         "category": "cuidado_del_cabello_coloracion_cabello",
         "name": 142,
         "_deepnote_index_column": 117
        },
        {
         "category": "licores",
         "name": 99,
         "_deepnote_index_column": 177
        },
        {
         "category": "insecticida_y_ambientador",
         "name": 97,
         "_deepnote_index_column": 169
        },
        {
         "category": "cuidado_e_higiene_facial",
         "name": 96,
         "_deepnote_index_column": 120
        },
        {
         "category": "limpieza_y_hogar_insecticida_y_ambientador",
         "name": 96,
         "_deepnote_index_column": 186
        },
        {
         "category": "fruta_y_verdura_verdura",
         "name": 95,
         "_deepnote_index_column": 150
        },
        {
         "category": "bodega_licores",
         "name": 95,
         "_deepnote_index_column": 45
        },
        {
         "category": "chocolate",
         "name": 94,
         "_deepnote_index_column": 92
        },
        {
         "category": "azucar_caramelos_y_chocolate_chocolate",
         "name": 93,
         "_deepnote_index_column": 30
        },
        {
         "category": "utensilios_de_limpieza_y_calzado",
         "name": 90,
         "_deepnote_index_column": 288
        },
        {
         "category": "limpieza_y_hogar_utensilios_de_limpieza_y_calzado",
         "name": 83,
         "_deepnote_index_column": 197
        },
        {
         "category": "galletas",
         "name": 82,
         "_deepnote_index_column": 152
        },
        {
         "category": "labios",
         "name": 81,
         "_deepnote_index_column": 172
        },
        {
         "category": "manicura_y_pedicura",
         "name": 81,
         "_deepnote_index_column": 198
        },
        {
         "category": "cuidado_facial_y_corporal_cuidado_e_higiene_facial",
         "name": 81,
         "_deepnote_index_column": 123
        },
        {
         "category": "helados",
         "name": 81,
         "_deepnote_index_column": 160
        },
        {
         "category": "leche_y_bebidas_vegetales",
         "name": 80,
         "_deepnote_index_column": 173
        },
        {
         "category": "huevos_leche_y_mantequilla_leche_y_bebidas_vegetales",
         "name": 79,
         "_deepnote_index_column": 167
        },
        {
         "category": "cereales_y_galletas_galletas",
         "name": 78,
         "_deepnote_index_column": 77
        },
        {
         "category": "cuidado_facial_y_corporal_higiene_intima",
         "name": 78,
         "_deepnote_index_column": 128
        },
        {
         "category": "maquillaje_labios",
         "name": 78,
         "_deepnote_index_column": 202
        },
        {
         "category": "higiene_intima",
         "name": 78,
         "_deepnote_index_column": 163
        },
        {
         "category": "higiene_bucal",
         "name": 76,
         "_deepnote_index_column": 162
        },
        {
         "category": "detergente_y_suavizante_ropa",
         "name": 75,
         "_deepnote_index_column": 135
        },
        {
         "category": "bases_de_maquillaje_y_corrector",
         "name": 73,
         "_deepnote_index_column": 35
        },
        {
         "category": "limpieza_y_hogar_detergente_y_suavizante_ropa",
         "name": 73,
         "_deepnote_index_column": 184
        },
        {
         "category": "maquillaje_bases_de_maquillaje_y_corrector",
         "name": 73,
         "_deepnote_index_column": 200
        },
        {
         "category": "congelados_helados",
         "name": 73,
         "_deepnote_index_column": 99
        },
        {
         "category": "bolleria_de_horno",
         "name": 73,
         "_deepnote_index_column": 52
        },
        {
         "category": "conservas_de_verdura_y_frutas",
         "name": 71,
         "_deepnote_index_column": 113
        },
        {
         "category": "pasta_y_fideos",
         "name": 71,
         "_deepnote_index_column": 237
        },
        {
         "category": "alimentacion_infantil",
         "name": 70,
         "_deepnote_index_column": 15
        },
        {
         "category": "arroz_legumbres_y_pasta_pasta_y_fideos",
         "name": 70,
         "_deepnote_index_column": 23
        },
        {
         "category": "bebe_alimentacion_infantil",
         "name": 70,
         "_deepnote_index_column": 36
        },
        {
         "category": "cuidado_facial_y_corporal_higiene_bucal",
         "name": 69,
         "_deepnote_index_column": 127
        },
        {
         "category": "cuidado_facial_y_corporal_manicura_y_pedicura",
         "name": 69,
         "_deepnote_index_column": 129
        },
        {
         "category": "cuidado_corporal",
         "name": 69,
         "_deepnote_index_column": 114
        },
        {
         "category": "aperitivos_frutos_secos_y_fruta_desecada",
         "name": 68,
         "_deepnote_index_column": 17
        },
        {
         "category": "frutos_secos_y_fruta_desecada",
         "name": 68,
         "_deepnote_index_column": 151
        },
        {
         "category": "conservas_caldos_y_cremas_conservas_de_verdura_y_frutas",
         "name": 67,
         "_deepnote_index_column": 109
        },
        {
         "category": "menaje_y_conservacion_de_alimentos",
         "name": 67,
         "_deepnote_index_column": 217
        },
        {
         "category": "gel_y_jabon_de_manos",
         "name": 66,
         "_deepnote_index_column": 155
        },
        {
         "category": "platos_preparados_calientes",
         "name": 65,
         "_deepnote_index_column": 255
        },
        {
         "category": "fitoterapia",
         "name": 65,
         "_deepnote_index_column": 142
        },
        {
         "category": "cuidado_facial_y_corporal_cuidado_corporal",
         "name": 65,
         "_deepnote_index_column": 122
        },
        {
         "category": "pizzas_y_platos_preparados_platos_preparados_calientes",
         "name": 64,
         "_deepnote_index_column": 253
        },
        {
         "category": "congelados_verdura",
         "name": 64,
         "_deepnote_index_column": 106
        },
        {
         "category": "fruta",
         "name": 63,
         "_deepnote_index_column": 146
        },
        {
         "category": "ojos",
         "name": 63,
         "_deepnote_index_column": 221
        },
        {
         "category": "aves_y_pollo",
         "name": 62,
         "_deepnote_index_column": 27
        },
        {
         "category": "pan_de_horno",
         "name": 62,
         "_deepnote_index_column": 223
        },
        {
         "category": "bolleria_envasada",
         "name": 61,
         "_deepnote_index_column": 53
        },
        {
         "category": "cereales",
         "name": 61,
         "_deepnote_index_column": 75
        },
        {
         "category": "patatas_fritas_y_snacks",
         "name": 61,
         "_deepnote_index_column": 238
        },
        {
         "category": "carne_aves_y_pollo",
         "name": 60,
         "_deepnote_index_column": 65
        },
        {
         "category": "aperitivos_patatas_fritas_y_snacks",
         "name": 60,
         "_deepnote_index_column": 18
        },
        {
         "category": "maquillaje_ojos",
         "name": 60,
         "_deepnote_index_column": 203
        },
        {
         "category": "vino_tinto",
         "name": 60,
         "_deepnote_index_column": 295
        },
        {
         "category": "pescado_congelado",
         "name": 60,
         "_deepnote_index_column": 244
        },
        {
         "category": "bodega_vino_tinto",
         "name": 59,
         "_deepnote_index_column": 51
        },
        {
         "category": "marisco_y_pescado_pescado_congelado",
         "name": 58,
         "_deepnote_index_column": 207
        },
        {
         "category": "cuidado_facial_y_corporal_desodorante",
         "name": 58,
         "_deepnote_index_column": 125
        },
        {
         "category": "pescado",
         "name": 58,
         "_deepnote_index_column": 243
        },
        {
         "category": "desodorante",
         "name": 58,
         "_deepnote_index_column": 134
        },
        {
         "category": "parafarmacia",
         "name": 58,
         "_deepnote_index_column": 236
        },
        {
         "category": "limpieza_y_hogar_menaje_y_conservacion_de_alimentos",
         "name": 57,
         "_deepnote_index_column": 194
        },
        {
         "category": "panaderia_y_pasteleria_bolleria_envasada",
         "name": 57,
         "_deepnote_index_column": 227
        },
        {
         "category": "cereales_y_galletas_cereales",
         "name": 57,
         "_deepnote_index_column": 76
        },
        {
         "category": "especias",
         "name": 56,
         "_deepnote_index_column": 139
        },
        {
         "category": "aceite_especias_y_salsas_especias",
         "name": 56,
         "_deepnote_index_column": 1
        },
        {
         "category": "harina_y_preparado_reposteria",
         "name": 56,
         "_deepnote_index_column": 159
        },
        {
         "category": "panaderia_y_pasteleria_pan_de_horno",
         "name": 55,
         "_deepnote_index_column": 229
        },
        {
         "category": "cuidado_facial_y_corporal_gel_y_jabon_de_manos",
         "name": 55,
         "_deepnote_index_column": 126
        },
        {
         "category": "pescado_fresco",
         "name": 55,
         "_deepnote_index_column": 246
        },
        {
         "category": "marisco",
         "name": 54,
         "_deepnote_index_column": 205
        },
        {
         "category": "panaderia_y_pasteleria_harina_y_preparado_reposteria",
         "name": 53,
         "_deepnote_index_column": 228
        },
        {
         "category": "embutido_curado",
         "name": 52,
         "_deepnote_index_column": 137
        },
        {
         "category": "otras_salsas",
         "name": 51,
         "_deepnote_index_column": 222
        },
        {
         "category": "aceite_especias_y_salsas_otras_salsas",
         "name": 51,
         "_deepnote_index_column": 3
        },
        {
         "category": "fruta_y_verdura_fruta",
         "name": 51,
         "_deepnote_index_column": 148
        },
        {
         "category": "cafe_capsula_y_monodosis",
         "name": 51,
         "_deepnote_index_column": 60
        },
        {
         "category": "perro",
         "name": 50,
         "_deepnote_index_column": 242
        },
        {
         "category": "charcuteria_y_quesos_embutido_curado",
         "name": 50,
         "_deepnote_index_column": 85
        },
        {
         "category": "queso_untable_y_fresco",
         "name": 50,
         "_deepnote_index_column": 270
        },
        {
         "category": "aceitunas_y_encurtidos",
         "name": 50,
         "_deepnote_index_column": 5
        },
        {
         "category": "afeitado_y_cuidado_para_hombre",
         "name": 50,
         "_deepnote_index_column": 7
        },
        {
         "category": "charcuteria_y_quesos_queso_untable_y_fresco",
         "name": 50,
         "_deepnote_index_column": 90
        },
        {
         "category": "mascotas_perro",
         "name": 50,
         "_deepnote_index_column": 213
        },
        {
         "category": "aperitivos_aceitunas_y_encurtidos",
         "name": 49,
         "_deepnote_index_column": 16
        },
        {
         "category": "cuidado_facial_y_corporal_afeitado_y_cuidado_para_hombre",
         "name": 48,
         "_deepnote_index_column": 121
        },
        {
         "category": "te_e_infusiones",
         "name": 48,
         "_deepnote_index_column": 281
        },
        {
         "category": "marisco_y_pescado_pescado_fresco",
         "name": 48,
         "_deepnote_index_column": 209
        },
        {
         "category": "marisco_y_pescado_marisco",
         "name": 48,
         "_deepnote_index_column": 206
        },
        {
         "category": "fitoterapia_y_parafarmacia_fitoterapia",
         "name": 48,
         "_deepnote_index_column": 143
        },
        {
         "category": "mascotas_gato",
         "name": 47,
         "_deepnote_index_column": 212
        },
        {
         "category": "conservas_caldos_y_cremas_atun_y_otras_conservas_de_pescado",
         "name": 47,
         "_deepnote_index_column": 107
        },
        {
         "category": "atun_y_otras_conservas_de_pescado",
         "name": 47,
         "_deepnote_index_column": 25
        },
        {
         "category": "gato",
         "name": 47,
         "_deepnote_index_column": 153
        },
        {
         "category": "fitoterapia_y_parafarmacia_parafarmacia",
         "name": 47,
         "_deepnote_index_column": 144
        },
        {
         "category": "pizzas",
         "name": 46,
         "_deepnote_index_column": 251
        },
        {
         "category": "cerveza",
         "name": 46,
         "_deepnote_index_column": 79
        },
        {
         "category": "panaderia_y_pasteleria_bolleria_de_horno",
         "name": 45,
         "_deepnote_index_column": 226
        },
        {
         "category": "cuidado_del_cabello_acondicionador_y_mascarilla",
         "name": 44,
         "_deepnote_index_column": 115
        },
        {
         "category": "cacao_cafe_e_infusiones_te_e_infusiones",
         "name": 44,
         "_deepnote_index_column": 58
        },
        {
         "category": "champu",
         "name": 44,
         "_deepnote_index_column": 81
        },
        {
         "category": "acondicionador_y_mascarilla",
         "name": 44,
         "_deepnote_index_column": 6
        },
        {
         "category": "charcuteria_y_quesos_aves_y_jamon_cocido",
         "name": 43,
         "_deepnote_index_column": 82
        },
        {
         "category": "cerdo",
         "name": 43,
         "_deepnote_index_column": 74
        },
        {
         "category": "pizzas_y_platos_preparados_pizzas",
         "name": 43,
         "_deepnote_index_column": 252
        },
        {
         "category": "aves_y_jamon_cocido",
         "name": 43,
         "_deepnote_index_column": 26
        },
        {
         "category": "carne_cerdo",
         "name": 42,
         "_deepnote_index_column": 67
        },
        {
         "category": "cuidado_del_cabello_champu",
         "name": 42,
         "_deepnote_index_column": 116
        },
        {
         "category": "cacao_cafe_e_infusiones_cafe_capsula_y_monodosis",
         "name": 42,
         "_deepnote_index_column": 55
        },
        {
         "category": "bodega_cerveza",
         "name": 42,
         "_deepnote_index_column": 43
        },
        {
         "category": "tartas_y_pasteles",
         "name": 42,
         "_deepnote_index_column": 280
        },
        {
         "category": "vino_blanco",
         "name": 41,
         "_deepnote_index_column": 292
        },
        {
         "category": "tartas_y_churros",
         "name": 41,
         "_deepnote_index_column": 279
        },
        {
         "category": "queso_curado_semicurado_y_tierno",
         "name": 40,
         "_deepnote_index_column": 268
        },
        {
         "category": "bodega_vino_blanco",
         "name": 40,
         "_deepnote_index_column": 48
        },
        {
         "category": "pan_de_molde_y_otras_especialidades",
         "name": 40,
         "_deepnote_index_column": 224
        },
        {
         "category": "biberon_chupete_y_menaje",
         "name": 40,
         "_deepnote_index_column": 41
        },
        {
         "category": "congelados_pescado",
         "name": 39,
         "_deepnote_index_column": 102
        },
        {
         "category": "congelados_rebozados",
         "name": 39,
         "_deepnote_index_column": 104
        },
        {
         "category": "rebozados",
         "name": 39,
         "_deepnote_index_column": 271
        },
        {
         "category": "cuidado_facial_y_corporal_depilacion",
         "name": 38,
         "_deepnote_index_column": 124
        },
        {
         "category": "depilacion",
         "name": 38,
         "_deepnote_index_column": 133
        },
        {
         "category": "panaderia_y_pasteleria_pan_de_molde_y_otras_especialidades",
         "name": 37,
         "_deepnote_index_column": 230
        },
        {
         "category": "congelados_marisco",
         "name": 37,
         "_deepnote_index_column": 101
        },
        {
         "category": "aceite_vinagre_y_sal",
         "name": 37,
         "_deepnote_index_column": 4
        },
        {
         "category": "peines_y_accesorios",
         "name": 37,
         "_deepnote_index_column": 240
        },
        {
         "category": "carne_empanados_y_elaborados",
         "name": 36,
         "_deepnote_index_column": 71
        },
        {
         "category": "empanados_y_elaborados",
         "name": 36,
         "_deepnote_index_column": 138
        },
        {
         "category": "bebe_biberon_chupete_y_menaje",
         "name": 36,
         "_deepnote_index_column": 37
        },
        {
         "category": "charcuteria_y_quesos_queso_curado_semicurado_y_tierno",
         "name": 36,
         "_deepnote_index_column": 88
        },
        {
         "category": "charcuteria_y_quesos_queso_lonchas_rallado_y_en_porciones",
         "name": 35,
         "_deepnote_index_column": 89
        },
        {
         "category": "estropajo_bayeta_y_guantes",
         "name": 35,
         "_deepnote_index_column": 140
        },
        {
         "category": "protector_solar_y_aftersun",
         "name": 35,
         "_deepnote_index_column": 267
        },
        {
         "category": "cuidado_del_cabello_peines_y_accesorios",
         "name": 35,
         "_deepnote_index_column": 119
        },
        {
         "category": "queso_lonchas_rallado_y_en_porciones",
         "name": 35,
         "_deepnote_index_column": 269
        },
        {
         "category": "limpieza_y_hogar_lejia_y_liquidos_fuertes",
         "name": 34,
         "_deepnote_index_column": 187
        },
        {
         "category": "lejia_y_liquidos_fuertes",
         "name": 34,
         "_deepnote_index_column": 176
        },
        {
         "category": "aceite_especias_y_salsas_aceite_vinagre_y_sal",
         "name": 34,
         "_deepnote_index_column": 0
        },
        {
         "category": "carne",
         "name": 34,
         "_deepnote_index_column": 63
        },
        {
         "category": "yogures_liquidos",
         "name": 32,
         "_deepnote_index_column": 298
        },
        {
         "category": "fijacion_cabello",
         "name": 32,
         "_deepnote_index_column": 141
        },
        {
         "category": "fruta_y_verdura_lechuga_y_ensalada_preparada",
         "name": 32,
         "_deepnote_index_column": 149
        },
        {
         "category": "limpieza_y_hogar_estropajo_bayeta_y_guantes",
         "name": 32,
         "_deepnote_index_column": 185
        },
        {
         "category": "postres_y_yogures_yogures_liquidos",
         "name": 32,
         "_deepnote_index_column": 264
        },
        {
         "category": "cuidado_del_cabello_fijacion_cabello",
         "name": 32,
         "_deepnote_index_column": 118
        },
        {
         "category": "pate_y_sobrasada",
         "name": 32,
         "_deepnote_index_column": 239
        },
        {
         "category": "azucar_caramelos_y_chocolate_golosinas",
         "name": 32,
         "_deepnote_index_column": 31
        },
        {
         "category": "golosinas",
         "name": 32,
         "_deepnote_index_column": 157
        },
        {
         "category": "lechuga_y_ensalada_preparada",
         "name": 32,
         "_deepnote_index_column": 174
        },
        {
         "category": "mermelada_y_miel",
         "name": 31,
         "_deepnote_index_column": 218
        },
        {
         "category": "jamon_serrano",
         "name": 31,
         "_deepnote_index_column": 171
        },
        {
         "category": "pan_tostado_y_rallado",
         "name": 31,
         "_deepnote_index_column": 225
        },
        {
         "category": "charcuteria_y_quesos_jamon_serrano",
         "name": 31,
         "_deepnote_index_column": 86
        },
        {
         "category": "panaderia_y_pasteleria_pan_tostado_y_rallado",
         "name": 31,
         "_deepnote_index_column": 231
        },
        {
         "category": "charcuteria_y_quesos_pate_y_sobrasada",
         "name": 31,
         "_deepnote_index_column": 87
        },
        {
         "category": "azucar_caramelos_y_chocolate_mermelada_y_miel",
         "name": 30,
         "_deepnote_index_column": 32
        },
        {
         "category": "picos_rosquilletas_y_picatostes",
         "name": 29,
         "_deepnote_index_column": 248
        },
        {
         "category": "agua",
         "name": 29,
         "_deepnote_index_column": 8
        },
        {
         "category": "panaderia_y_pasteleria_picos_rosquilletas_y_picatostes",
         "name": 29,
         "_deepnote_index_column": 232
        },
        {
         "category": "cuidado_facial_y_corporal_protector_solar_y_aftersun",
         "name": 29,
         "_deepnote_index_column": 132
        },
        {
         "category": "panaderia_y_pasteleria_tartas_y_pasteles",
         "name": 28,
         "_deepnote_index_column": 233
        },
        {
         "category": "limpieza_muebles_y_multiusos",
         "name": 28,
         "_deepnote_index_column": 182
        },
        {
         "category": "congelados_tartas_y_churros",
         "name": 28,
         "_deepnote_index_column": 105
        },
        {
         "category": "yogures_naturales_y_sabores",
         "name": 28,
         "_deepnote_index_column": 299
        },
        {
         "category": "chicles_y_caramelos",
         "name": 28,
         "_deepnote_index_column": 91
        },
        {
         "category": "azucar_caramelos_y_chocolate_chicles_y_caramelos",
         "name": 28,
         "_deepnote_index_column": 29
        },
        {
         "category": "conservas_caldos_y_cremas_sopa_y_caldo",
         "name": 28,
         "_deepnote_index_column": 111
        },
        {
         "category": "agua_y_refrescos_agua",
         "name": 28,
         "_deepnote_index_column": 9
        },
        {
         "category": "sopa_y_caldo",
         "name": 28,
         "_deepnote_index_column": 277
        },
        {
         "category": "limpieza_y_hogar_limpieza_muebles_y_multiusos",
         "name": 28,
         "_deepnote_index_column": 192
        },
        {
         "category": "toallitas_y_panales",
         "name": 28,
         "_deepnote_index_column": 283
        },
        {
         "category": "cafe_soluble_y_otras_bebidas",
         "name": 27,
         "_deepnote_index_column": 62
        },
        {
         "category": "bebe_higiene_y_cuidado",
         "name": 27,
         "_deepnote_index_column": 38
        },
        {
         "category": "higiene_y_cuidado",
         "name": 27,
         "_deepnote_index_column": 164
        },
        {
         "category": "bebe_toallitas_y_panales",
         "name": 26,
         "_deepnote_index_column": 39
        },
        {
         "category": "pescado_en_bandeja",
         "name": 26,
         "_deepnote_index_column": 245
        },
        {
         "category": "gelatina_y_otros_postres",
         "name": 26,
         "_deepnote_index_column": 156
        },
        {
         "category": "postres_y_yogures_gelatina_y_otros_postres",
         "name": 26,
         "_deepnote_index_column": 260
        },
        {
         "category": "postres_y_yogures_yogures_naturales_y_sabores",
         "name": 26,
         "_deepnote_index_column": 265
        },
        {
         "category": "papel_higienico_y_celulosa",
         "name": 25,
         "_deepnote_index_column": 235
        },
        {
         "category": "bacon_y_salchichas",
         "name": 25,
         "_deepnote_index_column": 34
        },
        {
         "category": "velas_y_decoracion",
         "name": 25,
         "_deepnote_index_column": 290
        },
        {
         "category": "platos_preparados_frios",
         "name": 25,
         "_deepnote_index_column": 256
        },
        {
         "category": "marisco_y_pescado_pescado_en_bandeja",
         "name": 25,
         "_deepnote_index_column": 208
        },
        {
         "category": "carne_congelada",
         "name": 25,
         "_deepnote_index_column": 69
        },
        {
         "category": "charcuteria_y_quesos_bacon_y_salchichas",
         "name": 25,
         "_deepnote_index_column": 83
        },
        {
         "category": "refresco_de_te_y_sin_gas",
         "name": 25,
         "_deepnote_index_column": 274
        },
        {
         "category": "legumbres",
         "name": 25,
         "_deepnote_index_column": 175
        },
        {
         "category": "panaderia_y_pasteleria_velas_y_decoracion",
         "name": 24,
         "_deepnote_index_column": 234
        },
        {
         "category": "agua_y_refrescos_refresco_de_te_y_sin_gas",
         "name": 24,
         "_deepnote_index_column": 13
        },
        {
         "category": "huevos_leche_y_mantequilla_mantequilla_y_margarina",
         "name": 24,
         "_deepnote_index_column": 168
        },
        {
         "category": "hamburguesas_y_picadas",
         "name": 24,
         "_deepnote_index_column": 158
        },
        {
         "category": "carne_hamburguesas_y_picadas",
         "name": 24,
         "_deepnote_index_column": 72
        },
        {
         "category": "mantequilla_y_margarina",
         "name": 24,
         "_deepnote_index_column": 199
        },
        {
         "category": "arroz_legumbres_y_pasta_legumbres",
         "name": 24,
         "_deepnote_index_column": 22
        },
        {
         "category": "sushi",
         "name": 23,
         "_deepnote_index_column": 278
        },
        {
         "category": "limpieza_y_hogar_limpieza_bano_y_wc",
         "name": 23,
         "_deepnote_index_column": 190
        },
        {
         "category": "pizzas_y_platos_preparados_platos_preparados_frios",
         "name": 23,
         "_deepnote_index_column": 254
        },
        {
         "category": "pilas_y_bolsas_de_basura",
         "name": 23,
         "_deepnote_index_column": 249
        },
        {
         "category": "salazones_y_ahumados",
         "name": 23,
         "_deepnote_index_column": 275
        },
        {
         "category": "marisco_y_pescado_salazones_y_ahumados",
         "name": 23,
         "_deepnote_index_column": 210
        },
        {
         "category": "limpieza_y_hogar_pilas_y_bolsas_de_basura",
         "name": 23,
         "_deepnote_index_column": 196
        },
        {
         "category": "limpiahogar_y_friegasuelos",
         "name": 23,
         "_deepnote_index_column": 179
        },
        {
         "category": "cacao_cafe_e_infusiones_cafe_soluble_y_otras_bebidas",
         "name": 23,
         "_deepnote_index_column": 57
        },
        {
         "category": "limpieza_bano_y_wc",
         "name": 23,
         "_deepnote_index_column": 180
        },
        {
         "category": "neceseres",
         "name": 22,
         "_deepnote_index_column": 220
        },
        {
         "category": "zumos_fruta_variada",
         "name": 22,
         "_deepnote_index_column": 301
        },
        {
         "category": "fruta_variada",
         "name": 22,
         "_deepnote_index_column": 147
        },
        {
         "category": "limpieza_y_hogar_papel_higienico_y_celulosa",
         "name": 22,
         "_deepnote_index_column": 195
        },
        {
         "category": "limpieza_y_hogar_limpiahogar_y_friegasuelos",
         "name": 22,
         "_deepnote_index_column": 189
        },
        {
         "category": "limpieza_vajilla",
         "name": 21,
         "_deepnote_index_column": 183
        },
        {
         "category": "colorete_y_polvos",
         "name": 21,
         "_deepnote_index_column": 95
        },
        {
         "category": "vacuno",
         "name": 21,
         "_deepnote_index_column": 289
        },
        {
         "category": "carne_vacuno",
         "name": 21,
         "_deepnote_index_column": 73
        },
        {
         "category": "limpieza_y_hogar_limpieza_vajilla",
         "name": 21,
         "_deepnote_index_column": 193
        },
        {
         "category": "marisco_y_pescado_sushi",
         "name": 21,
         "_deepnote_index_column": 211
        },
        {
         "category": "yogures_y_postres_infantiles",
         "name": 20,
         "_deepnote_index_column": 300
        },
        {
         "category": "maquillaje_colorete_y_polvos",
         "name": 20,
         "_deepnote_index_column": 201
        },
        {
         "category": "aceite_especias_y_salsas_mayonesa_ketchup_y_mostaza",
         "name": 20,
         "_deepnote_index_column": 2
        },
        {
         "category": "bodega_sidra_y_cava",
         "name": 20,
         "_deepnote_index_column": 46
        },
        {
         "category": "sidra_y_cava",
         "name": 20,
         "_deepnote_index_column": 276
        },
        {
         "category": "postres_y_yogures_yogures_y_postres_infantiles",
         "name": 20,
         "_deepnote_index_column": 266
        },
        {
         "category": "mayonesa_ketchup_y_mostaza",
         "name": 20,
         "_deepnote_index_column": 215
        },
        {
         "category": "postres_y_yogures_bifidus",
         "name": 19,
         "_deepnote_index_column": 258
        },
        {
         "category": "cafe_molido_y_en_grano",
         "name": 19,
         "_deepnote_index_column": 61
        },
        {
         "category": "agua_y_refrescos_isotonico_y_energetico",
         "name": 19,
         "_deepnote_index_column": 10
        },
        {
         "category": "cacao_cafe_e_infusiones_cafe_molido_y_en_grano",
         "name": 19,
         "_deepnote_index_column": 56
        },
        {
         "category": "arroz_legumbres_y_pasta_arroz",
         "name": 19,
         "_deepnote_index_column": 21
        },
        {
         "category": "gazpacho_y_cremas",
         "name": 19,
         "_deepnote_index_column": 154
        },
        {
         "category": "bifidus",
         "name": 19,
         "_deepnote_index_column": 42
        },
        {
         "category": "carne_carne_congelada",
         "name": 19,
         "_deepnote_index_column": 66
        },
        {
         "category": "congelados_carne",
         "name": 19,
         "_deepnote_index_column": 98
        },
        {
         "category": "isotonico_y_energetico",
         "name": 19,
         "_deepnote_index_column": 170
        },
        {
         "category": "arroz",
         "name": 19,
         "_deepnote_index_column": 20
        },
        {
         "category": "conservas_caldos_y_cremas_gazpacho_y_cremas",
         "name": 18,
         "_deepnote_index_column": 110
        },
        {
         "category": "arreglos",
         "name": 18,
         "_deepnote_index_column": 19
        },
        {
         "category": "conservas_caldos_y_cremas_berberechos_y_mejillones",
         "name": 18,
         "_deepnote_index_column": 108
        },
        {
         "category": "berberechos_y_mejillones",
         "name": 18,
         "_deepnote_index_column": 40
        },
        {
         "category": "postres_y_yogures_yogures_desnatados",
         "name": 18,
         "_deepnote_index_column": 262
        },
        {
         "category": "yogures_desnatados",
         "name": 18,
         "_deepnote_index_column": 296
        },
        {
         "category": "embutido",
         "name": 17,
         "_deepnote_index_column": 136
        },
        {
         "category": "congelados_pizzas",
         "name": 17,
         "_deepnote_index_column": 103
        },
        {
         "category": "mascotas_pez_y_otros",
         "name": 17,
         "_deepnote_index_column": 214
        },
        {
         "category": "pez_y_otros",
         "name": 17,
         "_deepnote_index_column": 247
        },
        {
         "category": "carne_arreglos",
         "name": 17,
         "_deepnote_index_column": 64
        },
        {
         "category": "azucar_y_edulcorante",
         "name": 17,
         "_deepnote_index_column": 33
        },
        {
         "category": "congelados_arroz_y_pasta",
         "name": 16,
         "_deepnote_index_column": 97
        },
        {
         "category": "tomate",
         "name": 16,
         "_deepnote_index_column": 284
        },
        {
         "category": "carne_embutido",
         "name": 16,
         "_deepnote_index_column": 70
        },
        {
         "category": "conservas_caldos_y_cremas_tomate",
         "name": 16,
         "_deepnote_index_column": 112
        },
        {
         "category": "limpieza_y_hogar_limpieza_cocina",
         "name": 16,
         "_deepnote_index_column": 191
        },
        {
         "category": "limpieza_cocina",
         "name": 16,
         "_deepnote_index_column": 181
        },
        {
         "category": "arroz_y_pasta",
         "name": 16,
         "_deepnote_index_column": 24
        },
        {
         "category": "azucar_caramelos_y_chocolate_azucar_y_edulcorante",
         "name": 16,
         "_deepnote_index_column": 28
        },
        {
         "category": "cacao_soluble_y_chocolate_a_la_taza",
         "name": 15,
         "_deepnote_index_column": 59
        },
        {
         "category": "maquillaje_pinceles_y_brochas",
         "name": 15,
         "_deepnote_index_column": 204
        },
        {
         "category": "cacao_cafe_e_infusiones_cacao_soluble_y_chocolate_a_la_taza",
         "name": 15,
         "_deepnote_index_column": 54
        },
        {
         "category": "pinceles_y_brochas",
         "name": 15,
         "_deepnote_index_column": 250
        },
        {
         "category": "cuidado_facial_y_corporal_neceseres",
         "name": 14,
         "_deepnote_index_column": 130
        },
        {
         "category": "charcuteria_y_quesos_chopped_y_mortadela",
         "name": 13,
         "_deepnote_index_column": 84
        },
        {
         "category": "chopped_y_mortadela",
         "name": 13,
         "_deepnote_index_column": 93
        },
        {
         "category": "agua_y_refrescos_refresco_de_naranja_y_de_limon",
         "name": 13,
         "_deepnote_index_column": 12
        },
        {
         "category": "conejo_y_cordero",
         "name": 13,
         "_deepnote_index_column": 96
        },
        {
         "category": "refresco_de_naranja_y_de_limon",
         "name": 13,
         "_deepnote_index_column": 273
        },
        {
         "category": "carne_conejo_y_cordero",
         "name": 13,
         "_deepnote_index_column": 68
        },
        {
         "category": "flan_y_natillas",
         "name": 12,
         "_deepnote_index_column": 145
        },
        {
         "category": "postres_y_yogures_flan_y_natillas",
         "name": 12,
         "_deepnote_index_column": 259
        },
        {
         "category": "refresco_de_cola",
         "name": 11,
         "_deepnote_index_column": 272
        },
        {
         "category": "agua_y_refrescos_refresco_de_cola",
         "name": 11,
         "_deepnote_index_column": 11
        },
        {
         "category": "tomate_y_otros_sabores",
         "name": 11,
         "_deepnote_index_column": 285
        },
        {
         "category": "bodega_tinto_de_verano_y_sangria",
         "name": 11,
         "_deepnote_index_column": 47
        },
        {
         "category": "tinto_de_verano_y_sangria",
         "name": 11,
         "_deepnote_index_column": 282
        },
        {
         "category": "zumos_tomate_y_otros_sabores",
         "name": 11,
         "_deepnote_index_column": 304
        },
        {
         "category": "vino_lambrusco_y_espumoso",
         "name": 9,
         "_deepnote_index_column": 293
        },
        {
         "category": "melocoton_y_pina",
         "name": 9,
         "_deepnote_index_column": 216
        },
        {
         "category": "postres_de_soja",
         "name": 9,
         "_deepnote_index_column": 257
        },
        {
         "category": "zumos_melocoton_y_pina",
         "name": 9,
         "_deepnote_index_column": 302
        },
        {
         "category": "yogures_griegos",
         "name": 9,
         "_deepnote_index_column": 297
        },
        {
         "category": "postres_y_yogures_yogures_griegos",
         "name": 9,
         "_deepnote_index_column": 263
        },
        {
         "category": "postres_y_yogures_postres_de_soja",
         "name": 9,
         "_deepnote_index_column": 261
        },
        {
         "category": "tonica_y_bitter",
         "name": 8,
         "_deepnote_index_column": 286
        },
        {
         "category": "tortitas",
         "name": 8,
         "_deepnote_index_column": 287
        },
        {
         "category": "bodega_vino_lambrusco_y_espumoso",
         "name": 8,
         "_deepnote_index_column": 49
        },
        {
         "category": "vino_rosado",
         "name": 8,
         "_deepnote_index_column": 294
        },
        {
         "category": "limpieza_y_hogar_limpiacristales",
         "name": 8,
         "_deepnote_index_column": 188
        },
        {
         "category": "limpiacristales",
         "name": 8,
         "_deepnote_index_column": 178
        },
        {
         "category": "agua_y_refrescos_tonica_y_bitter",
         "name": 8,
         "_deepnote_index_column": 14
        },
        {
         "category": "zumos_naranja",
         "name": 7,
         "_deepnote_index_column": 303
        },
        {
         "category": "huevos_leche_y_mantequilla_huevos",
         "name": 7,
         "_deepnote_index_column": 166
        },
        {
         "category": "huevos",
         "name": 7,
         "_deepnote_index_column": 165
        },
        {
         "category": "naranja",
         "name": 7,
         "_deepnote_index_column": 219
        },
        {
         "category": "cereales_y_galletas_tortitas",
         "name": 7,
         "_deepnote_index_column": 78
        },
        {
         "category": "bodega_vino_rosado",
         "name": 7,
         "_deepnote_index_column": 50
        },
        {
         "category": "cerveza_sin_alcohol",
         "name": 6,
         "_deepnote_index_column": 80
        },
        {
         "category": "bodega_cerveza_sin_alcohol",
         "name": 5,
         "_deepnote_index_column": 44
        },
        {
         "category": "congelados_hielo",
         "name": 2,
         "_deepnote_index_column": 100
        },
        {
         "category": "hielo",
         "name": 2,
         "_deepnote_index_column": 161
        }
       ],
       "rows_bottom": null
      },
      "text/plain": "                                        category  name\n241                            perfume_y_colonia   210\n131  cuidado_facial_y_corporal_perfume_y_colonia   165\n291                                      verdura   162\n94                            coloracion_cabello   150\n117       cuidado_del_cabello_coloracion_cabello   142\n..                                           ...   ...\n50                            bodega_vino_rosado     7\n80                           cerveza_sin_alcohol     6\n44                    bodega_cerveza_sin_alcohol     5\n100                             congelados_hielo     2\n161                                        hielo     2\n\n[305 rows x 2 columns]",
      "text/html": "<div>\n<style scoped>\n    .dataframe tbody tr th:only-of-type {\n        vertical-align: middle;\n    }\n\n    .dataframe tbody tr th {\n        vertical-align: top;\n    }\n\n    .dataframe thead th {\n        text-align: right;\n    }\n</style>\n<table border=\"1\" class=\"dataframe\">\n  <thead>\n    <tr style=\"text-align: right;\">\n      <th></th>\n      <th>category</th>\n      <th>name</th>\n    </tr>\n  </thead>\n  <tbody>\n    <tr>\n      <th>241</th>\n      <td>perfume_y_colonia</td>\n      <td>210</td>\n    </tr>\n    <tr>\n      <th>131</th>\n      <td>cuidado_facial_y_corporal_perfume_y_colonia</td>\n      <td>165</td>\n    </tr>\n    <tr>\n      <th>291</th>\n      <td>verdura</td>\n      <td>162</td>\n    </tr>\n    <tr>\n      <th>94</th>\n      <td>coloracion_cabello</td>\n      <td>150</td>\n    </tr>\n    <tr>\n      <th>117</th>\n      <td>cuidado_del_cabello_coloracion_cabello</td>\n      <td>142</td>\n    </tr>\n    <tr>\n      <th>...</th>\n      <td>...</td>\n      <td>...</td>\n    </tr>\n    <tr>\n      <th>50</th>\n      <td>bodega_vino_rosado</td>\n      <td>7</td>\n    </tr>\n    <tr>\n      <th>80</th>\n      <td>cerveza_sin_alcohol</td>\n      <td>6</td>\n    </tr>\n    <tr>\n      <th>44</th>\n      <td>bodega_cerveza_sin_alcohol</td>\n      <td>5</td>\n    </tr>\n    <tr>\n      <th>100</th>\n      <td>congelados_hielo</td>\n      <td>2</td>\n    </tr>\n    <tr>\n      <th>161</th>\n      <td>hielo</td>\n      <td>2</td>\n    </tr>\n  </tbody>\n</table>\n<p>305 rows × 2 columns</p>\n</div>"
     },
     "metadata": {}
    }
   ],
   "execution_count": null
  },
  {
   "cell_type": "markdown",
   "source": "### ¿Which are the 5 products with the highest avg price?",
   "metadata": {
    "id": "QPwmb6foWu-m",
    "cell_id": "00022-8b2dc784-8013-4b34-b0de-d6d87dd0745e",
    "deepnote_cell_type": "markdown"
   }
  },
  {
   "cell_type": "code",
   "metadata": {
    "id": "CYSHgxJgMc3r",
    "colab": {
     "base_uri": "https://localhost:8080/",
     "height": 0
    },
    "executionInfo": {
     "status": "ok",
     "timestamp": 1625412594821,
     "user_tz": 240,
     "elapsed": 178,
     "user": {
      "displayName": "Andrés Sánchez",
      "photoUrl": "https://lh3.googleusercontent.com/a-/AOh14Gg69bZMv30ckb-T1MJy0nSxWIHUaP0p2uP6MYBuvQ=s64",
      "userId": "07985253921366566280"
     }
    },
    "outputId": "16cf43e6-ad4b-488f-d9ab-8cd52faf122d",
    "cell_id": "00023-559e3c6c-50ff-4bf8-bbd6-7ea8b02454e6",
    "deepnote_to_be_reexecuted": false,
    "source_hash": "8c9c24a5",
    "execution_start": 1630094714985,
    "execution_millis": 229,
    "deepnote_cell_type": "code"
   },
   "source": "pd.DataFrame(mercadona_prices.groupby('name')['price'].mean()).reset_index().sort_values(by = 'price', ascending = False).head(5)",
   "outputs": [
    {
     "output_type": "execute_result",
     "execution_count": 8,
     "data": {
      "application/vnd.deepnote.dataframe.v2+json": {
       "row_count": 5,
       "column_count": 2,
       "columns": [
        {
         "name": "name",
         "dtype": "object",
         "stats": {
          "unique_count": 5,
          "nan_count": 0,
          "categories": [
           {
            "name": "Alistado mediano congelado",
            "count": 1
           },
           {
            "name": "Bocas chicas de cangrejos congeladas",
            "count": 1
           },
           {
            "name": "3 others",
            "count": 3
           }
          ]
         }
        },
        {
         "name": "price",
         "dtype": "Float64",
         "stats": {
          "unique_count": 5,
          "nan_count": 0,
          "categories": [
           {
            "name": "2470.0500000000056",
            "count": 1
           },
           {
            "name": "1480.0499999999927",
            "count": 1
           },
           {
            "name": "3 others",
            "count": 3
           }
          ]
         }
        },
        {
         "name": "_deepnote_index_column",
         "dtype": "int64"
        }
       ],
       "rows_top": [
        {
         "name": "Alistado mediano congelado",
         "price": 2470.0500000000056,
         "_deepnote_index_column": 206
        },
        {
         "name": "Bocas chicas de cangrejos congeladas",
         "price": 1480.0499999999927,
         "_deepnote_index_column": 667
        },
        {
         "name": "Cuerpos chicos de cangrejo Dimarosa congelados",
         "price": 1381.049999999993,
         "_deepnote_index_column": 1828
        },
        {
         "name": "Alistado pequeño congelado",
         "price": 1282.0499999999956,
         "_deepnote_index_column": 208
        },
        {
         "name": "Gamba arrocera congelada",
         "price": 1183.0499999999936,
         "_deepnote_index_column": 2515
        }
       ],
       "rows_bottom": null
      },
      "text/plain": "                                                name    price\n206                       Alistado mediano congelado  2470.05\n667             Bocas chicas de cangrejos congeladas  1480.05\n1828  Cuerpos chicos de cangrejo Dimarosa congelados  1381.05\n208                       Alistado pequeño congelado  1282.05\n2515                        Gamba arrocera congelada  1183.05",
      "text/html": "<div>\n<style scoped>\n    .dataframe tbody tr th:only-of-type {\n        vertical-align: middle;\n    }\n\n    .dataframe tbody tr th {\n        vertical-align: top;\n    }\n\n    .dataframe thead th {\n        text-align: right;\n    }\n</style>\n<table border=\"1\" class=\"dataframe\">\n  <thead>\n    <tr style=\"text-align: right;\">\n      <th></th>\n      <th>name</th>\n      <th>price</th>\n    </tr>\n  </thead>\n  <tbody>\n    <tr>\n      <th>206</th>\n      <td>Alistado mediano congelado</td>\n      <td>2470.05</td>\n    </tr>\n    <tr>\n      <th>667</th>\n      <td>Bocas chicas de cangrejos congeladas</td>\n      <td>1480.05</td>\n    </tr>\n    <tr>\n      <th>1828</th>\n      <td>Cuerpos chicos de cangrejo Dimarosa congelados</td>\n      <td>1381.05</td>\n    </tr>\n    <tr>\n      <th>208</th>\n      <td>Alistado pequeño congelado</td>\n      <td>1282.05</td>\n    </tr>\n    <tr>\n      <th>2515</th>\n      <td>Gamba arrocera congelada</td>\n      <td>1183.05</td>\n    </tr>\n  </tbody>\n</table>\n</div>"
     },
     "metadata": {}
    }
   ],
   "execution_count": null
  },
  {
   "cell_type": "markdown",
   "source": "### ¿Which is the product by 'reference_unit' with the highest price?",
   "metadata": {
    "id": "0dZfqrpNZLyQ",
    "cell_id": "00024-eb4265e0-146f-4f43-88dd-41c993a783a8",
    "deepnote_cell_type": "markdown"
   }
  },
  {
   "cell_type": "code",
   "metadata": {
    "tags": [],
    "cell_id": "00018-1e325a08-5ccb-4da2-bf17-7f437e31a91f",
    "deepnote_to_be_reexecuted": false,
    "source_hash": "a295f738",
    "execution_start": 1630094715207,
    "execution_millis": 1256,
    "deepnote_cell_type": "code"
   },
   "source": "mercadona_prices = pd.read_csv('/datasets/personalcloud/2021 - Mercadona Prices/mercadona_data.csv', sep = ',')",
   "outputs": [],
   "execution_count": null
  },
  {
   "cell_type": "code",
   "metadata": {
    "colab": {
     "base_uri": "https://localhost:8080/",
     "height": 0
    },
    "id": "pfgTNOiCXPtd",
    "executionInfo": {
     "status": "ok",
     "timestamp": 1625412594976,
     "user_tz": 240,
     "elapsed": 157,
     "user": {
      "displayName": "Andrés Sánchez",
      "photoUrl": "https://lh3.googleusercontent.com/a-/AOh14Gg69bZMv30ckb-T1MJy0nSxWIHUaP0p2uP6MYBuvQ=s64",
      "userId": "07985253921366566280"
     }
    },
    "outputId": "dbb6ee5d-e6a5-4202-9285-5dbaeaa99b22",
    "cell_id": "00025-984f4333-d7c1-432f-90c7-f9e84033f8a1",
    "deepnote_to_be_reexecuted": false,
    "source_hash": "7f2dd8b8",
    "execution_start": 1630094716480,
    "execution_millis": 89,
    "deepnote_cell_type": "code"
   },
   "source": "pr_reference = mercadona_prices.iloc[mercadona_prices.groupby(by = ['reference_unit'])['price'].agg(pd.Series.idxmax)].sort_values(by = 'price', ascending = False)\npr_reference[['reference_unit', 'name', 'price']]",
   "outputs": [
    {
     "output_type": "execute_result",
     "execution_count": 10,
     "data": {
      "application/vnd.deepnote.dataframe.v2+json": {
       "row_count": 8,
       "column_count": 3,
       "columns": [
        {
         "name": "reference_unit",
         "dtype": "object",
         "stats": {
          "unique_count": 8,
          "nan_count": 0,
          "categories": [
           {
            "name": "kg",
            "count": 1
           },
           {
            "name": "ud",
            "count": 1
           },
           {
            "name": "6 others",
            "count": 6
           }
          ]
         }
        },
        {
         "name": "name",
         "dtype": "object",
         "stats": {
          "unique_count": 8,
          "nan_count": 0,
          "categories": [
           {
            "name": "Alistado mediano congelado",
            "count": 1
           },
           {
            "name": "Lote hombre Adolfo Dominguez Agua fresca",
            "count": 1
           },
           {
            "name": "6 others",
            "count": 6
           }
          ]
         }
        },
        {
         "name": "price",
         "dtype": "float64",
         "stats": {
          "unique_count": 8,
          "nan_count": 0,
          "min": "2.42",
          "max": "2470.05",
          "histogram": [
           {
            "bin_start": 2.42,
            "bin_end": 249.183,
            "count": 7
           },
           {
            "bin_start": 249.183,
            "bin_end": 495.946,
            "count": 0
           },
           {
            "bin_start": 495.946,
            "bin_end": 742.709,
            "count": 0
           },
           {
            "bin_start": 742.709,
            "bin_end": 989.472,
            "count": 0
           },
           {
            "bin_start": 989.472,
            "bin_end": 1236.2350000000001,
            "count": 0
           },
           {
            "bin_start": 1236.2350000000001,
            "bin_end": 1482.998,
            "count": 0
           },
           {
            "bin_start": 1482.998,
            "bin_end": 1729.7610000000002,
            "count": 0
           },
           {
            "bin_start": 1729.7610000000002,
            "bin_end": 1976.5240000000001,
            "count": 0
           },
           {
            "bin_start": 1976.5240000000001,
            "bin_end": 2223.2870000000003,
            "count": 0
           },
           {
            "bin_start": 2223.2870000000003,
            "bin_end": 2470.05,
            "count": 1
           }
          ]
         }
        },
        {
         "name": "_deepnote_index_column",
         "dtype": "int64"
        }
       ],
       "rows_top": [
        {
         "reference_unit": "kg",
         "name": "Alistado mediano congelado",
         "price": 2470.05,
         "_deepnote_index_column": 237
        },
        {
         "reference_unit": "ud",
         "name": "Lote hombre Adolfo Dominguez Agua fresca",
         "price": 32.95,
         "_deepnote_index_column": 4849
        },
        {
         "reference_unit": "L",
         "name": "Whisky escocés Cardhu 12 años",
         "price": 25.99,
         "_deepnote_index_column": 130373
        },
        {
         "reference_unit": "100 ml",
         "name": "Eau de toilette hombre Antonio Banderas Blue seduction",
         "price": 20.5,
         "_deepnote_index_column": 4820
        },
        {
         "reference_unit": "lv",
         "name": "Detergente ropa blanca y de color Bosque Verde en polvo",
         "price": 9.25,
         "_deepnote_index_column": 5896
        },
        {
         "reference_unit": "100 g",
         "name": "Polvo compacto de sol Deliplus",
         "price": 7,
         "_deepnote_index_column": 5290
        },
        {
         "reference_unit": "m",
         "name": "Papel de aluminio Bosque Verde",
         "price": 2.9,
         "_deepnote_index_column": 6303
        },
        {
         "reference_unit": "dc",
         "name": "Huevos medianos M",
         "price": 2.42,
         "_deepnote_index_column": 1533
        }
       ],
       "rows_bottom": null
      },
      "text/plain": "       reference_unit                                               name  \\\n237                kg                         Alistado mediano congelado   \n4849               ud           Lote hombre Adolfo Dominguez Agua fresca   \n130373              L                      Whisky escocés Cardhu 12 años   \n4820           100 ml  Eau de toilette hombre Antonio Banderas Blue s...   \n5896               lv  Detergente ropa blanca y de color Bosque Verde...   \n5290            100 g                     Polvo compacto de sol Deliplus   \n6303                m                     Papel de aluminio Bosque Verde   \n1533               dc                                  Huevos medianos M   \n\n          price  \n237     2470.05  \n4849      32.95  \n130373    25.99  \n4820      20.50  \n5896       9.25  \n5290       7.00  \n6303       2.90  \n1533       2.42  ",
      "text/html": "<div>\n<style scoped>\n    .dataframe tbody tr th:only-of-type {\n        vertical-align: middle;\n    }\n\n    .dataframe tbody tr th {\n        vertical-align: top;\n    }\n\n    .dataframe thead th {\n        text-align: right;\n    }\n</style>\n<table border=\"1\" class=\"dataframe\">\n  <thead>\n    <tr style=\"text-align: right;\">\n      <th></th>\n      <th>reference_unit</th>\n      <th>name</th>\n      <th>price</th>\n    </tr>\n  </thead>\n  <tbody>\n    <tr>\n      <th>237</th>\n      <td>kg</td>\n      <td>Alistado mediano congelado</td>\n      <td>2470.05</td>\n    </tr>\n    <tr>\n      <th>4849</th>\n      <td>ud</td>\n      <td>Lote hombre Adolfo Dominguez Agua fresca</td>\n      <td>32.95</td>\n    </tr>\n    <tr>\n      <th>130373</th>\n      <td>L</td>\n      <td>Whisky escocés Cardhu 12 años</td>\n      <td>25.99</td>\n    </tr>\n    <tr>\n      <th>4820</th>\n      <td>100 ml</td>\n      <td>Eau de toilette hombre Antonio Banderas Blue s...</td>\n      <td>20.50</td>\n    </tr>\n    <tr>\n      <th>5896</th>\n      <td>lv</td>\n      <td>Detergente ropa blanca y de color Bosque Verde...</td>\n      <td>9.25</td>\n    </tr>\n    <tr>\n      <th>5290</th>\n      <td>100 g</td>\n      <td>Polvo compacto de sol Deliplus</td>\n      <td>7.00</td>\n    </tr>\n    <tr>\n      <th>6303</th>\n      <td>m</td>\n      <td>Papel de aluminio Bosque Verde</td>\n      <td>2.90</td>\n    </tr>\n    <tr>\n      <th>1533</th>\n      <td>dc</td>\n      <td>Huevos medianos M</td>\n      <td>2.42</td>\n    </tr>\n  </tbody>\n</table>\n</div>"
     },
     "metadata": {}
    }
   ],
   "execution_count": null
  },
  {
   "cell_type": "markdown",
   "source": "### ¿Which is the product by 'category' with the highest price?",
   "metadata": {
    "id": "_ZIIfgAyuyOy",
    "cell_id": "00026-65ab1bef-c821-42de-bd63-b8b78913ec45",
    "deepnote_cell_type": "markdown"
   }
  },
  {
   "cell_type": "code",
   "metadata": {
    "colab": {
     "base_uri": "https://localhost:8080/",
     "height": 0
    },
    "id": "nDbwCUA8uyyj",
    "executionInfo": {
     "status": "ok",
     "timestamp": 1625412595397,
     "user_tz": 240,
     "elapsed": 239,
     "user": {
      "displayName": "Andrés Sánchez",
      "photoUrl": "https://lh3.googleusercontent.com/a-/AOh14Gg69bZMv30ckb-T1MJy0nSxWIHUaP0p2uP6MYBuvQ=s64",
      "userId": "07985253921366566280"
     }
    },
    "outputId": "8cd58aef-5a17-477a-f437-9ad968e8ddac",
    "cell_id": "00027-816024ef-a482-48f8-9b4a-da0c03c9429a",
    "deepnote_to_be_reexecuted": false,
    "source_hash": "4a35062c",
    "execution_start": 1630094716614,
    "execution_millis": 108,
    "deepnote_cell_type": "code"
   },
   "source": "pr_category = mercadona_prices.iloc[mercadona_prices.groupby(by = ['category'])['price'].agg(pd.Series.idxmax)].sort_values(by = 'price', ascending = False)\npr_category[['category', 'name', 'price']]",
   "outputs": [
    {
     "output_type": "execute_result",
     "execution_count": 11,
     "data": {
      "application/vnd.deepnote.dataframe.v2+json": {
       "row_count": 305,
       "column_count": 3,
       "columns": [
        {
         "name": "category",
         "dtype": "object",
         "stats": {
          "unique_count": 305,
          "nan_count": 0,
          "categories": [
           {
            "name": "marisco",
            "count": 1
           },
           {
            "name": "congelados_marisco",
            "count": 1
           },
           {
            "name": "303 others",
            "count": 303
           }
          ]
         }
        },
        {
         "name": "name",
         "dtype": "object",
         "stats": {
          "unique_count": 169,
          "nan_count": 0,
          "categories": [
           {
            "name": "Pulpo crudo grande Hacendado congelado",
            "count": 4
           },
           {
            "name": "Alistado mediano congelado",
            "count": 3
           },
           {
            "name": "167 others",
            "count": 298
           }
          ]
         }
        },
        {
         "name": "price",
         "dtype": "float64",
         "stats": {
          "unique_count": 136,
          "nan_count": 0,
          "min": "1.5",
          "max": "2470.05",
          "histogram": [
           {
            "bin_start": 1.5,
            "bin_end": 248.35500000000002,
            "count": 296
           },
           {
            "bin_start": 248.35500000000002,
            "bin_end": 495.21000000000004,
            "count": 4
           },
           {
            "bin_start": 495.21000000000004,
            "bin_end": 742.065,
            "count": 2
           },
           {
            "bin_start": 742.065,
            "bin_end": 988.9200000000001,
            "count": 0
           },
           {
            "bin_start": 988.9200000000001,
            "bin_end": 1235.775,
            "count": 0
           },
           {
            "bin_start": 1235.775,
            "bin_end": 1482.63,
            "count": 0
           },
           {
            "bin_start": 1482.63,
            "bin_end": 1729.4850000000001,
            "count": 0
           },
           {
            "bin_start": 1729.4850000000001,
            "bin_end": 1976.3400000000001,
            "count": 0
           },
           {
            "bin_start": 1976.3400000000001,
            "bin_end": 2223.195,
            "count": 0
           },
           {
            "bin_start": 2223.195,
            "bin_end": 2470.05,
            "count": 3
           }
          ]
         }
        },
        {
         "name": "_deepnote_index_column",
         "dtype": "int64"
        }
       ],
       "rows_top": [
        {
         "category": "marisco",
         "name": "Alistado mediano congelado",
         "price": 2470.05,
         "_deepnote_index_column": 237
        },
        {
         "category": "congelados_marisco",
         "name": "Alistado mediano congelado",
         "price": 2470.05,
         "_deepnote_index_column": 999072
        },
        {
         "category": "marisco_y_pescado_marisco",
         "name": "Alistado mediano congelado",
         "price": 2470.05,
         "_deepnote_index_column": 1001895
        },
        {
         "category": "pescado_fresco",
         "name": "Morralla",
         "price": 688.05,
         "_deepnote_index_column": 193
        },
        {
         "category": "marisco_y_pescado_pescado_fresco",
         "name": "Morralla",
         "price": 688.05,
         "_deepnote_index_column": 1002035
        },
        {
         "category": "verdura",
         "name": "Judía verde plana",
         "price": 494.01,
         "_deepnote_index_column": 339772
        },
        {
         "category": "charcuteria_y_quesos_jamon_serrano",
         "name": "Jamón de bellota ibérico Covap",
         "price": 436.5,
         "_deepnote_index_column": 998786
        },
        {
         "category": "jamon_serrano",
         "name": "Jamón de bellota ibérico Covap",
         "price": 436.5,
         "_deepnote_index_column": 722
        },
        {
         "category": "fruta_y_verdura_verdura",
         "name": "Judía verde plana",
         "price": 345.51,
         "_deepnote_index_column": 1000857
        },
        {
         "category": "fruta",
         "name": "Uva negra con semillas",
         "price": 246.51,
         "_deepnote_index_column": 378257
        },
        {
         "category": "fruta_y_verdura_fruta",
         "name": "Uva blanca con semillas",
         "price": 197.01,
         "_deepnote_index_column": 1000706
        },
        {
         "category": "charcuteria_y_quesos_embutido_curado",
         "name": "Lomo de bellota ibérico La Hacienda del ibérico",
         "price": 46.8,
         "_deepnote_index_column": 998757
        },
        {
         "category": "embutido_curado",
         "name": "Lomo de bellota ibérico La Hacienda del ibérico",
         "price": 46.8,
         "_deepnote_index_column": 782
        },
        {
         "category": "vacuno",
         "name": "Medio solomillo de vacuno añojo",
         "price": 37.55,
         "_deepnote_index_column": 507
        },
        {
         "category": "carne_vacuno",
         "name": "Medio solomillo de vacuno añojo",
         "price": 37.55,
         "_deepnote_index_column": 998440
        },
        {
         "category": "perfume_y_colonia",
         "name": "Lote hombre Adolfo Dominguez Agua fresca",
         "price": 32.95,
         "_deepnote_index_column": 4849
        },
        {
         "category": "cuidado_facial_y_corporal_perfume_y_colonia",
         "name": "Lote hombre Adolfo Dominguez Bambú",
         "price": 30,
         "_deepnote_index_column": 1000533
        },
        {
         "category": "bodega_licores",
         "name": "Whisky escocés Cardhu 12 años",
         "price": 25.99,
         "_deepnote_index_column": 997847
        },
        {
         "category": "licores",
         "name": "Whisky escocés Cardhu 12 años",
         "price": 25.99,
         "_deepnote_index_column": 130373
        },
        {
         "category": "mascotas_perro",
         "name": "Comida perro adulto Supreme Compy con salmón y arroz",
         "price": 24.5,
         "_deepnote_index_column": 1002204
        },
        {
         "category": "perro",
         "name": "Comida perro adulto Supreme Compy con salmón y arroz",
         "price": 24.5,
         "_deepnote_index_column": 5762
        },
        {
         "category": "lejia_y_liquidos_fuertes",
         "name": "Cloro rápido granulado Productos QQ para piscina",
         "price": 24.3,
         "_deepnote_index_column": 6088
        },
        {
         "category": "limpieza_y_hogar_lejia_y_liquidos_fuertes",
         "name": "Cloro rápido granulado Productos QQ para piscina",
         "price": 24.3,
         "_deepnote_index_column": 1001310
        },
        {
         "category": "carne_congelada",
         "name": "Medio solomillo de vacuno a単ojo congelado",
         "price": 23.37,
         "_deepnote_index_column": 630
        },
        {
         "category": "carne",
         "name": "Medio solomillo de vacuno añojo congelado",
         "price": 23.37,
         "_deepnote_index_column": 3265
        },
        {
         "category": "bebe_toallitas_y_panales",
         "name": "Pañales bebé talla 3 de 6-10 kg Dodot",
         "price": 19.95,
         "_deepnote_index_column": 997684
        },
        {
         "category": "toallitas_y_panales",
         "name": "Pañales bebé talla 3 de 6-10 kg Dodot",
         "price": 19.95,
         "_deepnote_index_column": 5645
        },
        {
         "category": "marisco_y_pescado_pescado_congelado",
         "name": "Pulpo crudo grande Hacendado congelado",
         "price": 16.84,
         "_deepnote_index_column": 1001994
        },
        {
         "category": "congelados_pescado",
         "name": "Pulpo crudo grande Hacendado congelado",
         "price": 16.84,
         "_deepnote_index_column": 999135
        },
        {
         "category": "pescado_congelado",
         "name": "Pulpo crudo grande Hacendado congelado",
         "price": 16.84,
         "_deepnote_index_column": 364
        },
        {
         "category": "pescado",
         "name": "Pulpo crudo grande Hacendado congelado",
         "price": 16.84,
         "_deepnote_index_column": 3300
        },
        {
         "category": "pescado_en_bandeja",
         "name": "Plancha de salmón",
         "price": 16.82,
         "_deepnote_index_column": 307
        },
        {
         "category": "marisco_y_pescado_pescado_en_bandeja",
         "name": "Plancha de salmón",
         "price": 16.82,
         "_deepnote_index_column": 1002011
        },
        {
         "category": "sidra_y_cava",
         "name": "Cava brut nature Juvé & Camps",
         "price": 16.25,
         "_deepnote_index_column": 4001
        },
        {
         "category": "bodega_sidra_y_cava",
         "name": "Cava brut nature Juvé & Camps",
         "price": 16.25,
         "_deepnote_index_column": 997927
        },
        {
         "category": "queso_curado_semicurado_y_tierno",
         "name": "Queso mezcla semicurado Entrepinares",
         "price": 15,
         "_deepnote_index_column": 453707
        },
        {
         "category": "higiene_intima",
         "name": "Pañal adulto braguita talla L Tena pants plus",
         "price": 15,
         "_deepnote_index_column": 4520
        },
        {
         "category": "afeitado_y_cuidado_para_hombre",
         "name": "Lote hombre Gillette Fusion proshield 5",
         "price": 15,
         "_deepnote_index_column": 4599
        },
        {
         "category": "cuidado_facial_y_corporal_higiene_intima",
         "name": "Pañal adulto braguita talla L Tena pants plus",
         "price": 15,
         "_deepnote_index_column": 1000311
        },
        {
         "category": "cuidado_facial_y_corporal_afeitado_y_cuidado_para_hombre",
         "name": "Recambios maquinilla de afeitar Gillette Fusion proshield",
         "price": 14.95,
         "_deepnote_index_column": 999846
        },
        {
         "category": "pilas_y_bolsas_de_basura",
         "name": "Kit cargador pilas AA y AAA Premio incluye 4 pilas AA",
         "price": 14.65,
         "_deepnote_index_column": 6178
        },
        {
         "category": "limpieza_y_hogar_pilas_y_bolsas_de_basura",
         "name": "Kit cargador pilas AA y AAA Premio incluye 4 pilas AA",
         "price": 14.65,
         "_deepnote_index_column": 1001544
        },
        {
         "category": "bodega_vino_tinto",
         "name": "Vino tinto D.O Rioja Herederos del Marqués de Riscal reserva",
         "price": 14.4,
         "_deepnote_index_column": 998025
        },
        {
         "category": "vino_tinto",
         "name": "Vino tinto D.O Rioja Herederos del Marqués de Riscal reserva",
         "price": 14.4,
         "_deepnote_index_column": 3887
        },
        {
         "category": "maquillaje_bases_de_maquillaje_y_corrector",
         "name": "Maquillaje fluido lasting performance Max Factor 102 pastelle",
         "price": 13.95,
         "_deepnote_index_column": 1001661
        },
        {
         "category": "cacao_soluble_y_chocolate_a_la_taza",
         "name": "Cacao soluble Cola cao original",
         "price": 13.95,
         "_deepnote_index_column": 1791
        },
        {
         "category": "alimentacion_infantil",
         "name": "Leche para lactantes en polvo 1 Nidina Nestlé",
         "price": 13.95,
         "_deepnote_index_column": 5607
        },
        {
         "category": "bebe_biberon_chupete_y_menaje",
         "name": "Esterilizador de microondas Deliplus",
         "price": 13.95,
         "_deepnote_index_column": 997614
        },
        {
         "category": "bebe_alimentacion_infantil",
         "name": "Leche para lactantes en polvo 1 Nidina Nestlé",
         "price": 13.95,
         "_deepnote_index_column": 997583
        },
        {
         "category": "bases_de_maquillaje_y_corrector",
         "name": "Maquillaje fluido lasting performance Max Factor 102 pastelle",
         "price": 13.95,
         "_deepnote_index_column": 5236
        },
        {
         "category": "biberon_chupete_y_menaje",
         "name": "Esterilizador de microondas Deliplus",
         "price": 13.95,
         "_deepnote_index_column": 5702
        },
        {
         "category": "aceite_especias_y_salsas_aceite_vinagre_y_sal",
         "name": "Aceite de oliva virgen extra Eminente",
         "price": 13.6,
         "_deepnote_index_column": 996606
        },
        {
         "category": "aceite_vinagre_y_sal",
         "name": "Aceite de oliva virgen extra Eminente",
         "price": 13.6,
         "_deepnote_index_column": 574335
        },
        {
         "category": "charcuteria_y_quesos_queso_curado_semicurado_y_tierno",
         "name": "Queso oveja viejo Entrepinares",
         "price": 13.13,
         "_deepnote_index_column": 998830
        },
        {
         "category": "congelados_carne",
         "name": "Paletilla de cordero entera congelada",
         "price": 13.08,
         "_deepnote_index_column": 998981
        },
        {
         "category": "carne_carne_congelada",
         "name": "Paletilla de cordero entera congelada",
         "price": 13.08,
         "_deepnote_index_column": 998314
        },
        {
         "category": "maquillaje_ojos",
         "name": "Kit maquillaje 4 estaciones Deliplus My Soul",
         "price": 13,
         "_deepnote_index_column": 1001868
        },
        {
         "category": "ojos",
         "name": "Kit maquillaje 4 estaciones Deliplus My Soul",
         "price": 13,
         "_deepnote_index_column": 5435
        },
        {
         "category": "cuidado_e_higiene_facial",
         "name": "Lote facial mujer My Moment",
         "price": 13,
         "_deepnote_index_column": 4178
        },
        {
         "category": "cuidado_facial_y_corporal_cuidado_e_higiene_facial",
         "name": "Lote facial mujer My Moment",
         "price": 13,
         "_deepnote_index_column": 999998
        },
        {
         "category": "cacao_cafe_e_infusiones_cacao_soluble_y_chocolate_a_la_taza",
         "name": "Cacao soluble Cola cao original",
         "price": 12.95,
         "_deepnote_index_column": 998077
        },
        {
         "category": "depilacion",
         "name": "Recambios maquinilla depilación Gillette Venus Breeze comfortglide",
         "price": 12.9,
         "_deepnote_index_column": 4564
        },
        {
         "category": "cuidado_facial_y_corporal_depilacion",
         "name": "Recambios maquinilla depilación Gillette Venus Breeze comfortglide",
         "price": 12.9,
         "_deepnote_index_column": 1000046
        },
        {
         "category": "carne_conejo_y_cordero",
         "name": "Paletilla de cordero lechal asado fácil",
         "price": 12.6,
         "_deepnote_index_column": 998378
        },
        {
         "category": "conejo_y_cordero",
         "name": "Paletilla de cordero lechal asado fácil",
         "price": 12.6,
         "_deepnote_index_column": 520
        },
        {
         "category": "utensilios_de_limpieza_y_calzado",
         "name": "Cubo de basura reciclaje 50L (30L + 10L) Bosque Verde con pedal",
         "price": 12.5,
         "_deepnote_index_column": 6397
        },
        {
         "category": "limpieza_y_hogar_utensilios_de_limpieza_y_calzado",
         "name": "Cubo de basura reciclaje 50L (30L + 10L) Bosque Verde 35,5 x 41,5 x 45 cm",
         "price": 12.5,
         "_deepnote_index_column": 1001586
        },
        {
         "category": "cerveza",
         "name": "Cerveza Pils Krombacher",
         "price": 12,
         "_deepnote_index_column": 3755
        },
        {
         "category": "bodega_cerveza",
         "name": "Cerveza Pils Krombacher",
         "price": 12,
         "_deepnote_index_column": 997718
        },
        {
         "category": "protector_solar_y_aftersun",
         "name": "Crema protección solar Delial FPS 50+",
         "price": 11.95,
         "_deepnote_index_column": 4909
        },
        {
         "category": "cuidado_facial_y_corporal_protector_solar_y_aftersun",
         "name": "Protector solar niños Nivea FPS 50+",
         "price": 11.85,
         "_deepnote_index_column": 1000586
        },
        {
         "category": "tartas_y_pasteles",
         "name": "Tarta de la abuela Hacendado congelada",
         "price": 11.5,
         "_deepnote_index_column": 1246
        },
        {
         "category": "panaderia_y_pasteleria_tartas_y_pasteles",
         "name": "Tarta selva negra Hacendado congelada",
         "price": 11.5,
         "_deepnote_index_column": 1002576
        },
        {
         "category": "congelados_tartas_y_churros",
         "name": "Tarta selva negra Hacendado congelada",
         "price": 11.5,
         "_deepnote_index_column": 999213
        },
        {
         "category": "tartas_y_churros",
         "name": "Tarta de la abuela Hacendado congelada",
         "price": 11.5,
         "_deepnote_index_column": 3396
        },
        {
         "category": "higiene_bucal",
         "name": "Recambios cepillo dental eléctrico Oral-B tri Zone",
         "price": 10.9,
         "_deepnote_index_column": 4244
        },
        {
         "category": "marisco_y_pescado_salazones_y_ahumados",
         "name": "Bacalao seco y salado Ubago",
         "price": 10.84,
         "_deepnote_index_column": 1002086
        },
        {
         "category": "salazones_y_ahumados",
         "name": "Bacalao seco y salado Ubago",
         "price": 10.84,
         "_deepnote_index_column": 376
        },
        {
         "category": "leche_y_bebidas_vegetales",
         "name": "Bebida de almendras Almendrola",
         "price": 10.8,
         "_deepnote_index_column": 1430
        },
        {
         "category": "huevos_leche_y_mantequilla_leche_y_bebidas_vegetales",
         "name": "Bebida de almendras Almendrola",
         "price": 10.8,
         "_deepnote_index_column": 1000974
        },
        {
         "category": "fitoterapia_y_parafarmacia_parafarmacia",
         "name": "Preservativos real feel Durex",
         "price": 10.45,
         "_deepnote_index_column": 1000700
        },
        {
         "category": "parafarmacia",
         "name": "Preservativos real feel Durex",
         "price": 10.45,
         "_deepnote_index_column": 5550
        },
        {
         "category": "mascotas_gato",
         "name": "Comida gato adulto Compy con ternera y verduras",
         "price": 10.25,
         "_deepnote_index_column": 1002144
        },
        {
         "category": "gato",
         "name": "Comida gato adulto Compy con ternera y verduras",
         "price": 10.25,
         "_deepnote_index_column": 5820
        },
        {
         "category": "cuidado_facial_y_corporal_higiene_bucal",
         "name": "Cepillo dental eléctrico Oral-B Pro expert",
         "price": 9.95,
         "_deepnote_index_column": 1000215
        },
        {
         "category": "marisco_y_pescado_sushi",
         "name": "Surtido sushi salmón sin gluten",
         "price": 9.95,
         "_deepnote_index_column": 1002106
        },
        {
         "category": "sushi",
         "name": "Surtido sushi salmón sin gluten",
         "price": 9.95,
         "_deepnote_index_column": 11983
        },
        {
         "category": "cuidado_corporal",
         "name": "Lote corporal mujer Blue Shine",
         "price": 9.5,
         "_deepnote_index_column": 4422
        },
        {
         "category": "detergente_y_suavizante_ropa",
         "name": "Detergente ropa blanca y de color Bosque Verde en polvo",
         "price": 9.25,
         "_deepnote_index_column": 5896
        },
        {
         "category": "limpieza_y_hogar_detergente_y_suavizante_ropa",
         "name": "Detergente ropa blanca y de color Bosque Verde en polvo",
         "price": 9.25,
         "_deepnote_index_column": 1001101
        },
        {
         "category": "labios",
         "name": "Pintalabios Superstay 24H Maybelline 185 rose dust",
         "price": 8.95,
         "_deepnote_index_column": 5332
        },
        {
         "category": "chocolate",
         "name": "Surtido bombones Caja Roja Nestlé",
         "price": 8.95,
         "_deepnote_index_column": 1981
        },
        {
         "category": "maquillaje_labios",
         "name": "Pintalabios Superstay 24H Maybelline 185 rose dust",
         "price": 8.95,
         "_deepnote_index_column": 1001761
        },
        {
         "category": "azucar_caramelos_y_chocolate_chocolate",
         "name": "Surtido bombones Caja Roja Nestlé",
         "price": 8.95,
         "_deepnote_index_column": 997448
        },
        {
         "category": "platos_preparados_calientes",
         "name": "Perdiz en escabeche Polgri",
         "price": 8.9,
         "_deepnote_index_column": 3106
        },
        {
         "category": "pizzas_y_platos_preparados_platos_preparados_calientes",
         "name": "Perdiz en escabeche Polgri",
         "price": 8.9,
         "_deepnote_index_column": 1002730
        },
        {
         "category": "coloracion_cabello",
         "name": "Mechas Nordic de rubio medio a castaño oscuro M1",
         "price": 8.75,
         "_deepnote_index_column": 5165
        },
        {
         "category": "cuidado_del_cabello_coloracion_cabello",
         "name": "Mechas Nordic de rubio medio a castaño oscuro M1",
         "price": 8.75,
         "_deepnote_index_column": 999727
        },
        {
         "category": "cuidado_facial_y_corporal_cuidado_corporal",
         "name": "Lote corporal mujer Blue Shine",
         "price": 8.5,
         "_deepnote_index_column": 999906
        },
        {
         "category": "panaderia_y_pasteleria_bolleria_de_horno",
         "name": "Surtido frutitas de mazapán Mocadorà",
         "price": 8,
         "_deepnote_index_column": 1002281
        },
        {
         "category": "limpieza_y_hogar_estropajo_bayeta_y_guantes",
         "name": "Guantes vinilo talla pequeña",
         "price": 8,
         "_deepnote_index_column": 1001182
        },
        {
         "category": "estropajo_bayeta_y_guantes",
         "name": "Guantes nitrilo Rubberex talla S o M según disponibilidad",
         "price": 8,
         "_deepnote_index_column": 6133
        },
        {
         "category": "bolleria_de_horno",
         "name": "Surtido frutitas de mazapán Mocadorà",
         "price": 8,
         "_deepnote_index_column": 927239
        },
        {
         "category": "berberechos_y_mejillones",
         "name": "Berberechos al natural gigantes Hacendado",
         "price": 7.95,
         "_deepnote_index_column": 2656
        },
        {
         "category": "conservas_caldos_y_cremas_berberechos_y_mejillones",
         "name": "Berberechos al natural gigantes Hacendado",
         "price": 7.95,
         "_deepnote_index_column": 999354
        },
        {
         "category": "refresco_de_cola",
         "name": "Refresco Coca-Cola",
         "price": 7.56,
         "_deepnote_index_column": 387267
        },
        {
         "category": "neceseres",
         "name": "Neceser Dumbo grande con asa",
         "price": 7.5,
         "_deepnote_index_column": 10255
        },
        {
         "category": "cuidado_facial_y_corporal_neceseres",
         "name": "Neceser Dumbo grande con asa",
         "price": 7.5,
         "_deepnote_index_column": 1000395
        },
        {
         "category": "aves_y_pollo",
         "name": "Foie gras de pato loncheado",
         "price": 7.45,
         "_deepnote_index_column": 438
        },
        {
         "category": "carne_aves_y_pollo",
         "name": "Foie gras de pato loncheado",
         "price": 7.45,
         "_deepnote_index_column": 998254
        },
        {
         "category": "vino_blanco",
         "name": "Vino blanco verdejo D.O Rueda Marqués de Riscal",
         "price": 7.4,
         "_deepnote_index_column": 3953
        },
        {
         "category": "bodega_vino_blanco",
         "name": "Vino blanco verdejo D.O Rueda Marqués de Riscal",
         "price": 7.4,
         "_deepnote_index_column": 997974
        },
        {
         "category": "colorete_y_polvos",
         "name": "Polvo compacto de sol Deliplus",
         "price": 7,
         "_deepnote_index_column": 5290
        },
        {
         "category": "maquillaje_colorete_y_polvos",
         "name": "Polvo compacto de sol Deliplus",
         "price": 7,
         "_deepnote_index_column": 1001720
        },
        {
         "category": "agua_y_refrescos_agua",
         "name": "Agua mineral con gas San Pellegrino grande",
         "price": 6.96,
         "_deepnote_index_column": 996815
        },
        {
         "category": "agua",
         "name": "Agua mineral con gas S.Pellegrino grande",
         "price": 6.96,
         "_deepnote_index_column": 3545
        },
        {
         "category": "agua_y_refrescos_refresco_de_cola",
         "name": "Refresco Coca-Cola",
         "price": 6.96,
         "_deepnote_index_column": 996869
        },
        {
         "category": "acondicionador_y_mascarilla",
         "name": "Sérum Anticaída Men Deliplus",
         "price": 6.95,
         "_deepnote_index_column": 5013
        },
        {
         "category": "cuidado_del_cabello_acondicionador_y_mascarilla",
         "name": "Sérum Anticaída Men Deliplus",
         "price": 6.95,
         "_deepnote_index_column": 999557
        },
        {
         "category": "cuidado_del_cabello_fijacion_cabello",
         "name": "Laca cabello Elnett fijación fuerte",
         "price": 6.9,
         "_deepnote_index_column": 999764
        },
        {
         "category": "fijacion_cabello",
         "name": "Laca cabello Elnett fijación fuerte",
         "price": 6.9,
         "_deepnote_index_column": 5036
        },
        {
         "category": "atun_y_otras_conservas_de_pescado",
         "name": "Atún en aceite de oliva Hacendado",
         "price": 6.75,
         "_deepnote_index_column": 2603
        },
        {
         "category": "carne_cerdo",
         "name": "Solomillo de cerdo ibérico",
         "price": 6.62,
         "_deepnote_index_column": 998357
        },
        {
         "category": "cerdo",
         "name": "Solomillo de cerdo ibérico",
         "price": 6.62,
         "_deepnote_index_column": 419
        },
        {
         "category": "conservas_caldos_y_cremas_atun_y_otras_conservas_de_pescado",
         "name": "Atún en aceite de oliva Hacendado",
         "price": 6.6,
         "_deepnote_index_column": 999301
        },
        {
         "category": "fitoterapia",
         "name": "Natilla sabor yogur con fresa troceada Deliplus sustitutivo",
         "price": 6.5,
         "_deepnote_index_column": 171918
        },
        {
         "category": "cerveza_sin_alcohol",
         "name": "Cerveza 0,0% sin alcohol San Miguel",
         "price": 6.48,
         "_deepnote_index_column": 465553
        },
        {
         "category": "bodega_cerveza_sin_alcohol",
         "name": "Cerveza 0,0% sin alcohol San Miguel",
         "price": 6.48,
         "_deepnote_index_column": 997813
        },
        {
         "category": "charcuteria_y_quesos_pate_y_sobrasada",
         "name": "Foie gras entero de pato Hacendado",
         "price": 6.27,
         "_deepnote_index_column": 998816
        },
        {
         "category": "pate_y_sobrasada",
         "name": "Foie gras entero de pato Hacendado",
         "price": 6.27,
         "_deepnote_index_column": 966
        },
        {
         "category": "pez_y_otros",
         "name": "Gammarus para tortugas Dr. Wu Tetra",
         "price": 6.15,
         "_deepnote_index_column": 5860
        },
        {
         "category": "mascotas_pez_y_otros",
         "name": "Gammarus para tortugas Dr. Wu Tetra",
         "price": 6.15,
         "_deepnote_index_column": 1002244
        },
        {
         "category": "pinceles_y_brochas",
         "name": "Brocha polvos Deliplus",
         "price": 6,
         "_deepnote_index_column": 5441
        },
        {
         "category": "maquillaje_pinceles_y_brochas",
         "name": "Brocha polvos Deliplus",
         "price": 6,
         "_deepnote_index_column": 1001875
        },
        {
         "category": "limpieza_y_hogar_limpieza_vajilla",
         "name": "Lavavajillas frescor anti-olor Somat en gel",
         "price": 5.99,
         "_deepnote_index_column": 1001440
        },
        {
         "category": "limpieza_vajilla",
         "name": "Lavavajillas frescor anti-olor Somat en gel",
         "price": 5.99,
         "_deepnote_index_column": 5966
        },
        {
         "category": "bebe_higiene_y_cuidado",
         "name": "Discos absorbentes lactancia Deliplus",
         "price": 5.95,
         "_deepnote_index_column": 997662
        },
        {
         "category": "fitoterapia_y_parafarmacia_fitoterapia",
         "name": "Sticks depurat Deliplus",
         "price": 5.95,
         "_deepnote_index_column": 1000640
        },
        {
         "category": "cafe_molido_y_en_grano",
         "name": "Café en grano natural Hacendado",
         "price": 5.95,
         "_deepnote_index_column": 1750
        },
        {
         "category": "higiene_y_cuidado",
         "name": "Discos absorbentes lactancia Deliplus",
         "price": 5.95,
         "_deepnote_index_column": 5684
        },
        {
         "category": "cacao_cafe_e_infusiones_cafe_molido_y_en_grano",
         "name": "Café en grano natural Hacendado",
         "price": 5.95,
         "_deepnote_index_column": 998151
        },
        {
         "category": "cafe_soluble_y_otras_bebidas",
         "name": "Café soluble descafeinado Nescafé classic",
         "price": 5.95,
         "_deepnote_index_column": 1763
        },
        {
         "category": "cacao_cafe_e_infusiones_cafe_soluble_y_otras_bebidas",
         "name": "Café soluble descafeinado Nescafé classic",
         "price": 5.95,
         "_deepnote_index_column": 998164
        },
        {
         "category": "arreglos",
         "name": "Arreglo para paella con pollo y conejo",
         "price": 5.65,
         "_deepnote_index_column": 616
        },
        {
         "category": "carne_arreglos",
         "name": "Arreglo para paella con pollo y conejo",
         "price": 5.65,
         "_deepnote_index_column": 998243
        },
        {
         "category": "cuidado_del_cabello_peines_y_accesorios",
         "name": "Cepillo cabello antitirones Minnie Mouse",
         "price": 5.5,
         "_deepnote_index_column": 999792
        },
        {
         "category": "peines_y_accesorios",
         "name": "Cepillo cabello antitirones Deliplus",
         "price": 5.5,
         "_deepnote_index_column": 5190
        },
        {
         "category": "agua_y_refrescos_tonica_y_bitter",
         "name": "Tónica original Schweppes",
         "price": 5.44,
         "_deepnote_index_column": 996948
        },
        {
         "category": "agua_y_refrescos_refresco_de_naranja_y_de_limon",
         "name": "Refresco limón Schweppes original",
         "price": 5.44,
         "_deepnote_index_column": 996922
        },
        {
         "category": "tonica_y_bitter",
         "name": "Tónica original Schweppes",
         "price": 5.44,
         "_deepnote_index_column": 3639
        },
        {
         "category": "refresco_de_naranja_y_de_limon",
         "name": "Refresco limón Schweppes original",
         "price": 5.44,
         "_deepnote_index_column": 3612
        },
        {
         "category": "cereales",
         "name": "Barrita sustitutivo de comida Belladieta sabor avena y chocolate con leche",
         "price": 5.4,
         "_deepnote_index_column": 1592
        },
        {
         "category": "cereales_y_galletas_cereales",
         "name": "Barrita sustitutivo de comida Belladieta sabor avena y chocolate con leche",
         "price": 5.4,
         "_deepnote_index_column": 998529
        },
        {
         "category": "isotonico_y_energetico",
         "name": "Bebida isotónica limón Aquarius",
         "price": 5.36,
         "_deepnote_index_column": 3703
        },
        {
         "category": "vino_rosado",
         "name": "Vino rosado Dominio de Borgia",
         "price": 5.35,
         "_deepnote_index_column": 3978
        },
        {
         "category": "bodega_vino_rosado",
         "name": "Vino rosado Dominio de Borgia",
         "price": 5.35,
         "_deepnote_index_column": 998007
        },
        {
         "category": "hamburguesas_y_picadas",
         "name": "Preparado de carne picada vacuno y cerdo",
         "price": 5.3,
         "_deepnote_index_column": 557
        },
        {
         "category": "carne_hamburguesas_y_picadas",
         "name": "Preparado de carne picada vacuno y cerdo",
         "price": 5.3,
         "_deepnote_index_column": 998415
        },
        {
         "category": "agua_y_refrescos_refresco_de_te_y_sin_gas",
         "name": "Refresco al limón Nestea",
         "price": 5.04,
         "_deepnote_index_column": 996968
        },
        {
         "category": "refresco_de_te_y_sin_gas",
         "name": "Refresco al limón Nestea",
         "price": 5.04,
         "_deepnote_index_column": 3659
        },
        {
         "category": "insecticida_y_ambientador",
         "name": "Difusor ambientdor automático Glade by Brise con recambio",
         "price": 4.99,
         "_deepnote_index_column": 6249
        },
        {
         "category": "limpieza_y_hogar_insecticida_y_ambientador",
         "name": "Difusor ambientdor automático Glade by Brise con recambio",
         "price": 4.99,
         "_deepnote_index_column": 1001245
        },
        {
         "category": "naranja",
         "name": "Zumo de naranja recién exprimido Hacendado",
         "price": 4.99,
         "_deepnote_index_column": 264649
        },
        {
         "category": "empanados_y_elaborados",
         "name": "Filetes de vacuno al ajillo",
         "price": 4.93,
         "_deepnote_index_column": 579
        },
        {
         "category": "carne_empanados_y_elaborados",
         "name": "Filetes de vacuno al ajillo",
         "price": 4.93,
         "_deepnote_index_column": 998458
        },
        {
         "category": "manicura_y_pedicura",
         "name": "Alicate uñas Filarmonica",
         "price": 4.9,
         "_deepnote_index_column": 4686
        },
        {
         "category": "limpieza_cocina",
         "name": "Crema limpiadora vitrocerámicas Vitroclen 3 en 1",
         "price": 4.9,
         "_deepnote_index_column": 5977
        },
        {
         "category": "cuidado_facial_y_corporal_manicura_y_pedicura",
         "name": "Alicate uñas Filarmonica",
         "price": 4.9,
         "_deepnote_index_column": 1000386
        },
        {
         "category": "limpieza_y_hogar_limpieza_cocina",
         "name": "Crema limpiadora vitrocerámicas Vitroclen 3 en 1",
         "price": 4.9,
         "_deepnote_index_column": 1001382
        },
        {
         "category": "menaje_y_conservacion_de_alimentos",
         "name": "Set papel de regalo dorado, rojo y negro Bosque Verde",
         "price": 4.9,
         "_deepnote_index_column": 6349
        },
        {
         "category": "zumos_naranja",
         "name": "Zumo de naranja recién exprimido Hacendado",
         "price": 4.89,
         "_deepnote_index_column": 1002997
        },
        {
         "category": "agua_y_refrescos_isotonico_y_energetico",
         "name": "Bebida isotónica limón Aquarius",
         "price": 4.8,
         "_deepnote_index_column": 996828
        },
        {
         "category": "yogures_liquidos",
         "name": "Bebida láctea natural Actimel",
         "price": 4.79,
         "_deepnote_index_column": 2234
        },
        {
         "category": "postres_y_yogures_yogures_liquidos",
         "name": "Bebida láctea natural Actimel",
         "price": 4.79,
         "_deepnote_index_column": 1002887
        },
        {
         "category": "cuidado_del_cabello_champu",
         "name": "Champú hidratación intensa TRESemmé cabello seco o dañado",
         "price": 4.65,
         "_deepnote_index_column": 999582
        },
        {
         "category": "champu",
         "name": "Champú hidratación intensa TRESemmé cabello seco o dañado",
         "price": 4.65,
         "_deepnote_index_column": 4952
        },
        {
         "category": "aves_y_jamon_cocido",
         "name": "Maxi york Hacendado",
         "price": 4.6,
         "_deepnote_index_column": 679
        },
        {
         "category": "charcuteria_y_quesos_aves_y_jamon_cocido",
         "name": "Maxi york Hacendado",
         "price": 4.6,
         "_deepnote_index_column": 998663
        },
        {
         "category": "especias",
         "name": "Piñones ibéricos Hacendado",
         "price": 4.55,
         "_deepnote_index_column": 2363
        },
        {
         "category": "aceite_especias_y_salsas_especias",
         "name": "Piñones ibéricos Hacendado",
         "price": 4.55,
         "_deepnote_index_column": 996662
        },
        {
         "category": "cafe_capsula_y_monodosis",
         "name": "Café en cápsula espresso Tassimo",
         "price": 4.52,
         "_deepnote_index_column": 1717
        },
        {
         "category": "cacao_cafe_e_infusiones_cafe_capsula_y_monodosis",
         "name": "Café en cápsula espresso Tassimo",
         "price": 4.52,
         "_deepnote_index_column": 998118
        },
        {
         "category": "rebozados",
         "name": "Langostino en su nido Vdfoodltd congelado",
         "price": 4.5,
         "_deepnote_index_column": 849312
        },
        {
         "category": "congelados_rebozados",
         "name": "Langostino en su nido Vdfoodltd congelado",
         "price": 4.5,
         "_deepnote_index_column": 999177
        },
        {
         "category": "mermelada_y_miel",
         "name": "Miel de romero Hacendado",
         "price": 4.19,
         "_deepnote_index_column": 1887
        },
        {
         "category": "azucar_caramelos_y_chocolate_mermelada_y_miel",
         "name": "Miel de romero Hacendado",
         "price": 4.19,
         "_deepnote_index_column": 997517
        },
        {
         "category": "congelados_arroz_y_pasta",
         "name": "Lasaña a la boloñesa Hacendado ultracongelada",
         "price": 4,
         "_deepnote_index_column": 998961
        },
        {
         "category": "arroz_y_pasta",
         "name": "Lasaña a la boloñesa Hacendado ultracongelada",
         "price": 4,
         "_deepnote_index_column": 3229
        },
        {
         "category": "vino_lambrusco_y_espumoso",
         "name": "Vino blanco de aguja espumoso Blanc Pescador",
         "price": 3.99,
         "_deepnote_index_column": 530602
        },
        {
         "category": "bodega_vino_lambrusco_y_espumoso",
         "name": "Vino blanco de aguja espumoso Blanc Pescador",
         "price": 3.99,
         "_deepnote_index_column": 997997
        },
        {
         "category": "aperitivos_frutos_secos_y_fruta_desecada",
         "name": "Nuez Pecana natural Hacendado",
         "price": 3.95,
         "_deepnote_index_column": 997103
        },
        {
         "category": "congelados_helados",
         "name": "Helado vegetal de avena sabor vainilla",
         "price": 3.95,
         "_deepnote_index_column": 999053
        },
        {
         "category": "papel_higienico_y_celulosa",
         "name": "Toallitas dermo higiene corporal Deliplus tamaño gigantes",
         "price": 3.95,
         "_deepnote_index_column": 6161
        },
        {
         "category": "helados",
         "name": "Helado vegetal de avena sabor vainilla",
         "price": 3.95,
         "_deepnote_index_column": 3494
        },
        {
         "category": "frutos_secos_y_fruta_desecada",
         "name": "Nuez Pecana natural Hacendado",
         "price": 3.95,
         "_deepnote_index_column": 2920
        },
        {
         "category": "postres_y_yogures_bifidus",
         "name": "Bífidus natural edulcorado Activia 0% materia grasa",
         "price": 3.89,
         "_deepnote_index_column": 1002778
        },
        {
         "category": "bifidus",
         "name": "Bífidus natural edulcorado Activia 0% materia grasa",
         "price": 3.89,
         "_deepnote_index_column": 2174
        },
        {
         "category": "charcuteria_y_quesos_queso_lonchas_rallado_y_en_porciones",
         "name": "Raclette queso Entremont lonchas",
         "price": 3.85,
         "_deepnote_index_column": 998888
        },
        {
         "category": "queso_lonchas_rallado_y_en_porciones",
         "name": "Raclette queso Entremont lonchas",
         "price": 3.85,
         "_deepnote_index_column": 926
        },
        {
         "category": "limpieza_y_hogar_papel_higienico_y_celulosa",
         "name": "Papel higiénico doble rollo Bosque Verde",
         "price": 3.82,
         "_deepnote_index_column": 1001515
        },
        {
         "category": "bolleria_envasada",
         "name": "Bizcocho de chocolate sin gluten Hacendado",
         "price": 3.8,
         "_deepnote_index_column": 1209
        },
        {
         "category": "conservas_de_verdura_y_frutas",
         "name": "Espárragos blancos extra gruesos Cidacos",
         "price": 3.8,
         "_deepnote_index_column": 2696
        },
        {
         "category": "conservas_caldos_y_cremas_conservas_de_verdura_y_frutas",
         "name": "Espárragos blancos extra gruesos Cidacos",
         "price": 3.8,
         "_deepnote_index_column": 999375
        },
        {
         "category": "aperitivos_aceitunas_y_encurtidos",
         "name": "Aceitunas con salsa mojo picón Iruela sin hueso",
         "price": 3.75,
         "_deepnote_index_column": 997032
        },
        {
         "category": "aceitunas_y_encurtidos",
         "name": "Aceitunas con salsa mojo picón Iruela sin hueso",
         "price": 3.75,
         "_deepnote_index_column": 2970
        },
        {
         "category": "azucar_caramelos_y_chocolate_golosinas",
         "name": "Tarta de golosinas Xuxes party Hacendado",
         "price": 3.75,
         "_deepnote_index_column": 997488
        },
        {
         "category": "golosinas",
         "name": "Tarta de golosinas Xuxes party Hacendado",
         "price": 3.75,
         "_deepnote_index_column": 2052
        },
        {
         "category": "cuidado_facial_y_corporal_desodorante",
         "name": "Desodorante hombre dark temptation Axe",
         "price": 3.6,
         "_deepnote_index_column": 1000094
        },
        {
         "category": "desodorante",
         "name": "Desodorante hombre dark temptation Axe",
         "price": 3.6,
         "_deepnote_index_column": 4364
        },
        {
         "category": "pizzas_y_platos_preparados_pizzas",
         "name": "Bases de pizza sin gluten sin lactosa Hacendado ultracongeladas",
         "price": 3.5,
         "_deepnote_index_column": 1002657
        },
        {
         "category": "pizzas",
         "name": "Bases de pizza sin gluten sin lactosa Hacendado ultracongeladas",
         "price": 3.5,
         "_deepnote_index_column": 3037
        },
        {
         "category": "congelados_pizzas",
         "name": "Bases de pizza sin gluten sin lactosa Hacendado ultracongeladas",
         "price": 3.5,
         "_deepnote_index_column": 999160
        },
        {
         "category": "gel_y_jabon_de_manos",
         "name": "Gel de baño dermoprotector Sanex piel normal",
         "price": 3.49,
         "_deepnote_index_column": 4286
        },
        {
         "category": "cuidado_facial_y_corporal_gel_y_jabon_de_manos",
         "name": "Gel de baño dermoprotector Sanex piel normal",
         "price": 3.49,
         "_deepnote_index_column": 1000130
        },
        {
         "category": "azucar_caramelos_y_chocolate_azucar_y_edulcorante",
         "name": "Fructosa Hacendado",
         "price": 3.45,
         "_deepnote_index_column": 997328
        },
        {
         "category": "azucar_y_edulcorante",
         "name": "Fructosa Hacendado",
         "price": 3.45,
         "_deepnote_index_column": 1864
        },
        {
         "category": "charcuteria_y_quesos_queso_untable_y_fresco",
         "name": "Fondue savoyarde 3 quesos Entremont",
         "price": 3.35,
         "_deepnote_index_column": 998916
        },
        {
         "category": "queso_untable_y_fresco",
         "name": "Fondue savoyarde 3 quesos Entremont",
         "price": 3.35,
         "_deepnote_index_column": 823
        },
        {
         "category": "limpieza_muebles_y_multiusos",
         "name": "Abrillantador muebles con aceites nutrientes Bosque Verde",
         "price": 3.3,
         "_deepnote_index_column": 6018
        },
        {
         "category": "limpieza_y_hogar_limpieza_muebles_y_multiusos",
         "name": "Abrillantador muebles con aceites nutrientes Bosque Verde",
         "price": 3.3,
         "_deepnote_index_column": 1001399
        },
        {
         "category": "otras_salsas",
         "name": "Guacamole Hacendado",
         "price": 3.29,
         "_deepnote_index_column": 2459
        },
        {
         "category": "aceite_especias_y_salsas_otras_salsas",
         "name": "Guacamole Hacendado",
         "price": 3.29,
         "_deepnote_index_column": 996757
        },
        {
         "category": "hielo",
         "name": "Cubos de hielo",
         "price": 3.25,
         "_deepnote_index_column": 3504
        },
        {
         "category": "congelados_hielo",
         "name": "Cubos de hielo",
         "price": 3.25,
         "_deepnote_index_column": 999063
        },
        {
         "category": "limpiacristales",
         "name": "Limpiador cristales de chimenea Bosque Verde",
         "price": 3.2,
         "_deepnote_index_column": 6102
        },
        {
         "category": "limpieza_y_hogar_limpiacristales",
         "name": "Limpiador cristales de chimenea Bosque Verde",
         "price": 3.2,
         "_deepnote_index_column": 1001326
        },
        {
         "category": "carne_embutido",
         "name": "Butifarra fresca",
         "price": 3.16,
         "_deepnote_index_column": 998393
        },
        {
         "category": "embutido",
         "name": "Butifarra fresca",
         "price": 3.16,
         "_deepnote_index_column": 535
        },
        {
         "category": "platos_preparados_frios",
         "name": "Ensaladilla rusa Hacendado",
         "price": 3,
         "_deepnote_index_column": 3127
        },
        {
         "category": "galletas",
         "name": "Galletas Príncipe con crema de chocolate",
         "price": 3,
         "_deepnote_index_column": 1641
        },
        {
         "category": "cereales_y_galletas_galletas",
         "name": "Galletas Príncipe con crema de chocolate",
         "price": 3,
         "_deepnote_index_column": 998570
        },
        {
         "category": "limpiahogar_y_friegasuelos",
         "name": "Cera suelos Bosque Verde parquet y laminados",
         "price": 2.99,
         "_deepnote_index_column": 6048
        },
        {
         "category": "limpieza_bano_y_wc",
         "name": "Limpiador cal y suciedad Cillit Bang",
         "price": 2.99,
         "_deepnote_index_column": 6004
        },
        {
         "category": "limpieza_y_hogar_limpiahogar_y_friegasuelos",
         "name": "Cera suelos Bosque Verde parquet y laminados",
         "price": 2.99,
         "_deepnote_index_column": 1001338
        },
        {
         "category": "limpieza_y_hogar_limpieza_bano_y_wc",
         "name": "Limpiador cal y suciedad Cillit Bang",
         "price": 2.99,
         "_deepnote_index_column": 1001368
        },
        {
         "category": "charcuteria_y_quesos_bacon_y_salchichas",
         "name": "Salchichas cocidas Vegana Hacendado",
         "price": 2.95,
         "_deepnote_index_column": 998688
        },
        {
         "category": "congelados_verdura",
         "name": "Habitas muy tiernas Hacendado ultracongeladas",
         "price": 2.95,
         "_deepnote_index_column": 999249
        },
        {
         "category": "bacon_y_salchichas",
         "name": "Salchichas cocidas Vegana Hacendado",
         "price": 2.95,
         "_deepnote_index_column": 806
        },
        {
         "category": "panaderia_y_pasteleria_bolleria_envasada",
         "name": "Bizcocho sin gluten de limón Hacendado",
         "price": 2.9,
         "_deepnote_index_column": 1002336
        },
        {
         "category": "limpieza_y_hogar_menaje_y_conservacion_de_alimentos",
         "name": "Papel de aluminio Bosque Verde",
         "price": 2.9,
         "_deepnote_index_column": 1001457
        },
        {
         "category": "gazpacho_y_cremas",
         "name": "Gazpacho blanco de almendras Hacendado con ajo blanco",
         "price": 2.85,
         "_deepnote_index_column": 2802
        },
        {
         "category": "arroz_legumbres_y_pasta_pasta_y_fideos",
         "name": "Fideos orientales Yatekomo de pollo Gallina Blanca",
         "price": 2.85,
         "_deepnote_index_column": 997299
        },
        {
         "category": "pasta_y_fideos",
         "name": "Fideos orientales Yatekomo de pollo Gallina Blanca",
         "price": 2.85,
         "_deepnote_index_column": 2559
        },
        {
         "category": "conservas_caldos_y_cremas_gazpacho_y_cremas",
         "name": "Salmorejo fresco Hacendado",
         "price": 2.8,
         "_deepnote_index_column": 999449
        },
        {
         "category": "pizzas_y_platos_preparados_platos_preparados_frios",
         "name": "Salmorejo fresco Hacendado",
         "price": 2.8,
         "_deepnote_index_column": 1002744
        },
        {
         "category": "arroz_legumbres_y_pasta_arroz",
         "name": "Quinoa Hacendado",
         "price": 2.79,
         "_deepnote_index_column": 997202
        },
        {
         "category": "arroz",
         "name": "Quinoa Hacendado",
         "price": 2.79,
         "_deepnote_index_column": 2490
        },
        {
         "category": "postres_y_yogures_flan_y_natillas",
         "name": "Natillas de vainilla Danet",
         "price": 2.78,
         "_deepnote_index_column": 1002795
        },
        {
         "category": "yogures_naturales_y_sabores",
         "name": "Yogur sabores Danone",
         "price": 2.78,
         "_deepnote_index_column": 2157
        },
        {
         "category": "flan_y_natillas",
         "name": "Natillas de vainilla Danet",
         "price": 2.78,
         "_deepnote_index_column": 2270
        },
        {
         "category": "postres_y_yogures_yogures_naturales_y_sabores",
         "name": "Yogur sabores Danone",
         "price": 2.78,
         "_deepnote_index_column": 1002927
        },
        {
         "category": "cacao_cafe_e_infusiones_te_e_infusiones",
         "name": "Té matcha en polvo Hacendado",
         "price": 2.75,
         "_deepnote_index_column": 998192
        },
        {
         "category": "te_e_infusiones",
         "name": "Té matcha en polvo Hacendado",
         "price": 2.75,
         "_deepnote_index_column": 1811
        },
        {
         "category": "zumos_fruta_variada",
         "name": "Zumo fresh maracuyá & chía Hacendado",
         "price": 2.75,
         "_deepnote_index_column": 1002974
        },
        {
         "category": "fruta_variada",
         "name": "Zumo fresh maracuyá & chía Hacendado",
         "price": 2.75,
         "_deepnote_index_column": 2092
        },
        {
         "category": "sopa_y_caldo",
         "name": "Caldo de pollo Avecrem en pastillas",
         "price": 2.7,
         "_deepnote_index_column": 2785
        },
        {
         "category": "conservas_caldos_y_cremas_sopa_y_caldo",
         "name": "Caldo de pollo Avecrem en pastillas",
         "price": 2.7,
         "_deepnote_index_column": 999492
        },
        {
         "category": "panaderia_y_pasteleria_pan_de_molde_y_otras_especialidades",
         "name": "Pan de molde sin gluten multicereales Beiker",
         "price": 2.65,
         "_deepnote_index_column": 1002476
        },
        {
         "category": "pan_de_molde_y_otras_especialidades",
         "name": "Pan de molde sin gluten multicereales Beiker",
         "price": 2.65,
         "_deepnote_index_column": 1038
        },
        {
         "category": "bodega_tinto_de_verano_y_sangria",
         "name": "Tinto de verano sabor limón Casón Histórico",
         "price": 2.64,
         "_deepnote_index_column": 997949
        },
        {
         "category": "tinto_de_verano_y_sangria",
         "name": "Tinto de verano sabor limón Casón Histórico",
         "price": 2.64,
         "_deepnote_index_column": 3866
        },
        {
         "category": "fruta_y_verdura_lechuga_y_ensalada_preparada",
         "name": "Wraps Texas",
         "price": 2.6,
         "_deepnote_index_column": 1000779
        },
        {
         "category": "lechuga_y_ensalada_preparada",
         "name": "Wraps Texas",
         "price": 2.6,
         "_deepnote_index_column": 76
        },
        {
         "category": "arroz_legumbres_y_pasta_legumbres",
         "name": "Garbanzo lechoso Hacendado",
         "price": 2.54,
         "_deepnote_index_column": 997213
        },
        {
         "category": "legumbres",
         "name": "Garbanzo lechoso Hacendado",
         "price": 2.54,
         "_deepnote_index_column": 2576
        },
        {
         "category": "postres_y_yogures_gelatina_y_otros_postres",
         "name": "Yogur azucarado YogoMix Hacendado variado de copos maíz, bolitas y disquitos chocolateados",
         "price": 2.52,
         "_deepnote_index_column": 1002810
        },
        {
         "category": "gelatina_y_otros_postres",
         "name": "Yogur azucarado YogoMix Hacendado variado de copos maíz, bolitas y disquitos chocolateados",
         "price": 2.52,
         "_deepnote_index_column": 2284
        },
        {
         "category": "harina_y_preparado_reposteria",
         "name": "Base de tarta Hacendado",
         "price": 2.5,
         "_deepnote_index_column": 1301
        },
        {
         "category": "panaderia_y_pasteleria_harina_y_preparado_reposteria",
         "name": "Base de tarta Hacendado",
         "price": 2.5,
         "_deepnote_index_column": 1002387
        },
        {
         "category": "postres_de_soja",
         "name": "Postre de soja Savia Danone natural edulcorado",
         "price": 2.49,
         "_deepnote_index_column": 2185
        },
        {
         "category": "mantequilla_y_margarina",
         "name": "Margarina original Flora",
         "price": 2.49,
         "_deepnote_index_column": 1514
        },
        {
         "category": "postres_y_yogures_postres_de_soja",
         "name": "Postre de soja Savia Danone natural edulcorado",
         "price": 2.49,
         "_deepnote_index_column": 1002829
        },
        {
         "category": "huevos_leche_y_mantequilla_mantequilla_y_margarina",
         "name": "Margarina original Flora",
         "price": 2.49,
         "_deepnote_index_column": 1001056
        },
        {
         "category": "charcuteria_y_quesos_chopped_y_mortadela",
         "name": "Mortadela veggie con aceitunas Noel",
         "price": 2.49,
         "_deepnote_index_column": 998699
        },
        {
         "category": "chopped_y_mortadela",
         "name": "Mortadela veggie con aceitunas Noel",
         "price": 2.49,
         "_deepnote_index_column": 690
        },
        {
         "category": "mayonesa_ketchup_y_mostaza",
         "name": "Ketchup Heinz",
         "price": 2.45,
         "_deepnote_index_column": 2412
        },
        {
         "category": "aceite_especias_y_salsas_mayonesa_ketchup_y_mostaza",
         "name": "Ketchup Heinz",
         "price": 2.45,
         "_deepnote_index_column": 996711
        },
        {
         "category": "huevos",
         "name": "Huevos medianos M",
         "price": 2.42,
         "_deepnote_index_column": 1533
        },
        {
         "category": "huevos_leche_y_mantequilla_huevos",
         "name": "Huevos medianos M",
         "price": 2.42,
         "_deepnote_index_column": 1000889
        },
        {
         "category": "panaderia_y_pasteleria_pan_tostado_y_rallado",
         "name": "Pan tostado vitalité Wasa",
         "price": 2.3,
         "_deepnote_index_column": 1002521
        },
        {
         "category": "yogures_desnatados",
         "name": "Yogur con fruta Hacendado 0% materia grasa 0% sin azúcares añadidos",
         "price": 2.3,
         "_deepnote_index_column": 2118
        },
        {
         "category": "postres_y_yogures_yogures_desnatados",
         "name": "Yogur con fruta Hacendado 0% materia grasa 0% sin azúcares añadidos",
         "price": 2.3,
         "_deepnote_index_column": 1002839
        },
        {
         "category": "pan_tostado_y_rallado",
         "name": "Pan tostado vitalité Wasa",
         "price": 2.3,
         "_deepnote_index_column": 1084
        },
        {
         "category": "yogures_y_postres_infantiles",
         "name": "Postre lácteo infantil sabor natural Yogolino +6 meses",
         "price": 2.25,
         "_deepnote_index_column": 2204
        },
        {
         "category": "chicles_y_caramelos",
         "name": "Chicle menta fresca gragea Hacendado",
         "price": 2.25,
         "_deepnote_index_column": 1997
        },
        {
         "category": "panaderia_y_pasteleria_velas_y_decoracion",
         "name": "Colorante alimentario 4 colores en gel Hacendado",
         "price": 2.25,
         "_deepnote_index_column": 1002617
        },
        {
         "category": "velas_y_decoracion",
         "name": "Colorante alimentario 4 colores en gel Hacendado",
         "price": 2.25,
         "_deepnote_index_column": 1349
        },
        {
         "category": "azucar_caramelos_y_chocolate_chicles_y_caramelos",
         "name": "Chicle menta fresca gragea Hacendado",
         "price": 2.25,
         "_deepnote_index_column": 997329
        },
        {
         "category": "postres_y_yogures_yogures_y_postres_infantiles",
         "name": "Yogur líquido infantil de fresa y plátano Go-Lácteo +8 meses",
         "price": 2.2,
         "_deepnote_index_column": 1002940
        },
        {
         "category": "postres_y_yogures_yogures_griegos",
         "name": "Yogur griego natural Hacendado con azúcar de caña",
         "price": 2.2,
         "_deepnote_index_column": 1002862
        },
        {
         "category": "yogures_griegos",
         "name": "Yogur griego natural Hacendado con azúcar de caña",
         "price": 2.2,
         "_deepnote_index_column": 2258
        },
        {
         "category": "conservas_caldos_y_cremas_tomate",
         "name": "Tomate seco en aceite",
         "price": 2,
         "_deepnote_index_column": 999517
        },
        {
         "category": "tomate",
         "name": "Tomate seco en aceite",
         "price": 2,
         "_deepnote_index_column": 2690
        },
        {
         "category": "zumos_tomate_y_otros_sabores",
         "name": "Zumo de tomate Bonnysa",
         "price": 1.99,
         "_deepnote_index_column": 1003009
        },
        {
         "category": "tomate_y_otros_sabores",
         "name": "Zumo de tomate Bonnysa",
         "price": 1.99,
         "_deepnote_index_column": 2058
        },
        {
         "category": "zumos_melocoton_y_pina",
         "name": "Zumo de piña selección Hacendado",
         "price": 1.94,
         "_deepnote_index_column": 1002991
        },
        {
         "category": "melocoton_y_pina",
         "name": "Zumo de piña selección Hacendado",
         "price": 1.94,
         "_deepnote_index_column": 2109
        },
        {
         "category": "pan_de_horno",
         "name": "Pan campeón del mundo",
         "price": 1.89,
         "_deepnote_index_column": 990
        },
        {
         "category": "panaderia_y_pasteleria_pan_de_horno",
         "name": "Pan campeón del mundo",
         "price": 1.89,
         "_deepnote_index_column": 1002428
        },
        {
         "category": "patatas_fritas_y_snacks",
         "name": "Pringles original",
         "price": 1.87,
         "_deepnote_index_column": 2832
        },
        {
         "category": "aperitivos_patatas_fritas_y_snacks",
         "name": "Pringles original",
         "price": 1.87,
         "_deepnote_index_column": 997143
        },
        {
         "category": "picos_rosquilletas_y_picatostes",
         "name": "Picos sin gluten Nurture",
         "price": 1.6,
         "_deepnote_index_column": 1107
        },
        {
         "category": "tortitas",
         "name": "Tortitas de arroz con chocolate Hacendado",
         "price": 1.55,
         "_deepnote_index_column": 1602
        },
        {
         "category": "cereales_y_galletas_tortitas",
         "name": "Tortitas de arroz con chocolate Hacendado",
         "price": 1.55,
         "_deepnote_index_column": 998616
        },
        {
         "category": "panaderia_y_pasteleria_picos_rosquilletas_y_picatostes",
         "name": "Grissini palitos de pan Hacendado",
         "price": 1.5,
         "_deepnote_index_column": 1002543
        }
       ],
       "rows_bottom": null
      },
      "text/plain": "                                                  category  \\\n237                                                marisco   \n999072                                  congelados_marisco   \n1001895                          marisco_y_pescado_marisco   \n193                                         pescado_fresco   \n1002035                   marisco_y_pescado_pescado_fresco   \n...                                                    ...   \n997143                  aperitivos_patatas_fritas_y_snacks   \n1107                       picos_rosquilletas_y_picatostes   \n1602                                              tortitas   \n998616                        cereales_y_galletas_tortitas   \n1002543  panaderia_y_pasteleria_picos_rosquilletas_y_pi...   \n\n                                              name    price  \n237                     Alistado mediano congelado  2470.05  \n999072                  Alistado mediano congelado  2470.05  \n1001895                 Alistado mediano congelado  2470.05  \n193                                       Morralla   688.05  \n1002035                                   Morralla   688.05  \n...                                            ...      ...  \n997143                           Pringles original     1.87  \n1107                      Picos sin gluten Nurture     1.60  \n1602     Tortitas de arroz con chocolate Hacendado     1.55  \n998616   Tortitas de arroz con chocolate Hacendado     1.55  \n1002543          Grissini palitos de pan Hacendado     1.50  \n\n[305 rows x 3 columns]",
      "text/html": "<div>\n<style scoped>\n    .dataframe tbody tr th:only-of-type {\n        vertical-align: middle;\n    }\n\n    .dataframe tbody tr th {\n        vertical-align: top;\n    }\n\n    .dataframe thead th {\n        text-align: right;\n    }\n</style>\n<table border=\"1\" class=\"dataframe\">\n  <thead>\n    <tr style=\"text-align: right;\">\n      <th></th>\n      <th>category</th>\n      <th>name</th>\n      <th>price</th>\n    </tr>\n  </thead>\n  <tbody>\n    <tr>\n      <th>237</th>\n      <td>marisco</td>\n      <td>Alistado mediano congelado</td>\n      <td>2470.05</td>\n    </tr>\n    <tr>\n      <th>999072</th>\n      <td>congelados_marisco</td>\n      <td>Alistado mediano congelado</td>\n      <td>2470.05</td>\n    </tr>\n    <tr>\n      <th>1001895</th>\n      <td>marisco_y_pescado_marisco</td>\n      <td>Alistado mediano congelado</td>\n      <td>2470.05</td>\n    </tr>\n    <tr>\n      <th>193</th>\n      <td>pescado_fresco</td>\n      <td>Morralla</td>\n      <td>688.05</td>\n    </tr>\n    <tr>\n      <th>1002035</th>\n      <td>marisco_y_pescado_pescado_fresco</td>\n      <td>Morralla</td>\n      <td>688.05</td>\n    </tr>\n    <tr>\n      <th>...</th>\n      <td>...</td>\n      <td>...</td>\n      <td>...</td>\n    </tr>\n    <tr>\n      <th>997143</th>\n      <td>aperitivos_patatas_fritas_y_snacks</td>\n      <td>Pringles original</td>\n      <td>1.87</td>\n    </tr>\n    <tr>\n      <th>1107</th>\n      <td>picos_rosquilletas_y_picatostes</td>\n      <td>Picos sin gluten Nurture</td>\n      <td>1.60</td>\n    </tr>\n    <tr>\n      <th>1602</th>\n      <td>tortitas</td>\n      <td>Tortitas de arroz con chocolate Hacendado</td>\n      <td>1.55</td>\n    </tr>\n    <tr>\n      <th>998616</th>\n      <td>cereales_y_galletas_tortitas</td>\n      <td>Tortitas de arroz con chocolate Hacendado</td>\n      <td>1.55</td>\n    </tr>\n    <tr>\n      <th>1002543</th>\n      <td>panaderia_y_pasteleria_picos_rosquilletas_y_pi...</td>\n      <td>Grissini palitos de pan Hacendado</td>\n      <td>1.50</td>\n    </tr>\n  </tbody>\n</table>\n<p>305 rows × 3 columns</p>\n</div>"
     },
     "metadata": {}
    }
   ],
   "execution_count": null
  },
  {
   "cell_type": "markdown",
   "source": "### ¿How much have changed the total of units over the weeks of the dataset?",
   "metadata": {
    "id": "X-inKaJxxDc0",
    "cell_id": "00028-f42e11d6-b6f0-4561-b3fb-d9df8101f7fc",
    "deepnote_cell_type": "markdown"
   }
  },
  {
   "cell_type": "code",
   "metadata": {
    "tags": [],
    "cell_id": "00023-bf7913b6-6066-4dda-9cd7-a02f8324628e",
    "deepnote_to_be_reexecuted": false,
    "source_hash": "efe720d8",
    "execution_start": 1630094716719,
    "execution_millis": 1745,
    "deepnote_cell_type": "code"
   },
   "source": "mercadona_prices = load_data()",
   "outputs": [],
   "execution_count": null
  },
  {
   "cell_type": "code",
   "metadata": {
    "colab": {
     "base_uri": "https://localhost:8080/",
     "height": 0
    },
    "id": "OD0ZVv3bvo8G",
    "executionInfo": {
     "status": "ok",
     "timestamp": 1625412595529,
     "user_tz": 240,
     "elapsed": 135,
     "user": {
      "displayName": "Andrés Sánchez",
      "photoUrl": "https://lh3.googleusercontent.com/a-/AOh14Gg69bZMv30ckb-T1MJy0nSxWIHUaP0p2uP6MYBuvQ=s64",
      "userId": "07985253921366566280"
     }
    },
    "outputId": "3b303bb8-ff7a-4a35-c44e-0f33f6fef7f8",
    "cell_id": "00029-00adb32d-c905-491f-a70c-0bbf0a1005da",
    "deepnote_to_be_reexecuted": false,
    "source_hash": "e177809d",
    "execution_start": 1630094718472,
    "execution_millis": 209,
    "deepnote_cell_type": "code"
   },
   "source": "unit_per_week = mercadona_prices.set_index('insert_date')['units'].resample('1W').sum()\nunit_per_week = pd.DataFrame(unit_per_week)\nunit_per_week",
   "outputs": [
    {
     "output_type": "execute_result",
     "execution_count": 13,
     "data": {
      "application/vnd.deepnote.dataframe.v2+json": {
       "row_count": 12,
       "column_count": 1,
       "columns": [
        {
         "name": "units",
         "dtype": "Float64",
         "stats": {
          "unique_count": 12,
          "nan_count": 0,
          "categories": [
           {
            "name": "164284.05936860567",
            "count": 1
           },
           {
            "name": "251876.52998316297",
            "count": 1
           },
           {
            "name": "10 others",
            "count": 10
           }
          ]
         }
        },
        {
         "name": "_deepnote_index_column",
         "dtype": "datetime64[ns]"
        }
       ],
       "rows_top": [
        {
         "units": 164284.05936860567,
         "_deepnote_index_column": "2020-07-26T00:00:00.000000"
        },
        {
         "units": 251876.52998316297,
         "_deepnote_index_column": "2020-08-02T00:00:00.000000"
        },
        {
         "units": 251623.06785741876,
         "_deepnote_index_column": "2020-08-09T00:00:00.000000"
        },
        {
         "units": 248292.16134505253,
         "_deepnote_index_column": "2020-08-16T00:00:00.000000"
        },
        {
         "units": 250481.11069904768,
         "_deepnote_index_column": "2020-08-23T00:00:00.000000"
        },
        {
         "units": 253992.47912589996,
         "_deepnote_index_column": "2020-08-30T00:00:00.000000"
        },
        {
         "units": 258783.43593245404,
         "_deepnote_index_column": "2020-09-06T00:00:00.000000"
        },
        {
         "units": 259762.4256114751,
         "_deepnote_index_column": "2020-09-13T00:00:00.000000"
        },
        {
         "units": 263984.61314121546,
         "_deepnote_index_column": "2020-09-20T00:00:00.000000"
        },
        {
         "units": 269477.1451727728,
         "_deepnote_index_column": "2020-09-27T00:00:00.000000"
        },
        {
         "units": 247574.81144565772,
         "_deepnote_index_column": "2020-10-04T00:00:00.000000"
        },
        {
         "units": 106312.39739290086,
         "_deepnote_index_column": "2020-10-11T00:00:00.000000"
        }
       ],
       "rows_bottom": null
      },
      "text/plain": "                     units\ninsert_date               \n2020-07-26   164284.059369\n2020-08-02   251876.529983\n2020-08-09   251623.067857\n2020-08-16   248292.161345\n2020-08-23   250481.110699\n2020-08-30   253992.479126\n2020-09-06   258783.435932\n2020-09-13   259762.425611\n2020-09-20   263984.613141\n2020-09-27   269477.145173\n2020-10-04   247574.811446\n2020-10-11   106312.397393",
      "text/html": "<div>\n<style scoped>\n    .dataframe tbody tr th:only-of-type {\n        vertical-align: middle;\n    }\n\n    .dataframe tbody tr th {\n        vertical-align: top;\n    }\n\n    .dataframe thead th {\n        text-align: right;\n    }\n</style>\n<table border=\"1\" class=\"dataframe\">\n  <thead>\n    <tr style=\"text-align: right;\">\n      <th></th>\n      <th>units</th>\n    </tr>\n    <tr>\n      <th>insert_date</th>\n      <th></th>\n    </tr>\n  </thead>\n  <tbody>\n    <tr>\n      <th>2020-07-26</th>\n      <td>164284.059369</td>\n    </tr>\n    <tr>\n      <th>2020-08-02</th>\n      <td>251876.529983</td>\n    </tr>\n    <tr>\n      <th>2020-08-09</th>\n      <td>251623.067857</td>\n    </tr>\n    <tr>\n      <th>2020-08-16</th>\n      <td>248292.161345</td>\n    </tr>\n    <tr>\n      <th>2020-08-23</th>\n      <td>250481.110699</td>\n    </tr>\n    <tr>\n      <th>2020-08-30</th>\n      <td>253992.479126</td>\n    </tr>\n    <tr>\n      <th>2020-09-06</th>\n      <td>258783.435932</td>\n    </tr>\n    <tr>\n      <th>2020-09-13</th>\n      <td>259762.425611</td>\n    </tr>\n    <tr>\n      <th>2020-09-20</th>\n      <td>263984.613141</td>\n    </tr>\n    <tr>\n      <th>2020-09-27</th>\n      <td>269477.145173</td>\n    </tr>\n    <tr>\n      <th>2020-10-04</th>\n      <td>247574.811446</td>\n    </tr>\n    <tr>\n      <th>2020-10-11</th>\n      <td>106312.397393</td>\n    </tr>\n  </tbody>\n</table>\n</div>"
     },
     "metadata": {}
    }
   ],
   "execution_count": null
  },
  {
   "cell_type": "code",
   "metadata": {
    "colab": {
     "base_uri": "https://localhost:8080/",
     "height": 0
    },
    "id": "lnMeFBn-xcWb",
    "executionInfo": {
     "status": "ok",
     "timestamp": 1625412595902,
     "user_tz": 240,
     "elapsed": 376,
     "user": {
      "displayName": "Andrés Sánchez",
      "photoUrl": "https://lh3.googleusercontent.com/a-/AOh14Gg69bZMv30ckb-T1MJy0nSxWIHUaP0p2uP6MYBuvQ=s64",
      "userId": "07985253921366566280"
     }
    },
    "outputId": "04101c3f-a2db-4fba-d614-e6b3a92f6ff3",
    "cell_id": "00030-b9187875-f654-4484-aa0a-ed27f10f6540",
    "deepnote_to_be_reexecuted": false,
    "source_hash": "6f0a6999",
    "execution_start": 1630094718676,
    "execution_millis": 248,
    "deepnote_cell_type": "code"
   },
   "source": "fig, ax = plt.subplots(figsize = (15, 5))\nax.bar(unit_per_week.index, unit_per_week.units, 4)\nplt.gca().xaxis.set_major_formatter(mdates.DateFormatter('%W/%y'))\nplt.gca().xaxis.set_major_locator(mdates.WeekdayLocator(interval=1))\nplt.xlabel('Week-Date')\nplt.ylabel('Total of Units')\nplt.title('Total of Units by Week')",
   "outputs": [
    {
     "output_type": "execute_result",
     "execution_count": 14,
     "data": {
      "text/plain": "Text(0.5, 1.0, 'Total of Units by Week')"
     },
     "metadata": {}
    },
    {
     "data": {
      "text/plain": "<Figure size 1080x360 with 1 Axes>",
      "image/png": "[encoded data removed]"
     },
     "metadata": {
      "needs_background": "light",
      "image/png": {
       "width": 910,
       "height": 333
      }
     },
     "output_type": "display_data"
    }
   ],
   "execution_count": null
  },
  {
   "cell_type": "code",
   "metadata": {
    "id": "IHEEXeeIy8Ye",
    "executionInfo": {
     "status": "ok",
     "timestamp": 1625412595903,
     "user_tz": 240,
     "elapsed": 2,
     "user": {
      "displayName": "Andrés Sánchez",
      "photoUrl": "https://lh3.googleusercontent.com/a-/AOh14Gg69bZMv30ckb-T1MJy0nSxWIHUaP0p2uP6MYBuvQ=s64",
      "userId": "07985253921366566280"
     }
    },
    "cell_id": "00031-3a856a2f-3829-4bf8-bd63-077caa94ae2c",
    "deepnote_to_be_reexecuted": false,
    "source_hash": "eecb9f50",
    "execution_start": 1630094718928,
    "execution_millis": 2,
    "deepnote_cell_type": "code"
   },
   "source": "# It seems to be very stable.",
   "outputs": [],
   "execution_count": null
  },
  {
   "cell_type": "markdown",
   "source": "### ¿Which is the mean price by category on each week (ignore any category with a nan)?",
   "metadata": {
    "id": "m8gBhYKEI1UJ",
    "cell_id": "00032-7ec062c3-850b-4578-961b-377c2e090efb",
    "deepnote_cell_type": "markdown"
   }
  },
  {
   "cell_type": "code",
   "metadata": {
    "colab": {
     "base_uri": "https://localhost:8080/",
     "height": 0
    },
    "id": "Lv4W2gROI_nM",
    "executionInfo": {
     "status": "ok",
     "timestamp": 1625412596492,
     "user_tz": 240,
     "elapsed": 591,
     "user": {
      "displayName": "Andrés Sánchez",
      "photoUrl": "https://lh3.googleusercontent.com/a-/AOh14Gg69bZMv30ckb-T1MJy0nSxWIHUaP0p2uP6MYBuvQ=s64",
      "userId": "07985253921366566280"
     }
    },
    "outputId": "b7278f19-1ed8-4dea-a385-e86f7636257a",
    "cell_id": "00033-29385ebf-246c-4b7c-b697-39551662531b",
    "deepnote_to_be_reexecuted": false,
    "source_hash": "1980af08",
    "execution_start": 1630094718933,
    "execution_millis": 534,
    "deepnote_cell_type": "code"
   },
   "source": "price_per_week = mercadona_prices.groupby(['category', pd.Grouper(key = 'insert_date', freq = '1W')])['price'].mean()\nprice_per_week = pd.DataFrame(price_per_week).reset_index()\nprice_per_week['insert_date'] = price_per_week['insert_date'].dt.strftime('%W/%y')\npd.pivot_table(data = price_per_week, values = 'price', index = 'category', columns = 'insert_date',aggfunc = 'mean').sort_values(by = '40/20', ascending = False).dropna()",
   "outputs": [
    {
     "output_type": "execute_result",
     "execution_count": 16,
     "data": {
      "application/vnd.deepnote.dataframe.v2+json": {
       "row_count": 150,
       "column_count": 12,
       "columns": [
        {
         "name": "29/20",
         "dtype": "Float64",
         "stats": {
          "unique_count": 150,
          "nan_count": 0,
          "categories": [
           {
            "name": "216.71088127295005",
            "count": 1
           },
           {
            "name": "42.57870967741939",
            "count": 1
           },
           {
            "name": "148 others",
            "count": 148
           }
          ]
         }
        },
        {
         "name": "30/20",
         "dtype": "Float64",
         "stats": {
          "unique_count": 150,
          "nan_count": 0,
          "categories": [
           {
            "name": "217.95462992126022",
            "count": 1
           },
           {
            "name": "42.578709677419404",
            "count": 1
           },
           {
            "name": "148 others",
            "count": 148
           }
          ]
         }
        },
        {
         "name": "31/20",
         "dtype": "Float64",
         "stats": {
          "unique_count": 150,
          "nan_count": 0,
          "categories": [
           {
            "name": "216.8491800643092",
            "count": 1
           },
           {
            "name": "42.578709677419404",
            "count": 1
           },
           {
            "name": "148 others",
            "count": 148
           }
          ]
         }
        },
        {
         "name": "32/20",
         "dtype": "Float64",
         "stats": {
          "unique_count": 150,
          "nan_count": 0,
          "categories": [
           {
            "name": "194.57491887275876",
            "count": 1
           },
           {
            "name": "42.578709677419404",
            "count": 1
           },
           {
            "name": "148 others",
            "count": 148
           }
          ]
         }
        },
        {
         "name": "33/20",
         "dtype": "Float64",
         "stats": {
          "unique_count": 150,
          "nan_count": 0,
          "categories": [
           {
            "name": "196.04361445783178",
            "count": 1
           },
           {
            "name": "42.578709677419404",
            "count": 1
           },
           {
            "name": "148 others",
            "count": 148
           }
          ]
         }
        },
        {
         "name": "34/20",
         "dtype": "Float64",
         "stats": {
          "unique_count": 150,
          "nan_count": 0,
          "categories": [
           {
            "name": "196.04361445783178",
            "count": 1
           },
           {
            "name": "42.578709677419404",
            "count": 1
           },
           {
            "name": "148 others",
            "count": 148
           }
          ]
         }
        },
        {
         "name": "35/20",
         "dtype": "Float64",
         "stats": {
          "unique_count": 150,
          "nan_count": 0,
          "categories": [
           {
            "name": "226.20410891089148",
            "count": 1
           },
           {
            "name": "42.578709677419404",
            "count": 1
           },
           {
            "name": "148 others",
            "count": 148
           }
          ]
         }
        },
        {
         "name": "36/20",
         "dtype": "Float64",
         "stats": {
          "unique_count": 150,
          "nan_count": 0,
          "categories": [
           {
            "name": "232.7581840000006",
            "count": 1
           },
           {
            "name": "42.578709677419404",
            "count": 1
           },
           {
            "name": "148 others",
            "count": 148
           }
          ]
         }
        },
        {
         "name": "37/20",
         "dtype": "Float64",
         "stats": {
          "unique_count": 150,
          "nan_count": 0,
          "categories": [
           {
            "name": "231.43168655529104",
            "count": 1
           },
           {
            "name": "42.57870967741939",
            "count": 1
           },
           {
            "name": "148 others",
            "count": 148
           }
          ]
         }
        },
        {
         "name": "38/20",
         "dtype": "Float64",
         "stats": {
          "unique_count": 150,
          "nan_count": 0,
          "categories": [
           {
            "name": "240.31499465240682",
            "count": 1
           },
           {
            "name": "42.57870967741939",
            "count": 1
           },
           {
            "name": "148 others",
            "count": 148
           }
          ]
         }
        },
        {
         "name": "39/20",
         "dtype": "Float64",
         "stats": {
          "unique_count": 149,
          "nan_count": 0,
          "categories": [
           {
            "name": "5.258825622775801",
            "count": 2
           },
           {
            "name": "271.0153435114504",
            "count": 1
           },
           {
            "name": "147 others",
            "count": 147
           }
          ]
         }
        },
        {
         "name": "40/20",
         "dtype": "Float64",
         "stats": {
          "unique_count": 150,
          "nan_count": 0,
          "categories": [
           {
            "name": "282.68834196891174",
            "count": 1
           },
           {
            "name": "44.029375",
            "count": 1
           },
           {
            "name": "148 others",
            "count": 148
           }
          ]
         }
        },
        {
         "name": "_deepnote_index_column",
         "dtype": "object"
        }
       ],
       "rows_top": [
        {
         "29/20": 216.71088127295005,
         "30/20": 217.95462992126022,
         "31/20": 216.8491800643092,
         "32/20": 194.57491887275876,
         "33/20": 196.04361445783178,
         "34/20": 196.04361445783178,
         "35/20": 226.20410891089148,
         "36/20": 232.7581840000006,
         "37/20": 231.43168655529104,
         "38/20": 240.31499465240682,
         "39/20": 271.0153435114504,
         "40/20": 282.68834196891174,
         "_deepnote_index_column": "marisco"
        },
        {
         "29/20": 42.57870967741939,
         "30/20": 42.578709677419404,
         "31/20": 42.578709677419404,
         "32/20": 42.578709677419404,
         "33/20": 42.578709677419404,
         "34/20": 42.578709677419404,
         "35/20": 42.578709677419404,
         "36/20": 42.578709677419404,
         "37/20": 42.57870967741939,
         "38/20": 42.57870967741939,
         "39/20": 43.72620224719105,
         "40/20": 44.029375,
         "_deepnote_index_column": "jamon_serrano"
        },
        {
         "29/20": 34.83462264150948,
         "30/20": 32.33647149460717,
         "31/20": 34.97846036585365,
         "32/20": 35.37814417177918,
         "33/20": 35.015823170731785,
         "34/20": 35.689338461538576,
         "35/20": 33.43199712643681,
         "36/20": 32.647392473118444,
         "37/20": 33.970579096045306,
         "38/20": 34.48998579545447,
         "39/20": 33.31421965317921,
         "40/20": 35.84149122807018,
         "_deepnote_index_column": "pescado_fresco"
        },
        {
         "29/20": 1.8534549356223171,
         "30/20": 1.8150546448087417,
         "31/20": 1.7978504672897195,
         "32/20": 1.8018328840970341,
         "33/20": 4.233825597749651,
         "34/20": 6.662154929577461,
         "35/20": 10.619547872340412,
         "36/20": 10.871064388961896,
         "37/20": 9.683239074550128,
         "38/20": 9.75220382165604,
         "39/20": 9.375932678821863,
         "40/20": 9.309338521400779,
         "_deepnote_index_column": "fruta"
        },
        {
         "29/20": 8.802189054726394,
         "30/20": 8.833035778821952,
         "31/20": 8.842707063463735,
         "32/20": 8.884523121387415,
         "33/20": 8.786135265700596,
         "34/20": 8.79924442765406,
         "35/20": 8.765629685157531,
         "36/20": 8.720281359906311,
         "37/20": 8.72105577689252,
         "38/20": 8.71645762067665,
         "39/20": 8.699434673366913,
         "40/20": 8.555094786729825,
         "_deepnote_index_column": "perfume_y_colonia"
        },
        {
         "29/20": 8.360068807339392,
         "30/20": 8.297532846715296,
         "31/20": 8.274923076923043,
         "32/20": 8.284639175257702,
         "33/20": 8.291929307805567,
         "34/20": 8.345249632892777,
         "35/20": 8.435356083086033,
         "36/20": 8.47090029761903,
         "37/20": 8.498368055555545,
         "38/20": 8.499206680584546,
         "39/20": 8.47165424739195,
         "40/20": 8.506603773584878,
         "_deepnote_index_column": "licores"
        },
        {
         "29/20": 7.911500000000005,
         "30/20": 7.911500000000001,
         "31/20": 7.911500000000001,
         "32/20": 7.911500000000001,
         "33/20": 7.911500000000001,
         "34/20": 7.911500000000001,
         "35/20": 7.911500000000001,
         "36/20": 7.911500000000001,
         "37/20": 7.900638977635782,
         "38/20": 7.899047619047617,
         "39/20": 7.89904761904762,
         "40/20": 7.899047619047621,
         "_deepnote_index_column": "vacuno"
        },
        {
         "29/20": 7.659459459459461,
         "30/20": 7.659459459459465,
         "31/20": 7.661013645224178,
         "32/20": 7.659459459459465,
         "33/20": 7.659459459459465,
         "34/20": 7.636381709741557,
         "35/20": 7.569278350515471,
         "36/20": 7.614666666666673,
         "37/20": 7.659111111111117,
         "38/20": 7.605042016806729,
         "39/20": 7.575675675675682,
         "40/20": 7.606249999999998,
         "_deepnote_index_column": "tartas_y_churros"
        },
        {
         "29/20": 7.557840236686393,
         "30/20": 7.546110056926,
         "31/20": 7.63508771929825,
         "32/20": 7.556143667296792,
         "33/20": 7.623854961832066,
         "34/20": 7.509477756286272,
         "35/20": 7.43967935871744,
         "36/20": 7.473922413793108,
         "37/20": 7.51702586206897,
         "38/20": 7.462830957230148,
         "39/20": 7.465418502202648,
         "40/20": 7.5765625,
         "_deepnote_index_column": "tartas_y_pasteles"
        },
        {
         "29/20": 7.416153846153848,
         "30/20": 7.416153846153849,
         "31/20": 7.416153846153849,
         "32/20": 7.416153846153849,
         "33/20": 7.416153846153849,
         "34/20": 7.416153846153849,
         "35/20": 7.416153846153849,
         "36/20": 7.416153846153849,
         "37/20": 7.416153846153849,
         "38/20": 7.487948717948719,
         "39/20": 7.4930769230769245,
         "40/20": 7.493076923076922,
         "_deepnote_index_column": "conejo_y_cordero"
        },
        {
         "29/20": 6.8280000000000065,
         "30/20": 6.827999999999981,
         "31/20": 6.814020408163243,
         "32/20": 6.788857142857122,
         "33/20": 6.750780287474312,
         "34/20": 6.787864476386016,
         "35/20": 6.781641791044757,
         "36/20": 6.793950103950085,
         "37/20": 6.87113899613897,
         "38/20": 7.187653061224469,
         "39/20": 7.020215517241356,
         "40/20": 7.133536585365863,
         "_deepnote_index_column": "toallitas_y_panales"
        },
        {
         "29/20": 6.0227272727272725,
         "30/20": 6.011627906976744,
         "31/20": 6.0638297872340425,
         "32/20": 6.075,
         "33/20": 6.127306273062731,
         "34/20": 6.17680608365019,
         "35/20": 6.2682926829268295,
         "36/20": 6.399038461538462,
         "37/20": 6.464285714285714,
         "38/20": 6.477941176470588,
         "39/20": 6.5139664804469275,
         "40/20": 6.464285714285714,
         "_deepnote_index_column": "neceseres"
        },
        {
         "29/20": 6.484328358208939,
         "30/20": 6.484328358208929,
         "31/20": 6.484328358208929,
         "32/20": 6.484328358208929,
         "33/20": 6.484328358208929,
         "34/20": 6.484328358208929,
         "35/20": 6.484328358208929,
         "36/20": 6.484328358208929,
         "37/20": 6.392231075697187,
         "38/20": 6.369178082191755,
         "39/20": 6.369178082191756,
         "40/20": 6.369178082191783,
         "_deepnote_index_column": "bases_de_maquillaje_y_corrector"
        },
        {
         "29/20": 6.126833333333341,
         "30/20": 6.108217592592592,
         "31/20": 6.1108352144469515,
         "32/20": 6.093534482758616,
         "33/20": 6.129912663755454,
         "34/20": 6.156777777777778,
         "35/20": 6.101369863013698,
         "36/20": 6.0678733031674215,
         "37/20": 6.01875,
         "38/20": 6.018749999999999,
         "39/20": 6.01875,
         "40/20": 6.018750000000002,
         "_deepnote_index_column": "protector_solar_y_aftersun"
        },
        {
         "29/20": 5.61360995850623,
         "30/20": 5.60591397849463,
         "31/20": 5.577043010752693,
         "32/20": 5.6162962962963014,
         "33/20": 5.580185185185188,
         "34/20": 5.577407407407413,
         "35/20": 5.577407407407413,
         "36/20": 5.613518518518523,
         "37/20": 5.6162962962963014,
         "38/20": 5.630272952853599,
         "39/20": 5.708296703296709,
         "40/20": 5.703846153846158,
         "_deepnote_index_column": "pescado_en_bandeja"
        },
        {
         "29/20": 5.55,
         "30/20": 5.55,
         "31/20": 5.55,
         "32/20": 5.55,
         "33/20": 5.55,
         "34/20": 5.55,
         "35/20": 5.55,
         "36/20": 5.55,
         "37/20": 5.55,
         "38/20": 5.55,
         "39/20": 5.55,
         "40/20": 5.55,
         "_deepnote_index_column": "colorete_y_polvos"
        },
        {
         "29/20": 5.230459770114901,
         "30/20": 5.238409475465274,
         "31/20": 5.213954154727749,
         "32/20": 5.199624927870696,
         "33/20": 5.241727630838452,
         "34/20": 5.259098497495788,
         "35/20": 5.273628808864229,
         "36/20": 5.148403193612737,
         "37/20": 5.148226773226731,
         "38/20": 5.154684557438758,
         "39/20": 5.167777777777733,
         "40/20": 5.172535211267609,
         "_deepnote_index_column": "coloracion_cabello"
        },
        {
         "29/20": 5.30019607843137,
         "30/20": 5.247507082152943,
         "31/20": 5.293674614305717,
         "32/20": 5.300196078431339,
         "33/20": 5.300196078431339,
         "34/20": 5.2975280898876065,
         "35/20": 5.103213773314173,
         "36/20": 5.043111432706194,
         "37/20": 5.10619999999997,
         "38/20": 5.06713709677416,
         "39/20": 5.027561683599396,
         "40/20": 5.003673469387766,
         "_deepnote_index_column": "afeitado_y_cuidado_para_hombre"
        },
        {
         "29/20": 5.4494972067039145,
         "30/20": 5.51247191011236,
         "31/20": 5.316023166023166,
         "32/20": 5.659733840304184,
         "33/20": 5.902571428571428,
         "34/20": 5.854225352112675,
         "35/20": 5.8285365853658515,
         "36/20": 5.734436619718309,
         "37/20": 4.953391003460209,
         "38/20": 5.772418300653592,
         "39/20": 5.258825622775801,
         "40/20": 4.931414141414141,
         "_deepnote_index_column": "carne_congelada"
        },
        {
         "29/20": 3.9552702702702724,
         "30/20": 3.954632516703787,
         "31/20": 3.8109977324263045,
         "32/20": 4.027662921348315,
         "33/20": 4.234891774891774,
         "34/20": 4.219742489270385,
         "35/20": 4.214477611940297,
         "36/20": 4.146738197424893,
         "37/20": 3.6289800443458997,
         "38/20": 4.6374940898345125,
         "39/20": 5.258825622775801,
         "40/20": 4.93141414141414,
         "_deepnote_index_column": "carne"
        },
        {
         "29/20": 5.012586206896555,
         "30/20": 5.0125862068965485,
         "31/20": 5.0125862068965485,
         "32/20": 5.0125862068965485,
         "33/20": 5.0125862068965485,
         "34/20": 4.99852173913043,
         "35/20": 4.984210526315785,
         "36/20": 4.984210526315785,
         "37/20": 4.984210526315784,
         "38/20": 4.984210526315784,
         "39/20": 4.903691709844556,
         "40/20": 4.897272727272733,
         "_deepnote_index_column": "embutido_curado"
        },
        {
         "29/20": 4.793333333333333,
         "30/20": 4.793333333333332,
         "31/20": 4.793333333333332,
         "32/20": 4.793333333333332,
         "33/20": 4.793333333333332,
         "34/20": 4.793333333333332,
         "35/20": 4.793333333333332,
         "36/20": 4.793333333333332,
         "37/20": 4.793333333333332,
         "38/20": 4.793333333333332,
         "39/20": 4.793333333333332,
         "40/20": 4.793333333333333,
         "_deepnote_index_column": "pinceles_y_brochas"
        },
        {
         "29/20": 4.0101785714285825,
         "30/20": 4.009260204081618,
         "31/20": 4.005892857142841,
         "32/20": 4.005892857142841,
         "33/20": 3.987444444444428,
         "34/20": 3.9824137931034316,
         "35/20": 4.023435207823943,
         "36/20": 4.031551724137913,
         "37/20": 4.024174757281535,
         "38/20": 4.271249999999983,
         "39/20": 4.774999999999993,
         "40/20": 4.773000000000005,
         "_deepnote_index_column": "pescado"
        },
        {
         "29/20": 4.573587301587308,
         "30/20": 4.642845691382765,
         "31/20": 4.673052208835342,
         "32/20": 4.381137855579872,
         "33/20": 4.219437229437232,
         "34/20": 4.113622222222224,
         "35/20": 4.267044025157236,
         "36/20": 4.549660678642715,
         "37/20": 4.667222222222221,
         "38/20": 4.667222222222219,
         "39/20": 4.685588822355289,
         "40/20": 4.667222222222225,
         "_deepnote_index_column": "lejia_y_liquidos_fuertes"
        },
        {
         "29/20": 4.438312020460361,
         "30/20": 4.353706754530477,
         "31/20": 4.352495867768595,
         "32/20": 4.3519601328903645,
         "33/20": 4.352445923460899,
         "34/20": 4.508566775244299,
         "35/20": 4.456405228758169,
         "36/20": 4.36073211314476,
         "37/20": 4.469557251908396,
         "38/20": 4.542255639097744,
         "39/20": 4.552300163132137,
         "40/20": 4.566744186046511,
         "_deepnote_index_column": "queso_curado_semicurado_y_tierno"
        },
        {
         "29/20": 4.247619047619048,
         "30/20": 4.247619047619057,
         "31/20": 4.247619047619057,
         "32/20": 4.247619047619058,
         "33/20": 4.247619047619057,
         "34/20": 4.247619047619057,
         "35/20": 4.247619047619057,
         "36/20": 4.247619047619057,
         "37/20": 4.247619047619058,
         "38/20": 4.247619047619059,
         "39/20": 4.247619047619057,
         "40/20": 4.247619047619043,
         "_deepnote_index_column": "sushi"
        },
        {
         "29/20": 4.2099173553718945,
         "30/20": 4.2111111111111015,
         "31/20": 4.2111111111111015,
         "32/20": 4.1973262032085445,
         "33/20": 4.194999999999989,
         "34/20": 4.194999999999989,
         "35/20": 4.194999999999989,
         "36/20": 4.19499999999999,
         "37/20": 4.19499999999999,
         "38/20": 4.1949999999999905,
         "39/20": 4.194727435209999,
         "40/20": 4.185421994884913,
         "_deepnote_index_column": "labios"
        },
        {
         "29/20": 4.169500000000004,
         "30/20": 4.169499999999995,
         "31/20": 4.169499999999995,
         "32/20": 4.169499999999995,
         "33/20": 4.169499999999995,
         "34/20": 4.169499999999995,
         "35/20": 4.169499999999996,
         "36/20": 4.169499999999995,
         "37/20": 4.169499999999995,
         "38/20": 4.169499999999992,
         "39/20": 4.169499999999995,
         "40/20": 4.169500000000003,
         "_deepnote_index_column": "depilacion"
        },
        {
         "29/20": 4.048039215686288,
         "30/20": 3.978843226788424,
         "31/20": 4.062463126843647,
         "32/20": 4.163918305597568,
         "33/20": 4.15301291248205,
         "34/20": 4.151999999999984,
         "35/20": 4.1895588235293975,
         "36/20": 4.1918367346938625,
         "37/20": 4.168041237113388,
         "38/20": 4.143749999999982,
         "39/20": 4.141964285714274,
         "40/20": 4.135416666666675,
         "_deepnote_index_column": "fitoterapia"
        },
        {
         "29/20": 4.2686746987951825,
         "30/20": 4.268674698795175,
         "31/20": 4.286543313708992,
         "32/20": 4.298165137614672,
         "33/20": 4.292485549132942,
         "34/20": 4.239014423076914,
         "35/20": 4.193268450932678,
         "36/20": 4.14528925619834,
         "37/20": 4.11766169154228,
         "38/20": 4.085428122545159,
         "39/20": 4.086672325976224,
         "40/20": 4.05084951456311,
         "_deepnote_index_column": "cuidado_e_higiene_facial"
        },
        {
         "29/20": 4.044655172413803,
         "30/20": 4.043768472906385,
         "31/20": 4.04051724137929,
         "32/20": 4.020728643216064,
         "33/20": 3.9869259259259096,
         "34/20": 3.981896551724122,
         "35/20": 4.02292176039118,
         "36/20": 4.031034482758603,
         "37/20": 4.023665048543671,
         "38/20": 4.03520408163263,
         "39/20": 4.025423728813539,
         "40/20": 4.0240677966101766,
         "_deepnote_index_column": "pescado_congelado"
        },
        {
         "29/20": 3.921500000000006,
         "30/20": 3.921499999999993,
         "31/20": 3.921499999999993,
         "32/20": 3.921499999999993,
         "33/20": 3.921499999999993,
         "34/20": 3.921499999999993,
         "35/20": 3.921499999999993,
         "36/20": 3.9354784688995146,
         "37/20": 3.921499999999993,
         "38/20": 3.921499999999991,
         "39/20": 3.921499999999993,
         "40/20": 3.921500000000005,
         "_deepnote_index_column": "perro"
        },
        {
         "29/20": 3.6520930232558153,
         "30/20": 3.652093023255823,
         "31/20": 3.652093023255823,
         "32/20": 3.652093023255823,
         "33/20": 3.652093023255823,
         "34/20": 3.652093023255823,
         "35/20": 3.6347245409015114,
         "36/20": 3.5977368421052778,
         "37/20": 3.566111111111117,
         "38/20": 3.5672857142857204,
         "39/20": 3.58214285714286,
         "40/20": 3.582142857142849,
         "_deepnote_index_column": "cafe_capsula_y_monodosis"
        },
        {
         "29/20": 3.597385740402198,
         "30/20": 3.5765121668597915,
         "31/20": 3.5759768786127193,
         "32/20": 3.562375434530708,
         "33/20": 3.5444576877234835,
         "34/20": 3.5361666666666696,
         "35/20": 3.549416666666669,
         "36/20": 3.571019929660024,
         "37/20": 3.588381057268724,
         "38/20": 3.564459016393446,
         "39/20": 3.5599882903981293,
         "40/20": 3.56016393442623,
         "_deepnote_index_column": "vino_tinto"
        },
        {
         "29/20": 3.480701754385972,
         "30/20": 3.4992665036674886,
         "31/20": 3.581433408577883,
         "32/20": 3.582362821948493,
         "33/20": 3.5788939051918787,
         "34/20": 3.5839686098654755,
         "35/20": 3.5847285067873353,
         "36/20": 3.583593750000005,
         "37/20": 3.583593750000005,
         "38/20": 3.5835937500000044,
         "39/20": 3.5740449438202293,
         "40/20": 3.549035369774918,
         "_deepnote_index_column": "ojos"
        },
        {
         "29/20": 3.530000000000005,
         "30/20": 3.5644444444444385,
         "31/20": 3.569999999999994,
         "32/20": 3.569999999999994,
         "33/20": 3.569999999999994,
         "34/20": 3.569999999999994,
         "35/20": 3.5699999999999936,
         "36/20": 3.569999999999994,
         "37/20": 3.5722653721682773,
         "38/20": 3.5717167381974173,
         "39/20": 3.5654566473988374,
         "40/20": 3.5485245901639373,
         "_deepnote_index_column": "aves_y_pollo"
        },
        {
         "29/20": 3.573600000000002,
         "30/20": 3.5636103151862466,
         "31/20": 3.519542857142859,
         "32/20": 3.514400000000002,
         "33/20": 3.514400000000002,
         "34/20": 3.514400000000002,
         "35/20": 3.5514857142857164,
         "36/20": 3.55217142857143,
         "37/20": 3.5583999999999985,
         "38/20": 3.5544000000000002,
         "39/20": 3.536228571428573,
         "40/20": 3.5288000000000013,
         "_deepnote_index_column": "sidra_y_cava"
        },
        {
         "29/20": 3.5055737704918046,
         "30/20": 3.507805755395684,
         "31/20": 3.546800000000001,
         "32/20": 3.5131818181818195,
         "33/20": 3.397892976588629,
         "34/20": 3.315577557755775,
         "35/20": 3.3787086092715226,
         "36/20": 3.6260802469135793,
         "37/20": 3.5945189504373154,
         "38/20": 3.511240310077518,
         "39/20": 3.4992307692307683,
         "40/20": 3.4992307692307696,
         "_deepnote_index_column": "salazones_y_ahumados"
        },
        {
         "29/20": 3.5669822485207106,
         "30/20": 3.6496981132075508,
         "31/20": 3.5317557251908425,
         "32/20": 3.1183333333333354,
         "33/20": 3.2875781250000027,
         "34/20": 3.6884210526315826,
         "35/20": 3.6395488721804545,
         "36/20": 3.61135338345865,
         "37/20": 3.6094736842105304,
         "38/20": 3.6269750889679755,
         "39/20": 3.4918705035971263,
         "40/20": 3.4990000000000006,
         "_deepnote_index_column": "cacao_soluble_y_chocolate_a_la_taza"
        },
        {
         "29/20": 3.357272727272726,
         "30/20": 3.357272727272729,
         "31/20": 3.357272727272729,
         "32/20": 3.357272727272729,
         "33/20": 3.364736842105265,
         "34/20": 3.3591205211726414,
         "35/20": 3.370465116279071,
         "36/20": 3.3591205211726414,
         "37/20": 3.357272727272729,
         "38/20": 3.3572727272727305,
         "39/20": 3.357272727272729,
         "40/20": 3.357272727272725,
         "_deepnote_index_column": "acondicionador_y_mascarilla"
        },
        {
         "29/20": 3.3129838709677433,
         "30/20": 3.335952380952382,
         "31/20": 3.335952380952382,
         "32/20": 3.3478911564625835,
         "33/20": 3.3545238095238075,
         "34/20": 3.3583503401360524,
         "35/20": 3.3604761904761884,
         "36/20": 3.332006802721083,
         "37/20": 3.316190476190472,
         "38/20": 3.316012658227845,
         "39/20": 3.3161904761904717,
         "40/20": 3.316190476190476,
         "_deepnote_index_column": "cerdo"
        }
       ],
       "rows_bottom": [
        {
         "29/20": 1.631389432485325,
         "30/20": 1.6309019607843152,
         "31/20": 1.6509043250327673,
         "32/20": 1.643969270166454,
         "33/20": 1.6382038216560515,
         "34/20": 1.635892857142858,
         "35/20": 1.6310103626943016,
         "36/20": 1.6196879063719125,
         "37/20": 1.6010673443456165,
         "38/20": 1.6019642857142855,
         "39/20": 1.6019642857142857,
         "40/20": 1.5994604316546774,
         "_deepnote_index_column": "gel_y_jabon_de_manos"
        },
        {
         "29/20": 1.5530000000000006,
         "30/20": 1.5530000000000006,
         "31/20": 1.543714285714285,
         "32/20": 1.5429999999999993,
         "33/20": 1.5136811594202904,
         "34/20": 1.5506000000000009,
         "35/20": 1.5557428571428578,
         "36/20": 1.5650000000000006,
         "37/20": 1.5650000000000008,
         "38/20": 1.5650000000000008,
         "39/20": 1.5465423242467746,
         "40/20": 1.5550000000000004,
         "_deepnote_index_column": "agua"
        },
        {
         "29/20": 1.5478947368421057,
         "30/20": 1.547894736842107,
         "31/20": 1.547894736842107,
         "32/20": 1.547894736842107,
         "33/20": 1.547894736842107,
         "34/20": 1.547894736842107,
         "35/20": 1.547894736842107,
         "36/20": 1.547894736842107,
         "37/20": 1.5478947368421072,
         "38/20": 1.5478947368421072,
         "39/20": 1.547894736842107,
         "40/20": 1.547894736842105,
         "_deepnote_index_column": "arroz"
        },
        {
         "29/20": 1.5320000000000003,
         "30/20": 1.5319999999999978,
         "31/20": 1.5319999999999978,
         "32/20": 1.5319999999999978,
         "33/20": 1.5319999999999978,
         "34/20": 1.5319999999999978,
         "35/20": 1.5319999999999978,
         "36/20": 1.5319999999999978,
         "37/20": 1.5319999999999978,
         "38/20": 1.5319999999999976,
         "39/20": 1.5319999999999978,
         "40/20": 1.5320000000000005,
         "_deepnote_index_column": "huevos"
        },
        {
         "29/20": 1.583333333333333,
         "30/20": 1.5833333333333353,
         "31/20": 1.5833333333333353,
         "32/20": 1.5833333333333353,
         "33/20": 1.5833333333333353,
         "34/20": 1.5214285714285727,
         "35/20": 1.5166666666666677,
         "36/20": 1.5166666666666677,
         "37/20": 1.578571428571431,
         "38/20": 1.5833333333333357,
         "39/20": 1.5214285714285727,
         "40/20": 1.5166666666666664,
         "_deepnote_index_column": "postres_de_soja"
        },
        {
         "29/20": 1.499566613162123,
         "30/20": 1.50088235294118,
         "31/20": 1.501673640167368,
         "32/20": 1.4984253578732145,
         "33/20": 1.4925454545454586,
         "34/20": 1.494364364364368,
         "35/20": 1.5011111111111148,
         "36/20": 1.5011111111111148,
         "37/20": 1.5011111111111148,
         "38/20": 1.5011111111111148,
         "39/20": 1.50330677290837,
         "40/20": 1.5088732394366202,
         "_deepnote_index_column": "conservas_de_verdura_y_frutas"
        },
        {
         "29/20": 1.4943750000000002,
         "30/20": 1.494375000000002,
         "31/20": 1.494375000000002,
         "32/20": 1.4906363636363658,
         "33/20": 1.4934529147982085,
         "34/20": 1.497117117117119,
         "35/20": 1.4926879271070634,
         "36/20": 1.4702790697674435,
         "37/20": 1.469348837209304,
         "38/20": 1.4659827213822916,
         "39/20": 1.4937612612612634,
         "40/20": 1.4943749999999996,
         "_deepnote_index_column": "lechuga_y_ensalada_preparada"
        },
        {
         "29/20": 1.5017457627118647,
         "30/20": 1.5092995689655142,
         "31/20": 1.5174626865671612,
         "32/20": 1.5174626865671614,
         "33/20": 1.5174626865671614,
         "34/20": 1.5215069967707182,
         "35/20": 1.5252516411378527,
         "36/20": 1.531831298557156,
         "37/20": 1.5365875706214667,
         "38/20": 1.5292956243329756,
         "39/20": 1.5265079365079348,
         "40/20": 1.4720967741935496,
         "_deepnote_index_column": "menaje_y_conservacion_de_alimentos"
        },
        {
         "29/20": 1.452000000000002,
         "30/20": 1.4520000000000006,
         "31/20": 1.4520000000000006,
         "32/20": 1.4520000000000006,
         "33/20": 1.4520000000000006,
         "34/20": 1.4520000000000006,
         "35/20": 1.4520000000000006,
         "36/20": 1.4520000000000006,
         "37/20": 1.4520000000000006,
         "38/20": 1.4520000000000004,
         "39/20": 1.4520000000000006,
         "40/20": 1.4520000000000008,
         "_deepnote_index_column": "yogures_griegos"
        },
        {
         "29/20": 3.5293070652173815,
         "30/20": 3.571142604074393,
         "31/20": 3.570811170212751,
         "32/20": 3.542022817025,
         "33/20": 4.38630728939326,
         "34/20": 3.6078122270742212,
         "35/20": 3.542403846153831,
         "36/20": 3.542326906222603,
         "37/20": 3.5565684117905785,
         "38/20": 2.8989159561510256,
         "39/20": 1.4191850220264337,
         "40/20": 1.4189230769230776,
         "_deepnote_index_column": "verdura"
        },
        {
         "29/20": 1.4142857142857164,
         "30/20": 1.4142857142857157,
         "31/20": 1.4142857142857157,
         "32/20": 1.4142857142857157,
         "33/20": 1.4142857142857157,
         "34/20": 1.4142857142857157,
         "35/20": 1.4142857142857157,
         "36/20": 1.4156812339331633,
         "37/20": 1.4125000000000016,
         "38/20": 1.4125000000000008,
         "39/20": 1.4096938775510217,
         "40/20": 1.4018115942028995,
         "_deepnote_index_column": "mantequilla_y_margarina"
        },
        {
         "29/20": 1.445,
         "30/20": 1.445,
         "31/20": 1.445,
         "32/20": 1.445,
         "33/20": 1.445,
         "34/20": 1.403701657458564,
         "35/20": 1.400769230769231,
         "36/20": 1.400769230769231,
         "37/20": 1.400769230769231,
         "38/20": 1.4007692307692305,
         "39/20": 1.400769230769231,
         "40/20": 1.4007692307692305,
         "_deepnote_index_column": "flan_y_natillas"
        },
        {
         "29/20": 1.3507407407407408,
         "30/20": 1.3507407407407412,
         "31/20": 1.3507407407407412,
         "32/20": 1.3521957671957678,
         "33/20": 1.3525925925925932,
         "34/20": 1.3463720930232561,
         "35/20": 1.3554161162483498,
         "36/20": 1.379818181818182,
         "37/20": 1.3798181818181823,
         "38/20": 1.3798181818181823,
         "39/20": 1.379818181818182,
         "40/20": 1.3798181818181816,
         "_deepnote_index_column": "otras_salsas"
        },
        {
         "29/20": 1.375384615384616,
         "30/20": 1.3753846153846165,
         "31/20": 1.3753846153846165,
         "32/20": 1.3753846153846165,
         "33/20": 1.3753846153846165,
         "34/20": 1.3753846153846165,
         "35/20": 1.3753846153846165,
         "36/20": 1.3753846153846165,
         "37/20": 1.3753846153846165,
         "38/20": 1.3753846153846165,
         "39/20": 1.3753846153846165,
         "40/20": 1.3753846153846152,
         "_deepnote_index_column": "chopped_y_mortadela"
        },
        {
         "29/20": 1.347857142857143,
         "30/20": 1.37738219895288,
         "31/20": 1.373092783505155,
         "32/20": 1.3692857142857147,
         "33/20": 1.3692857142857147,
         "34/20": 1.3692857142857147,
         "35/20": 1.3692857142857147,
         "36/20": 1.3692857142857147,
         "37/20": 1.3692857142857147,
         "38/20": 1.3692857142857147,
         "39/20": 1.3692857142857147,
         "40/20": 1.3692857142857142,
         "_deepnote_index_column": "tinto_de_verano_y_sangria"
        },
        {
         "29/20": 1.2403571428571427,
         "30/20": 1.2375510204081632,
         "31/20": 1.2367857142857142,
         "32/20": 1.2367857142857142,
         "33/20": 1.2367857142857142,
         "34/20": 1.2320103092783505,
         "35/20": 1.2344102564102561,
         "36/20": 1.2367857142857142,
         "37/20": 1.2367857142857142,
         "38/20": 1.2367857142857142,
         "39/20": 1.3514090909090906,
         "40/20": 1.368125,
         "_deepnote_index_column": "golosinas"
        },
        {
         "29/20": 1.3764139344262312,
         "30/20": 1.37592592592593,
         "31/20": 1.37666666666667,
         "32/20": 1.3794339622641536,
         "33/20": 1.3794339622641536,
         "34/20": 1.3769148936170246,
         "35/20": 1.3523489932885928,
         "36/20": 1.3670198675496712,
         "37/20": 1.3685185185185211,
         "38/20": 1.3527568922305788,
         "39/20": 1.3461847389558255,
         "40/20": 1.3444444444444443,
         "_deepnote_index_column": "harina_y_preparado_reposteria"
        },
        {
         "29/20": 1.3285714285714274,
         "30/20": 1.328571428571427,
         "31/20": 1.328571428571427,
         "32/20": 1.328571428571427,
         "33/20": 1.328571428571427,
         "34/20": 1.328571428571427,
         "35/20": 1.328571428571427,
         "36/20": 1.328571428571427,
         "37/20": 1.3285714285714274,
         "38/20": 1.3285714285714274,
         "39/20": 1.328571428571427,
         "40/20": 1.3285714285714283,
         "_deepnote_index_column": "tortitas"
        },
        {
         "29/20": 1.2759523809523792,
         "30/20": 1.2669217687074816,
         "31/20": 1.3003931623931597,
         "32/20": 1.3165068493150656,
         "33/20": 1.3315897435897406,
         "34/20": 1.3311904761904727,
         "35/20": 1.2988235294117625,
         "36/20": 1.2413913043478237,
         "37/20": 1.227609756097559,
         "38/20": 1.2199999999999982,
         "39/20": 1.2647978910369035,
         "40/20": 1.3202499999999995,
         "_deepnote_index_column": "refresco_de_te_y_sin_gas"
        },
        {
         "29/20": 1.3059375,
         "30/20": 1.3068918918918935,
         "31/20": 1.3070693512304263,
         "32/20": 1.305937500000001,
         "33/20": 1.305937500000001,
         "34/20": 1.305937500000001,
         "35/20": 1.305937500000001,
         "36/20": 1.305937500000001,
         "37/20": 1.3059375000000013,
         "38/20": 1.3007494646680957,
         "39/20": 1.3040291262135928,
         "40/20": 1.3158064516129029,
         "_deepnote_index_column": "chicles_y_caramelos"
        },
        {
         "29/20": 1.3152631578947356,
         "30/20": 1.317320754716983,
         "31/20": 1.315263157894739,
         "32/20": 1.311663516068055,
         "33/20": 1.315263157894739,
         "34/20": 1.3214666666666683,
         "35/20": 1.3179017013232532,
         "36/20": 1.315263157894739,
         "37/20": 1.315263157894739,
         "38/20": 1.3152631578947396,
         "39/20": 1.3154372623574166,
         "40/20": 1.315675675675675,
         "_deepnote_index_column": "pan_de_molde_y_otras_especialidades"
        },
        {
         "29/20": 1.283625000000004,
         "30/20": 1.2832078853046625,
         "31/20": 1.2836250000000027,
         "32/20": 1.2828853046595008,
         "33/20": 1.280614115490378,
         "34/20": 1.2815625000000022,
         "35/20": 1.2815384615384637,
         "36/20": 1.2815384615384637,
         "37/20": 1.2815384615384633,
         "38/20": 1.2842993079584795,
         "39/20": 1.283996299722481,
         "40/20": 1.2810256410256387,
         "_deepnote_index_column": "galletas"
        },
        {
         "29/20": 1.2610714285714273,
         "30/20": 1.262390745501281,
         "31/20": 1.2589119170984415,
         "32/20": 1.2755526992287873,
         "33/20": 1.2807142857142815,
         "34/20": 1.2807142857142815,
         "35/20": 1.2807142857142815,
         "36/20": 1.2807142857142815,
         "37/20": 1.2795663265306076,
         "38/20": 1.2669285714285685,
         "39/20": 1.2660714285714256,
         "40/20": 1.2763571428571434,
         "_deepnote_index_column": "yogures_naturales_y_sabores"
        },
        {
         "29/20": 1.2525925925925931,
         "30/20": 1.2525925925925927,
         "31/20": 1.2525925925925927,
         "32/20": 1.2525925925925927,
         "33/20": 1.2525925925925927,
         "34/20": 1.2525925925925927,
         "35/20": 1.2525925925925927,
         "36/20": 1.2525925925925927,
         "37/20": 1.252592592592593,
         "38/20": 1.2525925925925927,
         "39/20": 1.2525925925925927,
         "40/20": 1.2525925925925934,
         "_deepnote_index_column": "legumbres"
        },
        {
         "29/20": 1.2461290322580634,
         "30/20": 1.2461290322580616,
         "31/20": 1.2461290322580616,
         "32/20": 1.2461290322580616,
         "33/20": 1.2461290322580616,
         "34/20": 1.2461290322580616,
         "35/20": 1.2495794392523334,
         "36/20": 1.255550239234447,
         "37/20": 1.2435944700460797,
         "38/20": 1.2429032258064479,
         "39/20": 1.2429032258064483,
         "40/20": 1.2429032258064523,
         "_deepnote_index_column": "pan_tostado_y_rallado"
        },
        {
         "29/20": 1.2304228855721395,
         "30/20": 1.232666666666667,
         "31/20": 1.232666666666667,
         "32/20": 1.233193548387097,
         "33/20": 1.2334090909090911,
         "34/20": 1.2343680000000001,
         "35/20": 1.234888888888889,
         "36/20": 1.234888888888889,
         "37/20": 1.234888888888889,
         "38/20": 1.237330316742081,
         "39/20": 1.2379545454545449,
         "40/20": 1.2379545454545458,
         "_deepnote_index_column": "te_e_infusiones"
        },
        {
         "29/20": 1.2068656716417896,
         "30/20": 1.205837320574161,
         "31/20": 1.198633093525178,
         "32/20": 1.2039999999999984,
         "33/20": 1.2039999999999984,
         "34/20": 1.2086265060240948,
         "35/20": 1.2095652173913027,
         "36/20": 1.2086265060240948,
         "37/20": 1.2113801452784487,
         "38/20": 1.2131972789115637,
         "39/20": 1.212408759124086,
         "40/20": 1.2091891891891884,
         "_deepnote_index_column": "sopa_y_caldo"
        },
        {
         "29/20": 1.2074999999999998,
         "30/20": 1.204814814814815,
         "31/20": 1.204814814814815,
         "32/20": 1.204814814814815,
         "33/20": 1.204814814814815,
         "34/20": 1.2048148148148154,
         "35/20": 1.204814814814815,
         "36/20": 1.204814814814815,
         "37/20": 1.2053349875930524,
         "38/20": 1.2053349875930526,
         "39/20": 1.204814814814815,
         "40/20": 1.2048148148148143,
         "_deepnote_index_column": "mayonesa_ketchup_y_mostaza"
        },
        {
         "29/20": 1.2015999999999998,
         "30/20": 1.2016000000000002,
         "31/20": 1.2016000000000002,
         "32/20": 1.2016000000000002,
         "33/20": 1.1999425287356322,
         "34/20": 1.1931176470588234,
         "35/20": 1.2003048780487804,
         "36/20": 1.1895833333333332,
         "37/20": 1.1895833333333332,
         "38/20": 1.1895833333333334,
         "39/20": 1.1895833333333332,
         "40/20": 1.1895833333333334,
         "_deepnote_index_column": "velas_y_decoracion"
        },
        {
         "29/20": 1.1850289017341058,
         "30/20": 1.1894999999999993,
         "31/20": 1.195289855072463,
         "32/20": 1.1894999999999993,
         "33/20": 1.1894999999999993,
         "34/20": 1.1894999999999993,
         "35/20": 1.1894999999999993,
         "36/20": 1.1894999999999993,
         "37/20": 1.1894999999999993,
         "38/20": 1.189499999999999,
         "39/20": 1.1894999999999993,
         "40/20": 1.1895000000000011,
         "_deepnote_index_column": "yogures_desnatados"
        },
        {
         "29/20": 1.1896296296296291,
         "30/20": 1.19475935828877,
         "31/20": 1.198679245283019,
         "32/20": 1.193262032085561,
         "33/20": 1.1932620320855614,
         "34/20": 1.1923466666666664,
         "35/20": 1.1896296296296294,
         "36/20": 1.1892328042328038,
         "37/20": 1.1877777777777776,
         "38/20": 1.1877777777777776,
         "39/20": 1.1869841269841266,
         "40/20": 1.1822962962962962,
         "_deepnote_index_column": "gelatina_y_otros_postres"
        },
        {
         "29/20": 1.1897368421052614,
         "30/20": 1.1833646616541333,
         "31/20": 1.1805263157894725,
         "32/20": 1.1821052631578939,
         "33/20": 1.2014097744360892,
         "34/20": 1.2028947368421041,
         "35/20": 1.2247180451127804,
         "36/20": 1.2478947368421043,
         "37/20": 1.2377894736842097,
         "38/20": 1.205913978494623,
         "39/20": 1.1914951456310667,
         "40/20": 1.1802702702702714,
         "_deepnote_index_column": "refresco_de_naranja_y_de_limon"
        },
        {
         "29/20": 1.188571428571428,
         "30/20": 1.1885714285714293,
         "31/20": 1.1885714285714293,
         "32/20": 1.1885714285714293,
         "33/20": 1.1885714285714293,
         "34/20": 1.1885714285714293,
         "35/20": 1.1885714285714293,
         "36/20": 1.1885714285714293,
         "37/20": 1.1885714285714293,
         "38/20": 1.1885714285714295,
         "39/20": 1.1885714285714293,
         "40/20": 1.1793706293706283,
         "_deepnote_index_column": "fruta_variada"
        },
        {
         "29/20": 1.1343231441048094,
         "30/20": 1.1267777777777834,
         "31/20": 1.1327272727272781,
         "32/20": 1.1338583410997258,
         "33/20": 1.1329526462395598,
         "34/20": 1.1327272727272781,
         "35/20": 1.133099906629324,
         "36/20": 1.1331383472609153,
         "37/20": 1.1327272727272768,
         "38/20": 1.1327272727272768,
         "39/20": 1.1345751633986985,
         "40/20": 1.1356955380577411,
         "_deepnote_index_column": "pasta_y_fideos"
        },
        {
         "29/20": 1.1208771929824561,
         "30/20": 1.1208771929824568,
         "31/20": 1.1208771929824568,
         "32/20": 1.1208771929824568,
         "33/20": 1.1212731767614343,
         "34/20": 1.1213793103448284,
         "35/20": 1.121379310344828,
         "36/20": 1.121379310344828,
         "37/20": 1.121379310344828,
         "38/20": 1.121379310344828,
         "39/20": 1.122200247218789,
         "40/20": 1.1236933797909403,
         "_deepnote_index_column": "especias"
        },
        {
         "29/20": 1.0769230769230778,
         "30/20": 1.0769230769230789,
         "31/20": 1.0769230769230789,
         "32/20": 1.0769230769230789,
         "33/20": 1.0769230769230789,
         "34/20": 1.0769230769230789,
         "35/20": 1.0769230769230789,
         "36/20": 1.0511299435028267,
         "37/20": 1.0008333333333352,
         "38/20": 1.0008333333333355,
         "39/20": 1.034942528735634,
         "40/20": 1.0769230769230766,
         "_deepnote_index_column": "tomate_y_otros_sabores"
        },
        {
         "29/20": 1.0765517241379299,
         "30/20": 1.0765517241379312,
         "31/20": 1.0765517241379312,
         "32/20": 1.0765517241379312,
         "33/20": 1.0765517241379312,
         "34/20": 1.0765517241379312,
         "35/20": 1.0765517241379312,
         "36/20": 1.0765517241379312,
         "37/20": 1.0733497536945813,
         "38/20": 1.0731034482758621,
         "39/20": 1.073103448275862,
         "40/20": 1.0731034482758612,
         "_deepnote_index_column": "picos_rosquilletas_y_picatostes"
        },
        {
         "29/20": 1.0377126654064257,
         "30/20": 1.0416666666666656,
         "31/20": 1.0474999999999992,
         "32/20": 1.0474999999999992,
         "33/20": 1.0467625899280568,
         "34/20": 1.0474999999999992,
         "35/20": 1.0474999999999992,
         "36/20": 1.052874251497005,
         "37/20": 1.0516666666666659,
         "38/20": 1.0516666666666659,
         "39/20": 1.0516666666666659,
         "40/20": 1.0516666666666663,
         "_deepnote_index_column": "patatas_fritas_y_snacks"
        },
        {
         "29/20": 1.0393750000000006,
         "30/20": 1.0393750000000015,
         "31/20": 1.0393750000000015,
         "32/20": 1.0359722222222234,
         "33/20": 1.0393750000000015,
         "34/20": 1.0393750000000015,
         "35/20": 1.0393750000000015,
         "36/20": 1.0393750000000015,
         "37/20": 1.0393750000000015,
         "38/20": 1.0393750000000017,
         "39/20": 1.0393750000000015,
         "40/20": 1.0393749999999997,
         "_deepnote_index_column": "melocoton_y_pina"
        },
        {
         "29/20": 1.0462295081967212,
         "30/20": 1.0462295081967237,
         "31/20": 1.050742049469967,
         "32/20": 1.077311435523117,
         "33/20": 1.0821701602959335,
         "34/20": 1.083427866831075,
         "35/20": 1.0701212121212145,
         "36/20": 1.0620950060901362,
         "37/20": 1.034751243781097,
         "38/20": 1.0445400943396257,
         "39/20": 1.042660781841112,
         "40/20": 1.0259057971014487,
         "_deepnote_index_column": "bolleria_envasada"
        },
        {
         "29/20": 0.9771428571428572,
         "30/20": 0.9771428571428563,
         "31/20": 0.9802105263157888,
         "32/20": 0.9778082191780811,
         "33/20": 0.9771428571428563,
         "34/20": 0.9771428571428563,
         "35/20": 0.9771428571428563,
         "36/20": 0.9771428571428563,
         "37/20": 0.9771428571428563,
         "38/20": 0.9771428571428561,
         "39/20": 0.9771428571428563,
         "40/20": 0.9771428571428581,
         "_deepnote_index_column": "tomate"
        },
        {
         "29/20": 0.9017659137577003,
         "30/20": 0.9024867724867728,
         "31/20": 0.8935853976531947,
         "32/20": 0.8967272727272732,
         "33/20": 0.8967272727272732,
         "34/20": 0.8967272727272732,
         "35/20": 0.8948958333333339,
         "36/20": 0.8967272727272732,
         "37/20": 0.8967272727272732,
         "38/20": 0.8945188794153476,
         "39/20": 0.8967272727272732,
         "40/20": 0.8967272727272723,
         "_deepnote_index_column": "pan_de_horno"
        }
       ]
      },
      "text/plain": "insert_date                   29/20      30/20      31/20       32/20  \\\ncategory                                                                \nmarisco                  216.710881  217.95463  216.84918  194.574919   \njamon_serrano              42.57871   42.57871   42.57871    42.57871   \npescado_fresco            34.834623  32.336471   34.97846   35.378144   \nfruta                      1.853455   1.815055    1.79785    1.801833   \nperfume_y_colonia          8.802189   8.833036   8.842707    8.884523   \n...                             ...        ...        ...         ...   \npatatas_fritas_y_snacks    1.037713   1.041667     1.0475      1.0475   \nmelocoton_y_pina           1.039375   1.039375   1.039375    1.035972   \nbolleria_envasada           1.04623    1.04623   1.050742    1.077311   \ntomate                     0.977143   0.977143   0.980211    0.977808   \npan_de_horno               0.901766   0.902487   0.893585    0.896727   \n\ninsert_date                   33/20       34/20       35/20       36/20  \\\ncategory                                                                  \nmarisco                  196.043614  196.043614  226.204109  232.758184   \njamon_serrano              42.57871    42.57871    42.57871    42.57871   \npescado_fresco            35.015823   35.689338   33.431997   32.647392   \nfruta                      4.233826    6.662155   10.619548   10.871064   \nperfume_y_colonia          8.786135    8.799244     8.76563    8.720281   \n...                             ...         ...         ...         ...   \npatatas_fritas_y_snacks    1.046763      1.0475      1.0475    1.052874   \nmelocoton_y_pina           1.039375    1.039375    1.039375    1.039375   \nbolleria_envasada           1.08217    1.083428    1.070121    1.062095   \ntomate                     0.977143    0.977143    0.977143    0.977143   \npan_de_horno               0.896727    0.896727    0.894896    0.896727   \n\ninsert_date                   37/20       38/20       39/20       40/20  \ncategory                                                                 \nmarisco                  231.431687  240.314995  271.015344  282.688342  \njamon_serrano              42.57871    42.57871   43.726202   44.029375  \npescado_fresco            33.970579   34.489986    33.31422   35.841491  \nfruta                      9.683239    9.752204    9.375933    9.309339  \nperfume_y_colonia          8.721056    8.716458    8.699435    8.555095  \n...                             ...         ...         ...         ...  \npatatas_fritas_y_snacks    1.051667    1.051667    1.051667    1.051667  \nmelocoton_y_pina           1.039375    1.039375    1.039375    1.039375  \nbolleria_envasada          1.034751     1.04454    1.042661    1.025906  \ntomate                     0.977143    0.977143    0.977143    0.977143  \npan_de_horno               0.896727    0.894519    0.896727    0.896727  \n\n[150 rows x 12 columns]",
      "text/html": "<div>\n<style scoped>\n    .dataframe tbody tr th:only-of-type {\n        vertical-align: middle;\n    }\n\n    .dataframe tbody tr th {\n        vertical-align: top;\n    }\n\n    .dataframe thead th {\n        text-align: right;\n    }\n</style>\n<table border=\"1\" class=\"dataframe\">\n  <thead>\n    <tr style=\"text-align: right;\">\n      <th>insert_date</th>\n      <th>29/20</th>\n      <th>30/20</th>\n      <th>31/20</th>\n      <th>32/20</th>\n      <th>33/20</th>\n      <th>34/20</th>\n      <th>35/20</th>\n      <th>36/20</th>\n      <th>37/20</th>\n      <th>38/20</th>\n      <th>39/20</th>\n      <th>40/20</th>\n    </tr>\n    <tr>\n      <th>category</th>\n      <th></th>\n      <th></th>\n      <th></th>\n      <th></th>\n      <th></th>\n      <th></th>\n      <th></th>\n      <th></th>\n      <th></th>\n      <th></th>\n      <th></th>\n      <th></th>\n    </tr>\n  </thead>\n  <tbody>\n    <tr>\n      <th>marisco</th>\n      <td>216.710881</td>\n      <td>217.95463</td>\n      <td>216.84918</td>\n      <td>194.574919</td>\n      <td>196.043614</td>\n      <td>196.043614</td>\n      <td>226.204109</td>\n      <td>232.758184</td>\n      <td>231.431687</td>\n      <td>240.314995</td>\n      <td>271.015344</td>\n      <td>282.688342</td>\n    </tr>\n    <tr>\n      <th>jamon_serrano</th>\n      <td>42.57871</td>\n      <td>42.57871</td>\n      <td>42.57871</td>\n      <td>42.57871</td>\n      <td>42.57871</td>\n      <td>42.57871</td>\n      <td>42.57871</td>\n      <td>42.57871</td>\n      <td>42.57871</td>\n      <td>42.57871</td>\n      <td>43.726202</td>\n      <td>44.029375</td>\n    </tr>\n    <tr>\n      <th>pescado_fresco</th>\n      <td>34.834623</td>\n      <td>32.336471</td>\n      <td>34.97846</td>\n      <td>35.378144</td>\n      <td>35.015823</td>\n      <td>35.689338</td>\n      <td>33.431997</td>\n      <td>32.647392</td>\n      <td>33.970579</td>\n      <td>34.489986</td>\n      <td>33.31422</td>\n      <td>35.841491</td>\n    </tr>\n    <tr>\n      <th>fruta</th>\n      <td>1.853455</td>\n      <td>1.815055</td>\n      <td>1.79785</td>\n      <td>1.801833</td>\n      <td>4.233826</td>\n      <td>6.662155</td>\n      <td>10.619548</td>\n      <td>10.871064</td>\n      <td>9.683239</td>\n      <td>9.752204</td>\n      <td>9.375933</td>\n      <td>9.309339</td>\n    </tr>\n    <tr>\n      <th>perfume_y_colonia</th>\n      <td>8.802189</td>\n      <td>8.833036</td>\n      <td>8.842707</td>\n      <td>8.884523</td>\n      <td>8.786135</td>\n      <td>8.799244</td>\n      <td>8.76563</td>\n      <td>8.720281</td>\n      <td>8.721056</td>\n      <td>8.716458</td>\n      <td>8.699435</td>\n      <td>8.555095</td>\n    </tr>\n    <tr>\n      <th>...</th>\n      <td>...</td>\n      <td>...</td>\n      <td>...</td>\n      <td>...</td>\n      <td>...</td>\n      <td>...</td>\n      <td>...</td>\n      <td>...</td>\n      <td>...</td>\n      <td>...</td>\n      <td>...</td>\n      <td>...</td>\n    </tr>\n    <tr>\n      <th>patatas_fritas_y_snacks</th>\n      <td>1.037713</td>\n      <td>1.041667</td>\n      <td>1.0475</td>\n      <td>1.0475</td>\n      <td>1.046763</td>\n      <td>1.0475</td>\n      <td>1.0475</td>\n      <td>1.052874</td>\n      <td>1.051667</td>\n      <td>1.051667</td>\n      <td>1.051667</td>\n      <td>1.051667</td>\n    </tr>\n    <tr>\n      <th>melocoton_y_pina</th>\n      <td>1.039375</td>\n      <td>1.039375</td>\n      <td>1.039375</td>\n      <td>1.035972</td>\n      <td>1.039375</td>\n      <td>1.039375</td>\n      <td>1.039375</td>\n      <td>1.039375</td>\n      <td>1.039375</td>\n      <td>1.039375</td>\n      <td>1.039375</td>\n      <td>1.039375</td>\n    </tr>\n    <tr>\n      <th>bolleria_envasada</th>\n      <td>1.04623</td>\n      <td>1.04623</td>\n      <td>1.050742</td>\n      <td>1.077311</td>\n      <td>1.08217</td>\n      <td>1.083428</td>\n      <td>1.070121</td>\n      <td>1.062095</td>\n      <td>1.034751</td>\n      <td>1.04454</td>\n      <td>1.042661</td>\n      <td>1.025906</td>\n    </tr>\n    <tr>\n      <th>tomate</th>\n      <td>0.977143</td>\n      <td>0.977143</td>\n      <td>0.980211</td>\n      <td>0.977808</td>\n      <td>0.977143</td>\n      <td>0.977143</td>\n      <td>0.977143</td>\n      <td>0.977143</td>\n      <td>0.977143</td>\n      <td>0.977143</td>\n      <td>0.977143</td>\n      <td>0.977143</td>\n    </tr>\n    <tr>\n      <th>pan_de_horno</th>\n      <td>0.901766</td>\n      <td>0.902487</td>\n      <td>0.893585</td>\n      <td>0.896727</td>\n      <td>0.896727</td>\n      <td>0.896727</td>\n      <td>0.894896</td>\n      <td>0.896727</td>\n      <td>0.896727</td>\n      <td>0.894519</td>\n      <td>0.896727</td>\n      <td>0.896727</td>\n    </tr>\n  </tbody>\n</table>\n<p>150 rows × 12 columns</p>\n</div>"
     },
     "metadata": {}
    }
   ],
   "execution_count": null
  },
  {
   "cell_type": "markdown",
   "source": "### ¿How many products were added in the last week?",
   "metadata": {
    "id": "fBinE1YZOJov",
    "cell_id": "00034-c82d5ed8-517f-4c44-875f-c4c7b4bfc9e1",
    "deepnote_cell_type": "markdown"
   }
  },
  {
   "cell_type": "code",
   "metadata": {
    "colab": {
     "base_uri": "https://localhost:8080/"
    },
    "id": "yVSNF8lHJGeW",
    "executionInfo": {
     "status": "ok",
     "timestamp": 1625412597580,
     "user_tz": 240,
     "elapsed": 1093,
     "user": {
      "displayName": "Andrés Sánchez",
      "photoUrl": "https://lh3.googleusercontent.com/a-/AOh14Gg69bZMv30ckb-T1MJy0nSxWIHUaP0p2uP6MYBuvQ=s64",
      "userId": "07985253921366566280"
     }
    },
    "outputId": "1e1c9b0e-4fe5-400e-c272-aafc1d5dc2e6",
    "cell_id": "00035-7f9805ef-ecf0-41fc-b1ac-b9eafe071366",
    "deepnote_to_be_reexecuted": false,
    "source_hash": "137cefc0",
    "execution_start": 1630094719462,
    "execution_millis": 978,
    "deepnote_cell_type": "code"
   },
   "source": "ad_products = mercadona_prices.groupby(['name', pd.Grouper(key = 'insert_date', freq = '1W')])['id'].count()\nad_products = pd.DataFrame(ad_products).reset_index()\nad_products['insert_date'] = ad_products['insert_date'].dt.strftime('%W/%y')\nad_products = pd.pivot_table(data = ad_products, values = 'id', index = 'name', columns = 'insert_date')\nad_products = ad_products.iloc[:,-2:]\nx1 = ad_products['39/20'].dropna()\nx2 = ad_products['40/20'].dropna()\nx2.value_counts().sum() - x1.value_counts().sum()",
   "outputs": [
    {
     "output_type": "execute_result",
     "execution_count": 17,
     "data": {
      "text/plain": "83"
     },
     "metadata": {}
    }
   ],
   "execution_count": null
  },
  {
   "cell_type": "markdown",
   "source": "<a style='text-decoration:none;line-height:16px;display:flex;color:#5B5B62;padding:10px;justify-content:end;' href='https://deepnote.com?utm_source=created-in-deepnote-cell&projectId=fe744348-fecc-4b7a-803c-44dba24ecb38' target=\"_blank\">\n<img alt='Created in deepnote.com' style='display:inline;max-height:16px;margin:0px;margin-right:7.5px;' src='data:image/svg+xml;base64,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' > </img>\nCreated in <span style='font-weight:600;margin-left:4px;'>Deepnote</span></a>",
   "metadata": {
    "tags": [],
    "created_in_deepnote_cell": true,
    "deepnote_cell_type": "markdown"
   }
  }
 ],
 "nbformat": 4,
 "nbformat_minor": 0,
 "metadata": {
  "colab": {
   "name": "mercadona_pricing_with_pandas.ipynb",
   "provenance": [],
   "collapsed_sections": [
    "uNMdUJQi-s8L",
    "uaSB5s-F-vrc",
    "VCGubEEy4icA",
    "u9NFt6A1Lfxz",
    "CgLaIirjbl9t",
    "BHS6LxRUMSV0",
    "QPwmb6foWu-m",
    "0dZfqrpNZLyQ",
    "_ZIIfgAyuyOy",
    "X-inKaJxxDc0",
    "m8gBhYKEI1UJ",
    "fBinE1YZOJov"
   ]
  },
  "kernelspec": {
   "name": "python3",
   "display_name": "Python 3.9.1 64-bit"
  },
  "language_info": {
   "name": "python",
   "version": "3.9.1"
  },
  "interpreter": {
   "hash": "aee8b7b246df8f9039afb4144a1f6fd8d2ca17a180786b69acc140d282b71a49"
  },
  "deepnote_notebook_id": "83e00bdb-522e-4905-b74b-ff1dc290918f",
  "deepnote": {},
  "deepnote_execution_queue": []
 }
}
{
 "cells": [
  {
   "cell_type": "markdown",
   "source": "# Regiment",
   "metadata": {
    "id": "WfVMTVOWxQ2f",
    "cell_id": "00000-418d31fb-b9c9-4bf4-881a-fe71177ee77d",
    "deepnote_cell_type": "markdown"
   }
  },
  {
   "cell_type": "markdown",
   "source": "### Introduction:\n\nSpecial thanks to: http://chrisalbon.com/ for sharing the dataset and materials.\n\n### Step 1. Import the necessary libraries",
   "metadata": {
    "id": "Wta8QXuoxQ2f",
    "cell_id": "00001-d1525680-5a42-4aae-a8e7-d712c97ec176",
    "deepnote_cell_type": "markdown"
   }
  },
  {
   "cell_type": "code",
   "metadata": {
    "id": "_np5p7zgxQ2g",
    "executionInfo": {
     "status": "ok",
     "timestamp": 1623613418240,
     "user_tz": 240,
     "elapsed": 155,
     "user": {
      "displayName": "Andrés Sánchez",
      "photoUrl": "https://lh3.googleusercontent.com/a-/AOh14Gg69bZMv30ckb-T1MJy0nSxWIHUaP0p2uP6MYBuvQ=s64",
      "userId": "07985253921366566280"
     }
    },
    "cell_id": "00002-dcfe0a59-b930-469c-b8e6-2314315a9693",
    "deepnote_to_be_reexecuted": false,
    "source_hash": "c76c7c51",
    "execution_start": 1630097942516,
    "execution_millis": 16,
    "deepnote_cell_type": "code"
   },
   "source": "import pandas as pd\nimport numpy as np",
   "outputs": [],
   "execution_count": null
  },
  {
   "cell_type": "markdown",
   "source": "### Step 2. Create the DataFrame with the following values:",
   "metadata": {
    "id": "wYoDbVb_xQ2g",
    "cell_id": "00003-939dd2da-d4ab-4333-b901-b1764a0284f0",
    "deepnote_cell_type": "markdown"
   }
  },
  {
   "cell_type": "code",
   "metadata": {
    "collapsed": true,
    "id": "VTCn0AndxQ2g",
    "executionInfo": {
     "status": "ok",
     "timestamp": 1623613418422,
     "user_tz": 240,
     "elapsed": 11,
     "user": {
      "displayName": "Andrés Sánchez",
      "photoUrl": "https://lh3.googleusercontent.com/a-/AOh14Gg69bZMv30ckb-T1MJy0nSxWIHUaP0p2uP6MYBuvQ=s64",
      "userId": "07985253921366566280"
     }
    },
    "cell_id": "00004-27cba5f1-ecf8-41c6-8def-9f0dc0809e00",
    "deepnote_to_be_reexecuted": false,
    "source_hash": "4c82b2b9",
    "execution_start": 1630097942532,
    "execution_millis": 3,
    "deepnote_cell_type": "code"
   },
   "source": "raw_data = {'regiment': ['Nighthawks', 'Nighthawks', 'Nighthawks', 'Nighthawks', 'Dragoons', 'Dragoons', 'Dragoons', 'Dragoons', 'Scouts', 'Scouts', 'Scouts', 'Scouts'], \n        'company': ['1st', '1st', '2nd', '2nd', '1st', '1st', '2nd', '2nd','1st', '1st', '2nd', '2nd'], \n        'name': ['Miller', 'Jacobson', 'Ali', 'Milner', 'Cooze', 'Jacon', 'Ryaner', 'Sone', 'Sloan', 'Piger', 'Riani', 'Ali'], \n        'preTestScore': [4, 24, 31, 2, 3, 4, 24, 31, 2, 3, 2, 3],\n        'postTestScore': [25, 94, 57, 62, 70, 25, 94, 57, 62, 70, 62, 70]}",
   "outputs": [],
   "execution_count": null
  },
  {
   "cell_type": "markdown",
   "source": "### Step 3. Assign it to a variable called regiment.\n#### Don't forget to name each column",
   "metadata": {
    "id": "OLN2ECz0xQ2g",
    "cell_id": "00005-39932782-c8a8-46cf-9c08-258c1a7be8f9",
    "deepnote_cell_type": "markdown"
   }
  },
  {
   "cell_type": "code",
   "metadata": {
    "colab": {
     "base_uri": "https://localhost:8080/",
     "height": 402
    },
    "id": "lnfrdMcjxQ2g",
    "executionInfo": {
     "status": "ok",
     "timestamp": 1623613418422,
     "user_tz": 240,
     "elapsed": 9,
     "user": {
      "displayName": "Andrés Sánchez",
      "photoUrl": "https://lh3.googleusercontent.com/a-/AOh14Gg69bZMv30ckb-T1MJy0nSxWIHUaP0p2uP6MYBuvQ=s64",
      "userId": "07985253921366566280"
     }
    },
    "outputId": "07efaa13-0a2e-4795-fabe-e84e29ae60a9",
    "cell_id": "00006-d2ee4c53-186e-4610-89a6-1a28b5b5b143",
    "deepnote_to_be_reexecuted": false,
    "source_hash": "6d46ce89",
    "execution_start": 1630097942540,
    "execution_millis": 85,
    "deepnote_cell_type": "code"
   },
   "source": "raw_data = pd.DataFrame(raw_data)\nraw_data",
   "outputs": [
    {
     "output_type": "execute_result",
     "execution_count": 3,
     "data": {
      "application/vnd.deepnote.dataframe.v2+json": {
       "row_count": 12,
       "column_count": 5,
       "columns": [
        {
         "name": "regiment",
         "dtype": "object",
         "stats": {
          "unique_count": 3,
          "nan_count": 0,
          "categories": [
           {
            "name": "Nighthawks",
            "count": 4
           },
           {
            "name": "Dragoons",
            "count": 4
           },
           {
            "name": "Scouts",
            "count": 4
           }
          ]
         }
        },
        {
         "name": "company",
         "dtype": "object",
         "stats": {
          "unique_count": 2,
          "nan_count": 0,
          "categories": [
           {
            "name": "1st",
            "count": 6
           },
           {
            "name": "2nd",
            "count": 6
           }
          ]
         }
        },
        {
         "name": "name",
         "dtype": "object",
         "stats": {
          "unique_count": 11,
          "nan_count": 0,
          "categories": [
           {
            "name": "Ali",
            "count": 2
           },
           {
            "name": "Miller",
            "count": 1
           },
           {
            "name": "9 others",
            "count": 9
           }
          ]
         }
        },
        {
         "name": "preTestScore",
         "dtype": "int64",
         "stats": {
          "unique_count": 5,
          "nan_count": 0,
          "min": "2",
          "max": "31",
          "histogram": [
           {
            "bin_start": 2,
            "bin_end": 4.9,
            "count": 8
           },
           {
            "bin_start": 4.9,
            "bin_end": 7.8,
            "count": 0
           },
           {
            "bin_start": 7.8,
            "bin_end": 10.7,
            "count": 0
           },
           {
            "bin_start": 10.7,
            "bin_end": 13.6,
            "count": 0
           },
           {
            "bin_start": 13.6,
            "bin_end": 16.5,
            "count": 0
           },
           {
            "bin_start": 16.5,
            "bin_end": 19.4,
            "count": 0
           },
           {
            "bin_start": 19.4,
            "bin_end": 22.3,
            "count": 0
           },
           {
            "bin_start": 22.3,
            "bin_end": 25.2,
            "count": 2
           },
           {
            "bin_start": 25.2,
            "bin_end": 28.099999999999998,
            "count": 0
           },
           {
            "bin_start": 28.099999999999998,
            "bin_end": 31,
            "count": 2
           }
          ]
         }
        },
        {
         "name": "postTestScore",
         "dtype": "int64",
         "stats": {
          "unique_count": 5,
          "nan_count": 0,
          "min": "25",
          "max": "94",
          "histogram": [
           {
            "bin_start": 25,
            "bin_end": 31.9,
            "count": 2
           },
           {
            "bin_start": 31.9,
            "bin_end": 38.8,
            "count": 0
           },
           {
            "bin_start": 38.8,
            "bin_end": 45.7,
            "count": 0
           },
           {
            "bin_start": 45.7,
            "bin_end": 52.6,
            "count": 0
           },
           {
            "bin_start": 52.6,
            "bin_end": 59.5,
            "count": 2
           },
           {
            "bin_start": 59.5,
            "bin_end": 66.4,
            "count": 3
           },
           {
            "bin_start": 66.4,
            "bin_end": 73.30000000000001,
            "count": 3
           },
           {
            "bin_start": 73.30000000000001,
            "bin_end": 80.2,
            "count": 0
           },
           {
            "bin_start": 80.2,
            "bin_end": 87.1,
            "count": 0
           },
           {
            "bin_start": 87.1,
            "bin_end": 94,
            "count": 2
           }
          ]
         }
        },
        {
         "name": "_deepnote_index_column",
         "dtype": "int64"
        }
       ],
       "rows_top": [
        {
         "regiment": "Nighthawks",
         "company": "1st",
         "name": "Miller",
         "preTestScore": 4,
         "postTestScore": 25,
         "_deepnote_index_column": 0
        },
        {
         "regiment": "Nighthawks",
         "company": "1st",
         "name": "Jacobson",
         "preTestScore": 24,
         "postTestScore": 94,
         "_deepnote_index_column": 1
        },
        {
         "regiment": "Nighthawks",
         "company": "2nd",
         "name": "Ali",
         "preTestScore": 31,
         "postTestScore": 57,
         "_deepnote_index_column": 2
        },
        {
         "regiment": "Nighthawks",
         "company": "2nd",
         "name": "Milner",
         "preTestScore": 2,
         "postTestScore": 62,
         "_deepnote_index_column": 3
        },
        {
         "regiment": "Dragoons",
         "company": "1st",
         "name": "Cooze",
         "preTestScore": 3,
         "postTestScore": 70,
         "_deepnote_index_column": 4
        },
        {
         "regiment": "Dragoons",
         "company": "1st",
         "name": "Jacon",
         "preTestScore": 4,
         "postTestScore": 25,
         "_deepnote_index_column": 5
        },
        {
         "regiment": "Dragoons",
         "company": "2nd",
         "name": "Ryaner",
         "preTestScore": 24,
         "postTestScore": 94,
         "_deepnote_index_column": 6
        },
        {
         "regiment": "Dragoons",
         "company": "2nd",
         "name": "Sone",
         "preTestScore": 31,
         "postTestScore": 57,
         "_deepnote_index_column": 7
        },
        {
         "regiment": "Scouts",
         "company": "1st",
         "name": "Sloan",
         "preTestScore": 2,
         "postTestScore": 62,
         "_deepnote_index_column": 8
        },
        {
         "regiment": "Scouts",
         "company": "1st",
         "name": "Piger",
         "preTestScore": 3,
         "postTestScore": 70,
         "_deepnote_index_column": 9
        },
        {
         "regiment": "Scouts",
         "company": "2nd",
         "name": "Riani",
         "preTestScore": 2,
         "postTestScore": 62,
         "_deepnote_index_column": 10
        },
        {
         "regiment": "Scouts",
         "company": "2nd",
         "name": "Ali",
         "preTestScore": 3,
         "postTestScore": 70,
         "_deepnote_index_column": 11
        }
       ],
       "rows_bottom": null
      },
      "text/plain": "      regiment company      name  preTestScore  postTestScore\n0   Nighthawks     1st    Miller             4             25\n1   Nighthawks     1st  Jacobson            24             94\n2   Nighthawks     2nd       Ali            31             57\n3   Nighthawks     2nd    Milner             2             62\n4     Dragoons     1st     Cooze             3             70\n5     Dragoons     1st     Jacon             4             25\n6     Dragoons     2nd    Ryaner            24             94\n7     Dragoons     2nd      Sone            31             57\n8       Scouts     1st     Sloan             2             62\n9       Scouts     1st     Piger             3             70\n10      Scouts     2nd     Riani             2             62\n11      Scouts     2nd       Ali             3             70",
      "text/html": "<div>\n<style scoped>\n    .dataframe tbody tr th:only-of-type {\n        vertical-align: middle;\n    }\n\n    .dataframe tbody tr th {\n        vertical-align: top;\n    }\n\n    .dataframe thead th {\n        text-align: right;\n    }\n</style>\n<table border=\"1\" class=\"dataframe\">\n  <thead>\n    <tr style=\"text-align: right;\">\n      <th></th>\n      <th>regiment</th>\n      <th>company</th>\n      <th>name</th>\n      <th>preTestScore</th>\n      <th>postTestScore</th>\n    </tr>\n  </thead>\n  <tbody>\n    <tr>\n      <th>0</th>\n      <td>Nighthawks</td>\n      <td>1st</td>\n      <td>Miller</td>\n      <td>4</td>\n      <td>25</td>\n    </tr>\n    <tr>\n      <th>1</th>\n      <td>Nighthawks</td>\n      <td>1st</td>\n      <td>Jacobson</td>\n      <td>24</td>\n      <td>94</td>\n    </tr>\n    <tr>\n      <th>2</th>\n      <td>Nighthawks</td>\n      <td>2nd</td>\n      <td>Ali</td>\n      <td>31</td>\n      <td>57</td>\n    </tr>\n    <tr>\n      <th>3</th>\n      <td>Nighthawks</td>\n      <td>2nd</td>\n      <td>Milner</td>\n      <td>2</td>\n      <td>62</td>\n    </tr>\n    <tr>\n      <th>4</th>\n      <td>Dragoons</td>\n      <td>1st</td>\n      <td>Cooze</td>\n      <td>3</td>\n      <td>70</td>\n    </tr>\n    <tr>\n      <th>5</th>\n      <td>Dragoons</td>\n      <td>1st</td>\n      <td>Jacon</td>\n      <td>4</td>\n      <td>25</td>\n    </tr>\n    <tr>\n      <th>6</th>\n      <td>Dragoons</td>\n      <td>2nd</td>\n      <td>Ryaner</td>\n      <td>24</td>\n      <td>94</td>\n    </tr>\n    <tr>\n      <th>7</th>\n      <td>Dragoons</td>\n      <td>2nd</td>\n      <td>Sone</td>\n      <td>31</td>\n      <td>57</td>\n    </tr>\n    <tr>\n      <th>8</th>\n      <td>Scouts</td>\n      <td>1st</td>\n      <td>Sloan</td>\n      <td>2</td>\n      <td>62</td>\n    </tr>\n    <tr>\n      <th>9</th>\n      <td>Scouts</td>\n      <td>1st</td>\n      <td>Piger</td>\n      <td>3</td>\n      <td>70</td>\n    </tr>\n    <tr>\n      <th>10</th>\n      <td>Scouts</td>\n      <td>2nd</td>\n      <td>Riani</td>\n      <td>2</td>\n      <td>62</td>\n    </tr>\n    <tr>\n      <th>11</th>\n      <td>Scouts</td>\n      <td>2nd</td>\n      <td>Ali</td>\n      <td>3</td>\n      <td>70</td>\n    </tr>\n  </tbody>\n</table>\n</div>"
     },
     "metadata": {}
    }
   ],
   "execution_count": null
  },
  {
   "cell_type": "markdown",
   "source": "### Step 4. What is the mean preTestScore from the regiment Nighthawks?  ",
   "metadata": {
    "id": "lAK6hURdxQ2g",
    "cell_id": "00007-1d9dfebb-026f-49f4-b568-8bd48cd9be44",
    "deepnote_cell_type": "markdown"
   }
  },
  {
   "cell_type": "code",
   "metadata": {
    "colab": {
     "base_uri": "https://localhost:8080/"
    },
    "id": "SsbMZzivxQ2h",
    "executionInfo": {
     "status": "ok",
     "timestamp": 1623613418423,
     "user_tz": 240,
     "elapsed": 8,
     "user": {
      "displayName": "Andrés Sánchez",
      "photoUrl": "https://lh3.googleusercontent.com/a-/AOh14Gg69bZMv30ckb-T1MJy0nSxWIHUaP0p2uP6MYBuvQ=s64",
      "userId": "07985253921366566280"
     }
    },
    "outputId": "c94a1016-0852-45c2-9203-a1d562fa7145",
    "cell_id": "00008-e6b31dc1-105c-4a05-a65f-0666b479784a",
    "deepnote_to_be_reexecuted": false,
    "source_hash": "18e7c483",
    "execution_start": 1630097942620,
    "execution_millis": 0,
    "deepnote_cell_type": "code"
   },
   "source": "raw_data.loc[raw_data['regiment'] == 'Nighthawks']['preTestScore'].mean()",
   "outputs": [
    {
     "output_type": "execute_result",
     "execution_count": 4,
     "data": {
      "text/plain": "15.25"
     },
     "metadata": {}
    }
   ],
   "execution_count": null
  },
  {
   "cell_type": "markdown",
   "source": "### Step 5. Present general statistics by company",
   "metadata": {
    "id": "Pf1Oh1wexQ2h",
    "cell_id": "00009-b029ae71-8a94-48e0-8c02-38594ea6b61d",
    "deepnote_cell_type": "markdown"
   }
  },
  {
   "cell_type": "code",
   "metadata": {
    "colab": {
     "base_uri": "https://localhost:8080/",
     "height": 166
    },
    "id": "3hQ7sgEKxQ2h",
    "executionInfo": {
     "status": "ok",
     "timestamp": 1623613418600,
     "user_tz": 240,
     "elapsed": 182,
     "user": {
      "displayName": "Andrés Sánchez",
      "photoUrl": "https://lh3.googleusercontent.com/a-/AOh14Gg69bZMv30ckb-T1MJy0nSxWIHUaP0p2uP6MYBuvQ=s64",
      "userId": "07985253921366566280"
     }
    },
    "outputId": "1b2cd7cc-96d1-4b11-c315-0566e32ddb72",
    "cell_id": "00010-a5e54f2f-a6c5-44a4-b52b-b8806a42dc51",
    "deepnote_to_be_reexecuted": false,
    "source_hash": "6430d788",
    "execution_start": 1630097942621,
    "execution_millis": 49,
    "deepnote_cell_type": "code"
   },
   "source": "raw_data.groupby('company').describe() ",
   "outputs": [
    {
     "output_type": "execute_result",
     "execution_count": 5,
     "data": {
      "application/vnd.deepnote.dataframe.v2+json": {
       "row_count": 2,
       "column_count": 16,
       "columns": [
        {
         "name": [
          "preTestScore",
          "count"
         ],
         "dtype": "float64",
         "stats": {
          "unique_count": 1,
          "nan_count": 0,
          "min": "6.0",
          "max": "6.0",
          "histogram": [
           {
            "bin_start": 5.5,
            "bin_end": 5.6,
            "count": 0
           },
           {
            "bin_start": 5.6,
            "bin_end": 5.7,
            "count": 0
           },
           {
            "bin_start": 5.7,
            "bin_end": 5.8,
            "count": 0
           },
           {
            "bin_start": 5.8,
            "bin_end": 5.9,
            "count": 0
           },
           {
            "bin_start": 5.9,
            "bin_end": 6,
            "count": 0
           },
           {
            "bin_start": 6,
            "bin_end": 6.1,
            "count": 2
           },
           {
            "bin_start": 6.1,
            "bin_end": 6.2,
            "count": 0
           },
           {
            "bin_start": 6.2,
            "bin_end": 6.3,
            "count": 0
           },
           {
            "bin_start": 6.3,
            "bin_end": 6.4,
            "count": 0
           },
           {
            "bin_start": 6.4,
            "bin_end": 6.5,
            "count": 0
           }
          ]
         }
        },
        {
         "name": [
          "preTestScore",
          "mean"
         ],
         "dtype": "float64",
         "stats": {
          "unique_count": 2,
          "nan_count": 0,
          "min": "6.666666666666667",
          "max": "15.5",
          "histogram": [
           {
            "bin_start": 6.666666666666667,
            "bin_end": 7.55,
            "count": 1
           },
           {
            "bin_start": 7.55,
            "bin_end": 8.433333333333334,
            "count": 0
           },
           {
            "bin_start": 8.433333333333334,
            "bin_end": 9.316666666666666,
            "count": 0
           },
           {
            "bin_start": 9.316666666666666,
            "bin_end": 10.2,
            "count": 0
           },
           {
            "bin_start": 10.2,
            "bin_end": 11.083333333333332,
            "count": 0
           },
           {
            "bin_start": 11.083333333333332,
            "bin_end": 11.966666666666665,
            "count": 0
           },
           {
            "bin_start": 11.966666666666665,
            "bin_end": 12.85,
            "count": 0
           },
           {
            "bin_start": 12.85,
            "bin_end": 13.733333333333333,
            "count": 0
           },
           {
            "bin_start": 13.733333333333333,
            "bin_end": 14.616666666666665,
            "count": 0
           },
           {
            "bin_start": 14.616666666666665,
            "bin_end": 15.5,
            "count": 1
           }
          ]
         }
        },
        {
         "name": [
          "preTestScore",
          "std"
         ],
         "dtype": "float64",
         "stats": {
          "unique_count": 2,
          "nan_count": 0,
          "min": "8.524474568362947",
          "max": "14.652644812456213",
          "histogram": [
           {
            "bin_start": 8.524474568362947,
            "bin_end": 9.137291592772273,
            "count": 1
           },
           {
            "bin_start": 9.137291592772273,
            "bin_end": 9.750108617181601,
            "count": 0
           },
           {
            "bin_start": 9.750108617181601,
            "bin_end": 10.362925641590927,
            "count": 0
           },
           {
            "bin_start": 10.362925641590927,
            "bin_end": 10.975742666000254,
            "count": 0
           },
           {
            "bin_start": 10.975742666000254,
            "bin_end": 11.58855969040958,
            "count": 0
           },
           {
            "bin_start": 11.58855969040958,
            "bin_end": 12.201376714818906,
            "count": 0
           },
           {
            "bin_start": 12.201376714818906,
            "bin_end": 12.814193739228234,
            "count": 0
           },
           {
            "bin_start": 12.814193739228234,
            "bin_end": 13.42701076363756,
            "count": 0
           },
           {
            "bin_start": 13.42701076363756,
            "bin_end": 14.039827788046885,
            "count": 0
           },
           {
            "bin_start": 14.039827788046885,
            "bin_end": 14.652644812456213,
            "count": 1
           }
          ]
         }
        },
        {
         "name": [
          "preTestScore",
          "min"
         ],
         "dtype": "float64",
         "stats": {
          "unique_count": 1,
          "nan_count": 0,
          "min": "2.0",
          "max": "2.0",
          "histogram": [
           {
            "bin_start": 1.5,
            "bin_end": 1.6,
            "count": 0
           },
           {
            "bin_start": 1.6,
            "bin_end": 1.7,
            "count": 0
           },
           {
            "bin_start": 1.7,
            "bin_end": 1.8,
            "count": 0
           },
           {
            "bin_start": 1.8,
            "bin_end": 1.9,
            "count": 0
           },
           {
            "bin_start": 1.9,
            "bin_end": 2,
            "count": 0
           },
           {
            "bin_start": 2,
            "bin_end": 2.1,
            "count": 2
           },
           {
            "bin_start": 2.1,
            "bin_end": 2.2,
            "count": 0
           },
           {
            "bin_start": 2.2,
            "bin_end": 2.3,
            "count": 0
           },
           {
            "bin_start": 2.3,
            "bin_end": 2.4,
            "count": 0
           },
           {
            "bin_start": 2.4,
            "bin_end": 2.5,
            "count": 0
           }
          ]
         }
        },
        {
         "name": [
          "preTestScore",
          "25%"
         ],
         "dtype": "float64",
         "stats": {
          "unique_count": 2,
          "nan_count": 0,
          "min": "2.25",
          "max": "3.0",
          "histogram": [
           {
            "bin_start": 2.25,
            "bin_end": 2.325,
            "count": 1
           },
           {
            "bin_start": 2.325,
            "bin_end": 2.4,
            "count": 0
           },
           {
            "bin_start": 2.4,
            "bin_end": 2.475,
            "count": 0
           },
           {
            "bin_start": 2.475,
            "bin_end": 2.55,
            "count": 0
           },
           {
            "bin_start": 2.55,
            "bin_end": 2.625,
            "count": 0
           },
           {
            "bin_start": 2.625,
            "bin_end": 2.7,
            "count": 0
           },
           {
            "bin_start": 2.7,
            "bin_end": 2.775,
            "count": 0
           },
           {
            "bin_start": 2.775,
            "bin_end": 2.85,
            "count": 0
           },
           {
            "bin_start": 2.85,
            "bin_end": 2.925,
            "count": 0
           },
           {
            "bin_start": 2.925,
            "bin_end": 3,
            "count": 1
           }
          ]
         }
        },
        {
         "name": [
          "preTestScore",
          "50%"
         ],
         "dtype": "float64",
         "stats": {
          "unique_count": 2,
          "nan_count": 0,
          "min": "3.5",
          "max": "13.5",
          "histogram": [
           {
            "bin_start": 3.5,
            "bin_end": 4.5,
            "count": 1
           },
           {
            "bin_start": 4.5,
            "bin_end": 5.5,
            "count": 0
           },
           {
            "bin_start": 5.5,
            "bin_end": 6.5,
            "count": 0
           },
           {
            "bin_start": 6.5,
            "bin_end": 7.5,
            "count": 0
           },
           {
            "bin_start": 7.5,
            "bin_end": 8.5,
            "count": 0
           },
           {
            "bin_start": 8.5,
            "bin_end": 9.5,
            "count": 0
           },
           {
            "bin_start": 9.5,
            "bin_end": 10.5,
            "count": 0
           },
           {
            "bin_start": 10.5,
            "bin_end": 11.5,
            "count": 0
           },
           {
            "bin_start": 11.5,
            "bin_end": 12.5,
            "count": 0
           },
           {
            "bin_start": 12.5,
            "bin_end": 13.5,
            "count": 1
           }
          ]
         }
        },
        {
         "name": [
          "preTestScore",
          "75%"
         ],
         "dtype": "float64",
         "stats": {
          "unique_count": 2,
          "nan_count": 0,
          "min": "4.0",
          "max": "29.25",
          "histogram": [
           {
            "bin_start": 4,
            "bin_end": 6.525,
            "count": 1
           },
           {
            "bin_start": 6.525,
            "bin_end": 9.05,
            "count": 0
           },
           {
            "bin_start": 9.05,
            "bin_end": 11.575,
            "count": 0
           },
           {
            "bin_start": 11.575,
            "bin_end": 14.1,
            "count": 0
           },
           {
            "bin_start": 14.1,
            "bin_end": 16.625,
            "count": 0
           },
           {
            "bin_start": 16.625,
            "bin_end": 19.15,
            "count": 0
           },
           {
            "bin_start": 19.15,
            "bin_end": 21.675,
            "count": 0
           },
           {
            "bin_start": 21.675,
            "bin_end": 24.2,
            "count": 0
           },
           {
            "bin_start": 24.2,
            "bin_end": 26.724999999999998,
            "count": 0
           },
           {
            "bin_start": 26.724999999999998,
            "bin_end": 29.25,
            "count": 1
           }
          ]
         }
        },
        {
         "name": [
          "preTestScore",
          "max"
         ],
         "dtype": "float64",
         "stats": {
          "unique_count": 2,
          "nan_count": 0,
          "min": "24.0",
          "max": "31.0",
          "histogram": [
           {
            "bin_start": 24,
            "bin_end": 24.7,
            "count": 1
           },
           {
            "bin_start": 24.7,
            "bin_end": 25.4,
            "count": 0
           },
           {
            "bin_start": 25.4,
            "bin_end": 26.1,
            "count": 0
           },
           {
            "bin_start": 26.1,
            "bin_end": 26.8,
            "count": 0
           },
           {
            "bin_start": 26.8,
            "bin_end": 27.5,
            "count": 0
           },
           {
            "bin_start": 27.5,
            "bin_end": 28.2,
            "count": 0
           },
           {
            "bin_start": 28.2,
            "bin_end": 28.9,
            "count": 0
           },
           {
            "bin_start": 28.9,
            "bin_end": 29.6,
            "count": 0
           },
           {
            "bin_start": 29.6,
            "bin_end": 30.3,
            "count": 0
           },
           {
            "bin_start": 30.3,
            "bin_end": 31,
            "count": 1
           }
          ]
         }
        },
        {
         "name": [
          "postTestScore",
          "count"
         ],
         "dtype": "float64",
         "stats": {
          "unique_count": 1,
          "nan_count": 0,
          "min": "6.0",
          "max": "6.0",
          "histogram": [
           {
            "bin_start": 5.5,
            "bin_end": 5.6,
            "count": 0
           },
           {
            "bin_start": 5.6,
            "bin_end": 5.7,
            "count": 0
           },
           {
            "bin_start": 5.7,
            "bin_end": 5.8,
            "count": 0
           },
           {
            "bin_start": 5.8,
            "bin_end": 5.9,
            "count": 0
           },
           {
            "bin_start": 5.9,
            "bin_end": 6,
            "count": 0
           },
           {
            "bin_start": 6,
            "bin_end": 6.1,
            "count": 2
           },
           {
            "bin_start": 6.1,
            "bin_end": 6.2,
            "count": 0
           },
           {
            "bin_start": 6.2,
            "bin_end": 6.3,
            "count": 0
           },
           {
            "bin_start": 6.3,
            "bin_end": 6.4,
            "count": 0
           },
           {
            "bin_start": 6.4,
            "bin_end": 6.5,
            "count": 0
           }
          ]
         }
        },
        {
         "name": [
          "postTestScore",
          "mean"
         ],
         "dtype": "float64",
         "stats": {
          "unique_count": 2,
          "nan_count": 0,
          "min": "57.666666666666664",
          "max": "67.0",
          "histogram": [
           {
            "bin_start": 57.666666666666664,
            "bin_end": 58.599999999999994,
            "count": 1
           },
           {
            "bin_start": 58.599999999999994,
            "bin_end": 59.53333333333333,
            "count": 0
           },
           {
            "bin_start": 59.53333333333333,
            "bin_end": 60.46666666666667,
            "count": 0
           },
           {
            "bin_start": 60.46666666666667,
            "bin_end": 61.4,
            "count": 0
           },
           {
            "bin_start": 61.4,
            "bin_end": 62.33333333333333,
            "count": 0
           },
           {
            "bin_start": 62.33333333333333,
            "bin_end": 63.266666666666666,
            "count": 0
           },
           {
            "bin_start": 63.266666666666666,
            "bin_end": 64.2,
            "count": 0
           },
           {
            "bin_start": 64.2,
            "bin_end": 65.13333333333333,
            "count": 0
           },
           {
            "bin_start": 65.13333333333333,
            "bin_end": 66.06666666666666,
            "count": 0
           },
           {
            "bin_start": 66.06666666666666,
            "bin_end": 67,
            "count": 1
           }
          ]
         }
        },
        {
         "name": [
          "postTestScore",
          "std"
         ],
         "dtype": "float64",
         "stats": {
          "unique_count": 2,
          "nan_count": 0,
          "min": "14.057026712644463",
          "max": "27.48575388572536",
          "histogram": [
           {
            "bin_start": 14.057026712644463,
            "bin_end": 15.399899429952553,
            "count": 1
           },
           {
            "bin_start": 15.399899429952553,
            "bin_end": 16.74277214726064,
            "count": 0
           },
           {
            "bin_start": 16.74277214726064,
            "bin_end": 18.08564486456873,
            "count": 0
           },
           {
            "bin_start": 18.08564486456873,
            "bin_end": 19.42851758187682,
            "count": 0
           },
           {
            "bin_start": 19.42851758187682,
            "bin_end": 20.77139029918491,
            "count": 0
           },
           {
            "bin_start": 20.77139029918491,
            "bin_end": 22.114263016493,
            "count": 0
           },
           {
            "bin_start": 22.114263016493,
            "bin_end": 23.45713573380109,
            "count": 0
           },
           {
            "bin_start": 23.45713573380109,
            "bin_end": 24.80000845110918,
            "count": 0
           },
           {
            "bin_start": 24.80000845110918,
            "bin_end": 26.14288116841727,
            "count": 0
           },
           {
            "bin_start": 26.14288116841727,
            "bin_end": 27.48575388572536,
            "count": 1
           }
          ]
         }
        },
        {
         "name": [
          "postTestScore",
          "min"
         ],
         "dtype": "float64",
         "stats": {
          "unique_count": 2,
          "nan_count": 0,
          "min": "25.0",
          "max": "57.0",
          "histogram": [
           {
            "bin_start": 25,
            "bin_end": 28.2,
            "count": 1
           },
           {
            "bin_start": 28.2,
            "bin_end": 31.4,
            "count": 0
           },
           {
            "bin_start": 31.4,
            "bin_end": 34.6,
            "count": 0
           },
           {
            "bin_start": 34.6,
            "bin_end": 37.8,
            "count": 0
           },
           {
            "bin_start": 37.8,
            "bin_end": 41,
            "count": 0
           },
           {
            "bin_start": 41,
            "bin_end": 44.2,
            "count": 0
           },
           {
            "bin_start": 44.2,
            "bin_end": 47.400000000000006,
            "count": 0
           },
           {
            "bin_start": 47.400000000000006,
            "bin_end": 50.6,
            "count": 0
           },
           {
            "bin_start": 50.6,
            "bin_end": 53.8,
            "count": 0
           },
           {
            "bin_start": 53.8,
            "bin_end": 57,
            "count": 1
           }
          ]
         }
        },
        {
         "name": [
          "postTestScore",
          "25%"
         ],
         "dtype": "float64",
         "stats": {
          "unique_count": 2,
          "nan_count": 0,
          "min": "34.25",
          "max": "58.25",
          "histogram": [
           {
            "bin_start": 34.25,
            "bin_end": 36.65,
            "count": 1
           },
           {
            "bin_start": 36.65,
            "bin_end": 39.05,
            "count": 0
           },
           {
            "bin_start": 39.05,
            "bin_end": 41.45,
            "count": 0
           },
           {
            "bin_start": 41.45,
            "bin_end": 43.85,
            "count": 0
           },
           {
            "bin_start": 43.85,
            "bin_end": 46.25,
            "count": 0
           },
           {
            "bin_start": 46.25,
            "bin_end": 48.65,
            "count": 0
           },
           {
            "bin_start": 48.65,
            "bin_end": 51.05,
            "count": 0
           },
           {
            "bin_start": 51.05,
            "bin_end": 53.45,
            "count": 0
           },
           {
            "bin_start": 53.45,
            "bin_end": 55.849999999999994,
            "count": 0
           },
           {
            "bin_start": 55.849999999999994,
            "bin_end": 58.25,
            "count": 1
           }
          ]
         }
        },
        {
         "name": [
          "postTestScore",
          "50%"
         ],
         "dtype": "float64",
         "stats": {
          "unique_count": 2,
          "nan_count": 0,
          "min": "62.0",
          "max": "66.0",
          "histogram": [
           {
            "bin_start": 62,
            "bin_end": 62.4,
            "count": 1
           },
           {
            "bin_start": 62.4,
            "bin_end": 62.8,
            "count": 0
           },
           {
            "bin_start": 62.8,
            "bin_end": 63.2,
            "count": 0
           },
           {
            "bin_start": 63.2,
            "bin_end": 63.6,
            "count": 0
           },
           {
            "bin_start": 63.6,
            "bin_end": 64,
            "count": 0
           },
           {
            "bin_start": 64,
            "bin_end": 64.4,
            "count": 0
           },
           {
            "bin_start": 64.4,
            "bin_end": 64.8,
            "count": 0
           },
           {
            "bin_start": 64.8,
            "bin_end": 65.2,
            "count": 0
           },
           {
            "bin_start": 65.2,
            "bin_end": 65.6,
            "count": 0
           },
           {
            "bin_start": 65.6,
            "bin_end": 66,
            "count": 1
           }
          ]
         }
        },
        {
         "name": [
          "postTestScore",
          "75%"
         ],
         "dtype": "float64",
         "stats": {
          "unique_count": 2,
          "nan_count": 0,
          "min": "68.0",
          "max": "70.0",
          "histogram": [
           {
            "bin_start": 68,
            "bin_end": 68.2,
            "count": 1
           },
           {
            "bin_start": 68.2,
            "bin_end": 68.4,
            "count": 0
           },
           {
            "bin_start": 68.4,
            "bin_end": 68.6,
            "count": 0
           },
           {
            "bin_start": 68.6,
            "bin_end": 68.8,
            "count": 0
           },
           {
            "bin_start": 68.8,
            "bin_end": 69,
            "count": 0
           },
           {
            "bin_start": 69,
            "bin_end": 69.2,
            "count": 0
           },
           {
            "bin_start": 69.2,
            "bin_end": 69.4,
            "count": 0
           },
           {
            "bin_start": 69.4,
            "bin_end": 69.6,
            "count": 0
           },
           {
            "bin_start": 69.6,
            "bin_end": 69.8,
            "count": 0
           },
           {
            "bin_start": 69.8,
            "bin_end": 70,
            "count": 1
           }
          ]
         }
        },
        {
         "name": [
          "postTestScore",
          "max"
         ],
         "dtype": "float64",
         "stats": {
          "unique_count": 1,
          "nan_count": 0,
          "min": "94.0",
          "max": "94.0",
          "histogram": [
           {
            "bin_start": 93.5,
            "bin_end": 93.6,
            "count": 0
           },
           {
            "bin_start": 93.6,
            "bin_end": 93.7,
            "count": 0
           },
           {
            "bin_start": 93.7,
            "bin_end": 93.8,
            "count": 0
           },
           {
            "bin_start": 93.8,
            "bin_end": 93.9,
            "count": 0
           },
           {
            "bin_start": 93.9,
            "bin_end": 94,
            "count": 0
           },
           {
            "bin_start": 94,
            "bin_end": 94.1,
            "count": 2
           },
           {
            "bin_start": 94.1,
            "bin_end": 94.2,
            "count": 0
           },
           {
            "bin_start": 94.2,
            "bin_end": 94.3,
            "count": 0
           },
           {
            "bin_start": 94.3,
            "bin_end": 94.4,
            "count": 0
           },
           {
            "bin_start": 94.4,
            "bin_end": 94.5,
            "count": 0
           }
          ]
         }
        },
        {
         "name": "_deepnote_index_column",
         "dtype": "object"
        }
       ],
       "rows_top": [
        {
         "('preTestScore', 'count')": 6,
         "('preTestScore', 'mean')": 6.666666666666667,
         "('preTestScore', 'std')": 8.524474568362947,
         "('preTestScore', 'min')": 2,
         "('preTestScore', '25%')": 3,
         "('preTestScore', '50%')": 3.5,
         "('preTestScore', '75%')": 4,
         "('preTestScore', 'max')": 24,
         "('postTestScore', 'count')": 6,
         "('postTestScore', 'mean')": 57.666666666666664,
         "('postTestScore', 'std')": 27.48575388572536,
         "('postTestScore', 'min')": 25,
         "('postTestScore', '25%')": 34.25,
         "('postTestScore', '50%')": 66,
         "('postTestScore', '75%')": 70,
         "('postTestScore', 'max')": 94,
         "_deepnote_index_column": "1st"
        },
        {
         "('preTestScore', 'count')": 6,
         "('preTestScore', 'mean')": 15.5,
         "('preTestScore', 'std')": 14.652644812456213,
         "('preTestScore', 'min')": 2,
         "('preTestScore', '25%')": 2.25,
         "('preTestScore', '50%')": 13.5,
         "('preTestScore', '75%')": 29.25,
         "('preTestScore', 'max')": 31,
         "('postTestScore', 'count')": 6,
         "('postTestScore', 'mean')": 67,
         "('postTestScore', 'std')": 14.057026712644463,
         "('postTestScore', 'min')": 57,
         "('postTestScore', '25%')": 58.25,
         "('postTestScore', '50%')": 62,
         "('postTestScore', '75%')": 68,
         "('postTestScore', 'max')": 94,
         "_deepnote_index_column": "2nd"
        }
       ],
       "rows_bottom": null
      },
      "text/plain": "        preTestScore                                                      \\\n               count       mean        std  min   25%   50%    75%   max   \ncompany                                                                    \n1st              6.0   6.666667   8.524475  2.0  3.00   3.5   4.00  24.0   \n2nd              6.0  15.500000  14.652645  2.0  2.25  13.5  29.25  31.0   \n\n        postTestScore                                                       \n                count       mean        std   min    25%   50%   75%   max  \ncompany                                                                     \n1st               6.0  57.666667  27.485754  25.0  34.25  66.0  70.0  94.0  \n2nd               6.0  67.000000  14.057027  57.0  58.25  62.0  68.0  94.0  ",
      "text/html": "<div>\n<style scoped>\n    .dataframe tbody tr th:only-of-type {\n        vertical-align: middle;\n    }\n\n    .dataframe tbody tr th {\n        vertical-align: top;\n    }\n\n    .dataframe thead tr th {\n        text-align: left;\n    }\n\n    .dataframe thead tr:last-of-type th {\n        text-align: right;\n    }\n</style>\n<table border=\"1\" class=\"dataframe\">\n  <thead>\n    <tr>\n      <th></th>\n      <th colspan=\"8\" halign=\"left\">preTestScore</th>\n      <th colspan=\"8\" halign=\"left\">postTestScore</th>\n    </tr>\n    <tr>\n      <th></th>\n      <th>count</th>\n      <th>mean</th>\n      <th>std</th>\n      <th>min</th>\n      <th>25%</th>\n      <th>50%</th>\n      <th>75%</th>\n      <th>max</th>\n      <th>count</th>\n      <th>mean</th>\n      <th>std</th>\n      <th>min</th>\n      <th>25%</th>\n      <th>50%</th>\n      <th>75%</th>\n      <th>max</th>\n    </tr>\n    <tr>\n      <th>company</th>\n      <th></th>\n      <th></th>\n      <th></th>\n      <th></th>\n      <th></th>\n      <th></th>\n      <th></th>\n      <th></th>\n      <th></th>\n      <th></th>\n      <th></th>\n      <th></th>\n      <th></th>\n      <th></th>\n      <th></th>\n      <th></th>\n    </tr>\n  </thead>\n  <tbody>\n    <tr>\n      <th>1st</th>\n      <td>6.0</td>\n      <td>6.666667</td>\n      <td>8.524475</td>\n      <td>2.0</td>\n      <td>3.00</td>\n      <td>3.5</td>\n      <td>4.00</td>\n      <td>24.0</td>\n      <td>6.0</td>\n      <td>57.666667</td>\n      <td>27.485754</td>\n      <td>25.0</td>\n      <td>34.25</td>\n      <td>66.0</td>\n      <td>70.0</td>\n      <td>94.0</td>\n    </tr>\n    <tr>\n      <th>2nd</th>\n      <td>6.0</td>\n      <td>15.500000</td>\n      <td>14.652645</td>\n      <td>2.0</td>\n      <td>2.25</td>\n      <td>13.5</td>\n      <td>29.25</td>\n      <td>31.0</td>\n      <td>6.0</td>\n      <td>67.000000</td>\n      <td>14.057027</td>\n      <td>57.0</td>\n      <td>58.25</td>\n      <td>62.0</td>\n      <td>68.0</td>\n      <td>94.0</td>\n    </tr>\n  </tbody>\n</table>\n</div>"
     },
     "metadata": {}
    }
   ],
   "execution_count": null
  },
  {
   "cell_type": "markdown",
   "source": "### Step 6. What is the mean of each company's preTestScore?",
   "metadata": {
    "id": "yJ4yMcZfxQ2h",
    "cell_id": "00011-5056846d-dc08-4ded-9020-72124e097b30",
    "deepnote_cell_type": "markdown"
   }
  },
  {
   "cell_type": "code",
   "metadata": {
    "colab": {
     "base_uri": "https://localhost:8080/",
     "height": 136
    },
    "id": "gkdibbETxQ2h",
    "executionInfo": {
     "status": "ok",
     "timestamp": 1623613418600,
     "user_tz": 240,
     "elapsed": 8,
     "user": {
      "displayName": "Andrés Sánchez",
      "photoUrl": "https://lh3.googleusercontent.com/a-/AOh14Gg69bZMv30ckb-T1MJy0nSxWIHUaP0p2uP6MYBuvQ=s64",
      "userId": "07985253921366566280"
     }
    },
    "outputId": "d09c0172-3cd3-43fa-a2d4-4812022f018b",
    "cell_id": "00012-6b9db13d-25f6-4968-bd71-3d900962f03c",
    "deepnote_to_be_reexecuted": false,
    "source_hash": "909ed37f",
    "execution_start": 1630097942667,
    "execution_millis": 21,
    "deepnote_cell_type": "code"
   },
   "source": "raw_data.groupby(['company'])[['preTestScore']].mean()",
   "outputs": [
    {
     "output_type": "execute_result",
     "execution_count": 6,
     "data": {
      "application/vnd.deepnote.dataframe.v2+json": {
       "row_count": 2,
       "column_count": 1,
       "columns": [
        {
         "name": "preTestScore",
         "dtype": "float64",
         "stats": {
          "unique_count": 2,
          "nan_count": 0,
          "min": "6.666666666666667",
          "max": "15.5",
          "histogram": [
           {
            "bin_start": 6.666666666666667,
            "bin_end": 7.55,
            "count": 1
           },
           {
            "bin_start": 7.55,
            "bin_end": 8.433333333333334,
            "count": 0
           },
           {
            "bin_start": 8.433333333333334,
            "bin_end": 9.316666666666666,
            "count": 0
           },
           {
            "bin_start": 9.316666666666666,
            "bin_end": 10.2,
            "count": 0
           },
           {
            "bin_start": 10.2,
            "bin_end": 11.083333333333332,
            "count": 0
           },
           {
            "bin_start": 11.083333333333332,
            "bin_end": 11.966666666666665,
            "count": 0
           },
           {
            "bin_start": 11.966666666666665,
            "bin_end": 12.85,
            "count": 0
           },
           {
            "bin_start": 12.85,
            "bin_end": 13.733333333333333,
            "count": 0
           },
           {
            "bin_start": 13.733333333333333,
            "bin_end": 14.616666666666665,
            "count": 0
           },
           {
            "bin_start": 14.616666666666665,
            "bin_end": 15.5,
            "count": 1
           }
          ]
         }
        },
        {
         "name": "_deepnote_index_column",
         "dtype": "object"
        }
       ],
       "rows_top": [
        {
         "preTestScore": 6.666666666666667,
         "_deepnote_index_column": "1st"
        },
        {
         "preTestScore": 15.5,
         "_deepnote_index_column": "2nd"
        }
       ],
       "rows_bottom": null
      },
      "text/plain": "         preTestScore\ncompany              \n1st          6.666667\n2nd         15.500000",
      "text/html": "<div>\n<style scoped>\n    .dataframe tbody tr th:only-of-type {\n        vertical-align: middle;\n    }\n\n    .dataframe tbody tr th {\n        vertical-align: top;\n    }\n\n    .dataframe thead th {\n        text-align: right;\n    }\n</style>\n<table border=\"1\" class=\"dataframe\">\n  <thead>\n    <tr style=\"text-align: right;\">\n      <th></th>\n      <th>preTestScore</th>\n    </tr>\n    <tr>\n      <th>company</th>\n      <th></th>\n    </tr>\n  </thead>\n  <tbody>\n    <tr>\n      <th>1st</th>\n      <td>6.666667</td>\n    </tr>\n    <tr>\n      <th>2nd</th>\n      <td>15.500000</td>\n    </tr>\n  </tbody>\n</table>\n</div>"
     },
     "metadata": {}
    }
   ],
   "execution_count": null
  },
  {
   "cell_type": "markdown",
   "source": "### Step 7. Present the mean preTestScores grouped by regiment and company",
   "metadata": {
    "id": "1D9T1-U6xQ2h",
    "cell_id": "00013-33bb42bc-0841-455c-93e2-a4562b8cf3db",
    "deepnote_cell_type": "markdown"
   }
  },
  {
   "cell_type": "code",
   "metadata": {
    "colab": {
     "base_uri": "https://localhost:8080/",
     "height": 254
    },
    "id": "2deincbUxQ2h",
    "executionInfo": {
     "status": "ok",
     "timestamp": 1623613418600,
     "user_tz": 240,
     "elapsed": 7,
     "user": {
      "displayName": "Andrés Sánchez",
      "photoUrl": "https://lh3.googleusercontent.com/a-/AOh14Gg69bZMv30ckb-T1MJy0nSxWIHUaP0p2uP6MYBuvQ=s64",
      "userId": "07985253921366566280"
     }
    },
    "outputId": "0d95e62d-2b35-4843-b84e-6d1ec9d4c244",
    "cell_id": "00014-510f8a48-50f6-4193-a755-0b8f2712e5a1",
    "deepnote_to_be_reexecuted": false,
    "source_hash": "4053dafd",
    "execution_start": 1630097942685,
    "execution_millis": 22,
    "deepnote_cell_type": "code"
   },
   "source": "raw_data.groupby(['regiment','company'])[['preTestScore']].mean()",
   "outputs": [
    {
     "output_type": "execute_result",
     "execution_count": 7,
     "data": {
      "application/vnd.deepnote.dataframe.v2+json": {
       "row_count": 6,
       "column_count": 1,
       "columns": [
        {
         "name": "preTestScore",
         "dtype": "float64",
         "stats": {
          "unique_count": 5,
          "nan_count": 0,
          "min": "2.5",
          "max": "27.5",
          "histogram": [
           {
            "bin_start": 2.5,
            "bin_end": 5,
            "count": 3
           },
           {
            "bin_start": 5,
            "bin_end": 7.5,
            "count": 0
           },
           {
            "bin_start": 7.5,
            "bin_end": 10,
            "count": 0
           },
           {
            "bin_start": 10,
            "bin_end": 12.5,
            "count": 0
           },
           {
            "bin_start": 12.5,
            "bin_end": 15,
            "count": 1
           },
           {
            "bin_start": 15,
            "bin_end": 17.5,
            "count": 1
           },
           {
            "bin_start": 17.5,
            "bin_end": 20,
            "count": 0
           },
           {
            "bin_start": 20,
            "bin_end": 22.5,
            "count": 0
           },
           {
            "bin_start": 22.5,
            "bin_end": 25,
            "count": 0
           },
           {
            "bin_start": 25,
            "bin_end": 27.5,
            "count": 1
           }
          ]
         }
        },
        {
         "name": "_deepnote_index_column",
         "dtype": "object"
        }
       ],
       "rows_top": [
        {
         "preTestScore": 3.5,
         "_deepnote_index_column": "('Dragoons', '1st')"
        },
        {
         "preTestScore": 27.5,
         "_deepnote_index_column": "('Dragoons', '2nd')"
        },
        {
         "preTestScore": 14,
         "_deepnote_index_column": "('Nighthawks', '1st')"
        },
        {
         "preTestScore": 16.5,
         "_deepnote_index_column": "('Nighthawks', '2nd')"
        },
        {
         "preTestScore": 2.5,
         "_deepnote_index_column": "('Scouts', '1st')"
        },
        {
         "preTestScore": 2.5,
         "_deepnote_index_column": "('Scouts', '2nd')"
        }
       ],
       "rows_bottom": null
      },
      "text/plain": "                    preTestScore\nregiment   company              \nDragoons   1st               3.5\n           2nd              27.5\nNighthawks 1st              14.0\n           2nd              16.5\nScouts     1st               2.5\n           2nd               2.5",
      "text/html": "<div>\n<style scoped>\n    .dataframe tbody tr th:only-of-type {\n        vertical-align: middle;\n    }\n\n    .dataframe tbody tr th {\n        vertical-align: top;\n    }\n\n    .dataframe thead th {\n        text-align: right;\n    }\n</style>\n<table border=\"1\" class=\"dataframe\">\n  <thead>\n    <tr style=\"text-align: right;\">\n      <th></th>\n      <th></th>\n      <th>preTestScore</th>\n    </tr>\n    <tr>\n      <th>regiment</th>\n      <th>company</th>\n      <th></th>\n    </tr>\n  </thead>\n  <tbody>\n    <tr>\n      <th rowspan=\"2\" valign=\"top\">Dragoons</th>\n      <th>1st</th>\n      <td>3.5</td>\n    </tr>\n    <tr>\n      <th>2nd</th>\n      <td>27.5</td>\n    </tr>\n    <tr>\n      <th rowspan=\"2\" valign=\"top\">Nighthawks</th>\n      <th>1st</th>\n      <td>14.0</td>\n    </tr>\n    <tr>\n      <th>2nd</th>\n      <td>16.5</td>\n    </tr>\n    <tr>\n      <th rowspan=\"2\" valign=\"top\">Scouts</th>\n      <th>1st</th>\n      <td>2.5</td>\n    </tr>\n    <tr>\n      <th>2nd</th>\n      <td>2.5</td>\n    </tr>\n  </tbody>\n</table>\n</div>"
     },
     "metadata": {}
    }
   ],
   "execution_count": null
  },
  {
   "cell_type": "markdown",
   "source": "### Step 8. Present the mean preTestScores grouped by regiment and company without heirarchical indexing",
   "metadata": {
    "id": "0km4CfVmxQ2h",
    "cell_id": "00015-8024e7b6-2cd2-4601-986c-1ffd46312863",
    "deepnote_cell_type": "markdown"
   }
  },
  {
   "cell_type": "code",
   "metadata": {
    "colab": {
     "base_uri": "https://localhost:8080/",
     "height": 195
    },
    "id": "11FBEzPtxQ2h",
    "executionInfo": {
     "status": "ok",
     "timestamp": 1623613418600,
     "user_tz": 240,
     "elapsed": 7,
     "user": {
      "displayName": "Andrés Sánchez",
      "photoUrl": "https://lh3.googleusercontent.com/a-/AOh14Gg69bZMv30ckb-T1MJy0nSxWIHUaP0p2uP6MYBuvQ=s64",
      "userId": "07985253921366566280"
     }
    },
    "outputId": "8bb46bfd-3a5d-4979-b691-7cc35e14d7d2",
    "cell_id": "00016-1a48acf3-5abf-4d35-b405-204e97dd1a11",
    "deepnote_to_be_reexecuted": false,
    "source_hash": "24354f78",
    "execution_start": 1630097942710,
    "execution_millis": 24,
    "deepnote_cell_type": "code"
   },
   "source": "raw_data_g = raw_data.set_index(['regiment','company'])\nraw_data_g = raw_data_g[['preTestScore']]\nraw_data_g.mean(level = ['regiment','company']).unstack()",
   "outputs": [
    {
     "output_type": "execute_result",
     "execution_count": 8,
     "data": {
      "application/vnd.deepnote.dataframe.v2+json": {
       "row_count": 3,
       "column_count": 2,
       "columns": [
        {
         "name": [
          "preTestScore",
          "1st"
         ],
         "dtype": "float64",
         "stats": {
          "unique_count": 3,
          "nan_count": 0,
          "min": "2.5",
          "max": "14.0",
          "histogram": [
           {
            "bin_start": 2.5,
            "bin_end": 3.65,
            "count": 2
           },
           {
            "bin_start": 3.65,
            "bin_end": 4.8,
            "count": 0
           },
           {
            "bin_start": 4.8,
            "bin_end": 5.949999999999999,
            "count": 0
           },
           {
            "bin_start": 5.949999999999999,
            "bin_end": 7.1,
            "count": 0
           },
           {
            "bin_start": 7.1,
            "bin_end": 8.25,
            "count": 0
           },
           {
            "bin_start": 8.25,
            "bin_end": 9.399999999999999,
            "count": 0
           },
           {
            "bin_start": 9.399999999999999,
            "bin_end": 10.549999999999999,
            "count": 0
           },
           {
            "bin_start": 10.549999999999999,
            "bin_end": 11.7,
            "count": 0
           },
           {
            "bin_start": 11.7,
            "bin_end": 12.85,
            "count": 0
           },
           {
            "bin_start": 12.85,
            "bin_end": 14,
            "count": 1
           }
          ]
         }
        },
        {
         "name": [
          "preTestScore",
          "2nd"
         ],
         "dtype": "float64",
         "stats": {
          "unique_count": 3,
          "nan_count": 0,
          "min": "2.5",
          "max": "27.5",
          "histogram": [
           {
            "bin_start": 2.5,
            "bin_end": 5,
            "count": 1
           },
           {
            "bin_start": 5,
            "bin_end": 7.5,
            "count": 0
           },
           {
            "bin_start": 7.5,
            "bin_end": 10,
            "count": 0
           },
           {
            "bin_start": 10,
            "bin_end": 12.5,
            "count": 0
           },
           {
            "bin_start": 12.5,
            "bin_end": 15,
            "count": 0
           },
           {
            "bin_start": 15,
            "bin_end": 17.5,
            "count": 1
           },
           {
            "bin_start": 17.5,
            "bin_end": 20,
            "count": 0
           },
           {
            "bin_start": 20,
            "bin_end": 22.5,
            "count": 0
           },
           {
            "bin_start": 22.5,
            "bin_end": 25,
            "count": 0
           },
           {
            "bin_start": 25,
            "bin_end": 27.5,
            "count": 1
           }
          ]
         }
        },
        {
         "name": "_deepnote_index_column",
         "dtype": "object"
        }
       ],
       "rows_top": [
        {
         "('preTestScore', '1st')": 3.5,
         "('preTestScore', '2nd')": 27.5,
         "_deepnote_index_column": "Dragoons"
        },
        {
         "('preTestScore', '1st')": 14,
         "('preTestScore', '2nd')": 16.5,
         "_deepnote_index_column": "Nighthawks"
        },
        {
         "('preTestScore', '1st')": 2.5,
         "('preTestScore', '2nd')": 2.5,
         "_deepnote_index_column": "Scouts"
        }
       ],
       "rows_bottom": null
      },
      "text/plain": "           preTestScore      \ncompany             1st   2nd\nregiment                     \nDragoons            3.5  27.5\nNighthawks         14.0  16.5\nScouts              2.5   2.5",
      "text/html": "<div>\n<style scoped>\n    .dataframe tbody tr th:only-of-type {\n        vertical-align: middle;\n    }\n\n    .dataframe tbody tr th {\n        vertical-align: top;\n    }\n\n    .dataframe thead tr th {\n        text-align: left;\n    }\n\n    .dataframe thead tr:last-of-type th {\n        text-align: right;\n    }\n</style>\n<table border=\"1\" class=\"dataframe\">\n  <thead>\n    <tr>\n      <th></th>\n      <th colspan=\"2\" halign=\"left\">preTestScore</th>\n    </tr>\n    <tr>\n      <th>company</th>\n      <th>1st</th>\n      <th>2nd</th>\n    </tr>\n    <tr>\n      <th>regiment</th>\n      <th></th>\n      <th></th>\n    </tr>\n  </thead>\n  <tbody>\n    <tr>\n      <th>Dragoons</th>\n      <td>3.5</td>\n      <td>27.5</td>\n    </tr>\n    <tr>\n      <th>Nighthawks</th>\n      <td>14.0</td>\n      <td>16.5</td>\n    </tr>\n    <tr>\n      <th>Scouts</th>\n      <td>2.5</td>\n      <td>2.5</td>\n    </tr>\n  </tbody>\n</table>\n</div>"
     },
     "metadata": {}
    }
   ],
   "execution_count": null
  },
  {
   "cell_type": "markdown",
   "source": "### Step 9. Group the entire dataframe by regiment and company",
   "metadata": {
    "id": "BzNpGDJ4xQ2h",
    "cell_id": "00017-17b869e7-9d7f-4917-896a-d25bb251acc0",
    "deepnote_cell_type": "markdown"
   }
  },
  {
   "cell_type": "code",
   "metadata": {
    "colab": {
     "base_uri": "https://localhost:8080/",
     "height": 254
    },
    "id": "hk1APud-xQ2h",
    "executionInfo": {
     "status": "ok",
     "timestamp": 1623613418601,
     "user_tz": 240,
     "elapsed": 8,
     "user": {
      "displayName": "Andrés Sánchez",
      "photoUrl": "https://lh3.googleusercontent.com/a-/AOh14Gg69bZMv30ckb-T1MJy0nSxWIHUaP0p2uP6MYBuvQ=s64",
      "userId": "07985253921366566280"
     }
    },
    "outputId": "7cf0439d-354d-4fb3-ff7e-3535fc88f42f",
    "cell_id": "00018-1245f9a0-5cf3-44e5-9cbd-60b19bacb3cc",
    "deepnote_to_be_reexecuted": false,
    "source_hash": "f977059a",
    "execution_start": 1630097942749,
    "execution_millis": 10,
    "deepnote_cell_type": "code"
   },
   "source": "raw_data.groupby(['regiment','company']).mean()",
   "outputs": [
    {
     "output_type": "execute_result",
     "execution_count": 9,
     "data": {
      "application/vnd.deepnote.dataframe.v2+json": {
       "row_count": 6,
       "column_count": 2,
       "columns": [
        {
         "name": "preTestScore",
         "dtype": "float64",
         "stats": {
          "unique_count": 5,
          "nan_count": 0,
          "min": "2.5",
          "max": "27.5",
          "histogram": [
           {
            "bin_start": 2.5,
            "bin_end": 5,
            "count": 3
           },
           {
            "bin_start": 5,
            "bin_end": 7.5,
            "count": 0
           },
           {
            "bin_start": 7.5,
            "bin_end": 10,
            "count": 0
           },
           {
            "bin_start": 10,
            "bin_end": 12.5,
            "count": 0
           },
           {
            "bin_start": 12.5,
            "bin_end": 15,
            "count": 1
           },
           {
            "bin_start": 15,
            "bin_end": 17.5,
            "count": 1
           },
           {
            "bin_start": 17.5,
            "bin_end": 20,
            "count": 0
           },
           {
            "bin_start": 20,
            "bin_end": 22.5,
            "count": 0
           },
           {
            "bin_start": 22.5,
            "bin_end": 25,
            "count": 0
           },
           {
            "bin_start": 25,
            "bin_end": 27.5,
            "count": 1
           }
          ]
         }
        },
        {
         "name": "postTestScore",
         "dtype": "float64",
         "stats": {
          "unique_count": 4,
          "nan_count": 0,
          "min": "47.5",
          "max": "75.5",
          "histogram": [
           {
            "bin_start": 47.5,
            "bin_end": 50.3,
            "count": 1
           },
           {
            "bin_start": 50.3,
            "bin_end": 53.1,
            "count": 0
           },
           {
            "bin_start": 53.1,
            "bin_end": 55.9,
            "count": 0
           },
           {
            "bin_start": 55.9,
            "bin_end": 58.7,
            "count": 0
           },
           {
            "bin_start": 58.7,
            "bin_end": 61.5,
            "count": 2
           },
           {
            "bin_start": 61.5,
            "bin_end": 64.3,
            "count": 0
           },
           {
            "bin_start": 64.3,
            "bin_end": 67.1,
            "count": 2
           },
           {
            "bin_start": 67.1,
            "bin_end": 69.9,
            "count": 0
           },
           {
            "bin_start": 69.9,
            "bin_end": 72.7,
            "count": 0
           },
           {
            "bin_start": 72.7,
            "bin_end": 75.5,
            "count": 1
           }
          ]
         }
        },
        {
         "name": "_deepnote_index_column",
         "dtype": "object"
        }
       ],
       "rows_top": [
        {
         "preTestScore": 3.5,
         "postTestScore": 47.5,
         "_deepnote_index_column": "('Dragoons', '1st')"
        },
        {
         "preTestScore": 27.5,
         "postTestScore": 75.5,
         "_deepnote_index_column": "('Dragoons', '2nd')"
        },
        {
         "preTestScore": 14,
         "postTestScore": 59.5,
         "_deepnote_index_column": "('Nighthawks', '1st')"
        },
        {
         "preTestScore": 16.5,
         "postTestScore": 59.5,
         "_deepnote_index_column": "('Nighthawks', '2nd')"
        },
        {
         "preTestScore": 2.5,
         "postTestScore": 66,
         "_deepnote_index_column": "('Scouts', '1st')"
        },
        {
         "preTestScore": 2.5,
         "postTestScore": 66,
         "_deepnote_index_column": "('Scouts', '2nd')"
        }
       ],
       "rows_bottom": null
      },
      "text/plain": "                    preTestScore  postTestScore\nregiment   company                             \nDragoons   1st               3.5           47.5\n           2nd              27.5           75.5\nNighthawks 1st              14.0           59.5\n           2nd              16.5           59.5\nScouts     1st               2.5           66.0\n           2nd               2.5           66.0",
      "text/html": "<div>\n<style scoped>\n    .dataframe tbody tr th:only-of-type {\n        vertical-align: middle;\n    }\n\n    .dataframe tbody tr th {\n        vertical-align: top;\n    }\n\n    .dataframe thead th {\n        text-align: right;\n    }\n</style>\n<table border=\"1\" class=\"dataframe\">\n  <thead>\n    <tr style=\"text-align: right;\">\n      <th></th>\n      <th></th>\n      <th>preTestScore</th>\n      <th>postTestScore</th>\n    </tr>\n    <tr>\n      <th>regiment</th>\n      <th>company</th>\n      <th></th>\n      <th></th>\n    </tr>\n  </thead>\n  <tbody>\n    <tr>\n      <th rowspan=\"2\" valign=\"top\">Dragoons</th>\n      <th>1st</th>\n      <td>3.5</td>\n      <td>47.5</td>\n    </tr>\n    <tr>\n      <th>2nd</th>\n      <td>27.5</td>\n      <td>75.5</td>\n    </tr>\n    <tr>\n      <th rowspan=\"2\" valign=\"top\">Nighthawks</th>\n      <th>1st</th>\n      <td>14.0</td>\n      <td>59.5</td>\n    </tr>\n    <tr>\n      <th>2nd</th>\n      <td>16.5</td>\n      <td>59.5</td>\n    </tr>\n    <tr>\n      <th rowspan=\"2\" valign=\"top\">Scouts</th>\n      <th>1st</th>\n      <td>2.5</td>\n      <td>66.0</td>\n    </tr>\n    <tr>\n      <th>2nd</th>\n      <td>2.5</td>\n      <td>66.0</td>\n    </tr>\n  </tbody>\n</table>\n</div>"
     },
     "metadata": {}
    }
   ],
   "execution_count": null
  },
  {
   "cell_type": "markdown",
   "source": "### Step 10. What is the number of observations in each regiment and company",
   "metadata": {
    "id": "SRPz9jNExQ2i",
    "cell_id": "00019-0d31571b-7c5c-422a-b0c7-5b9466ced687",
    "deepnote_cell_type": "markdown"
   }
  },
  {
   "cell_type": "code",
   "metadata": {
    "colab": {
     "base_uri": "https://localhost:8080/"
    },
    "id": "SfG9Ka5jxQ2i",
    "executionInfo": {
     "status": "ok",
     "timestamp": 1623613418602,
     "user_tz": 240,
     "elapsed": 8,
     "user": {
      "displayName": "Andrés Sánchez",
      "photoUrl": "https://lh3.googleusercontent.com/a-/AOh14Gg69bZMv30ckb-T1MJy0nSxWIHUaP0p2uP6MYBuvQ=s64",
      "userId": "07985253921366566280"
     }
    },
    "outputId": "903f7c8e-e0b2-4287-b89a-013fb00fc230",
    "cell_id": "00020-6dee6904-620d-4fbc-bb96-41973b251561",
    "deepnote_to_be_reexecuted": false,
    "source_hash": "feb94840",
    "execution_start": 1630097942803,
    "execution_millis": 6,
    "deepnote_cell_type": "code"
   },
   "source": "raw_data.groupby(['regiment','company']).size()",
   "outputs": [
    {
     "output_type": "execute_result",
     "execution_count": 10,
     "data": {
      "text/plain": "regiment    company\nDragoons    1st        2\n            2nd        2\nNighthawks  1st        2\n            2nd        2\nScouts      1st        2\n            2nd        2\ndtype: int64"
     },
     "metadata": {}
    }
   ],
   "execution_count": null
  },
  {
   "cell_type": "markdown",
   "source": "### Step 11. Iterate over a group and print the name and the whole data from the regiment",
   "metadata": {
    "id": "RawhNcDjxQ2i",
    "cell_id": "00021-0d68e2fd-fdbe-4df0-96ca-8ec4233bb1f1",
    "deepnote_cell_type": "markdown"
   }
  },
  {
   "cell_type": "code",
   "metadata": {
    "colab": {
     "base_uri": "https://localhost:8080/"
    },
    "id": "ZzTuIJbwxQ2i",
    "executionInfo": {
     "status": "ok",
     "timestamp": 1623614442600,
     "user_tz": 240,
     "elapsed": 166,
     "user": {
      "displayName": "Andrés Sánchez",
      "photoUrl": "https://lh3.googleusercontent.com/a-/AOh14Gg69bZMv30ckb-T1MJy0nSxWIHUaP0p2uP6MYBuvQ=s64",
      "userId": "07985253921366566280"
     }
    },
    "outputId": "82f9f943-c104-4990-e76f-cffad8515ce5",
    "cell_id": "00022-d99db565-ad37-4f16-9971-8c611745e5d9",
    "deepnote_to_be_reexecuted": false,
    "source_hash": "56064565",
    "execution_start": 1630097942804,
    "execution_millis": 5,
    "deepnote_cell_type": "code"
   },
   "source": "for name, regiment in raw_data.groupby('regiment'):\n    \n    print(name)\n    print(regiment)",
   "outputs": [
    {
     "name": "stdout",
     "text": "Dragoons\n   regiment company    name  preTestScore  postTestScore\n4  Dragoons     1st   Cooze             3             70\n5  Dragoons     1st   Jacon             4             25\n6  Dragoons     2nd  Ryaner            24             94\n7  Dragoons     2nd    Sone            31             57\nNighthawks\n     regiment company      name  preTestScore  postTestScore\n0  Nighthawks     1st    Miller             4             25\n1  Nighthawks     1st  Jacobson            24             94\n2  Nighthawks     2nd       Ali            31             57\n3  Nighthawks     2nd    Milner             2             62\nScouts\n   regiment company   name  preTestScore  postTestScore\n8    Scouts     1st  Sloan             2             62\n9    Scouts     1st  Piger             3             70\n10   Scouts     2nd  Riani             2             62\n11   Scouts     2nd    Ali             3             70\n",
     "output_type": "stream"
    }
   ],
   "execution_count": null
  },
  {
   "cell_type": "markdown",
   "source": "<a style='text-decoration:none;line-height:16px;display:flex;color:#5B5B62;padding:10px;justify-content:end;' href='https://deepnote.com?utm_source=created-in-deepnote-cell&projectId=fe744348-fecc-4b7a-803c-44dba24ecb38' target=\"_blank\">\n<img alt='Created in deepnote.com' style='display:inline;max-height:16px;margin:0px;margin-right:7.5px;' src='data:image/svg+xml;base64,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' > </img>\nCreated in <span style='font-weight:600;margin-left:4px;'>Deepnote</span></a>",
   "metadata": {
    "tags": [],
    "created_in_deepnote_cell": true,
    "deepnote_cell_type": "markdown"
   }
  }
 ],
 "nbformat": 4,
 "nbformat_minor": 0,
 "metadata": {
  "kernelspec": {
   "display_name": "Python 2",
   "language": "python",
   "name": "python2"
  },
  "language_info": {
   "codemirror_mode": {
    "name": "ipython",
    "version": 2
   },
   "file_extension": ".py",
   "mimetype": "text/x-python",
   "name": "python",
   "nbconvert_exporter": "python",
   "pygments_lexer": "ipython2",
   "version": "2.7.11"
  },
  "colab": {
   "name": "Exercises.ipynb",
   "provenance": [],
   "collapsed_sections": []
  },
  "deepnote_notebook_id": "0e069ed8-4ce1-4272-b501-6c6d7b23920b",
  "deepnote": {},
  "deepnote_execution_queue": []
 }
}
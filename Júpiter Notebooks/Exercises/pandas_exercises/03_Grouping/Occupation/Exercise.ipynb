{
 "cells": [
  {
   "cell_type": "markdown",
   "source": "# Occupation",
   "metadata": {
    "id": "rmzuluMo8COg",
    "cell_id": "00000-abb35859-1828-4e06-b5b6-07bdf36c7f9c",
    "deepnote_cell_type": "markdown"
   }
  },
  {
   "cell_type": "markdown",
   "source": "### Introduction:\n\nSpecial thanks to: https://github.com/justmarkham for sharing the dataset and materials.\n\n### Step 1. Import the necessary libraries",
   "metadata": {
    "id": "1oPGNla-8COh",
    "cell_id": "00001-e969fed7-b1e7-4e91-b609-80909cf48286",
    "deepnote_cell_type": "markdown"
   }
  },
  {
   "cell_type": "code",
   "metadata": {
    "id": "jZESD3uy8COi",
    "executionInfo": {
     "status": "ok",
     "timestamp": 1623609987293,
     "user_tz": 240,
     "elapsed": 226,
     "user": {
      "displayName": "Andrés Sánchez",
      "photoUrl": "https://lh3.googleusercontent.com/a-/AOh14Gg69bZMv30ckb-T1MJy0nSxWIHUaP0p2uP6MYBuvQ=s64",
      "userId": "07985253921366566280"
     }
    },
    "cell_id": "00002-e46e0303-9309-4b6c-8329-3b31df151d1a",
    "deepnote_to_be_reexecuted": false,
    "source_hash": "b1e48ae",
    "execution_start": 1630097931557,
    "execution_millis": 15,
    "deepnote_cell_type": "code"
   },
   "source": "import pandas as pd\nimport numpy as np\npd.options.display.float_format = '{:,.2f}'.format",
   "outputs": [],
   "execution_count": null
  },
  {
   "cell_type": "markdown",
   "source": "### Step 2. Import the dataset from this [address](https://raw.githubusercontent.com/justmarkham/DAT8/master/data/u.user). ",
   "metadata": {
    "id": "B5QdgVlA8COj",
    "cell_id": "00003-c97217dc-5d74-4e73-869b-9c6cf0dcb600",
    "deepnote_cell_type": "markdown"
   }
  },
  {
   "cell_type": "markdown",
   "source": "### Step 3. Assign it to a variable called users.",
   "metadata": {
    "id": "QeMr_-SP8COj",
    "cell_id": "00004-340dc849-1a9e-4688-a463-ad87426b35cb",
    "deepnote_cell_type": "markdown"
   }
  },
  {
   "cell_type": "code",
   "metadata": {
    "id": "sVv90ckw8COk",
    "executionInfo": {
     "status": "ok",
     "timestamp": 1623609987672,
     "user_tz": 240,
     "elapsed": 201,
     "user": {
      "displayName": "Andrés Sánchez",
      "photoUrl": "https://lh3.googleusercontent.com/a-/AOh14Gg69bZMv30ckb-T1MJy0nSxWIHUaP0p2uP6MYBuvQ=s64",
      "userId": "07985253921366566280"
     }
    },
    "cell_id": "00005-cde5543d-9b98-4f9c-83fb-2143ac6f6c10",
    "deepnote_to_be_reexecuted": false,
    "source_hash": "d2b90552",
    "execution_start": 1630097931573,
    "execution_millis": 80,
    "deepnote_cell_type": "code"
   },
   "source": "users = pd.read_csv('https://raw.githubusercontent.com/justmarkham/DAT8/master/data/u.user', sep = '|')",
   "outputs": [],
   "execution_count": null
  },
  {
   "cell_type": "markdown",
   "source": "### Step 4. Discover what is the mean age per occupation",
   "metadata": {
    "id": "CRKs7Z6S8COk",
    "cell_id": "00006-5075a0b2-0676-4305-bb3b-a9577e099ec9",
    "deepnote_cell_type": "markdown"
   }
  },
  {
   "cell_type": "code",
   "metadata": {
    "id": "FRhqOO5T8COk",
    "colab": {
     "base_uri": "https://localhost:8080/"
    },
    "executionInfo": {
     "status": "ok",
     "timestamp": 1623609987673,
     "user_tz": 240,
     "elapsed": 15,
     "user": {
      "displayName": "Andrés Sánchez",
      "photoUrl": "https://lh3.googleusercontent.com/a-/AOh14Gg69bZMv30ckb-T1MJy0nSxWIHUaP0p2uP6MYBuvQ=s64",
      "userId": "07985253921366566280"
     }
    },
    "outputId": "1fd25ae4-a141-457d-d16d-d4e7a9dee1e1",
    "cell_id": "00007-1e03f1f5-cacb-413f-b682-214ad635cb75",
    "deepnote_to_be_reexecuted": false,
    "source_hash": "6d831e07",
    "execution_start": 1630097931666,
    "execution_millis": 8,
    "deepnote_cell_type": "code"
   },
   "source": "users.groupby('occupation').age.mean()",
   "outputs": [
    {
     "output_type": "execute_result",
     "execution_count": 3,
     "data": {
      "text/plain": "occupation\nadministrator   38.75\nartist          31.39\ndoctor          43.57\neducator        42.01\nengineer        36.39\nentertainment   29.22\nexecutive       38.72\nhealthcare      41.56\nhomemaker       32.57\nlawyer          36.75\nlibrarian       40.00\nmarketing       37.62\nnone            26.56\nother           34.52\nprogrammer      33.12\nretired         63.07\nsalesman        35.67\nscientist       35.55\nstudent         22.08\ntechnician      33.15\nwriter          36.31\nName: age, dtype: float64"
     },
     "metadata": {}
    }
   ],
   "execution_count": null
  },
  {
   "cell_type": "markdown",
   "source": "### Step 5. Discover the Male ratio per occupation and sort it from the most to the least",
   "metadata": {
    "id": "YliLljrB8COk",
    "cell_id": "00008-f25b377b-6c8a-4d72-b1c9-b4bc1cc31694",
    "deepnote_cell_type": "markdown"
   }
  },
  {
   "cell_type": "code",
   "metadata": {
    "id": "Em0UzeoJ8COl",
    "colab": {
     "base_uri": "https://localhost:8080/"
    },
    "executionInfo": {
     "status": "ok",
     "timestamp": 1623609987674,
     "user_tz": 240,
     "elapsed": 13,
     "user": {
      "displayName": "Andrés Sánchez",
      "photoUrl": "https://lh3.googleusercontent.com/a-/AOh14Gg69bZMv30ckb-T1MJy0nSxWIHUaP0p2uP6MYBuvQ=s64",
      "userId": "07985253921366566280"
     }
    },
    "outputId": "0c9651e1-6061-4cca-80c1-711b86d9fa7a",
    "cell_id": "00009-df80f865-509c-4f23-80cf-f7bd32b92806",
    "deepnote_to_be_reexecuted": false,
    "source_hash": "43621869",
    "execution_start": 1630097931706,
    "execution_millis": 8,
    "deepnote_cell_type": "code"
   },
   "source": "users['male_ratio'] = users['gender'].apply(lambda x: 1 if x == 'M' else 0)\nm_ratio = users.groupby(['occupation']).male_ratio.sum() / users.groupby(['occupation']).male_ratio.count() * 100\nm_ratio.sort_values(ascending = False)",
   "outputs": [
    {
     "output_type": "execute_result",
     "execution_count": 4,
     "data": {
      "text/plain": "occupation\ndoctor          100.00\nengineer         97.01\ntechnician       96.30\nretired          92.86\nprogrammer       90.91\nexecutive        90.62\nscientist        90.32\nentertainment    88.89\nlawyer           83.33\nsalesman         75.00\neducator         72.63\nstudent          69.39\nother            65.71\nmarketing        61.54\nwriter           57.78\nnone             55.56\nadministrator    54.43\nartist           53.57\nlibrarian        43.14\nhealthcare       31.25\nhomemaker        14.29\nName: male_ratio, dtype: float64"
     },
     "metadata": {}
    }
   ],
   "execution_count": null
  },
  {
   "cell_type": "markdown",
   "source": "### Step 6. For each occupation, calculate the minimum and maximum ages",
   "metadata": {
    "id": "WCMgm-M48COl",
    "cell_id": "00010-78f9a441-e2e8-4e3f-b647-277dd6622531",
    "deepnote_cell_type": "markdown"
   }
  },
  {
   "cell_type": "code",
   "metadata": {
    "id": "-kRUBmSw8COl",
    "colab": {
     "base_uri": "https://localhost:8080/",
     "height": 728
    },
    "executionInfo": {
     "status": "ok",
     "timestamp": 1623609987674,
     "user_tz": 240,
     "elapsed": 10,
     "user": {
      "displayName": "Andrés Sánchez",
      "photoUrl": "https://lh3.googleusercontent.com/a-/AOh14Gg69bZMv30ckb-T1MJy0nSxWIHUaP0p2uP6MYBuvQ=s64",
      "userId": "07985253921366566280"
     }
    },
    "outputId": "cebfd62c-bdbc-44fe-d782-227872db0a16",
    "cell_id": "00011-ef1b30b8-932d-45d1-8b04-160b949819a5",
    "deepnote_to_be_reexecuted": false,
    "source_hash": "4fdcbc4",
    "execution_start": 1630097931707,
    "execution_millis": 34,
    "deepnote_cell_type": "code"
   },
   "source": "users.groupby(['occupation'])[['age']].agg([np.max, np.min])",
   "outputs": [
    {
     "output_type": "execute_result",
     "execution_count": 5,
     "data": {
      "application/vnd.deepnote.dataframe.v2+json": {
       "row_count": 21,
       "column_count": 2,
       "columns": [
        {
         "name": [
          "age",
          "amax"
         ],
         "dtype": "int64",
         "stats": {
          "unique_count": 13,
          "nan_count": 0,
          "min": "42",
          "max": "73",
          "histogram": [
           {
            "bin_start": 42,
            "bin_end": 45.1,
            "count": 1
           },
           {
            "bin_start": 45.1,
            "bin_end": 48.2,
            "count": 1
           },
           {
            "bin_start": 48.2,
            "bin_end": 51.3,
            "count": 2
           },
           {
            "bin_start": 51.3,
            "bin_end": 54.4,
            "count": 1
           },
           {
            "bin_start": 54.4,
            "bin_end": 57.5,
            "count": 4
           },
           {
            "bin_start": 57.5,
            "bin_end": 60.6,
            "count": 1
           },
           {
            "bin_start": 60.6,
            "bin_end": 63.7,
            "count": 3
           },
           {
            "bin_start": 63.7,
            "bin_end": 66.8,
            "count": 3
           },
           {
            "bin_start": 66.8,
            "bin_end": 69.9,
            "count": 2
           },
           {
            "bin_start": 69.9,
            "bin_end": 73,
            "count": 3
           }
          ]
         }
        },
        {
         "name": [
          "age",
          "amin"
         ],
         "dtype": "int64",
         "stats": {
          "unique_count": 13,
          "nan_count": 0,
          "min": "7",
          "max": "51",
          "histogram": [
           {
            "bin_start": 7,
            "bin_end": 11.4,
            "count": 2
           },
           {
            "bin_start": 11.4,
            "bin_end": 15.8,
            "count": 2
           },
           {
            "bin_start": 15.8,
            "bin_end": 20.200000000000003,
            "count": 5
           },
           {
            "bin_start": 20.200000000000003,
            "bin_end": 24.6,
            "count": 10
           },
           {
            "bin_start": 24.6,
            "bin_end": 29,
            "count": 1
           },
           {
            "bin_start": 29,
            "bin_end": 33.400000000000006,
            "count": 0
           },
           {
            "bin_start": 33.400000000000006,
            "bin_end": 37.800000000000004,
            "count": 0
           },
           {
            "bin_start": 37.800000000000004,
            "bin_end": 42.2,
            "count": 0
           },
           {
            "bin_start": 42.2,
            "bin_end": 46.6,
            "count": 0
           },
           {
            "bin_start": 46.6,
            "bin_end": 51,
            "count": 1
           }
          ]
         }
        },
        {
         "name": "_deepnote_index_column",
         "dtype": "object"
        }
       ],
       "rows_top": [
        {
         "('age', 'amax')": 70,
         "('age', 'amin')": 21,
         "_deepnote_index_column": "administrator"
        },
        {
         "('age', 'amax')": 48,
         "('age', 'amin')": 19,
         "_deepnote_index_column": "artist"
        },
        {
         "('age', 'amax')": 64,
         "('age', 'amin')": 28,
         "_deepnote_index_column": "doctor"
        },
        {
         "('age', 'amax')": 63,
         "('age', 'amin')": 23,
         "_deepnote_index_column": "educator"
        },
        {
         "('age', 'amax')": 70,
         "('age', 'amin')": 22,
         "_deepnote_index_column": "engineer"
        },
        {
         "('age', 'amax')": 50,
         "('age', 'amin')": 15,
         "_deepnote_index_column": "entertainment"
        },
        {
         "('age', 'amax')": 69,
         "('age', 'amin')": 22,
         "_deepnote_index_column": "executive"
        },
        {
         "('age', 'amax')": 62,
         "('age', 'amin')": 22,
         "_deepnote_index_column": "healthcare"
        },
        {
         "('age', 'amax')": 50,
         "('age', 'amin')": 20,
         "_deepnote_index_column": "homemaker"
        },
        {
         "('age', 'amax')": 53,
         "('age', 'amin')": 21,
         "_deepnote_index_column": "lawyer"
        },
        {
         "('age', 'amax')": 69,
         "('age', 'amin')": 23,
         "_deepnote_index_column": "librarian"
        },
        {
         "('age', 'amax')": 55,
         "('age', 'amin')": 24,
         "_deepnote_index_column": "marketing"
        },
        {
         "('age', 'amax')": 55,
         "('age', 'amin')": 11,
         "_deepnote_index_column": "none"
        },
        {
         "('age', 'amax')": 64,
         "('age', 'amin')": 13,
         "_deepnote_index_column": "other"
        },
        {
         "('age', 'amax')": 63,
         "('age', 'amin')": 20,
         "_deepnote_index_column": "programmer"
        },
        {
         "('age', 'amax')": 73,
         "('age', 'amin')": 51,
         "_deepnote_index_column": "retired"
        },
        {
         "('age', 'amax')": 66,
         "('age', 'amin')": 18,
         "_deepnote_index_column": "salesman"
        },
        {
         "('age', 'amax')": 55,
         "('age', 'amin')": 23,
         "_deepnote_index_column": "scientist"
        },
        {
         "('age', 'amax')": 42,
         "('age', 'amin')": 7,
         "_deepnote_index_column": "student"
        },
        {
         "('age', 'amax')": 55,
         "('age', 'amin')": 21,
         "_deepnote_index_column": "technician"
        },
        {
         "('age', 'amax')": 60,
         "('age', 'amin')": 18,
         "_deepnote_index_column": "writer"
        }
       ],
       "rows_bottom": null
      },
      "text/plain": "               age     \n              amax amin\noccupation             \nadministrator   70   21\nartist          48   19\ndoctor          64   28\neducator        63   23\nengineer        70   22\nentertainment   50   15\nexecutive       69   22\nhealthcare      62   22\nhomemaker       50   20\nlawyer          53   21\nlibrarian       69   23\nmarketing       55   24\nnone            55   11\nother           64   13\nprogrammer      63   20\nretired         73   51\nsalesman        66   18\nscientist       55   23\nstudent         42    7\ntechnician      55   21\nwriter          60   18",
      "text/html": "<div>\n<style scoped>\n    .dataframe tbody tr th:only-of-type {\n        vertical-align: middle;\n    }\n\n    .dataframe tbody tr th {\n        vertical-align: top;\n    }\n\n    .dataframe thead tr th {\n        text-align: left;\n    }\n\n    .dataframe thead tr:last-of-type th {\n        text-align: right;\n    }\n</style>\n<table border=\"1\" class=\"dataframe\">\n  <thead>\n    <tr>\n      <th></th>\n      <th colspan=\"2\" halign=\"left\">age</th>\n    </tr>\n    <tr>\n      <th></th>\n      <th>amax</th>\n      <th>amin</th>\n    </tr>\n    <tr>\n      <th>occupation</th>\n      <th></th>\n      <th></th>\n    </tr>\n  </thead>\n  <tbody>\n    <tr>\n      <th>administrator</th>\n      <td>70</td>\n      <td>21</td>\n    </tr>\n    <tr>\n      <th>artist</th>\n      <td>48</td>\n      <td>19</td>\n    </tr>\n    <tr>\n      <th>doctor</th>\n      <td>64</td>\n      <td>28</td>\n    </tr>\n    <tr>\n      <th>educator</th>\n      <td>63</td>\n      <td>23</td>\n    </tr>\n    <tr>\n      <th>engineer</th>\n      <td>70</td>\n      <td>22</td>\n    </tr>\n    <tr>\n      <th>entertainment</th>\n      <td>50</td>\n      <td>15</td>\n    </tr>\n    <tr>\n      <th>executive</th>\n      <td>69</td>\n      <td>22</td>\n    </tr>\n    <tr>\n      <th>healthcare</th>\n      <td>62</td>\n      <td>22</td>\n    </tr>\n    <tr>\n      <th>homemaker</th>\n      <td>50</td>\n      <td>20</td>\n    </tr>\n    <tr>\n      <th>lawyer</th>\n      <td>53</td>\n      <td>21</td>\n    </tr>\n    <tr>\n      <th>librarian</th>\n      <td>69</td>\n      <td>23</td>\n    </tr>\n    <tr>\n      <th>marketing</th>\n      <td>55</td>\n      <td>24</td>\n    </tr>\n    <tr>\n      <th>none</th>\n      <td>55</td>\n      <td>11</td>\n    </tr>\n    <tr>\n      <th>other</th>\n      <td>64</td>\n      <td>13</td>\n    </tr>\n    <tr>\n      <th>programmer</th>\n      <td>63</td>\n      <td>20</td>\n    </tr>\n    <tr>\n      <th>retired</th>\n      <td>73</td>\n      <td>51</td>\n    </tr>\n    <tr>\n      <th>salesman</th>\n      <td>66</td>\n      <td>18</td>\n    </tr>\n    <tr>\n      <th>scientist</th>\n      <td>55</td>\n      <td>23</td>\n    </tr>\n    <tr>\n      <th>student</th>\n      <td>42</td>\n      <td>7</td>\n    </tr>\n    <tr>\n      <th>technician</th>\n      <td>55</td>\n      <td>21</td>\n    </tr>\n    <tr>\n      <th>writer</th>\n      <td>60</td>\n      <td>18</td>\n    </tr>\n  </tbody>\n</table>\n</div>"
     },
     "metadata": {}
    }
   ],
   "execution_count": null
  },
  {
   "cell_type": "markdown",
   "source": "### Step 7. For each combination of occupation and gender, calculate the mean age",
   "metadata": {
    "id": "yZkO0lS58COl",
    "cell_id": "00012-da347a43-10fa-4b2e-b1b0-9551eb7e60fe",
    "deepnote_cell_type": "markdown"
   }
  },
  {
   "cell_type": "code",
   "metadata": {
    "id": "2hDWhhgn8COl",
    "colab": {
     "base_uri": "https://localhost:8080/"
    },
    "executionInfo": {
     "status": "ok",
     "timestamp": 1623609987871,
     "user_tz": 240,
     "elapsed": 205,
     "user": {
      "displayName": "Andrés Sánchez",
      "photoUrl": "https://lh3.googleusercontent.com/a-/AOh14Gg69bZMv30ckb-T1MJy0nSxWIHUaP0p2uP6MYBuvQ=s64",
      "userId": "07985253921366566280"
     }
    },
    "outputId": "1af6dd49-50a5-4487-974e-ba2910d66882",
    "cell_id": "00013-c698761d-0ce0-42d2-9811-94ea8f5fe481",
    "deepnote_to_be_reexecuted": false,
    "source_hash": "d010b771",
    "execution_start": 1630097931741,
    "execution_millis": 6,
    "deepnote_cell_type": "code"
   },
   "source": "users.groupby(['occupation','gender'])['age'].mean()",
   "outputs": [
    {
     "output_type": "execute_result",
     "execution_count": 6,
     "data": {
      "text/plain": "occupation     gender\nadministrator  F        40.64\n               M        37.16\nartist         F        30.31\n               M        32.33\ndoctor         M        43.57\neducator       F        39.12\n               M        43.10\nengineer       F        29.50\n               M        36.60\nentertainment  F        31.00\n               M        29.00\nexecutive      F        44.00\n               M        38.17\nhealthcare     F        39.82\n               M        45.40\nhomemaker      F        34.17\n               M        23.00\nlawyer         F        39.50\n               M        36.20\nlibrarian      F        40.00\n               M        40.00\nmarketing      F        37.20\n               M        37.88\nnone           F        36.50\n               M        18.60\nother          F        35.47\n               M        34.03\nprogrammer     F        32.17\n               M        33.22\nretired        F        70.00\n               M        62.54\nsalesman       F        27.00\n               M        38.56\nscientist      F        28.33\n               M        36.32\nstudent        F        20.75\n               M        22.67\ntechnician     F        38.00\n               M        32.96\nwriter         F        37.63\n               M        35.35\nName: age, dtype: float64"
     },
     "metadata": {}
    }
   ],
   "execution_count": null
  },
  {
   "cell_type": "markdown",
   "source": "### Step 8.  For each occupation present the percentage of women and men",
   "metadata": {
    "id": "5l92HK_G8COm",
    "cell_id": "00014-16f7b40f-461b-4e69-b33c-dddbabb707ab",
    "deepnote_cell_type": "markdown"
   }
  },
  {
   "cell_type": "code",
   "metadata": {
    "id": "PHyUT-bY8COm",
    "executionInfo": {
     "status": "ok",
     "timestamp": 1623609987871,
     "user_tz": 240,
     "elapsed": 3,
     "user": {
      "displayName": "Andrés Sánchez",
      "photoUrl": "https://lh3.googleusercontent.com/a-/AOh14Gg69bZMv30ckb-T1MJy0nSxWIHUaP0p2uP6MYBuvQ=s64",
      "userId": "07985253921366566280"
     }
    },
    "cell_id": "00015-f069b934-d39e-4f03-a4fe-2817dc78faf6",
    "deepnote_to_be_reexecuted": false,
    "source_hash": "66678e0d",
    "execution_start": 1630097931742,
    "execution_millis": 0,
    "deepnote_cell_type": "code"
   },
   "source": "users['female_ratio'] = users['gender'].apply(lambda x: 0 if x == 'M' else 1)\nf_ratio = users.groupby(['occupation']).female_ratio.sum() / users.groupby(['occupation']).female_ratio.count() * 100",
   "outputs": [],
   "execution_count": null
  },
  {
   "cell_type": "code",
   "metadata": {
    "colab": {
     "base_uri": "https://localhost:8080/",
     "height": 698
    },
    "id": "cpd4W3u4rpqV",
    "executionInfo": {
     "status": "ok",
     "timestamp": 1623609987871,
     "user_tz": 240,
     "elapsed": 3,
     "user": {
      "displayName": "Andrés Sánchez",
      "photoUrl": "https://lh3.googleusercontent.com/a-/AOh14Gg69bZMv30ckb-T1MJy0nSxWIHUaP0p2uP6MYBuvQ=s64",
      "userId": "07985253921366566280"
     }
    },
    "outputId": "0856651a-1040-4f10-c67e-7597d6e5a3f3",
    "cell_id": "00016-8b60e325-167f-4d1e-8abf-df408a7bc4f4",
    "deepnote_to_be_reexecuted": false,
    "source_hash": "a86bf7e4",
    "execution_start": 1630097931743,
    "execution_millis": 21,
    "deepnote_cell_type": "code"
   },
   "source": "m_ratio = pd.DataFrame(m_ratio)\nf_ratio = pd.DataFrame(f_ratio)\npd.merge(m_ratio, f_ratio, how = 'inner', on = 'occupation')",
   "outputs": [
    {
     "output_type": "execute_result",
     "execution_count": 8,
     "data": {
      "application/vnd.deepnote.dataframe.v2+json": {
       "row_count": 21,
       "column_count": 2,
       "columns": [
        {
         "name": "male_ratio",
         "dtype": "float64",
         "stats": {
          "unique_count": 21,
          "nan_count": 0,
          "min": "14.285714285714285",
          "max": "100.0",
          "histogram": [
           {
            "bin_start": 14.285714285714285,
            "bin_end": 22.857142857142858,
            "count": 1
           },
           {
            "bin_start": 22.857142857142858,
            "bin_end": 31.42857142857143,
            "count": 1
           },
           {
            "bin_start": 31.42857142857143,
            "bin_end": 40,
            "count": 0
           },
           {
            "bin_start": 40,
            "bin_end": 48.57142857142858,
            "count": 1
           },
           {
            "bin_start": 48.57142857142858,
            "bin_end": 57.142857142857146,
            "count": 3
           },
           {
            "bin_start": 57.142857142857146,
            "bin_end": 65.71428571428572,
            "count": 3
           },
           {
            "bin_start": 65.71428571428572,
            "bin_end": 74.2857142857143,
            "count": 2
           },
           {
            "bin_start": 74.2857142857143,
            "bin_end": 82.85714285714286,
            "count": 1
           },
           {
            "bin_start": 82.85714285714286,
            "bin_end": 91.42857142857144,
            "count": 5
           },
           {
            "bin_start": 91.42857142857144,
            "bin_end": 100,
            "count": 4
           }
          ]
         }
        },
        {
         "name": "female_ratio",
         "dtype": "float64",
         "stats": {
          "unique_count": 21,
          "nan_count": 0,
          "min": "0.0",
          "max": "85.71428571428571",
          "histogram": [
           {
            "bin_start": 0,
            "bin_end": 8.571428571428571,
            "count": 4
           },
           {
            "bin_start": 8.571428571428571,
            "bin_end": 17.142857142857142,
            "count": 5
           },
           {
            "bin_start": 17.142857142857142,
            "bin_end": 25.714285714285715,
            "count": 1
           },
           {
            "bin_start": 25.714285714285715,
            "bin_end": 34.285714285714285,
            "count": 2
           },
           {
            "bin_start": 34.285714285714285,
            "bin_end": 42.857142857142854,
            "count": 3
           },
           {
            "bin_start": 42.857142857142854,
            "bin_end": 51.42857142857143,
            "count": 3
           },
           {
            "bin_start": 51.42857142857143,
            "bin_end": 60,
            "count": 1
           },
           {
            "bin_start": 60,
            "bin_end": 68.57142857142857,
            "count": 0
           },
           {
            "bin_start": 68.57142857142857,
            "bin_end": 77.14285714285714,
            "count": 1
           },
           {
            "bin_start": 77.14285714285714,
            "bin_end": 85.71428571428571,
            "count": 1
           }
          ]
         }
        },
        {
         "name": "_deepnote_index_column",
         "dtype": "object"
        }
       ],
       "rows_top": [
        {
         "male_ratio": 54.43037974683544,
         "female_ratio": 45.56962025316456,
         "_deepnote_index_column": "administrator"
        },
        {
         "male_ratio": 53.57142857142857,
         "female_ratio": 46.42857142857143,
         "_deepnote_index_column": "artist"
        },
        {
         "male_ratio": 100,
         "female_ratio": 0,
         "_deepnote_index_column": "doctor"
        },
        {
         "male_ratio": 72.63157894736842,
         "female_ratio": 27.368421052631582,
         "_deepnote_index_column": "educator"
        },
        {
         "male_ratio": 97.01492537313433,
         "female_ratio": 2.9850746268656714,
         "_deepnote_index_column": "engineer"
        },
        {
         "male_ratio": 88.88888888888889,
         "female_ratio": 11.11111111111111,
         "_deepnote_index_column": "entertainment"
        },
        {
         "male_ratio": 90.625,
         "female_ratio": 9.375,
         "_deepnote_index_column": "executive"
        },
        {
         "male_ratio": 31.25,
         "female_ratio": 68.75,
         "_deepnote_index_column": "healthcare"
        },
        {
         "male_ratio": 14.285714285714285,
         "female_ratio": 85.71428571428571,
         "_deepnote_index_column": "homemaker"
        },
        {
         "male_ratio": 83.33333333333334,
         "female_ratio": 16.666666666666664,
         "_deepnote_index_column": "lawyer"
        },
        {
         "male_ratio": 43.13725490196079,
         "female_ratio": 56.86274509803921,
         "_deepnote_index_column": "librarian"
        },
        {
         "male_ratio": 61.53846153846154,
         "female_ratio": 38.46153846153847,
         "_deepnote_index_column": "marketing"
        },
        {
         "male_ratio": 55.55555555555556,
         "female_ratio": 44.44444444444444,
         "_deepnote_index_column": "none"
        },
        {
         "male_ratio": 65.71428571428571,
         "female_ratio": 34.285714285714285,
         "_deepnote_index_column": "other"
        },
        {
         "male_ratio": 90.9090909090909,
         "female_ratio": 9.090909090909092,
         "_deepnote_index_column": "programmer"
        },
        {
         "male_ratio": 92.85714285714286,
         "female_ratio": 7.142857142857142,
         "_deepnote_index_column": "retired"
        },
        {
         "male_ratio": 75,
         "female_ratio": 25,
         "_deepnote_index_column": "salesman"
        },
        {
         "male_ratio": 90.32258064516128,
         "female_ratio": 9.67741935483871,
         "_deepnote_index_column": "scientist"
        },
        {
         "male_ratio": 69.38775510204081,
         "female_ratio": 30.612244897959183,
         "_deepnote_index_column": "student"
        },
        {
         "male_ratio": 96.29629629629629,
         "female_ratio": 3.7037037037037033,
         "_deepnote_index_column": "technician"
        },
        {
         "male_ratio": 57.77777777777777,
         "female_ratio": 42.22222222222222,
         "_deepnote_index_column": "writer"
        }
       ],
       "rows_bottom": null
      },
      "text/plain": "               male_ratio  female_ratio\noccupation                             \nadministrator       54.43         45.57\nartist              53.57         46.43\ndoctor             100.00          0.00\neducator            72.63         27.37\nengineer            97.01          2.99\nentertainment       88.89         11.11\nexecutive           90.62          9.38\nhealthcare          31.25         68.75\nhomemaker           14.29         85.71\nlawyer              83.33         16.67\nlibrarian           43.14         56.86\nmarketing           61.54         38.46\nnone                55.56         44.44\nother               65.71         34.29\nprogrammer          90.91          9.09\nretired             92.86          7.14\nsalesman            75.00         25.00\nscientist           90.32          9.68\nstudent             69.39         30.61\ntechnician          96.30          3.70\nwriter              57.78         42.22",
      "text/html": "<div>\n<style scoped>\n    .dataframe tbody tr th:only-of-type {\n        vertical-align: middle;\n    }\n\n    .dataframe tbody tr th {\n        vertical-align: top;\n    }\n\n    .dataframe thead th {\n        text-align: right;\n    }\n</style>\n<table border=\"1\" class=\"dataframe\">\n  <thead>\n    <tr style=\"text-align: right;\">\n      <th></th>\n      <th>male_ratio</th>\n      <th>female_ratio</th>\n    </tr>\n    <tr>\n      <th>occupation</th>\n      <th></th>\n      <th></th>\n    </tr>\n  </thead>\n  <tbody>\n    <tr>\n      <th>administrator</th>\n      <td>54.43</td>\n      <td>45.57</td>\n    </tr>\n    <tr>\n      <th>artist</th>\n      <td>53.57</td>\n      <td>46.43</td>\n    </tr>\n    <tr>\n      <th>doctor</th>\n      <td>100.00</td>\n      <td>0.00</td>\n    </tr>\n    <tr>\n      <th>educator</th>\n      <td>72.63</td>\n      <td>27.37</td>\n    </tr>\n    <tr>\n      <th>engineer</th>\n      <td>97.01</td>\n      <td>2.99</td>\n    </tr>\n    <tr>\n      <th>entertainment</th>\n      <td>88.89</td>\n      <td>11.11</td>\n    </tr>\n    <tr>\n      <th>executive</th>\n      <td>90.62</td>\n      <td>9.38</td>\n    </tr>\n    <tr>\n      <th>healthcare</th>\n      <td>31.25</td>\n      <td>68.75</td>\n    </tr>\n    <tr>\n      <th>homemaker</th>\n      <td>14.29</td>\n      <td>85.71</td>\n    </tr>\n    <tr>\n      <th>lawyer</th>\n      <td>83.33</td>\n      <td>16.67</td>\n    </tr>\n    <tr>\n      <th>librarian</th>\n      <td>43.14</td>\n      <td>56.86</td>\n    </tr>\n    <tr>\n      <th>marketing</th>\n      <td>61.54</td>\n      <td>38.46</td>\n    </tr>\n    <tr>\n      <th>none</th>\n      <td>55.56</td>\n      <td>44.44</td>\n    </tr>\n    <tr>\n      <th>other</th>\n      <td>65.71</td>\n      <td>34.29</td>\n    </tr>\n    <tr>\n      <th>programmer</th>\n      <td>90.91</td>\n      <td>9.09</td>\n    </tr>\n    <tr>\n      <th>retired</th>\n      <td>92.86</td>\n      <td>7.14</td>\n    </tr>\n    <tr>\n      <th>salesman</th>\n      <td>75.00</td>\n      <td>25.00</td>\n    </tr>\n    <tr>\n      <th>scientist</th>\n      <td>90.32</td>\n      <td>9.68</td>\n    </tr>\n    <tr>\n      <th>student</th>\n      <td>69.39</td>\n      <td>30.61</td>\n    </tr>\n    <tr>\n      <th>technician</th>\n      <td>96.30</td>\n      <td>3.70</td>\n    </tr>\n    <tr>\n      <th>writer</th>\n      <td>57.78</td>\n      <td>42.22</td>\n    </tr>\n  </tbody>\n</table>\n</div>"
     },
     "metadata": {}
    }
   ],
   "execution_count": null
  },
  {
   "cell_type": "markdown",
   "source": "<a style='text-decoration:none;line-height:16px;display:flex;color:#5B5B62;padding:10px;justify-content:end;' href='https://deepnote.com?utm_source=created-in-deepnote-cell&projectId=fe744348-fecc-4b7a-803c-44dba24ecb38' target=\"_blank\">\n<img alt='Created in deepnote.com' style='display:inline;max-height:16px;margin:0px;margin-right:7.5px;' src='data:image/svg+xml;base64,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' > </img>\nCreated in <span style='font-weight:600;margin-left:4px;'>Deepnote</span></a>",
   "metadata": {
    "tags": [],
    "created_in_deepnote_cell": true,
    "deepnote_cell_type": "markdown"
   }
  }
 ],
 "nbformat": 4,
 "nbformat_minor": 0,
 "metadata": {
  "kernelspec": {
   "display_name": "Python 2",
   "language": "python",
   "name": "python2"
  },
  "language_info": {
   "codemirror_mode": {
    "name": "ipython",
    "version": 2
   },
   "file_extension": ".py",
   "mimetype": "text/x-python",
   "name": "python",
   "nbconvert_exporter": "python",
   "pygments_lexer": "ipython2",
   "version": "2.7.11"
  },
  "colab": {
   "name": "Exercise.ipynb",
   "provenance": [],
   "collapsed_sections": []
  },
  "deepnote_notebook_id": "98e7a330-58b7-481b-852b-09866c4934dc",
  "deepnote": {},
  "deepnote_execution_queue": []
 }
}
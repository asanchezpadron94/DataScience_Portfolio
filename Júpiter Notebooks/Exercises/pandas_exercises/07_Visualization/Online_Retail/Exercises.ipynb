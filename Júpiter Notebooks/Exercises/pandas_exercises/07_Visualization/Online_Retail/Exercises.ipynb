{
 "cells": [
  {
   "cell_type": "markdown",
   "source": "# Online Retails Purchase",
   "metadata": {
    "id": "I9vbmyXtTIO_",
    "cell_id": "00000-5ef49dd8-51a0-47f8-bac6-bafb289d65d2",
    "deepnote_cell_type": "markdown"
   }
  },
  {
   "cell_type": "markdown",
   "source": "### Introduction:\n\n\n\n### Step 1. Import the necessary libraries",
   "metadata": {
    "id": "3EHW-ufiTIPC",
    "cell_id": "00001-0d163866-a31d-4c44-a7e5-b755de9193d6",
    "deepnote_cell_type": "markdown"
   }
  },
  {
   "cell_type": "code",
   "metadata": {
    "id": "70O5nuVrTIPD",
    "executionInfo": {
     "status": "ok",
     "timestamp": 1624209191773,
     "user_tz": 240,
     "elapsed": 202,
     "user": {
      "displayName": "Andrés Sánchez",
      "photoUrl": "https://lh3.googleusercontent.com/a-/AOh14Gg69bZMv30ckb-T1MJy0nSxWIHUaP0p2uP6MYBuvQ=s64",
      "userId": "07985253921366566280"
     }
    },
    "cell_id": "00002-88f9e22d-1b0e-4669-847d-34b6aae7add9",
    "deepnote_to_be_reexecuted": false,
    "source_hash": "d60859fb",
    "execution_start": 1630098303239,
    "execution_millis": 1050,
    "deepnote_cell_type": "code"
   },
   "source": "import pandas as pd\nimport matplotlib.pyplot as plt\nfrom matplotlib.pyplot import figure\nfrom collections import Counter\nimport seaborn as sns\nimport copy\nimport numpy as np\n\n# set this so the graphs open internally\n%matplotlib inline",
   "outputs": [],
   "execution_count": null
  },
  {
   "cell_type": "code",
   "metadata": {
    "id": "M9oqiD_PeuyV",
    "executionInfo": {
     "status": "ok",
     "timestamp": 1624209192093,
     "user_tz": 240,
     "elapsed": 4,
     "user": {
      "displayName": "Andrés Sánchez",
      "photoUrl": "https://lh3.googleusercontent.com/a-/AOh14Gg69bZMv30ckb-T1MJy0nSxWIHUaP0p2uP6MYBuvQ=s64",
      "userId": "07985253921366566280"
     }
    },
    "cell_id": "00003-7c802190-7262-49ff-985a-cd8e2dca3a9a",
    "deepnote_to_be_reexecuted": false,
    "source_hash": "81c0e718",
    "execution_start": 1630098304292,
    "execution_millis": 3,
    "deepnote_cell_type": "code"
   },
   "source": "pd.options.display.float_format = '{:,.2f}'.format",
   "outputs": [],
   "execution_count": null
  },
  {
   "cell_type": "markdown",
   "source": "### Step 2. Import the dataset from this [address](https://raw.githubusercontent.com/guipsamora/pandas_exercises/master/07_Visualization/Online_Retail/Online_Retail.csv). ",
   "metadata": {
    "id": "gU7K5wmNTIPD",
    "cell_id": "00004-4e594bd6-80cb-46e5-9d2f-5b7f02c65c20",
    "deepnote_cell_type": "markdown"
   }
  },
  {
   "cell_type": "markdown",
   "source": "### Step 3. Assign it to a variable called online_rt\nNote: if you receive a utf-8 decode error, set `encoding = 'latin1'` in `pd.read_csv()`.",
   "metadata": {
    "id": "GPzzSUPKTIPE",
    "cell_id": "00005-04037070-1dd9-4130-8662-be9fba4f7a38",
    "deepnote_cell_type": "markdown"
   }
  },
  {
   "cell_type": "code",
   "metadata": {
    "id": "JISDWZY0TIPE",
    "executionInfo": {
     "status": "ok",
     "timestamp": 1624209193065,
     "user_tz": 240,
     "elapsed": 976,
     "user": {
      "displayName": "Andrés Sánchez",
      "photoUrl": "https://lh3.googleusercontent.com/a-/AOh14Gg69bZMv30ckb-T1MJy0nSxWIHUaP0p2uP6MYBuvQ=s64",
      "userId": "07985253921366566280"
     }
    },
    "cell_id": "00006-dfd711d4-90a0-44f0-bc1b-dba9e2b6b481",
    "deepnote_to_be_reexecuted": false,
    "source_hash": "ccb7ff1b",
    "execution_start": 1630098304300,
    "execution_millis": 1203,
    "deepnote_cell_type": "code"
   },
   "source": "online_rt = pd.read_csv('https://raw.githubusercontent.com/guipsamora/pandas_exercises/master/07_Visualization/Online_Retail/Online_Retail.csv', encoding = 'latin1')",
   "outputs": [],
   "execution_count": null
  },
  {
   "cell_type": "markdown",
   "source": "### Step 4. Create a histogram with the 10 countries that have the most 'Quantity' ordered except UK",
   "metadata": {
    "id": "RIFxmneGTIPE",
    "cell_id": "00007-731dda6c-a952-4603-9512-51a31395de2a",
    "deepnote_cell_type": "markdown"
   }
  },
  {
   "cell_type": "code",
   "metadata": {
    "colab": {
     "base_uri": "https://localhost:8080/",
     "height": 475
    },
    "id": "2e7rY_G-TIPE",
    "executionInfo": {
     "status": "ok",
     "timestamp": 1624209193274,
     "user_tz": 240,
     "elapsed": 216,
     "user": {
      "displayName": "Andrés Sánchez",
      "photoUrl": "https://lh3.googleusercontent.com/a-/AOh14Gg69bZMv30ckb-T1MJy0nSxWIHUaP0p2uP6MYBuvQ=s64",
      "userId": "07985253921366566280"
     }
    },
    "outputId": "85c68a24-cd85-494b-b880-8c7f7f637e35",
    "cell_id": "00008-4987f5bb-9e66-4a8d-8c9c-99d9b97c7d69",
    "deepnote_to_be_reexecuted": false,
    "source_hash": "7b19dae",
    "execution_start": 1630098305509,
    "execution_millis": 256,
    "deepnote_cell_type": "code"
   },
   "source": "country_quantity = pd.DataFrame(online_rt.groupby('Country')['Quantity'].max().sort_values(ascending = False)).iloc[1:,:].reset_index().head(10)\nfig, ax = plt.subplots(figsize=(15,7))\nax.bar(country_quantity.Country, height=country_quantity.Quantity, width= 0.5)\nplt.title('Top 10 Countries with the most quantity ordered')\nplt.ylabel('biggest order')\nplt.xlabel('Country')",
   "outputs": [
    {
     "output_type": "execute_result",
     "execution_count": 4,
     "data": {
      "text/plain": "Text(0.5, 0, 'Country')"
     },
     "metadata": {}
    },
    {
     "data": {
      "text/plain": "<Figure size 1080x504 with 1 Axes>",
      "image/png": "[encoded data removed]"
     },
     "metadata": {
      "needs_background": "light",
      "image/png": {
       "width": 897,
       "height": 441
      }
     },
     "output_type": "display_data"
    }
   ],
   "execution_count": null
  },
  {
   "cell_type": "markdown",
   "source": "### Step 5.  Exclude negative Quantity entries",
   "metadata": {
    "id": "HwQgjYwgTIPF",
    "cell_id": "00009-f95ae9c1-9b26-49de-8f87-8af2ae2cb056",
    "deepnote_cell_type": "markdown"
   }
  },
  {
   "cell_type": "code",
   "metadata": {
    "colab": {
     "base_uri": "https://localhost:8080/",
     "height": 407
    },
    "id": "fWGxn9qmTIPF",
    "executionInfo": {
     "status": "ok",
     "timestamp": 1624209193590,
     "user_tz": 240,
     "elapsed": 320,
     "user": {
      "displayName": "Andrés Sánchez",
      "photoUrl": "https://lh3.googleusercontent.com/a-/AOh14Gg69bZMv30ckb-T1MJy0nSxWIHUaP0p2uP6MYBuvQ=s64",
      "userId": "07985253921366566280"
     }
    },
    "outputId": "8e3d03d5-271d-4435-9de8-52980f80e850",
    "cell_id": "00010-0c545b67-b476-4728-86b7-de2d6f70f9b9",
    "deepnote_to_be_reexecuted": false,
    "source_hash": "b29e52d2",
    "execution_start": 1630098305768,
    "execution_millis": 159,
    "deepnote_cell_type": "code"
   },
   "source": "online_rt.loc[online_rt['Quantity'] > 0]",
   "outputs": [
    {
     "output_type": "execute_result",
     "execution_count": 5,
     "data": {
      "application/vnd.deepnote.dataframe.v2+json": {
       "row_count": 531285,
       "column_count": 8,
       "columns": [
        {
         "name": "InvoiceNo",
         "dtype": "object"
        },
        {
         "name": "StockCode",
         "dtype": "object"
        },
        {
         "name": "Description",
         "dtype": "object"
        },
        {
         "name": "Quantity",
         "dtype": "int64"
        },
        {
         "name": "InvoiceDate",
         "dtype": "object"
        },
        {
         "name": "UnitPrice",
         "dtype": "float64"
        },
        {
         "name": "CustomerID",
         "dtype": "float64"
        },
        {
         "name": "Country",
         "dtype": "object"
        },
        {
         "name": "_deepnote_index_column",
         "dtype": "int64"
        }
       ],
       "rows_top": [
        {
         "InvoiceNo": "536365",
         "StockCode": "85123A",
         "Description": "WHITE HANGING HEART T-LIGHT HOLDER",
         "Quantity": 6,
         "InvoiceDate": "12/1/10 8:26",
         "UnitPrice": 2.55,
         "CustomerID": 17850,
         "Country": "United Kingdom",
         "_deepnote_index_column": 0
        },
        {
         "InvoiceNo": "536365",
         "StockCode": "71053",
         "Description": "WHITE METAL LANTERN",
         "Quantity": 6,
         "InvoiceDate": "12/1/10 8:26",
         "UnitPrice": 3.39,
         "CustomerID": 17850,
         "Country": "United Kingdom",
         "_deepnote_index_column": 1
        },
        {
         "InvoiceNo": "536365",
         "StockCode": "84406B",
         "Description": "CREAM CUPID HEARTS COAT HANGER",
         "Quantity": 8,
         "InvoiceDate": "12/1/10 8:26",
         "UnitPrice": 2.75,
         "CustomerID": 17850,
         "Country": "United Kingdom",
         "_deepnote_index_column": 2
        },
        {
         "InvoiceNo": "536365",
         "StockCode": "84029G",
         "Description": "KNITTED UNION FLAG HOT WATER BOTTLE",
         "Quantity": 6,
         "InvoiceDate": "12/1/10 8:26",
         "UnitPrice": 3.39,
         "CustomerID": 17850,
         "Country": "United Kingdom",
         "_deepnote_index_column": 3
        },
        {
         "InvoiceNo": "536365",
         "StockCode": "84029E",
         "Description": "RED WOOLLY HOTTIE WHITE HEART.",
         "Quantity": 6,
         "InvoiceDate": "12/1/10 8:26",
         "UnitPrice": 3.39,
         "CustomerID": 17850,
         "Country": "United Kingdom",
         "_deepnote_index_column": 4
        },
        {
         "InvoiceNo": "536365",
         "StockCode": "22752",
         "Description": "SET 7 BABUSHKA NESTING BOXES",
         "Quantity": 2,
         "InvoiceDate": "12/1/10 8:26",
         "UnitPrice": 7.65,
         "CustomerID": 17850,
         "Country": "United Kingdom",
         "_deepnote_index_column": 5
        },
        {
         "InvoiceNo": "536365",
         "StockCode": "21730",
         "Description": "GLASS STAR FROSTED T-LIGHT HOLDER",
         "Quantity": 6,
         "InvoiceDate": "12/1/10 8:26",
         "UnitPrice": 4.25,
         "CustomerID": 17850,
         "Country": "United Kingdom",
         "_deepnote_index_column": 6
        },
        {
         "InvoiceNo": "536366",
         "StockCode": "22633",
         "Description": "HAND WARMER UNION JACK",
         "Quantity": 6,
         "InvoiceDate": "12/1/10 8:28",
         "UnitPrice": 1.85,
         "CustomerID": 17850,
         "Country": "United Kingdom",
         "_deepnote_index_column": 7
        },
        {
         "InvoiceNo": "536366",
         "StockCode": "22632",
         "Description": "HAND WARMER RED POLKA DOT",
         "Quantity": 6,
         "InvoiceDate": "12/1/10 8:28",
         "UnitPrice": 1.85,
         "CustomerID": 17850,
         "Country": "United Kingdom",
         "_deepnote_index_column": 8
        },
        {
         "InvoiceNo": "536367",
         "StockCode": "84879",
         "Description": "ASSORTED COLOUR BIRD ORNAMENT",
         "Quantity": 32,
         "InvoiceDate": "12/1/10 8:34",
         "UnitPrice": 1.69,
         "CustomerID": 13047,
         "Country": "United Kingdom",
         "_deepnote_index_column": 9
        },
        {
         "InvoiceNo": "536367",
         "StockCode": "22745",
         "Description": "POPPY'S PLAYHOUSE BEDROOM ",
         "Quantity": 6,
         "InvoiceDate": "12/1/10 8:34",
         "UnitPrice": 2.1,
         "CustomerID": 13047,
         "Country": "United Kingdom",
         "_deepnote_index_column": 10
        },
        {
         "InvoiceNo": "536367",
         "StockCode": "22748",
         "Description": "POPPY'S PLAYHOUSE KITCHEN",
         "Quantity": 6,
         "InvoiceDate": "12/1/10 8:34",
         "UnitPrice": 2.1,
         "CustomerID": 13047,
         "Country": "United Kingdom",
         "_deepnote_index_column": 11
        },
        {
         "InvoiceNo": "536367",
         "StockCode": "22749",
         "Description": "FELTCRAFT PRINCESS CHARLOTTE DOLL",
         "Quantity": 8,
         "InvoiceDate": "12/1/10 8:34",
         "UnitPrice": 3.75,
         "CustomerID": 13047,
         "Country": "United Kingdom",
         "_deepnote_index_column": 12
        },
        {
         "InvoiceNo": "536367",
         "StockCode": "22310",
         "Description": "IVORY KNITTED MUG COSY ",
         "Quantity": 6,
         "InvoiceDate": "12/1/10 8:34",
         "UnitPrice": 1.65,
         "CustomerID": 13047,
         "Country": "United Kingdom",
         "_deepnote_index_column": 13
        },
        {
         "InvoiceNo": "536367",
         "StockCode": "84969",
         "Description": "BOX OF 6 ASSORTED COLOUR TEASPOONS",
         "Quantity": 6,
         "InvoiceDate": "12/1/10 8:34",
         "UnitPrice": 4.25,
         "CustomerID": 13047,
         "Country": "United Kingdom",
         "_deepnote_index_column": 14
        },
        {
         "InvoiceNo": "536367",
         "StockCode": "22623",
         "Description": "BOX OF VINTAGE JIGSAW BLOCKS ",
         "Quantity": 3,
         "InvoiceDate": "12/1/10 8:34",
         "UnitPrice": 4.95,
         "CustomerID": 13047,
         "Country": "United Kingdom",
         "_deepnote_index_column": 15
        },
        {
         "InvoiceNo": "536367",
         "StockCode": "22622",
         "Description": "BOX OF VINTAGE ALPHABET BLOCKS",
         "Quantity": 2,
         "InvoiceDate": "12/1/10 8:34",
         "UnitPrice": 9.95,
         "CustomerID": 13047,
         "Country": "United Kingdom",
         "_deepnote_index_column": 16
        },
        {
         "InvoiceNo": "536367",
         "StockCode": "21754",
         "Description": "HOME BUILDING BLOCK WORD",
         "Quantity": 3,
         "InvoiceDate": "12/1/10 8:34",
         "UnitPrice": 5.95,
         "CustomerID": 13047,
         "Country": "United Kingdom",
         "_deepnote_index_column": 17
        },
        {
         "InvoiceNo": "536367",
         "StockCode": "21755",
         "Description": "LOVE BUILDING BLOCK WORD",
         "Quantity": 3,
         "InvoiceDate": "12/1/10 8:34",
         "UnitPrice": 5.95,
         "CustomerID": 13047,
         "Country": "United Kingdom",
         "_deepnote_index_column": 18
        },
        {
         "InvoiceNo": "536367",
         "StockCode": "21777",
         "Description": "RECIPE BOX WITH METAL HEART",
         "Quantity": 4,
         "InvoiceDate": "12/1/10 8:34",
         "UnitPrice": 7.95,
         "CustomerID": 13047,
         "Country": "United Kingdom",
         "_deepnote_index_column": 19
        },
        {
         "InvoiceNo": "536367",
         "StockCode": "48187",
         "Description": "DOORMAT NEW ENGLAND",
         "Quantity": 4,
         "InvoiceDate": "12/1/10 8:34",
         "UnitPrice": 7.95,
         "CustomerID": 13047,
         "Country": "United Kingdom",
         "_deepnote_index_column": 20
        },
        {
         "InvoiceNo": "536368",
         "StockCode": "22960",
         "Description": "JAM MAKING SET WITH JARS",
         "Quantity": 6,
         "InvoiceDate": "12/1/10 8:34",
         "UnitPrice": 4.25,
         "CustomerID": 13047,
         "Country": "United Kingdom",
         "_deepnote_index_column": 21
        },
        {
         "InvoiceNo": "536368",
         "StockCode": "22913",
         "Description": "RED COAT RACK PARIS FASHION",
         "Quantity": 3,
         "InvoiceDate": "12/1/10 8:34",
         "UnitPrice": 4.95,
         "CustomerID": 13047,
         "Country": "United Kingdom",
         "_deepnote_index_column": 22
        },
        {
         "InvoiceNo": "536368",
         "StockCode": "22912",
         "Description": "YELLOW COAT RACK PARIS FASHION",
         "Quantity": 3,
         "InvoiceDate": "12/1/10 8:34",
         "UnitPrice": 4.95,
         "CustomerID": 13047,
         "Country": "United Kingdom",
         "_deepnote_index_column": 23
        },
        {
         "InvoiceNo": "536368",
         "StockCode": "22914",
         "Description": "BLUE COAT RACK PARIS FASHION",
         "Quantity": 3,
         "InvoiceDate": "12/1/10 8:34",
         "UnitPrice": 4.95,
         "CustomerID": 13047,
         "Country": "United Kingdom",
         "_deepnote_index_column": 24
        },
        {
         "InvoiceNo": "536369",
         "StockCode": "21756",
         "Description": "BATH BUILDING BLOCK WORD",
         "Quantity": 3,
         "InvoiceDate": "12/1/10 8:35",
         "UnitPrice": 5.95,
         "CustomerID": 13047,
         "Country": "United Kingdom",
         "_deepnote_index_column": 25
        },
        {
         "InvoiceNo": "536370",
         "StockCode": "22728",
         "Description": "ALARM CLOCK BAKELIKE PINK",
         "Quantity": 24,
         "InvoiceDate": "12/1/10 8:45",
         "UnitPrice": 3.75,
         "CustomerID": 12583,
         "Country": "France",
         "_deepnote_index_column": 26
        },
        {
         "InvoiceNo": "536370",
         "StockCode": "22727",
         "Description": "ALARM CLOCK BAKELIKE RED ",
         "Quantity": 24,
         "InvoiceDate": "12/1/10 8:45",
         "UnitPrice": 3.75,
         "CustomerID": 12583,
         "Country": "France",
         "_deepnote_index_column": 27
        },
        {
         "InvoiceNo": "536370",
         "StockCode": "22726",
         "Description": "ALARM CLOCK BAKELIKE GREEN",
         "Quantity": 12,
         "InvoiceDate": "12/1/10 8:45",
         "UnitPrice": 3.75,
         "CustomerID": 12583,
         "Country": "France",
         "_deepnote_index_column": 28
        },
        {
         "InvoiceNo": "536370",
         "StockCode": "21724",
         "Description": "PANDA AND BUNNIES STICKER SHEET",
         "Quantity": 12,
         "InvoiceDate": "12/1/10 8:45",
         "UnitPrice": 0.85,
         "CustomerID": 12583,
         "Country": "France",
         "_deepnote_index_column": 29
        },
        {
         "InvoiceNo": "536370",
         "StockCode": "21883",
         "Description": "STARS GIFT TAPE ",
         "Quantity": 24,
         "InvoiceDate": "12/1/10 8:45",
         "UnitPrice": 0.65,
         "CustomerID": 12583,
         "Country": "France",
         "_deepnote_index_column": 30
        },
        {
         "InvoiceNo": "536370",
         "StockCode": "10002",
         "Description": "INFLATABLE POLITICAL GLOBE ",
         "Quantity": 48,
         "InvoiceDate": "12/1/10 8:45",
         "UnitPrice": 0.85,
         "CustomerID": 12583,
         "Country": "France",
         "_deepnote_index_column": 31
        },
        {
         "InvoiceNo": "536370",
         "StockCode": "21791",
         "Description": "VINTAGE HEADS AND TAILS CARD GAME ",
         "Quantity": 24,
         "InvoiceDate": "12/1/10 8:45",
         "UnitPrice": 1.25,
         "CustomerID": 12583,
         "Country": "France",
         "_deepnote_index_column": 32
        },
        {
         "InvoiceNo": "536370",
         "StockCode": "21035",
         "Description": "SET/2 RED RETROSPOT TEA TOWELS ",
         "Quantity": 18,
         "InvoiceDate": "12/1/10 8:45",
         "UnitPrice": 2.95,
         "CustomerID": 12583,
         "Country": "France",
         "_deepnote_index_column": 33
        },
        {
         "InvoiceNo": "536370",
         "StockCode": "22326",
         "Description": "ROUND SNACK BOXES SET OF4 WOODLAND ",
         "Quantity": 24,
         "InvoiceDate": "12/1/10 8:45",
         "UnitPrice": 2.95,
         "CustomerID": 12583,
         "Country": "France",
         "_deepnote_index_column": 34
        },
        {
         "InvoiceNo": "536370",
         "StockCode": "22629",
         "Description": "SPACEBOY LUNCH BOX ",
         "Quantity": 24,
         "InvoiceDate": "12/1/10 8:45",
         "UnitPrice": 1.95,
         "CustomerID": 12583,
         "Country": "France",
         "_deepnote_index_column": 35
        },
        {
         "InvoiceNo": "536370",
         "StockCode": "22659",
         "Description": "LUNCH BOX I LOVE LONDON",
         "Quantity": 24,
         "InvoiceDate": "12/1/10 8:45",
         "UnitPrice": 1.95,
         "CustomerID": 12583,
         "Country": "France",
         "_deepnote_index_column": 36
        },
        {
         "InvoiceNo": "536370",
         "StockCode": "22631",
         "Description": "CIRCUS PARADE LUNCH BOX ",
         "Quantity": 24,
         "InvoiceDate": "12/1/10 8:45",
         "UnitPrice": 1.95,
         "CustomerID": 12583,
         "Country": "France",
         "_deepnote_index_column": 37
        },
        {
         "InvoiceNo": "536370",
         "StockCode": "22661",
         "Description": "CHARLOTTE BAG DOLLY GIRL DESIGN",
         "Quantity": 20,
         "InvoiceDate": "12/1/10 8:45",
         "UnitPrice": 0.85,
         "CustomerID": 12583,
         "Country": "France",
         "_deepnote_index_column": 38
        },
        {
         "InvoiceNo": "536370",
         "StockCode": "21731",
         "Description": "RED TOADSTOOL LED NIGHT LIGHT",
         "Quantity": 24,
         "InvoiceDate": "12/1/10 8:45",
         "UnitPrice": 1.65,
         "CustomerID": 12583,
         "Country": "France",
         "_deepnote_index_column": 39
        },
        {
         "InvoiceNo": "536370",
         "StockCode": "22900",
         "Description": " SET 2 TEA TOWELS I LOVE LONDON ",
         "Quantity": 24,
         "InvoiceDate": "12/1/10 8:45",
         "UnitPrice": 2.95,
         "CustomerID": 12583,
         "Country": "France",
         "_deepnote_index_column": 40
        },
        {
         "InvoiceNo": "536370",
         "StockCode": "21913",
         "Description": "VINTAGE SEASIDE JIGSAW PUZZLES",
         "Quantity": 12,
         "InvoiceDate": "12/1/10 8:45",
         "UnitPrice": 3.75,
         "CustomerID": 12583,
         "Country": "France",
         "_deepnote_index_column": 41
        },
        {
         "InvoiceNo": "536370",
         "StockCode": "22540",
         "Description": "MINI JIGSAW CIRCUS PARADE ",
         "Quantity": 24,
         "InvoiceDate": "12/1/10 8:45",
         "UnitPrice": 0.42,
         "CustomerID": 12583,
         "Country": "France",
         "_deepnote_index_column": 42
        },
        {
         "InvoiceNo": "536370",
         "StockCode": "22544",
         "Description": "MINI JIGSAW SPACEBOY",
         "Quantity": 24,
         "InvoiceDate": "12/1/10 8:45",
         "UnitPrice": 0.42,
         "CustomerID": 12583,
         "Country": "France",
         "_deepnote_index_column": 43
        },
        {
         "InvoiceNo": "536370",
         "StockCode": "22492",
         "Description": "MINI PAINT SET VINTAGE ",
         "Quantity": 36,
         "InvoiceDate": "12/1/10 8:45",
         "UnitPrice": 0.65,
         "CustomerID": 12583,
         "Country": "France",
         "_deepnote_index_column": 44
        },
        {
         "InvoiceNo": "536370",
         "StockCode": "POST",
         "Description": "POSTAGE",
         "Quantity": 3,
         "InvoiceDate": "12/1/10 8:45",
         "UnitPrice": 18,
         "CustomerID": 12583,
         "Country": "France",
         "_deepnote_index_column": 45
        },
        {
         "InvoiceNo": "536371",
         "StockCode": "22086",
         "Description": "PAPER CHAIN KIT 50'S CHRISTMAS ",
         "Quantity": 80,
         "InvoiceDate": "12/1/10 9:00",
         "UnitPrice": 2.55,
         "CustomerID": 13748,
         "Country": "United Kingdom",
         "_deepnote_index_column": 46
        },
        {
         "InvoiceNo": "536372",
         "StockCode": "22632",
         "Description": "HAND WARMER RED POLKA DOT",
         "Quantity": 6,
         "InvoiceDate": "12/1/10 9:01",
         "UnitPrice": 1.85,
         "CustomerID": 17850,
         "Country": "United Kingdom",
         "_deepnote_index_column": 47
        },
        {
         "InvoiceNo": "536372",
         "StockCode": "22633",
         "Description": "HAND WARMER UNION JACK",
         "Quantity": 6,
         "InvoiceDate": "12/1/10 9:01",
         "UnitPrice": 1.85,
         "CustomerID": 17850,
         "Country": "United Kingdom",
         "_deepnote_index_column": 48
        },
        {
         "InvoiceNo": "536373",
         "StockCode": "85123A",
         "Description": "WHITE HANGING HEART T-LIGHT HOLDER",
         "Quantity": 6,
         "InvoiceDate": "12/1/10 9:02",
         "UnitPrice": 2.55,
         "CustomerID": 17850,
         "Country": "United Kingdom",
         "_deepnote_index_column": 49
        },
        {
         "InvoiceNo": "536373",
         "StockCode": "71053",
         "Description": "WHITE METAL LANTERN",
         "Quantity": 6,
         "InvoiceDate": "12/1/10 9:02",
         "UnitPrice": 3.39,
         "CustomerID": 17850,
         "Country": "United Kingdom",
         "_deepnote_index_column": 50
        },
        {
         "InvoiceNo": "536373",
         "StockCode": "84406B",
         "Description": "CREAM CUPID HEARTS COAT HANGER",
         "Quantity": 8,
         "InvoiceDate": "12/1/10 9:02",
         "UnitPrice": 2.75,
         "CustomerID": 17850,
         "Country": "United Kingdom",
         "_deepnote_index_column": 51
        },
        {
         "InvoiceNo": "536373",
         "StockCode": "20679",
         "Description": "EDWARDIAN PARASOL RED",
         "Quantity": 6,
         "InvoiceDate": "12/1/10 9:02",
         "UnitPrice": 4.95,
         "CustomerID": 17850,
         "Country": "United Kingdom",
         "_deepnote_index_column": 52
        },
        {
         "InvoiceNo": "536373",
         "StockCode": "37370",
         "Description": "RETRO COFFEE MUGS ASSORTED",
         "Quantity": 6,
         "InvoiceDate": "12/1/10 9:02",
         "UnitPrice": 1.06,
         "CustomerID": 17850,
         "Country": "United Kingdom",
         "_deepnote_index_column": 53
        },
        {
         "InvoiceNo": "536373",
         "StockCode": "21871",
         "Description": "SAVE THE PLANET MUG",
         "Quantity": 6,
         "InvoiceDate": "12/1/10 9:02",
         "UnitPrice": 1.06,
         "CustomerID": 17850,
         "Country": "United Kingdom",
         "_deepnote_index_column": 54
        },
        {
         "InvoiceNo": "536373",
         "StockCode": "21071",
         "Description": "VINTAGE BILLBOARD DRINK ME MUG",
         "Quantity": 6,
         "InvoiceDate": "12/1/10 9:02",
         "UnitPrice": 1.06,
         "CustomerID": 17850,
         "Country": "United Kingdom",
         "_deepnote_index_column": 55
        },
        {
         "InvoiceNo": "536373",
         "StockCode": "21068",
         "Description": "VINTAGE BILLBOARD LOVE/HATE MUG",
         "Quantity": 6,
         "InvoiceDate": "12/1/10 9:02",
         "UnitPrice": 1.06,
         "CustomerID": 17850,
         "Country": "United Kingdom",
         "_deepnote_index_column": 56
        },
        {
         "InvoiceNo": "536373",
         "StockCode": "82483",
         "Description": "WOOD 2 DRAWER CABINET WHITE FINISH",
         "Quantity": 2,
         "InvoiceDate": "12/1/10 9:02",
         "UnitPrice": 4.95,
         "CustomerID": 17850,
         "Country": "United Kingdom",
         "_deepnote_index_column": 57
        },
        {
         "InvoiceNo": "536373",
         "StockCode": "82486",
         "Description": "WOOD S/3 CABINET ANT WHITE FINISH",
         "Quantity": 4,
         "InvoiceDate": "12/1/10 9:02",
         "UnitPrice": 6.95,
         "CustomerID": 17850,
         "Country": "United Kingdom",
         "_deepnote_index_column": 58
        },
        {
         "InvoiceNo": "536373",
         "StockCode": "82482",
         "Description": "WOODEN PICTURE FRAME WHITE FINISH",
         "Quantity": 6,
         "InvoiceDate": "12/1/10 9:02",
         "UnitPrice": 2.1,
         "CustomerID": 17850,
         "Country": "United Kingdom",
         "_deepnote_index_column": 59
        },
        {
         "InvoiceNo": "536373",
         "StockCode": "82494L",
         "Description": "WOODEN FRAME ANTIQUE WHITE ",
         "Quantity": 6,
         "InvoiceDate": "12/1/10 9:02",
         "UnitPrice": 2.55,
         "CustomerID": 17850,
         "Country": "United Kingdom",
         "_deepnote_index_column": 60
        },
        {
         "InvoiceNo": "536373",
         "StockCode": "84029G",
         "Description": "KNITTED UNION FLAG HOT WATER BOTTLE",
         "Quantity": 6,
         "InvoiceDate": "12/1/10 9:02",
         "UnitPrice": 3.39,
         "CustomerID": 17850,
         "Country": "United Kingdom",
         "_deepnote_index_column": 61
        }
       ],
       "rows_bottom": [
        {
         "InvoiceNo": "581580",
         "StockCode": "22695",
         "Description": "WICKER WREATH SMALL",
         "Quantity": 1,
         "InvoiceDate": "12/9/11 12:20",
         "UnitPrice": 0.59,
         "CustomerID": 12748,
         "Country": "United Kingdom",
         "_deepnote_index_column": 541846
        },
        {
         "InvoiceNo": "581580",
         "StockCode": "22144",
         "Description": "CHRISTMAS CRAFT LITTLE FRIENDS",
         "Quantity": 1,
         "InvoiceDate": "12/9/11 12:20",
         "UnitPrice": 2.1,
         "CustomerID": 12748,
         "Country": "United Kingdom",
         "_deepnote_index_column": 541847
        },
        {
         "InvoiceNo": "581580",
         "StockCode": "22908",
         "Description": "PACK OF 20 NAPKINS RED APPLES",
         "Quantity": 2,
         "InvoiceDate": "12/9/11 12:20",
         "UnitPrice": 0.85,
         "CustomerID": 12748,
         "Country": "United Kingdom",
         "_deepnote_index_column": 541848
        },
        {
         "InvoiceNo": "581580",
         "StockCode": "22894",
         "Description": "TABLECLOTH RED APPLES DESIGN ",
         "Quantity": 2,
         "InvoiceDate": "12/9/11 12:20",
         "UnitPrice": 9.95,
         "CustomerID": 12748,
         "Country": "United Kingdom",
         "_deepnote_index_column": 541849
        },
        {
         "InvoiceNo": "581580",
         "StockCode": "22704",
         "Description": "WRAP RED APPLES ",
         "Quantity": 25,
         "InvoiceDate": "12/9/11 12:20",
         "UnitPrice": 0.42,
         "CustomerID": 12748,
         "Country": "United Kingdom",
         "_deepnote_index_column": 541850
        },
        {
         "InvoiceNo": "581580",
         "StockCode": "22721",
         "Description": "SET OF 3 CAKE TINS SKETCHBOOK",
         "Quantity": 1,
         "InvoiceDate": "12/9/11 12:20",
         "UnitPrice": 1.95,
         "CustomerID": 12748,
         "Country": "United Kingdom",
         "_deepnote_index_column": 541851
        },
        {
         "InvoiceNo": "581580",
         "StockCode": "22816",
         "Description": "CARD MOTORBIKE SANTA",
         "Quantity": 24,
         "InvoiceDate": "12/9/11 12:20",
         "UnitPrice": 0.42,
         "CustomerID": 12748,
         "Country": "United Kingdom",
         "_deepnote_index_column": 541852
        },
        {
         "InvoiceNo": "581580",
         "StockCode": "85049E",
         "Description": "SCANDINAVIAN REDS RIBBONS",
         "Quantity": 2,
         "InvoiceDate": "12/9/11 12:20",
         "UnitPrice": 1.25,
         "CustomerID": 12748,
         "Country": "United Kingdom",
         "_deepnote_index_column": 541853
        },
        {
         "InvoiceNo": "581580",
         "StockCode": "22075",
         "Description": "6 RIBBONS ELEGANT CHRISTMAS ",
         "Quantity": 2,
         "InvoiceDate": "12/9/11 12:20",
         "UnitPrice": 0.39,
         "CustomerID": 12748,
         "Country": "United Kingdom",
         "_deepnote_index_column": 541854
        },
        {
         "InvoiceNo": "581580",
         "StockCode": "21351",
         "Description": "CINAMMON & ORANGE WREATH",
         "Quantity": 1,
         "InvoiceDate": "12/9/11 12:20",
         "UnitPrice": 6.75,
         "CustomerID": 12748,
         "Country": "United Kingdom",
         "_deepnote_index_column": 541855
        },
        {
         "InvoiceNo": "581580",
         "StockCode": "22698",
         "Description": "PINK REGENCY TEACUP AND SAUCER",
         "Quantity": 1,
         "InvoiceDate": "12/9/11 12:20",
         "UnitPrice": 2.95,
         "CustomerID": 12748,
         "Country": "United Kingdom",
         "_deepnote_index_column": 541856
        },
        {
         "InvoiceNo": "581580",
         "StockCode": "22567",
         "Description": "20 DOLLY PEGS RETROSPOT",
         "Quantity": 1,
         "InvoiceDate": "12/9/11 12:20",
         "UnitPrice": 1.45,
         "CustomerID": 12748,
         "Country": "United Kingdom",
         "_deepnote_index_column": 541857
        },
        {
         "InvoiceNo": "581580",
         "StockCode": "79321",
         "Description": "CHILLI LIGHTS",
         "Quantity": 2,
         "InvoiceDate": "12/9/11 12:20",
         "UnitPrice": 5.75,
         "CustomerID": 12748,
         "Country": "United Kingdom",
         "_deepnote_index_column": 541858
        },
        {
         "InvoiceNo": "581580",
         "StockCode": "37500",
         "Description": "TEA TIME TEAPOT IN GIFT BOX",
         "Quantity": 1,
         "InvoiceDate": "12/9/11 12:20",
         "UnitPrice": 4.95,
         "CustomerID": 12748,
         "Country": "United Kingdom",
         "_deepnote_index_column": 541859
        },
        {
         "InvoiceNo": "581581",
         "StockCode": "23562",
         "Description": "SET OF 6 RIBBONS PERFECTLY PRETTY  ",
         "Quantity": 6,
         "InvoiceDate": "12/9/11 12:20",
         "UnitPrice": 2.89,
         "CustomerID": 17581,
         "Country": "United Kingdom",
         "_deepnote_index_column": 541860
        },
        {
         "InvoiceNo": "581581",
         "StockCode": "23561",
         "Description": "SET OF 6 RIBBONS PARTY",
         "Quantity": 6,
         "InvoiceDate": "12/9/11 12:20",
         "UnitPrice": 2.89,
         "CustomerID": 17581,
         "Country": "United Kingdom",
         "_deepnote_index_column": 541861
        },
        {
         "InvoiceNo": "581581",
         "StockCode": "23681",
         "Description": "LUNCH BAG RED VINTAGE DOILY",
         "Quantity": 10,
         "InvoiceDate": "12/9/11 12:20",
         "UnitPrice": 1.65,
         "CustomerID": 17581,
         "Country": "United Kingdom",
         "_deepnote_index_column": 541862
        },
        {
         "InvoiceNo": "581582",
         "StockCode": "23552",
         "Description": "BICYCLE PUNCTURE REPAIR KIT ",
         "Quantity": 6,
         "InvoiceDate": "12/9/11 12:21",
         "UnitPrice": 2.08,
         "CustomerID": 17581,
         "Country": "United Kingdom",
         "_deepnote_index_column": 541863
        },
        {
         "InvoiceNo": "581582",
         "StockCode": "23498",
         "Description": "CLASSIC BICYCLE CLIPS ",
         "Quantity": 12,
         "InvoiceDate": "12/9/11 12:21",
         "UnitPrice": 1.45,
         "CustomerID": 17581,
         "Country": "United Kingdom",
         "_deepnote_index_column": 541864
        },
        {
         "InvoiceNo": "581583",
         "StockCode": "20725",
         "Description": "LUNCH BAG RED RETROSPOT",
         "Quantity": 40,
         "InvoiceDate": "12/9/11 12:23",
         "UnitPrice": 1.45,
         "CustomerID": 13777,
         "Country": "United Kingdom",
         "_deepnote_index_column": 541865
        },
        {
         "InvoiceNo": "581583",
         "StockCode": "85038",
         "Description": "6 CHOCOLATE LOVE HEART T-LIGHTS",
         "Quantity": 36,
         "InvoiceDate": "12/9/11 12:23",
         "UnitPrice": 1.85,
         "CustomerID": 13777,
         "Country": "United Kingdom",
         "_deepnote_index_column": 541866
        },
        {
         "InvoiceNo": "581584",
         "StockCode": "20832",
         "Description": "RED FLOCK LOVE HEART PHOTO FRAME",
         "Quantity": 72,
         "InvoiceDate": "12/9/11 12:25",
         "UnitPrice": 0.72,
         "CustomerID": 13777,
         "Country": "United Kingdom",
         "_deepnote_index_column": 541867
        },
        {
         "InvoiceNo": "581584",
         "StockCode": "85038",
         "Description": "6 CHOCOLATE LOVE HEART T-LIGHTS",
         "Quantity": 48,
         "InvoiceDate": "12/9/11 12:25",
         "UnitPrice": 1.85,
         "CustomerID": 13777,
         "Country": "United Kingdom",
         "_deepnote_index_column": 541868
        },
        {
         "InvoiceNo": "581585",
         "StockCode": "22481",
         "Description": "BLACK TEA TOWEL CLASSIC DESIGN",
         "Quantity": 12,
         "InvoiceDate": "12/9/11 12:31",
         "UnitPrice": 0.39,
         "CustomerID": 15804,
         "Country": "United Kingdom",
         "_deepnote_index_column": 541869
        },
        {
         "InvoiceNo": "581585",
         "StockCode": "22915",
         "Description": "ASSORTED BOTTLE TOP  MAGNETS ",
         "Quantity": 24,
         "InvoiceDate": "12/9/11 12:31",
         "UnitPrice": 0.19,
         "CustomerID": 15804,
         "Country": "United Kingdom",
         "_deepnote_index_column": 541870
        },
        {
         "InvoiceNo": "581585",
         "StockCode": "22178",
         "Description": "VICTORIAN GLASS HANGING T-LIGHT",
         "Quantity": 12,
         "InvoiceDate": "12/9/11 12:31",
         "UnitPrice": 1.95,
         "CustomerID": 15804,
         "Country": "United Kingdom",
         "_deepnote_index_column": 541871
        },
        {
         "InvoiceNo": "581585",
         "StockCode": "22460",
         "Description": "EMBOSSED GLASS TEALIGHT HOLDER",
         "Quantity": 12,
         "InvoiceDate": "12/9/11 12:31",
         "UnitPrice": 1.25,
         "CustomerID": 15804,
         "Country": "United Kingdom",
         "_deepnote_index_column": 541872
        },
        {
         "InvoiceNo": "581585",
         "StockCode": "84832",
         "Description": "ZINC WILLIE WINKIE  CANDLE STICK",
         "Quantity": 24,
         "InvoiceDate": "12/9/11 12:31",
         "UnitPrice": 0.85,
         "CustomerID": 15804,
         "Country": "United Kingdom",
         "_deepnote_index_column": 541873
        },
        {
         "InvoiceNo": "581585",
         "StockCode": "23084",
         "Description": "RABBIT NIGHT LIGHT",
         "Quantity": 12,
         "InvoiceDate": "12/9/11 12:31",
         "UnitPrice": 2.08,
         "CustomerID": 15804,
         "Country": "United Kingdom",
         "_deepnote_index_column": 541874
        },
        {
         "InvoiceNo": "581585",
         "StockCode": "84879",
         "Description": "ASSORTED COLOUR BIRD ORNAMENT",
         "Quantity": 16,
         "InvoiceDate": "12/9/11 12:31",
         "UnitPrice": 1.69,
         "CustomerID": 15804,
         "Country": "United Kingdom",
         "_deepnote_index_column": 541875
        },
        {
         "InvoiceNo": "581585",
         "StockCode": "84945",
         "Description": "MULTI COLOUR SILVER T-LIGHT HOLDER",
         "Quantity": 24,
         "InvoiceDate": "12/9/11 12:31",
         "UnitPrice": 0.85,
         "CustomerID": 15804,
         "Country": "United Kingdom",
         "_deepnote_index_column": 541876
        },
        {
         "InvoiceNo": "581585",
         "StockCode": "22113",
         "Description": "GREY HEART HOT WATER BOTTLE",
         "Quantity": 4,
         "InvoiceDate": "12/9/11 12:31",
         "UnitPrice": 4.25,
         "CustomerID": 15804,
         "Country": "United Kingdom",
         "_deepnote_index_column": 541877
        },
        {
         "InvoiceNo": "581585",
         "StockCode": "23356",
         "Description": "LOVE HOT WATER BOTTLE",
         "Quantity": 3,
         "InvoiceDate": "12/9/11 12:31",
         "UnitPrice": 5.95,
         "CustomerID": 15804,
         "Country": "United Kingdom",
         "_deepnote_index_column": 541878
        },
        {
         "InvoiceNo": "581585",
         "StockCode": "22726",
         "Description": "ALARM CLOCK BAKELIKE GREEN",
         "Quantity": 8,
         "InvoiceDate": "12/9/11 12:31",
         "UnitPrice": 3.75,
         "CustomerID": 15804,
         "Country": "United Kingdom",
         "_deepnote_index_column": 541879
        },
        {
         "InvoiceNo": "581585",
         "StockCode": "22727",
         "Description": "ALARM CLOCK BAKELIKE RED ",
         "Quantity": 4,
         "InvoiceDate": "12/9/11 12:31",
         "UnitPrice": 3.75,
         "CustomerID": 15804,
         "Country": "United Kingdom",
         "_deepnote_index_column": 541880
        },
        {
         "InvoiceNo": "581585",
         "StockCode": "16016",
         "Description": "LARGE CHINESE STYLE SCISSOR",
         "Quantity": 10,
         "InvoiceDate": "12/9/11 12:31",
         "UnitPrice": 0.85,
         "CustomerID": 15804,
         "Country": "United Kingdom",
         "_deepnote_index_column": 541881
        },
        {
         "InvoiceNo": "581585",
         "StockCode": "21916",
         "Description": "SET 12 RETRO WHITE CHALK STICKS",
         "Quantity": 24,
         "InvoiceDate": "12/9/11 12:31",
         "UnitPrice": 0.42,
         "CustomerID": 15804,
         "Country": "United Kingdom",
         "_deepnote_index_column": 541882
        },
        {
         "InvoiceNo": "581585",
         "StockCode": "84692",
         "Description": "BOX OF 24 COCKTAIL PARASOLS",
         "Quantity": 25,
         "InvoiceDate": "12/9/11 12:31",
         "UnitPrice": 0.42,
         "CustomerID": 15804,
         "Country": "United Kingdom",
         "_deepnote_index_column": 541883
        },
        {
         "InvoiceNo": "581585",
         "StockCode": "84946",
         "Description": "ANTIQUE SILVER T-LIGHT GLASS",
         "Quantity": 12,
         "InvoiceDate": "12/9/11 12:31",
         "UnitPrice": 1.25,
         "CustomerID": 15804,
         "Country": "United Kingdom",
         "_deepnote_index_column": 541884
        },
        {
         "InvoiceNo": "581585",
         "StockCode": "21684",
         "Description": "SMALL MEDINA STAMPED METAL BOWL ",
         "Quantity": 12,
         "InvoiceDate": "12/9/11 12:31",
         "UnitPrice": 0.85,
         "CustomerID": 15804,
         "Country": "United Kingdom",
         "_deepnote_index_column": 541885
        },
        {
         "InvoiceNo": "581585",
         "StockCode": "22398",
         "Description": "MAGNETS PACK OF 4 SWALLOWS",
         "Quantity": 12,
         "InvoiceDate": "12/9/11 12:31",
         "UnitPrice": 0.39,
         "CustomerID": 15804,
         "Country": "United Kingdom",
         "_deepnote_index_column": 541886
        },
        {
         "InvoiceNo": "581585",
         "StockCode": "23328",
         "Description": "SET 6 SCHOOL MILK BOTTLES IN CRATE",
         "Quantity": 4,
         "InvoiceDate": "12/9/11 12:31",
         "UnitPrice": 3.75,
         "CustomerID": 15804,
         "Country": "United Kingdom",
         "_deepnote_index_column": 541887
        },
        {
         "InvoiceNo": "581585",
         "StockCode": "23145",
         "Description": "ZINC T-LIGHT HOLDER STAR LARGE",
         "Quantity": 12,
         "InvoiceDate": "12/9/11 12:31",
         "UnitPrice": 0.95,
         "CustomerID": 15804,
         "Country": "United Kingdom",
         "_deepnote_index_column": 541888
        },
        {
         "InvoiceNo": "581585",
         "StockCode": "22466",
         "Description": "FAIRY TALE COTTAGE NIGHT LIGHT",
         "Quantity": 12,
         "InvoiceDate": "12/9/11 12:31",
         "UnitPrice": 1.95,
         "CustomerID": 15804,
         "Country": "United Kingdom",
         "_deepnote_index_column": 541889
        },
        {
         "InvoiceNo": "581586",
         "StockCode": "22061",
         "Description": "LARGE CAKE STAND  HANGING STRAWBERY",
         "Quantity": 8,
         "InvoiceDate": "12/9/11 12:49",
         "UnitPrice": 2.95,
         "CustomerID": 13113,
         "Country": "United Kingdom",
         "_deepnote_index_column": 541890
        },
        {
         "InvoiceNo": "581586",
         "StockCode": "23275",
         "Description": "SET OF 3 HANGING OWLS OLLIE BEAK",
         "Quantity": 24,
         "InvoiceDate": "12/9/11 12:49",
         "UnitPrice": 1.25,
         "CustomerID": 13113,
         "Country": "United Kingdom",
         "_deepnote_index_column": 541891
        },
        {
         "InvoiceNo": "581586",
         "StockCode": "21217",
         "Description": "RED RETROSPOT ROUND CAKE TINS",
         "Quantity": 24,
         "InvoiceDate": "12/9/11 12:49",
         "UnitPrice": 8.95,
         "CustomerID": 13113,
         "Country": "United Kingdom",
         "_deepnote_index_column": 541892
        },
        {
         "InvoiceNo": "581586",
         "StockCode": "20685",
         "Description": "DOORMAT RED RETROSPOT",
         "Quantity": 10,
         "InvoiceDate": "12/9/11 12:49",
         "UnitPrice": 7.08,
         "CustomerID": 13113,
         "Country": "United Kingdom",
         "_deepnote_index_column": 541893
        },
        {
         "InvoiceNo": "581587",
         "StockCode": "22631",
         "Description": "CIRCUS PARADE LUNCH BOX ",
         "Quantity": 12,
         "InvoiceDate": "12/9/11 12:50",
         "UnitPrice": 1.95,
         "CustomerID": 12680,
         "Country": "France",
         "_deepnote_index_column": 541894
        },
        {
         "InvoiceNo": "581587",
         "StockCode": "22556",
         "Description": "PLASTERS IN TIN CIRCUS PARADE ",
         "Quantity": 12,
         "InvoiceDate": "12/9/11 12:50",
         "UnitPrice": 1.65,
         "CustomerID": 12680,
         "Country": "France",
         "_deepnote_index_column": 541895
        },
        {
         "InvoiceNo": "581587",
         "StockCode": "22555",
         "Description": "PLASTERS IN TIN STRONGMAN",
         "Quantity": 12,
         "InvoiceDate": "12/9/11 12:50",
         "UnitPrice": 1.65,
         "CustomerID": 12680,
         "Country": "France",
         "_deepnote_index_column": 541896
        },
        {
         "InvoiceNo": "581587",
         "StockCode": "22728",
         "Description": "ALARM CLOCK BAKELIKE PINK",
         "Quantity": 4,
         "InvoiceDate": "12/9/11 12:50",
         "UnitPrice": 3.75,
         "CustomerID": 12680,
         "Country": "France",
         "_deepnote_index_column": 541897
        },
        {
         "InvoiceNo": "581587",
         "StockCode": "22727",
         "Description": "ALARM CLOCK BAKELIKE RED ",
         "Quantity": 4,
         "InvoiceDate": "12/9/11 12:50",
         "UnitPrice": 3.75,
         "CustomerID": 12680,
         "Country": "France",
         "_deepnote_index_column": 541898
        },
        {
         "InvoiceNo": "581587",
         "StockCode": "22726",
         "Description": "ALARM CLOCK BAKELIKE GREEN",
         "Quantity": 4,
         "InvoiceDate": "12/9/11 12:50",
         "UnitPrice": 3.75,
         "CustomerID": 12680,
         "Country": "France",
         "_deepnote_index_column": 541899
        },
        {
         "InvoiceNo": "581587",
         "StockCode": "22730",
         "Description": "ALARM CLOCK BAKELIKE IVORY",
         "Quantity": 4,
         "InvoiceDate": "12/9/11 12:50",
         "UnitPrice": 3.75,
         "CustomerID": 12680,
         "Country": "France",
         "_deepnote_index_column": 541900
        },
        {
         "InvoiceNo": "581587",
         "StockCode": "22367",
         "Description": "CHILDRENS APRON SPACEBOY DESIGN",
         "Quantity": 8,
         "InvoiceDate": "12/9/11 12:50",
         "UnitPrice": 1.95,
         "CustomerID": 12680,
         "Country": "France",
         "_deepnote_index_column": 541901
        },
        {
         "InvoiceNo": "581587",
         "StockCode": "22629",
         "Description": "SPACEBOY LUNCH BOX ",
         "Quantity": 12,
         "InvoiceDate": "12/9/11 12:50",
         "UnitPrice": 1.95,
         "CustomerID": 12680,
         "Country": "France",
         "_deepnote_index_column": 541902
        },
        {
         "InvoiceNo": "581587",
         "StockCode": "23256",
         "Description": "CHILDRENS CUTLERY SPACEBOY ",
         "Quantity": 4,
         "InvoiceDate": "12/9/11 12:50",
         "UnitPrice": 4.15,
         "CustomerID": 12680,
         "Country": "France",
         "_deepnote_index_column": 541903
        },
        {
         "InvoiceNo": "581587",
         "StockCode": "22613",
         "Description": "PACK OF 20 SPACEBOY NAPKINS",
         "Quantity": 12,
         "InvoiceDate": "12/9/11 12:50",
         "UnitPrice": 0.85,
         "CustomerID": 12680,
         "Country": "France",
         "_deepnote_index_column": 541904
        },
        {
         "InvoiceNo": "581587",
         "StockCode": "22899",
         "Description": "CHILDREN'S APRON DOLLY GIRL ",
         "Quantity": 6,
         "InvoiceDate": "12/9/11 12:50",
         "UnitPrice": 2.1,
         "CustomerID": 12680,
         "Country": "France",
         "_deepnote_index_column": 541905
        },
        {
         "InvoiceNo": "581587",
         "StockCode": "23254",
         "Description": "CHILDRENS CUTLERY DOLLY GIRL ",
         "Quantity": 4,
         "InvoiceDate": "12/9/11 12:50",
         "UnitPrice": 4.15,
         "CustomerID": 12680,
         "Country": "France",
         "_deepnote_index_column": 541906
        },
        {
         "InvoiceNo": "581587",
         "StockCode": "23255",
         "Description": "CHILDRENS CUTLERY CIRCUS PARADE",
         "Quantity": 4,
         "InvoiceDate": "12/9/11 12:50",
         "UnitPrice": 4.15,
         "CustomerID": 12680,
         "Country": "France",
         "_deepnote_index_column": 541907
        },
        {
         "InvoiceNo": "581587",
         "StockCode": "22138",
         "Description": "BAKING SET 9 PIECE RETROSPOT ",
         "Quantity": 3,
         "InvoiceDate": "12/9/11 12:50",
         "UnitPrice": 4.95,
         "CustomerID": 12680,
         "Country": "France",
         "_deepnote_index_column": 541908
        }
       ]
      },
      "text/plain": "       InvoiceNo StockCode                          Description  Quantity  \\\n0         536365    85123A   WHITE HANGING HEART T-LIGHT HOLDER         6   \n1         536365     71053                  WHITE METAL LANTERN         6   \n2         536365    84406B       CREAM CUPID HEARTS COAT HANGER         8   \n3         536365    84029G  KNITTED UNION FLAG HOT WATER BOTTLE         6   \n4         536365    84029E       RED WOOLLY HOTTIE WHITE HEART.         6   \n...          ...       ...                                  ...       ...   \n541904    581587     22613          PACK OF 20 SPACEBOY NAPKINS        12   \n541905    581587     22899         CHILDREN'S APRON DOLLY GIRL          6   \n541906    581587     23254        CHILDRENS CUTLERY DOLLY GIRL          4   \n541907    581587     23255      CHILDRENS CUTLERY CIRCUS PARADE         4   \n541908    581587     22138        BAKING SET 9 PIECE RETROSPOT          3   \n\n          InvoiceDate  UnitPrice  CustomerID         Country  \n0        12/1/10 8:26       2.55   17,850.00  United Kingdom  \n1        12/1/10 8:26       3.39   17,850.00  United Kingdom  \n2        12/1/10 8:26       2.75   17,850.00  United Kingdom  \n3        12/1/10 8:26       3.39   17,850.00  United Kingdom  \n4        12/1/10 8:26       3.39   17,850.00  United Kingdom  \n...               ...        ...         ...             ...  \n541904  12/9/11 12:50       0.85   12,680.00          France  \n541905  12/9/11 12:50       2.10   12,680.00          France  \n541906  12/9/11 12:50       4.15   12,680.00          France  \n541907  12/9/11 12:50       4.15   12,680.00          France  \n541908  12/9/11 12:50       4.95   12,680.00          France  \n\n[531285 rows x 8 columns]",
      "text/html": "<div>\n<style scoped>\n    .dataframe tbody tr th:only-of-type {\n        vertical-align: middle;\n    }\n\n    .dataframe tbody tr th {\n        vertical-align: top;\n    }\n\n    .dataframe thead th {\n        text-align: right;\n    }\n</style>\n<table border=\"1\" class=\"dataframe\">\n  <thead>\n    <tr style=\"text-align: right;\">\n      <th></th>\n      <th>InvoiceNo</th>\n      <th>StockCode</th>\n      <th>Description</th>\n      <th>Quantity</th>\n      <th>InvoiceDate</th>\n      <th>UnitPrice</th>\n      <th>CustomerID</th>\n      <th>Country</th>\n    </tr>\n  </thead>\n  <tbody>\n    <tr>\n      <th>0</th>\n      <td>536365</td>\n      <td>85123A</td>\n      <td>WHITE HANGING HEART T-LIGHT HOLDER</td>\n      <td>6</td>\n      <td>12/1/10 8:26</td>\n      <td>2.55</td>\n      <td>17,850.00</td>\n      <td>United Kingdom</td>\n    </tr>\n    <tr>\n      <th>1</th>\n      <td>536365</td>\n      <td>71053</td>\n      <td>WHITE METAL LANTERN</td>\n      <td>6</td>\n      <td>12/1/10 8:26</td>\n      <td>3.39</td>\n      <td>17,850.00</td>\n      <td>United Kingdom</td>\n    </tr>\n    <tr>\n      <th>2</th>\n      <td>536365</td>\n      <td>84406B</td>\n      <td>CREAM CUPID HEARTS COAT HANGER</td>\n      <td>8</td>\n      <td>12/1/10 8:26</td>\n      <td>2.75</td>\n      <td>17,850.00</td>\n      <td>United Kingdom</td>\n    </tr>\n    <tr>\n      <th>3</th>\n      <td>536365</td>\n      <td>84029G</td>\n      <td>KNITTED UNION FLAG HOT WATER BOTTLE</td>\n      <td>6</td>\n      <td>12/1/10 8:26</td>\n      <td>3.39</td>\n      <td>17,850.00</td>\n      <td>United Kingdom</td>\n    </tr>\n    <tr>\n      <th>4</th>\n      <td>536365</td>\n      <td>84029E</td>\n      <td>RED WOOLLY HOTTIE WHITE HEART.</td>\n      <td>6</td>\n      <td>12/1/10 8:26</td>\n      <td>3.39</td>\n      <td>17,850.00</td>\n      <td>United Kingdom</td>\n    </tr>\n    <tr>\n      <th>...</th>\n      <td>...</td>\n      <td>...</td>\n      <td>...</td>\n      <td>...</td>\n      <td>...</td>\n      <td>...</td>\n      <td>...</td>\n      <td>...</td>\n    </tr>\n    <tr>\n      <th>541904</th>\n      <td>581587</td>\n      <td>22613</td>\n      <td>PACK OF 20 SPACEBOY NAPKINS</td>\n      <td>12</td>\n      <td>12/9/11 12:50</td>\n      <td>0.85</td>\n      <td>12,680.00</td>\n      <td>France</td>\n    </tr>\n    <tr>\n      <th>541905</th>\n      <td>581587</td>\n      <td>22899</td>\n      <td>CHILDREN'S APRON DOLLY GIRL</td>\n      <td>6</td>\n      <td>12/9/11 12:50</td>\n      <td>2.10</td>\n      <td>12,680.00</td>\n      <td>France</td>\n    </tr>\n    <tr>\n      <th>541906</th>\n      <td>581587</td>\n      <td>23254</td>\n      <td>CHILDRENS CUTLERY DOLLY GIRL</td>\n      <td>4</td>\n      <td>12/9/11 12:50</td>\n      <td>4.15</td>\n      <td>12,680.00</td>\n      <td>France</td>\n    </tr>\n    <tr>\n      <th>541907</th>\n      <td>581587</td>\n      <td>23255</td>\n      <td>CHILDRENS CUTLERY CIRCUS PARADE</td>\n      <td>4</td>\n      <td>12/9/11 12:50</td>\n      <td>4.15</td>\n      <td>12,680.00</td>\n      <td>France</td>\n    </tr>\n    <tr>\n      <th>541908</th>\n      <td>581587</td>\n      <td>22138</td>\n      <td>BAKING SET 9 PIECE RETROSPOT</td>\n      <td>3</td>\n      <td>12/9/11 12:50</td>\n      <td>4.95</td>\n      <td>12,680.00</td>\n      <td>France</td>\n    </tr>\n  </tbody>\n</table>\n<p>531285 rows × 8 columns</p>\n</div>"
     },
     "metadata": {}
    }
   ],
   "execution_count": null
  },
  {
   "cell_type": "markdown",
   "source": "### Step 6. Create a scatterplot with the Quantity per UnitPrice by CustomerID for the top 3 Countries (except UK)",
   "metadata": {
    "id": "OcWX1POUTIPF",
    "cell_id": "00011-75550671-d158-4b82-92e6-06d83c8aa6a8",
    "deepnote_cell_type": "markdown"
   }
  },
  {
   "cell_type": "code",
   "metadata": {
    "colab": {
     "base_uri": "https://localhost:8080/",
     "height": 595
    },
    "id": "COopaqMETIPG",
    "executionInfo": {
     "status": "ok",
     "timestamp": 1624209194642,
     "user_tz": 240,
     "elapsed": 1055,
     "user": {
      "displayName": "Andrés Sánchez",
      "photoUrl": "https://lh3.googleusercontent.com/a-/AOh14Gg69bZMv30ckb-T1MJy0nSxWIHUaP0p2uP6MYBuvQ=s64",
      "userId": "07985253921366566280"
     }
    },
    "outputId": "2e44932f-8c34-4405-c341-d657c9965fe7",
    "cell_id": "00012-fd0d1f91-bf62-4ccc-8f45-a69bbafccdc5",
    "deepnote_to_be_reexecuted": false,
    "source_hash": "e84db252",
    "execution_start": 1630098305932,
    "execution_millis": 816,
    "deepnote_cell_type": "code"
   },
   "source": "# Add the top contries to a variable called top_c.\ntop_c =  ['Netherlands', 'EIRE', 'Germany']\n\n# Filter using isin func with the top_c variable.\nsc_online_rt = online_rt.loc[online_rt['Country'].isin(top_c)]\n\n# Filter negative values.\nsc_online_rt = sc_online_rt.loc[online_rt.UnitPrice > 0]\n\n# Groupby CustomerID and UnitPrice and count each one.\nsc_online_rt = pd.DataFrame(sc_online_rt.groupby(by = ['Country','CustomerID'])['Quantity','UnitPrice'].sum())\n\n#Reset the index.\nsc_online_rt = sc_online_rt.reset_index()\n\nsc_online_rt\n\n#Create the scatter plot.\nax = sns.FacetGrid(sc_online_rt, col = 'Country', size = 7)\nax.map(plt.scatter,'Quantity', 'UnitPrice', alpha = 1)\nax.add_legend()",
   "outputs": [
    {
     "name": "stderr",
     "text": "/tmp/ipykernel_633/1789046131.py:11: FutureWarning: Indexing with multiple keys (implicitly converted to a tuple of keys) will be deprecated, use a list instead.\n  sc_online_rt = pd.DataFrame(sc_online_rt.groupby(by = ['Country','CustomerID'])['Quantity','UnitPrice'].sum())\n/shared-libs/python3.9/py/lib/python3.9/site-packages/seaborn/axisgrid.py:316: UserWarning: The `size` parameter has been renamed to `height`; please update your code.\n  warnings.warn(msg, UserWarning)\n",
     "output_type": "stream"
    },
    {
     "output_type": "execute_result",
     "execution_count": 6,
     "data": {
      "text/plain": "<seaborn.axisgrid.FacetGrid at 0x7f56a7a4ce50>"
     },
     "metadata": {}
    },
    {
     "data": {
      "text/plain": "<Figure size 1520x504 with 3 Axes>",
      "image/png": "[encoded data removed]"
     },
     "metadata": {
      "needs_background": "light",
      "image/png": {
       "width": 1518,
       "height": 496
      }
     },
     "output_type": "display_data"
    }
   ],
   "execution_count": null
  },
  {
   "cell_type": "markdown",
   "source": "### 7. Plot a line chart showing revenue (y) per UnitPrice (x).\n\nNevertheless the rate of drop in quantity is so drastic, it makes me wonder how our revenue changes with respect to item price. It would not be that surprising if it didn't change that much. But it would be interesting to know whether most of our revenue comes from expensive or inexpensive items, and how that relation looks like.\n\nThat is what we are going to do now.\n\n#### 7.1 Group `UnitPrice` by intervals of 1 for prices [0,50], and sum `Quantity` and `Revenue`.",
   "metadata": {
    "id": "NBIIAsMLTIPJ",
    "cell_id": "00013-72cede4f-d131-462b-a6ad-0a4d7a9d054e",
    "deepnote_cell_type": "markdown"
   }
  },
  {
   "cell_type": "code",
   "metadata": {
    "id": "FlPF_s0wTIPK",
    "executionInfo": {
     "status": "ok",
     "timestamp": 1624209195763,
     "user_tz": 240,
     "elapsed": 1122,
     "user": {
      "displayName": "Andrés Sánchez",
      "photoUrl": "https://lh3.googleusercontent.com/a-/AOh14Gg69bZMv30ckb-T1MJy0nSxWIHUaP0p2uP6MYBuvQ=s64",
      "userId": "07985253921366566280"
     }
    },
    "cell_id": "00014-1c835332-4dfd-4c67-8bdc-45bbf709cd5f",
    "deepnote_to_be_reexecuted": false,
    "source_hash": "34488884",
    "execution_start": 1630098306791,
    "execution_millis": 782,
    "deepnote_cell_type": "code"
   },
   "source": "# Bring the data without modifications:\nonline_rt = pd.read_csv('https://raw.githubusercontent.com/guipsamora/pandas_exercises/master/07_Visualization/Online_Retail/Online_Retail.csv', encoding = 'latin1')",
   "outputs": [],
   "execution_count": null
  },
  {
   "cell_type": "code",
   "metadata": {
    "id": "ih9mQ_b1tLjw",
    "executionInfo": {
     "status": "ok",
     "timestamp": 1624209195764,
     "user_tz": 240,
     "elapsed": 6,
     "user": {
      "displayName": "Andrés Sánchez",
      "photoUrl": "https://lh3.googleusercontent.com/a-/AOh14Gg69bZMv30ckb-T1MJy0nSxWIHUaP0p2uP6MYBuvQ=s64",
      "userId": "07985253921366566280"
     }
    },
    "cell_id": "00015-54950123-05fe-422a-be67-66fe00e6fbf7",
    "deepnote_to_be_reexecuted": false,
    "source_hash": "64c28611",
    "execution_start": 1630098307580,
    "execution_millis": 3,
    "deepnote_cell_type": "code"
   },
   "source": "# Create the revenue column:\nonline_rt['revenue'] = online_rt.UnitPrice * online_rt.Quantity",
   "outputs": [],
   "execution_count": null
  },
  {
   "cell_type": "code",
   "metadata": {
    "id": "RjEnusl7ttsL",
    "executionInfo": {
     "status": "ok",
     "timestamp": 1624209195764,
     "user_tz": 240,
     "elapsed": 5,
     "user": {
      "displayName": "Andrés Sánchez",
      "photoUrl": "https://lh3.googleusercontent.com/a-/AOh14Gg69bZMv30ckb-T1MJy0nSxWIHUaP0p2uP6MYBuvQ=s64",
      "userId": "07985253921366566280"
     }
    },
    "cell_id": "00016-64717061-f3d6-4b1b-bb27-2ce86f1a54a0",
    "deepnote_to_be_reexecuted": false,
    "source_hash": "bbf31ab9",
    "execution_start": 1630098307586,
    "execution_millis": 44,
    "deepnote_cell_type": "code"
   },
   "source": "# Round the Unit Price for the plot:\nonline_rt = pd.DataFrame(online_rt.groupby(pd.cut(online_rt.UnitPrice,np.arange(0,51,1))).revenue.sum()).reset_index()",
   "outputs": [],
   "execution_count": null
  },
  {
   "cell_type": "markdown",
   "source": "#### 7.2 Plot.",
   "metadata": {
    "id": "hxGw109CTIPK",
    "cell_id": "00017-9b528a00-dc18-40b4-ab02-3706a31791a4",
    "deepnote_cell_type": "markdown"
   }
  },
  {
   "cell_type": "code",
   "metadata": {
    "id": "M2MsYpXBTIPK",
    "colab": {
     "base_uri": "https://localhost:8080/",
     "height": 307
    },
    "executionInfo": {
     "status": "ok",
     "timestamp": 1624209195966,
     "user_tz": 240,
     "elapsed": 206,
     "user": {
      "displayName": "Andrés Sánchez",
      "photoUrl": "https://lh3.googleusercontent.com/a-/AOh14Gg69bZMv30ckb-T1MJy0nSxWIHUaP0p2uP6MYBuvQ=s64",
      "userId": "07985253921366566280"
     }
    },
    "outputId": "fa5bcf1f-ba43-4089-950c-28d2eec1b111",
    "cell_id": "00018-62d235f6-c004-45da-8608-90ac94f248e2",
    "deepnote_to_be_reexecuted": false,
    "source_hash": "5c2cd8cf",
    "execution_start": 1630098307635,
    "execution_millis": 175,
    "deepnote_cell_type": "code"
   },
   "source": "# Plot:\nonline_rt.plot()\nplt.grid()\nplt.xlabel('Revenue')\nplt.ylabel('Interval of UnitPrice')",
   "outputs": [
    {
     "output_type": "execute_result",
     "execution_count": 10,
     "data": {
      "text/plain": "Text(0, 0.5, 'Interval of UnitPrice')"
     },
     "metadata": {}
    },
    {
     "data": {
      "text/plain": "<Figure size 432x288 with 1 Axes>",
      "image/png": "[encoded data removed]"
     },
     "metadata": {
      "needs_background": "light",
      "image/png": {
       "width": 386,
       "height": 273
      }
     },
     "output_type": "display_data"
    }
   ],
   "execution_count": null
  },
  {
   "cell_type": "markdown",
   "source": "<a style='text-decoration:none;line-height:16px;display:flex;color:#5B5B62;padding:10px;justify-content:end;' href='https://deepnote.com?utm_source=created-in-deepnote-cell&projectId=fe744348-fecc-4b7a-803c-44dba24ecb38' target=\"_blank\">\n<img alt='Created in deepnote.com' style='display:inline;max-height:16px;margin:0px;margin-right:7.5px;' src='data:image/svg+xml;base64,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' > </img>\nCreated in <span style='font-weight:600;margin-left:4px;'>Deepnote</span></a>",
   "metadata": {
    "tags": [],
    "created_in_deepnote_cell": true,
    "deepnote_cell_type": "markdown"
   }
  }
 ],
 "nbformat": 4,
 "nbformat_minor": 0,
 "metadata": {
  "kernelspec": {
   "display_name": "Python 3",
   "language": "python",
   "name": "python3"
  },
  "language_info": {
   "codemirror_mode": {
    "name": "ipython",
    "version": 3
   },
   "file_extension": ".py",
   "mimetype": "text/x-python",
   "name": "python",
   "nbconvert_exporter": "python",
   "pygments_lexer": "ipython3",
   "version": "3.7.0"
  },
  "colab": {
   "name": "Exercises.ipynb",
   "provenance": [],
   "collapsed_sections": []
  },
  "deepnote_notebook_id": "4b423f41-6a63-4097-af92-b70d6c12c6a6",
  "deepnote": {},
  "deepnote_execution_queue": []
 }
}
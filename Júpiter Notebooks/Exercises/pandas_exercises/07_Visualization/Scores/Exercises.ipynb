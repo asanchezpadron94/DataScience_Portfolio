{
 "cells": [
  {
   "cell_type": "markdown",
   "source": "# Scores",
   "metadata": {
    "id": "l7XYrE9Caf8p",
    "cell_id": "00000-311b19d3-53be-449d-ac07-891075b415bb",
    "deepnote_cell_type": "markdown"
   }
  },
  {
   "cell_type": "markdown",
   "source": "### Introduction:\n\nThis time you will create the data.\n\n***Exercise based on [Chris Albon](http://chrisalbon.com/) work, the credits belong to him.***\n\n### Step 1. Import the necessary libraries",
   "metadata": {
    "id": "3q0BXHnXaf8r",
    "cell_id": "00001-bf8870f2-ff13-47b6-823f-bcaf9721543e",
    "deepnote_cell_type": "markdown"
   }
  },
  {
   "cell_type": "code",
   "metadata": {
    "id": "uKoyunEtaf8s",
    "executionInfo": {
     "status": "ok",
     "timestamp": 1624210394454,
     "user_tz": 240,
     "elapsed": 161,
     "user": {
      "displayName": "Andrés Sánchez",
      "photoUrl": "https://lh3.googleusercontent.com/a-/AOh14Gg69bZMv30ckb-T1MJy0nSxWIHUaP0p2uP6MYBuvQ=s64",
      "userId": "07985253921366566280"
     }
    },
    "cell_id": "00002-d8d5ccec-f466-4b90-b880-894d1a0f86e8",
    "deepnote_to_be_reexecuted": false,
    "source_hash": "fe4032e3",
    "execution_start": 1630098326253,
    "execution_millis": 291,
    "deepnote_cell_type": "code"
   },
   "source": "import pandas as pd\nimport matplotlib.pyplot as plt\nfrom matplotlib.pyplot import figure\nimport numpy as np",
   "outputs": [],
   "execution_count": null
  },
  {
   "cell_type": "markdown",
   "source": "### Step 2. Create the DataFrame that should look like the one below.",
   "metadata": {
    "id": "hkmK896Naf8t",
    "cell_id": "00003-49a44a13-0827-4997-b750-9b32722ca118",
    "deepnote_cell_type": "markdown"
   }
  },
  {
   "cell_type": "code",
   "metadata": {
    "colab": {
     "base_uri": "https://localhost:8080/",
     "height": 198
    },
    "id": "QCMMf2hoaf8t",
    "executionInfo": {
     "status": "ok",
     "timestamp": 1624210387393,
     "user_tz": 240,
     "elapsed": 12,
     "user": {
      "displayName": "Andrés Sánchez",
      "photoUrl": "https://lh3.googleusercontent.com/a-/AOh14Gg69bZMv30ckb-T1MJy0nSxWIHUaP0p2uP6MYBuvQ=s64",
      "userId": "07985253921366566280"
     }
    },
    "outputId": "5262554e-417c-4c15-a7bc-eceda835a74d",
    "cell_id": "00004-9a916cb7-2e92-49a0-be96-0148c1ffcbd4",
    "deepnote_to_be_reexecuted": false,
    "source_hash": "31bd2e48",
    "execution_start": 1630098326553,
    "execution_millis": 28,
    "deepnote_cell_type": "code"
   },
   "source": "raw_data = {'first_name': ['Jason', 'Molly', 'Tina', 'Jake', 'Amy'], \n            'last_name': ['Miller', 'Jacobson', 'Ali', 'Milner', 'Cooze'], \n            'female': [0, 1, 1, 0, 1],\n            'age': [42, 52, 36, 24, 73], \n            'preTestScore': [4, 24, 31, 2, 3],\n            'postTestScore': [25, 94, 57, 62, 70]}\n\ndf = pd.DataFrame(raw_data, columns = ['first_name', 'last_name', 'age', 'female', 'preTestScore', 'postTestScore'])\n\ndf",
   "outputs": [
    {
     "output_type": "execute_result",
     "execution_count": 2,
     "data": {
      "application/vnd.deepnote.dataframe.v2+json": {
       "row_count": 5,
       "column_count": 6,
       "columns": [
        {
         "name": "first_name",
         "dtype": "object",
         "stats": {
          "unique_count": 5,
          "nan_count": 0,
          "categories": [
           {
            "name": "Jason",
            "count": 1
           },
           {
            "name": "Molly",
            "count": 1
           },
           {
            "name": "3 others",
            "count": 3
           }
          ]
         }
        },
        {
         "name": "last_name",
         "dtype": "object",
         "stats": {
          "unique_count": 5,
          "nan_count": 0,
          "categories": [
           {
            "name": "Miller",
            "count": 1
           },
           {
            "name": "Jacobson",
            "count": 1
           },
           {
            "name": "3 others",
            "count": 3
           }
          ]
         }
        },
        {
         "name": "age",
         "dtype": "int64",
         "stats": {
          "unique_count": 5,
          "nan_count": 0,
          "min": "24",
          "max": "73",
          "histogram": [
           {
            "bin_start": 24,
            "bin_end": 28.9,
            "count": 1
           },
           {
            "bin_start": 28.9,
            "bin_end": 33.8,
            "count": 0
           },
           {
            "bin_start": 33.8,
            "bin_end": 38.7,
            "count": 1
           },
           {
            "bin_start": 38.7,
            "bin_end": 43.6,
            "count": 1
           },
           {
            "bin_start": 43.6,
            "bin_end": 48.5,
            "count": 0
           },
           {
            "bin_start": 48.5,
            "bin_end": 53.400000000000006,
            "count": 1
           },
           {
            "bin_start": 53.400000000000006,
            "bin_end": 58.300000000000004,
            "count": 0
           },
           {
            "bin_start": 58.300000000000004,
            "bin_end": 63.2,
            "count": 0
           },
           {
            "bin_start": 63.2,
            "bin_end": 68.1,
            "count": 0
           },
           {
            "bin_start": 68.1,
            "bin_end": 73,
            "count": 1
           }
          ]
         }
        },
        {
         "name": "female",
         "dtype": "int64",
         "stats": {
          "unique_count": 2,
          "nan_count": 0,
          "min": "0",
          "max": "1",
          "histogram": [
           {
            "bin_start": 0,
            "bin_end": 0.1,
            "count": 2
           },
           {
            "bin_start": 0.1,
            "bin_end": 0.2,
            "count": 0
           },
           {
            "bin_start": 0.2,
            "bin_end": 0.30000000000000004,
            "count": 0
           },
           {
            "bin_start": 0.30000000000000004,
            "bin_end": 0.4,
            "count": 0
           },
           {
            "bin_start": 0.4,
            "bin_end": 0.5,
            "count": 0
           },
           {
            "bin_start": 0.5,
            "bin_end": 0.6000000000000001,
            "count": 0
           },
           {
            "bin_start": 0.6000000000000001,
            "bin_end": 0.7000000000000001,
            "count": 0
           },
           {
            "bin_start": 0.7000000000000001,
            "bin_end": 0.8,
            "count": 0
           },
           {
            "bin_start": 0.8,
            "bin_end": 0.9,
            "count": 0
           },
           {
            "bin_start": 0.9,
            "bin_end": 1,
            "count": 3
           }
          ]
         }
        },
        {
         "name": "preTestScore",
         "dtype": "int64",
         "stats": {
          "unique_count": 5,
          "nan_count": 0,
          "min": "2",
          "max": "31",
          "histogram": [
           {
            "bin_start": 2,
            "bin_end": 4.9,
            "count": 3
           },
           {
            "bin_start": 4.9,
            "bin_end": 7.8,
            "count": 0
           },
           {
            "bin_start": 7.8,
            "bin_end": 10.7,
            "count": 0
           },
           {
            "bin_start": 10.7,
            "bin_end": 13.6,
            "count": 0
           },
           {
            "bin_start": 13.6,
            "bin_end": 16.5,
            "count": 0
           },
           {
            "bin_start": 16.5,
            "bin_end": 19.4,
            "count": 0
           },
           {
            "bin_start": 19.4,
            "bin_end": 22.3,
            "count": 0
           },
           {
            "bin_start": 22.3,
            "bin_end": 25.2,
            "count": 1
           },
           {
            "bin_start": 25.2,
            "bin_end": 28.099999999999998,
            "count": 0
           },
           {
            "bin_start": 28.099999999999998,
            "bin_end": 31,
            "count": 1
           }
          ]
         }
        },
        {
         "name": "postTestScore",
         "dtype": "int64",
         "stats": {
          "unique_count": 5,
          "nan_count": 0,
          "min": "25",
          "max": "94",
          "histogram": [
           {
            "bin_start": 25,
            "bin_end": 31.9,
            "count": 1
           },
           {
            "bin_start": 31.9,
            "bin_end": 38.8,
            "count": 0
           },
           {
            "bin_start": 38.8,
            "bin_end": 45.7,
            "count": 0
           },
           {
            "bin_start": 45.7,
            "bin_end": 52.6,
            "count": 0
           },
           {
            "bin_start": 52.6,
            "bin_end": 59.5,
            "count": 1
           },
           {
            "bin_start": 59.5,
            "bin_end": 66.4,
            "count": 1
           },
           {
            "bin_start": 66.4,
            "bin_end": 73.30000000000001,
            "count": 1
           },
           {
            "bin_start": 73.30000000000001,
            "bin_end": 80.2,
            "count": 0
           },
           {
            "bin_start": 80.2,
            "bin_end": 87.1,
            "count": 0
           },
           {
            "bin_start": 87.1,
            "bin_end": 94,
            "count": 1
           }
          ]
         }
        },
        {
         "name": "_deepnote_index_column",
         "dtype": "int64"
        }
       ],
       "rows_top": [
        {
         "first_name": "Jason",
         "last_name": "Miller",
         "age": 42,
         "female": 0,
         "preTestScore": 4,
         "postTestScore": 25,
         "_deepnote_index_column": 0
        },
        {
         "first_name": "Molly",
         "last_name": "Jacobson",
         "age": 52,
         "female": 1,
         "preTestScore": 24,
         "postTestScore": 94,
         "_deepnote_index_column": 1
        },
        {
         "first_name": "Tina",
         "last_name": "Ali",
         "age": 36,
         "female": 1,
         "preTestScore": 31,
         "postTestScore": 57,
         "_deepnote_index_column": 2
        },
        {
         "first_name": "Jake",
         "last_name": "Milner",
         "age": 24,
         "female": 0,
         "preTestScore": 2,
         "postTestScore": 62,
         "_deepnote_index_column": 3
        },
        {
         "first_name": "Amy",
         "last_name": "Cooze",
         "age": 73,
         "female": 1,
         "preTestScore": 3,
         "postTestScore": 70,
         "_deepnote_index_column": 4
        }
       ],
       "rows_bottom": null
      },
      "text/plain": "  first_name last_name  age  female  preTestScore  postTestScore\n0      Jason    Miller   42       0             4             25\n1      Molly  Jacobson   52       1            24             94\n2       Tina       Ali   36       1            31             57\n3       Jake    Milner   24       0             2             62\n4        Amy     Cooze   73       1             3             70",
      "text/html": "<div>\n<style scoped>\n    .dataframe tbody tr th:only-of-type {\n        vertical-align: middle;\n    }\n\n    .dataframe tbody tr th {\n        vertical-align: top;\n    }\n\n    .dataframe thead th {\n        text-align: right;\n    }\n</style>\n<table border=\"1\" class=\"dataframe\">\n  <thead>\n    <tr style=\"text-align: right;\">\n      <th></th>\n      <th>first_name</th>\n      <th>last_name</th>\n      <th>age</th>\n      <th>female</th>\n      <th>preTestScore</th>\n      <th>postTestScore</th>\n    </tr>\n  </thead>\n  <tbody>\n    <tr>\n      <th>0</th>\n      <td>Jason</td>\n      <td>Miller</td>\n      <td>42</td>\n      <td>0</td>\n      <td>4</td>\n      <td>25</td>\n    </tr>\n    <tr>\n      <th>1</th>\n      <td>Molly</td>\n      <td>Jacobson</td>\n      <td>52</td>\n      <td>1</td>\n      <td>24</td>\n      <td>94</td>\n    </tr>\n    <tr>\n      <th>2</th>\n      <td>Tina</td>\n      <td>Ali</td>\n      <td>36</td>\n      <td>1</td>\n      <td>31</td>\n      <td>57</td>\n    </tr>\n    <tr>\n      <th>3</th>\n      <td>Jake</td>\n      <td>Milner</td>\n      <td>24</td>\n      <td>0</td>\n      <td>2</td>\n      <td>62</td>\n    </tr>\n    <tr>\n      <th>4</th>\n      <td>Amy</td>\n      <td>Cooze</td>\n      <td>73</td>\n      <td>1</td>\n      <td>3</td>\n      <td>70</td>\n    </tr>\n  </tbody>\n</table>\n</div>"
     },
     "metadata": {}
    }
   ],
   "execution_count": null
  },
  {
   "cell_type": "markdown",
   "source": "### Step 3. Create a Scatterplot of preTestScore and postTestScore, with the size of each point determined by age\n#### Hint: Don't forget to place the labels",
   "metadata": {
    "id": "cy-2QYXdaf8u",
    "cell_id": "00005-ed806a79-65e0-4851-b42c-d4aee00c8ff0",
    "deepnote_cell_type": "markdown"
   }
  },
  {
   "cell_type": "code",
   "metadata": {
    "colab": {
     "base_uri": "https://localhost:8080/",
     "height": 340
    },
    "id": "XX6aNf2faf8v",
    "executionInfo": {
     "status": "ok",
     "timestamp": 1624210945892,
     "user_tz": 240,
     "elapsed": 313,
     "user": {
      "displayName": "Andrés Sánchez",
      "photoUrl": "https://lh3.googleusercontent.com/a-/AOh14Gg69bZMv30ckb-T1MJy0nSxWIHUaP0p2uP6MYBuvQ=s64",
      "userId": "07985253921366566280"
     }
    },
    "outputId": "5c9cc0b4-c284-4334-906c-0fee8d555b8b",
    "cell_id": "00006-ef94d310-2602-45ef-a6d7-7bfe9bc4ec90",
    "deepnote_to_be_reexecuted": false,
    "source_hash": "fd35f017",
    "execution_start": 1630098326583,
    "execution_millis": 136,
    "deepnote_cell_type": "code"
   },
   "source": "fig, ax = plt.subplots(figsize=(10,5))\nax.scatter(df.preTestScore, df.preTestScore, s = df.age)",
   "outputs": [
    {
     "output_type": "execute_result",
     "execution_count": 3,
     "data": {
      "text/plain": "<matplotlib.collections.PathCollection at 0x7efc8ecce5e0>"
     },
     "metadata": {}
    },
    {
     "data": {
      "text/plain": "<Figure size 720x360 with 1 Axes>",
      "image/png": "[encoded data removed]"
     },
     "metadata": {
      "needs_background": "light",
      "image/png": {
       "width": 592,
       "height": 303
      }
     },
     "output_type": "display_data"
    }
   ],
   "execution_count": null
  },
  {
   "cell_type": "markdown",
   "source": "### Step 4. Create a Scatterplot of preTestScore and postTestScore.\n### This time the size should be 4.5 times the postTestScore and the color determined by sex",
   "metadata": {
    "id": "GJh4n-MMaf8v",
    "cell_id": "00007-63f28706-bd9e-4a8a-b5d1-19418fe39ab5",
    "deepnote_cell_type": "markdown"
   }
  },
  {
   "cell_type": "code",
   "metadata": {
    "colab": {
     "base_uri": "https://localhost:8080/",
     "height": 355
    },
    "id": "ueKwhSPDaf8v",
    "executionInfo": {
     "status": "ok",
     "timestamp": 1624216610310,
     "user_tz": 240,
     "elapsed": 349,
     "user": {
      "displayName": "Andrés Sánchez",
      "photoUrl": "https://lh3.googleusercontent.com/a-/AOh14Gg69bZMv30ckb-T1MJy0nSxWIHUaP0p2uP6MYBuvQ=s64",
      "userId": "07985253921366566280"
     }
    },
    "outputId": "a17cebbd-eddd-4547-eb39-2b11d7296f32",
    "cell_id": "00008-e6983da6-ae1c-4e1c-b309-0fbe68874ad7",
    "deepnote_to_be_reexecuted": false,
    "source_hash": "2f4381ef",
    "execution_start": 1630098326727,
    "execution_millis": 132,
    "deepnote_cell_type": "code"
   },
   "source": "fig, ax2 = plt.subplots(figsize=(10,5))\nax2.scatter(df.preTestScore, df.postTestScore, s = df.postTestScore * 4.5, c = df.female)\nplt.xlabel('preTestScore')\nplt.ylabel('postTestScore')",
   "outputs": [
    {
     "output_type": "execute_result",
     "execution_count": 4,
     "data": {
      "text/plain": "Text(0, 0.5, 'postTestScore')"
     },
     "metadata": {}
    },
    {
     "data": {
      "text/plain": "<Figure size 720x360 with 1 Axes>",
      "image/png": "[encoded data removed]"
     },
     "metadata": {
      "needs_background": "light",
      "image/png": {
       "width": 606,
       "height": 317
      }
     },
     "output_type": "display_data"
    }
   ],
   "execution_count": null
  },
  {
   "cell_type": "code",
   "metadata": {
    "id": "QPxz27mQ2ivj",
    "cell_id": "00009-176d2a01-6913-4ea3-9be1-308be52f9bf6",
    "deepnote_to_be_reexecuted": false,
    "source_hash": "b623e53d",
    "execution_start": 1630098326861,
    "execution_millis": 4,
    "deepnote_cell_type": "code"
   },
   "source": "",
   "outputs": [],
   "execution_count": null
  },
  {
   "cell_type": "markdown",
   "source": "<a style='text-decoration:none;line-height:16px;display:flex;color:#5B5B62;padding:10px;justify-content:end;' href='https://deepnote.com?utm_source=created-in-deepnote-cell&projectId=fe744348-fecc-4b7a-803c-44dba24ecb38' target=\"_blank\">\n<img alt='Created in deepnote.com' style='display:inline;max-height:16px;margin:0px;margin-right:7.5px;' src='data:image/svg+xml;base64,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' > </img>\nCreated in <span style='font-weight:600;margin-left:4px;'>Deepnote</span></a>",
   "metadata": {
    "tags": [],
    "created_in_deepnote_cell": true,
    "deepnote_cell_type": "markdown"
   }
  }
 ],
 "nbformat": 4,
 "nbformat_minor": 0,
 "metadata": {
  "kernelspec": {
   "display_name": "Python 2",
   "language": "python",
   "name": "python2"
  },
  "language_info": {
   "codemirror_mode": {
    "name": "ipython",
    "version": 2
   },
   "file_extension": ".py",
   "mimetype": "text/x-python",
   "name": "python",
   "nbconvert_exporter": "python",
   "pygments_lexer": "ipython2",
   "version": "2.7.11"
  },
  "colab": {
   "name": "Exercises.ipynb",
   "provenance": [],
   "collapsed_sections": []
  },
  "deepnote_notebook_id": "57f2a5e7-460e-40b4-ae25-1143d639bed1",
  "deepnote": {},
  "deepnote_execution_queue": []
 }
}
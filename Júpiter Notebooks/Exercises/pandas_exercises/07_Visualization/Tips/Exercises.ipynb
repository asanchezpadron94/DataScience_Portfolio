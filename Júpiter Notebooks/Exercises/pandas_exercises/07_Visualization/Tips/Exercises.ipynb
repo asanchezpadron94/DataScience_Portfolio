{
 "cells": [
  {
   "cell_type": "markdown",
   "source": "# Tips",
   "metadata": {
    "id": "-xgXUM9m2xrA",
    "cell_id": "00000-d2416b16-5922-46fa-b37e-602d0ef9ad50",
    "deepnote_cell_type": "markdown"
   }
  },
  {
   "cell_type": "markdown",
   "source": "### Introduction:\n\nThis exercise was created based on the tutorial and documentation from [Seaborn](https://stanford.edu/~mwaskom/software/seaborn/index.html)  \nThe dataset being used is tips from Seaborn.\n\n### Step 1. Import the necessary libraries:",
   "metadata": {
    "id": "tuZQ6hYb2xrD",
    "cell_id": "00001-c8b5bb8c-2e41-46c3-bb5b-4e0ec18885fc",
    "deepnote_cell_type": "markdown"
   }
  },
  {
   "cell_type": "code",
   "metadata": {
    "id": "WR0CvU312xrD",
    "executionInfo": {
     "status": "ok",
     "timestamp": 1624221350339,
     "user_tz": 240,
     "elapsed": 175,
     "user": {
      "displayName": "Andrés Sánchez",
      "photoUrl": "https://lh3.googleusercontent.com/a-/AOh14Gg69bZMv30ckb-T1MJy0nSxWIHUaP0p2uP6MYBuvQ=s64",
      "userId": "07985253921366566280"
     }
    },
    "cell_id": "00002-8b1af95d-4e65-4410-b6cb-f35ebb34bb7c",
    "deepnote_to_be_reexecuted": false,
    "source_hash": "1740cd8f",
    "execution_start": 1630098374936,
    "execution_millis": 639,
    "deepnote_cell_type": "code"
   },
   "source": "import pandas as pd\nimport numpy as np\nimport matplotlib.pyplot as plt\nimport seaborn as sns\nfrom matplotlib.pyplot import figure\n\n# set seaborn style to white\nsns.set_style(\"darkgrid\")",
   "outputs": [],
   "execution_count": null
  },
  {
   "cell_type": "code",
   "metadata": {
    "id": "OpHbRAgc4vlH",
    "executionInfo": {
     "status": "ok",
     "timestamp": 1624221350466,
     "user_tz": 240,
     "elapsed": 5,
     "user": {
      "displayName": "Andrés Sánchez",
      "photoUrl": "https://lh3.googleusercontent.com/a-/AOh14Gg69bZMv30ckb-T1MJy0nSxWIHUaP0p2uP6MYBuvQ=s64",
      "userId": "07985253921366566280"
     }
    },
    "cell_id": "00003-1110ccea-e807-4f7c-8a94-b5cabc564da6",
    "deepnote_to_be_reexecuted": false,
    "source_hash": "81c0e718",
    "execution_start": 1630098375578,
    "execution_millis": 5,
    "deepnote_cell_type": "code"
   },
   "source": "pd.options.display.float_format = '{:,.2f}'.format",
   "outputs": [],
   "execution_count": null
  },
  {
   "cell_type": "markdown",
   "source": "### Step 2. Import the dataset from this [address](https://raw.githubusercontent.com/guipsamora/pandas_exercises/master/07_Visualization/Tips/tips.csv). ",
   "metadata": {
    "id": "amNcReRt2xrE",
    "cell_id": "00004-69d374d0-060a-41b6-b428-3cfd6d995bbe",
    "deepnote_cell_type": "markdown"
   }
  },
  {
   "cell_type": "markdown",
   "source": "### Step 3. Assign it to a variable called tips",
   "metadata": {
    "id": "KQtfAVna2xrE",
    "cell_id": "00005-c64157a1-0f53-408b-ac62-fc2ee74af6b5",
    "deepnote_cell_type": "markdown"
   }
  },
  {
   "cell_type": "code",
   "metadata": {
    "colab": {
     "base_uri": "https://localhost:8080/",
     "height": 198
    },
    "id": "XY9EIk_82xrF",
    "executionInfo": {
     "status": "ok",
     "timestamp": 1624221350623,
     "user_tz": 240,
     "elapsed": 161,
     "user": {
      "displayName": "Andrés Sánchez",
      "photoUrl": "https://lh3.googleusercontent.com/a-/AOh14Gg69bZMv30ckb-T1MJy0nSxWIHUaP0p2uP6MYBuvQ=s64",
      "userId": "07985253921366566280"
     }
    },
    "outputId": "4f86e6be-d5f1-4423-cb10-37fbb24952ad",
    "cell_id": "00006-b540e8e6-c0db-4d27-abf3-c74445a5c2ab",
    "deepnote_to_be_reexecuted": false,
    "source_hash": "e9987622",
    "execution_start": 1630098375586,
    "execution_millis": 190,
    "deepnote_cell_type": "code"
   },
   "source": "df = pd.read_csv('https://raw.githubusercontent.com/guipsamora/pandas_exercises/master/07_Visualization/Tips/tips.csv')\ndf.tail(5)",
   "outputs": [
    {
     "output_type": "execute_result",
     "execution_count": 3,
     "data": {
      "application/vnd.deepnote.dataframe.v2+json": {
       "row_count": 5,
       "column_count": 8,
       "columns": [
        {
         "name": "Unnamed: 0",
         "dtype": "int64",
         "stats": {
          "unique_count": 5,
          "nan_count": 0,
          "min": "239",
          "max": "243",
          "histogram": [
           {
            "bin_start": 239,
            "bin_end": 239.4,
            "count": 1
           },
           {
            "bin_start": 239.4,
            "bin_end": 239.8,
            "count": 0
           },
           {
            "bin_start": 239.8,
            "bin_end": 240.2,
            "count": 1
           },
           {
            "bin_start": 240.2,
            "bin_end": 240.6,
            "count": 0
           },
           {
            "bin_start": 240.6,
            "bin_end": 241,
            "count": 0
           },
           {
            "bin_start": 241,
            "bin_end": 241.4,
            "count": 1
           },
           {
            "bin_start": 241.4,
            "bin_end": 241.8,
            "count": 0
           },
           {
            "bin_start": 241.8,
            "bin_end": 242.2,
            "count": 1
           },
           {
            "bin_start": 242.2,
            "bin_end": 242.6,
            "count": 0
           },
           {
            "bin_start": 242.6,
            "bin_end": 243,
            "count": 1
           }
          ]
         }
        },
        {
         "name": "total_bill",
         "dtype": "float64",
         "stats": {
          "unique_count": 5,
          "nan_count": 0,
          "min": "17.82",
          "max": "29.03",
          "histogram": [
           {
            "bin_start": 17.82,
            "bin_end": 18.941,
            "count": 2
           },
           {
            "bin_start": 18.941,
            "bin_end": 20.062,
            "count": 0
           },
           {
            "bin_start": 20.062,
            "bin_end": 21.183,
            "count": 0
           },
           {
            "bin_start": 21.183,
            "bin_end": 22.304000000000002,
            "count": 0
           },
           {
            "bin_start": 22.304000000000002,
            "bin_end": 23.425,
            "count": 1
           },
           {
            "bin_start": 23.425,
            "bin_end": 24.546,
            "count": 0
           },
           {
            "bin_start": 24.546,
            "bin_end": 25.667,
            "count": 0
           },
           {
            "bin_start": 25.667,
            "bin_end": 26.788,
            "count": 0
           },
           {
            "bin_start": 26.788,
            "bin_end": 27.909,
            "count": 1
           },
           {
            "bin_start": 27.909,
            "bin_end": 29.03,
            "count": 1
           }
          ]
         }
        },
        {
         "name": "tip",
         "dtype": "float64",
         "stats": {
          "unique_count": 4,
          "nan_count": 0,
          "min": "1.75",
          "max": "5.92",
          "histogram": [
           {
            "bin_start": 1.75,
            "bin_end": 2.167,
            "count": 3
           },
           {
            "bin_start": 2.167,
            "bin_end": 2.584,
            "count": 0
           },
           {
            "bin_start": 2.584,
            "bin_end": 3.001,
            "count": 1
           },
           {
            "bin_start": 3.001,
            "bin_end": 3.418,
            "count": 0
           },
           {
            "bin_start": 3.418,
            "bin_end": 3.835,
            "count": 0
           },
           {
            "bin_start": 3.835,
            "bin_end": 4.252,
            "count": 0
           },
           {
            "bin_start": 4.252,
            "bin_end": 4.6690000000000005,
            "count": 0
           },
           {
            "bin_start": 4.6690000000000005,
            "bin_end": 5.086,
            "count": 0
           },
           {
            "bin_start": 5.086,
            "bin_end": 5.503,
            "count": 0
           },
           {
            "bin_start": 5.503,
            "bin_end": 5.92,
            "count": 1
           }
          ]
         }
        },
        {
         "name": "sex",
         "dtype": "object",
         "stats": {
          "unique_count": 2,
          "nan_count": 0,
          "categories": [
           {
            "name": "Male",
            "count": 3
           },
           {
            "name": "Female",
            "count": 2
           }
          ]
         }
        },
        {
         "name": "smoker",
         "dtype": "object",
         "stats": {
          "unique_count": 2,
          "nan_count": 0,
          "categories": [
           {
            "name": "No",
            "count": 3
           },
           {
            "name": "Yes",
            "count": 2
           }
          ]
         }
        },
        {
         "name": "day",
         "dtype": "object",
         "stats": {
          "unique_count": 2,
          "nan_count": 0,
          "categories": [
           {
            "name": "Sat",
            "count": 4
           },
           {
            "name": "Thur",
            "count": 1
           }
          ]
         }
        },
        {
         "name": "time",
         "dtype": "object",
         "stats": {
          "unique_count": 1,
          "nan_count": 0,
          "categories": [
           {
            "name": "Dinner",
            "count": 5
           }
          ]
         }
        },
        {
         "name": "size",
         "dtype": "int64",
         "stats": {
          "unique_count": 2,
          "nan_count": 0,
          "min": "2",
          "max": "3",
          "histogram": [
           {
            "bin_start": 2,
            "bin_end": 2.1,
            "count": 4
           },
           {
            "bin_start": 2.1,
            "bin_end": 2.2,
            "count": 0
           },
           {
            "bin_start": 2.2,
            "bin_end": 2.3,
            "count": 0
           },
           {
            "bin_start": 2.3,
            "bin_end": 2.4,
            "count": 0
           },
           {
            "bin_start": 2.4,
            "bin_end": 2.5,
            "count": 0
           },
           {
            "bin_start": 2.5,
            "bin_end": 2.6,
            "count": 0
           },
           {
            "bin_start": 2.6,
            "bin_end": 2.7,
            "count": 0
           },
           {
            "bin_start": 2.7,
            "bin_end": 2.8,
            "count": 0
           },
           {
            "bin_start": 2.8,
            "bin_end": 2.9,
            "count": 0
           },
           {
            "bin_start": 2.9,
            "bin_end": 3,
            "count": 1
           }
          ]
         }
        },
        {
         "name": "_deepnote_index_column",
         "dtype": "int64"
        }
       ],
       "rows_top": [
        {
         "Unnamed: 0": 239,
         "total_bill": 29.03,
         "tip": 5.92,
         "sex": "Male",
         "smoker": "No",
         "day": "Sat",
         "time": "Dinner",
         "size": 3,
         "_deepnote_index_column": 239
        },
        {
         "Unnamed: 0": 240,
         "total_bill": 27.18,
         "tip": 2,
         "sex": "Female",
         "smoker": "Yes",
         "day": "Sat",
         "time": "Dinner",
         "size": 2,
         "_deepnote_index_column": 240
        },
        {
         "Unnamed: 0": 241,
         "total_bill": 22.67,
         "tip": 2,
         "sex": "Male",
         "smoker": "Yes",
         "day": "Sat",
         "time": "Dinner",
         "size": 2,
         "_deepnote_index_column": 241
        },
        {
         "Unnamed: 0": 242,
         "total_bill": 17.82,
         "tip": 1.75,
         "sex": "Male",
         "smoker": "No",
         "day": "Sat",
         "time": "Dinner",
         "size": 2,
         "_deepnote_index_column": 242
        },
        {
         "Unnamed: 0": 243,
         "total_bill": 18.78,
         "tip": 3,
         "sex": "Female",
         "smoker": "No",
         "day": "Thur",
         "time": "Dinner",
         "size": 2,
         "_deepnote_index_column": 243
        }
       ],
       "rows_bottom": null
      },
      "text/plain": "     Unnamed: 0  total_bill  tip     sex smoker   day    time  size\n239         239       29.03 5.92    Male     No   Sat  Dinner     3\n240         240       27.18 2.00  Female    Yes   Sat  Dinner     2\n241         241       22.67 2.00    Male    Yes   Sat  Dinner     2\n242         242       17.82 1.75    Male     No   Sat  Dinner     2\n243         243       18.78 3.00  Female     No  Thur  Dinner     2",
      "text/html": "<div>\n<style scoped>\n    .dataframe tbody tr th:only-of-type {\n        vertical-align: middle;\n    }\n\n    .dataframe tbody tr th {\n        vertical-align: top;\n    }\n\n    .dataframe thead th {\n        text-align: right;\n    }\n</style>\n<table border=\"1\" class=\"dataframe\">\n  <thead>\n    <tr style=\"text-align: right;\">\n      <th></th>\n      <th>Unnamed: 0</th>\n      <th>total_bill</th>\n      <th>tip</th>\n      <th>sex</th>\n      <th>smoker</th>\n      <th>day</th>\n      <th>time</th>\n      <th>size</th>\n    </tr>\n  </thead>\n  <tbody>\n    <tr>\n      <th>239</th>\n      <td>239</td>\n      <td>29.03</td>\n      <td>5.92</td>\n      <td>Male</td>\n      <td>No</td>\n      <td>Sat</td>\n      <td>Dinner</td>\n      <td>3</td>\n    </tr>\n    <tr>\n      <th>240</th>\n      <td>240</td>\n      <td>27.18</td>\n      <td>2.00</td>\n      <td>Female</td>\n      <td>Yes</td>\n      <td>Sat</td>\n      <td>Dinner</td>\n      <td>2</td>\n    </tr>\n    <tr>\n      <th>241</th>\n      <td>241</td>\n      <td>22.67</td>\n      <td>2.00</td>\n      <td>Male</td>\n      <td>Yes</td>\n      <td>Sat</td>\n      <td>Dinner</td>\n      <td>2</td>\n    </tr>\n    <tr>\n      <th>242</th>\n      <td>242</td>\n      <td>17.82</td>\n      <td>1.75</td>\n      <td>Male</td>\n      <td>No</td>\n      <td>Sat</td>\n      <td>Dinner</td>\n      <td>2</td>\n    </tr>\n    <tr>\n      <th>243</th>\n      <td>243</td>\n      <td>18.78</td>\n      <td>3.00</td>\n      <td>Female</td>\n      <td>No</td>\n      <td>Thur</td>\n      <td>Dinner</td>\n      <td>2</td>\n    </tr>\n  </tbody>\n</table>\n</div>"
     },
     "metadata": {}
    }
   ],
   "execution_count": null
  },
  {
   "cell_type": "markdown",
   "source": "### Step 4. Delete the Unnamed 0 column",
   "metadata": {
    "id": "BQl6T9pf2xrF",
    "cell_id": "00007-c84cf942-2972-4330-82b7-77500688aa59",
    "deepnote_cell_type": "markdown"
   }
  },
  {
   "cell_type": "code",
   "metadata": {
    "colab": {
     "base_uri": "https://localhost:8080/",
     "height": 198
    },
    "id": "-KLVqtW72xrF",
    "executionInfo": {
     "status": "ok",
     "timestamp": 1624221350623,
     "user_tz": 240,
     "elapsed": 8,
     "user": {
      "displayName": "Andrés Sánchez",
      "photoUrl": "https://lh3.googleusercontent.com/a-/AOh14Gg69bZMv30ckb-T1MJy0nSxWIHUaP0p2uP6MYBuvQ=s64",
      "userId": "07985253921366566280"
     }
    },
    "outputId": "15ece32e-bfb2-4870-feff-339fb9f11e0a",
    "cell_id": "00008-f589ed25-e6c3-4f65-8e5f-40e69adffdd2",
    "deepnote_to_be_reexecuted": false,
    "source_hash": "54dab7da",
    "execution_start": 1630098375795,
    "execution_millis": 8,
    "deepnote_cell_type": "code"
   },
   "source": "df = df.iloc[:,1:]\ndf.tail(5)",
   "outputs": [
    {
     "output_type": "execute_result",
     "execution_count": 4,
     "data": {
      "application/vnd.deepnote.dataframe.v2+json": {
       "row_count": 5,
       "column_count": 7,
       "columns": [
        {
         "name": "total_bill",
         "dtype": "float64",
         "stats": {
          "unique_count": 5,
          "nan_count": 0,
          "min": "17.82",
          "max": "29.03",
          "histogram": [
           {
            "bin_start": 17.82,
            "bin_end": 18.941,
            "count": 2
           },
           {
            "bin_start": 18.941,
            "bin_end": 20.062,
            "count": 0
           },
           {
            "bin_start": 20.062,
            "bin_end": 21.183,
            "count": 0
           },
           {
            "bin_start": 21.183,
            "bin_end": 22.304000000000002,
            "count": 0
           },
           {
            "bin_start": 22.304000000000002,
            "bin_end": 23.425,
            "count": 1
           },
           {
            "bin_start": 23.425,
            "bin_end": 24.546,
            "count": 0
           },
           {
            "bin_start": 24.546,
            "bin_end": 25.667,
            "count": 0
           },
           {
            "bin_start": 25.667,
            "bin_end": 26.788,
            "count": 0
           },
           {
            "bin_start": 26.788,
            "bin_end": 27.909,
            "count": 1
           },
           {
            "bin_start": 27.909,
            "bin_end": 29.03,
            "count": 1
           }
          ]
         }
        },
        {
         "name": "tip",
         "dtype": "float64",
         "stats": {
          "unique_count": 4,
          "nan_count": 0,
          "min": "1.75",
          "max": "5.92",
          "histogram": [
           {
            "bin_start": 1.75,
            "bin_end": 2.167,
            "count": 3
           },
           {
            "bin_start": 2.167,
            "bin_end": 2.584,
            "count": 0
           },
           {
            "bin_start": 2.584,
            "bin_end": 3.001,
            "count": 1
           },
           {
            "bin_start": 3.001,
            "bin_end": 3.418,
            "count": 0
           },
           {
            "bin_start": 3.418,
            "bin_end": 3.835,
            "count": 0
           },
           {
            "bin_start": 3.835,
            "bin_end": 4.252,
            "count": 0
           },
           {
            "bin_start": 4.252,
            "bin_end": 4.6690000000000005,
            "count": 0
           },
           {
            "bin_start": 4.6690000000000005,
            "bin_end": 5.086,
            "count": 0
           },
           {
            "bin_start": 5.086,
            "bin_end": 5.503,
            "count": 0
           },
           {
            "bin_start": 5.503,
            "bin_end": 5.92,
            "count": 1
           }
          ]
         }
        },
        {
         "name": "sex",
         "dtype": "object",
         "stats": {
          "unique_count": 2,
          "nan_count": 0,
          "categories": [
           {
            "name": "Male",
            "count": 3
           },
           {
            "name": "Female",
            "count": 2
           }
          ]
         }
        },
        {
         "name": "smoker",
         "dtype": "object",
         "stats": {
          "unique_count": 2,
          "nan_count": 0,
          "categories": [
           {
            "name": "No",
            "count": 3
           },
           {
            "name": "Yes",
            "count": 2
           }
          ]
         }
        },
        {
         "name": "day",
         "dtype": "object",
         "stats": {
          "unique_count": 2,
          "nan_count": 0,
          "categories": [
           {
            "name": "Sat",
            "count": 4
           },
           {
            "name": "Thur",
            "count": 1
           }
          ]
         }
        },
        {
         "name": "time",
         "dtype": "object",
         "stats": {
          "unique_count": 1,
          "nan_count": 0,
          "categories": [
           {
            "name": "Dinner",
            "count": 5
           }
          ]
         }
        },
        {
         "name": "size",
         "dtype": "int64",
         "stats": {
          "unique_count": 2,
          "nan_count": 0,
          "min": "2",
          "max": "3",
          "histogram": [
           {
            "bin_start": 2,
            "bin_end": 2.1,
            "count": 4
           },
           {
            "bin_start": 2.1,
            "bin_end": 2.2,
            "count": 0
           },
           {
            "bin_start": 2.2,
            "bin_end": 2.3,
            "count": 0
           },
           {
            "bin_start": 2.3,
            "bin_end": 2.4,
            "count": 0
           },
           {
            "bin_start": 2.4,
            "bin_end": 2.5,
            "count": 0
           },
           {
            "bin_start": 2.5,
            "bin_end": 2.6,
            "count": 0
           },
           {
            "bin_start": 2.6,
            "bin_end": 2.7,
            "count": 0
           },
           {
            "bin_start": 2.7,
            "bin_end": 2.8,
            "count": 0
           },
           {
            "bin_start": 2.8,
            "bin_end": 2.9,
            "count": 0
           },
           {
            "bin_start": 2.9,
            "bin_end": 3,
            "count": 1
           }
          ]
         }
        },
        {
         "name": "_deepnote_index_column",
         "dtype": "int64"
        }
       ],
       "rows_top": [
        {
         "total_bill": 29.03,
         "tip": 5.92,
         "sex": "Male",
         "smoker": "No",
         "day": "Sat",
         "time": "Dinner",
         "size": 3,
         "_deepnote_index_column": 239
        },
        {
         "total_bill": 27.18,
         "tip": 2,
         "sex": "Female",
         "smoker": "Yes",
         "day": "Sat",
         "time": "Dinner",
         "size": 2,
         "_deepnote_index_column": 240
        },
        {
         "total_bill": 22.67,
         "tip": 2,
         "sex": "Male",
         "smoker": "Yes",
         "day": "Sat",
         "time": "Dinner",
         "size": 2,
         "_deepnote_index_column": 241
        },
        {
         "total_bill": 17.82,
         "tip": 1.75,
         "sex": "Male",
         "smoker": "No",
         "day": "Sat",
         "time": "Dinner",
         "size": 2,
         "_deepnote_index_column": 242
        },
        {
         "total_bill": 18.78,
         "tip": 3,
         "sex": "Female",
         "smoker": "No",
         "day": "Thur",
         "time": "Dinner",
         "size": 2,
         "_deepnote_index_column": 243
        }
       ],
       "rows_bottom": null
      },
      "text/plain": "     total_bill  tip     sex smoker   day    time  size\n239       29.03 5.92    Male     No   Sat  Dinner     3\n240       27.18 2.00  Female    Yes   Sat  Dinner     2\n241       22.67 2.00    Male    Yes   Sat  Dinner     2\n242       17.82 1.75    Male     No   Sat  Dinner     2\n243       18.78 3.00  Female     No  Thur  Dinner     2",
      "text/html": "<div>\n<style scoped>\n    .dataframe tbody tr th:only-of-type {\n        vertical-align: middle;\n    }\n\n    .dataframe tbody tr th {\n        vertical-align: top;\n    }\n\n    .dataframe thead th {\n        text-align: right;\n    }\n</style>\n<table border=\"1\" class=\"dataframe\">\n  <thead>\n    <tr style=\"text-align: right;\">\n      <th></th>\n      <th>total_bill</th>\n      <th>tip</th>\n      <th>sex</th>\n      <th>smoker</th>\n      <th>day</th>\n      <th>time</th>\n      <th>size</th>\n    </tr>\n  </thead>\n  <tbody>\n    <tr>\n      <th>239</th>\n      <td>29.03</td>\n      <td>5.92</td>\n      <td>Male</td>\n      <td>No</td>\n      <td>Sat</td>\n      <td>Dinner</td>\n      <td>3</td>\n    </tr>\n    <tr>\n      <th>240</th>\n      <td>27.18</td>\n      <td>2.00</td>\n      <td>Female</td>\n      <td>Yes</td>\n      <td>Sat</td>\n      <td>Dinner</td>\n      <td>2</td>\n    </tr>\n    <tr>\n      <th>241</th>\n      <td>22.67</td>\n      <td>2.00</td>\n      <td>Male</td>\n      <td>Yes</td>\n      <td>Sat</td>\n      <td>Dinner</td>\n      <td>2</td>\n    </tr>\n    <tr>\n      <th>242</th>\n      <td>17.82</td>\n      <td>1.75</td>\n      <td>Male</td>\n      <td>No</td>\n      <td>Sat</td>\n      <td>Dinner</td>\n      <td>2</td>\n    </tr>\n    <tr>\n      <th>243</th>\n      <td>18.78</td>\n      <td>3.00</td>\n      <td>Female</td>\n      <td>No</td>\n      <td>Thur</td>\n      <td>Dinner</td>\n      <td>2</td>\n    </tr>\n  </tbody>\n</table>\n</div>"
     },
     "metadata": {}
    }
   ],
   "execution_count": null
  },
  {
   "cell_type": "markdown",
   "source": "### Step 5. Plot the total_bill column histogram",
   "metadata": {
    "id": "Z3S7MwYu2xrF",
    "cell_id": "00009-e88290b5-378e-471f-b1d8-90a00054bc20",
    "deepnote_cell_type": "markdown"
   }
  },
  {
   "cell_type": "code",
   "metadata": {
    "colab": {
     "base_uri": "https://localhost:8080/",
     "height": 525
    },
    "id": "IZ46NRkt2xrG",
    "executionInfo": {
     "status": "ok",
     "timestamp": 1624221351174,
     "user_tz": 240,
     "elapsed": 409,
     "user": {
      "displayName": "Andrés Sánchez",
      "photoUrl": "https://lh3.googleusercontent.com/a-/AOh14Gg69bZMv30ckb-T1MJy0nSxWIHUaP0p2uP6MYBuvQ=s64",
      "userId": "07985253921366566280"
     }
    },
    "outputId": "083b8fbb-5804-440a-f101-2cf4e6a483b8",
    "cell_id": "00010-8d786ae8-bbab-47bf-b08c-bae57bb21cd3",
    "deepnote_to_be_reexecuted": false,
    "source_hash": "46437369",
    "execution_start": 1630098375806,
    "execution_millis": 250,
    "deepnote_cell_type": "code"
   },
   "source": "fig, ax = plt.subplots(figsize = (15, 7.5))\nax.hist(df.total_bill, 10)",
   "outputs": [
    {
     "output_type": "execute_result",
     "execution_count": 5,
     "data": {
      "text/plain": "(array([ 7., 42., 68., 51., 31., 19., 12.,  7.,  3.,  4.]),\n array([ 3.07 ,  7.844, 12.618, 17.392, 22.166, 26.94 , 31.714, 36.488,\n        41.262, 46.036, 50.81 ]),\n <BarContainer object of 10 artists>)"
     },
     "metadata": {}
    },
    {
     "data": {
      "text/plain": "<Figure size 1080x540 with 1 Axes>",
      "image/png": "[encoded data removed]"
     },
     "metadata": {
      "image/png": {
       "width": 871,
       "height": 439
      }
     },
     "output_type": "display_data"
    }
   ],
   "execution_count": null
  },
  {
   "cell_type": "markdown",
   "source": "### Step 6. Create a scatter plot presenting the relationship between total_bill and tip",
   "metadata": {
    "id": "luNUCu2G2xrG",
    "cell_id": "00011-1e0ad4d0-d307-4490-9688-0e8ab3937909",
    "deepnote_cell_type": "markdown"
   }
  },
  {
   "cell_type": "code",
   "metadata": {
    "colab": {
     "base_uri": "https://localhost:8080/",
     "height": 474
    },
    "id": "pDL7dOTf2xrG",
    "executionInfo": {
     "status": "ok",
     "timestamp": 1624221351627,
     "user_tz": 240,
     "elapsed": 455,
     "user": {
      "displayName": "Andrés Sánchez",
      "photoUrl": "https://lh3.googleusercontent.com/a-/AOh14Gg69bZMv30ckb-T1MJy0nSxWIHUaP0p2uP6MYBuvQ=s64",
      "userId": "07985253921366566280"
     }
    },
    "outputId": "e41aedba-34e1-4a3f-cdce-9b570a1cc523",
    "cell_id": "00012-f5404aa0-8f02-4854-8968-e59e5cae1f81",
    "deepnote_to_be_reexecuted": false,
    "source_hash": "f7453328",
    "execution_start": 1630098376062,
    "execution_millis": 183,
    "deepnote_cell_type": "code"
   },
   "source": "fig, ax2 = plt.subplots(figsize = (15, 7.5))\nax2.scatter(df.total_bill, df.tip)",
   "outputs": [
    {
     "output_type": "execute_result",
     "execution_count": 6,
     "data": {
      "text/plain": "<matplotlib.collections.PathCollection at 0x7f47d8bc6610>"
     },
     "metadata": {}
    },
    {
     "data": {
      "text/plain": "<Figure size 1080x540 with 1 Axes>",
      "image/png": "[encoded data removed]"
     },
     "metadata": {
      "image/png": {
       "width": 871,
       "height": 439
      }
     },
     "output_type": "display_data"
    }
   ],
   "execution_count": null
  },
  {
   "cell_type": "markdown",
   "source": "### Step 7.  Create one image with the relationship of total_bill, tip and size.\n#### Hint: It is just one function.",
   "metadata": {
    "id": "MYakZOsY2xrG",
    "cell_id": "00013-0409031e-55d6-44e9-aaa4-a2599416b05e",
    "deepnote_cell_type": "markdown"
   }
  },
  {
   "cell_type": "code",
   "metadata": {
    "colab": {
     "base_uri": "https://localhost:8080/",
     "height": 708
    },
    "id": "nxqDUnQz2xrH",
    "executionInfo": {
     "status": "ok",
     "timestamp": 1624221356656,
     "user_tz": 240,
     "elapsed": 5031,
     "user": {
      "displayName": "Andrés Sánchez",
      "photoUrl": "https://lh3.googleusercontent.com/a-/AOh14Gg69bZMv30ckb-T1MJy0nSxWIHUaP0p2uP6MYBuvQ=s64",
      "userId": "07985253921366566280"
     }
    },
    "outputId": "fbc00870-fcf2-4aa3-e7d7-7e26e1b83ac7",
    "cell_id": "00014-eba31265-902e-4aa5-b1fe-518a208b4da9",
    "deepnote_to_be_reexecuted": false,
    "source_hash": "4f3f262b",
    "execution_start": 1630098376242,
    "execution_millis": 1650,
    "deepnote_cell_type": "code"
   },
   "source": "sns.pairplot(df, size = 3)",
   "outputs": [
    {
     "name": "stderr",
     "text": "/shared-libs/python3.9/py/lib/python3.9/site-packages/seaborn/axisgrid.py:1969: UserWarning: The `size` parameter has been renamed to `height`; please update your code.\n  warnings.warn(msg, UserWarning)\n",
     "output_type": "stream"
    },
    {
     "output_type": "execute_result",
     "execution_count": 7,
     "data": {
      "text/plain": "<seaborn.axisgrid.PairGrid at 0x7f47d9185ee0>"
     },
     "metadata": {}
    },
    {
     "data": {
      "text/plain": "<Figure size 648x648 with 12 Axes>",
      "image/png": "[encoded data removed]"
     },
     "metadata": {
      "image/png": {
       "width": 639,
       "height": 639
      }
     },
     "output_type": "display_data"
    }
   ],
   "execution_count": null
  },
  {
   "cell_type": "markdown",
   "source": "### Step 8. Present the relationship between days and total_bill value",
   "metadata": {
    "id": "wfwTruA-2xrH",
    "cell_id": "00015-f9e72414-23ff-47c1-81b1-dd5ad8676ee4",
    "deepnote_cell_type": "markdown"
   }
  },
  {
   "cell_type": "code",
   "metadata": {
    "colab": {
     "base_uri": "https://localhost:8080/",
     "height": 615
    },
    "id": "lAnK4ryC2xrH",
    "executionInfo": {
     "status": "ok",
     "timestamp": 1624221357131,
     "user_tz": 240,
     "elapsed": 476,
     "user": {
      "displayName": "Andrés Sánchez",
      "photoUrl": "https://lh3.googleusercontent.com/a-/AOh14Gg69bZMv30ckb-T1MJy0nSxWIHUaP0p2uP6MYBuvQ=s64",
      "userId": "07985253921366566280"
     }
    },
    "outputId": "54f4ae59-6e70-4085-fba2-07251dee21a5",
    "cell_id": "00016-5dea255a-a509-4ee7-95ae-f18c5e4c0efd",
    "deepnote_to_be_reexecuted": false,
    "source_hash": "4ce039d3",
    "execution_start": 1630098377947,
    "execution_millis": 383,
    "deepnote_cell_type": "code"
   },
   "source": "# fig, ax3 = plt.subplots(figsize = (15,7.5))\nsns.catplot(data = df, kind = 'bar', x = 'day', y = 'total_bill', size = 7.5)",
   "outputs": [
    {
     "name": "stderr",
     "text": "/shared-libs/python3.9/py/lib/python3.9/site-packages/seaborn/categorical.py:3747: UserWarning: The `size` parameter has been renamed to `height`; please update your code.\n  warnings.warn(msg, UserWarning)\n",
     "output_type": "stream"
    },
    {
     "output_type": "execute_result",
     "execution_count": 8,
     "data": {
      "text/plain": "<seaborn.axisgrid.FacetGrid at 0x7f47d919c280>"
     },
     "metadata": {}
    },
    {
     "data": {
      "text/plain": "<Figure size 540x540 with 1 Axes>",
      "image/png": "[encoded data removed]"
     },
     "metadata": {
      "image/png": {
       "width": 547,
       "height": 546
      }
     },
     "output_type": "display_data"
    }
   ],
   "execution_count": null
  },
  {
   "cell_type": "markdown",
   "source": "### Step 9. Create a scatter plot with the day as the y-axis and tip as the x-axis, differ the dots by sex",
   "metadata": {
    "id": "7rUyiXFt2xrH",
    "cell_id": "00017-9f13aa9c-2697-4446-abba-34b9536c6fbb",
    "deepnote_cell_type": "markdown"
   }
  },
  {
   "cell_type": "code",
   "metadata": {
    "colab": {
     "base_uri": "https://localhost:8080/",
     "height": 296
    },
    "id": "S3iHQQcW2xrH",
    "executionInfo": {
     "status": "ok",
     "timestamp": 1624221357655,
     "user_tz": 240,
     "elapsed": 528,
     "user": {
      "displayName": "Andrés Sánchez",
      "photoUrl": "https://lh3.googleusercontent.com/a-/AOh14Gg69bZMv30ckb-T1MJy0nSxWIHUaP0p2uP6MYBuvQ=s64",
      "userId": "07985253921366566280"
     }
    },
    "outputId": "7fb9f48f-7c3e-4b8e-b75e-9345a8a5f36b",
    "cell_id": "00018-1a721da8-e3da-45fd-978c-a5687df049d4",
    "deepnote_to_be_reexecuted": false,
    "source_hash": "4cec3df3",
    "execution_start": 1630098378326,
    "execution_millis": 286,
    "deepnote_cell_type": "code"
   },
   "source": "sns.stripplot(data = df, x = 'tip', y = 'day', size = 5, hue = df.sex, jitter = True)",
   "outputs": [
    {
     "output_type": "execute_result",
     "execution_count": 9,
     "data": {
      "text/plain": "<AxesSubplot:xlabel='tip', ylabel='day'>"
     },
     "metadata": {}
    },
    {
     "data": {
      "text/plain": "<Figure size 432x288 with 1 Axes>",
      "image/png": "[encoded data removed]"
     },
     "metadata": {
      "image/png": {
       "width": 393,
       "height": 262
      }
     },
     "output_type": "display_data"
    }
   ],
   "execution_count": null
  },
  {
   "cell_type": "markdown",
   "source": "### Step 10.  Create a box plot presenting the total_bill per day differetiation the time (Dinner or Lunch)",
   "metadata": {
    "id": "MaNz_9G12xrI",
    "cell_id": "00019-26338e6a-a740-41b6-9f83-f4daa9cf8049",
    "deepnote_cell_type": "markdown"
   }
  },
  {
   "cell_type": "code",
   "metadata": {
    "colab": {
     "base_uri": "https://localhost:8080/",
     "height": 296
    },
    "id": "jZaCkI802xrI",
    "executionInfo": {
     "status": "ok",
     "timestamp": 1624221357830,
     "user_tz": 240,
     "elapsed": 178,
     "user": {
      "displayName": "Andrés Sánchez",
      "photoUrl": "https://lh3.googleusercontent.com/a-/AOh14Gg69bZMv30ckb-T1MJy0nSxWIHUaP0p2uP6MYBuvQ=s64",
      "userId": "07985253921366566280"
     }
    },
    "outputId": "c7e2f555-2652-4562-fa00-1fc6b17ea9fe",
    "cell_id": "00020-70fa09ce-adac-4f2b-afd1-68fd8b1b90f5",
    "deepnote_to_be_reexecuted": false,
    "source_hash": "fc6359fd",
    "execution_start": 1630098378615,
    "execution_millis": 223,
    "deepnote_cell_type": "code"
   },
   "source": "sns.boxplot(data = df, x = 'day', y = 'total_bill', hue = 'time')",
   "outputs": [
    {
     "output_type": "execute_result",
     "execution_count": 10,
     "data": {
      "text/plain": "<AxesSubplot:xlabel='day', ylabel='total_bill'>"
     },
     "metadata": {}
    },
    {
     "data": {
      "text/plain": "<Figure size 432x288 with 1 Axes>",
      "image/png": "[encoded data removed]"
     },
     "metadata": {
      "image/png": {
       "width": 383,
       "height": 262
      }
     },
     "output_type": "display_data"
    }
   ],
   "execution_count": null
  },
  {
   "cell_type": "markdown",
   "source": "### Step 11. Create two histograms of the tip value based for Dinner and Lunch. They must be side by side.",
   "metadata": {
    "id": "w16uTrbI2xrI",
    "cell_id": "00021-d5dfdc03-3b74-4b36-bc6d-a3a82e2402e1",
    "deepnote_cell_type": "markdown"
   }
  },
  {
   "cell_type": "code",
   "metadata": {
    "colab": {
     "base_uri": "https://localhost:8080/",
     "height": 386
    },
    "id": "fIq09G6A2xrI",
    "executionInfo": {
     "status": "ok",
     "timestamp": 1624221359480,
     "user_tz": 240,
     "elapsed": 1653,
     "user": {
      "displayName": "Andrés Sánchez",
      "photoUrl": "https://lh3.googleusercontent.com/a-/AOh14Gg69bZMv30ckb-T1MJy0nSxWIHUaP0p2uP6MYBuvQ=s64",
      "userId": "07985253921366566280"
     }
    },
    "outputId": "c22239ec-da9b-439c-ed05-9c9023298c40",
    "cell_id": "00022-233d4c55-e4c0-45b3-a62e-e1370fe54969",
    "deepnote_to_be_reexecuted": false,
    "source_hash": "de8a076e",
    "execution_start": 1630098378857,
    "execution_millis": 558,
    "deepnote_cell_type": "code"
   },
   "source": "sns.displot(data = df, x = 'tip', col = 'time')",
   "outputs": [
    {
     "output_type": "execute_result",
     "execution_count": 11,
     "data": {
      "text/plain": "<seaborn.axisgrid.FacetGrid at 0x7f47d8a36f70>"
     },
     "metadata": {}
    },
    {
     "data": {
      "text/plain": "<Figure size 720x360 with 2 Axes>",
      "image/png": "[encoded data removed]"
     },
     "metadata": {
      "image/png": {
       "width": 712,
       "height": 352
      }
     },
     "output_type": "display_data"
    }
   ],
   "execution_count": null
  },
  {
   "cell_type": "markdown",
   "source": "### Step 12. Create two scatterplots graphs, one for Male and another for Female, presenting the total_bill value and tip relationship, differing by smoker or no smoker\n### They must be side by side.",
   "metadata": {
    "id": "5KKfQwRp2xrI",
    "cell_id": "00023-6c07c125-1950-4313-9d7f-ea4d7c0d1e4f",
    "deepnote_cell_type": "markdown"
   }
  },
  {
   "cell_type": "code",
   "metadata": {
    "colab": {
     "base_uri": "https://localhost:8080/",
     "height": 565
    },
    "id": "GezNBT1s2xrI",
    "executionInfo": {
     "status": "ok",
     "timestamp": 1624221370399,
     "user_tz": 240,
     "elapsed": 1411,
     "user": {
      "displayName": "Andrés Sánchez",
      "photoUrl": "https://lh3.googleusercontent.com/a-/AOh14Gg69bZMv30ckb-T1MJy0nSxWIHUaP0p2uP6MYBuvQ=s64",
      "userId": "07985253921366566280"
     }
    },
    "outputId": "b793870d-8f99-413d-f335-68e899623fef",
    "cell_id": "00024-84fb1982-b96f-4e8f-9ece-c36d0802c0da",
    "deepnote_to_be_reexecuted": false,
    "source_hash": "685da1c0",
    "execution_start": 1630098379418,
    "execution_millis": 546,
    "deepnote_cell_type": "code"
   },
   "source": "sp = sns.FacetGrid(df, col = 'sex', hue = 'smoker', size=7, col_order = ['Male', 'Female'])\nsp.map(plt.scatter, 'tip', 'total_bill')",
   "outputs": [
    {
     "name": "stderr",
     "text": "/shared-libs/python3.9/py/lib/python3.9/site-packages/seaborn/axisgrid.py:316: UserWarning: The `size` parameter has been renamed to `height`; please update your code.\n  warnings.warn(msg, UserWarning)\n",
     "output_type": "stream"
    },
    {
     "output_type": "execute_result",
     "execution_count": 12,
     "data": {
      "text/plain": "<seaborn.axisgrid.FacetGrid at 0x7f47d68c3370>"
     },
     "metadata": {}
    },
    {
     "data": {
      "text/plain": "<Figure size 1008x504 with 2 Axes>",
      "image/png": "[encoded data removed]"
     },
     "metadata": {
      "image/png": {
       "width": 1000,
       "height": 496
      }
     },
     "output_type": "display_data"
    }
   ],
   "execution_count": null
  },
  {
   "cell_type": "markdown",
   "source": "<a style='text-decoration:none;line-height:16px;display:flex;color:#5B5B62;padding:10px;justify-content:end;' href='https://deepnote.com?utm_source=created-in-deepnote-cell&projectId=fe744348-fecc-4b7a-803c-44dba24ecb38' target=\"_blank\">\n<img alt='Created in deepnote.com' style='display:inline;max-height:16px;margin:0px;margin-right:7.5px;' src='data:image/svg+xml;base64,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' > </img>\nCreated in <span style='font-weight:600;margin-left:4px;'>Deepnote</span></a>",
   "metadata": {
    "tags": [],
    "created_in_deepnote_cell": true,
    "deepnote_cell_type": "markdown"
   }
  }
 ],
 "nbformat": 4,
 "nbformat_minor": 0,
 "metadata": {
  "anaconda-cloud": {},
  "kernelspec": {
   "display_name": "Python 3",
   "language": "python",
   "name": "python3"
  },
  "language_info": {
   "codemirror_mode": {
    "name": "ipython",
    "version": 3
   },
   "file_extension": ".py",
   "mimetype": "text/x-python",
   "name": "python",
   "nbconvert_exporter": "python",
   "pygments_lexer": "ipython3",
   "version": "3.7.0"
  },
  "colab": {
   "name": "Exercises.ipynb",
   "provenance": [],
   "collapsed_sections": []
  },
  "deepnote_notebook_id": "93b90fd6-19ab-4abc-afe5-e06660fd1d09",
  "deepnote": {},
  "deepnote_execution_queue": []
 }
}
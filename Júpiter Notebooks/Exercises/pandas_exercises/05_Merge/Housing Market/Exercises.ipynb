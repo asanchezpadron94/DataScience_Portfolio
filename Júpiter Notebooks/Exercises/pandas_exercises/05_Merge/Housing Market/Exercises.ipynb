{
 "cells": [
  {
   "cell_type": "markdown",
   "source": "# Housing Market",
   "metadata": {
    "id": "LqtOqzu0fCS5",
    "cell_id": "00000-8cd070d0-f94f-4cbe-bd5b-98a9f4aa7397",
    "deepnote_cell_type": "markdown"
   }
  },
  {
   "cell_type": "markdown",
   "source": "### Introduction:\n\nThis time we will create our own dataset with fictional numbers to describe a house market. As we are going to create random data don't try to reason of the numbers.\n\n### Step 1. Import the necessary libraries",
   "metadata": {
    "id": "8QrPp_u4fCS6",
    "cell_id": "00001-1a92e0cc-1756-450d-a184-ef1f5ed9b607",
    "deepnote_cell_type": "markdown"
   }
  },
  {
   "cell_type": "code",
   "metadata": {
    "id": "NYhNZ45JfCS7",
    "executionInfo": {
     "status": "ok",
     "timestamp": 1623726242553,
     "user_tz": 240,
     "elapsed": 313,
     "user": {
      "displayName": "Andrés Sánchez",
      "photoUrl": "https://lh3.googleusercontent.com/a-/AOh14Gg69bZMv30ckb-T1MJy0nSxWIHUaP0p2uP6MYBuvQ=s64",
      "userId": "07985253921366566280"
     }
    },
    "cell_id": "00002-e1213129-28c5-47f2-bcba-4c5d8f27a02a",
    "deepnote_to_be_reexecuted": false,
    "source_hash": "c76c7c51",
    "execution_start": 1630098230334,
    "execution_millis": 0,
    "deepnote_cell_type": "code"
   },
   "source": "import pandas as pd\nimport numpy as np",
   "outputs": [],
   "execution_count": null
  },
  {
   "cell_type": "markdown",
   "source": "### Step 2. Create 3 differents Series, each of length 100, as follows: \n1. The first a random number from 1 to 4 \n2. The second a random number from 1 to 3\n3. The third a random number from 10,000 to 30,000",
   "metadata": {
    "id": "71bvj4udfCS7",
    "cell_id": "00003-b791a344-2596-4b21-a1f7-4ce38b79f69c",
    "deepnote_cell_type": "markdown"
   }
  },
  {
   "cell_type": "code",
   "metadata": {
    "id": "Fw-TrURFfCS7",
    "executionInfo": {
     "status": "ok",
     "timestamp": 1623726242554,
     "user_tz": 240,
     "elapsed": 10,
     "user": {
      "displayName": "Andrés Sánchez",
      "photoUrl": "https://lh3.googleusercontent.com/a-/AOh14Gg69bZMv30ckb-T1MJy0nSxWIHUaP0p2uP6MYBuvQ=s64",
      "userId": "07985253921366566280"
     }
    },
    "cell_id": "00004-30174058-b29e-41ec-81f1-97b7478fb096",
    "deepnote_to_be_reexecuted": false,
    "source_hash": "b4c7076a",
    "execution_start": 1630098230340,
    "execution_millis": 1,
    "deepnote_cell_type": "code"
   },
   "source": "n_one = pd.Series(np.random.randint(1, 4, 100))\nn_two = pd.Series(np.random.randint(1, 3, 100))\nn_three = pd.Series(np.random.randint(10000, 30000, 100))",
   "outputs": [],
   "execution_count": null
  },
  {
   "cell_type": "markdown",
   "source": "### Step 3. Let's create a DataFrame by joinning the Series by column",
   "metadata": {
    "id": "YvG0_pCwfCS8",
    "cell_id": "00005-f8b41063-0c39-4e19-9288-d810a378dd00",
    "deepnote_cell_type": "markdown"
   }
  },
  {
   "cell_type": "code",
   "metadata": {
    "id": "y95oBW1bfCS8",
    "executionInfo": {
     "status": "ok",
     "timestamp": 1623726242696,
     "user_tz": 240,
     "elapsed": 152,
     "user": {
      "displayName": "Andrés Sánchez",
      "photoUrl": "https://lh3.googleusercontent.com/a-/AOh14Gg69bZMv30ckb-T1MJy0nSxWIHUaP0p2uP6MYBuvQ=s64",
      "userId": "07985253921366566280"
     }
    },
    "cell_id": "00006-d60c3b05-f3e1-4cef-bd57-f24e4a3289e2",
    "deepnote_to_be_reexecuted": false,
    "source_hash": "1b575bf6",
    "execution_start": 1630098230346,
    "execution_millis": 2,
    "deepnote_cell_type": "code"
   },
   "source": "df = pd.DataFrame(pd.concat([n_one, n_two, n_three], axis = 1))",
   "outputs": [],
   "execution_count": null
  },
  {
   "cell_type": "markdown",
   "source": "### Step 4. Change the name of the columns to bedrs, bathrs, price_sqr_meter",
   "metadata": {
    "id": "XsRkX98vfCS8",
    "cell_id": "00007-8d2a90c5-9ceb-4095-a222-75b4388f5a60",
    "deepnote_cell_type": "markdown"
   }
  },
  {
   "cell_type": "code",
   "metadata": {
    "id": "wPB-nmY7fCS9",
    "executionInfo": {
     "status": "ok",
     "timestamp": 1623726242697,
     "user_tz": 240,
     "elapsed": 12,
     "user": {
      "displayName": "Andrés Sánchez",
      "photoUrl": "https://lh3.googleusercontent.com/a-/AOh14Gg69bZMv30ckb-T1MJy0nSxWIHUaP0p2uP6MYBuvQ=s64",
      "userId": "07985253921366566280"
     }
    },
    "cell_id": "00008-83ab62b4-53a5-4331-8d80-70ec8bbfb5a1",
    "deepnote_to_be_reexecuted": false,
    "source_hash": "dd8a1f00",
    "execution_start": 1630098230390,
    "execution_millis": 1,
    "deepnote_cell_type": "code"
   },
   "source": "df = df.rename(columns = {0:'bedrs', 1: 'bathrs', 2: 'price_sqr_meter'})",
   "outputs": [],
   "execution_count": null
  },
  {
   "cell_type": "markdown",
   "source": "### Step 5. Create a one column DataFrame with the values of the 3 Series and assign it to 'bigcolumn'",
   "metadata": {
    "id": "E0QjR2OpfCS9",
    "cell_id": "00009-90e1a1d3-30b9-4084-bf59-2c7580e70f35",
    "deepnote_cell_type": "markdown"
   }
  },
  {
   "cell_type": "code",
   "metadata": {
    "colab": {
     "base_uri": "https://localhost:8080/",
     "height": 1000
    },
    "id": "tiOmx114fCS9",
    "executionInfo": {
     "status": "ok",
     "timestamp": 1623726242698,
     "user_tz": 240,
     "elapsed": 12,
     "user": {
      "displayName": "Andrés Sánchez",
      "photoUrl": "https://lh3.googleusercontent.com/a-/AOh14Gg69bZMv30ckb-T1MJy0nSxWIHUaP0p2uP6MYBuvQ=s64",
      "userId": "07985253921366566280"
     }
    },
    "outputId": "10ab8e02-f432-4693-ae5a-6f88cf6487ab",
    "cell_id": "00010-8ec1e559-8b1c-47e8-8552-d6db2d844eeb",
    "deepnote_to_be_reexecuted": false,
    "source_hash": "750cc9a0",
    "execution_start": 1630098230391,
    "execution_millis": 9,
    "deepnote_cell_type": "code"
   },
   "source": "bigcolumn = pd.concat([n_one, n_two, n_three])\nbigcolumn = bigcolumn.to_frame()\nbigcolumn",
   "outputs": [
    {
     "output_type": "execute_result",
     "execution_count": 5,
     "data": {
      "application/vnd.deepnote.dataframe.v2+json": {
       "row_count": 300,
       "column_count": 1,
       "columns": [
        {
         "name": 0,
         "dtype": "int64",
         "stats": {
          "unique_count": 103,
          "nan_count": 0,
          "min": "1",
          "max": "29932",
          "histogram": [
           {
            "bin_start": 1,
            "bin_end": 2994.1,
            "count": 200
           },
           {
            "bin_start": 2994.1,
            "bin_end": 5987.2,
            "count": 0
           },
           {
            "bin_start": 5987.2,
            "bin_end": 8980.3,
            "count": 0
           },
           {
            "bin_start": 8980.3,
            "bin_end": 11973.4,
            "count": 10
           },
           {
            "bin_start": 11973.4,
            "bin_end": 14966.5,
            "count": 19
           },
           {
            "bin_start": 14966.5,
            "bin_end": 17959.6,
            "count": 17
           },
           {
            "bin_start": 17959.6,
            "bin_end": 20952.7,
            "count": 11
           },
           {
            "bin_start": 20952.7,
            "bin_end": 23945.8,
            "count": 13
           },
           {
            "bin_start": 23945.8,
            "bin_end": 26938.899999999998,
            "count": 14
           },
           {
            "bin_start": 26938.899999999998,
            "bin_end": 29932,
            "count": 16
           }
          ]
         }
        },
        {
         "name": "_deepnote_index_column",
         "dtype": "int64"
        }
       ],
       "rows_top": [
        {
         "0": "3",
         "_deepnote_index_column": "0"
        },
        {
         "0": "3",
         "_deepnote_index_column": "1"
        },
        {
         "0": "2",
         "_deepnote_index_column": "2"
        },
        {
         "0": "2",
         "_deepnote_index_column": "3"
        },
        {
         "0": "2",
         "_deepnote_index_column": "4"
        },
        {
         "0": "1",
         "_deepnote_index_column": "5"
        },
        {
         "0": "3",
         "_deepnote_index_column": "6"
        },
        {
         "0": "3",
         "_deepnote_index_column": "7"
        },
        {
         "0": "2",
         "_deepnote_index_column": "8"
        },
        {
         "0": "1",
         "_deepnote_index_column": "9"
        },
        {
         "0": "2",
         "_deepnote_index_column": "10"
        },
        {
         "0": "2",
         "_deepnote_index_column": "11"
        },
        {
         "0": "1",
         "_deepnote_index_column": "12"
        },
        {
         "0": "3",
         "_deepnote_index_column": "13"
        },
        {
         "0": "2",
         "_deepnote_index_column": "14"
        },
        {
         "0": "1",
         "_deepnote_index_column": "15"
        },
        {
         "0": "2",
         "_deepnote_index_column": "16"
        },
        {
         "0": "2",
         "_deepnote_index_column": "17"
        },
        {
         "0": "2",
         "_deepnote_index_column": "18"
        },
        {
         "0": "2",
         "_deepnote_index_column": "19"
        },
        {
         "0": "2",
         "_deepnote_index_column": "20"
        },
        {
         "0": "2",
         "_deepnote_index_column": "21"
        },
        {
         "0": "1",
         "_deepnote_index_column": "22"
        },
        {
         "0": "3",
         "_deepnote_index_column": "23"
        },
        {
         "0": "3",
         "_deepnote_index_column": "24"
        },
        {
         "0": "2",
         "_deepnote_index_column": "25"
        },
        {
         "0": "3",
         "_deepnote_index_column": "26"
        },
        {
         "0": "2",
         "_deepnote_index_column": "27"
        },
        {
         "0": "3",
         "_deepnote_index_column": "28"
        },
        {
         "0": "3",
         "_deepnote_index_column": "29"
        },
        {
         "0": "2",
         "_deepnote_index_column": "30"
        },
        {
         "0": "3",
         "_deepnote_index_column": "31"
        },
        {
         "0": "1",
         "_deepnote_index_column": "32"
        },
        {
         "0": "3",
         "_deepnote_index_column": "33"
        },
        {
         "0": "1",
         "_deepnote_index_column": "34"
        },
        {
         "0": "1",
         "_deepnote_index_column": "35"
        },
        {
         "0": "1",
         "_deepnote_index_column": "36"
        },
        {
         "0": "2",
         "_deepnote_index_column": "37"
        },
        {
         "0": "2",
         "_deepnote_index_column": "38"
        },
        {
         "0": "1",
         "_deepnote_index_column": "39"
        },
        {
         "0": "3",
         "_deepnote_index_column": "40"
        },
        {
         "0": "2",
         "_deepnote_index_column": "41"
        },
        {
         "0": "2",
         "_deepnote_index_column": "42"
        },
        {
         "0": "2",
         "_deepnote_index_column": "43"
        },
        {
         "0": "2",
         "_deepnote_index_column": "44"
        },
        {
         "0": "3",
         "_deepnote_index_column": "45"
        },
        {
         "0": "2",
         "_deepnote_index_column": "46"
        },
        {
         "0": "1",
         "_deepnote_index_column": "47"
        },
        {
         "0": "2",
         "_deepnote_index_column": "48"
        },
        {
         "0": "1",
         "_deepnote_index_column": "49"
        },
        {
         "0": "2",
         "_deepnote_index_column": "50"
        },
        {
         "0": "2",
         "_deepnote_index_column": "51"
        },
        {
         "0": "2",
         "_deepnote_index_column": "52"
        },
        {
         "0": "3",
         "_deepnote_index_column": "53"
        },
        {
         "0": "3",
         "_deepnote_index_column": "54"
        },
        {
         "0": "2",
         "_deepnote_index_column": "55"
        },
        {
         "0": "3",
         "_deepnote_index_column": "56"
        },
        {
         "0": "1",
         "_deepnote_index_column": "57"
        },
        {
         "0": "1",
         "_deepnote_index_column": "58"
        },
        {
         "0": "3",
         "_deepnote_index_column": "59"
        },
        {
         "0": "1",
         "_deepnote_index_column": "60"
        },
        {
         "0": "3",
         "_deepnote_index_column": "61"
        },
        {
         "0": "2",
         "_deepnote_index_column": "62"
        },
        {
         "0": "2",
         "_deepnote_index_column": "63"
        },
        {
         "0": "3",
         "_deepnote_index_column": "64"
        },
        {
         "0": "3",
         "_deepnote_index_column": "65"
        },
        {
         "0": "2",
         "_deepnote_index_column": "66"
        },
        {
         "0": "1",
         "_deepnote_index_column": "67"
        },
        {
         "0": "1",
         "_deepnote_index_column": "68"
        },
        {
         "0": "3",
         "_deepnote_index_column": "69"
        },
        {
         "0": "2",
         "_deepnote_index_column": "70"
        },
        {
         "0": "1",
         "_deepnote_index_column": "71"
        },
        {
         "0": "2",
         "_deepnote_index_column": "72"
        },
        {
         "0": "3",
         "_deepnote_index_column": "73"
        },
        {
         "0": "1",
         "_deepnote_index_column": "74"
        },
        {
         "0": "2",
         "_deepnote_index_column": "75"
        },
        {
         "0": "1",
         "_deepnote_index_column": "76"
        },
        {
         "0": "3",
         "_deepnote_index_column": "77"
        },
        {
         "0": "2",
         "_deepnote_index_column": "78"
        },
        {
         "0": "2",
         "_deepnote_index_column": "79"
        },
        {
         "0": "1",
         "_deepnote_index_column": "80"
        },
        {
         "0": "1",
         "_deepnote_index_column": "81"
        },
        {
         "0": "2",
         "_deepnote_index_column": "82"
        },
        {
         "0": "2",
         "_deepnote_index_column": "83"
        },
        {
         "0": "2",
         "_deepnote_index_column": "84"
        },
        {
         "0": "1",
         "_deepnote_index_column": "85"
        },
        {
         "0": "2",
         "_deepnote_index_column": "86"
        },
        {
         "0": "1",
         "_deepnote_index_column": "87"
        },
        {
         "0": "3",
         "_deepnote_index_column": "88"
        },
        {
         "0": "1",
         "_deepnote_index_column": "89"
        },
        {
         "0": "2",
         "_deepnote_index_column": "90"
        },
        {
         "0": "2",
         "_deepnote_index_column": "91"
        },
        {
         "0": "2",
         "_deepnote_index_column": "92"
        },
        {
         "0": "1",
         "_deepnote_index_column": "93"
        },
        {
         "0": "1",
         "_deepnote_index_column": "94"
        },
        {
         "0": "3",
         "_deepnote_index_column": "95"
        },
        {
         "0": "3",
         "_deepnote_index_column": "96"
        },
        {
         "0": "2",
         "_deepnote_index_column": "97"
        },
        {
         "0": "3",
         "_deepnote_index_column": "98"
        },
        {
         "0": "3",
         "_deepnote_index_column": "99"
        },
        {
         "0": "1",
         "_deepnote_index_column": "0"
        },
        {
         "0": "1",
         "_deepnote_index_column": "1"
        },
        {
         "0": "2",
         "_deepnote_index_column": "2"
        },
        {
         "0": "1",
         "_deepnote_index_column": "3"
        },
        {
         "0": "1",
         "_deepnote_index_column": "4"
        },
        {
         "0": "2",
         "_deepnote_index_column": "5"
        },
        {
         "0": "2",
         "_deepnote_index_column": "6"
        },
        {
         "0": "2",
         "_deepnote_index_column": "7"
        },
        {
         "0": "2",
         "_deepnote_index_column": "8"
        },
        {
         "0": "2",
         "_deepnote_index_column": "9"
        },
        {
         "0": "2",
         "_deepnote_index_column": "10"
        },
        {
         "0": "1",
         "_deepnote_index_column": "11"
        },
        {
         "0": "1",
         "_deepnote_index_column": "12"
        },
        {
         "0": "2",
         "_deepnote_index_column": "13"
        },
        {
         "0": "2",
         "_deepnote_index_column": "14"
        },
        {
         "0": "2",
         "_deepnote_index_column": "15"
        },
        {
         "0": "1",
         "_deepnote_index_column": "16"
        },
        {
         "0": "1",
         "_deepnote_index_column": "17"
        },
        {
         "0": "1",
         "_deepnote_index_column": "18"
        },
        {
         "0": "2",
         "_deepnote_index_column": "19"
        },
        {
         "0": "2",
         "_deepnote_index_column": "20"
        },
        {
         "0": "1",
         "_deepnote_index_column": "21"
        },
        {
         "0": "1",
         "_deepnote_index_column": "22"
        },
        {
         "0": "2",
         "_deepnote_index_column": "23"
        },
        {
         "0": "1",
         "_deepnote_index_column": "24"
        },
        {
         "0": "2",
         "_deepnote_index_column": "25"
        },
        {
         "0": "1",
         "_deepnote_index_column": "26"
        },
        {
         "0": "1",
         "_deepnote_index_column": "27"
        },
        {
         "0": "2",
         "_deepnote_index_column": "28"
        },
        {
         "0": "1",
         "_deepnote_index_column": "29"
        },
        {
         "0": "1",
         "_deepnote_index_column": "30"
        },
        {
         "0": "1",
         "_deepnote_index_column": "31"
        },
        {
         "0": "1",
         "_deepnote_index_column": "32"
        },
        {
         "0": "1",
         "_deepnote_index_column": "33"
        },
        {
         "0": "1",
         "_deepnote_index_column": "34"
        },
        {
         "0": "1",
         "_deepnote_index_column": "35"
        },
        {
         "0": "2",
         "_deepnote_index_column": "36"
        },
        {
         "0": "2",
         "_deepnote_index_column": "37"
        },
        {
         "0": "1",
         "_deepnote_index_column": "38"
        },
        {
         "0": "2",
         "_deepnote_index_column": "39"
        },
        {
         "0": "2",
         "_deepnote_index_column": "40"
        },
        {
         "0": "2",
         "_deepnote_index_column": "41"
        },
        {
         "0": "2",
         "_deepnote_index_column": "42"
        },
        {
         "0": "1",
         "_deepnote_index_column": "43"
        },
        {
         "0": "1",
         "_deepnote_index_column": "44"
        },
        {
         "0": "2",
         "_deepnote_index_column": "45"
        },
        {
         "0": "1",
         "_deepnote_index_column": "46"
        },
        {
         "0": "2",
         "_deepnote_index_column": "47"
        },
        {
         "0": "2",
         "_deepnote_index_column": "48"
        },
        {
         "0": "1",
         "_deepnote_index_column": "49"
        },
        {
         "0": "2",
         "_deepnote_index_column": "50"
        },
        {
         "0": "1",
         "_deepnote_index_column": "51"
        },
        {
         "0": "1",
         "_deepnote_index_column": "52"
        },
        {
         "0": "1",
         "_deepnote_index_column": "53"
        },
        {
         "0": "2",
         "_deepnote_index_column": "54"
        },
        {
         "0": "1",
         "_deepnote_index_column": "55"
        },
        {
         "0": "2",
         "_deepnote_index_column": "56"
        },
        {
         "0": "1",
         "_deepnote_index_column": "57"
        },
        {
         "0": "2",
         "_deepnote_index_column": "58"
        },
        {
         "0": "1",
         "_deepnote_index_column": "59"
        },
        {
         "0": "2",
         "_deepnote_index_column": "60"
        },
        {
         "0": "2",
         "_deepnote_index_column": "61"
        },
        {
         "0": "2",
         "_deepnote_index_column": "62"
        },
        {
         "0": "2",
         "_deepnote_index_column": "63"
        },
        {
         "0": "1",
         "_deepnote_index_column": "64"
        },
        {
         "0": "1",
         "_deepnote_index_column": "65"
        },
        {
         "0": "2",
         "_deepnote_index_column": "66"
        },
        {
         "0": "1",
         "_deepnote_index_column": "67"
        },
        {
         "0": "2",
         "_deepnote_index_column": "68"
        },
        {
         "0": "2",
         "_deepnote_index_column": "69"
        },
        {
         "0": "2",
         "_deepnote_index_column": "70"
        },
        {
         "0": "2",
         "_deepnote_index_column": "71"
        },
        {
         "0": "2",
         "_deepnote_index_column": "72"
        },
        {
         "0": "1",
         "_deepnote_index_column": "73"
        },
        {
         "0": "1",
         "_deepnote_index_column": "74"
        },
        {
         "0": "1",
         "_deepnote_index_column": "75"
        },
        {
         "0": "1",
         "_deepnote_index_column": "76"
        },
        {
         "0": "1",
         "_deepnote_index_column": "77"
        },
        {
         "0": "2",
         "_deepnote_index_column": "78"
        },
        {
         "0": "2",
         "_deepnote_index_column": "79"
        },
        {
         "0": "1",
         "_deepnote_index_column": "80"
        },
        {
         "0": "2",
         "_deepnote_index_column": "81"
        },
        {
         "0": "2",
         "_deepnote_index_column": "82"
        },
        {
         "0": "1",
         "_deepnote_index_column": "83"
        },
        {
         "0": "2",
         "_deepnote_index_column": "84"
        },
        {
         "0": "1",
         "_deepnote_index_column": "85"
        },
        {
         "0": "1",
         "_deepnote_index_column": "86"
        },
        {
         "0": "1",
         "_deepnote_index_column": "87"
        },
        {
         "0": "2",
         "_deepnote_index_column": "88"
        },
        {
         "0": "1",
         "_deepnote_index_column": "89"
        },
        {
         "0": "2",
         "_deepnote_index_column": "90"
        },
        {
         "0": "2",
         "_deepnote_index_column": "91"
        },
        {
         "0": "1",
         "_deepnote_index_column": "92"
        },
        {
         "0": "1",
         "_deepnote_index_column": "93"
        },
        {
         "0": "1",
         "_deepnote_index_column": "94"
        },
        {
         "0": "2",
         "_deepnote_index_column": "95"
        },
        {
         "0": "1",
         "_deepnote_index_column": "96"
        },
        {
         "0": "2",
         "_deepnote_index_column": "97"
        },
        {
         "0": "1",
         "_deepnote_index_column": "98"
        },
        {
         "0": "2",
         "_deepnote_index_column": "99"
        },
        {
         "0": "17860",
         "_deepnote_index_column": "0"
        },
        {
         "0": "14026",
         "_deepnote_index_column": "1"
        },
        {
         "0": "11954",
         "_deepnote_index_column": "2"
        },
        {
         "0": "29932",
         "_deepnote_index_column": "3"
        },
        {
         "0": "14096",
         "_deepnote_index_column": "4"
        },
        {
         "0": "18754",
         "_deepnote_index_column": "5"
        },
        {
         "0": "11140",
         "_deepnote_index_column": "6"
        },
        {
         "0": "29762",
         "_deepnote_index_column": "7"
        },
        {
         "0": "19197",
         "_deepnote_index_column": "8"
        },
        {
         "0": "19452",
         "_deepnote_index_column": "9"
        },
        {
         "0": "19454",
         "_deepnote_index_column": "10"
        },
        {
         "0": "21752",
         "_deepnote_index_column": "11"
        },
        {
         "0": "29252",
         "_deepnote_index_column": "12"
        },
        {
         "0": "12878",
         "_deepnote_index_column": "13"
        },
        {
         "0": "20987",
         "_deepnote_index_column": "14"
        },
        {
         "0": "14119",
         "_deepnote_index_column": "15"
        },
        {
         "0": "24494",
         "_deepnote_index_column": "16"
        },
        {
         "0": "28081",
         "_deepnote_index_column": "17"
        },
        {
         "0": "14784",
         "_deepnote_index_column": "18"
        },
        {
         "0": "13390",
         "_deepnote_index_column": "19"
        },
        {
         "0": "12731",
         "_deepnote_index_column": "20"
        },
        {
         "0": "28078",
         "_deepnote_index_column": "21"
        },
        {
         "0": "10366",
         "_deepnote_index_column": "22"
        },
        {
         "0": "22756",
         "_deepnote_index_column": "23"
        },
        {
         "0": "17881",
         "_deepnote_index_column": "24"
        },
        {
         "0": "18671",
         "_deepnote_index_column": "25"
        },
        {
         "0": "11393",
         "_deepnote_index_column": "26"
        },
        {
         "0": "13981",
         "_deepnote_index_column": "27"
        },
        {
         "0": "12510",
         "_deepnote_index_column": "28"
        },
        {
         "0": "15511",
         "_deepnote_index_column": "29"
        },
        {
         "0": "14152",
         "_deepnote_index_column": "30"
        },
        {
         "0": "15457",
         "_deepnote_index_column": "31"
        },
        {
         "0": "14269",
         "_deepnote_index_column": "32"
        },
        {
         "0": "12539",
         "_deepnote_index_column": "33"
        },
        {
         "0": "27243",
         "_deepnote_index_column": "34"
        },
        {
         "0": "29788",
         "_deepnote_index_column": "35"
        },
        {
         "0": "11988",
         "_deepnote_index_column": "36"
        },
        {
         "0": "12933",
         "_deepnote_index_column": "37"
        },
        {
         "0": "15705",
         "_deepnote_index_column": "38"
        },
        {
         "0": "17912",
         "_deepnote_index_column": "39"
        },
        {
         "0": "29447",
         "_deepnote_index_column": "40"
        },
        {
         "0": "10772",
         "_deepnote_index_column": "41"
        },
        {
         "0": "16978",
         "_deepnote_index_column": "42"
        },
        {
         "0": "10547",
         "_deepnote_index_column": "43"
        },
        {
         "0": "26407",
         "_deepnote_index_column": "44"
        },
        {
         "0": "25434",
         "_deepnote_index_column": "45"
        },
        {
         "0": "10749",
         "_deepnote_index_column": "46"
        },
        {
         "0": "22655",
         "_deepnote_index_column": "47"
        },
        {
         "0": "29886",
         "_deepnote_index_column": "48"
        },
        {
         "0": "16632",
         "_deepnote_index_column": "49"
        },
        {
         "0": "16505",
         "_deepnote_index_column": "50"
        },
        {
         "0": "10808",
         "_deepnote_index_column": "51"
        },
        {
         "0": "13171",
         "_deepnote_index_column": "52"
        },
        {
         "0": "29038",
         "_deepnote_index_column": "53"
        },
        {
         "0": "24064",
         "_deepnote_index_column": "54"
        },
        {
         "0": "13733",
         "_deepnote_index_column": "55"
        },
        {
         "0": "25202",
         "_deepnote_index_column": "56"
        },
        {
         "0": "29578",
         "_deepnote_index_column": "57"
        },
        {
         "0": "26660",
         "_deepnote_index_column": "58"
        },
        {
         "0": "17097",
         "_deepnote_index_column": "59"
        },
        {
         "0": "13943",
         "_deepnote_index_column": "60"
        },
        {
         "0": "22187",
         "_deepnote_index_column": "61"
        },
        {
         "0": "25428",
         "_deepnote_index_column": "62"
        },
        {
         "0": "29754",
         "_deepnote_index_column": "63"
        },
        {
         "0": "21852",
         "_deepnote_index_column": "64"
        },
        {
         "0": "24579",
         "_deepnote_index_column": "65"
        },
        {
         "0": "15442",
         "_deepnote_index_column": "66"
        },
        {
         "0": "21195",
         "_deepnote_index_column": "67"
        },
        {
         "0": "29917",
         "_deepnote_index_column": "68"
        },
        {
         "0": "29487",
         "_deepnote_index_column": "69"
        },
        {
         "0": "13888",
         "_deepnote_index_column": "70"
        },
        {
         "0": "25012",
         "_deepnote_index_column": "71"
        },
        {
         "0": "19190",
         "_deepnote_index_column": "72"
        },
        {
         "0": "21186",
         "_deepnote_index_column": "73"
        },
        {
         "0": "29680",
         "_deepnote_index_column": "74"
        },
        {
         "0": "22004",
         "_deepnote_index_column": "75"
        },
        {
         "0": "19420",
         "_deepnote_index_column": "76"
        },
        {
         "0": "15334",
         "_deepnote_index_column": "77"
        },
        {
         "0": "17369",
         "_deepnote_index_column": "78"
        },
        {
         "0": "11507",
         "_deepnote_index_column": "79"
        },
        {
         "0": "24932",
         "_deepnote_index_column": "80"
        },
        {
         "0": "19263",
         "_deepnote_index_column": "81"
        },
        {
         "0": "21703",
         "_deepnote_index_column": "82"
        },
        {
         "0": "14192",
         "_deepnote_index_column": "83"
        },
        {
         "0": "22250",
         "_deepnote_index_column": "84"
        },
        {
         "0": "26351",
         "_deepnote_index_column": "85"
        },
        {
         "0": "20205",
         "_deepnote_index_column": "86"
        },
        {
         "0": "20093",
         "_deepnote_index_column": "87"
        },
        {
         "0": "24587",
         "_deepnote_index_column": "88"
        },
        {
         "0": "24554",
         "_deepnote_index_column": "89"
        },
        {
         "0": "16068",
         "_deepnote_index_column": "90"
        },
        {
         "0": "26070",
         "_deepnote_index_column": "91"
        },
        {
         "0": "16555",
         "_deepnote_index_column": "92"
        },
        {
         "0": "23136",
         "_deepnote_index_column": "93"
        },
        {
         "0": "18569",
         "_deepnote_index_column": "94"
        },
        {
         "0": "21116",
         "_deepnote_index_column": "95"
        },
        {
         "0": "16690",
         "_deepnote_index_column": "96"
        },
        {
         "0": "27465",
         "_deepnote_index_column": "97"
        },
        {
         "0": "10321",
         "_deepnote_index_column": "98"
        },
        {
         "0": "17096",
         "_deepnote_index_column": "99"
        }
       ],
       "rows_bottom": null
      },
      "text/plain": "        0\n0       3\n1       3\n2       2\n3       2\n4       2\n..    ...\n95  21116\n96  16690\n97  27465\n98  10321\n99  17096\n\n[300 rows x 1 columns]",
      "text/html": "<div>\n<style scoped>\n    .dataframe tbody tr th:only-of-type {\n        vertical-align: middle;\n    }\n\n    .dataframe tbody tr th {\n        vertical-align: top;\n    }\n\n    .dataframe thead th {\n        text-align: right;\n    }\n</style>\n<table border=\"1\" class=\"dataframe\">\n  <thead>\n    <tr style=\"text-align: right;\">\n      <th></th>\n      <th>0</th>\n    </tr>\n  </thead>\n  <tbody>\n    <tr>\n      <th>0</th>\n      <td>3</td>\n    </tr>\n    <tr>\n      <th>1</th>\n      <td>3</td>\n    </tr>\n    <tr>\n      <th>2</th>\n      <td>2</td>\n    </tr>\n    <tr>\n      <th>3</th>\n      <td>2</td>\n    </tr>\n    <tr>\n      <th>4</th>\n      <td>2</td>\n    </tr>\n    <tr>\n      <th>...</th>\n      <td>...</td>\n    </tr>\n    <tr>\n      <th>95</th>\n      <td>21116</td>\n    </tr>\n    <tr>\n      <th>96</th>\n      <td>16690</td>\n    </tr>\n    <tr>\n      <th>97</th>\n      <td>27465</td>\n    </tr>\n    <tr>\n      <th>98</th>\n      <td>10321</td>\n    </tr>\n    <tr>\n      <th>99</th>\n      <td>17096</td>\n    </tr>\n  </tbody>\n</table>\n<p>300 rows × 1 columns</p>\n</div>"
     },
     "metadata": {}
    }
   ],
   "execution_count": null
  },
  {
   "cell_type": "markdown",
   "source": "### Step 6. Oops, it seems it is going only until index 99. Is it true?",
   "metadata": {
    "id": "aEPNi2VFfCS-",
    "cell_id": "00011-bac589ba-a35f-4bfb-95b0-6a96cd25049b",
    "deepnote_cell_type": "markdown"
   }
  },
  {
   "cell_type": "code",
   "metadata": {
    "colab": {
     "base_uri": "https://localhost:8080/"
    },
    "id": "lWCRPqxIfCS-",
    "executionInfo": {
     "status": "ok",
     "timestamp": 1623726242698,
     "user_tz": 240,
     "elapsed": 10,
     "user": {
      "displayName": "Andrés Sánchez",
      "photoUrl": "https://lh3.googleusercontent.com/a-/AOh14Gg69bZMv30ckb-T1MJy0nSxWIHUaP0p2uP6MYBuvQ=s64",
      "userId": "07985253921366566280"
     }
    },
    "outputId": "5552e060-e131-401c-cb4b-a6ec1c50802d",
    "cell_id": "00012-4d2fd942-eca4-4e4e-8397-cee974de05af",
    "deepnote_to_be_reexecuted": false,
    "source_hash": "920c0387",
    "execution_start": 1630098230402,
    "execution_millis": 1,
    "deepnote_cell_type": "code"
   },
   "source": "len(bigcolumn) \n# No the len of the table is 300 rows.",
   "outputs": [
    {
     "output_type": "execute_result",
     "execution_count": 6,
     "data": {
      "text/plain": "300"
     },
     "metadata": {}
    }
   ],
   "execution_count": null
  },
  {
   "cell_type": "markdown",
   "source": "### Step 7. Reindex the DataFrame so it goes from 0 to 299",
   "metadata": {
    "id": "smnuOjtsfCS-",
    "cell_id": "00013-fffb1493-d628-4bc3-a558-94351295df04",
    "deepnote_cell_type": "markdown"
   }
  },
  {
   "cell_type": "code",
   "metadata": {
    "id": "_-2jufc0fCS-",
    "executionInfo": {
     "status": "ok",
     "timestamp": 1623726295296,
     "user_tz": 240,
     "elapsed": 112,
     "user": {
      "displayName": "Andrés Sánchez",
      "photoUrl": "https://lh3.googleusercontent.com/a-/AOh14Gg69bZMv30ckb-T1MJy0nSxWIHUaP0p2uP6MYBuvQ=s64",
      "userId": "07985253921366566280"
     }
    },
    "cell_id": "00014-8f9b5565-1f7e-46ab-bfd6-39cf146579da",
    "deepnote_to_be_reexecuted": false,
    "source_hash": "65d4cd56",
    "execution_start": 1630098230433,
    "execution_millis": 1,
    "deepnote_cell_type": "code"
   },
   "source": "bigcolumn = bigcolumn.reset_index()",
   "outputs": [],
   "execution_count": null
  },
  {
   "cell_type": "code",
   "metadata": {
    "colab": {
     "base_uri": "https://localhost:8080/",
     "height": 1000
    },
    "id": "xJVkwQ9goQfR",
    "executionInfo": {
     "status": "ok",
     "timestamp": 1623726298855,
     "user_tz": 240,
     "elapsed": 121,
     "user": {
      "displayName": "Andrés Sánchez",
      "photoUrl": "https://lh3.googleusercontent.com/a-/AOh14Gg69bZMv30ckb-T1MJy0nSxWIHUaP0p2uP6MYBuvQ=s64",
      "userId": "07985253921366566280"
     }
    },
    "outputId": "8d8b091d-d111-4652-9dc8-5042b3547e5d",
    "cell_id": "00015-9d99087c-3158-49e1-89e9-98f888c400c0",
    "deepnote_to_be_reexecuted": false,
    "source_hash": "34b3611",
    "execution_start": 1630098230433,
    "execution_millis": 7,
    "deepnote_cell_type": "code"
   },
   "source": "bigcolumn",
   "outputs": [
    {
     "output_type": "execute_result",
     "execution_count": 8,
     "data": {
      "application/vnd.deepnote.dataframe.v2+json": {
       "row_count": 300,
       "column_count": 2,
       "columns": [
        {
         "name": "index",
         "dtype": "int64",
         "stats": {
          "unique_count": 100,
          "nan_count": 0,
          "min": "0",
          "max": "99",
          "histogram": [
           {
            "bin_start": 0,
            "bin_end": 9.9,
            "count": 30
           },
           {
            "bin_start": 9.9,
            "bin_end": 19.8,
            "count": 30
           },
           {
            "bin_start": 19.8,
            "bin_end": 29.700000000000003,
            "count": 30
           },
           {
            "bin_start": 29.700000000000003,
            "bin_end": 39.6,
            "count": 30
           },
           {
            "bin_start": 39.6,
            "bin_end": 49.5,
            "count": 30
           },
           {
            "bin_start": 49.5,
            "bin_end": 59.400000000000006,
            "count": 30
           },
           {
            "bin_start": 59.400000000000006,
            "bin_end": 69.3,
            "count": 30
           },
           {
            "bin_start": 69.3,
            "bin_end": 79.2,
            "count": 30
           },
           {
            "bin_start": 79.2,
            "bin_end": 89.10000000000001,
            "count": 30
           },
           {
            "bin_start": 89.10000000000001,
            "bin_end": 99,
            "count": 30
           }
          ]
         }
        },
        {
         "name": 0,
         "dtype": "int64",
         "stats": {
          "unique_count": 103,
          "nan_count": 0,
          "min": "1",
          "max": "29932",
          "histogram": [
           {
            "bin_start": 1,
            "bin_end": 2994.1,
            "count": 200
           },
           {
            "bin_start": 2994.1,
            "bin_end": 5987.2,
            "count": 0
           },
           {
            "bin_start": 5987.2,
            "bin_end": 8980.3,
            "count": 0
           },
           {
            "bin_start": 8980.3,
            "bin_end": 11973.4,
            "count": 10
           },
           {
            "bin_start": 11973.4,
            "bin_end": 14966.5,
            "count": 19
           },
           {
            "bin_start": 14966.5,
            "bin_end": 17959.6,
            "count": 17
           },
           {
            "bin_start": 17959.6,
            "bin_end": 20952.7,
            "count": 11
           },
           {
            "bin_start": 20952.7,
            "bin_end": 23945.8,
            "count": 13
           },
           {
            "bin_start": 23945.8,
            "bin_end": 26938.899999999998,
            "count": 14
           },
           {
            "bin_start": 26938.899999999998,
            "bin_end": 29932,
            "count": 16
           }
          ]
         }
        },
        {
         "name": "_deepnote_index_column",
         "dtype": "int64"
        }
       ],
       "rows_top": [
        {
         "0": 3,
         "index": 0,
         "_deepnote_index_column": 0
        },
        {
         "0": 3,
         "index": 1,
         "_deepnote_index_column": 1
        },
        {
         "0": 2,
         "index": 2,
         "_deepnote_index_column": 2
        },
        {
         "0": 2,
         "index": 3,
         "_deepnote_index_column": 3
        },
        {
         "0": 2,
         "index": 4,
         "_deepnote_index_column": 4
        },
        {
         "0": 1,
         "index": 5,
         "_deepnote_index_column": 5
        },
        {
         "0": 3,
         "index": 6,
         "_deepnote_index_column": 6
        },
        {
         "0": 3,
         "index": 7,
         "_deepnote_index_column": 7
        },
        {
         "0": 2,
         "index": 8,
         "_deepnote_index_column": 8
        },
        {
         "0": 1,
         "index": 9,
         "_deepnote_index_column": 9
        },
        {
         "0": 2,
         "index": 10,
         "_deepnote_index_column": 10
        },
        {
         "0": 2,
         "index": 11,
         "_deepnote_index_column": 11
        },
        {
         "0": 1,
         "index": 12,
         "_deepnote_index_column": 12
        },
        {
         "0": 3,
         "index": 13,
         "_deepnote_index_column": 13
        },
        {
         "0": 2,
         "index": 14,
         "_deepnote_index_column": 14
        },
        {
         "0": 1,
         "index": 15,
         "_deepnote_index_column": 15
        },
        {
         "0": 2,
         "index": 16,
         "_deepnote_index_column": 16
        },
        {
         "0": 2,
         "index": 17,
         "_deepnote_index_column": 17
        },
        {
         "0": 2,
         "index": 18,
         "_deepnote_index_column": 18
        },
        {
         "0": 2,
         "index": 19,
         "_deepnote_index_column": 19
        },
        {
         "0": 2,
         "index": 20,
         "_deepnote_index_column": 20
        },
        {
         "0": 2,
         "index": 21,
         "_deepnote_index_column": 21
        },
        {
         "0": 1,
         "index": 22,
         "_deepnote_index_column": 22
        },
        {
         "0": 3,
         "index": 23,
         "_deepnote_index_column": 23
        },
        {
         "0": 3,
         "index": 24,
         "_deepnote_index_column": 24
        },
        {
         "0": 2,
         "index": 25,
         "_deepnote_index_column": 25
        },
        {
         "0": 3,
         "index": 26,
         "_deepnote_index_column": 26
        },
        {
         "0": 2,
         "index": 27,
         "_deepnote_index_column": 27
        },
        {
         "0": 3,
         "index": 28,
         "_deepnote_index_column": 28
        },
        {
         "0": 3,
         "index": 29,
         "_deepnote_index_column": 29
        },
        {
         "0": 2,
         "index": 30,
         "_deepnote_index_column": 30
        },
        {
         "0": 3,
         "index": 31,
         "_deepnote_index_column": 31
        },
        {
         "0": 1,
         "index": 32,
         "_deepnote_index_column": 32
        },
        {
         "0": 3,
         "index": 33,
         "_deepnote_index_column": 33
        },
        {
         "0": 1,
         "index": 34,
         "_deepnote_index_column": 34
        },
        {
         "0": 1,
         "index": 35,
         "_deepnote_index_column": 35
        },
        {
         "0": 1,
         "index": 36,
         "_deepnote_index_column": 36
        },
        {
         "0": 2,
         "index": 37,
         "_deepnote_index_column": 37
        },
        {
         "0": 2,
         "index": 38,
         "_deepnote_index_column": 38
        },
        {
         "0": 1,
         "index": 39,
         "_deepnote_index_column": 39
        },
        {
         "0": 3,
         "index": 40,
         "_deepnote_index_column": 40
        },
        {
         "0": 2,
         "index": 41,
         "_deepnote_index_column": 41
        },
        {
         "0": 2,
         "index": 42,
         "_deepnote_index_column": 42
        },
        {
         "0": 2,
         "index": 43,
         "_deepnote_index_column": 43
        },
        {
         "0": 2,
         "index": 44,
         "_deepnote_index_column": 44
        },
        {
         "0": 3,
         "index": 45,
         "_deepnote_index_column": 45
        },
        {
         "0": 2,
         "index": 46,
         "_deepnote_index_column": 46
        },
        {
         "0": 1,
         "index": 47,
         "_deepnote_index_column": 47
        },
        {
         "0": 2,
         "index": 48,
         "_deepnote_index_column": 48
        },
        {
         "0": 1,
         "index": 49,
         "_deepnote_index_column": 49
        },
        {
         "0": 2,
         "index": 50,
         "_deepnote_index_column": 50
        },
        {
         "0": 2,
         "index": 51,
         "_deepnote_index_column": 51
        },
        {
         "0": 2,
         "index": 52,
         "_deepnote_index_column": 52
        },
        {
         "0": 3,
         "index": 53,
         "_deepnote_index_column": 53
        },
        {
         "0": 3,
         "index": 54,
         "_deepnote_index_column": 54
        },
        {
         "0": 2,
         "index": 55,
         "_deepnote_index_column": 55
        },
        {
         "0": 3,
         "index": 56,
         "_deepnote_index_column": 56
        },
        {
         "0": 1,
         "index": 57,
         "_deepnote_index_column": 57
        },
        {
         "0": 1,
         "index": 58,
         "_deepnote_index_column": 58
        },
        {
         "0": 3,
         "index": 59,
         "_deepnote_index_column": 59
        },
        {
         "0": 1,
         "index": 60,
         "_deepnote_index_column": 60
        },
        {
         "0": 3,
         "index": 61,
         "_deepnote_index_column": 61
        },
        {
         "0": 2,
         "index": 62,
         "_deepnote_index_column": 62
        },
        {
         "0": 2,
         "index": 63,
         "_deepnote_index_column": 63
        },
        {
         "0": 3,
         "index": 64,
         "_deepnote_index_column": 64
        },
        {
         "0": 3,
         "index": 65,
         "_deepnote_index_column": 65
        },
        {
         "0": 2,
         "index": 66,
         "_deepnote_index_column": 66
        },
        {
         "0": 1,
         "index": 67,
         "_deepnote_index_column": 67
        },
        {
         "0": 1,
         "index": 68,
         "_deepnote_index_column": 68
        },
        {
         "0": 3,
         "index": 69,
         "_deepnote_index_column": 69
        },
        {
         "0": 2,
         "index": 70,
         "_deepnote_index_column": 70
        },
        {
         "0": 1,
         "index": 71,
         "_deepnote_index_column": 71
        },
        {
         "0": 2,
         "index": 72,
         "_deepnote_index_column": 72
        },
        {
         "0": 3,
         "index": 73,
         "_deepnote_index_column": 73
        },
        {
         "0": 1,
         "index": 74,
         "_deepnote_index_column": 74
        },
        {
         "0": 2,
         "index": 75,
         "_deepnote_index_column": 75
        },
        {
         "0": 1,
         "index": 76,
         "_deepnote_index_column": 76
        },
        {
         "0": 3,
         "index": 77,
         "_deepnote_index_column": 77
        },
        {
         "0": 2,
         "index": 78,
         "_deepnote_index_column": 78
        },
        {
         "0": 2,
         "index": 79,
         "_deepnote_index_column": 79
        },
        {
         "0": 1,
         "index": 80,
         "_deepnote_index_column": 80
        },
        {
         "0": 1,
         "index": 81,
         "_deepnote_index_column": 81
        },
        {
         "0": 2,
         "index": 82,
         "_deepnote_index_column": 82
        },
        {
         "0": 2,
         "index": 83,
         "_deepnote_index_column": 83
        },
        {
         "0": 2,
         "index": 84,
         "_deepnote_index_column": 84
        },
        {
         "0": 1,
         "index": 85,
         "_deepnote_index_column": 85
        },
        {
         "0": 2,
         "index": 86,
         "_deepnote_index_column": 86
        },
        {
         "0": 1,
         "index": 87,
         "_deepnote_index_column": 87
        },
        {
         "0": 3,
         "index": 88,
         "_deepnote_index_column": 88
        },
        {
         "0": 1,
         "index": 89,
         "_deepnote_index_column": 89
        },
        {
         "0": 2,
         "index": 90,
         "_deepnote_index_column": 90
        },
        {
         "0": 2,
         "index": 91,
         "_deepnote_index_column": 91
        },
        {
         "0": 2,
         "index": 92,
         "_deepnote_index_column": 92
        },
        {
         "0": 1,
         "index": 93,
         "_deepnote_index_column": 93
        },
        {
         "0": 1,
         "index": 94,
         "_deepnote_index_column": 94
        },
        {
         "0": 3,
         "index": 95,
         "_deepnote_index_column": 95
        },
        {
         "0": 3,
         "index": 96,
         "_deepnote_index_column": 96
        },
        {
         "0": 2,
         "index": 97,
         "_deepnote_index_column": 97
        },
        {
         "0": 3,
         "index": 98,
         "_deepnote_index_column": 98
        },
        {
         "0": 3,
         "index": 99,
         "_deepnote_index_column": 99
        },
        {
         "0": 1,
         "index": 0,
         "_deepnote_index_column": 100
        },
        {
         "0": 1,
         "index": 1,
         "_deepnote_index_column": 101
        },
        {
         "0": 2,
         "index": 2,
         "_deepnote_index_column": 102
        },
        {
         "0": 1,
         "index": 3,
         "_deepnote_index_column": 103
        },
        {
         "0": 1,
         "index": 4,
         "_deepnote_index_column": 104
        },
        {
         "0": 2,
         "index": 5,
         "_deepnote_index_column": 105
        },
        {
         "0": 2,
         "index": 6,
         "_deepnote_index_column": 106
        },
        {
         "0": 2,
         "index": 7,
         "_deepnote_index_column": 107
        },
        {
         "0": 2,
         "index": 8,
         "_deepnote_index_column": 108
        },
        {
         "0": 2,
         "index": 9,
         "_deepnote_index_column": 109
        },
        {
         "0": 2,
         "index": 10,
         "_deepnote_index_column": 110
        },
        {
         "0": 1,
         "index": 11,
         "_deepnote_index_column": 111
        },
        {
         "0": 1,
         "index": 12,
         "_deepnote_index_column": 112
        },
        {
         "0": 2,
         "index": 13,
         "_deepnote_index_column": 113
        },
        {
         "0": 2,
         "index": 14,
         "_deepnote_index_column": 114
        },
        {
         "0": 2,
         "index": 15,
         "_deepnote_index_column": 115
        },
        {
         "0": 1,
         "index": 16,
         "_deepnote_index_column": 116
        },
        {
         "0": 1,
         "index": 17,
         "_deepnote_index_column": 117
        },
        {
         "0": 1,
         "index": 18,
         "_deepnote_index_column": 118
        },
        {
         "0": 2,
         "index": 19,
         "_deepnote_index_column": 119
        },
        {
         "0": 2,
         "index": 20,
         "_deepnote_index_column": 120
        },
        {
         "0": 1,
         "index": 21,
         "_deepnote_index_column": 121
        },
        {
         "0": 1,
         "index": 22,
         "_deepnote_index_column": 122
        },
        {
         "0": 2,
         "index": 23,
         "_deepnote_index_column": 123
        },
        {
         "0": 1,
         "index": 24,
         "_deepnote_index_column": 124
        },
        {
         "0": 2,
         "index": 25,
         "_deepnote_index_column": 125
        },
        {
         "0": 1,
         "index": 26,
         "_deepnote_index_column": 126
        },
        {
         "0": 1,
         "index": 27,
         "_deepnote_index_column": 127
        },
        {
         "0": 2,
         "index": 28,
         "_deepnote_index_column": 128
        },
        {
         "0": 1,
         "index": 29,
         "_deepnote_index_column": 129
        },
        {
         "0": 1,
         "index": 30,
         "_deepnote_index_column": 130
        },
        {
         "0": 1,
         "index": 31,
         "_deepnote_index_column": 131
        },
        {
         "0": 1,
         "index": 32,
         "_deepnote_index_column": 132
        },
        {
         "0": 1,
         "index": 33,
         "_deepnote_index_column": 133
        },
        {
         "0": 1,
         "index": 34,
         "_deepnote_index_column": 134
        },
        {
         "0": 1,
         "index": 35,
         "_deepnote_index_column": 135
        },
        {
         "0": 2,
         "index": 36,
         "_deepnote_index_column": 136
        },
        {
         "0": 2,
         "index": 37,
         "_deepnote_index_column": 137
        },
        {
         "0": 1,
         "index": 38,
         "_deepnote_index_column": 138
        },
        {
         "0": 2,
         "index": 39,
         "_deepnote_index_column": 139
        },
        {
         "0": 2,
         "index": 40,
         "_deepnote_index_column": 140
        },
        {
         "0": 2,
         "index": 41,
         "_deepnote_index_column": 141
        },
        {
         "0": 2,
         "index": 42,
         "_deepnote_index_column": 142
        },
        {
         "0": 1,
         "index": 43,
         "_deepnote_index_column": 143
        },
        {
         "0": 1,
         "index": 44,
         "_deepnote_index_column": 144
        },
        {
         "0": 2,
         "index": 45,
         "_deepnote_index_column": 145
        },
        {
         "0": 1,
         "index": 46,
         "_deepnote_index_column": 146
        },
        {
         "0": 2,
         "index": 47,
         "_deepnote_index_column": 147
        },
        {
         "0": 2,
         "index": 48,
         "_deepnote_index_column": 148
        },
        {
         "0": 1,
         "index": 49,
         "_deepnote_index_column": 149
        },
        {
         "0": 2,
         "index": 50,
         "_deepnote_index_column": 150
        },
        {
         "0": 1,
         "index": 51,
         "_deepnote_index_column": 151
        },
        {
         "0": 1,
         "index": 52,
         "_deepnote_index_column": 152
        },
        {
         "0": 1,
         "index": 53,
         "_deepnote_index_column": 153
        },
        {
         "0": 2,
         "index": 54,
         "_deepnote_index_column": 154
        },
        {
         "0": 1,
         "index": 55,
         "_deepnote_index_column": 155
        },
        {
         "0": 2,
         "index": 56,
         "_deepnote_index_column": 156
        },
        {
         "0": 1,
         "index": 57,
         "_deepnote_index_column": 157
        },
        {
         "0": 2,
         "index": 58,
         "_deepnote_index_column": 158
        },
        {
         "0": 1,
         "index": 59,
         "_deepnote_index_column": 159
        },
        {
         "0": 2,
         "index": 60,
         "_deepnote_index_column": 160
        },
        {
         "0": 2,
         "index": 61,
         "_deepnote_index_column": 161
        },
        {
         "0": 2,
         "index": 62,
         "_deepnote_index_column": 162
        },
        {
         "0": 2,
         "index": 63,
         "_deepnote_index_column": 163
        },
        {
         "0": 1,
         "index": 64,
         "_deepnote_index_column": 164
        },
        {
         "0": 1,
         "index": 65,
         "_deepnote_index_column": 165
        },
        {
         "0": 2,
         "index": 66,
         "_deepnote_index_column": 166
        },
        {
         "0": 1,
         "index": 67,
         "_deepnote_index_column": 167
        },
        {
         "0": 2,
         "index": 68,
         "_deepnote_index_column": 168
        },
        {
         "0": 2,
         "index": 69,
         "_deepnote_index_column": 169
        },
        {
         "0": 2,
         "index": 70,
         "_deepnote_index_column": 170
        },
        {
         "0": 2,
         "index": 71,
         "_deepnote_index_column": 171
        },
        {
         "0": 2,
         "index": 72,
         "_deepnote_index_column": 172
        },
        {
         "0": 1,
         "index": 73,
         "_deepnote_index_column": 173
        },
        {
         "0": 1,
         "index": 74,
         "_deepnote_index_column": 174
        },
        {
         "0": 1,
         "index": 75,
         "_deepnote_index_column": 175
        },
        {
         "0": 1,
         "index": 76,
         "_deepnote_index_column": 176
        },
        {
         "0": 1,
         "index": 77,
         "_deepnote_index_column": 177
        },
        {
         "0": 2,
         "index": 78,
         "_deepnote_index_column": 178
        },
        {
         "0": 2,
         "index": 79,
         "_deepnote_index_column": 179
        },
        {
         "0": 1,
         "index": 80,
         "_deepnote_index_column": 180
        },
        {
         "0": 2,
         "index": 81,
         "_deepnote_index_column": 181
        },
        {
         "0": 2,
         "index": 82,
         "_deepnote_index_column": 182
        },
        {
         "0": 1,
         "index": 83,
         "_deepnote_index_column": 183
        },
        {
         "0": 2,
         "index": 84,
         "_deepnote_index_column": 184
        },
        {
         "0": 1,
         "index": 85,
         "_deepnote_index_column": 185
        },
        {
         "0": 1,
         "index": 86,
         "_deepnote_index_column": 186
        },
        {
         "0": 1,
         "index": 87,
         "_deepnote_index_column": 187
        },
        {
         "0": 2,
         "index": 88,
         "_deepnote_index_column": 188
        },
        {
         "0": 1,
         "index": 89,
         "_deepnote_index_column": 189
        },
        {
         "0": 2,
         "index": 90,
         "_deepnote_index_column": 190
        },
        {
         "0": 2,
         "index": 91,
         "_deepnote_index_column": 191
        },
        {
         "0": 1,
         "index": 92,
         "_deepnote_index_column": 192
        },
        {
         "0": 1,
         "index": 93,
         "_deepnote_index_column": 193
        },
        {
         "0": 1,
         "index": 94,
         "_deepnote_index_column": 194
        },
        {
         "0": 2,
         "index": 95,
         "_deepnote_index_column": 195
        },
        {
         "0": 1,
         "index": 96,
         "_deepnote_index_column": 196
        },
        {
         "0": 2,
         "index": 97,
         "_deepnote_index_column": 197
        },
        {
         "0": 1,
         "index": 98,
         "_deepnote_index_column": 198
        },
        {
         "0": 2,
         "index": 99,
         "_deepnote_index_column": 199
        },
        {
         "0": 17860,
         "index": 0,
         "_deepnote_index_column": 200
        },
        {
         "0": 14026,
         "index": 1,
         "_deepnote_index_column": 201
        },
        {
         "0": 11954,
         "index": 2,
         "_deepnote_index_column": 202
        },
        {
         "0": 29932,
         "index": 3,
         "_deepnote_index_column": 203
        },
        {
         "0": 14096,
         "index": 4,
         "_deepnote_index_column": 204
        },
        {
         "0": 18754,
         "index": 5,
         "_deepnote_index_column": 205
        },
        {
         "0": 11140,
         "index": 6,
         "_deepnote_index_column": 206
        },
        {
         "0": 29762,
         "index": 7,
         "_deepnote_index_column": 207
        },
        {
         "0": 19197,
         "index": 8,
         "_deepnote_index_column": 208
        },
        {
         "0": 19452,
         "index": 9,
         "_deepnote_index_column": 209
        },
        {
         "0": 19454,
         "index": 10,
         "_deepnote_index_column": 210
        },
        {
         "0": 21752,
         "index": 11,
         "_deepnote_index_column": 211
        },
        {
         "0": 29252,
         "index": 12,
         "_deepnote_index_column": 212
        },
        {
         "0": 12878,
         "index": 13,
         "_deepnote_index_column": 213
        },
        {
         "0": 20987,
         "index": 14,
         "_deepnote_index_column": 214
        },
        {
         "0": 14119,
         "index": 15,
         "_deepnote_index_column": 215
        },
        {
         "0": 24494,
         "index": 16,
         "_deepnote_index_column": 216
        },
        {
         "0": 28081,
         "index": 17,
         "_deepnote_index_column": 217
        },
        {
         "0": 14784,
         "index": 18,
         "_deepnote_index_column": 218
        },
        {
         "0": 13390,
         "index": 19,
         "_deepnote_index_column": 219
        },
        {
         "0": 12731,
         "index": 20,
         "_deepnote_index_column": 220
        },
        {
         "0": 28078,
         "index": 21,
         "_deepnote_index_column": 221
        },
        {
         "0": 10366,
         "index": 22,
         "_deepnote_index_column": 222
        },
        {
         "0": 22756,
         "index": 23,
         "_deepnote_index_column": 223
        },
        {
         "0": 17881,
         "index": 24,
         "_deepnote_index_column": 224
        },
        {
         "0": 18671,
         "index": 25,
         "_deepnote_index_column": 225
        },
        {
         "0": 11393,
         "index": 26,
         "_deepnote_index_column": 226
        },
        {
         "0": 13981,
         "index": 27,
         "_deepnote_index_column": 227
        },
        {
         "0": 12510,
         "index": 28,
         "_deepnote_index_column": 228
        },
        {
         "0": 15511,
         "index": 29,
         "_deepnote_index_column": 229
        },
        {
         "0": 14152,
         "index": 30,
         "_deepnote_index_column": 230
        },
        {
         "0": 15457,
         "index": 31,
         "_deepnote_index_column": 231
        },
        {
         "0": 14269,
         "index": 32,
         "_deepnote_index_column": 232
        },
        {
         "0": 12539,
         "index": 33,
         "_deepnote_index_column": 233
        },
        {
         "0": 27243,
         "index": 34,
         "_deepnote_index_column": 234
        },
        {
         "0": 29788,
         "index": 35,
         "_deepnote_index_column": 235
        },
        {
         "0": 11988,
         "index": 36,
         "_deepnote_index_column": 236
        },
        {
         "0": 12933,
         "index": 37,
         "_deepnote_index_column": 237
        },
        {
         "0": 15705,
         "index": 38,
         "_deepnote_index_column": 238
        },
        {
         "0": 17912,
         "index": 39,
         "_deepnote_index_column": 239
        },
        {
         "0": 29447,
         "index": 40,
         "_deepnote_index_column": 240
        },
        {
         "0": 10772,
         "index": 41,
         "_deepnote_index_column": 241
        },
        {
         "0": 16978,
         "index": 42,
         "_deepnote_index_column": 242
        },
        {
         "0": 10547,
         "index": 43,
         "_deepnote_index_column": 243
        },
        {
         "0": 26407,
         "index": 44,
         "_deepnote_index_column": 244
        },
        {
         "0": 25434,
         "index": 45,
         "_deepnote_index_column": 245
        },
        {
         "0": 10749,
         "index": 46,
         "_deepnote_index_column": 246
        },
        {
         "0": 22655,
         "index": 47,
         "_deepnote_index_column": 247
        },
        {
         "0": 29886,
         "index": 48,
         "_deepnote_index_column": 248
        },
        {
         "0": 16632,
         "index": 49,
         "_deepnote_index_column": 249
        },
        {
         "0": 16505,
         "index": 50,
         "_deepnote_index_column": 250
        },
        {
         "0": 10808,
         "index": 51,
         "_deepnote_index_column": 251
        },
        {
         "0": 13171,
         "index": 52,
         "_deepnote_index_column": 252
        },
        {
         "0": 29038,
         "index": 53,
         "_deepnote_index_column": 253
        },
        {
         "0": 24064,
         "index": 54,
         "_deepnote_index_column": 254
        },
        {
         "0": 13733,
         "index": 55,
         "_deepnote_index_column": 255
        },
        {
         "0": 25202,
         "index": 56,
         "_deepnote_index_column": 256
        },
        {
         "0": 29578,
         "index": 57,
         "_deepnote_index_column": 257
        },
        {
         "0": 26660,
         "index": 58,
         "_deepnote_index_column": 258
        },
        {
         "0": 17097,
         "index": 59,
         "_deepnote_index_column": 259
        },
        {
         "0": 13943,
         "index": 60,
         "_deepnote_index_column": 260
        },
        {
         "0": 22187,
         "index": 61,
         "_deepnote_index_column": 261
        },
        {
         "0": 25428,
         "index": 62,
         "_deepnote_index_column": 262
        },
        {
         "0": 29754,
         "index": 63,
         "_deepnote_index_column": 263
        },
        {
         "0": 21852,
         "index": 64,
         "_deepnote_index_column": 264
        },
        {
         "0": 24579,
         "index": 65,
         "_deepnote_index_column": 265
        },
        {
         "0": 15442,
         "index": 66,
         "_deepnote_index_column": 266
        },
        {
         "0": 21195,
         "index": 67,
         "_deepnote_index_column": 267
        },
        {
         "0": 29917,
         "index": 68,
         "_deepnote_index_column": 268
        },
        {
         "0": 29487,
         "index": 69,
         "_deepnote_index_column": 269
        },
        {
         "0": 13888,
         "index": 70,
         "_deepnote_index_column": 270
        },
        {
         "0": 25012,
         "index": 71,
         "_deepnote_index_column": 271
        },
        {
         "0": 19190,
         "index": 72,
         "_deepnote_index_column": 272
        },
        {
         "0": 21186,
         "index": 73,
         "_deepnote_index_column": 273
        },
        {
         "0": 29680,
         "index": 74,
         "_deepnote_index_column": 274
        },
        {
         "0": 22004,
         "index": 75,
         "_deepnote_index_column": 275
        },
        {
         "0": 19420,
         "index": 76,
         "_deepnote_index_column": 276
        },
        {
         "0": 15334,
         "index": 77,
         "_deepnote_index_column": 277
        },
        {
         "0": 17369,
         "index": 78,
         "_deepnote_index_column": 278
        },
        {
         "0": 11507,
         "index": 79,
         "_deepnote_index_column": 279
        },
        {
         "0": 24932,
         "index": 80,
         "_deepnote_index_column": 280
        },
        {
         "0": 19263,
         "index": 81,
         "_deepnote_index_column": 281
        },
        {
         "0": 21703,
         "index": 82,
         "_deepnote_index_column": 282
        },
        {
         "0": 14192,
         "index": 83,
         "_deepnote_index_column": 283
        },
        {
         "0": 22250,
         "index": 84,
         "_deepnote_index_column": 284
        },
        {
         "0": 26351,
         "index": 85,
         "_deepnote_index_column": 285
        },
        {
         "0": 20205,
         "index": 86,
         "_deepnote_index_column": 286
        },
        {
         "0": 20093,
         "index": 87,
         "_deepnote_index_column": 287
        },
        {
         "0": 24587,
         "index": 88,
         "_deepnote_index_column": 288
        },
        {
         "0": 24554,
         "index": 89,
         "_deepnote_index_column": 289
        },
        {
         "0": 16068,
         "index": 90,
         "_deepnote_index_column": 290
        },
        {
         "0": 26070,
         "index": 91,
         "_deepnote_index_column": 291
        },
        {
         "0": 16555,
         "index": 92,
         "_deepnote_index_column": 292
        },
        {
         "0": 23136,
         "index": 93,
         "_deepnote_index_column": 293
        },
        {
         "0": 18569,
         "index": 94,
         "_deepnote_index_column": 294
        },
        {
         "0": 21116,
         "index": 95,
         "_deepnote_index_column": 295
        },
        {
         "0": 16690,
         "index": 96,
         "_deepnote_index_column": 296
        },
        {
         "0": 27465,
         "index": 97,
         "_deepnote_index_column": 297
        },
        {
         "0": 10321,
         "index": 98,
         "_deepnote_index_column": 298
        },
        {
         "0": 17096,
         "index": 99,
         "_deepnote_index_column": 299
        }
       ],
       "rows_bottom": null
      },
      "text/plain": "     index      0\n0        0      3\n1        1      3\n2        2      2\n3        3      2\n4        4      2\n..     ...    ...\n295     95  21116\n296     96  16690\n297     97  27465\n298     98  10321\n299     99  17096\n\n[300 rows x 2 columns]",
      "text/html": "<div>\n<style scoped>\n    .dataframe tbody tr th:only-of-type {\n        vertical-align: middle;\n    }\n\n    .dataframe tbody tr th {\n        vertical-align: top;\n    }\n\n    .dataframe thead th {\n        text-align: right;\n    }\n</style>\n<table border=\"1\" class=\"dataframe\">\n  <thead>\n    <tr style=\"text-align: right;\">\n      <th></th>\n      <th>index</th>\n      <th>0</th>\n    </tr>\n  </thead>\n  <tbody>\n    <tr>\n      <th>0</th>\n      <td>0</td>\n      <td>3</td>\n    </tr>\n    <tr>\n      <th>1</th>\n      <td>1</td>\n      <td>3</td>\n    </tr>\n    <tr>\n      <th>2</th>\n      <td>2</td>\n      <td>2</td>\n    </tr>\n    <tr>\n      <th>3</th>\n      <td>3</td>\n      <td>2</td>\n    </tr>\n    <tr>\n      <th>4</th>\n      <td>4</td>\n      <td>2</td>\n    </tr>\n    <tr>\n      <th>...</th>\n      <td>...</td>\n      <td>...</td>\n    </tr>\n    <tr>\n      <th>295</th>\n      <td>95</td>\n      <td>21116</td>\n    </tr>\n    <tr>\n      <th>296</th>\n      <td>96</td>\n      <td>16690</td>\n    </tr>\n    <tr>\n      <th>297</th>\n      <td>97</td>\n      <td>27465</td>\n    </tr>\n    <tr>\n      <th>298</th>\n      <td>98</td>\n      <td>10321</td>\n    </tr>\n    <tr>\n      <th>299</th>\n      <td>99</td>\n      <td>17096</td>\n    </tr>\n  </tbody>\n</table>\n<p>300 rows × 2 columns</p>\n</div>"
     },
     "metadata": {}
    }
   ],
   "execution_count": null
  },
  {
   "cell_type": "markdown",
   "source": "<a style='text-decoration:none;line-height:16px;display:flex;color:#5B5B62;padding:10px;justify-content:end;' href='https://deepnote.com?utm_source=created-in-deepnote-cell&projectId=fe744348-fecc-4b7a-803c-44dba24ecb38' target=\"_blank\">\n<img alt='Created in deepnote.com' style='display:inline;max-height:16px;margin:0px;margin-right:7.5px;' src='data:image/svg+xml;base64,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' > </img>\nCreated in <span style='font-weight:600;margin-left:4px;'>Deepnote</span></a>",
   "metadata": {
    "tags": [],
    "created_in_deepnote_cell": true,
    "deepnote_cell_type": "markdown"
   }
  }
 ],
 "nbformat": 4,
 "nbformat_minor": 0,
 "metadata": {
  "kernelspec": {
   "display_name": "Python 2",
   "language": "python",
   "name": "python2"
  },
  "language_info": {
   "codemirror_mode": {
    "name": "ipython",
    "version": 2
   },
   "file_extension": ".py",
   "mimetype": "text/x-python",
   "name": "python",
   "nbconvert_exporter": "python",
   "pygments_lexer": "ipython2",
   "version": "2.7.11"
  },
  "colab": {
   "name": "Exercises.ipynb",
   "provenance": [],
   "collapsed_sections": []
  },
  "deepnote_notebook_id": "31a96704-42ba-4a4a-9d8b-c199a72d9fe4",
  "deepnote": {},
  "deepnote_execution_queue": []
 }
}
{
 "cells": [
  {
   "cell_type": "markdown",
   "source": "# MPG Cars",
   "metadata": {
    "id": "t1B7hle1V-WJ",
    "cell_id": "00000-124af0a2-e771-4ce3-b7cb-e17679d6f393",
    "deepnote_cell_type": "markdown"
   }
  },
  {
   "cell_type": "markdown",
   "source": "### Introduction:\n\nThe following exercise utilizes data from [UC Irvine Machine Learning Repository](https://archive.ics.uci.edu/ml/datasets/Auto+MPG)\n\n### Step 1. Import the necessary libraries",
   "metadata": {
    "id": "0f6T1-vbV-WL",
    "cell_id": "00001-bd7fa27e-8396-4010-9da3-5a4d2029bc77",
    "deepnote_cell_type": "markdown"
   }
  },
  {
   "cell_type": "code",
   "metadata": {
    "id": "b9wfuTtnV-WM",
    "executionInfo": {
     "status": "ok",
     "timestamp": 1623721515672,
     "user_tz": 240,
     "elapsed": 165,
     "user": {
      "displayName": "Andrés Sánchez",
      "photoUrl": "https://lh3.googleusercontent.com/a-/AOh14Gg69bZMv30ckb-T1MJy0nSxWIHUaP0p2uP6MYBuvQ=s64",
      "userId": "07985253921366566280"
     }
    },
    "cell_id": "00002-eee667fb-98f8-4350-8804-798c1c43f36a",
    "deepnote_to_be_reexecuted": false,
    "source_hash": "c76c7c51",
    "execution_start": 1630097994206,
    "execution_millis": 3,
    "deepnote_cell_type": "code"
   },
   "source": "import pandas as pd\nimport numpy as np",
   "outputs": [],
   "execution_count": null
  },
  {
   "cell_type": "markdown",
   "source": "### Step 2. Import the first dataset [cars1](https://raw.githubusercontent.com/guipsamora/pandas_exercises/master/05_Merge/Auto_MPG/cars1.csv) and [cars2](https://raw.githubusercontent.com/guipsamora/pandas_exercises/master/05_Merge/Auto_MPG/cars2.csv).  ",
   "metadata": {
    "id": "HkBqZOqcV-WM",
    "cell_id": "00003-fba7be9b-3234-4a55-8622-5f907439c399",
    "deepnote_cell_type": "markdown"
   }
  },
  {
   "cell_type": "markdown",
   "source": "   ### Step 3. Assign each to a variable called cars1 and cars2",
   "metadata": {
    "id": "vRRFZofXV-WN",
    "cell_id": "00004-f5b0fbad-384a-421f-a4e5-db25e6cff447",
    "deepnote_cell_type": "markdown"
   }
  },
  {
   "cell_type": "code",
   "metadata": {
    "id": "R0hA5VRVV-WN",
    "executionInfo": {
     "status": "ok",
     "timestamp": 1623721570683,
     "user_tz": 240,
     "elapsed": 324,
     "user": {
      "displayName": "Andrés Sánchez",
      "photoUrl": "https://lh3.googleusercontent.com/a-/AOh14Gg69bZMv30ckb-T1MJy0nSxWIHUaP0p2uP6MYBuvQ=s64",
      "userId": "07985253921366566280"
     }
    },
    "cell_id": "00005-6838faf4-3699-42da-af03-1f64fa1c701e",
    "deepnote_to_be_reexecuted": false,
    "source_hash": "8c14d19b",
    "execution_start": 1630097994213,
    "execution_millis": 189,
    "deepnote_cell_type": "code"
   },
   "source": "cars1 = pd.read_csv('https://raw.githubusercontent.com/guipsamora/pandas_exercises/master/05_Merge/Auto_MPG/cars1.csv')\ncars2 = pd.read_csv('https://raw.githubusercontent.com/guipsamora/pandas_exercises/master/05_Merge/Auto_MPG/cars2.csv')",
   "outputs": [],
   "execution_count": null
  },
  {
   "cell_type": "markdown",
   "source": "### Step 4. Oops, it seems our first dataset has some unnamed blank columns, fix cars1",
   "metadata": {
    "id": "phzv7Qs8V-WN",
    "cell_id": "00006-16f78c3d-8c4d-4eec-b31e-6877b3e60d9a",
    "deepnote_cell_type": "markdown"
   }
  },
  {
   "cell_type": "code",
   "metadata": {
    "id": "K89nSIZLV-WO",
    "executionInfo": {
     "status": "ok",
     "timestamp": 1623721681957,
     "user_tz": 240,
     "elapsed": 167,
     "user": {
      "displayName": "Andrés Sánchez",
      "photoUrl": "https://lh3.googleusercontent.com/a-/AOh14Gg69bZMv30ckb-T1MJy0nSxWIHUaP0p2uP6MYBuvQ=s64",
      "userId": "07985253921366566280"
     }
    },
    "cell_id": "00007-273752ef-587f-4a0c-943d-eed107a33a2d",
    "deepnote_to_be_reexecuted": false,
    "source_hash": "42dcbca1",
    "execution_start": 1630098098702,
    "execution_millis": 6,
    "deepnote_cell_type": "code"
   },
   "source": "cars1 = cars1.iloc[:,:-5]\ncars1.shape",
   "outputs": [
    {
     "output_type": "execute_result",
     "execution_count": 12,
     "data": {
      "text/plain": "(198, 0)"
     },
     "metadata": {}
    }
   ],
   "execution_count": null
  },
  {
   "cell_type": "markdown",
   "source": "### Step 5. What is the number of observations in each dataset?",
   "metadata": {
    "id": "-s5ovphuV-WO",
    "cell_id": "00008-5ba35fa3-c210-4f4b-adb3-b5e39d26efbd",
    "deepnote_cell_type": "markdown"
   }
  },
  {
   "cell_type": "code",
   "metadata": {
    "colab": {
     "base_uri": "https://localhost:8080/"
    },
    "id": "9fVWiQRQV-WO",
    "executionInfo": {
     "status": "ok",
     "timestamp": 1623721914610,
     "user_tz": 240,
     "elapsed": 169,
     "user": {
      "displayName": "Andrés Sánchez",
      "photoUrl": "https://lh3.googleusercontent.com/a-/AOh14Gg69bZMv30ckb-T1MJy0nSxWIHUaP0p2uP6MYBuvQ=s64",
      "userId": "07985253921366566280"
     }
    },
    "outputId": "a36f8855-fe75-4ae0-a920-3d917b37308f",
    "cell_id": "00009-4e579904-ad34-456b-a1ac-e8c0fca1753a",
    "deepnote_to_be_reexecuted": false,
    "source_hash": "6796ac4f",
    "execution_start": 1630098208118,
    "execution_millis": 7,
    "deepnote_cell_type": "code"
   },
   "source": "print('cars1: '+ str(cars1.shape) + ' and cars2: ' + str(cars2.shape))",
   "outputs": [
    {
     "name": "stdout",
     "text": "cars1: (198, 0) and cars2: (200, 9)\n",
     "output_type": "stream"
    }
   ],
   "execution_count": null
  },
  {
   "cell_type": "code",
   "metadata": {
    "colab": {
     "base_uri": "https://localhost:8080/"
    },
    "id": "2McFmRH4Xrcs",
    "executionInfo": {
     "status": "ok",
     "timestamp": 1623721956694,
     "user_tz": 240,
     "elapsed": 170,
     "user": {
      "displayName": "Andrés Sánchez",
      "photoUrl": "https://lh3.googleusercontent.com/a-/AOh14Gg69bZMv30ckb-T1MJy0nSxWIHUaP0p2uP6MYBuvQ=s64",
      "userId": "07985253921366566280"
     }
    },
    "outputId": "e2b060dd-8bd0-4bff-c550-9a2ece7cf47f",
    "cell_id": "00010-5e30986b-d24e-4106-b131-b8fa5663bcc4",
    "deepnote_to_be_reexecuted": false,
    "source_hash": "cae7c333",
    "execution_start": 1630098210212,
    "execution_millis": 5,
    "deepnote_cell_type": "code"
   },
   "source": "cars1.columns",
   "outputs": [
    {
     "output_type": "execute_result",
     "execution_count": 17,
     "data": {
      "text/plain": "Index([], dtype='object')"
     },
     "metadata": {}
    }
   ],
   "execution_count": null
  },
  {
   "cell_type": "markdown",
   "source": "### Step 6. Join cars1 and cars2 into a single DataFrame called cars",
   "metadata": {
    "id": "vZlZ1ZclV-WO",
    "cell_id": "00011-96ccbb3f-c99a-4709-8544-4edf9d29bdd3",
    "deepnote_cell_type": "markdown"
   }
  },
  {
   "cell_type": "code",
   "metadata": {
    "id": "CcUAkFSHV-WP",
    "executionInfo": {
     "status": "ok",
     "timestamp": 1623722038576,
     "user_tz": 240,
     "elapsed": 162,
     "user": {
      "displayName": "Andrés Sánchez",
      "photoUrl": "https://lh3.googleusercontent.com/a-/AOh14Gg69bZMv30ckb-T1MJy0nSxWIHUaP0p2uP6MYBuvQ=s64",
      "userId": "07985253921366566280"
     }
    },
    "cell_id": "00012-33bb7577-07de-42bc-b7d1-41632933fe49",
    "deepnote_to_be_reexecuted": false,
    "source_hash": "82e3be1e",
    "execution_start": 1630098212576,
    "execution_millis": 1,
    "deepnote_cell_type": "code"
   },
   "source": "cars = cars1.append(cars2)",
   "outputs": [],
   "execution_count": null
  },
  {
   "cell_type": "markdown",
   "source": "### Step 7. Oops, there is a column missing, called owners. Create a random number Series from 15,000 to 73,000.",
   "metadata": {
    "id": "w2ZmTcDTV-WP",
    "cell_id": "00013-b937323b-6658-4766-a370-908b29ed09f9",
    "deepnote_cell_type": "markdown"
   }
  },
  {
   "cell_type": "code",
   "metadata": {
    "id": "QpqeY3WdV-WP",
    "executionInfo": {
     "status": "ok",
     "timestamp": 1623722705941,
     "user_tz": 240,
     "elapsed": 172,
     "user": {
      "displayName": "Andrés Sánchez",
      "photoUrl": "https://lh3.googleusercontent.com/a-/AOh14Gg69bZMv30ckb-T1MJy0nSxWIHUaP0p2uP6MYBuvQ=s64",
      "userId": "07985253921366566280"
     }
    },
    "cell_id": "00014-4822d7cf-6986-49ac-bf61-c5af0eaa2b90",
    "deepnote_to_be_reexecuted": false,
    "source_hash": "1976d278",
    "execution_start": 1630098214434,
    "execution_millis": 5,
    "deepnote_cell_type": "code"
   },
   "source": "cars['owners'] = np.random.randint(15000, 73000, size = cars.shape[0])",
   "outputs": [],
   "execution_count": null
  },
  {
   "cell_type": "markdown",
   "source": "<a style='text-decoration:none;line-height:16px;display:flex;color:#5B5B62;padding:10px;justify-content:end;' href='https://deepnote.com?utm_source=created-in-deepnote-cell&projectId=fe744348-fecc-4b7a-803c-44dba24ecb38' target=\"_blank\">\n<img alt='Created in deepnote.com' style='display:inline;max-height:16px;margin:0px;margin-right:7.5px;' src='data:image/svg+xml;base64,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' > </img>\nCreated in <span style='font-weight:600;margin-left:4px;'>Deepnote</span></a>",
   "metadata": {
    "tags": [],
    "created_in_deepnote_cell": true,
    "deepnote_cell_type": "markdown"
   }
  }
 ],
 "nbformat": 4,
 "nbformat_minor": 0,
 "metadata": {
  "anaconda-cloud": {},
  "kernelspec": {
   "display_name": "Python [default]",
   "language": "python",
   "name": "python2"
  },
  "language_info": {
   "codemirror_mode": {
    "name": "ipython",
    "version": 2
   },
   "file_extension": ".py",
   "mimetype": "text/x-python",
   "name": "python",
   "nbconvert_exporter": "python",
   "pygments_lexer": "ipython2",
   "version": "2.7.12"
  },
  "colab": {
   "name": "Exercises.ipynb",
   "provenance": [],
   "collapsed_sections": []
  },
  "deepnote_notebook_id": "b042253c-3bd5-41bd-b8d1-d29ba6876b1e",
  "deepnote": {},
  "deepnote_execution_queue": []
 }
}
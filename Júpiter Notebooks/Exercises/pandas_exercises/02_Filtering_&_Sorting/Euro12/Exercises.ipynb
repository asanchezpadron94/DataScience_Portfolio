{
 "cells": [
  {
   "cell_type": "markdown",
   "source": "# Ex2 - Filtering and Sorting Data",
   "metadata": {
    "id": "oG4_gA8Qvjbu",
    "cell_id": "00000-f730f243-1d20-4beb-80f4-c9ae3f77f678",
    "deepnote_cell_type": "markdown"
   }
  },
  {
   "cell_type": "markdown",
   "source": "This time we are going to pull data directly from the internet.\n\n### Step 1. Import the necessary libraries",
   "metadata": {
    "id": "IyCCjbYlvjbw",
    "cell_id": "00001-70c3f082-0933-4354-a494-e85f2e3e7d9b",
    "deepnote_cell_type": "markdown"
   }
  },
  {
   "cell_type": "code",
   "metadata": {
    "id": "eLOLUquEvjbx",
    "executionInfo": {
     "status": "ok",
     "timestamp": 1623210379432,
     "user_tz": 240,
     "elapsed": 142,
     "user": {
      "displayName": "Andrés Sánchez",
      "photoUrl": "https://lh3.googleusercontent.com/a-/AOh14Gg69bZMv30ckb-T1MJy0nSxWIHUaP0p2uP6MYBuvQ=s64",
      "userId": "07985253921366566280"
     }
    },
    "cell_id": "00002-d0d0a85d-7cc3-448a-a5db-43cbd464d3cf",
    "deepnote_to_be_reexecuted": false,
    "source_hash": "c76c7c51",
    "execution_start": 1630097904436,
    "execution_millis": 3,
    "deepnote_cell_type": "code"
   },
   "source": "import pandas as pd\nimport numpy as np",
   "outputs": [],
   "execution_count": null
  },
  {
   "cell_type": "markdown",
   "source": "### Step 2. Import the dataset from this [address](https://raw.githubusercontent.com/guipsamora/pandas_exercises/master/02_Filtering_%26_Sorting/Euro12/Euro_2012_stats_TEAM.csv). ",
   "metadata": {
    "id": "6pMj2tX7vjbx",
    "cell_id": "00003-9b977740-82a7-4ceb-a134-78d81ffd1928",
    "deepnote_cell_type": "markdown"
   }
  },
  {
   "cell_type": "markdown",
   "source": "### Step 3. Assign it to a variable called euro12.",
   "metadata": {
    "id": "edNKnRZYvjbx",
    "cell_id": "00004-661551a8-8d73-4e07-9ca8-a64bb9124368",
    "deepnote_cell_type": "markdown"
   }
  },
  {
   "cell_type": "code",
   "metadata": {
    "id": "FSCj7UUmvjbx",
    "executionInfo": {
     "status": "ok",
     "timestamp": 1623210379734,
     "user_tz": 240,
     "elapsed": 163,
     "user": {
      "displayName": "Andrés Sánchez",
      "photoUrl": "https://lh3.googleusercontent.com/a-/AOh14Gg69bZMv30ckb-T1MJy0nSxWIHUaP0p2uP6MYBuvQ=s64",
      "userId": "07985253921366566280"
     }
    },
    "cell_id": "00005-0c906c67-1cb2-4263-b3d1-b606b68dad24",
    "deepnote_to_be_reexecuted": false,
    "source_hash": "4296e85f",
    "execution_start": 1630097904442,
    "execution_millis": 117,
    "deepnote_cell_type": "code"
   },
   "source": "euro12 = pd.read_csv('https://raw.githubusercontent.com/guipsamora/pandas_exercises/master/02_Filtering_%26_Sorting/Euro12/Euro_2012_stats_TEAM.csv')",
   "outputs": [],
   "execution_count": null
  },
  {
   "cell_type": "markdown",
   "source": "### Step 4. Select only the Goal column.",
   "metadata": {
    "id": "czAvHVbCvjby",
    "cell_id": "00006-8b116d9d-662c-46cf-8592-9e27cc492bb8",
    "deepnote_cell_type": "markdown"
   }
  },
  {
   "cell_type": "code",
   "metadata": {
    "colab": {
     "base_uri": "https://localhost:8080/"
    },
    "id": "MsoSYexXvjby",
    "executionInfo": {
     "status": "ok",
     "timestamp": 1623210379734,
     "user_tz": 240,
     "elapsed": 17,
     "user": {
      "displayName": "Andrés Sánchez",
      "photoUrl": "https://lh3.googleusercontent.com/a-/AOh14Gg69bZMv30ckb-T1MJy0nSxWIHUaP0p2uP6MYBuvQ=s64",
      "userId": "07985253921366566280"
     }
    },
    "outputId": "5fbca9a8-d4b8-48a3-f88f-cbc29d0b1265",
    "cell_id": "00007-64843824-fb67-4ddc-9339-06a2c7ca6e54",
    "deepnote_to_be_reexecuted": false,
    "source_hash": "3c31a9cb",
    "execution_start": 1630097904572,
    "execution_millis": 23,
    "deepnote_cell_type": "code"
   },
   "source": "euro12.columns",
   "outputs": [
    {
     "output_type": "execute_result",
     "execution_count": 3,
     "data": {
      "text/plain": "Index(['Team', 'Goals', 'Shots on target', 'Shots off target',\n       'Shooting Accuracy', '% Goals-to-shots', 'Total shots (inc. Blocked)',\n       'Hit Woodwork', 'Penalty goals', 'Penalties not scored', 'Headed goals',\n       'Passes', 'Passes completed', 'Passing Accuracy', 'Touches', 'Crosses',\n       'Dribbles', 'Corners Taken', 'Tackles', 'Clearances', 'Interceptions',\n       'Clearances off line', 'Clean Sheets', 'Blocks', 'Goals conceded',\n       'Saves made', 'Saves-to-shots ratio', 'Fouls Won', 'Fouls Conceded',\n       'Offsides', 'Yellow Cards', 'Red Cards', 'Subs on', 'Subs off',\n       'Players Used'],\n      dtype='object')"
     },
     "metadata": {}
    }
   ],
   "execution_count": null
  },
  {
   "cell_type": "code",
   "metadata": {
    "colab": {
     "base_uri": "https://localhost:8080/"
    },
    "id": "Mg9-Cn-iw7oF",
    "executionInfo": {
     "status": "ok",
     "timestamp": 1623210379735,
     "user_tz": 240,
     "elapsed": 16,
     "user": {
      "displayName": "Andrés Sánchez",
      "photoUrl": "https://lh3.googleusercontent.com/a-/AOh14Gg69bZMv30ckb-T1MJy0nSxWIHUaP0p2uP6MYBuvQ=s64",
      "userId": "07985253921366566280"
     }
    },
    "outputId": "20efacf4-3487-4d1c-80b5-24fda2d704d2",
    "cell_id": "00008-f623701d-10a6-411d-b7dd-a7a72da2631b",
    "deepnote_to_be_reexecuted": false,
    "source_hash": "c98de6f8",
    "execution_start": 1630097904595,
    "execution_millis": 10,
    "deepnote_cell_type": "code"
   },
   "source": "euro12['Goals']",
   "outputs": [
    {
     "output_type": "execute_result",
     "execution_count": 4,
     "data": {
      "text/plain": "0      4\n1      4\n2      4\n3      5\n4      3\n5     10\n6      5\n7      6\n8      2\n9      2\n10     6\n11     1\n12     5\n13    12\n14     5\n15     2\nName: Goals, dtype: int64"
     },
     "metadata": {}
    }
   ],
   "execution_count": null
  },
  {
   "cell_type": "markdown",
   "source": "### Step 5. How many team participated in the Euro2012?",
   "metadata": {
    "id": "ZoLjdDNZvjby",
    "cell_id": "00009-0adee44e-391c-465d-b0d4-48b5fa6c8cac",
    "deepnote_cell_type": "markdown"
   }
  },
  {
   "cell_type": "code",
   "metadata": {
    "colab": {
     "base_uri": "https://localhost:8080/"
    },
    "id": "VRfSJX4wvjby",
    "executionInfo": {
     "status": "ok",
     "timestamp": 1623210379735,
     "user_tz": 240,
     "elapsed": 13,
     "user": {
      "displayName": "Andrés Sánchez",
      "photoUrl": "https://lh3.googleusercontent.com/a-/AOh14Gg69bZMv30ckb-T1MJy0nSxWIHUaP0p2uP6MYBuvQ=s64",
      "userId": "07985253921366566280"
     }
    },
    "outputId": "0a5cf958-5773-4c57-c832-9c718695c3f7",
    "cell_id": "00010-1339856a-72e8-4693-a4d1-6ee67f0417d7",
    "deepnote_to_be_reexecuted": false,
    "source_hash": "6aef7ec1",
    "execution_start": 1630097904596,
    "execution_millis": 0,
    "deepnote_cell_type": "code"
   },
   "source": "euro12['Team'].nunique()",
   "outputs": [
    {
     "output_type": "execute_result",
     "execution_count": 5,
     "data": {
      "text/plain": "16"
     },
     "metadata": {}
    }
   ],
   "execution_count": null
  },
  {
   "cell_type": "markdown",
   "source": "### Step 6. What is the number of columns in the dataset?",
   "metadata": {
    "id": "3a4xl8M7vjby",
    "cell_id": "00011-46cbe21a-f0a6-4ae3-8b82-41aeb9427d74",
    "deepnote_cell_type": "markdown"
   }
  },
  {
   "cell_type": "code",
   "metadata": {
    "colab": {
     "base_uri": "https://localhost:8080/"
    },
    "id": "Z75z-ll5vjby",
    "executionInfo": {
     "status": "ok",
     "timestamp": 1623210379736,
     "user_tz": 240,
     "elapsed": 13,
     "user": {
      "displayName": "Andrés Sánchez",
      "photoUrl": "https://lh3.googleusercontent.com/a-/AOh14Gg69bZMv30ckb-T1MJy0nSxWIHUaP0p2uP6MYBuvQ=s64",
      "userId": "07985253921366566280"
     }
    },
    "outputId": "4d5a1449-cfcf-47a2-9557-efd5e38e787d",
    "cell_id": "00012-24a8b270-ec1c-4f48-9e90-a8f1eb430043",
    "deepnote_to_be_reexecuted": false,
    "source_hash": "b6295d5e",
    "execution_start": 1630097904597,
    "execution_millis": 2,
    "deepnote_cell_type": "code"
   },
   "source": "len(list(euro12.columns))",
   "outputs": [
    {
     "output_type": "execute_result",
     "execution_count": 6,
     "data": {
      "text/plain": "35"
     },
     "metadata": {}
    }
   ],
   "execution_count": null
  },
  {
   "cell_type": "markdown",
   "source": "### Step 7. View only the columns Team, Yellow Cards and Red Cards and assign them to a dataframe called discipline",
   "metadata": {
    "id": "LkrYzpk2vjbz",
    "cell_id": "00013-77d4c4ba-0cab-47f6-ad95-36e5cc15f449",
    "deepnote_cell_type": "markdown"
   }
  },
  {
   "cell_type": "code",
   "metadata": {
    "id": "sem0kdvIvjbz",
    "executionInfo": {
     "status": "ok",
     "timestamp": 1623210379736,
     "user_tz": 240,
     "elapsed": 11,
     "user": {
      "displayName": "Andrés Sánchez",
      "photoUrl": "https://lh3.googleusercontent.com/a-/AOh14Gg69bZMv30ckb-T1MJy0nSxWIHUaP0p2uP6MYBuvQ=s64",
      "userId": "07985253921366566280"
     }
    },
    "cell_id": "00014-2a807c0f-f380-426e-9a89-cc10fa37f6c9",
    "deepnote_to_be_reexecuted": false,
    "source_hash": "ceee2b79",
    "execution_start": 1630097904621,
    "execution_millis": 1,
    "deepnote_cell_type": "code"
   },
   "source": "discipline = euro12[['Team','Yellow Cards', 'Red Cards']]",
   "outputs": [],
   "execution_count": null
  },
  {
   "cell_type": "markdown",
   "source": "### Step 8. Sort the teams by Red Cards, then to Yellow Cards",
   "metadata": {
    "id": "0SGmpQ1-vjbz",
    "cell_id": "00015-dbdcf7c9-b2ac-4b28-8a26-3e2cba3ece9a",
    "deepnote_cell_type": "markdown"
   }
  },
  {
   "cell_type": "code",
   "metadata": {
    "scrolled": true,
    "colab": {
     "base_uri": "https://localhost:8080/",
     "height": 521
    },
    "id": "JT1XoWj7vjbz",
    "executionInfo": {
     "status": "ok",
     "timestamp": 1623210379736,
     "user_tz": 240,
     "elapsed": 11,
     "user": {
      "displayName": "Andrés Sánchez",
      "photoUrl": "https://lh3.googleusercontent.com/a-/AOh14Gg69bZMv30ckb-T1MJy0nSxWIHUaP0p2uP6MYBuvQ=s64",
      "userId": "07985253921366566280"
     }
    },
    "outputId": "ab9518f1-9151-4ac2-9845-1edde54fb49a",
    "cell_id": "00016-b4d63616-01c6-4214-bfd0-6402cf75a7d6",
    "deepnote_to_be_reexecuted": false,
    "source_hash": "efdaec58",
    "execution_start": 1630097904621,
    "execution_millis": 7,
    "deepnote_cell_type": "code"
   },
   "source": "discipline.sort_values(by = ['Red Cards','Yellow Cards'], ascending = [False, False])",
   "outputs": [
    {
     "output_type": "execute_result",
     "execution_count": 8,
     "data": {
      "application/vnd.deepnote.dataframe.v2+json": {
       "row_count": 16,
       "column_count": 3,
       "columns": [
        {
         "name": "Team",
         "dtype": "object",
         "stats": {
          "unique_count": 16,
          "nan_count": 0,
          "categories": [
           {
            "name": "Greece",
            "count": 1
           },
           {
            "name": "Poland",
            "count": 1
           },
           {
            "name": "14 others",
            "count": 14
           }
          ]
         }
        },
        {
         "name": "Yellow Cards",
         "dtype": "int64",
         "stats": {
          "unique_count": 8,
          "nan_count": 0,
          "min": "4",
          "max": "16",
          "histogram": [
           {
            "bin_start": 4,
            "bin_end": 5.2,
            "count": 5
           },
           {
            "bin_start": 5.2,
            "bin_end": 6.4,
            "count": 3
           },
           {
            "bin_start": 6.4,
            "bin_end": 7.6,
            "count": 3
           },
           {
            "bin_start": 7.6,
            "bin_end": 8.8,
            "count": 0
           },
           {
            "bin_start": 8.8,
            "bin_end": 10,
            "count": 2
           },
           {
            "bin_start": 10,
            "bin_end": 11.2,
            "count": 1
           },
           {
            "bin_start": 11.2,
            "bin_end": 12.4,
            "count": 1
           },
           {
            "bin_start": 12.4,
            "bin_end": 13.6,
            "count": 0
           },
           {
            "bin_start": 13.6,
            "bin_end": 14.799999999999999,
            "count": 0
           },
           {
            "bin_start": 14.799999999999999,
            "bin_end": 16,
            "count": 1
           }
          ]
         }
        },
        {
         "name": "Red Cards",
         "dtype": "int64",
         "stats": {
          "unique_count": 2,
          "nan_count": 0,
          "min": "0",
          "max": "1",
          "histogram": [
           {
            "bin_start": 0,
            "bin_end": 0.1,
            "count": 13
           },
           {
            "bin_start": 0.1,
            "bin_end": 0.2,
            "count": 0
           },
           {
            "bin_start": 0.2,
            "bin_end": 0.30000000000000004,
            "count": 0
           },
           {
            "bin_start": 0.30000000000000004,
            "bin_end": 0.4,
            "count": 0
           },
           {
            "bin_start": 0.4,
            "bin_end": 0.5,
            "count": 0
           },
           {
            "bin_start": 0.5,
            "bin_end": 0.6000000000000001,
            "count": 0
           },
           {
            "bin_start": 0.6000000000000001,
            "bin_end": 0.7000000000000001,
            "count": 0
           },
           {
            "bin_start": 0.7000000000000001,
            "bin_end": 0.8,
            "count": 0
           },
           {
            "bin_start": 0.8,
            "bin_end": 0.9,
            "count": 0
           },
           {
            "bin_start": 0.9,
            "bin_end": 1,
            "count": 3
           }
          ]
         }
        },
        {
         "name": "_deepnote_index_column",
         "dtype": "int64"
        }
       ],
       "rows_top": [
        {
         "Team": "Greece",
         "Yellow Cards": 9,
         "Red Cards": 1,
         "_deepnote_index_column": 6
        },
        {
         "Team": "Poland",
         "Yellow Cards": 7,
         "Red Cards": 1,
         "_deepnote_index_column": 9
        },
        {
         "Team": "Republic of Ireland",
         "Yellow Cards": 6,
         "Red Cards": 1,
         "_deepnote_index_column": 11
        },
        {
         "Team": "Italy",
         "Yellow Cards": 16,
         "Red Cards": 0,
         "_deepnote_index_column": 7
        },
        {
         "Team": "Portugal",
         "Yellow Cards": 12,
         "Red Cards": 0,
         "_deepnote_index_column": 10
        },
        {
         "Team": "Spain",
         "Yellow Cards": 11,
         "Red Cards": 0,
         "_deepnote_index_column": 13
        },
        {
         "Team": "Croatia",
         "Yellow Cards": 9,
         "Red Cards": 0,
         "_deepnote_index_column": 0
        },
        {
         "Team": "Czech Republic",
         "Yellow Cards": 7,
         "Red Cards": 0,
         "_deepnote_index_column": 1
        },
        {
         "Team": "Sweden",
         "Yellow Cards": 7,
         "Red Cards": 0,
         "_deepnote_index_column": 14
        },
        {
         "Team": "France",
         "Yellow Cards": 6,
         "Red Cards": 0,
         "_deepnote_index_column": 4
        },
        {
         "Team": "Russia",
         "Yellow Cards": 6,
         "Red Cards": 0,
         "_deepnote_index_column": 12
        },
        {
         "Team": "England",
         "Yellow Cards": 5,
         "Red Cards": 0,
         "_deepnote_index_column": 3
        },
        {
         "Team": "Netherlands",
         "Yellow Cards": 5,
         "Red Cards": 0,
         "_deepnote_index_column": 8
        },
        {
         "Team": "Ukraine",
         "Yellow Cards": 5,
         "Red Cards": 0,
         "_deepnote_index_column": 15
        },
        {
         "Team": "Denmark",
         "Yellow Cards": 4,
         "Red Cards": 0,
         "_deepnote_index_column": 2
        },
        {
         "Team": "Germany",
         "Yellow Cards": 4,
         "Red Cards": 0,
         "_deepnote_index_column": 5
        }
       ],
       "rows_bottom": null
      },
      "text/plain": "                   Team  Yellow Cards  Red Cards\n6                Greece             9          1\n9                Poland             7          1\n11  Republic of Ireland             6          1\n7                 Italy            16          0\n10             Portugal            12          0\n13                Spain            11          0\n0               Croatia             9          0\n1        Czech Republic             7          0\n14               Sweden             7          0\n4                France             6          0\n12               Russia             6          0\n3               England             5          0\n8           Netherlands             5          0\n15              Ukraine             5          0\n2               Denmark             4          0\n5               Germany             4          0",
      "text/html": "<div>\n<style scoped>\n    .dataframe tbody tr th:only-of-type {\n        vertical-align: middle;\n    }\n\n    .dataframe tbody tr th {\n        vertical-align: top;\n    }\n\n    .dataframe thead th {\n        text-align: right;\n    }\n</style>\n<table border=\"1\" class=\"dataframe\">\n  <thead>\n    <tr style=\"text-align: right;\">\n      <th></th>\n      <th>Team</th>\n      <th>Yellow Cards</th>\n      <th>Red Cards</th>\n    </tr>\n  </thead>\n  <tbody>\n    <tr>\n      <th>6</th>\n      <td>Greece</td>\n      <td>9</td>\n      <td>1</td>\n    </tr>\n    <tr>\n      <th>9</th>\n      <td>Poland</td>\n      <td>7</td>\n      <td>1</td>\n    </tr>\n    <tr>\n      <th>11</th>\n      <td>Republic of Ireland</td>\n      <td>6</td>\n      <td>1</td>\n    </tr>\n    <tr>\n      <th>7</th>\n      <td>Italy</td>\n      <td>16</td>\n      <td>0</td>\n    </tr>\n    <tr>\n      <th>10</th>\n      <td>Portugal</td>\n      <td>12</td>\n      <td>0</td>\n    </tr>\n    <tr>\n      <th>13</th>\n      <td>Spain</td>\n      <td>11</td>\n      <td>0</td>\n    </tr>\n    <tr>\n      <th>0</th>\n      <td>Croatia</td>\n      <td>9</td>\n      <td>0</td>\n    </tr>\n    <tr>\n      <th>1</th>\n      <td>Czech Republic</td>\n      <td>7</td>\n      <td>0</td>\n    </tr>\n    <tr>\n      <th>14</th>\n      <td>Sweden</td>\n      <td>7</td>\n      <td>0</td>\n    </tr>\n    <tr>\n      <th>4</th>\n      <td>France</td>\n      <td>6</td>\n      <td>0</td>\n    </tr>\n    <tr>\n      <th>12</th>\n      <td>Russia</td>\n      <td>6</td>\n      <td>0</td>\n    </tr>\n    <tr>\n      <th>3</th>\n      <td>England</td>\n      <td>5</td>\n      <td>0</td>\n    </tr>\n    <tr>\n      <th>8</th>\n      <td>Netherlands</td>\n      <td>5</td>\n      <td>0</td>\n    </tr>\n    <tr>\n      <th>15</th>\n      <td>Ukraine</td>\n      <td>5</td>\n      <td>0</td>\n    </tr>\n    <tr>\n      <th>2</th>\n      <td>Denmark</td>\n      <td>4</td>\n      <td>0</td>\n    </tr>\n    <tr>\n      <th>5</th>\n      <td>Germany</td>\n      <td>4</td>\n      <td>0</td>\n    </tr>\n  </tbody>\n</table>\n</div>"
     },
     "metadata": {}
    }
   ],
   "execution_count": null
  },
  {
   "cell_type": "markdown",
   "source": "### Step 9. Calculate the mean Yellow Cards given per Team",
   "metadata": {
    "id": "1yO8hbRDvjbz",
    "cell_id": "00017-a05ad86f-5c65-4748-9068-5558e53dd86a",
    "deepnote_cell_type": "markdown"
   }
  },
  {
   "cell_type": "code",
   "metadata": {
    "colab": {
     "base_uri": "https://localhost:8080/",
     "height": 550
    },
    "id": "rfUVwWktvjbz",
    "executionInfo": {
     "status": "ok",
     "timestamp": 1623210379737,
     "user_tz": 240,
     "elapsed": 11,
     "user": {
      "displayName": "Andrés Sánchez",
      "photoUrl": "https://lh3.googleusercontent.com/a-/AOh14Gg69bZMv30ckb-T1MJy0nSxWIHUaP0p2uP6MYBuvQ=s64",
      "userId": "07985253921366566280"
     }
    },
    "outputId": "c7cdd1a4-efbf-4d32-b329-e81ec9237c4b",
    "cell_id": "00018-1a2e2443-5082-4869-b3c2-018e97c58255",
    "deepnote_to_be_reexecuted": false,
    "source_hash": "9614236",
    "execution_start": 1630097904635,
    "execution_millis": 13,
    "deepnote_cell_type": "code"
   },
   "source": "discipline.groupby(by = ['Team'])[['Yellow Cards']].mean()",
   "outputs": [
    {
     "output_type": "execute_result",
     "execution_count": 9,
     "data": {
      "application/vnd.deepnote.dataframe.v2+json": {
       "row_count": 16,
       "column_count": 1,
       "columns": [
        {
         "name": "Yellow Cards",
         "dtype": "int64",
         "stats": {
          "unique_count": 8,
          "nan_count": 0,
          "min": "4",
          "max": "16",
          "histogram": [
           {
            "bin_start": 4,
            "bin_end": 5.2,
            "count": 5
           },
           {
            "bin_start": 5.2,
            "bin_end": 6.4,
            "count": 3
           },
           {
            "bin_start": 6.4,
            "bin_end": 7.6,
            "count": 3
           },
           {
            "bin_start": 7.6,
            "bin_end": 8.8,
            "count": 0
           },
           {
            "bin_start": 8.8,
            "bin_end": 10,
            "count": 2
           },
           {
            "bin_start": 10,
            "bin_end": 11.2,
            "count": 1
           },
           {
            "bin_start": 11.2,
            "bin_end": 12.4,
            "count": 1
           },
           {
            "bin_start": 12.4,
            "bin_end": 13.6,
            "count": 0
           },
           {
            "bin_start": 13.6,
            "bin_end": 14.799999999999999,
            "count": 0
           },
           {
            "bin_start": 14.799999999999999,
            "bin_end": 16,
            "count": 1
           }
          ]
         }
        },
        {
         "name": "_deepnote_index_column",
         "dtype": "object"
        }
       ],
       "rows_top": [
        {
         "Yellow Cards": 9,
         "_deepnote_index_column": "Croatia"
        },
        {
         "Yellow Cards": 7,
         "_deepnote_index_column": "Czech Republic"
        },
        {
         "Yellow Cards": 4,
         "_deepnote_index_column": "Denmark"
        },
        {
         "Yellow Cards": 5,
         "_deepnote_index_column": "England"
        },
        {
         "Yellow Cards": 6,
         "_deepnote_index_column": "France"
        },
        {
         "Yellow Cards": 4,
         "_deepnote_index_column": "Germany"
        },
        {
         "Yellow Cards": 9,
         "_deepnote_index_column": "Greece"
        },
        {
         "Yellow Cards": 16,
         "_deepnote_index_column": "Italy"
        },
        {
         "Yellow Cards": 5,
         "_deepnote_index_column": "Netherlands"
        },
        {
         "Yellow Cards": 7,
         "_deepnote_index_column": "Poland"
        },
        {
         "Yellow Cards": 12,
         "_deepnote_index_column": "Portugal"
        },
        {
         "Yellow Cards": 6,
         "_deepnote_index_column": "Republic of Ireland"
        },
        {
         "Yellow Cards": 6,
         "_deepnote_index_column": "Russia"
        },
        {
         "Yellow Cards": 11,
         "_deepnote_index_column": "Spain"
        },
        {
         "Yellow Cards": 7,
         "_deepnote_index_column": "Sweden"
        },
        {
         "Yellow Cards": 5,
         "_deepnote_index_column": "Ukraine"
        }
       ],
       "rows_bottom": null
      },
      "text/plain": "                     Yellow Cards\nTeam                             \nCroatia                         9\nCzech Republic                  7\nDenmark                         4\nEngland                         5\nFrance                          6\nGermany                         4\nGreece                          9\nItaly                          16\nNetherlands                     5\nPoland                          7\nPortugal                       12\nRepublic of Ireland             6\nRussia                          6\nSpain                          11\nSweden                          7\nUkraine                         5",
      "text/html": "<div>\n<style scoped>\n    .dataframe tbody tr th:only-of-type {\n        vertical-align: middle;\n    }\n\n    .dataframe tbody tr th {\n        vertical-align: top;\n    }\n\n    .dataframe thead th {\n        text-align: right;\n    }\n</style>\n<table border=\"1\" class=\"dataframe\">\n  <thead>\n    <tr style=\"text-align: right;\">\n      <th></th>\n      <th>Yellow Cards</th>\n    </tr>\n    <tr>\n      <th>Team</th>\n      <th></th>\n    </tr>\n  </thead>\n  <tbody>\n    <tr>\n      <th>Croatia</th>\n      <td>9</td>\n    </tr>\n    <tr>\n      <th>Czech Republic</th>\n      <td>7</td>\n    </tr>\n    <tr>\n      <th>Denmark</th>\n      <td>4</td>\n    </tr>\n    <tr>\n      <th>England</th>\n      <td>5</td>\n    </tr>\n    <tr>\n      <th>France</th>\n      <td>6</td>\n    </tr>\n    <tr>\n      <th>Germany</th>\n      <td>4</td>\n    </tr>\n    <tr>\n      <th>Greece</th>\n      <td>9</td>\n    </tr>\n    <tr>\n      <th>Italy</th>\n      <td>16</td>\n    </tr>\n    <tr>\n      <th>Netherlands</th>\n      <td>5</td>\n    </tr>\n    <tr>\n      <th>Poland</th>\n      <td>7</td>\n    </tr>\n    <tr>\n      <th>Portugal</th>\n      <td>12</td>\n    </tr>\n    <tr>\n      <th>Republic of Ireland</th>\n      <td>6</td>\n    </tr>\n    <tr>\n      <th>Russia</th>\n      <td>6</td>\n    </tr>\n    <tr>\n      <th>Spain</th>\n      <td>11</td>\n    </tr>\n    <tr>\n      <th>Sweden</th>\n      <td>7</td>\n    </tr>\n    <tr>\n      <th>Ukraine</th>\n      <td>5</td>\n    </tr>\n  </tbody>\n</table>\n</div>"
     },
     "metadata": {}
    }
   ],
   "execution_count": null
  },
  {
   "cell_type": "markdown",
   "source": "### Step 10. Filter teams that scored more than 6 goals",
   "metadata": {
    "id": "Dw9Dh1ZRvjbz",
    "cell_id": "00019-118678ff-f28d-4f12-a7d0-05a2893330a2",
    "deepnote_cell_type": "markdown"
   }
  },
  {
   "cell_type": "code",
   "metadata": {
    "colab": {
     "base_uri": "https://localhost:8080/",
     "height": 206
    },
    "id": "-EG-lDNbvjb0",
    "executionInfo": {
     "status": "ok",
     "timestamp": 1623210379942,
     "user_tz": 240,
     "elapsed": 215,
     "user": {
      "displayName": "Andrés Sánchez",
      "photoUrl": "https://lh3.googleusercontent.com/a-/AOh14Gg69bZMv30ckb-T1MJy0nSxWIHUaP0p2uP6MYBuvQ=s64",
      "userId": "07985253921366566280"
     }
    },
    "outputId": "9efb8726-59cd-4386-a77b-38069aa15b9d",
    "cell_id": "00020-bf5696dc-916b-453f-845f-f3fe4d7495a2",
    "deepnote_to_be_reexecuted": false,
    "source_hash": "fe40e2d5",
    "execution_start": 1630097904646,
    "execution_millis": 74,
    "deepnote_cell_type": "code"
   },
   "source": "euro12.loc[euro12['Goals'] >6]",
   "outputs": [
    {
     "output_type": "execute_result",
     "execution_count": 10,
     "data": {
      "application/vnd.deepnote.dataframe.v2+json": {
       "row_count": 2,
       "column_count": 35,
       "columns": [
        {
         "name": "Team",
         "dtype": "object",
         "stats": {
          "unique_count": 2,
          "nan_count": 0,
          "categories": [
           {
            "name": "Germany",
            "count": 1
           },
           {
            "name": "Spain",
            "count": 1
           }
          ]
         }
        },
        {
         "name": "Goals",
         "dtype": "int64",
         "stats": {
          "unique_count": 2,
          "nan_count": 0,
          "min": "10",
          "max": "12",
          "histogram": [
           {
            "bin_start": 10,
            "bin_end": 10.2,
            "count": 1
           },
           {
            "bin_start": 10.2,
            "bin_end": 10.4,
            "count": 0
           },
           {
            "bin_start": 10.4,
            "bin_end": 10.6,
            "count": 0
           },
           {
            "bin_start": 10.6,
            "bin_end": 10.8,
            "count": 0
           },
           {
            "bin_start": 10.8,
            "bin_end": 11,
            "count": 0
           },
           {
            "bin_start": 11,
            "bin_end": 11.2,
            "count": 0
           },
           {
            "bin_start": 11.2,
            "bin_end": 11.4,
            "count": 0
           },
           {
            "bin_start": 11.4,
            "bin_end": 11.6,
            "count": 0
           },
           {
            "bin_start": 11.6,
            "bin_end": 11.8,
            "count": 0
           },
           {
            "bin_start": 11.8,
            "bin_end": 12,
            "count": 1
           }
          ]
         }
        },
        {
         "name": "Shots on target",
         "dtype": "int64",
         "stats": {
          "unique_count": 2,
          "nan_count": 0,
          "min": "32",
          "max": "42",
          "histogram": [
           {
            "bin_start": 32,
            "bin_end": 33,
            "count": 1
           },
           {
            "bin_start": 33,
            "bin_end": 34,
            "count": 0
           },
           {
            "bin_start": 34,
            "bin_end": 35,
            "count": 0
           },
           {
            "bin_start": 35,
            "bin_end": 36,
            "count": 0
           },
           {
            "bin_start": 36,
            "bin_end": 37,
            "count": 0
           },
           {
            "bin_start": 37,
            "bin_end": 38,
            "count": 0
           },
           {
            "bin_start": 38,
            "bin_end": 39,
            "count": 0
           },
           {
            "bin_start": 39,
            "bin_end": 40,
            "count": 0
           },
           {
            "bin_start": 40,
            "bin_end": 41,
            "count": 0
           },
           {
            "bin_start": 41,
            "bin_end": 42,
            "count": 1
           }
          ]
         }
        },
        {
         "name": "Shots off target",
         "dtype": "int64",
         "stats": {
          "unique_count": 2,
          "nan_count": 0,
          "min": "32",
          "max": "33",
          "histogram": [
           {
            "bin_start": 32,
            "bin_end": 32.1,
            "count": 1
           },
           {
            "bin_start": 32.1,
            "bin_end": 32.2,
            "count": 0
           },
           {
            "bin_start": 32.2,
            "bin_end": 32.3,
            "count": 0
           },
           {
            "bin_start": 32.3,
            "bin_end": 32.4,
            "count": 0
           },
           {
            "bin_start": 32.4,
            "bin_end": 32.5,
            "count": 0
           },
           {
            "bin_start": 32.5,
            "bin_end": 32.6,
            "count": 0
           },
           {
            "bin_start": 32.6,
            "bin_end": 32.7,
            "count": 0
           },
           {
            "bin_start": 32.7,
            "bin_end": 32.8,
            "count": 0
           },
           {
            "bin_start": 32.8,
            "bin_end": 32.9,
            "count": 0
           },
           {
            "bin_start": 32.9,
            "bin_end": 33,
            "count": 1
           }
          ]
         }
        },
        {
         "name": "Shooting Accuracy",
         "dtype": "object",
         "stats": {
          "unique_count": 2,
          "nan_count": 0,
          "categories": [
           {
            "name": "47.8%",
            "count": 1
           },
           {
            "name": "55.9%",
            "count": 1
           }
          ]
         }
        },
        {
         "name": "% Goals-to-shots",
         "dtype": "object",
         "stats": {
          "unique_count": 2,
          "nan_count": 0,
          "categories": [
           {
            "name": "15.6%",
            "count": 1
           },
           {
            "name": "16.0%",
            "count": 1
           }
          ]
         }
        },
        {
         "name": "Total shots (inc. Blocked)",
         "dtype": "int64",
         "stats": {
          "unique_count": 2,
          "nan_count": 0,
          "min": "80",
          "max": "100",
          "histogram": [
           {
            "bin_start": 80,
            "bin_end": 82,
            "count": 1
           },
           {
            "bin_start": 82,
            "bin_end": 84,
            "count": 0
           },
           {
            "bin_start": 84,
            "bin_end": 86,
            "count": 0
           },
           {
            "bin_start": 86,
            "bin_end": 88,
            "count": 0
           },
           {
            "bin_start": 88,
            "bin_end": 90,
            "count": 0
           },
           {
            "bin_start": 90,
            "bin_end": 92,
            "count": 0
           },
           {
            "bin_start": 92,
            "bin_end": 94,
            "count": 0
           },
           {
            "bin_start": 94,
            "bin_end": 96,
            "count": 0
           },
           {
            "bin_start": 96,
            "bin_end": 98,
            "count": 0
           },
           {
            "bin_start": 98,
            "bin_end": 100,
            "count": 1
           }
          ]
         }
        },
        {
         "name": "Hit Woodwork",
         "dtype": "int64",
         "stats": {
          "unique_count": 2,
          "nan_count": 0,
          "min": "0",
          "max": "2",
          "histogram": [
           {
            "bin_start": 0,
            "bin_end": 0.2,
            "count": 1
           },
           {
            "bin_start": 0.2,
            "bin_end": 0.4,
            "count": 0
           },
           {
            "bin_start": 0.4,
            "bin_end": 0.6000000000000001,
            "count": 0
           },
           {
            "bin_start": 0.6000000000000001,
            "bin_end": 0.8,
            "count": 0
           },
           {
            "bin_start": 0.8,
            "bin_end": 1,
            "count": 0
           },
           {
            "bin_start": 1,
            "bin_end": 1.2000000000000002,
            "count": 0
           },
           {
            "bin_start": 1.2000000000000002,
            "bin_end": 1.4000000000000001,
            "count": 0
           },
           {
            "bin_start": 1.4000000000000001,
            "bin_end": 1.6,
            "count": 0
           },
           {
            "bin_start": 1.6,
            "bin_end": 1.8,
            "count": 0
           },
           {
            "bin_start": 1.8,
            "bin_end": 2,
            "count": 1
           }
          ]
         }
        },
        {
         "name": "Penalty goals",
         "dtype": "int64",
         "stats": {
          "unique_count": 1,
          "nan_count": 0,
          "min": "1",
          "max": "1",
          "histogram": [
           {
            "bin_start": 0.5,
            "bin_end": 0.6,
            "count": 0
           },
           {
            "bin_start": 0.6,
            "bin_end": 0.7,
            "count": 0
           },
           {
            "bin_start": 0.7,
            "bin_end": 0.8,
            "count": 0
           },
           {
            "bin_start": 0.8,
            "bin_end": 0.9,
            "count": 0
           },
           {
            "bin_start": 0.9,
            "bin_end": 1,
            "count": 0
           },
           {
            "bin_start": 1,
            "bin_end": 1.1,
            "count": 2
           },
           {
            "bin_start": 1.1,
            "bin_end": 1.2000000000000002,
            "count": 0
           },
           {
            "bin_start": 1.2000000000000002,
            "bin_end": 1.3,
            "count": 0
           },
           {
            "bin_start": 1.3,
            "bin_end": 1.4,
            "count": 0
           },
           {
            "bin_start": 1.4,
            "bin_end": 1.5,
            "count": 0
           }
          ]
         }
        },
        {
         "name": "Penalties not scored",
         "dtype": "int64",
         "stats": {
          "unique_count": 1,
          "nan_count": 0,
          "min": "0",
          "max": "0",
          "histogram": [
           {
            "bin_start": -0.5,
            "bin_end": -0.4,
            "count": 0
           },
           {
            "bin_start": -0.4,
            "bin_end": -0.3,
            "count": 0
           },
           {
            "bin_start": -0.3,
            "bin_end": -0.19999999999999996,
            "count": 0
           },
           {
            "bin_start": -0.19999999999999996,
            "bin_end": -0.09999999999999998,
            "count": 0
           },
           {
            "bin_start": -0.09999999999999998,
            "bin_end": 0,
            "count": 0
           },
           {
            "bin_start": 0,
            "bin_end": 0.10000000000000009,
            "count": 2
           },
           {
            "bin_start": 0.10000000000000009,
            "bin_end": 0.20000000000000007,
            "count": 0
           },
           {
            "bin_start": 0.20000000000000007,
            "bin_end": 0.30000000000000004,
            "count": 0
           },
           {
            "bin_start": 0.30000000000000004,
            "bin_end": 0.4,
            "count": 0
           },
           {
            "bin_start": 0.4,
            "bin_end": 0.5,
            "count": 0
           }
          ]
         }
        },
        {
         "name": "Headed goals",
         "dtype": "int64",
         "stats": {
          "unique_count": 1,
          "nan_count": 0,
          "min": "2",
          "max": "2",
          "histogram": [
           {
            "bin_start": 1.5,
            "bin_end": 1.6,
            "count": 0
           },
           {
            "bin_start": 1.6,
            "bin_end": 1.7,
            "count": 0
           },
           {
            "bin_start": 1.7,
            "bin_end": 1.8,
            "count": 0
           },
           {
            "bin_start": 1.8,
            "bin_end": 1.9,
            "count": 0
           },
           {
            "bin_start": 1.9,
            "bin_end": 2,
            "count": 0
           },
           {
            "bin_start": 2,
            "bin_end": 2.1,
            "count": 2
           },
           {
            "bin_start": 2.1,
            "bin_end": 2.2,
            "count": 0
           },
           {
            "bin_start": 2.2,
            "bin_end": 2.3,
            "count": 0
           },
           {
            "bin_start": 2.3,
            "bin_end": 2.4,
            "count": 0
           },
           {
            "bin_start": 2.4,
            "bin_end": 2.5,
            "count": 0
           }
          ]
         }
        },
        {
         "name": "Passes",
         "dtype": "int64",
         "stats": {
          "unique_count": 2,
          "nan_count": 0,
          "min": "2774",
          "max": "4317",
          "histogram": [
           {
            "bin_start": 2774,
            "bin_end": 2928.3,
            "count": 1
           },
           {
            "bin_start": 2928.3,
            "bin_end": 3082.6,
            "count": 0
           },
           {
            "bin_start": 3082.6,
            "bin_end": 3236.9,
            "count": 0
           },
           {
            "bin_start": 3236.9,
            "bin_end": 3391.2,
            "count": 0
           },
           {
            "bin_start": 3391.2,
            "bin_end": 3545.5,
            "count": 0
           },
           {
            "bin_start": 3545.5,
            "bin_end": 3699.8,
            "count": 0
           },
           {
            "bin_start": 3699.8,
            "bin_end": 3854.1000000000004,
            "count": 0
           },
           {
            "bin_start": 3854.1000000000004,
            "bin_end": 4008.4,
            "count": 0
           },
           {
            "bin_start": 4008.4,
            "bin_end": 4162.7,
            "count": 0
           },
           {
            "bin_start": 4162.7,
            "bin_end": 4317,
            "count": 1
           }
          ]
         }
        },
        {
         "name": "Passes completed",
         "dtype": "int64",
         "stats": {
          "unique_count": 2,
          "nan_count": 0,
          "min": "2427",
          "max": "3820",
          "histogram": [
           {
            "bin_start": 2427,
            "bin_end": 2566.3,
            "count": 1
           },
           {
            "bin_start": 2566.3,
            "bin_end": 2705.6,
            "count": 0
           },
           {
            "bin_start": 2705.6,
            "bin_end": 2844.9,
            "count": 0
           },
           {
            "bin_start": 2844.9,
            "bin_end": 2984.2,
            "count": 0
           },
           {
            "bin_start": 2984.2,
            "bin_end": 3123.5,
            "count": 0
           },
           {
            "bin_start": 3123.5,
            "bin_end": 3262.8,
            "count": 0
           },
           {
            "bin_start": 3262.8,
            "bin_end": 3402.1000000000004,
            "count": 0
           },
           {
            "bin_start": 3402.1000000000004,
            "bin_end": 3541.4,
            "count": 0
           },
           {
            "bin_start": 3541.4,
            "bin_end": 3680.7,
            "count": 0
           },
           {
            "bin_start": 3680.7,
            "bin_end": 3820,
            "count": 1
           }
          ]
         }
        },
        {
         "name": "Passing Accuracy",
         "dtype": "object",
         "stats": {
          "unique_count": 2,
          "nan_count": 0,
          "categories": [
           {
            "name": "87.4%",
            "count": 1
           },
           {
            "name": "88.4%",
            "count": 1
           }
          ]
         }
        },
        {
         "name": "Touches",
         "dtype": "int64",
         "stats": {
          "unique_count": 2,
          "nan_count": 0,
          "min": "3761",
          "max": "5585",
          "histogram": [
           {
            "bin_start": 3761,
            "bin_end": 3943.4,
            "count": 1
           },
           {
            "bin_start": 3943.4,
            "bin_end": 4125.8,
            "count": 0
           },
           {
            "bin_start": 4125.8,
            "bin_end": 4308.2,
            "count": 0
           },
           {
            "bin_start": 4308.2,
            "bin_end": 4490.6,
            "count": 0
           },
           {
            "bin_start": 4490.6,
            "bin_end": 4673,
            "count": 0
           },
           {
            "bin_start": 4673,
            "bin_end": 4855.4,
            "count": 0
           },
           {
            "bin_start": 4855.4,
            "bin_end": 5037.8,
            "count": 0
           },
           {
            "bin_start": 5037.8,
            "bin_end": 5220.2,
            "count": 0
           },
           {
            "bin_start": 5220.2,
            "bin_end": 5402.6,
            "count": 0
           },
           {
            "bin_start": 5402.6,
            "bin_end": 5585,
            "count": 1
           }
          ]
         }
        },
        {
         "name": "Crosses",
         "dtype": "int64",
         "stats": {
          "unique_count": 2,
          "nan_count": 0,
          "min": "69",
          "max": "101",
          "histogram": [
           {
            "bin_start": 69,
            "bin_end": 72.2,
            "count": 1
           },
           {
            "bin_start": 72.2,
            "bin_end": 75.4,
            "count": 0
           },
           {
            "bin_start": 75.4,
            "bin_end": 78.6,
            "count": 0
           },
           {
            "bin_start": 78.6,
            "bin_end": 81.8,
            "count": 0
           },
           {
            "bin_start": 81.8,
            "bin_end": 85,
            "count": 0
           },
           {
            "bin_start": 85,
            "bin_end": 88.2,
            "count": 0
           },
           {
            "bin_start": 88.2,
            "bin_end": 91.4,
            "count": 0
           },
           {
            "bin_start": 91.4,
            "bin_end": 94.6,
            "count": 0
           },
           {
            "bin_start": 94.6,
            "bin_end": 97.8,
            "count": 0
           },
           {
            "bin_start": 97.8,
            "bin_end": 101,
            "count": 1
           }
          ]
         }
        },
        {
         "name": "Dribbles",
         "dtype": "int64",
         "stats": {
          "unique_count": 2,
          "nan_count": 0,
          "min": "60",
          "max": "106",
          "histogram": [
           {
            "bin_start": 60,
            "bin_end": 64.6,
            "count": 1
           },
           {
            "bin_start": 64.6,
            "bin_end": 69.2,
            "count": 0
           },
           {
            "bin_start": 69.2,
            "bin_end": 73.8,
            "count": 0
           },
           {
            "bin_start": 73.8,
            "bin_end": 78.4,
            "count": 0
           },
           {
            "bin_start": 78.4,
            "bin_end": 83,
            "count": 0
           },
           {
            "bin_start": 83,
            "bin_end": 87.6,
            "count": 0
           },
           {
            "bin_start": 87.6,
            "bin_end": 92.19999999999999,
            "count": 0
           },
           {
            "bin_start": 92.19999999999999,
            "bin_end": 96.8,
            "count": 0
           },
           {
            "bin_start": 96.8,
            "bin_end": 101.4,
            "count": 0
           },
           {
            "bin_start": 101.4,
            "bin_end": 106,
            "count": 1
           }
          ]
         }
        },
        {
         "name": "Corners Taken",
         "dtype": "int64",
         "stats": {
          "unique_count": 2,
          "nan_count": 0,
          "min": "35",
          "max": "44",
          "histogram": [
           {
            "bin_start": 35,
            "bin_end": 35.9,
            "count": 1
           },
           {
            "bin_start": 35.9,
            "bin_end": 36.8,
            "count": 0
           },
           {
            "bin_start": 36.8,
            "bin_end": 37.7,
            "count": 0
           },
           {
            "bin_start": 37.7,
            "bin_end": 38.6,
            "count": 0
           },
           {
            "bin_start": 38.6,
            "bin_end": 39.5,
            "count": 0
           },
           {
            "bin_start": 39.5,
            "bin_end": 40.4,
            "count": 0
           },
           {
            "bin_start": 40.4,
            "bin_end": 41.3,
            "count": 0
           },
           {
            "bin_start": 41.3,
            "bin_end": 42.2,
            "count": 0
           },
           {
            "bin_start": 42.2,
            "bin_end": 43.1,
            "count": 0
           },
           {
            "bin_start": 43.1,
            "bin_end": 44,
            "count": 1
           }
          ]
         }
        },
        {
         "name": "Tackles",
         "dtype": "int64",
         "stats": {
          "unique_count": 2,
          "nan_count": 0,
          "min": "91",
          "max": "122",
          "histogram": [
           {
            "bin_start": 91,
            "bin_end": 94.1,
            "count": 1
           },
           {
            "bin_start": 94.1,
            "bin_end": 97.2,
            "count": 0
           },
           {
            "bin_start": 97.2,
            "bin_end": 100.3,
            "count": 0
           },
           {
            "bin_start": 100.3,
            "bin_end": 103.4,
            "count": 0
           },
           {
            "bin_start": 103.4,
            "bin_end": 106.5,
            "count": 0
           },
           {
            "bin_start": 106.5,
            "bin_end": 109.6,
            "count": 0
           },
           {
            "bin_start": 109.6,
            "bin_end": 112.7,
            "count": 0
           },
           {
            "bin_start": 112.7,
            "bin_end": 115.8,
            "count": 0
           },
           {
            "bin_start": 115.8,
            "bin_end": 118.9,
            "count": 0
           },
           {
            "bin_start": 118.9,
            "bin_end": 122,
            "count": 1
           }
          ]
         }
        },
        {
         "name": "Clearances",
         "dtype": "int64",
         "stats": {
          "unique_count": 2,
          "nan_count": 0,
          "min": "73",
          "max": "102",
          "histogram": [
           {
            "bin_start": 73,
            "bin_end": 75.9,
            "count": 1
           },
           {
            "bin_start": 75.9,
            "bin_end": 78.8,
            "count": 0
           },
           {
            "bin_start": 78.8,
            "bin_end": 81.7,
            "count": 0
           },
           {
            "bin_start": 81.7,
            "bin_end": 84.6,
            "count": 0
           },
           {
            "bin_start": 84.6,
            "bin_end": 87.5,
            "count": 0
           },
           {
            "bin_start": 87.5,
            "bin_end": 90.4,
            "count": 0
           },
           {
            "bin_start": 90.4,
            "bin_end": 93.3,
            "count": 0
           },
           {
            "bin_start": 93.3,
            "bin_end": 96.2,
            "count": 0
           },
           {
            "bin_start": 96.2,
            "bin_end": 99.1,
            "count": 0
           },
           {
            "bin_start": 99.1,
            "bin_end": 102,
            "count": 1
           }
          ]
         }
        },
        {
         "name": "Interceptions",
         "dtype": "int64",
         "stats": {
          "unique_count": 2,
          "nan_count": 0,
          "min": "69",
          "max": "79",
          "histogram": [
           {
            "bin_start": 69,
            "bin_end": 70,
            "count": 1
           },
           {
            "bin_start": 70,
            "bin_end": 71,
            "count": 0
           },
           {
            "bin_start": 71,
            "bin_end": 72,
            "count": 0
           },
           {
            "bin_start": 72,
            "bin_end": 73,
            "count": 0
           },
           {
            "bin_start": 73,
            "bin_end": 74,
            "count": 0
           },
           {
            "bin_start": 74,
            "bin_end": 75,
            "count": 0
           },
           {
            "bin_start": 75,
            "bin_end": 76,
            "count": 0
           },
           {
            "bin_start": 76,
            "bin_end": 77,
            "count": 0
           },
           {
            "bin_start": 77,
            "bin_end": 78,
            "count": 0
           },
           {
            "bin_start": 78,
            "bin_end": 79,
            "count": 1
           }
          ]
         }
        },
        {
         "name": "Clearances off line",
         "dtype": "float64",
         "stats": {
          "unique_count": 1,
          "nan_count": 0,
          "min": "0.0",
          "max": "0.0",
          "histogram": [
           {
            "bin_start": -0.5,
            "bin_end": -0.4,
            "count": 0
           },
           {
            "bin_start": -0.4,
            "bin_end": -0.3,
            "count": 0
           },
           {
            "bin_start": -0.3,
            "bin_end": -0.19999999999999996,
            "count": 0
           },
           {
            "bin_start": -0.19999999999999996,
            "bin_end": -0.09999999999999998,
            "count": 0
           },
           {
            "bin_start": -0.09999999999999998,
            "bin_end": 0,
            "count": 0
           },
           {
            "bin_start": 0,
            "bin_end": 0.10000000000000009,
            "count": 2
           },
           {
            "bin_start": 0.10000000000000009,
            "bin_end": 0.20000000000000007,
            "count": 0
           },
           {
            "bin_start": 0.20000000000000007,
            "bin_end": 0.30000000000000004,
            "count": 0
           },
           {
            "bin_start": 0.30000000000000004,
            "bin_end": 0.4,
            "count": 0
           },
           {
            "bin_start": 0.4,
            "bin_end": 0.5,
            "count": 0
           }
          ]
         }
        },
        {
         "name": "Clean Sheets",
         "dtype": "int64",
         "stats": {
          "unique_count": 2,
          "nan_count": 0,
          "min": "1",
          "max": "5",
          "histogram": [
           {
            "bin_start": 1,
            "bin_end": 1.4,
            "count": 1
           },
           {
            "bin_start": 1.4,
            "bin_end": 1.8,
            "count": 0
           },
           {
            "bin_start": 1.8,
            "bin_end": 2.2,
            "count": 0
           },
           {
            "bin_start": 2.2,
            "bin_end": 2.6,
            "count": 0
           },
           {
            "bin_start": 2.6,
            "bin_end": 3,
            "count": 0
           },
           {
            "bin_start": 3,
            "bin_end": 3.4000000000000004,
            "count": 0
           },
           {
            "bin_start": 3.4000000000000004,
            "bin_end": 3.8000000000000003,
            "count": 0
           },
           {
            "bin_start": 3.8000000000000003,
            "bin_end": 4.2,
            "count": 0
           },
           {
            "bin_start": 4.2,
            "bin_end": 4.6,
            "count": 0
           },
           {
            "bin_start": 4.6,
            "bin_end": 5,
            "count": 1
           }
          ]
         }
        },
        {
         "name": "Blocks",
         "dtype": "int64",
         "stats": {
          "unique_count": 2,
          "nan_count": 0,
          "min": "8",
          "max": "11",
          "histogram": [
           {
            "bin_start": 8,
            "bin_end": 8.3,
            "count": 1
           },
           {
            "bin_start": 8.3,
            "bin_end": 8.6,
            "count": 0
           },
           {
            "bin_start": 8.6,
            "bin_end": 8.9,
            "count": 0
           },
           {
            "bin_start": 8.9,
            "bin_end": 9.2,
            "count": 0
           },
           {
            "bin_start": 9.2,
            "bin_end": 9.5,
            "count": 0
           },
           {
            "bin_start": 9.5,
            "bin_end": 9.8,
            "count": 0
           },
           {
            "bin_start": 9.8,
            "bin_end": 10.1,
            "count": 0
           },
           {
            "bin_start": 10.1,
            "bin_end": 10.4,
            "count": 0
           },
           {
            "bin_start": 10.4,
            "bin_end": 10.7,
            "count": 0
           },
           {
            "bin_start": 10.7,
            "bin_end": 11,
            "count": 1
           }
          ]
         }
        },
        {
         "name": "Goals conceded",
         "dtype": "int64",
         "stats": {
          "unique_count": 2,
          "nan_count": 0,
          "min": "1",
          "max": "6",
          "histogram": [
           {
            "bin_start": 1,
            "bin_end": 1.5,
            "count": 1
           },
           {
            "bin_start": 1.5,
            "bin_end": 2,
            "count": 0
           },
           {
            "bin_start": 2,
            "bin_end": 2.5,
            "count": 0
           },
           {
            "bin_start": 2.5,
            "bin_end": 3,
            "count": 0
           },
           {
            "bin_start": 3,
            "bin_end": 3.5,
            "count": 0
           },
           {
            "bin_start": 3.5,
            "bin_end": 4,
            "count": 0
           },
           {
            "bin_start": 4,
            "bin_end": 4.5,
            "count": 0
           },
           {
            "bin_start": 4.5,
            "bin_end": 5,
            "count": 0
           },
           {
            "bin_start": 5,
            "bin_end": 5.5,
            "count": 0
           },
           {
            "bin_start": 5.5,
            "bin_end": 6,
            "count": 1
           }
          ]
         }
        },
        {
         "name": "Saves made",
         "dtype": "int64",
         "stats": {
          "unique_count": 2,
          "nan_count": 0,
          "min": "10",
          "max": "15",
          "histogram": [
           {
            "bin_start": 10,
            "bin_end": 10.5,
            "count": 1
           },
           {
            "bin_start": 10.5,
            "bin_end": 11,
            "count": 0
           },
           {
            "bin_start": 11,
            "bin_end": 11.5,
            "count": 0
           },
           {
            "bin_start": 11.5,
            "bin_end": 12,
            "count": 0
           },
           {
            "bin_start": 12,
            "bin_end": 12.5,
            "count": 0
           },
           {
            "bin_start": 12.5,
            "bin_end": 13,
            "count": 0
           },
           {
            "bin_start": 13,
            "bin_end": 13.5,
            "count": 0
           },
           {
            "bin_start": 13.5,
            "bin_end": 14,
            "count": 0
           },
           {
            "bin_start": 14,
            "bin_end": 14.5,
            "count": 0
           },
           {
            "bin_start": 14.5,
            "bin_end": 15,
            "count": 1
           }
          ]
         }
        },
        {
         "name": "Saves-to-shots ratio",
         "dtype": "object",
         "stats": {
          "unique_count": 2,
          "nan_count": 0,
          "categories": [
           {
            "name": "62.6%",
            "count": 1
           },
           {
            "name": "93.8%",
            "count": 1
           }
          ]
         }
        },
        {
         "name": "Fouls Won",
         "dtype": "int64",
         "stats": {
          "unique_count": 2,
          "nan_count": 0,
          "min": "63",
          "max": "102",
          "histogram": [
           {
            "bin_start": 63,
            "bin_end": 66.9,
            "count": 1
           },
           {
            "bin_start": 66.9,
            "bin_end": 70.8,
            "count": 0
           },
           {
            "bin_start": 70.8,
            "bin_end": 74.7,
            "count": 0
           },
           {
            "bin_start": 74.7,
            "bin_end": 78.6,
            "count": 0
           },
           {
            "bin_start": 78.6,
            "bin_end": 82.5,
            "count": 0
           },
           {
            "bin_start": 82.5,
            "bin_end": 86.4,
            "count": 0
           },
           {
            "bin_start": 86.4,
            "bin_end": 90.3,
            "count": 0
           },
           {
            "bin_start": 90.3,
            "bin_end": 94.2,
            "count": 0
           },
           {
            "bin_start": 94.2,
            "bin_end": 98.1,
            "count": 0
           },
           {
            "bin_start": 98.1,
            "bin_end": 102,
            "count": 1
           }
          ]
         }
        },
        {
         "name": "Fouls Conceded",
         "dtype": "int64",
         "stats": {
          "unique_count": 2,
          "nan_count": 0,
          "min": "49",
          "max": "83",
          "histogram": [
           {
            "bin_start": 49,
            "bin_end": 52.4,
            "count": 1
           },
           {
            "bin_start": 52.4,
            "bin_end": 55.8,
            "count": 0
           },
           {
            "bin_start": 55.8,
            "bin_end": 59.2,
            "count": 0
           },
           {
            "bin_start": 59.2,
            "bin_end": 62.6,
            "count": 0
           },
           {
            "bin_start": 62.6,
            "bin_end": 66,
            "count": 0
           },
           {
            "bin_start": 66,
            "bin_end": 69.4,
            "count": 0
           },
           {
            "bin_start": 69.4,
            "bin_end": 72.8,
            "count": 0
           },
           {
            "bin_start": 72.8,
            "bin_end": 76.2,
            "count": 0
           },
           {
            "bin_start": 76.2,
            "bin_end": 79.6,
            "count": 0
           },
           {
            "bin_start": 79.6,
            "bin_end": 83,
            "count": 1
           }
          ]
         }
        },
        {
         "name": "Offsides",
         "dtype": "int64",
         "stats": {
          "unique_count": 2,
          "nan_count": 0,
          "min": "12",
          "max": "19",
          "histogram": [
           {
            "bin_start": 12,
            "bin_end": 12.7,
            "count": 1
           },
           {
            "bin_start": 12.7,
            "bin_end": 13.4,
            "count": 0
           },
           {
            "bin_start": 13.4,
            "bin_end": 14.1,
            "count": 0
           },
           {
            "bin_start": 14.1,
            "bin_end": 14.8,
            "count": 0
           },
           {
            "bin_start": 14.8,
            "bin_end": 15.5,
            "count": 0
           },
           {
            "bin_start": 15.5,
            "bin_end": 16.2,
            "count": 0
           },
           {
            "bin_start": 16.2,
            "bin_end": 16.9,
            "count": 0
           },
           {
            "bin_start": 16.9,
            "bin_end": 17.6,
            "count": 0
           },
           {
            "bin_start": 17.6,
            "bin_end": 18.3,
            "count": 0
           },
           {
            "bin_start": 18.3,
            "bin_end": 19,
            "count": 1
           }
          ]
         }
        },
        {
         "name": "Yellow Cards",
         "dtype": "int64",
         "stats": {
          "unique_count": 2,
          "nan_count": 0,
          "min": "4",
          "max": "11",
          "histogram": [
           {
            "bin_start": 4,
            "bin_end": 4.7,
            "count": 1
           },
           {
            "bin_start": 4.7,
            "bin_end": 5.4,
            "count": 0
           },
           {
            "bin_start": 5.4,
            "bin_end": 6.1,
            "count": 0
           },
           {
            "bin_start": 6.1,
            "bin_end": 6.8,
            "count": 0
           },
           {
            "bin_start": 6.8,
            "bin_end": 7.5,
            "count": 0
           },
           {
            "bin_start": 7.5,
            "bin_end": 8.2,
            "count": 0
           },
           {
            "bin_start": 8.2,
            "bin_end": 8.899999999999999,
            "count": 0
           },
           {
            "bin_start": 8.899999999999999,
            "bin_end": 9.6,
            "count": 0
           },
           {
            "bin_start": 9.6,
            "bin_end": 10.3,
            "count": 0
           },
           {
            "bin_start": 10.3,
            "bin_end": 11,
            "count": 1
           }
          ]
         }
        },
        {
         "name": "Red Cards",
         "dtype": "int64",
         "stats": {
          "unique_count": 1,
          "nan_count": 0,
          "min": "0",
          "max": "0",
          "histogram": [
           {
            "bin_start": -0.5,
            "bin_end": -0.4,
            "count": 0
           },
           {
            "bin_start": -0.4,
            "bin_end": -0.3,
            "count": 0
           },
           {
            "bin_start": -0.3,
            "bin_end": -0.19999999999999996,
            "count": 0
           },
           {
            "bin_start": -0.19999999999999996,
            "bin_end": -0.09999999999999998,
            "count": 0
           },
           {
            "bin_start": -0.09999999999999998,
            "bin_end": 0,
            "count": 0
           },
           {
            "bin_start": 0,
            "bin_end": 0.10000000000000009,
            "count": 2
           },
           {
            "bin_start": 0.10000000000000009,
            "bin_end": 0.20000000000000007,
            "count": 0
           },
           {
            "bin_start": 0.20000000000000007,
            "bin_end": 0.30000000000000004,
            "count": 0
           },
           {
            "bin_start": 0.30000000000000004,
            "bin_end": 0.4,
            "count": 0
           },
           {
            "bin_start": 0.4,
            "bin_end": 0.5,
            "count": 0
           }
          ]
         }
        },
        {
         "name": "Subs on",
         "dtype": "int64",
         "stats": {
          "unique_count": 2,
          "nan_count": 0,
          "min": "15",
          "max": "17",
          "histogram": [
           {
            "bin_start": 15,
            "bin_end": 15.2,
            "count": 1
           },
           {
            "bin_start": 15.2,
            "bin_end": 15.4,
            "count": 0
           },
           {
            "bin_start": 15.4,
            "bin_end": 15.6,
            "count": 0
           },
           {
            "bin_start": 15.6,
            "bin_end": 15.8,
            "count": 0
           },
           {
            "bin_start": 15.8,
            "bin_end": 16,
            "count": 0
           },
           {
            "bin_start": 16,
            "bin_end": 16.2,
            "count": 0
           },
           {
            "bin_start": 16.2,
            "bin_end": 16.4,
            "count": 0
           },
           {
            "bin_start": 16.4,
            "bin_end": 16.6,
            "count": 0
           },
           {
            "bin_start": 16.6,
            "bin_end": 16.8,
            "count": 0
           },
           {
            "bin_start": 16.8,
            "bin_end": 17,
            "count": 1
           }
          ]
         }
        },
        {
         "name": "Subs off",
         "dtype": "int64",
         "stats": {
          "unique_count": 2,
          "nan_count": 0,
          "min": "15",
          "max": "17",
          "histogram": [
           {
            "bin_start": 15,
            "bin_end": 15.2,
            "count": 1
           },
           {
            "bin_start": 15.2,
            "bin_end": 15.4,
            "count": 0
           },
           {
            "bin_start": 15.4,
            "bin_end": 15.6,
            "count": 0
           },
           {
            "bin_start": 15.6,
            "bin_end": 15.8,
            "count": 0
           },
           {
            "bin_start": 15.8,
            "bin_end": 16,
            "count": 0
           },
           {
            "bin_start": 16,
            "bin_end": 16.2,
            "count": 0
           },
           {
            "bin_start": 16.2,
            "bin_end": 16.4,
            "count": 0
           },
           {
            "bin_start": 16.4,
            "bin_end": 16.6,
            "count": 0
           },
           {
            "bin_start": 16.6,
            "bin_end": 16.8,
            "count": 0
           },
           {
            "bin_start": 16.8,
            "bin_end": 17,
            "count": 1
           }
          ]
         }
        },
        {
         "name": "Players Used",
         "dtype": "int64",
         "stats": {
          "unique_count": 2,
          "nan_count": 0,
          "min": "17",
          "max": "18",
          "histogram": [
           {
            "bin_start": 17,
            "bin_end": 17.1,
            "count": 1
           },
           {
            "bin_start": 17.1,
            "bin_end": 17.2,
            "count": 0
           },
           {
            "bin_start": 17.2,
            "bin_end": 17.3,
            "count": 0
           },
           {
            "bin_start": 17.3,
            "bin_end": 17.4,
            "count": 0
           },
           {
            "bin_start": 17.4,
            "bin_end": 17.5,
            "count": 0
           },
           {
            "bin_start": 17.5,
            "bin_end": 17.6,
            "count": 0
           },
           {
            "bin_start": 17.6,
            "bin_end": 17.7,
            "count": 0
           },
           {
            "bin_start": 17.7,
            "bin_end": 17.8,
            "count": 0
           },
           {
            "bin_start": 17.8,
            "bin_end": 17.9,
            "count": 0
           },
           {
            "bin_start": 17.9,
            "bin_end": 18,
            "count": 1
           }
          ]
         }
        },
        {
         "name": "_deepnote_index_column",
         "dtype": "int64"
        }
       ],
       "rows_top": [
        {
         "Team": "Germany",
         "Goals": 10,
         "Shots on target": 32,
         "Shots off target": 32,
         "Shooting Accuracy": "47.8%",
         "% Goals-to-shots": "15.6%",
         "Total shots (inc. Blocked)": 80,
         "Hit Woodwork": 2,
         "Penalty goals": 1,
         "Penalties not scored": 0,
         "Headed goals": 2,
         "Passes": 2774,
         "Passes completed": 2427,
         "Passing Accuracy": "87.4%",
         "Touches": 3761,
         "Crosses": 101,
         "Dribbles": 60,
         "Corners Taken": 35,
         "Tackles": 91,
         "Clearances": 73,
         "Interceptions": 69,
         "Clearances off line": 0,
         "Clean Sheets": 1,
         "Blocks": 11,
         "Goals conceded": 6,
         "Saves made": 10,
         "Saves-to-shots ratio": "62.6%",
         "Fouls Won": 63,
         "Fouls Conceded": 49,
         "Offsides": 12,
         "Yellow Cards": 4,
         "Red Cards": 0,
         "Subs on": 15,
         "Subs off": 15,
         "Players Used": 17,
         "_deepnote_index_column": 5
        },
        {
         "Team": "Spain",
         "Goals": 12,
         "Shots on target": 42,
         "Shots off target": 33,
         "Shooting Accuracy": "55.9%",
         "% Goals-to-shots": "16.0%",
         "Total shots (inc. Blocked)": 100,
         "Hit Woodwork": 0,
         "Penalty goals": 1,
         "Penalties not scored": 0,
         "Headed goals": 2,
         "Passes": 4317,
         "Passes completed": 3820,
         "Passing Accuracy": "88.4%",
         "Touches": 5585,
         "Crosses": 69,
         "Dribbles": 106,
         "Corners Taken": 44,
         "Tackles": 122,
         "Clearances": 102,
         "Interceptions": 79,
         "Clearances off line": 0,
         "Clean Sheets": 5,
         "Blocks": 8,
         "Goals conceded": 1,
         "Saves made": 15,
         "Saves-to-shots ratio": "93.8%",
         "Fouls Won": 102,
         "Fouls Conceded": 83,
         "Offsides": 19,
         "Yellow Cards": 11,
         "Red Cards": 0,
         "Subs on": 17,
         "Subs off": 17,
         "Players Used": 18,
         "_deepnote_index_column": 13
        }
       ],
       "rows_bottom": null
      },
      "text/plain": "       Team  Goals  Shots on target  Shots off target Shooting Accuracy  \\\n5   Germany     10               32                32             47.8%   \n13    Spain     12               42                33             55.9%   \n\n   % Goals-to-shots  Total shots (inc. Blocked)  Hit Woodwork  Penalty goals  \\\n5             15.6%                          80             2              1   \n13            16.0%                         100             0              1   \n\n    Penalties not scored  ...  Saves made  Saves-to-shots ratio  Fouls Won  \\\n5                      0  ...          10                 62.6%         63   \n13                     0  ...          15                 93.8%        102   \n\n   Fouls Conceded  Offsides  Yellow Cards  Red Cards  Subs on  Subs off  \\\n5              49        12             4          0       15        15   \n13             83        19            11          0       17        17   \n\n    Players Used  \n5             17  \n13            18  \n\n[2 rows x 35 columns]",
      "text/html": "<div>\n<style scoped>\n    .dataframe tbody tr th:only-of-type {\n        vertical-align: middle;\n    }\n\n    .dataframe tbody tr th {\n        vertical-align: top;\n    }\n\n    .dataframe thead th {\n        text-align: right;\n    }\n</style>\n<table border=\"1\" class=\"dataframe\">\n  <thead>\n    <tr style=\"text-align: right;\">\n      <th></th>\n      <th>Team</th>\n      <th>Goals</th>\n      <th>Shots on target</th>\n      <th>Shots off target</th>\n      <th>Shooting Accuracy</th>\n      <th>% Goals-to-shots</th>\n      <th>Total shots (inc. Blocked)</th>\n      <th>Hit Woodwork</th>\n      <th>Penalty goals</th>\n      <th>Penalties not scored</th>\n      <th>...</th>\n      <th>Saves made</th>\n      <th>Saves-to-shots ratio</th>\n      <th>Fouls Won</th>\n      <th>Fouls Conceded</th>\n      <th>Offsides</th>\n      <th>Yellow Cards</th>\n      <th>Red Cards</th>\n      <th>Subs on</th>\n      <th>Subs off</th>\n      <th>Players Used</th>\n    </tr>\n  </thead>\n  <tbody>\n    <tr>\n      <th>5</th>\n      <td>Germany</td>\n      <td>10</td>\n      <td>32</td>\n      <td>32</td>\n      <td>47.8%</td>\n      <td>15.6%</td>\n      <td>80</td>\n      <td>2</td>\n      <td>1</td>\n      <td>0</td>\n      <td>...</td>\n      <td>10</td>\n      <td>62.6%</td>\n      <td>63</td>\n      <td>49</td>\n      <td>12</td>\n      <td>4</td>\n      <td>0</td>\n      <td>15</td>\n      <td>15</td>\n      <td>17</td>\n    </tr>\n    <tr>\n      <th>13</th>\n      <td>Spain</td>\n      <td>12</td>\n      <td>42</td>\n      <td>33</td>\n      <td>55.9%</td>\n      <td>16.0%</td>\n      <td>100</td>\n      <td>0</td>\n      <td>1</td>\n      <td>0</td>\n      <td>...</td>\n      <td>15</td>\n      <td>93.8%</td>\n      <td>102</td>\n      <td>83</td>\n      <td>19</td>\n      <td>11</td>\n      <td>0</td>\n      <td>17</td>\n      <td>17</td>\n      <td>18</td>\n    </tr>\n  </tbody>\n</table>\n<p>2 rows × 35 columns</p>\n</div>"
     },
     "metadata": {}
    }
   ],
   "execution_count": null
  },
  {
   "cell_type": "markdown",
   "source": "### Step 11. Select the teams that start with G",
   "metadata": {
    "id": "Gv2jvHlCvjb0",
    "cell_id": "00021-80007e3f-61cd-475f-8a91-155b2c1201a7",
    "deepnote_cell_type": "markdown"
   }
  },
  {
   "cell_type": "code",
   "metadata": {
    "colab": {
     "base_uri": "https://localhost:8080/",
     "height": 206
    },
    "id": "-fg02Fp2vjb0",
    "executionInfo": {
     "status": "ok",
     "timestamp": 1623210379943,
     "user_tz": 240,
     "elapsed": 7,
     "user": {
      "displayName": "Andrés Sánchez",
      "photoUrl": "https://lh3.googleusercontent.com/a-/AOh14Gg69bZMv30ckb-T1MJy0nSxWIHUaP0p2uP6MYBuvQ=s64",
      "userId": "07985253921366566280"
     }
    },
    "outputId": "ee30745c-8771-4095-ce33-e915cab87fc4",
    "cell_id": "00022-518b9d80-13f6-419c-a8b2-0fd8758a329d",
    "deepnote_to_be_reexecuted": false,
    "source_hash": "f3d31a34",
    "execution_start": 1630097904780,
    "execution_millis": 15,
    "deepnote_cell_type": "code"
   },
   "source": "euro12.loc[euro12['Team'].str[0:1] == \"G\"]",
   "outputs": [
    {
     "output_type": "execute_result",
     "execution_count": 11,
     "data": {
      "application/vnd.deepnote.dataframe.v2+json": {
       "row_count": 2,
       "column_count": 35,
       "columns": [
        {
         "name": "Team",
         "dtype": "object",
         "stats": {
          "unique_count": 2,
          "nan_count": 0,
          "categories": [
           {
            "name": "Germany",
            "count": 1
           },
           {
            "name": "Greece",
            "count": 1
           }
          ]
         }
        },
        {
         "name": "Goals",
         "dtype": "int64",
         "stats": {
          "unique_count": 2,
          "nan_count": 0,
          "min": "5",
          "max": "10",
          "histogram": [
           {
            "bin_start": 5,
            "bin_end": 5.5,
            "count": 1
           },
           {
            "bin_start": 5.5,
            "bin_end": 6,
            "count": 0
           },
           {
            "bin_start": 6,
            "bin_end": 6.5,
            "count": 0
           },
           {
            "bin_start": 6.5,
            "bin_end": 7,
            "count": 0
           },
           {
            "bin_start": 7,
            "bin_end": 7.5,
            "count": 0
           },
           {
            "bin_start": 7.5,
            "bin_end": 8,
            "count": 0
           },
           {
            "bin_start": 8,
            "bin_end": 8.5,
            "count": 0
           },
           {
            "bin_start": 8.5,
            "bin_end": 9,
            "count": 0
           },
           {
            "bin_start": 9,
            "bin_end": 9.5,
            "count": 0
           },
           {
            "bin_start": 9.5,
            "bin_end": 10,
            "count": 1
           }
          ]
         }
        },
        {
         "name": "Shots on target",
         "dtype": "int64",
         "stats": {
          "unique_count": 2,
          "nan_count": 0,
          "min": "8",
          "max": "32",
          "histogram": [
           {
            "bin_start": 8,
            "bin_end": 10.4,
            "count": 1
           },
           {
            "bin_start": 10.4,
            "bin_end": 12.8,
            "count": 0
           },
           {
            "bin_start": 12.8,
            "bin_end": 15.2,
            "count": 0
           },
           {
            "bin_start": 15.2,
            "bin_end": 17.6,
            "count": 0
           },
           {
            "bin_start": 17.6,
            "bin_end": 20,
            "count": 0
           },
           {
            "bin_start": 20,
            "bin_end": 22.4,
            "count": 0
           },
           {
            "bin_start": 22.4,
            "bin_end": 24.8,
            "count": 0
           },
           {
            "bin_start": 24.8,
            "bin_end": 27.2,
            "count": 0
           },
           {
            "bin_start": 27.2,
            "bin_end": 29.599999999999998,
            "count": 0
           },
           {
            "bin_start": 29.599999999999998,
            "bin_end": 32,
            "count": 1
           }
          ]
         }
        },
        {
         "name": "Shots off target",
         "dtype": "int64",
         "stats": {
          "unique_count": 2,
          "nan_count": 0,
          "min": "18",
          "max": "32",
          "histogram": [
           {
            "bin_start": 18,
            "bin_end": 19.4,
            "count": 1
           },
           {
            "bin_start": 19.4,
            "bin_end": 20.8,
            "count": 0
           },
           {
            "bin_start": 20.8,
            "bin_end": 22.2,
            "count": 0
           },
           {
            "bin_start": 22.2,
            "bin_end": 23.6,
            "count": 0
           },
           {
            "bin_start": 23.6,
            "bin_end": 25,
            "count": 0
           },
           {
            "bin_start": 25,
            "bin_end": 26.4,
            "count": 0
           },
           {
            "bin_start": 26.4,
            "bin_end": 27.799999999999997,
            "count": 0
           },
           {
            "bin_start": 27.799999999999997,
            "bin_end": 29.2,
            "count": 0
           },
           {
            "bin_start": 29.2,
            "bin_end": 30.6,
            "count": 0
           },
           {
            "bin_start": 30.6,
            "bin_end": 32,
            "count": 1
           }
          ]
         }
        },
        {
         "name": "Shooting Accuracy",
         "dtype": "object",
         "stats": {
          "unique_count": 2,
          "nan_count": 0,
          "categories": [
           {
            "name": "47.8%",
            "count": 1
           },
           {
            "name": "30.7%",
            "count": 1
           }
          ]
         }
        },
        {
         "name": "% Goals-to-shots",
         "dtype": "object",
         "stats": {
          "unique_count": 2,
          "nan_count": 0,
          "categories": [
           {
            "name": "15.6%",
            "count": 1
           },
           {
            "name": "19.2%",
            "count": 1
           }
          ]
         }
        },
        {
         "name": "Total shots (inc. Blocked)",
         "dtype": "int64",
         "stats": {
          "unique_count": 2,
          "nan_count": 0,
          "min": "32",
          "max": "80",
          "histogram": [
           {
            "bin_start": 32,
            "bin_end": 36.8,
            "count": 1
           },
           {
            "bin_start": 36.8,
            "bin_end": 41.6,
            "count": 0
           },
           {
            "bin_start": 41.6,
            "bin_end": 46.4,
            "count": 0
           },
           {
            "bin_start": 46.4,
            "bin_end": 51.2,
            "count": 0
           },
           {
            "bin_start": 51.2,
            "bin_end": 56,
            "count": 0
           },
           {
            "bin_start": 56,
            "bin_end": 60.8,
            "count": 0
           },
           {
            "bin_start": 60.8,
            "bin_end": 65.6,
            "count": 0
           },
           {
            "bin_start": 65.6,
            "bin_end": 70.4,
            "count": 0
           },
           {
            "bin_start": 70.4,
            "bin_end": 75.19999999999999,
            "count": 0
           },
           {
            "bin_start": 75.19999999999999,
            "bin_end": 80,
            "count": 1
           }
          ]
         }
        },
        {
         "name": "Hit Woodwork",
         "dtype": "int64",
         "stats": {
          "unique_count": 2,
          "nan_count": 0,
          "min": "1",
          "max": "2",
          "histogram": [
           {
            "bin_start": 1,
            "bin_end": 1.1,
            "count": 1
           },
           {
            "bin_start": 1.1,
            "bin_end": 1.2,
            "count": 0
           },
           {
            "bin_start": 1.2,
            "bin_end": 1.3,
            "count": 0
           },
           {
            "bin_start": 1.3,
            "bin_end": 1.4,
            "count": 0
           },
           {
            "bin_start": 1.4,
            "bin_end": 1.5,
            "count": 0
           },
           {
            "bin_start": 1.5,
            "bin_end": 1.6,
            "count": 0
           },
           {
            "bin_start": 1.6,
            "bin_end": 1.7000000000000002,
            "count": 0
           },
           {
            "bin_start": 1.7000000000000002,
            "bin_end": 1.8,
            "count": 0
           },
           {
            "bin_start": 1.8,
            "bin_end": 1.9,
            "count": 0
           },
           {
            "bin_start": 1.9,
            "bin_end": 2,
            "count": 1
           }
          ]
         }
        },
        {
         "name": "Penalty goals",
         "dtype": "int64",
         "stats": {
          "unique_count": 1,
          "nan_count": 0,
          "min": "1",
          "max": "1",
          "histogram": [
           {
            "bin_start": 0.5,
            "bin_end": 0.6,
            "count": 0
           },
           {
            "bin_start": 0.6,
            "bin_end": 0.7,
            "count": 0
           },
           {
            "bin_start": 0.7,
            "bin_end": 0.8,
            "count": 0
           },
           {
            "bin_start": 0.8,
            "bin_end": 0.9,
            "count": 0
           },
           {
            "bin_start": 0.9,
            "bin_end": 1,
            "count": 0
           },
           {
            "bin_start": 1,
            "bin_end": 1.1,
            "count": 2
           },
           {
            "bin_start": 1.1,
            "bin_end": 1.2000000000000002,
            "count": 0
           },
           {
            "bin_start": 1.2000000000000002,
            "bin_end": 1.3,
            "count": 0
           },
           {
            "bin_start": 1.3,
            "bin_end": 1.4,
            "count": 0
           },
           {
            "bin_start": 1.4,
            "bin_end": 1.5,
            "count": 0
           }
          ]
         }
        },
        {
         "name": "Penalties not scored",
         "dtype": "int64",
         "stats": {
          "unique_count": 2,
          "nan_count": 0,
          "min": "0",
          "max": "1",
          "histogram": [
           {
            "bin_start": 0,
            "bin_end": 0.1,
            "count": 1
           },
           {
            "bin_start": 0.1,
            "bin_end": 0.2,
            "count": 0
           },
           {
            "bin_start": 0.2,
            "bin_end": 0.30000000000000004,
            "count": 0
           },
           {
            "bin_start": 0.30000000000000004,
            "bin_end": 0.4,
            "count": 0
           },
           {
            "bin_start": 0.4,
            "bin_end": 0.5,
            "count": 0
           },
           {
            "bin_start": 0.5,
            "bin_end": 0.6000000000000001,
            "count": 0
           },
           {
            "bin_start": 0.6000000000000001,
            "bin_end": 0.7000000000000001,
            "count": 0
           },
           {
            "bin_start": 0.7000000000000001,
            "bin_end": 0.8,
            "count": 0
           },
           {
            "bin_start": 0.8,
            "bin_end": 0.9,
            "count": 0
           },
           {
            "bin_start": 0.9,
            "bin_end": 1,
            "count": 1
           }
          ]
         }
        },
        {
         "name": "Headed goals",
         "dtype": "int64",
         "stats": {
          "unique_count": 2,
          "nan_count": 0,
          "min": "0",
          "max": "2",
          "histogram": [
           {
            "bin_start": 0,
            "bin_end": 0.2,
            "count": 1
           },
           {
            "bin_start": 0.2,
            "bin_end": 0.4,
            "count": 0
           },
           {
            "bin_start": 0.4,
            "bin_end": 0.6000000000000001,
            "count": 0
           },
           {
            "bin_start": 0.6000000000000001,
            "bin_end": 0.8,
            "count": 0
           },
           {
            "bin_start": 0.8,
            "bin_end": 1,
            "count": 0
           },
           {
            "bin_start": 1,
            "bin_end": 1.2000000000000002,
            "count": 0
           },
           {
            "bin_start": 1.2000000000000002,
            "bin_end": 1.4000000000000001,
            "count": 0
           },
           {
            "bin_start": 1.4000000000000001,
            "bin_end": 1.6,
            "count": 0
           },
           {
            "bin_start": 1.6,
            "bin_end": 1.8,
            "count": 0
           },
           {
            "bin_start": 1.8,
            "bin_end": 2,
            "count": 1
           }
          ]
         }
        },
        {
         "name": "Passes",
         "dtype": "int64",
         "stats": {
          "unique_count": 2,
          "nan_count": 0,
          "min": "1187",
          "max": "2774",
          "histogram": [
           {
            "bin_start": 1187,
            "bin_end": 1345.7,
            "count": 1
           },
           {
            "bin_start": 1345.7,
            "bin_end": 1504.4,
            "count": 0
           },
           {
            "bin_start": 1504.4,
            "bin_end": 1663.1,
            "count": 0
           },
           {
            "bin_start": 1663.1,
            "bin_end": 1821.8,
            "count": 0
           },
           {
            "bin_start": 1821.8,
            "bin_end": 1980.5,
            "count": 0
           },
           {
            "bin_start": 1980.5,
            "bin_end": 2139.2,
            "count": 0
           },
           {
            "bin_start": 2139.2,
            "bin_end": 2297.8999999999996,
            "count": 0
           },
           {
            "bin_start": 2297.8999999999996,
            "bin_end": 2456.6,
            "count": 0
           },
           {
            "bin_start": 2456.6,
            "bin_end": 2615.3,
            "count": 0
           },
           {
            "bin_start": 2615.3,
            "bin_end": 2774,
            "count": 1
           }
          ]
         }
        },
        {
         "name": "Passes completed",
         "dtype": "int64",
         "stats": {
          "unique_count": 2,
          "nan_count": 0,
          "min": "911",
          "max": "2427",
          "histogram": [
           {
            "bin_start": 911,
            "bin_end": 1062.6,
            "count": 1
           },
           {
            "bin_start": 1062.6,
            "bin_end": 1214.2,
            "count": 0
           },
           {
            "bin_start": 1214.2,
            "bin_end": 1365.8,
            "count": 0
           },
           {
            "bin_start": 1365.8,
            "bin_end": 1517.4,
            "count": 0
           },
           {
            "bin_start": 1517.4,
            "bin_end": 1669,
            "count": 0
           },
           {
            "bin_start": 1669,
            "bin_end": 1820.6,
            "count": 0
           },
           {
            "bin_start": 1820.6,
            "bin_end": 1972.2,
            "count": 0
           },
           {
            "bin_start": 1972.2,
            "bin_end": 2123.8,
            "count": 0
           },
           {
            "bin_start": 2123.8,
            "bin_end": 2275.3999999999996,
            "count": 0
           },
           {
            "bin_start": 2275.3999999999996,
            "bin_end": 2427,
            "count": 1
           }
          ]
         }
        },
        {
         "name": "Passing Accuracy",
         "dtype": "object",
         "stats": {
          "unique_count": 2,
          "nan_count": 0,
          "categories": [
           {
            "name": "87.4%",
            "count": 1
           },
           {
            "name": "76.7%",
            "count": 1
           }
          ]
         }
        },
        {
         "name": "Touches",
         "dtype": "int64",
         "stats": {
          "unique_count": 2,
          "nan_count": 0,
          "min": "2016",
          "max": "3761",
          "histogram": [
           {
            "bin_start": 2016,
            "bin_end": 2190.5,
            "count": 1
           },
           {
            "bin_start": 2190.5,
            "bin_end": 2365,
            "count": 0
           },
           {
            "bin_start": 2365,
            "bin_end": 2539.5,
            "count": 0
           },
           {
            "bin_start": 2539.5,
            "bin_end": 2714,
            "count": 0
           },
           {
            "bin_start": 2714,
            "bin_end": 2888.5,
            "count": 0
           },
           {
            "bin_start": 2888.5,
            "bin_end": 3063,
            "count": 0
           },
           {
            "bin_start": 3063,
            "bin_end": 3237.5,
            "count": 0
           },
           {
            "bin_start": 3237.5,
            "bin_end": 3412,
            "count": 0
           },
           {
            "bin_start": 3412,
            "bin_end": 3586.5,
            "count": 0
           },
           {
            "bin_start": 3586.5,
            "bin_end": 3761,
            "count": 1
           }
          ]
         }
        },
        {
         "name": "Crosses",
         "dtype": "int64",
         "stats": {
          "unique_count": 2,
          "nan_count": 0,
          "min": "52",
          "max": "101",
          "histogram": [
           {
            "bin_start": 52,
            "bin_end": 56.9,
            "count": 1
           },
           {
            "bin_start": 56.9,
            "bin_end": 61.8,
            "count": 0
           },
           {
            "bin_start": 61.8,
            "bin_end": 66.7,
            "count": 0
           },
           {
            "bin_start": 66.7,
            "bin_end": 71.6,
            "count": 0
           },
           {
            "bin_start": 71.6,
            "bin_end": 76.5,
            "count": 0
           },
           {
            "bin_start": 76.5,
            "bin_end": 81.4,
            "count": 0
           },
           {
            "bin_start": 81.4,
            "bin_end": 86.30000000000001,
            "count": 0
           },
           {
            "bin_start": 86.30000000000001,
            "bin_end": 91.2,
            "count": 0
           },
           {
            "bin_start": 91.2,
            "bin_end": 96.1,
            "count": 0
           },
           {
            "bin_start": 96.1,
            "bin_end": 101,
            "count": 1
           }
          ]
         }
        },
        {
         "name": "Dribbles",
         "dtype": "int64",
         "stats": {
          "unique_count": 2,
          "nan_count": 0,
          "min": "53",
          "max": "60",
          "histogram": [
           {
            "bin_start": 53,
            "bin_end": 53.7,
            "count": 1
           },
           {
            "bin_start": 53.7,
            "bin_end": 54.4,
            "count": 0
           },
           {
            "bin_start": 54.4,
            "bin_end": 55.1,
            "count": 0
           },
           {
            "bin_start": 55.1,
            "bin_end": 55.8,
            "count": 0
           },
           {
            "bin_start": 55.8,
            "bin_end": 56.5,
            "count": 0
           },
           {
            "bin_start": 56.5,
            "bin_end": 57.2,
            "count": 0
           },
           {
            "bin_start": 57.2,
            "bin_end": 57.9,
            "count": 0
           },
           {
            "bin_start": 57.9,
            "bin_end": 58.6,
            "count": 0
           },
           {
            "bin_start": 58.6,
            "bin_end": 59.3,
            "count": 0
           },
           {
            "bin_start": 59.3,
            "bin_end": 60,
            "count": 1
           }
          ]
         }
        },
        {
         "name": "Corners Taken",
         "dtype": "int64",
         "stats": {
          "unique_count": 2,
          "nan_count": 0,
          "min": "10",
          "max": "35",
          "histogram": [
           {
            "bin_start": 10,
            "bin_end": 12.5,
            "count": 1
           },
           {
            "bin_start": 12.5,
            "bin_end": 15,
            "count": 0
           },
           {
            "bin_start": 15,
            "bin_end": 17.5,
            "count": 0
           },
           {
            "bin_start": 17.5,
            "bin_end": 20,
            "count": 0
           },
           {
            "bin_start": 20,
            "bin_end": 22.5,
            "count": 0
           },
           {
            "bin_start": 22.5,
            "bin_end": 25,
            "count": 0
           },
           {
            "bin_start": 25,
            "bin_end": 27.5,
            "count": 0
           },
           {
            "bin_start": 27.5,
            "bin_end": 30,
            "count": 0
           },
           {
            "bin_start": 30,
            "bin_end": 32.5,
            "count": 0
           },
           {
            "bin_start": 32.5,
            "bin_end": 35,
            "count": 1
           }
          ]
         }
        },
        {
         "name": "Tackles",
         "dtype": "int64",
         "stats": {
          "unique_count": 2,
          "nan_count": 0,
          "min": "65",
          "max": "91",
          "histogram": [
           {
            "bin_start": 65,
            "bin_end": 67.6,
            "count": 1
           },
           {
            "bin_start": 67.6,
            "bin_end": 70.2,
            "count": 0
           },
           {
            "bin_start": 70.2,
            "bin_end": 72.8,
            "count": 0
           },
           {
            "bin_start": 72.8,
            "bin_end": 75.4,
            "count": 0
           },
           {
            "bin_start": 75.4,
            "bin_end": 78,
            "count": 0
           },
           {
            "bin_start": 78,
            "bin_end": 80.6,
            "count": 0
           },
           {
            "bin_start": 80.6,
            "bin_end": 83.2,
            "count": 0
           },
           {
            "bin_start": 83.2,
            "bin_end": 85.8,
            "count": 0
           },
           {
            "bin_start": 85.8,
            "bin_end": 88.4,
            "count": 0
           },
           {
            "bin_start": 88.4,
            "bin_end": 91,
            "count": 1
           }
          ]
         }
        },
        {
         "name": "Clearances",
         "dtype": "int64",
         "stats": {
          "unique_count": 2,
          "nan_count": 0,
          "min": "73",
          "max": "123",
          "histogram": [
           {
            "bin_start": 73,
            "bin_end": 78,
            "count": 1
           },
           {
            "bin_start": 78,
            "bin_end": 83,
            "count": 0
           },
           {
            "bin_start": 83,
            "bin_end": 88,
            "count": 0
           },
           {
            "bin_start": 88,
            "bin_end": 93,
            "count": 0
           },
           {
            "bin_start": 93,
            "bin_end": 98,
            "count": 0
           },
           {
            "bin_start": 98,
            "bin_end": 103,
            "count": 0
           },
           {
            "bin_start": 103,
            "bin_end": 108,
            "count": 0
           },
           {
            "bin_start": 108,
            "bin_end": 113,
            "count": 0
           },
           {
            "bin_start": 113,
            "bin_end": 118,
            "count": 0
           },
           {
            "bin_start": 118,
            "bin_end": 123,
            "count": 1
           }
          ]
         }
        },
        {
         "name": "Interceptions",
         "dtype": "int64",
         "stats": {
          "unique_count": 2,
          "nan_count": 0,
          "min": "69",
          "max": "87",
          "histogram": [
           {
            "bin_start": 69,
            "bin_end": 70.8,
            "count": 1
           },
           {
            "bin_start": 70.8,
            "bin_end": 72.6,
            "count": 0
           },
           {
            "bin_start": 72.6,
            "bin_end": 74.4,
            "count": 0
           },
           {
            "bin_start": 74.4,
            "bin_end": 76.2,
            "count": 0
           },
           {
            "bin_start": 76.2,
            "bin_end": 78,
            "count": 0
           },
           {
            "bin_start": 78,
            "bin_end": 79.8,
            "count": 0
           },
           {
            "bin_start": 79.8,
            "bin_end": 81.6,
            "count": 0
           },
           {
            "bin_start": 81.6,
            "bin_end": 83.4,
            "count": 0
           },
           {
            "bin_start": 83.4,
            "bin_end": 85.2,
            "count": 0
           },
           {
            "bin_start": 85.2,
            "bin_end": 87,
            "count": 1
           }
          ]
         }
        },
        {
         "name": "Clearances off line",
         "dtype": "float64",
         "stats": {
          "unique_count": 1,
          "nan_count": 0,
          "min": "0.0",
          "max": "0.0",
          "histogram": [
           {
            "bin_start": -0.5,
            "bin_end": -0.4,
            "count": 0
           },
           {
            "bin_start": -0.4,
            "bin_end": -0.3,
            "count": 0
           },
           {
            "bin_start": -0.3,
            "bin_end": -0.19999999999999996,
            "count": 0
           },
           {
            "bin_start": -0.19999999999999996,
            "bin_end": -0.09999999999999998,
            "count": 0
           },
           {
            "bin_start": -0.09999999999999998,
            "bin_end": 0,
            "count": 0
           },
           {
            "bin_start": 0,
            "bin_end": 0.10000000000000009,
            "count": 2
           },
           {
            "bin_start": 0.10000000000000009,
            "bin_end": 0.20000000000000007,
            "count": 0
           },
           {
            "bin_start": 0.20000000000000007,
            "bin_end": 0.30000000000000004,
            "count": 0
           },
           {
            "bin_start": 0.30000000000000004,
            "bin_end": 0.4,
            "count": 0
           },
           {
            "bin_start": 0.4,
            "bin_end": 0.5,
            "count": 0
           }
          ]
         }
        },
        {
         "name": "Clean Sheets",
         "dtype": "int64",
         "stats": {
          "unique_count": 1,
          "nan_count": 0,
          "min": "1",
          "max": "1",
          "histogram": [
           {
            "bin_start": 0.5,
            "bin_end": 0.6,
            "count": 0
           },
           {
            "bin_start": 0.6,
            "bin_end": 0.7,
            "count": 0
           },
           {
            "bin_start": 0.7,
            "bin_end": 0.8,
            "count": 0
           },
           {
            "bin_start": 0.8,
            "bin_end": 0.9,
            "count": 0
           },
           {
            "bin_start": 0.9,
            "bin_end": 1,
            "count": 0
           },
           {
            "bin_start": 1,
            "bin_end": 1.1,
            "count": 2
           },
           {
            "bin_start": 1.1,
            "bin_end": 1.2000000000000002,
            "count": 0
           },
           {
            "bin_start": 1.2000000000000002,
            "bin_end": 1.3,
            "count": 0
           },
           {
            "bin_start": 1.3,
            "bin_end": 1.4,
            "count": 0
           },
           {
            "bin_start": 1.4,
            "bin_end": 1.5,
            "count": 0
           }
          ]
         }
        },
        {
         "name": "Blocks",
         "dtype": "int64",
         "stats": {
          "unique_count": 2,
          "nan_count": 0,
          "min": "11",
          "max": "23",
          "histogram": [
           {
            "bin_start": 11,
            "bin_end": 12.2,
            "count": 1
           },
           {
            "bin_start": 12.2,
            "bin_end": 13.4,
            "count": 0
           },
           {
            "bin_start": 13.4,
            "bin_end": 14.6,
            "count": 0
           },
           {
            "bin_start": 14.6,
            "bin_end": 15.8,
            "count": 0
           },
           {
            "bin_start": 15.8,
            "bin_end": 17,
            "count": 0
           },
           {
            "bin_start": 17,
            "bin_end": 18.2,
            "count": 0
           },
           {
            "bin_start": 18.2,
            "bin_end": 19.4,
            "count": 0
           },
           {
            "bin_start": 19.4,
            "bin_end": 20.6,
            "count": 0
           },
           {
            "bin_start": 20.6,
            "bin_end": 21.799999999999997,
            "count": 0
           },
           {
            "bin_start": 21.799999999999997,
            "bin_end": 23,
            "count": 1
           }
          ]
         }
        },
        {
         "name": "Goals conceded",
         "dtype": "int64",
         "stats": {
          "unique_count": 2,
          "nan_count": 0,
          "min": "6",
          "max": "7",
          "histogram": [
           {
            "bin_start": 6,
            "bin_end": 6.1,
            "count": 1
           },
           {
            "bin_start": 6.1,
            "bin_end": 6.2,
            "count": 0
           },
           {
            "bin_start": 6.2,
            "bin_end": 6.3,
            "count": 0
           },
           {
            "bin_start": 6.3,
            "bin_end": 6.4,
            "count": 0
           },
           {
            "bin_start": 6.4,
            "bin_end": 6.5,
            "count": 0
           },
           {
            "bin_start": 6.5,
            "bin_end": 6.6,
            "count": 0
           },
           {
            "bin_start": 6.6,
            "bin_end": 6.7,
            "count": 0
           },
           {
            "bin_start": 6.7,
            "bin_end": 6.8,
            "count": 0
           },
           {
            "bin_start": 6.8,
            "bin_end": 6.9,
            "count": 0
           },
           {
            "bin_start": 6.9,
            "bin_end": 7,
            "count": 1
           }
          ]
         }
        },
        {
         "name": "Saves made",
         "dtype": "int64",
         "stats": {
          "unique_count": 2,
          "nan_count": 0,
          "min": "10",
          "max": "13",
          "histogram": [
           {
            "bin_start": 10,
            "bin_end": 10.3,
            "count": 1
           },
           {
            "bin_start": 10.3,
            "bin_end": 10.6,
            "count": 0
           },
           {
            "bin_start": 10.6,
            "bin_end": 10.9,
            "count": 0
           },
           {
            "bin_start": 10.9,
            "bin_end": 11.2,
            "count": 0
           },
           {
            "bin_start": 11.2,
            "bin_end": 11.5,
            "count": 0
           },
           {
            "bin_start": 11.5,
            "bin_end": 11.8,
            "count": 0
           },
           {
            "bin_start": 11.8,
            "bin_end": 12.1,
            "count": 0
           },
           {
            "bin_start": 12.1,
            "bin_end": 12.4,
            "count": 0
           },
           {
            "bin_start": 12.4,
            "bin_end": 12.7,
            "count": 0
           },
           {
            "bin_start": 12.7,
            "bin_end": 13,
            "count": 1
           }
          ]
         }
        },
        {
         "name": "Saves-to-shots ratio",
         "dtype": "object",
         "stats": {
          "unique_count": 2,
          "nan_count": 0,
          "categories": [
           {
            "name": "62.6%",
            "count": 1
           },
           {
            "name": "65.1%",
            "count": 1
           }
          ]
         }
        },
        {
         "name": "Fouls Won",
         "dtype": "int64",
         "stats": {
          "unique_count": 2,
          "nan_count": 0,
          "min": "63",
          "max": "67",
          "histogram": [
           {
            "bin_start": 63,
            "bin_end": 63.4,
            "count": 1
           },
           {
            "bin_start": 63.4,
            "bin_end": 63.8,
            "count": 0
           },
           {
            "bin_start": 63.8,
            "bin_end": 64.2,
            "count": 0
           },
           {
            "bin_start": 64.2,
            "bin_end": 64.6,
            "count": 0
           },
           {
            "bin_start": 64.6,
            "bin_end": 65,
            "count": 0
           },
           {
            "bin_start": 65,
            "bin_end": 65.4,
            "count": 0
           },
           {
            "bin_start": 65.4,
            "bin_end": 65.8,
            "count": 0
           },
           {
            "bin_start": 65.8,
            "bin_end": 66.2,
            "count": 0
           },
           {
            "bin_start": 66.2,
            "bin_end": 66.6,
            "count": 0
           },
           {
            "bin_start": 66.6,
            "bin_end": 67,
            "count": 1
           }
          ]
         }
        },
        {
         "name": "Fouls Conceded",
         "dtype": "int64",
         "stats": {
          "unique_count": 2,
          "nan_count": 0,
          "min": "48",
          "max": "49",
          "histogram": [
           {
            "bin_start": 48,
            "bin_end": 48.1,
            "count": 1
           },
           {
            "bin_start": 48.1,
            "bin_end": 48.2,
            "count": 0
           },
           {
            "bin_start": 48.2,
            "bin_end": 48.3,
            "count": 0
           },
           {
            "bin_start": 48.3,
            "bin_end": 48.4,
            "count": 0
           },
           {
            "bin_start": 48.4,
            "bin_end": 48.5,
            "count": 0
           },
           {
            "bin_start": 48.5,
            "bin_end": 48.6,
            "count": 0
           },
           {
            "bin_start": 48.6,
            "bin_end": 48.7,
            "count": 0
           },
           {
            "bin_start": 48.7,
            "bin_end": 48.8,
            "count": 0
           },
           {
            "bin_start": 48.8,
            "bin_end": 48.9,
            "count": 0
           },
           {
            "bin_start": 48.9,
            "bin_end": 49,
            "count": 1
           }
          ]
         }
        },
        {
         "name": "Offsides",
         "dtype": "int64",
         "stats": {
          "unique_count": 1,
          "nan_count": 0,
          "min": "12",
          "max": "12",
          "histogram": [
           {
            "bin_start": 11.5,
            "bin_end": 11.6,
            "count": 0
           },
           {
            "bin_start": 11.6,
            "bin_end": 11.7,
            "count": 0
           },
           {
            "bin_start": 11.7,
            "bin_end": 11.8,
            "count": 0
           },
           {
            "bin_start": 11.8,
            "bin_end": 11.9,
            "count": 0
           },
           {
            "bin_start": 11.9,
            "bin_end": 12,
            "count": 0
           },
           {
            "bin_start": 12,
            "bin_end": 12.1,
            "count": 2
           },
           {
            "bin_start": 12.1,
            "bin_end": 12.2,
            "count": 0
           },
           {
            "bin_start": 12.2,
            "bin_end": 12.3,
            "count": 0
           },
           {
            "bin_start": 12.3,
            "bin_end": 12.4,
            "count": 0
           },
           {
            "bin_start": 12.4,
            "bin_end": 12.5,
            "count": 0
           }
          ]
         }
        },
        {
         "name": "Yellow Cards",
         "dtype": "int64",
         "stats": {
          "unique_count": 2,
          "nan_count": 0,
          "min": "4",
          "max": "9",
          "histogram": [
           {
            "bin_start": 4,
            "bin_end": 4.5,
            "count": 1
           },
           {
            "bin_start": 4.5,
            "bin_end": 5,
            "count": 0
           },
           {
            "bin_start": 5,
            "bin_end": 5.5,
            "count": 0
           },
           {
            "bin_start": 5.5,
            "bin_end": 6,
            "count": 0
           },
           {
            "bin_start": 6,
            "bin_end": 6.5,
            "count": 0
           },
           {
            "bin_start": 6.5,
            "bin_end": 7,
            "count": 0
           },
           {
            "bin_start": 7,
            "bin_end": 7.5,
            "count": 0
           },
           {
            "bin_start": 7.5,
            "bin_end": 8,
            "count": 0
           },
           {
            "bin_start": 8,
            "bin_end": 8.5,
            "count": 0
           },
           {
            "bin_start": 8.5,
            "bin_end": 9,
            "count": 1
           }
          ]
         }
        },
        {
         "name": "Red Cards",
         "dtype": "int64",
         "stats": {
          "unique_count": 2,
          "nan_count": 0,
          "min": "0",
          "max": "1",
          "histogram": [
           {
            "bin_start": 0,
            "bin_end": 0.1,
            "count": 1
           },
           {
            "bin_start": 0.1,
            "bin_end": 0.2,
            "count": 0
           },
           {
            "bin_start": 0.2,
            "bin_end": 0.30000000000000004,
            "count": 0
           },
           {
            "bin_start": 0.30000000000000004,
            "bin_end": 0.4,
            "count": 0
           },
           {
            "bin_start": 0.4,
            "bin_end": 0.5,
            "count": 0
           },
           {
            "bin_start": 0.5,
            "bin_end": 0.6000000000000001,
            "count": 0
           },
           {
            "bin_start": 0.6000000000000001,
            "bin_end": 0.7000000000000001,
            "count": 0
           },
           {
            "bin_start": 0.7000000000000001,
            "bin_end": 0.8,
            "count": 0
           },
           {
            "bin_start": 0.8,
            "bin_end": 0.9,
            "count": 0
           },
           {
            "bin_start": 0.9,
            "bin_end": 1,
            "count": 1
           }
          ]
         }
        },
        {
         "name": "Subs on",
         "dtype": "int64",
         "stats": {
          "unique_count": 2,
          "nan_count": 0,
          "min": "12",
          "max": "15",
          "histogram": [
           {
            "bin_start": 12,
            "bin_end": 12.3,
            "count": 1
           },
           {
            "bin_start": 12.3,
            "bin_end": 12.6,
            "count": 0
           },
           {
            "bin_start": 12.6,
            "bin_end": 12.9,
            "count": 0
           },
           {
            "bin_start": 12.9,
            "bin_end": 13.2,
            "count": 0
           },
           {
            "bin_start": 13.2,
            "bin_end": 13.5,
            "count": 0
           },
           {
            "bin_start": 13.5,
            "bin_end": 13.8,
            "count": 0
           },
           {
            "bin_start": 13.8,
            "bin_end": 14.1,
            "count": 0
           },
           {
            "bin_start": 14.1,
            "bin_end": 14.4,
            "count": 0
           },
           {
            "bin_start": 14.4,
            "bin_end": 14.7,
            "count": 0
           },
           {
            "bin_start": 14.7,
            "bin_end": 15,
            "count": 1
           }
          ]
         }
        },
        {
         "name": "Subs off",
         "dtype": "int64",
         "stats": {
          "unique_count": 2,
          "nan_count": 0,
          "min": "12",
          "max": "15",
          "histogram": [
           {
            "bin_start": 12,
            "bin_end": 12.3,
            "count": 1
           },
           {
            "bin_start": 12.3,
            "bin_end": 12.6,
            "count": 0
           },
           {
            "bin_start": 12.6,
            "bin_end": 12.9,
            "count": 0
           },
           {
            "bin_start": 12.9,
            "bin_end": 13.2,
            "count": 0
           },
           {
            "bin_start": 13.2,
            "bin_end": 13.5,
            "count": 0
           },
           {
            "bin_start": 13.5,
            "bin_end": 13.8,
            "count": 0
           },
           {
            "bin_start": 13.8,
            "bin_end": 14.1,
            "count": 0
           },
           {
            "bin_start": 14.1,
            "bin_end": 14.4,
            "count": 0
           },
           {
            "bin_start": 14.4,
            "bin_end": 14.7,
            "count": 0
           },
           {
            "bin_start": 14.7,
            "bin_end": 15,
            "count": 1
           }
          ]
         }
        },
        {
         "name": "Players Used",
         "dtype": "int64",
         "stats": {
          "unique_count": 2,
          "nan_count": 0,
          "min": "17",
          "max": "20",
          "histogram": [
           {
            "bin_start": 17,
            "bin_end": 17.3,
            "count": 1
           },
           {
            "bin_start": 17.3,
            "bin_end": 17.6,
            "count": 0
           },
           {
            "bin_start": 17.6,
            "bin_end": 17.9,
            "count": 0
           },
           {
            "bin_start": 17.9,
            "bin_end": 18.2,
            "count": 0
           },
           {
            "bin_start": 18.2,
            "bin_end": 18.5,
            "count": 0
           },
           {
            "bin_start": 18.5,
            "bin_end": 18.8,
            "count": 0
           },
           {
            "bin_start": 18.8,
            "bin_end": 19.1,
            "count": 0
           },
           {
            "bin_start": 19.1,
            "bin_end": 19.4,
            "count": 0
           },
           {
            "bin_start": 19.4,
            "bin_end": 19.7,
            "count": 0
           },
           {
            "bin_start": 19.7,
            "bin_end": 20,
            "count": 1
           }
          ]
         }
        },
        {
         "name": "_deepnote_index_column",
         "dtype": "int64"
        }
       ],
       "rows_top": [
        {
         "Team": "Germany",
         "Goals": 10,
         "Shots on target": 32,
         "Shots off target": 32,
         "Shooting Accuracy": "47.8%",
         "% Goals-to-shots": "15.6%",
         "Total shots (inc. Blocked)": 80,
         "Hit Woodwork": 2,
         "Penalty goals": 1,
         "Penalties not scored": 0,
         "Headed goals": 2,
         "Passes": 2774,
         "Passes completed": 2427,
         "Passing Accuracy": "87.4%",
         "Touches": 3761,
         "Crosses": 101,
         "Dribbles": 60,
         "Corners Taken": 35,
         "Tackles": 91,
         "Clearances": 73,
         "Interceptions": 69,
         "Clearances off line": 0,
         "Clean Sheets": 1,
         "Blocks": 11,
         "Goals conceded": 6,
         "Saves made": 10,
         "Saves-to-shots ratio": "62.6%",
         "Fouls Won": 63,
         "Fouls Conceded": 49,
         "Offsides": 12,
         "Yellow Cards": 4,
         "Red Cards": 0,
         "Subs on": 15,
         "Subs off": 15,
         "Players Used": 17,
         "_deepnote_index_column": 5
        },
        {
         "Team": "Greece",
         "Goals": 5,
         "Shots on target": 8,
         "Shots off target": 18,
         "Shooting Accuracy": "30.7%",
         "% Goals-to-shots": "19.2%",
         "Total shots (inc. Blocked)": 32,
         "Hit Woodwork": 1,
         "Penalty goals": 1,
         "Penalties not scored": 1,
         "Headed goals": 0,
         "Passes": 1187,
         "Passes completed": 911,
         "Passing Accuracy": "76.7%",
         "Touches": 2016,
         "Crosses": 52,
         "Dribbles": 53,
         "Corners Taken": 10,
         "Tackles": 65,
         "Clearances": 123,
         "Interceptions": 87,
         "Clearances off line": 0,
         "Clean Sheets": 1,
         "Blocks": 23,
         "Goals conceded": 7,
         "Saves made": 13,
         "Saves-to-shots ratio": "65.1%",
         "Fouls Won": 67,
         "Fouls Conceded": 48,
         "Offsides": 12,
         "Yellow Cards": 9,
         "Red Cards": 1,
         "Subs on": 12,
         "Subs off": 12,
         "Players Used": 20,
         "_deepnote_index_column": 6
        }
       ],
       "rows_bottom": null
      },
      "text/plain": "      Team  Goals  Shots on target  Shots off target Shooting Accuracy  \\\n5  Germany     10               32                32             47.8%   \n6   Greece      5                8                18             30.7%   \n\n  % Goals-to-shots  Total shots (inc. Blocked)  Hit Woodwork  Penalty goals  \\\n5            15.6%                          80             2              1   \n6            19.2%                          32             1              1   \n\n   Penalties not scored  ...  Saves made  Saves-to-shots ratio  Fouls Won  \\\n5                     0  ...          10                 62.6%         63   \n6                     1  ...          13                 65.1%         67   \n\n  Fouls Conceded  Offsides  Yellow Cards  Red Cards  Subs on  Subs off  \\\n5             49        12             4          0       15        15   \n6             48        12             9          1       12        12   \n\n   Players Used  \n5            17  \n6            20  \n\n[2 rows x 35 columns]",
      "text/html": "<div>\n<style scoped>\n    .dataframe tbody tr th:only-of-type {\n        vertical-align: middle;\n    }\n\n    .dataframe tbody tr th {\n        vertical-align: top;\n    }\n\n    .dataframe thead th {\n        text-align: right;\n    }\n</style>\n<table border=\"1\" class=\"dataframe\">\n  <thead>\n    <tr style=\"text-align: right;\">\n      <th></th>\n      <th>Team</th>\n      <th>Goals</th>\n      <th>Shots on target</th>\n      <th>Shots off target</th>\n      <th>Shooting Accuracy</th>\n      <th>% Goals-to-shots</th>\n      <th>Total shots (inc. Blocked)</th>\n      <th>Hit Woodwork</th>\n      <th>Penalty goals</th>\n      <th>Penalties not scored</th>\n      <th>...</th>\n      <th>Saves made</th>\n      <th>Saves-to-shots ratio</th>\n      <th>Fouls Won</th>\n      <th>Fouls Conceded</th>\n      <th>Offsides</th>\n      <th>Yellow Cards</th>\n      <th>Red Cards</th>\n      <th>Subs on</th>\n      <th>Subs off</th>\n      <th>Players Used</th>\n    </tr>\n  </thead>\n  <tbody>\n    <tr>\n      <th>5</th>\n      <td>Germany</td>\n      <td>10</td>\n      <td>32</td>\n      <td>32</td>\n      <td>47.8%</td>\n      <td>15.6%</td>\n      <td>80</td>\n      <td>2</td>\n      <td>1</td>\n      <td>0</td>\n      <td>...</td>\n      <td>10</td>\n      <td>62.6%</td>\n      <td>63</td>\n      <td>49</td>\n      <td>12</td>\n      <td>4</td>\n      <td>0</td>\n      <td>15</td>\n      <td>15</td>\n      <td>17</td>\n    </tr>\n    <tr>\n      <th>6</th>\n      <td>Greece</td>\n      <td>5</td>\n      <td>8</td>\n      <td>18</td>\n      <td>30.7%</td>\n      <td>19.2%</td>\n      <td>32</td>\n      <td>1</td>\n      <td>1</td>\n      <td>1</td>\n      <td>...</td>\n      <td>13</td>\n      <td>65.1%</td>\n      <td>67</td>\n      <td>48</td>\n      <td>12</td>\n      <td>9</td>\n      <td>1</td>\n      <td>12</td>\n      <td>12</td>\n      <td>20</td>\n    </tr>\n  </tbody>\n</table>\n<p>2 rows × 35 columns</p>\n</div>"
     },
     "metadata": {}
    }
   ],
   "execution_count": null
  },
  {
   "cell_type": "markdown",
   "source": "### Step 12. Select the first 7 columns",
   "metadata": {
    "id": "OQbuIZH9vjb0",
    "cell_id": "00023-d2f8f709-5f2e-40dd-ad03-de29dd7ed334",
    "deepnote_cell_type": "markdown"
   }
  },
  {
   "cell_type": "code",
   "metadata": {
    "colab": {
     "base_uri": "https://localhost:8080/",
     "height": 521
    },
    "id": "mRFZ-Bxzvjb0",
    "executionInfo": {
     "status": "ok",
     "timestamp": 1623210379943,
     "user_tz": 240,
     "elapsed": 7,
     "user": {
      "displayName": "Andrés Sánchez",
      "photoUrl": "https://lh3.googleusercontent.com/a-/AOh14Gg69bZMv30ckb-T1MJy0nSxWIHUaP0p2uP6MYBuvQ=s64",
      "userId": "07985253921366566280"
     }
    },
    "outputId": "a28e432f-114e-46dc-8f2e-80d9508d18c2",
    "cell_id": "00024-d999c391-7ca7-4737-b709-338352c29d41",
    "deepnote_to_be_reexecuted": false,
    "source_hash": "c2212e28",
    "execution_start": 1630097904791,
    "execution_millis": 29,
    "deepnote_cell_type": "code"
   },
   "source": "euro12.iloc[:,:7]",
   "outputs": [
    {
     "output_type": "execute_result",
     "execution_count": 12,
     "data": {
      "application/vnd.deepnote.dataframe.v2+json": {
       "row_count": 16,
       "column_count": 7,
       "columns": [
        {
         "name": "Team",
         "dtype": "object",
         "stats": {
          "unique_count": 16,
          "nan_count": 0,
          "categories": [
           {
            "name": "Croatia",
            "count": 1
           },
           {
            "name": "Czech Republic",
            "count": 1
           },
           {
            "name": "14 others",
            "count": 14
           }
          ]
         }
        },
        {
         "name": "Goals",
         "dtype": "int64",
         "stats": {
          "unique_count": 8,
          "nan_count": 0,
          "min": "1",
          "max": "12",
          "histogram": [
           {
            "bin_start": 1,
            "bin_end": 2.1,
            "count": 4
           },
           {
            "bin_start": 2.1,
            "bin_end": 3.2,
            "count": 1
           },
           {
            "bin_start": 3.2,
            "bin_end": 4.300000000000001,
            "count": 3
           },
           {
            "bin_start": 4.300000000000001,
            "bin_end": 5.4,
            "count": 4
           },
           {
            "bin_start": 5.4,
            "bin_end": 6.5,
            "count": 2
           },
           {
            "bin_start": 6.5,
            "bin_end": 7.6000000000000005,
            "count": 0
           },
           {
            "bin_start": 7.6000000000000005,
            "bin_end": 8.700000000000001,
            "count": 0
           },
           {
            "bin_start": 8.700000000000001,
            "bin_end": 9.8,
            "count": 0
           },
           {
            "bin_start": 9.8,
            "bin_end": 10.9,
            "count": 1
           },
           {
            "bin_start": 10.9,
            "bin_end": 12,
            "count": 1
           }
          ]
         }
        },
        {
         "name": "Shots on target",
         "dtype": "int64",
         "stats": {
          "unique_count": 13,
          "nan_count": 0,
          "min": "7",
          "max": "42",
          "histogram": [
           {
            "bin_start": 7,
            "bin_end": 10.5,
            "count": 5
           },
           {
            "bin_start": 10.5,
            "bin_end": 14,
            "count": 4
           },
           {
            "bin_start": 14,
            "bin_end": 17.5,
            "count": 2
           },
           {
            "bin_start": 17.5,
            "bin_end": 21,
            "count": 0
           },
           {
            "bin_start": 21,
            "bin_end": 24.5,
            "count": 2
           },
           {
            "bin_start": 24.5,
            "bin_end": 28,
            "count": 0
           },
           {
            "bin_start": 28,
            "bin_end": 31.5,
            "count": 0
           },
           {
            "bin_start": 31.5,
            "bin_end": 35,
            "count": 2
           },
           {
            "bin_start": 35,
            "bin_end": 38.5,
            "count": 0
           },
           {
            "bin_start": 38.5,
            "bin_end": 42,
            "count": 1
           }
          ]
         }
        },
        {
         "name": "Shots off target",
         "dtype": "int64",
         "stats": {
          "unique_count": 13,
          "nan_count": 0,
          "min": "10",
          "max": "45",
          "histogram": [
           {
            "bin_start": 10,
            "bin_end": 13.5,
            "count": 3
           },
           {
            "bin_start": 13.5,
            "bin_end": 17,
            "count": 0
           },
           {
            "bin_start": 17,
            "bin_end": 20.5,
            "count": 4
           },
           {
            "bin_start": 20.5,
            "bin_end": 24,
            "count": 1
           },
           {
            "bin_start": 24,
            "bin_end": 27.5,
            "count": 2
           },
           {
            "bin_start": 27.5,
            "bin_end": 31,
            "count": 0
           },
           {
            "bin_start": 31,
            "bin_end": 34.5,
            "count": 3
           },
           {
            "bin_start": 34.5,
            "bin_end": 38,
            "count": 1
           },
           {
            "bin_start": 38,
            "bin_end": 41.5,
            "count": 0
           },
           {
            "bin_start": 41.5,
            "bin_end": 45,
            "count": 2
           }
          ]
         }
        },
        {
         "name": "Shooting Accuracy",
         "dtype": "object",
         "stats": {
          "unique_count": 15,
          "nan_count": 0,
          "categories": [
           {
            "name": "50.0%",
            "count": 2
           },
           {
            "name": "51.9%",
            "count": 1
           },
           {
            "name": "13 others",
            "count": 13
           }
          ]
         }
        },
        {
         "name": "% Goals-to-shots",
         "dtype": "object",
         "stats": {
          "unique_count": 14,
          "nan_count": 0,
          "categories": [
           {
            "name": "16.0%",
            "count": 2
           },
           {
            "name": "5.2%",
            "count": 2
           },
           {
            "name": "12 others",
            "count": 12
           }
          ]
         }
        },
        {
         "name": "Total shots (inc. Blocked)",
         "dtype": "int64",
         "stats": {
          "unique_count": 14,
          "nan_count": 0,
          "min": "27",
          "max": "110",
          "histogram": [
           {
            "bin_start": 27,
            "bin_end": 35.3,
            "count": 4
           },
           {
            "bin_start": 35.3,
            "bin_end": 43.6,
            "count": 4
           },
           {
            "bin_start": 43.6,
            "bin_end": 51.900000000000006,
            "count": 1
           },
           {
            "bin_start": 51.900000000000006,
            "bin_end": 60.2,
            "count": 2
           },
           {
            "bin_start": 60.2,
            "bin_end": 68.5,
            "count": 1
           },
           {
            "bin_start": 68.5,
            "bin_end": 76.80000000000001,
            "count": 0
           },
           {
            "bin_start": 76.80000000000001,
            "bin_end": 85.10000000000001,
            "count": 2
           },
           {
            "bin_start": 85.10000000000001,
            "bin_end": 93.4,
            "count": 0
           },
           {
            "bin_start": 93.4,
            "bin_end": 101.7,
            "count": 1
           },
           {
            "bin_start": 101.7,
            "bin_end": 110,
            "count": 1
           }
          ]
         }
        },
        {
         "name": "_deepnote_index_column",
         "dtype": "int64"
        }
       ],
       "rows_top": [
        {
         "Team": "Croatia",
         "Goals": 4,
         "Shots on target": 13,
         "Shots off target": 12,
         "Shooting Accuracy": "51.9%",
         "% Goals-to-shots": "16.0%",
         "Total shots (inc. Blocked)": 32,
         "_deepnote_index_column": 0
        },
        {
         "Team": "Czech Republic",
         "Goals": 4,
         "Shots on target": 13,
         "Shots off target": 18,
         "Shooting Accuracy": "41.9%",
         "% Goals-to-shots": "12.9%",
         "Total shots (inc. Blocked)": 39,
         "_deepnote_index_column": 1
        },
        {
         "Team": "Denmark",
         "Goals": 4,
         "Shots on target": 10,
         "Shots off target": 10,
         "Shooting Accuracy": "50.0%",
         "% Goals-to-shots": "20.0%",
         "Total shots (inc. Blocked)": 27,
         "_deepnote_index_column": 2
        },
        {
         "Team": "England",
         "Goals": 5,
         "Shots on target": 11,
         "Shots off target": 18,
         "Shooting Accuracy": "50.0%",
         "% Goals-to-shots": "17.2%",
         "Total shots (inc. Blocked)": 40,
         "_deepnote_index_column": 3
        },
        {
         "Team": "France",
         "Goals": 3,
         "Shots on target": 22,
         "Shots off target": 24,
         "Shooting Accuracy": "37.9%",
         "% Goals-to-shots": "6.5%",
         "Total shots (inc. Blocked)": 65,
         "_deepnote_index_column": 4
        },
        {
         "Team": "Germany",
         "Goals": 10,
         "Shots on target": 32,
         "Shots off target": 32,
         "Shooting Accuracy": "47.8%",
         "% Goals-to-shots": "15.6%",
         "Total shots (inc. Blocked)": 80,
         "_deepnote_index_column": 5
        },
        {
         "Team": "Greece",
         "Goals": 5,
         "Shots on target": 8,
         "Shots off target": 18,
         "Shooting Accuracy": "30.7%",
         "% Goals-to-shots": "19.2%",
         "Total shots (inc. Blocked)": 32,
         "_deepnote_index_column": 6
        },
        {
         "Team": "Italy",
         "Goals": 6,
         "Shots on target": 34,
         "Shots off target": 45,
         "Shooting Accuracy": "43.0%",
         "% Goals-to-shots": "7.5%",
         "Total shots (inc. Blocked)": 110,
         "_deepnote_index_column": 7
        },
        {
         "Team": "Netherlands",
         "Goals": 2,
         "Shots on target": 12,
         "Shots off target": 36,
         "Shooting Accuracy": "25.0%",
         "% Goals-to-shots": "4.1%",
         "Total shots (inc. Blocked)": 60,
         "_deepnote_index_column": 8
        },
        {
         "Team": "Poland",
         "Goals": 2,
         "Shots on target": 15,
         "Shots off target": 23,
         "Shooting Accuracy": "39.4%",
         "% Goals-to-shots": "5.2%",
         "Total shots (inc. Blocked)": 48,
         "_deepnote_index_column": 9
        },
        {
         "Team": "Portugal",
         "Goals": 6,
         "Shots on target": 22,
         "Shots off target": 42,
         "Shooting Accuracy": "34.3%",
         "% Goals-to-shots": "9.3%",
         "Total shots (inc. Blocked)": 82,
         "_deepnote_index_column": 10
        },
        {
         "Team": "Republic of Ireland",
         "Goals": 1,
         "Shots on target": 7,
         "Shots off target": 12,
         "Shooting Accuracy": "36.8%",
         "% Goals-to-shots": "5.2%",
         "Total shots (inc. Blocked)": 28,
         "_deepnote_index_column": 11
        },
        {
         "Team": "Russia",
         "Goals": 5,
         "Shots on target": 9,
         "Shots off target": 31,
         "Shooting Accuracy": "22.5%",
         "% Goals-to-shots": "12.5%",
         "Total shots (inc. Blocked)": 59,
         "_deepnote_index_column": 12
        },
        {
         "Team": "Spain",
         "Goals": 12,
         "Shots on target": 42,
         "Shots off target": 33,
         "Shooting Accuracy": "55.9%",
         "% Goals-to-shots": "16.0%",
         "Total shots (inc. Blocked)": 100,
         "_deepnote_index_column": 13
        },
        {
         "Team": "Sweden",
         "Goals": 5,
         "Shots on target": 17,
         "Shots off target": 19,
         "Shooting Accuracy": "47.2%",
         "% Goals-to-shots": "13.8%",
         "Total shots (inc. Blocked)": 39,
         "_deepnote_index_column": 14
        },
        {
         "Team": "Ukraine",
         "Goals": 2,
         "Shots on target": 7,
         "Shots off target": 26,
         "Shooting Accuracy": "21.2%",
         "% Goals-to-shots": "6.0%",
         "Total shots (inc. Blocked)": 38,
         "_deepnote_index_column": 15
        }
       ],
       "rows_bottom": null
      },
      "text/plain": "                   Team  Goals  Shots on target  Shots off target  \\\n0               Croatia      4               13                12   \n1        Czech Republic      4               13                18   \n2               Denmark      4               10                10   \n3               England      5               11                18   \n4                France      3               22                24   \n5               Germany     10               32                32   \n6                Greece      5                8                18   \n7                 Italy      6               34                45   \n8           Netherlands      2               12                36   \n9                Poland      2               15                23   \n10             Portugal      6               22                42   \n11  Republic of Ireland      1                7                12   \n12               Russia      5                9                31   \n13                Spain     12               42                33   \n14               Sweden      5               17                19   \n15              Ukraine      2                7                26   \n\n   Shooting Accuracy % Goals-to-shots  Total shots (inc. Blocked)  \n0              51.9%            16.0%                          32  \n1              41.9%            12.9%                          39  \n2              50.0%            20.0%                          27  \n3              50.0%            17.2%                          40  \n4              37.9%             6.5%                          65  \n5              47.8%            15.6%                          80  \n6              30.7%            19.2%                          32  \n7              43.0%             7.5%                         110  \n8              25.0%             4.1%                          60  \n9              39.4%             5.2%                          48  \n10             34.3%             9.3%                          82  \n11             36.8%             5.2%                          28  \n12             22.5%            12.5%                          59  \n13             55.9%            16.0%                         100  \n14             47.2%            13.8%                          39  \n15             21.2%             6.0%                          38  ",
      "text/html": "<div>\n<style scoped>\n    .dataframe tbody tr th:only-of-type {\n        vertical-align: middle;\n    }\n\n    .dataframe tbody tr th {\n        vertical-align: top;\n    }\n\n    .dataframe thead th {\n        text-align: right;\n    }\n</style>\n<table border=\"1\" class=\"dataframe\">\n  <thead>\n    <tr style=\"text-align: right;\">\n      <th></th>\n      <th>Team</th>\n      <th>Goals</th>\n      <th>Shots on target</th>\n      <th>Shots off target</th>\n      <th>Shooting Accuracy</th>\n      <th>% Goals-to-shots</th>\n      <th>Total shots (inc. Blocked)</th>\n    </tr>\n  </thead>\n  <tbody>\n    <tr>\n      <th>0</th>\n      <td>Croatia</td>\n      <td>4</td>\n      <td>13</td>\n      <td>12</td>\n      <td>51.9%</td>\n      <td>16.0%</td>\n      <td>32</td>\n    </tr>\n    <tr>\n      <th>1</th>\n      <td>Czech Republic</td>\n      <td>4</td>\n      <td>13</td>\n      <td>18</td>\n      <td>41.9%</td>\n      <td>12.9%</td>\n      <td>39</td>\n    </tr>\n    <tr>\n      <th>2</th>\n      <td>Denmark</td>\n      <td>4</td>\n      <td>10</td>\n      <td>10</td>\n      <td>50.0%</td>\n      <td>20.0%</td>\n      <td>27</td>\n    </tr>\n    <tr>\n      <th>3</th>\n      <td>England</td>\n      <td>5</td>\n      <td>11</td>\n      <td>18</td>\n      <td>50.0%</td>\n      <td>17.2%</td>\n      <td>40</td>\n    </tr>\n    <tr>\n      <th>4</th>\n      <td>France</td>\n      <td>3</td>\n      <td>22</td>\n      <td>24</td>\n      <td>37.9%</td>\n      <td>6.5%</td>\n      <td>65</td>\n    </tr>\n    <tr>\n      <th>5</th>\n      <td>Germany</td>\n      <td>10</td>\n      <td>32</td>\n      <td>32</td>\n      <td>47.8%</td>\n      <td>15.6%</td>\n      <td>80</td>\n    </tr>\n    <tr>\n      <th>6</th>\n      <td>Greece</td>\n      <td>5</td>\n      <td>8</td>\n      <td>18</td>\n      <td>30.7%</td>\n      <td>19.2%</td>\n      <td>32</td>\n    </tr>\n    <tr>\n      <th>7</th>\n      <td>Italy</td>\n      <td>6</td>\n      <td>34</td>\n      <td>45</td>\n      <td>43.0%</td>\n      <td>7.5%</td>\n      <td>110</td>\n    </tr>\n    <tr>\n      <th>8</th>\n      <td>Netherlands</td>\n      <td>2</td>\n      <td>12</td>\n      <td>36</td>\n      <td>25.0%</td>\n      <td>4.1%</td>\n      <td>60</td>\n    </tr>\n    <tr>\n      <th>9</th>\n      <td>Poland</td>\n      <td>2</td>\n      <td>15</td>\n      <td>23</td>\n      <td>39.4%</td>\n      <td>5.2%</td>\n      <td>48</td>\n    </tr>\n    <tr>\n      <th>10</th>\n      <td>Portugal</td>\n      <td>6</td>\n      <td>22</td>\n      <td>42</td>\n      <td>34.3%</td>\n      <td>9.3%</td>\n      <td>82</td>\n    </tr>\n    <tr>\n      <th>11</th>\n      <td>Republic of Ireland</td>\n      <td>1</td>\n      <td>7</td>\n      <td>12</td>\n      <td>36.8%</td>\n      <td>5.2%</td>\n      <td>28</td>\n    </tr>\n    <tr>\n      <th>12</th>\n      <td>Russia</td>\n      <td>5</td>\n      <td>9</td>\n      <td>31</td>\n      <td>22.5%</td>\n      <td>12.5%</td>\n      <td>59</td>\n    </tr>\n    <tr>\n      <th>13</th>\n      <td>Spain</td>\n      <td>12</td>\n      <td>42</td>\n      <td>33</td>\n      <td>55.9%</td>\n      <td>16.0%</td>\n      <td>100</td>\n    </tr>\n    <tr>\n      <th>14</th>\n      <td>Sweden</td>\n      <td>5</td>\n      <td>17</td>\n      <td>19</td>\n      <td>47.2%</td>\n      <td>13.8%</td>\n      <td>39</td>\n    </tr>\n    <tr>\n      <th>15</th>\n      <td>Ukraine</td>\n      <td>2</td>\n      <td>7</td>\n      <td>26</td>\n      <td>21.2%</td>\n      <td>6.0%</td>\n      <td>38</td>\n    </tr>\n  </tbody>\n</table>\n</div>"
     },
     "metadata": {}
    }
   ],
   "execution_count": null
  },
  {
   "cell_type": "markdown",
   "source": "### Step 13. Select all columns except the last 3.",
   "metadata": {
    "id": "eJoi4-u1vjb0",
    "cell_id": "00025-5afe2d51-d4a1-47fb-b9c4-5eda2114f104",
    "deepnote_cell_type": "markdown"
   }
  },
  {
   "cell_type": "code",
   "metadata": {
    "colab": {
     "base_uri": "https://localhost:8080/",
     "height": 654
    },
    "id": "aXRN9_x1vjb0",
    "executionInfo": {
     "status": "ok",
     "timestamp": 1623210379943,
     "user_tz": 240,
     "elapsed": 6,
     "user": {
      "displayName": "Andrés Sánchez",
      "photoUrl": "https://lh3.googleusercontent.com/a-/AOh14Gg69bZMv30ckb-T1MJy0nSxWIHUaP0p2uP6MYBuvQ=s64",
      "userId": "07985253921366566280"
     }
    },
    "outputId": "48e1c235-e68e-4c26-a7e7-365274bbfcce",
    "cell_id": "00026-6e5baaf5-64f7-48ae-8498-76cfa3eb43ec",
    "deepnote_to_be_reexecuted": false,
    "source_hash": "131635f2",
    "execution_start": 1630097904835,
    "execution_millis": 55,
    "deepnote_cell_type": "code"
   },
   "source": "euro12.iloc[:,:-3]",
   "outputs": [
    {
     "output_type": "execute_result",
     "execution_count": 13,
     "data": {
      "application/vnd.deepnote.dataframe.v2+json": {
       "row_count": 16,
       "column_count": 32,
       "columns": [
        {
         "name": "Team",
         "dtype": "object",
         "stats": {
          "unique_count": 16,
          "nan_count": 0,
          "categories": [
           {
            "name": "Croatia",
            "count": 1
           },
           {
            "name": "Czech Republic",
            "count": 1
           },
           {
            "name": "14 others",
            "count": 14
           }
          ]
         }
        },
        {
         "name": "Goals",
         "dtype": "int64",
         "stats": {
          "unique_count": 8,
          "nan_count": 0,
          "min": "1",
          "max": "12",
          "histogram": [
           {
            "bin_start": 1,
            "bin_end": 2.1,
            "count": 4
           },
           {
            "bin_start": 2.1,
            "bin_end": 3.2,
            "count": 1
           },
           {
            "bin_start": 3.2,
            "bin_end": 4.300000000000001,
            "count": 3
           },
           {
            "bin_start": 4.300000000000001,
            "bin_end": 5.4,
            "count": 4
           },
           {
            "bin_start": 5.4,
            "bin_end": 6.5,
            "count": 2
           },
           {
            "bin_start": 6.5,
            "bin_end": 7.6000000000000005,
            "count": 0
           },
           {
            "bin_start": 7.6000000000000005,
            "bin_end": 8.700000000000001,
            "count": 0
           },
           {
            "bin_start": 8.700000000000001,
            "bin_end": 9.8,
            "count": 0
           },
           {
            "bin_start": 9.8,
            "bin_end": 10.9,
            "count": 1
           },
           {
            "bin_start": 10.9,
            "bin_end": 12,
            "count": 1
           }
          ]
         }
        },
        {
         "name": "Shots on target",
         "dtype": "int64",
         "stats": {
          "unique_count": 13,
          "nan_count": 0,
          "min": "7",
          "max": "42",
          "histogram": [
           {
            "bin_start": 7,
            "bin_end": 10.5,
            "count": 5
           },
           {
            "bin_start": 10.5,
            "bin_end": 14,
            "count": 4
           },
           {
            "bin_start": 14,
            "bin_end": 17.5,
            "count": 2
           },
           {
            "bin_start": 17.5,
            "bin_end": 21,
            "count": 0
           },
           {
            "bin_start": 21,
            "bin_end": 24.5,
            "count": 2
           },
           {
            "bin_start": 24.5,
            "bin_end": 28,
            "count": 0
           },
           {
            "bin_start": 28,
            "bin_end": 31.5,
            "count": 0
           },
           {
            "bin_start": 31.5,
            "bin_end": 35,
            "count": 2
           },
           {
            "bin_start": 35,
            "bin_end": 38.5,
            "count": 0
           },
           {
            "bin_start": 38.5,
            "bin_end": 42,
            "count": 1
           }
          ]
         }
        },
        {
         "name": "Shots off target",
         "dtype": "int64",
         "stats": {
          "unique_count": 13,
          "nan_count": 0,
          "min": "10",
          "max": "45",
          "histogram": [
           {
            "bin_start": 10,
            "bin_end": 13.5,
            "count": 3
           },
           {
            "bin_start": 13.5,
            "bin_end": 17,
            "count": 0
           },
           {
            "bin_start": 17,
            "bin_end": 20.5,
            "count": 4
           },
           {
            "bin_start": 20.5,
            "bin_end": 24,
            "count": 1
           },
           {
            "bin_start": 24,
            "bin_end": 27.5,
            "count": 2
           },
           {
            "bin_start": 27.5,
            "bin_end": 31,
            "count": 0
           },
           {
            "bin_start": 31,
            "bin_end": 34.5,
            "count": 3
           },
           {
            "bin_start": 34.5,
            "bin_end": 38,
            "count": 1
           },
           {
            "bin_start": 38,
            "bin_end": 41.5,
            "count": 0
           },
           {
            "bin_start": 41.5,
            "bin_end": 45,
            "count": 2
           }
          ]
         }
        },
        {
         "name": "Shooting Accuracy",
         "dtype": "object",
         "stats": {
          "unique_count": 15,
          "nan_count": 0,
          "categories": [
           {
            "name": "50.0%",
            "count": 2
           },
           {
            "name": "51.9%",
            "count": 1
           },
           {
            "name": "13 others",
            "count": 13
           }
          ]
         }
        },
        {
         "name": "% Goals-to-shots",
         "dtype": "object",
         "stats": {
          "unique_count": 14,
          "nan_count": 0,
          "categories": [
           {
            "name": "16.0%",
            "count": 2
           },
           {
            "name": "5.2%",
            "count": 2
           },
           {
            "name": "12 others",
            "count": 12
           }
          ]
         }
        },
        {
         "name": "Total shots (inc. Blocked)",
         "dtype": "int64",
         "stats": {
          "unique_count": 14,
          "nan_count": 0,
          "min": "27",
          "max": "110",
          "histogram": [
           {
            "bin_start": 27,
            "bin_end": 35.3,
            "count": 4
           },
           {
            "bin_start": 35.3,
            "bin_end": 43.6,
            "count": 4
           },
           {
            "bin_start": 43.6,
            "bin_end": 51.900000000000006,
            "count": 1
           },
           {
            "bin_start": 51.900000000000006,
            "bin_end": 60.2,
            "count": 2
           },
           {
            "bin_start": 60.2,
            "bin_end": 68.5,
            "count": 1
           },
           {
            "bin_start": 68.5,
            "bin_end": 76.80000000000001,
            "count": 0
           },
           {
            "bin_start": 76.80000000000001,
            "bin_end": 85.10000000000001,
            "count": 2
           },
           {
            "bin_start": 85.10000000000001,
            "bin_end": 93.4,
            "count": 0
           },
           {
            "bin_start": 93.4,
            "bin_end": 101.7,
            "count": 1
           },
           {
            "bin_start": 101.7,
            "bin_end": 110,
            "count": 1
           }
          ]
         }
        },
        {
         "name": "Hit Woodwork",
         "dtype": "int64",
         "stats": {
          "unique_count": 5,
          "nan_count": 0,
          "min": "0",
          "max": "6",
          "histogram": [
           {
            "bin_start": 0,
            "bin_end": 0.6,
            "count": 7
           },
           {
            "bin_start": 0.6,
            "bin_end": 1.2,
            "count": 3
           },
           {
            "bin_start": 1.2,
            "bin_end": 1.7999999999999998,
            "count": 0
           },
           {
            "bin_start": 1.7999999999999998,
            "bin_end": 2.4,
            "count": 4
           },
           {
            "bin_start": 2.4,
            "bin_end": 3,
            "count": 0
           },
           {
            "bin_start": 3,
            "bin_end": 3.5999999999999996,
            "count": 1
           },
           {
            "bin_start": 3.5999999999999996,
            "bin_end": 4.2,
            "count": 0
           },
           {
            "bin_start": 4.2,
            "bin_end": 4.8,
            "count": 0
           },
           {
            "bin_start": 4.8,
            "bin_end": 5.3999999999999995,
            "count": 0
           },
           {
            "bin_start": 5.3999999999999995,
            "bin_end": 6,
            "count": 1
           }
          ]
         }
        },
        {
         "name": "Penalty goals",
         "dtype": "int64",
         "stats": {
          "unique_count": 2,
          "nan_count": 0,
          "min": "0",
          "max": "1",
          "histogram": [
           {
            "bin_start": 0,
            "bin_end": 0.1,
            "count": 13
           },
           {
            "bin_start": 0.1,
            "bin_end": 0.2,
            "count": 0
           },
           {
            "bin_start": 0.2,
            "bin_end": 0.30000000000000004,
            "count": 0
           },
           {
            "bin_start": 0.30000000000000004,
            "bin_end": 0.4,
            "count": 0
           },
           {
            "bin_start": 0.4,
            "bin_end": 0.5,
            "count": 0
           },
           {
            "bin_start": 0.5,
            "bin_end": 0.6000000000000001,
            "count": 0
           },
           {
            "bin_start": 0.6000000000000001,
            "bin_end": 0.7000000000000001,
            "count": 0
           },
           {
            "bin_start": 0.7000000000000001,
            "bin_end": 0.8,
            "count": 0
           },
           {
            "bin_start": 0.8,
            "bin_end": 0.9,
            "count": 0
           },
           {
            "bin_start": 0.9,
            "bin_end": 1,
            "count": 3
           }
          ]
         }
        },
        {
         "name": "Penalties not scored",
         "dtype": "int64",
         "stats": {
          "unique_count": 2,
          "nan_count": 0,
          "min": "0",
          "max": "1",
          "histogram": [
           {
            "bin_start": 0,
            "bin_end": 0.1,
            "count": 15
           },
           {
            "bin_start": 0.1,
            "bin_end": 0.2,
            "count": 0
           },
           {
            "bin_start": 0.2,
            "bin_end": 0.30000000000000004,
            "count": 0
           },
           {
            "bin_start": 0.30000000000000004,
            "bin_end": 0.4,
            "count": 0
           },
           {
            "bin_start": 0.4,
            "bin_end": 0.5,
            "count": 0
           },
           {
            "bin_start": 0.5,
            "bin_end": 0.6000000000000001,
            "count": 0
           },
           {
            "bin_start": 0.6000000000000001,
            "bin_end": 0.7000000000000001,
            "count": 0
           },
           {
            "bin_start": 0.7000000000000001,
            "bin_end": 0.8,
            "count": 0
           },
           {
            "bin_start": 0.8,
            "bin_end": 0.9,
            "count": 0
           },
           {
            "bin_start": 0.9,
            "bin_end": 1,
            "count": 1
           }
          ]
         }
        },
        {
         "name": "Headed goals",
         "dtype": "int64",
         "stats": {
          "unique_count": 4,
          "nan_count": 0,
          "min": "0",
          "max": "3",
          "histogram": [
           {
            "bin_start": 0,
            "bin_end": 0.3,
            "count": 4
           },
           {
            "bin_start": 0.3,
            "bin_end": 0.6,
            "count": 0
           },
           {
            "bin_start": 0.6,
            "bin_end": 0.8999999999999999,
            "count": 0
           },
           {
            "bin_start": 0.8999999999999999,
            "bin_end": 1.2,
            "count": 4
           },
           {
            "bin_start": 1.2,
            "bin_end": 1.5,
            "count": 0
           },
           {
            "bin_start": 1.5,
            "bin_end": 1.7999999999999998,
            "count": 0
           },
           {
            "bin_start": 1.7999999999999998,
            "bin_end": 2.1,
            "count": 6
           },
           {
            "bin_start": 2.1,
            "bin_end": 2.4,
            "count": 0
           },
           {
            "bin_start": 2.4,
            "bin_end": 2.6999999999999997,
            "count": 0
           },
           {
            "bin_start": 2.6999999999999997,
            "bin_end": 3,
            "count": 2
           }
          ]
         }
        },
        {
         "name": "Passes",
         "dtype": "int64",
         "stats": {
          "unique_count": 16,
          "nan_count": 0,
          "min": "851",
          "max": "4317",
          "histogram": [
           {
            "bin_start": 851,
            "bin_end": 1197.6,
            "count": 5
           },
           {
            "bin_start": 1197.6,
            "bin_end": 1544.2,
            "count": 3
           },
           {
            "bin_start": 1544.2,
            "bin_end": 1890.8000000000002,
            "count": 3
           },
           {
            "bin_start": 1890.8000000000002,
            "bin_end": 2237.4,
            "count": 2
           },
           {
            "bin_start": 2237.4,
            "bin_end": 2584,
            "count": 0
           },
           {
            "bin_start": 2584,
            "bin_end": 2930.6000000000004,
            "count": 1
           },
           {
            "bin_start": 2930.6000000000004,
            "bin_end": 3277.2000000000003,
            "count": 1
           },
           {
            "bin_start": 3277.2000000000003,
            "bin_end": 3623.8,
            "count": 0
           },
           {
            "bin_start": 3623.8,
            "bin_end": 3970.4,
            "count": 0
           },
           {
            "bin_start": 3970.4,
            "bin_end": 4317,
            "count": 1
           }
          ]
         }
        },
        {
         "name": "Passes completed",
         "dtype": "int64",
         "stats": {
          "unique_count": 16,
          "nan_count": 0,
          "min": "606",
          "max": "3820",
          "histogram": [
           {
            "bin_start": 606,
            "bin_end": 927.4,
            "count": 4
           },
           {
            "bin_start": 927.4,
            "bin_end": 1248.8,
            "count": 5
           },
           {
            "bin_start": 1248.8,
            "bin_end": 1570.1999999999998,
            "count": 3
           },
           {
            "bin_start": 1570.1999999999998,
            "bin_end": 1891.6,
            "count": 1
           },
           {
            "bin_start": 1891.6,
            "bin_end": 2213,
            "count": 0
           },
           {
            "bin_start": 2213,
            "bin_end": 2534.3999999999996,
            "count": 2
           },
           {
            "bin_start": 2534.3999999999996,
            "bin_end": 2855.7999999999997,
            "count": 0
           },
           {
            "bin_start": 2855.7999999999997,
            "bin_end": 3177.2,
            "count": 0
           },
           {
            "bin_start": 3177.2,
            "bin_end": 3498.6,
            "count": 0
           },
           {
            "bin_start": 3498.6,
            "bin_end": 3820,
            "count": 1
           }
          ]
         }
        },
        {
         "name": "Passing Accuracy",
         "dtype": "object",
         "stats": {
          "unique_count": 15,
          "nan_count": 0,
          "categories": [
           {
            "name": "83.9%",
            "count": 2
           },
           {
            "name": "76.9%",
            "count": 1
           },
           {
            "name": "13 others",
            "count": 13
           }
          ]
         }
        },
        {
         "name": "Touches",
         "dtype": "int64",
         "stats": {
          "unique_count": 16,
          "nan_count": 0,
          "min": "1433",
          "max": "5585",
          "histogram": [
           {
            "bin_start": 1433,
            "bin_end": 1848.2,
            "count": 4
           },
           {
            "bin_start": 1848.2,
            "bin_end": 2263.4,
            "count": 4
           },
           {
            "bin_start": 2263.4,
            "bin_end": 2678.6,
            "count": 3
           },
           {
            "bin_start": 2678.6,
            "bin_end": 3093.8,
            "count": 2
           },
           {
            "bin_start": 3093.8,
            "bin_end": 3509,
            "count": 0
           },
           {
            "bin_start": 3509,
            "bin_end": 3924.2,
            "count": 1
           },
           {
            "bin_start": 3924.2,
            "bin_end": 4339.4,
            "count": 0
           },
           {
            "bin_start": 4339.4,
            "bin_end": 4754.6,
            "count": 1
           },
           {
            "bin_start": 4754.6,
            "bin_end": 5169.799999999999,
            "count": 0
           },
           {
            "bin_start": 5169.799999999999,
            "bin_end": 5585,
            "count": 1
           }
          ]
         }
        },
        {
         "name": "Crosses",
         "dtype": "int64",
         "stats": {
          "unique_count": 14,
          "nan_count": 0,
          "min": "33",
          "max": "101",
          "histogram": [
           {
            "bin_start": 33,
            "bin_end": 39.8,
            "count": 1
           },
           {
            "bin_start": 39.8,
            "bin_end": 46.6,
            "count": 5
           },
           {
            "bin_start": 46.6,
            "bin_end": 53.4,
            "count": 2
           },
           {
            "bin_start": 53.4,
            "bin_end": 60.2,
            "count": 4
           },
           {
            "bin_start": 60.2,
            "bin_end": 67,
            "count": 0
           },
           {
            "bin_start": 67,
            "bin_end": 73.8,
            "count": 1
           },
           {
            "bin_start": 73.8,
            "bin_end": 80.6,
            "count": 1
           },
           {
            "bin_start": 80.6,
            "bin_end": 87.4,
            "count": 0
           },
           {
            "bin_start": 87.4,
            "bin_end": 94.19999999999999,
            "count": 1
           },
           {
            "bin_start": 94.19999999999999,
            "bin_end": 101,
            "count": 1
           }
          ]
         }
        },
        {
         "name": "Dribbles",
         "dtype": "int64",
         "stats": {
          "unique_count": 15,
          "nan_count": 0,
          "min": "18",
          "max": "106",
          "histogram": [
           {
            "bin_start": 18,
            "bin_end": 26.8,
            "count": 2
           },
           {
            "bin_start": 26.8,
            "bin_end": 35.6,
            "count": 2
           },
           {
            "bin_start": 35.6,
            "bin_end": 44.400000000000006,
            "count": 3
           },
           {
            "bin_start": 44.400000000000006,
            "bin_end": 53.2,
            "count": 2
           },
           {
            "bin_start": 53.2,
            "bin_end": 62,
            "count": 2
           },
           {
            "bin_start": 62,
            "bin_end": 70.80000000000001,
            "count": 2
           },
           {
            "bin_start": 70.80000000000001,
            "bin_end": 79.60000000000001,
            "count": 2
           },
           {
            "bin_start": 79.60000000000001,
            "bin_end": 88.4,
            "count": 0
           },
           {
            "bin_start": 88.4,
            "bin_end": 97.2,
            "count": 0
           },
           {
            "bin_start": 97.2,
            "bin_end": 106,
            "count": 1
           }
          ]
         }
        },
        {
         "name": "Corners Taken",
         "dtype": "int64",
         "stats": {
          "unique_count": 13,
          "nan_count": 0,
          "min": "7",
          "max": "44",
          "histogram": [
           {
            "bin_start": 7,
            "bin_end": 10.7,
            "count": 3
           },
           {
            "bin_start": 10.7,
            "bin_end": 14.4,
            "count": 2
           },
           {
            "bin_start": 14.4,
            "bin_end": 18.1,
            "count": 3
           },
           {
            "bin_start": 18.1,
            "bin_end": 21.8,
            "count": 2
           },
           {
            "bin_start": 21.8,
            "bin_end": 25.5,
            "count": 1
           },
           {
            "bin_start": 25.5,
            "bin_end": 29.200000000000003,
            "count": 1
           },
           {
            "bin_start": 29.200000000000003,
            "bin_end": 32.900000000000006,
            "count": 1
           },
           {
            "bin_start": 32.900000000000006,
            "bin_end": 36.6,
            "count": 1
           },
           {
            "bin_start": 36.6,
            "bin_end": 40.300000000000004,
            "count": 0
           },
           {
            "bin_start": 40.300000000000004,
            "bin_end": 44,
            "count": 2
           }
          ]
         }
        },
        {
         "name": "Tackles",
         "dtype": "int64",
         "stats": {
          "unique_count": 14,
          "nan_count": 0,
          "min": "34",
          "max": "122",
          "histogram": [
           {
            "bin_start": 34,
            "bin_end": 42.8,
            "count": 2
           },
           {
            "bin_start": 42.8,
            "bin_end": 51.6,
            "count": 2
           },
           {
            "bin_start": 51.6,
            "bin_end": 60.400000000000006,
            "count": 1
           },
           {
            "bin_start": 60.400000000000006,
            "bin_end": 69.2,
            "count": 5
           },
           {
            "bin_start": 69.2,
            "bin_end": 78,
            "count": 1
           },
           {
            "bin_start": 78,
            "bin_end": 86.80000000000001,
            "count": 2
           },
           {
            "bin_start": 86.80000000000001,
            "bin_end": 95.60000000000001,
            "count": 1
           },
           {
            "bin_start": 95.60000000000001,
            "bin_end": 104.4,
            "count": 1
           },
           {
            "bin_start": 104.4,
            "bin_end": 113.2,
            "count": 0
           },
           {
            "bin_start": 113.2,
            "bin_end": 122,
            "count": 1
           }
          ]
         }
        },
        {
         "name": "Clearances",
         "dtype": "int64",
         "stats": {
          "unique_count": 16,
          "nan_count": 0,
          "min": "41",
          "max": "137",
          "histogram": [
           {
            "bin_start": 41,
            "bin_end": 50.6,
            "count": 1
           },
           {
            "bin_start": 50.6,
            "bin_end": 60.2,
            "count": 1
           },
           {
            "bin_start": 60.2,
            "bin_end": 69.8,
            "count": 1
           },
           {
            "bin_start": 69.8,
            "bin_end": 79.4,
            "count": 4
           },
           {
            "bin_start": 79.4,
            "bin_end": 89,
            "count": 2
           },
           {
            "bin_start": 89,
            "bin_end": 98.6,
            "count": 3
           },
           {
            "bin_start": 98.6,
            "bin_end": 108.2,
            "count": 2
           },
           {
            "bin_start": 108.2,
            "bin_end": 117.8,
            "count": 0
           },
           {
            "bin_start": 117.8,
            "bin_end": 127.39999999999999,
            "count": 1
           },
           {
            "bin_start": 127.39999999999999,
            "bin_end": 137,
            "count": 1
           }
          ]
         }
        },
        {
         "name": "Interceptions",
         "dtype": "int64",
         "stats": {
          "unique_count": 15,
          "nan_count": 0,
          "min": "29",
          "max": "136",
          "histogram": [
           {
            "bin_start": 29,
            "bin_end": 39.7,
            "count": 2
           },
           {
            "bin_start": 39.7,
            "bin_end": 50.4,
            "count": 3
           },
           {
            "bin_start": 50.4,
            "bin_end": 61.099999999999994,
            "count": 4
           },
           {
            "bin_start": 61.099999999999994,
            "bin_end": 71.8,
            "count": 2
           },
           {
            "bin_start": 71.8,
            "bin_end": 82.5,
            "count": 2
           },
           {
            "bin_start": 82.5,
            "bin_end": 93.19999999999999,
            "count": 2
           },
           {
            "bin_start": 93.19999999999999,
            "bin_end": 103.89999999999999,
            "count": 0
           },
           {
            "bin_start": 103.89999999999999,
            "bin_end": 114.6,
            "count": 0
           },
           {
            "bin_start": 114.6,
            "bin_end": 125.3,
            "count": 0
           },
           {
            "bin_start": 125.3,
            "bin_end": 136,
            "count": 1
           }
          ]
         }
        },
        {
         "name": "Clearances off line",
         "dtype": "float64",
         "stats": {
          "unique_count": 3,
          "nan_count": 1,
          "min": "0.0",
          "max": "2.0",
          "histogram": [
           {
            "bin_start": 0,
            "bin_end": 0.2,
            "count": 11
           },
           {
            "bin_start": 0.2,
            "bin_end": 0.4,
            "count": 0
           },
           {
            "bin_start": 0.4,
            "bin_end": 0.6000000000000001,
            "count": 0
           },
           {
            "bin_start": 0.6000000000000001,
            "bin_end": 0.8,
            "count": 0
           },
           {
            "bin_start": 0.8,
            "bin_end": 1,
            "count": 0
           },
           {
            "bin_start": 1,
            "bin_end": 1.2000000000000002,
            "count": 3
           },
           {
            "bin_start": 1.2000000000000002,
            "bin_end": 1.4000000000000001,
            "count": 0
           },
           {
            "bin_start": 1.4000000000000001,
            "bin_end": 1.6,
            "count": 0
           },
           {
            "bin_start": 1.6,
            "bin_end": 1.8,
            "count": 0
           },
           {
            "bin_start": 1.8,
            "bin_end": 2,
            "count": 1
           }
          ]
         }
        },
        {
         "name": "Clean Sheets",
         "dtype": "int64",
         "stats": {
          "unique_count": 4,
          "nan_count": 0,
          "min": "0",
          "max": "5",
          "histogram": [
           {
            "bin_start": 0,
            "bin_end": 0.5,
            "count": 6
           },
           {
            "bin_start": 0.5,
            "bin_end": 1,
            "count": 0
           },
           {
            "bin_start": 1,
            "bin_end": 1.5,
            "count": 6
           },
           {
            "bin_start": 1.5,
            "bin_end": 2,
            "count": 0
           },
           {
            "bin_start": 2,
            "bin_end": 2.5,
            "count": 3
           },
           {
            "bin_start": 2.5,
            "bin_end": 3,
            "count": 0
           },
           {
            "bin_start": 3,
            "bin_end": 3.5,
            "count": 0
           },
           {
            "bin_start": 3.5,
            "bin_end": 4,
            "count": 0
           },
           {
            "bin_start": 4,
            "bin_end": 4.5,
            "count": 0
           },
           {
            "bin_start": 4.5,
            "bin_end": 5,
            "count": 1
           }
          ]
         }
        },
        {
         "name": "Blocks",
         "dtype": "int64",
         "stats": {
          "unique_count": 10,
          "nan_count": 0,
          "min": "4",
          "max": "29",
          "histogram": [
           {
            "bin_start": 4,
            "bin_end": 6.5,
            "count": 1
           },
           {
            "bin_start": 6.5,
            "bin_end": 9,
            "count": 4
           },
           {
            "bin_start": 9,
            "bin_end": 11.5,
            "count": 6
           },
           {
            "bin_start": 11.5,
            "bin_end": 14,
            "count": 1
           },
           {
            "bin_start": 14,
            "bin_end": 16.5,
            "count": 0
           },
           {
            "bin_start": 16.5,
            "bin_end": 19,
            "count": 1
           },
           {
            "bin_start": 19,
            "bin_end": 21.5,
            "count": 0
           },
           {
            "bin_start": 21.5,
            "bin_end": 24,
            "count": 2
           },
           {
            "bin_start": 24,
            "bin_end": 26.5,
            "count": 0
           },
           {
            "bin_start": 26.5,
            "bin_end": 29,
            "count": 1
           }
          ]
         }
        },
        {
         "name": "Goals conceded",
         "dtype": "int64",
         "stats": {
          "unique_count": 7,
          "nan_count": 0,
          "min": "1",
          "max": "9",
          "histogram": [
           {
            "bin_start": 1,
            "bin_end": 1.8,
            "count": 1
           },
           {
            "bin_start": 1.8,
            "bin_end": 2.6,
            "count": 0
           },
           {
            "bin_start": 2.6,
            "bin_end": 3.4000000000000004,
            "count": 4
           },
           {
            "bin_start": 3.4000000000000004,
            "bin_end": 4.2,
            "count": 2
           },
           {
            "bin_start": 4.2,
            "bin_end": 5,
            "count": 0
           },
           {
            "bin_start": 5,
            "bin_end": 5.800000000000001,
            "count": 4
           },
           {
            "bin_start": 5.800000000000001,
            "bin_end": 6.6000000000000005,
            "count": 2
           },
           {
            "bin_start": 6.6000000000000005,
            "bin_end": 7.4,
            "count": 2
           },
           {
            "bin_start": 7.4,
            "bin_end": 8.2,
            "count": 0
           },
           {
            "bin_start": 8.2,
            "bin_end": 9,
            "count": 1
           }
          ]
         }
        },
        {
         "name": "Saves made",
         "dtype": "int64",
         "stats": {
          "unique_count": 10,
          "nan_count": 0,
          "min": "6",
          "max": "22",
          "histogram": [
           {
            "bin_start": 6,
            "bin_end": 7.6,
            "count": 2
           },
           {
            "bin_start": 7.6,
            "bin_end": 9.2,
            "count": 2
           },
           {
            "bin_start": 9.2,
            "bin_end": 10.8,
            "count": 4
           },
           {
            "bin_start": 10.8,
            "bin_end": 12.4,
            "count": 1
           },
           {
            "bin_start": 12.4,
            "bin_end": 14,
            "count": 3
           },
           {
            "bin_start": 14,
            "bin_end": 15.600000000000001,
            "count": 1
           },
           {
            "bin_start": 15.600000000000001,
            "bin_end": 17.200000000000003,
            "count": 1
           },
           {
            "bin_start": 17.200000000000003,
            "bin_end": 18.8,
            "count": 0
           },
           {
            "bin_start": 18.8,
            "bin_end": 20.4,
            "count": 1
           },
           {
            "bin_start": 20.4,
            "bin_end": 22,
            "count": 1
           }
          ]
         }
        },
        {
         "name": "Saves-to-shots ratio",
         "dtype": "object",
         "stats": {
          "unique_count": 15,
          "nan_count": 0,
          "categories": [
           {
            "name": "66.7%",
            "count": 2
           },
           {
            "name": "81.3%",
            "count": 1
           },
           {
            "name": "13 others",
            "count": 13
           }
          ]
         }
        },
        {
         "name": "Fouls Won",
         "dtype": "int64",
         "stats": {
          "unique_count": 13,
          "nan_count": 0,
          "min": "25",
          "max": "102",
          "histogram": [
           {
            "bin_start": 25,
            "bin_end": 32.7,
            "count": 1
           },
           {
            "bin_start": 32.7,
            "bin_end": 40.4,
            "count": 4
           },
           {
            "bin_start": 40.4,
            "bin_end": 48.1,
            "count": 5
           },
           {
            "bin_start": 48.1,
            "bin_end": 55.8,
            "count": 1
           },
           {
            "bin_start": 55.8,
            "bin_end": 63.5,
            "count": 1
           },
           {
            "bin_start": 63.5,
            "bin_end": 71.2,
            "count": 1
           },
           {
            "bin_start": 71.2,
            "bin_end": 78.9,
            "count": 1
           },
           {
            "bin_start": 78.9,
            "bin_end": 86.6,
            "count": 0
           },
           {
            "bin_start": 86.6,
            "bin_end": 94.3,
            "count": 0
           },
           {
            "bin_start": 94.3,
            "bin_end": 102,
            "count": 2
           }
          ]
         }
        },
        {
         "name": "Fouls Conceded",
         "dtype": "int64",
         "stats": {
          "unique_count": 14,
          "nan_count": 0,
          "min": "30",
          "max": "90",
          "histogram": [
           {
            "bin_start": 30,
            "bin_end": 36,
            "count": 2
           },
           {
            "bin_start": 36,
            "bin_end": 42,
            "count": 1
           },
           {
            "bin_start": 42,
            "bin_end": 48,
            "count": 2
           },
           {
            "bin_start": 48,
            "bin_end": 54,
            "count": 5
           },
           {
            "bin_start": 54,
            "bin_end": 60,
            "count": 1
           },
           {
            "bin_start": 60,
            "bin_end": 66,
            "count": 1
           },
           {
            "bin_start": 66,
            "bin_end": 72,
            "count": 0
           },
           {
            "bin_start": 72,
            "bin_end": 78,
            "count": 1
           },
           {
            "bin_start": 78,
            "bin_end": 84,
            "count": 1
           },
           {
            "bin_start": 84,
            "bin_end": 90,
            "count": 2
           }
          ]
         }
        },
        {
         "name": "Offsides",
         "dtype": "int64",
         "stats": {
          "unique_count": 12,
          "nan_count": 0,
          "min": "2",
          "max": "19",
          "histogram": [
           {
            "bin_start": 2,
            "bin_end": 3.7,
            "count": 3
           },
           {
            "bin_start": 3.7,
            "bin_end": 5.4,
            "count": 3
           },
           {
            "bin_start": 5.4,
            "bin_end": 7.1,
            "count": 2
           },
           {
            "bin_start": 7.1,
            "bin_end": 8.8,
            "count": 2
           },
           {
            "bin_start": 8.8,
            "bin_end": 10.5,
            "count": 1
           },
           {
            "bin_start": 10.5,
            "bin_end": 12.2,
            "count": 3
           },
           {
            "bin_start": 12.2,
            "bin_end": 13.9,
            "count": 0
           },
           {
            "bin_start": 13.9,
            "bin_end": 15.6,
            "count": 0
           },
           {
            "bin_start": 15.6,
            "bin_end": 17.299999999999997,
            "count": 1
           },
           {
            "bin_start": 17.299999999999997,
            "bin_end": 19,
            "count": 1
           }
          ]
         }
        },
        {
         "name": "Yellow Cards",
         "dtype": "int64",
         "stats": {
          "unique_count": 8,
          "nan_count": 0,
          "min": "4",
          "max": "16",
          "histogram": [
           {
            "bin_start": 4,
            "bin_end": 5.2,
            "count": 5
           },
           {
            "bin_start": 5.2,
            "bin_end": 6.4,
            "count": 3
           },
           {
            "bin_start": 6.4,
            "bin_end": 7.6,
            "count": 3
           },
           {
            "bin_start": 7.6,
            "bin_end": 8.8,
            "count": 0
           },
           {
            "bin_start": 8.8,
            "bin_end": 10,
            "count": 2
           },
           {
            "bin_start": 10,
            "bin_end": 11.2,
            "count": 1
           },
           {
            "bin_start": 11.2,
            "bin_end": 12.4,
            "count": 1
           },
           {
            "bin_start": 12.4,
            "bin_end": 13.6,
            "count": 0
           },
           {
            "bin_start": 13.6,
            "bin_end": 14.799999999999999,
            "count": 0
           },
           {
            "bin_start": 14.799999999999999,
            "bin_end": 16,
            "count": 1
           }
          ]
         }
        },
        {
         "name": "Red Cards",
         "dtype": "int64",
         "stats": {
          "unique_count": 2,
          "nan_count": 0,
          "min": "0",
          "max": "1",
          "histogram": [
           {
            "bin_start": 0,
            "bin_end": 0.1,
            "count": 13
           },
           {
            "bin_start": 0.1,
            "bin_end": 0.2,
            "count": 0
           },
           {
            "bin_start": 0.2,
            "bin_end": 0.30000000000000004,
            "count": 0
           },
           {
            "bin_start": 0.30000000000000004,
            "bin_end": 0.4,
            "count": 0
           },
           {
            "bin_start": 0.4,
            "bin_end": 0.5,
            "count": 0
           },
           {
            "bin_start": 0.5,
            "bin_end": 0.6000000000000001,
            "count": 0
           },
           {
            "bin_start": 0.6000000000000001,
            "bin_end": 0.7000000000000001,
            "count": 0
           },
           {
            "bin_start": 0.7000000000000001,
            "bin_end": 0.8,
            "count": 0
           },
           {
            "bin_start": 0.8,
            "bin_end": 0.9,
            "count": 0
           },
           {
            "bin_start": 0.9,
            "bin_end": 1,
            "count": 3
           }
          ]
         }
        },
        {
         "name": "_deepnote_index_column",
         "dtype": "int64"
        }
       ],
       "rows_top": [
        {
         "Team": "Croatia",
         "Goals": 4,
         "Shots on target": 13,
         "Shots off target": 12,
         "Shooting Accuracy": "51.9%",
         "% Goals-to-shots": "16.0%",
         "Total shots (inc. Blocked)": 32,
         "Hit Woodwork": 0,
         "Penalty goals": 0,
         "Penalties not scored": 0,
         "Headed goals": 2,
         "Passes": 1076,
         "Passes completed": 828,
         "Passing Accuracy": "76.9%",
         "Touches": 1706,
         "Crosses": 60,
         "Dribbles": 42,
         "Corners Taken": 14,
         "Tackles": 49,
         "Clearances": 83,
         "Interceptions": 56,
         "Clearances off line": "nan",
         "Clean Sheets": 0,
         "Blocks": 10,
         "Goals conceded": 3,
         "Saves made": 13,
         "Saves-to-shots ratio": "81.3%",
         "Fouls Won": 41,
         "Fouls Conceded": 62,
         "Offsides": 2,
         "Yellow Cards": 9,
         "Red Cards": 0,
         "_deepnote_index_column": 0
        },
        {
         "Team": "Czech Republic",
         "Goals": 4,
         "Shots on target": 13,
         "Shots off target": 18,
         "Shooting Accuracy": "41.9%",
         "% Goals-to-shots": "12.9%",
         "Total shots (inc. Blocked)": 39,
         "Hit Woodwork": 0,
         "Penalty goals": 0,
         "Penalties not scored": 0,
         "Headed goals": 0,
         "Passes": 1565,
         "Passes completed": 1223,
         "Passing Accuracy": "78.1%",
         "Touches": 2358,
         "Crosses": 46,
         "Dribbles": 68,
         "Corners Taken": 21,
         "Tackles": 62,
         "Clearances": 98,
         "Interceptions": 37,
         "Clearances off line": 2,
         "Clean Sheets": 1,
         "Blocks": 10,
         "Goals conceded": 6,
         "Saves made": 9,
         "Saves-to-shots ratio": "60.1%",
         "Fouls Won": 53,
         "Fouls Conceded": 73,
         "Offsides": 8,
         "Yellow Cards": 7,
         "Red Cards": 0,
         "_deepnote_index_column": 1
        },
        {
         "Team": "Denmark",
         "Goals": 4,
         "Shots on target": 10,
         "Shots off target": 10,
         "Shooting Accuracy": "50.0%",
         "% Goals-to-shots": "20.0%",
         "Total shots (inc. Blocked)": 27,
         "Hit Woodwork": 1,
         "Penalty goals": 0,
         "Penalties not scored": 0,
         "Headed goals": 3,
         "Passes": 1298,
         "Passes completed": 1082,
         "Passing Accuracy": "83.3%",
         "Touches": 1873,
         "Crosses": 43,
         "Dribbles": 32,
         "Corners Taken": 16,
         "Tackles": 40,
         "Clearances": 61,
         "Interceptions": 59,
         "Clearances off line": 0,
         "Clean Sheets": 1,
         "Blocks": 10,
         "Goals conceded": 5,
         "Saves made": 10,
         "Saves-to-shots ratio": "66.7%",
         "Fouls Won": 25,
         "Fouls Conceded": 38,
         "Offsides": 8,
         "Yellow Cards": 4,
         "Red Cards": 0,
         "_deepnote_index_column": 2
        },
        {
         "Team": "England",
         "Goals": 5,
         "Shots on target": 11,
         "Shots off target": 18,
         "Shooting Accuracy": "50.0%",
         "% Goals-to-shots": "17.2%",
         "Total shots (inc. Blocked)": 40,
         "Hit Woodwork": 0,
         "Penalty goals": 0,
         "Penalties not scored": 0,
         "Headed goals": 3,
         "Passes": 1488,
         "Passes completed": 1200,
         "Passing Accuracy": "80.6%",
         "Touches": 2440,
         "Crosses": 58,
         "Dribbles": 60,
         "Corners Taken": 16,
         "Tackles": 86,
         "Clearances": 106,
         "Interceptions": 72,
         "Clearances off line": 1,
         "Clean Sheets": 2,
         "Blocks": 29,
         "Goals conceded": 3,
         "Saves made": 22,
         "Saves-to-shots ratio": "88.1%",
         "Fouls Won": 43,
         "Fouls Conceded": 45,
         "Offsides": 6,
         "Yellow Cards": 5,
         "Red Cards": 0,
         "_deepnote_index_column": 3
        },
        {
         "Team": "France",
         "Goals": 3,
         "Shots on target": 22,
         "Shots off target": 24,
         "Shooting Accuracy": "37.9%",
         "% Goals-to-shots": "6.5%",
         "Total shots (inc. Blocked)": 65,
         "Hit Woodwork": 1,
         "Penalty goals": 0,
         "Penalties not scored": 0,
         "Headed goals": 0,
         "Passes": 2066,
         "Passes completed": 1803,
         "Passing Accuracy": "87.2%",
         "Touches": 2909,
         "Crosses": 55,
         "Dribbles": 76,
         "Corners Taken": 28,
         "Tackles": 71,
         "Clearances": 76,
         "Interceptions": 58,
         "Clearances off line": 0,
         "Clean Sheets": 1,
         "Blocks": 7,
         "Goals conceded": 5,
         "Saves made": 6,
         "Saves-to-shots ratio": "54.6%",
         "Fouls Won": 36,
         "Fouls Conceded": 51,
         "Offsides": 5,
         "Yellow Cards": 6,
         "Red Cards": 0,
         "_deepnote_index_column": 4
        },
        {
         "Team": "Germany",
         "Goals": 10,
         "Shots on target": 32,
         "Shots off target": 32,
         "Shooting Accuracy": "47.8%",
         "% Goals-to-shots": "15.6%",
         "Total shots (inc. Blocked)": 80,
         "Hit Woodwork": 2,
         "Penalty goals": 1,
         "Penalties not scored": 0,
         "Headed goals": 2,
         "Passes": 2774,
         "Passes completed": 2427,
         "Passing Accuracy": "87.4%",
         "Touches": 3761,
         "Crosses": 101,
         "Dribbles": 60,
         "Corners Taken": 35,
         "Tackles": 91,
         "Clearances": 73,
         "Interceptions": 69,
         "Clearances off line": 0,
         "Clean Sheets": 1,
         "Blocks": 11,
         "Goals conceded": 6,
         "Saves made": 10,
         "Saves-to-shots ratio": "62.6%",
         "Fouls Won": 63,
         "Fouls Conceded": 49,
         "Offsides": 12,
         "Yellow Cards": 4,
         "Red Cards": 0,
         "_deepnote_index_column": 5
        },
        {
         "Team": "Greece",
         "Goals": 5,
         "Shots on target": 8,
         "Shots off target": 18,
         "Shooting Accuracy": "30.7%",
         "% Goals-to-shots": "19.2%",
         "Total shots (inc. Blocked)": 32,
         "Hit Woodwork": 1,
         "Penalty goals": 1,
         "Penalties not scored": 1,
         "Headed goals": 0,
         "Passes": 1187,
         "Passes completed": 911,
         "Passing Accuracy": "76.7%",
         "Touches": 2016,
         "Crosses": 52,
         "Dribbles": 53,
         "Corners Taken": 10,
         "Tackles": 65,
         "Clearances": 123,
         "Interceptions": 87,
         "Clearances off line": 0,
         "Clean Sheets": 1,
         "Blocks": 23,
         "Goals conceded": 7,
         "Saves made": 13,
         "Saves-to-shots ratio": "65.1%",
         "Fouls Won": 67,
         "Fouls Conceded": 48,
         "Offsides": 12,
         "Yellow Cards": 9,
         "Red Cards": 1,
         "_deepnote_index_column": 6
        },
        {
         "Team": "Italy",
         "Goals": 6,
         "Shots on target": 34,
         "Shots off target": 45,
         "Shooting Accuracy": "43.0%",
         "% Goals-to-shots": "7.5%",
         "Total shots (inc. Blocked)": 110,
         "Hit Woodwork": 2,
         "Penalty goals": 0,
         "Penalties not scored": 0,
         "Headed goals": 2,
         "Passes": 3016,
         "Passes completed": 2531,
         "Passing Accuracy": "83.9%",
         "Touches": 4363,
         "Crosses": 75,
         "Dribbles": 75,
         "Corners Taken": 30,
         "Tackles": 98,
         "Clearances": 137,
         "Interceptions": 136,
         "Clearances off line": 1,
         "Clean Sheets": 2,
         "Blocks": 18,
         "Goals conceded": 7,
         "Saves made": 20,
         "Saves-to-shots ratio": "74.1%",
         "Fouls Won": 101,
         "Fouls Conceded": 89,
         "Offsides": 16,
         "Yellow Cards": 16,
         "Red Cards": 0,
         "_deepnote_index_column": 7
        },
        {
         "Team": "Netherlands",
         "Goals": 2,
         "Shots on target": 12,
         "Shots off target": 36,
         "Shooting Accuracy": "25.0%",
         "% Goals-to-shots": "4.1%",
         "Total shots (inc. Blocked)": 60,
         "Hit Woodwork": 2,
         "Penalty goals": 0,
         "Penalties not scored": 0,
         "Headed goals": 0,
         "Passes": 1556,
         "Passes completed": 1381,
         "Passing Accuracy": "88.7%",
         "Touches": 2163,
         "Crosses": 50,
         "Dribbles": 49,
         "Corners Taken": 22,
         "Tackles": 34,
         "Clearances": 41,
         "Interceptions": 41,
         "Clearances off line": 0,
         "Clean Sheets": 0,
         "Blocks": 9,
         "Goals conceded": 5,
         "Saves made": 12,
         "Saves-to-shots ratio": "70.6%",
         "Fouls Won": 35,
         "Fouls Conceded": 30,
         "Offsides": 3,
         "Yellow Cards": 5,
         "Red Cards": 0,
         "_deepnote_index_column": 8
        },
        {
         "Team": "Poland",
         "Goals": 2,
         "Shots on target": 15,
         "Shots off target": 23,
         "Shooting Accuracy": "39.4%",
         "% Goals-to-shots": "5.2%",
         "Total shots (inc. Blocked)": 48,
         "Hit Woodwork": 0,
         "Penalty goals": 0,
         "Penalties not scored": 0,
         "Headed goals": 1,
         "Passes": 1059,
         "Passes completed": 852,
         "Passing Accuracy": "80.4%",
         "Touches": 1724,
         "Crosses": 55,
         "Dribbles": 39,
         "Corners Taken": 14,
         "Tackles": 67,
         "Clearances": 87,
         "Interceptions": 62,
         "Clearances off line": 0,
         "Clean Sheets": 0,
         "Blocks": 8,
         "Goals conceded": 3,
         "Saves made": 6,
         "Saves-to-shots ratio": "66.7%",
         "Fouls Won": 48,
         "Fouls Conceded": 56,
         "Offsides": 3,
         "Yellow Cards": 7,
         "Red Cards": 1,
         "_deepnote_index_column": 9
        },
        {
         "Team": "Portugal",
         "Goals": 6,
         "Shots on target": 22,
         "Shots off target": 42,
         "Shooting Accuracy": "34.3%",
         "% Goals-to-shots": "9.3%",
         "Total shots (inc. Blocked)": 82,
         "Hit Woodwork": 6,
         "Penalty goals": 0,
         "Penalties not scored": 0,
         "Headed goals": 2,
         "Passes": 1891,
         "Passes completed": 1461,
         "Passing Accuracy": "77.2%",
         "Touches": 2958,
         "Crosses": 91,
         "Dribbles": 64,
         "Corners Taken": 41,
         "Tackles": 78,
         "Clearances": 92,
         "Interceptions": 86,
         "Clearances off line": 0,
         "Clean Sheets": 2,
         "Blocks": 11,
         "Goals conceded": 4,
         "Saves made": 10,
         "Saves-to-shots ratio": "71.5%",
         "Fouls Won": 73,
         "Fouls Conceded": 90,
         "Offsides": 10,
         "Yellow Cards": 12,
         "Red Cards": 0,
         "_deepnote_index_column": 10
        },
        {
         "Team": "Republic of Ireland",
         "Goals": 1,
         "Shots on target": 7,
         "Shots off target": 12,
         "Shooting Accuracy": "36.8%",
         "% Goals-to-shots": "5.2%",
         "Total shots (inc. Blocked)": 28,
         "Hit Woodwork": 0,
         "Penalty goals": 0,
         "Penalties not scored": 0,
         "Headed goals": 1,
         "Passes": 851,
         "Passes completed": 606,
         "Passing Accuracy": "71.2%",
         "Touches": 1433,
         "Crosses": 43,
         "Dribbles": 18,
         "Corners Taken": 8,
         "Tackles": 45,
         "Clearances": 78,
         "Interceptions": 43,
         "Clearances off line": 1,
         "Clean Sheets": 0,
         "Blocks": 23,
         "Goals conceded": 9,
         "Saves made": 17,
         "Saves-to-shots ratio": "65.4%",
         "Fouls Won": 43,
         "Fouls Conceded": 51,
         "Offsides": 11,
         "Yellow Cards": 6,
         "Red Cards": 1,
         "_deepnote_index_column": 11
        },
        {
         "Team": "Russia",
         "Goals": 5,
         "Shots on target": 9,
         "Shots off target": 31,
         "Shooting Accuracy": "22.5%",
         "% Goals-to-shots": "12.5%",
         "Total shots (inc. Blocked)": 59,
         "Hit Woodwork": 2,
         "Penalty goals": 0,
         "Penalties not scored": 0,
         "Headed goals": 1,
         "Passes": 1602,
         "Passes completed": 1345,
         "Passing Accuracy": "83.9%",
         "Touches": 2278,
         "Crosses": 40,
         "Dribbles": 40,
         "Corners Taken": 21,
         "Tackles": 65,
         "Clearances": 74,
         "Interceptions": 58,
         "Clearances off line": 0,
         "Clean Sheets": 0,
         "Blocks": 8,
         "Goals conceded": 3,
         "Saves made": 10,
         "Saves-to-shots ratio": "77.0%",
         "Fouls Won": 34,
         "Fouls Conceded": 43,
         "Offsides": 4,
         "Yellow Cards": 6,
         "Red Cards": 0,
         "_deepnote_index_column": 12
        },
        {
         "Team": "Spain",
         "Goals": 12,
         "Shots on target": 42,
         "Shots off target": 33,
         "Shooting Accuracy": "55.9%",
         "% Goals-to-shots": "16.0%",
         "Total shots (inc. Blocked)": 100,
         "Hit Woodwork": 0,
         "Penalty goals": 1,
         "Penalties not scored": 0,
         "Headed goals": 2,
         "Passes": 4317,
         "Passes completed": 3820,
         "Passing Accuracy": "88.4%",
         "Touches": 5585,
         "Crosses": 69,
         "Dribbles": 106,
         "Corners Taken": 44,
         "Tackles": 122,
         "Clearances": 102,
         "Interceptions": 79,
         "Clearances off line": 0,
         "Clean Sheets": 5,
         "Blocks": 8,
         "Goals conceded": 1,
         "Saves made": 15,
         "Saves-to-shots ratio": "93.8%",
         "Fouls Won": 102,
         "Fouls Conceded": 83,
         "Offsides": 19,
         "Yellow Cards": 11,
         "Red Cards": 0,
         "_deepnote_index_column": 13
        },
        {
         "Team": "Sweden",
         "Goals": 5,
         "Shots on target": 17,
         "Shots off target": 19,
         "Shooting Accuracy": "47.2%",
         "% Goals-to-shots": "13.8%",
         "Total shots (inc. Blocked)": 39,
         "Hit Woodwork": 3,
         "Penalty goals": 0,
         "Penalties not scored": 0,
         "Headed goals": 1,
         "Passes": 1192,
         "Passes completed": 965,
         "Passing Accuracy": "80.9%",
         "Touches": 1806,
         "Crosses": 44,
         "Dribbles": 29,
         "Corners Taken": 7,
         "Tackles": 56,
         "Clearances": 54,
         "Interceptions": 45,
         "Clearances off line": 0,
         "Clean Sheets": 1,
         "Blocks": 12,
         "Goals conceded": 5,
         "Saves made": 8,
         "Saves-to-shots ratio": "61.6%",
         "Fouls Won": 35,
         "Fouls Conceded": 51,
         "Offsides": 7,
         "Yellow Cards": 7,
         "Red Cards": 0,
         "_deepnote_index_column": 14
        },
        {
         "Team": "Ukraine",
         "Goals": 2,
         "Shots on target": 7,
         "Shots off target": 26,
         "Shooting Accuracy": "21.2%",
         "% Goals-to-shots": "6.0%",
         "Total shots (inc. Blocked)": 38,
         "Hit Woodwork": 0,
         "Penalty goals": 0,
         "Penalties not scored": 0,
         "Headed goals": 2,
         "Passes": 1276,
         "Passes completed": 1043,
         "Passing Accuracy": "81.7%",
         "Touches": 1894,
         "Crosses": 33,
         "Dribbles": 26,
         "Corners Taken": 18,
         "Tackles": 65,
         "Clearances": 97,
         "Interceptions": 29,
         "Clearances off line": 0,
         "Clean Sheets": 0,
         "Blocks": 4,
         "Goals conceded": 4,
         "Saves made": 13,
         "Saves-to-shots ratio": "76.5%",
         "Fouls Won": 48,
         "Fouls Conceded": 31,
         "Offsides": 4,
         "Yellow Cards": 5,
         "Red Cards": 0,
         "_deepnote_index_column": 15
        }
       ],
       "rows_bottom": null
      },
      "text/plain": "                   Team  Goals  Shots on target  Shots off target  \\\n0               Croatia      4               13                12   \n1        Czech Republic      4               13                18   \n2               Denmark      4               10                10   \n3               England      5               11                18   \n4                France      3               22                24   \n5               Germany     10               32                32   \n6                Greece      5                8                18   \n7                 Italy      6               34                45   \n8           Netherlands      2               12                36   \n9                Poland      2               15                23   \n10             Portugal      6               22                42   \n11  Republic of Ireland      1                7                12   \n12               Russia      5                9                31   \n13                Spain     12               42                33   \n14               Sweden      5               17                19   \n15              Ukraine      2                7                26   \n\n   Shooting Accuracy % Goals-to-shots  Total shots (inc. Blocked)  \\\n0              51.9%            16.0%                          32   \n1              41.9%            12.9%                          39   \n2              50.0%            20.0%                          27   \n3              50.0%            17.2%                          40   \n4              37.9%             6.5%                          65   \n5              47.8%            15.6%                          80   \n6              30.7%            19.2%                          32   \n7              43.0%             7.5%                         110   \n8              25.0%             4.1%                          60   \n9              39.4%             5.2%                          48   \n10             34.3%             9.3%                          82   \n11             36.8%             5.2%                          28   \n12             22.5%            12.5%                          59   \n13             55.9%            16.0%                         100   \n14             47.2%            13.8%                          39   \n15             21.2%             6.0%                          38   \n\n    Hit Woodwork  Penalty goals  Penalties not scored  ...  Clean Sheets  \\\n0              0              0                     0  ...             0   \n1              0              0                     0  ...             1   \n2              1              0                     0  ...             1   \n3              0              0                     0  ...             2   \n4              1              0                     0  ...             1   \n5              2              1                     0  ...             1   \n6              1              1                     1  ...             1   \n7              2              0                     0  ...             2   \n8              2              0                     0  ...             0   \n9              0              0                     0  ...             0   \n10             6              0                     0  ...             2   \n11             0              0                     0  ...             0   \n12             2              0                     0  ...             0   \n13             0              1                     0  ...             5   \n14             3              0                     0  ...             1   \n15             0              0                     0  ...             0   \n\n    Blocks  Goals conceded Saves made  Saves-to-shots ratio  Fouls Won  \\\n0       10               3         13                 81.3%         41   \n1       10               6          9                 60.1%         53   \n2       10               5         10                 66.7%         25   \n3       29               3         22                 88.1%         43   \n4        7               5          6                 54.6%         36   \n5       11               6         10                 62.6%         63   \n6       23               7         13                 65.1%         67   \n7       18               7         20                 74.1%        101   \n8        9               5         12                 70.6%         35   \n9        8               3          6                 66.7%         48   \n10      11               4         10                 71.5%         73   \n11      23               9         17                 65.4%         43   \n12       8               3         10                 77.0%         34   \n13       8               1         15                 93.8%        102   \n14      12               5          8                 61.6%         35   \n15       4               4         13                 76.5%         48   \n\n    Fouls Conceded  Offsides  Yellow Cards  Red Cards  \n0               62         2             9          0  \n1               73         8             7          0  \n2               38         8             4          0  \n3               45         6             5          0  \n4               51         5             6          0  \n5               49        12             4          0  \n6               48        12             9          1  \n7               89        16            16          0  \n8               30         3             5          0  \n9               56         3             7          1  \n10              90        10            12          0  \n11              51        11             6          1  \n12              43         4             6          0  \n13              83        19            11          0  \n14              51         7             7          0  \n15              31         4             5          0  \n\n[16 rows x 32 columns]",
      "text/html": "<div>\n<style scoped>\n    .dataframe tbody tr th:only-of-type {\n        vertical-align: middle;\n    }\n\n    .dataframe tbody tr th {\n        vertical-align: top;\n    }\n\n    .dataframe thead th {\n        text-align: right;\n    }\n</style>\n<table border=\"1\" class=\"dataframe\">\n  <thead>\n    <tr style=\"text-align: right;\">\n      <th></th>\n      <th>Team</th>\n      <th>Goals</th>\n      <th>Shots on target</th>\n      <th>Shots off target</th>\n      <th>Shooting Accuracy</th>\n      <th>% Goals-to-shots</th>\n      <th>Total shots (inc. Blocked)</th>\n      <th>Hit Woodwork</th>\n      <th>Penalty goals</th>\n      <th>Penalties not scored</th>\n      <th>...</th>\n      <th>Clean Sheets</th>\n      <th>Blocks</th>\n      <th>Goals conceded</th>\n      <th>Saves made</th>\n      <th>Saves-to-shots ratio</th>\n      <th>Fouls Won</th>\n      <th>Fouls Conceded</th>\n      <th>Offsides</th>\n      <th>Yellow Cards</th>\n      <th>Red Cards</th>\n    </tr>\n  </thead>\n  <tbody>\n    <tr>\n      <th>0</th>\n      <td>Croatia</td>\n      <td>4</td>\n      <td>13</td>\n      <td>12</td>\n      <td>51.9%</td>\n      <td>16.0%</td>\n      <td>32</td>\n      <td>0</td>\n      <td>0</td>\n      <td>0</td>\n      <td>...</td>\n      <td>0</td>\n      <td>10</td>\n      <td>3</td>\n      <td>13</td>\n      <td>81.3%</td>\n      <td>41</td>\n      <td>62</td>\n      <td>2</td>\n      <td>9</td>\n      <td>0</td>\n    </tr>\n    <tr>\n      <th>1</th>\n      <td>Czech Republic</td>\n      <td>4</td>\n      <td>13</td>\n      <td>18</td>\n      <td>41.9%</td>\n      <td>12.9%</td>\n      <td>39</td>\n      <td>0</td>\n      <td>0</td>\n      <td>0</td>\n      <td>...</td>\n      <td>1</td>\n      <td>10</td>\n      <td>6</td>\n      <td>9</td>\n      <td>60.1%</td>\n      <td>53</td>\n      <td>73</td>\n      <td>8</td>\n      <td>7</td>\n      <td>0</td>\n    </tr>\n    <tr>\n      <th>2</th>\n      <td>Denmark</td>\n      <td>4</td>\n      <td>10</td>\n      <td>10</td>\n      <td>50.0%</td>\n      <td>20.0%</td>\n      <td>27</td>\n      <td>1</td>\n      <td>0</td>\n      <td>0</td>\n      <td>...</td>\n      <td>1</td>\n      <td>10</td>\n      <td>5</td>\n      <td>10</td>\n      <td>66.7%</td>\n      <td>25</td>\n      <td>38</td>\n      <td>8</td>\n      <td>4</td>\n      <td>0</td>\n    </tr>\n    <tr>\n      <th>3</th>\n      <td>England</td>\n      <td>5</td>\n      <td>11</td>\n      <td>18</td>\n      <td>50.0%</td>\n      <td>17.2%</td>\n      <td>40</td>\n      <td>0</td>\n      <td>0</td>\n      <td>0</td>\n      <td>...</td>\n      <td>2</td>\n      <td>29</td>\n      <td>3</td>\n      <td>22</td>\n      <td>88.1%</td>\n      <td>43</td>\n      <td>45</td>\n      <td>6</td>\n      <td>5</td>\n      <td>0</td>\n    </tr>\n    <tr>\n      <th>4</th>\n      <td>France</td>\n      <td>3</td>\n      <td>22</td>\n      <td>24</td>\n      <td>37.9%</td>\n      <td>6.5%</td>\n      <td>65</td>\n      <td>1</td>\n      <td>0</td>\n      <td>0</td>\n      <td>...</td>\n      <td>1</td>\n      <td>7</td>\n      <td>5</td>\n      <td>6</td>\n      <td>54.6%</td>\n      <td>36</td>\n      <td>51</td>\n      <td>5</td>\n      <td>6</td>\n      <td>0</td>\n    </tr>\n    <tr>\n      <th>5</th>\n      <td>Germany</td>\n      <td>10</td>\n      <td>32</td>\n      <td>32</td>\n      <td>47.8%</td>\n      <td>15.6%</td>\n      <td>80</td>\n      <td>2</td>\n      <td>1</td>\n      <td>0</td>\n      <td>...</td>\n      <td>1</td>\n      <td>11</td>\n      <td>6</td>\n      <td>10</td>\n      <td>62.6%</td>\n      <td>63</td>\n      <td>49</td>\n      <td>12</td>\n      <td>4</td>\n      <td>0</td>\n    </tr>\n    <tr>\n      <th>6</th>\n      <td>Greece</td>\n      <td>5</td>\n      <td>8</td>\n      <td>18</td>\n      <td>30.7%</td>\n      <td>19.2%</td>\n      <td>32</td>\n      <td>1</td>\n      <td>1</td>\n      <td>1</td>\n      <td>...</td>\n      <td>1</td>\n      <td>23</td>\n      <td>7</td>\n      <td>13</td>\n      <td>65.1%</td>\n      <td>67</td>\n      <td>48</td>\n      <td>12</td>\n      <td>9</td>\n      <td>1</td>\n    </tr>\n    <tr>\n      <th>7</th>\n      <td>Italy</td>\n      <td>6</td>\n      <td>34</td>\n      <td>45</td>\n      <td>43.0%</td>\n      <td>7.5%</td>\n      <td>110</td>\n      <td>2</td>\n      <td>0</td>\n      <td>0</td>\n      <td>...</td>\n      <td>2</td>\n      <td>18</td>\n      <td>7</td>\n      <td>20</td>\n      <td>74.1%</td>\n      <td>101</td>\n      <td>89</td>\n      <td>16</td>\n      <td>16</td>\n      <td>0</td>\n    </tr>\n    <tr>\n      <th>8</th>\n      <td>Netherlands</td>\n      <td>2</td>\n      <td>12</td>\n      <td>36</td>\n      <td>25.0%</td>\n      <td>4.1%</td>\n      <td>60</td>\n      <td>2</td>\n      <td>0</td>\n      <td>0</td>\n      <td>...</td>\n      <td>0</td>\n      <td>9</td>\n      <td>5</td>\n      <td>12</td>\n      <td>70.6%</td>\n      <td>35</td>\n      <td>30</td>\n      <td>3</td>\n      <td>5</td>\n      <td>0</td>\n    </tr>\n    <tr>\n      <th>9</th>\n      <td>Poland</td>\n      <td>2</td>\n      <td>15</td>\n      <td>23</td>\n      <td>39.4%</td>\n      <td>5.2%</td>\n      <td>48</td>\n      <td>0</td>\n      <td>0</td>\n      <td>0</td>\n      <td>...</td>\n      <td>0</td>\n      <td>8</td>\n      <td>3</td>\n      <td>6</td>\n      <td>66.7%</td>\n      <td>48</td>\n      <td>56</td>\n      <td>3</td>\n      <td>7</td>\n      <td>1</td>\n    </tr>\n    <tr>\n      <th>10</th>\n      <td>Portugal</td>\n      <td>6</td>\n      <td>22</td>\n      <td>42</td>\n      <td>34.3%</td>\n      <td>9.3%</td>\n      <td>82</td>\n      <td>6</td>\n      <td>0</td>\n      <td>0</td>\n      <td>...</td>\n      <td>2</td>\n      <td>11</td>\n      <td>4</td>\n      <td>10</td>\n      <td>71.5%</td>\n      <td>73</td>\n      <td>90</td>\n      <td>10</td>\n      <td>12</td>\n      <td>0</td>\n    </tr>\n    <tr>\n      <th>11</th>\n      <td>Republic of Ireland</td>\n      <td>1</td>\n      <td>7</td>\n      <td>12</td>\n      <td>36.8%</td>\n      <td>5.2%</td>\n      <td>28</td>\n      <td>0</td>\n      <td>0</td>\n      <td>0</td>\n      <td>...</td>\n      <td>0</td>\n      <td>23</td>\n      <td>9</td>\n      <td>17</td>\n      <td>65.4%</td>\n      <td>43</td>\n      <td>51</td>\n      <td>11</td>\n      <td>6</td>\n      <td>1</td>\n    </tr>\n    <tr>\n      <th>12</th>\n      <td>Russia</td>\n      <td>5</td>\n      <td>9</td>\n      <td>31</td>\n      <td>22.5%</td>\n      <td>12.5%</td>\n      <td>59</td>\n      <td>2</td>\n      <td>0</td>\n      <td>0</td>\n      <td>...</td>\n      <td>0</td>\n      <td>8</td>\n      <td>3</td>\n      <td>10</td>\n      <td>77.0%</td>\n      <td>34</td>\n      <td>43</td>\n      <td>4</td>\n      <td>6</td>\n      <td>0</td>\n    </tr>\n    <tr>\n      <th>13</th>\n      <td>Spain</td>\n      <td>12</td>\n      <td>42</td>\n      <td>33</td>\n      <td>55.9%</td>\n      <td>16.0%</td>\n      <td>100</td>\n      <td>0</td>\n      <td>1</td>\n      <td>0</td>\n      <td>...</td>\n      <td>5</td>\n      <td>8</td>\n      <td>1</td>\n      <td>15</td>\n      <td>93.8%</td>\n      <td>102</td>\n      <td>83</td>\n      <td>19</td>\n      <td>11</td>\n      <td>0</td>\n    </tr>\n    <tr>\n      <th>14</th>\n      <td>Sweden</td>\n      <td>5</td>\n      <td>17</td>\n      <td>19</td>\n      <td>47.2%</td>\n      <td>13.8%</td>\n      <td>39</td>\n      <td>3</td>\n      <td>0</td>\n      <td>0</td>\n      <td>...</td>\n      <td>1</td>\n      <td>12</td>\n      <td>5</td>\n      <td>8</td>\n      <td>61.6%</td>\n      <td>35</td>\n      <td>51</td>\n      <td>7</td>\n      <td>7</td>\n      <td>0</td>\n    </tr>\n    <tr>\n      <th>15</th>\n      <td>Ukraine</td>\n      <td>2</td>\n      <td>7</td>\n      <td>26</td>\n      <td>21.2%</td>\n      <td>6.0%</td>\n      <td>38</td>\n      <td>0</td>\n      <td>0</td>\n      <td>0</td>\n      <td>...</td>\n      <td>0</td>\n      <td>4</td>\n      <td>4</td>\n      <td>13</td>\n      <td>76.5%</td>\n      <td>48</td>\n      <td>31</td>\n      <td>4</td>\n      <td>5</td>\n      <td>0</td>\n    </tr>\n  </tbody>\n</table>\n<p>16 rows × 32 columns</p>\n</div>"
     },
     "metadata": {}
    }
   ],
   "execution_count": null
  },
  {
   "cell_type": "markdown",
   "source": "### Step 14. Present only the Shooting Accuracy from England, Italy and Russia",
   "metadata": {
    "id": "bcRVTCefvjb0",
    "cell_id": "00027-2f1eae97-a974-486b-9822-4345d21daf47",
    "deepnote_cell_type": "markdown"
   }
  },
  {
   "cell_type": "code",
   "metadata": {
    "colab": {
     "base_uri": "https://localhost:8080/",
     "height": 136
    },
    "id": "g_gHlebvvjb0",
    "executionInfo": {
     "status": "ok",
     "timestamp": 1623210813904,
     "user_tz": 240,
     "elapsed": 151,
     "user": {
      "displayName": "Andrés Sánchez",
      "photoUrl": "https://lh3.googleusercontent.com/a-/AOh14Gg69bZMv30ckb-T1MJy0nSxWIHUaP0p2uP6MYBuvQ=s64",
      "userId": "07985253921366566280"
     }
    },
    "outputId": "d55a49b8-08f5-4143-8099-0a8a8b1394b0",
    "cell_id": "00028-21b69454-ac43-4500-b19d-5d5005a2d1f5",
    "deepnote_to_be_reexecuted": false,
    "source_hash": "c08e943a",
    "execution_start": 1630097904939,
    "execution_millis": 5,
    "deepnote_cell_type": "code"
   },
   "source": "euro12_eir = euro12[['Team','Shooting Accuracy']]\neuro12_eir.loc[(euro12_eir['Team'] == 'England') | (euro12_eir['Team'] == 'Italy') | (euro12_eir['Team'] == 'Russia')]",
   "outputs": [
    {
     "output_type": "execute_result",
     "execution_count": 14,
     "data": {
      "application/vnd.deepnote.dataframe.v2+json": {
       "row_count": 3,
       "column_count": 2,
       "columns": [
        {
         "name": "Team",
         "dtype": "object",
         "stats": {
          "unique_count": 3,
          "nan_count": 0,
          "categories": [
           {
            "name": "England",
            "count": 1
           },
           {
            "name": "Italy",
            "count": 1
           },
           {
            "name": "Russia",
            "count": 1
           }
          ]
         }
        },
        {
         "name": "Shooting Accuracy",
         "dtype": "object",
         "stats": {
          "unique_count": 3,
          "nan_count": 0,
          "categories": [
           {
            "name": "50.0%",
            "count": 1
           },
           {
            "name": "43.0%",
            "count": 1
           },
           {
            "name": "22.5%",
            "count": 1
           }
          ]
         }
        },
        {
         "name": "_deepnote_index_column",
         "dtype": "int64"
        }
       ],
       "rows_top": [
        {
         "Team": "England",
         "Shooting Accuracy": "50.0%",
         "_deepnote_index_column": 3
        },
        {
         "Team": "Italy",
         "Shooting Accuracy": "43.0%",
         "_deepnote_index_column": 7
        },
        {
         "Team": "Russia",
         "Shooting Accuracy": "22.5%",
         "_deepnote_index_column": 12
        }
       ],
       "rows_bottom": null
      },
      "text/plain": "       Team Shooting Accuracy\n3   England             50.0%\n7     Italy             43.0%\n12   Russia             22.5%",
      "text/html": "<div>\n<style scoped>\n    .dataframe tbody tr th:only-of-type {\n        vertical-align: middle;\n    }\n\n    .dataframe tbody tr th {\n        vertical-align: top;\n    }\n\n    .dataframe thead th {\n        text-align: right;\n    }\n</style>\n<table border=\"1\" class=\"dataframe\">\n  <thead>\n    <tr style=\"text-align: right;\">\n      <th></th>\n      <th>Team</th>\n      <th>Shooting Accuracy</th>\n    </tr>\n  </thead>\n  <tbody>\n    <tr>\n      <th>3</th>\n      <td>England</td>\n      <td>50.0%</td>\n    </tr>\n    <tr>\n      <th>7</th>\n      <td>Italy</td>\n      <td>43.0%</td>\n    </tr>\n    <tr>\n      <th>12</th>\n      <td>Russia</td>\n      <td>22.5%</td>\n    </tr>\n  </tbody>\n</table>\n</div>"
     },
     "metadata": {}
    }
   ],
   "execution_count": null
  },
  {
   "cell_type": "markdown",
   "source": "<a style='text-decoration:none;line-height:16px;display:flex;color:#5B5B62;padding:10px;justify-content:end;' href='https://deepnote.com?utm_source=created-in-deepnote-cell&projectId=fe744348-fecc-4b7a-803c-44dba24ecb38' target=\"_blank\">\n<img alt='Created in deepnote.com' style='display:inline;max-height:16px;margin:0px;margin-right:7.5px;' src='data:image/svg+xml;base64,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' > </img>\nCreated in <span style='font-weight:600;margin-left:4px;'>Deepnote</span></a>",
   "metadata": {
    "tags": [],
    "created_in_deepnote_cell": true,
    "deepnote_cell_type": "markdown"
   }
  }
 ],
 "nbformat": 4,
 "nbformat_minor": 0,
 "metadata": {
  "anaconda-cloud": {},
  "kernelspec": {
   "display_name": "Python [default]",
   "language": "python",
   "name": "python2"
  },
  "language_info": {
   "codemirror_mode": {
    "name": "ipython",
    "version": 2
   },
   "file_extension": ".py",
   "mimetype": "text/x-python",
   "name": "python",
   "nbconvert_exporter": "python",
   "pygments_lexer": "ipython2",
   "version": "2.7.12"
  },
  "colab": {
   "name": "Exercises.ipynb",
   "provenance": [],
   "collapsed_sections": []
  },
  "deepnote_notebook_id": "ffbd28a9-579d-4dbb-aafc-2bd0a8d07e11",
  "deepnote": {},
  "deepnote_execution_queue": []
 }
}
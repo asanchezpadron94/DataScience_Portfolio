{
 "cells": [
  {
   "cell_type": "markdown",
   "source": "# GOT death analysis in Python with Pandas",
   "metadata": {
    "id": "ranw2xG2MJID",
    "cell_id": "00000-f4cae859-0b21-4987-8166-929541b5a60f",
    "deepnote_cell_type": "markdown"
   }
  },
  {
   "cell_type": "code",
   "metadata": {
    "id": "tPAV2gKUMJIE",
    "executionInfo": {
     "status": "ok",
     "timestamp": 1622864814970,
     "user_tz": 240,
     "elapsed": 130,
     "user": {
      "displayName": "Andrés Sánchez",
      "photoUrl": "https://lh3.googleusercontent.com/a-/AOh14Gg69bZMv30ckb-T1MJy0nSxWIHUaP0p2uP6MYBuvQ=s64",
      "userId": "07985253921366566280"
     }
    },
    "cell_id": "00001-2c3a4641-2b9d-46c5-b9ba-c376b7bedb7f",
    "deepnote_to_be_reexecuted": false,
    "source_hash": "aeeebb30",
    "execution_start": 1630187239188,
    "execution_millis": 88348594,
    "deepnote_cell_type": "code"
   },
   "source": "import pandas as pd\nimport numpy as np\nimport os",
   "execution_count": 1,
   "outputs": []
  },
  {
   "cell_type": "markdown",
   "source": "## Connect all the db files.",
   "metadata": {
    "id": "el8Z-tRkMJIF",
    "cell_id": "00002-95320d4c-fd4e-4a96-a37e-715ad649723c",
    "deepnote_cell_type": "markdown"
   }
  },
  {
   "cell_type": "code",
   "metadata": {
    "colab": {
     "base_uri": "https://localhost:8080/",
     "height": 419
    },
    "id": "AtQIsaqkMJIF",
    "executionInfo": {
     "status": "ok",
     "timestamp": 1622864815407,
     "user_tz": 240,
     "elapsed": 318,
     "user": {
      "displayName": "Andrés Sánchez",
      "photoUrl": "https://lh3.googleusercontent.com/a-/AOh14Gg69bZMv30ckb-T1MJy0nSxWIHUaP0p2uP6MYBuvQ=s64",
      "userId": "07985253921366566280"
     }
    },
    "outputId": "9e4eab8e-72c6-4398-8735-1ae312feeb34",
    "cell_id": "00003-175333fe-b590-4718-967e-7d5ecb13f68e",
    "deepnote_to_be_reexecuted": false,
    "source_hash": "bd9c876",
    "execution_start": 1630187239237,
    "execution_millis": 697,
    "deepnote_cell_type": "code"
   },
   "source": "got_deaths = pd.read_csv('/datasets/personalcloud/2021 - GOT Deaths Pracitces/deaths.csv', ';')\ngot_deaths = got_deaths.loc[:, :'Season']\ngot_deaths",
   "execution_count": 2,
   "outputs": [
    {
     "output_type": "execute_result",
     "execution_count": 2,
     "data": {
      "application/vnd.deepnote.dataframe.v2+json": {
       "row_count": 2224,
       "column_count": 9,
       "columns": [
        {
         "name": "Allegiance",
         "dtype": "object",
         "stats": {
          "unique_count": 41,
          "nan_count": 0,
          "categories": [
           {
            "name": "House Lannister",
            "count": 835
           },
           {
            "name": "None",
            "count": 432
           },
           {
            "name": "39 others",
            "count": 957
           }
          ]
         }
        },
        {
         "name": "Death No.",
         "dtype": "int64",
         "stats": {
          "unique_count": 2224,
          "nan_count": 0,
          "min": "1",
          "max": "2224",
          "histogram": [
           {
            "bin_start": 1,
            "bin_end": 223.3,
            "count": 223
           },
           {
            "bin_start": 223.3,
            "bin_end": 445.6,
            "count": 222
           },
           {
            "bin_start": 445.6,
            "bin_end": 667.9000000000001,
            "count": 222
           },
           {
            "bin_start": 667.9000000000001,
            "bin_end": 890.2,
            "count": 223
           },
           {
            "bin_start": 890.2,
            "bin_end": 1112.5,
            "count": 222
           },
           {
            "bin_start": 1112.5,
            "bin_end": 1334.8000000000002,
            "count": 222
           },
           {
            "bin_start": 1334.8000000000002,
            "bin_end": 1557.1000000000001,
            "count": 223
           },
           {
            "bin_start": 1557.1000000000001,
            "bin_end": 1779.4,
            "count": 222
           },
           {
            "bin_start": 1779.4,
            "bin_end": 2001.7,
            "count": 222
           },
           {
            "bin_start": 2001.7,
            "bin_end": 2224,
            "count": 223
           }
          ]
         }
        },
        {
         "name": "Episode",
         "dtype": "int64",
         "stats": {
          "unique_count": 10,
          "nan_count": 0,
          "min": "1",
          "max": "10",
          "histogram": [
           {
            "bin_start": 1,
            "bin_end": 1.9,
            "count": 90
           },
           {
            "bin_start": 1.9,
            "bin_end": 2.8,
            "count": 56
           },
           {
            "bin_start": 2.8,
            "bin_end": 3.7,
            "count": 96
           },
           {
            "bin_start": 3.7,
            "bin_end": 4.6,
            "count": 292
           },
           {
            "bin_start": 4.6,
            "bin_end": 5.5,
            "count": 899
           },
           {
            "bin_start": 5.5,
            "bin_end": 6.4,
            "count": 42
           },
           {
            "bin_start": 6.4,
            "bin_end": 7.3,
            "count": 40
           },
           {
            "bin_start": 7.3,
            "bin_end": 8.2,
            "count": 60
           },
           {
            "bin_start": 8.2,
            "bin_end": 9.1,
            "count": 400
           },
           {
            "bin_start": 9.1,
            "bin_end": 10,
            "count": 249
           }
          ]
         }
        },
        {
         "name": "Killer",
         "dtype": "object",
         "stats": {
          "unique_count": 129,
          "nan_count": 0,
          "categories": [
           {
            "name": "Daenerys Targaryen",
            "count": 1008
           },
           {
            "name": "Cersei Lannister",
            "count": 199
           },
           {
            "name": "127 others",
            "count": 1017
           }
          ]
         }
        },
        {
         "name": "Killers House",
         "dtype": "object",
         "stats": {
          "unique_count": 33,
          "nan_count": 0,
          "categories": [
           {
            "name": "House Targaryen",
            "count": 1148
           },
           {
            "name": "House Lannister",
            "count": 296
           },
           {
            "name": "31 others",
            "count": 780
           }
          ]
         }
        },
        {
         "name": "Location_id",
         "dtype": "int64",
         "stats": {
          "unique_count": 41,
          "nan_count": 0,
          "min": "1",
          "max": "41",
          "histogram": [
           {
            "bin_start": 1,
            "bin_end": 5,
            "count": 112
           },
           {
            "bin_start": 5,
            "bin_end": 9,
            "count": 105
           },
           {
            "bin_start": 9,
            "bin_end": 13,
            "count": 39
           },
           {
            "bin_start": 13,
            "bin_end": 17,
            "count": 1177
           },
           {
            "bin_start": 17,
            "bin_end": 21,
            "count": 139
           },
           {
            "bin_start": 21,
            "bin_end": 25,
            "count": 28
           },
           {
            "bin_start": 25,
            "bin_end": 29,
            "count": 42
           },
           {
            "bin_start": 29,
            "bin_end": 33,
            "count": 225
           },
           {
            "bin_start": 33,
            "bin_end": 37,
            "count": 151
           },
           {
            "bin_start": 37,
            "bin_end": 41,
            "count": 206
           }
          ]
         }
        },
        {
         "name": "Weapon_id",
         "dtype": "int64",
         "stats": {
          "unique_count": 67,
          "nan_count": 0,
          "min": "1",
          "max": "67",
          "histogram": [
           {
            "bin_start": 1,
            "bin_end": 7.6,
            "count": 197
           },
           {
            "bin_start": 7.6,
            "bin_end": 14.2,
            "count": 18
           },
           {
            "bin_start": 14.2,
            "bin_end": 20.799999999999997,
            "count": 1003
           },
           {
            "bin_start": 20.799999999999997,
            "bin_end": 27.4,
            "count": 95
           },
           {
            "bin_start": 27.4,
            "bin_end": 34,
            "count": 32
           },
           {
            "bin_start": 34,
            "bin_end": 40.599999999999994,
            "count": 127
           },
           {
            "bin_start": 40.599999999999994,
            "bin_end": 47.199999999999996,
            "count": 77
           },
           {
            "bin_start": 47.199999999999996,
            "bin_end": 53.8,
            "count": 16
           },
           {
            "bin_start": 53.8,
            "bin_end": 60.4,
            "count": 410
           },
           {
            "bin_start": 60.4,
            "bin_end": 67,
            "count": 249
           }
          ]
         }
        },
        {
         "name": "Name",
         "dtype": "object",
         "stats": {
          "unique_count": 253,
          "nan_count": 0,
          "categories": [
           {
            "name": "Lannister soldier",
            "count": 439
           },
           {
            "name": "Golden Company soldier",
            "count": 374
           },
           {
            "name": "251 others",
            "count": 1411
           }
          ]
         }
        },
        {
         "name": "Season",
         "dtype": "int64",
         "stats": {
          "unique_count": 8,
          "nan_count": 0,
          "min": "1",
          "max": "8",
          "histogram": [
           {
            "bin_start": 1,
            "bin_end": 1.7,
            "count": 58
           },
           {
            "bin_start": 1.7,
            "bin_end": 2.4,
            "count": 130
           },
           {
            "bin_start": 2.4,
            "bin_end": 3.0999999999999996,
            "count": 86
           },
           {
            "bin_start": 3.0999999999999996,
            "bin_end": 3.8,
            "count": 0
           },
           {
            "bin_start": 3.8,
            "bin_end": 4.5,
            "count": 170
           },
           {
            "bin_start": 4.5,
            "bin_end": 5.199999999999999,
            "count": 158
           },
           {
            "bin_start": 5.199999999999999,
            "bin_end": 5.8999999999999995,
            "count": 0
           },
           {
            "bin_start": 5.8999999999999995,
            "bin_end": 6.6,
            "count": 396
           },
           {
            "bin_start": 6.6,
            "bin_end": 7.3,
            "count": 334
           },
           {
            "bin_start": 7.3,
            "bin_end": 8,
            "count": 892
           }
          ]
         }
        },
        {
         "name": "_deepnote_index_column",
         "dtype": "int64"
        }
       ],
       "rows_top": [
        {
         "Allegiance": "Night's Watch",
         "Death No.": 1,
         "Episode": 1,
         "Killer": "White Walker",
         "Killers House": "None",
         "Location_id": 2,
         "Weapon_id": 33,
         "Name": "Waymar Royce",
         "Season": 1,
         "_deepnote_index_column": 0
        },
        {
         "Allegiance": "Night's Watch",
         "Death No.": 2,
         "Episode": 1,
         "Killer": "White Walker",
         "Killers House": "None",
         "Location_id": 2,
         "Weapon_id": 33,
         "Name": "Gared",
         "Season": 1,
         "_deepnote_index_column": 1
        },
        {
         "Allegiance": "Night's Watch",
         "Death No.": 3,
         "Episode": 1,
         "Killer": "Ned Stark",
         "Killers House": "House Stark",
         "Location_id": 40,
         "Weapon_id": 60,
         "Name": "Will",
         "Season": 1,
         "_deepnote_index_column": 2
        },
        {
         "Allegiance": "None",
         "Death No.": 4,
         "Episode": 1,
         "Killer": "Direwolf",
         "Killers House": "None",
         "Location_id": 40,
         "Weapon_id": 61,
         "Name": "Stag",
         "Season": 1,
         "_deepnote_index_column": 3
        },
        {
         "Allegiance": "None",
         "Death No.": 5,
         "Episode": 1,
         "Killer": "Stag",
         "Killers House": "None",
         "Location_id": 40,
         "Weapon_id": 1,
         "Name": "Direwolf",
         "Season": 1,
         "_deepnote_index_column": 4
        },
        {
         "Allegiance": "House Arryn",
         "Death No.": 6,
         "Episode": 1,
         "Killer": "Lysa Arryn",
         "Killers House": "House Arryn",
         "Location_id": 15,
         "Weapon_id": 46,
         "Name": "Jon Arryn",
         "Season": 1,
         "_deepnote_index_column": 5
        },
        {
         "Allegiance": "Dothraki",
         "Death No.": 7,
         "Episode": 1,
         "Killer": "Dothraki man",
         "Killers House": "Dothraki",
         "Location_id": 23,
         "Weapon_id": 2,
         "Name": "Dothraki man",
         "Season": 1,
         "_deepnote_index_column": 6
        },
        {
         "Allegiance": "None",
         "Death No.": 8,
         "Episode": 2,
         "Killer": "Summer",
         "Killers House": "House Stark",
         "Location_id": 40,
         "Weapon_id": 61,
         "Name": "Catspaw assassin",
         "Season": 1,
         "_deepnote_index_column": 7
        },
        {
         "Allegiance": "Smallfolk",
         "Death No.": 9,
         "Episode": 2,
         "Killer": "Sandor \"the Hound\" Clegane",
         "Killers House": "House Lannister",
         "Location_id": 16,
         "Weapon_id": 60,
         "Name": "Mycah",
         "Season": 1,
         "_deepnote_index_column": 8
        },
        {
         "Allegiance": "House Stark",
         "Death No.": 10,
         "Episode": 2,
         "Killer": "Ned Stark",
         "Killers House": "House Stark",
         "Location_id": 16,
         "Weapon_id": 35,
         "Name": "Lady",
         "Season": 1,
         "_deepnote_index_column": 9
        },
        {
         "Allegiance": "House Arryn",
         "Death No.": 11,
         "Episode": 4,
         "Killer": "Gregor \"the Mountain\" Clegane",
         "Killers House": "House Lannister",
         "Location_id": 15,
         "Weapon_id": 57,
         "Name": "Ser Hugh of the Vale",
         "Season": 1,
         "_deepnote_index_column": 10
        },
        {
         "Allegiance": "House Clegane",
         "Death No.": 12,
         "Episode": 5,
         "Killer": "Gregor \"the Mountain\" Clegane",
         "Killers House": "House Lannister",
         "Location_id": 15,
         "Weapon_id": 60,
         "Name": "Clegane's horse",
         "Season": 1,
         "_deepnote_index_column": 11
        },
        {
         "Allegiance": "House Stark",
         "Death No.": 13,
         "Episode": 5,
         "Killer": "Tribesman",
         "Killers House": "None",
         "Location_id": 9,
         "Weapon_id": 9,
         "Name": "Stark soldier",
         "Season": 1,
         "_deepnote_index_column": 12
        },
        {
         "Allegiance": "None",
         "Death No.": 14,
         "Episode": 5,
         "Killer": "Bronn",
         "Killers House": "House Lannister",
         "Location_id": 9,
         "Weapon_id": 60,
         "Name": "Tribesman",
         "Season": 1,
         "_deepnote_index_column": 13
        },
        {
         "Allegiance": "None",
         "Death No.": 15,
         "Episode": 5,
         "Killer": "Bronn",
         "Killers House": "House Lannister",
         "Location_id": 9,
         "Weapon_id": 60,
         "Name": "Tribesman",
         "Season": 1,
         "_deepnote_index_column": 14
        },
        {
         "Allegiance": "None",
         "Death No.": 16,
         "Episode": 5,
         "Killer": "Bronn",
         "Killers House": "House Lannister",
         "Location_id": 9,
         "Weapon_id": 60,
         "Name": "Tribesman",
         "Season": 1,
         "_deepnote_index_column": 15
        },
        {
         "Allegiance": "House Stark",
         "Death No.": 17,
         "Episode": 5,
         "Killer": "Tribesman",
         "Killers House": "None",
         "Location_id": 9,
         "Weapon_id": 36,
         "Name": "Stark soldier",
         "Season": 1,
         "_deepnote_index_column": 16
        },
        {
         "Allegiance": "None",
         "Death No.": 18,
         "Episode": 5,
         "Killer": "Tyrion Lannister",
         "Killers House": "House Lannister",
         "Location_id": 9,
         "Weapon_id": 56,
         "Name": "Tribesman",
         "Season": 1,
         "_deepnote_index_column": 17
        },
        {
         "Allegiance": "None",
         "Death No.": 19,
         "Episode": 5,
         "Killer": "Rodrik Cassel",
         "Killers House": "House Stark",
         "Location_id": 9,
         "Weapon_id": 60,
         "Name": "Tribesman",
         "Season": 1,
         "_deepnote_index_column": 18
        },
        {
         "Allegiance": "None",
         "Death No.": 20,
         "Episode": 5,
         "Killer": "Rodrik Cassel",
         "Killers House": "House Stark",
         "Location_id": 9,
         "Weapon_id": 60,
         "Name": "Tribesman",
         "Season": 1,
         "_deepnote_index_column": 19
        },
        {
         "Allegiance": "None",
         "Death No.": 21,
         "Episode": 5,
         "Killer": "Bronn",
         "Killers House": "House Lannister",
         "Location_id": 9,
         "Weapon_id": 35,
         "Name": "Tribesman",
         "Season": 1,
         "_deepnote_index_column": 20
        },
        {
         "Allegiance": "House Stark",
         "Death No.": 22,
         "Episode": 5,
         "Killer": "Lannister soldier",
         "Killers House": "House Lannister",
         "Location_id": 15,
         "Weapon_id": 57,
         "Name": "Stark soldier",
         "Season": 1,
         "_deepnote_index_column": 21
        },
        {
         "Allegiance": "House Stark",
         "Death No.": 23,
         "Episode": 5,
         "Killer": "Lannister soldier",
         "Killers House": "House Lannister",
         "Location_id": 15,
         "Weapon_id": 57,
         "Name": "Stark soldier",
         "Season": 1,
         "_deepnote_index_column": 22
        },
        {
         "Allegiance": "House Lannister",
         "Death No.": 24,
         "Episode": 5,
         "Killer": "Jory Cassel",
         "Killers House": "House Stark",
         "Location_id": 15,
         "Weapon_id": 60,
         "Name": "Lannister soldier",
         "Season": 1,
         "_deepnote_index_column": 23
        },
        {
         "Allegiance": "House Lannister",
         "Death No.": 25,
         "Episode": 5,
         "Killer": "Ned Stark",
         "Killers House": "House Stark",
         "Location_id": 15,
         "Weapon_id": 60,
         "Name": "Lannister soldier",
         "Season": 1,
         "_deepnote_index_column": 24
        },
        {
         "Allegiance": "House Lannister",
         "Death No.": 26,
         "Episode": 5,
         "Killer": "Jory Cassel",
         "Killers House": "House Stark",
         "Location_id": 15,
         "Weapon_id": 60,
         "Name": "Lannister soldier",
         "Season": 1,
         "_deepnote_index_column": 25
        },
        {
         "Allegiance": "House Lannister",
         "Death No.": 27,
         "Episode": 5,
         "Killer": "Jory Cassel",
         "Killers House": "House Stark",
         "Location_id": 15,
         "Weapon_id": 60,
         "Name": "Lannister soldier",
         "Season": 1,
         "_deepnote_index_column": 26
        },
        {
         "Allegiance": "House Stark",
         "Death No.": 28,
         "Episode": 5,
         "Killer": "Jaime Lannister",
         "Killers House": "House Lannister",
         "Location_id": 15,
         "Weapon_id": 35,
         "Name": "Jory Cassel",
         "Season": 1,
         "_deepnote_index_column": 27
        },
        {
         "Allegiance": "Free Folk",
         "Death No.": 29,
         "Episode": 6,
         "Killer": "Robb Stark",
         "Killers House": "House Stark",
         "Location_id": 40,
         "Weapon_id": 60,
         "Name": "Wallen",
         "Season": 1,
         "_deepnote_index_column": 28
        },
        {
         "Allegiance": "Free Folk",
         "Death No.": 30,
         "Episode": 6,
         "Killer": "Robb Stark",
         "Killers House": "House Stark",
         "Location_id": 40,
         "Weapon_id": 60,
         "Name": "Wildling",
         "Season": 1,
         "_deepnote_index_column": 29
        },
        {
         "Allegiance": "Free Folk",
         "Death No.": 31,
         "Episode": 6,
         "Killer": "Theon Greyjoy",
         "Killers House": "House Bolton",
         "Location_id": 40,
         "Weapon_id": 3,
         "Name": "Stiv",
         "Season": 1,
         "_deepnote_index_column": 30
        },
        {
         "Allegiance": "House Arryn",
         "Death No.": 32,
         "Episode": 6,
         "Killer": "Bronn",
         "Killers House": "House Lannister",
         "Location_id": 31,
         "Weapon_id": 60,
         "Name": "Vardis Egen",
         "Season": 1,
         "_deepnote_index_column": 31
        },
        {
         "Allegiance": "House Targaryen",
         "Death No.": 33,
         "Episode": 6,
         "Killer": "Khal Drogo",
         "Killers House": "Dothraki",
         "Location_id": 38,
         "Weapon_id": 40,
         "Name": "Viserys Targaryen",
         "Season": 1,
         "_deepnote_index_column": 32
        },
        {
         "Allegiance": "House Baratheon of King's Landing",
         "Death No.": 34,
         "Episode": 7,
         "Killer": "Boar",
         "Killers House": "None",
         "Location_id": 15,
         "Weapon_id": 63,
         "Name": "Robert Baratheon",
         "Season": 1,
         "_deepnote_index_column": 33
        },
        {
         "Allegiance": "House Stark",
         "Death No.": 35,
         "Episode": 7,
         "Killer": "City watch guard",
         "Killers House": "House Lannister",
         "Location_id": 15,
         "Weapon_id": 60,
         "Name": "Stark soldier",
         "Season": 1,
         "_deepnote_index_column": 34
        },
        {
         "Allegiance": "House Stark",
         "Death No.": 36,
         "Episode": 7,
         "Killer": "City watch guard",
         "Killers House": "House Lannister",
         "Location_id": 15,
         "Weapon_id": 60,
         "Name": "Stark soldier",
         "Season": 1,
         "_deepnote_index_column": 35
        },
        {
         "Allegiance": "House Stark",
         "Death No.": 37,
         "Episode": 7,
         "Killer": "City watch guard",
         "Killers House": "House Lannister",
         "Location_id": 15,
         "Weapon_id": 60,
         "Name": "Stark soldier",
         "Season": 1,
         "_deepnote_index_column": 36
        },
        {
         "Allegiance": "House Stark",
         "Death No.": 38,
         "Episode": 7,
         "Killer": "Sandor \"the Hound\" Clegane",
         "Killers House": "House Lannister",
         "Location_id": 15,
         "Weapon_id": 60,
         "Name": "Stark soldier",
         "Season": 1,
         "_deepnote_index_column": 37
        },
        {
         "Allegiance": "House Stark",
         "Death No.": 39,
         "Episode": 8,
         "Killer": "Lannister soldier",
         "Killers House": "House Lannister",
         "Location_id": 15,
         "Weapon_id": 60,
         "Name": "Stark soldier",
         "Season": 1,
         "_deepnote_index_column": 38
        },
        {
         "Allegiance": "House Stark",
         "Death No.": 40,
         "Episode": 8,
         "Killer": "Lannister soldier",
         "Killers House": "House Lannister",
         "Location_id": 15,
         "Weapon_id": 60,
         "Name": "Stark soldier",
         "Season": 1,
         "_deepnote_index_column": 39
        },
        {
         "Allegiance": "House Stark",
         "Death No.": 41,
         "Episode": 8,
         "Killer": "Lannister soldier",
         "Killers House": "House Lannister",
         "Location_id": 15,
         "Weapon_id": 60,
         "Name": "Vayon Poole",
         "Season": 1,
         "_deepnote_index_column": 40
        },
        {
         "Allegiance": "House Stark",
         "Death No.": 42,
         "Episode": 8,
         "Killer": "Lannister soldier",
         "Killers House": "House Lannister",
         "Location_id": 15,
         "Weapon_id": 60,
         "Name": "Stark staff member",
         "Season": 1,
         "_deepnote_index_column": 41
        },
        {
         "Allegiance": "House Stark",
         "Death No.": 43,
         "Episode": 8,
         "Killer": "Lannister soldier",
         "Killers House": "House Lannister",
         "Location_id": 15,
         "Weapon_id": 60,
         "Name": "Stark staff member",
         "Season": 1,
         "_deepnote_index_column": 42
        },
        {
         "Allegiance": "House Stark",
         "Death No.": 44,
         "Episode": 8,
         "Killer": "Lannister soldier",
         "Killers House": "House Lannister",
         "Location_id": 15,
         "Weapon_id": 60,
         "Name": "Septa Mordane",
         "Season": 1,
         "_deepnote_index_column": 43
        },
        {
         "Allegiance": "House Stark",
         "Death No.": 45,
         "Episode": 8,
         "Killer": "Meryn Trant",
         "Killers House": "House Trant",
         "Location_id": 15,
         "Weapon_id": 60,
         "Name": "Syrio Forel",
         "Season": 1,
         "_deepnote_index_column": 44
        },
        {
         "Allegiance": "Smallfolk",
         "Death No.": 46,
         "Episode": 8,
         "Killer": "Arya Stark",
         "Killers House": "House Stark",
         "Location_id": 15,
         "Weapon_id": 60,
         "Name": "Stableboy",
         "Season": 1,
         "_deepnote_index_column": 45
        },
        {
         "Allegiance": "None",
         "Death No.": 47,
         "Episode": 8,
         "Killer": "Jon Snow",
         "Killers House": "House Stark",
         "Location_id": 5,
         "Weapon_id": 24,
         "Name": "Othor",
         "Season": 1,
         "_deepnote_index_column": 46
        },
        {
         "Allegiance": "None",
         "Death No.": 48,
         "Episode": 8,
         "Killer": "Night's Watch brother",
         "Killers House": "Night's Watch",
         "Location_id": 5,
         "Weapon_id": 24,
         "Name": "Jafer Flowers",
         "Season": 1,
         "_deepnote_index_column": 47
        },
        {
         "Allegiance": "Dothraki",
         "Death No.": 49,
         "Episode": 8,
         "Killer": "Khal Drogo",
         "Killers House": "Dothraki",
         "Location_id": 18,
         "Weapon_id": 29,
         "Name": "Mago",
         "Season": 1,
         "_deepnote_index_column": 48
        },
        {
         "Allegiance": "Dothraki",
         "Death No.": 50,
         "Episode": 9,
         "Killer": "Mirri Maz Duur",
         "Killers House": "None",
         "Location_id": 25,
         "Weapon_id": 35,
         "Name": "Drogo's horse",
         "Season": 1,
         "_deepnote_index_column": 49
        },
        {
         "Allegiance": "Dothraki",
         "Death No.": 51,
         "Episode": 9,
         "Killer": "Jorah Mormont",
         "Killers House": "House Targaryen",
         "Location_id": 25,
         "Weapon_id": 60,
         "Name": "Qotho",
         "Season": 1,
         "_deepnote_index_column": 50
        },
        {
         "Allegiance": "House Stark",
         "Death No.": 52,
         "Episode": 9,
         "Killer": "Hill tribesman",
         "Killers House": "None",
         "Location_id": 37,
         "Weapon_id": 28,
         "Name": "Stark soldier",
         "Season": 1,
         "_deepnote_index_column": 51
        },
        {
         "Allegiance": "House Stark",
         "Death No.": 53,
         "Episode": 9,
         "Killer": "Hill tribesman",
         "Killers House": "None",
         "Location_id": 37,
         "Weapon_id": 60,
         "Name": "Stark soldier",
         "Season": 1,
         "_deepnote_index_column": 52
        },
        {
         "Allegiance": "None",
         "Death No.": 54,
         "Episode": 9,
         "Killer": "Arya Stark",
         "Killers House": "House Stark",
         "Location_id": 15,
         "Weapon_id": 29,
         "Name": "Pigeon",
         "Season": 1,
         "_deepnote_index_column": 53
        },
        {
         "Allegiance": "House Stark",
         "Death No.": 55,
         "Episode": 9,
         "Killer": "Ilyn Payne",
         "Killers House": "House Payne",
         "Location_id": 15,
         "Weapon_id": 60,
         "Name": "Ned Stark",
         "Season": 1,
         "_deepnote_index_column": 54
        }
       ],
       "rows_bottom": [
        {
         "Allegiance": "None",
         "Death No.": 2156,
         "Episode": 5,
         "Killer": "Daenerys Targaryen",
         "Killers House": "House Targaryen",
         "Location_id": 15,
         "Weapon_id": 20,
         "Name": "King's Landing Citizen",
         "Season": 8,
         "_deepnote_index_column": 2168
        },
        {
         "Allegiance": "None",
         "Death No.": 2157,
         "Episode": 5,
         "Killer": "Daenerys Targaryen",
         "Killers House": "House Targaryen",
         "Location_id": 15,
         "Weapon_id": 20,
         "Name": "King's Landing Citizen",
         "Season": 8,
         "_deepnote_index_column": 2169
        },
        {
         "Allegiance": "None",
         "Death No.": 2158,
         "Episode": 5,
         "Killer": "Daenerys Targaryen",
         "Killers House": "House Targaryen",
         "Location_id": 15,
         "Weapon_id": 20,
         "Name": "King's Landing Citizen",
         "Season": 8,
         "_deepnote_index_column": 2170
        },
        {
         "Allegiance": "None",
         "Death No.": 2159,
         "Episode": 5,
         "Killer": "Daenerys Targaryen",
         "Killers House": "House Targaryen",
         "Location_id": 15,
         "Weapon_id": 20,
         "Name": "King's Landing Citizen",
         "Season": 8,
         "_deepnote_index_column": 2171
        },
        {
         "Allegiance": "None",
         "Death No.": 2160,
         "Episode": 5,
         "Killer": "Daenerys Targaryen",
         "Killers House": "House Targaryen",
         "Location_id": 15,
         "Weapon_id": 20,
         "Name": "King's Landing Citizen",
         "Season": 8,
         "_deepnote_index_column": 2172
        },
        {
         "Allegiance": "None",
         "Death No.": 2161,
         "Episode": 5,
         "Killer": "Daenerys Targaryen",
         "Killers House": "House Targaryen",
         "Location_id": 15,
         "Weapon_id": 20,
         "Name": "King's Landing Citizen",
         "Season": 8,
         "_deepnote_index_column": 2173
        },
        {
         "Allegiance": "None",
         "Death No.": 2162,
         "Episode": 5,
         "Killer": "Daenerys Targaryen",
         "Killers House": "House Targaryen",
         "Location_id": 15,
         "Weapon_id": 20,
         "Name": "King's Landing Citizen",
         "Season": 8,
         "_deepnote_index_column": 2174
        },
        {
         "Allegiance": "None",
         "Death No.": 2163,
         "Episode": 5,
         "Killer": "Daenerys Targaryen",
         "Killers House": "House Targaryen",
         "Location_id": 15,
         "Weapon_id": 20,
         "Name": "King's Landing Citizen",
         "Season": 8,
         "_deepnote_index_column": 2175
        },
        {
         "Allegiance": "None",
         "Death No.": 2164,
         "Episode": 5,
         "Killer": "Daenerys Targaryen",
         "Killers House": "House Targaryen",
         "Location_id": 15,
         "Weapon_id": 20,
         "Name": "King's Landing Citizen",
         "Season": 8,
         "_deepnote_index_column": 2176
        },
        {
         "Allegiance": "None",
         "Death No.": 2165,
         "Episode": 5,
         "Killer": "Daenerys Targaryen",
         "Killers House": "House Targaryen",
         "Location_id": 15,
         "Weapon_id": 20,
         "Name": "King's Landing Citizen",
         "Season": 8,
         "_deepnote_index_column": 2177
        },
        {
         "Allegiance": "None",
         "Death No.": 2166,
         "Episode": 5,
         "Killer": "Daenerys Targaryen",
         "Killers House": "House Targaryen",
         "Location_id": 15,
         "Weapon_id": 20,
         "Name": "King's Landing Citizen",
         "Season": 8,
         "_deepnote_index_column": 2178
        },
        {
         "Allegiance": "None",
         "Death No.": 2167,
         "Episode": 5,
         "Killer": "Daenerys Targaryen",
         "Killers House": "House Targaryen",
         "Location_id": 15,
         "Weapon_id": 20,
         "Name": "King's Landing Citizen",
         "Season": 8,
         "_deepnote_index_column": 2179
        },
        {
         "Allegiance": "None",
         "Death No.": 2168,
         "Episode": 5,
         "Killer": "Daenerys Targaryen",
         "Killers House": "House Targaryen",
         "Location_id": 15,
         "Weapon_id": 20,
         "Name": "King's Landing Citizen",
         "Season": 8,
         "_deepnote_index_column": 2180
        },
        {
         "Allegiance": "None",
         "Death No.": 2169,
         "Episode": 5,
         "Killer": "Daenerys Targaryen",
         "Killers House": "House Targaryen",
         "Location_id": 15,
         "Weapon_id": 20,
         "Name": "King's Landing Citizen",
         "Season": 8,
         "_deepnote_index_column": 2181
        },
        {
         "Allegiance": "None",
         "Death No.": 2170,
         "Episode": 5,
         "Killer": "Daenerys Targaryen",
         "Killers House": "House Targaryen",
         "Location_id": 15,
         "Weapon_id": 20,
         "Name": "King's Landing Citizen",
         "Season": 8,
         "_deepnote_index_column": 2182
        },
        {
         "Allegiance": "None",
         "Death No.": 2171,
         "Episode": 5,
         "Killer": "Daenerys Targaryen",
         "Killers House": "House Targaryen",
         "Location_id": 15,
         "Weapon_id": 20,
         "Name": "King's Landing Citizen",
         "Season": 8,
         "_deepnote_index_column": 2183
        },
        {
         "Allegiance": "None",
         "Death No.": 2172,
         "Episode": 5,
         "Killer": "Daenerys Targaryen",
         "Killers House": "House Targaryen",
         "Location_id": 15,
         "Weapon_id": 20,
         "Name": "King's Landing Citizen",
         "Season": 8,
         "_deepnote_index_column": 2184
        },
        {
         "Allegiance": "None",
         "Death No.": 2173,
         "Episode": 5,
         "Killer": "Daenerys Targaryen",
         "Killers House": "House Targaryen",
         "Location_id": 15,
         "Weapon_id": 20,
         "Name": "King's Landing Citizen",
         "Season": 8,
         "_deepnote_index_column": 2185
        },
        {
         "Allegiance": "None",
         "Death No.": 2174,
         "Episode": 5,
         "Killer": "Daenerys Targaryen",
         "Killers House": "House Targaryen",
         "Location_id": 15,
         "Weapon_id": 20,
         "Name": "King's Landing Citizen",
         "Season": 8,
         "_deepnote_index_column": 2186
        },
        {
         "Allegiance": "None",
         "Death No.": 2175,
         "Episode": 5,
         "Killer": "Daenerys Targaryen",
         "Killers House": "House Targaryen",
         "Location_id": 15,
         "Weapon_id": 20,
         "Name": "King's Landing Citizen",
         "Season": 8,
         "_deepnote_index_column": 2187
        },
        {
         "Allegiance": "None",
         "Death No.": 2176,
         "Episode": 5,
         "Killer": "Daenerys Targaryen",
         "Killers House": "House Targaryen",
         "Location_id": 15,
         "Weapon_id": 20,
         "Name": "King's Landing Citizen",
         "Season": 8,
         "_deepnote_index_column": 2188
        },
        {
         "Allegiance": "None",
         "Death No.": 2177,
         "Episode": 5,
         "Killer": "Daenerys Targaryen",
         "Killers House": "House Targaryen",
         "Location_id": 15,
         "Weapon_id": 20,
         "Name": "King's Landing Citizen",
         "Season": 8,
         "_deepnote_index_column": 2189
        },
        {
         "Allegiance": "None",
         "Death No.": 2178,
         "Episode": 5,
         "Killer": "Daenerys Targaryen",
         "Killers House": "House Targaryen",
         "Location_id": 15,
         "Weapon_id": 20,
         "Name": "King's Landing Citizen",
         "Season": 8,
         "_deepnote_index_column": 2190
        },
        {
         "Allegiance": "None",
         "Death No.": 2179,
         "Episode": 5,
         "Killer": "Daenerys Targaryen",
         "Killers House": "House Targaryen",
         "Location_id": 15,
         "Weapon_id": 20,
         "Name": "King's Landing Citizen",
         "Season": 8,
         "_deepnote_index_column": 2191
        },
        {
         "Allegiance": "None",
         "Death No.": 2180,
         "Episode": 5,
         "Killer": "Daenerys Targaryen",
         "Killers House": "House Targaryen",
         "Location_id": 15,
         "Weapon_id": 20,
         "Name": "King's Landing Citizen",
         "Season": 8,
         "_deepnote_index_column": 2192
        },
        {
         "Allegiance": "None",
         "Death No.": 2181,
         "Episode": 5,
         "Killer": "Daenerys Targaryen",
         "Killers House": "House Targaryen",
         "Location_id": 15,
         "Weapon_id": 20,
         "Name": "King's Landing Citizen",
         "Season": 8,
         "_deepnote_index_column": 2193
        },
        {
         "Allegiance": "None",
         "Death No.": 2182,
         "Episode": 5,
         "Killer": "Daenerys Targaryen",
         "Killers House": "House Targaryen",
         "Location_id": 15,
         "Weapon_id": 20,
         "Name": "King's Landing Citizen",
         "Season": 8,
         "_deepnote_index_column": 2194
        },
        {
         "Allegiance": "None",
         "Death No.": 2183,
         "Episode": 5,
         "Killer": "Daenerys Targaryen",
         "Killers House": "House Targaryen",
         "Location_id": 15,
         "Weapon_id": 20,
         "Name": "King's Landing Citizen",
         "Season": 8,
         "_deepnote_index_column": 2195
        },
        {
         "Allegiance": "None",
         "Death No.": 2184,
         "Episode": 5,
         "Killer": "Daenerys Targaryen",
         "Killers House": "House Targaryen",
         "Location_id": 15,
         "Weapon_id": 20,
         "Name": "King's Landing Citizen",
         "Season": 8,
         "_deepnote_index_column": 2196
        },
        {
         "Allegiance": "None",
         "Death No.": 2185,
         "Episode": 5,
         "Killer": "Daenerys Targaryen",
         "Killers House": "House Targaryen",
         "Location_id": 15,
         "Weapon_id": 20,
         "Name": "King's Landing Citizen",
         "Season": 8,
         "_deepnote_index_column": 2197
        },
        {
         "Allegiance": "None",
         "Death No.": 2186,
         "Episode": 5,
         "Killer": "Daenerys Targaryen",
         "Killers House": "House Targaryen",
         "Location_id": 15,
         "Weapon_id": 20,
         "Name": "King's Landing Citizen",
         "Season": 8,
         "_deepnote_index_column": 2198
        },
        {
         "Allegiance": "None",
         "Death No.": 2187,
         "Episode": 5,
         "Killer": "Daenerys Targaryen",
         "Killers House": "House Targaryen",
         "Location_id": 15,
         "Weapon_id": 20,
         "Name": "King's Landing Citizen",
         "Season": 8,
         "_deepnote_index_column": 2199
        },
        {
         "Allegiance": "None",
         "Death No.": 2188,
         "Episode": 5,
         "Killer": "Daenerys Targaryen",
         "Killers House": "House Targaryen",
         "Location_id": 15,
         "Weapon_id": 20,
         "Name": "King's Landing Citizen",
         "Season": 8,
         "_deepnote_index_column": 2200
        },
        {
         "Allegiance": "None",
         "Death No.": 2189,
         "Episode": 5,
         "Killer": "Daenerys Targaryen",
         "Killers House": "House Targaryen",
         "Location_id": 15,
         "Weapon_id": 20,
         "Name": "King's Landing Citizen",
         "Season": 8,
         "_deepnote_index_column": 2201
        },
        {
         "Allegiance": "None",
         "Death No.": 2190,
         "Episode": 5,
         "Killer": "Daenerys Targaryen",
         "Killers House": "House Targaryen",
         "Location_id": 15,
         "Weapon_id": 20,
         "Name": "King's Landing Citizen",
         "Season": 8,
         "_deepnote_index_column": 2202
        },
        {
         "Allegiance": "None",
         "Death No.": 2191,
         "Episode": 5,
         "Killer": "Daenerys Targaryen",
         "Killers House": "House Targaryen",
         "Location_id": 15,
         "Weapon_id": 20,
         "Name": "King's Landing Citizen",
         "Season": 8,
         "_deepnote_index_column": 2203
        },
        {
         "Allegiance": "None",
         "Death No.": 2192,
         "Episode": 5,
         "Killer": "Daenerys Targaryen",
         "Killers House": "House Targaryen",
         "Location_id": 15,
         "Weapon_id": 20,
         "Name": "King's Landing Citizen",
         "Season": 8,
         "_deepnote_index_column": 2204
        },
        {
         "Allegiance": "None",
         "Death No.": 2193,
         "Episode": 5,
         "Killer": "Daenerys Targaryen",
         "Killers House": "House Targaryen",
         "Location_id": 15,
         "Weapon_id": 20,
         "Name": "King's Landing Citizen",
         "Season": 8,
         "_deepnote_index_column": 2205
        },
        {
         "Allegiance": "None",
         "Death No.": 2194,
         "Episode": 5,
         "Killer": "Daenerys Targaryen",
         "Killers House": "House Targaryen",
         "Location_id": 15,
         "Weapon_id": 20,
         "Name": "King's Landing Citizen",
         "Season": 8,
         "_deepnote_index_column": 2206
        },
        {
         "Allegiance": "None",
         "Death No.": 2195,
         "Episode": 5,
         "Killer": "Daenerys Targaryen",
         "Killers House": "House Targaryen",
         "Location_id": 15,
         "Weapon_id": 20,
         "Name": "King's Landing Citizen",
         "Season": 8,
         "_deepnote_index_column": 2207
        },
        {
         "Allegiance": "None",
         "Death No.": 2196,
         "Episode": 5,
         "Killer": "Daenerys Targaryen",
         "Killers House": "House Targaryen",
         "Location_id": 15,
         "Weapon_id": 20,
         "Name": "King's Landing Citizen",
         "Season": 8,
         "_deepnote_index_column": 2208
        },
        {
         "Allegiance": "None",
         "Death No.": 2197,
         "Episode": 5,
         "Killer": "Daenerys Targaryen",
         "Killers House": "House Targaryen",
         "Location_id": 15,
         "Weapon_id": 20,
         "Name": "King's Landing Citizen",
         "Season": 8,
         "_deepnote_index_column": 2209
        },
        {
         "Allegiance": "None",
         "Death No.": 2198,
         "Episode": 5,
         "Killer": "Daenerys Targaryen",
         "Killers House": "House Targaryen",
         "Location_id": 15,
         "Weapon_id": 20,
         "Name": "King's Landing Citizen",
         "Season": 8,
         "_deepnote_index_column": 2210
        },
        {
         "Allegiance": "None",
         "Death No.": 2199,
         "Episode": 5,
         "Killer": "Daenerys Targaryen",
         "Killers House": "House Targaryen",
         "Location_id": 15,
         "Weapon_id": 20,
         "Name": "King's Landing Citizen",
         "Season": 8,
         "_deepnote_index_column": 2211
        },
        {
         "Allegiance": "None",
         "Death No.": 2200,
         "Episode": 5,
         "Killer": "Daenerys Targaryen",
         "Killers House": "House Targaryen",
         "Location_id": 15,
         "Weapon_id": 20,
         "Name": "King's Landing Citizen",
         "Season": 8,
         "_deepnote_index_column": 2212
        },
        {
         "Allegiance": "None",
         "Death No.": 2201,
         "Episode": 5,
         "Killer": "Daenerys Targaryen",
         "Killers House": "House Targaryen",
         "Location_id": 15,
         "Weapon_id": 20,
         "Name": "King's Landing Citizen",
         "Season": 8,
         "_deepnote_index_column": 2213
        },
        {
         "Allegiance": "None",
         "Death No.": 2202,
         "Episode": 5,
         "Killer": "Daenerys Targaryen",
         "Killers House": "House Targaryen",
         "Location_id": 15,
         "Weapon_id": 20,
         "Name": "King's Landing Citizen",
         "Season": 8,
         "_deepnote_index_column": 2214
        },
        {
         "Allegiance": "None",
         "Death No.": 2203,
         "Episode": 5,
         "Killer": "Daenerys Targaryen",
         "Killers House": "House Targaryen",
         "Location_id": 15,
         "Weapon_id": 20,
         "Name": "King's Landing Citizen",
         "Season": 8,
         "_deepnote_index_column": 2215
        },
        {
         "Allegiance": "None",
         "Death No.": 2204,
         "Episode": 5,
         "Killer": "Daenerys Targaryen",
         "Killers House": "House Targaryen",
         "Location_id": 15,
         "Weapon_id": 20,
         "Name": "King's Landing Citizen",
         "Season": 8,
         "_deepnote_index_column": 2216
        },
        {
         "Allegiance": "None",
         "Death No.": 2205,
         "Episode": 5,
         "Killer": "Daenerys Targaryen",
         "Killers House": "House Targaryen",
         "Location_id": 15,
         "Weapon_id": 20,
         "Name": "King's Landing Citizen",
         "Season": 8,
         "_deepnote_index_column": 2217
        },
        {
         "Allegiance": "None",
         "Death No.": 2206,
         "Episode": 5,
         "Killer": "Daenerys Targaryen",
         "Killers House": "House Targaryen",
         "Location_id": 15,
         "Weapon_id": 20,
         "Name": "King's Landing Citizen",
         "Season": 8,
         "_deepnote_index_column": 2218
        },
        {
         "Allegiance": "None",
         "Death No.": 2207,
         "Episode": 5,
         "Killer": "Daenerys Targaryen",
         "Killers House": "House Targaryen",
         "Location_id": 15,
         "Weapon_id": 20,
         "Name": "King's Landing Citizen",
         "Season": 8,
         "_deepnote_index_column": 2219
        },
        {
         "Allegiance": "None",
         "Death No.": 2208,
         "Episode": 5,
         "Killer": "Daenerys Targaryen",
         "Killers House": "House Targaryen",
         "Location_id": 15,
         "Weapon_id": 20,
         "Name": "King's Landing Citizen",
         "Season": 8,
         "_deepnote_index_column": 2220
        },
        {
         "Allegiance": "None",
         "Death No.": 2209,
         "Episode": 5,
         "Killer": "Daenerys Targaryen",
         "Killers House": "House Targaryen",
         "Location_id": 15,
         "Weapon_id": 20,
         "Name": "King's Landing Citizen",
         "Season": 8,
         "_deepnote_index_column": 2221
        },
        {
         "Allegiance": "None",
         "Death No.": 2210,
         "Episode": 5,
         "Killer": "Daenerys Targaryen",
         "Killers House": "House Targaryen",
         "Location_id": 15,
         "Weapon_id": 20,
         "Name": "King's Landing Citizen",
         "Season": 8,
         "_deepnote_index_column": 2222
        },
        {
         "Allegiance": "House Targaryen",
         "Death No.": 2224,
         "Episode": 6,
         "Killer": "Jon Snow",
         "Killers House": "House Stark",
         "Location_id": 15,
         "Weapon_id": 35,
         "Name": "Daenerys Targaryen",
         "Season": 8,
         "_deepnote_index_column": 2223
        }
       ]
      },
      "text/plain": "           Allegiance  Death No.  Episode              Killer  \\\n0       Night's Watch          1        1        White Walker   \n1       Night's Watch          2        1        White Walker   \n2       Night's Watch          3        1           Ned Stark   \n3                None          4        1            Direwolf   \n4                None          5        1                Stag   \n...               ...        ...      ...                 ...   \n2219             None       2207        5  Daenerys Targaryen   \n2220             None       2208        5  Daenerys Targaryen   \n2221             None       2209        5  Daenerys Targaryen   \n2222             None       2210        5  Daenerys Targaryen   \n2223  House Targaryen       2224        6            Jon Snow   \n\n        Killers House  Location_id  Weapon_id                    Name  Season  \n0                None            2         33            Waymar Royce       1  \n1                None            2         33                   Gared       1  \n2         House Stark           40         60                    Will       1  \n3                None           40         61                    Stag       1  \n4                None           40          1                Direwolf       1  \n...               ...          ...        ...                     ...     ...  \n2219  House Targaryen           15         20  King's Landing Citizen       8  \n2220  House Targaryen           15         20  King's Landing Citizen       8  \n2221  House Targaryen           15         20  King's Landing Citizen       8  \n2222  House Targaryen           15         20  King's Landing Citizen       8  \n2223      House Stark           15         35      Daenerys Targaryen       8  \n\n[2224 rows x 9 columns]",
      "text/html": "<div>\n<style scoped>\n    .dataframe tbody tr th:only-of-type {\n        vertical-align: middle;\n    }\n\n    .dataframe tbody tr th {\n        vertical-align: top;\n    }\n\n    .dataframe thead th {\n        text-align: right;\n    }\n</style>\n<table border=\"1\" class=\"dataframe\">\n  <thead>\n    <tr style=\"text-align: right;\">\n      <th></th>\n      <th>Allegiance</th>\n      <th>Death No.</th>\n      <th>Episode</th>\n      <th>Killer</th>\n      <th>Killers House</th>\n      <th>Location_id</th>\n      <th>Weapon_id</th>\n      <th>Name</th>\n      <th>Season</th>\n    </tr>\n  </thead>\n  <tbody>\n    <tr>\n      <th>0</th>\n      <td>Night's Watch</td>\n      <td>1</td>\n      <td>1</td>\n      <td>White Walker</td>\n      <td>None</td>\n      <td>2</td>\n      <td>33</td>\n      <td>Waymar Royce</td>\n      <td>1</td>\n    </tr>\n    <tr>\n      <th>1</th>\n      <td>Night's Watch</td>\n      <td>2</td>\n      <td>1</td>\n      <td>White Walker</td>\n      <td>None</td>\n      <td>2</td>\n      <td>33</td>\n      <td>Gared</td>\n      <td>1</td>\n    </tr>\n    <tr>\n      <th>2</th>\n      <td>Night's Watch</td>\n      <td>3</td>\n      <td>1</td>\n      <td>Ned Stark</td>\n      <td>House Stark</td>\n      <td>40</td>\n      <td>60</td>\n      <td>Will</td>\n      <td>1</td>\n    </tr>\n    <tr>\n      <th>3</th>\n      <td>None</td>\n      <td>4</td>\n      <td>1</td>\n      <td>Direwolf</td>\n      <td>None</td>\n      <td>40</td>\n      <td>61</td>\n      <td>Stag</td>\n      <td>1</td>\n    </tr>\n    <tr>\n      <th>4</th>\n      <td>None</td>\n      <td>5</td>\n      <td>1</td>\n      <td>Stag</td>\n      <td>None</td>\n      <td>40</td>\n      <td>1</td>\n      <td>Direwolf</td>\n      <td>1</td>\n    </tr>\n    <tr>\n      <th>...</th>\n      <td>...</td>\n      <td>...</td>\n      <td>...</td>\n      <td>...</td>\n      <td>...</td>\n      <td>...</td>\n      <td>...</td>\n      <td>...</td>\n      <td>...</td>\n    </tr>\n    <tr>\n      <th>2219</th>\n      <td>None</td>\n      <td>2207</td>\n      <td>5</td>\n      <td>Daenerys Targaryen</td>\n      <td>House Targaryen</td>\n      <td>15</td>\n      <td>20</td>\n      <td>King's Landing Citizen</td>\n      <td>8</td>\n    </tr>\n    <tr>\n      <th>2220</th>\n      <td>None</td>\n      <td>2208</td>\n      <td>5</td>\n      <td>Daenerys Targaryen</td>\n      <td>House Targaryen</td>\n      <td>15</td>\n      <td>20</td>\n      <td>King's Landing Citizen</td>\n      <td>8</td>\n    </tr>\n    <tr>\n      <th>2221</th>\n      <td>None</td>\n      <td>2209</td>\n      <td>5</td>\n      <td>Daenerys Targaryen</td>\n      <td>House Targaryen</td>\n      <td>15</td>\n      <td>20</td>\n      <td>King's Landing Citizen</td>\n      <td>8</td>\n    </tr>\n    <tr>\n      <th>2222</th>\n      <td>None</td>\n      <td>2210</td>\n      <td>5</td>\n      <td>Daenerys Targaryen</td>\n      <td>House Targaryen</td>\n      <td>15</td>\n      <td>20</td>\n      <td>King's Landing Citizen</td>\n      <td>8</td>\n    </tr>\n    <tr>\n      <th>2223</th>\n      <td>House Targaryen</td>\n      <td>2224</td>\n      <td>6</td>\n      <td>Jon Snow</td>\n      <td>House Stark</td>\n      <td>15</td>\n      <td>35</td>\n      <td>Daenerys Targaryen</td>\n      <td>8</td>\n    </tr>\n  </tbody>\n</table>\n<p>2224 rows × 9 columns</p>\n</div>"
     },
     "metadata": {}
    }
   ]
  },
  {
   "cell_type": "code",
   "metadata": {
    "id": "ACd0pcB_MJIF",
    "executionInfo": {
     "status": "ok",
     "timestamp": 1622864815408,
     "user_tz": 240,
     "elapsed": 6,
     "user": {
      "displayName": "Andrés Sánchez",
      "photoUrl": "https://lh3.googleusercontent.com/a-/AOh14Gg69bZMv30ckb-T1MJy0nSxWIHUaP0p2uP6MYBuvQ=s64",
      "userId": "07985253921366566280"
     }
    },
    "cell_id": "00004-0aa68f0e-72a7-4abc-b471-59b88258d8c9",
    "deepnote_to_be_reexecuted": false,
    "source_hash": "8dc98e05",
    "execution_start": 1630187239939,
    "execution_millis": 284,
    "deepnote_cell_type": "code"
   },
   "source": "got_weapons = pd.read_csv('/datasets/personalcloud/2021 - GOT Deaths Pracitces/weapon.csv', sep = ';')\ngot_weapons = got_weapons.loc[:, :'weapon'].dropna()",
   "execution_count": 3,
   "outputs": []
  },
  {
   "cell_type": "code",
   "metadata": {
    "tags": [],
    "cell_id": "00004-fa6f6a25-c781-4e05-9cce-fe90a4af17c2",
    "deepnote_to_be_reexecuted": false,
    "source_hash": "b9ca6df",
    "execution_start": 1630187240227,
    "execution_millis": 34,
    "deepnote_cell_type": "code"
   },
   "source": "got_weapons",
   "execution_count": 4,
   "outputs": [
    {
     "output_type": "execute_result",
     "execution_count": 4,
     "data": {
      "application/vnd.deepnote.dataframe.v2+json": {
       "row_count": 67,
       "column_count": 2,
       "columns": [
        {
         "name": "id",
         "dtype": "int64",
         "stats": {
          "unique_count": 67,
          "nan_count": 0,
          "min": "1",
          "max": "67",
          "histogram": [
           {
            "bin_start": 1,
            "bin_end": 7.6,
            "count": 7
           },
           {
            "bin_start": 7.6,
            "bin_end": 14.2,
            "count": 7
           },
           {
            "bin_start": 14.2,
            "bin_end": 20.799999999999997,
            "count": 6
           },
           {
            "bin_start": 20.799999999999997,
            "bin_end": 27.4,
            "count": 7
           },
           {
            "bin_start": 27.4,
            "bin_end": 34,
            "count": 6
           },
           {
            "bin_start": 34,
            "bin_end": 40.599999999999994,
            "count": 7
           },
           {
            "bin_start": 40.599999999999994,
            "bin_end": 47.199999999999996,
            "count": 7
           },
           {
            "bin_start": 47.199999999999996,
            "bin_end": 53.8,
            "count": 6
           },
           {
            "bin_start": 53.8,
            "bin_end": 60.4,
            "count": 7
           },
           {
            "bin_start": 60.4,
            "bin_end": 67,
            "count": 7
           }
          ]
         }
        },
        {
         "name": "weapon",
         "dtype": "object",
         "stats": {
          "unique_count": 67,
          "nan_count": 0,
          "categories": [
           {
            "name": "Antler",
            "count": 1
           },
           {
            "name": "Arakh",
            "count": 1
           },
           {
            "name": "65 others",
            "count": 65
           }
          ]
         }
        },
        {
         "name": "_deepnote_index_column",
         "dtype": "int64"
        }
       ],
       "rows_top": [
        {
         "id": 1,
         "weapon": "Antler",
         "_deepnote_index_column": 0
        },
        {
         "id": 2,
         "weapon": "Arakh",
         "_deepnote_index_column": 1
        },
        {
         "id": 3,
         "weapon": "Arrow",
         "_deepnote_index_column": 2
        },
        {
         "id": 4,
         "weapon": "Axe",
         "_deepnote_index_column": 3
        },
        {
         "id": 5,
         "weapon": "Barrel",
         "_deepnote_index_column": 4
        },
        {
         "id": 6,
         "weapon": "Bell",
         "_deepnote_index_column": 5
        },
        {
         "id": 7,
         "weapon": "Bludgeon",
         "_deepnote_index_column": 6
        },
        {
         "id": 8,
         "weapon": "Blunt object",
         "_deepnote_index_column": 7
        },
        {
         "id": 9,
         "weapon": "Bolo",
         "_deepnote_index_column": 8
        },
        {
         "id": 10,
         "weapon": "Boulder",
         "_deepnote_index_column": 9
        },
        {
         "id": 11,
         "weapon": "Broken foot",
         "_deepnote_index_column": 10
        },
        {
         "id": 12,
         "weapon": "Burning oil",
         "_deepnote_index_column": 11
        },
        {
         "id": 13,
         "weapon": "Butcher's knife",
         "_deepnote_index_column": 12
        },
        {
         "id": 14,
         "weapon": "Catapult",
         "_deepnote_index_column": 13
        },
        {
         "id": 15,
         "weapon": "Claws",
         "_deepnote_index_column": 14
        },
        {
         "id": 16,
         "weapon": "Claws (Dragon)",
         "_deepnote_index_column": 15
        },
        {
         "id": 17,
         "weapon": "Club",
         "_deepnote_index_column": 16
        },
        {
         "id": 18,
         "weapon": "Cooking",
         "_deepnote_index_column": 17
        },
        {
         "id": 19,
         "weapon": "Dogs",
         "_deepnote_index_column": 18
        },
        {
         "id": 20,
         "weapon": "Dragonfire (Dragon)",
         "_deepnote_index_column": 19
        },
        {
         "id": 21,
         "weapon": "Dragonglass",
         "_deepnote_index_column": 20
        },
        {
         "id": 22,
         "weapon": "Drowning",
         "_deepnote_index_column": 21
        },
        {
         "id": 23,
         "weapon": "Falling",
         "_deepnote_index_column": 22
        },
        {
         "id": 24,
         "weapon": "Fire",
         "_deepnote_index_column": 23
        },
        {
         "id": 25,
         "weapon": "Flaming arrow",
         "_deepnote_index_column": 24
        },
        {
         "id": 26,
         "weapon": "Flaying",
         "_deepnote_index_column": 25
        },
        {
         "id": 27,
         "weapon": "Giant arrow",
         "_deepnote_index_column": 26
        },
        {
         "id": 28,
         "weapon": "Hammer",
         "_deepnote_index_column": 27
        },
        {
         "id": 29,
         "weapon": "Hands",
         "_deepnote_index_column": 28
        },
        {
         "id": 30,
         "weapon": "Hands/Necklace",
         "_deepnote_index_column": 29
        },
        {
         "id": 31,
         "weapon": "Hanging",
         "_deepnote_index_column": 30
        },
        {
         "id": 32,
         "weapon": "Ice Javelin",
         "_deepnote_index_column": 31
        },
        {
         "id": 33,
         "weapon": "Ice sword",
         "_deepnote_index_column": 32
        },
        {
         "id": 34,
         "weapon": "Illness",
         "_deepnote_index_column": 33
        },
        {
         "id": 35,
         "weapon": "Knife",
         "_deepnote_index_column": 34
        },
        {
         "id": 36,
         "weapon": "Mace",
         "_deepnote_index_column": 35
        },
        {
         "id": 37,
         "weapon": "Magic",
         "_deepnote_index_column": 36
        },
        {
         "id": 38,
         "weapon": "Mallet",
         "_deepnote_index_column": 37
        },
        {
         "id": 39,
         "weapon": "Mammoth foot",
         "_deepnote_index_column": 38
        },
        {
         "id": 40,
         "weapon": "Molten gold",
         "_deepnote_index_column": 39
        },
        {
         "id": 41,
         "weapon": "Moon Door",
         "_deepnote_index_column": 40
        },
        {
         "id": 42,
         "weapon": "Nail",
         "_deepnote_index_column": 41
        },
        {
         "id": 43,
         "weapon": "Noose",
         "_deepnote_index_column": 42
        },
        {
         "id": 44,
         "weapon": "Old Age",
         "_deepnote_index_column": 43
        },
        {
         "id": 45,
         "weapon": "Pillow",
         "_deepnote_index_column": 44
        },
        {
         "id": 46,
         "weapon": "Poison",
         "_deepnote_index_column": 45
        },
        {
         "id": 47,
         "weapon": "Poison dart",
         "_deepnote_index_column": 46
        },
        {
         "id": 48,
         "weapon": "Pot",
         "_deepnote_index_column": 47
        },
        {
         "id": 49,
         "weapon": "Rat",
         "_deepnote_index_column": 48
        },
        {
         "id": 50,
         "weapon": "Rock",
         "_deepnote_index_column": 49
        },
        {
         "id": 51,
         "weapon": "Rope",
         "_deepnote_index_column": 50
        },
        {
         "id": 52,
         "weapon": "Rubble",
         "_deepnote_index_column": 51
        },
        {
         "id": 53,
         "weapon": "Scythe",
         "_deepnote_index_column": 52
        },
        {
         "id": 54,
         "weapon": "Sealed into vault",
         "_deepnote_index_column": 53
        },
        {
         "id": 55,
         "weapon": "Shadow Demon",
         "_deepnote_index_column": 54
        },
        {
         "id": 56,
         "weapon": "Shield",
         "_deepnote_index_column": 55
        },
        {
         "id": 57,
         "weapon": "Spear",
         "_deepnote_index_column": 56
        },
        {
         "id": 58,
         "weapon": "Starvation",
         "_deepnote_index_column": 57
        },
        {
         "id": 59,
         "weapon": "Steak",
         "_deepnote_index_column": 58
        },
        {
         "id": 60,
         "weapon": "Sword",
         "_deepnote_index_column": 59
        },
        {
         "id": 61,
         "weapon": "Teeth",
         "_deepnote_index_column": 60
        },
        {
         "id": 62,
         "weapon": "Teeth (Dragon)",
         "_deepnote_index_column": 61
        },
        {
         "id": 63,
         "weapon": "Tusk",
         "_deepnote_index_column": 62
        },
        {
         "id": 64,
         "weapon": "Unknown",
         "_deepnote_index_column": 63
        },
        {
         "id": 65,
         "weapon": "Water",
         "_deepnote_index_column": 64
        },
        {
         "id": 66,
         "weapon": "Whip",
         "_deepnote_index_column": 65
        },
        {
         "id": 67,
         "weapon": "Wildfire",
         "_deepnote_index_column": 66
        }
       ],
       "rows_bottom": null
      },
      "text/plain": "    id    weapon\n0    1    Antler\n1    2     Arakh\n2    3     Arrow\n3    4       Axe\n4    5    Barrel\n..  ..       ...\n62  63      Tusk\n63  64   Unknown\n64  65     Water\n65  66      Whip\n66  67  Wildfire\n\n[67 rows x 2 columns]",
      "text/html": "<div>\n<style scoped>\n    .dataframe tbody tr th:only-of-type {\n        vertical-align: middle;\n    }\n\n    .dataframe tbody tr th {\n        vertical-align: top;\n    }\n\n    .dataframe thead th {\n        text-align: right;\n    }\n</style>\n<table border=\"1\" class=\"dataframe\">\n  <thead>\n    <tr style=\"text-align: right;\">\n      <th></th>\n      <th>id</th>\n      <th>weapon</th>\n    </tr>\n  </thead>\n  <tbody>\n    <tr>\n      <th>0</th>\n      <td>1</td>\n      <td>Antler</td>\n    </tr>\n    <tr>\n      <th>1</th>\n      <td>2</td>\n      <td>Arakh</td>\n    </tr>\n    <tr>\n      <th>2</th>\n      <td>3</td>\n      <td>Arrow</td>\n    </tr>\n    <tr>\n      <th>3</th>\n      <td>4</td>\n      <td>Axe</td>\n    </tr>\n    <tr>\n      <th>4</th>\n      <td>5</td>\n      <td>Barrel</td>\n    </tr>\n    <tr>\n      <th>...</th>\n      <td>...</td>\n      <td>...</td>\n    </tr>\n    <tr>\n      <th>62</th>\n      <td>63</td>\n      <td>Tusk</td>\n    </tr>\n    <tr>\n      <th>63</th>\n      <td>64</td>\n      <td>Unknown</td>\n    </tr>\n    <tr>\n      <th>64</th>\n      <td>65</td>\n      <td>Water</td>\n    </tr>\n    <tr>\n      <th>65</th>\n      <td>66</td>\n      <td>Whip</td>\n    </tr>\n    <tr>\n      <th>66</th>\n      <td>67</td>\n      <td>Wildfire</td>\n    </tr>\n  </tbody>\n</table>\n<p>67 rows × 2 columns</p>\n</div>"
     },
     "metadata": {}
    }
   ]
  },
  {
   "cell_type": "code",
   "metadata": {
    "id": "qD0I_MChMJIF",
    "executionInfo": {
     "status": "ok",
     "timestamp": 1622864815530,
     "user_tz": 240,
     "elapsed": 127,
     "user": {
      "displayName": "Andrés Sánchez",
      "photoUrl": "https://lh3.googleusercontent.com/a-/AOh14Gg69bZMv30ckb-T1MJy0nSxWIHUaP0p2uP6MYBuvQ=s64",
      "userId": "07985253921366566280"
     }
    },
    "cell_id": "00005-5be91972-b7cd-4708-8281-69dfb059c800",
    "deepnote_to_be_reexecuted": false,
    "source_hash": "2310addd",
    "execution_start": 1630187240262,
    "execution_millis": 339,
    "deepnote_cell_type": "code"
   },
   "source": "got_location = pd.read_csv('/datasets/personalcloud/2021 - GOT Deaths Pracitces/location.csv', sep = ';')\ngot_location = got_location.loc[:, :'Location'].dropna()\ngot_location",
   "execution_count": 5,
   "outputs": [
    {
     "output_type": "execute_result",
     "execution_count": 5,
     "data": {
      "application/vnd.deepnote.dataframe.v2+json": {
       "row_count": 41,
       "column_count": 2,
       "columns": [
        {
         "name": "id",
         "dtype": "int64",
         "stats": {
          "unique_count": 41,
          "nan_count": 0,
          "min": "1",
          "max": "41",
          "histogram": [
           {
            "bin_start": 1,
            "bin_end": 5,
            "count": 4
           },
           {
            "bin_start": 5,
            "bin_end": 9,
            "count": 4
           },
           {
            "bin_start": 9,
            "bin_end": 13,
            "count": 4
           },
           {
            "bin_start": 13,
            "bin_end": 17,
            "count": 4
           },
           {
            "bin_start": 17,
            "bin_end": 21,
            "count": 4
           },
           {
            "bin_start": 21,
            "bin_end": 25,
            "count": 4
           },
           {
            "bin_start": 25,
            "bin_end": 29,
            "count": 4
           },
           {
            "bin_start": 29,
            "bin_end": 33,
            "count": 4
           },
           {
            "bin_start": 33,
            "bin_end": 37,
            "count": 4
           },
           {
            "bin_start": 37,
            "bin_end": 41,
            "count": 5
           }
          ]
         }
        },
        {
         "name": "Location",
         "dtype": "object",
         "stats": {
          "unique_count": 41,
          "nan_count": 0,
          "categories": [
           {
            "name": "Astapor",
            "count": 1
           },
           {
            "name": "Beyond the Wall",
            "count": 1
           },
           {
            "name": "39 others",
            "count": 39
           }
          ]
         }
        },
        {
         "name": "_deepnote_index_column",
         "dtype": "int64"
        }
       ],
       "rows_top": [
        {
         "id": 1,
         "Location": "Astapor",
         "_deepnote_index_column": 0
        },
        {
         "id": 2,
         "Location": "Beyond the Wall",
         "_deepnote_index_column": 1
        },
        {
         "id": 3,
         "Location": "Braavos",
         "_deepnote_index_column": 2
        },
        {
         "id": 4,
         "Location": "Casterly Rock",
         "_deepnote_index_column": 3
        },
        {
         "id": 5,
         "Location": "Castle Black",
         "_deepnote_index_column": 4
        },
        {
         "id": 6,
         "Location": "Dorne",
         "_deepnote_index_column": 5
        },
        {
         "id": 7,
         "Location": "Dragonstone",
         "_deepnote_index_column": 6
        },
        {
         "id": 8,
         "Location": "Dreadfort",
         "_deepnote_index_column": 7
        },
        {
         "id": 9,
         "Location": "Eastern Road",
         "_deepnote_index_column": 8
        },
        {
         "id": 10,
         "Location": "Hardhome",
         "_deepnote_index_column": 9
        },
        {
         "id": 11,
         "Location": "Harrenhal",
         "_deepnote_index_column": 10
        },
        {
         "id": 12,
         "Location": "Highgarden",
         "_deepnote_index_column": 11
        },
        {
         "id": 13,
         "Location": "Hollow Hill",
         "_deepnote_index_column": 12
        },
        {
         "id": 14,
         "Location": "Iron Islands",
         "_deepnote_index_column": 13
        },
        {
         "id": 15,
         "Location": "King's Landing",
         "_deepnote_index_column": 14
        },
        {
         "id": 16,
         "Location": "Kingsroad",
         "_deepnote_index_column": 15
        },
        {
         "id": 17,
         "Location": "Last Hearth",
         "_deepnote_index_column": 16
        },
        {
         "id": 18,
         "Location": "Lhazar",
         "_deepnote_index_column": 17
        },
        {
         "id": 19,
         "Location": "Meereen",
         "_deepnote_index_column": 18
        },
        {
         "id": 20,
         "Location": "Moat Cailin",
         "_deepnote_index_column": 19
        },
        {
         "id": 21,
         "Location": "Mole's Town",
         "_deepnote_index_column": 20
        },
        {
         "id": 22,
         "Location": "Oxcross",
         "_deepnote_index_column": 21
        },
        {
         "id": 23,
         "Location": "Pentos",
         "_deepnote_index_column": 22
        },
        {
         "id": 24,
         "Location": "Qarth",
         "_deepnote_index_column": 23
        },
        {
         "id": 25,
         "Location": "Red Waste",
         "_deepnote_index_column": 24
        },
        {
         "id": 26,
         "Location": "Riverlands",
         "_deepnote_index_column": 25
        },
        {
         "id": 27,
         "Location": "Riverrun",
         "_deepnote_index_column": 26
        },
        {
         "id": 28,
         "Location": "Robb Stark's camp",
         "_deepnote_index_column": 27
        },
        {
         "id": 29,
         "Location": "Roseroad",
         "_deepnote_index_column": 28
        },
        {
         "id": 30,
         "Location": "Storm's End",
         "_deepnote_index_column": 29
        },
        {
         "id": 31,
         "Location": "The Eyrie",
         "_deepnote_index_column": 30
        },
        {
         "id": 32,
         "Location": "The Gift",
         "_deepnote_index_column": 31
        },
        {
         "id": 33,
         "Location": "The Narrow Sea",
         "_deepnote_index_column": 32
        },
        {
         "id": 34,
         "Location": "The Twins",
         "_deepnote_index_column": 33
        },
        {
         "id": 35,
         "Location": "The Vale",
         "_deepnote_index_column": 34
        },
        {
         "id": 36,
         "Location": "The Wall",
         "_deepnote_index_column": 35
        },
        {
         "id": 37,
         "Location": "Unknown",
         "_deepnote_index_column": 36
        },
        {
         "id": 38,
         "Location": "Vaes Dothrak",
         "_deepnote_index_column": 37
        },
        {
         "id": 39,
         "Location": "Valyria",
         "_deepnote_index_column": 38
        },
        {
         "id": 40,
         "Location": "Winterfell",
         "_deepnote_index_column": 39
        },
        {
         "id": 41,
         "Location": "Yunkai",
         "_deepnote_index_column": 40
        }
       ],
       "rows_bottom": null
      },
      "text/plain": "    id           Location\n0    1            Astapor\n1    2    Beyond the Wall\n2    3            Braavos\n3    4      Casterly Rock\n4    5       Castle Black\n5    6              Dorne\n6    7        Dragonstone\n7    8          Dreadfort\n8    9       Eastern Road\n9   10           Hardhome\n10  11          Harrenhal\n11  12         Highgarden\n12  13        Hollow Hill\n13  14       Iron Islands\n14  15     King's Landing\n15  16          Kingsroad\n16  17        Last Hearth\n17  18             Lhazar\n18  19            Meereen\n19  20        Moat Cailin\n20  21        Mole's Town\n21  22            Oxcross\n22  23             Pentos\n23  24              Qarth\n24  25          Red Waste\n25  26         Riverlands\n26  27           Riverrun\n27  28  Robb Stark's camp\n28  29           Roseroad\n29  30        Storm's End\n30  31          The Eyrie\n31  32           The Gift\n32  33     The Narrow Sea\n33  34          The Twins\n34  35           The Vale\n35  36           The Wall\n36  37            Unknown\n37  38       Vaes Dothrak\n38  39            Valyria\n39  40         Winterfell\n40  41             Yunkai",
      "text/html": "<div>\n<style scoped>\n    .dataframe tbody tr th:only-of-type {\n        vertical-align: middle;\n    }\n\n    .dataframe tbody tr th {\n        vertical-align: top;\n    }\n\n    .dataframe thead th {\n        text-align: right;\n    }\n</style>\n<table border=\"1\" class=\"dataframe\">\n  <thead>\n    <tr style=\"text-align: right;\">\n      <th></th>\n      <th>id</th>\n      <th>Location</th>\n    </tr>\n  </thead>\n  <tbody>\n    <tr>\n      <th>0</th>\n      <td>1</td>\n      <td>Astapor</td>\n    </tr>\n    <tr>\n      <th>1</th>\n      <td>2</td>\n      <td>Beyond the Wall</td>\n    </tr>\n    <tr>\n      <th>2</th>\n      <td>3</td>\n      <td>Braavos</td>\n    </tr>\n    <tr>\n      <th>3</th>\n      <td>4</td>\n      <td>Casterly Rock</td>\n    </tr>\n    <tr>\n      <th>4</th>\n      <td>5</td>\n      <td>Castle Black</td>\n    </tr>\n    <tr>\n      <th>5</th>\n      <td>6</td>\n      <td>Dorne</td>\n    </tr>\n    <tr>\n      <th>6</th>\n      <td>7</td>\n      <td>Dragonstone</td>\n    </tr>\n    <tr>\n      <th>7</th>\n      <td>8</td>\n      <td>Dreadfort</td>\n    </tr>\n    <tr>\n      <th>8</th>\n      <td>9</td>\n      <td>Eastern Road</td>\n    </tr>\n    <tr>\n      <th>9</th>\n      <td>10</td>\n      <td>Hardhome</td>\n    </tr>\n    <tr>\n      <th>10</th>\n      <td>11</td>\n      <td>Harrenhal</td>\n    </tr>\n    <tr>\n      <th>11</th>\n      <td>12</td>\n      <td>Highgarden</td>\n    </tr>\n    <tr>\n      <th>12</th>\n      <td>13</td>\n      <td>Hollow Hill</td>\n    </tr>\n    <tr>\n      <th>13</th>\n      <td>14</td>\n      <td>Iron Islands</td>\n    </tr>\n    <tr>\n      <th>14</th>\n      <td>15</td>\n      <td>King's Landing</td>\n    </tr>\n    <tr>\n      <th>15</th>\n      <td>16</td>\n      <td>Kingsroad</td>\n    </tr>\n    <tr>\n      <th>16</th>\n      <td>17</td>\n      <td>Last Hearth</td>\n    </tr>\n    <tr>\n      <th>17</th>\n      <td>18</td>\n      <td>Lhazar</td>\n    </tr>\n    <tr>\n      <th>18</th>\n      <td>19</td>\n      <td>Meereen</td>\n    </tr>\n    <tr>\n      <th>19</th>\n      <td>20</td>\n      <td>Moat Cailin</td>\n    </tr>\n    <tr>\n      <th>20</th>\n      <td>21</td>\n      <td>Mole's Town</td>\n    </tr>\n    <tr>\n      <th>21</th>\n      <td>22</td>\n      <td>Oxcross</td>\n    </tr>\n    <tr>\n      <th>22</th>\n      <td>23</td>\n      <td>Pentos</td>\n    </tr>\n    <tr>\n      <th>23</th>\n      <td>24</td>\n      <td>Qarth</td>\n    </tr>\n    <tr>\n      <th>24</th>\n      <td>25</td>\n      <td>Red Waste</td>\n    </tr>\n    <tr>\n      <th>25</th>\n      <td>26</td>\n      <td>Riverlands</td>\n    </tr>\n    <tr>\n      <th>26</th>\n      <td>27</td>\n      <td>Riverrun</td>\n    </tr>\n    <tr>\n      <th>27</th>\n      <td>28</td>\n      <td>Robb Stark's camp</td>\n    </tr>\n    <tr>\n      <th>28</th>\n      <td>29</td>\n      <td>Roseroad</td>\n    </tr>\n    <tr>\n      <th>29</th>\n      <td>30</td>\n      <td>Storm's End</td>\n    </tr>\n    <tr>\n      <th>30</th>\n      <td>31</td>\n      <td>The Eyrie</td>\n    </tr>\n    <tr>\n      <th>31</th>\n      <td>32</td>\n      <td>The Gift</td>\n    </tr>\n    <tr>\n      <th>32</th>\n      <td>33</td>\n      <td>The Narrow Sea</td>\n    </tr>\n    <tr>\n      <th>33</th>\n      <td>34</td>\n      <td>The Twins</td>\n    </tr>\n    <tr>\n      <th>34</th>\n      <td>35</td>\n      <td>The Vale</td>\n    </tr>\n    <tr>\n      <th>35</th>\n      <td>36</td>\n      <td>The Wall</td>\n    </tr>\n    <tr>\n      <th>36</th>\n      <td>37</td>\n      <td>Unknown</td>\n    </tr>\n    <tr>\n      <th>37</th>\n      <td>38</td>\n      <td>Vaes Dothrak</td>\n    </tr>\n    <tr>\n      <th>38</th>\n      <td>39</td>\n      <td>Valyria</td>\n    </tr>\n    <tr>\n      <th>39</th>\n      <td>40</td>\n      <td>Winterfell</td>\n    </tr>\n    <tr>\n      <th>40</th>\n      <td>41</td>\n      <td>Yunkai</td>\n    </tr>\n  </tbody>\n</table>\n</div>"
     },
     "metadata": {}
    }
   ]
  },
  {
   "cell_type": "markdown",
   "source": "## Assign the index and merge the DBs.",
   "metadata": {
    "id": "z07ig5ZwMJIF",
    "cell_id": "00006-bf33d82b-99a3-4eb1-8482-351adbe0e4f2",
    "deepnote_cell_type": "markdown"
   }
  },
  {
   "cell_type": "code",
   "metadata": {
    "id": "EmubYlIMMJIF",
    "executionInfo": {
     "status": "ok",
     "timestamp": 1622864815531,
     "user_tz": 240,
     "elapsed": 3,
     "user": {
      "displayName": "Andrés Sánchez",
      "photoUrl": "https://lh3.googleusercontent.com/a-/AOh14Gg69bZMv30ckb-T1MJy0nSxWIHUaP0p2uP6MYBuvQ=s64",
      "userId": "07985253921366566280"
     }
    },
    "cell_id": "00007-5ec5b3d3-f6bb-42cc-8579-ae42bdd21b32",
    "deepnote_to_be_reexecuted": false,
    "source_hash": "ea36031a",
    "execution_start": 1630187240599,
    "execution_millis": 23,
    "deepnote_cell_type": "code"
   },
   "source": "# Order the columns to have the index as the first column.\n\ngot_deaths = got_deaths.set_index(['Death No.']).sort_index()",
   "execution_count": 6,
   "outputs": []
  },
  {
   "cell_type": "code",
   "metadata": {
    "id": "-7cIVQq6MJIF",
    "executionInfo": {
     "status": "ok",
     "timestamp": 1622864815531,
     "user_tz": 240,
     "elapsed": 2,
     "user": {
      "displayName": "Andrés Sánchez",
      "photoUrl": "https://lh3.googleusercontent.com/a-/AOh14Gg69bZMv30ckb-T1MJy0nSxWIHUaP0p2uP6MYBuvQ=s64",
      "userId": "07985253921366566280"
     }
    },
    "cell_id": "00008-faf4bf74-84e0-4238-9cec-e0d97497e2b7",
    "deepnote_to_be_reexecuted": false,
    "source_hash": "2a93ff68",
    "execution_start": 1630187240624,
    "execution_millis": 19,
    "deepnote_cell_type": "code"
   },
   "source": "# Do a join to bring te names of the weapons and the location to the main table:\n\ngot_deaths = pd.merge(got_deaths,got_location, how = 'inner', left_on = 'Location_id', right_on = 'id')\ngot_deaths = pd.merge(got_deaths,got_weapons, how = 'inner', left_on = 'Weapon_id', right_on = 'id')\ngot_deaths = got_deaths.drop(columns=['Location_id','Weapon_id', 'id_x', 'id_y'])\n\n# Organize and rename columns:\ngot_deaths = got_deaths[['Allegiance', 'Episode', 'Killer', 'Killers House', 'Location', 'weapon', 'Name', 'Season']]\ngot_deaths = got_deaths.rename(columns={'Name':'Dead character', 'weapon':'Weapon'})",
   "execution_count": 7,
   "outputs": []
  },
  {
   "cell_type": "code",
   "metadata": {
    "id": "uzEvr0Q3MJIG",
    "executionInfo": {
     "status": "ok",
     "timestamp": 1622864815693,
     "user_tz": 240,
     "elapsed": 164,
     "user": {
      "displayName": "Andrés Sánchez",
      "photoUrl": "https://lh3.googleusercontent.com/a-/AOh14Gg69bZMv30ckb-T1MJy0nSxWIHUaP0p2uP6MYBuvQ=s64",
      "userId": "07985253921366566280"
     }
    },
    "cell_id": "00009-82d277cf-de65-4daf-b1da-67df1e1d546d",
    "deepnote_to_be_reexecuted": false,
    "source_hash": "33c2ded6",
    "execution_start": 1630187240646,
    "execution_millis": 3,
    "deepnote_cell_type": "code"
   },
   "source": "# Delete the variable we won't use anymore:\n\ndel got_weapons\ndel got_location",
   "execution_count": 8,
   "outputs": []
  },
  {
   "cell_type": "markdown",
   "source": "## Data Analysis:",
   "metadata": {
    "id": "4hn8M6o1MJIG",
    "cell_id": "00010-012bcfca-2f8f-48b5-95e5-0556f7aee1ac",
    "deepnote_cell_type": "markdown"
   }
  },
  {
   "cell_type": "markdown",
   "source": "### 1 - ¿How many characters die in GOT?",
   "metadata": {
    "id": "axFx01vnMJIG",
    "cell_id": "00011-c0a88a4f-524f-4e3b-888c-2640d8c1b852",
    "deepnote_cell_type": "markdown"
   }
  },
  {
   "cell_type": "code",
   "metadata": {
    "id": "DRW4BS6BMJIG",
    "colab": {
     "base_uri": "https://localhost:8080/"
    },
    "executionInfo": {
     "status": "ok",
     "timestamp": 1622864815693,
     "user_tz": 240,
     "elapsed": 6,
     "user": {
      "displayName": "Andrés Sánchez",
      "photoUrl": "https://lh3.googleusercontent.com/a-/AOh14Gg69bZMv30ckb-T1MJy0nSxWIHUaP0p2uP6MYBuvQ=s64",
      "userId": "07985253921366566280"
     }
    },
    "outputId": "9da73499-6492-4092-e093-d975c385ef47",
    "cell_id": "00012-134cf70c-7bf6-4cf1-b6ad-1fe25ef1bd33",
    "deepnote_to_be_reexecuted": false,
    "source_hash": "d1d34314",
    "execution_start": 1630187240651,
    "execution_millis": 12,
    "deepnote_cell_type": "code"
   },
   "source": "death_count = got_deaths['Allegiance'].count()\nprint(\"The total of death in GOT was: {}.\".format(death_count))",
   "execution_count": 9,
   "outputs": [
    {
     "name": "stdout",
     "text": "The total of death in GOT was: 2224.\n",
     "output_type": "stream"
    }
   ]
  },
  {
   "cell_type": "markdown",
   "source": "### 2 - ¿How many characters die after season 3 in GOT?",
   "metadata": {
    "id": "HzJlRSAdMJIH",
    "cell_id": "00013-cd677077-555c-42e5-aace-6f0d5fe659ed",
    "deepnote_cell_type": "markdown"
   }
  },
  {
   "cell_type": "code",
   "metadata": {
    "id": "ypNPkluEMJIH",
    "colab": {
     "base_uri": "https://localhost:8080/"
    },
    "executionInfo": {
     "status": "ok",
     "timestamp": 1622864815693,
     "user_tz": 240,
     "elapsed": 5,
     "user": {
      "displayName": "Andrés Sánchez",
      "photoUrl": "https://lh3.googleusercontent.com/a-/AOh14Gg69bZMv30ckb-T1MJy0nSxWIHUaP0p2uP6MYBuvQ=s64",
      "userId": "07985253921366566280"
     }
    },
    "outputId": "60bf1cad-b8db-4906-df28-9b179c3d30b5",
    "cell_id": "00014-c1a4d0f1-0191-41af-a8f6-dcbc1eb633ff",
    "deepnote_to_be_reexecuted": false,
    "source_hash": "94cefc2a",
    "execution_start": 1630187240660,
    "execution_millis": 16,
    "deepnote_cell_type": "code"
   },
   "source": "death_count_a3s = got_deaths[got_deaths['Season'] > 3]['Allegiance'].count()\nprint(\"The # of death in GOT after the 3th season was: {}.\".format(death_count_a3s))",
   "execution_count": 10,
   "outputs": [
    {
     "name": "stdout",
     "text": "The # of death in GOT after the 3th season was: 1950.\n",
     "output_type": "stream"
    }
   ]
  },
  {
   "cell_type": "markdown",
   "source": "### 3 - ¿How many deaths were by Wildfire?",
   "metadata": {
    "id": "e2QQAGC8MJIH",
    "cell_id": "00015-dc4d8819-9755-4bdd-9ad6-b52675ccaf6e",
    "deepnote_cell_type": "markdown"
   }
  },
  {
   "cell_type": "code",
   "metadata": {
    "id": "8Tk4peAAMJIH",
    "colab": {
     "base_uri": "https://localhost:8080/"
    },
    "executionInfo": {
     "status": "ok",
     "timestamp": 1622864815693,
     "user_tz": 240,
     "elapsed": 4,
     "user": {
      "displayName": "Andrés Sánchez",
      "photoUrl": "https://lh3.googleusercontent.com/a-/AOh14Gg69bZMv30ckb-T1MJy0nSxWIHUaP0p2uP6MYBuvQ=s64",
      "userId": "07985253921366566280"
     }
    },
    "outputId": "5cd6e275-fed4-4b49-9624-a98d3a63f240",
    "cell_id": "00016-edc9c179-5845-4a22-8613-77a3664087b0",
    "deepnote_to_be_reexecuted": false,
    "source_hash": "57f651ee",
    "execution_start": 1630187240674,
    "execution_millis": 16,
    "deepnote_cell_type": "code"
   },
   "source": "death_count_bwf = got_deaths[got_deaths['Weapon'] == 'Wildfire']['Allegiance'].count()\nprint(\"The # of death in GOT by Wildfire was: {}.\".format(death_count_bwf))",
   "execution_count": 11,
   "outputs": [
    {
     "name": "stdout",
     "text": "The # of death in GOT by Wildfire was: 210.\n",
     "output_type": "stream"
    }
   ]
  },
  {
   "cell_type": "markdown",
   "source": "### 4 - ¿How many weapons were used to kill in GOT?",
   "metadata": {
    "id": "_Q5UENZpMJIH",
    "cell_id": "00017-4f4ce306-7700-4728-b3fc-b2266680b30d",
    "deepnote_cell_type": "markdown"
   }
  },
  {
   "cell_type": "code",
   "metadata": {
    "id": "t5yScJgmMJIH",
    "colab": {
     "base_uri": "https://localhost:8080/"
    },
    "executionInfo": {
     "status": "ok",
     "timestamp": 1622864815822,
     "user_tz": 240,
     "elapsed": 132,
     "user": {
      "displayName": "Andrés Sánchez",
      "photoUrl": "https://lh3.googleusercontent.com/a-/AOh14Gg69bZMv30ckb-T1MJy0nSxWIHUaP0p2uP6MYBuvQ=s64",
      "userId": "07985253921366566280"
     }
    },
    "outputId": "5331d6fa-6f41-4001-81d3-a7e7a13eb5c9",
    "cell_id": "00018-14cbe3c9-ad77-426c-b0fb-b16cf2f4a1ed",
    "deepnote_to_be_reexecuted": false,
    "source_hash": "2d81f5f5",
    "execution_start": 1630187240686,
    "execution_millis": 88348930,
    "deepnote_cell_type": "code"
   },
   "source": "weapons_to_kill =  got_deaths['Weapon'].nunique()\nprint(\"The # of weapons used to kill in GOT was: {}.\".format(weapons_to_kill))",
   "execution_count": 12,
   "outputs": [
    {
     "name": "stdout",
     "text": "The # of weapons used to kill in GOT was: 67.\n",
     "output_type": "stream"
    }
   ]
  },
  {
   "cell_type": "markdown",
   "source": "### 5 - ¿Which were the 5 weapons most used to kill in GOT?",
   "metadata": {
    "id": "MHufUm_tMJIH",
    "cell_id": "00019-c3446276-1eb0-463f-b9a3-1e97a2fec66b",
    "deepnote_cell_type": "markdown"
   }
  },
  {
   "cell_type": "code",
   "metadata": {
    "id": "g58Pi9E3MJIH",
    "colab": {
     "base_uri": "https://localhost:8080/"
    },
    "executionInfo": {
     "status": "ok",
     "timestamp": 1622864815822,
     "user_tz": 240,
     "elapsed": 4,
     "user": {
      "displayName": "Andrés Sánchez",
      "photoUrl": "https://lh3.googleusercontent.com/a-/AOh14Gg69bZMv30ckb-T1MJy0nSxWIHUaP0p2uP6MYBuvQ=s64",
      "userId": "07985253921366566280"
     }
    },
    "outputId": "0b40ba57-7635-4949-ec0c-8d5f77902b5a",
    "cell_id": "00020-ddb36c4b-3362-415f-9184-c5e2b005195c",
    "deepnote_to_be_reexecuted": false,
    "source_hash": "a76ec42f",
    "execution_start": 1630187240738,
    "execution_millis": 88348939,
    "deepnote_cell_type": "code"
   },
   "source": "top_weapons = pd.DataFrame(got_deaths['Weapon'].value_counts().head(5))\ntop_weapons['index1'] = top_weapons.index\ntop_weapons = top_weapons.reset_index(drop = True).drop(columns='Weapon')\ntop_weapons = top_weapons.values.tolist()\nprint(\"The top 5 of weapons most used to kill in GOT were: {}.\".format(top_weapons))",
   "execution_count": 13,
   "outputs": [
    {
     "name": "stdout",
     "text": "The top 5 of weapons most used to kill in GOT were: [['Dragonfire (Dragon)'], ['Sword'], ['Wildfire'], ['Knife'], ['Arrow']].\n",
     "output_type": "stream"
    }
   ]
  },
  {
   "cell_type": "markdown",
   "source": "### 6 - ¿How many episodes with at least one death has GOT?",
   "metadata": {
    "id": "mA1Q5ZONMJIH",
    "cell_id": "00021-7fb1c386-9e19-417d-bf67-9c1c179224a8",
    "deepnote_cell_type": "markdown"
   }
  },
  {
   "cell_type": "code",
   "metadata": {
    "id": "svyH1LPlMJII",
    "colab": {
     "base_uri": "https://localhost:8080/"
    },
    "executionInfo": {
     "status": "ok",
     "timestamp": 1622864816555,
     "user_tz": 240,
     "elapsed": 735,
     "user": {
      "displayName": "Andrés Sánchez",
      "photoUrl": "https://lh3.googleusercontent.com/a-/AOh14Gg69bZMv30ckb-T1MJy0nSxWIHUaP0p2uP6MYBuvQ=s64",
      "userId": "07985253921366566280"
     }
    },
    "outputId": "ed227dfc-c0d8-43e4-dcac-90b2ebcced98",
    "cell_id": "00022-ad5f400d-572f-4638-82d7-e95940f7894c",
    "deepnote_to_be_reexecuted": false,
    "source_hash": "4a43de99",
    "execution_start": 1630187240738,
    "execution_millis": 1248,
    "deepnote_cell_type": "code"
   },
   "source": "got_deaths['S-E'] = got_deaths[['Season', 'Episode']].apply(lambda x: ''.join(str(x)), axis=1)\ngot_deaths = got_deaths.convert_dtypes()\ngot_deaths['S-E'] = got_deaths['S-E'].apply(lambda x: x.split(\"\\nName\",1)[0])\ngot_deaths['S-E'] = got_deaths['S-E'].str.replace('\\n',' ')\ngot_deaths['S-E'].nunique()\nprint(\"Got has in total {} episodes with at least 1 death in it.\".format(got_deaths['S-E'].nunique()))\ngot_deaths = got_deaths.drop(columns = 'S-E')",
   "execution_count": 14,
   "outputs": []
  },
  {
   "cell_type": "markdown",
   "source": "### 7 - If GOT where a game and kill with and arrow give you 3 points, ¿How many points would you has got during seasons 2, 5 and 6?",
   "metadata": {
    "id": "a0rUBHPkMJII",
    "cell_id": "00023-a8dd5f5d-85c9-4b5f-b544-c8d8294ca25f",
    "deepnote_cell_type": "markdown"
   }
  },
  {
   "cell_type": "code",
   "metadata": {
    "id": "jR80qjokMJII",
    "colab": {
     "base_uri": "https://localhost:8080/"
    },
    "executionInfo": {
     "status": "ok",
     "timestamp": 1622864816556,
     "user_tz": 240,
     "elapsed": 14,
     "user": {
      "displayName": "Andrés Sánchez",
      "photoUrl": "https://lh3.googleusercontent.com/a-/AOh14Gg69bZMv30ckb-T1MJy0nSxWIHUaP0p2uP6MYBuvQ=s64",
      "userId": "07985253921366566280"
     }
    },
    "outputId": "f3e11fe8-84d4-4944-d094-1d159be6434f",
    "cell_id": "00024-33523ba6-5a68-4f61-b092-12e1d68fe378",
    "deepnote_to_be_reexecuted": false,
    "source_hash": "675fcd09",
    "execution_start": 1630187241994,
    "execution_millis": 7,
    "deepnote_cell_type": "code"
   },
   "source": "points_per_arrow = got_deaths[['Season','Weapon']]\npoints_per_arrow = points_per_arrow[points_per_arrow['Weapon'] == \"Arrow\"]\npoints_per_arrow = points_per_arrow[(points_per_arrow['Season'] == 2) | (points_per_arrow['Season'] == 5) | (points_per_arrow['Season'] == 6)]\npoints_per_arrow = points_per_arrow.drop(columns = 'Weapon')\npoints_per_arrow = points_per_arrow['Season'].count() * 3\nprint(\"You would have got a total of: {} points.\".format(points_per_arrow))",
   "execution_count": 15,
   "outputs": [
    {
     "name": "stdout",
     "text": "You would have got a total of: 159 points.\n",
     "output_type": "stream"
    }
   ]
  },
  {
   "cell_type": "markdown",
   "source": "### 8 - ¿How many characters would have been killed by House Lannister and House Targaryen if this 2 were just one House called The kill house?",
   "metadata": {
    "id": "1sYlD46pMJII",
    "cell_id": "00025-fd370bda-5168-429b-a3ae-0012347d7ae6",
    "deepnote_cell_type": "markdown"
   }
  },
  {
   "cell_type": "code",
   "metadata": {
    "id": "1rhn1rIDMJII",
    "colab": {
     "base_uri": "https://localhost:8080/"
    },
    "executionInfo": {
     "status": "ok",
     "timestamp": 1622864816556,
     "user_tz": 240,
     "elapsed": 11,
     "user": {
      "displayName": "Andrés Sánchez",
      "photoUrl": "https://lh3.googleusercontent.com/a-/AOh14Gg69bZMv30ckb-T1MJy0nSxWIHUaP0p2uP6MYBuvQ=s64",
      "userId": "07985253921366566280"
     }
    },
    "outputId": "4bf7c925-e1b7-4f5e-a40b-dd43fb743324",
    "cell_id": "00026-7e63e115-e6df-42a4-84c4-3523d1d2b543",
    "deepnote_to_be_reexecuted": false,
    "source_hash": "911077b6",
    "execution_start": 1630187241999,
    "execution_millis": 21,
    "deepnote_cell_type": "code"
   },
   "source": "killers_house = pd.DataFrame(got_deaths['Killers House'])\nkillers_house = pd.DataFrame(killers_house['Killers House'].str.replace('House Lannister', 'The Kill House'))\nkillers_house = pd.DataFrame(killers_house['Killers House'].str.replace('House Targaryen', 'The Kill House'))\nkillers_house = killers_house[killers_house['Killers House'] == \"The Kill House\"]\nkillers_house = killers_house['Killers House'].count()\nprint(\"If the kill house were a real one, this would have killed: {} characters in total.\".format(killers_house))",
   "execution_count": 16,
   "outputs": [
    {
     "name": "stdout",
     "text": "If the kill house were a real one, this would have killed: 1444 characters in total.\n",
     "output_type": "stream"
    }
   ]
  },
  {
   "cell_type": "markdown",
   "source": "### Create a table with the # of deaths by season (axis = 1) and episodes (axis = 0).",
   "metadata": {
    "id": "9k79n0IyMJII",
    "cell_id": "00027-62a0869b-27a0-439b-b2ec-3db0ef7b8bda",
    "deepnote_cell_type": "markdown"
   }
  },
  {
   "cell_type": "code",
   "metadata": {
    "id": "eBpV7wLwMJII",
    "colab": {
     "base_uri": "https://localhost:8080/",
     "height": 359
    },
    "executionInfo": {
     "status": "ok",
     "timestamp": 1622864816557,
     "user_tz": 240,
     "elapsed": 10,
     "user": {
      "displayName": "Andrés Sánchez",
      "photoUrl": "https://lh3.googleusercontent.com/a-/AOh14Gg69bZMv30ckb-T1MJy0nSxWIHUaP0p2uP6MYBuvQ=s64",
      "userId": "07985253921366566280"
     }
    },
    "outputId": "e0e35123-4464-46c8-ea1c-e5182844056e",
    "cell_id": "00028-f6cf909f-0089-4c12-8fbd-125e6aa6126d",
    "deepnote_to_be_reexecuted": false,
    "source_hash": "8d255d48",
    "execution_start": 1630187242017,
    "execution_millis": 45,
    "deepnote_cell_type": "code"
   },
   "source": "pd.options.display.float_format = '{:,.0f}'.format\nnumber_death = got_deaths.copy(deep = True)\nnumber_death = number_death[['Season','Episode']]\nnumber_death['Deaths'] = 1\nnumber_death = number_death.groupby(['Season','Episode']).sum()\nnumber_death = number_death.unstack('Episode')\nnumber_death = number_death.fillna(0)\n\nnumber_death",
   "execution_count": 17,
   "outputs": [
    {
     "output_type": "execute_result",
     "execution_count": 17,
     "data": {
      "application/vnd.deepnote.dataframe.v2+json": {
       "row_count": 8,
       "column_count": 10,
       "columns": [
        {
         "name": [
          "Deaths",
          1
         ],
         "dtype": "float64",
         "stats": {
          "unique_count": 7,
          "nan_count": 0,
          "min": "1.0",
          "max": "54.0",
          "histogram": [
           {
            "bin_start": 1,
            "bin_end": 6.3,
            "count": 4
           },
           {
            "bin_start": 6.3,
            "bin_end": 11.6,
            "count": 3
           },
           {
            "bin_start": 11.6,
            "bin_end": 16.9,
            "count": 0
           },
           {
            "bin_start": 16.9,
            "bin_end": 22.2,
            "count": 0
           },
           {
            "bin_start": 22.2,
            "bin_end": 27.5,
            "count": 0
           },
           {
            "bin_start": 27.5,
            "bin_end": 32.8,
            "count": 0
           },
           {
            "bin_start": 32.8,
            "bin_end": 38.1,
            "count": 0
           },
           {
            "bin_start": 38.1,
            "bin_end": 43.4,
            "count": 0
           },
           {
            "bin_start": 43.4,
            "bin_end": 48.699999999999996,
            "count": 0
           },
           {
            "bin_start": 48.699999999999996,
            "bin_end": 54,
            "count": 1
           }
          ]
         }
        },
        {
         "name": [
          "Deaths",
          2
         ],
         "dtype": "float64",
         "stats": {
          "unique_count": 6,
          "nan_count": 0,
          "min": "1.0",
          "max": "29.0",
          "histogram": [
           {
            "bin_start": 1,
            "bin_end": 3.8,
            "count": 4
           },
           {
            "bin_start": 3.8,
            "bin_end": 6.6,
            "count": 1
           },
           {
            "bin_start": 6.6,
            "bin_end": 9.399999999999999,
            "count": 2
           },
           {
            "bin_start": 9.399999999999999,
            "bin_end": 12.2,
            "count": 0
           },
           {
            "bin_start": 12.2,
            "bin_end": 15,
            "count": 0
           },
           {
            "bin_start": 15,
            "bin_end": 17.799999999999997,
            "count": 0
           },
           {
            "bin_start": 17.799999999999997,
            "bin_end": 20.599999999999998,
            "count": 0
           },
           {
            "bin_start": 20.599999999999998,
            "bin_end": 23.4,
            "count": 0
           },
           {
            "bin_start": 23.4,
            "bin_end": 26.2,
            "count": 0
           },
           {
            "bin_start": 26.2,
            "bin_end": 29,
            "count": 1
           }
          ]
         }
        },
        {
         "name": [
          "Deaths",
          3
         ],
         "dtype": "float64",
         "stats": {
          "unique_count": 8,
          "nan_count": 0,
          "min": "0.0",
          "max": "35.0",
          "histogram": [
           {
            "bin_start": 0,
            "bin_end": 3.5,
            "count": 1
           },
           {
            "bin_start": 3.5,
            "bin_end": 7,
            "count": 2
           },
           {
            "bin_start": 7,
            "bin_end": 10.5,
            "count": 2
           },
           {
            "bin_start": 10.5,
            "bin_end": 14,
            "count": 1
           },
           {
            "bin_start": 14,
            "bin_end": 17.5,
            "count": 0
           },
           {
            "bin_start": 17.5,
            "bin_end": 21,
            "count": 0
           },
           {
            "bin_start": 21,
            "bin_end": 24.5,
            "count": 1
           },
           {
            "bin_start": 24.5,
            "bin_end": 28,
            "count": 0
           },
           {
            "bin_start": 28,
            "bin_end": 31.5,
            "count": 0
           },
           {
            "bin_start": 31.5,
            "bin_end": 35,
            "count": 1
           }
          ]
         }
        },
        {
         "name": [
          "Deaths",
          4
         ],
         "dtype": "float64",
         "stats": {
          "unique_count": 7,
          "nan_count": 0,
          "min": "1.0",
          "max": "205.0",
          "histogram": [
           {
            "bin_start": 1,
            "bin_end": 21.4,
            "count": 6
           },
           {
            "bin_start": 21.4,
            "bin_end": 41.8,
            "count": 0
           },
           {
            "bin_start": 41.8,
            "bin_end": 62.199999999999996,
            "count": 1
           },
           {
            "bin_start": 62.199999999999996,
            "bin_end": 82.6,
            "count": 0
           },
           {
            "bin_start": 82.6,
            "bin_end": 103,
            "count": 0
           },
           {
            "bin_start": 103,
            "bin_end": 123.39999999999999,
            "count": 0
           },
           {
            "bin_start": 123.39999999999999,
            "bin_end": 143.79999999999998,
            "count": 0
           },
           {
            "bin_start": 143.79999999999998,
            "bin_end": 164.2,
            "count": 0
           },
           {
            "bin_start": 164.2,
            "bin_end": 184.6,
            "count": 0
           },
           {
            "bin_start": 184.6,
            "bin_end": 205,
            "count": 1
           }
          ]
         }
        },
        {
         "name": [
          "Deaths",
          5
         ],
         "dtype": "float64",
         "stats": {
          "unique_count": 6,
          "nan_count": 0,
          "min": "2.0",
          "max": "844.0",
          "histogram": [
           {
            "bin_start": 2,
            "bin_end": 86.2,
            "count": 7
           },
           {
            "bin_start": 86.2,
            "bin_end": 170.4,
            "count": 0
           },
           {
            "bin_start": 170.4,
            "bin_end": 254.60000000000002,
            "count": 0
           },
           {
            "bin_start": 254.60000000000002,
            "bin_end": 338.8,
            "count": 0
           },
           {
            "bin_start": 338.8,
            "bin_end": 423,
            "count": 0
           },
           {
            "bin_start": 423,
            "bin_end": 507.20000000000005,
            "count": 0
           },
           {
            "bin_start": 507.20000000000005,
            "bin_end": 591.4,
            "count": 0
           },
           {
            "bin_start": 591.4,
            "bin_end": 675.6,
            "count": 0
           },
           {
            "bin_start": 675.6,
            "bin_end": 759.8000000000001,
            "count": 0
           },
           {
            "bin_start": 759.8000000000001,
            "bin_end": 844,
            "count": 1
           }
          ]
         }
        },
        {
         "name": [
          "Deaths",
          6
         ],
         "dtype": "float64",
         "stats": {
          "unique_count": 6,
          "nan_count": 0,
          "min": "0.0",
          "max": "12.0",
          "histogram": [
           {
            "bin_start": 0,
            "bin_end": 1.2,
            "count": 3
           },
           {
            "bin_start": 1.2,
            "bin_end": 2.4,
            "count": 0
           },
           {
            "bin_start": 2.4,
            "bin_end": 3.5999999999999996,
            "count": 0
           },
           {
            "bin_start": 3.5999999999999996,
            "bin_end": 4.8,
            "count": 0
           },
           {
            "bin_start": 4.8,
            "bin_end": 6,
            "count": 1
           },
           {
            "bin_start": 6,
            "bin_end": 7.199999999999999,
            "count": 2
           },
           {
            "bin_start": 7.199999999999999,
            "bin_end": 8.4,
            "count": 0
           },
           {
            "bin_start": 8.4,
            "bin_end": 9.6,
            "count": 1
           },
           {
            "bin_start": 9.6,
            "bin_end": 10.799999999999999,
            "count": 0
           },
           {
            "bin_start": 10.799999999999999,
            "bin_end": 12,
            "count": 1
           }
          ]
         }
        },
        {
         "name": [
          "Deaths",
          7
         ],
         "dtype": "float64",
         "stats": {
          "unique_count": 7,
          "nan_count": 0,
          "min": "0.0",
          "max": "15.0",
          "histogram": [
           {
            "bin_start": 0,
            "bin_end": 1.5,
            "count": 3
           },
           {
            "bin_start": 1.5,
            "bin_end": 3,
            "count": 1
           },
           {
            "bin_start": 3,
            "bin_end": 4.5,
            "count": 0
           },
           {
            "bin_start": 4.5,
            "bin_end": 6,
            "count": 1
           },
           {
            "bin_start": 6,
            "bin_end": 7.5,
            "count": 1
           },
           {
            "bin_start": 7.5,
            "bin_end": 9,
            "count": 0
           },
           {
            "bin_start": 9,
            "bin_end": 10.5,
            "count": 1
           },
           {
            "bin_start": 10.5,
            "bin_end": 12,
            "count": 0
           },
           {
            "bin_start": 12,
            "bin_end": 13.5,
            "count": 0
           },
           {
            "bin_start": 13.5,
            "bin_end": 15,
            "count": 1
           }
          ]
         }
        },
        {
         "name": [
          "Deaths",
          8
         ],
         "dtype": "float64",
         "stats": {
          "unique_count": 6,
          "nan_count": 0,
          "min": "0.0",
          "max": "23.0",
          "histogram": [
           {
            "bin_start": 0,
            "bin_end": 2.3,
            "count": 3
           },
           {
            "bin_start": 2.3,
            "bin_end": 4.6,
            "count": 0
           },
           {
            "bin_start": 4.6,
            "bin_end": 6.8999999999999995,
            "count": 1
           },
           {
            "bin_start": 6.8999999999999995,
            "bin_end": 9.2,
            "count": 1
           },
           {
            "bin_start": 9.2,
            "bin_end": 11.5,
            "count": 1
           },
           {
            "bin_start": 11.5,
            "bin_end": 13.799999999999999,
            "count": 1
           },
           {
            "bin_start": 13.799999999999999,
            "bin_end": 16.099999999999998,
            "count": 0
           },
           {
            "bin_start": 16.099999999999998,
            "bin_end": 18.4,
            "count": 0
           },
           {
            "bin_start": 18.4,
            "bin_end": 20.7,
            "count": 0
           },
           {
            "bin_start": 20.7,
            "bin_end": 23,
            "count": 1
           }
          ]
         }
        },
        {
         "name": [
          "Deaths",
          9
         ],
         "dtype": "float64",
         "stats": {
          "unique_count": 7,
          "nan_count": 0,
          "min": "0.0",
          "max": "133.0",
          "histogram": [
           {
            "bin_start": 0,
            "bin_end": 13.3,
            "count": 3
           },
           {
            "bin_start": 13.3,
            "bin_end": 26.6,
            "count": 0
           },
           {
            "bin_start": 26.6,
            "bin_end": 39.900000000000006,
            "count": 0
           },
           {
            "bin_start": 39.900000000000006,
            "bin_end": 53.2,
            "count": 1
           },
           {
            "bin_start": 53.2,
            "bin_end": 66.5,
            "count": 1
           },
           {
            "bin_start": 66.5,
            "bin_end": 79.80000000000001,
            "count": 1
           },
           {
            "bin_start": 79.80000000000001,
            "bin_end": 93.10000000000001,
            "count": 1
           },
           {
            "bin_start": 93.10000000000001,
            "bin_end": 106.4,
            "count": 0
           },
           {
            "bin_start": 106.4,
            "bin_end": 119.7,
            "count": 0
           },
           {
            "bin_start": 119.7,
            "bin_end": 133,
            "count": 1
           }
          ]
         }
        },
        {
         "name": [
          "Deaths",
          10
         ],
         "dtype": "float64",
         "stats": {
          "unique_count": 7,
          "nan_count": 0,
          "min": "0.0",
          "max": "203.0",
          "histogram": [
           {
            "bin_start": 0,
            "bin_end": 20.3,
            "count": 7
           },
           {
            "bin_start": 20.3,
            "bin_end": 40.6,
            "count": 0
           },
           {
            "bin_start": 40.6,
            "bin_end": 60.900000000000006,
            "count": 0
           },
           {
            "bin_start": 60.900000000000006,
            "bin_end": 81.2,
            "count": 0
           },
           {
            "bin_start": 81.2,
            "bin_end": 101.5,
            "count": 0
           },
           {
            "bin_start": 101.5,
            "bin_end": 121.80000000000001,
            "count": 0
           },
           {
            "bin_start": 121.80000000000001,
            "bin_end": 142.1,
            "count": 0
           },
           {
            "bin_start": 142.1,
            "bin_end": 162.4,
            "count": 0
           },
           {
            "bin_start": 162.4,
            "bin_end": 182.70000000000002,
            "count": 0
           },
           {
            "bin_start": 182.70000000000002,
            "bin_end": 203,
            "count": 1
           }
          ]
         }
        },
        {
         "name": "_deepnote_index_column",
         "dtype": "object"
        }
       ],
       "rows_top": [
        {
         "('Deaths', 1)": 7,
         "('Deaths', 2)": 3,
         "('Deaths', 3)": 0,
         "('Deaths', 4)": 1,
         "('Deaths', 5)": 17,
         "('Deaths', 6)": 5,
         "('Deaths', 7)": 5,
         "('Deaths', 8)": 11,
         "('Deaths', 9)": 6,
         "('Deaths', 10)": 3,
         "_deepnote_index_column": "1"
        },
        {
         "('Deaths', 1)": 7,
         "('Deaths', 2)": 1,
         "('Deaths', 3)": 8,
         "('Deaths', 4)": 3,
         "('Deaths', 5)": 4,
         "('Deaths', 6)": 12,
         "('Deaths', 7)": 15,
         "('Deaths', 8)": 0,
         "('Deaths', 9)": 72,
         "('Deaths', 10)": 8,
         "_deepnote_index_column": "2"
        },
        {
         "('Deaths', 1)": 1,
         "('Deaths', 2)": 1,
         "('Deaths', 3)": 4,
         "('Deaths', 4)": 11,
         "('Deaths', 5)": 4,
         "('Deaths', 6)": 7,
         "('Deaths', 7)": 0,
         "('Deaths', 8)": 6,
         "('Deaths', 9)": 45,
         "('Deaths', 10)": 7,
         "_deepnote_index_column": "3"
        },
        {
         "('Deaths', 1)": 5,
         "('Deaths', 2)": 6,
         "('Deaths', 3)": 11,
         "('Deaths', 4)": 1,
         "('Deaths', 5)": 16,
         "('Deaths', 6)": 7,
         "('Deaths', 7)": 7,
         "('Deaths', 8)": 12,
         "('Deaths', 9)": 86,
         "('Deaths', 10)": 19,
         "_deepnote_index_column": "4"
        },
        {
         "('Deaths', 1)": 2,
         "('Deaths', 2)": 8,
         "('Deaths', 3)": 5,
         "('Deaths', 4)": 48,
         "('Deaths', 5)": 2,
         "('Deaths', 6)": 1,
         "('Deaths', 7)": 2,
         "('Deaths', 8)": 23,
         "('Deaths', 9)": 58,
         "('Deaths', 10)": 9,
         "_deepnote_index_column": "5"
        },
        {
         "('Deaths', 1)": 8,
         "('Deaths', 2)": 7,
         "('Deaths', 3)": 10,
         "('Deaths', 4)": 18,
         "('Deaths', 5)": 8,
         "('Deaths', 6)": 0,
         "('Deaths', 7)": 1,
         "('Deaths', 8)": 8,
         "('Deaths', 9)": 133,
         "('Deaths', 10)": 203,
         "_deepnote_index_column": "6"
        },
        {
         "('Deaths', 1)": 54,
         "('Deaths', 2)": 29,
         "('Deaths', 3)": 23,
         "('Deaths', 4)": 205,
         "('Deaths', 5)": 4,
         "('Deaths', 6)": 9,
         "('Deaths', 7)": 10,
         "('Deaths', 8)": 0,
         "('Deaths', 9)": 0,
         "('Deaths', 10)": 0,
         "_deepnote_index_column": "7"
        },
        {
         "('Deaths', 1)": 6,
         "('Deaths', 2)": 1,
         "('Deaths', 3)": 35,
         "('Deaths', 4)": 5,
         "('Deaths', 5)": 844,
         "('Deaths', 6)": 1,
         "('Deaths', 7)": 0,
         "('Deaths', 8)": 0,
         "('Deaths', 9)": 0,
         "('Deaths', 10)": 0,
         "_deepnote_index_column": "8"
        }
       ],
       "rows_bottom": null
      },
      "text/plain": "        Deaths                               \nEpisode     1  2  3   4   5  6  7  8   9   10\nSeason                                       \n1            7  3  0   1  17  5  5 11   6   3\n2            7  1  8   3   4 12 15  0  72   8\n3            1  1  4  11   4  7  0  6  45   7\n4            5  6 11   1  16  7  7 12  86  19\n5            2  8  5  48   2  1  2 23  58   9\n6            8  7 10  18   8  0  1  8 133 203\n7           54 29 23 205   4  9 10  0   0   0\n8            6  1 35   5 844  1  0  0   0   0",
      "text/html": "<div>\n<style scoped>\n    .dataframe tbody tr th:only-of-type {\n        vertical-align: middle;\n    }\n\n    .dataframe tbody tr th {\n        vertical-align: top;\n    }\n\n    .dataframe thead tr th {\n        text-align: left;\n    }\n\n    .dataframe thead tr:last-of-type th {\n        text-align: right;\n    }\n</style>\n<table border=\"1\" class=\"dataframe\">\n  <thead>\n    <tr>\n      <th></th>\n      <th colspan=\"10\" halign=\"left\">Deaths</th>\n    </tr>\n    <tr>\n      <th>Episode</th>\n      <th>1</th>\n      <th>2</th>\n      <th>3</th>\n      <th>4</th>\n      <th>5</th>\n      <th>6</th>\n      <th>7</th>\n      <th>8</th>\n      <th>9</th>\n      <th>10</th>\n    </tr>\n    <tr>\n      <th>Season</th>\n      <th></th>\n      <th></th>\n      <th></th>\n      <th></th>\n      <th></th>\n      <th></th>\n      <th></th>\n      <th></th>\n      <th></th>\n      <th></th>\n    </tr>\n  </thead>\n  <tbody>\n    <tr>\n      <th>1</th>\n      <td>7</td>\n      <td>3</td>\n      <td>0</td>\n      <td>1</td>\n      <td>17</td>\n      <td>5</td>\n      <td>5</td>\n      <td>11</td>\n      <td>6</td>\n      <td>3</td>\n    </tr>\n    <tr>\n      <th>2</th>\n      <td>7</td>\n      <td>1</td>\n      <td>8</td>\n      <td>3</td>\n      <td>4</td>\n      <td>12</td>\n      <td>15</td>\n      <td>0</td>\n      <td>72</td>\n      <td>8</td>\n    </tr>\n    <tr>\n      <th>3</th>\n      <td>1</td>\n      <td>1</td>\n      <td>4</td>\n      <td>11</td>\n      <td>4</td>\n      <td>7</td>\n      <td>0</td>\n      <td>6</td>\n      <td>45</td>\n      <td>7</td>\n    </tr>\n    <tr>\n      <th>4</th>\n      <td>5</td>\n      <td>6</td>\n      <td>11</td>\n      <td>1</td>\n      <td>16</td>\n      <td>7</td>\n      <td>7</td>\n      <td>12</td>\n      <td>86</td>\n      <td>19</td>\n    </tr>\n    <tr>\n      <th>5</th>\n      <td>2</td>\n      <td>8</td>\n      <td>5</td>\n      <td>48</td>\n      <td>2</td>\n      <td>1</td>\n      <td>2</td>\n      <td>23</td>\n      <td>58</td>\n      <td>9</td>\n    </tr>\n    <tr>\n      <th>6</th>\n      <td>8</td>\n      <td>7</td>\n      <td>10</td>\n      <td>18</td>\n      <td>8</td>\n      <td>0</td>\n      <td>1</td>\n      <td>8</td>\n      <td>133</td>\n      <td>203</td>\n    </tr>\n    <tr>\n      <th>7</th>\n      <td>54</td>\n      <td>29</td>\n      <td>23</td>\n      <td>205</td>\n      <td>4</td>\n      <td>9</td>\n      <td>10</td>\n      <td>0</td>\n      <td>0</td>\n      <td>0</td>\n    </tr>\n    <tr>\n      <th>8</th>\n      <td>6</td>\n      <td>1</td>\n      <td>35</td>\n      <td>5</td>\n      <td>844</td>\n      <td>1</td>\n      <td>0</td>\n      <td>0</td>\n      <td>0</td>\n      <td>0</td>\n    </tr>\n  </tbody>\n</table>\n</div>"
     },
     "metadata": {}
    }
   ]
  },
  {
   "cell_type": "markdown",
   "source": "<a style='text-decoration:none;line-height:16px;display:flex;color:#5B5B62;padding:10px;justify-content:end;' href='https://deepnote.com?utm_source=created-in-deepnote-cell&projectId=fe744348-fecc-4b7a-803c-44dba24ecb38' target=\"_blank\">\n<img alt='Created in deepnote.com' style='display:inline;max-height:16px;margin:0px;margin-right:7.5px;' src='data:image/svg+xml;base64,PD94bWwgdmVyc2lvbj0iMS4wIiBlbmNvZGluZz0iVVRGLTgiPz4KPHN2ZyB3aWR0aD0iODBweCIgaGVpZ2h0PSI4MHB4IiB2aWV3Qm94PSIwIDAgODAgODAiIHZlcnNpb249IjEuMSIgeG1sbnM9Imh0dHA6Ly93d3cudzMub3JnLzIwMDAvc3ZnIiB4bWxuczp4bGluaz0iaHR0cDovL3d3dy53My5vcmcvMTk5OS94bGluayI+CiAgICA8IS0tIEdlbmVyYXRvcjogU2tldGNoIDU0LjEgKDc2NDkwKSAtIGh0dHBzOi8vc2tldGNoYXBwLmNvbSAtLT4KICAgIDx0aXRsZT5Hcm91cCAzPC90aXRsZT4KICAgIDxkZXNjPkNyZWF0ZWQgd2l0aCBTa2V0Y2guPC9kZXNjPgogICAgPGcgaWQ9IkxhbmRpbmciIHN0cm9rZT0ibm9uZSIgc3Ryb2tlLXdpZHRoPSIxIiBmaWxsPSJub25lIiBmaWxsLXJ1bGU9ImV2ZW5vZGQiPgogICAgICAgIDxnIGlkPSJBcnRib2FyZCIgdHJhbnNmb3JtPSJ0cmFuc2xhdGUoLTEyMzUuMDAwMDAwLCAtNzkuMDAwMDAwKSI+CiAgICAgICAgICAgIDxnIGlkPSJHcm91cC0zIiB0cmFuc2Zvcm09InRyYW5zbGF0ZSgxMjM1LjAwMDAwMCwgNzkuMDAwMDAwKSI+CiAgICAgICAgICAgICAgICA8cG9seWdvbiBpZD0iUGF0aC0yMCIgZmlsbD0iIzAyNjVCNCIgcG9pbnRzPSIyLjM3NjIzNzYyIDgwIDM4LjA0NzY2NjcgODAgNTcuODIxNzgyMiA3My44MDU3NTkyIDU3LjgyMTc4MjIgMzIuNzU5MjczOSAzOS4xNDAyMjc4IDMxLjY4MzE2ODMiPjwvcG9seWdvbj4KICAgICAgICAgICAgICAgIDxwYXRoIGQ9Ik0zNS4wMDc3MTgsODAgQzQyLjkwNjIwMDcsNzYuNDU0OTM1OCA0Ny41NjQ5MTY3LDcxLjU0MjI2NzEgNDguOTgzODY2LDY1LjI2MTk5MzkgQzUxLjExMjI4OTksNTUuODQxNTg0MiA0MS42NzcxNzk1LDQ5LjIxMjIyODQgMjUuNjIzOTg0Niw0OS4yMTIyMjg0IEMyNS40ODQ5Mjg5LDQ5LjEyNjg0NDggMjkuODI2MTI5Niw0My4yODM4MjQ4IDM4LjY0NzU4NjksMzEuNjgzMTY4MyBMNzIuODcxMjg3MSwzMi41NTQ0MjUgTDY1LjI4MDk3Myw2Ny42NzYzNDIxIEw1MS4xMTIyODk5LDc3LjM3NjE0NCBMMzUuMDA3NzE4LDgwIFoiIGlkPSJQYXRoLTIyIiBmaWxsPSIjMDAyODY4Ij48L3BhdGg+CiAgICAgICAgICAgICAgICA8cGF0aCBkPSJNMCwzNy43MzA0NDA1IEwyNy4xMTQ1MzcsMC4yNTcxMTE0MzYgQzYyLjM3MTUxMjMsLTEuOTkwNzE3MDEgODAsMTAuNTAwMzkyNyA4MCwzNy43MzA0NDA1IEM4MCw2NC45NjA0ODgyIDY0Ljc3NjUwMzgsNzkuMDUwMzQxNCAzNC4zMjk1MTEzLDgwIEM0Ny4wNTUzNDg5LDc3LjU2NzA4MDggNTMuNDE4MjY3Nyw3MC4zMTM2MTAzIDUzLjQxODI2NzcsNTguMjM5NTg4NSBDNTMuNDE4MjY3Nyw0MC4xMjg1NTU3IDM2LjMwMzk1NDQsMzcuNzMwNDQwNSAyNS4yMjc0MTcsMzcuNzMwNDQwNSBDMTcuODQzMDU4NiwzNy43MzA0NDA1IDkuNDMzOTE5NjYsMzcuNzMwNDQwNSAwLDM3LjczMDQ0MDUgWiIgaWQ9IlBhdGgtMTkiIGZpbGw9IiMzNzkzRUYiPjwvcGF0aD4KICAgICAgICAgICAgPC9nPgogICAgICAgIDwvZz4KICAgIDwvZz4KPC9zdmc+' > </img>\nCreated in <span style='font-weight:600;margin-left:4px;'>Deepnote</span></a>",
   "metadata": {
    "tags": [],
    "created_in_deepnote_cell": true,
    "deepnote_cell_type": "markdown"
   }
  }
 ],
 "nbformat": 4,
 "nbformat_minor": 0,
 "metadata": {
  "language_info": {
   "codemirror_mode": {
    "name": "ipython",
    "version": 3
   },
   "file_extension": ".py",
   "mimetype": "text/x-python",
   "name": "python",
   "nbconvert_exporter": "python",
   "pygments_lexer": "ipython3",
   "version": "3.9.1"
  },
  "orig_nbformat": 2,
  "kernelspec": {
   "name": "python391jvsc74a57bd0aee8b7b246df8f9039afb4144a1f6fd8d2ca17a180786b69acc140d282b71a49",
   "display_name": "Python 3.9.1 64-bit"
  },
  "metadata": {
   "interpreter": {
    "hash": "aee8b7b246df8f9039afb4144a1f6fd8d2ca17a180786b69acc140d282b71a49"
   }
  },
  "colab": {
   "name": "Main_GOT_project_GoogleVersion.ipynb",
   "provenance": [],
   "collapsed_sections": []
  },
  "deepnote_notebook_id": "7e148908-5bfa-4ca5-b77e-464b4d903f2b",
  "deepnote": {
   "is_reactive": false
  },
  "deepnote_execution_queue": []
 }
}
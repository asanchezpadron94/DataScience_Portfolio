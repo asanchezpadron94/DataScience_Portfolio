{
 "cells": [
  {
   "cell_type": "markdown",
   "source": "# Ex2 - Getting and Knowing your Data",
   "metadata": {
    "id": "e8itHFM6VdoR",
    "cell_id": "00000-b3a9550a-609a-4592-ae18-2c74246ec391",
    "deepnote_cell_type": "markdown"
   }
  },
  {
   "cell_type": "markdown",
   "source": "This time we are going to pull data directly from the internet.\nSpecial thanks to: https://github.com/justmarkham for sharing the dataset and materials.\n\n### Step 1. Import the necessary libraries",
   "metadata": {
    "id": "Ylqo2-OGVdoS",
    "cell_id": "00001-cd877b13-9f0e-4fc5-b659-bb86687be79a",
    "deepnote_cell_type": "markdown"
   }
  },
  {
   "cell_type": "code",
   "metadata": {
    "id": "yiPL8ReBVdoT",
    "executionInfo": {
     "status": "ok",
     "timestamp": 1623023214304,
     "user_tz": 240,
     "elapsed": 275,
     "user": {
      "displayName": "Andrés Sánchez",
      "photoUrl": "https://lh3.googleusercontent.com/a-/AOh14Gg69bZMv30ckb-T1MJy0nSxWIHUaP0p2uP6MYBuvQ=s64",
      "userId": "07985253921366566280"
     }
    },
    "cell_id": "00002-019e628c-0baf-49d1-a0e1-8682aa4344bc",
    "deepnote_to_be_reexecuted": false,
    "source_hash": "c76c7c51",
    "execution_start": 1630096596704,
    "execution_millis": 5,
    "deepnote_cell_type": "code"
   },
   "source": "import pandas as pd\nimport numpy as np",
   "execution_count": 1,
   "outputs": []
  },
  {
   "cell_type": "markdown",
   "source": "### Step 2. Import the dataset from this [address](https://raw.githubusercontent.com/justmarkham/DAT8/master/data/chipotle.tsv). ",
   "metadata": {
    "id": "-VURmQGgVdoT",
    "cell_id": "00003-06d39c91-0da2-45dd-b11a-be162fc5318f",
    "deepnote_cell_type": "markdown"
   }
  },
  {
   "cell_type": "markdown",
   "source": "### Step 3. Assign it to a variable called chipo.",
   "metadata": {
    "id": "UIAJOyc9VdoT",
    "cell_id": "00004-6b2c84ea-2009-436f-a063-e5740b3d0632",
    "deepnote_cell_type": "markdown"
   }
  },
  {
   "cell_type": "code",
   "metadata": {
    "id": "HqmLf0FyVdoT",
    "executionInfo": {
     "status": "ok",
     "timestamp": 1623023214602,
     "user_tz": 240,
     "elapsed": 21,
     "user": {
      "displayName": "Andrés Sánchez",
      "photoUrl": "https://lh3.googleusercontent.com/a-/AOh14Gg69bZMv30ckb-T1MJy0nSxWIHUaP0p2uP6MYBuvQ=s64",
      "userId": "07985253921366566280"
     }
    },
    "cell_id": "00005-686fa347-d993-4aee-bb9f-f7a73d9a1a57",
    "deepnote_to_be_reexecuted": false,
    "source_hash": "754490b6",
    "execution_start": 1630096596713,
    "execution_millis": 38,
    "deepnote_cell_type": "code"
   },
   "source": "chipo = pd.read_csv('https://raw.githubusercontent.com/justmarkham/DAT8/master/data/chipotle.tsv', sep='\\t')",
   "execution_count": 2,
   "outputs": []
  },
  {
   "cell_type": "markdown",
   "source": "### Step 4. See the first 10 entries",
   "metadata": {
    "id": "GiBW1KBiVdoT",
    "cell_id": "00006-9c1c6884-fae6-4128-9293-51e31cf9cf61",
    "deepnote_cell_type": "markdown"
   }
  },
  {
   "cell_type": "code",
   "metadata": {
    "scrolled": false,
    "colab": {
     "base_uri": "https://localhost:8080/",
     "height": 343
    },
    "id": "GLVxMQ5zVdoT",
    "executionInfo": {
     "status": "ok",
     "timestamp": 1623023214603,
     "user_tz": 240,
     "elapsed": 21,
     "user": {
      "displayName": "Andrés Sánchez",
      "photoUrl": "https://lh3.googleusercontent.com/a-/AOh14Gg69bZMv30ckb-T1MJy0nSxWIHUaP0p2uP6MYBuvQ=s64",
      "userId": "07985253921366566280"
     }
    },
    "outputId": "be59d01d-6d86-4047-ff88-57381e2c3235",
    "cell_id": "00007-08270adf-8f7e-4d66-9db6-02e7edd2e769",
    "deepnote_to_be_reexecuted": false,
    "source_hash": "2f99c3d",
    "execution_start": 1630096596777,
    "execution_millis": 61,
    "deepnote_cell_type": "code"
   },
   "source": "chipo.head(10)",
   "execution_count": 3,
   "outputs": [
    {
     "output_type": "execute_result",
     "execution_count": 3,
     "data": {
      "application/vnd.deepnote.dataframe.v2+json": {
       "row_count": 10,
       "column_count": 5,
       "columns": [
        {
         "name": "order_id",
         "dtype": "int64",
         "stats": {
          "unique_count": 5,
          "nan_count": 0,
          "min": "1",
          "max": "5",
          "histogram": [
           {
            "bin_start": 1,
            "bin_end": 1.4,
            "count": 4
           },
           {
            "bin_start": 1.4,
            "bin_end": 1.8,
            "count": 0
           },
           {
            "bin_start": 1.8,
            "bin_end": 2.2,
            "count": 1
           },
           {
            "bin_start": 2.2,
            "bin_end": 2.6,
            "count": 0
           },
           {
            "bin_start": 2.6,
            "bin_end": 3,
            "count": 0
           },
           {
            "bin_start": 3,
            "bin_end": 3.4000000000000004,
            "count": 2
           },
           {
            "bin_start": 3.4000000000000004,
            "bin_end": 3.8000000000000003,
            "count": 0
           },
           {
            "bin_start": 3.8000000000000003,
            "bin_end": 4.2,
            "count": 2
           },
           {
            "bin_start": 4.2,
            "bin_end": 4.6,
            "count": 0
           },
           {
            "bin_start": 4.6,
            "bin_end": 5,
            "count": 1
           }
          ]
         }
        },
        {
         "name": "quantity",
         "dtype": "int64",
         "stats": {
          "unique_count": 2,
          "nan_count": 0,
          "min": "1",
          "max": "2",
          "histogram": [
           {
            "bin_start": 1,
            "bin_end": 1.1,
            "count": 9
           },
           {
            "bin_start": 1.1,
            "bin_end": 1.2,
            "count": 0
           },
           {
            "bin_start": 1.2,
            "bin_end": 1.3,
            "count": 0
           },
           {
            "bin_start": 1.3,
            "bin_end": 1.4,
            "count": 0
           },
           {
            "bin_start": 1.4,
            "bin_end": 1.5,
            "count": 0
           },
           {
            "bin_start": 1.5,
            "bin_end": 1.6,
            "count": 0
           },
           {
            "bin_start": 1.6,
            "bin_end": 1.7000000000000002,
            "count": 0
           },
           {
            "bin_start": 1.7000000000000002,
            "bin_end": 1.8,
            "count": 0
           },
           {
            "bin_start": 1.8,
            "bin_end": 1.9,
            "count": 0
           },
           {
            "bin_start": 1.9,
            "bin_end": 2,
            "count": 1
           }
          ]
         }
        },
        {
         "name": "item_name",
         "dtype": "object",
         "stats": {
          "unique_count": 8,
          "nan_count": 0,
          "categories": [
           {
            "name": "Chicken Bowl",
            "count": 2
           },
           {
            "name": "Steak Burrito",
            "count": 2
           },
           {
            "name": "6 others",
            "count": 6
           }
          ]
         }
        },
        {
         "name": "choice_description",
         "dtype": "object",
         "stats": {
          "unique_count": 7,
          "nan_count": 3,
          "categories": [
           {
            "name": "[Clementine]",
            "count": 1
           },
           {
            "name": "6 others",
            "count": 6
           },
           {
            "name": "Missing",
            "count": 3
           }
          ]
         }
        },
        {
         "name": "item_price",
         "dtype": "object",
         "stats": {
          "unique_count": 7,
          "nan_count": 0,
          "categories": [
           {
            "name": "$2.39 ",
            "count": 2
           },
           {
            "name": "$3.39 ",
            "count": 2
           },
           {
            "name": "5 others",
            "count": 6
           }
          ]
         }
        },
        {
         "name": "_deepnote_index_column",
         "dtype": "int64"
        }
       ],
       "rows_top": [
        {
         "order_id": 1,
         "quantity": 1,
         "item_name": "Chips and Fresh Tomato Salsa",
         "choice_description": "nan",
         "item_price": "$2.39 ",
         "_deepnote_index_column": 0
        },
        {
         "order_id": 1,
         "quantity": 1,
         "item_name": "Izze",
         "choice_description": "[Clementine]",
         "item_price": "$3.39 ",
         "_deepnote_index_column": 1
        },
        {
         "order_id": 1,
         "quantity": 1,
         "item_name": "Nantucket Nectar",
         "choice_description": "[Apple]",
         "item_price": "$3.39 ",
         "_deepnote_index_column": 2
        },
        {
         "order_id": 1,
         "quantity": 1,
         "item_name": "Chips and Tomatillo-Green Chili Salsa",
         "choice_description": "nan",
         "item_price": "$2.39 ",
         "_deepnote_index_column": 3
        },
        {
         "order_id": 2,
         "quantity": 2,
         "item_name": "Chicken Bowl",
         "choice_description": "[Tomatillo-Red Chili Salsa (Hot), [Black Beans, Rice, Cheese, Sour Cream]]",
         "item_price": "$16.98 ",
         "_deepnote_index_column": 4
        },
        {
         "order_id": 3,
         "quantity": 1,
         "item_name": "Chicken Bowl",
         "choice_description": "[Fresh Tomato Salsa (Mild), [Rice, Cheese, Sour Cream, Guacamole, Lettuce]]",
         "item_price": "$10.98 ",
         "_deepnote_index_column": 5
        },
        {
         "order_id": 3,
         "quantity": 1,
         "item_name": "Side of Chips",
         "choice_description": "nan",
         "item_price": "$1.69 ",
         "_deepnote_index_column": 6
        },
        {
         "order_id": 4,
         "quantity": 1,
         "item_name": "Steak Burrito",
         "choice_description": "[Tomatillo Red Chili Salsa, [Fajita Vegetables, Black Beans, Pinto Beans, Cheese, Sour Cream, Guaca…",
         "item_price": "$11.75 ",
         "_deepnote_index_column": 7
        },
        {
         "order_id": 4,
         "quantity": 1,
         "item_name": "Steak Soft Tacos",
         "choice_description": "[Tomatillo Green Chili Salsa, [Pinto Beans, Cheese, Sour Cream, Lettuce]]",
         "item_price": "$9.25 ",
         "_deepnote_index_column": 8
        },
        {
         "order_id": 5,
         "quantity": 1,
         "item_name": "Steak Burrito",
         "choice_description": "[Fresh Tomato Salsa, [Rice, Black Beans, Pinto Beans, Cheese, Sour Cream, Lettuce]]",
         "item_price": "$9.25 ",
         "_deepnote_index_column": 9
        }
       ],
       "rows_bottom": null
      },
      "text/plain": "   order_id  quantity                              item_name  \\\n0         1         1           Chips and Fresh Tomato Salsa   \n1         1         1                                   Izze   \n2         1         1                       Nantucket Nectar   \n3         1         1  Chips and Tomatillo-Green Chili Salsa   \n4         2         2                           Chicken Bowl   \n5         3         1                           Chicken Bowl   \n6         3         1                          Side of Chips   \n7         4         1                          Steak Burrito   \n8         4         1                       Steak Soft Tacos   \n9         5         1                          Steak Burrito   \n\n                                  choice_description item_price  \n0                                                NaN     $2.39   \n1                                       [Clementine]     $3.39   \n2                                            [Apple]     $3.39   \n3                                                NaN     $2.39   \n4  [Tomatillo-Red Chili Salsa (Hot), [Black Beans...    $16.98   \n5  [Fresh Tomato Salsa (Mild), [Rice, Cheese, Sou...    $10.98   \n6                                                NaN     $1.69   \n7  [Tomatillo Red Chili Salsa, [Fajita Vegetables...    $11.75   \n8  [Tomatillo Green Chili Salsa, [Pinto Beans, Ch...     $9.25   \n9  [Fresh Tomato Salsa, [Rice, Black Beans, Pinto...     $9.25   ",
      "text/html": "<div>\n<style scoped>\n    .dataframe tbody tr th:only-of-type {\n        vertical-align: middle;\n    }\n\n    .dataframe tbody tr th {\n        vertical-align: top;\n    }\n\n    .dataframe thead th {\n        text-align: right;\n    }\n</style>\n<table border=\"1\" class=\"dataframe\">\n  <thead>\n    <tr style=\"text-align: right;\">\n      <th></th>\n      <th>order_id</th>\n      <th>quantity</th>\n      <th>item_name</th>\n      <th>choice_description</th>\n      <th>item_price</th>\n    </tr>\n  </thead>\n  <tbody>\n    <tr>\n      <th>0</th>\n      <td>1</td>\n      <td>1</td>\n      <td>Chips and Fresh Tomato Salsa</td>\n      <td>NaN</td>\n      <td>$2.39</td>\n    </tr>\n    <tr>\n      <th>1</th>\n      <td>1</td>\n      <td>1</td>\n      <td>Izze</td>\n      <td>[Clementine]</td>\n      <td>$3.39</td>\n    </tr>\n    <tr>\n      <th>2</th>\n      <td>1</td>\n      <td>1</td>\n      <td>Nantucket Nectar</td>\n      <td>[Apple]</td>\n      <td>$3.39</td>\n    </tr>\n    <tr>\n      <th>3</th>\n      <td>1</td>\n      <td>1</td>\n      <td>Chips and Tomatillo-Green Chili Salsa</td>\n      <td>NaN</td>\n      <td>$2.39</td>\n    </tr>\n    <tr>\n      <th>4</th>\n      <td>2</td>\n      <td>2</td>\n      <td>Chicken Bowl</td>\n      <td>[Tomatillo-Red Chili Salsa (Hot), [Black Beans...</td>\n      <td>$16.98</td>\n    </tr>\n    <tr>\n      <th>5</th>\n      <td>3</td>\n      <td>1</td>\n      <td>Chicken Bowl</td>\n      <td>[Fresh Tomato Salsa (Mild), [Rice, Cheese, Sou...</td>\n      <td>$10.98</td>\n    </tr>\n    <tr>\n      <th>6</th>\n      <td>3</td>\n      <td>1</td>\n      <td>Side of Chips</td>\n      <td>NaN</td>\n      <td>$1.69</td>\n    </tr>\n    <tr>\n      <th>7</th>\n      <td>4</td>\n      <td>1</td>\n      <td>Steak Burrito</td>\n      <td>[Tomatillo Red Chili Salsa, [Fajita Vegetables...</td>\n      <td>$11.75</td>\n    </tr>\n    <tr>\n      <th>8</th>\n      <td>4</td>\n      <td>1</td>\n      <td>Steak Soft Tacos</td>\n      <td>[Tomatillo Green Chili Salsa, [Pinto Beans, Ch...</td>\n      <td>$9.25</td>\n    </tr>\n    <tr>\n      <th>9</th>\n      <td>5</td>\n      <td>1</td>\n      <td>Steak Burrito</td>\n      <td>[Fresh Tomato Salsa, [Rice, Black Beans, Pinto...</td>\n      <td>$9.25</td>\n    </tr>\n  </tbody>\n</table>\n</div>"
     },
     "metadata": {}
    }
   ]
  },
  {
   "cell_type": "markdown",
   "source": "### Step 5. What is the number of observations in the dataset?",
   "metadata": {
    "id": "M-h753QrVdoT",
    "cell_id": "00008-066cec95-52cb-40e7-8fe8-9450698d3dc5",
    "deepnote_cell_type": "markdown"
   }
  },
  {
   "cell_type": "code",
   "metadata": {
    "colab": {
     "base_uri": "https://localhost:8080/"
    },
    "id": "mM-zETtlVdoU",
    "executionInfo": {
     "status": "ok",
     "timestamp": 1623023214603,
     "user_tz": 240,
     "elapsed": 19,
     "user": {
      "displayName": "Andrés Sánchez",
      "photoUrl": "https://lh3.googleusercontent.com/a-/AOh14Gg69bZMv30ckb-T1MJy0nSxWIHUaP0p2uP6MYBuvQ=s64",
      "userId": "07985253921366566280"
     }
    },
    "outputId": "c999d315-7038-45cc-89e1-8852e69a93de",
    "cell_id": "00009-c9410d3d-5961-4df7-a291-1e8660f229bf",
    "deepnote_to_be_reexecuted": false,
    "source_hash": "84265690",
    "execution_start": 1630096596827,
    "execution_millis": 11,
    "deepnote_cell_type": "code"
   },
   "source": "# Solution 1\n\nchipo.shape",
   "execution_count": 4,
   "outputs": [
    {
     "output_type": "execute_result",
     "execution_count": 4,
     "data": {
      "text/plain": "(4622, 5)"
     },
     "metadata": {}
    }
   ]
  },
  {
   "cell_type": "code",
   "metadata": {
    "colab": {
     "base_uri": "https://localhost:8080/"
    },
    "id": "3VTAXuUaVdoU",
    "executionInfo": {
     "status": "ok",
     "timestamp": 1623023214603,
     "user_tz": 240,
     "elapsed": 16,
     "user": {
      "displayName": "Andrés Sánchez",
      "photoUrl": "https://lh3.googleusercontent.com/a-/AOh14Gg69bZMv30ckb-T1MJy0nSxWIHUaP0p2uP6MYBuvQ=s64",
      "userId": "07985253921366566280"
     }
    },
    "outputId": "499a3ae0-5bff-49e3-b69a-7fa417c8cec1",
    "cell_id": "00010-4aa3ab5f-62bb-4635-bd61-e520d4ff793e",
    "deepnote_to_be_reexecuted": false,
    "source_hash": "5ac0a473",
    "execution_start": 1630096596828,
    "execution_millis": 10,
    "deepnote_cell_type": "code"
   },
   "source": "# Solution 2\n\nchipo.info()",
   "execution_count": 5,
   "outputs": [
    {
     "name": "stdout",
     "text": "<class 'pandas.core.frame.DataFrame'>\nRangeIndex: 4622 entries, 0 to 4621\nData columns (total 5 columns):\n #   Column              Non-Null Count  Dtype \n---  ------              --------------  ----- \n 0   order_id            4622 non-null   int64 \n 1   quantity            4622 non-null   int64 \n 2   item_name           4622 non-null   object\n 3   choice_description  3376 non-null   object\n 4   item_price          4622 non-null   object\ndtypes: int64(2), object(3)\nmemory usage: 180.7+ KB\n",
     "output_type": "stream"
    }
   ]
  },
  {
   "cell_type": "markdown",
   "source": "### Step 6. What is the number of columns in the dataset?",
   "metadata": {
    "id": "BB3D_74zVdoU",
    "cell_id": "00011-df7e2650-c0ba-45c3-8503-8f34cd1f38f4",
    "deepnote_cell_type": "markdown"
   }
  },
  {
   "cell_type": "code",
   "metadata": {
    "colab": {
     "base_uri": "https://localhost:8080/"
    },
    "id": "J6Np-7RWVdoU",
    "executionInfo": {
     "status": "ok",
     "timestamp": 1623023214604,
     "user_tz": 240,
     "elapsed": 15,
     "user": {
      "displayName": "Andrés Sánchez",
      "photoUrl": "https://lh3.googleusercontent.com/a-/AOh14Gg69bZMv30ckb-T1MJy0nSxWIHUaP0p2uP6MYBuvQ=s64",
      "userId": "07985253921366566280"
     }
    },
    "outputId": "71d0c19b-b54a-440c-891a-27502623345f",
    "cell_id": "00012-311e23ba-57d3-43ce-a431-4eaff38c3e31",
    "deepnote_to_be_reexecuted": false,
    "source_hash": "4ba87226",
    "execution_start": 1630096596829,
    "execution_millis": 17,
    "deepnote_cell_type": "code"
   },
   "source": "len(list(chipo.columns))",
   "execution_count": 6,
   "outputs": [
    {
     "output_type": "execute_result",
     "execution_count": 6,
     "data": {
      "text/plain": "5"
     },
     "metadata": {}
    }
   ]
  },
  {
   "cell_type": "markdown",
   "source": "### Step 7. Print the name of all the columns.",
   "metadata": {
    "id": "qWcZgy-UVdoU",
    "cell_id": "00013-1814dbb1-3953-4eea-91e8-5600fbcd37fc",
    "deepnote_cell_type": "markdown"
   }
  },
  {
   "cell_type": "code",
   "metadata": {
    "colab": {
     "base_uri": "https://localhost:8080/"
    },
    "id": "9Cib42_lVdoU",
    "executionInfo": {
     "status": "ok",
     "timestamp": 1623023214604,
     "user_tz": 240,
     "elapsed": 13,
     "user": {
      "displayName": "Andrés Sánchez",
      "photoUrl": "https://lh3.googleusercontent.com/a-/AOh14Gg69bZMv30ckb-T1MJy0nSxWIHUaP0p2uP6MYBuvQ=s64",
      "userId": "07985253921366566280"
     }
    },
    "outputId": "ab19c90d-d134-48fe-8476-86900feedce6",
    "cell_id": "00014-6d3ab3ce-8c34-4773-875d-9e984573db76",
    "deepnote_to_be_reexecuted": false,
    "source_hash": "f132df22",
    "execution_start": 1630096596854,
    "execution_millis": 1,
    "deepnote_cell_type": "code"
   },
   "source": "list(chipo.columns)",
   "execution_count": 7,
   "outputs": [
    {
     "output_type": "execute_result",
     "execution_count": 7,
     "data": {
      "text/plain": "['order_id', 'quantity', 'item_name', 'choice_description', 'item_price']"
     },
     "metadata": {}
    }
   ]
  },
  {
   "cell_type": "markdown",
   "source": "### Step 8. How is the dataset indexed?",
   "metadata": {
    "id": "64md2Dl9VdoU",
    "cell_id": "00015-c4781ba8-e906-4d48-b62f-2b982e0f9f05",
    "deepnote_cell_type": "markdown"
   }
  },
  {
   "cell_type": "code",
   "metadata": {
    "colab": {
     "base_uri": "https://localhost:8080/"
    },
    "id": "fJo6m3Y1VdoU",
    "executionInfo": {
     "status": "ok",
     "timestamp": 1623023214606,
     "user_tz": 240,
     "elapsed": 14,
     "user": {
      "displayName": "Andrés Sánchez",
      "photoUrl": "https://lh3.googleusercontent.com/a-/AOh14Gg69bZMv30ckb-T1MJy0nSxWIHUaP0p2uP6MYBuvQ=s64",
      "userId": "07985253921366566280"
     }
    },
    "outputId": "17cdb60d-9a76-4ad0-e603-9b1a3ac87ab2",
    "cell_id": "00016-3d53a845-f3a2-40e2-9f9e-3032289f3e53",
    "deepnote_to_be_reexecuted": false,
    "source_hash": "1244b221",
    "execution_start": 1630096596856,
    "execution_millis": 3,
    "deepnote_cell_type": "code"
   },
   "source": "chipo.index",
   "execution_count": 8,
   "outputs": []
  },
  {
   "cell_type": "markdown",
   "source": "### Step 9. Which was the most-ordered item? ",
   "metadata": {
    "id": "8BNrHDm9VdoU",
    "cell_id": "00017-374fdd98-c873-427d-90c5-5602f2485ca2",
    "deepnote_cell_type": "markdown"
   }
  },
  {
   "cell_type": "code",
   "metadata": {
    "colab": {
     "base_uri": "https://localhost:8080/"
    },
    "id": "rjiZ4fIAVdoV",
    "executionInfo": {
     "status": "ok",
     "timestamp": 1623023214607,
     "user_tz": 240,
     "elapsed": 14,
     "user": {
      "displayName": "Andrés Sánchez",
      "photoUrl": "https://lh3.googleusercontent.com/a-/AOh14Gg69bZMv30ckb-T1MJy0nSxWIHUaP0p2uP6MYBuvQ=s64",
      "userId": "07985253921366566280"
     }
    },
    "outputId": "a27f06e3-01fb-41c7-f10c-28e37054db20",
    "cell_id": "00018-4c1c21af-6e2b-4707-bdb0-55a8a84b17dd",
    "deepnote_to_be_reexecuted": false,
    "source_hash": "f8ce9314",
    "execution_start": 1630096596857,
    "execution_millis": 11,
    "deepnote_cell_type": "code"
   },
   "source": "chipo.groupby(['item_name']).count().sort_values(by = ['quantity'], ascending = False).head(1)['quantity']",
   "execution_count": 9,
   "outputs": [
    {
     "output_type": "execute_result",
     "execution_count": 9,
     "data": {
      "text/plain": "item_name\nChicken Bowl    726\nName: quantity, dtype: int64"
     },
     "metadata": {}
    }
   ]
  },
  {
   "cell_type": "markdown",
   "source": "### Step 10. For the most-ordered item, how many items were ordered?",
   "metadata": {
    "id": "mIu9pASrVdoV",
    "cell_id": "00019-5d9a9822-77c2-420f-9ec7-c188dab6e6fc",
    "deepnote_cell_type": "markdown"
   }
  },
  {
   "cell_type": "code",
   "metadata": {
    "colab": {
     "base_uri": "https://localhost:8080/"
    },
    "id": "gQDbtrXwVdoV",
    "executionInfo": {
     "status": "ok",
     "timestamp": 1623023214607,
     "user_tz": 240,
     "elapsed": 12,
     "user": {
      "displayName": "Andrés Sánchez",
      "photoUrl": "https://lh3.googleusercontent.com/a-/AOh14Gg69bZMv30ckb-T1MJy0nSxWIHUaP0p2uP6MYBuvQ=s64",
      "userId": "07985253921366566280"
     }
    },
    "outputId": "d6263b4e-ccd1-4667-8054-0e1cee85bace",
    "cell_id": "00020-066dbdd7-2343-40c1-8b5c-a82599d8b905",
    "deepnote_to_be_reexecuted": false,
    "source_hash": "3b566411",
    "execution_start": 1630096596891,
    "execution_millis": 99,
    "deepnote_cell_type": "code"
   },
   "source": "chipo.groupby(['item_name']).sum().sort_values(by = ['quantity'], ascending = False).head(1)['quantity']",
   "execution_count": 10,
   "outputs": [
    {
     "output_type": "execute_result",
     "execution_count": 10,
     "data": {
      "text/plain": "item_name\nChicken Bowl    761\nName: quantity, dtype: int64"
     },
     "metadata": {}
    }
   ]
  },
  {
   "cell_type": "markdown",
   "source": "### Step 11. What was the most ordered item in the choice_description column?",
   "metadata": {
    "id": "H7aMRgztVdoV",
    "cell_id": "00021-5ee1b9c4-a5e9-4dc9-a8e3-c1c7a26e8572",
    "deepnote_cell_type": "markdown"
   }
  },
  {
   "cell_type": "code",
   "metadata": {
    "colab": {
     "base_uri": "https://localhost:8080/"
    },
    "id": "kwsAt1-JVdoV",
    "executionInfo": {
     "status": "ok",
     "timestamp": 1623023214862,
     "user_tz": 240,
     "elapsed": 266,
     "user": {
      "displayName": "Andrés Sánchez",
      "photoUrl": "https://lh3.googleusercontent.com/a-/AOh14Gg69bZMv30ckb-T1MJy0nSxWIHUaP0p2uP6MYBuvQ=s64",
      "userId": "07985253921366566280"
     }
    },
    "outputId": "e7f44c24-3f29-41d7-c96c-42e95516aace",
    "cell_id": "00022-6c93158a-fda3-4258-aef0-8797eda43cd6",
    "deepnote_to_be_reexecuted": false,
    "source_hash": "a6e18650",
    "execution_start": 1630096596946,
    "execution_millis": 44,
    "deepnote_cell_type": "code"
   },
   "source": "chipo.groupby(['choice_description']).count().sort_values(by = ['quantity'], ascending = False).head(1)['quantity']",
   "execution_count": 11,
   "outputs": [
    {
     "output_type": "execute_result",
     "execution_count": 11,
     "data": {
      "text/plain": "choice_description\n[Diet Coke]    134\nName: quantity, dtype: int64"
     },
     "metadata": {}
    }
   ]
  },
  {
   "cell_type": "markdown",
   "source": "### Step 12. How many items were orderd in total?",
   "metadata": {
    "id": "MtPqZuZRVdoV",
    "cell_id": "00023-b9dec0aa-3cc0-4f27-8059-9735e6d18efe",
    "deepnote_cell_type": "markdown"
   }
  },
  {
   "cell_type": "code",
   "metadata": {
    "colab": {
     "base_uri": "https://localhost:8080/"
    },
    "id": "yfdF3EQMVdoV",
    "executionInfo": {
     "status": "ok",
     "timestamp": 1623023214863,
     "user_tz": 240,
     "elapsed": 10,
     "user": {
      "displayName": "Andrés Sánchez",
      "photoUrl": "https://lh3.googleusercontent.com/a-/AOh14Gg69bZMv30ckb-T1MJy0nSxWIHUaP0p2uP6MYBuvQ=s64",
      "userId": "07985253921366566280"
     }
    },
    "outputId": "02323a6c-2d55-430d-c83c-12d82a2251e0",
    "cell_id": "00024-d12cb0e6-34d4-4a4f-9729-842db5d871ff",
    "deepnote_to_be_reexecuted": false,
    "source_hash": "d1469fff",
    "execution_start": 1630096596947,
    "execution_millis": 43,
    "deepnote_cell_type": "code"
   },
   "source": "chipo.groupby(['choice_description']).sum().sort_values(by = ['quantity'], ascending = False).head(1)['quantity']",
   "execution_count": 12,
   "outputs": [
    {
     "output_type": "execute_result",
     "execution_count": 12,
     "data": {
      "text/plain": "choice_description\n[Diet Coke]    159\nName: quantity, dtype: int64"
     },
     "metadata": {}
    }
   ]
  },
  {
   "cell_type": "markdown",
   "source": "### Step 13. Turn the item price into a float",
   "metadata": {
    "id": "qTe5fIX2VdoV",
    "cell_id": "00025-a97e1485-abb6-4ceb-9d1b-b98acd4e79f2",
    "deepnote_cell_type": "markdown"
   }
  },
  {
   "cell_type": "markdown",
   "source": "#### Step 13.a. Check the item price type",
   "metadata": {
    "id": "EoDM5_CZVdoV",
    "cell_id": "00026-0947d93b-6089-49e7-b890-131d19b122b7",
    "deepnote_cell_type": "markdown"
   }
  },
  {
   "cell_type": "code",
   "metadata": {
    "colab": {
     "base_uri": "https://localhost:8080/"
    },
    "id": "sYWvRlLYVdoV",
    "executionInfo": {
     "status": "ok",
     "timestamp": 1623023214863,
     "user_tz": 240,
     "elapsed": 9,
     "user": {
      "displayName": "Andrés Sánchez",
      "photoUrl": "https://lh3.googleusercontent.com/a-/AOh14Gg69bZMv30ckb-T1MJy0nSxWIHUaP0p2uP6MYBuvQ=s64",
      "userId": "07985253921366566280"
     }
    },
    "outputId": "28b698e8-a061-4786-81d0-1eb79fbb849d",
    "cell_id": "00027-214d107f-ab6e-47d0-a1d6-3cbcb00c3e1a",
    "deepnote_to_be_reexecuted": false,
    "source_hash": "789faaf5",
    "execution_start": 1630096596981,
    "execution_millis": 9,
    "deepnote_cell_type": "code"
   },
   "source": "chipo.dtypes",
   "execution_count": 13,
   "outputs": [
    {
     "output_type": "execute_result",
     "execution_count": 13,
     "data": {
      "text/plain": "order_id               int64\nquantity               int64\nitem_name             object\nchoice_description    object\nitem_price            object\ndtype: object"
     },
     "metadata": {}
    }
   ]
  },
  {
   "cell_type": "markdown",
   "source": "#### Step 13.b. Create a lambda function and change the type of item price",
   "metadata": {
    "id": "ATaTTft3VdoV",
    "cell_id": "00028-942213f1-665b-4e38-8305-874fdcda86f7",
    "deepnote_cell_type": "markdown"
   }
  },
  {
   "cell_type": "code",
   "metadata": {
    "collapsed": true,
    "id": "nfzT5KsrVdoV",
    "executionInfo": {
     "status": "ok",
     "timestamp": 1623023214863,
     "user_tz": 240,
     "elapsed": 8,
     "user": {
      "displayName": "Andrés Sánchez",
      "photoUrl": "https://lh3.googleusercontent.com/a-/AOh14Gg69bZMv30ckb-T1MJy0nSxWIHUaP0p2uP6MYBuvQ=s64",
      "userId": "07985253921366566280"
     }
    },
    "cell_id": "00029-a95d94d4-4635-43bd-83ec-4ffd4279bad9",
    "deepnote_to_be_reexecuted": false,
    "source_hash": "44f381a8",
    "execution_start": 1630096632206,
    "execution_millis": 16,
    "deepnote_cell_type": "code"
   },
   "source": "chipo['item_price'] = chipo['item_price'].str.replace('$','')\nchipo['item_price'] = chipo['item_price'].apply(lambda row: float(row))",
   "execution_count": 16,
   "outputs": [
    {
     "name": "stderr",
     "text": "/tmp/ipykernel_123/1821371265.py:1: FutureWarning: The default value of regex will change from True to False in a future version. In addition, single character regular expressions will*not* be treated as literal strings when regex=True.\n  chipo['item_price'] = chipo['item_price'].str.replace('$','')\n",
     "output_type": "stream"
    }
   ]
  },
  {
   "cell_type": "markdown",
   "source": "#### Step 13.c. Check the item price type",
   "metadata": {
    "id": "95sytOuVVdoV",
    "cell_id": "00030-c1236b7a-20b9-4fa9-b8c6-55fbd5f694aa",
    "deepnote_cell_type": "markdown"
   }
  },
  {
   "cell_type": "code",
   "metadata": {
    "colab": {
     "base_uri": "https://localhost:8080/"
    },
    "id": "CPP5ZJwEVdoV",
    "executionInfo": {
     "status": "ok",
     "timestamp": 1623023214863,
     "user_tz": 240,
     "elapsed": 8,
     "user": {
      "displayName": "Andrés Sánchez",
      "photoUrl": "https://lh3.googleusercontent.com/a-/AOh14Gg69bZMv30ckb-T1MJy0nSxWIHUaP0p2uP6MYBuvQ=s64",
      "userId": "07985253921366566280"
     }
    },
    "outputId": "1413af03-8429-44ba-fc9b-e3500f2aba7f",
    "cell_id": "00031-184db025-6e96-48eb-a08a-df064a7d63bb",
    "deepnote_to_be_reexecuted": false,
    "source_hash": "789faaf5",
    "execution_start": 1630096645446,
    "execution_millis": 8,
    "deepnote_cell_type": "code"
   },
   "source": "chipo.dtypes",
   "execution_count": 18,
   "outputs": [
    {
     "output_type": "execute_result",
     "execution_count": 18,
     "data": {
      "text/plain": "order_id                int64\nquantity                int64\nitem_name              object\nchoice_description     object\nitem_price            float64\ndtype: object"
     },
     "metadata": {}
    }
   ]
  },
  {
   "cell_type": "markdown",
   "source": "### Step 14. How much was the revenue for the period in the dataset?",
   "metadata": {
    "id": "DQGx1AWBVdoV",
    "cell_id": "00032-7122e43b-3e6e-4fae-8d31-a141c914cf9e",
    "deepnote_cell_type": "markdown"
   }
  },
  {
   "cell_type": "code",
   "metadata": {
    "id": "OXGij38VsS9d",
    "executionInfo": {
     "status": "ok",
     "timestamp": 1623023214863,
     "user_tz": 240,
     "elapsed": 8,
     "user": {
      "displayName": "Andrés Sánchez",
      "photoUrl": "https://lh3.googleusercontent.com/a-/AOh14Gg69bZMv30ckb-T1MJy0nSxWIHUaP0p2uP6MYBuvQ=s64",
      "userId": "07985253921366566280"
     }
    },
    "cell_id": "00033-8e69dfdf-6eaf-4a62-b1f2-f718b242c0c4",
    "deepnote_to_be_reexecuted": false,
    "source_hash": "fb0aa25c",
    "execution_start": 1630096658169,
    "execution_millis": 18,
    "deepnote_cell_type": "code"
   },
   "source": "chipo['revenue'] = chipo['item_price'] * chipo['quantity']",
   "execution_count": 19,
   "outputs": []
  },
  {
   "cell_type": "code",
   "metadata": {
    "colab": {
     "base_uri": "https://localhost:8080/"
    },
    "id": "aYfK6h1lVdoW",
    "executionInfo": {
     "status": "ok",
     "timestamp": 1623023214863,
     "user_tz": 240,
     "elapsed": 7,
     "user": {
      "displayName": "Andrés Sánchez",
      "photoUrl": "https://lh3.googleusercontent.com/a-/AOh14Gg69bZMv30ckb-T1MJy0nSxWIHUaP0p2uP6MYBuvQ=s64",
      "userId": "07985253921366566280"
     }
    },
    "outputId": "11f2500a-b04c-4593-fe37-3d41b2f8a8a8",
    "cell_id": "00034-4d8fbb53-3a63-45bc-b447-1213d0d494e1",
    "deepnote_to_be_reexecuted": false,
    "source_hash": "67407559",
    "execution_start": 1630096659591,
    "execution_millis": 1,
    "deepnote_cell_type": "code"
   },
   "source": "print('The total revenue was: ${}'.format(chipo['revenue'].sum()))",
   "execution_count": 20,
   "outputs": [
    {
     "name": "stdout",
     "text": "The total revenue was: $39237.02\n",
     "output_type": "stream"
    }
   ]
  },
  {
   "cell_type": "markdown",
   "source": "### Step 15. How many orders were made in the period?",
   "metadata": {
    "id": "miH2Hk_NVdoW",
    "cell_id": "00035-8334144e-4b7e-4f1e-8ee4-ea996961c1e5",
    "deepnote_cell_type": "markdown"
   }
  },
  {
   "cell_type": "code",
   "metadata": {
    "colab": {
     "base_uri": "https://localhost:8080/"
    },
    "id": "nIjpRm-4VdoW",
    "executionInfo": {
     "status": "ok",
     "timestamp": 1623023214864,
     "user_tz": 240,
     "elapsed": 8,
     "user": {
      "displayName": "Andrés Sánchez",
      "photoUrl": "https://lh3.googleusercontent.com/a-/AOh14Gg69bZMv30ckb-T1MJy0nSxWIHUaP0p2uP6MYBuvQ=s64",
      "userId": "07985253921366566280"
     }
    },
    "outputId": "8a5515b3-afcd-4a10-d307-7a5e83b08717",
    "cell_id": "00036-047f887f-110b-4f64-80f7-b9f8e2cfb472",
    "deepnote_to_be_reexecuted": false,
    "source_hash": "50094e71",
    "execution_start": 1630096661542,
    "execution_millis": 9,
    "deepnote_cell_type": "code"
   },
   "source": "print('The number of orders in the period was: {}.'.format(chipo.groupby(['order_id'])['item_name'].count().count()))",
   "execution_count": 21,
   "outputs": [
    {
     "name": "stdout",
     "text": "The number of orders in the period was: 1834.\n",
     "output_type": "stream"
    }
   ]
  },
  {
   "cell_type": "markdown",
   "source": "### Step 16. What is the average revenue amount per order?",
   "metadata": {
    "id": "Ayw_yQnvVdoW",
    "cell_id": "00037-f2deac30-bb20-4a06-8f0a-48bdf33838ba",
    "deepnote_cell_type": "markdown"
   }
  },
  {
   "cell_type": "code",
   "metadata": {
    "colab": {
     "base_uri": "https://localhost:8080/"
    },
    "id": "tNfRZo_mVdoW",
    "executionInfo": {
     "status": "ok",
     "timestamp": 1623023214864,
     "user_tz": 240,
     "elapsed": 7,
     "user": {
      "displayName": "Andrés Sánchez",
      "photoUrl": "https://lh3.googleusercontent.com/a-/AOh14Gg69bZMv30ckb-T1MJy0nSxWIHUaP0p2uP6MYBuvQ=s64",
      "userId": "07985253921366566280"
     }
    },
    "outputId": "1c9749ed-e379-4e40-f66f-e18d69372722",
    "cell_id": "00038-b035ee5d-db0f-4ab1-8d15-6f9426492166",
    "deepnote_to_be_reexecuted": false,
    "source_hash": "24c55857",
    "execution_start": 1630096664216,
    "execution_millis": 9,
    "deepnote_cell_type": "code"
   },
   "source": "# Solution 1\n\nchipo.groupby('order_id')['revenue'].sum().mean()\n",
   "execution_count": 22,
   "outputs": [
    {
     "output_type": "execute_result",
     "execution_count": 22,
     "data": {
      "text/plain": "21.39423118865867"
     },
     "metadata": {}
    }
   ]
  },
  {
   "cell_type": "code",
   "metadata": {
    "colab": {
     "base_uri": "https://localhost:8080/"
    },
    "id": "UrlVTadrVdoW",
    "executionInfo": {
     "status": "ok",
     "timestamp": 1623023293798,
     "user_tz": 240,
     "elapsed": 250,
     "user": {
      "displayName": "Andrés Sánchez",
      "photoUrl": "https://lh3.googleusercontent.com/a-/AOh14Gg69bZMv30ckb-T1MJy0nSxWIHUaP0p2uP6MYBuvQ=s64",
      "userId": "07985253921366566280"
     }
    },
    "outputId": "727c17f6-a811-4a3c-8253-659d3fe2e018",
    "cell_id": "00039-ad8e1b2c-eee9-4735-9003-7e715c685885",
    "deepnote_to_be_reexecuted": false,
    "source_hash": "a28ed3f1",
    "execution_start": 1630096665978,
    "execution_millis": 26,
    "deepnote_cell_type": "code"
   },
   "source": "# Solution 2\n\nchipo.pivot_table(index = ['order_id'], values = ['revenue'], aggfunc = np.sum).apply(np.mean)",
   "execution_count": 23,
   "outputs": [
    {
     "output_type": "execute_result",
     "execution_count": 23,
     "data": {
      "text/plain": "revenue    21.394231\ndtype: float64"
     },
     "metadata": {}
    }
   ]
  },
  {
   "cell_type": "markdown",
   "source": "### Step 17. How many different items are sold?",
   "metadata": {
    "id": "U92A7NkXVdoW",
    "cell_id": "00040-2435567d-9432-4737-8039-3d97400e9fc7",
    "deepnote_cell_type": "markdown"
   }
  },
  {
   "cell_type": "code",
   "metadata": {
    "colab": {
     "base_uri": "https://localhost:8080/"
    },
    "id": "6F4Lju4GVdoW",
    "executionInfo": {
     "status": "ok",
     "timestamp": 1623025083875,
     "user_tz": 240,
     "elapsed": 252,
     "user": {
      "displayName": "Andrés Sánchez",
      "photoUrl": "https://lh3.googleusercontent.com/a-/AOh14Gg69bZMv30ckb-T1MJy0nSxWIHUaP0p2uP6MYBuvQ=s64",
      "userId": "07985253921366566280"
     }
    },
    "outputId": "e1082d19-9640-400c-e5fc-833ca06f7886",
    "cell_id": "00041-cec0d6a7-512b-4b2d-abc7-56574a3200a9",
    "deepnote_to_be_reexecuted": false,
    "source_hash": "5d707176",
    "execution_start": 1630096667838,
    "execution_millis": 13,
    "deepnote_cell_type": "code"
   },
   "source": "chipo['item_name'].nunique()",
   "execution_count": 24,
   "outputs": [
    {
     "output_type": "execute_result",
     "execution_count": 24,
     "data": {
      "text/plain": "50"
     },
     "metadata": {}
    }
   ]
  },
  {
   "cell_type": "markdown",
   "source": "<a style='text-decoration:none;line-height:16px;display:flex;color:#5B5B62;padding:10px;justify-content:end;' href='https://deepnote.com?utm_source=created-in-deepnote-cell&projectId=fe744348-fecc-4b7a-803c-44dba24ecb38' target=\"_blank\">\n<img alt='Created in deepnote.com' style='display:inline;max-height:16px;margin:0px;margin-right:7.5px;' src='data:image/svg+xml;base64,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' > </img>\nCreated in <span style='font-weight:600;margin-left:4px;'>Deepnote</span></a>",
   "metadata": {
    "tags": [],
    "created_in_deepnote_cell": true,
    "deepnote_cell_type": "markdown"
   }
  }
 ],
 "nbformat": 4,
 "nbformat_minor": 0,
 "metadata": {
  "anaconda-cloud": {},
  "kernelspec": {
   "display_name": "Python [default]",
   "language": "python",
   "name": "python2"
  },
  "language_info": {
   "codemirror_mode": {
    "name": "ipython",
    "version": 2
   },
   "file_extension": ".py",
   "mimetype": "text/x-python",
   "name": "python",
   "nbconvert_exporter": "python",
   "pygments_lexer": "ipython2",
   "version": "2.7.12"
  },
  "colab": {
   "name": "Exercises.ipynb",
   "provenance": [],
   "collapsed_sections": [
    "-VURmQGgVdoT"
   ]
  },
  "deepnote_notebook_id": "01f1be6a-5699-47fd-8370-57f9004a66f5",
  "deepnote": {},
  "deepnote_execution_queue": []
 }
}
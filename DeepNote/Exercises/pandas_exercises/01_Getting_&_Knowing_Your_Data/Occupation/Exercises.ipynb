{
 "cells": [
  {
   "cell_type": "markdown",
   "source": "# Ex3 - Getting and Knowing your Data",
   "metadata": {
    "id": "POHtyJ_u29Ge",
    "cell_id": "00000-7a951bd6-eec6-45b3-8f1d-cffc429ab5c8",
    "deepnote_cell_type": "markdown"
   }
  },
  {
   "cell_type": "markdown",
   "source": "This time we are going to pull data directly from the internet.\nSpecial thanks to: https://github.com/justmarkham for sharing the dataset and materials.\n\n### Step 1. Import the necessary libraries",
   "metadata": {
    "id": "o1BMDQUx29Gf",
    "cell_id": "00001-723add6e-246f-49c6-8810-f7b50b28cd9b",
    "deepnote_cell_type": "markdown"
   }
  },
  {
   "cell_type": "code",
   "metadata": {
    "id": "ozO_hhCo29Gf",
    "executionInfo": {
     "status": "ok",
     "timestamp": 1623025692857,
     "user_tz": 240,
     "elapsed": 147,
     "user": {
      "displayName": "Andrés Sánchez",
      "photoUrl": "https://lh3.googleusercontent.com/a-/AOh14Gg69bZMv30ckb-T1MJy0nSxWIHUaP0p2uP6MYBuvQ=s64",
      "userId": "07985253921366566280"
     }
    },
    "cell_id": "00002-acb11961-4577-4157-85ec-e594f5639751",
    "deepnote_to_be_reexecuted": false,
    "source_hash": "19d68b",
    "execution_start": 1630096686226,
    "execution_millis": 10,
    "deepnote_cell_type": "code"
   },
   "source": "import pandas as pd\nimport numpy as pn",
   "outputs": [],
   "execution_count": null
  },
  {
   "cell_type": "markdown",
   "source": "### Step 2. Import the dataset from this [address](https://raw.githubusercontent.com/justmarkham/DAT8/master/data/u.user). ",
   "metadata": {
    "id": "qodaTV4g29Gg",
    "cell_id": "00003-a2e950c3-fb08-424d-81cf-d9c2a1df5c97",
    "deepnote_cell_type": "markdown"
   }
  },
  {
   "cell_type": "markdown",
   "source": "### Step 3. Assign it to a variable called users and use the 'user_id' as index",
   "metadata": {
    "id": "hZA5cVRT29Gg",
    "cell_id": "00004-25b8a21e-ab92-45f9-aa98-e87296de8837",
    "deepnote_cell_type": "markdown"
   }
  },
  {
   "cell_type": "code",
   "metadata": {
    "id": "EV7o8sg_29Gg",
    "executionInfo": {
     "status": "ok",
     "timestamp": 1623025693379,
     "user_tz": 240,
     "elapsed": 383,
     "user": {
      "displayName": "Andrés Sánchez",
      "photoUrl": "https://lh3.googleusercontent.com/a-/AOh14Gg69bZMv30ckb-T1MJy0nSxWIHUaP0p2uP6MYBuvQ=s64",
      "userId": "07985253921366566280"
     }
    },
    "cell_id": "00005-8e64767a-98dc-4881-bab4-d730bbd47442",
    "deepnote_to_be_reexecuted": false,
    "source_hash": "612cfbc9",
    "execution_start": 1630096686240,
    "execution_millis": 114,
    "deepnote_cell_type": "code"
   },
   "source": "users = pd.read_csv('https://raw.githubusercontent.com/justmarkham/DAT8/master/data/u.user', sep='|', index_col=['user_id'])",
   "outputs": [],
   "execution_count": null
  },
  {
   "cell_type": "markdown",
   "source": "### Step 4. See the first 25 entries",
   "metadata": {
    "id": "Y7ImMzUH29Gg",
    "cell_id": "00006-ba04f405-6403-4205-b5cf-febc9012b006",
    "deepnote_cell_type": "markdown"
   }
  },
  {
   "cell_type": "code",
   "metadata": {
    "scrolled": true,
    "colab": {
     "base_uri": "https://localhost:8080/",
     "height": 817
    },
    "id": "Jszp_qQY29Gg",
    "executionInfo": {
     "status": "ok",
     "timestamp": 1623025693385,
     "user_tz": 240,
     "elapsed": 18,
     "user": {
      "displayName": "Andrés Sánchez",
      "photoUrl": "https://lh3.googleusercontent.com/a-/AOh14Gg69bZMv30ckb-T1MJy0nSxWIHUaP0p2uP6MYBuvQ=s64",
      "userId": "07985253921366566280"
     }
    },
    "outputId": "54863148-75fb-4012-d2cb-6af1ee302c47",
    "cell_id": "00007-16bb554b-1e18-4bc2-be48-7ed431fb8f66",
    "deepnote_to_be_reexecuted": false,
    "source_hash": "736e8fec",
    "execution_start": 1630096686359,
    "execution_millis": 66,
    "deepnote_cell_type": "code"
   },
   "source": "users.head(25)",
   "outputs": [
    {
     "output_type": "execute_result",
     "execution_count": 3,
     "data": {
      "application/vnd.deepnote.dataframe.v2+json": {
       "row_count": 25,
       "column_count": 4,
       "columns": [
        {
         "name": "age",
         "dtype": "int64",
         "stats": {
          "unique_count": 19,
          "nan_count": 0,
          "min": "21",
          "max": "57",
          "histogram": [
           {
            "bin_start": 21,
            "bin_end": 24.6,
            "count": 5
           },
           {
            "bin_start": 24.6,
            "bin_end": 28.2,
            "count": 3
           },
           {
            "bin_start": 28.2,
            "bin_end": 31.8,
            "count": 3
           },
           {
            "bin_start": 31.8,
            "bin_end": 35.4,
            "count": 2
           },
           {
            "bin_start": 35.4,
            "bin_end": 39,
            "count": 1
           },
           {
            "bin_start": 39,
            "bin_end": 42.6,
            "count": 5
           },
           {
            "bin_start": 42.6,
            "bin_end": 46.2,
            "count": 1
           },
           {
            "bin_start": 46.2,
            "bin_end": 49.8,
            "count": 2
           },
           {
            "bin_start": 49.8,
            "bin_end": 53.4,
            "count": 2
           },
           {
            "bin_start": 53.4,
            "bin_end": 57,
            "count": 1
           }
          ]
         }
        },
        {
         "name": "gender",
         "dtype": "object",
         "stats": {
          "unique_count": 2,
          "nan_count": 0,
          "categories": [
           {
            "name": "M",
            "count": 16
           },
           {
            "name": "F",
            "count": 9
           }
          ]
         }
        },
        {
         "name": "occupation",
         "dtype": "object",
         "stats": {
          "unique_count": 15,
          "nan_count": 0,
          "categories": [
           {
            "name": "other",
            "count": 5
           },
           {
            "name": "writer",
            "count": 3
           },
           {
            "name": "13 others",
            "count": 17
           }
          ]
         }
        },
        {
         "name": "zip_code",
         "dtype": "object",
         "stats": {
          "unique_count": 25,
          "nan_count": 0,
          "categories": [
           {
            "name": "85711",
            "count": 1
           },
           {
            "name": "94043",
            "count": 1
           },
           {
            "name": "23 others",
            "count": 23
           }
          ]
         }
        },
        {
         "name": "_deepnote_index_column",
         "dtype": "int64"
        }
       ],
       "rows_top": [
        {
         "age": 24,
         "gender": "M",
         "occupation": "technician",
         "zip_code": "85711",
         "_deepnote_index_column": 1
        },
        {
         "age": 53,
         "gender": "F",
         "occupation": "other",
         "zip_code": "94043",
         "_deepnote_index_column": 2
        },
        {
         "age": 23,
         "gender": "M",
         "occupation": "writer",
         "zip_code": "32067",
         "_deepnote_index_column": 3
        },
        {
         "age": 24,
         "gender": "M",
         "occupation": "technician",
         "zip_code": "43537",
         "_deepnote_index_column": 4
        },
        {
         "age": 33,
         "gender": "F",
         "occupation": "other",
         "zip_code": "15213",
         "_deepnote_index_column": 5
        },
        {
         "age": 42,
         "gender": "M",
         "occupation": "executive",
         "zip_code": "98101",
         "_deepnote_index_column": 6
        },
        {
         "age": 57,
         "gender": "M",
         "occupation": "administrator",
         "zip_code": "91344",
         "_deepnote_index_column": 7
        },
        {
         "age": 36,
         "gender": "M",
         "occupation": "administrator",
         "zip_code": "05201",
         "_deepnote_index_column": 8
        },
        {
         "age": 29,
         "gender": "M",
         "occupation": "student",
         "zip_code": "01002",
         "_deepnote_index_column": 9
        },
        {
         "age": 53,
         "gender": "M",
         "occupation": "lawyer",
         "zip_code": "90703",
         "_deepnote_index_column": 10
        },
        {
         "age": 39,
         "gender": "F",
         "occupation": "other",
         "zip_code": "30329",
         "_deepnote_index_column": 11
        },
        {
         "age": 28,
         "gender": "F",
         "occupation": "other",
         "zip_code": "06405",
         "_deepnote_index_column": 12
        },
        {
         "age": 47,
         "gender": "M",
         "occupation": "educator",
         "zip_code": "29206",
         "_deepnote_index_column": 13
        },
        {
         "age": 45,
         "gender": "M",
         "occupation": "scientist",
         "zip_code": "55106",
         "_deepnote_index_column": 14
        },
        {
         "age": 49,
         "gender": "F",
         "occupation": "educator",
         "zip_code": "97301",
         "_deepnote_index_column": 15
        },
        {
         "age": 21,
         "gender": "M",
         "occupation": "entertainment",
         "zip_code": "10309",
         "_deepnote_index_column": 16
        },
        {
         "age": 30,
         "gender": "M",
         "occupation": "programmer",
         "zip_code": "06355",
         "_deepnote_index_column": 17
        },
        {
         "age": 35,
         "gender": "F",
         "occupation": "other",
         "zip_code": "37212",
         "_deepnote_index_column": 18
        },
        {
         "age": 40,
         "gender": "M",
         "occupation": "librarian",
         "zip_code": "02138",
         "_deepnote_index_column": 19
        },
        {
         "age": 42,
         "gender": "F",
         "occupation": "homemaker",
         "zip_code": "95660",
         "_deepnote_index_column": 20
        },
        {
         "age": 26,
         "gender": "M",
         "occupation": "writer",
         "zip_code": "30068",
         "_deepnote_index_column": 21
        },
        {
         "age": 25,
         "gender": "M",
         "occupation": "writer",
         "zip_code": "40206",
         "_deepnote_index_column": 22
        },
        {
         "age": 30,
         "gender": "F",
         "occupation": "artist",
         "zip_code": "48197",
         "_deepnote_index_column": 23
        },
        {
         "age": 21,
         "gender": "F",
         "occupation": "artist",
         "zip_code": "94533",
         "_deepnote_index_column": 24
        },
        {
         "age": 39,
         "gender": "M",
         "occupation": "engineer",
         "zip_code": "55107",
         "_deepnote_index_column": 25
        }
       ],
       "rows_bottom": null
      },
      "text/plain": "         age gender     occupation zip_code\nuser_id                                    \n1         24      M     technician    85711\n2         53      F          other    94043\n3         23      M         writer    32067\n4         24      M     technician    43537\n5         33      F          other    15213\n6         42      M      executive    98101\n7         57      M  administrator    91344\n8         36      M  administrator    05201\n9         29      M        student    01002\n10        53      M         lawyer    90703\n11        39      F          other    30329\n12        28      F          other    06405\n13        47      M       educator    29206\n14        45      M      scientist    55106\n15        49      F       educator    97301\n16        21      M  entertainment    10309\n17        30      M     programmer    06355\n18        35      F          other    37212\n19        40      M      librarian    02138\n20        42      F      homemaker    95660\n21        26      M         writer    30068\n22        25      M         writer    40206\n23        30      F         artist    48197\n24        21      F         artist    94533\n25        39      M       engineer    55107",
      "text/html": "<div>\n<style scoped>\n    .dataframe tbody tr th:only-of-type {\n        vertical-align: middle;\n    }\n\n    .dataframe tbody tr th {\n        vertical-align: top;\n    }\n\n    .dataframe thead th {\n        text-align: right;\n    }\n</style>\n<table border=\"1\" class=\"dataframe\">\n  <thead>\n    <tr style=\"text-align: right;\">\n      <th></th>\n      <th>age</th>\n      <th>gender</th>\n      <th>occupation</th>\n      <th>zip_code</th>\n    </tr>\n    <tr>\n      <th>user_id</th>\n      <th></th>\n      <th></th>\n      <th></th>\n      <th></th>\n    </tr>\n  </thead>\n  <tbody>\n    <tr>\n      <th>1</th>\n      <td>24</td>\n      <td>M</td>\n      <td>technician</td>\n      <td>85711</td>\n    </tr>\n    <tr>\n      <th>2</th>\n      <td>53</td>\n      <td>F</td>\n      <td>other</td>\n      <td>94043</td>\n    </tr>\n    <tr>\n      <th>3</th>\n      <td>23</td>\n      <td>M</td>\n      <td>writer</td>\n      <td>32067</td>\n    </tr>\n    <tr>\n      <th>4</th>\n      <td>24</td>\n      <td>M</td>\n      <td>technician</td>\n      <td>43537</td>\n    </tr>\n    <tr>\n      <th>5</th>\n      <td>33</td>\n      <td>F</td>\n      <td>other</td>\n      <td>15213</td>\n    </tr>\n    <tr>\n      <th>6</th>\n      <td>42</td>\n      <td>M</td>\n      <td>executive</td>\n      <td>98101</td>\n    </tr>\n    <tr>\n      <th>7</th>\n      <td>57</td>\n      <td>M</td>\n      <td>administrator</td>\n      <td>91344</td>\n    </tr>\n    <tr>\n      <th>8</th>\n      <td>36</td>\n      <td>M</td>\n      <td>administrator</td>\n      <td>05201</td>\n    </tr>\n    <tr>\n      <th>9</th>\n      <td>29</td>\n      <td>M</td>\n      <td>student</td>\n      <td>01002</td>\n    </tr>\n    <tr>\n      <th>10</th>\n      <td>53</td>\n      <td>M</td>\n      <td>lawyer</td>\n      <td>90703</td>\n    </tr>\n    <tr>\n      <th>11</th>\n      <td>39</td>\n      <td>F</td>\n      <td>other</td>\n      <td>30329</td>\n    </tr>\n    <tr>\n      <th>12</th>\n      <td>28</td>\n      <td>F</td>\n      <td>other</td>\n      <td>06405</td>\n    </tr>\n    <tr>\n      <th>13</th>\n      <td>47</td>\n      <td>M</td>\n      <td>educator</td>\n      <td>29206</td>\n    </tr>\n    <tr>\n      <th>14</th>\n      <td>45</td>\n      <td>M</td>\n      <td>scientist</td>\n      <td>55106</td>\n    </tr>\n    <tr>\n      <th>15</th>\n      <td>49</td>\n      <td>F</td>\n      <td>educator</td>\n      <td>97301</td>\n    </tr>\n    <tr>\n      <th>16</th>\n      <td>21</td>\n      <td>M</td>\n      <td>entertainment</td>\n      <td>10309</td>\n    </tr>\n    <tr>\n      <th>17</th>\n      <td>30</td>\n      <td>M</td>\n      <td>programmer</td>\n      <td>06355</td>\n    </tr>\n    <tr>\n      <th>18</th>\n      <td>35</td>\n      <td>F</td>\n      <td>other</td>\n      <td>37212</td>\n    </tr>\n    <tr>\n      <th>19</th>\n      <td>40</td>\n      <td>M</td>\n      <td>librarian</td>\n      <td>02138</td>\n    </tr>\n    <tr>\n      <th>20</th>\n      <td>42</td>\n      <td>F</td>\n      <td>homemaker</td>\n      <td>95660</td>\n    </tr>\n    <tr>\n      <th>21</th>\n      <td>26</td>\n      <td>M</td>\n      <td>writer</td>\n      <td>30068</td>\n    </tr>\n    <tr>\n      <th>22</th>\n      <td>25</td>\n      <td>M</td>\n      <td>writer</td>\n      <td>40206</td>\n    </tr>\n    <tr>\n      <th>23</th>\n      <td>30</td>\n      <td>F</td>\n      <td>artist</td>\n      <td>48197</td>\n    </tr>\n    <tr>\n      <th>24</th>\n      <td>21</td>\n      <td>F</td>\n      <td>artist</td>\n      <td>94533</td>\n    </tr>\n    <tr>\n      <th>25</th>\n      <td>39</td>\n      <td>M</td>\n      <td>engineer</td>\n      <td>55107</td>\n    </tr>\n  </tbody>\n</table>\n</div>"
     },
     "metadata": {}
    }
   ],
   "execution_count": null
  },
  {
   "cell_type": "markdown",
   "source": "### Step 5. See the last 10 entries",
   "metadata": {
    "id": "5EC2bkWl29Gg",
    "cell_id": "00008-be334e76-7308-4114-9d57-03d35c7fd1e3",
    "deepnote_cell_type": "markdown"
   }
  },
  {
   "cell_type": "code",
   "metadata": {
    "scrolled": true,
    "colab": {
     "base_uri": "https://localhost:8080/",
     "height": 373
    },
    "id": "Xap3voP_29Gg",
    "executionInfo": {
     "status": "ok",
     "timestamp": 1623025693385,
     "user_tz": 240,
     "elapsed": 16,
     "user": {
      "displayName": "Andrés Sánchez",
      "photoUrl": "https://lh3.googleusercontent.com/a-/AOh14Gg69bZMv30ckb-T1MJy0nSxWIHUaP0p2uP6MYBuvQ=s64",
      "userId": "07985253921366566280"
     }
    },
    "outputId": "42181750-01dd-4122-a362-f10fed04b7a7",
    "cell_id": "00009-c4a4d597-6531-4a55-8d19-32f5f30c1114",
    "deepnote_to_be_reexecuted": false,
    "source_hash": "a632a2c4",
    "execution_start": 1630096686423,
    "execution_millis": 47,
    "deepnote_cell_type": "code"
   },
   "source": "users.tail(10)",
   "outputs": [
    {
     "output_type": "execute_result",
     "execution_count": 4,
     "data": {
      "application/vnd.deepnote.dataframe.v2+json": {
       "row_count": 10,
       "column_count": 4,
       "columns": [
        {
         "name": "age",
         "dtype": "int64",
         "stats": {
          "unique_count": 9,
          "nan_count": 0,
          "min": "20",
          "max": "61",
          "histogram": [
           {
            "bin_start": 20,
            "bin_end": 24.1,
            "count": 3
           },
           {
            "bin_start": 24.1,
            "bin_end": 28.2,
            "count": 1
           },
           {
            "bin_start": 28.2,
            "bin_end": 32.3,
            "count": 1
           },
           {
            "bin_start": 32.3,
            "bin_end": 36.4,
            "count": 0
           },
           {
            "bin_start": 36.4,
            "bin_end": 40.5,
            "count": 1
           },
           {
            "bin_start": 40.5,
            "bin_end": 44.599999999999994,
            "count": 1
           },
           {
            "bin_start": 44.599999999999994,
            "bin_end": 48.699999999999996,
            "count": 2
           },
           {
            "bin_start": 48.699999999999996,
            "bin_end": 52.8,
            "count": 0
           },
           {
            "bin_start": 52.8,
            "bin_end": 56.9,
            "count": 0
           },
           {
            "bin_start": 56.9,
            "bin_end": 61,
            "count": 1
           }
          ]
         }
        },
        {
         "name": "gender",
         "dtype": "object",
         "stats": {
          "unique_count": 2,
          "nan_count": 0,
          "categories": [
           {
            "name": "M",
            "count": 7
           },
           {
            "name": "F",
            "count": 3
           }
          ]
         }
        },
        {
         "name": "occupation",
         "dtype": "object",
         "stats": {
          "unique_count": 8,
          "nan_count": 0,
          "categories": [
           {
            "name": "student",
            "count": 3
           },
           {
            "name": "engineer",
            "count": 1
           },
           {
            "name": "6 others",
            "count": 6
           }
          ]
         }
        },
        {
         "name": "zip_code",
         "dtype": "object",
         "stats": {
          "unique_count": 10,
          "nan_count": 0,
          "categories": [
           {
            "name": "22902",
            "count": 1
           },
           {
            "name": "66221",
            "count": 1
           },
           {
            "name": "8 others",
            "count": 8
           }
          ]
         }
        },
        {
         "name": "_deepnote_index_column",
         "dtype": "int64"
        }
       ],
       "rows_top": [
        {
         "age": 61,
         "gender": "M",
         "occupation": "engineer",
         "zip_code": "22902",
         "_deepnote_index_column": 934
        },
        {
         "age": 42,
         "gender": "M",
         "occupation": "doctor",
         "zip_code": "66221",
         "_deepnote_index_column": 935
        },
        {
         "age": 24,
         "gender": "M",
         "occupation": "other",
         "zip_code": "32789",
         "_deepnote_index_column": 936
        },
        {
         "age": 48,
         "gender": "M",
         "occupation": "educator",
         "zip_code": "98072",
         "_deepnote_index_column": 937
        },
        {
         "age": 38,
         "gender": "F",
         "occupation": "technician",
         "zip_code": "55038",
         "_deepnote_index_column": 938
        },
        {
         "age": 26,
         "gender": "F",
         "occupation": "student",
         "zip_code": "33319",
         "_deepnote_index_column": 939
        },
        {
         "age": 32,
         "gender": "M",
         "occupation": "administrator",
         "zip_code": "02215",
         "_deepnote_index_column": 940
        },
        {
         "age": 20,
         "gender": "M",
         "occupation": "student",
         "zip_code": "97229",
         "_deepnote_index_column": 941
        },
        {
         "age": 48,
         "gender": "F",
         "occupation": "librarian",
         "zip_code": "78209",
         "_deepnote_index_column": 942
        },
        {
         "age": 22,
         "gender": "M",
         "occupation": "student",
         "zip_code": "77841",
         "_deepnote_index_column": 943
        }
       ],
       "rows_bottom": null
      },
      "text/plain": "         age gender     occupation zip_code\nuser_id                                    \n934       61      M       engineer    22902\n935       42      M         doctor    66221\n936       24      M          other    32789\n937       48      M       educator    98072\n938       38      F     technician    55038\n939       26      F        student    33319\n940       32      M  administrator    02215\n941       20      M        student    97229\n942       48      F      librarian    78209\n943       22      M        student    77841",
      "text/html": "<div>\n<style scoped>\n    .dataframe tbody tr th:only-of-type {\n        vertical-align: middle;\n    }\n\n    .dataframe tbody tr th {\n        vertical-align: top;\n    }\n\n    .dataframe thead th {\n        text-align: right;\n    }\n</style>\n<table border=\"1\" class=\"dataframe\">\n  <thead>\n    <tr style=\"text-align: right;\">\n      <th></th>\n      <th>age</th>\n      <th>gender</th>\n      <th>occupation</th>\n      <th>zip_code</th>\n    </tr>\n    <tr>\n      <th>user_id</th>\n      <th></th>\n      <th></th>\n      <th></th>\n      <th></th>\n    </tr>\n  </thead>\n  <tbody>\n    <tr>\n      <th>934</th>\n      <td>61</td>\n      <td>M</td>\n      <td>engineer</td>\n      <td>22902</td>\n    </tr>\n    <tr>\n      <th>935</th>\n      <td>42</td>\n      <td>M</td>\n      <td>doctor</td>\n      <td>66221</td>\n    </tr>\n    <tr>\n      <th>936</th>\n      <td>24</td>\n      <td>M</td>\n      <td>other</td>\n      <td>32789</td>\n    </tr>\n    <tr>\n      <th>937</th>\n      <td>48</td>\n      <td>M</td>\n      <td>educator</td>\n      <td>98072</td>\n    </tr>\n    <tr>\n      <th>938</th>\n      <td>38</td>\n      <td>F</td>\n      <td>technician</td>\n      <td>55038</td>\n    </tr>\n    <tr>\n      <th>939</th>\n      <td>26</td>\n      <td>F</td>\n      <td>student</td>\n      <td>33319</td>\n    </tr>\n    <tr>\n      <th>940</th>\n      <td>32</td>\n      <td>M</td>\n      <td>administrator</td>\n      <td>02215</td>\n    </tr>\n    <tr>\n      <th>941</th>\n      <td>20</td>\n      <td>M</td>\n      <td>student</td>\n      <td>97229</td>\n    </tr>\n    <tr>\n      <th>942</th>\n      <td>48</td>\n      <td>F</td>\n      <td>librarian</td>\n      <td>78209</td>\n    </tr>\n    <tr>\n      <th>943</th>\n      <td>22</td>\n      <td>M</td>\n      <td>student</td>\n      <td>77841</td>\n    </tr>\n  </tbody>\n</table>\n</div>"
     },
     "metadata": {}
    }
   ],
   "execution_count": null
  },
  {
   "cell_type": "markdown",
   "source": "### Step 6. What is the number of observations in the dataset?",
   "metadata": {
    "id": "Uc5md6yT29Gh",
    "cell_id": "00010-bb95c6c7-fb96-450f-bf3d-050d9501ee97",
    "deepnote_cell_type": "markdown"
   }
  },
  {
   "cell_type": "code",
   "metadata": {
    "colab": {
     "base_uri": "https://localhost:8080/"
    },
    "id": "Gccqd4Nb29Gh",
    "executionInfo": {
     "status": "ok",
     "timestamp": 1623025693386,
     "user_tz": 240,
     "elapsed": 15,
     "user": {
      "displayName": "Andrés Sánchez",
      "photoUrl": "https://lh3.googleusercontent.com/a-/AOh14Gg69bZMv30ckb-T1MJy0nSxWIHUaP0p2uP6MYBuvQ=s64",
      "userId": "07985253921366566280"
     }
    },
    "outputId": "bc090ba3-63a2-4887-f9bb-f3a48a5ed7c5",
    "cell_id": "00011-d4fe6114-2d25-4cc3-bcab-913c562f2b1b",
    "deepnote_to_be_reexecuted": false,
    "source_hash": "89ed1172",
    "execution_start": 1630096686466,
    "execution_millis": 19,
    "deepnote_cell_type": "code"
   },
   "source": "users['age'].count()",
   "outputs": [
    {
     "output_type": "execute_result",
     "execution_count": 5,
     "data": {
      "text/plain": "943"
     },
     "metadata": {}
    }
   ],
   "execution_count": null
  },
  {
   "cell_type": "markdown",
   "source": "### Step 7. What is the number of columns in the dataset?",
   "metadata": {
    "id": "nZ4TSlq829Gh",
    "cell_id": "00012-f6c1a9ef-edfd-4313-9a38-a23267bf82cd",
    "deepnote_cell_type": "markdown"
   }
  },
  {
   "cell_type": "code",
   "metadata": {
    "colab": {
     "base_uri": "https://localhost:8080/"
    },
    "id": "67pgL5lA29Gh",
    "executionInfo": {
     "status": "ok",
     "timestamp": 1623025693386,
     "user_tz": 240,
     "elapsed": 12,
     "user": {
      "displayName": "Andrés Sánchez",
      "photoUrl": "https://lh3.googleusercontent.com/a-/AOh14Gg69bZMv30ckb-T1MJy0nSxWIHUaP0p2uP6MYBuvQ=s64",
      "userId": "07985253921366566280"
     }
    },
    "outputId": "a6891360-5f06-43ba-e095-c44c8ea44b7a",
    "cell_id": "00013-e61a30b1-765b-4736-97c0-3eb15cd10bc1",
    "deepnote_to_be_reexecuted": false,
    "source_hash": "9556c148",
    "execution_start": 1630096686482,
    "execution_millis": 21,
    "deepnote_cell_type": "code"
   },
   "source": "len(list(users.columns))",
   "outputs": [
    {
     "output_type": "execute_result",
     "execution_count": 6,
     "data": {
      "text/plain": "4"
     },
     "metadata": {}
    }
   ],
   "execution_count": null
  },
  {
   "cell_type": "markdown",
   "source": "### Step 8. Print the name of all the columns.",
   "metadata": {
    "id": "tod7vX5N29Gh",
    "cell_id": "00014-b95f8c81-a232-418a-9423-e5da17fc6725",
    "deepnote_cell_type": "markdown"
   }
  },
  {
   "cell_type": "code",
   "metadata": {
    "colab": {
     "base_uri": "https://localhost:8080/"
    },
    "id": "hUmDTu9F29Gh",
    "executionInfo": {
     "status": "ok",
     "timestamp": 1623025693386,
     "user_tz": 240,
     "elapsed": 11,
     "user": {
      "displayName": "Andrés Sánchez",
      "photoUrl": "https://lh3.googleusercontent.com/a-/AOh14Gg69bZMv30ckb-T1MJy0nSxWIHUaP0p2uP6MYBuvQ=s64",
      "userId": "07985253921366566280"
     }
    },
    "outputId": "0aef2254-9c50-4d71-fdcc-bcf510f507a6",
    "cell_id": "00015-8455928d-698c-48ea-97ab-69f9c63c4384",
    "deepnote_to_be_reexecuted": false,
    "source_hash": "9b38b81e",
    "execution_start": 1630096686501,
    "execution_millis": 45,
    "deepnote_cell_type": "code"
   },
   "source": "list(users.columns)",
   "outputs": [
    {
     "output_type": "execute_result",
     "execution_count": 7,
     "data": {
      "text/plain": "['age', 'gender', 'occupation', 'zip_code']"
     },
     "metadata": {}
    }
   ],
   "execution_count": null
  },
  {
   "cell_type": "markdown",
   "source": "### Step 9. How is the dataset indexed?",
   "metadata": {
    "id": "nMa1a8mf29Gh",
    "cell_id": "00016-40e1bf92-f6ef-4d81-ac2a-7ed51710fcd2",
    "deepnote_cell_type": "markdown"
   }
  },
  {
   "cell_type": "code",
   "metadata": {
    "colab": {
     "base_uri": "https://localhost:8080/"
    },
    "id": "lO-Z-P-L29Gh",
    "executionInfo": {
     "status": "ok",
     "timestamp": 1623025693387,
     "user_tz": 240,
     "elapsed": 11,
     "user": {
      "displayName": "Andrés Sánchez",
      "photoUrl": "https://lh3.googleusercontent.com/a-/AOh14Gg69bZMv30ckb-T1MJy0nSxWIHUaP0p2uP6MYBuvQ=s64",
      "userId": "07985253921366566280"
     }
    },
    "outputId": "61bc3f8a-7cec-486c-8d5b-e55e1908c87a",
    "cell_id": "00017-f061d35a-34cf-469e-89d0-485688c51166",
    "deepnote_to_be_reexecuted": false,
    "source_hash": "fe30dec6",
    "execution_start": 1630096686517,
    "execution_millis": 37,
    "deepnote_cell_type": "code"
   },
   "source": "users.index",
   "outputs": [
    {
     "output_type": "execute_result",
     "execution_count": 8,
     "data": {
      "text/plain": "Int64Index([  1,   2,   3,   4,   5,   6,   7,   8,   9,  10,\n            ...\n            934, 935, 936, 937, 938, 939, 940, 941, 942, 943],\n           dtype='int64', name='user_id', length=943)"
     },
     "metadata": {}
    }
   ],
   "execution_count": null
  },
  {
   "cell_type": "markdown",
   "source": "### Step 10. What is the data type of each column?",
   "metadata": {
    "id": "KSJoLXv929Gh",
    "cell_id": "00018-368d78fa-2951-49c8-ba1e-5df975473fc7",
    "deepnote_cell_type": "markdown"
   }
  },
  {
   "cell_type": "code",
   "metadata": {
    "colab": {
     "base_uri": "https://localhost:8080/"
    },
    "id": "4vcDVufD29Gh",
    "executionInfo": {
     "status": "ok",
     "timestamp": 1623025703439,
     "user_tz": 240,
     "elapsed": 150,
     "user": {
      "displayName": "Andrés Sánchez",
      "photoUrl": "https://lh3.googleusercontent.com/a-/AOh14Gg69bZMv30ckb-T1MJy0nSxWIHUaP0p2uP6MYBuvQ=s64",
      "userId": "07985253921366566280"
     }
    },
    "outputId": "7ce03b3a-5f77-4d65-d435-c5309a441577",
    "cell_id": "00019-871ee0c6-ea7d-418d-8e10-9826c43b5683",
    "deepnote_to_be_reexecuted": false,
    "source_hash": "ed0e393",
    "execution_start": 1630096686537,
    "execution_millis": 18,
    "deepnote_cell_type": "code"
   },
   "source": "users.dtypes",
   "outputs": [
    {
     "output_type": "execute_result",
     "execution_count": 9,
     "data": {
      "text/plain": "age            int64\ngender        object\noccupation    object\nzip_code      object\ndtype: object"
     },
     "metadata": {}
    }
   ],
   "execution_count": null
  },
  {
   "cell_type": "markdown",
   "source": "### Step 11. Print only the occupation column",
   "metadata": {
    "id": "JENbZu0s29Gh",
    "cell_id": "00020-e2e49b82-0b4c-4d6a-b2d2-c9dab80d6fb1",
    "deepnote_cell_type": "markdown"
   }
  },
  {
   "cell_type": "code",
   "metadata": {
    "colab": {
     "base_uri": "https://localhost:8080/"
    },
    "id": "uJDzeI-U29Gi",
    "executionInfo": {
     "status": "ok",
     "timestamp": 1623025936501,
     "user_tz": 240,
     "elapsed": 156,
     "user": {
      "displayName": "Andrés Sánchez",
      "photoUrl": "https://lh3.googleusercontent.com/a-/AOh14Gg69bZMv30ckb-T1MJy0nSxWIHUaP0p2uP6MYBuvQ=s64",
      "userId": "07985253921366566280"
     }
    },
    "outputId": "ab8d38a6-b9ea-4c78-ac7c-481e7b302e55",
    "cell_id": "00021-352d241f-bc82-461f-bf84-6bad28ce61c2",
    "deepnote_to_be_reexecuted": false,
    "source_hash": "16e0ed8b",
    "execution_start": 1630096686551,
    "execution_millis": 20,
    "deepnote_cell_type": "code"
   },
   "source": "users['occupation']",
   "outputs": [
    {
     "output_type": "execute_result",
     "execution_count": 10,
     "data": {
      "text/plain": "user_id\n1         technician\n2              other\n3             writer\n4         technician\n5              other\n           ...      \n939          student\n940    administrator\n941          student\n942        librarian\n943          student\nName: occupation, Length: 943, dtype: object"
     },
     "metadata": {}
    }
   ],
   "execution_count": null
  },
  {
   "cell_type": "markdown",
   "source": "### Step 12. How many different occupations are in this dataset?",
   "metadata": {
    "id": "yKsgOwXQ29Gi",
    "cell_id": "00022-b13fcb02-a70d-49ee-9d01-0ad951b496b2",
    "deepnote_cell_type": "markdown"
   }
  },
  {
   "cell_type": "code",
   "metadata": {
    "colab": {
     "base_uri": "https://localhost:8080/"
    },
    "id": "ub1TF11Q29Gi",
    "executionInfo": {
     "status": "ok",
     "timestamp": 1623025751917,
     "user_tz": 240,
     "elapsed": 151,
     "user": {
      "displayName": "Andrés Sánchez",
      "photoUrl": "https://lh3.googleusercontent.com/a-/AOh14Gg69bZMv30ckb-T1MJy0nSxWIHUaP0p2uP6MYBuvQ=s64",
      "userId": "07985253921366566280"
     }
    },
    "outputId": "a2b21a80-7ebf-4857-8e7d-964ec0f4f6f9",
    "cell_id": "00023-052e0fba-f302-4184-8010-40cd437d80de",
    "deepnote_to_be_reexecuted": false,
    "source_hash": "9bf44635",
    "execution_start": 1630096686568,
    "execution_millis": 37,
    "deepnote_cell_type": "code"
   },
   "source": "users['occupation'].nunique()",
   "outputs": [
    {
     "output_type": "execute_result",
     "execution_count": 11,
     "data": {
      "text/plain": "21"
     },
     "metadata": {}
    }
   ],
   "execution_count": null
  },
  {
   "cell_type": "markdown",
   "source": "### Step 13. What is the most frequent occupation?",
   "metadata": {
    "id": "xGbJQfSy29Gi",
    "cell_id": "00024-9be1f993-b31f-49fa-951e-ec19bf1c1f9b",
    "deepnote_cell_type": "markdown"
   }
  },
  {
   "cell_type": "code",
   "metadata": {
    "colab": {
     "base_uri": "https://localhost:8080/"
    },
    "id": "Y6MsnuyW29Gi",
    "executionInfo": {
     "status": "ok",
     "timestamp": 1623025897035,
     "user_tz": 240,
     "elapsed": 149,
     "user": {
      "displayName": "Andrés Sánchez",
      "photoUrl": "https://lh3.googleusercontent.com/a-/AOh14Gg69bZMv30ckb-T1MJy0nSxWIHUaP0p2uP6MYBuvQ=s64",
      "userId": "07985253921366566280"
     }
    },
    "outputId": "139f5ab2-0413-44de-ff14-6eb5cab03477",
    "cell_id": "00025-c84955f6-6fcf-4528-ad1a-ddacc507efcf",
    "deepnote_to_be_reexecuted": false,
    "source_hash": "a8a051b9",
    "execution_start": 1630096686593,
    "execution_millis": 27,
    "deepnote_cell_type": "code"
   },
   "source": "users['occupation'].value_counts().head(1)",
   "outputs": [
    {
     "output_type": "execute_result",
     "execution_count": 12,
     "data": {
      "text/plain": "student    196\nName: occupation, dtype: int64"
     },
     "metadata": {}
    }
   ],
   "execution_count": null
  },
  {
   "cell_type": "markdown",
   "source": "### Step 14. Summarize the DataFrame.",
   "metadata": {
    "id": "SQJBesMJ29Gi",
    "cell_id": "00026-f991a952-c2c7-4382-847b-9228c9824f7f",
    "deepnote_cell_type": "markdown"
   }
  },
  {
   "cell_type": "code",
   "metadata": {
    "colab": {
     "base_uri": "https://localhost:8080/",
     "height": 284
    },
    "id": "AMeqFGYD29Gi",
    "executionInfo": {
     "status": "ok",
     "timestamp": 1623025803981,
     "user_tz": 240,
     "elapsed": 144,
     "user": {
      "displayName": "Andrés Sánchez",
      "photoUrl": "https://lh3.googleusercontent.com/a-/AOh14Gg69bZMv30ckb-T1MJy0nSxWIHUaP0p2uP6MYBuvQ=s64",
      "userId": "07985253921366566280"
     }
    },
    "outputId": "409a10ea-cd58-4dc3-bbaf-5e431450b4c1",
    "cell_id": "00027-59b16a1b-11f9-4a7c-a9ca-c6a08741b032",
    "deepnote_to_be_reexecuted": false,
    "source_hash": "e92b47e7",
    "execution_start": 1630096686617,
    "execution_millis": 31,
    "deepnote_cell_type": "code"
   },
   "source": "users.describe()",
   "outputs": [
    {
     "output_type": "execute_result",
     "execution_count": 13,
     "data": {
      "application/vnd.deepnote.dataframe.v2+json": {
       "row_count": 8,
       "column_count": 1,
       "columns": [
        {
         "name": "age",
         "dtype": "float64",
         "stats": {
          "unique_count": 8,
          "nan_count": 0,
          "min": "7.0",
          "max": "943.0",
          "histogram": [
           {
            "bin_start": 7,
            "bin_end": 100.6,
            "count": 7
           },
           {
            "bin_start": 100.6,
            "bin_end": 194.2,
            "count": 0
           },
           {
            "bin_start": 194.2,
            "bin_end": 287.79999999999995,
            "count": 0
           },
           {
            "bin_start": 287.79999999999995,
            "bin_end": 381.4,
            "count": 0
           },
           {
            "bin_start": 381.4,
            "bin_end": 475,
            "count": 0
           },
           {
            "bin_start": 475,
            "bin_end": 568.5999999999999,
            "count": 0
           },
           {
            "bin_start": 568.5999999999999,
            "bin_end": 662.1999999999999,
            "count": 0
           },
           {
            "bin_start": 662.1999999999999,
            "bin_end": 755.8,
            "count": 0
           },
           {
            "bin_start": 755.8,
            "bin_end": 849.4,
            "count": 0
           },
           {
            "bin_start": 849.4,
            "bin_end": 943,
            "count": 1
           }
          ]
         }
        },
        {
         "name": "_deepnote_index_column",
         "dtype": "object"
        }
       ],
       "rows_top": [
        {
         "age": 943,
         "_deepnote_index_column": "count"
        },
        {
         "age": 34.05196182396607,
         "_deepnote_index_column": "mean"
        },
        {
         "age": 12.192739733059032,
         "_deepnote_index_column": "std"
        },
        {
         "age": 7,
         "_deepnote_index_column": "min"
        },
        {
         "age": 25,
         "_deepnote_index_column": "25%"
        },
        {
         "age": 31,
         "_deepnote_index_column": "50%"
        },
        {
         "age": 43,
         "_deepnote_index_column": "75%"
        },
        {
         "age": 73,
         "_deepnote_index_column": "max"
        }
       ],
       "rows_bottom": null
      },
      "text/plain": "              age\ncount  943.000000\nmean    34.051962\nstd     12.192740\nmin      7.000000\n25%     25.000000\n50%     31.000000\n75%     43.000000\nmax     73.000000",
      "text/html": "<div>\n<style scoped>\n    .dataframe tbody tr th:only-of-type {\n        vertical-align: middle;\n    }\n\n    .dataframe tbody tr th {\n        vertical-align: top;\n    }\n\n    .dataframe thead th {\n        text-align: right;\n    }\n</style>\n<table border=\"1\" class=\"dataframe\">\n  <thead>\n    <tr style=\"text-align: right;\">\n      <th></th>\n      <th>age</th>\n    </tr>\n  </thead>\n  <tbody>\n    <tr>\n      <th>count</th>\n      <td>943.000000</td>\n    </tr>\n    <tr>\n      <th>mean</th>\n      <td>34.051962</td>\n    </tr>\n    <tr>\n      <th>std</th>\n      <td>12.192740</td>\n    </tr>\n    <tr>\n      <th>min</th>\n      <td>7.000000</td>\n    </tr>\n    <tr>\n      <th>25%</th>\n      <td>25.000000</td>\n    </tr>\n    <tr>\n      <th>50%</th>\n      <td>31.000000</td>\n    </tr>\n    <tr>\n      <th>75%</th>\n      <td>43.000000</td>\n    </tr>\n    <tr>\n      <th>max</th>\n      <td>73.000000</td>\n    </tr>\n  </tbody>\n</table>\n</div>"
     },
     "metadata": {}
    }
   ],
   "execution_count": null
  },
  {
   "cell_type": "markdown",
   "source": "### Step 15. Summarize all the columns",
   "metadata": {
    "id": "mD3M1PMR29Gi",
    "cell_id": "00028-61b2cdee-0cdb-4dfd-b9df-a3805ae404a2",
    "deepnote_cell_type": "markdown"
   }
  },
  {
   "cell_type": "code",
   "metadata": {
    "colab": {
     "base_uri": "https://localhost:8080/",
     "height": 373
    },
    "id": "R-bf3JjN29Gi",
    "executionInfo": {
     "status": "ok",
     "timestamp": 1623025806974,
     "user_tz": 240,
     "elapsed": 161,
     "user": {
      "displayName": "Andrés Sánchez",
      "photoUrl": "https://lh3.googleusercontent.com/a-/AOh14Gg69bZMv30ckb-T1MJy0nSxWIHUaP0p2uP6MYBuvQ=s64",
      "userId": "07985253921366566280"
     }
    },
    "outputId": "0d14e36d-736a-44a0-c6d0-af5bb578da1c",
    "cell_id": "00029-9f23816a-0082-4745-8ca5-9193535e8542",
    "deepnote_to_be_reexecuted": false,
    "source_hash": "6cd6a4d6",
    "execution_start": 1630096686644,
    "execution_millis": 116,
    "deepnote_cell_type": "code"
   },
   "source": "users.describe(include = 'all')",
   "outputs": [
    {
     "output_type": "execute_result",
     "execution_count": 14,
     "data": {
      "application/vnd.deepnote.dataframe.v2+json": {
       "row_count": 11,
       "column_count": 4,
       "columns": [
        {
         "name": "age",
         "dtype": "float64",
         "stats": {
          "unique_count": 8,
          "nan_count": 3,
          "min": "7.0",
          "max": "943.0",
          "histogram": [
           {
            "bin_start": 7,
            "bin_end": 100.6,
            "count": 7
           },
           {
            "bin_start": 100.6,
            "bin_end": 194.2,
            "count": 0
           },
           {
            "bin_start": 194.2,
            "bin_end": 287.79999999999995,
            "count": 0
           },
           {
            "bin_start": 287.79999999999995,
            "bin_end": 381.4,
            "count": 0
           },
           {
            "bin_start": 381.4,
            "bin_end": 475,
            "count": 0
           },
           {
            "bin_start": 475,
            "bin_end": 568.5999999999999,
            "count": 0
           },
           {
            "bin_start": 568.5999999999999,
            "bin_end": 662.1999999999999,
            "count": 0
           },
           {
            "bin_start": 662.1999999999999,
            "bin_end": 755.8,
            "count": 0
           },
           {
            "bin_start": 755.8,
            "bin_end": 849.4,
            "count": 0
           },
           {
            "bin_start": 849.4,
            "bin_end": 943,
            "count": 1
           }
          ]
         }
        },
        {
         "name": "gender",
         "dtype": "object",
         "stats": {
          "unique_count": 4,
          "nan_count": 7,
          "categories": [
           {
            "name": "943",
            "count": 1
           },
           {
            "name": "3 others",
            "count": 3
           },
           {
            "name": "Missing",
            "count": 7
           }
          ]
         }
        },
        {
         "name": "occupation",
         "dtype": "object",
         "stats": {
          "unique_count": 4,
          "nan_count": 7,
          "categories": [
           {
            "name": "943",
            "count": 1
           },
           {
            "name": "3 others",
            "count": 3
           },
           {
            "name": "Missing",
            "count": 7
           }
          ]
         }
        },
        {
         "name": "zip_code",
         "dtype": "object",
         "stats": {
          "unique_count": 4,
          "nan_count": 7,
          "categories": [
           {
            "name": "943",
            "count": 1
           },
           {
            "name": "3 others",
            "count": 3
           },
           {
            "name": "Missing",
            "count": 7
           }
          ]
         }
        },
        {
         "name": "_deepnote_index_column",
         "dtype": "object"
        }
       ],
       "rows_top": [
        {
         "age": 943,
         "gender": "943",
         "occupation": "943",
         "zip_code": "943",
         "_deepnote_index_column": "count"
        },
        {
         "age": "nan",
         "gender": "2",
         "occupation": "21",
         "zip_code": "795",
         "_deepnote_index_column": "unique"
        },
        {
         "age": "nan",
         "gender": "M",
         "occupation": "student",
         "zip_code": "55414",
         "_deepnote_index_column": "top"
        },
        {
         "age": "nan",
         "gender": "670",
         "occupation": "196",
         "zip_code": "9",
         "_deepnote_index_column": "freq"
        },
        {
         "age": 34.05196182396607,
         "gender": "nan",
         "occupation": "nan",
         "zip_code": "nan",
         "_deepnote_index_column": "mean"
        },
        {
         "age": 12.192739733059032,
         "gender": "nan",
         "occupation": "nan",
         "zip_code": "nan",
         "_deepnote_index_column": "std"
        },
        {
         "age": 7,
         "gender": "nan",
         "occupation": "nan",
         "zip_code": "nan",
         "_deepnote_index_column": "min"
        },
        {
         "age": 25,
         "gender": "nan",
         "occupation": "nan",
         "zip_code": "nan",
         "_deepnote_index_column": "25%"
        },
        {
         "age": 31,
         "gender": "nan",
         "occupation": "nan",
         "zip_code": "nan",
         "_deepnote_index_column": "50%"
        },
        {
         "age": 43,
         "gender": "nan",
         "occupation": "nan",
         "zip_code": "nan",
         "_deepnote_index_column": "75%"
        },
        {
         "age": 73,
         "gender": "nan",
         "occupation": "nan",
         "zip_code": "nan",
         "_deepnote_index_column": "max"
        }
       ],
       "rows_bottom": null
      },
      "text/plain": "               age gender occupation zip_code\ncount   943.000000    943        943      943\nunique         NaN      2         21      795\ntop            NaN      M    student    55414\nfreq           NaN    670        196        9\nmean     34.051962    NaN        NaN      NaN\nstd      12.192740    NaN        NaN      NaN\nmin       7.000000    NaN        NaN      NaN\n25%      25.000000    NaN        NaN      NaN\n50%      31.000000    NaN        NaN      NaN\n75%      43.000000    NaN        NaN      NaN\nmax      73.000000    NaN        NaN      NaN",
      "text/html": "<div>\n<style scoped>\n    .dataframe tbody tr th:only-of-type {\n        vertical-align: middle;\n    }\n\n    .dataframe tbody tr th {\n        vertical-align: top;\n    }\n\n    .dataframe thead th {\n        text-align: right;\n    }\n</style>\n<table border=\"1\" class=\"dataframe\">\n  <thead>\n    <tr style=\"text-align: right;\">\n      <th></th>\n      <th>age</th>\n      <th>gender</th>\n      <th>occupation</th>\n      <th>zip_code</th>\n    </tr>\n  </thead>\n  <tbody>\n    <tr>\n      <th>count</th>\n      <td>943.000000</td>\n      <td>943</td>\n      <td>943</td>\n      <td>943</td>\n    </tr>\n    <tr>\n      <th>unique</th>\n      <td>NaN</td>\n      <td>2</td>\n      <td>21</td>\n      <td>795</td>\n    </tr>\n    <tr>\n      <th>top</th>\n      <td>NaN</td>\n      <td>M</td>\n      <td>student</td>\n      <td>55414</td>\n    </tr>\n    <tr>\n      <th>freq</th>\n      <td>NaN</td>\n      <td>670</td>\n      <td>196</td>\n      <td>9</td>\n    </tr>\n    <tr>\n      <th>mean</th>\n      <td>34.051962</td>\n      <td>NaN</td>\n      <td>NaN</td>\n      <td>NaN</td>\n    </tr>\n    <tr>\n      <th>std</th>\n      <td>12.192740</td>\n      <td>NaN</td>\n      <td>NaN</td>\n      <td>NaN</td>\n    </tr>\n    <tr>\n      <th>min</th>\n      <td>7.000000</td>\n      <td>NaN</td>\n      <td>NaN</td>\n      <td>NaN</td>\n    </tr>\n    <tr>\n      <th>25%</th>\n      <td>25.000000</td>\n      <td>NaN</td>\n      <td>NaN</td>\n      <td>NaN</td>\n    </tr>\n    <tr>\n      <th>50%</th>\n      <td>31.000000</td>\n      <td>NaN</td>\n      <td>NaN</td>\n      <td>NaN</td>\n    </tr>\n    <tr>\n      <th>75%</th>\n      <td>43.000000</td>\n      <td>NaN</td>\n      <td>NaN</td>\n      <td>NaN</td>\n    </tr>\n    <tr>\n      <th>max</th>\n      <td>73.000000</td>\n      <td>NaN</td>\n      <td>NaN</td>\n      <td>NaN</td>\n    </tr>\n  </tbody>\n</table>\n</div>"
     },
     "metadata": {}
    }
   ],
   "execution_count": null
  },
  {
   "cell_type": "markdown",
   "source": "### Step 16. Summarize only the occupation column",
   "metadata": {
    "id": "VgfSToDx29Gi",
    "cell_id": "00030-d599c520-18f6-49a3-ae62-e228da02ce65",
    "deepnote_cell_type": "markdown"
   }
  },
  {
   "cell_type": "code",
   "metadata": {
    "colab": {
     "base_uri": "https://localhost:8080/"
    },
    "id": "78nlqv_029Gi",
    "executionInfo": {
     "status": "ok",
     "timestamp": 1623025821420,
     "user_tz": 240,
     "elapsed": 149,
     "user": {
      "displayName": "Andrés Sánchez",
      "photoUrl": "https://lh3.googleusercontent.com/a-/AOh14Gg69bZMv30ckb-T1MJy0nSxWIHUaP0p2uP6MYBuvQ=s64",
      "userId": "07985253921366566280"
     }
    },
    "outputId": "0a9599da-7d6a-49e6-86d9-388e3d7ff34c",
    "cell_id": "00031-0227487a-7ffa-4da6-b3af-5836ab0d7a40",
    "deepnote_to_be_reexecuted": false,
    "source_hash": "ee1fdaf2",
    "execution_start": 1630096686763,
    "execution_millis": 24,
    "deepnote_cell_type": "code"
   },
   "source": "users['occupation'].describe(include = 'all')",
   "outputs": [
    {
     "output_type": "execute_result",
     "execution_count": 15,
     "data": {
      "text/plain": "count         943\nunique         21\ntop       student\nfreq          196\nName: occupation, dtype: object"
     },
     "metadata": {}
    }
   ],
   "execution_count": null
  },
  {
   "cell_type": "markdown",
   "source": "### Step 17. What is the mean age of users?",
   "metadata": {
    "id": "XyeGb9o229Gi",
    "cell_id": "00032-c0d73cad-7871-4c3c-b0b6-c8a92cd06c40",
    "deepnote_cell_type": "markdown"
   }
  },
  {
   "cell_type": "code",
   "metadata": {
    "colab": {
     "base_uri": "https://localhost:8080/"
    },
    "id": "zywiieEN29Gi",
    "executionInfo": {
     "status": "ok",
     "timestamp": 1623025852483,
     "user_tz": 240,
     "elapsed": 152,
     "user": {
      "displayName": "Andrés Sánchez",
      "photoUrl": "https://lh3.googleusercontent.com/a-/AOh14Gg69bZMv30ckb-T1MJy0nSxWIHUaP0p2uP6MYBuvQ=s64",
      "userId": "07985253921366566280"
     }
    },
    "outputId": "9179a944-d9de-412f-d61f-9e823a65f2aa",
    "cell_id": "00033-91dfc492-e535-48a8-9c5f-16790cc49236",
    "deepnote_to_be_reexecuted": false,
    "source_hash": "12eccf74",
    "execution_start": 1630096686784,
    "execution_millis": 32,
    "deepnote_cell_type": "code"
   },
   "source": "users['age'].mean()",
   "outputs": [
    {
     "output_type": "execute_result",
     "execution_count": 16,
     "data": {
      "text/plain": "34.05196182396607"
     },
     "metadata": {}
    }
   ],
   "execution_count": null
  },
  {
   "cell_type": "markdown",
   "source": "### Step 18. What is the age with least occurrence?",
   "metadata": {
    "id": "gfT_NXmE29Gi",
    "cell_id": "00034-472bf920-83ac-47c6-94ea-6a639a379d61",
    "deepnote_cell_type": "markdown"
   }
  },
  {
   "cell_type": "code",
   "metadata": {
    "colab": {
     "base_uri": "https://localhost:8080/"
    },
    "id": "-8v-FSQ_29Gi",
    "executionInfo": {
     "status": "ok",
     "timestamp": 1623026015613,
     "user_tz": 240,
     "elapsed": 143,
     "user": {
      "displayName": "Andrés Sánchez",
      "photoUrl": "https://lh3.googleusercontent.com/a-/AOh14Gg69bZMv30ckb-T1MJy0nSxWIHUaP0p2uP6MYBuvQ=s64",
      "userId": "07985253921366566280"
     }
    },
    "outputId": "a45e43e5-5e00-48b7-88ed-e319c6cd6014",
    "cell_id": "00035-1745349c-8f08-4aec-9874-fd11c67bf1b0",
    "deepnote_to_be_reexecuted": false,
    "source_hash": "12ab142c",
    "execution_start": 1630096686809,
    "execution_millis": 19,
    "deepnote_cell_type": "code"
   },
   "source": "users.age.value_counts().tail(5)",
   "outputs": [
    {
     "output_type": "execute_result",
     "execution_count": 17,
     "data": {
      "text/plain": "7     1\n66    1\n10    1\n11    1\n73    1\nName: age, dtype: int64"
     },
     "metadata": {}
    }
   ],
   "execution_count": null
  },
  {
   "cell_type": "markdown",
   "source": "<a style='text-decoration:none;line-height:16px;display:flex;color:#5B5B62;padding:10px;justify-content:end;' href='https://deepnote.com?utm_source=created-in-deepnote-cell&projectId=fe744348-fecc-4b7a-803c-44dba24ecb38' target=\"_blank\">\n<img alt='Created in deepnote.com' style='display:inline;max-height:16px;margin:0px;margin-right:7.5px;' src='data:image/svg+xml;base64,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' > </img>\nCreated in <span style='font-weight:600;margin-left:4px;'>Deepnote</span></a>",
   "metadata": {
    "tags": [],
    "created_in_deepnote_cell": true,
    "deepnote_cell_type": "markdown"
   }
  }
 ],
 "nbformat": 4,
 "nbformat_minor": 0,
 "metadata": {
  "anaconda-cloud": {},
  "kernelspec": {
   "display_name": "Python [default]",
   "language": "python",
   "name": "python2"
  },
  "language_info": {
   "codemirror_mode": {
    "name": "ipython",
    "version": 2
   },
   "file_extension": ".py",
   "mimetype": "text/x-python",
   "name": "python",
   "nbconvert_exporter": "python",
   "pygments_lexer": "ipython2",
   "version": "2.7.12"
  },
  "colab": {
   "name": "Exercises.ipynb",
   "provenance": [],
   "collapsed_sections": []
  },
  "deepnote_notebook_id": "c0b0de0a-4f1a-4527-a988-a0e6e4a30f61",
  "deepnote": {},
  "deepnote_execution_queue": []
 }
}
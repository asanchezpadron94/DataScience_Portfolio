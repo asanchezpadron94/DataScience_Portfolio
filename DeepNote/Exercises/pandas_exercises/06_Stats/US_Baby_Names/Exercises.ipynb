{
 "cells": [
  {
   "cell_type": "markdown",
   "source": "# US - Baby Names",
   "metadata": {
    "id": "4-TpkHdEpGqY",
    "cell_id": "00000-2baa6846-8406-4ccc-bbe0-3443a3bbbeb9",
    "deepnote_cell_type": "markdown"
   }
  },
  {
   "cell_type": "markdown",
   "source": "### Introduction:\n\nWe are going to use a subset of [US Baby Names](https://www.kaggle.com/kaggle/us-baby-names) from Kaggle.  \nIn the file it will be names from 2004 until 2014\n\n\n### Step 1. Import the necessary libraries",
   "metadata": {
    "id": "XOHjx-QapGqb",
    "cell_id": "00001-f5f184f9-8b46-4e4b-9e14-82d20cfaa853",
    "deepnote_cell_type": "markdown"
   }
  },
  {
   "cell_type": "code",
   "metadata": {
    "id": "2ohXSo6apGqc",
    "executionInfo": {
     "status": "ok",
     "timestamp": 1623728849467,
     "user_tz": 240,
     "elapsed": 509,
     "user": {
      "displayName": "Andrés Sánchez",
      "photoUrl": "https://lh3.googleusercontent.com/a-/AOh14Gg69bZMv30ckb-T1MJy0nSxWIHUaP0p2uP6MYBuvQ=s64",
      "userId": "07985253921366566280"
     }
    },
    "cell_id": "00002-ebfa2ff1-4f3f-422e-9cb7-8af19fd3101c",
    "deepnote_to_be_reexecuted": false,
    "source_hash": "c76c7c51",
    "execution_start": 1630098242208,
    "execution_millis": 3,
    "deepnote_cell_type": "code"
   },
   "source": "import pandas as pd\nimport numpy as np",
   "outputs": [],
   "execution_count": null
  },
  {
   "cell_type": "markdown",
   "source": "### Step 2. Import the dataset from this [address](https://raw.githubusercontent.com/guipsamora/pandas_exercises/master/06_Stats/US_Baby_Names/US_Baby_Names_right.csv). ",
   "metadata": {
    "id": "aCcuSOQZpGqc",
    "cell_id": "00003-57b922f5-ef91-4d79-a918-7c63ae963388",
    "deepnote_cell_type": "markdown"
   }
  },
  {
   "cell_type": "markdown",
   "source": "### Step 3. Assign it to a variable called baby_names.",
   "metadata": {
    "id": "ZRT5rkmIpGqc",
    "cell_id": "00004-67b428d1-01b2-458c-abac-c011a7894c98",
    "deepnote_cell_type": "markdown"
   }
  },
  {
   "cell_type": "code",
   "metadata": {
    "id": "ajIpqFlVpGqd",
    "executionInfo": {
     "status": "ok",
     "timestamp": 1623728850927,
     "user_tz": 240,
     "elapsed": 1466,
     "user": {
      "displayName": "Andrés Sánchez",
      "photoUrl": "https://lh3.googleusercontent.com/a-/AOh14Gg69bZMv30ckb-T1MJy0nSxWIHUaP0p2uP6MYBuvQ=s64",
      "userId": "07985253921366566280"
     }
    },
    "cell_id": "00005-e713d3ba-6323-4cea-997e-041426225f92",
    "deepnote_to_be_reexecuted": false,
    "source_hash": "9af7b628",
    "execution_start": 1630098242213,
    "execution_millis": 1182,
    "deepnote_cell_type": "code"
   },
   "source": "baby_names = pd.read_csv('https://raw.githubusercontent.com/guipsamora/pandas_exercises/master/06_Stats/US_Baby_Names/US_Baby_Names_right.csv')",
   "outputs": [],
   "execution_count": null
  },
  {
   "cell_type": "markdown",
   "source": "### Step 4. See the first 10 entries",
   "metadata": {
    "id": "eszKvzxcpGqd",
    "cell_id": "00006-19a6f4ca-0e62-418d-af28-540617e06bc3",
    "deepnote_cell_type": "markdown"
   }
  },
  {
   "cell_type": "code",
   "metadata": {
    "id": "buZ-xVuZpGqd",
    "colab": {
     "base_uri": "https://localhost:8080/",
     "height": 348
    },
    "executionInfo": {
     "status": "ok",
     "timestamp": 1623728850928,
     "user_tz": 240,
     "elapsed": 12,
     "user": {
      "displayName": "Andrés Sánchez",
      "photoUrl": "https://lh3.googleusercontent.com/a-/AOh14Gg69bZMv30ckb-T1MJy0nSxWIHUaP0p2uP6MYBuvQ=s64",
      "userId": "07985253921366566280"
     }
    },
    "outputId": "e1d2cee8-0e36-4576-f43b-50ce05132497",
    "cell_id": "00007-d08a0fdc-86e1-41a9-9a6d-0b2cec4aaf2a",
    "deepnote_to_be_reexecuted": false,
    "source_hash": "119c6208",
    "execution_start": 1630098243418,
    "execution_millis": 17,
    "deepnote_cell_type": "code"
   },
   "source": "baby_names.head(10)",
   "outputs": [
    {
     "output_type": "execute_result",
     "execution_count": 3,
     "data": {
      "application/vnd.deepnote.dataframe.v2+json": {
       "row_count": 10,
       "column_count": 7,
       "columns": [
        {
         "name": "Unnamed: 0",
         "dtype": "int64",
         "stats": {
          "unique_count": 10,
          "nan_count": 0,
          "min": "11349",
          "max": "11358",
          "histogram": [
           {
            "bin_start": 11349,
            "bin_end": 11349.9,
            "count": 1
           },
           {
            "bin_start": 11349.9,
            "bin_end": 11350.8,
            "count": 1
           },
           {
            "bin_start": 11350.8,
            "bin_end": 11351.7,
            "count": 1
           },
           {
            "bin_start": 11351.7,
            "bin_end": 11352.6,
            "count": 1
           },
           {
            "bin_start": 11352.6,
            "bin_end": 11353.5,
            "count": 1
           },
           {
            "bin_start": 11353.5,
            "bin_end": 11354.4,
            "count": 1
           },
           {
            "bin_start": 11354.4,
            "bin_end": 11355.3,
            "count": 1
           },
           {
            "bin_start": 11355.3,
            "bin_end": 11356.2,
            "count": 1
           },
           {
            "bin_start": 11356.2,
            "bin_end": 11357.1,
            "count": 1
           },
           {
            "bin_start": 11357.1,
            "bin_end": 11358,
            "count": 1
           }
          ]
         }
        },
        {
         "name": "Id",
         "dtype": "int64",
         "stats": {
          "unique_count": 10,
          "nan_count": 0,
          "min": "11350",
          "max": "11359",
          "histogram": [
           {
            "bin_start": 11350,
            "bin_end": 11350.9,
            "count": 1
           },
           {
            "bin_start": 11350.9,
            "bin_end": 11351.8,
            "count": 1
           },
           {
            "bin_start": 11351.8,
            "bin_end": 11352.7,
            "count": 1
           },
           {
            "bin_start": 11352.7,
            "bin_end": 11353.6,
            "count": 1
           },
           {
            "bin_start": 11353.6,
            "bin_end": 11354.5,
            "count": 1
           },
           {
            "bin_start": 11354.5,
            "bin_end": 11355.4,
            "count": 1
           },
           {
            "bin_start": 11355.4,
            "bin_end": 11356.3,
            "count": 1
           },
           {
            "bin_start": 11356.3,
            "bin_end": 11357.2,
            "count": 1
           },
           {
            "bin_start": 11357.2,
            "bin_end": 11358.1,
            "count": 1
           },
           {
            "bin_start": 11358.1,
            "bin_end": 11359,
            "count": 1
           }
          ]
         }
        },
        {
         "name": "Name",
         "dtype": "object",
         "stats": {
          "unique_count": 10,
          "nan_count": 0,
          "categories": [
           {
            "name": "Emma",
            "count": 1
           },
           {
            "name": "Madison",
            "count": 1
           },
           {
            "name": "8 others",
            "count": 8
           }
          ]
         }
        },
        {
         "name": "Year",
         "dtype": "int64",
         "stats": {
          "unique_count": 1,
          "nan_count": 0,
          "min": "2004",
          "max": "2004",
          "histogram": [
           {
            "bin_start": 2003.5,
            "bin_end": 2003.6,
            "count": 0
           },
           {
            "bin_start": 2003.6,
            "bin_end": 2003.7,
            "count": 0
           },
           {
            "bin_start": 2003.7,
            "bin_end": 2003.8,
            "count": 0
           },
           {
            "bin_start": 2003.8,
            "bin_end": 2003.9,
            "count": 0
           },
           {
            "bin_start": 2003.9,
            "bin_end": 2004,
            "count": 0
           },
           {
            "bin_start": 2004,
            "bin_end": 2004.1,
            "count": 10
           },
           {
            "bin_start": 2004.1,
            "bin_end": 2004.2,
            "count": 0
           },
           {
            "bin_start": 2004.2,
            "bin_end": 2004.3,
            "count": 0
           },
           {
            "bin_start": 2004.3,
            "bin_end": 2004.4,
            "count": 0
           },
           {
            "bin_start": 2004.4,
            "bin_end": 2004.5,
            "count": 0
           }
          ]
         }
        },
        {
         "name": "Gender",
         "dtype": "object",
         "stats": {
          "unique_count": 1,
          "nan_count": 0,
          "categories": [
           {
            "name": "F",
            "count": 10
           }
          ]
         }
        },
        {
         "name": "State",
         "dtype": "object",
         "stats": {
          "unique_count": 1,
          "nan_count": 0,
          "categories": [
           {
            "name": "AK",
            "count": 10
           }
          ]
         }
        },
        {
         "name": "Count",
         "dtype": "int64",
         "stats": {
          "unique_count": 10,
          "nan_count": 0,
          "min": "28",
          "max": "62",
          "histogram": [
           {
            "bin_start": 28,
            "bin_end": 31.4,
            "count": 3
           },
           {
            "bin_start": 31.4,
            "bin_end": 34.8,
            "count": 1
           },
           {
            "bin_start": 34.8,
            "bin_end": 38.2,
            "count": 1
           },
           {
            "bin_start": 38.2,
            "bin_end": 41.6,
            "count": 1
           },
           {
            "bin_start": 41.6,
            "bin_end": 45,
            "count": 1
           },
           {
            "bin_start": 45,
            "bin_end": 48.4,
            "count": 2
           },
           {
            "bin_start": 48.4,
            "bin_end": 51.8,
            "count": 0
           },
           {
            "bin_start": 51.8,
            "bin_end": 55.2,
            "count": 0
           },
           {
            "bin_start": 55.2,
            "bin_end": 58.599999999999994,
            "count": 0
           },
           {
            "bin_start": 58.599999999999994,
            "bin_end": 62,
            "count": 1
           }
          ]
         }
        },
        {
         "name": "_deepnote_index_column",
         "dtype": "int64"
        }
       ],
       "rows_top": [
        {
         "Unnamed: 0": 11349,
         "Id": 11350,
         "Name": "Emma",
         "Year": 2004,
         "Gender": "F",
         "State": "AK",
         "Count": 62,
         "_deepnote_index_column": 0
        },
        {
         "Unnamed: 0": 11350,
         "Id": 11351,
         "Name": "Madison",
         "Year": 2004,
         "Gender": "F",
         "State": "AK",
         "Count": 48,
         "_deepnote_index_column": 1
        },
        {
         "Unnamed: 0": 11351,
         "Id": 11352,
         "Name": "Hannah",
         "Year": 2004,
         "Gender": "F",
         "State": "AK",
         "Count": 46,
         "_deepnote_index_column": 2
        },
        {
         "Unnamed: 0": 11352,
         "Id": 11353,
         "Name": "Grace",
         "Year": 2004,
         "Gender": "F",
         "State": "AK",
         "Count": 44,
         "_deepnote_index_column": 3
        },
        {
         "Unnamed: 0": 11353,
         "Id": 11354,
         "Name": "Emily",
         "Year": 2004,
         "Gender": "F",
         "State": "AK",
         "Count": 41,
         "_deepnote_index_column": 4
        },
        {
         "Unnamed: 0": 11354,
         "Id": 11355,
         "Name": "Abigail",
         "Year": 2004,
         "Gender": "F",
         "State": "AK",
         "Count": 37,
         "_deepnote_index_column": 5
        },
        {
         "Unnamed: 0": 11355,
         "Id": 11356,
         "Name": "Olivia",
         "Year": 2004,
         "Gender": "F",
         "State": "AK",
         "Count": 33,
         "_deepnote_index_column": 6
        },
        {
         "Unnamed: 0": 11356,
         "Id": 11357,
         "Name": "Isabella",
         "Year": 2004,
         "Gender": "F",
         "State": "AK",
         "Count": 30,
         "_deepnote_index_column": 7
        },
        {
         "Unnamed: 0": 11357,
         "Id": 11358,
         "Name": "Alyssa",
         "Year": 2004,
         "Gender": "F",
         "State": "AK",
         "Count": 29,
         "_deepnote_index_column": 8
        },
        {
         "Unnamed: 0": 11358,
         "Id": 11359,
         "Name": "Sophia",
         "Year": 2004,
         "Gender": "F",
         "State": "AK",
         "Count": 28,
         "_deepnote_index_column": 9
        }
       ],
       "rows_bottom": null
      },
      "text/plain": "   Unnamed: 0     Id      Name  Year Gender State  Count\n0       11349  11350      Emma  2004      F    AK     62\n1       11350  11351   Madison  2004      F    AK     48\n2       11351  11352    Hannah  2004      F    AK     46\n3       11352  11353     Grace  2004      F    AK     44\n4       11353  11354     Emily  2004      F    AK     41\n5       11354  11355   Abigail  2004      F    AK     37\n6       11355  11356    Olivia  2004      F    AK     33\n7       11356  11357  Isabella  2004      F    AK     30\n8       11357  11358    Alyssa  2004      F    AK     29\n9       11358  11359    Sophia  2004      F    AK     28",
      "text/html": "<div>\n<style scoped>\n    .dataframe tbody tr th:only-of-type {\n        vertical-align: middle;\n    }\n\n    .dataframe tbody tr th {\n        vertical-align: top;\n    }\n\n    .dataframe thead th {\n        text-align: right;\n    }\n</style>\n<table border=\"1\" class=\"dataframe\">\n  <thead>\n    <tr style=\"text-align: right;\">\n      <th></th>\n      <th>Unnamed: 0</th>\n      <th>Id</th>\n      <th>Name</th>\n      <th>Year</th>\n      <th>Gender</th>\n      <th>State</th>\n      <th>Count</th>\n    </tr>\n  </thead>\n  <tbody>\n    <tr>\n      <th>0</th>\n      <td>11349</td>\n      <td>11350</td>\n      <td>Emma</td>\n      <td>2004</td>\n      <td>F</td>\n      <td>AK</td>\n      <td>62</td>\n    </tr>\n    <tr>\n      <th>1</th>\n      <td>11350</td>\n      <td>11351</td>\n      <td>Madison</td>\n      <td>2004</td>\n      <td>F</td>\n      <td>AK</td>\n      <td>48</td>\n    </tr>\n    <tr>\n      <th>2</th>\n      <td>11351</td>\n      <td>11352</td>\n      <td>Hannah</td>\n      <td>2004</td>\n      <td>F</td>\n      <td>AK</td>\n      <td>46</td>\n    </tr>\n    <tr>\n      <th>3</th>\n      <td>11352</td>\n      <td>11353</td>\n      <td>Grace</td>\n      <td>2004</td>\n      <td>F</td>\n      <td>AK</td>\n      <td>44</td>\n    </tr>\n    <tr>\n      <th>4</th>\n      <td>11353</td>\n      <td>11354</td>\n      <td>Emily</td>\n      <td>2004</td>\n      <td>F</td>\n      <td>AK</td>\n      <td>41</td>\n    </tr>\n    <tr>\n      <th>5</th>\n      <td>11354</td>\n      <td>11355</td>\n      <td>Abigail</td>\n      <td>2004</td>\n      <td>F</td>\n      <td>AK</td>\n      <td>37</td>\n    </tr>\n    <tr>\n      <th>6</th>\n      <td>11355</td>\n      <td>11356</td>\n      <td>Olivia</td>\n      <td>2004</td>\n      <td>F</td>\n      <td>AK</td>\n      <td>33</td>\n    </tr>\n    <tr>\n      <th>7</th>\n      <td>11356</td>\n      <td>11357</td>\n      <td>Isabella</td>\n      <td>2004</td>\n      <td>F</td>\n      <td>AK</td>\n      <td>30</td>\n    </tr>\n    <tr>\n      <th>8</th>\n      <td>11357</td>\n      <td>11358</td>\n      <td>Alyssa</td>\n      <td>2004</td>\n      <td>F</td>\n      <td>AK</td>\n      <td>29</td>\n    </tr>\n    <tr>\n      <th>9</th>\n      <td>11358</td>\n      <td>11359</td>\n      <td>Sophia</td>\n      <td>2004</td>\n      <td>F</td>\n      <td>AK</td>\n      <td>28</td>\n    </tr>\n  </tbody>\n</table>\n</div>"
     },
     "metadata": {}
    }
   ],
   "execution_count": null
  },
  {
   "cell_type": "markdown",
   "source": "### Step 5. Delete the column 'Unnamed: 0' and 'Id'",
   "metadata": {
    "id": "hVVLhE0kpGqe",
    "cell_id": "00008-c81bb5b8-b694-45f7-81bc-2643529a4f10",
    "deepnote_cell_type": "markdown"
   }
  },
  {
   "cell_type": "code",
   "metadata": {
    "id": "yEWmwmpXpGqe",
    "executionInfo": {
     "status": "ok",
     "timestamp": 1623728850929,
     "user_tz": 240,
     "elapsed": 8,
     "user": {
      "displayName": "Andrés Sánchez",
      "photoUrl": "https://lh3.googleusercontent.com/a-/AOh14Gg69bZMv30ckb-T1MJy0nSxWIHUaP0p2uP6MYBuvQ=s64",
      "userId": "07985253921366566280"
     }
    },
    "cell_id": "00009-921cdcbb-b6a1-424a-8555-85d4f6ea9d5a",
    "deepnote_to_be_reexecuted": false,
    "source_hash": "d00404ea",
    "execution_start": 1630098243469,
    "execution_millis": 3,
    "deepnote_cell_type": "code"
   },
   "source": "baby_names = baby_names.drop(columns=['Unnamed: 0','Id'])",
   "outputs": [],
   "execution_count": null
  },
  {
   "cell_type": "markdown",
   "source": "### Step 6. Is there more male or female names in the dataset?",
   "metadata": {
    "id": "6kbzApzfpGqe",
    "cell_id": "00010-e36e4a74-5e75-4ea3-aa0d-d5d74d016394",
    "deepnote_cell_type": "markdown"
   }
  },
  {
   "cell_type": "code",
   "metadata": {
    "id": "uMgzy5RYpGqe",
    "colab": {
     "base_uri": "https://localhost:8080/"
    },
    "executionInfo": {
     "status": "ok",
     "timestamp": 1623728851086,
     "user_tz": 240,
     "elapsed": 164,
     "user": {
      "displayName": "Andrés Sánchez",
      "photoUrl": "https://lh3.googleusercontent.com/a-/AOh14Gg69bZMv30ckb-T1MJy0nSxWIHUaP0p2uP6MYBuvQ=s64",
      "userId": "07985253921366566280"
     }
    },
    "outputId": "07abd98c-a615-4058-9ef6-024a7ff2e444",
    "cell_id": "00011-6b806705-1e34-41d2-8c6f-c03c99e3fa9a",
    "deepnote_to_be_reexecuted": false,
    "source_hash": "bc76a5f0",
    "execution_start": 1630098243473,
    "execution_millis": 87,
    "deepnote_cell_type": "code"
   },
   "source": "baby_names['Gender'].value_counts().sort_values(ascending = False).head(1)",
   "outputs": [
    {
     "output_type": "execute_result",
     "execution_count": 5,
     "data": {
      "text/plain": "F    558846\nName: Gender, dtype: int64"
     },
     "metadata": {}
    }
   ],
   "execution_count": null
  },
  {
   "cell_type": "markdown",
   "source": "### Step 7. Group the dataset by name and assign to names",
   "metadata": {
    "id": "qOPtrkO_pGqf",
    "cell_id": "00012-7dd2fc29-f0b2-45ad-b21f-3c5765d90fd5",
    "deepnote_cell_type": "markdown"
   }
  },
  {
   "cell_type": "code",
   "metadata": {
    "id": "cS--8YrIpGqf",
    "executionInfo": {
     "status": "ok",
     "timestamp": 1623728851086,
     "user_tz": 240,
     "elapsed": 1,
     "user": {
      "displayName": "Andrés Sánchez",
      "photoUrl": "https://lh3.googleusercontent.com/a-/AOh14Gg69bZMv30ckb-T1MJy0nSxWIHUaP0p2uP6MYBuvQ=s64",
      "userId": "07985253921366566280"
     }
    },
    "cell_id": "00013-a6428299-9ae1-44dc-b94f-e039a9ddb44b",
    "deepnote_to_be_reexecuted": false,
    "source_hash": "9528c8e6",
    "execution_start": 1630098243557,
    "execution_millis": 14,
    "deepnote_cell_type": "code"
   },
   "source": "names = baby_names[['Name','Count']].groupby('Name')",
   "outputs": [],
   "execution_count": null
  },
  {
   "cell_type": "markdown",
   "source": "### Step 8. How many different names exist in the dataset?",
   "metadata": {
    "id": "V59jtG0ApGqf",
    "cell_id": "00014-fba91669-7e02-43bb-b99a-54abe2290130",
    "deepnote_cell_type": "markdown"
   }
  },
  {
   "cell_type": "code",
   "metadata": {
    "id": "1HvtaY3tpGqf",
    "colab": {
     "base_uri": "https://localhost:8080/"
    },
    "executionInfo": {
     "status": "ok",
     "timestamp": 1623728851257,
     "user_tz": 240,
     "elapsed": 172,
     "user": {
      "displayName": "Andrés Sánchez",
      "photoUrl": "https://lh3.googleusercontent.com/a-/AOh14Gg69bZMv30ckb-T1MJy0nSxWIHUaP0p2uP6MYBuvQ=s64",
      "userId": "07985253921366566280"
     }
    },
    "outputId": "914bfe3d-934f-43c3-9444-e1d7dbaeb733",
    "cell_id": "00015-e9f04738-e40b-4f26-af45-f6792b273583",
    "deepnote_to_be_reexecuted": false,
    "source_hash": "783a3e10",
    "execution_start": 1630098243588,
    "execution_millis": 146,
    "deepnote_cell_type": "code"
   },
   "source": "names['Count'].count().count()",
   "outputs": [
    {
     "output_type": "execute_result",
     "execution_count": 7,
     "data": {
      "text/plain": "17632"
     },
     "metadata": {}
    }
   ],
   "execution_count": null
  },
  {
   "cell_type": "markdown",
   "source": "### Step 9. What is the name with most occurrences?",
   "metadata": {
    "id": "BWPwFzydpGqf",
    "cell_id": "00016-5a890583-5c62-4221-be29-9aae4020e4a5",
    "deepnote_cell_type": "markdown"
   }
  },
  {
   "cell_type": "code",
   "metadata": {
    "id": "zwBEf454pGqg",
    "colab": {
     "base_uri": "https://localhost:8080/"
    },
    "executionInfo": {
     "status": "ok",
     "timestamp": 1623728851257,
     "user_tz": 240,
     "elapsed": 9,
     "user": {
      "displayName": "Andrés Sánchez",
      "photoUrl": "https://lh3.googleusercontent.com/a-/AOh14Gg69bZMv30ckb-T1MJy0nSxWIHUaP0p2uP6MYBuvQ=s64",
      "userId": "07985253921366566280"
     }
    },
    "outputId": "8dc2b721-ebb0-4923-98e0-fa2aaece7f6f",
    "cell_id": "00017-6339aea3-d1bb-4979-a3a5-933a6b51f1d1",
    "deepnote_to_be_reexecuted": false,
    "source_hash": "91b0303c",
    "execution_start": 1630098243708,
    "execution_millis": 26,
    "deepnote_cell_type": "code"
   },
   "source": "names['Count'].sum().sort_values(ascending = False).head(1)",
   "outputs": [
    {
     "output_type": "execute_result",
     "execution_count": 8,
     "data": {
      "text/plain": "Name\nJacob    242874\nName: Count, dtype: int64"
     },
     "metadata": {}
    }
   ],
   "execution_count": null
  },
  {
   "cell_type": "markdown",
   "source": "### Step 10. How many different names have the least occurrences?",
   "metadata": {
    "id": "ZpU0NyCupGqg",
    "cell_id": "00018-42545eca-1441-4cc9-b276-77454a4cf343",
    "deepnote_cell_type": "markdown"
   }
  },
  {
   "cell_type": "code",
   "metadata": {
    "id": "go6FfD1FpGqg",
    "colab": {
     "base_uri": "https://localhost:8080/"
    },
    "executionInfo": {
     "status": "ok",
     "timestamp": 1623728851258,
     "user_tz": 240,
     "elapsed": 8,
     "user": {
      "displayName": "Andrés Sánchez",
      "photoUrl": "https://lh3.googleusercontent.com/a-/AOh14Gg69bZMv30ckb-T1MJy0nSxWIHUaP0p2uP6MYBuvQ=s64",
      "userId": "07985253921366566280"
     }
    },
    "outputId": "6eb5ddea-bea0-49a5-b358-8f80fb683308",
    "cell_id": "00019-80376cd2-3fdb-47d6-9d53-1ebc90bcffd1",
    "deepnote_to_be_reexecuted": false,
    "source_hash": "7094dcd3",
    "execution_start": 1630098243760,
    "execution_millis": 15,
    "deepnote_cell_type": "code"
   },
   "source": "names_count = names['Count'].sum().sort_values(ascending = False).to_frame()\nnames_count.loc[names_count['Count'] == names_count['Count'].min()].shape",
   "outputs": [
    {
     "output_type": "execute_result",
     "execution_count": 9,
     "data": {
      "text/plain": "(2578, 1)"
     },
     "metadata": {}
    }
   ],
   "execution_count": null
  },
  {
   "cell_type": "markdown",
   "source": "### Step 11. What is the median name occurrence?",
   "metadata": {
    "id": "A9iVLcu9pGqg",
    "cell_id": "00020-762853a0-06a9-48ea-94d0-a2af8074224e",
    "deepnote_cell_type": "markdown"
   }
  },
  {
   "cell_type": "code",
   "metadata": {
    "id": "puwHqNY5pGqg",
    "colab": {
     "base_uri": "https://localhost:8080/",
     "height": 1000
    },
    "executionInfo": {
     "status": "ok",
     "timestamp": 1623728851258,
     "user_tz": 240,
     "elapsed": 7,
     "user": {
      "displayName": "Andrés Sánchez",
      "photoUrl": "https://lh3.googleusercontent.com/a-/AOh14Gg69bZMv30ckb-T1MJy0nSxWIHUaP0p2uP6MYBuvQ=s64",
      "userId": "07985253921366566280"
     }
    },
    "outputId": "ba0976d2-1769-4ba2-e566-aba959b51a5d",
    "cell_id": "00021-98ef9d78-c36d-4d70-847e-02efb4b946db",
    "deepnote_to_be_reexecuted": false,
    "source_hash": "fc860e3b",
    "execution_start": 1630098243761,
    "execution_millis": 14,
    "deepnote_cell_type": "code"
   },
   "source": "names_count.loc[names_count['Count'] == names_count['Count'].median()]",
   "outputs": [
    {
     "output_type": "execute_result",
     "execution_count": 10,
     "data": {
      "application/vnd.deepnote.dataframe.v2+json": {
       "row_count": 66,
       "column_count": 1,
       "columns": [
        {
         "name": "Count",
         "dtype": "int64",
         "stats": {
          "unique_count": 1,
          "nan_count": 0,
          "min": "49",
          "max": "49",
          "histogram": [
           {
            "bin_start": 48.5,
            "bin_end": 48.6,
            "count": 0
           },
           {
            "bin_start": 48.6,
            "bin_end": 48.7,
            "count": 0
           },
           {
            "bin_start": 48.7,
            "bin_end": 48.8,
            "count": 0
           },
           {
            "bin_start": 48.8,
            "bin_end": 48.9,
            "count": 0
           },
           {
            "bin_start": 48.9,
            "bin_end": 49,
            "count": 0
           },
           {
            "bin_start": 49,
            "bin_end": 49.1,
            "count": 66
           },
           {
            "bin_start": 49.1,
            "bin_end": 49.2,
            "count": 0
           },
           {
            "bin_start": 49.2,
            "bin_end": 49.3,
            "count": 0
           },
           {
            "bin_start": 49.3,
            "bin_end": 49.4,
            "count": 0
           },
           {
            "bin_start": 49.4,
            "bin_end": 49.5,
            "count": 0
           }
          ]
         }
        },
        {
         "name": "_deepnote_index_column",
         "dtype": "object"
        }
       ],
       "rows_top": [
        {
         "Count": 49,
         "_deepnote_index_column": "Zuleima"
        },
        {
         "Count": 49,
         "_deepnote_index_column": "Vita"
        },
        {
         "Count": 49,
         "_deepnote_index_column": "Aziah"
        },
        {
         "Count": 49,
         "_deepnote_index_column": "Kaedence"
        },
        {
         "Count": 49,
         "_deepnote_index_column": "Antonina"
        },
        {
         "Count": 49,
         "_deepnote_index_column": "Nabeel"
        },
        {
         "Count": 49,
         "_deepnote_index_column": "Leylanie"
        },
        {
         "Count": 49,
         "_deepnote_index_column": "Mariann"
        },
        {
         "Count": 49,
         "_deepnote_index_column": "Iven"
        },
        {
         "Count": 49,
         "_deepnote_index_column": "Gurshaan"
        },
        {
         "Count": 49,
         "_deepnote_index_column": "Reghan"
        },
        {
         "Count": 49,
         "_deepnote_index_column": "Emmaly"
        },
        {
         "Count": 49,
         "_deepnote_index_column": "Kaelee"
        },
        {
         "Count": 49,
         "_deepnote_index_column": "Emmanuela"
        },
        {
         "Count": 49,
         "_deepnote_index_column": "Rubin"
        },
        {
         "Count": 49,
         "_deepnote_index_column": "Deserae"
        },
        {
         "Count": 49,
         "_deepnote_index_column": "Envy"
        },
        {
         "Count": 49,
         "_deepnote_index_column": "Baily"
        },
        {
         "Count": 49,
         "_deepnote_index_column": "Kaio"
        },
        {
         "Count": 49,
         "_deepnote_index_column": "Maisha"
        },
        {
         "Count": 49,
         "_deepnote_index_column": "Dahlila"
        },
        {
         "Count": 49,
         "_deepnote_index_column": "Alara"
        },
        {
         "Count": 49,
         "_deepnote_index_column": "Sanjuanita"
        },
        {
         "Count": 49,
         "_deepnote_index_column": "Jaiyana"
        },
        {
         "Count": 49,
         "_deepnote_index_column": "Fay"
        },
        {
         "Count": 49,
         "_deepnote_index_column": "Ridwan"
        },
        {
         "Count": 49,
         "_deepnote_index_column": "Devean"
        },
        {
         "Count": 49,
         "_deepnote_index_column": "Kailana"
        },
        {
         "Count": 49,
         "_deepnote_index_column": "Jaice"
        },
        {
         "Count": 49,
         "_deepnote_index_column": "Caleah"
        },
        {
         "Count": 49,
         "_deepnote_index_column": "Trinton"
        },
        {
         "Count": 49,
         "_deepnote_index_column": "Nishant"
        },
        {
         "Count": 49,
         "_deepnote_index_column": "Riot"
        },
        {
         "Count": 49,
         "_deepnote_index_column": "Malillany"
        },
        {
         "Count": 49,
         "_deepnote_index_column": "Jamiracle"
        },
        {
         "Count": 49,
         "_deepnote_index_column": "Esli"
        },
        {
         "Count": 49,
         "_deepnote_index_column": "Sameera"
        },
        {
         "Count": 49,
         "_deepnote_index_column": "Skylie"
        },
        {
         "Count": 49,
         "_deepnote_index_column": "Aishani"
        },
        {
         "Count": 49,
         "_deepnote_index_column": "Carlota"
        },
        {
         "Count": 49,
         "_deepnote_index_column": "Sriram"
        },
        {
         "Count": 49,
         "_deepnote_index_column": "Aveline"
        },
        {
         "Count": 49,
         "_deepnote_index_column": "Jeovany"
        },
        {
         "Count": 49,
         "_deepnote_index_column": "Elizah"
        },
        {
         "Count": 49,
         "_deepnote_index_column": "Jelissa"
        },
        {
         "Count": 49,
         "_deepnote_index_column": "Ameir"
        },
        {
         "Count": 49,
         "_deepnote_index_column": "Deante"
        },
        {
         "Count": 49,
         "_deepnote_index_column": "Nassir"
        },
        {
         "Count": 49,
         "_deepnote_index_column": "Cristine"
        },
        {
         "Count": 49,
         "_deepnote_index_column": "Darvin"
        },
        {
         "Count": 49,
         "_deepnote_index_column": "Nalleli"
        },
        {
         "Count": 49,
         "_deepnote_index_column": "Shalyn"
        },
        {
         "Count": 49,
         "_deepnote_index_column": "Kynsley"
        },
        {
         "Count": 49,
         "_deepnote_index_column": "Rebecka"
        },
        {
         "Count": 49,
         "_deepnote_index_column": "Alysse"
        },
        {
         "Count": 49,
         "_deepnote_index_column": "Maurilio"
        },
        {
         "Count": 49,
         "_deepnote_index_column": "Kyndle"
        },
        {
         "Count": 49,
         "_deepnote_index_column": "Marquell"
        },
        {
         "Count": 49,
         "_deepnote_index_column": "Anely"
        },
        {
         "Count": 49,
         "_deepnote_index_column": "Ryatt"
        },
        {
         "Count": 49,
         "_deepnote_index_column": "Mehdi"
        },
        {
         "Count": 49,
         "_deepnote_index_column": "Mckynzie"
        },
        {
         "Count": 49,
         "_deepnote_index_column": "Yoni"
        },
        {
         "Count": 49,
         "_deepnote_index_column": "Hareem"
        },
        {
         "Count": 49,
         "_deepnote_index_column": "Jkwon"
        },
        {
         "Count": 49,
         "_deepnote_index_column": "Nazier"
        }
       ],
       "rows_bottom": null
      },
      "text/plain": "          Count\nName           \nZuleima      49\nVita         49\nAziah        49\nKaedence     49\nAntonina     49\n...         ...\nMckynzie     49\nYoni         49\nHareem       49\nJkwon        49\nNazier       49\n\n[66 rows x 1 columns]",
      "text/html": "<div>\n<style scoped>\n    .dataframe tbody tr th:only-of-type {\n        vertical-align: middle;\n    }\n\n    .dataframe tbody tr th {\n        vertical-align: top;\n    }\n\n    .dataframe thead th {\n        text-align: right;\n    }\n</style>\n<table border=\"1\" class=\"dataframe\">\n  <thead>\n    <tr style=\"text-align: right;\">\n      <th></th>\n      <th>Count</th>\n    </tr>\n    <tr>\n      <th>Name</th>\n      <th></th>\n    </tr>\n  </thead>\n  <tbody>\n    <tr>\n      <th>Zuleima</th>\n      <td>49</td>\n    </tr>\n    <tr>\n      <th>Vita</th>\n      <td>49</td>\n    </tr>\n    <tr>\n      <th>Aziah</th>\n      <td>49</td>\n    </tr>\n    <tr>\n      <th>Kaedence</th>\n      <td>49</td>\n    </tr>\n    <tr>\n      <th>Antonina</th>\n      <td>49</td>\n    </tr>\n    <tr>\n      <th>...</th>\n      <td>...</td>\n    </tr>\n    <tr>\n      <th>Mckynzie</th>\n      <td>49</td>\n    </tr>\n    <tr>\n      <th>Yoni</th>\n      <td>49</td>\n    </tr>\n    <tr>\n      <th>Hareem</th>\n      <td>49</td>\n    </tr>\n    <tr>\n      <th>Jkwon</th>\n      <td>49</td>\n    </tr>\n    <tr>\n      <th>Nazier</th>\n      <td>49</td>\n    </tr>\n  </tbody>\n</table>\n<p>66 rows × 1 columns</p>\n</div>"
     },
     "metadata": {}
    }
   ],
   "execution_count": null
  },
  {
   "cell_type": "markdown",
   "source": "### Step 12. What is the standard deviation of names?",
   "metadata": {
    "id": "ce-F-9ecpGqg",
    "cell_id": "00022-31912633-b57f-4402-838d-e7f8263cd459",
    "deepnote_cell_type": "markdown"
   }
  },
  {
   "cell_type": "code",
   "metadata": {
    "id": "0ogRZ3dWpGqg",
    "colab": {
     "base_uri": "https://localhost:8080/"
    },
    "executionInfo": {
     "status": "ok",
     "timestamp": 1623728851258,
     "user_tz": 240,
     "elapsed": 6,
     "user": {
      "displayName": "Andrés Sánchez",
      "photoUrl": "https://lh3.googleusercontent.com/a-/AOh14Gg69bZMv30ckb-T1MJy0nSxWIHUaP0p2uP6MYBuvQ=s64",
      "userId": "07985253921366566280"
     }
    },
    "outputId": "eee6cd4b-c79d-4e3b-f9f2-cb8b578b2cec",
    "cell_id": "00023-a95b06bc-ca22-489e-90bc-3e9121e7b987",
    "deepnote_to_be_reexecuted": false,
    "source_hash": "c5adfb6b",
    "execution_start": 1630098243771,
    "execution_millis": 10,
    "deepnote_cell_type": "code"
   },
   "source": "names_count.Count.std()",
   "outputs": [
    {
     "output_type": "execute_result",
     "execution_count": 11,
     "data": {
      "text/plain": "11006.069467890571"
     },
     "metadata": {}
    }
   ],
   "execution_count": null
  },
  {
   "cell_type": "markdown",
   "source": "### Step 13. Get a summary with the mean, min, max, std and quartiles.",
   "metadata": {
    "id": "qP6ECXgipGqh",
    "cell_id": "00024-50ee1cc4-0bf1-4b1e-9d92-749cceb7b299",
    "deepnote_cell_type": "markdown"
   }
  },
  {
   "cell_type": "code",
   "metadata": {
    "id": "iBruBdPTpGqh",
    "colab": {
     "base_uri": "https://localhost:8080/",
     "height": 288
    },
    "executionInfo": {
     "status": "ok",
     "timestamp": 1623728870237,
     "user_tz": 240,
     "elapsed": 181,
     "user": {
      "displayName": "Andrés Sánchez",
      "photoUrl": "https://lh3.googleusercontent.com/a-/AOh14Gg69bZMv30ckb-T1MJy0nSxWIHUaP0p2uP6MYBuvQ=s64",
      "userId": "07985253921366566280"
     }
    },
    "outputId": "5afff408-9ee0-4f0f-afd6-b1bef4554820",
    "cell_id": "00025-01bdd8c5-55c4-4aec-9cdd-64091f392fbf",
    "deepnote_to_be_reexecuted": false,
    "source_hash": "83ed09b",
    "execution_start": 1630098243784,
    "execution_millis": 20,
    "deepnote_cell_type": "code"
   },
   "source": "names_count.describe()",
   "outputs": [
    {
     "output_type": "execute_result",
     "execution_count": 12,
     "data": {
      "application/vnd.deepnote.dataframe.v2+json": {
       "row_count": 8,
       "column_count": 1,
       "columns": [
        {
         "name": "Count",
         "dtype": "float64",
         "stats": {
          "unique_count": 8,
          "nan_count": 0,
          "min": "5.0",
          "max": "242874.0",
          "histogram": [
           {
            "bin_start": 5,
            "bin_end": 24291.9,
            "count": 7
           },
           {
            "bin_start": 24291.9,
            "bin_end": 48578.8,
            "count": 0
           },
           {
            "bin_start": 48578.8,
            "bin_end": 72865.70000000001,
            "count": 0
           },
           {
            "bin_start": 72865.70000000001,
            "bin_end": 97152.6,
            "count": 0
           },
           {
            "bin_start": 97152.6,
            "bin_end": 121439.5,
            "count": 0
           },
           {
            "bin_start": 121439.5,
            "bin_end": 145726.40000000002,
            "count": 0
           },
           {
            "bin_start": 145726.40000000002,
            "bin_end": 170013.30000000002,
            "count": 0
           },
           {
            "bin_start": 170013.30000000002,
            "bin_end": 194300.2,
            "count": 0
           },
           {
            "bin_start": 194300.2,
            "bin_end": 218587.1,
            "count": 0
           },
           {
            "bin_start": 218587.1,
            "bin_end": 242874,
            "count": 1
           }
          ]
         }
        },
        {
         "name": "_deepnote_index_column",
         "dtype": "object"
        }
       ],
       "rows_top": [
        {
         "Count": 17632,
         "_deepnote_index_column": "count"
        },
        {
         "Count": 2008.932168784029,
         "_deepnote_index_column": "mean"
        },
        {
         "Count": 11006.069467890571,
         "_deepnote_index_column": "std"
        },
        {
         "Count": 5,
         "_deepnote_index_column": "min"
        },
        {
         "Count": 11,
         "_deepnote_index_column": "25%"
        },
        {
         "Count": 49,
         "_deepnote_index_column": "50%"
        },
        {
         "Count": 337,
         "_deepnote_index_column": "75%"
        },
        {
         "Count": 242874,
         "_deepnote_index_column": "max"
        }
       ],
       "rows_bottom": null
      },
      "text/plain": "               Count\ncount   17632.000000\nmean     2008.932169\nstd     11006.069468\nmin         5.000000\n25%        11.000000\n50%        49.000000\n75%       337.000000\nmax    242874.000000",
      "text/html": "<div>\n<style scoped>\n    .dataframe tbody tr th:only-of-type {\n        vertical-align: middle;\n    }\n\n    .dataframe tbody tr th {\n        vertical-align: top;\n    }\n\n    .dataframe thead th {\n        text-align: right;\n    }\n</style>\n<table border=\"1\" class=\"dataframe\">\n  <thead>\n    <tr style=\"text-align: right;\">\n      <th></th>\n      <th>Count</th>\n    </tr>\n  </thead>\n  <tbody>\n    <tr>\n      <th>count</th>\n      <td>17632.000000</td>\n    </tr>\n    <tr>\n      <th>mean</th>\n      <td>2008.932169</td>\n    </tr>\n    <tr>\n      <th>std</th>\n      <td>11006.069468</td>\n    </tr>\n    <tr>\n      <th>min</th>\n      <td>5.000000</td>\n    </tr>\n    <tr>\n      <th>25%</th>\n      <td>11.000000</td>\n    </tr>\n    <tr>\n      <th>50%</th>\n      <td>49.000000</td>\n    </tr>\n    <tr>\n      <th>75%</th>\n      <td>337.000000</td>\n    </tr>\n    <tr>\n      <th>max</th>\n      <td>242874.000000</td>\n    </tr>\n  </tbody>\n</table>\n</div>"
     },
     "metadata": {}
    }
   ],
   "execution_count": null
  },
  {
   "cell_type": "markdown",
   "source": "<a style='text-decoration:none;line-height:16px;display:flex;color:#5B5B62;padding:10px;justify-content:end;' href='https://deepnote.com?utm_source=created-in-deepnote-cell&projectId=fe744348-fecc-4b7a-803c-44dba24ecb38' target=\"_blank\">\n<img alt='Created in deepnote.com' style='display:inline;max-height:16px;margin:0px;margin-right:7.5px;' src='data:image/svg+xml;base64,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' > </img>\nCreated in <span style='font-weight:600;margin-left:4px;'>Deepnote</span></a>",
   "metadata": {
    "tags": [],
    "created_in_deepnote_cell": true,
    "deepnote_cell_type": "markdown"
   }
  }
 ],
 "nbformat": 4,
 "nbformat_minor": 0,
 "metadata": {
  "anaconda-cloud": {},
  "kernelspec": {
   "display_name": "Python [default]",
   "language": "python",
   "name": "python2"
  },
  "language_info": {
   "codemirror_mode": {
    "name": "ipython",
    "version": 2
   },
   "file_extension": ".py",
   "mimetype": "text/x-python",
   "name": "python",
   "nbconvert_exporter": "python",
   "pygments_lexer": "ipython2",
   "version": "2.7.11"
  },
  "colab": {
   "name": "Exercises.ipynb",
   "provenance": [],
   "collapsed_sections": []
  },
  "deepnote_notebook_id": "f527d9f1-25a6-4245-a4da-e6ada9ea992b",
  "deepnote": {},
  "deepnote_execution_queue": []
 }
}
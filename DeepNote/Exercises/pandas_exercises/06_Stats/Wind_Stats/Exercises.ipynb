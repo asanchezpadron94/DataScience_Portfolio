{
 "cells": [
  {
   "cell_type": "markdown",
   "source": "# Wind Statistics",
   "metadata": {
    "id": "9ybSrFizdeHV",
    "cell_id": "00000-edaa64b5-bbe7-4679-9a87-fd016afa1e55",
    "deepnote_cell_type": "markdown"
   }
  },
  {
   "cell_type": "markdown",
   "source": "### Introduction:\n\nThe data have been modified to contain some missing values, identified by NaN.  \nUsing pandas should make this exercise\neasier, in particular for the bonus question.\n\nYou should be able to perform all of these operations without using\na for loop or other looping construct.\n\n\n1. The data in 'wind.data' has the following format:",
   "metadata": {
    "id": "ePGaAphIdeHW",
    "cell_id": "00001-2b532087-6d21-4fef-afe1-8846dbac9d84",
    "deepnote_cell_type": "markdown"
   }
  },
  {
   "cell_type": "code",
   "metadata": {
    "colab": {
     "base_uri": "https://localhost:8080/",
     "height": 53
    },
    "id": "DDC3MqLedeHX",
    "executionInfo": {
     "status": "ok",
     "timestamp": 1623812264357,
     "user_tz": 240,
     "elapsed": 422,
     "user": {
      "displayName": "Andrés Sánchez",
      "photoUrl": "https://lh3.googleusercontent.com/a-/AOh14Gg69bZMv30ckb-T1MJy0nSxWIHUaP0p2uP6MYBuvQ=s64",
      "userId": "07985253921366566280"
     }
    },
    "outputId": "d44a3ab5-e0c0-44a7-9108-2c2092963f35",
    "cell_id": "00002-7ffa56a0-d391-405d-817a-f906fd8e41e6",
    "deepnote_to_be_reexecuted": false,
    "source_hash": "b01b504",
    "execution_start": 1630098252343,
    "execution_millis": 18,
    "deepnote_cell_type": "code"
   },
   "source": "\"\"\"\nYr Mo Dy   RPT   VAL   ROS   KIL   SHA   BIR   DUB   CLA   MUL   CLO   BEL   MAL\n61  1  1 15.04 14.96 13.17  9.29   NaN  9.87 13.67 10.25 10.83 12.58 18.50 15.04\n61  1  2 14.71   NaN 10.83  6.50 12.62  7.67 11.50 10.04  9.79  9.67 17.54 13.83\n61  1  3 18.50 16.88 12.33 10.13 11.17  6.17 11.25   NaN  8.50  7.67 12.75 12.71\n\"\"\"",
   "execution_count": 1,
   "outputs": [
    {
     "output_type": "execute_result",
     "execution_count": 1,
     "data": {
      "text/plain": "'\\nYr Mo Dy   RPT   VAL   ROS   KIL   SHA   BIR   DUB   CLA   MUL   CLO   BEL   MAL\\n61  1  1 15.04 14.96 13.17  9.29   NaN  9.87 13.67 10.25 10.83 12.58 18.50 15.04\\n61  1  2 14.71   NaN 10.83  6.50 12.62  7.67 11.50 10.04  9.79  9.67 17.54 13.83\\n61  1  3 18.50 16.88 12.33 10.13 11.17  6.17 11.25   NaN  8.50  7.67 12.75 12.71\\n'"
     },
     "metadata": {}
    }
   ]
  },
  {
   "cell_type": "markdown",
   "source": "   The first three columns are year, month and day.  The\n   remaining 12 columns are average windspeeds in knots at 12\n   locations in Ireland on that day.   \n\n   More information about the dataset go [here](wind.desc).",
   "metadata": {
    "id": "s3zi3sqWdeHX",
    "cell_id": "00003-464001b9-9f61-4f43-b669-ff54eab79199",
    "deepnote_cell_type": "markdown"
   }
  },
  {
   "cell_type": "markdown",
   "source": "### Step 1. Import the necessary libraries",
   "metadata": {
    "collapsed": false,
    "id": "qkf66BeQdeHY",
    "cell_id": "00004-a03625fe-2a8e-41a2-a26a-54754a34771f",
    "deepnote_cell_type": "markdown"
   }
  },
  {
   "cell_type": "code",
   "metadata": {
    "id": "fo_hQwhodeHY",
    "executionInfo": {
     "status": "ok",
     "timestamp": 1623812264805,
     "user_tz": 240,
     "elapsed": 14,
     "user": {
      "displayName": "Andrés Sánchez",
      "photoUrl": "https://lh3.googleusercontent.com/a-/AOh14Gg69bZMv30ckb-T1MJy0nSxWIHUaP0p2uP6MYBuvQ=s64",
      "userId": "07985253921366566280"
     }
    },
    "cell_id": "00005-c99dd215-ad41-4a17-bce9-e8c4c66a00b2",
    "deepnote_to_be_reexecuted": false,
    "source_hash": "c76c7c51",
    "execution_start": 1630098252355,
    "execution_millis": 2,
    "deepnote_cell_type": "code"
   },
   "source": "import pandas as pd\nimport numpy as np",
   "execution_count": 2,
   "outputs": []
  },
  {
   "cell_type": "markdown",
   "source": "### Step 2. Import the dataset from this [address](https://raw.githubusercontent.com/guipsamora/pandas_exercises/master/06_Stats/Wind_Stats/wind.data)",
   "metadata": {
    "id": "zzfo7ifbdeHY",
    "cell_id": "00006-54bf1d21-d3e4-42e2-93c8-d51b693a027e",
    "deepnote_cell_type": "markdown"
   }
  },
  {
   "cell_type": "markdown",
   "source": "### Step 3. Assign it to a variable called data and replace the first 3 columns by a proper datetime index.",
   "metadata": {
    "id": "U_7MhuFVdeHY",
    "cell_id": "00007-b22ad3e0-9a9c-4744-a5b4-248d7f3cab7d",
    "deepnote_cell_type": "markdown"
   }
  },
  {
   "cell_type": "code",
   "metadata": {
    "colab": {
     "base_uri": "https://localhost:8080/",
     "height": 348
    },
    "id": "HhkB_zM2deHY",
    "executionInfo": {
     "status": "ok",
     "timestamp": 1623812264806,
     "user_tz": 240,
     "elapsed": 13,
     "user": {
      "displayName": "Andrés Sánchez",
      "photoUrl": "https://lh3.googleusercontent.com/a-/AOh14Gg69bZMv30ckb-T1MJy0nSxWIHUaP0p2uP6MYBuvQ=s64",
      "userId": "07985253921366566280"
     }
    },
    "outputId": "3d81ab24-8485-4cb4-d45c-b529a138c351",
    "cell_id": "00008-e2b94344-3a88-4359-9d29-aa81f6992b82",
    "deepnote_to_be_reexecuted": false,
    "source_hash": "e66d6c3a",
    "execution_start": 1630098252363,
    "execution_millis": 208,
    "deepnote_cell_type": "code"
   },
   "source": "data = pd.read_csv('https://raw.githubusercontent.com/guipsamora/pandas_exercises/master/06_Stats/Wind_Stats/wind.data', sep = '\\s+')\ndata['date'] = '19' + data['Yr'].apply(str) + '/' + data['Mo'].apply(str) + '/' + data['Dy'].apply(str)\ndata['date'] = pd.to_datetime(data['date'], format = '%Y/%m/%d')\ndata.head(10)",
   "execution_count": 3,
   "outputs": [
    {
     "output_type": "execute_result",
     "execution_count": 3,
     "data": {
      "application/vnd.deepnote.dataframe.v2+json": {
       "row_count": 10,
       "column_count": 16,
       "columns": [
        {
         "name": "Yr",
         "dtype": "int64",
         "stats": {
          "unique_count": 1,
          "nan_count": 0,
          "min": "61",
          "max": "61",
          "histogram": [
           {
            "bin_start": 60.5,
            "bin_end": 60.6,
            "count": 0
           },
           {
            "bin_start": 60.6,
            "bin_end": 60.7,
            "count": 0
           },
           {
            "bin_start": 60.7,
            "bin_end": 60.8,
            "count": 0
           },
           {
            "bin_start": 60.8,
            "bin_end": 60.9,
            "count": 0
           },
           {
            "bin_start": 60.9,
            "bin_end": 61,
            "count": 0
           },
           {
            "bin_start": 61,
            "bin_end": 61.1,
            "count": 10
           },
           {
            "bin_start": 61.1,
            "bin_end": 61.2,
            "count": 0
           },
           {
            "bin_start": 61.2,
            "bin_end": 61.3,
            "count": 0
           },
           {
            "bin_start": 61.3,
            "bin_end": 61.4,
            "count": 0
           },
           {
            "bin_start": 61.4,
            "bin_end": 61.5,
            "count": 0
           }
          ]
         }
        },
        {
         "name": "Mo",
         "dtype": "int64",
         "stats": {
          "unique_count": 1,
          "nan_count": 0,
          "min": "1",
          "max": "1",
          "histogram": [
           {
            "bin_start": 0.5,
            "bin_end": 0.6,
            "count": 0
           },
           {
            "bin_start": 0.6,
            "bin_end": 0.7,
            "count": 0
           },
           {
            "bin_start": 0.7,
            "bin_end": 0.8,
            "count": 0
           },
           {
            "bin_start": 0.8,
            "bin_end": 0.9,
            "count": 0
           },
           {
            "bin_start": 0.9,
            "bin_end": 1,
            "count": 0
           },
           {
            "bin_start": 1,
            "bin_end": 1.1,
            "count": 10
           },
           {
            "bin_start": 1.1,
            "bin_end": 1.2000000000000002,
            "count": 0
           },
           {
            "bin_start": 1.2000000000000002,
            "bin_end": 1.3,
            "count": 0
           },
           {
            "bin_start": 1.3,
            "bin_end": 1.4,
            "count": 0
           },
           {
            "bin_start": 1.4,
            "bin_end": 1.5,
            "count": 0
           }
          ]
         }
        },
        {
         "name": "Dy",
         "dtype": "int64",
         "stats": {
          "unique_count": 10,
          "nan_count": 0,
          "min": "1",
          "max": "10",
          "histogram": [
           {
            "bin_start": 1,
            "bin_end": 1.9,
            "count": 1
           },
           {
            "bin_start": 1.9,
            "bin_end": 2.8,
            "count": 1
           },
           {
            "bin_start": 2.8,
            "bin_end": 3.7,
            "count": 1
           },
           {
            "bin_start": 3.7,
            "bin_end": 4.6,
            "count": 1
           },
           {
            "bin_start": 4.6,
            "bin_end": 5.5,
            "count": 1
           },
           {
            "bin_start": 5.5,
            "bin_end": 6.4,
            "count": 1
           },
           {
            "bin_start": 6.4,
            "bin_end": 7.3,
            "count": 1
           },
           {
            "bin_start": 7.3,
            "bin_end": 8.2,
            "count": 1
           },
           {
            "bin_start": 8.2,
            "bin_end": 9.1,
            "count": 1
           },
           {
            "bin_start": 9.1,
            "bin_end": 10,
            "count": 1
           }
          ]
         }
        },
        {
         "name": "RPT",
         "dtype": "float64",
         "stats": {
          "unique_count": 10,
          "nan_count": 0,
          "min": "10.58",
          "max": "18.5",
          "histogram": [
           {
            "bin_start": 10.58,
            "bin_end": 11.372,
            "count": 2
           },
           {
            "bin_start": 11.372,
            "bin_end": 12.164,
            "count": 0
           },
           {
            "bin_start": 12.164,
            "bin_end": 12.956,
            "count": 1
           },
           {
            "bin_start": 12.956,
            "bin_end": 13.748000000000001,
            "count": 4
           },
           {
            "bin_start": 13.748000000000001,
            "bin_end": 14.54,
            "count": 0
           },
           {
            "bin_start": 14.54,
            "bin_end": 15.332,
            "count": 2
           },
           {
            "bin_start": 15.332,
            "bin_end": 16.124000000000002,
            "count": 0
           },
           {
            "bin_start": 16.124000000000002,
            "bin_end": 16.916,
            "count": 0
           },
           {
            "bin_start": 16.916,
            "bin_end": 17.708,
            "count": 0
           },
           {
            "bin_start": 17.708,
            "bin_end": 18.5,
            "count": 1
           }
          ]
         }
        },
        {
         "name": "VAL",
         "dtype": "float64",
         "stats": {
          "unique_count": 9,
          "nan_count": 1,
          "min": "6.63",
          "max": "16.88",
          "histogram": [
           {
            "bin_start": 6.63,
            "bin_end": 7.654999999999999,
            "count": 1
           },
           {
            "bin_start": 7.654999999999999,
            "bin_end": 8.68,
            "count": 1
           },
           {
            "bin_start": 8.68,
            "bin_end": 9.705,
            "count": 0
           },
           {
            "bin_start": 9.705,
            "bin_end": 10.73,
            "count": 1
           },
           {
            "bin_start": 10.73,
            "bin_end": 11.754999999999999,
            "count": 2
           },
           {
            "bin_start": 11.754999999999999,
            "bin_end": 12.78,
            "count": 0
           },
           {
            "bin_start": 12.78,
            "bin_end": 13.805,
            "count": 1
           },
           {
            "bin_start": 13.805,
            "bin_end": 14.829999999999998,
            "count": 1
           },
           {
            "bin_start": 14.829999999999998,
            "bin_end": 15.855,
            "count": 1
           },
           {
            "bin_start": 15.855,
            "bin_end": 16.88,
            "count": 1
           }
          ]
         }
        },
        {
         "name": "ROS",
         "dtype": "float64",
         "stats": {
          "unique_count": 10,
          "nan_count": 0,
          "min": "7.62",
          "max": "19.5",
          "histogram": [
           {
            "bin_start": 7.62,
            "bin_end": 8.808,
            "count": 1
           },
           {
            "bin_start": 8.808,
            "bin_end": 9.996,
            "count": 2
           },
           {
            "bin_start": 9.996,
            "bin_end": 11.184000000000001,
            "count": 2
           },
           {
            "bin_start": 11.184000000000001,
            "bin_end": 12.372,
            "count": 3
           },
           {
            "bin_start": 12.372,
            "bin_end": 13.559999999999999,
            "count": 1
           },
           {
            "bin_start": 13.559999999999999,
            "bin_end": 14.748000000000001,
            "count": 0
           },
           {
            "bin_start": 14.748000000000001,
            "bin_end": 15.936,
            "count": 0
           },
           {
            "bin_start": 15.936,
            "bin_end": 17.124,
            "count": 0
           },
           {
            "bin_start": 17.124,
            "bin_end": 18.312,
            "count": 0
           },
           {
            "bin_start": 18.312,
            "bin_end": 19.5,
            "count": 1
           }
          ]
         }
        },
        {
         "name": "KIL",
         "dtype": "float64",
         "stats": {
          "unique_count": 10,
          "nan_count": 0,
          "min": "4.58",
          "max": "10.13",
          "histogram": [
           {
            "bin_start": 4.58,
            "bin_end": 5.135,
            "count": 3
           },
           {
            "bin_start": 5.135,
            "bin_end": 5.69,
            "count": 0
           },
           {
            "bin_start": 5.69,
            "bin_end": 6.245,
            "count": 2
           },
           {
            "bin_start": 6.245,
            "bin_end": 6.800000000000001,
            "count": 2
           },
           {
            "bin_start": 6.800000000000001,
            "bin_end": 7.355,
            "count": 0
           },
           {
            "bin_start": 7.355,
            "bin_end": 7.91,
            "count": 0
           },
           {
            "bin_start": 7.91,
            "bin_end": 8.465,
            "count": 1
           },
           {
            "bin_start": 8.465,
            "bin_end": 9.02,
            "count": 0
           },
           {
            "bin_start": 9.02,
            "bin_end": 9.575,
            "count": 1
           },
           {
            "bin_start": 9.575,
            "bin_end": 10.13,
            "count": 1
           }
          ]
         }
        },
        {
         "name": "SHA",
         "dtype": "float64",
         "stats": {
          "unique_count": 9,
          "nan_count": 1,
          "min": "4.54",
          "max": "12.62",
          "histogram": [
           {
            "bin_start": 4.54,
            "bin_end": 5.348,
            "count": 1
           },
           {
            "bin_start": 5.348,
            "bin_end": 6.156,
            "count": 1
           },
           {
            "bin_start": 6.156,
            "bin_end": 6.9639999999999995,
            "count": 0
           },
           {
            "bin_start": 6.9639999999999995,
            "bin_end": 7.771999999999999,
            "count": 0
           },
           {
            "bin_start": 7.771999999999999,
            "bin_end": 8.579999999999998,
            "count": 0
           },
           {
            "bin_start": 8.579999999999998,
            "bin_end": 9.387999999999998,
            "count": 0
           },
           {
            "bin_start": 9.387999999999998,
            "bin_end": 10.195999999999998,
            "count": 2
           },
           {
            "bin_start": 10.195999999999998,
            "bin_end": 11.003999999999998,
            "count": 2
           },
           {
            "bin_start": 11.003999999999998,
            "bin_end": 11.811999999999998,
            "count": 1
           },
           {
            "bin_start": 11.811999999999998,
            "bin_end": 12.62,
            "count": 2
           }
          ]
         }
        },
        {
         "name": "BIR",
         "dtype": "float64",
         "stats": {
          "unique_count": 10,
          "nan_count": 0,
          "min": "2.88",
          "max": "9.87",
          "histogram": [
           {
            "bin_start": 2.88,
            "bin_end": 3.5789999999999997,
            "count": 1
           },
           {
            "bin_start": 3.5789999999999997,
            "bin_end": 4.278,
            "count": 0
           },
           {
            "bin_start": 4.278,
            "bin_end": 4.977,
            "count": 1
           },
           {
            "bin_start": 4.977,
            "bin_end": 5.676,
            "count": 0
           },
           {
            "bin_start": 5.676,
            "bin_end": 6.375,
            "count": 1
           },
           {
            "bin_start": 6.375,
            "bin_end": 7.074,
            "count": 2
           },
           {
            "bin_start": 7.074,
            "bin_end": 7.773,
            "count": 2
           },
           {
            "bin_start": 7.773,
            "bin_end": 8.472,
            "count": 2
           },
           {
            "bin_start": 8.472,
            "bin_end": 9.171,
            "count": 0
           },
           {
            "bin_start": 9.171,
            "bin_end": 9.87,
            "count": 1
           }
          ]
         }
        },
        {
         "name": "DUB",
         "dtype": "float64",
         "stats": {
          "unique_count": 10,
          "nan_count": 0,
          "min": "8.04",
          "max": "14.29",
          "histogram": [
           {
            "bin_start": 8.04,
            "bin_end": 8.665,
            "count": 2
           },
           {
            "bin_start": 8.665,
            "bin_end": 9.29,
            "count": 1
           },
           {
            "bin_start": 9.29,
            "bin_end": 9.915,
            "count": 0
           },
           {
            "bin_start": 9.915,
            "bin_end": 10.54,
            "count": 0
           },
           {
            "bin_start": 10.54,
            "bin_end": 11.165,
            "count": 1
           },
           {
            "bin_start": 11.165,
            "bin_end": 11.79,
            "count": 3
           },
           {
            "bin_start": 11.79,
            "bin_end": 12.415,
            "count": 1
           },
           {
            "bin_start": 12.415,
            "bin_end": 13.04,
            "count": 0
           },
           {
            "bin_start": 13.04,
            "bin_end": 13.665,
            "count": 0
           },
           {
            "bin_start": 13.665,
            "bin_end": 14.29,
            "count": 2
           }
          ]
         }
        },
        {
         "name": "CLA",
         "dtype": "float64",
         "stats": {
          "unique_count": 9,
          "nan_count": 1,
          "min": "1.79",
          "max": "10.25",
          "histogram": [
           {
            "bin_start": 1.79,
            "bin_end": 2.636,
            "count": 1
           },
           {
            "bin_start": 2.636,
            "bin_end": 3.482,
            "count": 0
           },
           {
            "bin_start": 3.482,
            "bin_end": 4.328,
            "count": 0
           },
           {
            "bin_start": 4.328,
            "bin_end": 5.174,
            "count": 1
           },
           {
            "bin_start": 5.174,
            "bin_end": 6.0200000000000005,
            "count": 0
           },
           {
            "bin_start": 6.0200000000000005,
            "bin_end": 6.8660000000000005,
            "count": 1
           },
           {
            "bin_start": 6.8660000000000005,
            "bin_end": 7.712000000000001,
            "count": 1
           },
           {
            "bin_start": 7.712000000000001,
            "bin_end": 8.558,
            "count": 1
           },
           {
            "bin_start": 8.558,
            "bin_end": 9.404,
            "count": 1
           },
           {
            "bin_start": 9.404,
            "bin_end": 10.25,
            "count": 3
           }
          ]
         }
        },
        {
         "name": "MUL",
         "dtype": "float64",
         "stats": {
          "unique_count": 10,
          "nan_count": 0,
          "min": "5.83",
          "max": "10.92",
          "histogram": [
           {
            "bin_start": 5.83,
            "bin_end": 6.339,
            "count": 1
           },
           {
            "bin_start": 6.339,
            "bin_end": 6.848,
            "count": 0
           },
           {
            "bin_start": 6.848,
            "bin_end": 7.357,
            "count": 1
           },
           {
            "bin_start": 7.357,
            "bin_end": 7.866,
            "count": 2
           },
           {
            "bin_start": 7.866,
            "bin_end": 8.375,
            "count": 0
           },
           {
            "bin_start": 8.375,
            "bin_end": 8.884,
            "count": 2
           },
           {
            "bin_start": 8.884,
            "bin_end": 9.393,
            "count": 1
           },
           {
            "bin_start": 9.393,
            "bin_end": 9.902000000000001,
            "count": 1
           },
           {
            "bin_start": 9.902000000000001,
            "bin_end": 10.411000000000001,
            "count": 0
           },
           {
            "bin_start": 10.411000000000001,
            "bin_end": 10.92,
            "count": 2
           }
          ]
         }
        },
        {
         "name": "CLO",
         "dtype": "float64",
         "stats": {
          "unique_count": 10,
          "nan_count": 0,
          "min": "5.88",
          "max": "12.58",
          "histogram": [
           {
            "bin_start": 5.88,
            "bin_end": 6.55,
            "count": 1
           },
           {
            "bin_start": 6.55,
            "bin_end": 7.22,
            "count": 0
           },
           {
            "bin_start": 7.22,
            "bin_end": 7.890000000000001,
            "count": 2
           },
           {
            "bin_start": 7.890000000000001,
            "bin_end": 8.56,
            "count": 1
           },
           {
            "bin_start": 8.56,
            "bin_end": 9.23,
            "count": 2
           },
           {
            "bin_start": 9.23,
            "bin_end": 9.9,
            "count": 1
           },
           {
            "bin_start": 9.9,
            "bin_end": 10.57,
            "count": 2
           },
           {
            "bin_start": 10.57,
            "bin_end": 11.24,
            "count": 0
           },
           {
            "bin_start": 11.24,
            "bin_end": 11.91,
            "count": 0
           },
           {
            "bin_start": 11.91,
            "bin_end": 12.58,
            "count": 1
           }
          ]
         }
        },
        {
         "name": "BEL",
         "dtype": "float64",
         "stats": {
          "unique_count": 10,
          "nan_count": 0,
          "min": "5.46",
          "max": "18.5",
          "histogram": [
           {
            "bin_start": 5.46,
            "bin_end": 6.763999999999999,
            "count": 1
           },
           {
            "bin_start": 6.763999999999999,
            "bin_end": 8.068,
            "count": 0
           },
           {
            "bin_start": 8.068,
            "bin_end": 9.372,
            "count": 2
           },
           {
            "bin_start": 9.372,
            "bin_end": 10.675999999999998,
            "count": 0
           },
           {
            "bin_start": 10.675999999999998,
            "bin_end": 11.98,
            "count": 0
           },
           {
            "bin_start": 11.98,
            "bin_end": 13.283999999999999,
            "count": 3
           },
           {
            "bin_start": 13.283999999999999,
            "bin_end": 14.587999999999997,
            "count": 1
           },
           {
            "bin_start": 14.587999999999997,
            "bin_end": 15.892,
            "count": 0
           },
           {
            "bin_start": 15.892,
            "bin_end": 17.195999999999998,
            "count": 1
           },
           {
            "bin_start": 17.195999999999998,
            "bin_end": 18.5,
            "count": 2
           }
          ]
         }
        },
        {
         "name": "MAL",
         "dtype": "float64",
         "stats": {
          "unique_count": 9,
          "nan_count": 0,
          "min": "10.88",
          "max": "16.46",
          "histogram": [
           {
            "bin_start": 10.88,
            "bin_end": 11.438,
            "count": 1
           },
           {
            "bin_start": 11.438,
            "bin_end": 11.996,
            "count": 2
           },
           {
            "bin_start": 11.996,
            "bin_end": 12.554,
            "count": 0
           },
           {
            "bin_start": 12.554,
            "bin_end": 13.112000000000002,
            "count": 1
           },
           {
            "bin_start": 13.112000000000002,
            "bin_end": 13.670000000000002,
            "count": 1
           },
           {
            "bin_start": 13.670000000000002,
            "bin_end": 14.228000000000002,
            "count": 2
           },
           {
            "bin_start": 14.228000000000002,
            "bin_end": 14.786000000000001,
            "count": 0
           },
           {
            "bin_start": 14.786000000000001,
            "bin_end": 15.344000000000001,
            "count": 1
           },
           {
            "bin_start": 15.344000000000001,
            "bin_end": 15.902000000000001,
            "count": 1
           },
           {
            "bin_start": 15.902000000000001,
            "bin_end": 16.46,
            "count": 1
           }
          ]
         }
        },
        {
         "name": "date",
         "dtype": "datetime64[ns]",
         "stats": {
          "unique_count": 10,
          "nan_count": 0,
          "min": "1961-01-01 00:00:00",
          "max": "1961-01-10 00:00:00",
          "histogram": [
           {
            "bin_start": -283996800000000000,
            "bin_end": -283919040000000000,
            "count": 1
           },
           {
            "bin_start": -283919040000000000,
            "bin_end": -283841280000000000,
            "count": 1
           },
           {
            "bin_start": -283841280000000000,
            "bin_end": -283763520000000000,
            "count": 1
           },
           {
            "bin_start": -283763520000000000,
            "bin_end": -283685760000000000,
            "count": 1
           },
           {
            "bin_start": -283685760000000000,
            "bin_end": -283608000000000000,
            "count": 1
           },
           {
            "bin_start": -283608000000000000,
            "bin_end": -283530240000000000,
            "count": 1
           },
           {
            "bin_start": -283530240000000000,
            "bin_end": -283452480000000000,
            "count": 1
           },
           {
            "bin_start": -283452480000000000,
            "bin_end": -283374720000000000,
            "count": 1
           },
           {
            "bin_start": -283374720000000000,
            "bin_end": -283296960000000000,
            "count": 1
           },
           {
            "bin_start": -283296960000000000,
            "bin_end": -283219200000000000,
            "count": 1
           }
          ]
         }
        },
        {
         "name": "_deepnote_index_column",
         "dtype": "int64"
        }
       ],
       "rows_top": [
        {
         "Yr": 61,
         "Mo": 1,
         "Dy": 1,
         "RPT": 15.04,
         "VAL": 14.96,
         "ROS": 13.17,
         "KIL": 9.29,
         "SHA": "nan",
         "BIR": 9.87,
         "DUB": 13.67,
         "CLA": 10.25,
         "MUL": 10.83,
         "CLO": 12.58,
         "BEL": 18.5,
         "MAL": 15.04,
         "date": "1961-01-01T00:00:00.000000",
         "_deepnote_index_column": 0
        },
        {
         "Yr": 61,
         "Mo": 1,
         "Dy": 2,
         "RPT": 14.71,
         "VAL": "nan",
         "ROS": 10.83,
         "KIL": 6.5,
         "SHA": 12.62,
         "BIR": 7.67,
         "DUB": 11.5,
         "CLA": 10.04,
         "MUL": 9.79,
         "CLO": 9.67,
         "BEL": 17.54,
         "MAL": 13.83,
         "date": "1961-01-02T00:00:00.000000",
         "_deepnote_index_column": 1
        },
        {
         "Yr": 61,
         "Mo": 1,
         "Dy": 3,
         "RPT": 18.5,
         "VAL": 16.88,
         "ROS": 12.33,
         "KIL": 10.13,
         "SHA": 11.17,
         "BIR": 6.17,
         "DUB": 11.25,
         "CLA": "nan",
         "MUL": 8.5,
         "CLO": 7.67,
         "BEL": 12.75,
         "MAL": 12.71,
         "date": "1961-01-03T00:00:00.000000",
         "_deepnote_index_column": 2
        },
        {
         "Yr": 61,
         "Mo": 1,
         "Dy": 4,
         "RPT": 10.58,
         "VAL": 6.63,
         "ROS": 11.75,
         "KIL": 4.58,
         "SHA": 4.54,
         "BIR": 2.88,
         "DUB": 8.63,
         "CLA": 1.79,
         "MUL": 5.83,
         "CLO": 5.88,
         "BEL": 5.46,
         "MAL": 10.88,
         "date": "1961-01-04T00:00:00.000000",
         "_deepnote_index_column": 3
        },
        {
         "Yr": 61,
         "Mo": 1,
         "Dy": 5,
         "RPT": 13.33,
         "VAL": 13.25,
         "ROS": 11.42,
         "KIL": 6.17,
         "SHA": 10.71,
         "BIR": 8.21,
         "DUB": 11.92,
         "CLA": 6.54,
         "MUL": 10.92,
         "CLO": 10.34,
         "BEL": 12.92,
         "MAL": 11.83,
         "date": "1961-01-05T00:00:00.000000",
         "_deepnote_index_column": 4
        },
        {
         "Yr": 61,
         "Mo": 1,
         "Dy": 6,
         "RPT": 13.21,
         "VAL": 8.12,
         "ROS": 9.96,
         "KIL": 6.67,
         "SHA": 5.37,
         "BIR": 4.5,
         "DUB": 10.67,
         "CLA": 4.42,
         "MUL": 7.17,
         "CLO": 7.5,
         "BEL": 8.12,
         "MAL": 13.17,
         "date": "1961-01-06T00:00:00.000000",
         "_deepnote_index_column": 5
        },
        {
         "Yr": 61,
         "Mo": 1,
         "Dy": 7,
         "RPT": 13.5,
         "VAL": 14.29,
         "ROS": 9.5,
         "KIL": 4.96,
         "SHA": 12.29,
         "BIR": 8.33,
         "DUB": 9.17,
         "CLA": 9.29,
         "MUL": 7.58,
         "CLO": 7.96,
         "BEL": 13.96,
         "MAL": 13.79,
         "date": "1961-01-07T00:00:00.000000",
         "_deepnote_index_column": 6
        },
        {
         "Yr": 61,
         "Mo": 1,
         "Dy": 8,
         "RPT": 10.96,
         "VAL": 9.75,
         "ROS": 7.62,
         "KIL": 5.91,
         "SHA": 9.62,
         "BIR": 7.29,
         "DUB": 14.29,
         "CLA": 7.62,
         "MUL": 9.25,
         "CLO": 10.46,
         "BEL": 16.62,
         "MAL": 16.46,
         "date": "1961-01-08T00:00:00.000000",
         "_deepnote_index_column": 7
        },
        {
         "Yr": 61,
         "Mo": 1,
         "Dy": 9,
         "RPT": 12.58,
         "VAL": 10.83,
         "ROS": 10,
         "KIL": 4.75,
         "SHA": 10.37,
         "BIR": 6.79,
         "DUB": 8.04,
         "CLA": 10.13,
         "MUL": 7.79,
         "CLO": 9.08,
         "BEL": 13.04,
         "MAL": 15.37,
         "date": "1961-01-09T00:00:00.000000",
         "_deepnote_index_column": 8
        },
        {
         "Yr": 61,
         "Mo": 1,
         "Dy": 10,
         "RPT": 13.37,
         "VAL": 11.12,
         "ROS": 19.5,
         "KIL": 8.33,
         "SHA": 9.71,
         "BIR": 6.54,
         "DUB": 11.42,
         "CLA": 7.79,
         "MUL": 8.54,
         "CLO": 9,
         "BEL": 8.58,
         "MAL": 11.83,
         "date": "1961-01-10T00:00:00.000000",
         "_deepnote_index_column": 9
        }
       ],
       "rows_bottom": null
      },
      "text/plain": "   Yr  Mo  Dy    RPT    VAL    ROS    KIL    SHA   BIR    DUB    CLA    MUL  \\\n0  61   1   1  15.04  14.96  13.17   9.29    NaN  9.87  13.67  10.25  10.83   \n1  61   1   2  14.71    NaN  10.83   6.50  12.62  7.67  11.50  10.04   9.79   \n2  61   1   3  18.50  16.88  12.33  10.13  11.17  6.17  11.25    NaN   8.50   \n3  61   1   4  10.58   6.63  11.75   4.58   4.54  2.88   8.63   1.79   5.83   \n4  61   1   5  13.33  13.25  11.42   6.17  10.71  8.21  11.92   6.54  10.92   \n5  61   1   6  13.21   8.12   9.96   6.67   5.37  4.50  10.67   4.42   7.17   \n6  61   1   7  13.50  14.29   9.50   4.96  12.29  8.33   9.17   9.29   7.58   \n7  61   1   8  10.96   9.75   7.62   5.91   9.62  7.29  14.29   7.62   9.25   \n8  61   1   9  12.58  10.83  10.00   4.75  10.37  6.79   8.04  10.13   7.79   \n9  61   1  10  13.37  11.12  19.50   8.33   9.71  6.54  11.42   7.79   8.54   \n\n     CLO    BEL    MAL       date  \n0  12.58  18.50  15.04 1961-01-01  \n1   9.67  17.54  13.83 1961-01-02  \n2   7.67  12.75  12.71 1961-01-03  \n3   5.88   5.46  10.88 1961-01-04  \n4  10.34  12.92  11.83 1961-01-05  \n5   7.50   8.12  13.17 1961-01-06  \n6   7.96  13.96  13.79 1961-01-07  \n7  10.46  16.62  16.46 1961-01-08  \n8   9.08  13.04  15.37 1961-01-09  \n9   9.00   8.58  11.83 1961-01-10  ",
      "text/html": "<div>\n<style scoped>\n    .dataframe tbody tr th:only-of-type {\n        vertical-align: middle;\n    }\n\n    .dataframe tbody tr th {\n        vertical-align: top;\n    }\n\n    .dataframe thead th {\n        text-align: right;\n    }\n</style>\n<table border=\"1\" class=\"dataframe\">\n  <thead>\n    <tr style=\"text-align: right;\">\n      <th></th>\n      <th>Yr</th>\n      <th>Mo</th>\n      <th>Dy</th>\n      <th>RPT</th>\n      <th>VAL</th>\n      <th>ROS</th>\n      <th>KIL</th>\n      <th>SHA</th>\n      <th>BIR</th>\n      <th>DUB</th>\n      <th>CLA</th>\n      <th>MUL</th>\n      <th>CLO</th>\n      <th>BEL</th>\n      <th>MAL</th>\n      <th>date</th>\n    </tr>\n  </thead>\n  <tbody>\n    <tr>\n      <th>0</th>\n      <td>61</td>\n      <td>1</td>\n      <td>1</td>\n      <td>15.04</td>\n      <td>14.96</td>\n      <td>13.17</td>\n      <td>9.29</td>\n      <td>NaN</td>\n      <td>9.87</td>\n      <td>13.67</td>\n      <td>10.25</td>\n      <td>10.83</td>\n      <td>12.58</td>\n      <td>18.50</td>\n      <td>15.04</td>\n      <td>1961-01-01</td>\n    </tr>\n    <tr>\n      <th>1</th>\n      <td>61</td>\n      <td>1</td>\n      <td>2</td>\n      <td>14.71</td>\n      <td>NaN</td>\n      <td>10.83</td>\n      <td>6.50</td>\n      <td>12.62</td>\n      <td>7.67</td>\n      <td>11.50</td>\n      <td>10.04</td>\n      <td>9.79</td>\n      <td>9.67</td>\n      <td>17.54</td>\n      <td>13.83</td>\n      <td>1961-01-02</td>\n    </tr>\n    <tr>\n      <th>2</th>\n      <td>61</td>\n      <td>1</td>\n      <td>3</td>\n      <td>18.50</td>\n      <td>16.88</td>\n      <td>12.33</td>\n      <td>10.13</td>\n      <td>11.17</td>\n      <td>6.17</td>\n      <td>11.25</td>\n      <td>NaN</td>\n      <td>8.50</td>\n      <td>7.67</td>\n      <td>12.75</td>\n      <td>12.71</td>\n      <td>1961-01-03</td>\n    </tr>\n    <tr>\n      <th>3</th>\n      <td>61</td>\n      <td>1</td>\n      <td>4</td>\n      <td>10.58</td>\n      <td>6.63</td>\n      <td>11.75</td>\n      <td>4.58</td>\n      <td>4.54</td>\n      <td>2.88</td>\n      <td>8.63</td>\n      <td>1.79</td>\n      <td>5.83</td>\n      <td>5.88</td>\n      <td>5.46</td>\n      <td>10.88</td>\n      <td>1961-01-04</td>\n    </tr>\n    <tr>\n      <th>4</th>\n      <td>61</td>\n      <td>1</td>\n      <td>5</td>\n      <td>13.33</td>\n      <td>13.25</td>\n      <td>11.42</td>\n      <td>6.17</td>\n      <td>10.71</td>\n      <td>8.21</td>\n      <td>11.92</td>\n      <td>6.54</td>\n      <td>10.92</td>\n      <td>10.34</td>\n      <td>12.92</td>\n      <td>11.83</td>\n      <td>1961-01-05</td>\n    </tr>\n    <tr>\n      <th>5</th>\n      <td>61</td>\n      <td>1</td>\n      <td>6</td>\n      <td>13.21</td>\n      <td>8.12</td>\n      <td>9.96</td>\n      <td>6.67</td>\n      <td>5.37</td>\n      <td>4.50</td>\n      <td>10.67</td>\n      <td>4.42</td>\n      <td>7.17</td>\n      <td>7.50</td>\n      <td>8.12</td>\n      <td>13.17</td>\n      <td>1961-01-06</td>\n    </tr>\n    <tr>\n      <th>6</th>\n      <td>61</td>\n      <td>1</td>\n      <td>7</td>\n      <td>13.50</td>\n      <td>14.29</td>\n      <td>9.50</td>\n      <td>4.96</td>\n      <td>12.29</td>\n      <td>8.33</td>\n      <td>9.17</td>\n      <td>9.29</td>\n      <td>7.58</td>\n      <td>7.96</td>\n      <td>13.96</td>\n      <td>13.79</td>\n      <td>1961-01-07</td>\n    </tr>\n    <tr>\n      <th>7</th>\n      <td>61</td>\n      <td>1</td>\n      <td>8</td>\n      <td>10.96</td>\n      <td>9.75</td>\n      <td>7.62</td>\n      <td>5.91</td>\n      <td>9.62</td>\n      <td>7.29</td>\n      <td>14.29</td>\n      <td>7.62</td>\n      <td>9.25</td>\n      <td>10.46</td>\n      <td>16.62</td>\n      <td>16.46</td>\n      <td>1961-01-08</td>\n    </tr>\n    <tr>\n      <th>8</th>\n      <td>61</td>\n      <td>1</td>\n      <td>9</td>\n      <td>12.58</td>\n      <td>10.83</td>\n      <td>10.00</td>\n      <td>4.75</td>\n      <td>10.37</td>\n      <td>6.79</td>\n      <td>8.04</td>\n      <td>10.13</td>\n      <td>7.79</td>\n      <td>9.08</td>\n      <td>13.04</td>\n      <td>15.37</td>\n      <td>1961-01-09</td>\n    </tr>\n    <tr>\n      <th>9</th>\n      <td>61</td>\n      <td>1</td>\n      <td>10</td>\n      <td>13.37</td>\n      <td>11.12</td>\n      <td>19.50</td>\n      <td>8.33</td>\n      <td>9.71</td>\n      <td>6.54</td>\n      <td>11.42</td>\n      <td>7.79</td>\n      <td>8.54</td>\n      <td>9.00</td>\n      <td>8.58</td>\n      <td>11.83</td>\n      <td>1961-01-10</td>\n    </tr>\n  </tbody>\n</table>\n</div>"
     },
     "metadata": {}
    }
   ]
  },
  {
   "cell_type": "markdown",
   "source": "### Step 4. Year 2061? Do we really have data from this year? Create a function to fix it and apply it.",
   "metadata": {
    "id": "_c0uUVxrdeHY",
    "cell_id": "00009-175275e5-36c1-4a66-9fe5-a8365c736fea",
    "deepnote_cell_type": "markdown"
   }
  },
  {
   "cell_type": "code",
   "metadata": {
    "id": "Q3syknwAdeHY",
    "executionInfo": {
     "status": "ok",
     "timestamp": 1623812264807,
     "user_tz": 240,
     "elapsed": 11,
     "user": {
      "displayName": "Andrés Sánchez",
      "photoUrl": "https://lh3.googleusercontent.com/a-/AOh14Gg69bZMv30ckb-T1MJy0nSxWIHUaP0p2uP6MYBuvQ=s64",
      "userId": "07985253921366566280"
     }
    },
    "cell_id": "00010-4dcf3ec0-24ac-4bba-a698-64a8ba2b17de",
    "deepnote_to_be_reexecuted": false,
    "source_hash": "c6f85996",
    "execution_start": 1630098252554,
    "execution_millis": 4,
    "deepnote_cell_type": "code"
   },
   "source": "#This didn't happend to me...",
   "execution_count": 4,
   "outputs": []
  },
  {
   "cell_type": "markdown",
   "source": "### Step 5. Set the right dates as the index. Pay attention at the data type, it should be datetime64[ns].",
   "metadata": {
    "id": "pIhfWg8HdeHY",
    "cell_id": "00011-85e71dc3-25a9-4a6c-bf5a-221a84ac86b4",
    "deepnote_cell_type": "markdown"
   }
  },
  {
   "cell_type": "code",
   "metadata": {
    "id": "BeBi9cSqjbSE",
    "executionInfo": {
     "status": "ok",
     "timestamp": 1623812264809,
     "user_tz": 240,
     "elapsed": 13,
     "user": {
      "displayName": "Andrés Sánchez",
      "photoUrl": "https://lh3.googleusercontent.com/a-/AOh14Gg69bZMv30ckb-T1MJy0nSxWIHUaP0p2uP6MYBuvQ=s64",
      "userId": "07985253921366566280"
     }
    },
    "cell_id": "00012-14871170-b21e-4cab-805f-d36200bb01c6",
    "deepnote_to_be_reexecuted": false,
    "source_hash": "84000f6b",
    "execution_start": 1630098252560,
    "execution_millis": 2,
    "deepnote_cell_type": "code"
   },
   "source": "data = data.set_index('date')",
   "execution_count": 5,
   "outputs": []
  },
  {
   "cell_type": "code",
   "metadata": {
    "id": "pyRb2D-qkEtY",
    "executionInfo": {
     "status": "ok",
     "timestamp": 1623812264810,
     "user_tz": 240,
     "elapsed": 13,
     "user": {
      "displayName": "Andrés Sánchez",
      "photoUrl": "https://lh3.googleusercontent.com/a-/AOh14Gg69bZMv30ckb-T1MJy0nSxWIHUaP0p2uP6MYBuvQ=s64",
      "userId": "07985253921366566280"
     }
    },
    "cell_id": "00013-066d7840-a459-41e9-9e06-435e9a212cbc",
    "deepnote_to_be_reexecuted": false,
    "source_hash": "4877126f",
    "execution_start": 1630098252611,
    "execution_millis": 0,
    "deepnote_cell_type": "code"
   },
   "source": "data = data.drop(columns=['Yr', 'Mo', 'Dy'])",
   "execution_count": 6,
   "outputs": []
  },
  {
   "cell_type": "code",
   "metadata": {
    "colab": {
     "base_uri": "https://localhost:8080/",
     "height": 378
    },
    "id": "ZJRkvYxKdeHZ",
    "executionInfo": {
     "status": "ok",
     "timestamp": 1623812264990,
     "user_tz": 240,
     "elapsed": 193,
     "user": {
      "displayName": "Andrés Sánchez",
      "photoUrl": "https://lh3.googleusercontent.com/a-/AOh14Gg69bZMv30ckb-T1MJy0nSxWIHUaP0p2uP6MYBuvQ=s64",
      "userId": "07985253921366566280"
     }
    },
    "outputId": "6d981e2d-3530-4c34-d9db-ffaf6a050db7",
    "cell_id": "00014-707b7f2b-12de-4fc7-9888-74187bc994ea",
    "deepnote_to_be_reexecuted": false,
    "source_hash": "4d5f977f",
    "execution_start": 1630098252612,
    "execution_millis": 39,
    "deepnote_cell_type": "code"
   },
   "source": "data.head(10)",
   "execution_count": 7,
   "outputs": [
    {
     "output_type": "execute_result",
     "execution_count": 7,
     "data": {
      "application/vnd.deepnote.dataframe.v2+json": {
       "row_count": 10,
       "column_count": 12,
       "columns": [
        {
         "name": "RPT",
         "dtype": "float64",
         "stats": {
          "unique_count": 10,
          "nan_count": 0,
          "min": "10.58",
          "max": "18.5",
          "histogram": [
           {
            "bin_start": 10.58,
            "bin_end": 11.372,
            "count": 2
           },
           {
            "bin_start": 11.372,
            "bin_end": 12.164,
            "count": 0
           },
           {
            "bin_start": 12.164,
            "bin_end": 12.956,
            "count": 1
           },
           {
            "bin_start": 12.956,
            "bin_end": 13.748000000000001,
            "count": 4
           },
           {
            "bin_start": 13.748000000000001,
            "bin_end": 14.54,
            "count": 0
           },
           {
            "bin_start": 14.54,
            "bin_end": 15.332,
            "count": 2
           },
           {
            "bin_start": 15.332,
            "bin_end": 16.124000000000002,
            "count": 0
           },
           {
            "bin_start": 16.124000000000002,
            "bin_end": 16.916,
            "count": 0
           },
           {
            "bin_start": 16.916,
            "bin_end": 17.708,
            "count": 0
           },
           {
            "bin_start": 17.708,
            "bin_end": 18.5,
            "count": 1
           }
          ]
         }
        },
        {
         "name": "VAL",
         "dtype": "float64",
         "stats": {
          "unique_count": 9,
          "nan_count": 1,
          "min": "6.63",
          "max": "16.88",
          "histogram": [
           {
            "bin_start": 6.63,
            "bin_end": 7.654999999999999,
            "count": 1
           },
           {
            "bin_start": 7.654999999999999,
            "bin_end": 8.68,
            "count": 1
           },
           {
            "bin_start": 8.68,
            "bin_end": 9.705,
            "count": 0
           },
           {
            "bin_start": 9.705,
            "bin_end": 10.73,
            "count": 1
           },
           {
            "bin_start": 10.73,
            "bin_end": 11.754999999999999,
            "count": 2
           },
           {
            "bin_start": 11.754999999999999,
            "bin_end": 12.78,
            "count": 0
           },
           {
            "bin_start": 12.78,
            "bin_end": 13.805,
            "count": 1
           },
           {
            "bin_start": 13.805,
            "bin_end": 14.829999999999998,
            "count": 1
           },
           {
            "bin_start": 14.829999999999998,
            "bin_end": 15.855,
            "count": 1
           },
           {
            "bin_start": 15.855,
            "bin_end": 16.88,
            "count": 1
           }
          ]
         }
        },
        {
         "name": "ROS",
         "dtype": "float64",
         "stats": {
          "unique_count": 10,
          "nan_count": 0,
          "min": "7.62",
          "max": "19.5",
          "histogram": [
           {
            "bin_start": 7.62,
            "bin_end": 8.808,
            "count": 1
           },
           {
            "bin_start": 8.808,
            "bin_end": 9.996,
            "count": 2
           },
           {
            "bin_start": 9.996,
            "bin_end": 11.184000000000001,
            "count": 2
           },
           {
            "bin_start": 11.184000000000001,
            "bin_end": 12.372,
            "count": 3
           },
           {
            "bin_start": 12.372,
            "bin_end": 13.559999999999999,
            "count": 1
           },
           {
            "bin_start": 13.559999999999999,
            "bin_end": 14.748000000000001,
            "count": 0
           },
           {
            "bin_start": 14.748000000000001,
            "bin_end": 15.936,
            "count": 0
           },
           {
            "bin_start": 15.936,
            "bin_end": 17.124,
            "count": 0
           },
           {
            "bin_start": 17.124,
            "bin_end": 18.312,
            "count": 0
           },
           {
            "bin_start": 18.312,
            "bin_end": 19.5,
            "count": 1
           }
          ]
         }
        },
        {
         "name": "KIL",
         "dtype": "float64",
         "stats": {
          "unique_count": 10,
          "nan_count": 0,
          "min": "4.58",
          "max": "10.13",
          "histogram": [
           {
            "bin_start": 4.58,
            "bin_end": 5.135,
            "count": 3
           },
           {
            "bin_start": 5.135,
            "bin_end": 5.69,
            "count": 0
           },
           {
            "bin_start": 5.69,
            "bin_end": 6.245,
            "count": 2
           },
           {
            "bin_start": 6.245,
            "bin_end": 6.800000000000001,
            "count": 2
           },
           {
            "bin_start": 6.800000000000001,
            "bin_end": 7.355,
            "count": 0
           },
           {
            "bin_start": 7.355,
            "bin_end": 7.91,
            "count": 0
           },
           {
            "bin_start": 7.91,
            "bin_end": 8.465,
            "count": 1
           },
           {
            "bin_start": 8.465,
            "bin_end": 9.02,
            "count": 0
           },
           {
            "bin_start": 9.02,
            "bin_end": 9.575,
            "count": 1
           },
           {
            "bin_start": 9.575,
            "bin_end": 10.13,
            "count": 1
           }
          ]
         }
        },
        {
         "name": "SHA",
         "dtype": "float64",
         "stats": {
          "unique_count": 9,
          "nan_count": 1,
          "min": "4.54",
          "max": "12.62",
          "histogram": [
           {
            "bin_start": 4.54,
            "bin_end": 5.348,
            "count": 1
           },
           {
            "bin_start": 5.348,
            "bin_end": 6.156,
            "count": 1
           },
           {
            "bin_start": 6.156,
            "bin_end": 6.9639999999999995,
            "count": 0
           },
           {
            "bin_start": 6.9639999999999995,
            "bin_end": 7.771999999999999,
            "count": 0
           },
           {
            "bin_start": 7.771999999999999,
            "bin_end": 8.579999999999998,
            "count": 0
           },
           {
            "bin_start": 8.579999999999998,
            "bin_end": 9.387999999999998,
            "count": 0
           },
           {
            "bin_start": 9.387999999999998,
            "bin_end": 10.195999999999998,
            "count": 2
           },
           {
            "bin_start": 10.195999999999998,
            "bin_end": 11.003999999999998,
            "count": 2
           },
           {
            "bin_start": 11.003999999999998,
            "bin_end": 11.811999999999998,
            "count": 1
           },
           {
            "bin_start": 11.811999999999998,
            "bin_end": 12.62,
            "count": 2
           }
          ]
         }
        },
        {
         "name": "BIR",
         "dtype": "float64",
         "stats": {
          "unique_count": 10,
          "nan_count": 0,
          "min": "2.88",
          "max": "9.87",
          "histogram": [
           {
            "bin_start": 2.88,
            "bin_end": 3.5789999999999997,
            "count": 1
           },
           {
            "bin_start": 3.5789999999999997,
            "bin_end": 4.278,
            "count": 0
           },
           {
            "bin_start": 4.278,
            "bin_end": 4.977,
            "count": 1
           },
           {
            "bin_start": 4.977,
            "bin_end": 5.676,
            "count": 0
           },
           {
            "bin_start": 5.676,
            "bin_end": 6.375,
            "count": 1
           },
           {
            "bin_start": 6.375,
            "bin_end": 7.074,
            "count": 2
           },
           {
            "bin_start": 7.074,
            "bin_end": 7.773,
            "count": 2
           },
           {
            "bin_start": 7.773,
            "bin_end": 8.472,
            "count": 2
           },
           {
            "bin_start": 8.472,
            "bin_end": 9.171,
            "count": 0
           },
           {
            "bin_start": 9.171,
            "bin_end": 9.87,
            "count": 1
           }
          ]
         }
        },
        {
         "name": "DUB",
         "dtype": "float64",
         "stats": {
          "unique_count": 10,
          "nan_count": 0,
          "min": "8.04",
          "max": "14.29",
          "histogram": [
           {
            "bin_start": 8.04,
            "bin_end": 8.665,
            "count": 2
           },
           {
            "bin_start": 8.665,
            "bin_end": 9.29,
            "count": 1
           },
           {
            "bin_start": 9.29,
            "bin_end": 9.915,
            "count": 0
           },
           {
            "bin_start": 9.915,
            "bin_end": 10.54,
            "count": 0
           },
           {
            "bin_start": 10.54,
            "bin_end": 11.165,
            "count": 1
           },
           {
            "bin_start": 11.165,
            "bin_end": 11.79,
            "count": 3
           },
           {
            "bin_start": 11.79,
            "bin_end": 12.415,
            "count": 1
           },
           {
            "bin_start": 12.415,
            "bin_end": 13.04,
            "count": 0
           },
           {
            "bin_start": 13.04,
            "bin_end": 13.665,
            "count": 0
           },
           {
            "bin_start": 13.665,
            "bin_end": 14.29,
            "count": 2
           }
          ]
         }
        },
        {
         "name": "CLA",
         "dtype": "float64",
         "stats": {
          "unique_count": 9,
          "nan_count": 1,
          "min": "1.79",
          "max": "10.25",
          "histogram": [
           {
            "bin_start": 1.79,
            "bin_end": 2.636,
            "count": 1
           },
           {
            "bin_start": 2.636,
            "bin_end": 3.482,
            "count": 0
           },
           {
            "bin_start": 3.482,
            "bin_end": 4.328,
            "count": 0
           },
           {
            "bin_start": 4.328,
            "bin_end": 5.174,
            "count": 1
           },
           {
            "bin_start": 5.174,
            "bin_end": 6.0200000000000005,
            "count": 0
           },
           {
            "bin_start": 6.0200000000000005,
            "bin_end": 6.8660000000000005,
            "count": 1
           },
           {
            "bin_start": 6.8660000000000005,
            "bin_end": 7.712000000000001,
            "count": 1
           },
           {
            "bin_start": 7.712000000000001,
            "bin_end": 8.558,
            "count": 1
           },
           {
            "bin_start": 8.558,
            "bin_end": 9.404,
            "count": 1
           },
           {
            "bin_start": 9.404,
            "bin_end": 10.25,
            "count": 3
           }
          ]
         }
        },
        {
         "name": "MUL",
         "dtype": "float64",
         "stats": {
          "unique_count": 10,
          "nan_count": 0,
          "min": "5.83",
          "max": "10.92",
          "histogram": [
           {
            "bin_start": 5.83,
            "bin_end": 6.339,
            "count": 1
           },
           {
            "bin_start": 6.339,
            "bin_end": 6.848,
            "count": 0
           },
           {
            "bin_start": 6.848,
            "bin_end": 7.357,
            "count": 1
           },
           {
            "bin_start": 7.357,
            "bin_end": 7.866,
            "count": 2
           },
           {
            "bin_start": 7.866,
            "bin_end": 8.375,
            "count": 0
           },
           {
            "bin_start": 8.375,
            "bin_end": 8.884,
            "count": 2
           },
           {
            "bin_start": 8.884,
            "bin_end": 9.393,
            "count": 1
           },
           {
            "bin_start": 9.393,
            "bin_end": 9.902000000000001,
            "count": 1
           },
           {
            "bin_start": 9.902000000000001,
            "bin_end": 10.411000000000001,
            "count": 0
           },
           {
            "bin_start": 10.411000000000001,
            "bin_end": 10.92,
            "count": 2
           }
          ]
         }
        },
        {
         "name": "CLO",
         "dtype": "float64",
         "stats": {
          "unique_count": 10,
          "nan_count": 0,
          "min": "5.88",
          "max": "12.58",
          "histogram": [
           {
            "bin_start": 5.88,
            "bin_end": 6.55,
            "count": 1
           },
           {
            "bin_start": 6.55,
            "bin_end": 7.22,
            "count": 0
           },
           {
            "bin_start": 7.22,
            "bin_end": 7.890000000000001,
            "count": 2
           },
           {
            "bin_start": 7.890000000000001,
            "bin_end": 8.56,
            "count": 1
           },
           {
            "bin_start": 8.56,
            "bin_end": 9.23,
            "count": 2
           },
           {
            "bin_start": 9.23,
            "bin_end": 9.9,
            "count": 1
           },
           {
            "bin_start": 9.9,
            "bin_end": 10.57,
            "count": 2
           },
           {
            "bin_start": 10.57,
            "bin_end": 11.24,
            "count": 0
           },
           {
            "bin_start": 11.24,
            "bin_end": 11.91,
            "count": 0
           },
           {
            "bin_start": 11.91,
            "bin_end": 12.58,
            "count": 1
           }
          ]
         }
        },
        {
         "name": "BEL",
         "dtype": "float64",
         "stats": {
          "unique_count": 10,
          "nan_count": 0,
          "min": "5.46",
          "max": "18.5",
          "histogram": [
           {
            "bin_start": 5.46,
            "bin_end": 6.763999999999999,
            "count": 1
           },
           {
            "bin_start": 6.763999999999999,
            "bin_end": 8.068,
            "count": 0
           },
           {
            "bin_start": 8.068,
            "bin_end": 9.372,
            "count": 2
           },
           {
            "bin_start": 9.372,
            "bin_end": 10.675999999999998,
            "count": 0
           },
           {
            "bin_start": 10.675999999999998,
            "bin_end": 11.98,
            "count": 0
           },
           {
            "bin_start": 11.98,
            "bin_end": 13.283999999999999,
            "count": 3
           },
           {
            "bin_start": 13.283999999999999,
            "bin_end": 14.587999999999997,
            "count": 1
           },
           {
            "bin_start": 14.587999999999997,
            "bin_end": 15.892,
            "count": 0
           },
           {
            "bin_start": 15.892,
            "bin_end": 17.195999999999998,
            "count": 1
           },
           {
            "bin_start": 17.195999999999998,
            "bin_end": 18.5,
            "count": 2
           }
          ]
         }
        },
        {
         "name": "MAL",
         "dtype": "float64",
         "stats": {
          "unique_count": 9,
          "nan_count": 0,
          "min": "10.88",
          "max": "16.46",
          "histogram": [
           {
            "bin_start": 10.88,
            "bin_end": 11.438,
            "count": 1
           },
           {
            "bin_start": 11.438,
            "bin_end": 11.996,
            "count": 2
           },
           {
            "bin_start": 11.996,
            "bin_end": 12.554,
            "count": 0
           },
           {
            "bin_start": 12.554,
            "bin_end": 13.112000000000002,
            "count": 1
           },
           {
            "bin_start": 13.112000000000002,
            "bin_end": 13.670000000000002,
            "count": 1
           },
           {
            "bin_start": 13.670000000000002,
            "bin_end": 14.228000000000002,
            "count": 2
           },
           {
            "bin_start": 14.228000000000002,
            "bin_end": 14.786000000000001,
            "count": 0
           },
           {
            "bin_start": 14.786000000000001,
            "bin_end": 15.344000000000001,
            "count": 1
           },
           {
            "bin_start": 15.344000000000001,
            "bin_end": 15.902000000000001,
            "count": 1
           },
           {
            "bin_start": 15.902000000000001,
            "bin_end": 16.46,
            "count": 1
           }
          ]
         }
        },
        {
         "name": "_deepnote_index_column",
         "dtype": "datetime64[ns]"
        }
       ],
       "rows_top": [
        {
         "RPT": 15.04,
         "VAL": 14.96,
         "ROS": 13.17,
         "KIL": 9.29,
         "SHA": "nan",
         "BIR": 9.87,
         "DUB": 13.67,
         "CLA": 10.25,
         "MUL": 10.83,
         "CLO": 12.58,
         "BEL": 18.5,
         "MAL": 15.04,
         "_deepnote_index_column": "1961-01-01T00:00:00.000000"
        },
        {
         "RPT": 14.71,
         "VAL": "nan",
         "ROS": 10.83,
         "KIL": 6.5,
         "SHA": 12.62,
         "BIR": 7.67,
         "DUB": 11.5,
         "CLA": 10.04,
         "MUL": 9.79,
         "CLO": 9.67,
         "BEL": 17.54,
         "MAL": 13.83,
         "_deepnote_index_column": "1961-01-02T00:00:00.000000"
        },
        {
         "RPT": 18.5,
         "VAL": 16.88,
         "ROS": 12.33,
         "KIL": 10.13,
         "SHA": 11.17,
         "BIR": 6.17,
         "DUB": 11.25,
         "CLA": "nan",
         "MUL": 8.5,
         "CLO": 7.67,
         "BEL": 12.75,
         "MAL": 12.71,
         "_deepnote_index_column": "1961-01-03T00:00:00.000000"
        },
        {
         "RPT": 10.58,
         "VAL": 6.63,
         "ROS": 11.75,
         "KIL": 4.58,
         "SHA": 4.54,
         "BIR": 2.88,
         "DUB": 8.63,
         "CLA": 1.79,
         "MUL": 5.83,
         "CLO": 5.88,
         "BEL": 5.46,
         "MAL": 10.88,
         "_deepnote_index_column": "1961-01-04T00:00:00.000000"
        },
        {
         "RPT": 13.33,
         "VAL": 13.25,
         "ROS": 11.42,
         "KIL": 6.17,
         "SHA": 10.71,
         "BIR": 8.21,
         "DUB": 11.92,
         "CLA": 6.54,
         "MUL": 10.92,
         "CLO": 10.34,
         "BEL": 12.92,
         "MAL": 11.83,
         "_deepnote_index_column": "1961-01-05T00:00:00.000000"
        },
        {
         "RPT": 13.21,
         "VAL": 8.12,
         "ROS": 9.96,
         "KIL": 6.67,
         "SHA": 5.37,
         "BIR": 4.5,
         "DUB": 10.67,
         "CLA": 4.42,
         "MUL": 7.17,
         "CLO": 7.5,
         "BEL": 8.12,
         "MAL": 13.17,
         "_deepnote_index_column": "1961-01-06T00:00:00.000000"
        },
        {
         "RPT": 13.5,
         "VAL": 14.29,
         "ROS": 9.5,
         "KIL": 4.96,
         "SHA": 12.29,
         "BIR": 8.33,
         "DUB": 9.17,
         "CLA": 9.29,
         "MUL": 7.58,
         "CLO": 7.96,
         "BEL": 13.96,
         "MAL": 13.79,
         "_deepnote_index_column": "1961-01-07T00:00:00.000000"
        },
        {
         "RPT": 10.96,
         "VAL": 9.75,
         "ROS": 7.62,
         "KIL": 5.91,
         "SHA": 9.62,
         "BIR": 7.29,
         "DUB": 14.29,
         "CLA": 7.62,
         "MUL": 9.25,
         "CLO": 10.46,
         "BEL": 16.62,
         "MAL": 16.46,
         "_deepnote_index_column": "1961-01-08T00:00:00.000000"
        },
        {
         "RPT": 12.58,
         "VAL": 10.83,
         "ROS": 10,
         "KIL": 4.75,
         "SHA": 10.37,
         "BIR": 6.79,
         "DUB": 8.04,
         "CLA": 10.13,
         "MUL": 7.79,
         "CLO": 9.08,
         "BEL": 13.04,
         "MAL": 15.37,
         "_deepnote_index_column": "1961-01-09T00:00:00.000000"
        },
        {
         "RPT": 13.37,
         "VAL": 11.12,
         "ROS": 19.5,
         "KIL": 8.33,
         "SHA": 9.71,
         "BIR": 6.54,
         "DUB": 11.42,
         "CLA": 7.79,
         "MUL": 8.54,
         "CLO": 9,
         "BEL": 8.58,
         "MAL": 11.83,
         "_deepnote_index_column": "1961-01-10T00:00:00.000000"
        }
       ],
       "rows_bottom": null
      },
      "text/plain": "              RPT    VAL    ROS    KIL    SHA   BIR    DUB    CLA    MUL  \\\ndate                                                                       \n1961-01-01  15.04  14.96  13.17   9.29    NaN  9.87  13.67  10.25  10.83   \n1961-01-02  14.71    NaN  10.83   6.50  12.62  7.67  11.50  10.04   9.79   \n1961-01-03  18.50  16.88  12.33  10.13  11.17  6.17  11.25    NaN   8.50   \n1961-01-04  10.58   6.63  11.75   4.58   4.54  2.88   8.63   1.79   5.83   \n1961-01-05  13.33  13.25  11.42   6.17  10.71  8.21  11.92   6.54  10.92   \n1961-01-06  13.21   8.12   9.96   6.67   5.37  4.50  10.67   4.42   7.17   \n1961-01-07  13.50  14.29   9.50   4.96  12.29  8.33   9.17   9.29   7.58   \n1961-01-08  10.96   9.75   7.62   5.91   9.62  7.29  14.29   7.62   9.25   \n1961-01-09  12.58  10.83  10.00   4.75  10.37  6.79   8.04  10.13   7.79   \n1961-01-10  13.37  11.12  19.50   8.33   9.71  6.54  11.42   7.79   8.54   \n\n              CLO    BEL    MAL  \ndate                             \n1961-01-01  12.58  18.50  15.04  \n1961-01-02   9.67  17.54  13.83  \n1961-01-03   7.67  12.75  12.71  \n1961-01-04   5.88   5.46  10.88  \n1961-01-05  10.34  12.92  11.83  \n1961-01-06   7.50   8.12  13.17  \n1961-01-07   7.96  13.96  13.79  \n1961-01-08  10.46  16.62  16.46  \n1961-01-09   9.08  13.04  15.37  \n1961-01-10   9.00   8.58  11.83  ",
      "text/html": "<div>\n<style scoped>\n    .dataframe tbody tr th:only-of-type {\n        vertical-align: middle;\n    }\n\n    .dataframe tbody tr th {\n        vertical-align: top;\n    }\n\n    .dataframe thead th {\n        text-align: right;\n    }\n</style>\n<table border=\"1\" class=\"dataframe\">\n  <thead>\n    <tr style=\"text-align: right;\">\n      <th></th>\n      <th>RPT</th>\n      <th>VAL</th>\n      <th>ROS</th>\n      <th>KIL</th>\n      <th>SHA</th>\n      <th>BIR</th>\n      <th>DUB</th>\n      <th>CLA</th>\n      <th>MUL</th>\n      <th>CLO</th>\n      <th>BEL</th>\n      <th>MAL</th>\n    </tr>\n    <tr>\n      <th>date</th>\n      <th></th>\n      <th></th>\n      <th></th>\n      <th></th>\n      <th></th>\n      <th></th>\n      <th></th>\n      <th></th>\n      <th></th>\n      <th></th>\n      <th></th>\n      <th></th>\n    </tr>\n  </thead>\n  <tbody>\n    <tr>\n      <th>1961-01-01</th>\n      <td>15.04</td>\n      <td>14.96</td>\n      <td>13.17</td>\n      <td>9.29</td>\n      <td>NaN</td>\n      <td>9.87</td>\n      <td>13.67</td>\n      <td>10.25</td>\n      <td>10.83</td>\n      <td>12.58</td>\n      <td>18.50</td>\n      <td>15.04</td>\n    </tr>\n    <tr>\n      <th>1961-01-02</th>\n      <td>14.71</td>\n      <td>NaN</td>\n      <td>10.83</td>\n      <td>6.50</td>\n      <td>12.62</td>\n      <td>7.67</td>\n      <td>11.50</td>\n      <td>10.04</td>\n      <td>9.79</td>\n      <td>9.67</td>\n      <td>17.54</td>\n      <td>13.83</td>\n    </tr>\n    <tr>\n      <th>1961-01-03</th>\n      <td>18.50</td>\n      <td>16.88</td>\n      <td>12.33</td>\n      <td>10.13</td>\n      <td>11.17</td>\n      <td>6.17</td>\n      <td>11.25</td>\n      <td>NaN</td>\n      <td>8.50</td>\n      <td>7.67</td>\n      <td>12.75</td>\n      <td>12.71</td>\n    </tr>\n    <tr>\n      <th>1961-01-04</th>\n      <td>10.58</td>\n      <td>6.63</td>\n      <td>11.75</td>\n      <td>4.58</td>\n      <td>4.54</td>\n      <td>2.88</td>\n      <td>8.63</td>\n      <td>1.79</td>\n      <td>5.83</td>\n      <td>5.88</td>\n      <td>5.46</td>\n      <td>10.88</td>\n    </tr>\n    <tr>\n      <th>1961-01-05</th>\n      <td>13.33</td>\n      <td>13.25</td>\n      <td>11.42</td>\n      <td>6.17</td>\n      <td>10.71</td>\n      <td>8.21</td>\n      <td>11.92</td>\n      <td>6.54</td>\n      <td>10.92</td>\n      <td>10.34</td>\n      <td>12.92</td>\n      <td>11.83</td>\n    </tr>\n    <tr>\n      <th>1961-01-06</th>\n      <td>13.21</td>\n      <td>8.12</td>\n      <td>9.96</td>\n      <td>6.67</td>\n      <td>5.37</td>\n      <td>4.50</td>\n      <td>10.67</td>\n      <td>4.42</td>\n      <td>7.17</td>\n      <td>7.50</td>\n      <td>8.12</td>\n      <td>13.17</td>\n    </tr>\n    <tr>\n      <th>1961-01-07</th>\n      <td>13.50</td>\n      <td>14.29</td>\n      <td>9.50</td>\n      <td>4.96</td>\n      <td>12.29</td>\n      <td>8.33</td>\n      <td>9.17</td>\n      <td>9.29</td>\n      <td>7.58</td>\n      <td>7.96</td>\n      <td>13.96</td>\n      <td>13.79</td>\n    </tr>\n    <tr>\n      <th>1961-01-08</th>\n      <td>10.96</td>\n      <td>9.75</td>\n      <td>7.62</td>\n      <td>5.91</td>\n      <td>9.62</td>\n      <td>7.29</td>\n      <td>14.29</td>\n      <td>7.62</td>\n      <td>9.25</td>\n      <td>10.46</td>\n      <td>16.62</td>\n      <td>16.46</td>\n    </tr>\n    <tr>\n      <th>1961-01-09</th>\n      <td>12.58</td>\n      <td>10.83</td>\n      <td>10.00</td>\n      <td>4.75</td>\n      <td>10.37</td>\n      <td>6.79</td>\n      <td>8.04</td>\n      <td>10.13</td>\n      <td>7.79</td>\n      <td>9.08</td>\n      <td>13.04</td>\n      <td>15.37</td>\n    </tr>\n    <tr>\n      <th>1961-01-10</th>\n      <td>13.37</td>\n      <td>11.12</td>\n      <td>19.50</td>\n      <td>8.33</td>\n      <td>9.71</td>\n      <td>6.54</td>\n      <td>11.42</td>\n      <td>7.79</td>\n      <td>8.54</td>\n      <td>9.00</td>\n      <td>8.58</td>\n      <td>11.83</td>\n    </tr>\n  </tbody>\n</table>\n</div>"
     },
     "metadata": {}
    }
   ]
  },
  {
   "cell_type": "markdown",
   "source": "### Step 6. Compute how many values are missing for each location over the entire record.  \n#### They should be ignored in all calculations below. ",
   "metadata": {
    "id": "CXoJk3OHdeHZ",
    "cell_id": "00015-9d6fdfb7-eba9-478c-84c1-aed69d9e8420",
    "deepnote_cell_type": "markdown"
   }
  },
  {
   "cell_type": "code",
   "metadata": {
    "colab": {
     "base_uri": "https://localhost:8080/"
    },
    "id": "E-uJBr-WdeHZ",
    "executionInfo": {
     "status": "ok",
     "timestamp": 1623812264990,
     "user_tz": 240,
     "elapsed": 5,
     "user": {
      "displayName": "Andrés Sánchez",
      "photoUrl": "https://lh3.googleusercontent.com/a-/AOh14Gg69bZMv30ckb-T1MJy0nSxWIHUaP0p2uP6MYBuvQ=s64",
      "userId": "07985253921366566280"
     }
    },
    "outputId": "4350801d-2e27-4515-d2be-88ff836cb7a7",
    "cell_id": "00016-7e5f5650-5dce-4929-8293-064c0c2b1b9e",
    "deepnote_to_be_reexecuted": false,
    "source_hash": "878de0e4",
    "execution_start": 1630098252641,
    "execution_millis": 10,
    "deepnote_cell_type": "code"
   },
   "source": "data.isnull().sum()",
   "execution_count": 8,
   "outputs": [
    {
     "output_type": "execute_result",
     "execution_count": 8,
     "data": {
      "text/plain": "RPT    6\nVAL    3\nROS    2\nKIL    5\nSHA    2\nBIR    0\nDUB    3\nCLA    2\nMUL    3\nCLO    1\nBEL    0\nMAL    4\ndtype: int64"
     },
     "metadata": {}
    }
   ]
  },
  {
   "cell_type": "markdown",
   "source": "### Step 7. Compute how many non-missing values there are in total.",
   "metadata": {
    "id": "7uLFJUXSdeHZ",
    "cell_id": "00017-247df744-718b-460b-a0d6-f1c5260ea3f7",
    "deepnote_cell_type": "markdown"
   }
  },
  {
   "cell_type": "code",
   "metadata": {
    "scrolled": true,
    "colab": {
     "base_uri": "https://localhost:8080/"
    },
    "id": "S-LJKdRvdeHZ",
    "executionInfo": {
     "status": "ok",
     "timestamp": 1623812264991,
     "user_tz": 240,
     "elapsed": 5,
     "user": {
      "displayName": "Andrés Sánchez",
      "photoUrl": "https://lh3.googleusercontent.com/a-/AOh14Gg69bZMv30ckb-T1MJy0nSxWIHUaP0p2uP6MYBuvQ=s64",
      "userId": "07985253921366566280"
     }
    },
    "outputId": "684192f8-989d-4b34-8065-10beb76830fd",
    "cell_id": "00018-9ee5d241-117a-493a-9b0d-1fb3fd5d2972",
    "deepnote_to_be_reexecuted": false,
    "source_hash": "517a9a48",
    "execution_start": 1630098252643,
    "execution_millis": 27,
    "deepnote_cell_type": "code"
   },
   "source": "data.notnull().sum()",
   "execution_count": 9,
   "outputs": [
    {
     "output_type": "execute_result",
     "execution_count": 9,
     "data": {
      "text/plain": "RPT    6568\nVAL    6571\nROS    6572\nKIL    6569\nSHA    6572\nBIR    6574\nDUB    6571\nCLA    6572\nMUL    6571\nCLO    6573\nBEL    6574\nMAL    6570\ndtype: int64"
     },
     "metadata": {}
    }
   ]
  },
  {
   "cell_type": "markdown",
   "source": "### Step 8. Calculate the mean windspeeds of the windspeeds over all the locations and all the times.\n#### A single number for the entire dataset.",
   "metadata": {
    "id": "bU2t6fdadeHZ",
    "cell_id": "00019-f470af63-7165-4004-b701-5ec328726dad",
    "deepnote_cell_type": "markdown"
   }
  },
  {
   "cell_type": "code",
   "metadata": {
    "colab": {
     "base_uri": "https://localhost:8080/"
    },
    "id": "3LYrtVIPdeHZ",
    "executionInfo": {
     "status": "ok",
     "timestamp": 1623812264991,
     "user_tz": 240,
     "elapsed": 4,
     "user": {
      "displayName": "Andrés Sánchez",
      "photoUrl": "https://lh3.googleusercontent.com/a-/AOh14Gg69bZMv30ckb-T1MJy0nSxWIHUaP0p2uP6MYBuvQ=s64",
      "userId": "07985253921366566280"
     }
    },
    "outputId": "1ceeeace-e46f-47f6-8820-222cd04d070a",
    "cell_id": "00020-d01b5a59-73eb-44d2-8322-94804bf727e2",
    "deepnote_to_be_reexecuted": false,
    "source_hash": "173083be",
    "execution_start": 1630098252659,
    "execution_millis": 15,
    "deepnote_cell_type": "code"
   },
   "source": "data.mean().mean()",
   "execution_count": 10,
   "outputs": [
    {
     "output_type": "execute_result",
     "execution_count": 10,
     "data": {
      "text/plain": "10.227982360836938"
     },
     "metadata": {}
    }
   ]
  },
  {
   "cell_type": "markdown",
   "source": "### Step 9. Create a DataFrame called loc_stats and calculate the min, max and mean windspeeds and standard deviations of the windspeeds at each location over all the days \n\n#### A different set of numbers for each location.",
   "metadata": {
    "id": "lb_BfSkJdeHZ",
    "cell_id": "00021-299046e9-523d-4d3c-9c8b-76020e403373",
    "deepnote_cell_type": "markdown"
   }
  },
  {
   "cell_type": "code",
   "metadata": {
    "colab": {
     "base_uri": "https://localhost:8080/",
     "height": 288
    },
    "id": "lXgQHfxIdeHZ",
    "executionInfo": {
     "status": "ok",
     "timestamp": 1623812264991,
     "user_tz": 240,
     "elapsed": 3,
     "user": {
      "displayName": "Andrés Sánchez",
      "photoUrl": "https://lh3.googleusercontent.com/a-/AOh14Gg69bZMv30ckb-T1MJy0nSxWIHUaP0p2uP6MYBuvQ=s64",
      "userId": "07985253921366566280"
     }
    },
    "outputId": "beb4b3e7-3125-4023-8b69-f024a27ff878",
    "cell_id": "00022-004a025d-abe5-4946-8feb-5d398ed16331",
    "deepnote_to_be_reexecuted": false,
    "source_hash": "94752138",
    "execution_start": 1630098252662,
    "execution_millis": 74,
    "deepnote_cell_type": "code"
   },
   "source": "loc_stats = data.describe()\nloc_stats",
   "execution_count": 11,
   "outputs": [
    {
     "output_type": "execute_result",
     "execution_count": 11,
     "data": {
      "application/vnd.deepnote.dataframe.v2+json": {
       "row_count": 8,
       "column_count": 12,
       "columns": [
        {
         "name": "RPT",
         "dtype": "float64",
         "stats": {
          "unique_count": 8,
          "nan_count": 0,
          "min": "0.67",
          "max": "6568.0",
          "histogram": [
           {
            "bin_start": 0.67,
            "bin_end": 657.4029999999999,
            "count": 7
           },
           {
            "bin_start": 657.4029999999999,
            "bin_end": 1314.136,
            "count": 0
           },
           {
            "bin_start": 1314.136,
            "bin_end": 1970.869,
            "count": 0
           },
           {
            "bin_start": 1970.869,
            "bin_end": 2627.602,
            "count": 0
           },
           {
            "bin_start": 2627.602,
            "bin_end": 3284.335,
            "count": 0
           },
           {
            "bin_start": 3284.335,
            "bin_end": 3941.0679999999998,
            "count": 0
           },
           {
            "bin_start": 3941.0679999999998,
            "bin_end": 4597.8009999999995,
            "count": 0
           },
           {
            "bin_start": 4597.8009999999995,
            "bin_end": 5254.534,
            "count": 0
           },
           {
            "bin_start": 5254.534,
            "bin_end": 5911.267,
            "count": 0
           },
           {
            "bin_start": 5911.267,
            "bin_end": 6568,
            "count": 1
           }
          ]
         }
        },
        {
         "name": "VAL",
         "dtype": "float64",
         "stats": {
          "unique_count": 8,
          "nan_count": 0,
          "min": "0.21",
          "max": "6571.0",
          "histogram": [
           {
            "bin_start": 0.21,
            "bin_end": 657.289,
            "count": 7
           },
           {
            "bin_start": 657.289,
            "bin_end": 1314.368,
            "count": 0
           },
           {
            "bin_start": 1314.368,
            "bin_end": 1971.447,
            "count": 0
           },
           {
            "bin_start": 1971.447,
            "bin_end": 2628.526,
            "count": 0
           },
           {
            "bin_start": 2628.526,
            "bin_end": 3285.6049999999996,
            "count": 0
           },
           {
            "bin_start": 3285.6049999999996,
            "bin_end": 3942.6839999999997,
            "count": 0
           },
           {
            "bin_start": 3942.6839999999997,
            "bin_end": 4599.763,
            "count": 0
           },
           {
            "bin_start": 4599.763,
            "bin_end": 5256.842,
            "count": 0
           },
           {
            "bin_start": 5256.842,
            "bin_end": 5913.920999999999,
            "count": 0
           },
           {
            "bin_start": 5913.920999999999,
            "bin_end": 6571,
            "count": 1
           }
          ]
         }
        },
        {
         "name": "ROS",
         "dtype": "float64",
         "stats": {
          "unique_count": 8,
          "nan_count": 0,
          "min": "1.5",
          "max": "6572.0",
          "histogram": [
           {
            "bin_start": 1.5,
            "bin_end": 658.55,
            "count": 7
           },
           {
            "bin_start": 658.55,
            "bin_end": 1315.6,
            "count": 0
           },
           {
            "bin_start": 1315.6,
            "bin_end": 1972.6499999999999,
            "count": 0
           },
           {
            "bin_start": 1972.6499999999999,
            "bin_end": 2629.7,
            "count": 0
           },
           {
            "bin_start": 2629.7,
            "bin_end": 3286.75,
            "count": 0
           },
           {
            "bin_start": 3286.75,
            "bin_end": 3943.7999999999997,
            "count": 0
           },
           {
            "bin_start": 3943.7999999999997,
            "bin_end": 4600.849999999999,
            "count": 0
           },
           {
            "bin_start": 4600.849999999999,
            "bin_end": 5257.9,
            "count": 0
           },
           {
            "bin_start": 5257.9,
            "bin_end": 5914.95,
            "count": 0
           },
           {
            "bin_start": 5914.95,
            "bin_end": 6572,
            "count": 1
           }
          ]
         }
        },
        {
         "name": "KIL",
         "dtype": "float64",
         "stats": {
          "unique_count": 8,
          "nan_count": 0,
          "min": "0.0",
          "max": "6569.0",
          "histogram": [
           {
            "bin_start": 0,
            "bin_end": 656.9,
            "count": 7
           },
           {
            "bin_start": 656.9,
            "bin_end": 1313.8,
            "count": 0
           },
           {
            "bin_start": 1313.8,
            "bin_end": 1970.6999999999998,
            "count": 0
           },
           {
            "bin_start": 1970.6999999999998,
            "bin_end": 2627.6,
            "count": 0
           },
           {
            "bin_start": 2627.6,
            "bin_end": 3284.5,
            "count": 0
           },
           {
            "bin_start": 3284.5,
            "bin_end": 3941.3999999999996,
            "count": 0
           },
           {
            "bin_start": 3941.3999999999996,
            "bin_end": 4598.3,
            "count": 0
           },
           {
            "bin_start": 4598.3,
            "bin_end": 5255.2,
            "count": 0
           },
           {
            "bin_start": 5255.2,
            "bin_end": 5912.099999999999,
            "count": 0
           },
           {
            "bin_start": 5912.099999999999,
            "bin_end": 6569,
            "count": 1
           }
          ]
         }
        },
        {
         "name": "SHA",
         "dtype": "float64",
         "stats": {
          "unique_count": 8,
          "nan_count": 0,
          "min": "0.13",
          "max": "6572.0",
          "histogram": [
           {
            "bin_start": 0.13,
            "bin_end": 657.317,
            "count": 7
           },
           {
            "bin_start": 657.317,
            "bin_end": 1314.5040000000001,
            "count": 0
           },
           {
            "bin_start": 1314.5040000000001,
            "bin_end": 1971.6910000000003,
            "count": 0
           },
           {
            "bin_start": 1971.6910000000003,
            "bin_end": 2628.878,
            "count": 0
           },
           {
            "bin_start": 2628.878,
            "bin_end": 3286.065,
            "count": 0
           },
           {
            "bin_start": 3286.065,
            "bin_end": 3943.2520000000004,
            "count": 0
           },
           {
            "bin_start": 3943.2520000000004,
            "bin_end": 4600.439,
            "count": 0
           },
           {
            "bin_start": 4600.439,
            "bin_end": 5257.626,
            "count": 0
           },
           {
            "bin_start": 5257.626,
            "bin_end": 5914.813,
            "count": 0
           },
           {
            "bin_start": 5914.813,
            "bin_end": 6572,
            "count": 1
           }
          ]
         }
        },
        {
         "name": "BIR",
         "dtype": "float64",
         "stats": {
          "unique_count": 8,
          "nan_count": 0,
          "min": "0.0",
          "max": "6574.0",
          "histogram": [
           {
            "bin_start": 0,
            "bin_end": 657.4,
            "count": 7
           },
           {
            "bin_start": 657.4,
            "bin_end": 1314.8,
            "count": 0
           },
           {
            "bin_start": 1314.8,
            "bin_end": 1972.1999999999998,
            "count": 0
           },
           {
            "bin_start": 1972.1999999999998,
            "bin_end": 2629.6,
            "count": 0
           },
           {
            "bin_start": 2629.6,
            "bin_end": 3287,
            "count": 0
           },
           {
            "bin_start": 3287,
            "bin_end": 3944.3999999999996,
            "count": 0
           },
           {
            "bin_start": 3944.3999999999996,
            "bin_end": 4601.8,
            "count": 0
           },
           {
            "bin_start": 4601.8,
            "bin_end": 5259.2,
            "count": 0
           },
           {
            "bin_start": 5259.2,
            "bin_end": 5916.599999999999,
            "count": 0
           },
           {
            "bin_start": 5916.599999999999,
            "bin_end": 6574,
            "count": 1
           }
          ]
         }
        },
        {
         "name": "DUB",
         "dtype": "float64",
         "stats": {
          "unique_count": 8,
          "nan_count": 0,
          "min": "0.0",
          "max": "6571.0",
          "histogram": [
           {
            "bin_start": 0,
            "bin_end": 657.1,
            "count": 7
           },
           {
            "bin_start": 657.1,
            "bin_end": 1314.2,
            "count": 0
           },
           {
            "bin_start": 1314.2,
            "bin_end": 1971.3000000000002,
            "count": 0
           },
           {
            "bin_start": 1971.3000000000002,
            "bin_end": 2628.4,
            "count": 0
           },
           {
            "bin_start": 2628.4,
            "bin_end": 3285.5,
            "count": 0
           },
           {
            "bin_start": 3285.5,
            "bin_end": 3942.6000000000004,
            "count": 0
           },
           {
            "bin_start": 3942.6000000000004,
            "bin_end": 4599.7,
            "count": 0
           },
           {
            "bin_start": 4599.7,
            "bin_end": 5256.8,
            "count": 0
           },
           {
            "bin_start": 5256.8,
            "bin_end": 5913.900000000001,
            "count": 0
           },
           {
            "bin_start": 5913.900000000001,
            "bin_end": 6571,
            "count": 1
           }
          ]
         }
        },
        {
         "name": "CLA",
         "dtype": "float64",
         "stats": {
          "unique_count": 8,
          "nan_count": 0,
          "min": "0.0",
          "max": "6572.0",
          "histogram": [
           {
            "bin_start": 0,
            "bin_end": 657.2,
            "count": 7
           },
           {
            "bin_start": 657.2,
            "bin_end": 1314.4,
            "count": 0
           },
           {
            "bin_start": 1314.4,
            "bin_end": 1971.6000000000001,
            "count": 0
           },
           {
            "bin_start": 1971.6000000000001,
            "bin_end": 2628.8,
            "count": 0
           },
           {
            "bin_start": 2628.8,
            "bin_end": 3286,
            "count": 0
           },
           {
            "bin_start": 3286,
            "bin_end": 3943.2000000000003,
            "count": 0
           },
           {
            "bin_start": 3943.2000000000003,
            "bin_end": 4600.400000000001,
            "count": 0
           },
           {
            "bin_start": 4600.400000000001,
            "bin_end": 5257.6,
            "count": 0
           },
           {
            "bin_start": 5257.6,
            "bin_end": 5914.8,
            "count": 0
           },
           {
            "bin_start": 5914.8,
            "bin_end": 6572,
            "count": 1
           }
          ]
         }
        },
        {
         "name": "MUL",
         "dtype": "float64",
         "stats": {
          "unique_count": 8,
          "nan_count": 0,
          "min": "0.0",
          "max": "6571.0",
          "histogram": [
           {
            "bin_start": 0,
            "bin_end": 657.1,
            "count": 7
           },
           {
            "bin_start": 657.1,
            "bin_end": 1314.2,
            "count": 0
           },
           {
            "bin_start": 1314.2,
            "bin_end": 1971.3000000000002,
            "count": 0
           },
           {
            "bin_start": 1971.3000000000002,
            "bin_end": 2628.4,
            "count": 0
           },
           {
            "bin_start": 2628.4,
            "bin_end": 3285.5,
            "count": 0
           },
           {
            "bin_start": 3285.5,
            "bin_end": 3942.6000000000004,
            "count": 0
           },
           {
            "bin_start": 3942.6000000000004,
            "bin_end": 4599.7,
            "count": 0
           },
           {
            "bin_start": 4599.7,
            "bin_end": 5256.8,
            "count": 0
           },
           {
            "bin_start": 5256.8,
            "bin_end": 5913.900000000001,
            "count": 0
           },
           {
            "bin_start": 5913.900000000001,
            "bin_end": 6571,
            "count": 1
           }
          ]
         }
        },
        {
         "name": "CLO",
         "dtype": "float64",
         "stats": {
          "unique_count": 8,
          "nan_count": 0,
          "min": "0.04",
          "max": "6573.0",
          "histogram": [
           {
            "bin_start": 0.04,
            "bin_end": 657.336,
            "count": 7
           },
           {
            "bin_start": 657.336,
            "bin_end": 1314.632,
            "count": 0
           },
           {
            "bin_start": 1314.632,
            "bin_end": 1971.928,
            "count": 0
           },
           {
            "bin_start": 1971.928,
            "bin_end": 2629.224,
            "count": 0
           },
           {
            "bin_start": 2629.224,
            "bin_end": 3286.5200000000004,
            "count": 0
           },
           {
            "bin_start": 3286.5200000000004,
            "bin_end": 3943.8160000000003,
            "count": 0
           },
           {
            "bin_start": 3943.8160000000003,
            "bin_end": 4601.112,
            "count": 0
           },
           {
            "bin_start": 4601.112,
            "bin_end": 5258.408,
            "count": 0
           },
           {
            "bin_start": 5258.408,
            "bin_end": 5915.704000000001,
            "count": 0
           },
           {
            "bin_start": 5915.704000000001,
            "bin_end": 6573,
            "count": 1
           }
          ]
         }
        },
        {
         "name": "BEL",
         "dtype": "float64",
         "stats": {
          "unique_count": 8,
          "nan_count": 0,
          "min": "0.13",
          "max": "6574.0",
          "histogram": [
           {
            "bin_start": 0.13,
            "bin_end": 657.5169999999999,
            "count": 7
           },
           {
            "bin_start": 657.5169999999999,
            "bin_end": 1314.904,
            "count": 0
           },
           {
            "bin_start": 1314.904,
            "bin_end": 1972.291,
            "count": 0
           },
           {
            "bin_start": 1972.291,
            "bin_end": 2629.678,
            "count": 0
           },
           {
            "bin_start": 2629.678,
            "bin_end": 3287.0649999999996,
            "count": 0
           },
           {
            "bin_start": 3287.0649999999996,
            "bin_end": 3944.4519999999998,
            "count": 0
           },
           {
            "bin_start": 3944.4519999999998,
            "bin_end": 4601.839,
            "count": 0
           },
           {
            "bin_start": 4601.839,
            "bin_end": 5259.226,
            "count": 0
           },
           {
            "bin_start": 5259.226,
            "bin_end": 5916.612999999999,
            "count": 0
           },
           {
            "bin_start": 5916.612999999999,
            "bin_end": 6574,
            "count": 1
           }
          ]
         }
        },
        {
         "name": "MAL",
         "dtype": "float64",
         "stats": {
          "unique_count": 8,
          "nan_count": 0,
          "min": "0.67",
          "max": "6570.0",
          "histogram": [
           {
            "bin_start": 0.67,
            "bin_end": 657.603,
            "count": 7
           },
           {
            "bin_start": 657.603,
            "bin_end": 1314.536,
            "count": 0
           },
           {
            "bin_start": 1314.536,
            "bin_end": 1971.469,
            "count": 0
           },
           {
            "bin_start": 1971.469,
            "bin_end": 2628.402,
            "count": 0
           },
           {
            "bin_start": 2628.402,
            "bin_end": 3285.335,
            "count": 0
           },
           {
            "bin_start": 3285.335,
            "bin_end": 3942.268,
            "count": 0
           },
           {
            "bin_start": 3942.268,
            "bin_end": 4599.201,
            "count": 0
           },
           {
            "bin_start": 4599.201,
            "bin_end": 5256.134,
            "count": 0
           },
           {
            "bin_start": 5256.134,
            "bin_end": 5913.067,
            "count": 0
           },
           {
            "bin_start": 5913.067,
            "bin_end": 6570,
            "count": 1
           }
          ]
         }
        },
        {
         "name": "_deepnote_index_column",
         "dtype": "object"
        }
       ],
       "rows_top": [
        {
         "RPT": 6568,
         "VAL": 6571,
         "ROS": 6572,
         "KIL": 6569,
         "SHA": 6572,
         "BIR": 6574,
         "DUB": 6571,
         "CLA": 6572,
         "MUL": 6571,
         "CLO": 6573,
         "BEL": 6574,
         "MAL": 6570,
         "_deepnote_index_column": "count"
        },
        {
         "RPT": 12.362987210718636,
         "VAL": 10.644314411809468,
         "ROS": 11.660526475958614,
         "KIL": 6.306468260009134,
         "SHA": 10.455833840535604,
         "BIR": 7.092254335260115,
         "DUB": 9.797342870187187,
         "CLA": 8.495053256238588,
         "MUL": 8.493590016740221,
         "CLO": 8.707331507682946,
         "BEL": 13.121006997261942,
         "MAL": 15.599079147640794,
         "_deepnote_index_column": "mean"
        },
        {
         "RPT": 5.618412959473285,
         "VAL": 5.2673564715943675,
         "ROS": 5.00844995886674,
         "KIL": 3.6058112071455097,
         "SHA": 4.936125157203556,
         "BIR": 3.9686831153772095,
         "DUB": 4.977554606833067,
         "CLA": 4.499449045244691,
         "MUL": 4.166872499235682,
         "CLO": 4.5039544468791535,
         "BEL": 5.835037000573735,
         "MAL": 6.699793517366434,
         "_deepnote_index_column": "std"
        },
        {
         "RPT": 0.67,
         "VAL": 0.21,
         "ROS": 1.5,
         "KIL": 0,
         "SHA": 0.13,
         "BIR": 0,
         "DUB": 0,
         "CLA": 0,
         "MUL": 0,
         "CLO": 0.04,
         "BEL": 0.13,
         "MAL": 0.67,
         "_deepnote_index_column": "min"
        },
        {
         "RPT": 8.12,
         "VAL": 6.67,
         "ROS": 8,
         "KIL": 3.58,
         "SHA": 6.75,
         "BIR": 4,
         "DUB": 6,
         "CLA": 5.09,
         "MUL": 5.37,
         "CLO": 5.33,
         "BEL": 8.71,
         "MAL": 10.71,
         "_deepnote_index_column": "25%"
        },
        {
         "RPT": 11.71,
         "VAL": 10.17,
         "ROS": 10.92,
         "KIL": 5.75,
         "SHA": 9.96,
         "BIR": 6.83,
         "DUB": 9.21,
         "CLA": 8.08,
         "MUL": 8.17,
         "CLO": 8.29,
         "BEL": 12.5,
         "MAL": 15,
         "_deepnote_index_column": "50%"
        },
        {
         "RPT": 15.92,
         "VAL": 14.04,
         "ROS": 14.67,
         "KIL": 8.42,
         "SHA": 13.54,
         "BIR": 9.67,
         "DUB": 12.96,
         "CLA": 11.42,
         "MUL": 11.190000000000001,
         "CLO": 11.63,
         "BEL": 16.88,
         "MAL": 19.83,
         "_deepnote_index_column": "75%"
        },
        {
         "RPT": 35.8,
         "VAL": 33.37,
         "ROS": 33.84,
         "KIL": 28.46,
         "SHA": 37.54,
         "BIR": 26.16,
         "DUB": 30.37,
         "CLA": 31.08,
         "MUL": 25.88,
         "CLO": 28.21,
         "BEL": 42.38,
         "MAL": 42.54,
         "_deepnote_index_column": "max"
        }
       ],
       "rows_bottom": null
      },
      "text/plain": "               RPT          VAL          ROS          KIL          SHA  \\\ncount  6568.000000  6571.000000  6572.000000  6569.000000  6572.000000   \nmean     12.362987    10.644314    11.660526     6.306468    10.455834   \nstd       5.618413     5.267356     5.008450     3.605811     4.936125   \nmin       0.670000     0.210000     1.500000     0.000000     0.130000   \n25%       8.120000     6.670000     8.000000     3.580000     6.750000   \n50%      11.710000    10.170000    10.920000     5.750000     9.960000   \n75%      15.920000    14.040000    14.670000     8.420000    13.540000   \nmax      35.800000    33.370000    33.840000    28.460000    37.540000   \n\n               BIR          DUB          CLA          MUL          CLO  \\\ncount  6574.000000  6571.000000  6572.000000  6571.000000  6573.000000   \nmean      7.092254     9.797343     8.495053     8.493590     8.707332   \nstd       3.968683     4.977555     4.499449     4.166872     4.503954   \nmin       0.000000     0.000000     0.000000     0.000000     0.040000   \n25%       4.000000     6.000000     5.090000     5.370000     5.330000   \n50%       6.830000     9.210000     8.080000     8.170000     8.290000   \n75%       9.670000    12.960000    11.420000    11.190000    11.630000   \nmax      26.160000    30.370000    31.080000    25.880000    28.210000   \n\n               BEL          MAL  \ncount  6574.000000  6570.000000  \nmean     13.121007    15.599079  \nstd       5.835037     6.699794  \nmin       0.130000     0.670000  \n25%       8.710000    10.710000  \n50%      12.500000    15.000000  \n75%      16.880000    19.830000  \nmax      42.380000    42.540000  ",
      "text/html": "<div>\n<style scoped>\n    .dataframe tbody tr th:only-of-type {\n        vertical-align: middle;\n    }\n\n    .dataframe tbody tr th {\n        vertical-align: top;\n    }\n\n    .dataframe thead th {\n        text-align: right;\n    }\n</style>\n<table border=\"1\" class=\"dataframe\">\n  <thead>\n    <tr style=\"text-align: right;\">\n      <th></th>\n      <th>RPT</th>\n      <th>VAL</th>\n      <th>ROS</th>\n      <th>KIL</th>\n      <th>SHA</th>\n      <th>BIR</th>\n      <th>DUB</th>\n      <th>CLA</th>\n      <th>MUL</th>\n      <th>CLO</th>\n      <th>BEL</th>\n      <th>MAL</th>\n    </tr>\n  </thead>\n  <tbody>\n    <tr>\n      <th>count</th>\n      <td>6568.000000</td>\n      <td>6571.000000</td>\n      <td>6572.000000</td>\n      <td>6569.000000</td>\n      <td>6572.000000</td>\n      <td>6574.000000</td>\n      <td>6571.000000</td>\n      <td>6572.000000</td>\n      <td>6571.000000</td>\n      <td>6573.000000</td>\n      <td>6574.000000</td>\n      <td>6570.000000</td>\n    </tr>\n    <tr>\n      <th>mean</th>\n      <td>12.362987</td>\n      <td>10.644314</td>\n      <td>11.660526</td>\n      <td>6.306468</td>\n      <td>10.455834</td>\n      <td>7.092254</td>\n      <td>9.797343</td>\n      <td>8.495053</td>\n      <td>8.493590</td>\n      <td>8.707332</td>\n      <td>13.121007</td>\n      <td>15.599079</td>\n    </tr>\n    <tr>\n      <th>std</th>\n      <td>5.618413</td>\n      <td>5.267356</td>\n      <td>5.008450</td>\n      <td>3.605811</td>\n      <td>4.936125</td>\n      <td>3.968683</td>\n      <td>4.977555</td>\n      <td>4.499449</td>\n      <td>4.166872</td>\n      <td>4.503954</td>\n      <td>5.835037</td>\n      <td>6.699794</td>\n    </tr>\n    <tr>\n      <th>min</th>\n      <td>0.670000</td>\n      <td>0.210000</td>\n      <td>1.500000</td>\n      <td>0.000000</td>\n      <td>0.130000</td>\n      <td>0.000000</td>\n      <td>0.000000</td>\n      <td>0.000000</td>\n      <td>0.000000</td>\n      <td>0.040000</td>\n      <td>0.130000</td>\n      <td>0.670000</td>\n    </tr>\n    <tr>\n      <th>25%</th>\n      <td>8.120000</td>\n      <td>6.670000</td>\n      <td>8.000000</td>\n      <td>3.580000</td>\n      <td>6.750000</td>\n      <td>4.000000</td>\n      <td>6.000000</td>\n      <td>5.090000</td>\n      <td>5.370000</td>\n      <td>5.330000</td>\n      <td>8.710000</td>\n      <td>10.710000</td>\n    </tr>\n    <tr>\n      <th>50%</th>\n      <td>11.710000</td>\n      <td>10.170000</td>\n      <td>10.920000</td>\n      <td>5.750000</td>\n      <td>9.960000</td>\n      <td>6.830000</td>\n      <td>9.210000</td>\n      <td>8.080000</td>\n      <td>8.170000</td>\n      <td>8.290000</td>\n      <td>12.500000</td>\n      <td>15.000000</td>\n    </tr>\n    <tr>\n      <th>75%</th>\n      <td>15.920000</td>\n      <td>14.040000</td>\n      <td>14.670000</td>\n      <td>8.420000</td>\n      <td>13.540000</td>\n      <td>9.670000</td>\n      <td>12.960000</td>\n      <td>11.420000</td>\n      <td>11.190000</td>\n      <td>11.630000</td>\n      <td>16.880000</td>\n      <td>19.830000</td>\n    </tr>\n    <tr>\n      <th>max</th>\n      <td>35.800000</td>\n      <td>33.370000</td>\n      <td>33.840000</td>\n      <td>28.460000</td>\n      <td>37.540000</td>\n      <td>26.160000</td>\n      <td>30.370000</td>\n      <td>31.080000</td>\n      <td>25.880000</td>\n      <td>28.210000</td>\n      <td>42.380000</td>\n      <td>42.540000</td>\n    </tr>\n  </tbody>\n</table>\n</div>"
     },
     "metadata": {}
    }
   ]
  },
  {
   "cell_type": "markdown",
   "source": "### Step 10. Create a DataFrame called day_stats and calculate the min, max and mean windspeed and standard deviations of the windspeeds across all the locations at each day.\n\n#### A different set of numbers for each day.",
   "metadata": {
    "id": "LAqbqJdddeHZ",
    "cell_id": "00023-01a2005c-e641-43bc-be17-98a62f7c5b92",
    "deepnote_cell_type": "markdown"
   }
  },
  {
   "cell_type": "code",
   "metadata": {
    "colab": {
     "base_uri": "https://localhost:8080/",
     "height": 1000
    },
    "id": "5DFUcYKCdeHZ",
    "executionInfo": {
     "status": "ok",
     "timestamp": 1623812279835,
     "user_tz": 240,
     "elapsed": 14847,
     "user": {
      "displayName": "Andrés Sánchez",
      "photoUrl": "https://lh3.googleusercontent.com/a-/AOh14Gg69bZMv30ckb-T1MJy0nSxWIHUaP0p2uP6MYBuvQ=s64",
      "userId": "07985253921366566280"
     }
    },
    "outputId": "4f7973ee-73e1-4ce9-fd44-7a87f5dae96f",
    "cell_id": "00024-c2d7fdcc-a4ba-436a-b9e0-ddedded50b58",
    "deepnote_to_be_reexecuted": false,
    "source_hash": "4589524",
    "execution_start": 1630098252732,
    "execution_millis": 12246,
    "deepnote_cell_type": "code"
   },
   "source": "loc_stats = data.apply(pd.Series.describe, axis=1)\nloc_stats",
   "execution_count": 12,
   "outputs": [
    {
     "output_type": "execute_result",
     "execution_count": 12,
     "data": {
      "application/vnd.deepnote.dataframe.v2+json": {
       "row_count": 6574,
       "column_count": 8,
       "columns": [
        {
         "name": "count",
         "dtype": "float64",
         "stats": {
          "unique_count": 4,
          "nan_count": 0,
          "min": "9.0",
          "max": "12.0",
          "histogram": [
           {
            "bin_start": 9,
            "bin_end": 9.3,
            "count": 1
           },
           {
            "bin_start": 9.3,
            "bin_end": 9.6,
            "count": 0
           },
           {
            "bin_start": 9.6,
            "bin_end": 9.9,
            "count": 0
           },
           {
            "bin_start": 9.9,
            "bin_end": 10.2,
            "count": 1
           },
           {
            "bin_start": 10.2,
            "bin_end": 10.5,
            "count": 0
           },
           {
            "bin_start": 10.5,
            "bin_end": 10.8,
            "count": 0
           },
           {
            "bin_start": 10.8,
            "bin_end": 11.1,
            "count": 26
           },
           {
            "bin_start": 11.1,
            "bin_end": 11.4,
            "count": 0
           },
           {
            "bin_start": 11.4,
            "bin_end": 11.7,
            "count": 0
           },
           {
            "bin_start": 11.7,
            "bin_end": 12,
            "count": 6546
           }
          ]
         }
        },
        {
         "name": "mean",
         "dtype": "float64",
         "stats": {
          "unique_count": 5842,
          "nan_count": 0,
          "min": "2.0625",
          "max": "29.99416666666667",
          "histogram": [
           {
            "bin_start": 2.0625,
            "bin_end": 4.855666666666667,
            "count": 623
           },
           {
            "bin_start": 4.855666666666667,
            "bin_end": 7.648833333333334,
            "count": 1465
           },
           {
            "bin_start": 7.648833333333334,
            "bin_end": 10.442,
            "count": 1574
           },
           {
            "bin_start": 10.442,
            "bin_end": 13.235166666666668,
            "count": 1362
           },
           {
            "bin_start": 13.235166666666668,
            "bin_end": 16.028333333333336,
            "count": 878
           },
           {
            "bin_start": 16.028333333333336,
            "bin_end": 18.8215,
            "count": 414
           },
           {
            "bin_start": 18.8215,
            "bin_end": 21.61466666666667,
            "count": 185
           },
           {
            "bin_start": 21.61466666666667,
            "bin_end": 24.407833333333336,
            "count": 56
           },
           {
            "bin_start": 24.407833333333336,
            "bin_end": 27.201000000000004,
            "count": 15
           },
           {
            "bin_start": 27.201000000000004,
            "bin_end": 29.99416666666667,
            "count": 2
           }
          ]
         }
        },
        {
         "name": "std",
         "dtype": "float64",
         "stats": {
          "unique_count": 6573,
          "nan_count": 0,
          "min": "0.9074990608560128",
          "max": "10.648339285797318",
          "histogram": [
           {
            "bin_start": 0.9074990608560128,
            "bin_end": 1.8815830833501432,
            "count": 212
           },
           {
            "bin_start": 1.8815830833501432,
            "bin_end": 2.8556671058442737,
            "count": 1539
           },
           {
            "bin_start": 2.8556671058442737,
            "bin_end": 3.8297511283384043,
            "count": 2426
           },
           {
            "bin_start": 3.8297511283384043,
            "bin_end": 4.803835150832535,
            "count": 1602
           },
           {
            "bin_start": 4.803835150832535,
            "bin_end": 5.777919173326666,
            "count": 590
           },
           {
            "bin_start": 5.777919173326666,
            "bin_end": 6.752003195820796,
            "count": 164
           },
           {
            "bin_start": 6.752003195820796,
            "bin_end": 7.726087218314927,
            "count": 28
           },
           {
            "bin_start": 7.726087218314927,
            "bin_end": 8.700171240809057,
            "count": 9
           },
           {
            "bin_start": 8.700171240809057,
            "bin_end": 9.674255263303188,
            "count": 2
           },
           {
            "bin_start": 9.674255263303188,
            "bin_end": 10.648339285797318,
            "count": 2
           }
          ]
         }
        },
        {
         "name": "min",
         "dtype": "float64",
         "stats": {
          "unique_count": 411,
          "nan_count": 0,
          "min": "0.0",
          "max": "23.54",
          "histogram": [
           {
            "bin_start": 0,
            "bin_end": 2.354,
            "count": 1311
           },
           {
            "bin_start": 2.354,
            "bin_end": 4.708,
            "count": 1748
           },
           {
            "bin_start": 4.708,
            "bin_end": 7.062,
            "count": 1493
           },
           {
            "bin_start": 7.062,
            "bin_end": 9.416,
            "count": 1066
           },
           {
            "bin_start": 9.416,
            "bin_end": 11.77,
            "count": 596
           },
           {
            "bin_start": 11.77,
            "bin_end": 14.124,
            "count": 231
           },
           {
            "bin_start": 14.124,
            "bin_end": 16.478,
            "count": 85
           },
           {
            "bin_start": 16.478,
            "bin_end": 18.832,
            "count": 39
           },
           {
            "bin_start": 18.832,
            "bin_end": 21.186,
            "count": 3
           },
           {
            "bin_start": 21.186,
            "bin_end": 23.54,
            "count": 2
           }
          ]
         }
        },
        {
         "name": "25%",
         "dtype": "float64",
         "stats": {
          "unique_count": 3685,
          "nan_count": 0,
          "min": "0.32",
          "max": "25.317500000000003",
          "histogram": [
           {
            "bin_start": 0.32,
            "bin_end": 2.81975,
            "count": 569
           },
           {
            "bin_start": 2.81975,
            "bin_end": 5.319500000000001,
            "count": 1404
           },
           {
            "bin_start": 5.319500000000001,
            "bin_end": 7.81925,
            "count": 1532
           },
           {
            "bin_start": 7.81925,
            "bin_end": 10.319,
            "count": 1346
           },
           {
            "bin_start": 10.319,
            "bin_end": 12.818750000000001,
            "count": 946
           },
           {
            "bin_start": 12.818750000000001,
            "bin_end": 15.3185,
            "count": 468
           },
           {
            "bin_start": 15.3185,
            "bin_end": 17.818250000000003,
            "count": 209
           },
           {
            "bin_start": 17.818250000000003,
            "bin_end": 20.318,
            "count": 67
           },
           {
            "bin_start": 20.318,
            "bin_end": 22.81775,
            "count": 28
           },
           {
            "bin_start": 22.81775,
            "bin_end": 25.317500000000003,
            "count": 5
           }
          ]
         }
        },
        {
         "name": "50%",
         "dtype": "float64",
         "stats": {
          "unique_count": 1834,
          "nan_count": 0,
          "min": "1.435",
          "max": "30.725",
          "histogram": [
           {
            "bin_start": 1.435,
            "bin_end": 4.364000000000001,
            "count": 641
           },
           {
            "bin_start": 4.364000000000001,
            "bin_end": 7.293000000000001,
            "count": 1575
           },
           {
            "bin_start": 7.293000000000001,
            "bin_end": 10.222000000000001,
            "count": 1660
           },
           {
            "bin_start": 10.222000000000001,
            "bin_end": 13.151000000000002,
            "count": 1339
           },
           {
            "bin_start": 13.151000000000002,
            "bin_end": 16.080000000000002,
            "count": 814
           },
           {
            "bin_start": 16.080000000000002,
            "bin_end": 19.009,
            "count": 364
           },
           {
            "bin_start": 19.009,
            "bin_end": 21.938,
            "count": 127
           },
           {
            "bin_start": 21.938,
            "bin_end": 24.867,
            "count": 47
           },
           {
            "bin_start": 24.867,
            "bin_end": 27.796000000000003,
            "count": 5
           },
           {
            "bin_start": 27.796000000000003,
            "bin_end": 30.725,
            "count": 2
           }
          ]
         }
        },
        {
         "name": "75%",
         "dtype": "float64",
         "stats": {
          "unique_count": 4180,
          "nan_count": 0,
          "min": "2.2925",
          "max": "33.435",
          "histogram": [
           {
            "bin_start": 2.2925,
            "bin_end": 5.406750000000001,
            "count": 378
           },
           {
            "bin_start": 5.406750000000001,
            "bin_end": 8.521,
            "count": 1396
           },
           {
            "bin_start": 8.521,
            "bin_end": 11.635250000000001,
            "count": 1658
           },
           {
            "bin_start": 11.635250000000001,
            "bin_end": 14.749500000000001,
            "count": 1443
           },
           {
            "bin_start": 14.749500000000001,
            "bin_end": 17.86375,
            "count": 944
           },
           {
            "bin_start": 17.86375,
            "bin_end": 20.978,
            "count": 453
           },
           {
            "bin_start": 20.978,
            "bin_end": 24.092250000000003,
            "count": 222
           },
           {
            "bin_start": 24.092250000000003,
            "bin_end": 27.206500000000002,
            "count": 57
           },
           {
            "bin_start": 27.206500000000002,
            "bin_end": 30.32075,
            "count": 18
           },
           {
            "bin_start": 30.32075,
            "bin_end": 33.435,
            "count": 5
           }
          ]
         }
        },
        {
         "name": "max",
         "dtype": "float64",
         "stats": {
          "unique_count": 723,
          "nan_count": 0,
          "min": "4.38",
          "max": "42.54",
          "histogram": [
           {
            "bin_start": 4.38,
            "bin_end": 8.196,
            "count": 255
           },
           {
            "bin_start": 8.196,
            "bin_end": 12.012,
            "count": 986
           },
           {
            "bin_start": 12.012,
            "bin_end": 15.828,
            "count": 1560
           },
           {
            "bin_start": 15.828,
            "bin_end": 19.644,
            "count": 1558
           },
           {
            "bin_start": 19.644,
            "bin_end": 23.459999999999997,
            "count": 1142
           },
           {
            "bin_start": 23.459999999999997,
            "bin_end": 27.276,
            "count": 627
           },
           {
            "bin_start": 27.276,
            "bin_end": 31.092,
            "count": 278
           },
           {
            "bin_start": 31.092,
            "bin_end": 34.908,
            "count": 126
           },
           {
            "bin_start": 34.908,
            "bin_end": 38.724000000000004,
            "count": 31
           },
           {
            "bin_start": 38.724000000000004,
            "bin_end": 42.54,
            "count": 11
           }
          ]
         }
        },
        {
         "name": "_deepnote_index_column",
         "dtype": "datetime64[ns]"
        }
       ],
       "rows_top": [
        {
         "count": 11,
         "mean": 13.018181818181818,
         "std": 2.8088745724286737,
         "min": 9.29,
         "25%": 10.54,
         "50%": 13.17,
         "75%": 15,
         "max": 18.5,
         "_deepnote_index_column": "1961-01-01T00:00:00.000000"
        },
        {
         "count": 11,
         "mean": 11.336363636363636,
         "std": 3.1889944268602064,
         "min": 6.5,
         "25%": 9.73,
         "50%": 10.83,
         "75%": 13.225,
         "max": 17.54,
         "_deepnote_index_column": "1961-01-02T00:00:00.000000"
        },
        {
         "count": 11,
         "mean": 11.641818181818183,
         "std": 3.6819120526753983,
         "min": 6.17,
         "25%": 9.315000000000001,
         "50%": 11.25,
         "75%": 12.73,
         "max": 18.5,
         "_deepnote_index_column": "1961-01-03T00:00:00.000000"
        },
        {
         "count": 12,
         "mean": 6.619166666666666,
         "std": 3.1981257532081715,
         "min": 1.79,
         "25%": 4.57,
         "50%": 5.855,
         "75%": 9.1175,
         "max": 11.75,
         "_deepnote_index_column": "1961-01-04T00:00:00.000000"
        },
        {
         "count": 12,
         "mean": 10.63,
         "std": 2.4453555235105666,
         "min": 6.17,
         "25%": 9.807500000000001,
         "50%": 11.17,
         "75%": 12.17,
         "max": 13.33,
         "_deepnote_index_column": "1961-01-05T00:00:00.000000"
        },
        {
         "count": 12,
         "mean": 8.24,
         "std": 2.9980630110426,
         "min": 4.42,
         "25%": 6.345,
         "50%": 7.81,
         "75%": 10.137500000000001,
         "max": 13.21,
         "_deepnote_index_column": "1961-01-06T00:00:00.000000"
        },
        {
         "count": 12,
         "mean": 10.384999999999998,
         "std": 3.0721135750785353,
         "min": 4.96,
         "25%": 8.2375,
         "50%": 9.395,
         "75%": 13.5725,
         "max": 14.29,
         "_deepnote_index_column": "1961-01-07T00:00:00.000000"
        },
        {
         "count": 12,
         "mean": 10.487500000000002,
         "std": 3.5472374013897325,
         "min": 5.91,
         "25%": 7.62,
         "50%": 9.684999999999999,
         "75%": 11.7925,
         "max": 16.62,
         "_deepnote_index_column": "1961-01-08T00:00:00.000000"
        },
        {
         "count": 12,
         "mean": 9.8975,
         "std": 2.905953528377718,
         "min": 4.75,
         "25%": 7.977499999999999,
         "50%": 10.065000000000001,
         "75%": 11.2675,
         "max": 15.37,
         "_deepnote_index_column": "1961-01-09T00:00:00.000000"
        },
        {
         "count": 12,
         "mean": 10.4775,
         "std": 3.4426103336118232,
         "min": 6.54,
         "25%": 8.487499999999999,
         "50%": 9.355,
         "75%": 11.5225,
         "max": 19.5,
         "_deepnote_index_column": "1961-01-10T00:00:00.000000"
        },
        {
         "count": 12,
         "mean": 9.625000000000002,
         "std": 4.805081590452871,
         "min": 2.79,
         "25%": 7.4675,
         "50%": 8.545,
         "75%": 10.0475,
         "max": 20.71,
         "_deepnote_index_column": "1961-01-11T00:00:00.000000"
        },
        {
         "count": 12,
         "mean": 13.524166666666668,
         "std": 3.375046015398991,
         "min": 9.46,
         "25%": 10.497499999999999,
         "50%": 13.085,
         "75%": 15.552499999999998,
         "max": 19.75,
         "_deepnote_index_column": "1961-01-12T00:00:00.000000"
        },
        {
         "count": 12,
         "mean": 4.2775,
         "std": 2.9163492900916688,
         "min": 0.58,
         "25%": 2.3200000000000003,
         "50%": 3.455,
         "75%": 5.6975,
         "max": 9.92,
         "_deepnote_index_column": "1961-01-13T00:00:00.000000"
        },
        {
         "count": 12,
         "mean": 3.975833333333334,
         "std": 2.7888331164691715,
         "min": 0.5,
         "25%": 2.2800000000000002,
         "50%": 2.895,
         "75%": 6.015000000000001,
         "max": 9.04,
         "_deepnote_index_column": "1961-01-14T00:00:00.000000"
        },
        {
         "count": 12,
         "mean": 6.695,
         "std": 3.27674034258549,
         "min": 2.37,
         "25%": 4.345,
         "50%": 6.79,
         "75%": 8.0725,
         "max": 12.04,
         "_deepnote_index_column": "1961-01-15T00:00:00.000000"
        },
        {
         "count": 12,
         "mean": 10.164166666666667,
         "std": 3.5212767786010732,
         "min": 4.71,
         "25%": 7.99,
         "50%": 9.145,
         "75%": 11.765,
         "max": 16.42,
         "_deepnote_index_column": "1961-01-16T00:00:00.000000"
        },
        {
         "count": 12,
         "mean": 13.621666666666664,
         "std": 2.8747389868341506,
         "min": 8.71,
         "25%": 11.295,
         "50%": 13.690000000000001,
         "75%": 15.959999999999999,
         "max": 17.75,
         "_deepnote_index_column": "1961-01-17T00:00:00.000000"
        },
        {
         "count": 11,
         "mean": 15.348181818181816,
         "std": 4.128786306366117,
         "min": 8.79,
         "25%": 11.71,
         "50%": 16.71,
         "75%": 18.25,
         "max": 20.79,
         "_deepnote_index_column": "1961-01-18T00:00:00.000000"
        },
        {
         "count": 12,
         "mean": 4.111666666666666,
         "std": 2.1713248294880976,
         "min": 1.04,
         "25%": 2.77,
         "50%": 3.545,
         "75%": 5.4075,
         "max": 7.83,
         "_deepnote_index_column": "1961-01-19T00:00:00.000000"
        },
        {
         "count": 12,
         "mean": 5.98,
         "std": 3.017220273996942,
         "min": 1.58,
         "25%": 3.3200000000000003,
         "50%": 5.75,
         "75%": 7.93,
         "max": 11.83,
         "_deepnote_index_column": "1961-01-20T00:00:00.000000"
        },
        {
         "count": 12,
         "mean": 9.3025,
         "std": 2.5462097499831176,
         "min": 6.13,
         "25%": 7.5125,
         "50%": 8.605,
         "75%": 10.6675,
         "max": 14.33,
         "_deepnote_index_column": "1961-01-21T00:00:00.000000"
        },
        {
         "count": 12,
         "mean": 7.5825,
         "std": 2.4853283119503184,
         "min": 2.17,
         "25%": 6.225,
         "50%": 7.27,
         "75%": 9.6725,
         "max": 10.88,
         "_deepnote_index_column": "1961-01-22T00:00:00.000000"
        },
        {
         "count": 12,
         "mean": 14.034166666666664,
         "std": 3.2085920399433574,
         "min": 9.96,
         "25%": 12.19,
         "50%": 13.6,
         "75%": 15.2275,
         "max": 20.58,
         "_deepnote_index_column": "1961-01-23T00:00:00.000000"
        },
        {
         "count": 12,
         "mean": 20.000833333333336,
         "std": 4.178121496848104,
         "min": 14.83,
         "25%": 15.594999999999999,
         "50%": 19.88,
         "75%": 23.5775,
         "max": 25.84,
         "_deepnote_index_column": "1961-01-24T00:00:00.000000"
        },
        {
         "count": 12,
         "mean": 10.964999999999998,
         "std": 3.215017319336921,
         "min": 6.04,
         "25%": 9.115,
         "50%": 10.585,
         "75%": 12.907499999999999,
         "max": 17.5,
         "_deepnote_index_column": "1961-01-25T00:00:00.000000"
        },
        {
         "count": 12,
         "mean": 18.324166666666667,
         "std": 3.6395465709926342,
         "min": 14.25,
         "25%": 15.5425,
         "50%": 18.145,
         "75%": 19.435,
         "max": 25.25,
         "_deepnote_index_column": "1961-01-26T00:00:00.000000"
        },
        {
         "count": 12,
         "mean": 19.84583333333333,
         "std": 3.7236918589762578,
         "min": 16.13,
         "25%": 17.255,
         "50%": 18.85,
         "75%": 21.1025,
         "max": 27.63,
         "_deepnote_index_column": "1961-01-27T00:00:00.000000"
        },
        {
         "count": 12,
         "mean": 13.690833333333336,
         "std": 3.444482962476064,
         "min": 8.87,
         "25%": 11.4825,
         "50%": 12.79,
         "75%": 15.6975,
         "max": 20.3,
         "_deepnote_index_column": "1961-01-28T00:00:00.000000"
        },
        {
         "count": 11,
         "mean": 22.024545454545454,
         "std": 2.7440603624423563,
         "min": 17.54,
         "25%": 20.1,
         "50%": 22,
         "75%": 23.645,
         "max": 27.71,
         "_deepnote_index_column": "1961-01-29T00:00:00.000000"
        },
        {
         "count": 12,
         "mean": 12.490833333333333,
         "std": 3.5137663251671682,
         "min": 7.92,
         "25%": 10.137500000000001,
         "50%": 11.690000000000001,
         "75%": 13.435,
         "max": 19.25,
         "_deepnote_index_column": "1961-01-30T00:00:00.000000"
        },
        {
         "count": 12,
         "mean": 13.933333333333332,
         "std": 4.518445696824464,
         "min": 8.21,
         "25%": 10.49,
         "50%": 13.17,
         "75%": 15.3375,
         "max": 24.21,
         "_deepnote_index_column": "1961-01-31T00:00:00.000000"
        },
        {
         "count": 12,
         "mean": 8.875833333333333,
         "std": 3.5308753957915395,
         "min": 3.63,
         "25%": 6.345,
         "50%": 8.52,
         "75%": 10.6475,
         "max": 15.12,
         "_deepnote_index_column": "1961-02-01T00:00:00.000000"
        },
        {
         "count": 12,
         "mean": 11.489166666666668,
         "std": 5.959376810514415,
         "min": 6.08,
         "25%": 7.1575,
         "50%": 9.54,
         "75%": 13.4025,
         "max": 24.21,
         "_deepnote_index_column": "1961-02-02T00:00:00.000000"
        },
        {
         "count": 12,
         "mean": 8.65,
         "std": 2.8671557017681857,
         "min": 5.09,
         "25%": 6.2125,
         "50%": 8.665,
         "75%": 10.1625,
         "max": 14.37,
         "_deepnote_index_column": "1961-02-03T00:00:00.000000"
        },
        {
         "count": 12,
         "mean": 11.6325,
         "std": 1.9692828643950568,
         "min": 8.71,
         "25%": 10.835,
         "50%": 11.315000000000001,
         "75%": 12.48,
         "max": 16.5,
         "_deepnote_index_column": "1961-02-04T00:00:00.000000"
        },
        {
         "count": 12,
         "mean": 15.530833333333332,
         "std": 3.2729871214182458,
         "min": 11.63,
         "25%": 13.309999999999999,
         "50%": 14.46,
         "75%": 17.395,
         "max": 22,
         "_deepnote_index_column": "1961-02-05T00:00:00.000000"
        },
        {
         "count": 12,
         "mean": 20.315833333333334,
         "std": 3.7358982328297707,
         "min": 14.46,
         "25%": 18.4975,
         "50%": 19.895000000000003,
         "75%": 22.505,
         "max": 26.38,
         "_deepnote_index_column": "1961-02-06T00:00:00.000000"
        },
        {
         "count": 12,
         "mean": 13.431666666666667,
         "std": 2.787367064366505,
         "min": 9.71,
         "25%": 11.1175,
         "50%": 13.625,
         "75%": 14.9625,
         "max": 18.05,
         "_deepnote_index_column": "1961-02-07T00:00:00.000000"
        },
        {
         "count": 12,
         "mean": 18.319999999999997,
         "std": 3.9324963156660773,
         "min": 11.63,
         "25%": 16.0425,
         "50%": 17.56,
         "75%": 21.36,
         "max": 24.54,
         "_deepnote_index_column": "1961-02-08T00:00:00.000000"
        },
        {
         "count": 12,
         "mean": 15.5075,
         "std": 3.201284188344648,
         "min": 10.71,
         "25%": 13.9175,
         "50%": 14.565000000000001,
         "75%": 16.2925,
         "max": 23.04,
         "_deepnote_index_column": "1961-02-09T00:00:00.000000"
        },
        {
         "count": 12,
         "mean": 13.435833333333335,
         "std": 4.37657910895824,
         "min": 8.08,
         "25%": 10.82,
         "50%": 12.04,
         "75%": 17.77,
         "max": 20.5,
         "_deepnote_index_column": "1961-02-10T00:00:00.000000"
        },
        {
         "count": 12,
         "mean": 15.714166666666669,
         "std": 3.2472798640017952,
         "min": 9.54,
         "25%": 13.925,
         "50%": 15.665,
         "75%": 16.9675,
         "max": 21.17,
         "_deepnote_index_column": "1961-02-11T00:00:00.000000"
        },
        {
         "count": 12,
         "mean": 14.515833333333333,
         "std": 4.553636824927229,
         "min": 8.38,
         "25%": 11.375,
         "50%": 14.495,
         "75%": 16.950000000000003,
         "max": 25.41,
         "_deepnote_index_column": "1961-02-12T00:00:00.000000"
        },
        {
         "count": 12,
         "mean": 18.060833333333335,
         "std": 4.261163857943324,
         "min": 13.96,
         "25%": 15.16,
         "50%": 16.354999999999997,
         "75%": 19.677500000000002,
         "max": 28.62,
         "_deepnote_index_column": "1961-02-13T00:00:00.000000"
        },
        {
         "count": 12,
         "mean": 14.091666666666663,
         "std": 2.0166796894145014,
         "min": 11.42,
         "25%": 12.247499999999999,
         "50%": 13.92,
         "75%": 15.512500000000001,
         "max": 17.25,
         "_deepnote_index_column": "1961-02-14T00:00:00.000000"
        },
        {
         "count": 12,
         "mean": 8.607500000000002,
         "std": 3.572236694285529,
         "min": 4.21,
         "25%": 6.1075,
         "50%": 7.79,
         "75%": 10.1425,
         "max": 17.12,
         "_deepnote_index_column": "1961-02-15T00:00:00.000000"
        },
        {
         "count": 12,
         "mean": 15.339999999999998,
         "std": 5.032505249963392,
         "min": 3.42,
         "25%": 13.655,
         "50%": 14.954999999999998,
         "75%": 17.634999999999998,
         "max": 22.58,
         "_deepnote_index_column": "1961-02-16T00:00:00.000000"
        },
        {
         "count": 12,
         "mean": 13.632499999999999,
         "std": 3.2659013095371336,
         "min": 6.17,
         "25%": 12.835,
         "50%": 14.315,
         "75%": 14.875,
         "max": 18.21,
         "_deepnote_index_column": "1961-02-17T00:00:00.000000"
        },
        {
         "count": 12,
         "mean": 11.615833333333333,
         "std": 2.942387584423523,
         "min": 6.04,
         "25%": 10.5325,
         "50%": 11.71,
         "75%": 12.4525,
         "max": 18.58,
         "_deepnote_index_column": "1961-02-18T00:00:00.000000"
        },
        {
         "count": 11,
         "mean": 15.162727272727272,
         "std": 5.646896653754327,
         "min": 9.62,
         "25%": 11.705,
         "50%": 13.67,
         "75%": 15.88,
         "max": 29.63,
         "_deepnote_index_column": "1961-02-19T00:00:00.000000"
        },
        {
         "count": 12,
         "mean": 10.205,
         "std": 2.225417223394709,
         "min": 7.25,
         "25%": 8.32,
         "50%": 10.775,
         "75%": 11.08,
         "max": 15.09,
         "_deepnote_index_column": "1961-02-20T00:00:00.000000"
        },
        {
         "count": 12,
         "mean": 6.495000000000001,
         "std": 2.604431538045037,
         "min": 2.21,
         "25%": 4.4575,
         "50%": 6.855,
         "75%": 7.505,
         "max": 12.12,
         "_deepnote_index_column": "1961-02-21T00:00:00.000000"
        },
        {
         "count": 12,
         "mean": 11.298333333333332,
         "std": 2.6046735385503195,
         "min": 6.46,
         "25%": 9.21,
         "50%": 11.934999999999999,
         "75%": 13.21,
         "max": 15.25,
         "_deepnote_index_column": "1961-02-22T00:00:00.000000"
        },
        {
         "count": 12,
         "mean": 18.033333333333335,
         "std": 3.340732998863718,
         "min": 12.42,
         "25%": 16.3175,
         "50%": 17.73,
         "75%": 20.677500000000002,
         "max": 23.21,
         "_deepnote_index_column": "1961-02-23T00:00:00.000000"
        },
        {
         "count": 12,
         "mean": 7.2825000000000015,
         "std": 2.170425701854991,
         "min": 4.58,
         "25%": 5.6775,
         "50%": 7.04,
         "75%": 8.835,
         "max": 11.38,
         "_deepnote_index_column": "1961-02-24T00:00:00.000000"
        },
        {
         "count": 12,
         "mean": 14.205833333333333,
         "std": 2.6870817504001123,
         "min": 10.21,
         "25%": 12.3,
         "50%": 13.5,
         "75%": 16.2025,
         "max": 18.84,
         "_deepnote_index_column": "1961-02-25T00:00:00.000000"
        },
        {
         "count": 12,
         "mean": 20.709999999999997,
         "std": 3.1939459777978256,
         "min": 15.21,
         "25%": 18.1575,
         "50%": 21.335,
         "75%": 22.895,
         "max": 25.8,
         "_deepnote_index_column": "1961-02-26T00:00:00.000000"
        },
        {
         "count": 12,
         "mean": 12.42,
         "std": 3.5434805693631994,
         "min": 6.87,
         "25%": 10.8675,
         "50%": 11.92,
         "75%": 13.25,
         "max": 20,
         "_deepnote_index_column": "1961-02-27T00:00:00.000000"
        },
        {
         "count": 11,
         "mean": 13.799999999999999,
         "std": 2.3763543506808915,
         "min": 8.92,
         "25%": 12.835,
         "50%": 13.96,
         "75%": 14.605,
         "max": 18.41,
         "_deepnote_index_column": "1961-02-28T00:00:00.000000"
        },
        {
         "count": 10,
         "mean": 11.871,
         "std": 3.7811034544605278,
         "min": 6.42,
         "25%": 9.905,
         "50%": 12,
         "75%": 13.015,
         "max": 20.62,
         "_deepnote_index_column": "1961-03-01T00:00:00.000000"
        },
        {
         "count": 12,
         "mean": 11.45833333333333,
         "std": 2.79966827039248,
         "min": 7.12,
         "25%": 10.2275,
         "50%": 10.73,
         "75%": 12.675,
         "max": 18.38,
         "_deepnote_index_column": "1961-03-02T00:00:00.000000"
        },
        {
         "count": 12,
         "mean": 13.281666666666666,
         "std": 4.039806100957486,
         "min": 8.71,
         "25%": 10.864999999999998,
         "50%": 13.08,
         "75%": 14.4525,
         "max": 23.45,
         "_deepnote_index_column": "1961-03-03T00:00:00.000000"
        }
       ],
       "rows_bottom": [
        {
         "count": 12,
         "mean": 10.476666666666668,
         "std": 4.1856341614304196,
         "min": 3.67,
         "25%": 8.71,
         "50%": 9.71,
         "75%": 11.127500000000001,
         "max": 19.83,
         "_deepnote_index_column": "1978-10-30T00:00:00.000000"
        },
        {
         "count": 12,
         "mean": 5.517499999999999,
         "std": 3.28617524293406,
         "min": 1.04,
         "25%": 3.44,
         "50%": 4.29,
         "75%": 8.6125,
         "max": 10.79,
         "_deepnote_index_column": "1978-10-31T00:00:00.000000"
        },
        {
         "count": 12,
         "mean": 13.135833333333332,
         "std": 5.7123748577234945,
         "min": 7.08,
         "25%": 10.145,
         "50%": 11.25,
         "75%": 14.379999999999999,
         "max": 25,
         "_deepnote_index_column": "1978-11-01T00:00:00.000000"
        },
        {
         "count": 12,
         "mean": 10.839999999999998,
         "std": 3.6451063084634443,
         "min": 5.37,
         "25%": 9.7725,
         "50%": 10.04,
         "75%": 10.6925,
         "max": 18.34,
         "_deepnote_index_column": "1978-11-02T00:00:00.000000"
        },
        {
         "count": 12,
         "mean": 13.391666666666666,
         "std": 3.6877606738885302,
         "min": 6.79,
         "25%": 11.82,
         "50%": 13.145,
         "75%": 14.9275,
         "max": 20.41,
         "_deepnote_index_column": "1978-11-03T00:00:00.000000"
        },
        {
         "count": 12,
         "mean": 15.09083333333333,
         "std": 3.738824458748142,
         "min": 9.96,
         "25%": 11.73,
         "50%": 14.25,
         "75%": 18.822499999999998,
         "max": 20.46,
         "_deepnote_index_column": "1978-11-04T00:00:00.000000"
        },
        {
         "count": 12,
         "mean": 13.649999999999999,
         "std": 4.213661763187151,
         "min": 8.63,
         "25%": 10.625,
         "50%": 13.190000000000001,
         "75%": 15.825000000000001,
         "max": 22.37,
         "_deepnote_index_column": "1978-11-05T00:00:00.000000"
        },
        {
         "count": 12,
         "mean": 14.690833333333332,
         "std": 4.4644890949343665,
         "min": 9.59,
         "25%": 11.7425,
         "50%": 13.77,
         "75%": 16.54,
         "max": 24.41,
         "_deepnote_index_column": "1978-11-06T00:00:00.000000"
        },
        {
         "count": 12,
         "mean": 19.888333333333332,
         "std": 3.855218030229427,
         "min": 15.12,
         "25%": 16.98,
         "50%": 19.1,
         "75%": 21.305,
         "max": 27.96,
         "_deepnote_index_column": "1978-11-07T00:00:00.000000"
        },
        {
         "count": 12,
         "mean": 10.055,
         "std": 4.20936294035527,
         "min": 4.96,
         "25%": 7.994999999999999,
         "50%": 9.02,
         "75%": 9.934999999999999,
         "max": 19.5,
         "_deepnote_index_column": "1978-11-08T00:00:00.000000"
        },
        {
         "count": 12,
         "mean": 12.246666666666668,
         "std": 6.484906017869963,
         "min": 3.17,
         "25%": 8.1375,
         "50%": 11.809999999999999,
         "75%": 13.5425,
         "max": 24.33,
         "_deepnote_index_column": "1978-11-09T00:00:00.000000"
        },
        {
         "count": 12,
         "mean": 8.621666666666668,
         "std": 4.107462904902674,
         "min": 2.46,
         "25%": 6.48,
         "50%": 7.275,
         "75%": 9.877500000000001,
         "max": 16.79,
         "_deepnote_index_column": "1978-11-10T00:00:00.000000"
        },
        {
         "count": 12,
         "mean": 9.8175,
         "std": 3.8713002866079647,
         "min": 4.12,
         "25%": 7.8575,
         "50%": 8.920000000000002,
         "75%": 12.2825,
         "max": 17,
         "_deepnote_index_column": "1978-11-11T00:00:00.000000"
        },
        {
         "count": 12,
         "mean": 16.618333333333332,
         "std": 5.373407304551373,
         "min": 10.08,
         "25%": 14.0025,
         "50%": 15.23,
         "75%": 19.2625,
         "max": 29.04,
         "_deepnote_index_column": "1978-11-12T00:00:00.000000"
        },
        {
         "count": 12,
         "mean": 15.520000000000001,
         "std": 5.096867130449306,
         "min": 7.21,
         "25%": 12.4475,
         "50%": 14.579999999999998,
         "75%": 18.1675,
         "max": 24.33,
         "_deepnote_index_column": "1978-11-13T00:00:00.000000"
        },
        {
         "count": 12,
         "mean": 20.243333333333336,
         "std": 5.949361055583782,
         "min": 13.62,
         "25%": 15.7275,
         "50%": 18.375,
         "75%": 25.950000000000003,
         "max": 30.21,
         "_deepnote_index_column": "1978-11-14T00:00:00.000000"
        },
        {
         "count": 12,
         "mean": 20.08833333333333,
         "std": 2.992095141089824,
         "min": 15.96,
         "25%": 18.11,
         "50%": 20.1,
         "75%": 21.68,
         "max": 25.37,
         "_deepnote_index_column": "1978-11-15T00:00:00.000000"
        },
        {
         "count": 12,
         "mean": 16.26,
         "std": 5.102129680116655,
         "min": 9.21,
         "25%": 12.28,
         "50%": 16.06,
         "75%": 17.939999999999998,
         "max": 26.67,
         "_deepnote_index_column": "1978-11-16T00:00:00.000000"
        },
        {
         "count": 12,
         "mean": 17.430833333333336,
         "std": 4.447228878410656,
         "min": 11.21,
         "25%": 13.97,
         "50%": 16.27,
         "75%": 21.28,
         "max": 24.92,
         "_deepnote_index_column": "1978-11-17T00:00:00.000000"
        },
        {
         "count": 12,
         "mean": 12.586666666666666,
         "std": 3.9322312272096136,
         "min": 7.41,
         "25%": 9.5625,
         "50%": 12.415,
         "75%": 16.197499999999998,
         "max": 18.38,
         "_deepnote_index_column": "1978-11-18T00:00:00.000000"
        },
        {
         "count": 12,
         "mean": 10.166666666666666,
         "std": 4.7697633509685184,
         "min": 4.96,
         "25%": 7.1375,
         "50%": 8.33,
         "75%": 12.2225,
         "max": 20.75,
         "_deepnote_index_column": "1978-11-19T00:00:00.000000"
        },
        {
         "count": 12,
         "mean": 14.539166666666668,
         "std": 4.688206593208757,
         "min": 7.33,
         "25%": 11.627500000000001,
         "50%": 13.75,
         "75%": 16.7725,
         "max": 23.5,
         "_deepnote_index_column": "1978-11-20T00:00:00.000000"
        },
        {
         "count": 12,
         "mean": 14.6325,
         "std": 4.39751815335547,
         "min": 7.29,
         "25%": 11.9275,
         "50%": 14.295,
         "75%": 17.06,
         "max": 22.13,
         "_deepnote_index_column": "1978-11-21T00:00:00.000000"
        },
        {
         "count": 12,
         "mean": 15.469166666666665,
         "std": 4.698896308193182,
         "min": 7,
         "25%": 13.07,
         "50%": 15.605,
         "75%": 16.927500000000002,
         "max": 26.34,
         "_deepnote_index_column": "1978-11-22T00:00:00.000000"
        },
        {
         "count": 12,
         "mean": 11.200000000000001,
         "std": 5.325581487670448,
         "min": 5.21,
         "25%": 7.4875,
         "50%": 9.559999999999999,
         "75%": 13.3375,
         "max": 23.16,
         "_deepnote_index_column": "1978-11-23T00:00:00.000000"
        },
        {
         "count": 12,
         "mean": 8.298333333333334,
         "std": 3.919016187614932,
         "min": 3.75,
         "25%": 5.2975,
         "50%": 7.29,
         "75%": 10.9725,
         "max": 14.83,
         "_deepnote_index_column": "1978-11-24T00:00:00.000000"
        },
        {
         "count": 12,
         "mean": 12.520833333333334,
         "std": 5.743878098119824,
         "min": 6.71,
         "25%": 8.48,
         "50%": 11.165,
         "75%": 15.045,
         "max": 26.67,
         "_deepnote_index_column": "1978-11-25T00:00:00.000000"
        },
        {
         "count": 12,
         "mean": 6.289999999999999,
         "std": 3.0881179911513623,
         "min": 1.83,
         "25%": 3.35,
         "50%": 7.42,
         "75%": 8.3925,
         "max": 11.08,
         "_deepnote_index_column": "1978-11-26T00:00:00.000000"
        },
        {
         "count": 12,
         "mean": 5.215,
         "std": 3.888158012127687,
         "min": 1,
         "25%": 1.9475,
         "50%": 4.895,
         "75%": 7.3325000000000005,
         "max": 13.42,
         "_deepnote_index_column": "1978-11-27T00:00:00.000000"
        },
        {
         "count": 12,
         "mean": 6.055833333333333,
         "std": 3.2466303043822733,
         "min": 0.96,
         "25%": 4.0275,
         "50%": 5.625,
         "75%": 8.535,
         "max": 11.83,
         "_deepnote_index_column": "1978-11-28T00:00:00.000000"
        },
        {
         "count": 12,
         "mean": 10.1775,
         "std": 5.166673142713439,
         "min": 3.33,
         "25%": 8.06,
         "50%": 9.795,
         "75%": 11.09,
         "max": 22.95,
         "_deepnote_index_column": "1978-11-29T00:00:00.000000"
        },
        {
         "count": 12,
         "mean": 6.89,
         "std": 4.457012860242118,
         "min": 2.42,
         "25%": 4.3425,
         "50%": 4.9399999999999995,
         "75%": 8.5,
         "max": 15.34,
         "_deepnote_index_column": "1978-11-30T00:00:00.000000"
        },
        {
         "count": 12,
         "mean": 19.054166666666664,
         "std": 3.566868905339638,
         "min": 12.79,
         "25%": 17.085,
         "50%": 18.02,
         "75%": 21.3525,
         "max": 25.7,
         "_deepnote_index_column": "1978-12-01T00:00:00.000000"
        },
        {
         "count": 12,
         "mean": 10.975833333333334,
         "std": 4.003147530570807,
         "min": 5.13,
         "25%": 8.9175,
         "50%": 10.4,
         "75%": 12.9575,
         "max": 19.95,
         "_deepnote_index_column": "1978-12-02T00:00:00.000000"
        },
        {
         "count": 12,
         "mean": 18.025000000000002,
         "std": 3.829952527595658,
         "min": 11.58,
         "25%": 15.665,
         "50%": 17.48,
         "75%": 21.2425,
         "max": 25.75,
         "_deepnote_index_column": "1978-12-03T00:00:00.000000"
        },
        {
         "count": 12,
         "mean": 10.293333333333335,
         "std": 4.574457411110154,
         "min": 1.71,
         "25%": 7.49,
         "50%": 10.065000000000001,
         "75%": 11.625,
         "max": 17.96,
         "_deepnote_index_column": "1978-12-04T00:00:00.000000"
        },
        {
         "count": 12,
         "mean": 15.770833333333334,
         "std": 4.054258049672384,
         "min": 8.5,
         "25%": 12.950000000000001,
         "50%": 15.125,
         "75%": 18.8925,
         "max": 22.75,
         "_deepnote_index_column": "1978-12-05T00:00:00.000000"
        },
        {
         "count": 12,
         "mean": 23.28333333333333,
         "std": 4.983312759661596,
         "min": 16.04,
         "25%": 20.31,
         "50%": 22.770000000000003,
         "75%": 24.7475,
         "max": 34.46,
         "_deepnote_index_column": "1978-12-06T00:00:00.000000"
        },
        {
         "count": 12,
         "mean": 22.909999999999997,
         "std": 4.542096031969862,
         "min": 18.16,
         "25%": 19.7075,
         "50%": 22.27,
         "75%": 24.79,
         "max": 34.59,
         "_deepnote_index_column": "1978-12-07T00:00:00.000000"
        },
        {
         "count": 12,
         "mean": 9.108333333333333,
         "std": 3.93322174982969,
         "min": 3.37,
         "25%": 6.4175,
         "50%": 8.145,
         "75%": 11.5725,
         "max": 17.33,
         "_deepnote_index_column": "1978-12-08T00:00:00.000000"
        },
        {
         "count": 12,
         "mean": 12.292500000000002,
         "std": 3.7747152210464834,
         "min": 6.04,
         "25%": 9.71,
         "50%": 10.915,
         "75%": 15.379999999999999,
         "max": 18.71,
         "_deepnote_index_column": "1978-12-09T00:00:00.000000"
        },
        {
         "count": 12,
         "mean": 17.91,
         "std": 4.651189486181318,
         "min": 13,
         "25%": 14.495,
         "50%": 16.19,
         "75%": 22.075000000000003,
         "max": 26.08,
         "_deepnote_index_column": "1978-12-10T00:00:00.000000"
        },
        {
         "count": 12,
         "mean": 16.8125,
         "std": 3.177188937638828,
         "min": 11.63,
         "25%": 14.592500000000001,
         "50%": 17.04,
         "75%": 18.5475,
         "max": 22.83,
         "_deepnote_index_column": "1978-12-11T00:00:00.000000"
        },
        {
         "count": 12,
         "mean": 13.400833333333333,
         "std": 4.390385069741157,
         "min": 8.29,
         "25%": 10.53,
         "50%": 11.335,
         "75%": 15.26,
         "max": 23.13,
         "_deepnote_index_column": "1978-12-12T00:00:00.000000"
        },
        {
         "count": 12,
         "mean": 16.229166666666668,
         "std": 4.5731677072667996,
         "min": 8.33,
         "25%": 13.5625,
         "50%": 14.73,
         "75%": 19.4725,
         "max": 24.04,
         "_deepnote_index_column": "1978-12-13T00:00:00.000000"
        },
        {
         "count": 12,
         "mean": 9.551666666666666,
         "std": 5.1450114114783485,
         "min": 3.37,
         "25%": 5.8,
         "50%": 7.645,
         "75%": 12.98,
         "max": 19.75,
         "_deepnote_index_column": "1978-12-14T00:00:00.000000"
        },
        {
         "count": 12,
         "mean": 9.205833333333333,
         "std": 4.513284348017595,
         "min": 4,
         "25%": 5.97,
         "50%": 7.295,
         "75%": 12.785,
         "max": 17.16,
         "_deepnote_index_column": "1978-12-15T00:00:00.000000"
        },
        {
         "count": 12,
         "mean": 9.245,
         "std": 5.101314447366393,
         "min": 2.46,
         "25%": 5.7725,
         "50%": 7.92,
         "75%": 11.91,
         "max": 18.08,
         "_deepnote_index_column": "1978-12-16T00:00:00.000000"
        },
        {
         "count": 12,
         "mean": 4.0725,
         "std": 3.1934510400904137,
         "min": 0.54,
         "25%": 2.0225,
         "50%": 2.855,
         "75%": 5.76,
         "max": 9.87,
         "_deepnote_index_column": "1978-12-17T00:00:00.000000"
        },
        {
         "count": 12,
         "mean": 8.82,
         "std": 5.912304580664418,
         "min": 1,
         "25%": 5.515,
         "50%": 8.375,
         "75%": 10.092500000000001,
         "max": 19.79,
         "_deepnote_index_column": "1978-12-18T00:00:00.000000"
        },
        {
         "count": 12,
         "mean": 8.685,
         "std": 4.289141681459865,
         "min": 2.33,
         "25%": 6.1274999999999995,
         "50%": 8.145,
         "75%": 10.4525,
         "max": 18.25,
         "_deepnote_index_column": "1978-12-19T00:00:00.000000"
        },
        {
         "count": 12,
         "mean": 5.025833333333334,
         "std": 3.734644825106796,
         "min": 0.42,
         "25%": 2.935,
         "50%": 3.565,
         "75%": 6.0125,
         "max": 12.38,
         "_deepnote_index_column": "1978-12-20T00:00:00.000000"
        },
        {
         "count": 12,
         "mean": 9.930833333333332,
         "std": 4.495655394293743,
         "min": 3.83,
         "25%": 6.975,
         "50%": 9.125,
         "75%": 11.9925,
         "max": 20.3,
         "_deepnote_index_column": "1978-12-21T00:00:00.000000"
        },
        {
         "count": 12,
         "mean": 7.000833333333333,
         "std": 3.2373374535069384,
         "min": 2.46,
         "25%": 5.0775,
         "50%": 6.795,
         "75%": 8.765,
         "max": 13.08,
         "_deepnote_index_column": "1978-12-22T00:00:00.000000"
        },
        {
         "count": 12,
         "mean": 15.613333333333335,
         "std": 3.8508401287212246,
         "min": 9.5,
         "25%": 12.9875,
         "50%": 15.395,
         "75%": 17.495,
         "max": 22.21,
         "_deepnote_index_column": "1978-12-23T00:00:00.000000"
        },
        {
         "count": 12,
         "mean": 10.823333333333332,
         "std": 7.195039115862254,
         "min": 4.79,
         "25%": 5.84,
         "50%": 10.04,
         "75%": 11.969999999999999,
         "max": 31.71,
         "_deepnote_index_column": "1978-12-24T00:00:00.000000"
        },
        {
         "count": 12,
         "mean": 5.729166666666667,
         "std": 3.583262754766523,
         "min": 0.75,
         "25%": 4.1025,
         "50%": 5.23,
         "75%": 7.365,
         "max": 13.96,
         "_deepnote_index_column": "1978-12-25T00:00:00.000000"
        },
        {
         "count": 12,
         "mean": 6.523333333333333,
         "std": 4.304509967534755,
         "min": 1.96,
         "25%": 3.0700000000000003,
         "50%": 4.54,
         "75%": 10.7225,
         "max": 13.83,
         "_deepnote_index_column": "1978-12-26T00:00:00.000000"
        },
        {
         "count": 12,
         "mean": 16.708333333333332,
         "std": 7.868075695588797,
         "min": 8.08,
         "25%": 13.8025,
         "50%": 15.025,
         "75%": 17.302500000000002,
         "max": 40.08,
         "_deepnote_index_column": "1978-12-27T00:00:00.000000"
        },
        {
         "count": 12,
         "mean": 15.15,
         "std": 9.687856503704193,
         "min": 5,
         "25%": 9.094999999999999,
         "50%": 13.895,
         "75%": 16.7,
         "max": 41.46,
         "_deepnote_index_column": "1978-12-28T00:00:00.000000"
        },
        {
         "count": 12,
         "mean": 14.89,
         "std": 5.756836252349343,
         "min": 8.71,
         "25%": 10.4775,
         "50%": 14.21,
         "75%": 17.035,
         "max": 29.58,
         "_deepnote_index_column": "1978-12-29T00:00:00.000000"
        },
        {
         "count": 12,
         "mean": 15.3675,
         "std": 5.540436682822359,
         "min": 9.13,
         "25%": 12.375,
         "50%": 13.454999999999998,
         "75%": 18.185,
         "max": 28.79,
         "_deepnote_index_column": "1978-12-30T00:00:00.000000"
        },
        {
         "count": 12,
         "mean": 15.402499999999998,
         "std": 5.70248291217399,
         "min": 9.59,
         "25%": 11.530000000000001,
         "50%": 12.08,
         "75%": 19.52,
         "max": 27.29,
         "_deepnote_index_column": "1978-12-31T00:00:00.000000"
        }
       ]
      },
      "text/plain": "            count       mean       std   min      25%     50%      75%    max\ndate                                                                         \n1961-01-01   11.0  13.018182  2.808875  9.29  10.5400  13.170  15.0000  18.50\n1961-01-02   11.0  11.336364  3.188994  6.50   9.7300  10.830  13.2250  17.54\n1961-01-03   11.0  11.641818  3.681912  6.17   9.3150  11.250  12.7300  18.50\n1961-01-04   12.0   6.619167  3.198126  1.79   4.5700   5.855   9.1175  11.75\n1961-01-05   12.0  10.630000  2.445356  6.17   9.8075  11.170  12.1700  13.33\n...           ...        ...       ...   ...      ...     ...      ...    ...\n1978-12-27   12.0  16.708333  7.868076  8.08  13.8025  15.025  17.3025  40.08\n1978-12-28   12.0  15.150000  9.687857  5.00   9.0950  13.895  16.7000  41.46\n1978-12-29   12.0  14.890000  5.756836  8.71  10.4775  14.210  17.0350  29.58\n1978-12-30   12.0  15.367500  5.540437  9.13  12.3750  13.455  18.1850  28.79\n1978-12-31   12.0  15.402500  5.702483  9.59  11.5300  12.080  19.5200  27.29\n\n[6574 rows x 8 columns]",
      "text/html": "<div>\n<style scoped>\n    .dataframe tbody tr th:only-of-type {\n        vertical-align: middle;\n    }\n\n    .dataframe tbody tr th {\n        vertical-align: top;\n    }\n\n    .dataframe thead th {\n        text-align: right;\n    }\n</style>\n<table border=\"1\" class=\"dataframe\">\n  <thead>\n    <tr style=\"text-align: right;\">\n      <th></th>\n      <th>count</th>\n      <th>mean</th>\n      <th>std</th>\n      <th>min</th>\n      <th>25%</th>\n      <th>50%</th>\n      <th>75%</th>\n      <th>max</th>\n    </tr>\n    <tr>\n      <th>date</th>\n      <th></th>\n      <th></th>\n      <th></th>\n      <th></th>\n      <th></th>\n      <th></th>\n      <th></th>\n      <th></th>\n    </tr>\n  </thead>\n  <tbody>\n    <tr>\n      <th>1961-01-01</th>\n      <td>11.0</td>\n      <td>13.018182</td>\n      <td>2.808875</td>\n      <td>9.29</td>\n      <td>10.5400</td>\n      <td>13.170</td>\n      <td>15.0000</td>\n      <td>18.50</td>\n    </tr>\n    <tr>\n      <th>1961-01-02</th>\n      <td>11.0</td>\n      <td>11.336364</td>\n      <td>3.188994</td>\n      <td>6.50</td>\n      <td>9.7300</td>\n      <td>10.830</td>\n      <td>13.2250</td>\n      <td>17.54</td>\n    </tr>\n    <tr>\n      <th>1961-01-03</th>\n      <td>11.0</td>\n      <td>11.641818</td>\n      <td>3.681912</td>\n      <td>6.17</td>\n      <td>9.3150</td>\n      <td>11.250</td>\n      <td>12.7300</td>\n      <td>18.50</td>\n    </tr>\n    <tr>\n      <th>1961-01-04</th>\n      <td>12.0</td>\n      <td>6.619167</td>\n      <td>3.198126</td>\n      <td>1.79</td>\n      <td>4.5700</td>\n      <td>5.855</td>\n      <td>9.1175</td>\n      <td>11.75</td>\n    </tr>\n    <tr>\n      <th>1961-01-05</th>\n      <td>12.0</td>\n      <td>10.630000</td>\n      <td>2.445356</td>\n      <td>6.17</td>\n      <td>9.8075</td>\n      <td>11.170</td>\n      <td>12.1700</td>\n      <td>13.33</td>\n    </tr>\n    <tr>\n      <th>...</th>\n      <td>...</td>\n      <td>...</td>\n      <td>...</td>\n      <td>...</td>\n      <td>...</td>\n      <td>...</td>\n      <td>...</td>\n      <td>...</td>\n    </tr>\n    <tr>\n      <th>1978-12-27</th>\n      <td>12.0</td>\n      <td>16.708333</td>\n      <td>7.868076</td>\n      <td>8.08</td>\n      <td>13.8025</td>\n      <td>15.025</td>\n      <td>17.3025</td>\n      <td>40.08</td>\n    </tr>\n    <tr>\n      <th>1978-12-28</th>\n      <td>12.0</td>\n      <td>15.150000</td>\n      <td>9.687857</td>\n      <td>5.00</td>\n      <td>9.0950</td>\n      <td>13.895</td>\n      <td>16.7000</td>\n      <td>41.46</td>\n    </tr>\n    <tr>\n      <th>1978-12-29</th>\n      <td>12.0</td>\n      <td>14.890000</td>\n      <td>5.756836</td>\n      <td>8.71</td>\n      <td>10.4775</td>\n      <td>14.210</td>\n      <td>17.0350</td>\n      <td>29.58</td>\n    </tr>\n    <tr>\n      <th>1978-12-30</th>\n      <td>12.0</td>\n      <td>15.367500</td>\n      <td>5.540437</td>\n      <td>9.13</td>\n      <td>12.3750</td>\n      <td>13.455</td>\n      <td>18.1850</td>\n      <td>28.79</td>\n    </tr>\n    <tr>\n      <th>1978-12-31</th>\n      <td>12.0</td>\n      <td>15.402500</td>\n      <td>5.702483</td>\n      <td>9.59</td>\n      <td>11.5300</td>\n      <td>12.080</td>\n      <td>19.5200</td>\n      <td>27.29</td>\n    </tr>\n  </tbody>\n</table>\n<p>6574 rows × 8 columns</p>\n</div>"
     },
     "metadata": {}
    }
   ]
  },
  {
   "cell_type": "markdown",
   "source": "### Step 11. Find the average windspeed in January for each location.  \n#### Treat January 1961 and January 1962 both as January.",
   "metadata": {
    "id": "enMLXzXYdeHZ",
    "cell_id": "00025-44f14d62-973c-4693-9b91-15333fa800ee",
    "deepnote_cell_type": "markdown"
   }
  },
  {
   "cell_type": "code",
   "metadata": {
    "id": "YOKvFRymryx3",
    "executionInfo": {
     "status": "ok",
     "timestamp": 1623812279835,
     "user_tz": 240,
     "elapsed": 4,
     "user": {
      "displayName": "Andrés Sánchez",
      "photoUrl": "https://lh3.googleusercontent.com/a-/AOh14Gg69bZMv30ckb-T1MJy0nSxWIHUaP0p2uP6MYBuvQ=s64",
      "userId": "07985253921366566280"
     }
    },
    "cell_id": "00026-6ffdf6d9-1d91-4641-861c-7300fa8ad04b",
    "deepnote_to_be_reexecuted": false,
    "source_hash": "2419ec3c",
    "execution_start": 1630098264974,
    "deepnote_cell_type": "code"
   },
   "source": "j_data = data.reset_index()",
   "execution_count": 13,
   "outputs": []
  },
  {
   "cell_type": "code",
   "metadata": {
    "id": "sbVrWx2ctTig",
    "executionInfo": {
     "status": "ok",
     "timestamp": 1623812279836,
     "user_tz": 240,
     "elapsed": 5,
     "user": {
      "displayName": "Andrés Sánchez",
      "photoUrl": "https://lh3.googleusercontent.com/a-/AOh14Gg69bZMv30ckb-T1MJy0nSxWIHUaP0p2uP6MYBuvQ=s64",
      "userId": "07985253921366566280"
     }
    },
    "cell_id": "00027-d1b3e12f-ecac-40b2-b305-d97cc7b17caa",
    "deepnote_to_be_reexecuted": false,
    "source_hash": "dfcbe3c7",
    "execution_start": 1630098265019,
    "execution_millis": 1,
    "deepnote_cell_type": "code"
   },
   "source": "j_data['year'] = j_data['date'].dt.year\nj_data['month'] = j_data['date'].dt.month\nj_data = j_data.set_index(['year','month'])",
   "execution_count": 14,
   "outputs": []
  },
  {
   "cell_type": "code",
   "metadata": {
    "colab": {
     "base_uri": "https://localhost:8080/",
     "height": 618
    },
    "id": "tZHst9tLdeHa",
    "executionInfo": {
     "status": "ok",
     "timestamp": 1623812279836,
     "user_tz": 240,
     "elapsed": 5,
     "user": {
      "displayName": "Andrés Sánchez",
      "photoUrl": "https://lh3.googleusercontent.com/a-/AOh14Gg69bZMv30ckb-T1MJy0nSxWIHUaP0p2uP6MYBuvQ=s64",
      "userId": "07985253921366566280"
     }
    },
    "outputId": "4c12d8a0-62b4-4a8b-eb17-ff7fa66d6485",
    "cell_id": "00028-04229cff-c3be-4e4a-a509-429cfe77dea8",
    "deepnote_to_be_reexecuted": false,
    "source_hash": "5ee60d93",
    "execution_start": 1630098265020,
    "execution_millis": 19,
    "deepnote_cell_type": "code"
   },
   "source": "j_data = j_data.xs(1, level = 'month')\nj_data = j_data.mean(level = 'year')\nj_data",
   "execution_count": 15,
   "outputs": [
    {
     "output_type": "execute_result",
     "execution_count": 15,
     "data": {
      "application/vnd.deepnote.dataframe.v2+json": {
       "row_count": 18,
       "column_count": 12,
       "columns": [
        {
         "name": "RPT",
         "dtype": "float64",
         "stats": {
          "unique_count": 18,
          "nan_count": 0,
          "min": "12.661290322580648",
          "max": "20.990967741935485",
          "histogram": [
           {
            "bin_start": 12.661290322580648,
            "bin_end": 13.494258064516131,
            "count": 5
           },
           {
            "bin_start": 13.494258064516131,
            "bin_end": 14.327225806451615,
            "count": 2
           },
           {
            "bin_start": 14.327225806451615,
            "bin_end": 15.160193548387099,
            "count": 6
           },
           {
            "bin_start": 15.160193548387099,
            "bin_end": 15.993161290322583,
            "count": 3
           },
           {
            "bin_start": 15.993161290322583,
            "bin_end": 16.826129032258066,
            "count": 0
           },
           {
            "bin_start": 16.826129032258066,
            "bin_end": 17.65909677419355,
            "count": 1
           },
           {
            "bin_start": 17.65909677419355,
            "bin_end": 18.492064516129034,
            "count": 0
           },
           {
            "bin_start": 18.492064516129034,
            "bin_end": 19.325032258064518,
            "count": 0
           },
           {
            "bin_start": 19.325032258064518,
            "bin_end": 20.158,
            "count": 0
           },
           {
            "bin_start": 20.158,
            "bin_end": 20.990967741935485,
            "count": 1
           }
          ]
         }
        },
        {
         "name": "VAL",
         "dtype": "float64",
         "stats": {
          "unique_count": 18,
          "nan_count": 0,
          "min": "10.377741935483872",
          "max": "17.623548387096772",
          "histogram": [
           {
            "bin_start": 10.377741935483872,
            "bin_end": 11.102322580645161,
            "count": 1
           },
           {
            "bin_start": 11.102322580645161,
            "bin_end": 11.826903225806452,
            "count": 4
           },
           {
            "bin_start": 11.826903225806452,
            "bin_end": 12.551483870967742,
            "count": 5
           },
           {
            "bin_start": 12.551483870967742,
            "bin_end": 13.276064516129033,
            "count": 2
           },
           {
            "bin_start": 13.276064516129033,
            "bin_end": 14.000645161290322,
            "count": 2
           },
           {
            "bin_start": 14.000645161290322,
            "bin_end": 14.725225806451611,
            "count": 1
           },
           {
            "bin_start": 14.725225806451611,
            "bin_end": 15.4498064516129,
            "count": 0
           },
           {
            "bin_start": 15.4498064516129,
            "bin_end": 16.17438709677419,
            "count": 2
           },
           {
            "bin_start": 16.17438709677419,
            "bin_end": 16.898967741935483,
            "count": 0
           },
           {
            "bin_start": 16.898967741935483,
            "bin_end": 17.623548387096772,
            "count": 1
           }
          ]
         }
        },
        {
         "name": "ROS",
         "dtype": "float64",
         "stats": {
          "unique_count": 18,
          "nan_count": 0,
          "min": "10.860967741935484",
          "max": "17.51483870967742",
          "histogram": [
           {
            "bin_start": 10.860967741935484,
            "bin_end": 11.526354838709677,
            "count": 2
           },
           {
            "bin_start": 11.526354838709677,
            "bin_end": 12.191741935483872,
            "count": 3
           },
           {
            "bin_start": 12.191741935483872,
            "bin_end": 12.857129032258065,
            "count": 3
           },
           {
            "bin_start": 12.857129032258065,
            "bin_end": 13.522516129032258,
            "count": 3
           },
           {
            "bin_start": 13.522516129032258,
            "bin_end": 14.187903225806451,
            "count": 3
           },
           {
            "bin_start": 14.187903225806451,
            "bin_end": 14.853290322580646,
            "count": 0
           },
           {
            "bin_start": 14.853290322580646,
            "bin_end": 15.51867741935484,
            "count": 3
           },
           {
            "bin_start": 15.51867741935484,
            "bin_end": 16.184064516129034,
            "count": 0
           },
           {
            "bin_start": 16.184064516129034,
            "bin_end": 16.849451612903227,
            "count": 0
           },
           {
            "bin_start": 16.849451612903227,
            "bin_end": 17.51483870967742,
            "count": 1
           }
          ]
         }
        },
        {
         "name": "KIL",
         "dtype": "float64",
         "stats": {
          "unique_count": 18,
          "nan_count": 0,
          "min": "5.454516129032259",
          "max": "10.549354838709675",
          "histogram": [
           {
            "bin_start": 5.454516129032259,
            "bin_end": 5.964,
            "count": 4
           },
           {
            "bin_start": 5.964,
            "bin_end": 6.473483870967742,
            "count": 2
           },
           {
            "bin_start": 6.473483870967742,
            "bin_end": 6.982967741935483,
            "count": 4
           },
           {
            "bin_start": 6.982967741935483,
            "bin_end": 7.492451612903225,
            "count": 0
           },
           {
            "bin_start": 7.492451612903225,
            "bin_end": 8.001935483870966,
            "count": 4
           },
           {
            "bin_start": 8.001935483870966,
            "bin_end": 8.511419354838708,
            "count": 2
           },
           {
            "bin_start": 8.511419354838708,
            "bin_end": 9.02090322580645,
            "count": 1
           },
           {
            "bin_start": 9.02090322580645,
            "bin_end": 9.530387096774191,
            "count": 0
           },
           {
            "bin_start": 9.530387096774191,
            "bin_end": 10.039870967741933,
            "count": 0
           },
           {
            "bin_start": 10.039870967741933,
            "bin_end": 10.549354838709675,
            "count": 1
           }
          ]
         }
        },
        {
         "name": "SHA",
         "dtype": "float64",
         "stats": {
          "unique_count": 18,
          "nan_count": 0,
          "min": "9.15967741935484",
          "max": "15.858387096774196",
          "histogram": [
           {
            "bin_start": 9.15967741935484,
            "bin_end": 9.829548387096775,
            "count": 3
           },
           {
            "bin_start": 9.829548387096775,
            "bin_end": 10.499419354838711,
            "count": 0
           },
           {
            "bin_start": 10.499419354838711,
            "bin_end": 11.169290322580647,
            "count": 5
           },
           {
            "bin_start": 11.169290322580647,
            "bin_end": 11.839161290322583,
            "count": 4
           },
           {
            "bin_start": 11.839161290322583,
            "bin_end": 12.509032258064519,
            "count": 1
           },
           {
            "bin_start": 12.509032258064519,
            "bin_end": 13.178903225806453,
            "count": 2
           },
           {
            "bin_start": 13.178903225806453,
            "bin_end": 13.848774193548389,
            "count": 1
           },
           {
            "bin_start": 13.848774193548389,
            "bin_end": 14.518645161290324,
            "count": 1
           },
           {
            "bin_start": 14.518645161290324,
            "bin_end": 15.18851612903226,
            "count": 0
           },
           {
            "bin_start": 15.18851612903226,
            "bin_end": 15.858387096774196,
            "count": 1
           }
          ]
         }
        },
        {
         "name": "BIR",
         "dtype": "float64",
         "stats": {
          "unique_count": 18,
          "nan_count": 0,
          "min": "5.926451612903226",
          "max": "11.298387096774194",
          "histogram": [
           {
            "bin_start": 5.926451612903226,
            "bin_end": 6.463645161290323,
            "count": 1
           },
           {
            "bin_start": 6.463645161290323,
            "bin_end": 7.00083870967742,
            "count": 2
           },
           {
            "bin_start": 7.00083870967742,
            "bin_end": 7.538032258064517,
            "count": 4
           },
           {
            "bin_start": 7.538032258064517,
            "bin_end": 8.075225806451613,
            "count": 4
           },
           {
            "bin_start": 8.075225806451613,
            "bin_end": 8.61241935483871,
            "count": 2
           },
           {
            "bin_start": 8.61241935483871,
            "bin_end": 9.149612903225806,
            "count": 2
           },
           {
            "bin_start": 9.149612903225806,
            "bin_end": 9.686806451612902,
            "count": 2
           },
           {
            "bin_start": 9.686806451612902,
            "bin_end": 10.224,
            "count": 0
           },
           {
            "bin_start": 10.224,
            "bin_end": 10.761193548387098,
            "count": 0
           },
           {
            "bin_start": 10.761193548387098,
            "bin_end": 11.298387096774194,
            "count": 1
           }
          ]
         }
        },
        {
         "name": "DUB",
         "dtype": "float64",
         "stats": {
          "unique_count": 18,
          "nan_count": 0,
          "min": "9.592903225806454",
          "max": "15.121290322580643",
          "histogram": [
           {
            "bin_start": 9.592903225806454,
            "bin_end": 10.145741935483873,
            "count": 5
           },
           {
            "bin_start": 10.145741935483873,
            "bin_end": 10.698580645161291,
            "count": 1
           },
           {
            "bin_start": 10.698580645161291,
            "bin_end": 11.25141935483871,
            "count": 2
           },
           {
            "bin_start": 11.25141935483871,
            "bin_end": 11.80425806451613,
            "count": 1
           },
           {
            "bin_start": 11.80425806451613,
            "bin_end": 12.357096774193549,
            "count": 2
           },
           {
            "bin_start": 12.357096774193549,
            "bin_end": 12.909935483870967,
            "count": 2
           },
           {
            "bin_start": 12.909935483870967,
            "bin_end": 13.462774193548386,
            "count": 1
           },
           {
            "bin_start": 13.462774193548386,
            "bin_end": 14.015612903225804,
            "count": 1
           },
           {
            "bin_start": 14.015612903225804,
            "bin_end": 14.568451612903225,
            "count": 2
           },
           {
            "bin_start": 14.568451612903225,
            "bin_end": 15.121290322580643,
            "count": 1
           }
          ]
         }
        },
        {
         "name": "CLA",
         "dtype": "float64",
         "stats": {
          "unique_count": 18,
          "nan_count": 0,
          "min": "6.733548387096776",
          "max": "12.78645161290323",
          "histogram": [
           {
            "bin_start": 6.733548387096776,
            "bin_end": 7.338838709677422,
            "count": 2
           },
           {
            "bin_start": 7.338838709677422,
            "bin_end": 7.944129032258067,
            "count": 2
           },
           {
            "bin_start": 7.944129032258067,
            "bin_end": 8.549419354838712,
            "count": 2
           },
           {
            "bin_start": 8.549419354838712,
            "bin_end": 9.154709677419358,
            "count": 1
           },
           {
            "bin_start": 9.154709677419358,
            "bin_end": 9.760000000000003,
            "count": 4
           },
           {
            "bin_start": 9.760000000000003,
            "bin_end": 10.365290322580648,
            "count": 2
           },
           {
            "bin_start": 10.365290322580648,
            "bin_end": 10.970580645161295,
            "count": 1
           },
           {
            "bin_start": 10.970580645161295,
            "bin_end": 11.575870967741938,
            "count": 2
           },
           {
            "bin_start": 11.575870967741938,
            "bin_end": 12.181161290322585,
            "count": 0
           },
           {
            "bin_start": 12.181161290322585,
            "bin_end": 12.78645161290323,
            "count": 2
           }
          ]
         }
        },
        {
         "name": "MUL",
         "dtype": "float64",
         "stats": {
          "unique_count": 18,
          "nan_count": 0,
          "min": "6.947741935483872",
          "max": "14.691935483870969",
          "histogram": [
           {
            "bin_start": 6.947741935483872,
            "bin_end": 7.722161290322582,
            "count": 2
           },
           {
            "bin_start": 7.722161290322582,
            "bin_end": 8.496580645161291,
            "count": 4
           },
           {
            "bin_start": 8.496580645161291,
            "bin_end": 9.271,
            "count": 5
           },
           {
            "bin_start": 9.271,
            "bin_end": 10.04541935483871,
            "count": 4
           },
           {
            "bin_start": 10.04541935483871,
            "bin_end": 10.81983870967742,
            "count": 0
           },
           {
            "bin_start": 10.81983870967742,
            "bin_end": 11.594258064516131,
            "count": 0
           },
           {
            "bin_start": 11.594258064516131,
            "bin_end": 12.36867741935484,
            "count": 0
           },
           {
            "bin_start": 12.36867741935484,
            "bin_end": 13.14309677419355,
            "count": 1
           },
           {
            "bin_start": 13.14309677419355,
            "bin_end": 13.91751612903226,
            "count": 1
           },
           {
            "bin_start": 13.91751612903226,
            "bin_end": 14.691935483870969,
            "count": 1
           }
          ]
         }
        },
        {
         "name": "CLO",
         "dtype": "float64",
         "stats": {
          "unique_count": 18,
          "nan_count": 0,
          "min": "7.596774193548389",
          "max": "15.09290322580645",
          "histogram": [
           {
            "bin_start": 7.596774193548389,
            "bin_end": 8.346387096774196,
            "count": 2
           },
           {
            "bin_start": 8.346387096774196,
            "bin_end": 9.096000000000002,
            "count": 2
           },
           {
            "bin_start": 9.096000000000002,
            "bin_end": 9.845612903225808,
            "count": 6
           },
           {
            "bin_start": 9.845612903225808,
            "bin_end": 10.595225806451614,
            "count": 2
           },
           {
            "bin_start": 10.595225806451614,
            "bin_end": 11.34483870967742,
            "count": 2
           },
           {
            "bin_start": 11.34483870967742,
            "bin_end": 12.094451612903226,
            "count": 3
           },
           {
            "bin_start": 12.094451612903226,
            "bin_end": 12.844064516129032,
            "count": 0
           },
           {
            "bin_start": 12.844064516129032,
            "bin_end": 13.593677419354838,
            "count": 0
           },
           {
            "bin_start": 13.593677419354838,
            "bin_end": 14.343290322580645,
            "count": 0
           },
           {
            "bin_start": 14.343290322580645,
            "bin_end": 15.09290322580645,
            "count": 1
           }
          ]
         }
        },
        {
         "name": "BEL",
         "dtype": "float64",
         "stats": {
          "unique_count": 18,
          "nan_count": 0,
          "min": "11.428709677419356",
          "max": "19.92967741935484",
          "histogram": [
           {
            "bin_start": 11.428709677419356,
            "bin_end": 12.278806451612905,
            "count": 4
           },
           {
            "bin_start": 12.278806451612905,
            "bin_end": 13.128903225806452,
            "count": 1
           },
           {
            "bin_start": 13.128903225806452,
            "bin_end": 13.979000000000001,
            "count": 3
           },
           {
            "bin_start": 13.979000000000001,
            "bin_end": 14.829096774193548,
            "count": 3
           },
           {
            "bin_start": 14.829096774193548,
            "bin_end": 15.679193548387097,
            "count": 2
           },
           {
            "bin_start": 15.679193548387097,
            "bin_end": 16.529290322580646,
            "count": 3
           },
           {
            "bin_start": 16.529290322580646,
            "bin_end": 17.379387096774195,
            "count": 0
           },
           {
            "bin_start": 17.379387096774195,
            "bin_end": 18.22948387096774,
            "count": 0
           },
           {
            "bin_start": 18.22948387096774,
            "bin_end": 19.07958064516129,
            "count": 0
           },
           {
            "bin_start": 19.07958064516129,
            "bin_end": 19.92967741935484,
            "count": 2
           }
          ]
         }
        },
        {
         "name": "MAL",
         "dtype": "float64",
         "stats": {
          "unique_count": 18,
          "nan_count": 0,
          "min": "14.145483870967741",
          "max": "24.573225806451617",
          "histogram": [
           {
            "bin_start": 14.145483870967741,
            "bin_end": 15.188258064516129,
            "count": 3
           },
           {
            "bin_start": 15.188258064516129,
            "bin_end": 16.231032258064516,
            "count": 2
           },
           {
            "bin_start": 16.231032258064516,
            "bin_end": 17.273806451612906,
            "count": 4
           },
           {
            "bin_start": 17.273806451612906,
            "bin_end": 18.31658064516129,
            "count": 2
           },
           {
            "bin_start": 18.31658064516129,
            "bin_end": 19.359354838709677,
            "count": 3
           },
           {
            "bin_start": 19.359354838709677,
            "bin_end": 20.402129032258067,
            "count": 0
           },
           {
            "bin_start": 20.402129032258067,
            "bin_end": 21.444903225806456,
            "count": 1
           },
           {
            "bin_start": 21.444903225806456,
            "bin_end": 22.487677419354842,
            "count": 1
           },
           {
            "bin_start": 22.487677419354842,
            "bin_end": 23.530451612903228,
            "count": 1
           },
           {
            "bin_start": 23.530451612903228,
            "bin_end": 24.573225806451617,
            "count": 1
           }
          ]
         }
        },
        {
         "name": "_deepnote_index_column",
         "dtype": "int64"
        }
       ],
       "rows_top": [
        {
         "RPT": 14.841333333333331,
         "VAL": 11.988333333333337,
         "ROS": 13.431612903225808,
         "KIL": 7.736774193548387,
         "SHA": 11.072758620689653,
         "BIR": 8.588064516129029,
         "DUB": 11.184838709677418,
         "CLA": 9.24533333333333,
         "MUL": 9.085806451612902,
         "CLO": 10.10741935483871,
         "BEL": 13.880967741935482,
         "MAL": 14.703225806451613,
         "_deepnote_index_column": 1961
        },
        {
         "RPT": 14.783870967741937,
         "VAL": 13.160322580645161,
         "ROS": 12.591935483870966,
         "KIL": 7.538064516129033,
         "SHA": 11.779677419354838,
         "BIR": 8.72,
         "DUB": 14.211935483870969,
         "CLA": 9.600000000000001,
         "MUL": 9.67,
         "CLO": 11.498709677419354,
         "BEL": 16.36935483870968,
         "MAL": 15.661612903225809,
         "_deepnote_index_column": 1962
        },
        {
         "RPT": 14.868387096774196,
         "VAL": 11.112903225806452,
         "ROS": 15.121612903225804,
         "KIL": 6.6358064516129005,
         "SHA": 11.080645161290326,
         "BIR": 7.8354838709677415,
         "DUB": 12.797419354838713,
         "CLA": 9.84483870967742,
         "MUL": 7.8416129032258075,
         "CLO": 9.389999999999999,
         "BEL": 11.428709677419356,
         "MAL": 18.82225806451613,
         "_deepnote_index_column": 1963
        },
        {
         "RPT": 12.661290322580648,
         "VAL": 11.818387096774192,
         "ROS": 11.741290322580644,
         "KIL": 6.953548387096775,
         "SHA": 11.400645161290322,
         "BIR": 6.865806451612904,
         "DUB": 9.592903225806454,
         "CLA": 9.687419354838708,
         "MUL": 6.947741935483872,
         "CLO": 9.676774193548388,
         "BEL": 15.06741935483871,
         "MAL": 14.145483870967741,
         "_deepnote_index_column": 1964
        },
        {
         "RPT": 15.741612903225805,
         "VAL": 15.546774193548385,
         "ROS": 15.274193548387098,
         "KIL": 8.258387096774191,
         "SHA": 13.588064516129034,
         "BIR": 9.251290322580644,
         "DUB": 13.850967741935484,
         "CLA": 11.259999999999996,
         "MUL": 9.899354838709677,
         "CLO": 11.706129032258062,
         "BEL": 16.196129032258067,
         "MAL": 17.88870967741935,
         "_deepnote_index_column": 1965
        },
        {
         "RPT": 15.834838709677419,
         "VAL": 13.283225806451615,
         "ROS": 15.136451612903226,
         "KIL": 8.659354838709676,
         "SHA": 12.968064516129035,
         "BIR": 9.163548387096776,
         "DUB": 12.15,
         "CLA": 10.47580645161291,
         "MUL": 8.750645161290322,
         "CLO": 10.739677419354837,
         "BEL": 14.074516129032256,
         "MAL": 15.554193548387095,
         "_deepnote_index_column": 1966
        },
        {
         "RPT": 13.736129032258066,
         "VAL": 11.470967741935485,
         "ROS": 11.537419354838711,
         "KIL": 6.928064516129032,
         "SHA": 10.833548387096771,
         "BIR": 6.730322580645161,
         "DUB": 9.787419354838711,
         "CLA": 7.474838709677419,
         "MUL": 7.627096774193546,
         "CLO": 10.169032258064517,
         "BEL": 13.457741935483872,
         "MAL": 17.124516129032262,
         "_deepnote_index_column": 1967
        },
        {
         "RPT": 14.733225806451614,
         "VAL": 12.829032258064514,
         "ROS": 12.294193548387097,
         "KIL": 7.849032258064517,
         "SHA": 12.262580645161288,
         "BIR": 7.133225806451612,
         "DUB": 12.395806451612906,
         "CLA": 9.225806451612904,
         "MUL": 9.415483870967744,
         "CLO": 9.255161290322581,
         "BEL": 14.213870967741931,
         "MAL": 19.095483870967744,
         "_deepnote_index_column": 1968
        },
        {
         "RPT": 12.824838709677422,
         "VAL": 12.113870967741939,
         "ROS": 11.403870967741932,
         "KIL": 6.708709677419356,
         "SHA": 10.557096774193552,
         "BIR": 5.926451612903226,
         "DUB": 9.882903225806452,
         "CLA": 8.375161290322579,
         "MUL": 8.378064516129031,
         "CLO": 9.51548387096774,
         "BEL": 13.410000000000002,
         "MAL": 16.957741935483874,
         "_deepnote_index_column": 1969
        },
        {
         "RPT": 13.15258064516129,
         "VAL": 11.731935483870968,
         "ROS": 13.083870967741932,
         "KIL": 5.810967741935484,
         "SHA": 9.507741935483871,
         "BIR": 8.040322580645162,
         "DUB": 9.843225806451615,
         "CLA": 8.834193548387095,
         "MUL": 8.40709677419355,
         "CLO": 7.626451612903225,
         "BEL": 12.403870967741936,
         "MAL": 17.192903225806454,
         "_deepnote_index_column": 1970
        },
        {
         "RPT": 15.098064516129034,
         "VAL": 13.398387096774192,
         "ROS": 13.079999999999998,
         "KIL": 6.364193548387096,
         "SHA": 11.342258064516132,
         "BIR": 7.759677419354836,
         "DUB": 10.297419354838711,
         "CLA": 8.349999999999998,
         "MUL": 8.979354838709678,
         "CLO": 8.666774193548388,
         "BEL": 14.392580645161287,
         "MAL": 16.360000000000003,
         "_deepnote_index_column": 1971
        },
        {
         "RPT": 14.383870967741938,
         "VAL": 11.848387096774195,
         "ROS": 13.732258064516131,
         "KIL": 5.925161290322581,
         "SHA": 10.82322580645161,
         "BIR": 7.291290322580646,
         "DUB": 11.287096774193552,
         "CLA": 6.733548387096776,
         "MUL": 9.109354838709677,
         "CLO": 8.728387096774195,
         "BEL": 12.170645161290325,
         "MAL": 17.598709677419354,
         "_deepnote_index_column": 1972
        },
        {
         "RPT": 13.17774193548387,
         "VAL": 12.202903225806452,
         "ROS": 10.860967741935484,
         "KIL": 5.454516129032259,
         "SHA": 9.327419354838709,
         "BIR": 7.419677419354839,
         "DUB": 10.738709677419351,
         "CLA": 7.88,
         "MUL": 8.651290322580644,
         "CLO": 7.596774193548389,
         "BEL": 12.076451612903222,
         "MAL": 14.684516129032259,
         "_deepnote_index_column": 1973
        },
        {
         "RPT": 20.990967741935485,
         "VAL": 17.623548387096772,
         "ROS": 17.51483870967742,
         "KIL": 10.549354838709675,
         "SHA": 15.858387096774196,
         "BIR": 11.298387096774194,
         "DUB": 14.112258064516126,
         "CLA": 12.78645161290323,
         "MUL": 14.691935483870969,
         "CLO": 15.09290322580645,
         "BEL": 19.92967741935484,
         "MAL": 24.573225806451617,
         "_deepnote_index_column": 1974
        },
        {
         "RPT": 17.100322580645166,
         "VAL": 15.812903225806455,
         "ROS": 13.942580645161291,
         "KIL": 8.08193548387097,
         "SHA": 13.934193548387094,
         "BIR": 8.43774193548387,
         "DUB": 13.179677419354842,
         "CLA": 12.601935483870966,
         "MUL": 13.000645161290326,
         "CLO": 11.064838709677419,
         "BEL": 19.266774193548382,
         "MAL": 21.713225806451614,
         "_deepnote_index_column": 1975
        },
        {
         "RPT": 15.626129032258065,
         "VAL": 14.240322580645161,
         "ROS": 13.867096774193547,
         "KIL": 7.789354838709679,
         "SHA": 13.081935483870964,
         "BIR": 9.003548387096775,
         "DUB": 15.121290322580643,
         "CLA": 11.41483870967742,
         "MUL": 13.493225806451612,
         "CLO": 11.553870967741936,
         "BEL": 16.337096774193547,
         "MAL": 22.89612903225807,
         "_deepnote_index_column": 1976
        },
        {
         "RPT": 13.404516129032261,
         "VAL": 10.377741935483872,
         "ROS": 12.764838709677415,
         "KIL": 5.884516129032259,
         "SHA": 9.15967741935484,
         "BIR": 8.00516129032258,
         "DUB": 10.10741935483871,
         "CLA": 7.211612903225807,
         "MUL": 8.279999999999998,
         "CLO": 9.328387096774193,
         "BEL": 12.131935483870965,
         "MAL": 18.830000000000005,
         "_deepnote_index_column": 1977
        },
        {
         "RPT": 14.291935483870967,
         "VAL": 11.87225806451613,
         "ROS": 12.014193548387096,
         "KIL": 6.4632258064516135,
         "SHA": 11.402903225806451,
         "BIR": 7.517096774193548,
         "DUB": 12.207096774193548,
         "CLA": 10.206451612903223,
         "MUL": 9.549032258064514,
         "CLO": 9.24741935483871,
         "BEL": 15.101612903225814,
         "MAL": 20.715806451612906,
         "_deepnote_index_column": 1978
        }
       ],
       "rows_bottom": null
      },
      "text/plain": "            RPT        VAL        ROS        KIL        SHA        BIR  \\\nyear                                                                     \n1961  14.841333  11.988333  13.431613   7.736774  11.072759   8.588065   \n1962  14.783871  13.160323  12.591935   7.538065  11.779677   8.720000   \n1963  14.868387  11.112903  15.121613   6.635806  11.080645   7.835484   \n1964  12.661290  11.818387  11.741290   6.953548  11.400645   6.865806   \n1965  15.741613  15.546774  15.274194   8.258387  13.588065   9.251290   \n1966  15.834839  13.283226  15.136452   8.659355  12.968065   9.163548   \n1967  13.736129  11.470968  11.537419   6.928065  10.833548   6.730323   \n1968  14.733226  12.829032  12.294194   7.849032  12.262581   7.133226   \n1969  12.824839  12.113871  11.403871   6.708710  10.557097   5.926452   \n1970  13.152581  11.731935  13.083871   5.810968   9.507742   8.040323   \n1971  15.098065  13.398387  13.080000   6.364194  11.342258   7.759677   \n1972  14.383871  11.848387  13.732258   5.925161  10.823226   7.291290   \n1973  13.177742  12.202903  10.860968   5.454516   9.327419   7.419677   \n1974  20.990968  17.623548  17.514839  10.549355  15.858387  11.298387   \n1975  17.100323  15.812903  13.942581   8.081935  13.934194   8.437742   \n1976  15.626129  14.240323  13.867097   7.789355  13.081935   9.003548   \n1977  13.404516  10.377742  12.764839   5.884516   9.159677   8.005161   \n1978  14.291935  11.872258  12.014194   6.463226  11.402903   7.517097   \n\n            DUB        CLA        MUL        CLO        BEL        MAL  \nyear                                                                    \n1961  11.184839   9.245333   9.085806  10.107419  13.880968  14.703226  \n1962  14.211935   9.600000   9.670000  11.498710  16.369355  15.661613  \n1963  12.797419   9.844839   7.841613   9.390000  11.428710  18.822258  \n1964   9.592903   9.687419   6.947742   9.676774  15.067419  14.145484  \n1965  13.850968  11.260000   9.899355  11.706129  16.196129  17.888710  \n1966  12.150000  10.475806   8.750645  10.739677  14.074516  15.554194  \n1967   9.787419   7.474839   7.627097  10.169032  13.457742  17.124516  \n1968  12.395806   9.225806   9.415484   9.255161  14.213871  19.095484  \n1969   9.882903   8.375161   8.378065   9.515484  13.410000  16.957742  \n1970   9.843226   8.834194   8.407097   7.626452  12.403871  17.192903  \n1971  10.297419   8.350000   8.979355   8.666774  14.392581  16.360000  \n1972  11.287097   6.733548   9.109355   8.728387  12.170645  17.598710  \n1973  10.738710   7.880000   8.651290   7.596774  12.076452  14.684516  \n1974  14.112258  12.786452  14.691935  15.092903  19.929677  24.573226  \n1975  13.179677  12.601935  13.000645  11.064839  19.266774  21.713226  \n1976  15.121290  11.414839  13.493226  11.553871  16.337097  22.896129  \n1977  10.107419   7.211613   8.280000   9.328387  12.131935  18.830000  \n1978  12.207097  10.206452   9.549032   9.247419  15.101613  20.715806  ",
      "text/html": "<div>\n<style scoped>\n    .dataframe tbody tr th:only-of-type {\n        vertical-align: middle;\n    }\n\n    .dataframe tbody tr th {\n        vertical-align: top;\n    }\n\n    .dataframe thead th {\n        text-align: right;\n    }\n</style>\n<table border=\"1\" class=\"dataframe\">\n  <thead>\n    <tr style=\"text-align: right;\">\n      <th></th>\n      <th>RPT</th>\n      <th>VAL</th>\n      <th>ROS</th>\n      <th>KIL</th>\n      <th>SHA</th>\n      <th>BIR</th>\n      <th>DUB</th>\n      <th>CLA</th>\n      <th>MUL</th>\n      <th>CLO</th>\n      <th>BEL</th>\n      <th>MAL</th>\n    </tr>\n    <tr>\n      <th>year</th>\n      <th></th>\n      <th></th>\n      <th></th>\n      <th></th>\n      <th></th>\n      <th></th>\n      <th></th>\n      <th></th>\n      <th></th>\n      <th></th>\n      <th></th>\n      <th></th>\n    </tr>\n  </thead>\n  <tbody>\n    <tr>\n      <th>1961</th>\n      <td>14.841333</td>\n      <td>11.988333</td>\n      <td>13.431613</td>\n      <td>7.736774</td>\n      <td>11.072759</td>\n      <td>8.588065</td>\n      <td>11.184839</td>\n      <td>9.245333</td>\n      <td>9.085806</td>\n      <td>10.107419</td>\n      <td>13.880968</td>\n      <td>14.703226</td>\n    </tr>\n    <tr>\n      <th>1962</th>\n      <td>14.783871</td>\n      <td>13.160323</td>\n      <td>12.591935</td>\n      <td>7.538065</td>\n      <td>11.779677</td>\n      <td>8.720000</td>\n      <td>14.211935</td>\n      <td>9.600000</td>\n      <td>9.670000</td>\n      <td>11.498710</td>\n      <td>16.369355</td>\n      <td>15.661613</td>\n    </tr>\n    <tr>\n      <th>1963</th>\n      <td>14.868387</td>\n      <td>11.112903</td>\n      <td>15.121613</td>\n      <td>6.635806</td>\n      <td>11.080645</td>\n      <td>7.835484</td>\n      <td>12.797419</td>\n      <td>9.844839</td>\n      <td>7.841613</td>\n      <td>9.390000</td>\n      <td>11.428710</td>\n      <td>18.822258</td>\n    </tr>\n    <tr>\n      <th>1964</th>\n      <td>12.661290</td>\n      <td>11.818387</td>\n      <td>11.741290</td>\n      <td>6.953548</td>\n      <td>11.400645</td>\n      <td>6.865806</td>\n      <td>9.592903</td>\n      <td>9.687419</td>\n      <td>6.947742</td>\n      <td>9.676774</td>\n      <td>15.067419</td>\n      <td>14.145484</td>\n    </tr>\n    <tr>\n      <th>1965</th>\n      <td>15.741613</td>\n      <td>15.546774</td>\n      <td>15.274194</td>\n      <td>8.258387</td>\n      <td>13.588065</td>\n      <td>9.251290</td>\n      <td>13.850968</td>\n      <td>11.260000</td>\n      <td>9.899355</td>\n      <td>11.706129</td>\n      <td>16.196129</td>\n      <td>17.888710</td>\n    </tr>\n    <tr>\n      <th>1966</th>\n      <td>15.834839</td>\n      <td>13.283226</td>\n      <td>15.136452</td>\n      <td>8.659355</td>\n      <td>12.968065</td>\n      <td>9.163548</td>\n      <td>12.150000</td>\n      <td>10.475806</td>\n      <td>8.750645</td>\n      <td>10.739677</td>\n      <td>14.074516</td>\n      <td>15.554194</td>\n    </tr>\n    <tr>\n      <th>1967</th>\n      <td>13.736129</td>\n      <td>11.470968</td>\n      <td>11.537419</td>\n      <td>6.928065</td>\n      <td>10.833548</td>\n      <td>6.730323</td>\n      <td>9.787419</td>\n      <td>7.474839</td>\n      <td>7.627097</td>\n      <td>10.169032</td>\n      <td>13.457742</td>\n      <td>17.124516</td>\n    </tr>\n    <tr>\n      <th>1968</th>\n      <td>14.733226</td>\n      <td>12.829032</td>\n      <td>12.294194</td>\n      <td>7.849032</td>\n      <td>12.262581</td>\n      <td>7.133226</td>\n      <td>12.395806</td>\n      <td>9.225806</td>\n      <td>9.415484</td>\n      <td>9.255161</td>\n      <td>14.213871</td>\n      <td>19.095484</td>\n    </tr>\n    <tr>\n      <th>1969</th>\n      <td>12.824839</td>\n      <td>12.113871</td>\n      <td>11.403871</td>\n      <td>6.708710</td>\n      <td>10.557097</td>\n      <td>5.926452</td>\n      <td>9.882903</td>\n      <td>8.375161</td>\n      <td>8.378065</td>\n      <td>9.515484</td>\n      <td>13.410000</td>\n      <td>16.957742</td>\n    </tr>\n    <tr>\n      <th>1970</th>\n      <td>13.152581</td>\n      <td>11.731935</td>\n      <td>13.083871</td>\n      <td>5.810968</td>\n      <td>9.507742</td>\n      <td>8.040323</td>\n      <td>9.843226</td>\n      <td>8.834194</td>\n      <td>8.407097</td>\n      <td>7.626452</td>\n      <td>12.403871</td>\n      <td>17.192903</td>\n    </tr>\n    <tr>\n      <th>1971</th>\n      <td>15.098065</td>\n      <td>13.398387</td>\n      <td>13.080000</td>\n      <td>6.364194</td>\n      <td>11.342258</td>\n      <td>7.759677</td>\n      <td>10.297419</td>\n      <td>8.350000</td>\n      <td>8.979355</td>\n      <td>8.666774</td>\n      <td>14.392581</td>\n      <td>16.360000</td>\n    </tr>\n    <tr>\n      <th>1972</th>\n      <td>14.383871</td>\n      <td>11.848387</td>\n      <td>13.732258</td>\n      <td>5.925161</td>\n      <td>10.823226</td>\n      <td>7.291290</td>\n      <td>11.287097</td>\n      <td>6.733548</td>\n      <td>9.109355</td>\n      <td>8.728387</td>\n      <td>12.170645</td>\n      <td>17.598710</td>\n    </tr>\n    <tr>\n      <th>1973</th>\n      <td>13.177742</td>\n      <td>12.202903</td>\n      <td>10.860968</td>\n      <td>5.454516</td>\n      <td>9.327419</td>\n      <td>7.419677</td>\n      <td>10.738710</td>\n      <td>7.880000</td>\n      <td>8.651290</td>\n      <td>7.596774</td>\n      <td>12.076452</td>\n      <td>14.684516</td>\n    </tr>\n    <tr>\n      <th>1974</th>\n      <td>20.990968</td>\n      <td>17.623548</td>\n      <td>17.514839</td>\n      <td>10.549355</td>\n      <td>15.858387</td>\n      <td>11.298387</td>\n      <td>14.112258</td>\n      <td>12.786452</td>\n      <td>14.691935</td>\n      <td>15.092903</td>\n      <td>19.929677</td>\n      <td>24.573226</td>\n    </tr>\n    <tr>\n      <th>1975</th>\n      <td>17.100323</td>\n      <td>15.812903</td>\n      <td>13.942581</td>\n      <td>8.081935</td>\n      <td>13.934194</td>\n      <td>8.437742</td>\n      <td>13.179677</td>\n      <td>12.601935</td>\n      <td>13.000645</td>\n      <td>11.064839</td>\n      <td>19.266774</td>\n      <td>21.713226</td>\n    </tr>\n    <tr>\n      <th>1976</th>\n      <td>15.626129</td>\n      <td>14.240323</td>\n      <td>13.867097</td>\n      <td>7.789355</td>\n      <td>13.081935</td>\n      <td>9.003548</td>\n      <td>15.121290</td>\n      <td>11.414839</td>\n      <td>13.493226</td>\n      <td>11.553871</td>\n      <td>16.337097</td>\n      <td>22.896129</td>\n    </tr>\n    <tr>\n      <th>1977</th>\n      <td>13.404516</td>\n      <td>10.377742</td>\n      <td>12.764839</td>\n      <td>5.884516</td>\n      <td>9.159677</td>\n      <td>8.005161</td>\n      <td>10.107419</td>\n      <td>7.211613</td>\n      <td>8.280000</td>\n      <td>9.328387</td>\n      <td>12.131935</td>\n      <td>18.830000</td>\n    </tr>\n    <tr>\n      <th>1978</th>\n      <td>14.291935</td>\n      <td>11.872258</td>\n      <td>12.014194</td>\n      <td>6.463226</td>\n      <td>11.402903</td>\n      <td>7.517097</td>\n      <td>12.207097</td>\n      <td>10.206452</td>\n      <td>9.549032</td>\n      <td>9.247419</td>\n      <td>15.101613</td>\n      <td>20.715806</td>\n    </tr>\n  </tbody>\n</table>\n</div>"
     },
     "metadata": {}
    }
   ]
  },
  {
   "cell_type": "markdown",
   "source": "### Step 12. Downsample the record to a yearly frequency for each location.",
   "metadata": {
    "id": "CBNBTIdMdeHa",
    "cell_id": "00029-f4be6eba-38ea-49aa-ba1c-1fb5ea0cc97e",
    "deepnote_cell_type": "markdown"
   }
  },
  {
   "cell_type": "code",
   "metadata": {
    "colab": {
     "base_uri": "https://localhost:8080/",
     "height": 618
    },
    "id": "ycY9oQekdeHa",
    "executionInfo": {
     "status": "ok",
     "timestamp": 1623812279836,
     "user_tz": 240,
     "elapsed": 4,
     "user": {
      "displayName": "Andrés Sánchez",
      "photoUrl": "https://lh3.googleusercontent.com/a-/AOh14Gg69bZMv30ckb-T1MJy0nSxWIHUaP0p2uP6MYBuvQ=s64",
      "userId": "07985253921366566280"
     }
    },
    "outputId": "cf571ad5-3b6d-4b85-f7ae-b0c7eba7e19f",
    "cell_id": "00030-9474988f-73ac-4a36-b0ab-631dc2a7d928",
    "deepnote_to_be_reexecuted": false,
    "source_hash": "91c2454b",
    "execution_start": 1630098265079,
    "execution_millis": 25,
    "deepnote_cell_type": "code"
   },
   "source": "data.resample('1Y').mean()",
   "execution_count": 16,
   "outputs": [
    {
     "output_type": "execute_result",
     "execution_count": 16,
     "data": {
      "application/vnd.deepnote.dataframe.v2+json": {
       "row_count": 18,
       "column_count": 12,
       "columns": [
        {
         "name": "RPT",
         "dtype": "float64",
         "stats": {
          "unique_count": 18,
          "nan_count": 0,
          "min": "11.16635616438356",
          "max": "13.643095890410954",
          "histogram": [
           {
            "bin_start": 11.16635616438356,
            "bin_end": 11.414030136986298,
            "count": 2
           },
           {
            "bin_start": 11.414030136986298,
            "bin_end": 11.661704109589039,
            "count": 0
           },
           {
            "bin_start": 11.661704109589039,
            "bin_end": 11.909378082191779,
            "count": 3
           },
           {
            "bin_start": 11.909378082191779,
            "bin_end": 12.157052054794518,
            "count": 1
           },
           {
            "bin_start": 12.157052054794518,
            "bin_end": 12.404726027397256,
            "count": 3
           },
           {
            "bin_start": 12.404726027397256,
            "bin_end": 12.652399999999997,
            "count": 4
           },
           {
            "bin_start": 12.652399999999997,
            "bin_end": 12.900073972602737,
            "count": 2
           },
           {
            "bin_start": 12.900073972602737,
            "bin_end": 13.147747945205476,
            "count": 1
           },
           {
            "bin_start": 13.147747945205476,
            "bin_end": 13.395421917808214,
            "count": 0
           },
           {
            "bin_start": 13.395421917808214,
            "bin_end": 13.643095890410954,
            "count": 2
           }
          ]
         }
        },
        {
         "name": "VAL",
         "dtype": "float64",
         "stats": {
          "unique_count": 18,
          "nan_count": 0,
          "min": "9.095178082191783",
          "max": "11.811780821917809",
          "histogram": [
           {
            "bin_start": 9.095178082191783,
            "bin_end": 9.366838356164386,
            "count": 1
           },
           {
            "bin_start": 9.366838356164386,
            "bin_end": 9.638498630136988,
            "count": 0
           },
           {
            "bin_start": 9.638498630136988,
            "bin_end": 9.91015890410959,
            "count": 1
           },
           {
            "bin_start": 9.91015890410959,
            "bin_end": 10.181819178082193,
            "count": 1
           },
           {
            "bin_start": 10.181819178082193,
            "bin_end": 10.453479452054797,
            "count": 3
           },
           {
            "bin_start": 10.453479452054797,
            "bin_end": 10.725139726027399,
            "count": 3
           },
           {
            "bin_start": 10.725139726027399,
            "bin_end": 10.9968,
            "count": 4
           },
           {
            "bin_start": 10.9968,
            "bin_end": 11.268460273972604,
            "count": 3
           },
           {
            "bin_start": 11.268460273972604,
            "bin_end": 11.540120547945207,
            "count": 0
           },
           {
            "bin_start": 11.540120547945207,
            "bin_end": 11.811780821917809,
            "count": 2
           }
          ]
         }
        },
        {
         "name": "ROS",
         "dtype": "float64",
         "stats": {
          "unique_count": 18,
          "nan_count": 0,
          "min": "10.680493150684931",
          "max": "12.627835616438356",
          "histogram": [
           {
            "bin_start": 10.680493150684931,
            "bin_end": 10.875227397260273,
            "count": 2
           },
           {
            "bin_start": 10.875227397260273,
            "bin_end": 11.069961643835617,
            "count": 1
           },
           {
            "bin_start": 11.069961643835617,
            "bin_end": 11.264695890410959,
            "count": 1
           },
           {
            "bin_start": 11.264695890410959,
            "bin_end": 11.4594301369863,
            "count": 3
           },
           {
            "bin_start": 11.4594301369863,
            "bin_end": 11.654164383561643,
            "count": 1
           },
           {
            "bin_start": 11.654164383561643,
            "bin_end": 11.848898630136986,
            "count": 4
           },
           {
            "bin_start": 11.848898630136986,
            "bin_end": 12.043632876712328,
            "count": 1
           },
           {
            "bin_start": 12.043632876712328,
            "bin_end": 12.23836712328767,
            "count": 2
           },
           {
            "bin_start": 12.23836712328767,
            "bin_end": 12.433101369863014,
            "count": 1
           },
           {
            "bin_start": 12.433101369863014,
            "bin_end": 12.627835616438356,
            "count": 2
           }
          ]
         }
        },
        {
         "name": "KIL",
         "dtype": "float64",
         "stats": {
          "unique_count": 18,
          "nan_count": 0,
          "min": "5.1094262295082",
          "max": "7.3457260273972595",
          "histogram": [
           {
            "bin_start": 5.1094262295082,
            "bin_end": 5.333056209297106,
            "count": 3
           },
           {
            "bin_start": 5.333056209297106,
            "bin_end": 5.556686189086012,
            "count": 1
           },
           {
            "bin_start": 5.556686189086012,
            "bin_end": 5.780316168874918,
            "count": 1
           },
           {
            "bin_start": 5.780316168874918,
            "bin_end": 6.0039461486638235,
            "count": 1
           },
           {
            "bin_start": 6.0039461486638235,
            "bin_end": 6.22757612845273,
            "count": 3
           },
           {
            "bin_start": 6.22757612845273,
            "bin_end": 6.451206108241635,
            "count": 1
           },
           {
            "bin_start": 6.451206108241635,
            "bin_end": 6.674836088030542,
            "count": 1
           },
           {
            "bin_start": 6.674836088030542,
            "bin_end": 6.898466067819448,
            "count": 2
           },
           {
            "bin_start": 6.898466067819448,
            "bin_end": 7.122096047608354,
            "count": 2
           },
           {
            "bin_start": 7.122096047608354,
            "bin_end": 7.3457260273972595,
            "count": 3
           }
          ]
         }
        },
        {
         "name": "SHA",
         "dtype": "float64",
         "stats": {
          "unique_count": 18,
          "nan_count": 0,
          "min": "8.84633879781421",
          "max": "11.805041095890411",
          "histogram": [
           {
            "bin_start": 8.84633879781421,
            "bin_end": 9.142209027621831,
            "count": 1
           },
           {
            "bin_start": 9.142209027621831,
            "bin_end": 9.43807925742945,
            "count": 2
           },
           {
            "bin_start": 9.43807925742945,
            "bin_end": 9.733949487237071,
            "count": 2
           },
           {
            "bin_start": 9.733949487237071,
            "bin_end": 10.02981971704469,
            "count": 2
           },
           {
            "bin_start": 10.02981971704469,
            "bin_end": 10.325689946852311,
            "count": 1
           },
           {
            "bin_start": 10.325689946852311,
            "bin_end": 10.62156017665993,
            "count": 1
           },
           {
            "bin_start": 10.62156017665993,
            "bin_end": 10.91743040646755,
            "count": 3
           },
           {
            "bin_start": 10.91743040646755,
            "bin_end": 11.213300636275171,
            "count": 2
           },
           {
            "bin_start": 11.213300636275171,
            "bin_end": 11.50917086608279,
            "count": 1
           },
           {
            "bin_start": 11.50917086608279,
            "bin_end": 11.805041095890411,
            "count": 3
           }
          ]
         }
        },
        {
         "name": "BIR",
         "dtype": "float64",
         "stats": {
          "unique_count": 18,
          "nan_count": 0,
          "min": "5.66852054794521",
          "max": "8.586438356164384",
          "histogram": [
           {
            "bin_start": 5.66852054794521,
            "bin_end": 5.960312328767127,
            "count": 1
           },
           {
            "bin_start": 5.960312328767127,
            "bin_end": 6.252104109589045,
            "count": 3
           },
           {
            "bin_start": 6.252104109589045,
            "bin_end": 6.543895890410962,
            "count": 2
           },
           {
            "bin_start": 6.543895890410962,
            "bin_end": 6.83568767123288,
            "count": 2
           },
           {
            "bin_start": 6.83568767123288,
            "bin_end": 7.127479452054797,
            "count": 0
           },
           {
            "bin_start": 7.127479452054797,
            "bin_end": 7.4192712328767145,
            "count": 2
           },
           {
            "bin_start": 7.4192712328767145,
            "bin_end": 7.711063013698633,
            "count": 4
           },
           {
            "bin_start": 7.711063013698633,
            "bin_end": 8.00285479452055,
            "count": 2
           },
           {
            "bin_start": 8.00285479452055,
            "bin_end": 8.294646575342467,
            "count": 0
           },
           {
            "bin_start": 8.294646575342467,
            "bin_end": 8.586438356164384,
            "count": 2
           }
          ]
         }
        },
        {
         "name": "DUB",
         "dtype": "float64",
         "stats": {
          "unique_count": 18,
          "nan_count": 0,
          "min": "8.38589041095891",
          "max": "11.523205479452052",
          "histogram": [
           {
            "bin_start": 8.38589041095891,
            "bin_end": 8.699621917808223,
            "count": 4
           },
           {
            "bin_start": 8.699621917808223,
            "bin_end": 9.013353424657538,
            "count": 1
           },
           {
            "bin_start": 9.013353424657538,
            "bin_end": 9.327084931506853,
            "count": 1
           },
           {
            "bin_start": 9.327084931506853,
            "bin_end": 9.640816438356167,
            "count": 2
           },
           {
            "bin_start": 9.640816438356167,
            "bin_end": 9.95454794520548,
            "count": 2
           },
           {
            "bin_start": 9.95454794520548,
            "bin_end": 10.268279452054795,
            "count": 2
           },
           {
            "bin_start": 10.268279452054795,
            "bin_end": 10.58201095890411,
            "count": 1
           },
           {
            "bin_start": 10.58201095890411,
            "bin_end": 10.895742465753424,
            "count": 2
           },
           {
            "bin_start": 10.895742465753424,
            "bin_end": 11.209473972602737,
            "count": 2
           },
           {
            "bin_start": 11.209473972602737,
            "bin_end": 11.523205479452052,
            "count": 1
           }
          ]
         }
        },
        {
         "name": "CLA",
         "dtype": "float64",
         "stats": {
          "unique_count": 18,
          "nan_count": 0,
          "min": "6.7573150684931536",
          "max": "10.336547945205478",
          "histogram": [
           {
            "bin_start": 6.7573150684931536,
            "bin_end": 7.115238356164386,
            "count": 1
           },
           {
            "bin_start": 7.115238356164386,
            "bin_end": 7.473161643835619,
            "count": 1
           },
           {
            "bin_start": 7.473161643835619,
            "bin_end": 7.831084931506851,
            "count": 3
           },
           {
            "bin_start": 7.831084931506851,
            "bin_end": 8.189008219178083,
            "count": 1
           },
           {
            "bin_start": 8.189008219178083,
            "bin_end": 8.546931506849315,
            "count": 3
           },
           {
            "bin_start": 8.546931506849315,
            "bin_end": 8.90485479452055,
            "count": 5
           },
           {
            "bin_start": 8.90485479452055,
            "bin_end": 9.26277808219178,
            "count": 0
           },
           {
            "bin_start": 9.26277808219178,
            "bin_end": 9.620701369863013,
            "count": 2
           },
           {
            "bin_start": 9.620701369863013,
            "bin_end": 9.978624657534246,
            "count": 1
           },
           {
            "bin_start": 9.978624657534246,
            "bin_end": 10.336547945205478,
            "count": 1
           }
          ]
         }
        },
        {
         "name": "MUL",
         "dtype": "float64",
         "stats": {
          "unique_count": 18,
          "nan_count": 0,
          "min": "7.22494535519126",
          "max": "9.331753424657535",
          "histogram": [
           {
            "bin_start": 7.22494535519126,
            "bin_end": 7.435626162137888,
            "count": 1
           },
           {
            "bin_start": 7.435626162137888,
            "bin_end": 7.646306969084515,
            "count": 0
           },
           {
            "bin_start": 7.646306969084515,
            "bin_end": 7.856987776031143,
            "count": 1
           },
           {
            "bin_start": 7.856987776031143,
            "bin_end": 8.06766858297777,
            "count": 3
           },
           {
            "bin_start": 8.06766858297777,
            "bin_end": 8.278349389924397,
            "count": 1
           },
           {
            "bin_start": 8.278349389924397,
            "bin_end": 8.489030196871024,
            "count": 2
           },
           {
            "bin_start": 8.489030196871024,
            "bin_end": 8.699711003817653,
            "count": 3
           },
           {
            "bin_start": 8.699711003817653,
            "bin_end": 8.91039181076428,
            "count": 3
           },
           {
            "bin_start": 8.91039181076428,
            "bin_end": 9.121072617710908,
            "count": 2
           },
           {
            "bin_start": 9.121072617710908,
            "bin_end": 9.331753424657535,
            "count": 2
           }
          ]
         }
        },
        {
         "name": "CLO",
         "dtype": "float64",
         "stats": {
          "unique_count": 18,
          "nan_count": 0,
          "min": "7.2297534246575355",
          "max": "10.224438356164384",
          "histogram": [
           {
            "bin_start": 7.2297534246575355,
            "bin_end": 7.52922191780822,
            "count": 3
           },
           {
            "bin_start": 7.52922191780822,
            "bin_end": 7.828690410958905,
            "count": 2
           },
           {
            "bin_start": 7.828690410958905,
            "bin_end": 8.12815890410959,
            "count": 2
           },
           {
            "bin_start": 8.12815890410959,
            "bin_end": 8.427627397260276,
            "count": 2
           },
           {
            "bin_start": 8.427627397260276,
            "bin_end": 8.72709589041096,
            "count": 0
           },
           {
            "bin_start": 8.72709589041096,
            "bin_end": 9.026564383561645,
            "count": 2
           },
           {
            "bin_start": 9.026564383561645,
            "bin_end": 9.326032876712329,
            "count": 0
           },
           {
            "bin_start": 9.326032876712329,
            "bin_end": 9.625501369863015,
            "count": 1
           },
           {
            "bin_start": 9.625501369863015,
            "bin_end": 9.9249698630137,
            "count": 4
           },
           {
            "bin_start": 9.9249698630137,
            "bin_end": 10.224438356164384,
            "count": 2
           }
          ]
         }
        },
        {
         "name": "BEL",
         "dtype": "float64",
         "stats": {
          "unique_count": 18,
          "nan_count": 0,
          "min": "12.169698630136992",
          "max": "14.774547945205477",
          "histogram": [
           {
            "bin_start": 12.169698630136992,
            "bin_end": 12.43018356164384,
            "count": 3
           },
           {
            "bin_start": 12.43018356164384,
            "bin_end": 12.690668493150689,
            "count": 2
           },
           {
            "bin_start": 12.690668493150689,
            "bin_end": 12.951153424657537,
            "count": 3
           },
           {
            "bin_start": 12.951153424657537,
            "bin_end": 13.211638356164386,
            "count": 3
           },
           {
            "bin_start": 13.211638356164386,
            "bin_end": 13.472123287671234,
            "count": 2
           },
           {
            "bin_start": 13.472123287671234,
            "bin_end": 13.732608219178083,
            "count": 2
           },
           {
            "bin_start": 13.732608219178083,
            "bin_end": 13.993093150684931,
            "count": 1
           },
           {
            "bin_start": 13.993093150684931,
            "bin_end": 14.25357808219178,
            "count": 0
           },
           {
            "bin_start": 14.25357808219178,
            "bin_end": 14.514063013698628,
            "count": 1
           },
           {
            "bin_start": 14.514063013698628,
            "bin_end": 14.774547945205477,
            "count": 1
           }
          ]
         }
        },
        {
         "name": "MAL",
         "dtype": "float64",
         "stats": {
          "unique_count": 18,
          "nan_count": 0,
          "min": "13.680773480662982",
          "max": "17.135945205479448",
          "histogram": [
           {
            "bin_start": 13.680773480662982,
            "bin_end": 14.026290653144628,
            "count": 1
           },
           {
            "bin_start": 14.026290653144628,
            "bin_end": 14.371807825626275,
            "count": 1
           },
           {
            "bin_start": 14.371807825626275,
            "bin_end": 14.717324998107921,
            "count": 0
           },
           {
            "bin_start": 14.717324998107921,
            "bin_end": 15.062842170589569,
            "count": 5
           },
           {
            "bin_start": 15.062842170589569,
            "bin_end": 15.408359343071215,
            "count": 1
           },
           {
            "bin_start": 15.408359343071215,
            "bin_end": 15.75387651555286,
            "count": 3
           },
           {
            "bin_start": 15.75387651555286,
            "bin_end": 16.099393688034507,
            "count": 1
           },
           {
            "bin_start": 16.099393688034507,
            "bin_end": 16.444910860516156,
            "count": 1
           },
           {
            "bin_start": 16.444910860516156,
            "bin_end": 16.790428032997802,
            "count": 3
           },
           {
            "bin_start": 16.790428032997802,
            "bin_end": 17.135945205479448,
            "count": 2
           }
          ]
         }
        },
        {
         "name": "_deepnote_index_column",
         "dtype": "datetime64[ns]"
        }
       ],
       "rows_top": [
        {
         "RPT": 12.299583333333336,
         "VAL": 10.351795580110501,
         "ROS": 11.36236914600552,
         "KIL": 6.958227146814405,
         "SHA": 10.881763085399449,
         "BIR": 7.729726027397262,
         "DUB": 9.733922651933703,
         "CLA": 8.858787878787881,
         "MUL": 8.647651933701656,
         "CLO": 9.835576923076927,
         "BEL": 13.50279452054795,
         "MAL": 13.680773480662982,
         "_deepnote_index_column": "1961-12-31T00:00:00.000000"
        },
        {
         "RPT": 12.246923076923082,
         "VAL": 10.110438356164384,
         "ROS": 11.732712328767127,
         "KIL": 6.960439560439562,
         "SHA": 10.657917808219183,
         "BIR": 7.39306849315069,
         "DUB": 11.020712328767129,
         "CLA": 8.793753424657538,
         "MUL": 8.31682191780822,
         "CLO": 9.676246575342462,
         "BEL": 12.930684931506857,
         "MAL": 14.323956043956047,
         "_deepnote_index_column": "1962-12-31T00:00:00.000000"
        },
        {
         "RPT": 12.813452054794517,
         "VAL": 10.836986301369866,
         "ROS": 12.541150684931505,
         "KIL": 7.330054794520546,
         "SHA": 11.724109589041099,
         "BIR": 8.434712328767121,
         "DUB": 11.075698630136989,
         "CLA": 10.336547945205478,
         "MUL": 8.90358904109589,
         "CLO": 10.224438356164384,
         "BEL": 13.638876712328768,
         "MAL": 14.99901369863014,
         "_deepnote_index_column": "1963-12-31T00:00:00.000000"
        },
        {
         "RPT": 12.363661202185797,
         "VAL": 10.92016393442623,
         "ROS": 12.10437158469945,
         "KIL": 6.787786885245907,
         "SHA": 11.45448087431694,
         "BIR": 7.570874316939889,
         "DUB": 10.259153005464483,
         "CLA": 9.467349726775957,
         "MUL": 7.789016393442626,
         "CLO": 10.20795081967213,
         "BEL": 13.740546448087434,
         "MAL": 14.910300546448077,
         "_deepnote_index_column": "1964-12-31T00:00:00.000000"
        },
        {
         "RPT": 12.451369863013694,
         "VAL": 11.075534246575348,
         "ROS": 11.848767123287672,
         "KIL": 6.858465753424656,
         "SHA": 11.024794520547943,
         "BIR": 7.478109589041091,
         "DUB": 10.618712328767128,
         "CLA": 8.879917808219176,
         "MUL": 7.907424657534245,
         "CLO": 9.918082191780822,
         "BEL": 12.964246575342468,
         "MAL": 15.591643835616443,
         "_deepnote_index_column": "1965-12-31T00:00:00.000000"
        },
        {
         "RPT": 13.461972602739728,
         "VAL": 11.557205479452055,
         "ROS": 12.020630136986298,
         "KIL": 7.3457260273972595,
         "SHA": 11.805041095890411,
         "BIR": 7.793671232876712,
         "DUB": 10.579808219178084,
         "CLA": 8.835095890410958,
         "MUL": 8.514438356164385,
         "CLO": 9.768958904109594,
         "BEL": 14.265835616438348,
         "MAL": 16.307260273972595,
         "_deepnote_index_column": "1966-12-31T00:00:00.000000"
        },
        {
         "RPT": 12.737150684931509,
         "VAL": 10.99098630136987,
         "ROS": 11.73939726027397,
         "KIL": 7.14342465753425,
         "SHA": 11.630739726027393,
         "BIR": 7.368164383561641,
         "DUB": 10.652027397260275,
         "CLA": 9.325616438356164,
         "MUL": 8.645013698630141,
         "CLO": 9.54742465753425,
         "BEL": 14.774547945205477,
         "MAL": 17.135945205479448,
         "_deepnote_index_column": "1967-12-31T00:00:00.000000"
        },
        {
         "RPT": 11.835628415300544,
         "VAL": 10.468196721311475,
         "ROS": 11.409754098360656,
         "KIL": 6.47767759562842,
         "SHA": 10.760765027322407,
         "BIR": 6.067322404371587,
         "DUB": 8.859180327868858,
         "CLA": 8.255519125683058,
         "MUL": 7.22494535519126,
         "CLO": 7.832978142076502,
         "BEL": 12.808633879781423,
         "MAL": 15.017486338797816,
         "_deepnote_index_column": "1968-12-31T00:00:00.000000"
        },
        {
         "RPT": 11.16635616438356,
         "VAL": 9.723698630136992,
         "ROS": 10.902,
         "KIL": 5.767972602739723,
         "SHA": 9.873917808219185,
         "BIR": 6.189972602739724,
         "DUB": 8.564493150684937,
         "CLA": 7.7113972602739755,
         "MUL": 7.924520547945215,
         "CLO": 7.754383561643838,
         "BEL": 12.621232876712329,
         "MAL": 15.762904109589044,
         "_deepnote_index_column": "1969-12-31T00:00:00.000000"
        },
        {
         "RPT": 12.60032876712329,
         "VAL": 10.726931506849317,
         "ROS": 11.730246575342468,
         "KIL": 6.217178082191784,
         "SHA": 10.5673698630137,
         "BIR": 7.6094520547945255,
         "DUB": 9.609890410958904,
         "CLA": 8.334630136986304,
         "MUL": 9.297616438356165,
         "CLO": 8.289808219178083,
         "BEL": 13.183643835616442,
         "MAL": 16.456027397260275,
         "_deepnote_index_column": "1970-12-31T00:00:00.000000"
        },
        {
         "RPT": 11.273123287671236,
         "VAL": 9.095178082191783,
         "ROS": 11.088328767123295,
         "KIL": 5.241506849315071,
         "SHA": 9.440328767123292,
         "BIR": 6.097150684931508,
         "DUB": 8.38589041095891,
         "CLA": 6.7573150684931536,
         "MUL": 7.915369863013699,
         "CLO": 7.2297534246575355,
         "BEL": 12.208931506849318,
         "MAL": 15.025232876712327,
         "_deepnote_index_column": "1971-12-31T00:00:00.000000"
        },
        {
         "RPT": 12.463961748633883,
         "VAL": 10.56131147540984,
         "ROS": 12.058333333333326,
         "KIL": 5.929699453551911,
         "SHA": 9.43040983606558,
         "BIR": 6.3588251366120225,
         "DUB": 9.704508196721312,
         "CLA": 7.680792349726778,
         "MUL": 8.357295081967212,
         "CLO": 7.515273224043718,
         "BEL": 12.727377049180328,
         "MAL": 15.028715846994533,
         "_deepnote_index_column": "1972-12-31T00:00:00.000000"
        },
        {
         "RPT": 11.828465753424661,
         "VAL": 10.680493150684931,
         "ROS": 10.680493150684931,
         "KIL": 5.547863013698633,
         "SHA": 9.640876712328769,
         "BIR": 6.548739726027399,
         "DUB": 8.482109589041096,
         "CLA": 7.614273972602745,
         "MUL": 8.245534246575348,
         "CLO": 7.812410958904109,
         "BEL": 12.169698630136992,
         "MAL": 15.441095890410958,
         "_deepnote_index_column": "1973-12-31T00:00:00.000000"
        },
        {
         "RPT": 13.643095890410954,
         "VAL": 11.811780821917809,
         "ROS": 12.336356164383565,
         "KIL": 6.427041095890415,
         "SHA": 11.110986301369854,
         "BIR": 6.809780821917808,
         "DUB": 10.084602739726028,
         "CLA": 9.896986301369866,
         "MUL": 9.331753424657535,
         "CLO": 8.736356164383563,
         "BEL": 13.252958904109581,
         "MAL": 16.94767123287671,
         "_deepnote_index_column": "1974-12-31T00:00:00.000000"
        },
        {
         "RPT": 12.008575342465754,
         "VAL": 10.293835616438352,
         "ROS": 11.564712328767126,
         "KIL": 5.269095890410959,
         "SHA": 9.190082191780823,
         "BIR": 5.66852054794521,
         "DUB": 8.562602739726032,
         "CLA": 7.843835616438361,
         "MUL": 8.797945205479454,
         "CLO": 7.382821917808226,
         "BEL": 12.631671232876716,
         "MAL": 15.307863013698627,
         "_deepnote_index_column": "1975-12-31T00:00:00.000000"
        },
        {
         "RPT": 11.737841530054645,
         "VAL": 10.203114754098364,
         "ROS": 10.761229508196722,
         "KIL": 5.1094262295082,
         "SHA": 8.84633879781421,
         "BIR": 6.311038251366122,
         "DUB": 9.14912568306011,
         "CLA": 7.146202185792349,
         "MUL": 8.883715846994537,
         "CLO": 7.883087431693999,
         "BEL": 12.33237704918033,
         "MAL": 15.471448087431702,
         "_deepnote_index_column": "1976-12-31T00:00:00.000000"
        },
        {
         "RPT": 13.099616438356158,
         "VAL": 11.14449315068493,
         "ROS": 12.627835616438356,
         "KIL": 6.073945205479457,
         "SHA": 10.00383561643836,
         "BIR": 8.586438356164384,
         "DUB": 11.523205479452052,
         "CLA": 8.378383561643835,
         "MUL": 9.098191780821917,
         "CLO": 8.821616438356163,
         "BEL": 13.459068493150681,
         "MAL": 16.590849315068485,
         "_deepnote_index_column": "1977-12-31T00:00:00.000000"
        },
        {
         "RPT": 12.504356164383562,
         "VAL": 11.04427397260274,
         "ROS": 11.380000000000003,
         "KIL": 6.082356164383562,
         "SHA": 10.16723287671233,
         "BIR": 7.650657534246572,
         "DUB": 9.489342465753424,
         "CLA": 8.800465753424659,
         "MUL": 9.089753424657538,
         "CLO": 8.301698630136988,
         "BEL": 12.967397260273977,
         "MAL": 16.771369863013703,
         "_deepnote_index_column": "1978-12-31T00:00:00.000000"
        }
       ],
       "rows_bottom": null
      },
      "text/plain": "                  RPT        VAL        ROS       KIL        SHA       BIR  \\\ndate                                                                         \n1961-12-31  12.299583  10.351796  11.362369  6.958227  10.881763  7.729726   \n1962-12-31  12.246923  10.110438  11.732712  6.960440  10.657918  7.393068   \n1963-12-31  12.813452  10.836986  12.541151  7.330055  11.724110  8.434712   \n1964-12-31  12.363661  10.920164  12.104372  6.787787  11.454481  7.570874   \n1965-12-31  12.451370  11.075534  11.848767  6.858466  11.024795  7.478110   \n1966-12-31  13.461973  11.557205  12.020630  7.345726  11.805041  7.793671   \n1967-12-31  12.737151  10.990986  11.739397  7.143425  11.630740  7.368164   \n1968-12-31  11.835628  10.468197  11.409754  6.477678  10.760765  6.067322   \n1969-12-31  11.166356   9.723699  10.902000  5.767973   9.873918  6.189973   \n1970-12-31  12.600329  10.726932  11.730247  6.217178  10.567370  7.609452   \n1971-12-31  11.273123   9.095178  11.088329  5.241507   9.440329  6.097151   \n1972-12-31  12.463962  10.561311  12.058333  5.929699   9.430410  6.358825   \n1973-12-31  11.828466  10.680493  10.680493  5.547863   9.640877  6.548740   \n1974-12-31  13.643096  11.811781  12.336356  6.427041  11.110986  6.809781   \n1975-12-31  12.008575  10.293836  11.564712  5.269096   9.190082  5.668521   \n1976-12-31  11.737842  10.203115  10.761230  5.109426   8.846339  6.311038   \n1977-12-31  13.099616  11.144493  12.627836  6.073945  10.003836  8.586438   \n1978-12-31  12.504356  11.044274  11.380000  6.082356  10.167233  7.650658   \n\n                  DUB        CLA       MUL        CLO        BEL        MAL  \ndate                                                                         \n1961-12-31   9.733923   8.858788  8.647652   9.835577  13.502795  13.680773  \n1962-12-31  11.020712   8.793753  8.316822   9.676247  12.930685  14.323956  \n1963-12-31  11.075699  10.336548  8.903589  10.224438  13.638877  14.999014  \n1964-12-31  10.259153   9.467350  7.789016  10.207951  13.740546  14.910301  \n1965-12-31  10.618712   8.879918  7.907425   9.918082  12.964247  15.591644  \n1966-12-31  10.579808   8.835096  8.514438   9.768959  14.265836  16.307260  \n1967-12-31  10.652027   9.325616  8.645014   9.547425  14.774548  17.135945  \n1968-12-31   8.859180   8.255519  7.224945   7.832978  12.808634  15.017486  \n1969-12-31   8.564493   7.711397  7.924521   7.754384  12.621233  15.762904  \n1970-12-31   9.609890   8.334630  9.297616   8.289808  13.183644  16.456027  \n1971-12-31   8.385890   6.757315  7.915370   7.229753  12.208932  15.025233  \n1972-12-31   9.704508   7.680792  8.357295   7.515273  12.727377  15.028716  \n1973-12-31   8.482110   7.614274  8.245534   7.812411  12.169699  15.441096  \n1974-12-31  10.084603   9.896986  9.331753   8.736356  13.252959  16.947671  \n1975-12-31   8.562603   7.843836  8.797945   7.382822  12.631671  15.307863  \n1976-12-31   9.149126   7.146202  8.883716   7.883087  12.332377  15.471448  \n1977-12-31  11.523205   8.378384  9.098192   8.821616  13.459068  16.590849  \n1978-12-31   9.489342   8.800466  9.089753   8.301699  12.967397  16.771370  ",
      "text/html": "<div>\n<style scoped>\n    .dataframe tbody tr th:only-of-type {\n        vertical-align: middle;\n    }\n\n    .dataframe tbody tr th {\n        vertical-align: top;\n    }\n\n    .dataframe thead th {\n        text-align: right;\n    }\n</style>\n<table border=\"1\" class=\"dataframe\">\n  <thead>\n    <tr style=\"text-align: right;\">\n      <th></th>\n      <th>RPT</th>\n      <th>VAL</th>\n      <th>ROS</th>\n      <th>KIL</th>\n      <th>SHA</th>\n      <th>BIR</th>\n      <th>DUB</th>\n      <th>CLA</th>\n      <th>MUL</th>\n      <th>CLO</th>\n      <th>BEL</th>\n      <th>MAL</th>\n    </tr>\n    <tr>\n      <th>date</th>\n      <th></th>\n      <th></th>\n      <th></th>\n      <th></th>\n      <th></th>\n      <th></th>\n      <th></th>\n      <th></th>\n      <th></th>\n      <th></th>\n      <th></th>\n      <th></th>\n    </tr>\n  </thead>\n  <tbody>\n    <tr>\n      <th>1961-12-31</th>\n      <td>12.299583</td>\n      <td>10.351796</td>\n      <td>11.362369</td>\n      <td>6.958227</td>\n      <td>10.881763</td>\n      <td>7.729726</td>\n      <td>9.733923</td>\n      <td>8.858788</td>\n      <td>8.647652</td>\n      <td>9.835577</td>\n      <td>13.502795</td>\n      <td>13.680773</td>\n    </tr>\n    <tr>\n      <th>1962-12-31</th>\n      <td>12.246923</td>\n      <td>10.110438</td>\n      <td>11.732712</td>\n      <td>6.960440</td>\n      <td>10.657918</td>\n      <td>7.393068</td>\n      <td>11.020712</td>\n      <td>8.793753</td>\n      <td>8.316822</td>\n      <td>9.676247</td>\n      <td>12.930685</td>\n      <td>14.323956</td>\n    </tr>\n    <tr>\n      <th>1963-12-31</th>\n      <td>12.813452</td>\n      <td>10.836986</td>\n      <td>12.541151</td>\n      <td>7.330055</td>\n      <td>11.724110</td>\n      <td>8.434712</td>\n      <td>11.075699</td>\n      <td>10.336548</td>\n      <td>8.903589</td>\n      <td>10.224438</td>\n      <td>13.638877</td>\n      <td>14.999014</td>\n    </tr>\n    <tr>\n      <th>1964-12-31</th>\n      <td>12.363661</td>\n      <td>10.920164</td>\n      <td>12.104372</td>\n      <td>6.787787</td>\n      <td>11.454481</td>\n      <td>7.570874</td>\n      <td>10.259153</td>\n      <td>9.467350</td>\n      <td>7.789016</td>\n      <td>10.207951</td>\n      <td>13.740546</td>\n      <td>14.910301</td>\n    </tr>\n    <tr>\n      <th>1965-12-31</th>\n      <td>12.451370</td>\n      <td>11.075534</td>\n      <td>11.848767</td>\n      <td>6.858466</td>\n      <td>11.024795</td>\n      <td>7.478110</td>\n      <td>10.618712</td>\n      <td>8.879918</td>\n      <td>7.907425</td>\n      <td>9.918082</td>\n      <td>12.964247</td>\n      <td>15.591644</td>\n    </tr>\n    <tr>\n      <th>1966-12-31</th>\n      <td>13.461973</td>\n      <td>11.557205</td>\n      <td>12.020630</td>\n      <td>7.345726</td>\n      <td>11.805041</td>\n      <td>7.793671</td>\n      <td>10.579808</td>\n      <td>8.835096</td>\n      <td>8.514438</td>\n      <td>9.768959</td>\n      <td>14.265836</td>\n      <td>16.307260</td>\n    </tr>\n    <tr>\n      <th>1967-12-31</th>\n      <td>12.737151</td>\n      <td>10.990986</td>\n      <td>11.739397</td>\n      <td>7.143425</td>\n      <td>11.630740</td>\n      <td>7.368164</td>\n      <td>10.652027</td>\n      <td>9.325616</td>\n      <td>8.645014</td>\n      <td>9.547425</td>\n      <td>14.774548</td>\n      <td>17.135945</td>\n    </tr>\n    <tr>\n      <th>1968-12-31</th>\n      <td>11.835628</td>\n      <td>10.468197</td>\n      <td>11.409754</td>\n      <td>6.477678</td>\n      <td>10.760765</td>\n      <td>6.067322</td>\n      <td>8.859180</td>\n      <td>8.255519</td>\n      <td>7.224945</td>\n      <td>7.832978</td>\n      <td>12.808634</td>\n      <td>15.017486</td>\n    </tr>\n    <tr>\n      <th>1969-12-31</th>\n      <td>11.166356</td>\n      <td>9.723699</td>\n      <td>10.902000</td>\n      <td>5.767973</td>\n      <td>9.873918</td>\n      <td>6.189973</td>\n      <td>8.564493</td>\n      <td>7.711397</td>\n      <td>7.924521</td>\n      <td>7.754384</td>\n      <td>12.621233</td>\n      <td>15.762904</td>\n    </tr>\n    <tr>\n      <th>1970-12-31</th>\n      <td>12.600329</td>\n      <td>10.726932</td>\n      <td>11.730247</td>\n      <td>6.217178</td>\n      <td>10.567370</td>\n      <td>7.609452</td>\n      <td>9.609890</td>\n      <td>8.334630</td>\n      <td>9.297616</td>\n      <td>8.289808</td>\n      <td>13.183644</td>\n      <td>16.456027</td>\n    </tr>\n    <tr>\n      <th>1971-12-31</th>\n      <td>11.273123</td>\n      <td>9.095178</td>\n      <td>11.088329</td>\n      <td>5.241507</td>\n      <td>9.440329</td>\n      <td>6.097151</td>\n      <td>8.385890</td>\n      <td>6.757315</td>\n      <td>7.915370</td>\n      <td>7.229753</td>\n      <td>12.208932</td>\n      <td>15.025233</td>\n    </tr>\n    <tr>\n      <th>1972-12-31</th>\n      <td>12.463962</td>\n      <td>10.561311</td>\n      <td>12.058333</td>\n      <td>5.929699</td>\n      <td>9.430410</td>\n      <td>6.358825</td>\n      <td>9.704508</td>\n      <td>7.680792</td>\n      <td>8.357295</td>\n      <td>7.515273</td>\n      <td>12.727377</td>\n      <td>15.028716</td>\n    </tr>\n    <tr>\n      <th>1973-12-31</th>\n      <td>11.828466</td>\n      <td>10.680493</td>\n      <td>10.680493</td>\n      <td>5.547863</td>\n      <td>9.640877</td>\n      <td>6.548740</td>\n      <td>8.482110</td>\n      <td>7.614274</td>\n      <td>8.245534</td>\n      <td>7.812411</td>\n      <td>12.169699</td>\n      <td>15.441096</td>\n    </tr>\n    <tr>\n      <th>1974-12-31</th>\n      <td>13.643096</td>\n      <td>11.811781</td>\n      <td>12.336356</td>\n      <td>6.427041</td>\n      <td>11.110986</td>\n      <td>6.809781</td>\n      <td>10.084603</td>\n      <td>9.896986</td>\n      <td>9.331753</td>\n      <td>8.736356</td>\n      <td>13.252959</td>\n      <td>16.947671</td>\n    </tr>\n    <tr>\n      <th>1975-12-31</th>\n      <td>12.008575</td>\n      <td>10.293836</td>\n      <td>11.564712</td>\n      <td>5.269096</td>\n      <td>9.190082</td>\n      <td>5.668521</td>\n      <td>8.562603</td>\n      <td>7.843836</td>\n      <td>8.797945</td>\n      <td>7.382822</td>\n      <td>12.631671</td>\n      <td>15.307863</td>\n    </tr>\n    <tr>\n      <th>1976-12-31</th>\n      <td>11.737842</td>\n      <td>10.203115</td>\n      <td>10.761230</td>\n      <td>5.109426</td>\n      <td>8.846339</td>\n      <td>6.311038</td>\n      <td>9.149126</td>\n      <td>7.146202</td>\n      <td>8.883716</td>\n      <td>7.883087</td>\n      <td>12.332377</td>\n      <td>15.471448</td>\n    </tr>\n    <tr>\n      <th>1977-12-31</th>\n      <td>13.099616</td>\n      <td>11.144493</td>\n      <td>12.627836</td>\n      <td>6.073945</td>\n      <td>10.003836</td>\n      <td>8.586438</td>\n      <td>11.523205</td>\n      <td>8.378384</td>\n      <td>9.098192</td>\n      <td>8.821616</td>\n      <td>13.459068</td>\n      <td>16.590849</td>\n    </tr>\n    <tr>\n      <th>1978-12-31</th>\n      <td>12.504356</td>\n      <td>11.044274</td>\n      <td>11.380000</td>\n      <td>6.082356</td>\n      <td>10.167233</td>\n      <td>7.650658</td>\n      <td>9.489342</td>\n      <td>8.800466</td>\n      <td>9.089753</td>\n      <td>8.301699</td>\n      <td>12.967397</td>\n      <td>16.771370</td>\n    </tr>\n  </tbody>\n</table>\n</div>"
     },
     "metadata": {}
    }
   ]
  },
  {
   "cell_type": "markdown",
   "source": "### Step 13. Downsample the record to a monthly frequency for each location.",
   "metadata": {
    "id": "aR-hLU07deHa",
    "cell_id": "00031-c78bcd01-3f33-4dcb-b8b6-5675281c854d",
    "deepnote_cell_type": "markdown"
   }
  },
  {
   "cell_type": "code",
   "metadata": {
    "colab": {
     "base_uri": "https://localhost:8080/",
     "height": 1000
    },
    "id": "60ylc81bdeHa",
    "executionInfo": {
     "status": "ok",
     "timestamp": 1623812280109,
     "user_tz": 240,
     "elapsed": 277,
     "user": {
      "displayName": "Andrés Sánchez",
      "photoUrl": "https://lh3.googleusercontent.com/a-/AOh14Gg69bZMv30ckb-T1MJy0nSxWIHUaP0p2uP6MYBuvQ=s64",
      "userId": "07985253921366566280"
     }
    },
    "outputId": "59543ff9-d3a0-42c0-aa05-685c34872a81",
    "cell_id": "00032-e3ea147e-e51f-4b0f-b841-7ffec4a7f7d7",
    "deepnote_to_be_reexecuted": false,
    "source_hash": "39ef40c3",
    "execution_start": 1630098265101,
    "execution_millis": 66,
    "deepnote_cell_type": "code"
   },
   "source": "data.resample('1M').mean()",
   "execution_count": 17,
   "outputs": [
    {
     "output_type": "execute_result",
     "execution_count": 17,
     "data": {
      "application/vnd.deepnote.dataframe.v2+json": {
       "row_count": 216,
       "column_count": 12,
       "columns": [
        {
         "name": "RPT",
         "dtype": "float64",
         "stats": {
          "unique_count": 216,
          "nan_count": 0,
          "min": "7.198709677419354",
          "max": "20.990967741935485",
          "histogram": [
           {
            "bin_start": 7.198709677419354,
            "bin_end": 8.577935483870966,
            "count": 8
           },
           {
            "bin_start": 8.577935483870966,
            "bin_end": 9.957161290322581,
            "count": 29
           },
           {
            "bin_start": 9.957161290322581,
            "bin_end": 11.336387096774192,
            "count": 36
           },
           {
            "bin_start": 11.336387096774192,
            "bin_end": 12.715612903225807,
            "count": 51
           },
           {
            "bin_start": 12.715612903225807,
            "bin_end": 14.094838709677418,
            "count": 40
           },
           {
            "bin_start": 14.094838709677418,
            "bin_end": 15.474064516129033,
            "count": 32
           },
           {
            "bin_start": 15.474064516129033,
            "bin_end": 16.853290322580644,
            "count": 15
           },
           {
            "bin_start": 16.853290322580644,
            "bin_end": 18.23251612903226,
            "count": 3
           },
           {
            "bin_start": 18.23251612903226,
            "bin_end": 19.61174193548387,
            "count": 1
           },
           {
            "bin_start": 19.61174193548387,
            "bin_end": 20.990967741935485,
            "count": 1
           }
          ]
         }
        },
        {
         "name": "VAL",
         "dtype": "float64",
         "stats": {
          "unique_count": 216,
          "nan_count": 0,
          "min": "5.3661290322580655",
          "max": "17.8058064516129",
          "histogram": [
           {
            "bin_start": 5.3661290322580655,
            "bin_end": 6.610096774193549,
            "count": 3
           },
           {
            "bin_start": 6.610096774193549,
            "bin_end": 7.854064516129032,
            "count": 19
           },
           {
            "bin_start": 7.854064516129032,
            "bin_end": 9.098032258064515,
            "count": 35
           },
           {
            "bin_start": 9.098032258064515,
            "bin_end": 10.341999999999999,
            "count": 41
           },
           {
            "bin_start": 10.341999999999999,
            "bin_end": 11.585967741935482,
            "count": 42
           },
           {
            "bin_start": 11.585967741935482,
            "bin_end": 12.829935483870965,
            "count": 44
           },
           {
            "bin_start": 12.829935483870965,
            "bin_end": 14.073903225806449,
            "count": 16
           },
           {
            "bin_start": 14.073903225806449,
            "bin_end": 15.317870967741932,
            "count": 10
           },
           {
            "bin_start": 15.317870967741932,
            "bin_end": 16.561838709677417,
            "count": 4
           },
           {
            "bin_start": 16.561838709677417,
            "bin_end": 17.8058064516129,
            "count": 2
           }
          ]
         }
        },
        {
         "name": "ROS",
         "dtype": "float64",
         "stats": {
          "unique_count": 216,
          "nan_count": 0,
          "min": "6.901612903225805",
          "max": "17.51483870967742",
          "histogram": [
           {
            "bin_start": 6.901612903225805,
            "bin_end": 7.962935483870966,
            "count": 3
           },
           {
            "bin_start": 7.962935483870966,
            "bin_end": 9.024258064516129,
            "count": 14
           },
           {
            "bin_start": 9.024258064516129,
            "bin_end": 10.08558064516129,
            "count": 27
           },
           {
            "bin_start": 10.08558064516129,
            "bin_end": 11.14690322580645,
            "count": 42
           },
           {
            "bin_start": 11.14690322580645,
            "bin_end": 12.208225806451612,
            "count": 50
           },
           {
            "bin_start": 12.208225806451612,
            "bin_end": 13.269548387096773,
            "count": 38
           },
           {
            "bin_start": 13.269548387096773,
            "bin_end": 14.330870967741935,
            "count": 24
           },
           {
            "bin_start": 14.330870967741935,
            "bin_end": 15.392193548387096,
            "count": 13
           },
           {
            "bin_start": 15.392193548387096,
            "bin_end": 16.45351612903226,
            "count": 4
           },
           {
            "bin_start": 16.45351612903226,
            "bin_end": 17.51483870967742,
            "count": 1
           }
          ]
         }
        },
        {
         "name": "KIL",
         "dtype": "float64",
         "stats": {
          "unique_count": 215,
          "nan_count": 0,
          "min": "3.142258064516129",
          "max": "10.549354838709675",
          "histogram": [
           {
            "bin_start": 3.142258064516129,
            "bin_end": 3.8829677419354836,
            "count": 6
           },
           {
            "bin_start": 3.8829677419354836,
            "bin_end": 4.623677419354838,
            "count": 19
           },
           {
            "bin_start": 4.623677419354838,
            "bin_end": 5.364387096774193,
            "count": 31
           },
           {
            "bin_start": 5.364387096774193,
            "bin_end": 6.105096774193547,
            "count": 52
           },
           {
            "bin_start": 6.105096774193547,
            "bin_end": 6.845806451612901,
            "count": 34
           },
           {
            "bin_start": 6.845806451612901,
            "bin_end": 7.5865161290322565,
            "count": 37
           },
           {
            "bin_start": 7.5865161290322565,
            "bin_end": 8.327225806451612,
            "count": 20
           },
           {
            "bin_start": 8.327225806451612,
            "bin_end": 9.067935483870965,
            "count": 7
           },
           {
            "bin_start": 9.067935483870965,
            "bin_end": 9.80864516129032,
            "count": 8
           },
           {
            "bin_start": 9.80864516129032,
            "bin_end": 10.549354838709675,
            "count": 2
           }
          ]
         }
        },
        {
         "name": "SHA",
         "dtype": "float64",
         "stats": {
          "unique_count": 216,
          "nan_count": 0,
          "min": "4.695483870967741",
          "max": "16.9441935483871",
          "histogram": [
           {
            "bin_start": 4.695483870967741,
            "bin_end": 5.920354838709677,
            "count": 2
           },
           {
            "bin_start": 5.920354838709677,
            "bin_end": 7.145225806451613,
            "count": 8
           },
           {
            "bin_start": 7.145225806451613,
            "bin_end": 8.370096774193549,
            "count": 22
           },
           {
            "bin_start": 8.370096774193549,
            "bin_end": 9.594967741935484,
            "count": 38
           },
           {
            "bin_start": 9.594967741935484,
            "bin_end": 10.81983870967742,
            "count": 49
           },
           {
            "bin_start": 10.81983870967742,
            "bin_end": 12.044709677419357,
            "count": 59
           },
           {
            "bin_start": 12.044709677419357,
            "bin_end": 13.269580645161295,
            "count": 20
           },
           {
            "bin_start": 13.269580645161295,
            "bin_end": 14.49445161290323,
            "count": 14
           },
           {
            "bin_start": 14.49445161290323,
            "bin_end": 15.719322580645166,
            "count": 1
           },
           {
            "bin_start": 15.719322580645166,
            "bin_end": 16.9441935483871,
            "count": 3
           }
          ]
         }
        },
        {
         "name": "BIR",
         "dtype": "float64",
         "stats": {
          "unique_count": 216,
          "nan_count": 0,
          "min": "3.4916129032258065",
          "max": "11.562258064516127",
          "histogram": [
           {
            "bin_start": 3.4916129032258065,
            "bin_end": 4.2986774193548385,
            "count": 8
           },
           {
            "bin_start": 4.2986774193548385,
            "bin_end": 5.105741935483871,
            "count": 17
           },
           {
            "bin_start": 5.105741935483871,
            "bin_end": 5.912806451612903,
            "count": 31
           },
           {
            "bin_start": 5.912806451612903,
            "bin_end": 6.719870967741935,
            "count": 38
           },
           {
            "bin_start": 6.719870967741935,
            "bin_end": 7.526935483870966,
            "count": 39
           },
           {
            "bin_start": 7.526935483870966,
            "bin_end": 8.334,
            "count": 37
           },
           {
            "bin_start": 8.334,
            "bin_end": 9.141064516129031,
            "count": 14
           },
           {
            "bin_start": 9.141064516129031,
            "bin_end": 9.948129032258063,
            "count": 21
           },
           {
            "bin_start": 9.948129032258063,
            "bin_end": 10.755193548387096,
            "count": 7
           },
           {
            "bin_start": 10.755193548387096,
            "bin_end": 11.562258064516127,
            "count": 4
           }
          ]
         }
        },
        {
         "name": "DUB",
         "dtype": "float64",
         "stats": {
          "unique_count": 215,
          "nan_count": 0,
          "min": "5.420967741935483",
          "max": "17.43032258064516",
          "histogram": [
           {
            "bin_start": 5.420967741935483,
            "bin_end": 6.6219032258064505,
            "count": 19
           },
           {
            "bin_start": 6.6219032258064505,
            "bin_end": 7.822838709677418,
            "count": 28
           },
           {
            "bin_start": 7.822838709677418,
            "bin_end": 9.023774193548388,
            "count": 37
           },
           {
            "bin_start": 9.023774193548388,
            "bin_end": 10.224709677419355,
            "count": 45
           },
           {
            "bin_start": 10.224709677419355,
            "bin_end": 11.425645161290323,
            "count": 33
           },
           {
            "bin_start": 11.425645161290323,
            "bin_end": 12.62658064516129,
            "count": 30
           },
           {
            "bin_start": 12.62658064516129,
            "bin_end": 13.827516129032258,
            "count": 13
           },
           {
            "bin_start": 13.827516129032258,
            "bin_end": 15.028451612903226,
            "count": 6
           },
           {
            "bin_start": 15.028451612903226,
            "bin_end": 16.229387096774193,
            "count": 2
           },
           {
            "bin_start": 16.229387096774193,
            "bin_end": 17.43032258064516,
            "count": 3
           }
          ]
         }
        },
        {
         "name": "CLA",
         "dtype": "float64",
         "stats": {
          "unique_count": 215,
          "nan_count": 0,
          "min": "3.3625806451612896",
          "max": "15.0341935483871",
          "histogram": [
           {
            "bin_start": 3.3625806451612896,
            "bin_end": 4.52974193548387,
            "count": 3
           },
           {
            "bin_start": 4.52974193548387,
            "bin_end": 5.696903225806452,
            "count": 13
           },
           {
            "bin_start": 5.696903225806452,
            "bin_end": 6.864064516129032,
            "count": 24
           },
           {
            "bin_start": 6.864064516129032,
            "bin_end": 8.031225806451614,
            "count": 44
           },
           {
            "bin_start": 8.031225806451614,
            "bin_end": 9.198387096774194,
            "count": 57
           },
           {
            "bin_start": 9.198387096774194,
            "bin_end": 10.365548387096775,
            "count": 37
           },
           {
            "bin_start": 10.365548387096775,
            "bin_end": 11.532709677419357,
            "count": 26
           },
           {
            "bin_start": 11.532709677419357,
            "bin_end": 12.699870967741937,
            "count": 8
           },
           {
            "bin_start": 12.699870967741937,
            "bin_end": 13.867032258064517,
            "count": 3
           },
           {
            "bin_start": 13.867032258064517,
            "bin_end": 15.0341935483871,
            "count": 1
           }
          ]
         }
        },
        {
         "name": "MUL",
         "dtype": "float64",
         "stats": {
          "unique_count": 215,
          "nan_count": 0,
          "min": "4.780322580645161",
          "max": "14.883548387096774",
          "histogram": [
           {
            "bin_start": 4.780322580645161,
            "bin_end": 5.790645161290323,
            "count": 8
           },
           {
            "bin_start": 5.790645161290323,
            "bin_end": 6.800967741935484,
            "count": 26
           },
           {
            "bin_start": 6.800967741935484,
            "bin_end": 7.8112903225806445,
            "count": 39
           },
           {
            "bin_start": 7.8112903225806445,
            "bin_end": 8.821612903225805,
            "count": 58
           },
           {
            "bin_start": 8.821612903225805,
            "bin_end": 9.831935483870968,
            "count": 42
           },
           {
            "bin_start": 9.831935483870968,
            "bin_end": 10.842258064516129,
            "count": 29
           },
           {
            "bin_start": 10.842258064516129,
            "bin_end": 11.85258064516129,
            "count": 5
           },
           {
            "bin_start": 11.85258064516129,
            "bin_end": 12.862903225806452,
            "count": 4
           },
           {
            "bin_start": 12.862903225806452,
            "bin_end": 13.873225806451611,
            "count": 3
           },
           {
            "bin_start": 13.873225806451611,
            "bin_end": 14.883548387096774,
            "count": 2
           }
          ]
         }
        },
        {
         "name": "CLO",
         "dtype": "float64",
         "stats": {
          "unique_count": 216,
          "nan_count": 0,
          "min": "4.096774193548387",
          "max": "15.09290322580645",
          "histogram": [
           {
            "bin_start": 4.096774193548387,
            "bin_end": 5.196387096774194,
            "count": 8
           },
           {
            "bin_start": 5.196387096774194,
            "bin_end": 6.295999999999999,
            "count": 18
           },
           {
            "bin_start": 6.295999999999999,
            "bin_end": 7.395612903225806,
            "count": 27
           },
           {
            "bin_start": 7.395612903225806,
            "bin_end": 8.495225806451613,
            "count": 48
           },
           {
            "bin_start": 8.495225806451613,
            "bin_end": 9.594838709677418,
            "count": 48
           },
           {
            "bin_start": 9.594838709677418,
            "bin_end": 10.694451612903226,
            "count": 30
           },
           {
            "bin_start": 10.694451612903226,
            "bin_end": 11.794064516129032,
            "count": 23
           },
           {
            "bin_start": 11.794064516129032,
            "bin_end": 12.893677419354837,
            "count": 9
           },
           {
            "bin_start": 12.893677419354837,
            "bin_end": 13.993290322580645,
            "count": 3
           },
           {
            "bin_start": 13.993290322580645,
            "bin_end": 15.09290322580645,
            "count": 2
           }
          ]
         }
        },
        {
         "name": "BEL",
         "dtype": "float64",
         "stats": {
          "unique_count": 216,
          "nan_count": 0,
          "min": "7.07967741935484",
          "max": "19.92967741935484",
          "histogram": [
           {
            "bin_start": 7.07967741935484,
            "bin_end": 8.36467741935484,
            "count": 4
           },
           {
            "bin_start": 8.36467741935484,
            "bin_end": 9.64967741935484,
            "count": 8
           },
           {
            "bin_start": 9.64967741935484,
            "bin_end": 10.93467741935484,
            "count": 24
           },
           {
            "bin_start": 10.93467741935484,
            "bin_end": 12.219677419354838,
            "count": 48
           },
           {
            "bin_start": 12.219677419354838,
            "bin_end": 13.504677419354838,
            "count": 44
           },
           {
            "bin_start": 13.504677419354838,
            "bin_end": 14.789677419354838,
            "count": 40
           },
           {
            "bin_start": 14.789677419354838,
            "bin_end": 16.07467741935484,
            "count": 24
           },
           {
            "bin_start": 16.07467741935484,
            "bin_end": 17.35967741935484,
            "count": 13
           },
           {
            "bin_start": 17.35967741935484,
            "bin_end": 18.64467741935484,
            "count": 6
           },
           {
            "bin_start": 18.64467741935484,
            "bin_end": 19.92967741935484,
            "count": 5
           }
          ]
         }
        },
        {
         "name": "MAL",
         "dtype": "float64",
         "stats": {
          "unique_count": 216,
          "nan_count": 0,
          "min": "9.363225806451613",
          "max": "24.573225806451617",
          "histogram": [
           {
            "bin_start": 9.363225806451613,
            "bin_end": 10.884225806451614,
            "count": 11
           },
           {
            "bin_start": 10.884225806451614,
            "bin_end": 12.405225806451615,
            "count": 29
           },
           {
            "bin_start": 12.405225806451615,
            "bin_end": 13.926225806451614,
            "count": 26
           },
           {
            "bin_start": 13.926225806451614,
            "bin_end": 15.447225806451614,
            "count": 48
           },
           {
            "bin_start": 15.447225806451614,
            "bin_end": 16.968225806451613,
            "count": 32
           },
           {
            "bin_start": 16.968225806451613,
            "bin_end": 18.489225806451614,
            "count": 30
           },
           {
            "bin_start": 18.489225806451614,
            "bin_end": 20.010225806451615,
            "count": 20
           },
           {
            "bin_start": 20.010225806451615,
            "bin_end": 21.531225806451616,
            "count": 14
           },
           {
            "bin_start": 21.531225806451616,
            "bin_end": 23.052225806451617,
            "count": 3
           },
           {
            "bin_start": 23.052225806451617,
            "bin_end": 24.573225806451617,
            "count": 3
           }
          ]
         }
        },
        {
         "name": "_deepnote_index_column",
         "dtype": "datetime64[ns]"
        }
       ],
       "rows_top": [
        {
         "RPT": 14.841333333333331,
         "VAL": 11.988333333333337,
         "ROS": 13.431612903225808,
         "KIL": 7.736774193548387,
         "SHA": 11.072758620689653,
         "BIR": 8.588064516129029,
         "DUB": 11.184838709677418,
         "CLA": 9.24533333333333,
         "MUL": 9.085806451612902,
         "CLO": 10.10741935483871,
         "BEL": 13.880967741935482,
         "MAL": 14.703225806451613,
         "_deepnote_index_column": "1961-01-31T00:00:00.000000"
        },
        {
         "RPT": 16.26928571428572,
         "VAL": 14.975357142857138,
         "ROS": 14.441481481481482,
         "KIL": 9.23074074074074,
         "SHA": 13.852142857142855,
         "BIR": 10.937500000000002,
         "DUB": 11.890714285714285,
         "CLA": 11.846071428571426,
         "MUL": 11.82142857142857,
         "CLO": 12.714285714285717,
         "BEL": 18.583214285714284,
         "MAL": 15.411785714285715,
         "_deepnote_index_column": "1961-02-28T00:00:00.000000"
        },
        {
         "RPT": 10.889999999999997,
         "VAL": 11.296451612903226,
         "ROS": 10.752903225806453,
         "KIL": 7.284,
         "SHA": 10.509354838709674,
         "BIR": 8.866774193548387,
         "DUB": 9.644193548387097,
         "CLA": 9.829677419354837,
         "MUL": 10.294137931034484,
         "CLO": 11.251935483870966,
         "BEL": 16.410967741935483,
         "MAL": 15.719999999999994,
         "_deepnote_index_column": "1961-03-31T00:00:00.000000"
        },
        {
         "RPT": 10.722666666666669,
         "VAL": 9.427666666666665,
         "ROS": 9.998,
         "KIL": 5.830666666666667,
         "SHA": 8.434999999999999,
         "BIR": 6.494999999999999,
         "DUB": 6.925333333333333,
         "CLA": 7.094666666666668,
         "MUL": 7.342333333333332,
         "CLO": 7.237000000000001,
         "BEL": 11.147333333333332,
         "MAL": 10.278333333333334,
         "_deepnote_index_column": "1961-04-30T00:00:00.000000"
        },
        {
         "RPT": 9.860967741935484,
         "VAL": 8.849999999999996,
         "ROS": 10.81806451612903,
         "KIL": 5.905333333333333,
         "SHA": 9.490322580645165,
         "BIR": 6.574838709677419,
         "DUB": 7.604,
         "CLA": 8.177096774193549,
         "MUL": 8.039354838709675,
         "CLO": 8.499354838709676,
         "BEL": 11.900322580645158,
         "MAL": 12.011612903225808,
         "_deepnote_index_column": "1961-05-31T00:00:00.000000"
        },
        {
         "RPT": 9.904137931034484,
         "VAL": 8.520333333333333,
         "ROS": 8.866999999999999,
         "KIL": 6.083,
         "SHA": 10.824000000000002,
         "BIR": 6.707333333333335,
         "DUB": 9.095666666666665,
         "CLA": 8.849333333333334,
         "MUL": 9.086666666666666,
         "CLO": 9.940333333333333,
         "BEL": 13.995,
         "MAL": 14.55379310344828,
         "_deepnote_index_column": "1961-06-30T00:00:00.000000"
        },
        {
         "RPT": 10.614193548387096,
         "VAL": 8.221612903225806,
         "ROS": 9.110322580645162,
         "KIL": 6.340967741935483,
         "SHA": 10.532580645161287,
         "BIR": 6.1983870967741925,
         "DUB": 8.353333333333333,
         "CLA": 8.284193548387096,
         "MUL": 8.07709677419355,
         "CLO": 8.891612903225804,
         "BEL": 11.092580645161293,
         "MAL": 12.312903225806453,
         "_deepnote_index_column": "1961-07-31T00:00:00.000000"
        },
        {
         "RPT": 12.034999999999998,
         "VAL": 10.133870967741936,
         "ROS": 10.335806451612898,
         "KIL": 6.845806451612903,
         "SHA": 12.715161290322579,
         "BIR": 8.441935483870967,
         "DUB": 10.093870967741937,
         "CLA": 10.460967741935482,
         "MUL": 9.111612903225808,
         "CLO": 10.544666666666666,
         "BEL": 14.41,
         "MAL": 14.345333333333338,
         "_deepnote_index_column": "1961-08-31T00:00:00.000000"
        },
        {
         "RPT": 12.530999999999997,
         "VAL": 9.656896551724138,
         "ROS": 10.776896551724137,
         "KIL": 7.155517241379311,
         "SHA": 11.003333333333332,
         "BIR": 7.234000000000001,
         "DUB": 8.206,
         "CLA": 8.93655172413793,
         "MUL": 7.728333333333336,
         "CLO": 9.931333333333333,
         "BEL": 13.718333333333334,
         "MAL": 12.921666666666669,
         "_deepnote_index_column": "1961-09-30T00:00:00.000000"
        },
        {
         "RPT": 14.28966666666667,
         "VAL": 10.915806451612903,
         "ROS": 12.236451612903227,
         "KIL": 8.15483870967742,
         "SHA": 11.86548387096774,
         "BIR": 8.333870967741936,
         "DUB": 11.1941935483871,
         "CLA": 9.271935483870966,
         "MUL": 8.942666666666668,
         "CLO": 11.455806451612903,
         "BEL": 14.229354838709678,
         "MAL": 16.793225806451613,
         "_deepnote_index_column": "1961-10-31T00:00:00.000000"
        },
        {
         "RPT": 10.896333333333335,
         "VAL": 8.592666666666668,
         "ROS": 11.850333333333332,
         "KIL": 6.045666666666667,
         "SHA": 9.123666666666667,
         "BIR": 6.250666666666666,
         "DUB": 10.869655172413792,
         "CLA": 6.313666666666666,
         "MUL": 6.575,
         "CLO": 8.383666666666665,
         "BEL": 10.776666666666669,
         "MAL": 12.146000000000003,
         "_deepnote_index_column": "1961-11-30T00:00:00.000000"
        },
        {
         "RPT": 14.973548387096777,
         "VAL": 11.903870967741934,
         "ROS": 13.980322580645161,
         "KIL": 7.073870967741935,
         "SHA": 11.323548387096777,
         "BIR": 8.30225806451613,
         "DUB": 11.753548387096776,
         "CLA": 8.163225806451614,
         "MUL": 7.965806451612904,
         "CLO": 9.246774193548386,
         "BEL": 12.239354838709678,
         "MAL": 13.09870967741936,
         "_deepnote_index_column": "1961-12-31T00:00:00.000000"
        },
        {
         "RPT": 14.783870967741937,
         "VAL": 13.160322580645161,
         "ROS": 12.591935483870966,
         "KIL": 7.538064516129033,
         "SHA": 11.779677419354838,
         "BIR": 8.72,
         "DUB": 14.211935483870969,
         "CLA": 9.600000000000001,
         "MUL": 9.67,
         "CLO": 11.498709677419354,
         "BEL": 16.36935483870968,
         "MAL": 15.661612903225809,
         "_deepnote_index_column": "1962-01-31T00:00:00.000000"
        },
        {
         "RPT": 15.844642857142862,
         "VAL": 12.04142857142857,
         "ROS": 15.178928571428573,
         "KIL": 9.262962962962964,
         "SHA": 13.821428571428571,
         "BIR": 9.726785714285713,
         "DUB": 16.916428571428572,
         "CLA": 11.285357142857146,
         "MUL": 12.021071428571426,
         "CLO": 12.126428571428573,
         "BEL": 16.705357142857142,
         "MAL": 18.426785714285717,
         "_deepnote_index_column": "1962-02-28T00:00:00.000000"
        },
        {
         "RPT": 11.634333333333334,
         "VAL": 8.60225806451613,
         "ROS": 12.110645161290325,
         "KIL": 6.403225806451614,
         "SHA": 10.35225806451613,
         "BIR": 6.732258064516129,
         "DUB": 10.223225806451614,
         "CLA": 7.641935483870967,
         "MUL": 7.0922580645161295,
         "CLO": 8.05258064516129,
         "BEL": 9.69,
         "MAL": 11.508999999999999,
         "_deepnote_index_column": "1962-03-31T00:00:00.000000"
        },
        {
         "RPT": 12.160666666666664,
         "VAL": 9.67666666666667,
         "ROS": 12.088333333333335,
         "KIL": 7.163,
         "SHA": 10.543999999999993,
         "BIR": 7.557999999999999,
         "DUB": 11.48,
         "CLA": 8.722,
         "MUL": 8.703666666666667,
         "CLO": 9.311666666666667,
         "BEL": 12.234333333333332,
         "MAL": 11.780666666666665,
         "_deepnote_index_column": "1962-04-30T00:00:00.000000"
        },
        {
         "RPT": 12.7458064516129,
         "VAL": 10.86548387096774,
         "ROS": 11.874838709677421,
         "KIL": 7.471935483870969,
         "SHA": 11.285806451612906,
         "BIR": 7.209032258064517,
         "DUB": 10.105806451612905,
         "CLA": 9.08451612903226,
         "MUL": 7.8680645161290315,
         "CLO": 9.293225806451613,
         "BEL": 12.13,
         "MAL": 12.922580645161291,
         "_deepnote_index_column": "1962-05-31T00:00:00.000000"
        },
        {
         "RPT": 10.305666666666669,
         "VAL": 9.677000000000001,
         "ROS": 9.996333333333332,
         "KIL": 6.846666666666666,
         "SHA": 10.711333333333332,
         "BIR": 7.441333333333334,
         "DUB": 10.548666666666668,
         "CLA": 10.306666666666665,
         "MUL": 9.196,
         "CLO": 10.520333333333333,
         "BEL": 13.756999999999998,
         "MAL": 15.218333333333335,
         "_deepnote_index_column": "1962-06-30T00:00:00.000000"
        },
        {
         "RPT": 9.981935483870968,
         "VAL": 8.370645161290323,
         "ROS": 9.753548387096773,
         "KIL": 6.093225806451615,
         "SHA": 9.11290322580645,
         "BIR": 5.877096774193549,
         "DUB": 7.781612903225805,
         "CLA": 8.123225806451613,
         "MUL": 6.829677419354839,
         "CLO": 8.613225806451613,
         "BEL": 10.783870967741937,
         "MAL": 11.326129032258063,
         "_deepnote_index_column": "1962-07-31T00:00:00.000000"
        },
        {
         "RPT": 10.964193548387094,
         "VAL": 9.694193548387096,
         "ROS": 10.18451612903226,
         "KIL": 6.701290322580646,
         "SHA": 10.46516129032258,
         "BIR": 7.009032258064516,
         "DUB": 11.136774193548387,
         "CLA": 9.097419354838713,
         "MUL": 8.645483870967741,
         "CLO": 9.511612903225807,
         "BEL": 13.119032258064518,
         "MAL": 15.420967741935481,
         "_deepnote_index_column": "1962-08-31T00:00:00.000000"
        },
        {
         "RPT": 11.176333333333334,
         "VAL": 9.507000000000001,
         "ROS": 11.639999999999997,
         "KIL": 6.1643333333333326,
         "SHA": 9.722333333333333,
         "BIR": 6.214,
         "DUB": 8.488,
         "CLA": 7.0203333333333315,
         "MUL": 6.3726666666666665,
         "CLO": 8.286000000000001,
         "BEL": 11.483666666666666,
         "MAL": 12.313333333333333,
         "_deepnote_index_column": "1962-09-30T00:00:00.000000"
        },
        {
         "RPT": 9.699354838709674,
         "VAL": 8.063548387096773,
         "ROS": 9.357096774193549,
         "KIL": 4.818064516129032,
         "SHA": 8.432258064516128,
         "BIR": 5.73,
         "DUB": 8.44806451612903,
         "CLA": 7.626774193548386,
         "MUL": 6.630645161290323,
         "CLO": 9.091290322580644,
         "BEL": 13.28677419354839,
         "MAL": 14.09032258064516,
         "_deepnote_index_column": "1962-10-31T00:00:00.000000"
        },
        {
         "RPT": 11.071333333333335,
         "VAL": 7.984000000000001,
         "ROS": 12.035666666666666,
         "KIL": 5.739999999999999,
         "SHA": 8.135666666666669,
         "BIR": 6.338333333333334,
         "DUB": 9.61533333333333,
         "CLA": 5.9430000000000005,
         "MUL": 6.362333333333335,
         "CLO": 8.084333333333333,
         "BEL": 9.786666666666665,
         "MAL": 13.298333333333334,
         "_deepnote_index_column": "1962-11-30T00:00:00.000000"
        },
        {
         "RPT": 16.785483870967738,
         "VAL": 13.753548387096773,
         "ROS": 14.276451612903225,
         "KIL": 9.557419354838707,
         "SHA": 13.724838709677424,
         "BIR": 10.321612903225807,
         "DUB": 13.735806451612905,
         "CLA": 11.212258064516126,
         "MUL": 10.68354838709677,
         "CLO": 11.881935483870969,
         "BEL": 16.04354838709677,
         "MAL": 20.074516129032258,
         "_deepnote_index_column": "1962-12-31T00:00:00.000000"
        },
        {
         "RPT": 14.868387096774196,
         "VAL": 11.112903225806452,
         "ROS": 15.121612903225804,
         "KIL": 6.6358064516129005,
         "SHA": 11.080645161290326,
         "BIR": 7.8354838709677415,
         "DUB": 12.797419354838713,
         "CLA": 9.84483870967742,
         "MUL": 7.8416129032258075,
         "CLO": 9.389999999999999,
         "BEL": 11.428709677419356,
         "MAL": 18.82225806451613,
         "_deepnote_index_column": "1963-01-31T00:00:00.000000"
        },
        {
         "RPT": 14.41892857142857,
         "VAL": 11.876428571428571,
         "ROS": 15.697499999999994,
         "KIL": 8.611785714285713,
         "SHA": 12.887857142857147,
         "BIR": 9.600357142857144,
         "DUB": 12.729285714285712,
         "CLA": 10.823214285714284,
         "MUL": 8.981785714285712,
         "CLO": 10.355714285714283,
         "BEL": 13.266428571428573,
         "MAL": 17.120714285714286,
         "_deepnote_index_column": "1963-02-28T00:00:00.000000"
        },
        {
         "RPT": 14.853870967741935,
         "VAL": 12.271290322580644,
         "ROS": 14.295806451612902,
         "KIL": 9.268387096774193,
         "SHA": 13.112903225806454,
         "BIR": 10.088064516129032,
         "DUB": 12.168387096774195,
         "CLA": 11.340967741935483,
         "MUL": 9.690967741935482,
         "CLO": 11.515483870967739,
         "BEL": 13.98290322580645,
         "MAL": 14.132580645161292,
         "_deepnote_index_column": "1963-03-31T00:00:00.000000"
        },
        {
         "RPT": 11.615999999999998,
         "VAL": 10.138,
         "ROS": 13.233666666666666,
         "KIL": 7.99033333333333,
         "SHA": 11.515333333333334,
         "BIR": 9.727000000000002,
         "DUB": 11.978999999999997,
         "CLA": 11.353000000000002,
         "MUL": 10.341666666666663,
         "CLO": 11.90033333333333,
         "BEL": 13.875666666666664,
         "MAL": 16.333666666666666,
         "_deepnote_index_column": "1963-04-30T00:00:00.000000"
        },
        {
         "RPT": 12.879677419354838,
         "VAL": 11.010645161290322,
         "ROS": 12.881290322580647,
         "KIL": 8.411612903225807,
         "SHA": 12.981612903225807,
         "BIR": 9.739677419354843,
         "DUB": 12.280967741935482,
         "CLA": 10.9641935483871,
         "MUL": 10.74516129032258,
         "CLO": 11.39483870967742,
         "BEL": 14.777096774193547,
         "MAL": 14.975161290322585,
         "_deepnote_index_column": "1963-05-31T00:00:00.000000"
        },
        {
         "RPT": 10.623333333333333,
         "VAL": 8.434666666666665,
         "ROS": 11.685,
         "KIL": 6.420333333333335,
         "SHA": 10.142666666666665,
         "BIR": 7.219333333333333,
         "DUB": 9.267333333333331,
         "CLA": 9.589333333333332,
         "MUL": 8.583666666666666,
         "CLO": 9.585333333333333,
         "BEL": 12.097999999999997,
         "MAL": 11.358666666666668,
         "_deepnote_index_column": "1963-06-30T00:00:00.000000"
        },
        {
         "RPT": 7.4070967741935485,
         "VAL": 7.655806451612904,
         "ROS": 7.52258064516129,
         "KIL": 5.260645161290323,
         "SHA": 8.595806451612905,
         "BIR": 5.656774193548387,
         "DUB": 7.715161290322581,
         "CLA": 8.646129032258065,
         "MUL": 6.739032258064516,
         "CLO": 8.290967741935482,
         "BEL": 11.404838709677419,
         "MAL": 10.84032258064516,
         "_deepnote_index_column": "1963-07-31T00:00:00.000000"
        },
        {
         "RPT": 12.954193548387094,
         "VAL": 10.708387096774192,
         "ROS": 11.270322580645162,
         "KIL": 7.140967741935485,
         "SHA": 12.205161290322582,
         "BIR": 8.12967741935484,
         "DUB": 9.85741935483871,
         "CLA": 10.125483870967741,
         "MUL": 9.355483870967742,
         "CLO": 10.047741935483872,
         "BEL": 13.139354838709679,
         "MAL": 12.58064516129032,
         "_deepnote_index_column": "1963-08-31T00:00:00.000000"
        },
        {
         "RPT": 10.373666666666669,
         "VAL": 9.860666666666669,
         "ROS": 8.911333333333333,
         "KIL": 5.36,
         "SHA": 10.175666666666663,
         "BIR": 6.587666666666666,
         "DUB": 9.374,
         "CLA": 9.254666666666667,
         "MUL": 7.6253333333333355,
         "CLO": 8.988666666666667,
         "BEL": 13.718333333333332,
         "MAL": 15.146333333333335,
         "_deepnote_index_column": "1963-09-30T00:00:00.000000"
        },
        {
         "RPT": 13.83064516129032,
         "VAL": 12.025483870967744,
         "ROS": 12.108064516129035,
         "KIL": 7.686451612903225,
         "SHA": 12.83806451612903,
         "BIR": 9.229354838709678,
         "DUB": 11.333870967741936,
         "CLA": 11.072903225806453,
         "MUL": 9.400000000000002,
         "CLO": 11.00258064516129,
         "BEL": 16.466774193548385,
         "MAL": 16.870645161290327,
         "_deepnote_index_column": "1963-10-31T00:00:00.000000"
        },
        {
         "RPT": 15.349666666666666,
         "VAL": 13.321333333333333,
         "ROS": 13.174000000000001,
         "KIL": 8.001666666666669,
         "SHA": 13.349666666666668,
         "BIR": 9.026666666666666,
         "DUB": 11.900666666666668,
         "CLA": 10.368,
         "MUL": 9.278666666666668,
         "CLO": 10.078333333333335,
         "BEL": 14.932666666666666,
         "MAL": 15.425666666666666,
         "_deepnote_index_column": "1963-11-30T00:00:00.000000"
        },
        {
         "RPT": 14.635161290322577,
         "VAL": 11.677419354838714,
         "ROS": 14.796129032258065,
         "KIL": 7.246774193548388,
         "SHA": 11.861290322580645,
         "BIR": 8.451290322580643,
         "DUB": 11.607419354838713,
         "CLA": 10.67774193548387,
         "MUL": 8.274193548387096,
         "CLO": 10.144838709677419,
         "BEL": 14.541935483870969,
         "MAL": 16.53096774193548,
         "_deepnote_index_column": "1963-12-31T00:00:00.000000"
        },
        {
         "RPT": 12.661290322580648,
         "VAL": 11.818387096774192,
         "ROS": 11.741290322580644,
         "KIL": 6.953548387096775,
         "SHA": 11.400645161290322,
         "BIR": 6.865806451612904,
         "DUB": 9.592903225806454,
         "CLA": 9.687419354838708,
         "MUL": 6.947741935483872,
         "CLO": 9.676774193548388,
         "BEL": 15.06741935483871,
         "MAL": 14.145483870967741,
         "_deepnote_index_column": "1964-01-31T00:00:00.000000"
        },
        {
         "RPT": 14.114137931034481,
         "VAL": 12.487241379310344,
         "ROS": 13.959655172413795,
         "KIL": 8.009999999999998,
         "SHA": 13.164137931034485,
         "BIR": 9.230689655172414,
         "DUB": 12.821724137931035,
         "CLA": 11.646551724137929,
         "MUL": 8.137241379310346,
         "CLO": 12.339655172413794,
         "BEL": 14.900689655172414,
         "MAL": 16.857586206896553,
         "_deepnote_index_column": "1964-02-29T00:00:00.000000"
        },
        {
         "RPT": 12.737741935483871,
         "VAL": 11.431612903225805,
         "ROS": 14.141290322580646,
         "KIL": 6.901612903225807,
         "SHA": 12.949677419354838,
         "BIR": 7.911935483870968,
         "DUB": 10.771935483870966,
         "CLA": 10.06322580645161,
         "MUL": 7.42451612903226,
         "CLO": 10.865806451612904,
         "BEL": 12.353548387096776,
         "MAL": 15.409354838709682,
         "_deepnote_index_column": "1964-03-31T00:00:00.000000"
        },
        {
         "RPT": 12.001666666666667,
         "VAL": 10.374666666666664,
         "ROS": 13.020666666666665,
         "KIL": 7.579333333333334,
         "SHA": 11.97,
         "BIR": 8.113666666666667,
         "DUB": 10.994333333333332,
         "CLA": 10.197,
         "MUL": 7.4750000000000005,
         "CLO": 10.72433333333333,
         "BEL": 13.252333333333336,
         "MAL": 14.18766666666667,
         "_deepnote_index_column": "1964-04-30T00:00:00.000000"
        },
        {
         "RPT": 13.126129032258062,
         "VAL": 12.629677419354842,
         "ROS": 14.438064516129028,
         "KIL": 8.299354838709679,
         "SHA": 13.381290322580645,
         "BIR": 9.499677419354837,
         "DUB": 11.366774193548387,
         "CLA": 11.772258064516128,
         "MUL": 8.956774193548387,
         "CLO": 11.783225806451615,
         "BEL": 16.09516129032258,
         "MAL": 14.57516129032258,
         "_deepnote_index_column": "1964-05-31T00:00:00.000000"
        }
       ],
       "rows_bottom": [
        {
         "RPT": 10.034516129032257,
         "VAL": 8.30741935483871,
         "ROS": 10.401612903225805,
         "KIL": 4.55258064516129,
         "SHA": 8.558064516129031,
         "BIR": 5.174516129032257,
         "DUB": 7.811612903225806,
         "CLA": 7.30741935483871,
         "MUL": 8.365483870967742,
         "CLO": 5.845806451612903,
         "BEL": 11.093225806451612,
         "MAL": 11.457096774193543,
         "_deepnote_index_column": "1975-07-31T00:00:00.000000"
        },
        {
         "RPT": 9.068387096774192,
         "VAL": 6.913548387096774,
         "ROS": 8.643870967741934,
         "KIL": 4.449677419354838,
         "SHA": 6.686774193548389,
         "BIR": 3.9051612903225807,
         "DUB": 5.739677419354838,
         "CLA": 5.9148387096774195,
         "MUL": 7.105161290322581,
         "CLO": 5.309677419354839,
         "BEL": 9.685161290322581,
         "MAL": 11.461935483870969,
         "_deepnote_index_column": "1975-08-31T00:00:00.000000"
        },
        {
         "RPT": 12.666000000000002,
         "VAL": 10.365333333333334,
         "ROS": 11.684333333333335,
         "KIL": 5.4466666666666645,
         "SHA": 9.219999999999999,
         "BIR": 6.352333333333333,
         "DUB": 9.579666666666666,
         "CLA": 8.209333333333332,
         "MUL": 9.163999999999998,
         "CLO": 7.825666666666668,
         "BEL": 13.908999999999999,
         "MAL": 17.195,
         "_deepnote_index_column": "1975-09-30T00:00:00.000000"
        },
        {
         "RPT": 13.603548387096776,
         "VAL": 13.933548387096776,
         "ROS": 12.422258064516132,
         "KIL": 6.123548387096774,
         "SHA": 11.961290322580645,
         "BIR": 7.709032258064515,
         "DUB": 8.87806451612903,
         "CLA": 9.071612903225807,
         "MUL": 10.121290322580649,
         "CLO": 8.401612903225804,
         "BEL": 14.740322580645161,
         "MAL": 17.11322580645161,
         "_deepnote_index_column": "1975-10-31T00:00:00.000000"
        },
        {
         "RPT": 12.205999999999998,
         "VAL": 10.490999999999998,
         "ROS": 10.797666666666663,
         "KIL": 4.516333333333334,
         "SHA": 9.549,
         "BIR": 5.061666666666666,
         "DUB": 9.996333333333332,
         "CLA": 6.884333333333332,
         "MUL": 8.001,
         "CLO": 7.278000000000001,
         "BEL": 11.748000000000003,
         "MAL": 16.960666666666665,
         "_deepnote_index_column": "1975-11-30T00:00:00.000000"
        },
        {
         "RPT": 11.655483870967744,
         "VAL": 8.686774193548386,
         "ROS": 11.21774193548387,
         "KIL": 4.478387096774194,
         "SHA": 6.628709677419355,
         "BIR": 4.178064516129033,
         "DUB": 10.351290322580645,
         "CLA": 6.176129032258064,
         "MUL": 8.401935483870968,
         "CLO": 7.342903225806452,
         "BEL": 12.02870967741935,
         "MAL": 18.68903225806452,
         "_deepnote_index_column": "1975-12-31T00:00:00.000000"
        },
        {
         "RPT": 15.626129032258065,
         "VAL": 14.240322580645161,
         "ROS": 13.867096774193547,
         "KIL": 7.789354838709679,
         "SHA": 13.081935483870964,
         "BIR": 9.003548387096775,
         "DUB": 15.121290322580643,
         "CLA": 11.41483870967742,
         "MUL": 13.493225806451612,
         "CLO": 11.553870967741936,
         "BEL": 16.337096774193547,
         "MAL": 22.89612903225807,
         "_deepnote_index_column": "1976-01-31T00:00:00.000000"
        },
        {
         "RPT": 11.597241379310347,
         "VAL": 12.72137931034483,
         "ROS": 11.59862068965517,
         "KIL": 5.59103448275862,
         "SHA": 9.243448275862068,
         "BIR": 5.573448275862069,
         "DUB": 10.521034482758617,
         "CLA": 9.232413793103449,
         "MUL": 9.99275862068965,
         "CLO": 8.53103448275862,
         "BEL": 14.174482758620691,
         "MAL": 17.60620689655173,
         "_deepnote_index_column": "1976-02-29T00:00:00.000000"
        },
        {
         "RPT": 14.133225806451613,
         "VAL": 13.796129032258062,
         "ROS": 12.693548387096774,
         "KIL": 7.2480645161290305,
         "SHA": 13.29967741935484,
         "BIR": 8.083548387096775,
         "DUB": 12.388387096774194,
         "CLA": 10.573548387096773,
         "MUL": 12.602258064516128,
         "CLO": 11.479677419354841,
         "BEL": 15.076129032258066,
         "MAL": 19.161935483870973,
         "_deepnote_index_column": "1976-03-31T00:00:00.000000"
        },
        {
         "RPT": 12.192666666666668,
         "VAL": 8.491333333333332,
         "ROS": 11.68,
         "KIL": 5.0566666666666675,
         "SHA": 8.037666666666667,
         "BIR": 5.005,
         "DUB": 9.780000000000001,
         "CLA": 7.212666666666666,
         "MUL": 8.871999999999998,
         "CLO": 8.011333333333331,
         "BEL": 12.433999999999996,
         "MAL": 14.28633333333333,
         "_deepnote_index_column": "1976-04-30T00:00:00.000000"
        },
        {
         "RPT": 13.338064516129032,
         "VAL": 11.367419354838711,
         "ROS": 11.277096774193545,
         "KIL": 5.962903225806452,
         "SHA": 9.821290322580644,
         "BIR": 6.268064516129033,
         "DUB": 9.308387096774196,
         "CLA": 7.977096774193549,
         "MUL": 10.030645161290325,
         "CLO": 8.500645161290324,
         "BEL": 15.119032258064516,
         "MAL": 14.160000000000002,
         "_deepnote_index_column": "1976-05-31T00:00:00.000000"
        },
        {
         "RPT": 9.489666666666665,
         "VAL": 8.906666666666666,
         "ROS": 9.965333333333332,
         "KIL": 4.586,
         "SHA": 7.03366666666667,
         "BIR": 5.821999999999999,
         "DUB": 8.206,
         "CLA": 7.279666666666669,
         "MUL": 8.683666666666669,
         "CLO": 7.150666666666665,
         "BEL": 13.850666666666667,
         "MAL": 13.56666666666667,
         "_deepnote_index_column": "1976-06-30T00:00:00.000000"
        },
        {
         "RPT": 9.68774193548387,
         "VAL": 7.980967741935482,
         "ROS": 8.26774193548387,
         "KIL": 4.631612903225807,
         "SHA": 7.576774193548387,
         "BIR": 4.927419354838711,
         "DUB": 6.9948387096774205,
         "CLA": 5.135806451612903,
         "MUL": 7.941290322580644,
         "CLO": 6.491290322580646,
         "BEL": 10.264193548387098,
         "MAL": 11.912258064516129,
         "_deepnote_index_column": "1976-07-31T00:00:00.000000"
        },
        {
         "RPT": 7.640645161290322,
         "VAL": 5.3661290322580655,
         "ROS": 9.000645161290322,
         "KIL": 3.142258064516129,
         "SHA": 4.695483870967741,
         "BIR": 3.847741935483871,
         "DUB": 5.437096774193549,
         "CLA": 3.3625806451612896,
         "MUL": 5.946451612903227,
         "CLO": 4.4964516129032255,
         "BEL": 7.07967741935484,
         "MAL": 9.438387096774195,
         "_deepnote_index_column": "1976-08-31T00:00:00.000000"
        },
        {
         "RPT": 11.703666666666667,
         "VAL": 10.515333333333333,
         "ROS": 10.466333333333335,
         "KIL": 5.313333333333334,
         "SHA": 8.761333333333335,
         "BIR": 7.062333333333333,
         "DUB": 8.617666666666667,
         "CLA": 6.415333333333334,
         "MUL": 8.953333333333335,
         "CLO": 7.263333333333333,
         "BEL": 11.586999999999996,
         "MAL": 17.633999999999997,
         "_deepnote_index_column": "1976-09-30T00:00:00.000000"
        },
        {
         "RPT": 12.427096774193547,
         "VAL": 9.572258064516125,
         "ROS": 10.640000000000002,
         "KIL": 4.885483870967742,
         "SHA": 9.393548387096775,
         "BIR": 6.906451612903227,
         "DUB": 6.380322580645161,
         "CLA": 6.933225806451611,
         "MUL": 7.552258064516129,
         "CLO": 7.449032258064515,
         "BEL": 11.837741935483871,
         "MAL": 15.078064516129032,
         "_deepnote_index_column": "1976-10-31T00:00:00.000000"
        },
        {
         "RPT": 10.962666666666667,
         "VAL": 9.443666666666665,
         "ROS": 9.201999999999998,
         "KIL": 3.6959999999999997,
         "SHA": 7.4593333333333325,
         "BIR": 7.026333333333333,
         "DUB": 9.058333333333334,
         "CLA": 5.791,
         "MUL": 6.576999999999999,
         "CLO": 7.512333333333333,
         "BEL": 12.568333333333332,
         "MAL": 15.685333333333338,
         "_deepnote_index_column": "1976-11-30T00:00:00.000000"
        },
        {
         "RPT": 11.962258064516124,
         "VAL": 10.086774193548383,
         "ROS": 10.47451612903226,
         "KIL": 3.383870967741935,
         "SHA": 7.645483870967744,
         "BIR": 6.148387096774194,
         "DUB": 8.034516129032257,
         "CLA": 4.499999999999998,
         "MUL": 5.952258064516132,
         "CLO": 6.147741935483871,
         "BEL": 7.814838709677418,
         "MAL": 14.346774193548386,
         "_deepnote_index_column": "1976-12-31T00:00:00.000000"
        },
        {
         "RPT": 13.404516129032261,
         "VAL": 10.377741935483872,
         "ROS": 12.764838709677415,
         "KIL": 5.884516129032259,
         "SHA": 9.15967741935484,
         "BIR": 8.00516129032258,
         "DUB": 10.10741935483871,
         "CLA": 7.211612903225807,
         "MUL": 8.279999999999998,
         "CLO": 9.328387096774193,
         "BEL": 12.131935483870965,
         "MAL": 18.830000000000005,
         "_deepnote_index_column": "1977-01-31T00:00:00.000000"
        },
        {
         "RPT": 12.336785714285716,
         "VAL": 11.898928571428574,
         "ROS": 12.016785714285714,
         "KIL": 5.317500000000001,
         "SHA": 10.134642857142856,
         "BIR": 9.423928571428574,
         "DUB": 10.949642857142859,
         "CLA": 7.965357142857144,
         "MUL": 9.319999999999999,
         "CLO": 8.711428571428572,
         "BEL": 11.435357142857145,
         "MAL": 17.561428571428568,
         "_deepnote_index_column": "1977-02-28T00:00:00.000000"
        },
        {
         "RPT": 16.750000000000004,
         "VAL": 14.499677419354835,
         "ROS": 16.118387096774192,
         "KIL": 8.41451612903226,
         "SHA": 13.293870967741936,
         "BIR": 11.562258064516127,
         "DUB": 14.28322580645161,
         "CLA": 11.36161290322581,
         "MUL": 12.102580645161291,
         "CLO": 11.906451612903222,
         "BEL": 15.863225806451617,
         "MAL": 19.133548387096777,
         "_deepnote_index_column": "1977-03-31T00:00:00.000000"
        },
        {
         "RPT": 14.95533333333333,
         "VAL": 12.292999999999997,
         "ROS": 12.689666666666671,
         "KIL": 7.4223333333333334,
         "SHA": 11.74,
         "BIR": 10.137000000000002,
         "DUB": 13.887666666666666,
         "CLA": 9.573999999999996,
         "MUL": 10.342333333333332,
         "CLO": 11.41966666666667,
         "BEL": 15.59366666666667,
         "MAL": 18.27466666666667,
         "_deepnote_index_column": "1977-04-30T00:00:00.000000"
        },
        {
         "RPT": 9.441290322580642,
         "VAL": 7.173870967741933,
         "ROS": 12.455806451612903,
         "KIL": 4.507741935483871,
         "SHA": 6.198387096774193,
         "BIR": 6.68967741935484,
         "DUB": 9.226451612903228,
         "CLA": 5.638387096774192,
         "MUL": 6.6993548387096755,
         "CLO": 6.0454838709677405,
         "BEL": 10.213548387096774,
         "MAL": 11.936129032258064,
         "_deepnote_index_column": "1977-05-31T00:00:00.000000"
        },
        {
         "RPT": 11.04,
         "VAL": 8.353,
         "ROS": 12.228000000000002,
         "KIL": 4.864,
         "SHA": 8.790333333333333,
         "BIR": 7.209666666666667,
         "DUB": 8.799666666666665,
         "CLA": 5.930999999999999,
         "MUL": 7.0653333333333315,
         "CLO": 6.583333333333334,
         "BEL": 11.321333333333332,
         "MAL": 11.175333333333334,
         "_deepnote_index_column": "1977-06-30T00:00:00.000000"
        },
        {
         "RPT": 10.881935483870969,
         "VAL": 8.663548387096775,
         "ROS": 10.816451612903224,
         "KIL": 5.419677419354838,
         "SHA": 9.01483870967742,
         "BIR": 7.599999999999999,
         "DUB": 9.961935483870967,
         "CLA": 6.5261290322580665,
         "MUL": 7.980967741935483,
         "CLO": 7.620000000000003,
         "BEL": 12.924193548387096,
         "MAL": 12.186774193548388,
         "_deepnote_index_column": "1977-07-31T00:00:00.000000"
        },
        {
         "RPT": 9.233548387096777,
         "VAL": 7.727741935483873,
         "ROS": 10.679032258064515,
         "KIL": 4.453870967741936,
         "SHA": 6.620645161290321,
         "BIR": 5.961290322580645,
         "DUB": 8.943548387096772,
         "CLA": 4.543225806451613,
         "MUL": 6.384838709677419,
         "CLO": 5.694838709677421,
         "BEL": 9.825161290322583,
         "MAL": 11.659354838709678,
         "_deepnote_index_column": "1977-08-31T00:00:00.000000"
        },
        {
         "RPT": 12.47233333333333,
         "VAL": 10.742666666666668,
         "ROS": 11.849333333333332,
         "KIL": 5.638666666666666,
         "SHA": 10.077333333333334,
         "BIR": 8.242666666666667,
         "DUB": 11.939333333333334,
         "CLA": 7.923,
         "MUL": 8.828000000000001,
         "CLO": 8.506333333333334,
         "BEL": 14.051000000000005,
         "MAL": 17.03033333333333,
         "_deepnote_index_column": "1977-09-30T00:00:00.000000"
        },
        {
         "RPT": 15.00451612903226,
         "VAL": 13.959999999999997,
         "ROS": 12.81967741935484,
         "KIL": 6.7541935483870965,
         "SHA": 11.779032258064516,
         "BIR": 9.671612903225807,
         "DUB": 12.92483870967742,
         "CLA": 11.875161290322582,
         "MUL": 11.481290322580644,
         "CLO": 10.34032258064516,
         "BEL": 17.640967741935487,
         "MAL": 19.84290322580645,
         "_deepnote_index_column": "1977-10-31T00:00:00.000000"
        },
        {
         "RPT": 16.946666666666665,
         "VAL": 15.444666666666667,
         "ROS": 13.561333333333328,
         "KIL": 7.584000000000002,
         "SHA": 12.08866666666667,
         "BIR": 9.161333333333333,
         "DUB": 14.050999999999997,
         "CLA": 11.285999999999998,
         "MUL": 10.318666666666664,
         "CLO": 10.327000000000005,
         "BEL": 17.215333333333334,
         "MAL": 22.33300000000001,
         "_deepnote_index_column": "1977-11-30T00:00:00.000000"
        },
        {
         "RPT": 14.751935483870964,
         "VAL": 12.74483870967742,
         "ROS": 13.46967741935484,
         "KIL": 6.592258064516128,
         "SHA": 11.24774193548387,
         "BIR": 9.466774193548387,
         "DUB": 13.2316129032258,
         "CLA": 10.703870967741935,
         "MUL": 10.401612903225807,
         "CLO": 9.415483870967739,
         "BEL": 13.237419354838709,
         "MAL": 19.29967741935484,
         "_deepnote_index_column": "1977-12-31T00:00:00.000000"
        },
        {
         "RPT": 14.291935483870967,
         "VAL": 11.87225806451613,
         "ROS": 12.014193548387096,
         "KIL": 6.4632258064516135,
         "SHA": 11.402903225806451,
         "BIR": 7.517096774193548,
         "DUB": 12.207096774193548,
         "CLA": 10.206451612903223,
         "MUL": 9.549032258064514,
         "CLO": 9.24741935483871,
         "BEL": 15.101612903225814,
         "MAL": 20.715806451612906,
         "_deepnote_index_column": "1978-01-31T00:00:00.000000"
        },
        {
         "RPT": 14.143571428571429,
         "VAL": 12.153214285714286,
         "ROS": 13.803214285714285,
         "KIL": 6.82892857142857,
         "SHA": 11.196785714285713,
         "BIR": 7.858928571428572,
         "DUB": 11.90321428571429,
         "CLA": 11.06892857142857,
         "MUL": 10.052142857142856,
         "CLO": 8.093928571428572,
         "BEL": 10.353928571428572,
         "MAL": 17.298571428571428,
         "_deepnote_index_column": "1978-02-28T00:00:00.000000"
        },
        {
         "RPT": 14.717096774193548,
         "VAL": 14.60193548387097,
         "ROS": 13.334193548387095,
         "KIL": 8.231290322580646,
         "SHA": 12.78322580645161,
         "BIR": 9.488709677419354,
         "DUB": 12.129354838709677,
         "CLA": 11.66516129032258,
         "MUL": 11.65645161290322,
         "CLO": 9.657096774193551,
         "BEL": 14.234193548387095,
         "MAL": 18.611290322580647,
         "_deepnote_index_column": "1978-03-31T00:00:00.000000"
        },
        {
         "RPT": 11.805,
         "VAL": 11.255666666666665,
         "ROS": 12.516333333333334,
         "KIL": 5.920333333333335,
         "SHA": 10.217999999999998,
         "BIR": 7.301666666666665,
         "DUB": 8.586333333333332,
         "CLA": 8.306666666666667,
         "MUL": 8.537,
         "CLO": 6.999,
         "BEL": 11.190666666666667,
         "MAL": 14.152,
         "_deepnote_index_column": "1978-04-30T00:00:00.000000"
        },
        {
         "RPT": 8.270645161290322,
         "VAL": 7.226774193548388,
         "ROS": 6.901612903225805,
         "KIL": 3.740645161290322,
         "SHA": 6.973870967741936,
         "BIR": 4.449677419354838,
         "DUB": 5.420967741935483,
         "CLA": 6.130645161290321,
         "MUL": 5.74258064516129,
         "CLO": 5.926451612903226,
         "BEL": 9.263548387096774,
         "MAL": 10.756451612903227,
         "_deepnote_index_column": "1978-05-31T00:00:00.000000"
        },
        {
         "RPT": 11.386666666666663,
         "VAL": 9.474333333333332,
         "ROS": 10.253333333333332,
         "KIL": 6.053,
         "SHA": 10.395333333333332,
         "BIR": 7.490333333333336,
         "DUB": 7.927999999999998,
         "CLA": 7.802000000000001,
         "MUL": 8.220333333333333,
         "CLO": 7.55,
         "BEL": 11.501,
         "MAL": 15.078666666666667,
         "_deepnote_index_column": "1978-06-30T00:00:00.000000"
        },
        {
         "RPT": 12.819999999999999,
         "VAL": 9.750967741935483,
         "ROS": 9.910322580645163,
         "KIL": 6.483870967741935,
         "SHA": 10.05516129032258,
         "BIR": 7.820645161290321,
         "DUB": 7.831935483870968,
         "CLA": 8.459354838709677,
         "MUL": 8.523870967741933,
         "CLO": 7.732903225806451,
         "BEL": 12.648709677419355,
         "MAL": 14.077419354838707,
         "_deepnote_index_column": "1978-07-31T00:00:00.000000"
        },
        {
         "RPT": 9.645161290322578,
         "VAL": 8.259354838709678,
         "ROS": 9.032258064516132,
         "KIL": 4.50290322580645,
         "SHA": 7.368064516129032,
         "BIR": 5.93516129032258,
         "DUB": 5.650322580645162,
         "CLA": 5.41774193548387,
         "MUL": 7.241290322580647,
         "CLO": 5.536774193548386,
         "BEL": 10.466774193548385,
         "MAL": 12.054193548387095,
         "_deepnote_index_column": "1978-08-31T00:00:00.000000"
        },
        {
         "RPT": 10.913666666666666,
         "VAL": 10.894999999999998,
         "ROS": 10.635000000000002,
         "KIL": 5.725,
         "SHA": 10.371999999999995,
         "BIR": 9.278333333333334,
         "DUB": 10.790333333333335,
         "CLA": 9.583000000000002,
         "MUL": 10.069333333333333,
         "CLO": 8.939,
         "BEL": 15.680333333333333,
         "MAL": 19.391333333333332,
         "_deepnote_index_column": "1978-09-30T00:00:00.000000"
        },
        {
         "RPT": 9.897741935483872,
         "VAL": 8.670967741935486,
         "ROS": 9.295806451612902,
         "KIL": 4.7212903225806455,
         "SHA": 8.52516129032258,
         "BIR": 6.774193548387096,
         "DUB": 8.11548387096774,
         "CLA": 7.337741935483871,
         "MUL": 8.297741935483872,
         "CLO": 8.243870967741936,
         "BEL": 13.776774193548388,
         "MAL": 17.15,
         "_deepnote_index_column": "1978-10-31T00:00:00.000000"
        },
        {
         "RPT": 16.151666666666664,
         "VAL": 14.802666666666665,
         "ROS": 13.508000000000001,
         "KIL": 7.317333333333335,
         "SHA": 11.475,
         "BIR": 8.742999999999999,
         "DUB": 11.492333333333331,
         "CLA": 9.657333333333334,
         "MUL": 10.701333333333336,
         "CLO": 10.676,
         "BEL": 17.404666666666664,
         "MAL": 20.723000000000003,
         "_deepnote_index_column": "1978-11-30T00:00:00.000000"
        },
        {
         "RPT": 16.175483870967735,
         "VAL": 13.748064516129032,
         "ROS": 15.63516129032258,
         "KIL": 7.09483870967742,
         "SHA": 11.398709677419353,
         "BIR": 9.241612903225805,
         "DUB": 12.077419354838705,
         "CLA": 10.194838709677418,
         "MUL": 10.616774193548386,
         "CLO": 11.028709677419354,
         "BEL": 13.85967741935484,
         "MAL": 21.37161290322581,
         "_deepnote_index_column": "1978-12-31T00:00:00.000000"
        }
       ]
      },
      "text/plain": "                  RPT        VAL        ROS       KIL        SHA        BIR  \\\ndate                                                                          \n1961-01-31  14.841333  11.988333  13.431613  7.736774  11.072759   8.588065   \n1961-02-28  16.269286  14.975357  14.441481  9.230741  13.852143  10.937500   \n1961-03-31  10.890000  11.296452  10.752903  7.284000  10.509355   8.866774   \n1961-04-30  10.722667   9.427667   9.998000  5.830667   8.435000   6.495000   \n1961-05-31   9.860968   8.850000  10.818065  5.905333   9.490323   6.574839   \n...               ...        ...        ...       ...        ...        ...   \n1978-08-31   9.645161   8.259355   9.032258  4.502903   7.368065   5.935161   \n1978-09-30  10.913667  10.895000  10.635000  5.725000  10.372000   9.278333   \n1978-10-31   9.897742   8.670968   9.295806  4.721290   8.525161   6.774194   \n1978-11-30  16.151667  14.802667  13.508000  7.317333  11.475000   8.743000   \n1978-12-31  16.175484  13.748065  15.635161  7.094839  11.398710   9.241613   \n\n                  DUB        CLA        MUL        CLO        BEL        MAL  \ndate                                                                          \n1961-01-31  11.184839   9.245333   9.085806  10.107419  13.880968  14.703226  \n1961-02-28  11.890714  11.846071  11.821429  12.714286  18.583214  15.411786  \n1961-03-31   9.644194   9.829677  10.294138  11.251935  16.410968  15.720000  \n1961-04-30   6.925333   7.094667   7.342333   7.237000  11.147333  10.278333  \n1961-05-31   7.604000   8.177097   8.039355   8.499355  11.900323  12.011613  \n...               ...        ...        ...        ...        ...        ...  \n1978-08-31   5.650323   5.417742   7.241290   5.536774  10.466774  12.054194  \n1978-09-30  10.790333   9.583000  10.069333   8.939000  15.680333  19.391333  \n1978-10-31   8.115484   7.337742   8.297742   8.243871  13.776774  17.150000  \n1978-11-30  11.492333   9.657333  10.701333  10.676000  17.404667  20.723000  \n1978-12-31  12.077419  10.194839  10.616774  11.028710  13.859677  21.371613  \n\n[216 rows x 12 columns]",
      "text/html": "<div>\n<style scoped>\n    .dataframe tbody tr th:only-of-type {\n        vertical-align: middle;\n    }\n\n    .dataframe tbody tr th {\n        vertical-align: top;\n    }\n\n    .dataframe thead th {\n        text-align: right;\n    }\n</style>\n<table border=\"1\" class=\"dataframe\">\n  <thead>\n    <tr style=\"text-align: right;\">\n      <th></th>\n      <th>RPT</th>\n      <th>VAL</th>\n      <th>ROS</th>\n      <th>KIL</th>\n      <th>SHA</th>\n      <th>BIR</th>\n      <th>DUB</th>\n      <th>CLA</th>\n      <th>MUL</th>\n      <th>CLO</th>\n      <th>BEL</th>\n      <th>MAL</th>\n    </tr>\n    <tr>\n      <th>date</th>\n      <th></th>\n      <th></th>\n      <th></th>\n      <th></th>\n      <th></th>\n      <th></th>\n      <th></th>\n      <th></th>\n      <th></th>\n      <th></th>\n      <th></th>\n      <th></th>\n    </tr>\n  </thead>\n  <tbody>\n    <tr>\n      <th>1961-01-31</th>\n      <td>14.841333</td>\n      <td>11.988333</td>\n      <td>13.431613</td>\n      <td>7.736774</td>\n      <td>11.072759</td>\n      <td>8.588065</td>\n      <td>11.184839</td>\n      <td>9.245333</td>\n      <td>9.085806</td>\n      <td>10.107419</td>\n      <td>13.880968</td>\n      <td>14.703226</td>\n    </tr>\n    <tr>\n      <th>1961-02-28</th>\n      <td>16.269286</td>\n      <td>14.975357</td>\n      <td>14.441481</td>\n      <td>9.230741</td>\n      <td>13.852143</td>\n      <td>10.937500</td>\n      <td>11.890714</td>\n      <td>11.846071</td>\n      <td>11.821429</td>\n      <td>12.714286</td>\n      <td>18.583214</td>\n      <td>15.411786</td>\n    </tr>\n    <tr>\n      <th>1961-03-31</th>\n      <td>10.890000</td>\n      <td>11.296452</td>\n      <td>10.752903</td>\n      <td>7.284000</td>\n      <td>10.509355</td>\n      <td>8.866774</td>\n      <td>9.644194</td>\n      <td>9.829677</td>\n      <td>10.294138</td>\n      <td>11.251935</td>\n      <td>16.410968</td>\n      <td>15.720000</td>\n    </tr>\n    <tr>\n      <th>1961-04-30</th>\n      <td>10.722667</td>\n      <td>9.427667</td>\n      <td>9.998000</td>\n      <td>5.830667</td>\n      <td>8.435000</td>\n      <td>6.495000</td>\n      <td>6.925333</td>\n      <td>7.094667</td>\n      <td>7.342333</td>\n      <td>7.237000</td>\n      <td>11.147333</td>\n      <td>10.278333</td>\n    </tr>\n    <tr>\n      <th>1961-05-31</th>\n      <td>9.860968</td>\n      <td>8.850000</td>\n      <td>10.818065</td>\n      <td>5.905333</td>\n      <td>9.490323</td>\n      <td>6.574839</td>\n      <td>7.604000</td>\n      <td>8.177097</td>\n      <td>8.039355</td>\n      <td>8.499355</td>\n      <td>11.900323</td>\n      <td>12.011613</td>\n    </tr>\n    <tr>\n      <th>...</th>\n      <td>...</td>\n      <td>...</td>\n      <td>...</td>\n      <td>...</td>\n      <td>...</td>\n      <td>...</td>\n      <td>...</td>\n      <td>...</td>\n      <td>...</td>\n      <td>...</td>\n      <td>...</td>\n      <td>...</td>\n    </tr>\n    <tr>\n      <th>1978-08-31</th>\n      <td>9.645161</td>\n      <td>8.259355</td>\n      <td>9.032258</td>\n      <td>4.502903</td>\n      <td>7.368065</td>\n      <td>5.935161</td>\n      <td>5.650323</td>\n      <td>5.417742</td>\n      <td>7.241290</td>\n      <td>5.536774</td>\n      <td>10.466774</td>\n      <td>12.054194</td>\n    </tr>\n    <tr>\n      <th>1978-09-30</th>\n      <td>10.913667</td>\n      <td>10.895000</td>\n      <td>10.635000</td>\n      <td>5.725000</td>\n      <td>10.372000</td>\n      <td>9.278333</td>\n      <td>10.790333</td>\n      <td>9.583000</td>\n      <td>10.069333</td>\n      <td>8.939000</td>\n      <td>15.680333</td>\n      <td>19.391333</td>\n    </tr>\n    <tr>\n      <th>1978-10-31</th>\n      <td>9.897742</td>\n      <td>8.670968</td>\n      <td>9.295806</td>\n      <td>4.721290</td>\n      <td>8.525161</td>\n      <td>6.774194</td>\n      <td>8.115484</td>\n      <td>7.337742</td>\n      <td>8.297742</td>\n      <td>8.243871</td>\n      <td>13.776774</td>\n      <td>17.150000</td>\n    </tr>\n    <tr>\n      <th>1978-11-30</th>\n      <td>16.151667</td>\n      <td>14.802667</td>\n      <td>13.508000</td>\n      <td>7.317333</td>\n      <td>11.475000</td>\n      <td>8.743000</td>\n      <td>11.492333</td>\n      <td>9.657333</td>\n      <td>10.701333</td>\n      <td>10.676000</td>\n      <td>17.404667</td>\n      <td>20.723000</td>\n    </tr>\n    <tr>\n      <th>1978-12-31</th>\n      <td>16.175484</td>\n      <td>13.748065</td>\n      <td>15.635161</td>\n      <td>7.094839</td>\n      <td>11.398710</td>\n      <td>9.241613</td>\n      <td>12.077419</td>\n      <td>10.194839</td>\n      <td>10.616774</td>\n      <td>11.028710</td>\n      <td>13.859677</td>\n      <td>21.371613</td>\n    </tr>\n  </tbody>\n</table>\n<p>216 rows × 12 columns</p>\n</div>"
     },
     "metadata": {}
    }
   ]
  },
  {
   "cell_type": "markdown",
   "source": "### Step 14. Downsample the record to a weekly frequency for each location.",
   "metadata": {
    "id": "FSvCXhWrdeHa",
    "cell_id": "00033-6e53da0d-2445-4657-bebc-f2842aedbeda",
    "deepnote_cell_type": "markdown"
   }
  },
  {
   "cell_type": "code",
   "metadata": {
    "colab": {
     "base_uri": "https://localhost:8080/",
     "height": 1000
    },
    "id": "0C5iq5GddeHa",
    "executionInfo": {
     "status": "ok",
     "timestamp": 1623812280109,
     "user_tz": 240,
     "elapsed": 7,
     "user": {
      "displayName": "Andrés Sánchez",
      "photoUrl": "https://lh3.googleusercontent.com/a-/AOh14Gg69bZMv30ckb-T1MJy0nSxWIHUaP0p2uP6MYBuvQ=s64",
      "userId": "07985253921366566280"
     }
    },
    "outputId": "32f82c4d-c02c-429a-d217-0b4fd723e21d",
    "cell_id": "00034-11836c1d-236e-4ecf-b23b-c61693b24d68",
    "deepnote_to_be_reexecuted": false,
    "source_hash": "2557e3b9",
    "execution_start": 1630098265164,
    "execution_millis": 89,
    "deepnote_cell_type": "code"
   },
   "source": "data.resample('1W').mean()",
   "execution_count": 18,
   "outputs": [
    {
     "output_type": "execute_result",
     "execution_count": 18,
     "data": {
      "application/vnd.deepnote.dataframe.v2+json": {
       "row_count": 940,
       "column_count": 12,
       "columns": [
        {
         "name": "RPT",
         "dtype": "float64",
         "stats": {
          "unique_count": 906,
          "nan_count": 0,
          "min": "3.874285714285714",
          "max": "24.009999999999998",
          "histogram": [
           {
            "bin_start": 3.874285714285714,
            "bin_end": 5.8878571428571425,
            "count": 21
           },
           {
            "bin_start": 5.8878571428571425,
            "bin_end": 7.901428571428571,
            "count": 65
           },
           {
            "bin_start": 7.901428571428571,
            "bin_end": 9.915,
            "count": 151
           },
           {
            "bin_start": 9.915,
            "bin_end": 11.928571428571427,
            "count": 198
           },
           {
            "bin_start": 11.928571428571427,
            "bin_end": 13.942142857142855,
            "count": 219
           },
           {
            "bin_start": 13.942142857142855,
            "bin_end": 15.955714285714285,
            "count": 146
           },
           {
            "bin_start": 15.955714285714285,
            "bin_end": 17.969285714285714,
            "count": 78
           },
           {
            "bin_start": 17.969285714285714,
            "bin_end": 19.982857142857142,
            "count": 40
           },
           {
            "bin_start": 19.982857142857142,
            "bin_end": 21.99642857142857,
            "count": 18
           },
           {
            "bin_start": 21.99642857142857,
            "bin_end": 24.009999999999998,
            "count": 4
           }
          ]
         }
        },
        {
         "name": "VAL",
         "dtype": "float64",
         "stats": {
          "unique_count": 902,
          "nan_count": 0,
          "min": "2.4528571428571424",
          "max": "23.715714285714284",
          "histogram": [
           {
            "bin_start": 2.4528571428571424,
            "bin_end": 4.579142857142857,
            "count": 22
           },
           {
            "bin_start": 4.579142857142857,
            "bin_end": 6.7054285714285715,
            "count": 93
           },
           {
            "bin_start": 6.7054285714285715,
            "bin_end": 8.831714285714286,
            "count": 174
           },
           {
            "bin_start": 8.831714285714286,
            "bin_end": 10.958,
            "count": 238
           },
           {
            "bin_start": 10.958,
            "bin_end": 13.084285714285715,
            "count": 200
           },
           {
            "bin_start": 13.084285714285715,
            "bin_end": 15.210571428571429,
            "count": 118
           },
           {
            "bin_start": 15.210571428571429,
            "bin_end": 17.33685714285714,
            "count": 68
           },
           {
            "bin_start": 17.33685714285714,
            "bin_end": 19.463142857142856,
            "count": 18
           },
           {
            "bin_start": 19.463142857142856,
            "bin_end": 21.58942857142857,
            "count": 8
           },
           {
            "bin_start": 21.58942857142857,
            "bin_end": 23.715714285714284,
            "count": 1
           }
          ]
         }
        },
        {
         "name": "ROS",
         "dtype": "float64",
         "stats": {
          "unique_count": 887,
          "nan_count": 0,
          "min": "4.901428571428572",
          "max": "21.384285714285713",
          "histogram": [
           {
            "bin_start": 4.901428571428572,
            "bin_end": 6.549714285714286,
            "count": 25
           },
           {
            "bin_start": 6.549714285714286,
            "bin_end": 8.198,
            "count": 82
           },
           {
            "bin_start": 8.198,
            "bin_end": 9.846285714285713,
            "count": 154
           },
           {
            "bin_start": 9.846285714285713,
            "bin_end": 11.49457142857143,
            "count": 210
           },
           {
            "bin_start": 11.49457142857143,
            "bin_end": 13.142857142857142,
            "count": 207
           },
           {
            "bin_start": 13.142857142857142,
            "bin_end": 14.791142857142855,
            "count": 130
           },
           {
            "bin_start": 14.791142857142855,
            "bin_end": 16.43942857142857,
            "count": 78
           },
           {
            "bin_start": 16.43942857142857,
            "bin_end": 18.087714285714284,
            "count": 42
           },
           {
            "bin_start": 18.087714285714284,
            "bin_end": 19.736,
            "count": 9
           },
           {
            "bin_start": 19.736,
            "bin_end": 21.384285714285713,
            "count": 3
           }
          ]
         }
        },
        {
         "name": "KIL",
         "dtype": "float64",
         "stats": {
          "unique_count": 879,
          "nan_count": 0,
          "min": "1.4471428571428573",
          "max": "14.517142857142856",
          "histogram": [
           {
            "bin_start": 1.4471428571428573,
            "bin_end": 2.754142857142857,
            "count": 27
           },
           {
            "bin_start": 2.754142857142857,
            "bin_end": 4.061142857142857,
            "count": 110
           },
           {
            "bin_start": 4.061142857142857,
            "bin_end": 5.368142857142857,
            "count": 201
           },
           {
            "bin_start": 5.368142857142857,
            "bin_end": 6.675142857142857,
            "count": 230
           },
           {
            "bin_start": 6.675142857142857,
            "bin_end": 7.982142857142858,
            "count": 175
           },
           {
            "bin_start": 7.982142857142858,
            "bin_end": 9.289142857142856,
            "count": 102
           },
           {
            "bin_start": 9.289142857142856,
            "bin_end": 10.596142857142857,
            "count": 60
           },
           {
            "bin_start": 10.596142857142857,
            "bin_end": 11.903142857142857,
            "count": 21
           },
           {
            "bin_start": 11.903142857142857,
            "bin_end": 13.210142857142857,
            "count": 10
           },
           {
            "bin_start": 13.210142857142857,
            "bin_end": 14.517142857142856,
            "count": 4
           }
          ]
         }
        },
        {
         "name": "SHA",
         "dtype": "float64",
         "stats": {
          "unique_count": 898,
          "nan_count": 1,
          "min": "2.775714285714286",
          "max": "22.897142857142857",
          "histogram": [
           {
            "bin_start": 2.775714285714286,
            "bin_end": 4.787857142857143,
            "count": 28
           },
           {
            "bin_start": 4.787857142857143,
            "bin_end": 6.8,
            "count": 89
           },
           {
            "bin_start": 6.8,
            "bin_end": 8.812142857142856,
            "count": 167
           },
           {
            "bin_start": 8.812142857142856,
            "bin_end": 10.824285714285715,
            "count": 245
           },
           {
            "bin_start": 10.824285714285715,
            "bin_end": 12.83642857142857,
            "count": 195
           },
           {
            "bin_start": 12.83642857142857,
            "bin_end": 14.848571428571429,
            "count": 130
           },
           {
            "bin_start": 14.848571428571429,
            "bin_end": 16.860714285714284,
            "count": 60
           },
           {
            "bin_start": 16.860714285714284,
            "bin_end": 18.872857142857143,
            "count": 20
           },
           {
            "bin_start": 18.872857142857143,
            "bin_end": 20.884999999999998,
            "count": 4
           },
           {
            "bin_start": 20.884999999999998,
            "bin_end": 22.897142857142857,
            "count": 1
           }
          ]
         }
        },
        {
         "name": "BIR",
         "dtype": "float64",
         "stats": {
          "unique_count": 885,
          "nan_count": 0,
          "min": "1.3828571428571428",
          "max": "16.009999999999998",
          "histogram": [
           {
            "bin_start": 1.3828571428571428,
            "bin_end": 2.8455714285714286,
            "count": 39
           },
           {
            "bin_start": 2.8455714285714286,
            "bin_end": 4.308285714285714,
            "count": 105
           },
           {
            "bin_start": 4.308285714285714,
            "bin_end": 5.770999999999999,
            "count": 153
           },
           {
            "bin_start": 5.770999999999999,
            "bin_end": 7.233714285714285,
            "count": 228
           },
           {
            "bin_start": 7.233714285714285,
            "bin_end": 8.696428571428571,
            "count": 164
           },
           {
            "bin_start": 8.696428571428571,
            "bin_end": 10.159142857142855,
            "count": 132
           },
           {
            "bin_start": 10.159142857142855,
            "bin_end": 11.621857142857142,
            "count": 77
           },
           {
            "bin_start": 11.621857142857142,
            "bin_end": 13.084571428571428,
            "count": 30
           },
           {
            "bin_start": 13.084571428571428,
            "bin_end": 14.547285714285714,
            "count": 10
           },
           {
            "bin_start": 14.547285714285714,
            "bin_end": 16.009999999999998,
            "count": 2
           }
          ]
         }
        },
        {
         "name": "DUB",
         "dtype": "float64",
         "stats": {
          "unique_count": 892,
          "nan_count": 0,
          "min": "2.4714285714285715",
          "max": "20.474285714285713",
          "histogram": [
           {
            "bin_start": 2.4714285714285715,
            "bin_end": 4.271714285714285,
            "count": 37
           },
           {
            "bin_start": 4.271714285714285,
            "bin_end": 6.072,
            "count": 84
           },
           {
            "bin_start": 6.072,
            "bin_end": 7.872285714285715,
            "count": 160
           },
           {
            "bin_start": 7.872285714285715,
            "bin_end": 9.672571428571429,
            "count": 203
           },
           {
            "bin_start": 9.672571428571429,
            "bin_end": 11.472857142857142,
            "count": 177
           },
           {
            "bin_start": 11.472857142857142,
            "bin_end": 13.273142857142858,
            "count": 136
           },
           {
            "bin_start": 13.273142857142858,
            "bin_end": 15.073428571428572,
            "count": 77
           },
           {
            "bin_start": 15.073428571428572,
            "bin_end": 16.873714285714286,
            "count": 42
           },
           {
            "bin_start": 16.873714285714286,
            "bin_end": 18.674,
            "count": 19
           },
           {
            "bin_start": 18.674,
            "bin_end": 20.474285714285713,
            "count": 5
           }
          ]
         }
        },
        {
         "name": "CLA",
         "dtype": "float64",
         "stats": {
          "unique_count": 888,
          "nan_count": 0,
          "min": "2.2842857142857147",
          "max": "17.861428571428572",
          "histogram": [
           {
            "bin_start": 2.2842857142857147,
            "bin_end": 3.8420000000000005,
            "count": 43
           },
           {
            "bin_start": 3.8420000000000005,
            "bin_end": 5.3997142857142855,
            "count": 89
           },
           {
            "bin_start": 5.3997142857142855,
            "bin_end": 6.957428571428571,
            "count": 158
           },
           {
            "bin_start": 6.957428571428571,
            "bin_end": 8.515142857142857,
            "count": 202
           },
           {
            "bin_start": 8.515142857142857,
            "bin_end": 10.072857142857142,
            "count": 175
           },
           {
            "bin_start": 10.072857142857142,
            "bin_end": 11.630571428571429,
            "count": 138
           },
           {
            "bin_start": 11.630571428571429,
            "bin_end": 13.188285714285715,
            "count": 87
           },
           {
            "bin_start": 13.188285714285715,
            "bin_end": 14.745999999999999,
            "count": 28
           },
           {
            "bin_start": 14.745999999999999,
            "bin_end": 16.303714285714285,
            "count": 16
           },
           {
            "bin_start": 16.303714285714285,
            "bin_end": 17.861428571428572,
            "count": 4
           }
          ]
         }
        },
        {
         "name": "MUL",
         "dtype": "float64",
         "stats": {
          "unique_count": 889,
          "nan_count": 0,
          "min": "2.262857142857143",
          "max": "17.46",
          "histogram": [
           {
            "bin_start": 2.262857142857143,
            "bin_end": 3.782571428571429,
            "count": 23
           },
           {
            "bin_start": 3.782571428571429,
            "bin_end": 5.3022857142857145,
            "count": 86
           },
           {
            "bin_start": 5.3022857142857145,
            "bin_end": 6.822000000000001,
            "count": 154
           },
           {
            "bin_start": 6.822000000000001,
            "bin_end": 8.341714285714286,
            "count": 192
           },
           {
            "bin_start": 8.341714285714286,
            "bin_end": 9.861428571428572,
            "count": 217
           },
           {
            "bin_start": 9.861428571428572,
            "bin_end": 11.381142857142859,
            "count": 135
           },
           {
            "bin_start": 11.381142857142859,
            "bin_end": 12.900857142857143,
            "count": 79
           },
           {
            "bin_start": 12.900857142857143,
            "bin_end": 14.42057142857143,
            "count": 32
           },
           {
            "bin_start": 14.42057142857143,
            "bin_end": 15.940285714285716,
            "count": 18
           },
           {
            "bin_start": 15.940285714285716,
            "bin_end": 17.46,
            "count": 4
           }
          ]
         }
        },
        {
         "name": "CLO",
         "dtype": "float64",
         "stats": {
          "unique_count": 891,
          "nan_count": 0,
          "min": "1.5714285714285714",
          "max": "17.93285714285714",
          "histogram": [
           {
            "bin_start": 1.5714285714285714,
            "bin_end": 3.2075714285714283,
            "count": 14
           },
           {
            "bin_start": 3.2075714285714283,
            "bin_end": 4.843714285714285,
            "count": 71
           },
           {
            "bin_start": 4.843714285714285,
            "bin_end": 6.479857142857142,
            "count": 142
           },
           {
            "bin_start": 6.479857142857142,
            "bin_end": 8.116,
            "count": 189
           },
           {
            "bin_start": 8.116,
            "bin_end": 9.752142857142855,
            "count": 194
           },
           {
            "bin_start": 9.752142857142855,
            "bin_end": 11.388285714285713,
            "count": 160
           },
           {
            "bin_start": 11.388285714285713,
            "bin_end": 13.024428571428569,
            "count": 98
           },
           {
            "bin_start": 13.024428571428569,
            "bin_end": 14.660571428571426,
            "count": 44
           },
           {
            "bin_start": 14.660571428571426,
            "bin_end": 16.296714285714284,
            "count": 20
           },
           {
            "bin_start": 16.296714285714284,
            "bin_end": 17.93285714285714,
            "count": 8
           }
          ]
         }
        },
        {
         "name": "BEL",
         "dtype": "float64",
         "stats": {
          "unique_count": 910,
          "nan_count": 0,
          "min": "3.661428571428572",
          "max": "26.617142857142856",
          "histogram": [
           {
            "bin_start": 3.661428571428572,
            "bin_end": 5.957000000000001,
            "count": 11
           },
           {
            "bin_start": 5.957000000000001,
            "bin_end": 8.252571428571429,
            "count": 71
           },
           {
            "bin_start": 8.252571428571429,
            "bin_end": 10.548142857142857,
            "count": 171
           },
           {
            "bin_start": 10.548142857142857,
            "bin_end": 12.843714285714285,
            "count": 216
           },
           {
            "bin_start": 12.843714285714285,
            "bin_end": 15.139285714285712,
            "count": 208
           },
           {
            "bin_start": 15.139285714285712,
            "bin_end": 17.434857142857144,
            "count": 136
           },
           {
            "bin_start": 17.434857142857144,
            "bin_end": 19.730428571428572,
            "count": 79
           },
           {
            "bin_start": 19.730428571428572,
            "bin_end": 22.026,
            "count": 33
           },
           {
            "bin_start": 22.026,
            "bin_end": 24.321571428571428,
            "count": 10
           },
           {
            "bin_start": 24.321571428571428,
            "bin_end": 26.617142857142856,
            "count": 5
           }
          ]
         }
        },
        {
         "name": "MAL",
         "dtype": "float64",
         "stats": {
          "unique_count": 907,
          "nan_count": 0,
          "min": "5.1242857142857146",
          "max": "30.374285714285715",
          "histogram": [
           {
            "bin_start": 5.1242857142857146,
            "bin_end": 7.649285714285714,
            "count": 29
           },
           {
            "bin_start": 7.649285714285714,
            "bin_end": 10.174285714285714,
            "count": 71
           },
           {
            "bin_start": 10.174285714285714,
            "bin_end": 12.699285714285715,
            "count": 167
           },
           {
            "bin_start": 12.699285714285715,
            "bin_end": 15.224285714285713,
            "count": 186
           },
           {
            "bin_start": 15.224285714285713,
            "bin_end": 17.749285714285715,
            "count": 189
           },
           {
            "bin_start": 17.749285714285715,
            "bin_end": 20.274285714285714,
            "count": 153
           },
           {
            "bin_start": 20.274285714285714,
            "bin_end": 22.799285714285716,
            "count": 90
           },
           {
            "bin_start": 22.799285714285716,
            "bin_end": 25.324285714285715,
            "count": 39
           },
           {
            "bin_start": 25.324285714285715,
            "bin_end": 27.849285714285713,
            "count": 12
           },
           {
            "bin_start": 27.849285714285713,
            "bin_end": 30.374285714285715,
            "count": 4
           }
          ]
         }
        },
        {
         "name": "_deepnote_index_column",
         "dtype": "datetime64[ns]"
        }
       ],
       "rows_top": [
        {
         "RPT": 15.04,
         "VAL": 14.96,
         "ROS": 13.17,
         "KIL": 9.29,
         "SHA": "nan",
         "BIR": 9.87,
         "DUB": 13.67,
         "CLA": 10.25,
         "MUL": 10.83,
         "CLO": 12.58,
         "BEL": 18.5,
         "MAL": 15.04,
         "_deepnote_index_column": "1961-01-01T00:00:00.000000"
        },
        {
         "RPT": 13.54142857142857,
         "VAL": 11.486666666666665,
         "ROS": 10.487142857142857,
         "KIL": 6.417142857142857,
         "SHA": 9.474285714285713,
         "BIR": 6.435714285714285,
         "DUB": 11.061428571428573,
         "CLA": 6.616666666666666,
         "MUL": 8.434285714285714,
         "CLO": 8.497142857142858,
         "BEL": 12.481428571428571,
         "MAL": 13.238571428571431,
         "_deepnote_index_column": "1961-01-08T00:00:00.000000"
        },
        {
         "RPT": 12.468571428571428,
         "VAL": 8.967142857142857,
         "ROS": 11.958571428571428,
         "KIL": 4.630000000000001,
         "SHA": 7.351428571428571,
         "BIR": 5.072857142857144,
         "DUB": 7.535714285714286,
         "CLA": 6.819999999999999,
         "MUL": 5.712857142857142,
         "CLO": 7.571428571428571,
         "BEL": 11.125714285714286,
         "MAL": 11.024285714285716,
         "_deepnote_index_column": "1961-01-15T00:00:00.000000"
        },
        {
         "RPT": 13.204285714285716,
         "VAL": 9.862857142857141,
         "ROS": 12.982857142857142,
         "KIL": 6.328571428571428,
         "SHA": 8.966666666666667,
         "BIR": 7.417142857142857,
         "DUB": 9.257142857142856,
         "CLA": 7.875714285714286,
         "MUL": 7.145714285714287,
         "CLO": 8.124285714285714,
         "BEL": 9.821428571428571,
         "MAL": 11.434285714285712,
         "_deepnote_index_column": "1961-01-22T00:00:00.000000"
        },
        {
         "RPT": 19.88,
         "VAL": 16.14142857142857,
         "ROS": 18.225714285714282,
         "KIL": 12.719999999999999,
         "SHA": 17.43285714285714,
         "BIR": 14.828571428571427,
         "DUB": 15.528571428571427,
         "CLA": 15.159999999999998,
         "MUL": 14.479999999999999,
         "CLO": 15.64,
         "BEL": 20.93,
         "MAL": 22.529999999999998,
         "_deepnote_index_column": "1961-01-29T00:00:00.000000"
        },
        {
         "RPT": 16.827142857142857,
         "VAL": 15.459999999999999,
         "ROS": 12.618571428571428,
         "KIL": 8.247142857142858,
         "SHA": 13.361428571428572,
         "BIR": 9.107142857142858,
         "DUB": 12.204285714285716,
         "CLA": 8.54857142857143,
         "MUL": 9.821428571428571,
         "CLO": 9.459999999999999,
         "BEL": 14.012857142857142,
         "MAL": 11.935714285714285,
         "_deepnote_index_column": "1961-02-05T00:00:00.000000"
        },
        {
         "RPT": 19.684285714285714,
         "VAL": 16.417142857142856,
         "ROS": 17.304285714285715,
         "KIL": 10.774285714285712,
         "SHA": 14.718571428571428,
         "BIR": 12.522857142857143,
         "DUB": 14.934285714285712,
         "CLA": 14.85,
         "MUL": 14.064285714285715,
         "CLO": 14.44,
         "BEL": 21.83285714285714,
         "MAL": 19.155714285714286,
         "_deepnote_index_column": "1961-02-12T00:00:00.000000"
        },
        {
         "RPT": 15.129999999999999,
         "VAL": 15.09142857142857,
         "ROS": 13.797142857142859,
         "KIL": 10.083333333333334,
         "SHA": 13.41,
         "BIR": 11.86857142857143,
         "DUB": 9.542857142857144,
         "CLA": 12.128571428571428,
         "MUL": 12.375714285714286,
         "CLO": 13.542857142857143,
         "BEL": 21.16714285714286,
         "MAL": 16.584285714285716,
         "_deepnote_index_column": "1961-02-19T00:00:00.000000"
        },
        {
         "RPT": 15.221428571428572,
         "VAL": 13.625714285714285,
         "ROS": 14.334285714285715,
         "KIL": 8.524285714285714,
         "SHA": 13.655714285714286,
         "BIR": 10.114285714285714,
         "DUB": 11.15,
         "CLA": 10.875714285714285,
         "MUL": 10.392857142857142,
         "CLO": 12.729999999999999,
         "BEL": 16.304285714285715,
         "MAL": 14.322857142857144,
         "_deepnote_index_column": "1961-02-26T00:00:00.000000"
        },
        {
         "RPT": 12.101428571428572,
         "VAL": 12.95142857142857,
         "ROS": 11.063333333333334,
         "KIL": 7.8342857142857145,
         "SHA": 12.101428571428572,
         "BIR": 9.23857142857143,
         "DUB": 10.232857142857142,
         "CLA": 11.129999999999999,
         "MUL": 10.383333333333335,
         "CLO": 12.37,
         "BEL": 17.84285714285714,
         "MAL": 13.951666666666666,
         "_deepnote_index_column": "1961-03-05T00:00:00.000000"
        },
        {
         "RPT": 9.376666666666667,
         "VAL": 11.578571428571427,
         "ROS": 10.845714285714285,
         "KIL": 7.137142857142856,
         "SHA": 10.94,
         "BIR": 9.48857142857143,
         "DUB": 6.881428571428572,
         "CLA": 9.637142857142859,
         "MUL": 9.885714285714284,
         "CLO": 10.458571428571428,
         "BEL": 16.701428571428572,
         "MAL": 14.42,
         "_deepnote_index_column": "1961-03-12T00:00:00.000000"
        },
        {
         "RPT": 11.911428571428571,
         "VAL": 13.501428571428574,
         "ROS": 11.607142857142858,
         "KIL": 7.084285714285714,
         "SHA": 10.751428571428571,
         "BIR": 8.652857142857142,
         "DUB": 10.04142857142857,
         "CLA": 10.219999999999999,
         "MUL": 10.101428571428572,
         "CLO": 11.627142857142857,
         "BEL": 19.349999999999998,
         "MAL": 16.22714285714286,
         "_deepnote_index_column": "1961-03-19T00:00:00.000000"
        },
        {
         "RPT": 9.567142857142857,
         "VAL": 8.387142857142859,
         "ROS": 9.695714285714287,
         "KIL": 6.648571428571429,
         "SHA": 8.964285714285714,
         "BIR": 7.982857142857143,
         "DUB": 10.774285714285714,
         "CLA": 8.977142857142857,
         "MUL": 10.904285714285715,
         "CLO": 11.48142857142857,
         "BEL": 14.037142857142857,
         "MAL": 18.134285714285713,
         "_deepnote_index_column": "1961-03-26T00:00:00.000000"
        },
        {
         "RPT": 10.757142857142858,
         "VAL": 8.852857142857143,
         "ROS": 9.501428571428573,
         "KIL": 7.300000000000001,
         "SHA": 9.975714285714286,
         "BIR": 9.165714285714285,
         "DUB": 11.125714285714285,
         "CLA": 9.061428571428573,
         "MUL": 10.478333333333333,
         "CLO": 9.631428571428572,
         "BEL": 13.471428571428573,
         "MAL": 13.9,
         "_deepnote_index_column": "1961-04-02T00:00:00.000000"
        },
        {
         "RPT": 11.964285714285714,
         "VAL": 10.654285714285715,
         "ROS": 13.607142857142856,
         "KIL": 5.958571428571429,
         "SHA": 9.494285714285715,
         "BIR": 7.637142857142857,
         "DUB": 7.107142857142857,
         "CLA": 8.04142857142857,
         "MUL": 8.161428571428571,
         "CLO": 7.238571428571428,
         "BEL": 11.71285714285714,
         "MAL": 11.371428571428572,
         "_deepnote_index_column": "1961-04-09T00:00:00.000000"
        },
        {
         "RPT": 8.965714285714286,
         "VAL": 8,
         "ROS": 8.787142857142857,
         "KIL": 4.971428571428571,
         "SHA": 6.405714285714285,
         "BIR": 4.9471428571428575,
         "DUB": 5.005714285714285,
         "CLA": 4.994285714285715,
         "MUL": 5.718571428571428,
         "CLO": 6.178571428571429,
         "BEL": 9.482857142857144,
         "MAL": 8.69,
         "_deepnote_index_column": "1961-04-16T00:00:00.000000"
        },
        {
         "RPT": 12.62142857142857,
         "VAL": 10.43857142857143,
         "ROS": 10.255714285714285,
         "KIL": 7.768571428571429,
         "SHA": 10.357142857142858,
         "BIR": 7.798571428571429,
         "DUB": 9,
         "CLA": 9.111428571428572,
         "MUL": 8.767142857142856,
         "CLO": 9.551428571428572,
         "BEL": 13.62,
         "MAL": 12.469999999999999,
         "_deepnote_index_column": "1961-04-23T00:00:00.000000"
        },
        {
         "RPT": 10.117142857142856,
         "VAL": 9.79857142857143,
         "ROS": 8.281428571428572,
         "KIL": 4.801428571428572,
         "SHA": 7.892857142857143,
         "BIR": 5.197142857142857,
         "DUB": 6.1499999999999995,
         "CLA": 6.377142857142856,
         "MUL": 6.242857142857143,
         "CLO": 6.124285714285714,
         "BEL": 9.719999999999999,
         "MAL": 8.637142857142857,
         "_deepnote_index_column": "1961-04-30T00:00:00.000000"
        },
        {
         "RPT": 15.367142857142856,
         "VAL": 13.969999999999999,
         "ROS": 13.834285714285715,
         "KIL": 9.952857142857143,
         "SHA": 14.917142857142858,
         "BIR": 10.864285714285714,
         "DUB": 11.435714285714287,
         "CLA": 12.244285714285713,
         "MUL": 11.677142857142854,
         "CLO": 11.585714285714289,
         "BEL": 17.548571428571428,
         "MAL": 14.571428571428571,
         "_deepnote_index_column": "1961-05-07T00:00:00.000000"
        },
        {
         "RPT": 7.772857142857142,
         "VAL": 8.712857142857143,
         "ROS": 8.172857142857143,
         "KIL": 5.295714285714285,
         "SHA": 9.150000000000002,
         "BIR": 6.391428571428571,
         "DUB": 8.013333333333334,
         "CLA": 7.0528571428571425,
         "MUL": 7.528571428571428,
         "CLO": 7.822857142857144,
         "BEL": 10.421428571428573,
         "MAL": 10.382857142857144,
         "_deepnote_index_column": "1961-05-14T00:00:00.000000"
        },
        {
         "RPT": 8.225714285714286,
         "VAL": 5.631666666666667,
         "ROS": 12.042857142857143,
         "KIL": 4.258571428571429,
         "SHA": 7.597142857142857,
         "BIR": 5.022857142857142,
         "DUB": 5.695714285714287,
         "CLA": 6.97,
         "MUL": 6.847142857142857,
         "CLO": 7.114285714285714,
         "BEL": 9.624285714285715,
         "MAL": 10.612857142857141,
         "_deepnote_index_column": "1961-05-21T00:00:00.000000"
        },
        {
         "RPT": 8.155714285714286,
         "VAL": 7.388571428571429,
         "ROS": 8.512857142857143,
         "KIL": 3.748333333333333,
         "SHA": 6.941428571428572,
         "BIR": 4.112857142857143,
         "DUB": 5.142857142857143,
         "CLA": 6.272857142857143,
         "MUL": 6.1085714285714285,
         "CLO": 7.535714285714286,
         "BEL": 10.518571428571429,
         "MAL": 11.697142857142856,
         "_deepnote_index_column": "1961-05-28T00:00:00.000000"
        },
        {
         "RPT": 10.321428571428571,
         "VAL": 7.4071428571428575,
         "ROS": 10.065714285714288,
         "KIL": 6.3100000000000005,
         "SHA": 9.754285714285714,
         "BIR": 6.451428571428572,
         "DUB": 8.344285714285714,
         "CLA": 8.635714285714284,
         "MUL": 8.714285714285714,
         "CLO": 9.035714285714286,
         "BEL": 12.29857142857143,
         "MAL": 13.597142857142858,
         "_deepnote_index_column": "1961-06-04T00:00:00.000000"
        },
        {
         "RPT": 10.917142857142855,
         "VAL": 8.992857142857142,
         "ROS": 8.095714285714285,
         "KIL": 5.214285714285714,
         "SHA": 10.030000000000001,
         "BIR": 5.46,
         "DUB": 7.084285714285714,
         "CLA": 6.884285714285715,
         "MUL": 8.034285714285714,
         "CLO": 8.397142857142857,
         "BEL": 10.14857142857143,
         "MAL": 12.25,
         "_deepnote_index_column": "1961-06-11T00:00:00.000000"
        },
        {
         "RPT": 10.571428571428571,
         "VAL": 9.565714285714288,
         "ROS": 10.875714285714286,
         "KIL": 6.5200000000000005,
         "SHA": 10.26,
         "BIR": 6.947142857142857,
         "DUB": 9.278571428571428,
         "CLA": 9.102857142857143,
         "MUL": 8.992857142857142,
         "CLO": 9.594285714285714,
         "BEL": 15.35142857142857,
         "MAL": 15.025714285714287,
         "_deepnote_index_column": "1961-06-18T00:00:00.000000"
        },
        {
         "RPT": 7.345714285714286,
         "VAL": 6.1085714285714285,
         "ROS": 8.084285714285715,
         "KIL": 5.478571428571429,
         "SHA": 11.477142857142857,
         "BIR": 7.492857142857142,
         "DUB": 11.868571428571428,
         "CLA": 9.447142857142856,
         "MUL": 10.45857142857143,
         "CLO": 11.257142857142858,
         "BEL": 14.370000000000001,
         "MAL": 17.41,
         "_deepnote_index_column": "1961-06-25T00:00:00.000000"
        },
        {
         "RPT": 10.236666666666666,
         "VAL": 9.482857142857142,
         "ROS": 8.648571428571428,
         "KIL": 6.772857142857142,
         "SHA": 10.975714285714286,
         "BIR": 6.507142857142858,
         "DUB": 7.642857142857143,
         "CLA": 9.237142857142857,
         "MUL": 7.904285714285714,
         "CLO": 10.268571428571429,
         "BEL": 14.535714285714286,
         "MAL": 12.133333333333333,
         "_deepnote_index_column": "1961-07-02T00:00:00.000000"
        },
        {
         "RPT": 11.715714285714286,
         "VAL": 7.22,
         "ROS": 9.319999999999999,
         "KIL": 7.544285714285713,
         "SHA": 12.494285714285713,
         "BIR": 7.982857142857143,
         "DUB": 11.888333333333334,
         "CLA": 9.308571428571428,
         "MUL": 10.732857142857144,
         "CLO": 10.547142857142857,
         "BEL": 12.219999999999999,
         "MAL": 15.987142857142857,
         "_deepnote_index_column": "1961-07-09T00:00:00.000000"
        },
        {
         "RPT": 16.68,
         "VAL": 13.518571428571429,
         "ROS": 11.171428571428569,
         "KIL": 9.277142857142858,
         "SHA": 14.524285714285714,
         "BIR": 8.412857142857144,
         "DUB": 10.171428571428569,
         "CLA": 10.507142857142856,
         "MUL": 9.530000000000001,
         "CLO": 10.157142857142858,
         "BEL": 13.520000000000001,
         "MAL": 12.524285714285714,
         "_deepnote_index_column": "1961-07-16T00:00:00.000000"
        },
        {
         "RPT": 4.202857142857143,
         "VAL": 4.255714285714285,
         "ROS": 6.738571428571428,
         "KIL": 3.3000000000000003,
         "SHA": 6.112857142857144,
         "BIR": 2.7157142857142853,
         "DUB": 3.9642857142857144,
         "CLA": 5.6428571428571415,
         "MUL": 5.297142857142857,
         "CLO": 6.041428571428571,
         "BEL": 7.524285714285715,
         "MAL": 8.415714285714285,
         "_deepnote_index_column": "1961-07-23T00:00:00.000000"
        },
        {
         "RPT": 10.56142857142857,
         "VAL": 8.445714285714287,
         "ROS": 9.352857142857143,
         "KIL": 5.727142857142858,
         "SHA": 10.077142857142857,
         "BIR": 6.5528571428571425,
         "DUB": 9.147142857142857,
         "CLA": 9.198571428571428,
         "MUL": 8.037142857142856,
         "CLO": 9.469999999999999,
         "BEL": 12.84142857142857,
         "MAL": 13.76142857142857,
         "_deepnote_index_column": "1961-07-30T00:00:00.000000"
        },
        {
         "RPT": 10.87,
         "VAL": 8.792857142857143,
         "ROS": 9.858571428571427,
         "KIL": 6.238571428571428,
         "SHA": 11.161428571428571,
         "BIR": 7.184285714285714,
         "DUB": 8.67142857142857,
         "CLA": 8.265714285714285,
         "MUL": 8.01142857142857,
         "CLO": 8.951428571428572,
         "BEL": 11.595714285714285,
         "MAL": 13.76,
         "_deepnote_index_column": "1961-08-06T00:00:00.000000"
        },
        {
         "RPT": 10.058333333333334,
         "VAL": 7.941428571428572,
         "ROS": 8.72857142857143,
         "KIL": 5.078571428571428,
         "SHA": 10.105714285714285,
         "BIR": 6.017142857142857,
         "DUB": 7.8585714285714285,
         "CLA": 8.02142857142857,
         "MUL": 6.285714285714286,
         "CLO": 7.234999999999999,
         "BEL": 10.934285714285712,
         "MAL": 10.125714285714286,
         "_deepnote_index_column": "1961-08-13T00:00:00.000000"
        },
        {
         "RPT": 15.607142857142858,
         "VAL": 10.565714285714288,
         "ROS": 11.065714285714288,
         "KIL": 8.6,
         "SHA": 15.262857142857143,
         "BIR": 10.415714285714285,
         "DUB": 13.215714285714286,
         "CLA": 11.714285714285714,
         "MUL": 11.779999999999998,
         "CLO": 12.244285714285711,
         "BEL": 14.92285714285714,
         "MAL": 16.626666666666665,
         "_deepnote_index_column": "1961-08-20T00:00:00.000000"
        },
        {
         "RPT": 12.391428571428571,
         "VAL": 11.429999999999998,
         "ROS": 12.768571428571429,
         "KIL": 7.1085714285714285,
         "SHA": 13.25,
         "BIR": 9.424285714285714,
         "DUB": 11.105714285714287,
         "CLA": 12.20142857142857,
         "MUL": 9.817142857142857,
         "CLO": 12.507142857142858,
         "BEL": 16.25142857142857,
         "MAL": 16.485714285714288,
         "_deepnote_index_column": "1961-08-27T00:00:00.000000"
        },
        {
         "RPT": 8.678571428571429,
         "VAL": 8.821428571428571,
         "ROS": 6.7457142857142856,
         "KIL": 5.642857142857143,
         "SHA": 9.678571428571429,
         "BIR": 6.278571428571428,
         "DUB": 6.434285714285715,
         "CLA": 8.612857142857143,
         "MUL": 6.744285714285715,
         "CLO": 8.924285714285714,
         "BEL": 13.664285714285716,
         "MAL": 11.022857142857143,
         "_deepnote_index_column": "1961-09-03T00:00:00.000000"
        },
        {
         "RPT": 10.54142857142857,
         "VAL": 8.798571428571428,
         "ROS": 8.185714285714287,
         "KIL": 6.0600000000000005,
         "SHA": 9.231428571428571,
         "BIR": 5.685714285714286,
         "DUB": 6.7871428571428565,
         "CLA": 6.674285714285714,
         "MUL": 6.977142857142858,
         "CLO": 7.565714285714286,
         "BEL": 10.700000000000001,
         "MAL": 11.034285714285714,
         "_deepnote_index_column": "1961-09-10T00:00:00.000000"
        },
        {
         "RPT": 17.16,
         "VAL": 14.44,
         "ROS": 15.617142857142856,
         "KIL": 10.442857142857141,
         "SHA": 15.455714285714285,
         "BIR": 11.082857142857142,
         "DUB": 12.267142857142858,
         "CLA": 13.131428571428572,
         "MUL": 11.401428571428571,
         "CLO": 14.268571428571429,
         "BEL": 19.87857142857143,
         "MAL": 18.984285714285715,
         "_deepnote_index_column": "1961-09-17T00:00:00.000000"
        },
        {
         "RPT": 8.5,
         "VAL": 7.154285714285714,
         "ROS": 7.993333333333333,
         "KIL": 4.851666666666667,
         "SHA": 8.214285714285714,
         "BIR": 5.042857142857143,
         "DUB": 5.671428571428572,
         "CLA": 6.881666666666668,
         "MUL": 5.034285714285715,
         "CLO": 6.798571428571428,
         "BEL": 11.018571428571429,
         "MAL": 9.814285714285713,
         "_deepnote_index_column": "1961-09-24T00:00:00.000000"
        },
        {
         "RPT": 16.044285714285714,
         "VAL": 11.361666666666666,
         "ROS": 13.062857142857142,
         "KIL": 8.370000000000001,
         "SHA": 13.714285714285714,
         "BIR": 8.762857142857142,
         "DUB": 9.227142857142857,
         "CLA": 10.437142857142858,
         "MUL": 8.885714285714284,
         "CLO": 11.840000000000002,
         "BEL": 16.208571428571428,
         "MAL": 13.338571428571429,
         "_deepnote_index_column": "1961-10-01T00:00:00.000000"
        },
        {
         "RPT": 11.25,
         "VAL": 8.757142857142856,
         "ROS": 10.167142857142858,
         "KIL": 5.262857142857143,
         "SHA": 8.255714285714287,
         "BIR": 5.552857142857143,
         "DUB": 7.411428571428572,
         "CLA": 6.22,
         "MUL": 5.65,
         "CLO": 7.662857142857144,
         "BEL": 8.81,
         "MAL": 11.41,
         "_deepnote_index_column": "1961-10-08T00:00:00.000000"
        }
       ],
       "rows_bottom": [
        {
         "RPT": 15.63142857142857,
         "VAL": 15.447142857142854,
         "ROS": 13.111428571428572,
         "KIL": 8.51142857142857,
         "SHA": 13.031428571428572,
         "BIR": 10.052857142857144,
         "DUB": 12.885714285714286,
         "CLA": 12.280000000000001,
         "MUL": 11.678571428571429,
         "CLO": 9.727142857142857,
         "BEL": 14.915714285714285,
         "MAL": 17.92142857142857,
         "_deepnote_index_column": "1978-03-19T00:00:00.000000"
        },
        {
         "RPT": 18.255714285714284,
         "VAL": 18.235714285714288,
         "ROS": 14.148571428571431,
         "KIL": 10.338571428571429,
         "SHA": 17.81142857142857,
         "BIR": 11.237142857142857,
         "DUB": 16.31,
         "CLA": 14.229999999999999,
         "MUL": 14.132857142857143,
         "CLO": 11.141428571428571,
         "BEL": 18.321428571428573,
         "MAL": 22.524285714285718,
         "_deepnote_index_column": "1978-03-26T00:00:00.000000"
        },
        {
         "RPT": 14.428571428571429,
         "VAL": 13.244285714285713,
         "ROS": 12.911428571428571,
         "KIL": 8.24,
         "SHA": 12.53,
         "BIR": 9.44,
         "DUB": 12.815714285714282,
         "CLA": 11.877142857142859,
         "MUL": 12.45142857142857,
         "CLO": 10.641428571428571,
         "BEL": 14.167142857142855,
         "MAL": 20.685714285714283,
         "_deepnote_index_column": "1978-04-02T00:00:00.000000"
        },
        {
         "RPT": 7.85,
         "VAL": 5.851428571428571,
         "ROS": 16.61285714285714,
         "KIL": 4.412857142857143,
         "SHA": 6.622857142857142,
         "BIR": 6.171428571428571,
         "DUB": 7.212857142857142,
         "CLA": 5.928571428571429,
         "MUL": 7.238571428571428,
         "CLO": 4.637142857142857,
         "BEL": 8.907142857142858,
         "MAL": 10.981428571428571,
         "_deepnote_index_column": "1978-04-09T00:00:00.000000"
        },
        {
         "RPT": 14.41,
         "VAL": 12.78,
         "ROS": 11.06,
         "KIL": 7.547142857142857,
         "SHA": 10.864285714285716,
         "BIR": 7.590000000000001,
         "DUB": 9.069999999999999,
         "CLA": 8.84,
         "MUL": 8.344285714285714,
         "CLO": 7.8828571428571435,
         "BEL": 12.129999999999999,
         "MAL": 14.362857142857141,
         "_deepnote_index_column": "1978-04-16T00:00:00.000000"
        },
        {
         "RPT": 16.27857142857143,
         "VAL": 17.529999999999998,
         "ROS": 12.461428571428572,
         "KIL": 8.144285714285715,
         "SHA": 16.10857142857143,
         "BIR": 10.315714285714288,
         "DUB": 10.135714285714286,
         "CLA": 10.242857142857144,
         "MUL": 11.01142857142857,
         "CLO": 9.421428571428573,
         "BEL": 12.505714285714285,
         "MAL": 14.364285714285714,
         "_deepnote_index_column": "1978-04-23T00:00:00.000000"
        },
        {
         "RPT": 10.392857142857142,
         "VAL": 10.131428571428572,
         "ROS": 12.608571428571427,
         "KIL": 4.744285714285715,
         "SHA": 9.094285714285714,
         "BIR": 6.608571428571429,
         "DUB": 9.325714285714286,
         "CLA": 9.088571428571429,
         "MUL": 8.451428571428574,
         "CLO": 7.142857142857143,
         "BEL": 12.125714285714286,
         "MAL": 16.864285714285714,
         "_deepnote_index_column": "1978-04-30T00:00:00.000000"
        },
        {
         "RPT": 10.267142857142856,
         "VAL": 9.648571428571428,
         "ROS": 7.908571428571428,
         "KIL": 4.327142857142857,
         "SHA": 8.417142857142858,
         "BIR": 5.8671428571428565,
         "DUB": 6.9399999999999995,
         "CLA": 7.774285714285715,
         "MUL": 7.302857142857143,
         "CLO": 7.648571428571429,
         "BEL": 9.70857142857143,
         "MAL": 15.124285714285717,
         "_deepnote_index_column": "1978-05-07T00:00:00.000000"
        },
        {
         "RPT": 12.204285714285716,
         "VAL": 8.75,
         "ROS": 9.315714285714284,
         "KIL": 6.041428571428571,
         "SHA": 10.377142857142857,
         "BIR": 6.768571428571428,
         "DUB": 7.928571428571428,
         "CLA": 8.665714285714285,
         "MUL": 8.112857142857143,
         "CLO": 7.601428571428571,
         "BEL": 11.695714285714287,
         "MAL": 12.057142857142855,
         "_deepnote_index_column": "1978-05-14T00:00:00.000000"
        },
        {
         "RPT": 4.251428571428571,
         "VAL": 3.0228571428571422,
         "ROS": 6.065714285714286,
         "KIL": 1.6614285714285713,
         "SHA": 3.7371428571428567,
         "BIR": 1.7028571428571426,
         "DUB": 3.017142857142857,
         "CLA": 3.394285714285715,
         "MUL": 3.3228571428571425,
         "CLO": 3.447142857142857,
         "BEL": 5.472857142857142,
         "MAL": 7.255714285714285,
         "_deepnote_index_column": "1978-05-21T00:00:00.000000"
        },
        {
         "RPT": 7.148571428571429,
         "VAL": 6.808571428571428,
         "ROS": 5.661428571428572,
         "KIL": 3.107142857142857,
         "SHA": 5.222857142857143,
         "BIR": 3.1585714285714284,
         "DUB": 4.037142857142857,
         "CLA": 4.672857142857143,
         "MUL": 4.185714285714286,
         "CLO": 4.632857142857143,
         "BEL": 9.885714285714284,
         "MAL": 8.96,
         "_deepnote_index_column": "1978-05-28T00:00:00.000000"
        },
        {
         "RPT": 9.278571428571427,
         "VAL": 10.148571428571428,
         "ROS": 5.952857142857143,
         "KIL": 4.51,
         "SHA": 9.435714285714287,
         "BIR": 6.409999999999999,
         "DUB": 4.8585714285714285,
         "CLA": 6.4471428571428575,
         "MUL": 6.917142857142857,
         "CLO": 6.731428571428572,
         "BEL": 8.714285714285714,
         "MAL": 10.612857142857141,
         "_deepnote_index_column": "1978-06-04T00:00:00.000000"
        },
        {
         "RPT": 12.022857142857143,
         "VAL": 9.154285714285715,
         "ROS": 9.48857142857143,
         "KIL": 5.971428571428572,
         "SHA": 10.637142857142857,
         "BIR": 8.03,
         "DUB": 8.678571428571429,
         "CLA": 8.227142857142857,
         "MUL": 9.172857142857143,
         "CLO": 9.642857142857142,
         "BEL": 11.632857142857144,
         "MAL": 17.77857142857143,
         "_deepnote_index_column": "1978-06-11T00:00:00.000000"
        },
        {
         "RPT": 9.41,
         "VAL": 8.770000000000001,
         "ROS": 14.135714285714284,
         "KIL": 6.457142857142856,
         "SHA": 8.564285714285715,
         "BIR": 6.898571428571429,
         "DUB": 7.297142857142858,
         "CLA": 7.464285714285714,
         "MUL": 7.054285714285714,
         "CLO": 6.225714285714285,
         "BEL": 11.398571428571428,
         "MAL": 12.957142857142856,
         "_deepnote_index_column": "1978-06-18T00:00:00.000000"
        },
        {
         "RPT": 12.707142857142857,
         "VAL": 10.244285714285715,
         "ROS": 8.912857142857144,
         "KIL": 5.878571428571428,
         "SHA": 10.372857142857143,
         "BIR": 6.852857142857144,
         "DUB": 7.648571428571429,
         "CLA": 7.875714285714286,
         "MUL": 7.865714285714286,
         "CLO": 7.084285714285714,
         "BEL": 13.030000000000001,
         "MAL": 16.678571428571427,
         "_deepnote_index_column": "1978-06-25T00:00:00.000000"
        },
        {
         "RPT": 12.20857142857143,
         "VAL": 9.64,
         "ROS": 10.482857142857142,
         "KIL": 7.0114285714285725,
         "SHA": 12.772857142857143,
         "BIR": 9.005714285714285,
         "DUB": 11.055714285714286,
         "CLA": 8.917142857142858,
         "MUL": 9.994285714285713,
         "CLO": 7.498571428571428,
         "BEL": 12.268571428571429,
         "MAL": 15.287142857142857,
         "_deepnote_index_column": "1978-07-02T00:00:00.000000"
        },
        {
         "RPT": 18.052857142857142,
         "VAL": 12.63,
         "ROS": 11.984285714285713,
         "KIL": 9.219999999999999,
         "SHA": 13.414285714285715,
         "BIR": 10.762857142857143,
         "DUB": 11.368571428571428,
         "CLA": 11.218571428571428,
         "MUL": 11.272857142857145,
         "CLO": 11.082857142857142,
         "BEL": 14.754285714285713,
         "MAL": 18.215714285714288,
         "_deepnote_index_column": "1978-07-09T00:00:00.000000"
        },
        {
         "RPT": 5.882857142857143,
         "VAL": 3.244285714285714,
         "ROS": 5.3585714285714285,
         "KIL": 2.25,
         "SHA": 4.618571428571428,
         "BIR": 2.6314285714285717,
         "DUB": 2.494285714285714,
         "CLA": 3.54,
         "MUL": 3.3971428571428572,
         "CLO": 3.2142857142857144,
         "BEL": 7.198571428571428,
         "MAL": 7.578571428571429,
         "_deepnote_index_column": "1978-07-16T00:00:00.000000"
        },
        {
         "RPT": 13.654285714285717,
         "VAL": 10.007142857142856,
         "ROS": 9.915714285714285,
         "KIL": 6.577142857142857,
         "SHA": 10.757142857142856,
         "BIR": 8.282857142857143,
         "DUB": 8.147142857142857,
         "CLA": 9.301428571428573,
         "MUL": 8.952857142857143,
         "CLO": 8.402857142857142,
         "BEL": 13.847142857142856,
         "MAL": 14.785714285714288,
         "_deepnote_index_column": "1978-07-23T00:00:00.000000"
        },
        {
         "RPT": 12.172857142857143,
         "VAL": 11.854285714285712,
         "ROS": 11.094285714285716,
         "KIL": 6.631428571428572,
         "SHA": 9.918571428571427,
         "BIR": 8.707142857142857,
         "DUB": 7.458571428571429,
         "CLA": 9.117142857142856,
         "MUL": 9.304285714285715,
         "CLO": 8.148571428571428,
         "BEL": 15.192857142857141,
         "MAL": 14.584285714285713,
         "_deepnote_index_column": "1978-07-30T00:00:00.000000"
        },
        {
         "RPT": 12.475714285714284,
         "VAL": 9.48857142857143,
         "ROS": 10.584285714285713,
         "KIL": 5.457142857142856,
         "SHA": 8.724285714285713,
         "BIR": 5.855714285714286,
         "DUB": 7.065714285714286,
         "CLA": 5.409999999999998,
         "MUL": 6.631428571428572,
         "CLO": 4.962857142857142,
         "BEL": 9.084285714285716,
         "MAL": 11.405714285714286,
         "_deepnote_index_column": "1978-08-06T00:00:00.000000"
        },
        {
         "RPT": 10.114285714285716,
         "VAL": 9.6,
         "ROS": 7.635714285714285,
         "KIL": 4.79,
         "SHA": 8.101428571428572,
         "BIR": 6.702857142857143,
         "DUB": 5.452857142857143,
         "CLA": 5.964285714285714,
         "MUL": 7.518571428571428,
         "CLO": 5.661428571428572,
         "BEL": 10.691428571428572,
         "MAL": 11.927142857142854,
         "_deepnote_index_column": "1978-08-13T00:00:00.000000"
        },
        {
         "RPT": 11.1,
         "VAL": 11.237142857142857,
         "ROS": 10.505714285714285,
         "KIL": 5.6971428571428575,
         "SHA": 9.91,
         "BIR": 8.034285714285714,
         "DUB": 7.267142857142858,
         "CLA": 8.517142857142856,
         "MUL": 9.815714285714288,
         "CLO": 7.941428571428572,
         "BEL": 15,
         "MAL": 14.405714285714286,
         "_deepnote_index_column": "1978-08-20T00:00:00.000000"
        },
        {
         "RPT": 6.208571428571429,
         "VAL": 5.0600000000000005,
         "ROS": 8.565714285714286,
         "KIL": 3.1214285714285714,
         "SHA": 4.638571428571429,
         "BIR": 4.077142857142857,
         "DUB": 3.2914285714285714,
         "CLA": 3.5,
         "MUL": 5.877142857142858,
         "CLO": 4.4471428571428575,
         "BEL": 8.131428571428572,
         "MAL": 10.661428571428571,
         "_deepnote_index_column": "1978-08-27T00:00:00.000000"
        },
        {
         "RPT": 8.232857142857144,
         "VAL": 4.888571428571429,
         "ROS": 7.767142857142857,
         "KIL": 3.5885714285714285,
         "SHA": 3.8928571428571432,
         "BIR": 5.090000000000001,
         "DUB": 6.184285714285714,
         "CLA": 3,
         "MUL": 6.202857142857143,
         "CLO": 4.7457142857142856,
         "BEL": 8.105714285714285,
         "MAL": 13.15,
         "_deepnote_index_column": "1978-09-03T00:00:00.000000"
        },
        {
         "RPT": 11.487142857142857,
         "VAL": 12.742857142857144,
         "ROS": 11.124285714285715,
         "KIL": 5.702857142857143,
         "SHA": 10.721428571428573,
         "BIR": 10.927142857142856,
         "DUB": 9.157142857142857,
         "CLA": 9.45857142857143,
         "MUL": 10.588571428571429,
         "CLO": 8.274285714285714,
         "BEL": 14.559999999999999,
         "MAL": 16.752857142857145,
         "_deepnote_index_column": "1978-09-10T00:00:00.000000"
        },
        {
         "RPT": 12.067142857142857,
         "VAL": 10.648571428571428,
         "ROS": 11.609999999999998,
         "KIL": 6.864285714285714,
         "SHA": 12.252857142857142,
         "BIR": 11.868571428571428,
         "DUB": 13.017142857142858,
         "CLA": 12.44714285714286,
         "MUL": 11.90857142857143,
         "CLO": 10.957142857142857,
         "BEL": 18.422857142857143,
         "MAL": 23.441428571428577,
         "_deepnote_index_column": "1978-09-17T00:00:00.000000"
        },
        {
         "RPT": 5.845714285714286,
         "VAL": 8.317142857142859,
         "ROS": 9.305714285714286,
         "KIL": 2.5542857142857147,
         "SHA": 5.625714285714286,
         "BIR": 5.171428571428572,
         "DUB": 7.047142857142857,
         "CLA": 6.75,
         "MUL": 6.869999999999999,
         "CLO": 6.291428571428571,
         "BEL": 13.44714285714286,
         "MAL": 15.324285714285713,
         "_deepnote_index_column": "1978-09-24T00:00:00.000000"
        },
        {
         "RPT": 16.252857142857142,
         "VAL": 14.131428571428572,
         "ROS": 12.098571428571429,
         "KIL": 8.832857142857142,
         "SHA": 15.81,
         "BIR": 10.338571428571429,
         "DUB": 15.124285714285715,
         "CLA": 12.37857142857143,
         "MUL": 12.275714285714287,
         "CLO": 11.97,
         "BEL": 19.16,
         "MAL": 24.15857142857143,
         "_deepnote_index_column": "1978-10-01T00:00:00.000000"
        },
        {
         "RPT": 12.865714285714287,
         "VAL": 13.302857142857144,
         "ROS": 11.671428571428573,
         "KIL": 6.531428571428571,
         "SHA": 11.73142857142857,
         "BIR": 8.881428571428572,
         "DUB": 9.707142857142856,
         "CLA": 9.70857142857143,
         "MUL": 11.391428571428573,
         "CLO": 10.161428571428571,
         "BEL": 16.498571428571427,
         "MAL": 20.618571428571432,
         "_deepnote_index_column": "1978-10-08T00:00:00.000000"
        },
        {
         "RPT": 9.611428571428572,
         "VAL": 6.327142857142857,
         "ROS": 9.25,
         "KIL": 4.167142857142857,
         "SHA": 6.821428571428571,
         "BIR": 6.237142857142857,
         "DUB": 5.577142857142857,
         "CLA": 6.34857142857143,
         "MUL": 7.232857142857143,
         "CLO": 7.285714285714286,
         "BEL": 12.19714285714286,
         "MAL": 14.177142857142854,
         "_deepnote_index_column": "1978-10-15T00:00:00.000000"
        },
        {
         "RPT": 9.804285714285713,
         "VAL": 7.817142857142857,
         "ROS": 7.642857142857143,
         "KIL": 5.314285714285714,
         "SHA": 9.124285714285714,
         "BIR": 6.862857142857144,
         "DUB": 9.391428571428573,
         "CLA": 7.428571428571429,
         "MUL": 7.765714285714286,
         "CLO": 8.04857142857143,
         "BEL": 12.708571428571428,
         "MAL": 17.868571428571432,
         "_deepnote_index_column": "1978-10-22T00:00:00.000000"
        },
        {
         "RPT": 7.5042857142857144,
         "VAL": 7.702857142857143,
         "ROS": 8.102857142857143,
         "KIL": 3.204285714285714,
         "SHA": 7.464285714285714,
         "BIR": 5.905714285714287,
         "DUB": 8.727142857142857,
         "CLA": 6.652857142857142,
         "MUL": 7.605714285714285,
         "CLO": 8.12,
         "BEL": 14.487142857142857,
         "MAL": 16.91571428571429,
         "_deepnote_index_column": "1978-10-29T00:00:00.000000"
        },
        {
         "RPT": 13.060000000000002,
         "VAL": 13.465714285714286,
         "ROS": 12.137142857142857,
         "KIL": 6.682857142857142,
         "SHA": 9.891428571428571,
         "BIR": 8.314285714285715,
         "DUB": 9.775714285714285,
         "CLA": 9.638571428571428,
         "MUL": 10.185714285714287,
         "CLO": 10.422857142857142,
         "BEL": 18.451428571428572,
         "MAL": 18.72142857142857,
         "_deepnote_index_column": "1978-11-05T00:00:00.000000"
        },
        {
         "RPT": 14.857142857142858,
         "VAL": 15.237142857142857,
         "ROS": 12.007142857142856,
         "KIL": 7.684285714285715,
         "SHA": 12.459999999999999,
         "BIR": 9.352857142857143,
         "DUB": 10.224285714285713,
         "CLA": 10.554285714285713,
         "MUL": 11.168571428571429,
         "CLO": 12.232857142857142,
         "BEL": 19.307142857142857,
         "MAL": 22.52285714285714,
         "_deepnote_index_column": "1978-11-12T00:00:00.000000"
        },
        {
         "RPT": 20.59,
         "VAL": 18.99857142857143,
         "ROS": 17.272857142857138,
         "KIL": 10.417142857142858,
         "SHA": 14.219999999999999,
         "BIR": 11.20857142857143,
         "DUB": 16.08142857142857,
         "CLA": 12.915714285714284,
         "MUL": 13.297142857142857,
         "CLO": 13.242857142857144,
         "BEL": 20.357142857142858,
         "MAL": 23.905714285714286,
         "_deepnote_index_column": "1978-11-19T00:00:00.000000"
        },
        {
         "RPT": 16.49857142857143,
         "VAL": 13.971428571428572,
         "ROS": 13.544285714285717,
         "KIL": 6.361428571428571,
         "SHA": 10.43857142857143,
         "BIR": 7.404285714285714,
         "DUB": 12.797142857142857,
         "CLA": 7.571428571428571,
         "MUL": 9.998571428571427,
         "CLO": 8.915714285714285,
         "BEL": 15.207142857142857,
         "MAL": 19.49142857142857,
         "_deepnote_index_column": "1978-11-26T00:00:00.000000"
        },
        {
         "RPT": 14.934285714285712,
         "VAL": 11.232857142857142,
         "ROS": 13.941428571428572,
         "KIL": 5.565714285714286,
         "SHA": 10.215714285714284,
         "BIR": 8.618571428571428,
         "DUB": 9.642857142857142,
         "CLA": 7.685714285714286,
         "MUL": 9.01142857142857,
         "CLO": 9.547142857142857,
         "BEL": 11.835714285714287,
         "MAL": 18.72857142857143,
         "_deepnote_index_column": "1978-12-03T00:00:00.000000"
        },
        {
         "RPT": 20.740000000000002,
         "VAL": 19.19,
         "ROS": 17.034285714285712,
         "KIL": 9.777142857142858,
         "SHA": 15.287142857142857,
         "BIR": 12.774285714285714,
         "DUB": 14.437142857142858,
         "CLA": 12.488571428571428,
         "MUL": 13.870000000000001,
         "CLO": 14.082857142857142,
         "BEL": 18.517142857142854,
         "MAL": 23.06142857142857,
         "_deepnote_index_column": "1978-12-10T00:00:00.000000"
        },
        {
         "RPT": 16.75857142857143,
         "VAL": 14.692857142857141,
         "ROS": 14.987142857142857,
         "KIL": 6.917142857142857,
         "SHA": 11.397142857142857,
         "BIR": 7.272857142857142,
         "DUB": 10.208571428571428,
         "CLA": 7.967142857142859,
         "MUL": 9.168571428571429,
         "CLO": 8.565714285714284,
         "BEL": 11.102857142857143,
         "MAL": 15.562857142857142,
         "_deepnote_index_column": "1978-12-17T00:00:00.000000"
        },
        {
         "RPT": 11.155714285714286,
         "VAL": 8.008571428571429,
         "ROS": 13.172857142857143,
         "KIL": 4.004285714285714,
         "SHA": 7.825714285714286,
         "BIR": 6.29,
         "DUB": 7.798571428571429,
         "CLA": 8.667142857142858,
         "MUL": 7.151428571428572,
         "CLO": 8.072857142857144,
         "BEL": 11.845714285714285,
         "MAL": 18.97714285714286,
         "_deepnote_index_column": "1978-12-24T00:00:00.000000"
        },
        {
         "RPT": 14.95142857142857,
         "VAL": 11.80142857142857,
         "ROS": 16.035714285714285,
         "KIL": 6.507142857142857,
         "SHA": 9.66,
         "BIR": 8.620000000000001,
         "DUB": 13.70857142857143,
         "CLA": 10.477142857142855,
         "MUL": 10.868571428571428,
         "CLO": 11.471428571428572,
         "BEL": 12.947142857142856,
         "MAL": 26.844285714285718,
         "_deepnote_index_column": "1978-12-31T00:00:00.000000"
        }
       ]
      },
      "text/plain": "                  RPT        VAL        ROS        KIL        SHA        BIR  \\\ndate                                                                           \n1961-01-01  15.040000  14.960000  13.170000   9.290000        NaN   9.870000   \n1961-01-08  13.541429  11.486667  10.487143   6.417143   9.474286   6.435714   \n1961-01-15  12.468571   8.967143  11.958571   4.630000   7.351429   5.072857   \n1961-01-22  13.204286   9.862857  12.982857   6.328571   8.966667   7.417143   \n1961-01-29  19.880000  16.141429  18.225714  12.720000  17.432857  14.828571   \n...               ...        ...        ...        ...        ...        ...   \n1978-12-03  14.934286  11.232857  13.941429   5.565714  10.215714   8.618571   \n1978-12-10  20.740000  19.190000  17.034286   9.777143  15.287143  12.774286   \n1978-12-17  16.758571  14.692857  14.987143   6.917143  11.397143   7.272857   \n1978-12-24  11.155714   8.008571  13.172857   4.004286   7.825714   6.290000   \n1978-12-31  14.951429  11.801429  16.035714   6.507143   9.660000   8.620000   \n\n                  DUB        CLA        MUL        CLO        BEL        MAL  \ndate                                                                          \n1961-01-01  13.670000  10.250000  10.830000  12.580000  18.500000  15.040000  \n1961-01-08  11.061429   6.616667   8.434286   8.497143  12.481429  13.238571  \n1961-01-15   7.535714   6.820000   5.712857   7.571429  11.125714  11.024286  \n1961-01-22   9.257143   7.875714   7.145714   8.124286   9.821429  11.434286  \n1961-01-29  15.528571  15.160000  14.480000  15.640000  20.930000  22.530000  \n...               ...        ...        ...        ...        ...        ...  \n1978-12-03   9.642857   7.685714   9.011429   9.547143  11.835714  18.728571  \n1978-12-10  14.437143  12.488571  13.870000  14.082857  18.517143  23.061429  \n1978-12-17  10.208571   7.967143   9.168571   8.565714  11.102857  15.562857  \n1978-12-24   7.798571   8.667143   7.151429   8.072857  11.845714  18.977143  \n1978-12-31  13.708571  10.477143  10.868571  11.471429  12.947143  26.844286  \n\n[940 rows x 12 columns]",
      "text/html": "<div>\n<style scoped>\n    .dataframe tbody tr th:only-of-type {\n        vertical-align: middle;\n    }\n\n    .dataframe tbody tr th {\n        vertical-align: top;\n    }\n\n    .dataframe thead th {\n        text-align: right;\n    }\n</style>\n<table border=\"1\" class=\"dataframe\">\n  <thead>\n    <tr style=\"text-align: right;\">\n      <th></th>\n      <th>RPT</th>\n      <th>VAL</th>\n      <th>ROS</th>\n      <th>KIL</th>\n      <th>SHA</th>\n      <th>BIR</th>\n      <th>DUB</th>\n      <th>CLA</th>\n      <th>MUL</th>\n      <th>CLO</th>\n      <th>BEL</th>\n      <th>MAL</th>\n    </tr>\n    <tr>\n      <th>date</th>\n      <th></th>\n      <th></th>\n      <th></th>\n      <th></th>\n      <th></th>\n      <th></th>\n      <th></th>\n      <th></th>\n      <th></th>\n      <th></th>\n      <th></th>\n      <th></th>\n    </tr>\n  </thead>\n  <tbody>\n    <tr>\n      <th>1961-01-01</th>\n      <td>15.040000</td>\n      <td>14.960000</td>\n      <td>13.170000</td>\n      <td>9.290000</td>\n      <td>NaN</td>\n      <td>9.870000</td>\n      <td>13.670000</td>\n      <td>10.250000</td>\n      <td>10.830000</td>\n      <td>12.580000</td>\n      <td>18.500000</td>\n      <td>15.040000</td>\n    </tr>\n    <tr>\n      <th>1961-01-08</th>\n      <td>13.541429</td>\n      <td>11.486667</td>\n      <td>10.487143</td>\n      <td>6.417143</td>\n      <td>9.474286</td>\n      <td>6.435714</td>\n      <td>11.061429</td>\n      <td>6.616667</td>\n      <td>8.434286</td>\n      <td>8.497143</td>\n      <td>12.481429</td>\n      <td>13.238571</td>\n    </tr>\n    <tr>\n      <th>1961-01-15</th>\n      <td>12.468571</td>\n      <td>8.967143</td>\n      <td>11.958571</td>\n      <td>4.630000</td>\n      <td>7.351429</td>\n      <td>5.072857</td>\n      <td>7.535714</td>\n      <td>6.820000</td>\n      <td>5.712857</td>\n      <td>7.571429</td>\n      <td>11.125714</td>\n      <td>11.024286</td>\n    </tr>\n    <tr>\n      <th>1961-01-22</th>\n      <td>13.204286</td>\n      <td>9.862857</td>\n      <td>12.982857</td>\n      <td>6.328571</td>\n      <td>8.966667</td>\n      <td>7.417143</td>\n      <td>9.257143</td>\n      <td>7.875714</td>\n      <td>7.145714</td>\n      <td>8.124286</td>\n      <td>9.821429</td>\n      <td>11.434286</td>\n    </tr>\n    <tr>\n      <th>1961-01-29</th>\n      <td>19.880000</td>\n      <td>16.141429</td>\n      <td>18.225714</td>\n      <td>12.720000</td>\n      <td>17.432857</td>\n      <td>14.828571</td>\n      <td>15.528571</td>\n      <td>15.160000</td>\n      <td>14.480000</td>\n      <td>15.640000</td>\n      <td>20.930000</td>\n      <td>22.530000</td>\n    </tr>\n    <tr>\n      <th>...</th>\n      <td>...</td>\n      <td>...</td>\n      <td>...</td>\n      <td>...</td>\n      <td>...</td>\n      <td>...</td>\n      <td>...</td>\n      <td>...</td>\n      <td>...</td>\n      <td>...</td>\n      <td>...</td>\n      <td>...</td>\n    </tr>\n    <tr>\n      <th>1978-12-03</th>\n      <td>14.934286</td>\n      <td>11.232857</td>\n      <td>13.941429</td>\n      <td>5.565714</td>\n      <td>10.215714</td>\n      <td>8.618571</td>\n      <td>9.642857</td>\n      <td>7.685714</td>\n      <td>9.011429</td>\n      <td>9.547143</td>\n      <td>11.835714</td>\n      <td>18.728571</td>\n    </tr>\n    <tr>\n      <th>1978-12-10</th>\n      <td>20.740000</td>\n      <td>19.190000</td>\n      <td>17.034286</td>\n      <td>9.777143</td>\n      <td>15.287143</td>\n      <td>12.774286</td>\n      <td>14.437143</td>\n      <td>12.488571</td>\n      <td>13.870000</td>\n      <td>14.082857</td>\n      <td>18.517143</td>\n      <td>23.061429</td>\n    </tr>\n    <tr>\n      <th>1978-12-17</th>\n      <td>16.758571</td>\n      <td>14.692857</td>\n      <td>14.987143</td>\n      <td>6.917143</td>\n      <td>11.397143</td>\n      <td>7.272857</td>\n      <td>10.208571</td>\n      <td>7.967143</td>\n      <td>9.168571</td>\n      <td>8.565714</td>\n      <td>11.102857</td>\n      <td>15.562857</td>\n    </tr>\n    <tr>\n      <th>1978-12-24</th>\n      <td>11.155714</td>\n      <td>8.008571</td>\n      <td>13.172857</td>\n      <td>4.004286</td>\n      <td>7.825714</td>\n      <td>6.290000</td>\n      <td>7.798571</td>\n      <td>8.667143</td>\n      <td>7.151429</td>\n      <td>8.072857</td>\n      <td>11.845714</td>\n      <td>18.977143</td>\n    </tr>\n    <tr>\n      <th>1978-12-31</th>\n      <td>14.951429</td>\n      <td>11.801429</td>\n      <td>16.035714</td>\n      <td>6.507143</td>\n      <td>9.660000</td>\n      <td>8.620000</td>\n      <td>13.708571</td>\n      <td>10.477143</td>\n      <td>10.868571</td>\n      <td>11.471429</td>\n      <td>12.947143</td>\n      <td>26.844286</td>\n    </tr>\n  </tbody>\n</table>\n<p>940 rows × 12 columns</p>\n</div>"
     },
     "metadata": {}
    }
   ]
  },
  {
   "cell_type": "markdown",
   "source": "### Step 15. Calculate the min, max and mean windspeeds and standard deviations of the windspeeds across all locations for each week (assume that the first week starts on January 2 1961) for the first 52 weeks.",
   "metadata": {
    "id": "IcDjGQ4AdeHa",
    "cell_id": "00035-56330434-ec65-47cd-a694-45f1cd338430",
    "deepnote_cell_type": "markdown"
   }
  },
  {
   "cell_type": "code",
   "metadata": {
    "colab": {
     "base_uri": "https://localhost:8080/",
     "height": 1000
    },
    "id": "BkjWvZ8QdeHa",
    "executionInfo": {
     "status": "ok",
     "timestamp": 1623813705530,
     "user_tz": 240,
     "elapsed": 370,
     "user": {
      "displayName": "Andrés Sánchez",
      "photoUrl": "https://lh3.googleusercontent.com/a-/AOh14Gg69bZMv30ckb-T1MJy0nSxWIHUaP0p2uP6MYBuvQ=s64",
      "userId": "07985253921366566280"
     }
    },
    "outputId": "d9ece8a5-5ccc-4a7b-9c24-da9ca891e83c",
    "cell_id": "00036-73403d17-d795-467b-8b45-3bb306f81fc9",
    "deepnote_to_be_reexecuted": false,
    "source_hash": "51fe73ba",
    "execution_start": 1630098265250,
    "execution_millis": 264,
    "deepnote_cell_type": "code"
   },
   "source": "# data.iloc[1:,:].resample('1w').mean().agg(pd.Series.describe, axis=1)\n# data.iloc[1:,:]\ndata.iloc[1:,:].resample('1w').agg(['min','max','mean','std'])",
   "execution_count": 19,
   "outputs": [
    {
     "output_type": "execute_result",
     "execution_count": 19,
     "data": {
      "application/vnd.deepnote.dataframe.v2+json": {
       "row_count": 939,
       "column_count": 48,
       "columns": [
        {
         "name": [
          "RPT",
          "min"
         ],
         "dtype": "float64",
         "stats": {
          "unique_count": 278,
          "nan_count": 0,
          "min": "0.67",
          "max": "17.88",
          "histogram": [
           {
            "bin_start": 0.67,
            "bin_end": 2.3909999999999996,
            "count": 32
           },
           {
            "bin_start": 2.3909999999999996,
            "bin_end": 4.111999999999999,
            "count": 152
           },
           {
            "bin_start": 4.111999999999999,
            "bin_end": 5.832999999999998,
            "count": 246
           },
           {
            "bin_start": 5.832999999999998,
            "bin_end": 7.5539999999999985,
            "count": 191
           },
           {
            "bin_start": 7.5539999999999985,
            "bin_end": 9.274999999999999,
            "count": 149
           },
           {
            "bin_start": 9.274999999999999,
            "bin_end": 10.995999999999997,
            "count": 88
           },
           {
            "bin_start": 10.995999999999997,
            "bin_end": 12.716999999999997,
            "count": 42
           },
           {
            "bin_start": 12.716999999999997,
            "bin_end": 14.437999999999997,
            "count": 22
           },
           {
            "bin_start": 14.437999999999997,
            "bin_end": 16.159,
            "count": 12
           },
           {
            "bin_start": 16.159,
            "bin_end": 17.88,
            "count": 5
           }
          ]
         }
        },
        {
         "name": [
          "RPT",
          "max"
         ],
         "dtype": "float64",
         "stats": {
          "unique_count": 429,
          "nan_count": 0,
          "min": "5.58",
          "max": "35.8",
          "histogram": [
           {
            "bin_start": 5.58,
            "bin_end": 8.602,
            "count": 12
           },
           {
            "bin_start": 8.602,
            "bin_end": 11.623999999999999,
            "count": 54
           },
           {
            "bin_start": 11.623999999999999,
            "bin_end": 14.645999999999999,
            "count": 122
           },
           {
            "bin_start": 14.645999999999999,
            "bin_end": 17.668,
            "count": 209
           },
           {
            "bin_start": 17.668,
            "bin_end": 20.689999999999998,
            "count": 213
           },
           {
            "bin_start": 20.689999999999998,
            "bin_end": 23.711999999999996,
            "count": 150
           },
           {
            "bin_start": 23.711999999999996,
            "bin_end": 26.734,
            "count": 98
           },
           {
            "bin_start": 26.734,
            "bin_end": 29.756,
            "count": 54
           },
           {
            "bin_start": 29.756,
            "bin_end": 32.778,
            "count": 18
           },
           {
            "bin_start": 32.778,
            "bin_end": 35.8,
            "count": 9
           }
          ]
         }
        },
        {
         "name": [
          "RPT",
          "mean"
         ],
         "dtype": "float64",
         "stats": {
          "unique_count": 905,
          "nan_count": 0,
          "min": "3.874285714285714",
          "max": "24.009999999999998",
          "histogram": [
           {
            "bin_start": 3.874285714285714,
            "bin_end": 5.8878571428571425,
            "count": 21
           },
           {
            "bin_start": 5.8878571428571425,
            "bin_end": 7.901428571428571,
            "count": 65
           },
           {
            "bin_start": 7.901428571428571,
            "bin_end": 9.915,
            "count": 151
           },
           {
            "bin_start": 9.915,
            "bin_end": 11.928571428571427,
            "count": 198
           },
           {
            "bin_start": 11.928571428571427,
            "bin_end": 13.942142857142855,
            "count": 219
           },
           {
            "bin_start": 13.942142857142855,
            "bin_end": 15.955714285714285,
            "count": 145
           },
           {
            "bin_start": 15.955714285714285,
            "bin_end": 17.969285714285714,
            "count": 78
           },
           {
            "bin_start": 17.969285714285714,
            "bin_end": 19.982857142857142,
            "count": 40
           },
           {
            "bin_start": 19.982857142857142,
            "bin_end": 21.99642857142857,
            "count": 18
           },
           {
            "bin_start": 21.99642857142857,
            "bin_end": 24.009999999999998,
            "count": 4
           }
          ]
         }
        },
        {
         "name": [
          "RPT",
          "std"
         ],
         "dtype": "float64",
         "stats": {
          "unique_count": 939,
          "nan_count": 0,
          "min": "0.8939692122108863",
          "max": "10.51477962090459",
          "histogram": [
           {
            "bin_start": 0.8939692122108863,
            "bin_end": 1.856050253080257,
            "count": 34
           },
           {
            "bin_start": 1.856050253080257,
            "bin_end": 2.8181312939496275,
            "count": 121
           },
           {
            "bin_start": 2.8181312939496275,
            "bin_end": 3.780212334818998,
            "count": 191
           },
           {
            "bin_start": 3.780212334818998,
            "bin_end": 4.7422933756883685,
            "count": 218
           },
           {
            "bin_start": 4.7422933756883685,
            "bin_end": 5.704374416557739,
            "count": 182
           },
           {
            "bin_start": 5.704374416557739,
            "bin_end": 6.6664554574271095,
            "count": 95
           },
           {
            "bin_start": 6.6664554574271095,
            "bin_end": 7.62853649829648,
            "count": 56
           },
           {
            "bin_start": 7.62853649829648,
            "bin_end": 8.59061753916585,
            "count": 23
           },
           {
            "bin_start": 8.59061753916585,
            "bin_end": 9.552698580035221,
            "count": 14
           },
           {
            "bin_start": 9.552698580035221,
            "bin_end": 10.51477962090459,
            "count": 5
           }
          ]
         }
        },
        {
         "name": [
          "VAL",
          "min"
         ],
         "dtype": "float64",
         "stats": {
          "unique_count": 263,
          "nan_count": 0,
          "min": "0.21",
          "max": "18.38",
          "histogram": [
           {
            "bin_start": 0.21,
            "bin_end": 2.0269999999999997,
            "count": 98
           },
           {
            "bin_start": 2.0269999999999997,
            "bin_end": 3.8439999999999994,
            "count": 244
           },
           {
            "bin_start": 3.8439999999999994,
            "bin_end": 5.660999999999999,
            "count": 233
           },
           {
            "bin_start": 5.660999999999999,
            "bin_end": 7.477999999999999,
            "count": 158
           },
           {
            "bin_start": 7.477999999999999,
            "bin_end": 9.295,
            "count": 104
           },
           {
            "bin_start": 9.295,
            "bin_end": 11.111999999999998,
            "count": 62
           },
           {
            "bin_start": 11.111999999999998,
            "bin_end": 12.928999999999998,
            "count": 26
           },
           {
            "bin_start": 12.928999999999998,
            "bin_end": 14.745999999999999,
            "count": 9
           },
           {
            "bin_start": 14.745999999999999,
            "bin_end": 16.563,
            "count": 4
           },
           {
            "bin_start": 16.563,
            "bin_end": 18.38,
            "count": 1
           }
          ]
         }
        },
        {
         "name": [
          "VAL",
          "max"
         ],
         "dtype": "float64",
         "stats": {
          "unique_count": 397,
          "nan_count": 0,
          "min": "3.08",
          "max": "33.37",
          "histogram": [
           {
            "bin_start": 3.08,
            "bin_end": 6.109,
            "count": 9
           },
           {
            "bin_start": 6.109,
            "bin_end": 9.138,
            "count": 39
           },
           {
            "bin_start": 9.138,
            "bin_end": 12.167,
            "count": 124
           },
           {
            "bin_start": 12.167,
            "bin_end": 15.196,
            "count": 198
           },
           {
            "bin_start": 15.196,
            "bin_end": 18.225,
            "count": 246
           },
           {
            "bin_start": 18.225,
            "bin_end": 21.253999999999998,
            "count": 157
           },
           {
            "bin_start": 21.253999999999998,
            "bin_end": 24.283,
            "count": 108
           },
           {
            "bin_start": 24.283,
            "bin_end": 27.311999999999998,
            "count": 41
           },
           {
            "bin_start": 27.311999999999998,
            "bin_end": 30.341,
            "count": 13
           },
           {
            "bin_start": 30.341,
            "bin_end": 33.37,
            "count": 4
           }
          ]
         }
        },
        {
         "name": [
          "VAL",
          "mean"
         ],
         "dtype": "float64",
         "stats": {
          "unique_count": 901,
          "nan_count": 0,
          "min": "2.4528571428571424",
          "max": "23.715714285714284",
          "histogram": [
           {
            "bin_start": 2.4528571428571424,
            "bin_end": 4.579142857142857,
            "count": 22
           },
           {
            "bin_start": 4.579142857142857,
            "bin_end": 6.7054285714285715,
            "count": 93
           },
           {
            "bin_start": 6.7054285714285715,
            "bin_end": 8.831714285714286,
            "count": 174
           },
           {
            "bin_start": 8.831714285714286,
            "bin_end": 10.958,
            "count": 238
           },
           {
            "bin_start": 10.958,
            "bin_end": 13.084285714285715,
            "count": 200
           },
           {
            "bin_start": 13.084285714285715,
            "bin_end": 15.210571428571429,
            "count": 117
           },
           {
            "bin_start": 15.210571428571429,
            "bin_end": 17.33685714285714,
            "count": 68
           },
           {
            "bin_start": 17.33685714285714,
            "bin_end": 19.463142857142856,
            "count": 18
           },
           {
            "bin_start": 19.463142857142856,
            "bin_end": 21.58942857142857,
            "count": 8
           },
           {
            "bin_start": 21.58942857142857,
            "bin_end": 23.715714285714284,
            "count": 1
           }
          ]
         }
        },
        {
         "name": [
          "VAL",
          "std"
         ],
         "dtype": "float64",
         "stats": {
          "unique_count": 938,
          "nan_count": 0,
          "min": "0.4433154310742764",
          "max": "10.348757919489202",
          "histogram": [
           {
            "bin_start": 0.4433154310742764,
            "bin_end": 1.433859679915769,
            "count": 15
           },
           {
            "bin_start": 1.433859679915769,
            "bin_end": 2.424403928757261,
            "count": 97
           },
           {
            "bin_start": 2.424403928757261,
            "bin_end": 3.414948177598754,
            "count": 234
           },
           {
            "bin_start": 3.414948177598754,
            "bin_end": 4.405492426440246,
            "count": 228
           },
           {
            "bin_start": 4.405492426440246,
            "bin_end": 5.396036675281739,
            "count": 192
           },
           {
            "bin_start": 5.396036675281739,
            "bin_end": 6.386580924123232,
            "count": 98
           },
           {
            "bin_start": 6.386580924123232,
            "bin_end": 7.377125172964725,
            "count": 42
           },
           {
            "bin_start": 7.377125172964725,
            "bin_end": 8.367669421806216,
            "count": 24
           },
           {
            "bin_start": 8.367669421806216,
            "bin_end": 9.358213670647709,
            "count": 6
           },
           {
            "bin_start": 9.358213670647709,
            "bin_end": 10.348757919489202,
            "count": 3
           }
          ]
         }
        },
        {
         "name": [
          "ROS",
          "min"
         ],
         "dtype": "float64",
         "stats": {
          "unique_count": 234,
          "nan_count": 0,
          "min": "1.5",
          "max": "15.21",
          "histogram": [
           {
            "bin_start": 1.5,
            "bin_end": 2.871,
            "count": 33
           },
           {
            "bin_start": 2.871,
            "bin_end": 4.242,
            "count": 118
           },
           {
            "bin_start": 4.242,
            "bin_end": 5.6129999999999995,
            "count": 195
           },
           {
            "bin_start": 5.6129999999999995,
            "bin_end": 6.984,
            "count": 230
           },
           {
            "bin_start": 6.984,
            "bin_end": 8.355,
            "count": 188
           },
           {
            "bin_start": 8.355,
            "bin_end": 9.725999999999999,
            "count": 102
           },
           {
            "bin_start": 9.725999999999999,
            "bin_end": 11.097,
            "count": 38
           },
           {
            "bin_start": 11.097,
            "bin_end": 12.468,
            "count": 20
           },
           {
            "bin_start": 12.468,
            "bin_end": 13.839,
            "count": 10
           },
           {
            "bin_start": 13.839,
            "bin_end": 15.21,
            "count": 5
           }
          ]
         }
        },
        {
         "name": [
          "ROS",
          "max"
         ],
         "dtype": "float64",
         "stats": {
          "unique_count": 385,
          "nan_count": 0,
          "min": "6.96",
          "max": "33.84",
          "histogram": [
           {
            "bin_start": 6.96,
            "bin_end": 9.648,
            "count": 31
           },
           {
            "bin_start": 9.648,
            "bin_end": 12.336,
            "count": 79
           },
           {
            "bin_start": 12.336,
            "bin_end": 15.024000000000001,
            "count": 163
           },
           {
            "bin_start": 15.024000000000001,
            "bin_end": 17.712,
            "count": 228
           },
           {
            "bin_start": 17.712,
            "bin_end": 20.400000000000002,
            "count": 179
           },
           {
            "bin_start": 20.400000000000002,
            "bin_end": 23.088,
            "count": 119
           },
           {
            "bin_start": 23.088,
            "bin_end": 25.776000000000003,
            "count": 75
           },
           {
            "bin_start": 25.776000000000003,
            "bin_end": 28.464000000000002,
            "count": 45
           },
           {
            "bin_start": 28.464000000000002,
            "bin_end": 31.152,
            "count": 12
           },
           {
            "bin_start": 31.152,
            "bin_end": 33.84,
            "count": 8
           }
          ]
         }
        },
        {
         "name": [
          "ROS",
          "mean"
         ],
         "dtype": "float64",
         "stats": {
          "unique_count": 886,
          "nan_count": 0,
          "min": "4.901428571428572",
          "max": "21.384285714285713",
          "histogram": [
           {
            "bin_start": 4.901428571428572,
            "bin_end": 6.549714285714286,
            "count": 25
           },
           {
            "bin_start": 6.549714285714286,
            "bin_end": 8.198,
            "count": 82
           },
           {
            "bin_start": 8.198,
            "bin_end": 9.846285714285713,
            "count": 154
           },
           {
            "bin_start": 9.846285714285713,
            "bin_end": 11.49457142857143,
            "count": 210
           },
           {
            "bin_start": 11.49457142857143,
            "bin_end": 13.142857142857142,
            "count": 207
           },
           {
            "bin_start": 13.142857142857142,
            "bin_end": 14.791142857142855,
            "count": 129
           },
           {
            "bin_start": 14.791142857142855,
            "bin_end": 16.43942857142857,
            "count": 78
           },
           {
            "bin_start": 16.43942857142857,
            "bin_end": 18.087714285714284,
            "count": 42
           },
           {
            "bin_start": 18.087714285714284,
            "bin_end": 19.736,
            "count": 9
           },
           {
            "bin_start": 19.736,
            "bin_end": 21.384285714285713,
            "count": 3
           }
          ]
         }
        },
        {
         "name": [
          "ROS",
          "std"
         ],
         "dtype": "float64",
         "stats": {
          "unique_count": 939,
          "nan_count": 0,
          "min": "0.8187272352342299",
          "max": "10.298890601372927",
          "histogram": [
           {
            "bin_start": 0.8187272352342299,
            "bin_end": 1.7667435718480995,
            "count": 47
           },
           {
            "bin_start": 1.7667435718480995,
            "bin_end": 2.7147599084619696,
            "count": 151
           },
           {
            "bin_start": 2.7147599084619696,
            "bin_end": 3.662776245075839,
            "count": 206
           },
           {
            "bin_start": 3.662776245075839,
            "bin_end": 4.610792581689709,
            "count": 229
           },
           {
            "bin_start": 4.610792581689709,
            "bin_end": 5.558808918303578,
            "count": 135
           },
           {
            "bin_start": 5.558808918303578,
            "bin_end": 6.506825254917448,
            "count": 83
           },
           {
            "bin_start": 6.506825254917448,
            "bin_end": 7.454841591531318,
            "count": 48
           },
           {
            "bin_start": 7.454841591531318,
            "bin_end": 8.402857928145188,
            "count": 19
           },
           {
            "bin_start": 8.402857928145188,
            "bin_end": 9.350874264759057,
            "count": 9
           },
           {
            "bin_start": 9.350874264759057,
            "bin_end": 10.298890601372927,
            "count": 12
           }
          ]
         }
        },
        {
         "name": [
          "KIL",
          "min"
         ],
         "dtype": "float64",
         "stats": {
          "unique_count": 181,
          "nan_count": 0,
          "min": "0.0",
          "max": "9.42",
          "histogram": [
           {
            "bin_start": 0,
            "bin_end": 0.942,
            "count": 107
           },
           {
            "bin_start": 0.942,
            "bin_end": 1.884,
            "count": 220
           },
           {
            "bin_start": 1.884,
            "bin_end": 2.8259999999999996,
            "count": 231
           },
           {
            "bin_start": 2.8259999999999996,
            "bin_end": 3.768,
            "count": 154
           },
           {
            "bin_start": 3.768,
            "bin_end": 4.71,
            "count": 105
           },
           {
            "bin_start": 4.71,
            "bin_end": 5.651999999999999,
            "count": 53
           },
           {
            "bin_start": 5.651999999999999,
            "bin_end": 6.593999999999999,
            "count": 36
           },
           {
            "bin_start": 6.593999999999999,
            "bin_end": 7.536,
            "count": 14
           },
           {
            "bin_start": 7.536,
            "bin_end": 8.478,
            "count": 16
           },
           {
            "bin_start": 8.478,
            "bin_end": 9.42,
            "count": 3
           }
          ]
         }
        },
        {
         "name": [
          "KIL",
          "max"
         ],
         "dtype": "float64",
         "stats": {
          "unique_count": 340,
          "nan_count": 0,
          "min": "2.29",
          "max": "28.46",
          "histogram": [
           {
            "bin_start": 2.29,
            "bin_end": 4.907,
            "count": 35
           },
           {
            "bin_start": 4.907,
            "bin_end": 7.524,
            "count": 145
           },
           {
            "bin_start": 7.524,
            "bin_end": 10.141,
            "count": 266
           },
           {
            "bin_start": 10.141,
            "bin_end": 12.758,
            "count": 252
           },
           {
            "bin_start": 12.758,
            "bin_end": 15.375,
            "count": 143
           },
           {
            "bin_start": 15.375,
            "bin_end": 17.992,
            "count": 63
           },
           {
            "bin_start": 17.992,
            "bin_end": 20.608999999999998,
            "count": 26
           },
           {
            "bin_start": 20.608999999999998,
            "bin_end": 23.226,
            "count": 5
           },
           {
            "bin_start": 23.226,
            "bin_end": 25.843,
            "count": 3
           },
           {
            "bin_start": 25.843,
            "bin_end": 28.46,
            "count": 1
           }
          ]
         }
        },
        {
         "name": [
          "KIL",
          "mean"
         ],
         "dtype": "float64",
         "stats": {
          "unique_count": 878,
          "nan_count": 0,
          "min": "1.4471428571428573",
          "max": "14.517142857142856",
          "histogram": [
           {
            "bin_start": 1.4471428571428573,
            "bin_end": 2.754142857142857,
            "count": 27
           },
           {
            "bin_start": 2.754142857142857,
            "bin_end": 4.061142857142857,
            "count": 110
           },
           {
            "bin_start": 4.061142857142857,
            "bin_end": 5.368142857142857,
            "count": 201
           },
           {
            "bin_start": 5.368142857142857,
            "bin_end": 6.675142857142857,
            "count": 230
           },
           {
            "bin_start": 6.675142857142857,
            "bin_end": 7.982142857142858,
            "count": 175
           },
           {
            "bin_start": 7.982142857142858,
            "bin_end": 9.289142857142856,
            "count": 102
           },
           {
            "bin_start": 9.289142857142856,
            "bin_end": 10.596142857142857,
            "count": 59
           },
           {
            "bin_start": 10.596142857142857,
            "bin_end": 11.903142857142857,
            "count": 21
           },
           {
            "bin_start": 11.903142857142857,
            "bin_end": 13.210142857142857,
            "count": 10
           },
           {
            "bin_start": 13.210142857142857,
            "bin_end": 14.517142857142856,
            "count": 4
           }
          ]
         }
        },
        {
         "name": [
          "KIL",
          "std"
         ],
         "dtype": "float64",
         "stats": {
          "unique_count": 939,
          "nan_count": 0,
          "min": "0.3899328391500504",
          "max": "8.121382711266422",
          "histogram": [
           {
            "bin_start": 0.3899328391500504,
            "bin_end": 1.1630778263616874,
            "count": 38
           },
           {
            "bin_start": 1.1630778263616874,
            "bin_end": 1.9362228135733246,
            "count": 199
           },
           {
            "bin_start": 1.9362228135733246,
            "bin_end": 2.7093678007849618,
            "count": 250
           },
           {
            "bin_start": 2.7093678007849618,
            "bin_end": 3.482512787996599,
            "count": 201
           },
           {
            "bin_start": 3.482512787996599,
            "bin_end": 4.2556577752082365,
            "count": 124
           },
           {
            "bin_start": 4.2556577752082365,
            "bin_end": 5.028802762419874,
            "count": 73
           },
           {
            "bin_start": 5.028802762419874,
            "bin_end": 5.801947749631511,
            "count": 37
           },
           {
            "bin_start": 5.801947749631511,
            "bin_end": 6.575092736843148,
            "count": 10
           },
           {
            "bin_start": 6.575092736843148,
            "bin_end": 7.348237724054785,
            "count": 5
           },
           {
            "bin_start": 7.348237724054785,
            "bin_end": 8.121382711266422,
            "count": 2
           }
          ]
         }
        },
        {
         "name": [
          "SHA",
          "min"
         ],
         "dtype": "float64",
         "stats": {
          "unique_count": 257,
          "nan_count": 0,
          "min": "0.13",
          "max": "15.0",
          "histogram": [
           {
            "bin_start": 0.13,
            "bin_end": 1.617,
            "count": 34
           },
           {
            "bin_start": 1.617,
            "bin_end": 3.1039999999999996,
            "count": 122
           },
           {
            "bin_start": 3.1039999999999996,
            "bin_end": 4.590999999999999,
            "count": 242
           },
           {
            "bin_start": 4.590999999999999,
            "bin_end": 6.077999999999999,
            "count": 172
           },
           {
            "bin_start": 6.077999999999999,
            "bin_end": 7.5649999999999995,
            "count": 145
           },
           {
            "bin_start": 7.5649999999999995,
            "bin_end": 9.052,
            "count": 122
           },
           {
            "bin_start": 9.052,
            "bin_end": 10.539,
            "count": 57
           },
           {
            "bin_start": 10.539,
            "bin_end": 12.026,
            "count": 27
           },
           {
            "bin_start": 12.026,
            "bin_end": 13.513,
            "count": 11
           },
           {
            "bin_start": 13.513,
            "bin_end": 15,
            "count": 7
           }
          ]
         }
        },
        {
         "name": [
          "SHA",
          "max"
         ],
         "dtype": "float64",
         "stats": {
          "unique_count": 401,
          "nan_count": 0,
          "min": "4.83",
          "max": "37.54",
          "histogram": [
           {
            "bin_start": 4.83,
            "bin_end": 8.100999999999999,
            "count": 34
           },
           {
            "bin_start": 8.100999999999999,
            "bin_end": 11.372,
            "count": 114
           },
           {
            "bin_start": 11.372,
            "bin_end": 14.642999999999999,
            "count": 225
           },
           {
            "bin_start": 14.642999999999999,
            "bin_end": 17.914,
            "count": 247
           },
           {
            "bin_start": 17.914,
            "bin_end": 21.185000000000002,
            "count": 173
           },
           {
            "bin_start": 21.185000000000002,
            "bin_end": 24.455999999999996,
            "count": 98
           },
           {
            "bin_start": 24.455999999999996,
            "bin_end": 27.726999999999997,
            "count": 34
           },
           {
            "bin_start": 27.726999999999997,
            "bin_end": 30.997999999999998,
            "count": 10
           },
           {
            "bin_start": 30.997999999999998,
            "bin_end": 34.269,
            "count": 3
           },
           {
            "bin_start": 34.269,
            "bin_end": 37.54,
            "count": 1
           }
          ]
         }
        },
        {
         "name": [
          "SHA",
          "mean"
         ],
         "dtype": "float64",
         "stats": {
          "unique_count": 898,
          "nan_count": 0,
          "min": "2.775714285714286",
          "max": "22.897142857142857",
          "histogram": [
           {
            "bin_start": 2.775714285714286,
            "bin_end": 4.787857142857143,
            "count": 28
           },
           {
            "bin_start": 4.787857142857143,
            "bin_end": 6.8,
            "count": 89
           },
           {
            "bin_start": 6.8,
            "bin_end": 8.812142857142856,
            "count": 167
           },
           {
            "bin_start": 8.812142857142856,
            "bin_end": 10.824285714285715,
            "count": 245
           },
           {
            "bin_start": 10.824285714285715,
            "bin_end": 12.83642857142857,
            "count": 195
           },
           {
            "bin_start": 12.83642857142857,
            "bin_end": 14.848571428571429,
            "count": 130
           },
           {
            "bin_start": 14.848571428571429,
            "bin_end": 16.860714285714284,
            "count": 60
           },
           {
            "bin_start": 16.860714285714284,
            "bin_end": 18.872857142857143,
            "count": 20
           },
           {
            "bin_start": 18.872857142857143,
            "bin_end": 20.884999999999998,
            "count": 4
           },
           {
            "bin_start": 20.884999999999998,
            "bin_end": 22.897142857142857,
            "count": 1
           }
          ]
         }
        },
        {
         "name": [
          "SHA",
          "std"
         ],
         "dtype": "float64",
         "stats": {
          "unique_count": 939,
          "nan_count": 0,
          "min": "0.6140808074636742",
          "max": "9.589728383858978",
          "histogram": [
           {
            "bin_start": 0.6140808074636742,
            "bin_end": 1.5116455651032046,
            "count": 35
           },
           {
            "bin_start": 1.5116455651032046,
            "bin_end": 2.409210322742735,
            "count": 134
           },
           {
            "bin_start": 2.409210322742735,
            "bin_end": 3.3067750803822653,
            "count": 212
           },
           {
            "bin_start": 3.3067750803822653,
            "bin_end": 4.204339838021796,
            "count": 209
           },
           {
            "bin_start": 4.204339838021796,
            "bin_end": 5.101904595661326,
            "count": 171
           },
           {
            "bin_start": 5.101904595661326,
            "bin_end": 5.9994693533008565,
            "count": 100
           },
           {
            "bin_start": 5.9994693533008565,
            "bin_end": 6.897034110940386,
            "count": 49
           },
           {
            "bin_start": 6.897034110940386,
            "bin_end": 7.794598868579917,
            "count": 16
           },
           {
            "bin_start": 7.794598868579917,
            "bin_end": 8.692163626219447,
            "count": 10
           },
           {
            "bin_start": 8.692163626219447,
            "bin_end": 9.589728383858978,
            "count": 3
           }
          ]
         }
        },
        {
         "name": [
          "BIR",
          "min"
         ],
         "dtype": "float64",
         "stats": {
          "unique_count": 206,
          "nan_count": 0,
          "min": "0.0",
          "max": "11.54",
          "histogram": [
           {
            "bin_start": 0,
            "bin_end": 1.154,
            "count": 215
           },
           {
            "bin_start": 1.154,
            "bin_end": 2.308,
            "count": 193
           },
           {
            "bin_start": 2.308,
            "bin_end": 3.4619999999999997,
            "count": 181
           },
           {
            "bin_start": 3.4619999999999997,
            "bin_end": 4.616,
            "count": 116
           },
           {
            "bin_start": 4.616,
            "bin_end": 5.77,
            "count": 100
           },
           {
            "bin_start": 5.77,
            "bin_end": 6.9239999999999995,
            "count": 71
           },
           {
            "bin_start": 6.9239999999999995,
            "bin_end": 8.078,
            "count": 36
           },
           {
            "bin_start": 8.078,
            "bin_end": 9.232,
            "count": 16
           },
           {
            "bin_start": 9.232,
            "bin_end": 10.386,
            "count": 6
           },
           {
            "bin_start": 10.386,
            "bin_end": 11.54,
            "count": 5
           }
          ]
         }
        },
        {
         "name": [
          "BIR",
          "max"
         ],
         "dtype": "float64",
         "stats": {
          "unique_count": 327,
          "nan_count": 0,
          "min": "2.04",
          "max": "26.16",
          "histogram": [
           {
            "bin_start": 2.04,
            "bin_end": 4.452,
            "count": 17
           },
           {
            "bin_start": 4.452,
            "bin_end": 6.864,
            "count": 68
           },
           {
            "bin_start": 6.864,
            "bin_end": 9.276,
            "count": 169
           },
           {
            "bin_start": 9.276,
            "bin_end": 11.687999999999999,
            "count": 257
           },
           {
            "bin_start": 11.687999999999999,
            "bin_end": 14.099999999999998,
            "count": 226
           },
           {
            "bin_start": 14.099999999999998,
            "bin_end": 16.512,
            "count": 111
           },
           {
            "bin_start": 16.512,
            "bin_end": 18.924,
            "count": 62
           },
           {
            "bin_start": 18.924,
            "bin_end": 21.336,
            "count": 22
           },
           {
            "bin_start": 21.336,
            "bin_end": 23.747999999999998,
            "count": 4
           },
           {
            "bin_start": 23.747999999999998,
            "bin_end": 26.16,
            "count": 3
           }
          ]
         }
        },
        {
         "name": [
          "BIR",
          "mean"
         ],
         "dtype": "float64",
         "stats": {
          "unique_count": 884,
          "nan_count": 0,
          "min": "1.3828571428571428",
          "max": "16.009999999999998",
          "histogram": [
           {
            "bin_start": 1.3828571428571428,
            "bin_end": 2.8455714285714286,
            "count": 39
           },
           {
            "bin_start": 2.8455714285714286,
            "bin_end": 4.308285714285714,
            "count": 105
           },
           {
            "bin_start": 4.308285714285714,
            "bin_end": 5.770999999999999,
            "count": 153
           },
           {
            "bin_start": 5.770999999999999,
            "bin_end": 7.233714285714285,
            "count": 228
           },
           {
            "bin_start": 7.233714285714285,
            "bin_end": 8.696428571428571,
            "count": 164
           },
           {
            "bin_start": 8.696428571428571,
            "bin_end": 10.159142857142855,
            "count": 131
           },
           {
            "bin_start": 10.159142857142855,
            "bin_end": 11.621857142857142,
            "count": 77
           },
           {
            "bin_start": 11.621857142857142,
            "bin_end": 13.084571428571428,
            "count": 30
           },
           {
            "bin_start": 13.084571428571428,
            "bin_end": 14.547285714285714,
            "count": 10
           },
           {
            "bin_start": 14.547285714285714,
            "bin_end": 16.009999999999998,
            "count": 2
           }
          ]
         }
        },
        {
         "name": [
          "BIR",
          "std"
         ],
         "dtype": "float64",
         "stats": {
          "unique_count": 939,
          "nan_count": 0,
          "min": "0.47568997506879673",
          "max": "9.038098725474764",
          "histogram": [
           {
            "bin_start": 0.47568997506879673,
            "bin_end": 1.3319308501093934,
            "count": 36
           },
           {
            "bin_start": 1.3319308501093934,
            "bin_end": 2.1881717251499904,
            "count": 177
           },
           {
            "bin_start": 2.1881717251499904,
            "bin_end": 3.044412600190587,
            "count": 296
           },
           {
            "bin_start": 3.044412600190587,
            "bin_end": 3.900653475231184,
            "count": 234
           },
           {
            "bin_start": 3.900653475231184,
            "bin_end": 4.75689435027178,
            "count": 119
           },
           {
            "bin_start": 4.75689435027178,
            "bin_end": 5.6131352253123765,
            "count": 49
           },
           {
            "bin_start": 5.6131352253123765,
            "bin_end": 6.4693761003529735,
            "count": 20
           },
           {
            "bin_start": 6.4693761003529735,
            "bin_end": 7.3256169753935705,
            "count": 5
           },
           {
            "bin_start": 7.3256169753935705,
            "bin_end": 8.181857850434168,
            "count": 2
           },
           {
            "bin_start": 8.181857850434168,
            "bin_end": 9.038098725474764,
            "count": 1
           }
          ]
         }
        },
        {
         "name": [
          "DUB",
          "min"
         ],
         "dtype": "float64",
         "stats": {
          "unique_count": 252,
          "nan_count": 0,
          "min": "0.0",
          "max": "17.08",
          "histogram": [
           {
            "bin_start": 0,
            "bin_end": 1.7079999999999997,
            "count": 73
           },
           {
            "bin_start": 1.7079999999999997,
            "bin_end": 3.4159999999999995,
            "count": 222
           },
           {
            "bin_start": 3.4159999999999995,
            "bin_end": 5.123999999999999,
            "count": 232
           },
           {
            "bin_start": 5.123999999999999,
            "bin_end": 6.831999999999999,
            "count": 185
           },
           {
            "bin_start": 6.831999999999999,
            "bin_end": 8.54,
            "count": 128
           },
           {
            "bin_start": 8.54,
            "bin_end": 10.247999999999998,
            "count": 57
           },
           {
            "bin_start": 10.247999999999998,
            "bin_end": 11.955999999999998,
            "count": 30
           },
           {
            "bin_start": 11.955999999999998,
            "bin_end": 13.663999999999998,
            "count": 7
           },
           {
            "bin_start": 13.663999999999998,
            "bin_end": 15.371999999999998,
            "count": 4
           },
           {
            "bin_start": 15.371999999999998,
            "bin_end": 17.08,
            "count": 1
           }
          ]
         }
        },
        {
         "name": [
          "DUB",
          "max"
         ],
         "dtype": "float64",
         "stats": {
          "unique_count": 404,
          "nan_count": 0,
          "min": "3.29",
          "max": "30.37",
          "histogram": [
           {
            "bin_start": 3.29,
            "bin_end": 5.998,
            "count": 15
           },
           {
            "bin_start": 5.998,
            "bin_end": 8.706,
            "count": 64
           },
           {
            "bin_start": 8.706,
            "bin_end": 11.414000000000001,
            "count": 128
           },
           {
            "bin_start": 11.414000000000001,
            "bin_end": 14.122,
            "count": 187
           },
           {
            "bin_start": 14.122,
            "bin_end": 16.830000000000002,
            "count": 204
           },
           {
            "bin_start": 16.830000000000002,
            "bin_end": 19.538,
            "count": 150
           },
           {
            "bin_start": 19.538,
            "bin_end": 22.246000000000002,
            "count": 116
           },
           {
            "bin_start": 22.246000000000002,
            "bin_end": 24.954,
            "count": 42
           },
           {
            "bin_start": 24.954,
            "bin_end": 27.662,
            "count": 21
           },
           {
            "bin_start": 27.662,
            "bin_end": 30.37,
            "count": 12
           }
          ]
         }
        },
        {
         "name": [
          "DUB",
          "mean"
         ],
         "dtype": "float64",
         "stats": {
          "unique_count": 891,
          "nan_count": 0,
          "min": "2.4714285714285715",
          "max": "20.474285714285713",
          "histogram": [
           {
            "bin_start": 2.4714285714285715,
            "bin_end": 4.271714285714285,
            "count": 37
           },
           {
            "bin_start": 4.271714285714285,
            "bin_end": 6.072,
            "count": 84
           },
           {
            "bin_start": 6.072,
            "bin_end": 7.872285714285715,
            "count": 160
           },
           {
            "bin_start": 7.872285714285715,
            "bin_end": 9.672571428571429,
            "count": 203
           },
           {
            "bin_start": 9.672571428571429,
            "bin_end": 11.472857142857142,
            "count": 177
           },
           {
            "bin_start": 11.472857142857142,
            "bin_end": 13.273142857142858,
            "count": 136
           },
           {
            "bin_start": 13.273142857142858,
            "bin_end": 15.073428571428572,
            "count": 76
           },
           {
            "bin_start": 15.073428571428572,
            "bin_end": 16.873714285714286,
            "count": 42
           },
           {
            "bin_start": 16.873714285714286,
            "bin_end": 18.674,
            "count": 19
           },
           {
            "bin_start": 18.674,
            "bin_end": 20.474285714285713,
            "count": 5
           }
          ]
         }
        },
        {
         "name": [
          "DUB",
          "std"
         ],
         "dtype": "float64",
         "stats": {
          "unique_count": 939,
          "nan_count": 0,
          "min": "0.5499004238864307",
          "max": "9.77435078833031",
          "histogram": [
           {
            "bin_start": 0.5499004238864307,
            "bin_end": 1.4723454603308186,
            "count": 38
           },
           {
            "bin_start": 1.4723454603308186,
            "bin_end": 2.3947904967752063,
            "count": 156
           },
           {
            "bin_start": 2.3947904967752063,
            "bin_end": 3.317235533219595,
            "count": 204
           },
           {
            "bin_start": 3.317235533219595,
            "bin_end": 4.2396805696639825,
            "count": 223
           },
           {
            "bin_start": 4.2396805696639825,
            "bin_end": 5.16212560610837,
            "count": 159
           },
           {
            "bin_start": 5.16212560610837,
            "bin_end": 6.084570642552759,
            "count": 98
           },
           {
            "bin_start": 6.084570642552759,
            "bin_end": 7.0070156789971465,
            "count": 31
           },
           {
            "bin_start": 7.0070156789971465,
            "bin_end": 7.929460715441534,
            "count": 23
           },
           {
            "bin_start": 7.929460715441534,
            "bin_end": 8.851905751885923,
            "count": 4
           },
           {
            "bin_start": 8.851905751885923,
            "bin_end": 9.77435078833031,
            "count": 3
           }
          ]
         }
        },
        {
         "name": [
          "CLA",
          "min"
         ],
         "dtype": "float64",
         "stats": {
          "unique_count": 233,
          "nan_count": 0,
          "min": "0.0",
          "max": "14.29",
          "histogram": [
           {
            "bin_start": 0,
            "bin_end": 1.4289999999999998,
            "count": 152
           },
           {
            "bin_start": 1.4289999999999998,
            "bin_end": 2.8579999999999997,
            "count": 229
           },
           {
            "bin_start": 2.8579999999999997,
            "bin_end": 4.286999999999999,
            "count": 173
           },
           {
            "bin_start": 4.286999999999999,
            "bin_end": 5.715999999999999,
            "count": 171
           },
           {
            "bin_start": 5.715999999999999,
            "bin_end": 7.145,
            "count": 120
           },
           {
            "bin_start": 7.145,
            "bin_end": 8.573999999999998,
            "count": 50
           },
           {
            "bin_start": 8.573999999999998,
            "bin_end": 10.002999999999998,
            "count": 22
           },
           {
            "bin_start": 10.002999999999998,
            "bin_end": 11.431999999999999,
            "count": 12
           },
           {
            "bin_start": 11.431999999999999,
            "bin_end": 12.860999999999999,
            "count": 8
           },
           {
            "bin_start": 12.860999999999999,
            "bin_end": 14.29,
            "count": 2
           }
          ]
         }
        },
        {
         "name": [
          "CLA",
          "max"
         ],
         "dtype": "float64",
         "stats": {
          "unique_count": 361,
          "nan_count": 0,
          "min": "3.67",
          "max": "31.08",
          "histogram": [
           {
            "bin_start": 3.67,
            "bin_end": 6.411,
            "count": 26
           },
           {
            "bin_start": 6.411,
            "bin_end": 9.152,
            "count": 90
           },
           {
            "bin_start": 9.152,
            "bin_end": 11.892999999999999,
            "count": 218
           },
           {
            "bin_start": 11.892999999999999,
            "bin_end": 14.633999999999999,
            "count": 252
           },
           {
            "bin_start": 14.633999999999999,
            "bin_end": 17.375,
            "count": 184
           },
           {
            "bin_start": 17.375,
            "bin_end": 20.116,
            "count": 96
           },
           {
            "bin_start": 20.116,
            "bin_end": 22.857,
            "count": 55
           },
           {
            "bin_start": 22.857,
            "bin_end": 25.598,
            "count": 11
           },
           {
            "bin_start": 25.598,
            "bin_end": 28.339,
            "count": 5
           },
           {
            "bin_start": 28.339,
            "bin_end": 31.08,
            "count": 2
           }
          ]
         }
        },
        {
         "name": [
          "CLA",
          "mean"
         ],
         "dtype": "float64",
         "stats": {
          "unique_count": 887,
          "nan_count": 0,
          "min": "2.2842857142857147",
          "max": "17.861428571428572",
          "histogram": [
           {
            "bin_start": 2.2842857142857147,
            "bin_end": 3.8420000000000005,
            "count": 43
           },
           {
            "bin_start": 3.8420000000000005,
            "bin_end": 5.3997142857142855,
            "count": 89
           },
           {
            "bin_start": 5.3997142857142855,
            "bin_end": 6.957428571428571,
            "count": 158
           },
           {
            "bin_start": 6.957428571428571,
            "bin_end": 8.515142857142857,
            "count": 202
           },
           {
            "bin_start": 8.515142857142857,
            "bin_end": 10.072857142857142,
            "count": 175
           },
           {
            "bin_start": 10.072857142857142,
            "bin_end": 11.630571428571429,
            "count": 137
           },
           {
            "bin_start": 11.630571428571429,
            "bin_end": 13.188285714285715,
            "count": 87
           },
           {
            "bin_start": 13.188285714285715,
            "bin_end": 14.745999999999999,
            "count": 28
           },
           {
            "bin_start": 14.745999999999999,
            "bin_end": 16.303714285714285,
            "count": 16
           },
           {
            "bin_start": 16.303714285714285,
            "bin_end": 17.861428571428572,
            "count": 4
           }
          ]
         }
        },
        {
         "name": [
          "CLA",
          "std"
         ],
         "dtype": "float64",
         "stats": {
          "unique_count": 939,
          "nan_count": 0,
          "min": "0.5685905715848951",
          "max": "9.061599774663991",
          "histogram": [
           {
            "bin_start": 0.5685905715848951,
            "bin_end": 1.4178914918928047,
            "count": 25
           },
           {
            "bin_start": 1.4178914918928047,
            "bin_end": 2.267192412200714,
            "count": 135
           },
           {
            "bin_start": 2.267192412200714,
            "bin_end": 3.1164933325086244,
            "count": 220
           },
           {
            "bin_start": 3.1164933325086244,
            "bin_end": 3.9657942528165337,
            "count": 247
           },
           {
            "bin_start": 3.9657942528165337,
            "bin_end": 4.815095173124443,
            "count": 167
           },
           {
            "bin_start": 4.815095173124443,
            "bin_end": 5.664396093432353,
            "count": 87
           },
           {
            "bin_start": 5.664396093432353,
            "bin_end": 6.513697013740263,
            "count": 33
           },
           {
            "bin_start": 6.513697013740263,
            "bin_end": 7.362997934048172,
            "count": 16
           },
           {
            "bin_start": 7.362997934048172,
            "bin_end": 8.212298854356082,
            "count": 7
           },
           {
            "bin_start": 8.212298854356082,
            "bin_end": 9.061599774663991,
            "count": 2
           }
          ]
         }
        },
        {
         "name": [
          "MUL",
          "min"
         ],
         "dtype": "float64",
         "stats": {
          "unique_count": 228,
          "nan_count": 0,
          "min": "0.0",
          "max": "13.0",
          "histogram": [
           {
            "bin_start": 0,
            "bin_end": 1.3,
            "count": 93
           },
           {
            "bin_start": 1.3,
            "bin_end": 2.6,
            "count": 192
           },
           {
            "bin_start": 2.6,
            "bin_end": 3.9000000000000004,
            "count": 189
           },
           {
            "bin_start": 3.9000000000000004,
            "bin_end": 5.2,
            "count": 160
           },
           {
            "bin_start": 5.2,
            "bin_end": 6.5,
            "count": 135
           },
           {
            "bin_start": 6.5,
            "bin_end": 7.800000000000001,
            "count": 92
           },
           {
            "bin_start": 7.800000000000001,
            "bin_end": 9.1,
            "count": 41
           },
           {
            "bin_start": 9.1,
            "bin_end": 10.4,
            "count": 25
           },
           {
            "bin_start": 10.4,
            "bin_end": 11.700000000000001,
            "count": 7
           },
           {
            "bin_start": 11.700000000000001,
            "bin_end": 13,
            "count": 5
           }
          ]
         }
        },
        {
         "name": [
          "MUL",
          "max"
         ],
         "dtype": "float64",
         "stats": {
          "unique_count": 339,
          "nan_count": 0,
          "min": "4.0",
          "max": "25.88",
          "histogram": [
           {
            "bin_start": 4,
            "bin_end": 6.188,
            "count": 16
           },
           {
            "bin_start": 6.188,
            "bin_end": 8.376,
            "count": 76
           },
           {
            "bin_start": 8.376,
            "bin_end": 10.564,
            "count": 145
           },
           {
            "bin_start": 10.564,
            "bin_end": 12.751999999999999,
            "count": 189
           },
           {
            "bin_start": 12.751999999999999,
            "bin_end": 14.939999999999998,
            "count": 229
           },
           {
            "bin_start": 14.939999999999998,
            "bin_end": 17.128,
            "count": 146
           },
           {
            "bin_start": 17.128,
            "bin_end": 19.316,
            "count": 73
           },
           {
            "bin_start": 19.316,
            "bin_end": 21.503999999999998,
            "count": 45
           },
           {
            "bin_start": 21.503999999999998,
            "bin_end": 23.691999999999997,
            "count": 13
           },
           {
            "bin_start": 23.691999999999997,
            "bin_end": 25.88,
            "count": 7
           }
          ]
         }
        },
        {
         "name": [
          "MUL",
          "mean"
         ],
         "dtype": "float64",
         "stats": {
          "unique_count": 888,
          "nan_count": 0,
          "min": "2.262857142857143",
          "max": "17.46",
          "histogram": [
           {
            "bin_start": 2.262857142857143,
            "bin_end": 3.782571428571429,
            "count": 23
           },
           {
            "bin_start": 3.782571428571429,
            "bin_end": 5.3022857142857145,
            "count": 86
           },
           {
            "bin_start": 5.3022857142857145,
            "bin_end": 6.822000000000001,
            "count": 154
           },
           {
            "bin_start": 6.822000000000001,
            "bin_end": 8.341714285714286,
            "count": 192
           },
           {
            "bin_start": 8.341714285714286,
            "bin_end": 9.861428571428572,
            "count": 217
           },
           {
            "bin_start": 9.861428571428572,
            "bin_end": 11.381142857142859,
            "count": 134
           },
           {
            "bin_start": 11.381142857142859,
            "bin_end": 12.900857142857143,
            "count": 79
           },
           {
            "bin_start": 12.900857142857143,
            "bin_end": 14.42057142857143,
            "count": 32
           },
           {
            "bin_start": 14.42057142857143,
            "bin_end": 15.940285714285716,
            "count": 18
           },
           {
            "bin_start": 15.940285714285716,
            "bin_end": 17.46,
            "count": 4
           }
          ]
         }
        },
        {
         "name": [
          "MUL",
          "std"
         ],
         "dtype": "float64",
         "stats": {
          "unique_count": 939,
          "nan_count": 0,
          "min": "0.7694586841843207",
          "max": "8.157950839810319",
          "histogram": [
           {
            "bin_start": 0.7694586841843207,
            "bin_end": 1.5083078997469204,
            "count": 41
           },
           {
            "bin_start": 1.5083078997469204,
            "bin_end": 2.2471571153095202,
            "count": 166
           },
           {
            "bin_start": 2.2471571153095202,
            "bin_end": 2.9860063308721196,
            "count": 212
           },
           {
            "bin_start": 2.9860063308721196,
            "bin_end": 3.7248555464347195,
            "count": 225
           },
           {
            "bin_start": 3.7248555464347195,
            "bin_end": 4.463704761997319,
            "count": 140
           },
           {
            "bin_start": 4.463704761997319,
            "bin_end": 5.202553977559919,
            "count": 96
           },
           {
            "bin_start": 5.202553977559919,
            "bin_end": 5.941403193122519,
            "count": 37
           },
           {
            "bin_start": 5.941403193122519,
            "bin_end": 6.680252408685119,
            "count": 12
           },
           {
            "bin_start": 6.680252408685119,
            "bin_end": 7.419101624247719,
            "count": 6
           },
           {
            "bin_start": 7.419101624247719,
            "bin_end": 8.157950839810319,
            "count": 4
           }
          ]
         }
        },
        {
         "name": [
          "CLO",
          "min"
         ],
         "dtype": "float64",
         "stats": {
          "unique_count": 237,
          "nan_count": 0,
          "min": "0.04",
          "max": "14.25",
          "histogram": [
           {
            "bin_start": 0.04,
            "bin_end": 1.461,
            "count": 130
           },
           {
            "bin_start": 1.461,
            "bin_end": 2.882,
            "count": 205
           },
           {
            "bin_start": 2.882,
            "bin_end": 4.303,
            "count": 192
           },
           {
            "bin_start": 4.303,
            "bin_end": 5.724,
            "count": 162
           },
           {
            "bin_start": 5.724,
            "bin_end": 7.1450000000000005,
            "count": 116
           },
           {
            "bin_start": 7.1450000000000005,
            "bin_end": 8.565999999999999,
            "count": 71
           },
           {
            "bin_start": 8.565999999999999,
            "bin_end": 9.987,
            "count": 34
           },
           {
            "bin_start": 9.987,
            "bin_end": 11.408,
            "count": 17
           },
           {
            "bin_start": 11.408,
            "bin_end": 12.828999999999999,
            "count": 9
           },
           {
            "bin_start": 12.828999999999999,
            "bin_end": 14.25,
            "count": 3
           }
          ]
         }
        },
        {
         "name": [
          "CLO",
          "max"
         ],
         "dtype": "float64",
         "stats": {
          "unique_count": 366,
          "nan_count": 0,
          "min": "3.08",
          "max": "28.21",
          "histogram": [
           {
            "bin_start": 3.08,
            "bin_end": 5.593,
            "count": 21
           },
           {
            "bin_start": 5.593,
            "bin_end": 8.106000000000002,
            "count": 55
           },
           {
            "bin_start": 8.106000000000002,
            "bin_end": 10.619000000000002,
            "count": 133
           },
           {
            "bin_start": 10.619000000000002,
            "bin_end": 13.132000000000001,
            "count": 211
           },
           {
            "bin_start": 13.132000000000001,
            "bin_end": 15.645000000000001,
            "count": 206
           },
           {
            "bin_start": 15.645000000000001,
            "bin_end": 18.158,
            "count": 173
           },
           {
            "bin_start": 18.158,
            "bin_end": 20.671,
            "count": 83
           },
           {
            "bin_start": 20.671,
            "bin_end": 23.184000000000005,
            "count": 40
           },
           {
            "bin_start": 23.184000000000005,
            "bin_end": 25.697000000000003,
            "count": 14
           },
           {
            "bin_start": 25.697000000000003,
            "bin_end": 28.21,
            "count": 3
           }
          ]
         }
        },
        {
         "name": [
          "CLO",
          "mean"
         ],
         "dtype": "float64",
         "stats": {
          "unique_count": 890,
          "nan_count": 0,
          "min": "1.5714285714285714",
          "max": "17.93285714285714",
          "histogram": [
           {
            "bin_start": 1.5714285714285714,
            "bin_end": 3.2075714285714283,
            "count": 14
           },
           {
            "bin_start": 3.2075714285714283,
            "bin_end": 4.843714285714285,
            "count": 71
           },
           {
            "bin_start": 4.843714285714285,
            "bin_end": 6.479857142857142,
            "count": 142
           },
           {
            "bin_start": 6.479857142857142,
            "bin_end": 8.116,
            "count": 189
           },
           {
            "bin_start": 8.116,
            "bin_end": 9.752142857142855,
            "count": 194
           },
           {
            "bin_start": 9.752142857142855,
            "bin_end": 11.388285714285713,
            "count": 160
           },
           {
            "bin_start": 11.388285714285713,
            "bin_end": 13.024428571428569,
            "count": 97
           },
           {
            "bin_start": 13.024428571428569,
            "bin_end": 14.660571428571426,
            "count": 44
           },
           {
            "bin_start": 14.660571428571426,
            "bin_end": 16.296714285714284,
            "count": 20
           },
           {
            "bin_start": 16.296714285714284,
            "bin_end": 17.93285714285714,
            "count": 8
           }
          ]
         }
        },
        {
         "name": [
          "CLO",
          "std"
         ],
         "dtype": "float64",
         "stats": {
          "unique_count": 939,
          "nan_count": 0,
          "min": "0.5518367598518692",
          "max": "9.290141472089031",
          "histogram": [
           {
            "bin_start": 0.5518367598518692,
            "bin_end": 1.4256672310755856,
            "count": 25
           },
           {
            "bin_start": 1.4256672310755856,
            "bin_end": 2.299497702299302,
            "count": 157
           },
           {
            "bin_start": 2.299497702299302,
            "bin_end": 3.173328173523018,
            "count": 238
           },
           {
            "bin_start": 3.173328173523018,
            "bin_end": 4.047158644746734,
            "count": 237
           },
           {
            "bin_start": 4.047158644746734,
            "bin_end": 4.920989115970451,
            "count": 157
           },
           {
            "bin_start": 4.920989115970451,
            "bin_end": 5.794819587194167,
            "count": 74
           },
           {
            "bin_start": 5.794819587194167,
            "bin_end": 6.668650058417883,
            "count": 38
           },
           {
            "bin_start": 6.668650058417883,
            "bin_end": 7.542480529641599,
            "count": 8
           },
           {
            "bin_start": 7.542480529641599,
            "bin_end": 8.416311000865315,
            "count": 4
           },
           {
            "bin_start": 8.416311000865315,
            "bin_end": 9.290141472089031,
            "count": 1
           }
          ]
         }
        },
        {
         "name": [
          "BEL",
          "min"
         ],
         "dtype": "float64",
         "stats": {
          "unique_count": 303,
          "nan_count": 0,
          "min": "0.13",
          "max": "21.04",
          "histogram": [
           {
            "bin_start": 0.13,
            "bin_end": 2.221,
            "count": 27
           },
           {
            "bin_start": 2.221,
            "bin_end": 4.312,
            "count": 145
           },
           {
            "bin_start": 4.312,
            "bin_end": 6.4030000000000005,
            "count": 274
           },
           {
            "bin_start": 6.4030000000000005,
            "bin_end": 8.494000000000002,
            "count": 203
           },
           {
            "bin_start": 8.494000000000002,
            "bin_end": 10.585000000000003,
            "count": 134
           },
           {
            "bin_start": 10.585000000000003,
            "bin_end": 12.676000000000002,
            "count": 87
           },
           {
            "bin_start": 12.676000000000002,
            "bin_end": 14.767000000000001,
            "count": 41
           },
           {
            "bin_start": 14.767000000000001,
            "bin_end": 16.858,
            "count": 22
           },
           {
            "bin_start": 16.858,
            "bin_end": 18.949,
            "count": 2
           },
           {
            "bin_start": 18.949,
            "bin_end": 21.04,
            "count": 4
           }
          ]
         }
        },
        {
         "name": [
          "BEL",
          "max"
         ],
         "dtype": "float64",
         "stats": {
          "unique_count": 429,
          "nan_count": 0,
          "min": "6.58",
          "max": "42.38",
          "histogram": [
           {
            "bin_start": 6.58,
            "bin_end": 10.16,
            "count": 25
           },
           {
            "bin_start": 10.16,
            "bin_end": 13.740000000000002,
            "count": 96
           },
           {
            "bin_start": 13.740000000000002,
            "bin_end": 17.32,
            "count": 194
           },
           {
            "bin_start": 17.32,
            "bin_end": 20.900000000000002,
            "count": 236
           },
           {
            "bin_start": 20.900000000000002,
            "bin_end": 24.480000000000004,
            "count": 228
           },
           {
            "bin_start": 24.480000000000004,
            "bin_end": 28.060000000000002,
            "count": 96
           },
           {
            "bin_start": 28.060000000000002,
            "bin_end": 31.64,
            "count": 43
           },
           {
            "bin_start": 31.64,
            "bin_end": 35.220000000000006,
            "count": 15
           },
           {
            "bin_start": 35.220000000000006,
            "bin_end": 38.800000000000004,
            "count": 3
           },
           {
            "bin_start": 38.800000000000004,
            "bin_end": 42.38,
            "count": 3
           }
          ]
         }
        },
        {
         "name": [
          "BEL",
          "mean"
         ],
         "dtype": "float64",
         "stats": {
          "unique_count": 910,
          "nan_count": 0,
          "min": "3.661428571428572",
          "max": "26.617142857142856",
          "histogram": [
           {
            "bin_start": 3.661428571428572,
            "bin_end": 5.957000000000001,
            "count": 11
           },
           {
            "bin_start": 5.957000000000001,
            "bin_end": 8.252571428571429,
            "count": 71
           },
           {
            "bin_start": 8.252571428571429,
            "bin_end": 10.548142857142857,
            "count": 171
           },
           {
            "bin_start": 10.548142857142857,
            "bin_end": 12.843714285714285,
            "count": 216
           },
           {
            "bin_start": 12.843714285714285,
            "bin_end": 15.139285714285712,
            "count": 208
           },
           {
            "bin_start": 15.139285714285712,
            "bin_end": 17.434857142857144,
            "count": 136
           },
           {
            "bin_start": 17.434857142857144,
            "bin_end": 19.730428571428572,
            "count": 78
           },
           {
            "bin_start": 19.730428571428572,
            "bin_end": 22.026,
            "count": 33
           },
           {
            "bin_start": 22.026,
            "bin_end": 24.321571428571428,
            "count": 10
           },
           {
            "bin_start": 24.321571428571428,
            "bin_end": 26.617142857142856,
            "count": 5
           }
          ]
         }
        },
        {
         "name": [
          "BEL",
          "std"
         ],
         "dtype": "float64",
         "stats": {
          "unique_count": 939,
          "nan_count": 0,
          "min": "0.9855527818002879",
          "max": "11.621803400751292",
          "histogram": [
           {
            "bin_start": 0.9855527818002879,
            "bin_end": 2.049177843695388,
            "count": 39
           },
           {
            "bin_start": 2.049177843695388,
            "bin_end": 3.1128029055904882,
            "count": 154
           },
           {
            "bin_start": 3.1128029055904882,
            "bin_end": 4.176427967485589,
            "count": 247
           },
           {
            "bin_start": 4.176427967485589,
            "bin_end": 5.240053029380689,
            "count": 223
           },
           {
            "bin_start": 5.240053029380689,
            "bin_end": 6.303678091275789,
            "count": 146
           },
           {
            "bin_start": 6.303678091275789,
            "bin_end": 7.367303153170889,
            "count": 73
           },
           {
            "bin_start": 7.367303153170889,
            "bin_end": 8.43092821506599,
            "count": 34
           },
           {
            "bin_start": 8.43092821506599,
            "bin_end": 9.49455327696109,
            "count": 18
           },
           {
            "bin_start": 9.49455327696109,
            "bin_end": 10.558178338856191,
            "count": 3
           },
           {
            "bin_start": 10.558178338856191,
            "bin_end": 11.621803400751292,
            "count": 2
           }
          ]
         }
        },
        {
         "name": [
          "MAL",
          "min"
         ],
         "dtype": "float64",
         "stats": {
          "unique_count": 343,
          "nan_count": 0,
          "min": "0.67",
          "max": "24.54",
          "histogram": [
           {
            "bin_start": 0.67,
            "bin_end": 3.0569999999999995,
            "count": 32
           },
           {
            "bin_start": 3.0569999999999995,
            "bin_end": 5.443999999999999,
            "count": 168
           },
           {
            "bin_start": 5.443999999999999,
            "bin_end": 7.830999999999999,
            "count": 215
           },
           {
            "bin_start": 7.830999999999999,
            "bin_end": 10.217999999999998,
            "count": 186
           },
           {
            "bin_start": 10.217999999999998,
            "bin_end": 12.604999999999999,
            "count": 161
           },
           {
            "bin_start": 12.604999999999999,
            "bin_end": 14.991999999999997,
            "count": 100
           },
           {
            "bin_start": 14.991999999999997,
            "bin_end": 17.378999999999998,
            "count": 47
           },
           {
            "bin_start": 17.378999999999998,
            "bin_end": 19.766,
            "count": 18
           },
           {
            "bin_start": 19.766,
            "bin_end": 22.153,
            "count": 10
           },
           {
            "bin_start": 22.153,
            "bin_end": 24.54,
            "count": 2
           }
          ]
         }
        },
        {
         "name": [
          "MAL",
          "max"
         ],
         "dtype": "float64",
         "stats": {
          "unique_count": 473,
          "nan_count": 0,
          "min": "7.5",
          "max": "42.54",
          "histogram": [
           {
            "bin_start": 7.5,
            "bin_end": 11.004,
            "count": 17
           },
           {
            "bin_start": 11.004,
            "bin_end": 14.508,
            "count": 47
           },
           {
            "bin_start": 14.508,
            "bin_end": 18.012,
            "count": 155
           },
           {
            "bin_start": 18.012,
            "bin_end": 21.516,
            "count": 185
           },
           {
            "bin_start": 21.516,
            "bin_end": 25.02,
            "count": 182
           },
           {
            "bin_start": 25.02,
            "bin_end": 28.524,
            "count": 178
           },
           {
            "bin_start": 28.524,
            "bin_end": 32.028,
            "count": 91
           },
           {
            "bin_start": 32.028,
            "bin_end": 35.532,
            "count": 58
           },
           {
            "bin_start": 35.532,
            "bin_end": 39.036,
            "count": 20
           },
           {
            "bin_start": 39.036,
            "bin_end": 42.54,
            "count": 6
           }
          ]
         }
        },
        {
         "name": [
          "MAL",
          "mean"
         ],
         "dtype": "float64",
         "stats": {
          "unique_count": 906,
          "nan_count": 0,
          "min": "5.1242857142857146",
          "max": "30.374285714285715",
          "histogram": [
           {
            "bin_start": 5.1242857142857146,
            "bin_end": 7.649285714285714,
            "count": 29
           },
           {
            "bin_start": 7.649285714285714,
            "bin_end": 10.174285714285714,
            "count": 71
           },
           {
            "bin_start": 10.174285714285714,
            "bin_end": 12.699285714285715,
            "count": 167
           },
           {
            "bin_start": 12.699285714285715,
            "bin_end": 15.224285714285713,
            "count": 185
           },
           {
            "bin_start": 15.224285714285713,
            "bin_end": 17.749285714285715,
            "count": 189
           },
           {
            "bin_start": 17.749285714285715,
            "bin_end": 20.274285714285714,
            "count": 153
           },
           {
            "bin_start": 20.274285714285714,
            "bin_end": 22.799285714285716,
            "count": 90
           },
           {
            "bin_start": 22.799285714285716,
            "bin_end": 25.324285714285715,
            "count": 39
           },
           {
            "bin_start": 25.324285714285715,
            "bin_end": 27.849285714285713,
            "count": 12
           },
           {
            "bin_start": 27.849285714285713,
            "bin_end": 30.374285714285715,
            "count": 4
           }
          ]
         }
        },
        {
         "name": [
          "MAL",
          "std"
         ],
         "dtype": "float64",
         "stats": {
          "unique_count": 939,
          "nan_count": 0,
          "min": "0.9568126651494934",
          "max": "13.039065661823063",
          "histogram": [
           {
            "bin_start": 0.9568126651494934,
            "bin_end": 2.1650379648168503,
            "count": 40
           },
           {
            "bin_start": 2.1650379648168503,
            "bin_end": 3.373263264484207,
            "count": 116
           },
           {
            "bin_start": 3.373263264484207,
            "bin_end": 4.581488564151564,
            "count": 253
           },
           {
            "bin_start": 4.581488564151564,
            "bin_end": 5.78971386381892,
            "count": 239
           },
           {
            "bin_start": 5.78971386381892,
            "bin_end": 6.997939163486277,
            "count": 148
           },
           {
            "bin_start": 6.997939163486277,
            "bin_end": 8.206164463153634,
            "count": 89
           },
           {
            "bin_start": 8.206164463153634,
            "bin_end": 9.414389762820992,
            "count": 35
           },
           {
            "bin_start": 9.414389762820992,
            "bin_end": 10.622615062488348,
            "count": 15
           },
           {
            "bin_start": 10.622615062488348,
            "bin_end": 11.830840362155705,
            "count": 2
           },
           {
            "bin_start": 11.830840362155705,
            "bin_end": 13.039065661823063,
            "count": 2
           }
          ]
         }
        },
        {
         "name": "_deepnote_index_column",
         "dtype": "datetime64[ns]"
        }
       ],
       "rows_top": [
        {
         "('RPT', 'min')": 10.58,
         "('RPT', 'max')": 18.5,
         "('RPT', 'mean')": 13.54142857142857,
         "('RPT', 'std')": 2.6313205086130464,
         "('VAL', 'min')": 6.63,
         "('VAL', 'max')": 16.88,
         "('VAL', 'mean')": 11.486666666666665,
         "('VAL', 'std')": 3.9495248659385176,
         "('ROS', 'min')": 7.62,
         "('ROS', 'max')": 12.33,
         "('ROS', 'mean')": 10.487142857142857,
         "('ROS', 'std')": 1.6047607743390107,
         "('KIL', 'min')": 4.58,
         "('KIL', 'max')": 10.13,
         "('KIL', 'mean')": 6.417142857142857,
         "('KIL', 'std')": 1.810743072937317,
         "('SHA', 'min')": 4.54,
         "('SHA', 'max')": 12.62,
         "('SHA', 'mean')": 9.474285714285713,
         "('SHA', 'std')": 3.251660381727347,
         "('BIR', 'min')": 2.88,
         "('BIR', 'max')": 8.33,
         "('BIR', 'mean')": 6.435714285714285,
         "('BIR', 'std')": 2.0595457196742615,
         "('DUB', 'min')": 8.63,
         "('DUB', 'max')": 14.29,
         "('DUB', 'mean')": 11.061428571428573,
         "('DUB', 'std')": 1.8722217512127897,
         "('CLA', 'min')": 1.79,
         "('CLA', 'max')": 10.04,
         "('CLA', 'mean')": 6.616666666666666,
         "('CLA', 'std')": 3.0984038901774356,
         "('MUL', 'min')": 5.83,
         "('MUL', 'max')": 10.92,
         "('MUL', 'mean')": 8.434285714285714,
         "('MUL', 'std')": 1.7222548896031342,
         "('CLO', 'min')": 5.88,
         "('CLO', 'max')": 10.46,
         "('CLO', 'mean')": 8.497142857142858,
         "('CLO', 'std')": 1.7049409988394937,
         "('BEL', 'min')": 5.46,
         "('BEL', 'max')": 17.54,
         "('BEL', 'mean')": 12.481428571428571,
         "('BEL', 'std')": 4.349139487957852,
         "('MAL', 'min')": 10.88,
         "('MAL', 'max')": 16.46,
         "('MAL', 'mean')": 13.238571428571431,
         "('MAL', 'std')": 1.7730616512258166,
         "_deepnote_index_column": "1961-01-08T00:00:00.000000"
        },
        {
         "('RPT', 'min')": 9.04,
         "('RPT', 'max')": 19.75,
         "('RPT', 'mean')": 12.468571428571428,
         "('RPT', 'std')": 3.555392282957576,
         "('VAL', 'min')": 3.54,
         "('VAL', 'max')": 12.08,
         "('VAL', 'mean')": 8.967142857142857,
         "('VAL', 'std')": 3.1489454016951677,
         "('ROS', 'min')": 7.08,
         "('ROS', 'max')": 19.5,
         "('ROS', 'mean')": 11.958571428571428,
         "('ROS', 'std')": 5.034959213907724,
         "('KIL', 'min')": 0.67,
         "('KIL', 'max')": 10.54,
         "('KIL', 'mean')": 4.630000000000001,
         "('KIL', 'std')": 3.5495586580118186,
         "('SHA', 'min')": 2.29,
         "('SHA', 'max')": 10.37,
         "('SHA', 'mean')": 7.351428571428571,
         "('SHA', 'std')": 3.4717259327863066,
         "('BIR', 'min')": 0.96,
         "('BIR', 'max')": 9.46,
         "('BIR', 'mean')": 5.072857142857144,
         "('BIR', 'std')": 3.25103939423335,
         "('DUB', 'min')": 2.5,
         "('DUB', 'max')": 15.54,
         "('DUB', 'mean')": 7.535714285714286,
         "('DUB', 'std')": 4.709309422632498,
         "('CLA', 'min')": 0.58,
         "('CLA', 'max')": 11.5,
         "('CLA', 'mean')": 6.819999999999999,
         "('CLA', 'std')": 3.9368938686905612,
         "('MUL', 'min')": 0.5,
         "('MUL', 'max')": 10.37,
         "('MUL', 'mean')": 5.712857142857142,
         "('MUL', 'std')": 3.500974694213571,
         "('CLO', 'min')": 2.67,
         "('CLO', 'max')": 14.58,
         "('CLO', 'mean')": 7.571428571428571,
         "('CLO', 'std')": 4.084292793011738,
         "('BEL', 'min')": 5.25,
         "('BEL', 'max')": 20.71,
         "('BEL', 'mean')": 11.125714285714286,
         "('BEL', 'std')": 5.552215345075805,
         "('MAL', 'min')": 5.17,
         "('MAL', 'max')": 16.92,
         "('MAL', 'mean')": 11.024285714285716,
         "('MAL', 'std')": 4.692354977843774,
         "_deepnote_index_column": "1961-01-15T00:00:00.000000"
        },
        {
         "('RPT', 'min')": 4.92,
         "('RPT', 'max')": 19.83,
         "('RPT', 'mean')": 13.204285714285716,
         "('RPT', 'std')": 5.33740216816776,
         "('VAL', 'min')": 3.42,
         "('VAL', 'max')": 14.37,
         "('VAL', 'mean')": 9.862857142857141,
         "('VAL', 'std')": 3.837784579179826,
         "('ROS', 'min')": 7.29,
         "('ROS', 'max')": 20.79,
         "('ROS', 'mean')": 12.982857142857142,
         "('ROS', 'std')": 5.086228839673241,
         "('KIL', 'min')": 1.04,
         "('KIL', 'max')": 18.54,
         "('KIL', 'mean')": 6.328571428571428,
         "('KIL', 'std')": 6.245540885494302,
         "('SHA', 'min')": 3.67,
         "('SHA', 'max')": 13.96,
         "('SHA', 'mean')": 8.966666666666667,
         "('SHA', 'std')": 3.6128751246987023,
         "('BIR', 'min')": 3.17,
         "('BIR', 'max')": 13.37,
         "('BIR', 'mean')": 7.417142857142857,
         "('BIR', 'std')": 3.4534316956022857,
         "('DUB', 'min')": 3.17,
         "('DUB', 'max')": 17.83,
         "('DUB', 'mean')": 9.257142857142856,
         "('DUB', 'std')": 5.166300140609055,
         "('CLA', 'min')": 2.79,
         "('CLA', 'max')": 11.38,
         "('CLA', 'mean')": 7.875714285714286,
         "('CLA', 'std')": 3.1649900323321565,
         "('MUL', 'min')": 1.92,
         "('MUL', 'max')": 14.67,
         "('MUL', 'mean')": 7.145714285714287,
         "('MUL', 'std')": 4.169112044320139,
         "('CLO', 'min')": 2.71,
         "('CLO', 'max')": 16.71,
         "('CLO', 'mean')": 8.124285714285714,
         "('CLO', 'std')": 4.78395184320403,
         "('BEL', 'min')": 6.5,
         "('BEL', 'max')": 15.92,
         "('BEL', 'mean')": 9.821428571428571,
         "('BEL', 'std')": 3.626584382820051,
         "('MAL', 'min')": 6.79,
         "('MAL', 'max')": 17.96,
         "('MAL', 'mean')": 11.434285714285712,
         "('MAL', 'std')": 4.237239105608183,
         "_deepnote_index_column": "1961-01-22T00:00:00.000000"
        },
        {
         "('RPT', 'min')": 13.62,
         "('RPT', 'max')": 25.04,
         "('RPT', 'mean')": 19.88,
         "('RPT', 'std')": 4.619060510536748,
         "('VAL', 'min')": 9.96,
         "('VAL', 'max')": 23.91,
         "('VAL', 'mean')": 16.14142857142857,
         "('VAL', 'std')": 5.170223813889905,
         "('ROS', 'min')": 12.67,
         "('ROS', 'max')": 25.84,
         "('ROS', 'mean')": 18.225714285714282,
         "('ROS', 'std')": 4.665843464808398,
         "('KIL', 'min')": 6.04,
         "('KIL', 'max')": 17.54,
         "('KIL', 'mean')": 12.719999999999999,
         "('KIL', 'std')": 4.3013253771366795,
         "('SHA', 'min')": 10,
         "('SHA', 'max')": 24.08,
         "('SHA', 'mean')": 17.43285714285714,
         "('SHA', 'std')": 4.858115938940782,
         "('BIR', 'min')": 9.42,
         "('BIR', 'max')": 19.7,
         "('BIR', 'mean')": 14.828571428571427,
         "('BIR', 'std')": 3.749415192495262,
         "('DUB', 'min')": 9.25,
         "('DUB', 'max')": 22,
         "('DUB', 'mean')": 15.528571428571427,
         "('DUB', 'std')": 4.50844921072804,
         "('CLA', 'min')": 8.71,
         "('CLA', 'max')": 20.25,
         "('CLA', 'mean')": 15.159999999999998,
         "('CLA', 'std')": 4.436222116471025,
         "('MUL', 'min')": 7.12,
         "('MUL', 'max')": 21.46,
         "('MUL', 'mean')": 14.479999999999999,
         "('MUL', 'std')": 4.902057391204909,
         "('CLO', 'min')": 11.04,
         "('CLO', 'max')": 19.95,
         "('CLO', 'mean')": 15.64,
         "('CLO', 'std')": 3.7133677437065127,
         "('BEL', 'min')": 14.04,
         "('BEL', 'max')": 27.71,
         "('BEL', 'mean')": 20.93,
         "('BEL', 'std')": 5.210726117026944,
         "('MAL', 'min')": 17.5,
         "('MAL', 'max')": 27.63,
         "('MAL', 'mean')": 22.529999999999998,
         "('MAL', 'std')": 3.874721495367979,
         "_deepnote_index_column": "1961-01-29T00:00:00.000000"
        },
        {
         "('RPT', 'min')": 10.58,
         "('RPT', 'max')": 24.21,
         "('RPT', 'mean')": 16.827142857142857,
         "('RPT', 'std')": 5.251408427859185,
         "('VAL', 'min')": 9.46,
         "('VAL', 'max')": 24.21,
         "('VAL', 'mean')": 15.459999999999999,
         "('VAL', 'std')": 5.1873949788566005,
         "('ROS', 'min')": 9.04,
         "('ROS', 'max')": 19.7,
         "('ROS', 'mean')": 12.618571428571428,
         "('ROS', 'std')": 3.975166363694433,
         "('KIL', 'min')": 5.09,
         "('KIL', 'max')": 11.96,
         "('KIL', 'mean')": 8.247142857142858,
         "('KIL', 'std')": 2.709106336572477,
         "('SHA', 'min')": 9.87,
         "('SHA', 'max')": 17.37,
         "('SHA', 'mean')": 13.361428571428572,
         "('SHA', 'std')": 2.3346193734841707,
         "('BIR', 'min')": 5.83,
         "('BIR', 'max')": 12.04,
         "('BIR', 'mean')": 9.107142857142858,
         "('BIR', 'std')": 2.397065666502236,
         "('DUB', 'min')": 8.5,
         "('DUB', 'max')": 14.88,
         "('DUB', 'mean')": 12.204285714285716,
         "('DUB', 'std')": 2.42345385172249,
         "('CLA', 'min')": 3.63,
         "('CLA', 'max')": 15.54,
         "('CLA', 'mean')": 8.54857142857143,
         "('CLA', 'std')": 4.081157632222458,
         "('MUL', 'min')": 6.34,
         "('MUL', 'max')": 13.37,
         "('MUL', 'mean')": 9.821428571428571,
         "('MUL', 'std')": 2.80248953950726,
         "('CLO', 'min')": 5.5,
         "('CLO', 'max')": 13.13,
         "('CLO', 'mean')": 9.459999999999999,
         "('CLO', 'std')": 2.8395011298935366,
         "('BEL', 'min')": 9.17,
         "('BEL', 'max')": 19.33,
         "('BEL', 'mean')": 14.012857142857142,
         "('BEL', 'std')": 4.210857847223508,
         "('MAL', 'min')": 7.17,
         "('MAL', 'max')": 19.25,
         "('MAL', 'mean')": 11.935714285714285,
         "('MAL', 'std')": 4.3361036931899175,
         "_deepnote_index_column": "1961-02-05T00:00:00.000000"
        },
        {
         "('RPT', 'min')": 16,
         "('RPT', 'max')": 24.54,
         "('RPT', 'mean')": 19.684285714285714,
         "('RPT', 'std')": 3.5876773226460275,
         "('VAL', 'min')": 11.54,
         "('VAL', 'max')": 21.42,
         "('VAL', 'mean')": 16.417142857142856,
         "('VAL', 'std')": 3.608373198943972,
         "('ROS', 'min')": 13.67,
         "('ROS', 'max')": 21.34,
         "('ROS', 'mean')": 17.304285714285715,
         "('ROS', 'std')": 3.290303213701624,
         "('KIL', 'min')": 8.38,
         "('KIL', 'max')": 15.37,
         "('KIL', 'mean')": 10.774285714285712,
         "('KIL', 'std')": 2.262055533822111,
         "('SHA', 'min')": 8.12,
         "('SHA', 'max')": 25.33,
         "('SHA', 'mean')": 14.718571428571428,
         "('SHA', 'std')": 5.571108293602594,
         "('BIR', 'min')": 8.08,
         "('BIR', 'max')": 17.62,
         "('BIR', 'mean')": 12.522857142857143,
         "('BIR', 'std')": 3.0489764090358498,
         "('DUB', 'min')": 11.08,
         "('DUB', 'max')": 19.17,
         "('DUB', 'mean')": 14.934285714285712,
         "('DUB', 'std')": 2.974059275036154,
         "('CLA', 'min')": 9.71,
         "('CLA', 'max')": 18.79,
         "('CLA', 'mean')": 14.85,
         "('CLA', 'std')": 3.0227526086885326,
         "('MUL', 'min')": 10.37,
         "('MUL', 'max')": 18.96,
         "('MUL', 'mean')": 14.064285714285715,
         "('MUL', 'std')": 2.914760465532044,
         "('CLO', 'min')": 12.25,
         "('CLO', 'max')": 17.79,
         "('CLO', 'mean')": 14.44,
         "('CLO', 'std')": 1.7467493619100973,
         "('BEL', 'min')": 15.21,
         "('BEL', 'max')": 26.38,
         "('BEL', 'mean')": 21.83285714285714,
         "('BEL', 'std')": 4.063753249914477,
         "('MAL', 'min')": 17.04,
         "('MAL', 'max')": 21.84,
         "('MAL', 'mean')": 19.155714285714286,
         "('MAL', 'std')": 1.828704980242004,
         "_deepnote_index_column": "1961-02-12T00:00:00.000000"
        },
        {
         "('RPT', 'min')": 6.04,
         "('RPT', 'max')": 22.5,
         "('RPT', 'mean')": 15.129999999999999,
         "('RPT', 'std')": 5.064609231388604,
         "('VAL', 'min')": 11.63,
         "('VAL', 'max')": 20.17,
         "('VAL', 'mean')": 15.09142857142857,
         "('VAL', 'std')": 3.575012487490678,
         "('ROS', 'min')": 6.13,
         "('ROS', 'max')": 19.41,
         "('ROS', 'mean')": 13.797142857142859,
         "('ROS', 'std')": 4.1966205224589705,
         "('KIL', 'min')": 4.21,
         "('KIL', 'max')": 15.34,
         "('KIL', 'mean')": 10.083333333333334,
         "('KIL', 'std')": 4.311568933307998,
         "('SHA', 'min')": 9.87,
         "('SHA', 'max')": 16.13,
         "('SHA', 'mean')": 13.41,
         "('SHA', 'std')": 2.321716319162758,
         "('BIR', 'min')": 6.92,
         "('BIR', 'max')": 15.12,
         "('BIR', 'mean')": 11.86857142857143,
         "('BIR', 'std')": 3.02407797833449,
         "('DUB', 'min')": 3.42,
         "('DUB', 'max')": 16.08,
         "('DUB', 'mean')": 9.542857142857144,
         "('DUB', 'std')": 4.95863124355137,
         "('CLA', 'min')": 7.41,
         "('CLA', 'max')": 14.29,
         "('CLA', 'mean')": 12.128571428571428,
         "('CLA', 'std')": 2.2834435148946173,
         "('MUL', 'min')": 8.17,
         "('MUL', 'max')": 14.88,
         "('MUL', 'mean')": 12.375714285714286,
         "('MUL', 'std')": 2.5605914495343796,
         "('CLO', 'min')": 9.21,
         "('CLO', 'max')": 16.58,
         "('CLO', 'mean')": 13.542857142857143,
         "('CLO', 'std')": 2.5313613879077943,
         "('BEL', 'min')": 14.09,
         "('BEL', 'max')": 29.63,
         "('BEL', 'mean')": 21.16714285714286,
         "('BEL', 'std')": 5.9109382060879705,
         "('MAL', 'min')": 10.96,
         "('MAL', 'max')": 22.58,
         "('MAL', 'mean')": 16.584285714285716,
         "('MAL', 'std')": 4.685377455953992,
         "_deepnote_index_column": "1961-02-19T00:00:00.000000"
        },
        {
         "('RPT', 'min')": 7.79,
         "('RPT', 'max')": 25.8,
         "('RPT', 'mean')": 15.221428571428572,
         "('RPT', 'std')": 7.020715605908533,
         "('VAL', 'min')": 7.08,
         "('VAL', 'max')": 21.5,
         "('VAL', 'mean')": 13.625714285714285,
         "('VAL', 'std')": 5.1473483696069415,
         "('ROS', 'min')": 6.08,
         "('ROS', 'max')": 22.42,
         "('ROS', 'mean')": 14.334285714285715,
         "('ROS', 'std')": 5.5784700923665955,
         "('KIL', 'min')": 2.21,
         "('KIL', 'max')": 15.21,
         "('KIL', 'mean')": 8.524285714285714,
         "('KIL', 'std')": 4.4820748809112105,
         "('SHA', 'min')": 5.96,
         "('SHA', 'max')": 23.09,
         "('SHA', 'mean')": 13.655714285714286,
         "('SHA', 'std')": 6.480712042008083,
         "('BIR', 'min')": 4.33,
         "('BIR', 'max')": 16.88,
         "('BIR', 'mean')": 10.114285714285714,
         "('BIR', 'std')": 5.029873613862337,
         "('DUB', 'min')": 3.75,
         "('DUB', 'max')": 21.17,
         "('DUB', 'mean')": 11.15,
         "('DUB', 'std')": 6.0379163072481665,
         "('CLA', 'min')": 4.67,
         "('CLA', 'max')": 17.25,
         "('CLA', 'mean')": 10.875714285714285,
         "('CLA', 'std')": 4.869667535341803,
         "('MUL', 'min')": 4.5,
         "('MUL', 'max')": 18.46,
         "('MUL', 'mean')": 10.392857142857142,
         "('MUL', 'std')": 4.705162817890275,
         "('CLO', 'min')": 7,
         "('CLO', 'max')": 20.04,
         "('CLO', 'mean')": 12.729999999999999,
         "('CLO', 'std')": 4.920064362722639,
         "('BEL', 'min')": 9.59,
         "('BEL', 'max')": 23.21,
         "('BEL', 'mean')": 16.304285714285715,
         "('BEL', 'std')": 5.091161809590083,
         "('MAL', 'min')": 6.67,
         "('MAL', 'max')": 23.87,
         "('MAL', 'mean')": 14.322857142857144,
         "('MAL', 'std')": 6.182283058023452,
         "_deepnote_index_column": "1961-02-26T00:00:00.000000"
        },
        {
         "('RPT', 'min')": 10.96,
         "('RPT', 'max')": 13.33,
         "('RPT', 'mean')": 12.101428571428572,
         "('RPT', 'std')": 0.9977212130889163,
         "('VAL', 'min')": 8.83,
         "('VAL', 'max')": 17,
         "('VAL', 'mean')": 12.95142857142857,
         "('VAL', 'std')": 2.8519550520735106,
         "('ROS', 'min')": 8.17,
         "('ROS', 'max')": 13.67,
         "('ROS', 'mean')": 11.063333333333334,
         "('ROS', 'std')": 1.7968713550687665,
         "('KIL', 'min')": 5.88,
         "('KIL', 'max')": 10.04,
         "('KIL', 'mean')": 7.8342857142857145,
         "('KIL', 'std')": 1.652572309490643,
         "('SHA', 'min')": 8.25,
         "('SHA', 'max')": 16.13,
         "('SHA', 'mean')": 12.101428571428572,
         "('SHA', 'std')": 2.9571293995552996,
         "('BIR', 'min')": 6,
         "('BIR', 'max')": 12.29,
         "('BIR', 'mean')": 9.23857142857143,
         "('BIR', 'std')": 2.022246511279214,
         "('DUB', 'min')": 5.5,
         "('DUB', 'max')": 14.75,
         "('DUB', 'mean')": 10.232857142857142,
         "('DUB', 'std')": 3.338176719337041,
         "('CLA', 'min')": 5.66,
         "('CLA', 'max')": 14.46,
         "('CLA', 'mean')": 11.129999999999999,
         "('CLA', 'std')": 2.877394654891817,
         "('MUL', 'min')": 6.25,
         "('MUL', 'max')": 13.96,
         "('MUL', 'mean')": 10.383333333333335,
         "('MUL', 'std')": 2.610123879563319,
         "('CLO', 'min')": 9.79,
         "('CLO', 'max')": 14.09,
         "('CLO', 'mean')": 12.37,
         "('CLO', 'std')": 1.593685456209391,
         "('BEL', 'min')": 11.58,
         "('BEL', 'max')": 23.45,
         "('BEL', 'mean')": 17.84285714285714,
         "('BEL', 'std')": 4.332330836419406,
         "('MAL', 'min')": 8.83,
         "('MAL', 'max')": 17.54,
         "('MAL', 'mean')": 13.951666666666666,
         "('MAL', 'std')": 3.021386547045357,
         "_deepnote_index_column": "1961-03-05T00:00:00.000000"
        },
        {
         "('RPT', 'min')": 4.88,
         "('RPT', 'max')": 14.79,
         "('RPT', 'mean')": 9.376666666666667,
         "('RPT', 'std')": 3.7322629417910345,
         "('VAL', 'min')": 8.08,
         "('VAL', 'max')": 16.96,
         "('VAL', 'mean')": 11.578571428571427,
         "('VAL', 'std')": 3.2301673257558896,
         "('ROS', 'min')": 7.54,
         "('ROS', 'max')": 16.38,
         "('ROS', 'mean')": 10.845714285714285,
         "('ROS', 'std')": 3.5929090216835764,
         "('KIL', 'min')": 3.13,
         "('KIL', 'max')": 10.25,
         "('KIL', 'mean')": 7.137142857142856,
         "('KIL', 'std')": 2.609927931863984,
         "('SHA', 'min')": 5.41,
         "('SHA', 'max')": 14.92,
         "('SHA', 'mean')": 10.94,
         "('SHA', 'std')": 3.1108573309191367,
         "('BIR', 'min')": 4.08,
         "('BIR', 'max')": 13.67,
         "('BIR', 'mean')": 9.48857142857143,
         "('BIR', 'std')": 3.4404187175954255,
         "('DUB', 'min')": 1.71,
         "('DUB', 'max')": 17.12,
         "('DUB', 'mean')": 6.881428571428572,
         "('DUB', 'std')": 5.537268967555001,
         "('CLA', 'min')": 5.29,
         "('CLA', 'max')": 15.67,
         "('CLA', 'mean')": 9.637142857142859,
         "('CLA', 'std')": 3.7605572028876884,
         "('MUL', 'min')": 5.21,
         "('MUL', 'max')": 16.29,
         "('MUL', 'mean')": 9.885714285714284,
         "('MUL', 'std')": 3.657689877244275,
         "('CLO', 'min')": 5.09,
         "('CLO', 'max')": 15.79,
         "('CLO', 'mean')": 10.458571428571428,
         "('CLO', 'std')": 3.6551125316531112,
         "('BEL', 'min')": 10.21,
         "('BEL', 'max')": 22.71,
         "('BEL', 'mean')": 16.701428571428572,
         "('BEL', 'std')": 4.358759106945572,
         "('MAL', 'min')": 5.54,
         "('MAL', 'max')": 22.54,
         "('MAL', 'mean')": 14.42,
         "('MAL', 'std')": 5.769890235813271,
         "_deepnote_index_column": "1961-03-12T00:00:00.000000"
        }
       ],
       "rows_bottom": [
        {
         "('RPT', 'min')": 2.04,
         "('RPT', 'max')": 11.54,
         "('RPT', 'mean')": 7.5042857142857144,
         "('RPT', 'std')": 3.156500473324095,
         "('VAL', 'min')": 1.21,
         "('VAL', 'max')": 13.46,
         "('VAL', 'mean')": 7.702857142857143,
         "('VAL', 'std')": 4.152937571911054,
         "('ROS', 'min')": 5,
         "('ROS', 'max')": 12.21,
         "('ROS', 'mean')": 8.102857142857143,
         "('ROS', 'std')": 2.907677849451427,
         "('KIL', 'min')": 0.33,
         "('KIL', 'max')": 5.46,
         "('KIL', 'mean')": 3.204285714285714,
         "('KIL', 'std')": 1.8970842288703398,
         "('SHA', 'min')": 1.67,
         "('SHA', 'max')": 13.96,
         "('SHA', 'mean')": 7.464285714285714,
         "('SHA', 'std')": 3.9342718815678257,
         "('BIR', 'min')": 1.92,
         "('BIR', 'max')": 10.54,
         "('BIR', 'mean')": 5.905714285714287,
         "('BIR', 'std')": 2.9156123264410923,
         "('DUB', 'min')": 1.83,
         "('DUB', 'max')": 17.67,
         "('DUB', 'mean')": 8.727142857142857,
         "('DUB', 'std')": 6.532926129195387,
         "('CLA', 'min')": 2.33,
         "('CLA', 'max')": 11.87,
         "('CLA', 'mean')": 6.652857142857142,
         "('CLA', 'std')": 3.263171842883926,
         "('MUL', 'min')": 2.08,
         "('MUL', 'max')": 14.42,
         "('MUL', 'mean')": 7.605714285714285,
         "('MUL', 'std')": 4.56425188153494,
         "('CLO', 'min')": 4.88,
         "('CLO', 'max')": 11.87,
         "('CLO', 'mean')": 8.12,
         "('CLO', 'std')": 2.7967123556061315,
         "('BEL', 'min')": 7.54,
         "('BEL', 'max')": 18.38,
         "('BEL', 'mean')": 14.487142857142857,
         "('BEL', 'std')": 3.6844841985716004,
         "('MAL', 'min')": 12.62,
         "('MAL', 'max')": 22.37,
         "('MAL', 'mean')": 16.91571428571429,
         "('MAL', 'std')": 3.5938830306640814,
         "_deepnote_index_column": "1978-10-29T00:00:00.000000"
        },
        {
         "('RPT', 'min')": 8.58,
         "('RPT', 'max')": 18.75,
         "('RPT', 'mean')": 13.060000000000002,
         "('RPT', 'std')": 3.7871801295070893,
         "('VAL', 'min')": 4.29,
         "('VAL', 'max')": 19.04,
         "('VAL', 'mean')": 13.465714285714286,
         "('VAL', 'std')": 4.994833521225899,
         "('ROS', 'min')": 9.92,
         "('ROS', 'max')": 16.58,
         "('ROS', 'mean')": 12.137142857142857,
         "('ROS', 'std')": 2.3396988003139363,
         "('KIL', 'min')": 3.67,
         "('KIL', 'max')": 9.96,
         "('KIL', 'mean')": 6.682857142857142,
         "('KIL', 'std')": 2.451609772412909,
         "('SHA', 'min')": 4.08,
         "('SHA', 'max')": 14.12,
         "('SHA', 'mean')": 9.891428571428571,
         "('SHA', 'std')": 3.1218553701894884,
         "('BIR', 'min')": 2.71,
         "('BIR', 'max')": 11.75,
         "('BIR', 'mean')": 8.314285714285715,
         "('BIR', 'std')": 2.934250938728413,
         "('DUB', 'min')": 4.63,
         "('DUB', 'max')": 14.58,
         "('DUB', 'mean')": 9.775714285714285,
         "('DUB', 'std')": 3.3027001939971137,
         "('CLA', 'min')": 1.04,
         "('CLA', 'max')": 13.92,
         "('CLA', 'mean')": 9.638571428571428,
         "('CLA', 'std')": 4.32523382247106,
         "('MUL', 'min')": 3.67,
         "('MUL', 'max')": 13.25,
         "('MUL', 'mean')": 10.185714285714287,
         "('MUL', 'std')": 3.1426308360080357,
         "('CLO', 'min')": 2.75,
         "('CLO', 'max')": 13.5,
         "('CLO', 'mean')": 10.422857142857142,
         "('CLO', 'std')": 3.583939705062546,
         "('BEL', 'min')": 8.71,
         "('BEL', 'max')": 23.13,
         "('BEL', 'mean')": 18.451428571428572,
         "('BEL', 'std')": 4.908792888180109,
         "('MAL', 'min')": 10.67,
         "('MAL', 'max')": 25,
         "('MAL', 'mean')": 18.72142857142857,
         "('MAL', 'std')": 4.229276646470523,
         "_deepnote_index_column": "1978-11-05T00:00:00.000000"
        },
        {
         "('RPT', 'min')": 7.38,
         "('RPT', 'max')": 25.41,
         "('RPT', 'mean')": 14.857142857142858,
         "('RPT', 'std')": 6.126537124906463,
         "('VAL', 'min')": 8.12,
         "('VAL', 'max')": 22.58,
         "('VAL', 'mean')": 15.237142857142857,
         "('VAL', 'std')": 5.002148585976878,
         "('ROS', 'min')": 7.29,
         "('ROS', 'max')": 20.88,
         "('ROS', 'mean')": 12.007142857142856,
         "('ROS', 'std')": 4.877317275872445,
         "('KIL', 'min')": 2.46,
         "('KIL', 'max')": 17.21,
         "('KIL', 'mean')": 7.684285714285715,
         "('KIL', 'std')": 5.256500284228589,
         "('SHA', 'min')": 7,
         "('SHA', 'max')": 20.3,
         "('SHA', 'mean')": 12.459999999999999,
         "('SHA', 'std')": 4.826275306417293,
         "('BIR', 'min')": 6.67,
         "('BIR', 'max')": 16.29,
         "('BIR', 'mean')": 9.352857142857143,
         "('BIR', 'std')": 3.3262527178278476,
         "('DUB', 'min')": 4.12,
         "('DUB', 'max')": 19.29,
         "('DUB', 'mean')": 10.224285714285713,
         "('DUB', 'std')": 5.513334916795995,
         "('CLA', 'min')": 5.88,
         "('CLA', 'max')": 15.12,
         "('CLA', 'mean')": 10.554285714285713,
         "('CLA', 'std')": 3.5506940971348926,
         "('MUL', 'min')": 7.17,
         "('MUL', 'max')": 18.46,
         "('MUL', 'mean')": 11.168571428571429,
         "('MUL', 'std')": 4.15216982862145,
         "('CLO', 'min')": 9.13,
         "('CLO', 'max')": 16.25,
         "('CLO', 'mean')": 12.232857142857142,
         "('CLO', 'std')": 3.009566493066813,
         "('BEL', 'min')": 15.16,
         "('BEL', 'max')": 24.17,
         "('BEL', 'mean')": 19.307142857142857,
         "('BEL', 'std')": 3.2065179155677805,
         "('MAL', 'min')": 15.63,
         "('MAL', 'max')": 29.04,
         "('MAL', 'mean')": 22.52285714285714,
         "('MAL', 'std')": 5.297445026569299,
         "_deepnote_index_column": "1978-11-12T00:00:00.000000"
        },
        {
         "('RPT', 'min')": 13.88,
         "('RPT', 'max')": 30.21,
         "('RPT', 'mean')": 20.59,
         "('RPT', 'std')": 5.487248855300805,
         "('VAL', 'min')": 11.67,
         "('VAL', 'max')": 27.63,
         "('VAL', 'mean')": 18.99857142857143,
         "('VAL', 'std')": 5.68690433824774,
         "('ROS', 'min')": 8.79,
         "('ROS', 'max')": 25.46,
         "('ROS', 'mean')": 17.272857142857138,
         "('ROS', 'std')": 5.255520000550894,
         "('KIL', 'min')": 4.96,
         "('KIL', 'max')": 16.96,
         "('KIL', 'mean')": 10.417142857142858,
         "('KIL', 'std')": 4.5593702572676795,
         "('SHA', 'min')": 7.87,
         "('SHA', 'max')": 20.83,
         "('SHA', 'mean')": 14.219999999999999,
         "('SHA', 'std')": 5.207305765300643,
         "('BIR', 'min')": 5.37,
         "('BIR', 'max')": 16,
         "('BIR', 'mean')": 11.20857142857143,
         "('BIR', 'std')": 3.776362573391793,
         "('DUB', 'min')": 11.08,
         "('DUB', 'max')": 20.12,
         "('DUB', 'mean')": 16.08142857142857,
         "('DUB', 'std')": 3.2763721225944855,
         "('CLA', 'min')": 7.21,
         "('CLA', 'max')": 18.12,
         "('CLA', 'mean')": 12.915714285714284,
         "('CLA', 'std')": 3.680284668078713,
         "('MUL', 'min')": 7.29,
         "('MUL', 'max')": 18.29,
         "('MUL', 'mean')": 13.297142857142857,
         "('MUL', 'std')": 3.415790363813888,
         "('CLO', 'min')": 6.92,
         "('CLO', 'max')": 18.08,
         "('CLO', 'mean')": 13.242857142857144,
         "('CLO', 'std')": 3.3692863452355115,
         "('BEL', 'min')": 16,
         "('BEL', 'max')": 23.79,
         "('BEL', 'mean')": 20.357142857142858,
         "('BEL', 'std')": 3.155385419066447,
         "('MAL', 'min')": 17.88,
         "('MAL', 'max')": 27.42,
         "('MAL', 'mean')": 23.905714285714286,
         "('MAL', 'std')": 3.406175064706537,
         "_deepnote_index_column": "1978-11-19T00:00:00.000000"
        },
        {
         "('RPT', 'min')": 9.54,
         "('RPT', 'max')": 23.16,
         "('RPT', 'mean')": 16.49857142857143,
         "('RPT', 'std')": 4.050215749691319,
         "('VAL', 'min')": 8.33,
         "('VAL', 'max')": 17.71,
         "('VAL', 'mean')": 13.971428571428572,
         "('VAL', 'std')": 3.5748539763717546,
         "('ROS', 'min')": 7.92,
         "('ROS', 'max')": 18.25,
         "('ROS', 'mean')": 13.544285714285717,
         "('ROS', 'std')": 3.7658503118722835,
         "('KIL', 'min')": 1.83,
         "('KIL', 'max')": 9.83,
         "('KIL', 'mean')": 6.361428571428571,
         "('KIL', 'std')": 2.5775338896668174,
         "('SHA', 'min')": 6.92,
         "('SHA', 'max')": 13.92,
         "('SHA', 'mean')": 10.43857142857143,
         "('SHA', 'std')": 3.083133841680294,
         "('BIR', 'min')": 3.29,
         "('BIR', 'max')": 11.5,
         "('BIR', 'mean')": 7.404285714285714,
         "('BIR', 'std')": 3.0596288290295233,
         "('DUB', 'min')": 7.17,
         "('DUB', 'max')": 16.71,
         "('DUB', 'mean')": 12.797142857142857,
         "('DUB', 'std')": 3.8108079383323874,
         "('CLA', 'min')": 3.08,
         "('CLA', 'max')": 12.17,
         "('CLA', 'mean')": 7.571428571428571,
         "('CLA', 'std')": 3.6791186832873826,
         "('MUL', 'min')": 3.46,
         "('MUL', 'max')": 15.04,
         "('MUL', 'mean')": 9.998571428571427,
         "('MUL', 'std')": 4.183552830515503,
         "('CLO', 'min')": 3.37,
         "('CLO', 'max')": 14.29,
         "('CLO', 'mean')": 8.915714285714285,
         "('CLO', 'std')": 4.108965227170368,
         "('BEL', 'min')": 7.54,
         "('BEL', 'max')": 21.09,
         "('BEL', 'mean')": 15.207142857142857,
         "('BEL', 'std')": 5.597611735629503,
         "('MAL', 'min')": 11.08,
         "('MAL', 'max')": 26.67,
         "('MAL', 'mean')": 19.49142857142857,
         "('MAL', 'std')": 6.677228538277011,
         "_deepnote_index_column": "1978-11-26T00:00:00.000000"
        },
        {
         "('RPT', 'min')": 9.08,
         "('RPT', 'max')": 21.29,
         "('RPT', 'mean')": 14.934285714285712,
         "('RPT', 'std')": 4.931753769005022,
         "('VAL', 'min')": 4.54,
         "('VAL', 'max')": 21.34,
         "('VAL', 'mean')": 11.232857142857142,
         "('VAL', 'std')": 5.978967899467025,
         "('ROS', 'min')": 8.21,
         "('ROS', 'max')": 24.04,
         "('ROS', 'mean')": 13.941428571428572,
         "('ROS', 'std')": 5.704736127614868,
         "('KIL', 'min')": 0.96,
         "('KIL', 'max')": 12.79,
         "('KIL', 'mean')": 5.565714285714286,
         "('KIL', 'std')": 4.7294568297809745,
         "('SHA', 'min')": 4.54,
         "('SHA', 'max')": 18.21,
         "('SHA', 'mean')": 10.215714285714284,
         "('SHA', 'std')": 5.264959186745442,
         "('BIR', 'min')": 1,
         "('BIR', 'max')": 19.29,
         "('BIR', 'mean')": 8.618571428571428,
         "('BIR', 'std')": 6.370660427751135,
         "('DUB', 'min')": 1.96,
         "('DUB', 'max')": 21.54,
         "('DUB', 'mean')": 9.642857142857142,
         "('DUB', 'std')": 7.688347707810208,
         "('CLA', 'min')": 2.04,
         "('CLA', 'max')": 17.21,
         "('CLA', 'mean')": 7.685714285714286,
         "('CLA', 'std')": 6.087081558905048,
         "('MUL', 'min')": 1.29,
         "('MUL', 'max')": 16.71,
         "('MUL', 'mean')": 9.01142857142857,
         "('MUL', 'std')": 5.798696487347907,
         "('CLO', 'min')": 3.29,
         "('CLO', 'max')": 17.83,
         "('CLO', 'mean')": 9.547142857142857,
         "('CLO', 'std')": 6.2849733870709805,
         "('BEL', 'min')": 4.92,
         "('BEL', 'max')": 21.42,
         "('BEL', 'mean')": 11.835714285714287,
         "('BEL', 'std')": 5.950111643610445,
         "('MAL', 'min')": 11.5,
         "('MAL', 'max')": 25.75,
         "('MAL', 'mean')": 18.72857142857143,
         "('MAL', 'std')": 6.393187594545275,
         "_deepnote_index_column": "1978-12-03T00:00:00.000000"
        },
        {
         "('RPT', 'min')": 9.92,
         "('RPT', 'max')": 29.33,
         "('RPT', 'mean')": 20.740000000000002,
         "('RPT', 'std')": 7.215012127501934,
         "('VAL', 'min')": 12.54,
         "('VAL', 'max')": 24.79,
         "('VAL', 'mean')": 19.19,
         "('VAL', 'std')": 4.953059660452315,
         "('ROS', 'min')": 7.21,
         "('ROS', 'max')": 25.37,
         "('ROS', 'mean')": 17.034285714285712,
         "('ROS', 'std')": 6.6407501010625225,
         "('KIL', 'min')": 1.71,
         "('KIL', 'max')": 18.16,
         "('KIL', 'mean')": 9.777142857142858,
         "('KIL', 'std')": 6.515066421471885,
         "('SHA', 'min')": 6.5,
         "('SHA', 'max')": 24.46,
         "('SHA', 'mean')": 15.287142857142857,
         "('SHA', 'std')": 6.657926890270761,
         "('BIR', 'min')": 5.96,
         "('BIR', 'max')": 19.58,
         "('BIR', 'mean')": 12.774285714285714,
         "('BIR', 'std')": 5.451201265601485,
         "('DUB', 'min')": 8.38,
         "('DUB', 'max')": 24.54,
         "('DUB', 'mean')": 14.437142857142858,
         "('DUB', 'std')": 5.787534634268476,
         "('CLA', 'min')": 6.17,
         "('CLA', 'max')": 19.04,
         "('CLA', 'mean')": 12.488571428571428,
         "('CLA', 'std')": 5.153724958938044,
         "('MUL', 'min')": 6.63,
         "('MUL', 'max')": 21,
         "('MUL', 'mean')": 13.870000000000001,
         "('MUL', 'std')": 5.332188418776416,
         "('CLO', 'min')": 6.75,
         "('CLO', 'max')": 21.5,
         "('CLO', 'mean')": 14.082857142857142,
         "('CLO', 'std')": 5.516404971494008,
         "('BEL', 'min')": 9.54,
         "('BEL', 'max')": 26.08,
         "('BEL', 'mean')": 18.517142857142854,
         "('BEL', 'std')": 5.6003890171002535,
         "('MAL', 'min')": 15.34,
         "('MAL', 'max')": 34.59,
         "('MAL', 'mean')": 23.06142857142857,
         "('MAL', 'std')": 8.0939760080598,
         "_deepnote_index_column": "1978-12-10T00:00:00.000000"
        },
        {
         "('RPT', 'min')": 9.87,
         "('RPT', 'max')": 23.13,
         "('RPT', 'mean')": 16.75857142857143,
         "('RPT', 'std')": 4.499431180980652,
         "('VAL', 'min')": 3.21,
         "('VAL', 'max')": 24.04,
         "('VAL', 'mean')": 14.692857142857141,
         "('VAL', 'std')": 7.5786646015546255,
         "('ROS', 'min')": 8.04,
         "('ROS', 'max')": 18.05,
         "('ROS', 'mean')": 14.987142857142857,
         "('ROS', 'std')": 3.6373374615951994,
         "('KIL', 'min')": 2.21,
         "('KIL', 'max')": 11.63,
         "('KIL', 'mean')": 6.917142857142857,
         "('KIL', 'std')": 2.953679706658089,
         "('SHA', 'min')": 3.04,
         "('SHA', 'max')": 18.12,
         "('SHA', 'mean')": 11.397142857142857,
         "('SHA', 'std')": 6.073619772660876,
         "('BIR', 'min')": 0.54,
         "('BIR', 'max')": 13.37,
         "('BIR', 'mean')": 7.272857142857142,
         "('BIR', 'std')": 5.075403807533328,
         "('DUB', 'min')": 2.46,
         "('DUB', 'max')": 14.83,
         "('DUB', 'mean')": 10.208571428571428,
         "('DUB', 'std')": 4.050149909042167,
         "('CLA', 'min')": 1.46,
         "('CLA', 'max')": 13.88,
         "('CLA', 'mean')": 7.967142857142859,
         "('CLA', 'std')": 4.724368438517169,
         "('MUL', 'min')": 1.29,
         "('MUL', 'max')": 15.54,
         "('MUL', 'mean')": 9.168571428571429,
         "('MUL', 'std')": 4.9276344174848195,
         "('CLO', 'min')": 2.67,
         "('CLO', 'max')": 16.29,
         "('CLO', 'mean')": 8.565714285714284,
         "('CLO', 'std')": 5.487801190345903,
         "('BEL', 'min')": 5,
         "('BEL', 'max')": 21.5,
         "('BEL', 'mean')": 11.102857142857143,
         "('BEL', 'std')": 6.631924593172318,
         "('MAL', 'min')": 6.92,
         "('MAL', 'max')": 22.83,
         "('MAL', 'mean')": 15.562857142857142,
         "('MAL', 'std')": 6.005593821001979,
         "_deepnote_index_column": "1978-12-17T00:00:00.000000"
        },
        {
         "('RPT', 'min')": 6.21,
         "('RPT', 'max')": 16.62,
         "('RPT', 'mean')": 11.155714285714286,
         "('RPT', 'std')": 3.5227586592652886,
         "('VAL', 'min')": 3.63,
         "('VAL', 'max')": 13.29,
         "('VAL', 'mean')": 8.008571428571429,
         "('VAL', 'std')": 3.8829002415352223,
         "('ROS', 'min')": 8.5,
         "('ROS', 'max')": 22.21,
         "('ROS', 'mean')": 13.172857142857143,
         "('ROS', 'std')": 4.375902627975606,
         "('KIL', 'min')": 1,
         "('KIL', 'max')": 9.5,
         "('KIL', 'mean')": 4.004285714285714,
         "('KIL', 'std')": 2.7768378727301624,
         "('SHA', 'min')": 3.5,
         "('SHA', 'max')": 14.29,
         "('SHA', 'mean')": 7.825714285714286,
         "('SHA', 'std')": 3.4205548143678732,
         "('BIR', 'min')": 0.42,
         "('BIR', 'max')": 13.08,
         "('BIR', 'mean')": 6.29,
         "('BIR', 'std')": 3.696511869316802,
         "('DUB', 'min')": 2.42,
         "('DUB', 'max')": 16.5,
         "('DUB', 'mean')": 7.798571428571429,
         "('DUB', 'std')": 5.595526274240367,
         "('CLA', 'min')": 2.5,
         "('CLA', 'max')": 17.16,
         "('CLA', 'mean')": 8.667142857142858,
         "('CLA', 'std')": 4.450961372878576,
         "('MUL', 'min')": 2.13,
         "('MUL', 'max')": 12.71,
         "('MUL', 'mean')": 7.151428571428572,
         "('MUL', 'std')": 3.753817739188681,
         "('CLO', 'min')": 4.71,
         "('CLO', 'max')": 12,
         "('CLO', 'mean')": 8.072857142857144,
         "('CLO', 'std')": 3.0231314575327035,
         "('BEL', 'min')": 3.21,
         "('BEL', 'max')": 19.79,
         "('BEL', 'mean')": 11.845714285714285,
         "('BEL', 'std')": 5.750301027316909,
         "('MAL', 'min')": 10.29,
         "('MAL', 'max')": 31.71,
         "('MAL', 'mean')": 18.97714285714286,
         "('MAL', 'std')": 7.1941080389573315,
         "_deepnote_index_column": "1978-12-24T00:00:00.000000"
        },
        {
         "('RPT', 'min')": 7.21,
         "('RPT', 'max')": 20.33,
         "('RPT', 'mean')": 14.95142857142857,
         "('RPT', 'std')": 4.350400091069895,
         "('VAL', 'min')": 5.46,
         "('VAL', 'max')": 17.41,
         "('VAL', 'mean')": 11.80142857142857,
         "('VAL', 'std')": 4.705392043784905,
         "('ROS', 'min')": 7.83,
         "('ROS', 'max')": 27.29,
         "('ROS', 'mean')": 16.035714285714285,
         "('ROS', 'std')": 6.655776581644089,
         "('KIL', 'min')": 2.37,
         "('KIL', 'max')": 9.59,
         "('KIL', 'mean')": 6.507142857142857,
         "('KIL', 'std')": 3.1043234060780156,
         "('SHA', 'min')": 4.79,
         "('SHA', 'max')": 13.21,
         "('SHA', 'mean')": 9.66,
         "('SHA', 'std')": 3.198645546685868,
         "('BIR', 'min')": 4.29,
         "('BIR', 'max')": 11.67,
         "('BIR', 'mean')": 8.620000000000001,
         "('BIR', 'std')": 2.9486607129339246,
         "('DUB', 'min')": 1.96,
         "('DUB', 'max')": 19.25,
         "('DUB', 'mean')": 13.70857142857143,
         "('DUB', 'std')": 6.371936985907892,
         "('CLA', 'min')": 0.75,
         "('CLA', 'max')": 16.25,
         "('CLA', 'mean')": 10.477142857142855,
         "('CLA', 'std')": 5.9131061050452836,
         "('MUL', 'min')": 3.04,
         "('MUL', 'max')": 15.25,
         "('MUL', 'mean')": 10.868571428571428,
         "('MUL', 'std')": 4.809485171933439,
         "('CLO', 'min')": 3.08,
         "('CLO', 'max')": 18.05,
         "('CLO', 'mean')": 11.471428571428572,
         "('CLO', 'std')": 5.533396872842301,
         "('BEL', 'min')": 1.21,
         "('BEL', 'max')": 21.79,
         "('BEL', 'mean')": 12.947142857142856,
         "('BEL', 'std')": 7.5231480872608865,
         "('MAL', 'min')": 11.96,
         "('MAL', 'max')": 41.46,
         "('MAL', 'mean')": 26.844285714285718,
         "('MAL', 'std')": 11.621233235107274,
         "_deepnote_index_column": "1978-12-31T00:00:00.000000"
        }
       ]
      },
      "text/plain": "              RPT                                VAL                    \\\n              min    max       mean       std    min    max       mean   \ndate                                                                     \n1961-01-08  10.58  18.50  13.541429  2.631321   6.63  16.88  11.486667   \n1961-01-15   9.04  19.75  12.468571  3.555392   3.54  12.08   8.967143   \n1961-01-22   4.92  19.83  13.204286  5.337402   3.42  14.37   9.862857   \n1961-01-29  13.62  25.04  19.880000  4.619061   9.96  23.91  16.141429   \n1961-02-05  10.58  24.21  16.827143  5.251408   9.46  24.21  15.460000   \n...           ...    ...        ...       ...    ...    ...        ...   \n1978-12-03   9.08  21.29  14.934286  4.931754   4.54  21.34  11.232857   \n1978-12-10   9.92  29.33  20.740000  7.215012  12.54  24.79  19.190000   \n1978-12-17   9.87  23.13  16.758571  4.499431   3.21  24.04  14.692857   \n1978-12-24   6.21  16.62  11.155714  3.522759   3.63  13.29   8.008571   \n1978-12-31   7.21  20.33  14.951429  4.350400   5.46  17.41  11.801429   \n\n                        ROS         ...        CLO              BEL         \\\n                 std    min    max  ...       mean       std    min    max   \ndate                                ...                                      \n1961-01-08  3.949525   7.62  12.33  ...   8.497143  1.704941   5.46  17.54   \n1961-01-15  3.148945   7.08  19.50  ...   7.571429  4.084293   5.25  20.71   \n1961-01-22  3.837785   7.29  20.79  ...   8.124286  4.783952   6.50  15.92   \n1961-01-29  5.170224  12.67  25.84  ...  15.640000  3.713368  14.04  27.71   \n1961-02-05  5.187395   9.04  19.70  ...   9.460000  2.839501   9.17  19.33   \n...              ...    ...    ...  ...        ...       ...    ...    ...   \n1978-12-03  5.978968   8.21  24.04  ...   9.547143  6.284973   4.92  21.42   \n1978-12-10  4.953060   7.21  25.37  ...  14.082857  5.516405   9.54  26.08   \n1978-12-17  7.578665   8.04  18.05  ...   8.565714  5.487801   5.00  21.50   \n1978-12-24  3.882900   8.50  22.21  ...   8.072857  3.023131   3.21  19.79   \n1978-12-31  4.705392   7.83  27.29  ...  11.471429  5.533397   1.21  21.79   \n\n                                   MAL                               \n                 mean       std    min    max       mean        std  \ndate                                                                 \n1961-01-08  12.481429  4.349139  10.88  16.46  13.238571   1.773062  \n1961-01-15  11.125714  5.552215   5.17  16.92  11.024286   4.692355  \n1961-01-22   9.821429  3.626584   6.79  17.96  11.434286   4.237239  \n1961-01-29  20.930000  5.210726  17.50  27.63  22.530000   3.874721  \n1961-02-05  14.012857  4.210858   7.17  19.25  11.935714   4.336104  \n...               ...       ...    ...    ...        ...        ...  \n1978-12-03  11.835714  5.950112  11.50  25.75  18.728571   6.393188  \n1978-12-10  18.517143  5.600389  15.34  34.59  23.061429   8.093976  \n1978-12-17  11.102857  6.631925   6.92  22.83  15.562857   6.005594  \n1978-12-24  11.845714  5.750301  10.29  31.71  18.977143   7.194108  \n1978-12-31  12.947143  7.523148  11.96  41.46  26.844286  11.621233  \n\n[939 rows x 48 columns]",
      "text/html": "<div>\n<style scoped>\n    .dataframe tbody tr th:only-of-type {\n        vertical-align: middle;\n    }\n\n    .dataframe tbody tr th {\n        vertical-align: top;\n    }\n\n    .dataframe thead tr th {\n        text-align: left;\n    }\n\n    .dataframe thead tr:last-of-type th {\n        text-align: right;\n    }\n</style>\n<table border=\"1\" class=\"dataframe\">\n  <thead>\n    <tr>\n      <th></th>\n      <th colspan=\"4\" halign=\"left\">RPT</th>\n      <th colspan=\"4\" halign=\"left\">VAL</th>\n      <th colspan=\"2\" halign=\"left\">ROS</th>\n      <th>...</th>\n      <th colspan=\"2\" halign=\"left\">CLO</th>\n      <th colspan=\"4\" halign=\"left\">BEL</th>\n      <th colspan=\"4\" halign=\"left\">MAL</th>\n    </tr>\n    <tr>\n      <th></th>\n      <th>min</th>\n      <th>max</th>\n      <th>mean</th>\n      <th>std</th>\n      <th>min</th>\n      <th>max</th>\n      <th>mean</th>\n      <th>std</th>\n      <th>min</th>\n      <th>max</th>\n      <th>...</th>\n      <th>mean</th>\n      <th>std</th>\n      <th>min</th>\n      <th>max</th>\n      <th>mean</th>\n      <th>std</th>\n      <th>min</th>\n      <th>max</th>\n      <th>mean</th>\n      <th>std</th>\n    </tr>\n    <tr>\n      <th>date</th>\n      <th></th>\n      <th></th>\n      <th></th>\n      <th></th>\n      <th></th>\n      <th></th>\n      <th></th>\n      <th></th>\n      <th></th>\n      <th></th>\n      <th></th>\n      <th></th>\n      <th></th>\n      <th></th>\n      <th></th>\n      <th></th>\n      <th></th>\n      <th></th>\n      <th></th>\n      <th></th>\n      <th></th>\n    </tr>\n  </thead>\n  <tbody>\n    <tr>\n      <th>1961-01-08</th>\n      <td>10.58</td>\n      <td>18.50</td>\n      <td>13.541429</td>\n      <td>2.631321</td>\n      <td>6.63</td>\n      <td>16.88</td>\n      <td>11.486667</td>\n      <td>3.949525</td>\n      <td>7.62</td>\n      <td>12.33</td>\n      <td>...</td>\n      <td>8.497143</td>\n      <td>1.704941</td>\n      <td>5.46</td>\n      <td>17.54</td>\n      <td>12.481429</td>\n      <td>4.349139</td>\n      <td>10.88</td>\n      <td>16.46</td>\n      <td>13.238571</td>\n      <td>1.773062</td>\n    </tr>\n    <tr>\n      <th>1961-01-15</th>\n      <td>9.04</td>\n      <td>19.75</td>\n      <td>12.468571</td>\n      <td>3.555392</td>\n      <td>3.54</td>\n      <td>12.08</td>\n      <td>8.967143</td>\n      <td>3.148945</td>\n      <td>7.08</td>\n      <td>19.50</td>\n      <td>...</td>\n      <td>7.571429</td>\n      <td>4.084293</td>\n      <td>5.25</td>\n      <td>20.71</td>\n      <td>11.125714</td>\n      <td>5.552215</td>\n      <td>5.17</td>\n      <td>16.92</td>\n      <td>11.024286</td>\n      <td>4.692355</td>\n    </tr>\n    <tr>\n      <th>1961-01-22</th>\n      <td>4.92</td>\n      <td>19.83</td>\n      <td>13.204286</td>\n      <td>5.337402</td>\n      <td>3.42</td>\n      <td>14.37</td>\n      <td>9.862857</td>\n      <td>3.837785</td>\n      <td>7.29</td>\n      <td>20.79</td>\n      <td>...</td>\n      <td>8.124286</td>\n      <td>4.783952</td>\n      <td>6.50</td>\n      <td>15.92</td>\n      <td>9.821429</td>\n      <td>3.626584</td>\n      <td>6.79</td>\n      <td>17.96</td>\n      <td>11.434286</td>\n      <td>4.237239</td>\n    </tr>\n    <tr>\n      <th>1961-01-29</th>\n      <td>13.62</td>\n      <td>25.04</td>\n      <td>19.880000</td>\n      <td>4.619061</td>\n      <td>9.96</td>\n      <td>23.91</td>\n      <td>16.141429</td>\n      <td>5.170224</td>\n      <td>12.67</td>\n      <td>25.84</td>\n      <td>...</td>\n      <td>15.640000</td>\n      <td>3.713368</td>\n      <td>14.04</td>\n      <td>27.71</td>\n      <td>20.930000</td>\n      <td>5.210726</td>\n      <td>17.50</td>\n      <td>27.63</td>\n      <td>22.530000</td>\n      <td>3.874721</td>\n    </tr>\n    <tr>\n      <th>1961-02-05</th>\n      <td>10.58</td>\n      <td>24.21</td>\n      <td>16.827143</td>\n      <td>5.251408</td>\n      <td>9.46</td>\n      <td>24.21</td>\n      <td>15.460000</td>\n      <td>5.187395</td>\n      <td>9.04</td>\n      <td>19.70</td>\n      <td>...</td>\n      <td>9.460000</td>\n      <td>2.839501</td>\n      <td>9.17</td>\n      <td>19.33</td>\n      <td>14.012857</td>\n      <td>4.210858</td>\n      <td>7.17</td>\n      <td>19.25</td>\n      <td>11.935714</td>\n      <td>4.336104</td>\n    </tr>\n    <tr>\n      <th>...</th>\n      <td>...</td>\n      <td>...</td>\n      <td>...</td>\n      <td>...</td>\n      <td>...</td>\n      <td>...</td>\n      <td>...</td>\n      <td>...</td>\n      <td>...</td>\n      <td>...</td>\n      <td>...</td>\n      <td>...</td>\n      <td>...</td>\n      <td>...</td>\n      <td>...</td>\n      <td>...</td>\n      <td>...</td>\n      <td>...</td>\n      <td>...</td>\n      <td>...</td>\n      <td>...</td>\n    </tr>\n    <tr>\n      <th>1978-12-03</th>\n      <td>9.08</td>\n      <td>21.29</td>\n      <td>14.934286</td>\n      <td>4.931754</td>\n      <td>4.54</td>\n      <td>21.34</td>\n      <td>11.232857</td>\n      <td>5.978968</td>\n      <td>8.21</td>\n      <td>24.04</td>\n      <td>...</td>\n      <td>9.547143</td>\n      <td>6.284973</td>\n      <td>4.92</td>\n      <td>21.42</td>\n      <td>11.835714</td>\n      <td>5.950112</td>\n      <td>11.50</td>\n      <td>25.75</td>\n      <td>18.728571</td>\n      <td>6.393188</td>\n    </tr>\n    <tr>\n      <th>1978-12-10</th>\n      <td>9.92</td>\n      <td>29.33</td>\n      <td>20.740000</td>\n      <td>7.215012</td>\n      <td>12.54</td>\n      <td>24.79</td>\n      <td>19.190000</td>\n      <td>4.953060</td>\n      <td>7.21</td>\n      <td>25.37</td>\n      <td>...</td>\n      <td>14.082857</td>\n      <td>5.516405</td>\n      <td>9.54</td>\n      <td>26.08</td>\n      <td>18.517143</td>\n      <td>5.600389</td>\n      <td>15.34</td>\n      <td>34.59</td>\n      <td>23.061429</td>\n      <td>8.093976</td>\n    </tr>\n    <tr>\n      <th>1978-12-17</th>\n      <td>9.87</td>\n      <td>23.13</td>\n      <td>16.758571</td>\n      <td>4.499431</td>\n      <td>3.21</td>\n      <td>24.04</td>\n      <td>14.692857</td>\n      <td>7.578665</td>\n      <td>8.04</td>\n      <td>18.05</td>\n      <td>...</td>\n      <td>8.565714</td>\n      <td>5.487801</td>\n      <td>5.00</td>\n      <td>21.50</td>\n      <td>11.102857</td>\n      <td>6.631925</td>\n      <td>6.92</td>\n      <td>22.83</td>\n      <td>15.562857</td>\n      <td>6.005594</td>\n    </tr>\n    <tr>\n      <th>1978-12-24</th>\n      <td>6.21</td>\n      <td>16.62</td>\n      <td>11.155714</td>\n      <td>3.522759</td>\n      <td>3.63</td>\n      <td>13.29</td>\n      <td>8.008571</td>\n      <td>3.882900</td>\n      <td>8.50</td>\n      <td>22.21</td>\n      <td>...</td>\n      <td>8.072857</td>\n      <td>3.023131</td>\n      <td>3.21</td>\n      <td>19.79</td>\n      <td>11.845714</td>\n      <td>5.750301</td>\n      <td>10.29</td>\n      <td>31.71</td>\n      <td>18.977143</td>\n      <td>7.194108</td>\n    </tr>\n    <tr>\n      <th>1978-12-31</th>\n      <td>7.21</td>\n      <td>20.33</td>\n      <td>14.951429</td>\n      <td>4.350400</td>\n      <td>5.46</td>\n      <td>17.41</td>\n      <td>11.801429</td>\n      <td>4.705392</td>\n      <td>7.83</td>\n      <td>27.29</td>\n      <td>...</td>\n      <td>11.471429</td>\n      <td>5.533397</td>\n      <td>1.21</td>\n      <td>21.79</td>\n      <td>12.947143</td>\n      <td>7.523148</td>\n      <td>11.96</td>\n      <td>41.46</td>\n      <td>26.844286</td>\n      <td>11.621233</td>\n    </tr>\n  </tbody>\n</table>\n<p>939 rows × 48 columns</p>\n</div>"
     },
     "metadata": {}
    }
   ]
  },
  {
   "cell_type": "code",
   "metadata": {
    "id": "ucY9kyTnvOsF",
    "executionInfo": {
     "status": "aborted",
     "timestamp": 1623812280109,
     "user_tz": 240,
     "elapsed": 6,
     "user": {
      "displayName": "Andrés Sánchez",
      "photoUrl": "https://lh3.googleusercontent.com/a-/AOh14Gg69bZMv30ckb-T1MJy0nSxWIHUaP0p2uP6MYBuvQ=s64",
      "userId": "07985253921366566280"
     }
    },
    "cell_id": "00037-99c23917-f561-4854-ba2a-4edcdfac0d42",
    "deepnote_to_be_reexecuted": false,
    "source_hash": "b623e53d",
    "execution_start": 1630098265511,
    "deepnote_cell_type": "code"
   },
   "source": "",
   "execution_count": 19,
   "outputs": []
  },
  {
   "cell_type": "markdown",
   "source": "<a style='text-decoration:none;line-height:16px;display:flex;color:#5B5B62;padding:10px;justify-content:end;' href='https://deepnote.com?utm_source=created-in-deepnote-cell&projectId=fe744348-fecc-4b7a-803c-44dba24ecb38' target=\"_blank\">\n<img alt='Created in deepnote.com' style='display:inline;max-height:16px;margin:0px;margin-right:7.5px;' src='data:image/svg+xml;base64,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' > </img>\nCreated in <span style='font-weight:600;margin-left:4px;'>Deepnote</span></a>",
   "metadata": {
    "tags": [],
    "created_in_deepnote_cell": true,
    "deepnote_cell_type": "markdown"
   }
  }
 ],
 "nbformat": 4,
 "nbformat_minor": 0,
 "metadata": {
  "anaconda-cloud": {},
  "kernelspec": {
   "display_name": "Python [default]",
   "language": "python",
   "name": "python2"
  },
  "language_info": {
   "codemirror_mode": {
    "name": "ipython",
    "version": 2
   },
   "file_extension": ".py",
   "mimetype": "text/x-python",
   "name": "python",
   "nbconvert_exporter": "python",
   "pygments_lexer": "ipython2",
   "version": "2.7.12"
  },
  "colab": {
   "name": "Exercises.ipynb",
   "provenance": [],
   "collapsed_sections": []
  },
  "deepnote_notebook_id": "c3c0af79-5812-4eba-8a5d-d86ebbc2797a",
  "deepnote": {},
  "deepnote_execution_queue": []
 }
}
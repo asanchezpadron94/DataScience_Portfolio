{
 "cells": [
  {
   "cell_type": "markdown",
   "source": "# Iris",
   "metadata": {
    "id": "L_NCZOVWKDDB",
    "cell_id": "00000-3214c777-f275-4328-996e-5219991509a5",
    "deepnote_cell_type": "markdown"
   }
  },
  {
   "cell_type": "markdown",
   "source": "### Introduction:\n\nThis exercise may seem a little bit strange, but keep doing it.\n\n### Step 1. Import the necessary libraries",
   "metadata": {
    "id": "27Ob3HKgKDDC",
    "cell_id": "00001-f033bec2-7827-4c97-bf7f-b86fdf22ab31",
    "deepnote_cell_type": "markdown"
   }
  },
  {
   "cell_type": "code",
   "metadata": {
    "id": "k4_E6SYyKDDD",
    "executionInfo": {
     "status": "ok",
     "timestamp": 1624730421629,
     "user_tz": 240,
     "elapsed": 1908,
     "user": {
      "displayName": "Andrés Sánchez",
      "photoUrl": "https://lh3.googleusercontent.com/a-/AOh14Gg69bZMv30ckb-T1MJy0nSxWIHUaP0p2uP6MYBuvQ=s64",
      "userId": "07985253921366566280"
     }
    },
    "cell_id": "00002-91766e78-3e40-490e-88a8-487b345d13f3",
    "deepnote_to_be_reexecuted": false,
    "source_hash": "c76c7c51",
    "execution_start": 1630098610488,
    "execution_millis": 3,
    "deepnote_cell_type": "code"
   },
   "source": "import pandas as pd\nimport numpy as np",
   "execution_count": 1,
   "outputs": []
  },
  {
   "cell_type": "markdown",
   "source": "### Step 2. Import the dataset from this [address](https://archive.ics.uci.edu/ml/machine-learning-databases/iris/iris.data). ",
   "metadata": {
    "id": "_3kB52bkKDDD",
    "cell_id": "00003-840182a4-fb33-44e2-b733-d94a10e8489c",
    "deepnote_cell_type": "markdown"
   }
  },
  {
   "cell_type": "markdown",
   "source": "### Step 3. Assign it to a variable called iris",
   "metadata": {
    "id": "PtiJ06lPKDDD",
    "cell_id": "00004-6872efd1-6770-4e16-b631-bff52688317a",
    "deepnote_cell_type": "markdown"
   }
  },
  {
   "cell_type": "code",
   "metadata": {
    "id": "WH0NzRDrKDDD",
    "executionInfo": {
     "status": "ok",
     "timestamp": 1624730423975,
     "user_tz": 240,
     "elapsed": 784,
     "user": {
      "displayName": "Andrés Sánchez",
      "photoUrl": "https://lh3.googleusercontent.com/a-/AOh14Gg69bZMv30ckb-T1MJy0nSxWIHUaP0p2uP6MYBuvQ=s64",
      "userId": "07985253921366566280"
     }
    },
    "cell_id": "00005-492d417e-834b-46a8-aa80-8ab75427d840",
    "deepnote_to_be_reexecuted": false,
    "source_hash": "d8520038",
    "execution_start": 1630098610495,
    "execution_millis": 449,
    "deepnote_cell_type": "code"
   },
   "source": "iris = pd.read_csv('https://archive.ics.uci.edu/ml/machine-learning-databases/iris/iris.data')",
   "execution_count": 2,
   "outputs": []
  },
  {
   "cell_type": "markdown",
   "source": "### Step 4. Create columns for the dataset",
   "metadata": {
    "id": "GBvBh7c0KDDD",
    "cell_id": "00006-fbc0f6f7-c2ed-4148-a9f4-74a75e209a9d",
    "deepnote_cell_type": "markdown"
   }
  },
  {
   "cell_type": "code",
   "metadata": {
    "id": "gKlCUM4rKDDD",
    "executionInfo": {
     "status": "ok",
     "timestamp": 1624730423975,
     "user_tz": 240,
     "elapsed": 13,
     "user": {
      "displayName": "Andrés Sánchez",
      "photoUrl": "https://lh3.googleusercontent.com/a-/AOh14Gg69bZMv30ckb-T1MJy0nSxWIHUaP0p2uP6MYBuvQ=s64",
      "userId": "07985253921366566280"
     }
    },
    "cell_id": "00007-e96db994-091c-4fa0-8189-16eea1ba9d05",
    "deepnote_to_be_reexecuted": false,
    "source_hash": "49d536f3",
    "execution_start": 1630098610948,
    "execution_millis": 4,
    "deepnote_cell_type": "code"
   },
   "source": "# 1. sepal_length (in cm)\n# 2. sepal_width (in cm)\n# 3. petal_length (in cm)\n# 4. petal_width (in cm)\n# 5. class\niris.columns = ['sepal_length (in cm)','sepal_width (in cm)','petal_length (in cm)','petal_width (in cm)','class']",
   "execution_count": 3,
   "outputs": []
  },
  {
   "cell_type": "markdown",
   "source": "### Step 5.  Is there any missing value in the dataframe?",
   "metadata": {
    "id": "3bZnMoF3KDDE",
    "cell_id": "00008-f680effd-5e23-469b-8dd4-084924a8b8ec",
    "deepnote_cell_type": "markdown"
   }
  },
  {
   "cell_type": "code",
   "metadata": {
    "colab": {
     "base_uri": "https://localhost:8080/"
    },
    "id": "QiZgh6kTKDDE",
    "executionInfo": {
     "status": "ok",
     "timestamp": 1624730423976,
     "user_tz": 240,
     "elapsed": 13,
     "user": {
      "displayName": "Andrés Sánchez",
      "photoUrl": "https://lh3.googleusercontent.com/a-/AOh14Gg69bZMv30ckb-T1MJy0nSxWIHUaP0p2uP6MYBuvQ=s64",
      "userId": "07985253921366566280"
     }
    },
    "outputId": "93e82d80-0bda-4a69-e130-6df2ab4285f0",
    "cell_id": "00009-858a7ce3-60e3-42f1-b8ec-9d2834c59674",
    "deepnote_to_be_reexecuted": false,
    "source_hash": "95984351",
    "execution_start": 1630098610955,
    "execution_millis": 31,
    "deepnote_cell_type": "code"
   },
   "source": "iris.isnull().sum(axis = 0)",
   "execution_count": 4,
   "outputs": [
    {
     "output_type": "execute_result",
     "execution_count": 4,
     "data": {
      "text/plain": "sepal_length (in cm)    0\nsepal_width (in cm)     0\npetal_length (in cm)    0\npetal_width (in cm)     0\nclass                   0\ndtype: int64"
     },
     "metadata": {}
    }
   ]
  },
  {
   "cell_type": "markdown",
   "source": "### Step 6.  Lets set the values of the rows 10 to 29 of the column 'petal_length' to NaN",
   "metadata": {
    "id": "Kc1SHRnDKDDE",
    "cell_id": "00010-5f0085d1-b78c-47b2-9102-5e3e2eae4987",
    "deepnote_cell_type": "markdown"
   }
  },
  {
   "cell_type": "code",
   "metadata": {
    "id": "VjoyzdD5KDDE",
    "executionInfo": {
     "status": "ok",
     "timestamp": 1624730423976,
     "user_tz": 240,
     "elapsed": 10,
     "user": {
      "displayName": "Andrés Sánchez",
      "photoUrl": "https://lh3.googleusercontent.com/a-/AOh14Gg69bZMv30ckb-T1MJy0nSxWIHUaP0p2uP6MYBuvQ=s64",
      "userId": "07985253921366566280"
     }
    },
    "cell_id": "00011-f7b779aa-57ab-426d-afc6-9d764c9f7ff5",
    "deepnote_to_be_reexecuted": false,
    "source_hash": "91801c26",
    "execution_start": 1630098610974,
    "execution_millis": 0,
    "deepnote_cell_type": "code"
   },
   "source": "iris.iloc[9:28] = np.nan",
   "execution_count": 5,
   "outputs": []
  },
  {
   "cell_type": "markdown",
   "source": "### Step 7. Good, now lets substitute the NaN values to 1.0",
   "metadata": {
    "id": "CEmgVvSVKDDE",
    "cell_id": "00012-63b7e671-0c78-4d90-90c3-f9b361c9f621",
    "deepnote_cell_type": "markdown"
   }
  },
  {
   "cell_type": "code",
   "metadata": {
    "id": "A8yVmFH1KDDE",
    "executionInfo": {
     "status": "ok",
     "timestamp": 1624730423976,
     "user_tz": 240,
     "elapsed": 10,
     "user": {
      "displayName": "Andrés Sánchez",
      "photoUrl": "https://lh3.googleusercontent.com/a-/AOh14Gg69bZMv30ckb-T1MJy0nSxWIHUaP0p2uP6MYBuvQ=s64",
      "userId": "07985253921366566280"
     }
    },
    "cell_id": "00013-6f4284fd-2c93-4ca3-a568-98315757e862",
    "deepnote_to_be_reexecuted": false,
    "source_hash": "e53c9d72",
    "execution_start": 1630098610977,
    "execution_millis": 20,
    "deepnote_cell_type": "code"
   },
   "source": "iris = iris.fillna(1.0)",
   "execution_count": 6,
   "outputs": []
  },
  {
   "cell_type": "markdown",
   "source": "### Step 8. Now let's delete the column class",
   "metadata": {
    "id": "3mr1gi2zKDDE",
    "cell_id": "00014-02ae7bc7-a6bd-41bd-8bcc-25f88957e863",
    "deepnote_cell_type": "markdown"
   }
  },
  {
   "cell_type": "code",
   "metadata": {
    "id": "0ElsbuJSKDDE",
    "executionInfo": {
     "status": "ok",
     "timestamp": 1624730423977,
     "user_tz": 240,
     "elapsed": 10,
     "user": {
      "displayName": "Andrés Sánchez",
      "photoUrl": "https://lh3.googleusercontent.com/a-/AOh14Gg69bZMv30ckb-T1MJy0nSxWIHUaP0p2uP6MYBuvQ=s64",
      "userId": "07985253921366566280"
     }
    },
    "cell_id": "00015-b1638c58-b358-45a8-a7e2-6c2f02572467",
    "deepnote_to_be_reexecuted": false,
    "source_hash": "d2ac4c08",
    "execution_start": 1630098610997,
    "execution_millis": 0,
    "deepnote_cell_type": "code"
   },
   "source": "iris = iris.drop(columns = 'class')",
   "execution_count": 7,
   "outputs": []
  },
  {
   "cell_type": "markdown",
   "source": "### Step 9.  Set the first 3 rows as NaN",
   "metadata": {
    "id": "l6RFxf1_KDDE",
    "cell_id": "00016-11d9e615-1561-4048-8f75-f96d86f291dc",
    "deepnote_cell_type": "markdown"
   }
  },
  {
   "cell_type": "code",
   "metadata": {
    "id": "fzhmzdNNKDDF",
    "executionInfo": {
     "status": "ok",
     "timestamp": 1624730423977,
     "user_tz": 240,
     "elapsed": 10,
     "user": {
      "displayName": "Andrés Sánchez",
      "photoUrl": "https://lh3.googleusercontent.com/a-/AOh14Gg69bZMv30ckb-T1MJy0nSxWIHUaP0p2uP6MYBuvQ=s64",
      "userId": "07985253921366566280"
     }
    },
    "cell_id": "00017-a261f56f-2c48-4e8f-9565-984970b4efa6",
    "deepnote_to_be_reexecuted": false,
    "source_hash": "5d8a4c43",
    "execution_start": 1630098610997,
    "execution_millis": 1,
    "deepnote_cell_type": "code"
   },
   "source": "iris.iloc[:3,] = np.nan",
   "execution_count": 8,
   "outputs": []
  },
  {
   "cell_type": "markdown",
   "source": "### Step 10.  Delete the rows that have NaN",
   "metadata": {
    "id": "1lKpD0hTKDDF",
    "cell_id": "00018-7f611c72-ddaf-4a64-8e48-94bf9a655c2c",
    "deepnote_cell_type": "markdown"
   }
  },
  {
   "cell_type": "code",
   "metadata": {
    "id": "VLB-KLSQKDDF",
    "executionInfo": {
     "status": "ok",
     "timestamp": 1624730423978,
     "user_tz": 240,
     "elapsed": 10,
     "user": {
      "displayName": "Andrés Sánchez",
      "photoUrl": "https://lh3.googleusercontent.com/a-/AOh14Gg69bZMv30ckb-T1MJy0nSxWIHUaP0p2uP6MYBuvQ=s64",
      "userId": "07985253921366566280"
     }
    },
    "cell_id": "00019-104bc0f5-9710-468e-8773-b1e2e2857c77",
    "deepnote_to_be_reexecuted": false,
    "source_hash": "f28051b6",
    "execution_start": 1630098610998,
    "execution_millis": 0,
    "deepnote_cell_type": "code"
   },
   "source": "iris = iris.loc[iris['petal_length (in cm)'].isnull() != True]",
   "execution_count": 9,
   "outputs": []
  },
  {
   "cell_type": "markdown",
   "source": "### Step 11. Reset the index so it begins with 0 again",
   "metadata": {
    "id": "GOZ9KbLZKDDF",
    "cell_id": "00020-92c4cde5-58d9-4bd5-90a2-2f7abe3eb487",
    "deepnote_cell_type": "markdown"
   }
  },
  {
   "cell_type": "code",
   "metadata": {
    "id": "ao4TC1flKDDF",
    "executionInfo": {
     "status": "ok",
     "timestamp": 1624730423978,
     "user_tz": 240,
     "elapsed": 10,
     "user": {
      "displayName": "Andrés Sánchez",
      "photoUrl": "https://lh3.googleusercontent.com/a-/AOh14Gg69bZMv30ckb-T1MJy0nSxWIHUaP0p2uP6MYBuvQ=s64",
      "userId": "07985253921366566280"
     }
    },
    "cell_id": "00021-e01276a4-e9b2-427f-b2a4-a1078781ca0c",
    "deepnote_to_be_reexecuted": false,
    "source_hash": "5c8c5654",
    "execution_start": 1630098611001,
    "execution_millis": 2,
    "deepnote_cell_type": "code"
   },
   "source": "iris = iris.reset_index()\niris = iris.iloc[:,1:]",
   "execution_count": 10,
   "outputs": []
  },
  {
   "cell_type": "code",
   "metadata": {
    "id": "RqVPjomZes6N",
    "executionInfo": {
     "status": "ok",
     "timestamp": 1624730425918,
     "user_tz": 240,
     "elapsed": 202,
     "user": {
      "displayName": "Andrés Sánchez",
      "photoUrl": "https://lh3.googleusercontent.com/a-/AOh14Gg69bZMv30ckb-T1MJy0nSxWIHUaP0p2uP6MYBuvQ=s64",
      "userId": "07985253921366566280"
     }
    },
    "outputId": "1d3aab3f-e99f-44c5-bb09-7d5ad21d1aaa",
    "colab": {
     "base_uri": "https://localhost:8080/",
     "height": 1000
    },
    "cell_id": "00022-82f9a35e-4b2c-43b6-a887-052b77b7bb60",
    "deepnote_to_be_reexecuted": false,
    "source_hash": "fa21489f",
    "execution_start": 1630098611006,
    "execution_millis": 36,
    "deepnote_cell_type": "code"
   },
   "source": "iris",
   "execution_count": 11,
   "outputs": [
    {
     "output_type": "execute_result",
     "execution_count": 11,
     "data": {
      "application/vnd.deepnote.dataframe.v2+json": {
       "row_count": 146,
       "column_count": 4,
       "columns": [
        {
         "name": "sepal_length (in cm)",
         "dtype": "float64",
         "stats": {
          "unique_count": 35,
          "nan_count": 0,
          "min": "1.0",
          "max": "7.9",
          "histogram": [
           {
            "bin_start": 1,
            "bin_end": 1.69,
            "count": 19
           },
           {
            "bin_start": 1.69,
            "bin_end": 2.38,
            "count": 0
           },
           {
            "bin_start": 2.38,
            "bin_end": 3.0700000000000003,
            "count": 0
           },
           {
            "bin_start": 3.0700000000000003,
            "bin_end": 3.7600000000000002,
            "count": 0
           },
           {
            "bin_start": 3.7600000000000002,
            "bin_end": 4.45,
            "count": 3
           },
           {
            "bin_start": 4.45,
            "bin_end": 5.140000000000001,
            "count": 23
           },
           {
            "bin_start": 5.140000000000001,
            "bin_end": 5.83,
            "count": 31
           },
           {
            "bin_start": 5.83,
            "bin_end": 6.5200000000000005,
            "count": 40
           },
           {
            "bin_start": 6.5200000000000005,
            "bin_end": 7.210000000000001,
            "count": 22
           },
           {
            "bin_start": 7.210000000000001,
            "bin_end": 7.9,
            "count": 8
           }
          ]
         }
        },
        {
         "name": "sepal_width (in cm)",
         "dtype": "float64",
         "stats": {
          "unique_count": 22,
          "nan_count": 0,
          "min": "1.0",
          "max": "4.2",
          "histogram": [
           {
            "bin_start": 1,
            "bin_end": 1.32,
            "count": 19
           },
           {
            "bin_start": 1.32,
            "bin_end": 1.6400000000000001,
            "count": 0
           },
           {
            "bin_start": 1.6400000000000001,
            "bin_end": 1.96,
            "count": 0
           },
           {
            "bin_start": 1.96,
            "bin_end": 2.2800000000000002,
            "count": 4
           },
           {
            "bin_start": 2.2800000000000002,
            "bin_end": 2.6,
            "count": 15
           },
           {
            "bin_start": 2.6,
            "bin_end": 2.92,
            "count": 38
           },
           {
            "bin_start": 2.92,
            "bin_end": 3.24,
            "count": 45
           },
           {
            "bin_start": 3.24,
            "bin_end": 3.56,
            "count": 15
           },
           {
            "bin_start": 3.56,
            "bin_end": 3.88,
            "count": 7
           },
           {
            "bin_start": 3.88,
            "bin_end": 4.2,
            "count": 3
           }
          ]
         }
        },
        {
         "name": "petal_length (in cm)",
         "dtype": "float64",
         "stats": {
          "unique_count": 42,
          "nan_count": 0,
          "min": "1.0",
          "max": "6.9",
          "histogram": [
           {
            "bin_start": 1,
            "bin_end": 1.59,
            "count": 40
           },
           {
            "bin_start": 1.59,
            "bin_end": 2.18,
            "count": 6
           },
           {
            "bin_start": 2.18,
            "bin_end": 2.7700000000000005,
            "count": 0
           },
           {
            "bin_start": 2.7700000000000005,
            "bin_end": 3.3600000000000003,
            "count": 3
           },
           {
            "bin_start": 3.3600000000000003,
            "bin_end": 3.95,
            "count": 8
           },
           {
            "bin_start": 3.95,
            "bin_end": 4.540000000000001,
            "count": 26
           },
           {
            "bin_start": 4.540000000000001,
            "bin_end": 5.130000000000001,
            "count": 29
           },
           {
            "bin_start": 5.130000000000001,
            "bin_end": 5.720000000000001,
            "count": 18
           },
           {
            "bin_start": 5.720000000000001,
            "bin_end": 6.3100000000000005,
            "count": 11
           },
           {
            "bin_start": 6.3100000000000005,
            "bin_end": 6.9,
            "count": 5
           }
          ]
         }
        },
        {
         "name": "petal_width (in cm)",
         "dtype": "float64",
         "stats": {
          "unique_count": 21,
          "nan_count": 0,
          "min": "0.1",
          "max": "2.5",
          "histogram": [
           {
            "bin_start": 0.1,
            "bin_end": 0.33999999999999997,
            "count": 23
           },
           {
            "bin_start": 0.33999999999999997,
            "bin_end": 0.58,
            "count": 3
           },
           {
            "bin_start": 0.58,
            "bin_end": 0.82,
            "count": 1
           },
           {
            "bin_start": 0.82,
            "bin_end": 1.06,
            "count": 26
           },
           {
            "bin_start": 1.06,
            "bin_end": 1.3,
            "count": 8
           },
           {
            "bin_start": 1.3,
            "bin_end": 1.54,
            "count": 33
           },
           {
            "bin_start": 1.54,
            "bin_end": 1.78,
            "count": 6
           },
           {
            "bin_start": 1.78,
            "bin_end": 2.02,
            "count": 23
           },
           {
            "bin_start": 2.02,
            "bin_end": 2.2600000000000002,
            "count": 9
           },
           {
            "bin_start": 2.2600000000000002,
            "bin_end": 2.5,
            "count": 14
           }
          ]
         }
        },
        {
         "name": "_deepnote_index_column",
         "dtype": "int64"
        }
       ],
       "rows_top": [
        {
         "sepal_length (in cm)": 5,
         "sepal_width (in cm)": 3.6,
         "petal_length (in cm)": 1.4,
         "petal_width (in cm)": 0.2,
         "_deepnote_index_column": 0
        },
        {
         "sepal_length (in cm)": 5.4,
         "sepal_width (in cm)": 3.9,
         "petal_length (in cm)": 1.7,
         "petal_width (in cm)": 0.4,
         "_deepnote_index_column": 1
        },
        {
         "sepal_length (in cm)": 4.6,
         "sepal_width (in cm)": 3.4,
         "petal_length (in cm)": 1.4,
         "petal_width (in cm)": 0.3,
         "_deepnote_index_column": 2
        },
        {
         "sepal_length (in cm)": 5,
         "sepal_width (in cm)": 3.4,
         "petal_length (in cm)": 1.5,
         "petal_width (in cm)": 0.2,
         "_deepnote_index_column": 3
        },
        {
         "sepal_length (in cm)": 4.4,
         "sepal_width (in cm)": 2.9,
         "petal_length (in cm)": 1.4,
         "petal_width (in cm)": 0.2,
         "_deepnote_index_column": 4
        },
        {
         "sepal_length (in cm)": 4.9,
         "sepal_width (in cm)": 3.1,
         "petal_length (in cm)": 1.5,
         "petal_width (in cm)": 0.1,
         "_deepnote_index_column": 5
        },
        {
         "sepal_length (in cm)": 1,
         "sepal_width (in cm)": 1,
         "petal_length (in cm)": 1,
         "petal_width (in cm)": 1,
         "_deepnote_index_column": 6
        },
        {
         "sepal_length (in cm)": 1,
         "sepal_width (in cm)": 1,
         "petal_length (in cm)": 1,
         "petal_width (in cm)": 1,
         "_deepnote_index_column": 7
        },
        {
         "sepal_length (in cm)": 1,
         "sepal_width (in cm)": 1,
         "petal_length (in cm)": 1,
         "petal_width (in cm)": 1,
         "_deepnote_index_column": 8
        },
        {
         "sepal_length (in cm)": 1,
         "sepal_width (in cm)": 1,
         "petal_length (in cm)": 1,
         "petal_width (in cm)": 1,
         "_deepnote_index_column": 9
        },
        {
         "sepal_length (in cm)": 1,
         "sepal_width (in cm)": 1,
         "petal_length (in cm)": 1,
         "petal_width (in cm)": 1,
         "_deepnote_index_column": 10
        },
        {
         "sepal_length (in cm)": 1,
         "sepal_width (in cm)": 1,
         "petal_length (in cm)": 1,
         "petal_width (in cm)": 1,
         "_deepnote_index_column": 11
        },
        {
         "sepal_length (in cm)": 1,
         "sepal_width (in cm)": 1,
         "petal_length (in cm)": 1,
         "petal_width (in cm)": 1,
         "_deepnote_index_column": 12
        },
        {
         "sepal_length (in cm)": 1,
         "sepal_width (in cm)": 1,
         "petal_length (in cm)": 1,
         "petal_width (in cm)": 1,
         "_deepnote_index_column": 13
        },
        {
         "sepal_length (in cm)": 1,
         "sepal_width (in cm)": 1,
         "petal_length (in cm)": 1,
         "petal_width (in cm)": 1,
         "_deepnote_index_column": 14
        },
        {
         "sepal_length (in cm)": 1,
         "sepal_width (in cm)": 1,
         "petal_length (in cm)": 1,
         "petal_width (in cm)": 1,
         "_deepnote_index_column": 15
        },
        {
         "sepal_length (in cm)": 1,
         "sepal_width (in cm)": 1,
         "petal_length (in cm)": 1,
         "petal_width (in cm)": 1,
         "_deepnote_index_column": 16
        },
        {
         "sepal_length (in cm)": 1,
         "sepal_width (in cm)": 1,
         "petal_length (in cm)": 1,
         "petal_width (in cm)": 1,
         "_deepnote_index_column": 17
        },
        {
         "sepal_length (in cm)": 1,
         "sepal_width (in cm)": 1,
         "petal_length (in cm)": 1,
         "petal_width (in cm)": 1,
         "_deepnote_index_column": 18
        },
        {
         "sepal_length (in cm)": 1,
         "sepal_width (in cm)": 1,
         "petal_length (in cm)": 1,
         "petal_width (in cm)": 1,
         "_deepnote_index_column": 19
        },
        {
         "sepal_length (in cm)": 1,
         "sepal_width (in cm)": 1,
         "petal_length (in cm)": 1,
         "petal_width (in cm)": 1,
         "_deepnote_index_column": 20
        },
        {
         "sepal_length (in cm)": 1,
         "sepal_width (in cm)": 1,
         "petal_length (in cm)": 1,
         "petal_width (in cm)": 1,
         "_deepnote_index_column": 21
        },
        {
         "sepal_length (in cm)": 1,
         "sepal_width (in cm)": 1,
         "petal_length (in cm)": 1,
         "petal_width (in cm)": 1,
         "_deepnote_index_column": 22
        },
        {
         "sepal_length (in cm)": 1,
         "sepal_width (in cm)": 1,
         "petal_length (in cm)": 1,
         "petal_width (in cm)": 1,
         "_deepnote_index_column": 23
        },
        {
         "sepal_length (in cm)": 1,
         "sepal_width (in cm)": 1,
         "petal_length (in cm)": 1,
         "petal_width (in cm)": 1,
         "_deepnote_index_column": 24
        },
        {
         "sepal_length (in cm)": 4.7,
         "sepal_width (in cm)": 3.2,
         "petal_length (in cm)": 1.6,
         "petal_width (in cm)": 0.2,
         "_deepnote_index_column": 25
        },
        {
         "sepal_length (in cm)": 4.8,
         "sepal_width (in cm)": 3.1,
         "petal_length (in cm)": 1.6,
         "petal_width (in cm)": 0.2,
         "_deepnote_index_column": 26
        },
        {
         "sepal_length (in cm)": 5.4,
         "sepal_width (in cm)": 3.4,
         "petal_length (in cm)": 1.5,
         "petal_width (in cm)": 0.4,
         "_deepnote_index_column": 27
        },
        {
         "sepal_length (in cm)": 5.2,
         "sepal_width (in cm)": 4.1,
         "petal_length (in cm)": 1.5,
         "petal_width (in cm)": 0.1,
         "_deepnote_index_column": 28
        },
        {
         "sepal_length (in cm)": 5.5,
         "sepal_width (in cm)": 4.2,
         "petal_length (in cm)": 1.4,
         "petal_width (in cm)": 0.2,
         "_deepnote_index_column": 29
        },
        {
         "sepal_length (in cm)": 4.9,
         "sepal_width (in cm)": 3.1,
         "petal_length (in cm)": 1.5,
         "petal_width (in cm)": 0.1,
         "_deepnote_index_column": 30
        },
        {
         "sepal_length (in cm)": 5,
         "sepal_width (in cm)": 3.2,
         "petal_length (in cm)": 1.2,
         "petal_width (in cm)": 0.2,
         "_deepnote_index_column": 31
        },
        {
         "sepal_length (in cm)": 5.5,
         "sepal_width (in cm)": 3.5,
         "petal_length (in cm)": 1.3,
         "petal_width (in cm)": 0.2,
         "_deepnote_index_column": 32
        },
        {
         "sepal_length (in cm)": 4.9,
         "sepal_width (in cm)": 3.1,
         "petal_length (in cm)": 1.5,
         "petal_width (in cm)": 0.1,
         "_deepnote_index_column": 33
        },
        {
         "sepal_length (in cm)": 4.4,
         "sepal_width (in cm)": 3,
         "petal_length (in cm)": 1.3,
         "petal_width (in cm)": 0.2,
         "_deepnote_index_column": 34
        },
        {
         "sepal_length (in cm)": 5.1,
         "sepal_width (in cm)": 3.4,
         "petal_length (in cm)": 1.5,
         "petal_width (in cm)": 0.2,
         "_deepnote_index_column": 35
        },
        {
         "sepal_length (in cm)": 5,
         "sepal_width (in cm)": 3.5,
         "petal_length (in cm)": 1.3,
         "petal_width (in cm)": 0.3,
         "_deepnote_index_column": 36
        },
        {
         "sepal_length (in cm)": 4.5,
         "sepal_width (in cm)": 2.3,
         "petal_length (in cm)": 1.3,
         "petal_width (in cm)": 0.3,
         "_deepnote_index_column": 37
        },
        {
         "sepal_length (in cm)": 4.4,
         "sepal_width (in cm)": 3.2,
         "petal_length (in cm)": 1.3,
         "petal_width (in cm)": 0.2,
         "_deepnote_index_column": 38
        },
        {
         "sepal_length (in cm)": 5,
         "sepal_width (in cm)": 3.5,
         "petal_length (in cm)": 1.6,
         "petal_width (in cm)": 0.6,
         "_deepnote_index_column": 39
        },
        {
         "sepal_length (in cm)": 5.1,
         "sepal_width (in cm)": 3.8,
         "petal_length (in cm)": 1.9,
         "petal_width (in cm)": 0.4,
         "_deepnote_index_column": 40
        },
        {
         "sepal_length (in cm)": 4.8,
         "sepal_width (in cm)": 3,
         "petal_length (in cm)": 1.4,
         "petal_width (in cm)": 0.3,
         "_deepnote_index_column": 41
        },
        {
         "sepal_length (in cm)": 5.1,
         "sepal_width (in cm)": 3.8,
         "petal_length (in cm)": 1.6,
         "petal_width (in cm)": 0.2,
         "_deepnote_index_column": 42
        },
        {
         "sepal_length (in cm)": 4.6,
         "sepal_width (in cm)": 3.2,
         "petal_length (in cm)": 1.4,
         "petal_width (in cm)": 0.2,
         "_deepnote_index_column": 43
        },
        {
         "sepal_length (in cm)": 5.3,
         "sepal_width (in cm)": 3.7,
         "petal_length (in cm)": 1.5,
         "petal_width (in cm)": 0.2,
         "_deepnote_index_column": 44
        },
        {
         "sepal_length (in cm)": 5,
         "sepal_width (in cm)": 3.3,
         "petal_length (in cm)": 1.4,
         "petal_width (in cm)": 0.2,
         "_deepnote_index_column": 45
        },
        {
         "sepal_length (in cm)": 7,
         "sepal_width (in cm)": 3.2,
         "petal_length (in cm)": 4.7,
         "petal_width (in cm)": 1.4,
         "_deepnote_index_column": 46
        },
        {
         "sepal_length (in cm)": 6.4,
         "sepal_width (in cm)": 3.2,
         "petal_length (in cm)": 4.5,
         "petal_width (in cm)": 1.5,
         "_deepnote_index_column": 47
        },
        {
         "sepal_length (in cm)": 6.9,
         "sepal_width (in cm)": 3.1,
         "petal_length (in cm)": 4.9,
         "petal_width (in cm)": 1.5,
         "_deepnote_index_column": 48
        },
        {
         "sepal_length (in cm)": 5.5,
         "sepal_width (in cm)": 2.3,
         "petal_length (in cm)": 4,
         "petal_width (in cm)": 1.3,
         "_deepnote_index_column": 49
        },
        {
         "sepal_length (in cm)": 6.5,
         "sepal_width (in cm)": 2.8,
         "petal_length (in cm)": 4.6,
         "petal_width (in cm)": 1.5,
         "_deepnote_index_column": 50
        },
        {
         "sepal_length (in cm)": 5.7,
         "sepal_width (in cm)": 2.8,
         "petal_length (in cm)": 4.5,
         "petal_width (in cm)": 1.3,
         "_deepnote_index_column": 51
        },
        {
         "sepal_length (in cm)": 6.3,
         "sepal_width (in cm)": 3.3,
         "petal_length (in cm)": 4.7,
         "petal_width (in cm)": 1.6,
         "_deepnote_index_column": 52
        },
        {
         "sepal_length (in cm)": 4.9,
         "sepal_width (in cm)": 2.4,
         "petal_length (in cm)": 3.3,
         "petal_width (in cm)": 1,
         "_deepnote_index_column": 53
        },
        {
         "sepal_length (in cm)": 6.6,
         "sepal_width (in cm)": 2.9,
         "petal_length (in cm)": 4.6,
         "petal_width (in cm)": 1.3,
         "_deepnote_index_column": 54
        },
        {
         "sepal_length (in cm)": 5.2,
         "sepal_width (in cm)": 2.7,
         "petal_length (in cm)": 3.9,
         "petal_width (in cm)": 1.4,
         "_deepnote_index_column": 55
        },
        {
         "sepal_length (in cm)": 5,
         "sepal_width (in cm)": 2,
         "petal_length (in cm)": 3.5,
         "petal_width (in cm)": 1,
         "_deepnote_index_column": 56
        },
        {
         "sepal_length (in cm)": 5.9,
         "sepal_width (in cm)": 3,
         "petal_length (in cm)": 4.2,
         "petal_width (in cm)": 1.5,
         "_deepnote_index_column": 57
        },
        {
         "sepal_length (in cm)": 6,
         "sepal_width (in cm)": 2.2,
         "petal_length (in cm)": 4,
         "petal_width (in cm)": 1,
         "_deepnote_index_column": 58
        },
        {
         "sepal_length (in cm)": 6.1,
         "sepal_width (in cm)": 2.9,
         "petal_length (in cm)": 4.7,
         "petal_width (in cm)": 1.4,
         "_deepnote_index_column": 59
        },
        {
         "sepal_length (in cm)": 5.6,
         "sepal_width (in cm)": 2.9,
         "petal_length (in cm)": 3.6,
         "petal_width (in cm)": 1.3,
         "_deepnote_index_column": 60
        },
        {
         "sepal_length (in cm)": 6.7,
         "sepal_width (in cm)": 3.1,
         "petal_length (in cm)": 4.4,
         "petal_width (in cm)": 1.4,
         "_deepnote_index_column": 61
        },
        {
         "sepal_length (in cm)": 5.6,
         "sepal_width (in cm)": 3,
         "petal_length (in cm)": 4.5,
         "petal_width (in cm)": 1.5,
         "_deepnote_index_column": 62
        },
        {
         "sepal_length (in cm)": 5.8,
         "sepal_width (in cm)": 2.7,
         "petal_length (in cm)": 4.1,
         "petal_width (in cm)": 1,
         "_deepnote_index_column": 63
        },
        {
         "sepal_length (in cm)": 6.2,
         "sepal_width (in cm)": 2.2,
         "petal_length (in cm)": 4.5,
         "petal_width (in cm)": 1.5,
         "_deepnote_index_column": 64
        },
        {
         "sepal_length (in cm)": 5.6,
         "sepal_width (in cm)": 2.5,
         "petal_length (in cm)": 3.9,
         "petal_width (in cm)": 1.1,
         "_deepnote_index_column": 65
        },
        {
         "sepal_length (in cm)": 5.9,
         "sepal_width (in cm)": 3.2,
         "petal_length (in cm)": 4.8,
         "petal_width (in cm)": 1.8,
         "_deepnote_index_column": 66
        },
        {
         "sepal_length (in cm)": 6.1,
         "sepal_width (in cm)": 2.8,
         "petal_length (in cm)": 4,
         "petal_width (in cm)": 1.3,
         "_deepnote_index_column": 67
        },
        {
         "sepal_length (in cm)": 6.3,
         "sepal_width (in cm)": 2.5,
         "petal_length (in cm)": 4.9,
         "petal_width (in cm)": 1.5,
         "_deepnote_index_column": 68
        },
        {
         "sepal_length (in cm)": 6.1,
         "sepal_width (in cm)": 2.8,
         "petal_length (in cm)": 4.7,
         "petal_width (in cm)": 1.2,
         "_deepnote_index_column": 69
        },
        {
         "sepal_length (in cm)": 6.4,
         "sepal_width (in cm)": 2.9,
         "petal_length (in cm)": 4.3,
         "petal_width (in cm)": 1.3,
         "_deepnote_index_column": 70
        },
        {
         "sepal_length (in cm)": 6.6,
         "sepal_width (in cm)": 3,
         "petal_length (in cm)": 4.4,
         "petal_width (in cm)": 1.4,
         "_deepnote_index_column": 71
        },
        {
         "sepal_length (in cm)": 6.8,
         "sepal_width (in cm)": 2.8,
         "petal_length (in cm)": 4.8,
         "petal_width (in cm)": 1.4,
         "_deepnote_index_column": 72
        },
        {
         "sepal_length (in cm)": 6.7,
         "sepal_width (in cm)": 3,
         "petal_length (in cm)": 5,
         "petal_width (in cm)": 1.7,
         "_deepnote_index_column": 73
        },
        {
         "sepal_length (in cm)": 6,
         "sepal_width (in cm)": 2.9,
         "petal_length (in cm)": 4.5,
         "petal_width (in cm)": 1.5,
         "_deepnote_index_column": 74
        },
        {
         "sepal_length (in cm)": 5.7,
         "sepal_width (in cm)": 2.6,
         "petal_length (in cm)": 3.5,
         "petal_width (in cm)": 1,
         "_deepnote_index_column": 75
        },
        {
         "sepal_length (in cm)": 5.5,
         "sepal_width (in cm)": 2.4,
         "petal_length (in cm)": 3.8,
         "petal_width (in cm)": 1.1,
         "_deepnote_index_column": 76
        },
        {
         "sepal_length (in cm)": 5.5,
         "sepal_width (in cm)": 2.4,
         "petal_length (in cm)": 3.7,
         "petal_width (in cm)": 1,
         "_deepnote_index_column": 77
        },
        {
         "sepal_length (in cm)": 5.8,
         "sepal_width (in cm)": 2.7,
         "petal_length (in cm)": 3.9,
         "petal_width (in cm)": 1.2,
         "_deepnote_index_column": 78
        },
        {
         "sepal_length (in cm)": 6,
         "sepal_width (in cm)": 2.7,
         "petal_length (in cm)": 5.1,
         "petal_width (in cm)": 1.6,
         "_deepnote_index_column": 79
        },
        {
         "sepal_length (in cm)": 5.4,
         "sepal_width (in cm)": 3,
         "petal_length (in cm)": 4.5,
         "petal_width (in cm)": 1.5,
         "_deepnote_index_column": 80
        },
        {
         "sepal_length (in cm)": 6,
         "sepal_width (in cm)": 3.4,
         "petal_length (in cm)": 4.5,
         "petal_width (in cm)": 1.6,
         "_deepnote_index_column": 81
        },
        {
         "sepal_length (in cm)": 6.7,
         "sepal_width (in cm)": 3.1,
         "petal_length (in cm)": 4.7,
         "petal_width (in cm)": 1.5,
         "_deepnote_index_column": 82
        },
        {
         "sepal_length (in cm)": 6.3,
         "sepal_width (in cm)": 2.3,
         "petal_length (in cm)": 4.4,
         "petal_width (in cm)": 1.3,
         "_deepnote_index_column": 83
        },
        {
         "sepal_length (in cm)": 5.6,
         "sepal_width (in cm)": 3,
         "petal_length (in cm)": 4.1,
         "petal_width (in cm)": 1.3,
         "_deepnote_index_column": 84
        },
        {
         "sepal_length (in cm)": 5.5,
         "sepal_width (in cm)": 2.5,
         "petal_length (in cm)": 4,
         "petal_width (in cm)": 1.3,
         "_deepnote_index_column": 85
        },
        {
         "sepal_length (in cm)": 5.5,
         "sepal_width (in cm)": 2.6,
         "petal_length (in cm)": 4.4,
         "petal_width (in cm)": 1.2,
         "_deepnote_index_column": 86
        },
        {
         "sepal_length (in cm)": 6.1,
         "sepal_width (in cm)": 3,
         "petal_length (in cm)": 4.6,
         "petal_width (in cm)": 1.4,
         "_deepnote_index_column": 87
        },
        {
         "sepal_length (in cm)": 5.8,
         "sepal_width (in cm)": 2.6,
         "petal_length (in cm)": 4,
         "petal_width (in cm)": 1.2,
         "_deepnote_index_column": 88
        },
        {
         "sepal_length (in cm)": 5,
         "sepal_width (in cm)": 2.3,
         "petal_length (in cm)": 3.3,
         "petal_width (in cm)": 1,
         "_deepnote_index_column": 89
        },
        {
         "sepal_length (in cm)": 5.6,
         "sepal_width (in cm)": 2.7,
         "petal_length (in cm)": 4.2,
         "petal_width (in cm)": 1.3,
         "_deepnote_index_column": 90
        },
        {
         "sepal_length (in cm)": 5.7,
         "sepal_width (in cm)": 3,
         "petal_length (in cm)": 4.2,
         "petal_width (in cm)": 1.2,
         "_deepnote_index_column": 91
        },
        {
         "sepal_length (in cm)": 5.7,
         "sepal_width (in cm)": 2.9,
         "petal_length (in cm)": 4.2,
         "petal_width (in cm)": 1.3,
         "_deepnote_index_column": 92
        },
        {
         "sepal_length (in cm)": 6.2,
         "sepal_width (in cm)": 2.9,
         "petal_length (in cm)": 4.3,
         "petal_width (in cm)": 1.3,
         "_deepnote_index_column": 93
        },
        {
         "sepal_length (in cm)": 5.1,
         "sepal_width (in cm)": 2.5,
         "petal_length (in cm)": 3,
         "petal_width (in cm)": 1.1,
         "_deepnote_index_column": 94
        },
        {
         "sepal_length (in cm)": 5.7,
         "sepal_width (in cm)": 2.8,
         "petal_length (in cm)": 4.1,
         "petal_width (in cm)": 1.3,
         "_deepnote_index_column": 95
        },
        {
         "sepal_length (in cm)": 6.3,
         "sepal_width (in cm)": 3.3,
         "petal_length (in cm)": 6,
         "petal_width (in cm)": 2.5,
         "_deepnote_index_column": 96
        },
        {
         "sepal_length (in cm)": 5.8,
         "sepal_width (in cm)": 2.7,
         "petal_length (in cm)": 5.1,
         "petal_width (in cm)": 1.9,
         "_deepnote_index_column": 97
        },
        {
         "sepal_length (in cm)": 7.1,
         "sepal_width (in cm)": 3,
         "petal_length (in cm)": 5.9,
         "petal_width (in cm)": 2.1,
         "_deepnote_index_column": 98
        },
        {
         "sepal_length (in cm)": 6.3,
         "sepal_width (in cm)": 2.9,
         "petal_length (in cm)": 5.6,
         "petal_width (in cm)": 1.8,
         "_deepnote_index_column": 99
        },
        {
         "sepal_length (in cm)": 6.5,
         "sepal_width (in cm)": 3,
         "petal_length (in cm)": 5.8,
         "petal_width (in cm)": 2.2,
         "_deepnote_index_column": 100
        },
        {
         "sepal_length (in cm)": 7.6,
         "sepal_width (in cm)": 3,
         "petal_length (in cm)": 6.6,
         "petal_width (in cm)": 2.1,
         "_deepnote_index_column": 101
        },
        {
         "sepal_length (in cm)": 4.9,
         "sepal_width (in cm)": 2.5,
         "petal_length (in cm)": 4.5,
         "petal_width (in cm)": 1.7,
         "_deepnote_index_column": 102
        },
        {
         "sepal_length (in cm)": 7.3,
         "sepal_width (in cm)": 2.9,
         "petal_length (in cm)": 6.3,
         "petal_width (in cm)": 1.8,
         "_deepnote_index_column": 103
        },
        {
         "sepal_length (in cm)": 6.7,
         "sepal_width (in cm)": 2.5,
         "petal_length (in cm)": 5.8,
         "petal_width (in cm)": 1.8,
         "_deepnote_index_column": 104
        },
        {
         "sepal_length (in cm)": 7.2,
         "sepal_width (in cm)": 3.6,
         "petal_length (in cm)": 6.1,
         "petal_width (in cm)": 2.5,
         "_deepnote_index_column": 105
        },
        {
         "sepal_length (in cm)": 6.5,
         "sepal_width (in cm)": 3.2,
         "petal_length (in cm)": 5.1,
         "petal_width (in cm)": 2,
         "_deepnote_index_column": 106
        },
        {
         "sepal_length (in cm)": 6.4,
         "sepal_width (in cm)": 2.7,
         "petal_length (in cm)": 5.3,
         "petal_width (in cm)": 1.9,
         "_deepnote_index_column": 107
        },
        {
         "sepal_length (in cm)": 6.8,
         "sepal_width (in cm)": 3,
         "petal_length (in cm)": 5.5,
         "petal_width (in cm)": 2.1,
         "_deepnote_index_column": 108
        },
        {
         "sepal_length (in cm)": 5.7,
         "sepal_width (in cm)": 2.5,
         "petal_length (in cm)": 5,
         "petal_width (in cm)": 2,
         "_deepnote_index_column": 109
        },
        {
         "sepal_length (in cm)": 5.8,
         "sepal_width (in cm)": 2.8,
         "petal_length (in cm)": 5.1,
         "petal_width (in cm)": 2.4,
         "_deepnote_index_column": 110
        },
        {
         "sepal_length (in cm)": 6.4,
         "sepal_width (in cm)": 3.2,
         "petal_length (in cm)": 5.3,
         "petal_width (in cm)": 2.3,
         "_deepnote_index_column": 111
        },
        {
         "sepal_length (in cm)": 6.5,
         "sepal_width (in cm)": 3,
         "petal_length (in cm)": 5.5,
         "petal_width (in cm)": 1.8,
         "_deepnote_index_column": 112
        },
        {
         "sepal_length (in cm)": 7.7,
         "sepal_width (in cm)": 3.8,
         "petal_length (in cm)": 6.7,
         "petal_width (in cm)": 2.2,
         "_deepnote_index_column": 113
        },
        {
         "sepal_length (in cm)": 7.7,
         "sepal_width (in cm)": 2.6,
         "petal_length (in cm)": 6.9,
         "petal_width (in cm)": 2.3,
         "_deepnote_index_column": 114
        },
        {
         "sepal_length (in cm)": 6,
         "sepal_width (in cm)": 2.2,
         "petal_length (in cm)": 5,
         "petal_width (in cm)": 1.5,
         "_deepnote_index_column": 115
        },
        {
         "sepal_length (in cm)": 6.9,
         "sepal_width (in cm)": 3.2,
         "petal_length (in cm)": 5.7,
         "petal_width (in cm)": 2.3,
         "_deepnote_index_column": 116
        },
        {
         "sepal_length (in cm)": 5.6,
         "sepal_width (in cm)": 2.8,
         "petal_length (in cm)": 4.9,
         "petal_width (in cm)": 2,
         "_deepnote_index_column": 117
        },
        {
         "sepal_length (in cm)": 7.7,
         "sepal_width (in cm)": 2.8,
         "petal_length (in cm)": 6.7,
         "petal_width (in cm)": 2,
         "_deepnote_index_column": 118
        },
        {
         "sepal_length (in cm)": 6.3,
         "sepal_width (in cm)": 2.7,
         "petal_length (in cm)": 4.9,
         "petal_width (in cm)": 1.8,
         "_deepnote_index_column": 119
        },
        {
         "sepal_length (in cm)": 6.7,
         "sepal_width (in cm)": 3.3,
         "petal_length (in cm)": 5.7,
         "petal_width (in cm)": 2.1,
         "_deepnote_index_column": 120
        },
        {
         "sepal_length (in cm)": 7.2,
         "sepal_width (in cm)": 3.2,
         "petal_length (in cm)": 6,
         "petal_width (in cm)": 1.8,
         "_deepnote_index_column": 121
        },
        {
         "sepal_length (in cm)": 6.2,
         "sepal_width (in cm)": 2.8,
         "petal_length (in cm)": 4.8,
         "petal_width (in cm)": 1.8,
         "_deepnote_index_column": 122
        },
        {
         "sepal_length (in cm)": 6.1,
         "sepal_width (in cm)": 3,
         "petal_length (in cm)": 4.9,
         "petal_width (in cm)": 1.8,
         "_deepnote_index_column": 123
        },
        {
         "sepal_length (in cm)": 6.4,
         "sepal_width (in cm)": 2.8,
         "petal_length (in cm)": 5.6,
         "petal_width (in cm)": 2.1,
         "_deepnote_index_column": 124
        },
        {
         "sepal_length (in cm)": 7.2,
         "sepal_width (in cm)": 3,
         "petal_length (in cm)": 5.8,
         "petal_width (in cm)": 1.6,
         "_deepnote_index_column": 125
        },
        {
         "sepal_length (in cm)": 7.4,
         "sepal_width (in cm)": 2.8,
         "petal_length (in cm)": 6.1,
         "petal_width (in cm)": 1.9,
         "_deepnote_index_column": 126
        },
        {
         "sepal_length (in cm)": 7.9,
         "sepal_width (in cm)": 3.8,
         "petal_length (in cm)": 6.4,
         "petal_width (in cm)": 2,
         "_deepnote_index_column": 127
        },
        {
         "sepal_length (in cm)": 6.4,
         "sepal_width (in cm)": 2.8,
         "petal_length (in cm)": 5.6,
         "petal_width (in cm)": 2.2,
         "_deepnote_index_column": 128
        },
        {
         "sepal_length (in cm)": 6.3,
         "sepal_width (in cm)": 2.8,
         "petal_length (in cm)": 5.1,
         "petal_width (in cm)": 1.5,
         "_deepnote_index_column": 129
        },
        {
         "sepal_length (in cm)": 6.1,
         "sepal_width (in cm)": 2.6,
         "petal_length (in cm)": 5.6,
         "petal_width (in cm)": 1.4,
         "_deepnote_index_column": 130
        },
        {
         "sepal_length (in cm)": 7.7,
         "sepal_width (in cm)": 3,
         "petal_length (in cm)": 6.1,
         "petal_width (in cm)": 2.3,
         "_deepnote_index_column": 131
        },
        {
         "sepal_length (in cm)": 6.3,
         "sepal_width (in cm)": 3.4,
         "petal_length (in cm)": 5.6,
         "petal_width (in cm)": 2.4,
         "_deepnote_index_column": 132
        },
        {
         "sepal_length (in cm)": 6.4,
         "sepal_width (in cm)": 3.1,
         "petal_length (in cm)": 5.5,
         "petal_width (in cm)": 1.8,
         "_deepnote_index_column": 133
        },
        {
         "sepal_length (in cm)": 6,
         "sepal_width (in cm)": 3,
         "petal_length (in cm)": 4.8,
         "petal_width (in cm)": 1.8,
         "_deepnote_index_column": 134
        },
        {
         "sepal_length (in cm)": 6.9,
         "sepal_width (in cm)": 3.1,
         "petal_length (in cm)": 5.4,
         "petal_width (in cm)": 2.1,
         "_deepnote_index_column": 135
        },
        {
         "sepal_length (in cm)": 6.7,
         "sepal_width (in cm)": 3.1,
         "petal_length (in cm)": 5.6,
         "petal_width (in cm)": 2.4,
         "_deepnote_index_column": 136
        },
        {
         "sepal_length (in cm)": 6.9,
         "sepal_width (in cm)": 3.1,
         "petal_length (in cm)": 5.1,
         "petal_width (in cm)": 2.3,
         "_deepnote_index_column": 137
        },
        {
         "sepal_length (in cm)": 5.8,
         "sepal_width (in cm)": 2.7,
         "petal_length (in cm)": 5.1,
         "petal_width (in cm)": 1.9,
         "_deepnote_index_column": 138
        },
        {
         "sepal_length (in cm)": 6.8,
         "sepal_width (in cm)": 3.2,
         "petal_length (in cm)": 5.9,
         "petal_width (in cm)": 2.3,
         "_deepnote_index_column": 139
        },
        {
         "sepal_length (in cm)": 6.7,
         "sepal_width (in cm)": 3.3,
         "petal_length (in cm)": 5.7,
         "petal_width (in cm)": 2.5,
         "_deepnote_index_column": 140
        },
        {
         "sepal_length (in cm)": 6.7,
         "sepal_width (in cm)": 3,
         "petal_length (in cm)": 5.2,
         "petal_width (in cm)": 2.3,
         "_deepnote_index_column": 141
        },
        {
         "sepal_length (in cm)": 6.3,
         "sepal_width (in cm)": 2.5,
         "petal_length (in cm)": 5,
         "petal_width (in cm)": 1.9,
         "_deepnote_index_column": 142
        },
        {
         "sepal_length (in cm)": 6.5,
         "sepal_width (in cm)": 3,
         "petal_length (in cm)": 5.2,
         "petal_width (in cm)": 2,
         "_deepnote_index_column": 143
        },
        {
         "sepal_length (in cm)": 6.2,
         "sepal_width (in cm)": 3.4,
         "petal_length (in cm)": 5.4,
         "petal_width (in cm)": 2.3,
         "_deepnote_index_column": 144
        },
        {
         "sepal_length (in cm)": 5.9,
         "sepal_width (in cm)": 3,
         "petal_length (in cm)": 5.1,
         "petal_width (in cm)": 1.8,
         "_deepnote_index_column": 145
        }
       ],
       "rows_bottom": null
      },
      "text/plain": "     sepal_length (in cm)  sepal_width (in cm)  petal_length (in cm)  \\\n0                     5.0                  3.6                   1.4   \n1                     5.4                  3.9                   1.7   \n2                     4.6                  3.4                   1.4   \n3                     5.0                  3.4                   1.5   \n4                     4.4                  2.9                   1.4   \n..                    ...                  ...                   ...   \n141                   6.7                  3.0                   5.2   \n142                   6.3                  2.5                   5.0   \n143                   6.5                  3.0                   5.2   \n144                   6.2                  3.4                   5.4   \n145                   5.9                  3.0                   5.1   \n\n     petal_width (in cm)  \n0                    0.2  \n1                    0.4  \n2                    0.3  \n3                    0.2  \n4                    0.2  \n..                   ...  \n141                  2.3  \n142                  1.9  \n143                  2.0  \n144                  2.3  \n145                  1.8  \n\n[146 rows x 4 columns]",
      "text/html": "<div>\n<style scoped>\n    .dataframe tbody tr th:only-of-type {\n        vertical-align: middle;\n    }\n\n    .dataframe tbody tr th {\n        vertical-align: top;\n    }\n\n    .dataframe thead th {\n        text-align: right;\n    }\n</style>\n<table border=\"1\" class=\"dataframe\">\n  <thead>\n    <tr style=\"text-align: right;\">\n      <th></th>\n      <th>sepal_length (in cm)</th>\n      <th>sepal_width (in cm)</th>\n      <th>petal_length (in cm)</th>\n      <th>petal_width (in cm)</th>\n    </tr>\n  </thead>\n  <tbody>\n    <tr>\n      <th>0</th>\n      <td>5.0</td>\n      <td>3.6</td>\n      <td>1.4</td>\n      <td>0.2</td>\n    </tr>\n    <tr>\n      <th>1</th>\n      <td>5.4</td>\n      <td>3.9</td>\n      <td>1.7</td>\n      <td>0.4</td>\n    </tr>\n    <tr>\n      <th>2</th>\n      <td>4.6</td>\n      <td>3.4</td>\n      <td>1.4</td>\n      <td>0.3</td>\n    </tr>\n    <tr>\n      <th>3</th>\n      <td>5.0</td>\n      <td>3.4</td>\n      <td>1.5</td>\n      <td>0.2</td>\n    </tr>\n    <tr>\n      <th>4</th>\n      <td>4.4</td>\n      <td>2.9</td>\n      <td>1.4</td>\n      <td>0.2</td>\n    </tr>\n    <tr>\n      <th>...</th>\n      <td>...</td>\n      <td>...</td>\n      <td>...</td>\n      <td>...</td>\n    </tr>\n    <tr>\n      <th>141</th>\n      <td>6.7</td>\n      <td>3.0</td>\n      <td>5.2</td>\n      <td>2.3</td>\n    </tr>\n    <tr>\n      <th>142</th>\n      <td>6.3</td>\n      <td>2.5</td>\n      <td>5.0</td>\n      <td>1.9</td>\n    </tr>\n    <tr>\n      <th>143</th>\n      <td>6.5</td>\n      <td>3.0</td>\n      <td>5.2</td>\n      <td>2.0</td>\n    </tr>\n    <tr>\n      <th>144</th>\n      <td>6.2</td>\n      <td>3.4</td>\n      <td>5.4</td>\n      <td>2.3</td>\n    </tr>\n    <tr>\n      <th>145</th>\n      <td>5.9</td>\n      <td>3.0</td>\n      <td>5.1</td>\n      <td>1.8</td>\n    </tr>\n  </tbody>\n</table>\n<p>146 rows × 4 columns</p>\n</div>"
     },
     "metadata": {}
    }
   ]
  },
  {
   "cell_type": "markdown",
   "source": "<a style='text-decoration:none;line-height:16px;display:flex;color:#5B5B62;padding:10px;justify-content:end;' href='https://deepnote.com?utm_source=created-in-deepnote-cell&projectId=fe744348-fecc-4b7a-803c-44dba24ecb38' target=\"_blank\">\n<img alt='Created in deepnote.com' style='display:inline;max-height:16px;margin:0px;margin-right:7.5px;' src='data:image/svg+xml;base64,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' > </img>\nCreated in <span style='font-weight:600;margin-left:4px;'>Deepnote</span></a>",
   "metadata": {
    "tags": [],
    "created_in_deepnote_cell": true,
    "deepnote_cell_type": "markdown"
   }
  }
 ],
 "nbformat": 4,
 "nbformat_minor": 0,
 "metadata": {
  "kernelspec": {
   "display_name": "Python 2",
   "language": "python",
   "name": "python2"
  },
  "language_info": {
   "codemirror_mode": {
    "name": "ipython",
    "version": 2
   },
   "file_extension": ".py",
   "mimetype": "text/x-python",
   "name": "python",
   "nbconvert_exporter": "python",
   "pygments_lexer": "ipython2",
   "version": "2.7.11"
  },
  "colab": {
   "name": "Exercises.ipynb",
   "provenance": [],
   "collapsed_sections": []
  },
  "deepnote_notebook_id": "a21c8d53-4965-4df1-9bf8-f402e8f314ff",
  "deepnote": {},
  "deepnote_execution_queue": []
 }
}
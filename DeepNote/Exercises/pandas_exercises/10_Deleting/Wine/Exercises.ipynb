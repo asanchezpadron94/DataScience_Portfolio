{
 "cells": [
  {
   "cell_type": "markdown",
   "source": "# Wine",
   "metadata": {
    "id": "40LT-CZwfE1y",
    "cell_id": "00000-54ea6027-ae16-48c7-b5dc-e48cf695c9f5",
    "deepnote_cell_type": "markdown"
   }
  },
  {
   "cell_type": "markdown",
   "source": "### Introduction:\n\nThis exercise is a adaptation from the UCI Wine dataset.\nThe only pupose is to practice deleting data with pandas.\n\n### Step 1. Import the necessary libraries",
   "metadata": {
    "id": "bkU5quN3fE10",
    "cell_id": "00001-2efadeff-9e8b-429c-85fc-17704c0c1007",
    "deepnote_cell_type": "markdown"
   }
  },
  {
   "cell_type": "code",
   "metadata": {
    "id": "Oh84-rXofE11",
    "executionInfo": {
     "status": "ok",
     "timestamp": 1624743475919,
     "user_tz": 240,
     "elapsed": 180,
     "user": {
      "displayName": "Andrés Sánchez",
      "photoUrl": "https://lh3.googleusercontent.com/a-/AOh14Gg69bZMv30ckb-T1MJy0nSxWIHUaP0p2uP6MYBuvQ=s64",
      "userId": "07985253921366566280"
     }
    },
    "cell_id": "00002-90783cad-216b-457e-9b41-9517b8d3932e",
    "deepnote_to_be_reexecuted": false,
    "source_hash": "be76151d",
    "execution_start": 1630098618604,
    "execution_millis": 36,
    "deepnote_cell_type": "code"
   },
   "source": "import pandas as pd\nimport numpy as np\nfrom numpy import random",
   "outputs": [],
   "execution_count": null
  },
  {
   "cell_type": "markdown",
   "source": "### Step 2. Import the dataset from this [address](https://archive.ics.uci.edu/ml/machine-learning-databases/wine/wine.data). ",
   "metadata": {
    "id": "ddPMyA4bfE11",
    "cell_id": "00003-6a4df738-cafd-4e8f-8d68-15a0c35805dd",
    "deepnote_cell_type": "markdown"
   }
  },
  {
   "cell_type": "markdown",
   "source": "### Step 3. Assign it to a variable called wine",
   "metadata": {
    "id": "IAg-lAlTfE12",
    "cell_id": "00004-df4ccd37-bf14-43ab-a9ef-125108f9dc66",
    "deepnote_cell_type": "markdown"
   }
  },
  {
   "cell_type": "code",
   "metadata": {
    "id": "SroLsXDvfE12",
    "executionInfo": {
     "status": "ok",
     "timestamp": 1624743476495,
     "user_tz": 240,
     "elapsed": 431,
     "user": {
      "displayName": "Andrés Sánchez",
      "photoUrl": "https://lh3.googleusercontent.com/a-/AOh14Gg69bZMv30ckb-T1MJy0nSxWIHUaP0p2uP6MYBuvQ=s64",
      "userId": "07985253921366566280"
     }
    },
    "cell_id": "00005-d740ef92-aff0-44c0-b85f-73ffa138a594",
    "deepnote_to_be_reexecuted": false,
    "source_hash": "91224e78",
    "execution_start": 1630098618644,
    "execution_millis": 369,
    "deepnote_cell_type": "code"
   },
   "source": "wine = pd.read_csv('https://archive.ics.uci.edu/ml/machine-learning-databases/wine/wine.data')",
   "outputs": [],
   "execution_count": null
  },
  {
   "cell_type": "markdown",
   "source": "### Step 4. Delete the first, fourth, seventh, nineth, eleventh, thirteenth and fourteenth columns",
   "metadata": {
    "id": "UPhdZuu1fE12",
    "cell_id": "00006-0a3c452a-bb15-4c8d-a3fd-2893600e1988",
    "deepnote_cell_type": "markdown"
   }
  },
  {
   "cell_type": "code",
   "metadata": {
    "id": "bWvPUxJ0fE12",
    "executionInfo": {
     "status": "ok",
     "timestamp": 1624743476496,
     "user_tz": 240,
     "elapsed": 8,
     "user": {
      "displayName": "Andrés Sánchez",
      "photoUrl": "https://lh3.googleusercontent.com/a-/AOh14Gg69bZMv30ckb-T1MJy0nSxWIHUaP0p2uP6MYBuvQ=s64",
      "userId": "07985253921366566280"
     }
    },
    "cell_id": "00007-7984b057-acbd-47aa-9759-b28b8d4d5ba5",
    "deepnote_to_be_reexecuted": false,
    "source_hash": "2ae619de",
    "execution_start": 1630098619019,
    "execution_millis": 2,
    "deepnote_cell_type": "code"
   },
   "source": "wine = wine.iloc[:,[1,2,4,5,7,9,11]]",
   "outputs": [],
   "execution_count": null
  },
  {
   "cell_type": "markdown",
   "source": "### Step 5. Assign the columns as below:\n\nThe attributes are (donated by Riccardo Leardi, riclea '@' anchem.unige.it):  \n1) alcohol  \n2) malic_acid  \n3) alcalinity_of_ash  \n4) magnesium  \n5) flavanoids  \n6) proanthocyanins  \n7) hue ",
   "metadata": {
    "id": "3cJGMUNefE13",
    "cell_id": "00008-b552ec2a-8cb7-4563-9780-305b3c01c558",
    "deepnote_cell_type": "markdown"
   }
  },
  {
   "cell_type": "code",
   "metadata": {
    "id": "H5Vf3iYrfE13",
    "executionInfo": {
     "status": "ok",
     "timestamp": 1624743476497,
     "user_tz": 240,
     "elapsed": 8,
     "user": {
      "displayName": "Andrés Sánchez",
      "photoUrl": "https://lh3.googleusercontent.com/a-/AOh14Gg69bZMv30ckb-T1MJy0nSxWIHUaP0p2uP6MYBuvQ=s64",
      "userId": "07985253921366566280"
     }
    },
    "cell_id": "00009-f7b49752-e5c4-4384-959b-9c285791cf3e",
    "deepnote_to_be_reexecuted": false,
    "source_hash": "c8ac27b5",
    "execution_start": 1630098619025,
    "execution_millis": 3,
    "deepnote_cell_type": "code"
   },
   "source": "wine.columns = ['alcohol','malic_acid','alcalinity_of_ash','magnesium','flavanoids','proanthocyanins','hue']",
   "outputs": [],
   "execution_count": null
  },
  {
   "cell_type": "markdown",
   "source": "### Step 6. Set the values of the first 3 rows from alcohol as NaN",
   "metadata": {
    "id": "VhUH9TOPfE13",
    "cell_id": "00010-dd355e65-1fec-4013-878f-48fcfaf3f18e",
    "deepnote_cell_type": "markdown"
   }
  },
  {
   "cell_type": "code",
   "metadata": {
    "id": "mxbcygi5fE14",
    "executionInfo": {
     "status": "ok",
     "timestamp": 1624743476497,
     "user_tz": 240,
     "elapsed": 7,
     "user": {
      "displayName": "Andrés Sánchez",
      "photoUrl": "https://lh3.googleusercontent.com/a-/AOh14Gg69bZMv30ckb-T1MJy0nSxWIHUaP0p2uP6MYBuvQ=s64",
      "userId": "07985253921366566280"
     }
    },
    "cell_id": "00011-0bfb715c-afb9-4a1d-9cd0-913096b78f31",
    "deepnote_to_be_reexecuted": false,
    "source_hash": "4f9388ca",
    "execution_start": 1630098619031,
    "execution_millis": 3,
    "deepnote_cell_type": "code"
   },
   "source": "wine.iloc[:3,:] = np.nan",
   "outputs": [],
   "execution_count": null
  },
  {
   "cell_type": "markdown",
   "source": "### Step 7. Now set the value of the rows 3 and 4 of magnesium as NaN",
   "metadata": {
    "id": "t2yt9qrdfE14",
    "cell_id": "00012-8c51df31-d2fe-4964-af0a-959044d71ce3",
    "deepnote_cell_type": "markdown"
   }
  },
  {
   "cell_type": "code",
   "metadata": {
    "id": "bgqq0dUXfE14",
    "executionInfo": {
     "status": "ok",
     "timestamp": 1624743476655,
     "user_tz": 240,
     "elapsed": 164,
     "user": {
      "displayName": "Andrés Sánchez",
      "photoUrl": "https://lh3.googleusercontent.com/a-/AOh14Gg69bZMv30ckb-T1MJy0nSxWIHUaP0p2uP6MYBuvQ=s64",
      "userId": "07985253921366566280"
     }
    },
    "cell_id": "00013-9f664e7c-960e-44a1-a57b-a9af4ed68b71",
    "deepnote_to_be_reexecuted": false,
    "source_hash": "e173f32c",
    "execution_start": 1630098619040,
    "execution_millis": 2,
    "deepnote_cell_type": "code"
   },
   "source": "wine.iloc[3:5,3] = np.nan",
   "outputs": [],
   "execution_count": null
  },
  {
   "cell_type": "markdown",
   "source": "### Step 8. Fill the value of NaN with the number 10 in alcohol and 100 in magnesium",
   "metadata": {
    "id": "916SrcCnfE14",
    "cell_id": "00014-f9a3bb8f-91fc-4fad-9f5c-80543c475f37",
    "deepnote_cell_type": "markdown"
   }
  },
  {
   "cell_type": "code",
   "metadata": {
    "colab": {
     "base_uri": "https://localhost:8080/",
     "height": 228
    },
    "id": "ckTtsW75fE15",
    "executionInfo": {
     "status": "ok",
     "timestamp": 1624743476656,
     "user_tz": 240,
     "elapsed": 15,
     "user": {
      "displayName": "Andrés Sánchez",
      "photoUrl": "https://lh3.googleusercontent.com/a-/AOh14Gg69bZMv30ckb-T1MJy0nSxWIHUaP0p2uP6MYBuvQ=s64",
      "userId": "07985253921366566280"
     }
    },
    "outputId": "276b6323-9842-4465-cadc-110b2378ee47",
    "cell_id": "00015-d10fbaea-394a-4c37-8469-edee48752a51",
    "deepnote_to_be_reexecuted": false,
    "source_hash": "7ad482bf",
    "execution_start": 1630098619077,
    "execution_millis": 9,
    "deepnote_cell_type": "code"
   },
   "source": "wine['alcohol'] = wine['alcohol'].fillna(10)\nwine['magnesium'] = wine['magnesium'].fillna(100)\nwine.head(6)",
   "outputs": [
    {
     "output_type": "execute_result",
     "execution_count": 7,
     "data": {
      "application/vnd.deepnote.dataframe.v2+json": {
       "row_count": 6,
       "column_count": 7,
       "columns": [
        {
         "name": "alcohol",
         "dtype": "float64",
         "stats": {
          "unique_count": 4,
          "nan_count": 0,
          "min": "10.0",
          "max": "14.39",
          "histogram": [
           {
            "bin_start": 10,
            "bin_end": 10.439,
            "count": 3
           },
           {
            "bin_start": 10.439,
            "bin_end": 10.878,
            "count": 0
           },
           {
            "bin_start": 10.878,
            "bin_end": 11.317,
            "count": 0
           },
           {
            "bin_start": 11.317,
            "bin_end": 11.756,
            "count": 0
           },
           {
            "bin_start": 11.756,
            "bin_end": 12.195,
            "count": 0
           },
           {
            "bin_start": 12.195,
            "bin_end": 12.634,
            "count": 0
           },
           {
            "bin_start": 12.634,
            "bin_end": 13.073,
            "count": 0
           },
           {
            "bin_start": 13.073,
            "bin_end": 13.512,
            "count": 1
           },
           {
            "bin_start": 13.512,
            "bin_end": 13.951,
            "count": 0
           },
           {
            "bin_start": 13.951,
            "bin_end": 14.39,
            "count": 2
           }
          ]
         }
        },
        {
         "name": "malic_acid",
         "dtype": "float64",
         "stats": {
          "unique_count": 3,
          "nan_count": 3,
          "min": "1.76",
          "max": "2.59",
          "histogram": [
           {
            "bin_start": 1.76,
            "bin_end": 1.843,
            "count": 1
           },
           {
            "bin_start": 1.843,
            "bin_end": 1.926,
            "count": 1
           },
           {
            "bin_start": 1.926,
            "bin_end": 2.009,
            "count": 0
           },
           {
            "bin_start": 2.009,
            "bin_end": 2.092,
            "count": 0
           },
           {
            "bin_start": 2.092,
            "bin_end": 2.175,
            "count": 0
           },
           {
            "bin_start": 2.175,
            "bin_end": 2.258,
            "count": 0
           },
           {
            "bin_start": 2.258,
            "bin_end": 2.341,
            "count": 0
           },
           {
            "bin_start": 2.341,
            "bin_end": 2.424,
            "count": 0
           },
           {
            "bin_start": 2.424,
            "bin_end": 2.5069999999999997,
            "count": 0
           },
           {
            "bin_start": 2.5069999999999997,
            "bin_end": 2.59,
            "count": 1
           }
          ]
         }
        },
        {
         "name": "alcalinity_of_ash",
         "dtype": "float64",
         "stats": {
          "unique_count": 3,
          "nan_count": 3,
          "min": "14.6",
          "max": "21.0",
          "histogram": [
           {
            "bin_start": 14.6,
            "bin_end": 15.24,
            "count": 2
           },
           {
            "bin_start": 15.24,
            "bin_end": 15.879999999999999,
            "count": 0
           },
           {
            "bin_start": 15.879999999999999,
            "bin_end": 16.52,
            "count": 0
           },
           {
            "bin_start": 16.52,
            "bin_end": 17.16,
            "count": 0
           },
           {
            "bin_start": 17.16,
            "bin_end": 17.8,
            "count": 0
           },
           {
            "bin_start": 17.8,
            "bin_end": 18.439999999999998,
            "count": 0
           },
           {
            "bin_start": 18.439999999999998,
            "bin_end": 19.08,
            "count": 0
           },
           {
            "bin_start": 19.08,
            "bin_end": 19.72,
            "count": 0
           },
           {
            "bin_start": 19.72,
            "bin_end": 20.36,
            "count": 0
           },
           {
            "bin_start": 20.36,
            "bin_end": 21,
            "count": 1
           }
          ]
         }
        },
        {
         "name": "magnesium",
         "dtype": "float64",
         "stats": {
          "unique_count": 2,
          "nan_count": 0,
          "min": "96.0",
          "max": "100.0",
          "histogram": [
           {
            "bin_start": 96,
            "bin_end": 96.4,
            "count": 1
           },
           {
            "bin_start": 96.4,
            "bin_end": 96.8,
            "count": 0
           },
           {
            "bin_start": 96.8,
            "bin_end": 97.2,
            "count": 0
           },
           {
            "bin_start": 97.2,
            "bin_end": 97.6,
            "count": 0
           },
           {
            "bin_start": 97.6,
            "bin_end": 98,
            "count": 0
           },
           {
            "bin_start": 98,
            "bin_end": 98.4,
            "count": 0
           },
           {
            "bin_start": 98.4,
            "bin_end": 98.8,
            "count": 0
           },
           {
            "bin_start": 98.8,
            "bin_end": 99.2,
            "count": 0
           },
           {
            "bin_start": 99.2,
            "bin_end": 99.6,
            "count": 0
           },
           {
            "bin_start": 99.6,
            "bin_end": 100,
            "count": 5
           }
          ]
         }
        },
        {
         "name": "flavanoids",
         "dtype": "float64",
         "stats": {
          "unique_count": 3,
          "nan_count": 3,
          "min": "2.52",
          "max": "3.39",
          "histogram": [
           {
            "bin_start": 2.52,
            "bin_end": 2.607,
            "count": 1
           },
           {
            "bin_start": 2.607,
            "bin_end": 2.694,
            "count": 1
           },
           {
            "bin_start": 2.694,
            "bin_end": 2.781,
            "count": 0
           },
           {
            "bin_start": 2.781,
            "bin_end": 2.868,
            "count": 0
           },
           {
            "bin_start": 2.868,
            "bin_end": 2.955,
            "count": 0
           },
           {
            "bin_start": 2.955,
            "bin_end": 3.042,
            "count": 0
           },
           {
            "bin_start": 3.042,
            "bin_end": 3.129,
            "count": 0
           },
           {
            "bin_start": 3.129,
            "bin_end": 3.216,
            "count": 0
           },
           {
            "bin_start": 3.216,
            "bin_end": 3.303,
            "count": 0
           },
           {
            "bin_start": 3.303,
            "bin_end": 3.39,
            "count": 1
           }
          ]
         }
        },
        {
         "name": "proanthocyanins",
         "dtype": "float64",
         "stats": {
          "unique_count": 3,
          "nan_count": 3,
          "min": "1.82",
          "max": "1.98",
          "histogram": [
           {
            "bin_start": 1.82,
            "bin_end": 1.836,
            "count": 1
           },
           {
            "bin_start": 1.836,
            "bin_end": 1.852,
            "count": 0
           },
           {
            "bin_start": 1.852,
            "bin_end": 1.868,
            "count": 0
           },
           {
            "bin_start": 1.868,
            "bin_end": 1.8840000000000001,
            "count": 0
           },
           {
            "bin_start": 1.8840000000000001,
            "bin_end": 1.9,
            "count": 0
           },
           {
            "bin_start": 1.9,
            "bin_end": 1.916,
            "count": 0
           },
           {
            "bin_start": 1.916,
            "bin_end": 1.932,
            "count": 0
           },
           {
            "bin_start": 1.932,
            "bin_end": 1.948,
            "count": 0
           },
           {
            "bin_start": 1.948,
            "bin_end": 1.964,
            "count": 0
           },
           {
            "bin_start": 1.964,
            "bin_end": 1.98,
            "count": 2
           }
          ]
         }
        },
        {
         "name": "hue",
         "dtype": "float64",
         "stats": {
          "unique_count": 3,
          "nan_count": 3,
          "min": "1.02",
          "max": "1.05",
          "histogram": [
           {
            "bin_start": 1.02,
            "bin_end": 1.0230000000000001,
            "count": 1
           },
           {
            "bin_start": 1.0230000000000001,
            "bin_end": 1.026,
            "count": 0
           },
           {
            "bin_start": 1.026,
            "bin_end": 1.029,
            "count": 0
           },
           {
            "bin_start": 1.029,
            "bin_end": 1.032,
            "count": 0
           },
           {
            "bin_start": 1.032,
            "bin_end": 1.0350000000000001,
            "count": 0
           },
           {
            "bin_start": 1.0350000000000001,
            "bin_end": 1.038,
            "count": 0
           },
           {
            "bin_start": 1.038,
            "bin_end": 1.041,
            "count": 1
           },
           {
            "bin_start": 1.041,
            "bin_end": 1.044,
            "count": 0
           },
           {
            "bin_start": 1.044,
            "bin_end": 1.0470000000000002,
            "count": 0
           },
           {
            "bin_start": 1.0470000000000002,
            "bin_end": 1.05,
            "count": 1
           }
          ]
         }
        },
        {
         "name": "_deepnote_index_column",
         "dtype": "int64"
        }
       ],
       "rows_top": [
        {
         "alcohol": 10,
         "malic_acid": "nan",
         "alcalinity_of_ash": "nan",
         "magnesium": 100,
         "flavanoids": "nan",
         "proanthocyanins": "nan",
         "hue": "nan",
         "_deepnote_index_column": 0
        },
        {
         "alcohol": 10,
         "malic_acid": "nan",
         "alcalinity_of_ash": "nan",
         "magnesium": 100,
         "flavanoids": "nan",
         "proanthocyanins": "nan",
         "hue": "nan",
         "_deepnote_index_column": 1
        },
        {
         "alcohol": 10,
         "malic_acid": "nan",
         "alcalinity_of_ash": "nan",
         "magnesium": 100,
         "flavanoids": "nan",
         "proanthocyanins": "nan",
         "hue": "nan",
         "_deepnote_index_column": 2
        },
        {
         "alcohol": 13.24,
         "malic_acid": 2.59,
         "alcalinity_of_ash": 21,
         "magnesium": 100,
         "flavanoids": 2.69,
         "proanthocyanins": 1.82,
         "hue": 1.04,
         "_deepnote_index_column": 3
        },
        {
         "alcohol": 14.2,
         "malic_acid": 1.76,
         "alcalinity_of_ash": 15.2,
         "magnesium": 100,
         "flavanoids": 3.39,
         "proanthocyanins": 1.97,
         "hue": 1.05,
         "_deepnote_index_column": 4
        },
        {
         "alcohol": 14.39,
         "malic_acid": 1.87,
         "alcalinity_of_ash": 14.6,
         "magnesium": 96,
         "flavanoids": 2.52,
         "proanthocyanins": 1.98,
         "hue": 1.02,
         "_deepnote_index_column": 5
        }
       ],
       "rows_bottom": null
      },
      "text/plain": "   alcohol  malic_acid  alcalinity_of_ash  magnesium  flavanoids  \\\n0    10.00         NaN                NaN      100.0         NaN   \n1    10.00         NaN                NaN      100.0         NaN   \n2    10.00         NaN                NaN      100.0         NaN   \n3    13.24        2.59               21.0      100.0        2.69   \n4    14.20        1.76               15.2      100.0        3.39   \n5    14.39        1.87               14.6       96.0        2.52   \n\n   proanthocyanins   hue  \n0              NaN   NaN  \n1              NaN   NaN  \n2              NaN   NaN  \n3             1.82  1.04  \n4             1.97  1.05  \n5             1.98  1.02  ",
      "text/html": "<div>\n<style scoped>\n    .dataframe tbody tr th:only-of-type {\n        vertical-align: middle;\n    }\n\n    .dataframe tbody tr th {\n        vertical-align: top;\n    }\n\n    .dataframe thead th {\n        text-align: right;\n    }\n</style>\n<table border=\"1\" class=\"dataframe\">\n  <thead>\n    <tr style=\"text-align: right;\">\n      <th></th>\n      <th>alcohol</th>\n      <th>malic_acid</th>\n      <th>alcalinity_of_ash</th>\n      <th>magnesium</th>\n      <th>flavanoids</th>\n      <th>proanthocyanins</th>\n      <th>hue</th>\n    </tr>\n  </thead>\n  <tbody>\n    <tr>\n      <th>0</th>\n      <td>10.00</td>\n      <td>NaN</td>\n      <td>NaN</td>\n      <td>100.0</td>\n      <td>NaN</td>\n      <td>NaN</td>\n      <td>NaN</td>\n    </tr>\n    <tr>\n      <th>1</th>\n      <td>10.00</td>\n      <td>NaN</td>\n      <td>NaN</td>\n      <td>100.0</td>\n      <td>NaN</td>\n      <td>NaN</td>\n      <td>NaN</td>\n    </tr>\n    <tr>\n      <th>2</th>\n      <td>10.00</td>\n      <td>NaN</td>\n      <td>NaN</td>\n      <td>100.0</td>\n      <td>NaN</td>\n      <td>NaN</td>\n      <td>NaN</td>\n    </tr>\n    <tr>\n      <th>3</th>\n      <td>13.24</td>\n      <td>2.59</td>\n      <td>21.0</td>\n      <td>100.0</td>\n      <td>2.69</td>\n      <td>1.82</td>\n      <td>1.04</td>\n    </tr>\n    <tr>\n      <th>4</th>\n      <td>14.20</td>\n      <td>1.76</td>\n      <td>15.2</td>\n      <td>100.0</td>\n      <td>3.39</td>\n      <td>1.97</td>\n      <td>1.05</td>\n    </tr>\n    <tr>\n      <th>5</th>\n      <td>14.39</td>\n      <td>1.87</td>\n      <td>14.6</td>\n      <td>96.0</td>\n      <td>2.52</td>\n      <td>1.98</td>\n      <td>1.02</td>\n    </tr>\n  </tbody>\n</table>\n</div>"
     },
     "metadata": {}
    }
   ],
   "execution_count": null
  },
  {
   "cell_type": "markdown",
   "source": "### Step 9. Count the number of missing values",
   "metadata": {
    "id": "Ujf2713OfE15",
    "cell_id": "00016-f28a1216-c647-4680-98cb-47f9dc31d69b",
    "deepnote_cell_type": "markdown"
   }
  },
  {
   "cell_type": "code",
   "metadata": {
    "colab": {
     "base_uri": "https://localhost:8080/"
    },
    "id": "udqYZ9xZfE15",
    "executionInfo": {
     "status": "ok",
     "timestamp": 1624743476656,
     "user_tz": 240,
     "elapsed": 14,
     "user": {
      "displayName": "Andrés Sánchez",
      "photoUrl": "https://lh3.googleusercontent.com/a-/AOh14Gg69bZMv30ckb-T1MJy0nSxWIHUaP0p2uP6MYBuvQ=s64",
      "userId": "07985253921366566280"
     }
    },
    "outputId": "49a1457e-5898-4f55-cd74-25606c5a0483",
    "cell_id": "00017-feefea97-946a-46c8-9a7e-9b0cb7fc6841",
    "deepnote_to_be_reexecuted": false,
    "source_hash": "9dd3ac03",
    "execution_start": 1630098619083,
    "execution_millis": 7,
    "deepnote_cell_type": "code"
   },
   "source": "wine.isna().sum(axis = 0).sum()",
   "outputs": [],
   "execution_count": null
  },
  {
   "cell_type": "markdown",
   "source": "### Step 10.  Create an array of 10 random numbers up until 10",
   "metadata": {
    "id": "p0JkJYzefE15",
    "cell_id": "00018-4bed6e5c-8602-48aa-9d6f-81078db8f69b",
    "deepnote_cell_type": "markdown"
   }
  },
  {
   "cell_type": "code",
   "metadata": {
    "id": "BzHq0WAafE15",
    "executionInfo": {
     "status": "ok",
     "timestamp": 1624743476658,
     "user_tz": 240,
     "elapsed": 13,
     "user": {
      "displayName": "Andrés Sánchez",
      "photoUrl": "https://lh3.googleusercontent.com/a-/AOh14Gg69bZMv30ckb-T1MJy0nSxWIHUaP0p2uP6MYBuvQ=s64",
      "userId": "07985253921366566280"
     }
    },
    "cell_id": "00019-45fef445-31f8-45d8-bc52-0da6ad879f6d",
    "deepnote_to_be_reexecuted": false,
    "source_hash": "e7b1236d",
    "execution_start": 1630098619094,
    "execution_millis": 2,
    "deepnote_cell_type": "code"
   },
   "source": "my_rand = np.random.randint(0,10,10)",
   "outputs": [],
   "execution_count": null
  },
  {
   "cell_type": "markdown",
   "source": "### Step 11.  Use random numbers you generated as an index and assign NaN value to each of cell.",
   "metadata": {
    "id": "GzEOIPNNfE15",
    "cell_id": "00020-0f1acb93-415c-4df6-a6c7-072b8347200f",
    "deepnote_cell_type": "markdown"
   }
  },
  {
   "cell_type": "code",
   "metadata": {
    "colab": {
     "base_uri": "https://localhost:8080/",
     "height": 348
    },
    "id": "YhGNILZefE15",
    "executionInfo": {
     "status": "ok",
     "timestamp": 1624743476659,
     "user_tz": 240,
     "elapsed": 14,
     "user": {
      "displayName": "Andrés Sánchez",
      "photoUrl": "https://lh3.googleusercontent.com/a-/AOh14Gg69bZMv30ckb-T1MJy0nSxWIHUaP0p2uP6MYBuvQ=s64",
      "userId": "07985253921366566280"
     }
    },
    "outputId": "cac1fc0c-5fe0-4729-bde2-8e95f137aeb4",
    "cell_id": "00021-ffcd0a3c-5648-45e6-98b6-c8989a84d741",
    "deepnote_to_be_reexecuted": false,
    "source_hash": "b8b1022f",
    "execution_start": 1630098619131,
    "execution_millis": 9,
    "deepnote_cell_type": "code"
   },
   "source": "wine.alcohol[my_rand] = np.nan\nwine.head(10)",
   "outputs": [
    {
     "output_type": "execute_result",
     "execution_count": 10,
     "data": {
      "application/vnd.deepnote.dataframe.v2+json": {
       "row_count": 10,
       "column_count": 7,
       "columns": [
        {
         "name": "alcohol",
         "dtype": "float64",
         "stats": {
          "unique_count": 4,
          "nan_count": 6,
          "min": "10.0",
          "max": "14.1",
          "histogram": [
           {
            "bin_start": 10,
            "bin_end": 10.41,
            "count": 1
           },
           {
            "bin_start": 10.41,
            "bin_end": 10.82,
            "count": 0
           },
           {
            "bin_start": 10.82,
            "bin_end": 11.23,
            "count": 0
           },
           {
            "bin_start": 11.23,
            "bin_end": 11.64,
            "count": 0
           },
           {
            "bin_start": 11.64,
            "bin_end": 12.05,
            "count": 0
           },
           {
            "bin_start": 12.05,
            "bin_end": 12.46,
            "count": 0
           },
           {
            "bin_start": 12.46,
            "bin_end": 12.87,
            "count": 0
           },
           {
            "bin_start": 12.87,
            "bin_end": 13.28,
            "count": 1
           },
           {
            "bin_start": 13.28,
            "bin_end": 13.69,
            "count": 0
           },
           {
            "bin_start": 13.69,
            "bin_end": 14.1,
            "count": 2
           }
          ]
         }
        },
        {
         "name": "malic_acid",
         "dtype": "float64",
         "stats": {
          "unique_count": 7,
          "nan_count": 3,
          "min": "1.35",
          "max": "2.59",
          "histogram": [
           {
            "bin_start": 1.35,
            "bin_end": 1.474,
            "count": 1
           },
           {
            "bin_start": 1.474,
            "bin_end": 1.598,
            "count": 0
           },
           {
            "bin_start": 1.598,
            "bin_end": 1.722,
            "count": 1
           },
           {
            "bin_start": 1.722,
            "bin_end": 1.846,
            "count": 1
           },
           {
            "bin_start": 1.846,
            "bin_end": 1.97,
            "count": 1
           },
           {
            "bin_start": 1.97,
            "bin_end": 2.094,
            "count": 0
           },
           {
            "bin_start": 2.094,
            "bin_end": 2.218,
            "count": 2
           },
           {
            "bin_start": 2.218,
            "bin_end": 2.3419999999999996,
            "count": 0
           },
           {
            "bin_start": 2.3419999999999996,
            "bin_end": 2.4659999999999997,
            "count": 0
           },
           {
            "bin_start": 2.4659999999999997,
            "bin_end": 2.59,
            "count": 1
           }
          ]
         }
        },
        {
         "name": "alcalinity_of_ash",
         "dtype": "float64",
         "stats": {
          "unique_count": 7,
          "nan_count": 3,
          "min": "14.0",
          "max": "21.0",
          "histogram": [
           {
            "bin_start": 14,
            "bin_end": 14.7,
            "count": 2
           },
           {
            "bin_start": 14.7,
            "bin_end": 15.4,
            "count": 1
           },
           {
            "bin_start": 15.4,
            "bin_end": 16.1,
            "count": 1
           },
           {
            "bin_start": 16.1,
            "bin_end": 16.8,
            "count": 0
           },
           {
            "bin_start": 16.8,
            "bin_end": 17.5,
            "count": 0
           },
           {
            "bin_start": 17.5,
            "bin_end": 18.2,
            "count": 2
           },
           {
            "bin_start": 18.2,
            "bin_end": 18.9,
            "count": 0
           },
           {
            "bin_start": 18.9,
            "bin_end": 19.6,
            "count": 0
           },
           {
            "bin_start": 19.6,
            "bin_end": 20.3,
            "count": 0
           },
           {
            "bin_start": 20.3,
            "bin_end": 21,
            "count": 1
           }
          ]
         }
        },
        {
         "name": "magnesium",
         "dtype": "float64",
         "stats": {
          "unique_count": 6,
          "nan_count": 0,
          "min": "96.0",
          "max": "121.0",
          "histogram": [
           {
            "bin_start": 96,
            "bin_end": 98.5,
            "count": 3
           },
           {
            "bin_start": 98.5,
            "bin_end": 101,
            "count": 5
           },
           {
            "bin_start": 101,
            "bin_end": 103.5,
            "count": 0
           },
           {
            "bin_start": 103.5,
            "bin_end": 106,
            "count": 1
           },
           {
            "bin_start": 106,
            "bin_end": 108.5,
            "count": 0
           },
           {
            "bin_start": 108.5,
            "bin_end": 111,
            "count": 0
           },
           {
            "bin_start": 111,
            "bin_end": 113.5,
            "count": 0
           },
           {
            "bin_start": 113.5,
            "bin_end": 116,
            "count": 0
           },
           {
            "bin_start": 116,
            "bin_end": 118.5,
            "count": 0
           },
           {
            "bin_start": 118.5,
            "bin_end": 121,
            "count": 1
           }
          ]
         }
        },
        {
         "name": "flavanoids",
         "dtype": "float64",
         "stats": {
          "unique_count": 7,
          "nan_count": 3,
          "min": "2.51",
          "max": "3.39",
          "histogram": [
           {
            "bin_start": 2.51,
            "bin_end": 2.598,
            "count": 2
           },
           {
            "bin_start": 2.598,
            "bin_end": 2.686,
            "count": 0
           },
           {
            "bin_start": 2.686,
            "bin_end": 2.774,
            "count": 1
           },
           {
            "bin_start": 2.774,
            "bin_end": 2.862,
            "count": 0
           },
           {
            "bin_start": 2.862,
            "bin_end": 2.95,
            "count": 0
           },
           {
            "bin_start": 2.95,
            "bin_end": 3.0380000000000003,
            "count": 1
           },
           {
            "bin_start": 3.0380000000000003,
            "bin_end": 3.126,
            "count": 0
           },
           {
            "bin_start": 3.126,
            "bin_end": 3.214,
            "count": 1
           },
           {
            "bin_start": 3.214,
            "bin_end": 3.302,
            "count": 0
           },
           {
            "bin_start": 3.302,
            "bin_end": 3.39,
            "count": 2
           }
          ]
         }
        },
        {
         "name": "proanthocyanins",
         "dtype": "float64",
         "stats": {
          "unique_count": 6,
          "nan_count": 3,
          "min": "1.25",
          "max": "2.38",
          "histogram": [
           {
            "bin_start": 1.25,
            "bin_end": 1.363,
            "count": 1
           },
           {
            "bin_start": 1.363,
            "bin_end": 1.476,
            "count": 0
           },
           {
            "bin_start": 1.476,
            "bin_end": 1.589,
            "count": 0
           },
           {
            "bin_start": 1.589,
            "bin_end": 1.702,
            "count": 0
           },
           {
            "bin_start": 1.702,
            "bin_end": 1.815,
            "count": 0
           },
           {
            "bin_start": 1.815,
            "bin_end": 1.928,
            "count": 2
           },
           {
            "bin_start": 1.928,
            "bin_end": 2.041,
            "count": 3
           },
           {
            "bin_start": 2.041,
            "bin_end": 2.154,
            "count": 0
           },
           {
            "bin_start": 2.154,
            "bin_end": 2.267,
            "count": 0
           },
           {
            "bin_start": 2.267,
            "bin_end": 2.38,
            "count": 1
           }
          ]
         }
        },
        {
         "name": "hue",
         "dtype": "float64",
         "stats": {
          "unique_count": 7,
          "nan_count": 3,
          "min": "1.01",
          "max": "1.25",
          "histogram": [
           {
            "bin_start": 1.01,
            "bin_end": 1.034,
            "count": 2
           },
           {
            "bin_start": 1.034,
            "bin_end": 1.058,
            "count": 2
           },
           {
            "bin_start": 1.058,
            "bin_end": 1.082,
            "count": 2
           },
           {
            "bin_start": 1.082,
            "bin_end": 1.106,
            "count": 0
           },
           {
            "bin_start": 1.106,
            "bin_end": 1.13,
            "count": 0
           },
           {
            "bin_start": 1.13,
            "bin_end": 1.154,
            "count": 0
           },
           {
            "bin_start": 1.154,
            "bin_end": 1.178,
            "count": 0
           },
           {
            "bin_start": 1.178,
            "bin_end": 1.202,
            "count": 0
           },
           {
            "bin_start": 1.202,
            "bin_end": 1.226,
            "count": 0
           },
           {
            "bin_start": 1.226,
            "bin_end": 1.25,
            "count": 1
           }
          ]
         }
        },
        {
         "name": "_deepnote_index_column",
         "dtype": "int64"
        }
       ],
       "rows_top": [
        {
         "alcohol": 10,
         "malic_acid": "nan",
         "alcalinity_of_ash": "nan",
         "magnesium": 100,
         "flavanoids": "nan",
         "proanthocyanins": "nan",
         "hue": "nan",
         "_deepnote_index_column": 0
        },
        {
         "alcohol": "nan",
         "malic_acid": "nan",
         "alcalinity_of_ash": "nan",
         "magnesium": 100,
         "flavanoids": "nan",
         "proanthocyanins": "nan",
         "hue": "nan",
         "_deepnote_index_column": 1
        },
        {
         "alcohol": "nan",
         "malic_acid": "nan",
         "alcalinity_of_ash": "nan",
         "magnesium": 100,
         "flavanoids": "nan",
         "proanthocyanins": "nan",
         "hue": "nan",
         "_deepnote_index_column": 2
        },
        {
         "alcohol": 13.24,
         "malic_acid": 2.59,
         "alcalinity_of_ash": 21,
         "magnesium": 100,
         "flavanoids": 2.69,
         "proanthocyanins": 1.82,
         "hue": 1.04,
         "_deepnote_index_column": 3
        },
        {
         "alcohol": "nan",
         "malic_acid": 1.76,
         "alcalinity_of_ash": 15.2,
         "magnesium": 100,
         "flavanoids": 3.39,
         "proanthocyanins": 1.97,
         "hue": 1.05,
         "_deepnote_index_column": 4
        },
        {
         "alcohol": "nan",
         "malic_acid": 1.87,
         "alcalinity_of_ash": 14.6,
         "magnesium": 96,
         "flavanoids": 2.52,
         "proanthocyanins": 1.98,
         "hue": 1.02,
         "_deepnote_index_column": 5
        },
        {
         "alcohol": 14.06,
         "malic_acid": 2.15,
         "alcalinity_of_ash": 17.6,
         "magnesium": 121,
         "flavanoids": 2.51,
         "proanthocyanins": 1.25,
         "hue": 1.06,
         "_deepnote_index_column": 6
        },
        {
         "alcohol": "nan",
         "malic_acid": 1.64,
         "alcalinity_of_ash": 14,
         "magnesium": 97,
         "flavanoids": 2.98,
         "proanthocyanins": 1.98,
         "hue": 1.08,
         "_deepnote_index_column": 7
        },
        {
         "alcohol": "nan",
         "malic_acid": 1.35,
         "alcalinity_of_ash": 16,
         "magnesium": 98,
         "flavanoids": 3.15,
         "proanthocyanins": 1.85,
         "hue": 1.01,
         "_deepnote_index_column": 8
        },
        {
         "alcohol": 14.1,
         "malic_acid": 2.16,
         "alcalinity_of_ash": 18,
         "magnesium": 105,
         "flavanoids": 3.32,
         "proanthocyanins": 2.38,
         "hue": 1.25,
         "_deepnote_index_column": 9
        }
       ],
       "rows_bottom": null
      },
      "text/plain": "   alcohol  malic_acid  alcalinity_of_ash  magnesium  flavanoids  \\\n0    10.00         NaN                NaN      100.0         NaN   \n1      NaN         NaN                NaN      100.0         NaN   \n2      NaN         NaN                NaN      100.0         NaN   \n3    13.24        2.59               21.0      100.0        2.69   \n4      NaN        1.76               15.2      100.0        3.39   \n5      NaN        1.87               14.6       96.0        2.52   \n6    14.06        2.15               17.6      121.0        2.51   \n7      NaN        1.64               14.0       97.0        2.98   \n8      NaN        1.35               16.0       98.0        3.15   \n9    14.10        2.16               18.0      105.0        3.32   \n\n   proanthocyanins   hue  \n0              NaN   NaN  \n1              NaN   NaN  \n2              NaN   NaN  \n3             1.82  1.04  \n4             1.97  1.05  \n5             1.98  1.02  \n6             1.25  1.06  \n7             1.98  1.08  \n8             1.85  1.01  \n9             2.38  1.25  ",
      "text/html": "<div>\n<style scoped>\n    .dataframe tbody tr th:only-of-type {\n        vertical-align: middle;\n    }\n\n    .dataframe tbody tr th {\n        vertical-align: top;\n    }\n\n    .dataframe thead th {\n        text-align: right;\n    }\n</style>\n<table border=\"1\" class=\"dataframe\">\n  <thead>\n    <tr style=\"text-align: right;\">\n      <th></th>\n      <th>alcohol</th>\n      <th>malic_acid</th>\n      <th>alcalinity_of_ash</th>\n      <th>magnesium</th>\n      <th>flavanoids</th>\n      <th>proanthocyanins</th>\n      <th>hue</th>\n    </tr>\n  </thead>\n  <tbody>\n    <tr>\n      <th>0</th>\n      <td>10.00</td>\n      <td>NaN</td>\n      <td>NaN</td>\n      <td>100.0</td>\n      <td>NaN</td>\n      <td>NaN</td>\n      <td>NaN</td>\n    </tr>\n    <tr>\n      <th>1</th>\n      <td>NaN</td>\n      <td>NaN</td>\n      <td>NaN</td>\n      <td>100.0</td>\n      <td>NaN</td>\n      <td>NaN</td>\n      <td>NaN</td>\n    </tr>\n    <tr>\n      <th>2</th>\n      <td>NaN</td>\n      <td>NaN</td>\n      <td>NaN</td>\n      <td>100.0</td>\n      <td>NaN</td>\n      <td>NaN</td>\n      <td>NaN</td>\n    </tr>\n    <tr>\n      <th>3</th>\n      <td>13.24</td>\n      <td>2.59</td>\n      <td>21.0</td>\n      <td>100.0</td>\n      <td>2.69</td>\n      <td>1.82</td>\n      <td>1.04</td>\n    </tr>\n    <tr>\n      <th>4</th>\n      <td>NaN</td>\n      <td>1.76</td>\n      <td>15.2</td>\n      <td>100.0</td>\n      <td>3.39</td>\n      <td>1.97</td>\n      <td>1.05</td>\n    </tr>\n    <tr>\n      <th>5</th>\n      <td>NaN</td>\n      <td>1.87</td>\n      <td>14.6</td>\n      <td>96.0</td>\n      <td>2.52</td>\n      <td>1.98</td>\n      <td>1.02</td>\n    </tr>\n    <tr>\n      <th>6</th>\n      <td>14.06</td>\n      <td>2.15</td>\n      <td>17.6</td>\n      <td>121.0</td>\n      <td>2.51</td>\n      <td>1.25</td>\n      <td>1.06</td>\n    </tr>\n    <tr>\n      <th>7</th>\n      <td>NaN</td>\n      <td>1.64</td>\n      <td>14.0</td>\n      <td>97.0</td>\n      <td>2.98</td>\n      <td>1.98</td>\n      <td>1.08</td>\n    </tr>\n    <tr>\n      <th>8</th>\n      <td>NaN</td>\n      <td>1.35</td>\n      <td>16.0</td>\n      <td>98.0</td>\n      <td>3.15</td>\n      <td>1.85</td>\n      <td>1.01</td>\n    </tr>\n    <tr>\n      <th>9</th>\n      <td>14.10</td>\n      <td>2.16</td>\n      <td>18.0</td>\n      <td>105.0</td>\n      <td>3.32</td>\n      <td>2.38</td>\n      <td>1.25</td>\n    </tr>\n  </tbody>\n</table>\n</div>"
     },
     "metadata": {}
    }
   ],
   "execution_count": null
  },
  {
   "cell_type": "markdown",
   "source": "### Step 12.  How many missing values do we have?",
   "metadata": {
    "id": "7MDiJbe3fE16",
    "cell_id": "00022-19f1b4f0-41d7-45b4-ac9e-07d28696bd81",
    "deepnote_cell_type": "markdown"
   }
  },
  {
   "cell_type": "code",
   "metadata": {
    "id": "e7PcZsBQfE16",
    "colab": {
     "base_uri": "https://localhost:8080/"
    },
    "executionInfo": {
     "status": "ok",
     "timestamp": 1624743476659,
     "user_tz": 240,
     "elapsed": 13,
     "user": {
      "displayName": "Andrés Sánchez",
      "photoUrl": "https://lh3.googleusercontent.com/a-/AOh14Gg69bZMv30ckb-T1MJy0nSxWIHUaP0p2uP6MYBuvQ=s64",
      "userId": "07985253921366566280"
     }
    },
    "outputId": "39204c44-02e2-4e00-99c2-65f2c46f18e5",
    "cell_id": "00023-bcbfaba5-22ce-4b1d-806e-fc9bd72a1a9b",
    "deepnote_to_be_reexecuted": false,
    "source_hash": "9dd3ac03",
    "execution_start": 1630098619137,
    "execution_millis": 10,
    "deepnote_cell_type": "code"
   },
   "source": "wine.isna().sum(axis = 0).sum()",
   "outputs": [
    {
     "output_type": "execute_result",
     "execution_count": 11,
     "data": {
      "text/plain": "21"
     },
     "metadata": {}
    }
   ],
   "execution_count": null
  },
  {
   "cell_type": "markdown",
   "source": "### Step 13. Delete the rows that contain missing values",
   "metadata": {
    "id": "Mp2M5HACfE16",
    "cell_id": "00024-0264fe86-fd69-4210-bfcf-ef70ef23f1a4",
    "deepnote_cell_type": "markdown"
   }
  },
  {
   "cell_type": "code",
   "metadata": {
    "id": "Nu0hhb8MfE16",
    "colab": {
     "base_uri": "https://localhost:8080/",
     "height": 1000
    },
    "executionInfo": {
     "status": "ok",
     "timestamp": 1624743476811,
     "user_tz": 240,
     "elapsed": 163,
     "user": {
      "displayName": "Andrés Sánchez",
      "photoUrl": "https://lh3.googleusercontent.com/a-/AOh14Gg69bZMv30ckb-T1MJy0nSxWIHUaP0p2uP6MYBuvQ=s64",
      "userId": "07985253921366566280"
     }
    },
    "outputId": "701ef3e9-5740-4a85-f813-5d96e5fd14b4",
    "cell_id": "00025-9a3ed2ff-64ad-49ba-834b-df781ece533c",
    "deepnote_to_be_reexecuted": false,
    "source_hash": "ca4544dd",
    "execution_start": 1630098619177,
    "execution_millis": 34,
    "deepnote_cell_type": "code"
   },
   "source": "wine.dropna()",
   "outputs": [
    {
     "output_type": "execute_result",
     "execution_count": 12,
     "data": {
      "application/vnd.deepnote.dataframe.v2+json": {
       "row_count": 170,
       "column_count": 7,
       "columns": [
        {
         "name": "alcohol",
         "dtype": "float64",
         "stats": {
          "unique_count": 120,
          "nan_count": 0,
          "min": "11.03",
          "max": "14.75",
          "histogram": [
           {
            "bin_start": 11.03,
            "bin_end": 11.402,
            "count": 1
           },
           {
            "bin_start": 11.402,
            "bin_end": 11.774,
            "count": 10
           },
           {
            "bin_start": 11.774,
            "bin_end": 12.145999999999999,
            "count": 18
           },
           {
            "bin_start": 12.145999999999999,
            "bin_end": 12.517999999999999,
            "count": 30
           },
           {
            "bin_start": 12.517999999999999,
            "bin_end": 12.89,
            "count": 23
           },
           {
            "bin_start": 12.89,
            "bin_end": 13.262,
            "count": 21
           },
           {
            "bin_start": 13.262,
            "bin_end": 13.634,
            "count": 26
           },
           {
            "bin_start": 13.634,
            "bin_end": 14.006,
            "count": 24
           },
           {
            "bin_start": 14.006,
            "bin_end": 14.378,
            "count": 14
           },
           {
            "bin_start": 14.378,
            "bin_end": 14.75,
            "count": 3
           }
          ]
         }
        },
        {
         "name": "malic_acid",
         "dtype": "float64",
         "stats": {
          "unique_count": 129,
          "nan_count": 0,
          "min": "0.74",
          "max": "5.8",
          "histogram": [
           {
            "bin_start": 0.74,
            "bin_end": 1.246,
            "count": 18
           },
           {
            "bin_start": 1.246,
            "bin_end": 1.752,
            "count": 56
           },
           {
            "bin_start": 1.752,
            "bin_end": 2.258,
            "count": 29
           },
           {
            "bin_start": 2.258,
            "bin_end": 2.7640000000000002,
            "count": 15
           },
           {
            "bin_start": 2.7640000000000002,
            "bin_end": 3.2700000000000005,
            "count": 14
           },
           {
            "bin_start": 3.2700000000000005,
            "bin_end": 3.776,
            "count": 11
           },
           {
            "bin_start": 3.776,
            "bin_end": 4.282,
            "count": 14
           },
           {
            "bin_start": 4.282,
            "bin_end": 4.788,
            "count": 7
           },
           {
            "bin_start": 4.788,
            "bin_end": 5.2940000000000005,
            "count": 3
           },
           {
            "bin_start": 5.2940000000000005,
            "bin_end": 5.8,
            "count": 3
           }
          ]
         }
        },
        {
         "name": "alcalinity_of_ash",
         "dtype": "float64",
         "stats": {
          "unique_count": 60,
          "nan_count": 0,
          "min": "10.6",
          "max": "30.0",
          "histogram": [
           {
            "bin_start": 10.6,
            "bin_end": 12.54,
            "count": 4
           },
           {
            "bin_start": 12.54,
            "bin_end": 14.48,
            "count": 2
           },
           {
            "bin_start": 14.48,
            "bin_end": 16.42,
            "count": 20
           },
           {
            "bin_start": 16.42,
            "bin_end": 18.36,
            "count": 31
           },
           {
            "bin_start": 18.36,
            "bin_end": 20.299999999999997,
            "count": 46
           },
           {
            "bin_start": 20.299999999999997,
            "bin_end": 22.240000000000002,
            "count": 34
           },
           {
            "bin_start": 22.240000000000002,
            "bin_end": 24.18,
            "count": 18
           },
           {
            "bin_start": 24.18,
            "bin_end": 26.119999999999997,
            "count": 10
           },
           {
            "bin_start": 26.119999999999997,
            "bin_end": 28.060000000000002,
            "count": 2
           },
           {
            "bin_start": 28.060000000000002,
            "bin_end": 30,
            "count": 3
           }
          ]
         }
        },
        {
         "name": "magnesium",
         "dtype": "float64",
         "stats": {
          "unique_count": 52,
          "nan_count": 0,
          "min": "70.0",
          "max": "162.0",
          "histogram": [
           {
            "bin_start": 70,
            "bin_end": 79.2,
            "count": 4
           },
           {
            "bin_start": 79.2,
            "bin_end": 88.4,
            "count": 43
           },
           {
            "bin_start": 88.4,
            "bin_end": 97.6,
            "count": 38
           },
           {
            "bin_start": 97.6,
            "bin_end": 106.8,
            "count": 41
           },
           {
            "bin_start": 106.8,
            "bin_end": 116,
            "count": 22
           },
           {
            "bin_start": 116,
            "bin_end": 125.19999999999999,
            "count": 14
           },
           {
            "bin_start": 125.19999999999999,
            "bin_end": 134.39999999999998,
            "count": 4
           },
           {
            "bin_start": 134.39999999999998,
            "bin_end": 143.6,
            "count": 2
           },
           {
            "bin_start": 143.6,
            "bin_end": 152.8,
            "count": 1
           },
           {
            "bin_start": 152.8,
            "bin_end": 162,
            "count": 1
           }
          ]
         }
        },
        {
         "name": "flavanoids",
         "dtype": "float64",
         "stats": {
          "unique_count": 128,
          "nan_count": 0,
          "min": "0.34",
          "max": "5.08",
          "histogram": [
           {
            "bin_start": 0.34,
            "bin_end": 0.8140000000000001,
            "count": 33
           },
           {
            "bin_start": 0.8140000000000001,
            "bin_end": 1.288,
            "count": 18
           },
           {
            "bin_start": 1.288,
            "bin_end": 1.7620000000000002,
            "count": 23
           },
           {
            "bin_start": 1.7620000000000002,
            "bin_end": 2.236,
            "count": 20
           },
           {
            "bin_start": 2.236,
            "bin_end": 2.71,
            "count": 31
           },
           {
            "bin_start": 2.71,
            "bin_end": 3.184,
            "count": 28
           },
           {
            "bin_start": 3.184,
            "bin_end": 3.658,
            "count": 11
           },
           {
            "bin_start": 3.658,
            "bin_end": 4.132000000000001,
            "count": 5
           },
           {
            "bin_start": 4.132000000000001,
            "bin_end": 4.606,
            "count": 0
           },
           {
            "bin_start": 4.606,
            "bin_end": 5.08,
            "count": 1
           }
          ]
         }
        },
        {
         "name": "proanthocyanins",
         "dtype": "float64",
         "stats": {
          "unique_count": 98,
          "nan_count": 0,
          "min": "0.41",
          "max": "3.58",
          "histogram": [
           {
            "bin_start": 0.41,
            "bin_end": 0.727,
            "count": 8
           },
           {
            "bin_start": 0.727,
            "bin_end": 1.044,
            "count": 25
           },
           {
            "bin_start": 1.044,
            "bin_end": 1.361,
            "count": 30
           },
           {
            "bin_start": 1.361,
            "bin_end": 1.678,
            "count": 43
           },
           {
            "bin_start": 1.678,
            "bin_end": 1.9949999999999999,
            "count": 32
           },
           {
            "bin_start": 1.9949999999999999,
            "bin_end": 2.3120000000000003,
            "count": 15
           },
           {
            "bin_start": 2.3120000000000003,
            "bin_end": 2.629,
            "count": 8
           },
           {
            "bin_start": 2.629,
            "bin_end": 2.946,
            "count": 6
           },
           {
            "bin_start": 2.946,
            "bin_end": 3.2630000000000003,
            "count": 1
           },
           {
            "bin_start": 3.2630000000000003,
            "bin_end": 3.58,
            "count": 2
           }
          ]
         }
        },
        {
         "name": "hue",
         "dtype": "float64",
         "stats": {
          "unique_count": 78,
          "nan_count": 0,
          "min": "0.48",
          "max": "1.71",
          "histogram": [
           {
            "bin_start": 0.48,
            "bin_end": 0.603,
            "count": 17
           },
           {
            "bin_start": 0.603,
            "bin_end": 0.726,
            "count": 16
           },
           {
            "bin_start": 0.726,
            "bin_end": 0.849,
            "count": 20
           },
           {
            "bin_start": 0.849,
            "bin_end": 0.972,
            "count": 36
           },
           {
            "bin_start": 0.972,
            "bin_end": 1.095,
            "count": 31
           },
           {
            "bin_start": 1.095,
            "bin_end": 1.218,
            "count": 24
           },
           {
            "bin_start": 1.218,
            "bin_end": 1.341,
            "count": 20
           },
           {
            "bin_start": 1.341,
            "bin_end": 1.464,
            "count": 5
           },
           {
            "bin_start": 1.464,
            "bin_end": 1.587,
            "count": 0
           },
           {
            "bin_start": 1.587,
            "bin_end": 1.71,
            "count": 1
           }
          ]
         }
        },
        {
         "name": "_deepnote_index_column",
         "dtype": "int64"
        }
       ],
       "rows_top": [
        {
         "alcohol": 13.24,
         "malic_acid": 2.59,
         "alcalinity_of_ash": 21,
         "magnesium": 100,
         "flavanoids": 2.69,
         "proanthocyanins": 1.82,
         "hue": 1.04,
         "_deepnote_index_column": 3
        },
        {
         "alcohol": 14.06,
         "malic_acid": 2.15,
         "alcalinity_of_ash": 17.6,
         "magnesium": 121,
         "flavanoids": 2.51,
         "proanthocyanins": 1.25,
         "hue": 1.06,
         "_deepnote_index_column": 6
        },
        {
         "alcohol": 14.1,
         "malic_acid": 2.16,
         "alcalinity_of_ash": 18,
         "magnesium": 105,
         "flavanoids": 3.32,
         "proanthocyanins": 2.38,
         "hue": 1.25,
         "_deepnote_index_column": 9
        },
        {
         "alcohol": 14.12,
         "malic_acid": 1.48,
         "alcalinity_of_ash": 16.8,
         "magnesium": 95,
         "flavanoids": 2.43,
         "proanthocyanins": 1.57,
         "hue": 1.17,
         "_deepnote_index_column": 10
        },
        {
         "alcohol": 13.75,
         "malic_acid": 1.73,
         "alcalinity_of_ash": 16,
         "magnesium": 89,
         "flavanoids": 2.76,
         "proanthocyanins": 1.81,
         "hue": 1.15,
         "_deepnote_index_column": 11
        },
        {
         "alcohol": 14.75,
         "malic_acid": 1.73,
         "alcalinity_of_ash": 11.4,
         "magnesium": 91,
         "flavanoids": 3.69,
         "proanthocyanins": 2.81,
         "hue": 1.25,
         "_deepnote_index_column": 12
        },
        {
         "alcohol": 14.38,
         "malic_acid": 1.87,
         "alcalinity_of_ash": 12,
         "magnesium": 102,
         "flavanoids": 3.64,
         "proanthocyanins": 2.96,
         "hue": 1.2,
         "_deepnote_index_column": 13
        },
        {
         "alcohol": 13.63,
         "malic_acid": 1.81,
         "alcalinity_of_ash": 17.2,
         "magnesium": 112,
         "flavanoids": 2.91,
         "proanthocyanins": 1.46,
         "hue": 1.28,
         "_deepnote_index_column": 14
        },
        {
         "alcohol": 14.3,
         "malic_acid": 1.92,
         "alcalinity_of_ash": 20,
         "magnesium": 120,
         "flavanoids": 3.14,
         "proanthocyanins": 1.97,
         "hue": 1.07,
         "_deepnote_index_column": 15
        },
        {
         "alcohol": 13.83,
         "malic_acid": 1.57,
         "alcalinity_of_ash": 20,
         "magnesium": 115,
         "flavanoids": 3.4,
         "proanthocyanins": 1.72,
         "hue": 1.13,
         "_deepnote_index_column": 16
        },
        {
         "alcohol": 14.19,
         "malic_acid": 1.59,
         "alcalinity_of_ash": 16.5,
         "magnesium": 108,
         "flavanoids": 3.93,
         "proanthocyanins": 1.86,
         "hue": 1.23,
         "_deepnote_index_column": 17
        },
        {
         "alcohol": 13.64,
         "malic_acid": 3.1,
         "alcalinity_of_ash": 15.2,
         "magnesium": 116,
         "flavanoids": 3.03,
         "proanthocyanins": 1.66,
         "hue": 0.96,
         "_deepnote_index_column": 18
        },
        {
         "alcohol": 14.06,
         "malic_acid": 1.63,
         "alcalinity_of_ash": 16,
         "magnesium": 126,
         "flavanoids": 3.17,
         "proanthocyanins": 2.1,
         "hue": 1.09,
         "_deepnote_index_column": 19
        },
        {
         "alcohol": 12.93,
         "malic_acid": 3.8,
         "alcalinity_of_ash": 18.6,
         "magnesium": 102,
         "flavanoids": 2.41,
         "proanthocyanins": 1.98,
         "hue": 1.03,
         "_deepnote_index_column": 20
        },
        {
         "alcohol": 13.71,
         "malic_acid": 1.86,
         "alcalinity_of_ash": 16.6,
         "magnesium": 101,
         "flavanoids": 2.88,
         "proanthocyanins": 1.69,
         "hue": 1.11,
         "_deepnote_index_column": 21
        },
        {
         "alcohol": 12.85,
         "malic_acid": 1.6,
         "alcalinity_of_ash": 17.8,
         "magnesium": 95,
         "flavanoids": 2.37,
         "proanthocyanins": 1.46,
         "hue": 1.09,
         "_deepnote_index_column": 22
        },
        {
         "alcohol": 13.5,
         "malic_acid": 1.81,
         "alcalinity_of_ash": 20,
         "magnesium": 96,
         "flavanoids": 2.61,
         "proanthocyanins": 1.66,
         "hue": 1.12,
         "_deepnote_index_column": 23
        },
        {
         "alcohol": 13.05,
         "malic_acid": 2.05,
         "alcalinity_of_ash": 25,
         "magnesium": 124,
         "flavanoids": 2.68,
         "proanthocyanins": 1.92,
         "hue": 1.13,
         "_deepnote_index_column": 24
        },
        {
         "alcohol": 13.39,
         "malic_acid": 1.77,
         "alcalinity_of_ash": 16.1,
         "magnesium": 93,
         "flavanoids": 2.94,
         "proanthocyanins": 1.45,
         "hue": 0.92,
         "_deepnote_index_column": 25
        },
        {
         "alcohol": 13.3,
         "malic_acid": 1.72,
         "alcalinity_of_ash": 17,
         "magnesium": 94,
         "flavanoids": 2.19,
         "proanthocyanins": 1.35,
         "hue": 1.02,
         "_deepnote_index_column": 26
        },
        {
         "alcohol": 13.87,
         "malic_acid": 1.9,
         "alcalinity_of_ash": 19.4,
         "magnesium": 107,
         "flavanoids": 2.97,
         "proanthocyanins": 1.76,
         "hue": 1.25,
         "_deepnote_index_column": 27
        },
        {
         "alcohol": 14.02,
         "malic_acid": 1.68,
         "alcalinity_of_ash": 16,
         "magnesium": 96,
         "flavanoids": 2.33,
         "proanthocyanins": 1.98,
         "hue": 1.04,
         "_deepnote_index_column": 28
        },
        {
         "alcohol": 13.73,
         "malic_acid": 1.5,
         "alcalinity_of_ash": 22.5,
         "magnesium": 101,
         "flavanoids": 3.25,
         "proanthocyanins": 2.38,
         "hue": 1.19,
         "_deepnote_index_column": 29
        },
        {
         "alcohol": 13.58,
         "malic_acid": 1.66,
         "alcalinity_of_ash": 19.1,
         "magnesium": 106,
         "flavanoids": 3.19,
         "proanthocyanins": 1.95,
         "hue": 1.09,
         "_deepnote_index_column": 30
        },
        {
         "alcohol": 13.68,
         "malic_acid": 1.83,
         "alcalinity_of_ash": 17.2,
         "magnesium": 104,
         "flavanoids": 2.69,
         "proanthocyanins": 1.97,
         "hue": 1.23,
         "_deepnote_index_column": 31
        },
        {
         "alcohol": 13.76,
         "malic_acid": 1.53,
         "alcalinity_of_ash": 19.5,
         "magnesium": 132,
         "flavanoids": 2.74,
         "proanthocyanins": 1.35,
         "hue": 1.25,
         "_deepnote_index_column": 32
        },
        {
         "alcohol": 13.51,
         "malic_acid": 1.8,
         "alcalinity_of_ash": 19,
         "magnesium": 110,
         "flavanoids": 2.53,
         "proanthocyanins": 1.54,
         "hue": 1.1,
         "_deepnote_index_column": 33
        },
        {
         "alcohol": 13.48,
         "malic_acid": 1.81,
         "alcalinity_of_ash": 20.5,
         "magnesium": 100,
         "flavanoids": 2.98,
         "proanthocyanins": 1.86,
         "hue": 1.04,
         "_deepnote_index_column": 34
        },
        {
         "alcohol": 13.28,
         "malic_acid": 1.64,
         "alcalinity_of_ash": 15.5,
         "magnesium": 110,
         "flavanoids": 2.68,
         "proanthocyanins": 1.36,
         "hue": 1.09,
         "_deepnote_index_column": 35
        },
        {
         "alcohol": 13.05,
         "malic_acid": 1.65,
         "alcalinity_of_ash": 18,
         "magnesium": 98,
         "flavanoids": 2.43,
         "proanthocyanins": 1.44,
         "hue": 1.12,
         "_deepnote_index_column": 36
        },
        {
         "alcohol": 13.07,
         "malic_acid": 1.5,
         "alcalinity_of_ash": 15.5,
         "magnesium": 98,
         "flavanoids": 2.64,
         "proanthocyanins": 1.37,
         "hue": 1.18,
         "_deepnote_index_column": 37
        },
        {
         "alcohol": 14.22,
         "malic_acid": 3.99,
         "alcalinity_of_ash": 13.2,
         "magnesium": 128,
         "flavanoids": 3.04,
         "proanthocyanins": 2.08,
         "hue": 0.89,
         "_deepnote_index_column": 38
        },
        {
         "alcohol": 13.56,
         "malic_acid": 1.71,
         "alcalinity_of_ash": 16.2,
         "magnesium": 117,
         "flavanoids": 3.29,
         "proanthocyanins": 2.34,
         "hue": 0.95,
         "_deepnote_index_column": 39
        },
        {
         "alcohol": 13.41,
         "malic_acid": 3.84,
         "alcalinity_of_ash": 18.8,
         "magnesium": 90,
         "flavanoids": 2.68,
         "proanthocyanins": 1.48,
         "hue": 0.91,
         "_deepnote_index_column": 40
        },
        {
         "alcohol": 13.88,
         "malic_acid": 1.89,
         "alcalinity_of_ash": 15,
         "magnesium": 101,
         "flavanoids": 3.56,
         "proanthocyanins": 1.7,
         "hue": 0.88,
         "_deepnote_index_column": 41
        },
        {
         "alcohol": 13.24,
         "malic_acid": 3.98,
         "alcalinity_of_ash": 17.5,
         "magnesium": 103,
         "flavanoids": 2.63,
         "proanthocyanins": 1.66,
         "hue": 0.82,
         "_deepnote_index_column": 42
        },
        {
         "alcohol": 13.05,
         "malic_acid": 1.77,
         "alcalinity_of_ash": 17,
         "magnesium": 107,
         "flavanoids": 3,
         "proanthocyanins": 2.03,
         "hue": 0.88,
         "_deepnote_index_column": 43
        },
        {
         "alcohol": 14.21,
         "malic_acid": 4.04,
         "alcalinity_of_ash": 18.9,
         "magnesium": 111,
         "flavanoids": 2.65,
         "proanthocyanins": 1.25,
         "hue": 0.87,
         "_deepnote_index_column": 44
        },
        {
         "alcohol": 14.38,
         "malic_acid": 3.59,
         "alcalinity_of_ash": 16,
         "magnesium": 102,
         "flavanoids": 3.17,
         "proanthocyanins": 2.19,
         "hue": 1.04,
         "_deepnote_index_column": 45
        },
        {
         "alcohol": 13.9,
         "malic_acid": 1.68,
         "alcalinity_of_ash": 16,
         "magnesium": 101,
         "flavanoids": 3.39,
         "proanthocyanins": 2.14,
         "hue": 0.91,
         "_deepnote_index_column": 46
        },
        {
         "alcohol": 14.1,
         "malic_acid": 2.02,
         "alcalinity_of_ash": 18.8,
         "magnesium": 103,
         "flavanoids": 2.92,
         "proanthocyanins": 2.38,
         "hue": 1.07,
         "_deepnote_index_column": 47
        },
        {
         "alcohol": 13.94,
         "malic_acid": 1.73,
         "alcalinity_of_ash": 17.4,
         "magnesium": 108,
         "flavanoids": 3.54,
         "proanthocyanins": 2.08,
         "hue": 1.12,
         "_deepnote_index_column": 48
        },
        {
         "alcohol": 13.05,
         "malic_acid": 1.73,
         "alcalinity_of_ash": 12.4,
         "magnesium": 92,
         "flavanoids": 3.27,
         "proanthocyanins": 2.91,
         "hue": 1.12,
         "_deepnote_index_column": 49
        },
        {
         "alcohol": 13.83,
         "malic_acid": 1.65,
         "alcalinity_of_ash": 17.2,
         "magnesium": 94,
         "flavanoids": 2.99,
         "proanthocyanins": 2.29,
         "hue": 1.24,
         "_deepnote_index_column": 50
        },
        {
         "alcohol": 13.82,
         "malic_acid": 1.75,
         "alcalinity_of_ash": 14,
         "magnesium": 111,
         "flavanoids": 3.74,
         "proanthocyanins": 1.87,
         "hue": 1.01,
         "_deepnote_index_column": 51
        },
        {
         "alcohol": 13.77,
         "malic_acid": 1.9,
         "alcalinity_of_ash": 17.1,
         "magnesium": 115,
         "flavanoids": 2.79,
         "proanthocyanins": 1.68,
         "hue": 1.13,
         "_deepnote_index_column": 52
        },
        {
         "alcohol": 13.74,
         "malic_acid": 1.67,
         "alcalinity_of_ash": 16.4,
         "magnesium": 118,
         "flavanoids": 2.9,
         "proanthocyanins": 1.62,
         "hue": 0.92,
         "_deepnote_index_column": 53
        },
        {
         "alcohol": 13.56,
         "malic_acid": 1.73,
         "alcalinity_of_ash": 20.5,
         "magnesium": 116,
         "flavanoids": 2.78,
         "proanthocyanins": 2.45,
         "hue": 0.98,
         "_deepnote_index_column": 54
        },
        {
         "alcohol": 14.22,
         "malic_acid": 1.7,
         "alcalinity_of_ash": 16.3,
         "magnesium": 118,
         "flavanoids": 3,
         "proanthocyanins": 2.03,
         "hue": 0.94,
         "_deepnote_index_column": 55
        },
        {
         "alcohol": 13.29,
         "malic_acid": 1.97,
         "alcalinity_of_ash": 16.8,
         "magnesium": 102,
         "flavanoids": 3.23,
         "proanthocyanins": 1.66,
         "hue": 1.07,
         "_deepnote_index_column": 56
        },
        {
         "alcohol": 13.72,
         "malic_acid": 1.43,
         "alcalinity_of_ash": 16.7,
         "magnesium": 108,
         "flavanoids": 3.67,
         "proanthocyanins": 2.04,
         "hue": 0.89,
         "_deepnote_index_column": 57
        },
        {
         "alcohol": 12.37,
         "malic_acid": 0.94,
         "alcalinity_of_ash": 10.6,
         "magnesium": 88,
         "flavanoids": 0.57,
         "proanthocyanins": 0.42,
         "hue": 1.05,
         "_deepnote_index_column": 58
        },
        {
         "alcohol": 12.33,
         "malic_acid": 1.1,
         "alcalinity_of_ash": 16,
         "magnesium": 101,
         "flavanoids": 1.09,
         "proanthocyanins": 0.41,
         "hue": 1.25,
         "_deepnote_index_column": 59
        },
        {
         "alcohol": 12.64,
         "malic_acid": 1.36,
         "alcalinity_of_ash": 16.8,
         "magnesium": 100,
         "flavanoids": 1.41,
         "proanthocyanins": 0.62,
         "hue": 0.98,
         "_deepnote_index_column": 60
        },
        {
         "alcohol": 13.67,
         "malic_acid": 1.25,
         "alcalinity_of_ash": 18,
         "magnesium": 94,
         "flavanoids": 1.79,
         "proanthocyanins": 0.73,
         "hue": 1.23,
         "_deepnote_index_column": 61
        },
        {
         "alcohol": 12.37,
         "malic_acid": 1.13,
         "alcalinity_of_ash": 19,
         "magnesium": 87,
         "flavanoids": 3.1,
         "proanthocyanins": 1.87,
         "hue": 1.22,
         "_deepnote_index_column": 62
        },
        {
         "alcohol": 12.17,
         "malic_acid": 1.45,
         "alcalinity_of_ash": 19,
         "magnesium": 104,
         "flavanoids": 1.75,
         "proanthocyanins": 1.03,
         "hue": 1.45,
         "_deepnote_index_column": 63
        },
        {
         "alcohol": 12.37,
         "malic_acid": 1.21,
         "alcalinity_of_ash": 18.1,
         "magnesium": 98,
         "flavanoids": 2.65,
         "proanthocyanins": 2.08,
         "hue": 1.19,
         "_deepnote_index_column": 64
        },
        {
         "alcohol": 13.11,
         "malic_acid": 1.01,
         "alcalinity_of_ash": 15,
         "magnesium": 78,
         "flavanoids": 3.18,
         "proanthocyanins": 2.28,
         "hue": 1.12,
         "_deepnote_index_column": 65
        },
        {
         "alcohol": 12.37,
         "malic_acid": 1.17,
         "alcalinity_of_ash": 19.6,
         "magnesium": 78,
         "flavanoids": 2,
         "proanthocyanins": 1.04,
         "hue": 1.12,
         "_deepnote_index_column": 66
        },
        {
         "alcohol": 13.34,
         "malic_acid": 0.94,
         "alcalinity_of_ash": 17,
         "magnesium": 110,
         "flavanoids": 1.3,
         "proanthocyanins": 0.42,
         "hue": 1.02,
         "_deepnote_index_column": 67
        },
        {
         "alcohol": 12.21,
         "malic_acid": 1.19,
         "alcalinity_of_ash": 16.8,
         "magnesium": 151,
         "flavanoids": 1.28,
         "proanthocyanins": 2.5,
         "hue": 1.28,
         "_deepnote_index_column": 68
        },
        {
         "alcohol": 12.29,
         "malic_acid": 1.61,
         "alcalinity_of_ash": 20.4,
         "magnesium": 103,
         "flavanoids": 1.02,
         "proanthocyanins": 1.46,
         "hue": 0.906,
         "_deepnote_index_column": 69
        },
        {
         "alcohol": 13.86,
         "malic_acid": 1.51,
         "alcalinity_of_ash": 25,
         "magnesium": 86,
         "flavanoids": 2.86,
         "proanthocyanins": 1.87,
         "hue": 1.36,
         "_deepnote_index_column": 70
        },
        {
         "alcohol": 13.49,
         "malic_acid": 1.66,
         "alcalinity_of_ash": 24,
         "magnesium": 87,
         "flavanoids": 1.84,
         "proanthocyanins": 1.03,
         "hue": 0.98,
         "_deepnote_index_column": 71
        },
        {
         "alcohol": 12.99,
         "malic_acid": 1.67,
         "alcalinity_of_ash": 30,
         "magnesium": 139,
         "flavanoids": 2.89,
         "proanthocyanins": 1.96,
         "hue": 1.31,
         "_deepnote_index_column": 72
        },
        {
         "alcohol": 11.96,
         "malic_acid": 1.09,
         "alcalinity_of_ash": 21,
         "magnesium": 101,
         "flavanoids": 2.14,
         "proanthocyanins": 1.65,
         "hue": 0.99,
         "_deepnote_index_column": 73
        },
        {
         "alcohol": 11.66,
         "malic_acid": 1.88,
         "alcalinity_of_ash": 16,
         "magnesium": 97,
         "flavanoids": 1.57,
         "proanthocyanins": 1.15,
         "hue": 1.23,
         "_deepnote_index_column": 74
        },
        {
         "alcohol": 13.03,
         "malic_acid": 0.9,
         "alcalinity_of_ash": 16,
         "magnesium": 86,
         "flavanoids": 2.03,
         "proanthocyanins": 1.46,
         "hue": 1.19,
         "_deepnote_index_column": 75
        },
        {
         "alcohol": 11.84,
         "malic_acid": 2.89,
         "alcalinity_of_ash": 18,
         "magnesium": 112,
         "flavanoids": 1.32,
         "proanthocyanins": 0.95,
         "hue": 0.96,
         "_deepnote_index_column": 76
        },
        {
         "alcohol": 12.33,
         "malic_acid": 0.99,
         "alcalinity_of_ash": 14.8,
         "magnesium": 136,
         "flavanoids": 1.85,
         "proanthocyanins": 2.76,
         "hue": 1.06,
         "_deepnote_index_column": 77
        }
       ],
       "rows_bottom": [
        {
         "alcohol": 12.72,
         "malic_acid": 1.75,
         "alcalinity_of_ash": 22.5,
         "magnesium": 84,
         "flavanoids": 1.76,
         "proanthocyanins": 1.63,
         "hue": 0.88,
         "_deepnote_index_column": 106
        },
        {
         "alcohol": 12.22,
         "malic_acid": 1.29,
         "alcalinity_of_ash": 19,
         "magnesium": 92,
         "flavanoids": 2.04,
         "proanthocyanins": 2.08,
         "hue": 0.86,
         "_deepnote_index_column": 107
        },
        {
         "alcohol": 11.61,
         "malic_acid": 1.35,
         "alcalinity_of_ash": 20,
         "magnesium": 94,
         "flavanoids": 2.92,
         "proanthocyanins": 2.49,
         "hue": 0.96,
         "_deepnote_index_column": 108
        },
        {
         "alcohol": 11.46,
         "malic_acid": 3.74,
         "alcalinity_of_ash": 19.5,
         "magnesium": 107,
         "flavanoids": 2.58,
         "proanthocyanins": 3.58,
         "hue": 0.75,
         "_deepnote_index_column": 109
        },
        {
         "alcohol": 12.52,
         "malic_acid": 2.43,
         "alcalinity_of_ash": 21,
         "magnesium": 88,
         "flavanoids": 2.27,
         "proanthocyanins": 1.22,
         "hue": 0.9,
         "_deepnote_index_column": 110
        },
        {
         "alcohol": 11.76,
         "malic_acid": 2.68,
         "alcalinity_of_ash": 20,
         "magnesium": 103,
         "flavanoids": 2.03,
         "proanthocyanins": 1.05,
         "hue": 1.23,
         "_deepnote_index_column": 111
        },
        {
         "alcohol": 11.41,
         "malic_acid": 0.74,
         "alcalinity_of_ash": 21,
         "magnesium": 88,
         "flavanoids": 2.01,
         "proanthocyanins": 1.44,
         "hue": 1.1,
         "_deepnote_index_column": 112
        },
        {
         "alcohol": 12.08,
         "malic_acid": 1.39,
         "alcalinity_of_ash": 22.5,
         "magnesium": 84,
         "flavanoids": 2.29,
         "proanthocyanins": 1.04,
         "hue": 0.93,
         "_deepnote_index_column": 113
        },
        {
         "alcohol": 11.03,
         "malic_acid": 1.51,
         "alcalinity_of_ash": 21.5,
         "magnesium": 85,
         "flavanoids": 2.17,
         "proanthocyanins": 2.01,
         "hue": 1.71,
         "_deepnote_index_column": 114
        },
        {
         "alcohol": 11.82,
         "malic_acid": 1.47,
         "alcalinity_of_ash": 20.8,
         "magnesium": 86,
         "flavanoids": 1.6,
         "proanthocyanins": 1.53,
         "hue": 0.95,
         "_deepnote_index_column": 115
        },
        {
         "alcohol": 12.42,
         "malic_acid": 1.61,
         "alcalinity_of_ash": 22.5,
         "magnesium": 108,
         "flavanoids": 2.09,
         "proanthocyanins": 1.61,
         "hue": 1.06,
         "_deepnote_index_column": 116
        },
        {
         "alcohol": 12.77,
         "malic_acid": 3.43,
         "alcalinity_of_ash": 16,
         "magnesium": 80,
         "flavanoids": 1.25,
         "proanthocyanins": 0.83,
         "hue": 0.7,
         "_deepnote_index_column": 117
        },
        {
         "alcohol": 12,
         "malic_acid": 3.43,
         "alcalinity_of_ash": 19,
         "magnesium": 87,
         "flavanoids": 1.64,
         "proanthocyanins": 1.87,
         "hue": 0.93,
         "_deepnote_index_column": 118
        },
        {
         "alcohol": 11.45,
         "malic_acid": 2.4,
         "alcalinity_of_ash": 20,
         "magnesium": 96,
         "flavanoids": 2.79,
         "proanthocyanins": 1.83,
         "hue": 0.8,
         "_deepnote_index_column": 119
        },
        {
         "alcohol": 11.56,
         "malic_acid": 2.05,
         "alcalinity_of_ash": 28.5,
         "magnesium": 119,
         "flavanoids": 5.08,
         "proanthocyanins": 1.87,
         "hue": 0.93,
         "_deepnote_index_column": 120
        },
        {
         "alcohol": 12.42,
         "malic_acid": 4.43,
         "alcalinity_of_ash": 26.5,
         "magnesium": 102,
         "flavanoids": 2.13,
         "proanthocyanins": 1.71,
         "hue": 0.92,
         "_deepnote_index_column": 121
        },
        {
         "alcohol": 13.05,
         "malic_acid": 5.8,
         "alcalinity_of_ash": 21.5,
         "magnesium": 86,
         "flavanoids": 2.65,
         "proanthocyanins": 2.01,
         "hue": 0.73,
         "_deepnote_index_column": 122
        },
        {
         "alcohol": 11.87,
         "malic_acid": 4.31,
         "alcalinity_of_ash": 21,
         "magnesium": 82,
         "flavanoids": 3.03,
         "proanthocyanins": 2.91,
         "hue": 0.75,
         "_deepnote_index_column": 123
        },
        {
         "alcohol": 12.07,
         "malic_acid": 2.16,
         "alcalinity_of_ash": 21,
         "magnesium": 85,
         "flavanoids": 2.65,
         "proanthocyanins": 1.35,
         "hue": 0.86,
         "_deepnote_index_column": 124
        },
        {
         "alcohol": 12.43,
         "malic_acid": 1.53,
         "alcalinity_of_ash": 21.5,
         "magnesium": 86,
         "flavanoids": 3.15,
         "proanthocyanins": 1.77,
         "hue": 0.69,
         "_deepnote_index_column": 125
        },
        {
         "alcohol": 11.79,
         "malic_acid": 2.13,
         "alcalinity_of_ash": 28.5,
         "magnesium": 92,
         "flavanoids": 2.24,
         "proanthocyanins": 1.76,
         "hue": 0.97,
         "_deepnote_index_column": 126
        },
        {
         "alcohol": 12.37,
         "malic_acid": 1.63,
         "alcalinity_of_ash": 24.5,
         "magnesium": 88,
         "flavanoids": 2.45,
         "proanthocyanins": 1.9,
         "hue": 0.89,
         "_deepnote_index_column": 127
        },
        {
         "alcohol": 12.04,
         "malic_acid": 4.3,
         "alcalinity_of_ash": 22,
         "magnesium": 80,
         "flavanoids": 1.75,
         "proanthocyanins": 1.35,
         "hue": 0.79,
         "_deepnote_index_column": 128
        },
        {
         "alcohol": 12.86,
         "malic_acid": 1.35,
         "alcalinity_of_ash": 18,
         "magnesium": 122,
         "flavanoids": 1.25,
         "proanthocyanins": 0.94,
         "hue": 0.76,
         "_deepnote_index_column": 129
        },
        {
         "alcohol": 12.88,
         "malic_acid": 2.99,
         "alcalinity_of_ash": 20,
         "magnesium": 104,
         "flavanoids": 1.22,
         "proanthocyanins": 0.83,
         "hue": 0.74,
         "_deepnote_index_column": 130
        },
        {
         "alcohol": 12.81,
         "malic_acid": 2.31,
         "alcalinity_of_ash": 24,
         "magnesium": 98,
         "flavanoids": 1.09,
         "proanthocyanins": 0.83,
         "hue": 0.66,
         "_deepnote_index_column": 131
        },
        {
         "alcohol": 12.7,
         "malic_acid": 3.55,
         "alcalinity_of_ash": 21.5,
         "magnesium": 106,
         "flavanoids": 1.2,
         "proanthocyanins": 0.84,
         "hue": 0.78,
         "_deepnote_index_column": 132
        },
        {
         "alcohol": 12.51,
         "malic_acid": 1.24,
         "alcalinity_of_ash": 17.5,
         "magnesium": 85,
         "flavanoids": 0.58,
         "proanthocyanins": 1.25,
         "hue": 0.75,
         "_deepnote_index_column": 133
        },
        {
         "alcohol": 12.6,
         "malic_acid": 2.46,
         "alcalinity_of_ash": 18.5,
         "magnesium": 94,
         "flavanoids": 0.66,
         "proanthocyanins": 0.94,
         "hue": 0.73,
         "_deepnote_index_column": 134
        },
        {
         "alcohol": 12.25,
         "malic_acid": 4.72,
         "alcalinity_of_ash": 21,
         "magnesium": 89,
         "flavanoids": 0.47,
         "proanthocyanins": 0.8,
         "hue": 0.75,
         "_deepnote_index_column": 135
        },
        {
         "alcohol": 12.53,
         "malic_acid": 5.51,
         "alcalinity_of_ash": 25,
         "magnesium": 96,
         "flavanoids": 0.6,
         "proanthocyanins": 1.1,
         "hue": 0.82,
         "_deepnote_index_column": 136
        },
        {
         "alcohol": 13.49,
         "malic_acid": 3.59,
         "alcalinity_of_ash": 19.5,
         "magnesium": 88,
         "flavanoids": 0.48,
         "proanthocyanins": 0.88,
         "hue": 0.81,
         "_deepnote_index_column": 137
        },
        {
         "alcohol": 12.84,
         "malic_acid": 2.96,
         "alcalinity_of_ash": 24,
         "magnesium": 101,
         "flavanoids": 0.6,
         "proanthocyanins": 0.81,
         "hue": 0.89,
         "_deepnote_index_column": 138
        },
        {
         "alcohol": 12.93,
         "malic_acid": 2.81,
         "alcalinity_of_ash": 21,
         "magnesium": 96,
         "flavanoids": 0.5,
         "proanthocyanins": 0.75,
         "hue": 0.77,
         "_deepnote_index_column": 139
        },
        {
         "alcohol": 13.36,
         "malic_acid": 2.56,
         "alcalinity_of_ash": 20,
         "magnesium": 89,
         "flavanoids": 0.5,
         "proanthocyanins": 0.64,
         "hue": 0.7,
         "_deepnote_index_column": 140
        },
        {
         "alcohol": 13.52,
         "malic_acid": 3.17,
         "alcalinity_of_ash": 23.5,
         "magnesium": 97,
         "flavanoids": 0.52,
         "proanthocyanins": 0.55,
         "hue": 0.89,
         "_deepnote_index_column": 141
        },
        {
         "alcohol": 13.62,
         "malic_acid": 4.95,
         "alcalinity_of_ash": 20,
         "magnesium": 92,
         "flavanoids": 0.8,
         "proanthocyanins": 1.02,
         "hue": 0.91,
         "_deepnote_index_column": 142
        },
        {
         "alcohol": 12.25,
         "malic_acid": 3.88,
         "alcalinity_of_ash": 18.5,
         "magnesium": 112,
         "flavanoids": 0.78,
         "proanthocyanins": 1.14,
         "hue": 0.65,
         "_deepnote_index_column": 143
        },
        {
         "alcohol": 13.16,
         "malic_acid": 3.57,
         "alcalinity_of_ash": 21,
         "magnesium": 102,
         "flavanoids": 0.55,
         "proanthocyanins": 1.3,
         "hue": 0.6,
         "_deepnote_index_column": 144
        },
        {
         "alcohol": 13.88,
         "malic_acid": 5.04,
         "alcalinity_of_ash": 20,
         "magnesium": 80,
         "flavanoids": 0.34,
         "proanthocyanins": 0.68,
         "hue": 0.58,
         "_deepnote_index_column": 145
        },
        {
         "alcohol": 12.87,
         "malic_acid": 4.61,
         "alcalinity_of_ash": 21.5,
         "magnesium": 86,
         "flavanoids": 0.65,
         "proanthocyanins": 0.86,
         "hue": 0.54,
         "_deepnote_index_column": 146
        },
        {
         "alcohol": 13.32,
         "malic_acid": 3.24,
         "alcalinity_of_ash": 21.5,
         "magnesium": 92,
         "flavanoids": 0.76,
         "proanthocyanins": 1.25,
         "hue": 0.55,
         "_deepnote_index_column": 147
        },
        {
         "alcohol": 13.08,
         "malic_acid": 3.9,
         "alcalinity_of_ash": 21.5,
         "magnesium": 113,
         "flavanoids": 1.39,
         "proanthocyanins": 1.14,
         "hue": 0.57,
         "_deepnote_index_column": 148
        },
        {
         "alcohol": 13.5,
         "malic_acid": 3.12,
         "alcalinity_of_ash": 24,
         "magnesium": 123,
         "flavanoids": 1.57,
         "proanthocyanins": 1.25,
         "hue": 0.59,
         "_deepnote_index_column": 149
        },
        {
         "alcohol": 12.79,
         "malic_acid": 2.67,
         "alcalinity_of_ash": 22,
         "magnesium": 112,
         "flavanoids": 1.36,
         "proanthocyanins": 1.26,
         "hue": 0.48,
         "_deepnote_index_column": 150
        },
        {
         "alcohol": 13.11,
         "malic_acid": 1.9,
         "alcalinity_of_ash": 25.5,
         "magnesium": 116,
         "flavanoids": 1.28,
         "proanthocyanins": 1.56,
         "hue": 0.61,
         "_deepnote_index_column": 151
        },
        {
         "alcohol": 13.23,
         "malic_acid": 3.3,
         "alcalinity_of_ash": 18.5,
         "magnesium": 98,
         "flavanoids": 0.83,
         "proanthocyanins": 1.87,
         "hue": 0.56,
         "_deepnote_index_column": 152
        },
        {
         "alcohol": 12.58,
         "malic_acid": 1.29,
         "alcalinity_of_ash": 20,
         "magnesium": 103,
         "flavanoids": 0.58,
         "proanthocyanins": 1.4,
         "hue": 0.58,
         "_deepnote_index_column": 153
        },
        {
         "alcohol": 13.17,
         "malic_acid": 5.19,
         "alcalinity_of_ash": 22,
         "magnesium": 93,
         "flavanoids": 0.63,
         "proanthocyanins": 1.55,
         "hue": 0.6,
         "_deepnote_index_column": 154
        },
        {
         "alcohol": 13.84,
         "malic_acid": 4.12,
         "alcalinity_of_ash": 19.5,
         "magnesium": 89,
         "flavanoids": 0.83,
         "proanthocyanins": 1.56,
         "hue": 0.57,
         "_deepnote_index_column": 155
        },
        {
         "alcohol": 12.45,
         "malic_acid": 3.03,
         "alcalinity_of_ash": 27,
         "magnesium": 97,
         "flavanoids": 0.58,
         "proanthocyanins": 1.14,
         "hue": 0.67,
         "_deepnote_index_column": 156
        },
        {
         "alcohol": 14.34,
         "malic_acid": 1.68,
         "alcalinity_of_ash": 25,
         "magnesium": 98,
         "flavanoids": 1.31,
         "proanthocyanins": 2.7,
         "hue": 0.57,
         "_deepnote_index_column": 157
        },
        {
         "alcohol": 13.48,
         "malic_acid": 1.67,
         "alcalinity_of_ash": 22.5,
         "magnesium": 89,
         "flavanoids": 1.1,
         "proanthocyanins": 2.29,
         "hue": 0.57,
         "_deepnote_index_column": 158
        },
        {
         "alcohol": 12.36,
         "malic_acid": 3.83,
         "alcalinity_of_ash": 21,
         "magnesium": 88,
         "flavanoids": 0.92,
         "proanthocyanins": 1.04,
         "hue": 0.56,
         "_deepnote_index_column": 159
        },
        {
         "alcohol": 13.69,
         "malic_acid": 3.26,
         "alcalinity_of_ash": 20,
         "magnesium": 107,
         "flavanoids": 0.56,
         "proanthocyanins": 0.8,
         "hue": 0.96,
         "_deepnote_index_column": 160
        },
        {
         "alcohol": 12.85,
         "malic_acid": 3.27,
         "alcalinity_of_ash": 22,
         "magnesium": 106,
         "flavanoids": 0.6,
         "proanthocyanins": 0.96,
         "hue": 0.87,
         "_deepnote_index_column": 161
        },
        {
         "alcohol": 12.96,
         "malic_acid": 3.45,
         "alcalinity_of_ash": 18.5,
         "magnesium": 106,
         "flavanoids": 0.7,
         "proanthocyanins": 0.94,
         "hue": 0.68,
         "_deepnote_index_column": 162
        },
        {
         "alcohol": 13.78,
         "malic_acid": 2.76,
         "alcalinity_of_ash": 22,
         "magnesium": 90,
         "flavanoids": 0.68,
         "proanthocyanins": 1.03,
         "hue": 0.7,
         "_deepnote_index_column": 163
        },
        {
         "alcohol": 13.73,
         "malic_acid": 4.36,
         "alcalinity_of_ash": 22.5,
         "magnesium": 88,
         "flavanoids": 0.47,
         "proanthocyanins": 1.15,
         "hue": 0.78,
         "_deepnote_index_column": 164
        },
        {
         "alcohol": 13.45,
         "malic_acid": 3.7,
         "alcalinity_of_ash": 23,
         "magnesium": 111,
         "flavanoids": 0.92,
         "proanthocyanins": 1.46,
         "hue": 0.85,
         "_deepnote_index_column": 165
        },
        {
         "alcohol": 12.82,
         "malic_acid": 3.37,
         "alcalinity_of_ash": 19.5,
         "magnesium": 88,
         "flavanoids": 0.66,
         "proanthocyanins": 0.97,
         "hue": 0.72,
         "_deepnote_index_column": 166
        },
        {
         "alcohol": 13.58,
         "malic_acid": 2.58,
         "alcalinity_of_ash": 24.5,
         "magnesium": 105,
         "flavanoids": 0.84,
         "proanthocyanins": 1.54,
         "hue": 0.74,
         "_deepnote_index_column": 167
        },
        {
         "alcohol": 13.4,
         "malic_acid": 4.6,
         "alcalinity_of_ash": 25,
         "magnesium": 112,
         "flavanoids": 0.96,
         "proanthocyanins": 1.11,
         "hue": 0.67,
         "_deepnote_index_column": 168
        },
        {
         "alcohol": 12.2,
         "malic_acid": 3.03,
         "alcalinity_of_ash": 19,
         "magnesium": 96,
         "flavanoids": 0.49,
         "proanthocyanins": 0.73,
         "hue": 0.66,
         "_deepnote_index_column": 169
        },
        {
         "alcohol": 12.77,
         "malic_acid": 2.39,
         "alcalinity_of_ash": 19.5,
         "magnesium": 86,
         "flavanoids": 0.51,
         "proanthocyanins": 0.64,
         "hue": 0.57,
         "_deepnote_index_column": 170
        },
        {
         "alcohol": 14.16,
         "malic_acid": 2.51,
         "alcalinity_of_ash": 20,
         "magnesium": 91,
         "flavanoids": 0.7,
         "proanthocyanins": 1.24,
         "hue": 0.62,
         "_deepnote_index_column": 171
        },
        {
         "alcohol": 13.71,
         "malic_acid": 5.65,
         "alcalinity_of_ash": 20.5,
         "magnesium": 95,
         "flavanoids": 0.61,
         "proanthocyanins": 1.06,
         "hue": 0.64,
         "_deepnote_index_column": 172
        },
        {
         "alcohol": 13.4,
         "malic_acid": 3.91,
         "alcalinity_of_ash": 23,
         "magnesium": 102,
         "flavanoids": 0.75,
         "proanthocyanins": 1.41,
         "hue": 0.7,
         "_deepnote_index_column": 173
        },
        {
         "alcohol": 13.27,
         "malic_acid": 4.28,
         "alcalinity_of_ash": 20,
         "magnesium": 120,
         "flavanoids": 0.69,
         "proanthocyanins": 1.35,
         "hue": 0.59,
         "_deepnote_index_column": 174
        },
        {
         "alcohol": 13.17,
         "malic_acid": 2.59,
         "alcalinity_of_ash": 20,
         "magnesium": 120,
         "flavanoids": 0.68,
         "proanthocyanins": 1.46,
         "hue": 0.6,
         "_deepnote_index_column": 175
        },
        {
         "alcohol": 14.13,
         "malic_acid": 4.1,
         "alcalinity_of_ash": 24.5,
         "magnesium": 96,
         "flavanoids": 0.76,
         "proanthocyanins": 1.35,
         "hue": 0.61,
         "_deepnote_index_column": 176
        }
       ]
      },
      "text/plain": "     alcohol  malic_acid  alcalinity_of_ash  magnesium  flavanoids  \\\n3      13.24        2.59               21.0      100.0        2.69   \n6      14.06        2.15               17.6      121.0        2.51   \n9      14.10        2.16               18.0      105.0        3.32   \n10     14.12        1.48               16.8       95.0        2.43   \n11     13.75        1.73               16.0       89.0        2.76   \n..       ...         ...                ...        ...         ...   \n172    13.71        5.65               20.5       95.0        0.61   \n173    13.40        3.91               23.0      102.0        0.75   \n174    13.27        4.28               20.0      120.0        0.69   \n175    13.17        2.59               20.0      120.0        0.68   \n176    14.13        4.10               24.5       96.0        0.76   \n\n     proanthocyanins   hue  \n3               1.82  1.04  \n6               1.25  1.06  \n9               2.38  1.25  \n10              1.57  1.17  \n11              1.81  1.15  \n..               ...   ...  \n172             1.06  0.64  \n173             1.41  0.70  \n174             1.35  0.59  \n175             1.46  0.60  \n176             1.35  0.61  \n\n[170 rows x 7 columns]",
      "text/html": "<div>\n<style scoped>\n    .dataframe tbody tr th:only-of-type {\n        vertical-align: middle;\n    }\n\n    .dataframe tbody tr th {\n        vertical-align: top;\n    }\n\n    .dataframe thead th {\n        text-align: right;\n    }\n</style>\n<table border=\"1\" class=\"dataframe\">\n  <thead>\n    <tr style=\"text-align: right;\">\n      <th></th>\n      <th>alcohol</th>\n      <th>malic_acid</th>\n      <th>alcalinity_of_ash</th>\n      <th>magnesium</th>\n      <th>flavanoids</th>\n      <th>proanthocyanins</th>\n      <th>hue</th>\n    </tr>\n  </thead>\n  <tbody>\n    <tr>\n      <th>3</th>\n      <td>13.24</td>\n      <td>2.59</td>\n      <td>21.0</td>\n      <td>100.0</td>\n      <td>2.69</td>\n      <td>1.82</td>\n      <td>1.04</td>\n    </tr>\n    <tr>\n      <th>6</th>\n      <td>14.06</td>\n      <td>2.15</td>\n      <td>17.6</td>\n      <td>121.0</td>\n      <td>2.51</td>\n      <td>1.25</td>\n      <td>1.06</td>\n    </tr>\n    <tr>\n      <th>9</th>\n      <td>14.10</td>\n      <td>2.16</td>\n      <td>18.0</td>\n      <td>105.0</td>\n      <td>3.32</td>\n      <td>2.38</td>\n      <td>1.25</td>\n    </tr>\n    <tr>\n      <th>10</th>\n      <td>14.12</td>\n      <td>1.48</td>\n      <td>16.8</td>\n      <td>95.0</td>\n      <td>2.43</td>\n      <td>1.57</td>\n      <td>1.17</td>\n    </tr>\n    <tr>\n      <th>11</th>\n      <td>13.75</td>\n      <td>1.73</td>\n      <td>16.0</td>\n      <td>89.0</td>\n      <td>2.76</td>\n      <td>1.81</td>\n      <td>1.15</td>\n    </tr>\n    <tr>\n      <th>...</th>\n      <td>...</td>\n      <td>...</td>\n      <td>...</td>\n      <td>...</td>\n      <td>...</td>\n      <td>...</td>\n      <td>...</td>\n    </tr>\n    <tr>\n      <th>172</th>\n      <td>13.71</td>\n      <td>5.65</td>\n      <td>20.5</td>\n      <td>95.0</td>\n      <td>0.61</td>\n      <td>1.06</td>\n      <td>0.64</td>\n    </tr>\n    <tr>\n      <th>173</th>\n      <td>13.40</td>\n      <td>3.91</td>\n      <td>23.0</td>\n      <td>102.0</td>\n      <td>0.75</td>\n      <td>1.41</td>\n      <td>0.70</td>\n    </tr>\n    <tr>\n      <th>174</th>\n      <td>13.27</td>\n      <td>4.28</td>\n      <td>20.0</td>\n      <td>120.0</td>\n      <td>0.69</td>\n      <td>1.35</td>\n      <td>0.59</td>\n    </tr>\n    <tr>\n      <th>175</th>\n      <td>13.17</td>\n      <td>2.59</td>\n      <td>20.0</td>\n      <td>120.0</td>\n      <td>0.68</td>\n      <td>1.46</td>\n      <td>0.60</td>\n    </tr>\n    <tr>\n      <th>176</th>\n      <td>14.13</td>\n      <td>4.10</td>\n      <td>24.5</td>\n      <td>96.0</td>\n      <td>0.76</td>\n      <td>1.35</td>\n      <td>0.61</td>\n    </tr>\n  </tbody>\n</table>\n<p>170 rows × 7 columns</p>\n</div>"
     },
     "metadata": {}
    }
   ],
   "execution_count": null
  },
  {
   "cell_type": "markdown",
   "source": "### Step 14. Print only the non-null values in alcohol",
   "metadata": {
    "id": "rDCiTTzGfE16",
    "cell_id": "00026-9dbfeb82-3665-4389-8eb7-c0b5c7a52e1a",
    "deepnote_cell_type": "markdown"
   }
  },
  {
   "cell_type": "code",
   "metadata": {
    "id": "jsy_QuNyfE16",
    "executionInfo": {
     "status": "ok",
     "timestamp": 1624743840361,
     "user_tz": 240,
     "elapsed": 134,
     "user": {
      "displayName": "Andrés Sánchez",
      "photoUrl": "https://lh3.googleusercontent.com/a-/AOh14Gg69bZMv30ckb-T1MJy0nSxWIHUaP0p2uP6MYBuvQ=s64",
      "userId": "07985253921366566280"
     }
    },
    "cell_id": "00027-b427ca57-67e6-4f1e-8609-6bcdaeef29a4",
    "deepnote_to_be_reexecuted": false,
    "source_hash": "9c551535",
    "execution_start": 1630098619201,
    "execution_millis": 3,
    "deepnote_cell_type": "code"
   },
   "source": "wine = wine[wine.alcohol.notnull()]",
   "outputs": [],
   "execution_count": null
  },
  {
   "cell_type": "markdown",
   "source": "### Step 15.  Reset the index, so it starts with 0 again",
   "metadata": {
    "id": "iy1SHXc6fE17",
    "cell_id": "00028-2aa3fd4f-5293-454a-b19c-eab5be798c93",
    "deepnote_cell_type": "markdown"
   }
  },
  {
   "cell_type": "code",
   "metadata": {
    "id": "Fm8wywpXfE17",
    "colab": {
     "base_uri": "https://localhost:8080/",
     "height": 1000
    },
    "executionInfo": {
     "status": "ok",
     "timestamp": 1624743856932,
     "user_tz": 240,
     "elapsed": 532,
     "user": {
      "displayName": "Andrés Sánchez",
      "photoUrl": "https://lh3.googleusercontent.com/a-/AOh14Gg69bZMv30ckb-T1MJy0nSxWIHUaP0p2uP6MYBuvQ=s64",
      "userId": "07985253921366566280"
     }
    },
    "outputId": "64e45037-7ccd-431b-b8d4-53a566c8dc9e",
    "cell_id": "00029-077aa2a8-6142-4b58-bfd2-85c6336227a9",
    "deepnote_to_be_reexecuted": false,
    "source_hash": "7541f616",
    "execution_start": 1630098619207,
    "execution_millis": 57,
    "deepnote_cell_type": "code"
   },
   "source": "wine.reset_index(drop = True)",
   "outputs": [
    {
     "output_type": "execute_result",
     "execution_count": 14,
     "data": {
      "application/vnd.deepnote.dataframe.v2+json": {
       "row_count": 171,
       "column_count": 7,
       "columns": [
        {
         "name": "alcohol",
         "dtype": "float64",
         "stats": {
          "unique_count": 121,
          "nan_count": 0,
          "min": "10.0",
          "max": "14.75",
          "histogram": [
           {
            "bin_start": 10,
            "bin_end": 10.475,
            "count": 1
           },
           {
            "bin_start": 10.475,
            "bin_end": 10.95,
            "count": 0
           },
           {
            "bin_start": 10.95,
            "bin_end": 11.425,
            "count": 2
           },
           {
            "bin_start": 11.425,
            "bin_end": 11.9,
            "count": 16
           },
           {
            "bin_start": 11.9,
            "bin_end": 12.375,
            "count": 33
           },
           {
            "bin_start": 12.375,
            "bin_end": 12.85,
            "count": 26
           },
           {
            "bin_start": 12.85,
            "bin_end": 13.325,
            "count": 31
           },
           {
            "bin_start": 13.325,
            "bin_end": 13.8,
            "count": 35
           },
           {
            "bin_start": 13.8,
            "bin_end": 14.274999999999999,
            "count": 22
           },
           {
            "bin_start": 14.274999999999999,
            "bin_end": 14.75,
            "count": 5
           }
          ]
         }
        },
        {
         "name": "malic_acid",
         "dtype": "float64",
         "stats": {
          "unique_count": 129,
          "nan_count": 1,
          "min": "0.74",
          "max": "5.8",
          "histogram": [
           {
            "bin_start": 0.74,
            "bin_end": 1.246,
            "count": 18
           },
           {
            "bin_start": 1.246,
            "bin_end": 1.752,
            "count": 56
           },
           {
            "bin_start": 1.752,
            "bin_end": 2.258,
            "count": 29
           },
           {
            "bin_start": 2.258,
            "bin_end": 2.7640000000000002,
            "count": 15
           },
           {
            "bin_start": 2.7640000000000002,
            "bin_end": 3.2700000000000005,
            "count": 14
           },
           {
            "bin_start": 3.2700000000000005,
            "bin_end": 3.776,
            "count": 11
           },
           {
            "bin_start": 3.776,
            "bin_end": 4.282,
            "count": 14
           },
           {
            "bin_start": 4.282,
            "bin_end": 4.788,
            "count": 7
           },
           {
            "bin_start": 4.788,
            "bin_end": 5.2940000000000005,
            "count": 3
           },
           {
            "bin_start": 5.2940000000000005,
            "bin_end": 5.8,
            "count": 3
           }
          ]
         }
        },
        {
         "name": "alcalinity_of_ash",
         "dtype": "float64",
         "stats": {
          "unique_count": 60,
          "nan_count": 1,
          "min": "10.6",
          "max": "30.0",
          "histogram": [
           {
            "bin_start": 10.6,
            "bin_end": 12.54,
            "count": 4
           },
           {
            "bin_start": 12.54,
            "bin_end": 14.48,
            "count": 2
           },
           {
            "bin_start": 14.48,
            "bin_end": 16.42,
            "count": 20
           },
           {
            "bin_start": 16.42,
            "bin_end": 18.36,
            "count": 31
           },
           {
            "bin_start": 18.36,
            "bin_end": 20.299999999999997,
            "count": 46
           },
           {
            "bin_start": 20.299999999999997,
            "bin_end": 22.240000000000002,
            "count": 34
           },
           {
            "bin_start": 22.240000000000002,
            "bin_end": 24.18,
            "count": 18
           },
           {
            "bin_start": 24.18,
            "bin_end": 26.119999999999997,
            "count": 10
           },
           {
            "bin_start": 26.119999999999997,
            "bin_end": 28.060000000000002,
            "count": 2
           },
           {
            "bin_start": 28.060000000000002,
            "bin_end": 30,
            "count": 3
           }
          ]
         }
        },
        {
         "name": "magnesium",
         "dtype": "float64",
         "stats": {
          "unique_count": 52,
          "nan_count": 0,
          "min": "70.0",
          "max": "162.0",
          "histogram": [
           {
            "bin_start": 70,
            "bin_end": 79.2,
            "count": 4
           },
           {
            "bin_start": 79.2,
            "bin_end": 88.4,
            "count": 43
           },
           {
            "bin_start": 88.4,
            "bin_end": 97.6,
            "count": 38
           },
           {
            "bin_start": 97.6,
            "bin_end": 106.8,
            "count": 42
           },
           {
            "bin_start": 106.8,
            "bin_end": 116,
            "count": 22
           },
           {
            "bin_start": 116,
            "bin_end": 125.19999999999999,
            "count": 14
           },
           {
            "bin_start": 125.19999999999999,
            "bin_end": 134.39999999999998,
            "count": 4
           },
           {
            "bin_start": 134.39999999999998,
            "bin_end": 143.6,
            "count": 2
           },
           {
            "bin_start": 143.6,
            "bin_end": 152.8,
            "count": 1
           },
           {
            "bin_start": 152.8,
            "bin_end": 162,
            "count": 1
           }
          ]
         }
        },
        {
         "name": "flavanoids",
         "dtype": "float64",
         "stats": {
          "unique_count": 128,
          "nan_count": 1,
          "min": "0.34",
          "max": "5.08",
          "histogram": [
           {
            "bin_start": 0.34,
            "bin_end": 0.8140000000000001,
            "count": 33
           },
           {
            "bin_start": 0.8140000000000001,
            "bin_end": 1.288,
            "count": 18
           },
           {
            "bin_start": 1.288,
            "bin_end": 1.7620000000000002,
            "count": 23
           },
           {
            "bin_start": 1.7620000000000002,
            "bin_end": 2.236,
            "count": 20
           },
           {
            "bin_start": 2.236,
            "bin_end": 2.71,
            "count": 31
           },
           {
            "bin_start": 2.71,
            "bin_end": 3.184,
            "count": 28
           },
           {
            "bin_start": 3.184,
            "bin_end": 3.658,
            "count": 11
           },
           {
            "bin_start": 3.658,
            "bin_end": 4.132000000000001,
            "count": 5
           },
           {
            "bin_start": 4.132000000000001,
            "bin_end": 4.606,
            "count": 0
           },
           {
            "bin_start": 4.606,
            "bin_end": 5.08,
            "count": 1
           }
          ]
         }
        },
        {
         "name": "proanthocyanins",
         "dtype": "float64",
         "stats": {
          "unique_count": 98,
          "nan_count": 1,
          "min": "0.41",
          "max": "3.58",
          "histogram": [
           {
            "bin_start": 0.41,
            "bin_end": 0.727,
            "count": 8
           },
           {
            "bin_start": 0.727,
            "bin_end": 1.044,
            "count": 25
           },
           {
            "bin_start": 1.044,
            "bin_end": 1.361,
            "count": 30
           },
           {
            "bin_start": 1.361,
            "bin_end": 1.678,
            "count": 43
           },
           {
            "bin_start": 1.678,
            "bin_end": 1.9949999999999999,
            "count": 32
           },
           {
            "bin_start": 1.9949999999999999,
            "bin_end": 2.3120000000000003,
            "count": 15
           },
           {
            "bin_start": 2.3120000000000003,
            "bin_end": 2.629,
            "count": 8
           },
           {
            "bin_start": 2.629,
            "bin_end": 2.946,
            "count": 6
           },
           {
            "bin_start": 2.946,
            "bin_end": 3.2630000000000003,
            "count": 1
           },
           {
            "bin_start": 3.2630000000000003,
            "bin_end": 3.58,
            "count": 2
           }
          ]
         }
        },
        {
         "name": "hue",
         "dtype": "float64",
         "stats": {
          "unique_count": 78,
          "nan_count": 1,
          "min": "0.48",
          "max": "1.71",
          "histogram": [
           {
            "bin_start": 0.48,
            "bin_end": 0.603,
            "count": 17
           },
           {
            "bin_start": 0.603,
            "bin_end": 0.726,
            "count": 16
           },
           {
            "bin_start": 0.726,
            "bin_end": 0.849,
            "count": 20
           },
           {
            "bin_start": 0.849,
            "bin_end": 0.972,
            "count": 36
           },
           {
            "bin_start": 0.972,
            "bin_end": 1.095,
            "count": 31
           },
           {
            "bin_start": 1.095,
            "bin_end": 1.218,
            "count": 24
           },
           {
            "bin_start": 1.218,
            "bin_end": 1.341,
            "count": 20
           },
           {
            "bin_start": 1.341,
            "bin_end": 1.464,
            "count": 5
           },
           {
            "bin_start": 1.464,
            "bin_end": 1.587,
            "count": 0
           },
           {
            "bin_start": 1.587,
            "bin_end": 1.71,
            "count": 1
           }
          ]
         }
        },
        {
         "name": "_deepnote_index_column",
         "dtype": "int64"
        }
       ],
       "rows_top": [
        {
         "alcohol": 10,
         "malic_acid": "nan",
         "alcalinity_of_ash": "nan",
         "magnesium": 100,
         "flavanoids": "nan",
         "proanthocyanins": "nan",
         "hue": "nan",
         "_deepnote_index_column": 0
        },
        {
         "alcohol": 13.24,
         "malic_acid": 2.59,
         "alcalinity_of_ash": 21,
         "magnesium": 100,
         "flavanoids": 2.69,
         "proanthocyanins": 1.82,
         "hue": 1.04,
         "_deepnote_index_column": 1
        },
        {
         "alcohol": 14.06,
         "malic_acid": 2.15,
         "alcalinity_of_ash": 17.6,
         "magnesium": 121,
         "flavanoids": 2.51,
         "proanthocyanins": 1.25,
         "hue": 1.06,
         "_deepnote_index_column": 2
        },
        {
         "alcohol": 14.1,
         "malic_acid": 2.16,
         "alcalinity_of_ash": 18,
         "magnesium": 105,
         "flavanoids": 3.32,
         "proanthocyanins": 2.38,
         "hue": 1.25,
         "_deepnote_index_column": 3
        },
        {
         "alcohol": 14.12,
         "malic_acid": 1.48,
         "alcalinity_of_ash": 16.8,
         "magnesium": 95,
         "flavanoids": 2.43,
         "proanthocyanins": 1.57,
         "hue": 1.17,
         "_deepnote_index_column": 4
        },
        {
         "alcohol": 13.75,
         "malic_acid": 1.73,
         "alcalinity_of_ash": 16,
         "magnesium": 89,
         "flavanoids": 2.76,
         "proanthocyanins": 1.81,
         "hue": 1.15,
         "_deepnote_index_column": 5
        },
        {
         "alcohol": 14.75,
         "malic_acid": 1.73,
         "alcalinity_of_ash": 11.4,
         "magnesium": 91,
         "flavanoids": 3.69,
         "proanthocyanins": 2.81,
         "hue": 1.25,
         "_deepnote_index_column": 6
        },
        {
         "alcohol": 14.38,
         "malic_acid": 1.87,
         "alcalinity_of_ash": 12,
         "magnesium": 102,
         "flavanoids": 3.64,
         "proanthocyanins": 2.96,
         "hue": 1.2,
         "_deepnote_index_column": 7
        },
        {
         "alcohol": 13.63,
         "malic_acid": 1.81,
         "alcalinity_of_ash": 17.2,
         "magnesium": 112,
         "flavanoids": 2.91,
         "proanthocyanins": 1.46,
         "hue": 1.28,
         "_deepnote_index_column": 8
        },
        {
         "alcohol": 14.3,
         "malic_acid": 1.92,
         "alcalinity_of_ash": 20,
         "magnesium": 120,
         "flavanoids": 3.14,
         "proanthocyanins": 1.97,
         "hue": 1.07,
         "_deepnote_index_column": 9
        },
        {
         "alcohol": 13.83,
         "malic_acid": 1.57,
         "alcalinity_of_ash": 20,
         "magnesium": 115,
         "flavanoids": 3.4,
         "proanthocyanins": 1.72,
         "hue": 1.13,
         "_deepnote_index_column": 10
        },
        {
         "alcohol": 14.19,
         "malic_acid": 1.59,
         "alcalinity_of_ash": 16.5,
         "magnesium": 108,
         "flavanoids": 3.93,
         "proanthocyanins": 1.86,
         "hue": 1.23,
         "_deepnote_index_column": 11
        },
        {
         "alcohol": 13.64,
         "malic_acid": 3.1,
         "alcalinity_of_ash": 15.2,
         "magnesium": 116,
         "flavanoids": 3.03,
         "proanthocyanins": 1.66,
         "hue": 0.96,
         "_deepnote_index_column": 12
        },
        {
         "alcohol": 14.06,
         "malic_acid": 1.63,
         "alcalinity_of_ash": 16,
         "magnesium": 126,
         "flavanoids": 3.17,
         "proanthocyanins": 2.1,
         "hue": 1.09,
         "_deepnote_index_column": 13
        },
        {
         "alcohol": 12.93,
         "malic_acid": 3.8,
         "alcalinity_of_ash": 18.6,
         "magnesium": 102,
         "flavanoids": 2.41,
         "proanthocyanins": 1.98,
         "hue": 1.03,
         "_deepnote_index_column": 14
        },
        {
         "alcohol": 13.71,
         "malic_acid": 1.86,
         "alcalinity_of_ash": 16.6,
         "magnesium": 101,
         "flavanoids": 2.88,
         "proanthocyanins": 1.69,
         "hue": 1.11,
         "_deepnote_index_column": 15
        },
        {
         "alcohol": 12.85,
         "malic_acid": 1.6,
         "alcalinity_of_ash": 17.8,
         "magnesium": 95,
         "flavanoids": 2.37,
         "proanthocyanins": 1.46,
         "hue": 1.09,
         "_deepnote_index_column": 16
        },
        {
         "alcohol": 13.5,
         "malic_acid": 1.81,
         "alcalinity_of_ash": 20,
         "magnesium": 96,
         "flavanoids": 2.61,
         "proanthocyanins": 1.66,
         "hue": 1.12,
         "_deepnote_index_column": 17
        },
        {
         "alcohol": 13.05,
         "malic_acid": 2.05,
         "alcalinity_of_ash": 25,
         "magnesium": 124,
         "flavanoids": 2.68,
         "proanthocyanins": 1.92,
         "hue": 1.13,
         "_deepnote_index_column": 18
        },
        {
         "alcohol": 13.39,
         "malic_acid": 1.77,
         "alcalinity_of_ash": 16.1,
         "magnesium": 93,
         "flavanoids": 2.94,
         "proanthocyanins": 1.45,
         "hue": 0.92,
         "_deepnote_index_column": 19
        },
        {
         "alcohol": 13.3,
         "malic_acid": 1.72,
         "alcalinity_of_ash": 17,
         "magnesium": 94,
         "flavanoids": 2.19,
         "proanthocyanins": 1.35,
         "hue": 1.02,
         "_deepnote_index_column": 20
        },
        {
         "alcohol": 13.87,
         "malic_acid": 1.9,
         "alcalinity_of_ash": 19.4,
         "magnesium": 107,
         "flavanoids": 2.97,
         "proanthocyanins": 1.76,
         "hue": 1.25,
         "_deepnote_index_column": 21
        },
        {
         "alcohol": 14.02,
         "malic_acid": 1.68,
         "alcalinity_of_ash": 16,
         "magnesium": 96,
         "flavanoids": 2.33,
         "proanthocyanins": 1.98,
         "hue": 1.04,
         "_deepnote_index_column": 22
        },
        {
         "alcohol": 13.73,
         "malic_acid": 1.5,
         "alcalinity_of_ash": 22.5,
         "magnesium": 101,
         "flavanoids": 3.25,
         "proanthocyanins": 2.38,
         "hue": 1.19,
         "_deepnote_index_column": 23
        },
        {
         "alcohol": 13.58,
         "malic_acid": 1.66,
         "alcalinity_of_ash": 19.1,
         "magnesium": 106,
         "flavanoids": 3.19,
         "proanthocyanins": 1.95,
         "hue": 1.09,
         "_deepnote_index_column": 24
        },
        {
         "alcohol": 13.68,
         "malic_acid": 1.83,
         "alcalinity_of_ash": 17.2,
         "magnesium": 104,
         "flavanoids": 2.69,
         "proanthocyanins": 1.97,
         "hue": 1.23,
         "_deepnote_index_column": 25
        },
        {
         "alcohol": 13.76,
         "malic_acid": 1.53,
         "alcalinity_of_ash": 19.5,
         "magnesium": 132,
         "flavanoids": 2.74,
         "proanthocyanins": 1.35,
         "hue": 1.25,
         "_deepnote_index_column": 26
        },
        {
         "alcohol": 13.51,
         "malic_acid": 1.8,
         "alcalinity_of_ash": 19,
         "magnesium": 110,
         "flavanoids": 2.53,
         "proanthocyanins": 1.54,
         "hue": 1.1,
         "_deepnote_index_column": 27
        },
        {
         "alcohol": 13.48,
         "malic_acid": 1.81,
         "alcalinity_of_ash": 20.5,
         "magnesium": 100,
         "flavanoids": 2.98,
         "proanthocyanins": 1.86,
         "hue": 1.04,
         "_deepnote_index_column": 28
        },
        {
         "alcohol": 13.28,
         "malic_acid": 1.64,
         "alcalinity_of_ash": 15.5,
         "magnesium": 110,
         "flavanoids": 2.68,
         "proanthocyanins": 1.36,
         "hue": 1.09,
         "_deepnote_index_column": 29
        },
        {
         "alcohol": 13.05,
         "malic_acid": 1.65,
         "alcalinity_of_ash": 18,
         "magnesium": 98,
         "flavanoids": 2.43,
         "proanthocyanins": 1.44,
         "hue": 1.12,
         "_deepnote_index_column": 30
        },
        {
         "alcohol": 13.07,
         "malic_acid": 1.5,
         "alcalinity_of_ash": 15.5,
         "magnesium": 98,
         "flavanoids": 2.64,
         "proanthocyanins": 1.37,
         "hue": 1.18,
         "_deepnote_index_column": 31
        },
        {
         "alcohol": 14.22,
         "malic_acid": 3.99,
         "alcalinity_of_ash": 13.2,
         "magnesium": 128,
         "flavanoids": 3.04,
         "proanthocyanins": 2.08,
         "hue": 0.89,
         "_deepnote_index_column": 32
        },
        {
         "alcohol": 13.56,
         "malic_acid": 1.71,
         "alcalinity_of_ash": 16.2,
         "magnesium": 117,
         "flavanoids": 3.29,
         "proanthocyanins": 2.34,
         "hue": 0.95,
         "_deepnote_index_column": 33
        },
        {
         "alcohol": 13.41,
         "malic_acid": 3.84,
         "alcalinity_of_ash": 18.8,
         "magnesium": 90,
         "flavanoids": 2.68,
         "proanthocyanins": 1.48,
         "hue": 0.91,
         "_deepnote_index_column": 34
        },
        {
         "alcohol": 13.88,
         "malic_acid": 1.89,
         "alcalinity_of_ash": 15,
         "magnesium": 101,
         "flavanoids": 3.56,
         "proanthocyanins": 1.7,
         "hue": 0.88,
         "_deepnote_index_column": 35
        },
        {
         "alcohol": 13.24,
         "malic_acid": 3.98,
         "alcalinity_of_ash": 17.5,
         "magnesium": 103,
         "flavanoids": 2.63,
         "proanthocyanins": 1.66,
         "hue": 0.82,
         "_deepnote_index_column": 36
        },
        {
         "alcohol": 13.05,
         "malic_acid": 1.77,
         "alcalinity_of_ash": 17,
         "magnesium": 107,
         "flavanoids": 3,
         "proanthocyanins": 2.03,
         "hue": 0.88,
         "_deepnote_index_column": 37
        },
        {
         "alcohol": 14.21,
         "malic_acid": 4.04,
         "alcalinity_of_ash": 18.9,
         "magnesium": 111,
         "flavanoids": 2.65,
         "proanthocyanins": 1.25,
         "hue": 0.87,
         "_deepnote_index_column": 38
        },
        {
         "alcohol": 14.38,
         "malic_acid": 3.59,
         "alcalinity_of_ash": 16,
         "magnesium": 102,
         "flavanoids": 3.17,
         "proanthocyanins": 2.19,
         "hue": 1.04,
         "_deepnote_index_column": 39
        },
        {
         "alcohol": 13.9,
         "malic_acid": 1.68,
         "alcalinity_of_ash": 16,
         "magnesium": 101,
         "flavanoids": 3.39,
         "proanthocyanins": 2.14,
         "hue": 0.91,
         "_deepnote_index_column": 40
        },
        {
         "alcohol": 14.1,
         "malic_acid": 2.02,
         "alcalinity_of_ash": 18.8,
         "magnesium": 103,
         "flavanoids": 2.92,
         "proanthocyanins": 2.38,
         "hue": 1.07,
         "_deepnote_index_column": 41
        },
        {
         "alcohol": 13.94,
         "malic_acid": 1.73,
         "alcalinity_of_ash": 17.4,
         "magnesium": 108,
         "flavanoids": 3.54,
         "proanthocyanins": 2.08,
         "hue": 1.12,
         "_deepnote_index_column": 42
        },
        {
         "alcohol": 13.05,
         "malic_acid": 1.73,
         "alcalinity_of_ash": 12.4,
         "magnesium": 92,
         "flavanoids": 3.27,
         "proanthocyanins": 2.91,
         "hue": 1.12,
         "_deepnote_index_column": 43
        },
        {
         "alcohol": 13.83,
         "malic_acid": 1.65,
         "alcalinity_of_ash": 17.2,
         "magnesium": 94,
         "flavanoids": 2.99,
         "proanthocyanins": 2.29,
         "hue": 1.24,
         "_deepnote_index_column": 44
        },
        {
         "alcohol": 13.82,
         "malic_acid": 1.75,
         "alcalinity_of_ash": 14,
         "magnesium": 111,
         "flavanoids": 3.74,
         "proanthocyanins": 1.87,
         "hue": 1.01,
         "_deepnote_index_column": 45
        },
        {
         "alcohol": 13.77,
         "malic_acid": 1.9,
         "alcalinity_of_ash": 17.1,
         "magnesium": 115,
         "flavanoids": 2.79,
         "proanthocyanins": 1.68,
         "hue": 1.13,
         "_deepnote_index_column": 46
        },
        {
         "alcohol": 13.74,
         "malic_acid": 1.67,
         "alcalinity_of_ash": 16.4,
         "magnesium": 118,
         "flavanoids": 2.9,
         "proanthocyanins": 1.62,
         "hue": 0.92,
         "_deepnote_index_column": 47
        },
        {
         "alcohol": 13.56,
         "malic_acid": 1.73,
         "alcalinity_of_ash": 20.5,
         "magnesium": 116,
         "flavanoids": 2.78,
         "proanthocyanins": 2.45,
         "hue": 0.98,
         "_deepnote_index_column": 48
        },
        {
         "alcohol": 14.22,
         "malic_acid": 1.7,
         "alcalinity_of_ash": 16.3,
         "magnesium": 118,
         "flavanoids": 3,
         "proanthocyanins": 2.03,
         "hue": 0.94,
         "_deepnote_index_column": 49
        },
        {
         "alcohol": 13.29,
         "malic_acid": 1.97,
         "alcalinity_of_ash": 16.8,
         "magnesium": 102,
         "flavanoids": 3.23,
         "proanthocyanins": 1.66,
         "hue": 1.07,
         "_deepnote_index_column": 50
        },
        {
         "alcohol": 13.72,
         "malic_acid": 1.43,
         "alcalinity_of_ash": 16.7,
         "magnesium": 108,
         "flavanoids": 3.67,
         "proanthocyanins": 2.04,
         "hue": 0.89,
         "_deepnote_index_column": 51
        },
        {
         "alcohol": 12.37,
         "malic_acid": 0.94,
         "alcalinity_of_ash": 10.6,
         "magnesium": 88,
         "flavanoids": 0.57,
         "proanthocyanins": 0.42,
         "hue": 1.05,
         "_deepnote_index_column": 52
        },
        {
         "alcohol": 12.33,
         "malic_acid": 1.1,
         "alcalinity_of_ash": 16,
         "magnesium": 101,
         "flavanoids": 1.09,
         "proanthocyanins": 0.41,
         "hue": 1.25,
         "_deepnote_index_column": 53
        },
        {
         "alcohol": 12.64,
         "malic_acid": 1.36,
         "alcalinity_of_ash": 16.8,
         "magnesium": 100,
         "flavanoids": 1.41,
         "proanthocyanins": 0.62,
         "hue": 0.98,
         "_deepnote_index_column": 54
        },
        {
         "alcohol": 13.67,
         "malic_acid": 1.25,
         "alcalinity_of_ash": 18,
         "magnesium": 94,
         "flavanoids": 1.79,
         "proanthocyanins": 0.73,
         "hue": 1.23,
         "_deepnote_index_column": 55
        },
        {
         "alcohol": 12.37,
         "malic_acid": 1.13,
         "alcalinity_of_ash": 19,
         "magnesium": 87,
         "flavanoids": 3.1,
         "proanthocyanins": 1.87,
         "hue": 1.22,
         "_deepnote_index_column": 56
        },
        {
         "alcohol": 12.17,
         "malic_acid": 1.45,
         "alcalinity_of_ash": 19,
         "magnesium": 104,
         "flavanoids": 1.75,
         "proanthocyanins": 1.03,
         "hue": 1.45,
         "_deepnote_index_column": 57
        },
        {
         "alcohol": 12.37,
         "malic_acid": 1.21,
         "alcalinity_of_ash": 18.1,
         "magnesium": 98,
         "flavanoids": 2.65,
         "proanthocyanins": 2.08,
         "hue": 1.19,
         "_deepnote_index_column": 58
        },
        {
         "alcohol": 13.11,
         "malic_acid": 1.01,
         "alcalinity_of_ash": 15,
         "magnesium": 78,
         "flavanoids": 3.18,
         "proanthocyanins": 2.28,
         "hue": 1.12,
         "_deepnote_index_column": 59
        },
        {
         "alcohol": 12.37,
         "malic_acid": 1.17,
         "alcalinity_of_ash": 19.6,
         "magnesium": 78,
         "flavanoids": 2,
         "proanthocyanins": 1.04,
         "hue": 1.12,
         "_deepnote_index_column": 60
        },
        {
         "alcohol": 13.34,
         "malic_acid": 0.94,
         "alcalinity_of_ash": 17,
         "magnesium": 110,
         "flavanoids": 1.3,
         "proanthocyanins": 0.42,
         "hue": 1.02,
         "_deepnote_index_column": 61
        },
        {
         "alcohol": 12.21,
         "malic_acid": 1.19,
         "alcalinity_of_ash": 16.8,
         "magnesium": 151,
         "flavanoids": 1.28,
         "proanthocyanins": 2.5,
         "hue": 1.28,
         "_deepnote_index_column": 62
        },
        {
         "alcohol": 12.29,
         "malic_acid": 1.61,
         "alcalinity_of_ash": 20.4,
         "magnesium": 103,
         "flavanoids": 1.02,
         "proanthocyanins": 1.46,
         "hue": 0.906,
         "_deepnote_index_column": 63
        },
        {
         "alcohol": 13.86,
         "malic_acid": 1.51,
         "alcalinity_of_ash": 25,
         "magnesium": 86,
         "flavanoids": 2.86,
         "proanthocyanins": 1.87,
         "hue": 1.36,
         "_deepnote_index_column": 64
        },
        {
         "alcohol": 13.49,
         "malic_acid": 1.66,
         "alcalinity_of_ash": 24,
         "magnesium": 87,
         "flavanoids": 1.84,
         "proanthocyanins": 1.03,
         "hue": 0.98,
         "_deepnote_index_column": 65
        },
        {
         "alcohol": 12.99,
         "malic_acid": 1.67,
         "alcalinity_of_ash": 30,
         "magnesium": 139,
         "flavanoids": 2.89,
         "proanthocyanins": 1.96,
         "hue": 1.31,
         "_deepnote_index_column": 66
        },
        {
         "alcohol": 11.96,
         "malic_acid": 1.09,
         "alcalinity_of_ash": 21,
         "magnesium": 101,
         "flavanoids": 2.14,
         "proanthocyanins": 1.65,
         "hue": 0.99,
         "_deepnote_index_column": 67
        },
        {
         "alcohol": 11.66,
         "malic_acid": 1.88,
         "alcalinity_of_ash": 16,
         "magnesium": 97,
         "flavanoids": 1.57,
         "proanthocyanins": 1.15,
         "hue": 1.23,
         "_deepnote_index_column": 68
        },
        {
         "alcohol": 13.03,
         "malic_acid": 0.9,
         "alcalinity_of_ash": 16,
         "magnesium": 86,
         "flavanoids": 2.03,
         "proanthocyanins": 1.46,
         "hue": 1.19,
         "_deepnote_index_column": 69
        },
        {
         "alcohol": 11.84,
         "malic_acid": 2.89,
         "alcalinity_of_ash": 18,
         "magnesium": 112,
         "flavanoids": 1.32,
         "proanthocyanins": 0.95,
         "hue": 0.96,
         "_deepnote_index_column": 70
        }
       ],
       "rows_bottom": [
        {
         "alcohol": 12.72,
         "malic_acid": 1.75,
         "alcalinity_of_ash": 22.5,
         "magnesium": 84,
         "flavanoids": 1.76,
         "proanthocyanins": 1.63,
         "hue": 0.88,
         "_deepnote_index_column": 100
        },
        {
         "alcohol": 12.22,
         "malic_acid": 1.29,
         "alcalinity_of_ash": 19,
         "magnesium": 92,
         "flavanoids": 2.04,
         "proanthocyanins": 2.08,
         "hue": 0.86,
         "_deepnote_index_column": 101
        },
        {
         "alcohol": 11.61,
         "malic_acid": 1.35,
         "alcalinity_of_ash": 20,
         "magnesium": 94,
         "flavanoids": 2.92,
         "proanthocyanins": 2.49,
         "hue": 0.96,
         "_deepnote_index_column": 102
        },
        {
         "alcohol": 11.46,
         "malic_acid": 3.74,
         "alcalinity_of_ash": 19.5,
         "magnesium": 107,
         "flavanoids": 2.58,
         "proanthocyanins": 3.58,
         "hue": 0.75,
         "_deepnote_index_column": 103
        },
        {
         "alcohol": 12.52,
         "malic_acid": 2.43,
         "alcalinity_of_ash": 21,
         "magnesium": 88,
         "flavanoids": 2.27,
         "proanthocyanins": 1.22,
         "hue": 0.9,
         "_deepnote_index_column": 104
        },
        {
         "alcohol": 11.76,
         "malic_acid": 2.68,
         "alcalinity_of_ash": 20,
         "magnesium": 103,
         "flavanoids": 2.03,
         "proanthocyanins": 1.05,
         "hue": 1.23,
         "_deepnote_index_column": 105
        },
        {
         "alcohol": 11.41,
         "malic_acid": 0.74,
         "alcalinity_of_ash": 21,
         "magnesium": 88,
         "flavanoids": 2.01,
         "proanthocyanins": 1.44,
         "hue": 1.1,
         "_deepnote_index_column": 106
        },
        {
         "alcohol": 12.08,
         "malic_acid": 1.39,
         "alcalinity_of_ash": 22.5,
         "magnesium": 84,
         "flavanoids": 2.29,
         "proanthocyanins": 1.04,
         "hue": 0.93,
         "_deepnote_index_column": 107
        },
        {
         "alcohol": 11.03,
         "malic_acid": 1.51,
         "alcalinity_of_ash": 21.5,
         "magnesium": 85,
         "flavanoids": 2.17,
         "proanthocyanins": 2.01,
         "hue": 1.71,
         "_deepnote_index_column": 108
        },
        {
         "alcohol": 11.82,
         "malic_acid": 1.47,
         "alcalinity_of_ash": 20.8,
         "magnesium": 86,
         "flavanoids": 1.6,
         "proanthocyanins": 1.53,
         "hue": 0.95,
         "_deepnote_index_column": 109
        },
        {
         "alcohol": 12.42,
         "malic_acid": 1.61,
         "alcalinity_of_ash": 22.5,
         "magnesium": 108,
         "flavanoids": 2.09,
         "proanthocyanins": 1.61,
         "hue": 1.06,
         "_deepnote_index_column": 110
        },
        {
         "alcohol": 12.77,
         "malic_acid": 3.43,
         "alcalinity_of_ash": 16,
         "magnesium": 80,
         "flavanoids": 1.25,
         "proanthocyanins": 0.83,
         "hue": 0.7,
         "_deepnote_index_column": 111
        },
        {
         "alcohol": 12,
         "malic_acid": 3.43,
         "alcalinity_of_ash": 19,
         "magnesium": 87,
         "flavanoids": 1.64,
         "proanthocyanins": 1.87,
         "hue": 0.93,
         "_deepnote_index_column": 112
        },
        {
         "alcohol": 11.45,
         "malic_acid": 2.4,
         "alcalinity_of_ash": 20,
         "magnesium": 96,
         "flavanoids": 2.79,
         "proanthocyanins": 1.83,
         "hue": 0.8,
         "_deepnote_index_column": 113
        },
        {
         "alcohol": 11.56,
         "malic_acid": 2.05,
         "alcalinity_of_ash": 28.5,
         "magnesium": 119,
         "flavanoids": 5.08,
         "proanthocyanins": 1.87,
         "hue": 0.93,
         "_deepnote_index_column": 114
        },
        {
         "alcohol": 12.42,
         "malic_acid": 4.43,
         "alcalinity_of_ash": 26.5,
         "magnesium": 102,
         "flavanoids": 2.13,
         "proanthocyanins": 1.71,
         "hue": 0.92,
         "_deepnote_index_column": 115
        },
        {
         "alcohol": 13.05,
         "malic_acid": 5.8,
         "alcalinity_of_ash": 21.5,
         "magnesium": 86,
         "flavanoids": 2.65,
         "proanthocyanins": 2.01,
         "hue": 0.73,
         "_deepnote_index_column": 116
        },
        {
         "alcohol": 11.87,
         "malic_acid": 4.31,
         "alcalinity_of_ash": 21,
         "magnesium": 82,
         "flavanoids": 3.03,
         "proanthocyanins": 2.91,
         "hue": 0.75,
         "_deepnote_index_column": 117
        },
        {
         "alcohol": 12.07,
         "malic_acid": 2.16,
         "alcalinity_of_ash": 21,
         "magnesium": 85,
         "flavanoids": 2.65,
         "proanthocyanins": 1.35,
         "hue": 0.86,
         "_deepnote_index_column": 118
        },
        {
         "alcohol": 12.43,
         "malic_acid": 1.53,
         "alcalinity_of_ash": 21.5,
         "magnesium": 86,
         "flavanoids": 3.15,
         "proanthocyanins": 1.77,
         "hue": 0.69,
         "_deepnote_index_column": 119
        },
        {
         "alcohol": 11.79,
         "malic_acid": 2.13,
         "alcalinity_of_ash": 28.5,
         "magnesium": 92,
         "flavanoids": 2.24,
         "proanthocyanins": 1.76,
         "hue": 0.97,
         "_deepnote_index_column": 120
        },
        {
         "alcohol": 12.37,
         "malic_acid": 1.63,
         "alcalinity_of_ash": 24.5,
         "magnesium": 88,
         "flavanoids": 2.45,
         "proanthocyanins": 1.9,
         "hue": 0.89,
         "_deepnote_index_column": 121
        },
        {
         "alcohol": 12.04,
         "malic_acid": 4.3,
         "alcalinity_of_ash": 22,
         "magnesium": 80,
         "flavanoids": 1.75,
         "proanthocyanins": 1.35,
         "hue": 0.79,
         "_deepnote_index_column": 122
        },
        {
         "alcohol": 12.86,
         "malic_acid": 1.35,
         "alcalinity_of_ash": 18,
         "magnesium": 122,
         "flavanoids": 1.25,
         "proanthocyanins": 0.94,
         "hue": 0.76,
         "_deepnote_index_column": 123
        },
        {
         "alcohol": 12.88,
         "malic_acid": 2.99,
         "alcalinity_of_ash": 20,
         "magnesium": 104,
         "flavanoids": 1.22,
         "proanthocyanins": 0.83,
         "hue": 0.74,
         "_deepnote_index_column": 124
        },
        {
         "alcohol": 12.81,
         "malic_acid": 2.31,
         "alcalinity_of_ash": 24,
         "magnesium": 98,
         "flavanoids": 1.09,
         "proanthocyanins": 0.83,
         "hue": 0.66,
         "_deepnote_index_column": 125
        },
        {
         "alcohol": 12.7,
         "malic_acid": 3.55,
         "alcalinity_of_ash": 21.5,
         "magnesium": 106,
         "flavanoids": 1.2,
         "proanthocyanins": 0.84,
         "hue": 0.78,
         "_deepnote_index_column": 126
        },
        {
         "alcohol": 12.51,
         "malic_acid": 1.24,
         "alcalinity_of_ash": 17.5,
         "magnesium": 85,
         "flavanoids": 0.58,
         "proanthocyanins": 1.25,
         "hue": 0.75,
         "_deepnote_index_column": 127
        },
        {
         "alcohol": 12.6,
         "malic_acid": 2.46,
         "alcalinity_of_ash": 18.5,
         "magnesium": 94,
         "flavanoids": 0.66,
         "proanthocyanins": 0.94,
         "hue": 0.73,
         "_deepnote_index_column": 128
        },
        {
         "alcohol": 12.25,
         "malic_acid": 4.72,
         "alcalinity_of_ash": 21,
         "magnesium": 89,
         "flavanoids": 0.47,
         "proanthocyanins": 0.8,
         "hue": 0.75,
         "_deepnote_index_column": 129
        },
        {
         "alcohol": 12.53,
         "malic_acid": 5.51,
         "alcalinity_of_ash": 25,
         "magnesium": 96,
         "flavanoids": 0.6,
         "proanthocyanins": 1.1,
         "hue": 0.82,
         "_deepnote_index_column": 130
        },
        {
         "alcohol": 13.49,
         "malic_acid": 3.59,
         "alcalinity_of_ash": 19.5,
         "magnesium": 88,
         "flavanoids": 0.48,
         "proanthocyanins": 0.88,
         "hue": 0.81,
         "_deepnote_index_column": 131
        },
        {
         "alcohol": 12.84,
         "malic_acid": 2.96,
         "alcalinity_of_ash": 24,
         "magnesium": 101,
         "flavanoids": 0.6,
         "proanthocyanins": 0.81,
         "hue": 0.89,
         "_deepnote_index_column": 132
        },
        {
         "alcohol": 12.93,
         "malic_acid": 2.81,
         "alcalinity_of_ash": 21,
         "magnesium": 96,
         "flavanoids": 0.5,
         "proanthocyanins": 0.75,
         "hue": 0.77,
         "_deepnote_index_column": 133
        },
        {
         "alcohol": 13.36,
         "malic_acid": 2.56,
         "alcalinity_of_ash": 20,
         "magnesium": 89,
         "flavanoids": 0.5,
         "proanthocyanins": 0.64,
         "hue": 0.7,
         "_deepnote_index_column": 134
        },
        {
         "alcohol": 13.52,
         "malic_acid": 3.17,
         "alcalinity_of_ash": 23.5,
         "magnesium": 97,
         "flavanoids": 0.52,
         "proanthocyanins": 0.55,
         "hue": 0.89,
         "_deepnote_index_column": 135
        },
        {
         "alcohol": 13.62,
         "malic_acid": 4.95,
         "alcalinity_of_ash": 20,
         "magnesium": 92,
         "flavanoids": 0.8,
         "proanthocyanins": 1.02,
         "hue": 0.91,
         "_deepnote_index_column": 136
        },
        {
         "alcohol": 12.25,
         "malic_acid": 3.88,
         "alcalinity_of_ash": 18.5,
         "magnesium": 112,
         "flavanoids": 0.78,
         "proanthocyanins": 1.14,
         "hue": 0.65,
         "_deepnote_index_column": 137
        },
        {
         "alcohol": 13.16,
         "malic_acid": 3.57,
         "alcalinity_of_ash": 21,
         "magnesium": 102,
         "flavanoids": 0.55,
         "proanthocyanins": 1.3,
         "hue": 0.6,
         "_deepnote_index_column": 138
        },
        {
         "alcohol": 13.88,
         "malic_acid": 5.04,
         "alcalinity_of_ash": 20,
         "magnesium": 80,
         "flavanoids": 0.34,
         "proanthocyanins": 0.68,
         "hue": 0.58,
         "_deepnote_index_column": 139
        },
        {
         "alcohol": 12.87,
         "malic_acid": 4.61,
         "alcalinity_of_ash": 21.5,
         "magnesium": 86,
         "flavanoids": 0.65,
         "proanthocyanins": 0.86,
         "hue": 0.54,
         "_deepnote_index_column": 140
        },
        {
         "alcohol": 13.32,
         "malic_acid": 3.24,
         "alcalinity_of_ash": 21.5,
         "magnesium": 92,
         "flavanoids": 0.76,
         "proanthocyanins": 1.25,
         "hue": 0.55,
         "_deepnote_index_column": 141
        },
        {
         "alcohol": 13.08,
         "malic_acid": 3.9,
         "alcalinity_of_ash": 21.5,
         "magnesium": 113,
         "flavanoids": 1.39,
         "proanthocyanins": 1.14,
         "hue": 0.57,
         "_deepnote_index_column": 142
        },
        {
         "alcohol": 13.5,
         "malic_acid": 3.12,
         "alcalinity_of_ash": 24,
         "magnesium": 123,
         "flavanoids": 1.57,
         "proanthocyanins": 1.25,
         "hue": 0.59,
         "_deepnote_index_column": 143
        },
        {
         "alcohol": 12.79,
         "malic_acid": 2.67,
         "alcalinity_of_ash": 22,
         "magnesium": 112,
         "flavanoids": 1.36,
         "proanthocyanins": 1.26,
         "hue": 0.48,
         "_deepnote_index_column": 144
        },
        {
         "alcohol": 13.11,
         "malic_acid": 1.9,
         "alcalinity_of_ash": 25.5,
         "magnesium": 116,
         "flavanoids": 1.28,
         "proanthocyanins": 1.56,
         "hue": 0.61,
         "_deepnote_index_column": 145
        },
        {
         "alcohol": 13.23,
         "malic_acid": 3.3,
         "alcalinity_of_ash": 18.5,
         "magnesium": 98,
         "flavanoids": 0.83,
         "proanthocyanins": 1.87,
         "hue": 0.56,
         "_deepnote_index_column": 146
        },
        {
         "alcohol": 12.58,
         "malic_acid": 1.29,
         "alcalinity_of_ash": 20,
         "magnesium": 103,
         "flavanoids": 0.58,
         "proanthocyanins": 1.4,
         "hue": 0.58,
         "_deepnote_index_column": 147
        },
        {
         "alcohol": 13.17,
         "malic_acid": 5.19,
         "alcalinity_of_ash": 22,
         "magnesium": 93,
         "flavanoids": 0.63,
         "proanthocyanins": 1.55,
         "hue": 0.6,
         "_deepnote_index_column": 148
        },
        {
         "alcohol": 13.84,
         "malic_acid": 4.12,
         "alcalinity_of_ash": 19.5,
         "magnesium": 89,
         "flavanoids": 0.83,
         "proanthocyanins": 1.56,
         "hue": 0.57,
         "_deepnote_index_column": 149
        },
        {
         "alcohol": 12.45,
         "malic_acid": 3.03,
         "alcalinity_of_ash": 27,
         "magnesium": 97,
         "flavanoids": 0.58,
         "proanthocyanins": 1.14,
         "hue": 0.67,
         "_deepnote_index_column": 150
        },
        {
         "alcohol": 14.34,
         "malic_acid": 1.68,
         "alcalinity_of_ash": 25,
         "magnesium": 98,
         "flavanoids": 1.31,
         "proanthocyanins": 2.7,
         "hue": 0.57,
         "_deepnote_index_column": 151
        },
        {
         "alcohol": 13.48,
         "malic_acid": 1.67,
         "alcalinity_of_ash": 22.5,
         "magnesium": 89,
         "flavanoids": 1.1,
         "proanthocyanins": 2.29,
         "hue": 0.57,
         "_deepnote_index_column": 152
        },
        {
         "alcohol": 12.36,
         "malic_acid": 3.83,
         "alcalinity_of_ash": 21,
         "magnesium": 88,
         "flavanoids": 0.92,
         "proanthocyanins": 1.04,
         "hue": 0.56,
         "_deepnote_index_column": 153
        },
        {
         "alcohol": 13.69,
         "malic_acid": 3.26,
         "alcalinity_of_ash": 20,
         "magnesium": 107,
         "flavanoids": 0.56,
         "proanthocyanins": 0.8,
         "hue": 0.96,
         "_deepnote_index_column": 154
        },
        {
         "alcohol": 12.85,
         "malic_acid": 3.27,
         "alcalinity_of_ash": 22,
         "magnesium": 106,
         "flavanoids": 0.6,
         "proanthocyanins": 0.96,
         "hue": 0.87,
         "_deepnote_index_column": 155
        },
        {
         "alcohol": 12.96,
         "malic_acid": 3.45,
         "alcalinity_of_ash": 18.5,
         "magnesium": 106,
         "flavanoids": 0.7,
         "proanthocyanins": 0.94,
         "hue": 0.68,
         "_deepnote_index_column": 156
        },
        {
         "alcohol": 13.78,
         "malic_acid": 2.76,
         "alcalinity_of_ash": 22,
         "magnesium": 90,
         "flavanoids": 0.68,
         "proanthocyanins": 1.03,
         "hue": 0.7,
         "_deepnote_index_column": 157
        },
        {
         "alcohol": 13.73,
         "malic_acid": 4.36,
         "alcalinity_of_ash": 22.5,
         "magnesium": 88,
         "flavanoids": 0.47,
         "proanthocyanins": 1.15,
         "hue": 0.78,
         "_deepnote_index_column": 158
        },
        {
         "alcohol": 13.45,
         "malic_acid": 3.7,
         "alcalinity_of_ash": 23,
         "magnesium": 111,
         "flavanoids": 0.92,
         "proanthocyanins": 1.46,
         "hue": 0.85,
         "_deepnote_index_column": 159
        },
        {
         "alcohol": 12.82,
         "malic_acid": 3.37,
         "alcalinity_of_ash": 19.5,
         "magnesium": 88,
         "flavanoids": 0.66,
         "proanthocyanins": 0.97,
         "hue": 0.72,
         "_deepnote_index_column": 160
        },
        {
         "alcohol": 13.58,
         "malic_acid": 2.58,
         "alcalinity_of_ash": 24.5,
         "magnesium": 105,
         "flavanoids": 0.84,
         "proanthocyanins": 1.54,
         "hue": 0.74,
         "_deepnote_index_column": 161
        },
        {
         "alcohol": 13.4,
         "malic_acid": 4.6,
         "alcalinity_of_ash": 25,
         "magnesium": 112,
         "flavanoids": 0.96,
         "proanthocyanins": 1.11,
         "hue": 0.67,
         "_deepnote_index_column": 162
        },
        {
         "alcohol": 12.2,
         "malic_acid": 3.03,
         "alcalinity_of_ash": 19,
         "magnesium": 96,
         "flavanoids": 0.49,
         "proanthocyanins": 0.73,
         "hue": 0.66,
         "_deepnote_index_column": 163
        },
        {
         "alcohol": 12.77,
         "malic_acid": 2.39,
         "alcalinity_of_ash": 19.5,
         "magnesium": 86,
         "flavanoids": 0.51,
         "proanthocyanins": 0.64,
         "hue": 0.57,
         "_deepnote_index_column": 164
        },
        {
         "alcohol": 14.16,
         "malic_acid": 2.51,
         "alcalinity_of_ash": 20,
         "magnesium": 91,
         "flavanoids": 0.7,
         "proanthocyanins": 1.24,
         "hue": 0.62,
         "_deepnote_index_column": 165
        },
        {
         "alcohol": 13.71,
         "malic_acid": 5.65,
         "alcalinity_of_ash": 20.5,
         "magnesium": 95,
         "flavanoids": 0.61,
         "proanthocyanins": 1.06,
         "hue": 0.64,
         "_deepnote_index_column": 166
        },
        {
         "alcohol": 13.4,
         "malic_acid": 3.91,
         "alcalinity_of_ash": 23,
         "magnesium": 102,
         "flavanoids": 0.75,
         "proanthocyanins": 1.41,
         "hue": 0.7,
         "_deepnote_index_column": 167
        },
        {
         "alcohol": 13.27,
         "malic_acid": 4.28,
         "alcalinity_of_ash": 20,
         "magnesium": 120,
         "flavanoids": 0.69,
         "proanthocyanins": 1.35,
         "hue": 0.59,
         "_deepnote_index_column": 168
        },
        {
         "alcohol": 13.17,
         "malic_acid": 2.59,
         "alcalinity_of_ash": 20,
         "magnesium": 120,
         "flavanoids": 0.68,
         "proanthocyanins": 1.46,
         "hue": 0.6,
         "_deepnote_index_column": 169
        },
        {
         "alcohol": 14.13,
         "malic_acid": 4.1,
         "alcalinity_of_ash": 24.5,
         "magnesium": 96,
         "flavanoids": 0.76,
         "proanthocyanins": 1.35,
         "hue": 0.61,
         "_deepnote_index_column": 170
        }
       ]
      },
      "text/plain": "     alcohol  malic_acid  alcalinity_of_ash  magnesium  flavanoids  \\\n0      10.00         NaN                NaN      100.0         NaN   \n1      13.24        2.59               21.0      100.0        2.69   \n2      14.06        2.15               17.6      121.0        2.51   \n3      14.10        2.16               18.0      105.0        3.32   \n4      14.12        1.48               16.8       95.0        2.43   \n..       ...         ...                ...        ...         ...   \n166    13.71        5.65               20.5       95.0        0.61   \n167    13.40        3.91               23.0      102.0        0.75   \n168    13.27        4.28               20.0      120.0        0.69   \n169    13.17        2.59               20.0      120.0        0.68   \n170    14.13        4.10               24.5       96.0        0.76   \n\n     proanthocyanins   hue  \n0                NaN   NaN  \n1               1.82  1.04  \n2               1.25  1.06  \n3               2.38  1.25  \n4               1.57  1.17  \n..               ...   ...  \n166             1.06  0.64  \n167             1.41  0.70  \n168             1.35  0.59  \n169             1.46  0.60  \n170             1.35  0.61  \n\n[171 rows x 7 columns]",
      "text/html": "<div>\n<style scoped>\n    .dataframe tbody tr th:only-of-type {\n        vertical-align: middle;\n    }\n\n    .dataframe tbody tr th {\n        vertical-align: top;\n    }\n\n    .dataframe thead th {\n        text-align: right;\n    }\n</style>\n<table border=\"1\" class=\"dataframe\">\n  <thead>\n    <tr style=\"text-align: right;\">\n      <th></th>\n      <th>alcohol</th>\n      <th>malic_acid</th>\n      <th>alcalinity_of_ash</th>\n      <th>magnesium</th>\n      <th>flavanoids</th>\n      <th>proanthocyanins</th>\n      <th>hue</th>\n    </tr>\n  </thead>\n  <tbody>\n    <tr>\n      <th>0</th>\n      <td>10.00</td>\n      <td>NaN</td>\n      <td>NaN</td>\n      <td>100.0</td>\n      <td>NaN</td>\n      <td>NaN</td>\n      <td>NaN</td>\n    </tr>\n    <tr>\n      <th>1</th>\n      <td>13.24</td>\n      <td>2.59</td>\n      <td>21.0</td>\n      <td>100.0</td>\n      <td>2.69</td>\n      <td>1.82</td>\n      <td>1.04</td>\n    </tr>\n    <tr>\n      <th>2</th>\n      <td>14.06</td>\n      <td>2.15</td>\n      <td>17.6</td>\n      <td>121.0</td>\n      <td>2.51</td>\n      <td>1.25</td>\n      <td>1.06</td>\n    </tr>\n    <tr>\n      <th>3</th>\n      <td>14.10</td>\n      <td>2.16</td>\n      <td>18.0</td>\n      <td>105.0</td>\n      <td>3.32</td>\n      <td>2.38</td>\n      <td>1.25</td>\n    </tr>\n    <tr>\n      <th>4</th>\n      <td>14.12</td>\n      <td>1.48</td>\n      <td>16.8</td>\n      <td>95.0</td>\n      <td>2.43</td>\n      <td>1.57</td>\n      <td>1.17</td>\n    </tr>\n    <tr>\n      <th>...</th>\n      <td>...</td>\n      <td>...</td>\n      <td>...</td>\n      <td>...</td>\n      <td>...</td>\n      <td>...</td>\n      <td>...</td>\n    </tr>\n    <tr>\n      <th>166</th>\n      <td>13.71</td>\n      <td>5.65</td>\n      <td>20.5</td>\n      <td>95.0</td>\n      <td>0.61</td>\n      <td>1.06</td>\n      <td>0.64</td>\n    </tr>\n    <tr>\n      <th>167</th>\n      <td>13.40</td>\n      <td>3.91</td>\n      <td>23.0</td>\n      <td>102.0</td>\n      <td>0.75</td>\n      <td>1.41</td>\n      <td>0.70</td>\n    </tr>\n    <tr>\n      <th>168</th>\n      <td>13.27</td>\n      <td>4.28</td>\n      <td>20.0</td>\n      <td>120.0</td>\n      <td>0.69</td>\n      <td>1.35</td>\n      <td>0.59</td>\n    </tr>\n    <tr>\n      <th>169</th>\n      <td>13.17</td>\n      <td>2.59</td>\n      <td>20.0</td>\n      <td>120.0</td>\n      <td>0.68</td>\n      <td>1.46</td>\n      <td>0.60</td>\n    </tr>\n    <tr>\n      <th>170</th>\n      <td>14.13</td>\n      <td>4.10</td>\n      <td>24.5</td>\n      <td>96.0</td>\n      <td>0.76</td>\n      <td>1.35</td>\n      <td>0.61</td>\n    </tr>\n  </tbody>\n</table>\n<p>171 rows × 7 columns</p>\n</div>"
     },
     "metadata": {}
    }
   ],
   "execution_count": null
  },
  {
   "cell_type": "markdown",
   "source": "<a style='text-decoration:none;line-height:16px;display:flex;color:#5B5B62;padding:10px;justify-content:end;' href='https://deepnote.com?utm_source=created-in-deepnote-cell&projectId=fe744348-fecc-4b7a-803c-44dba24ecb38' target=\"_blank\">\n<img alt='Created in deepnote.com' style='display:inline;max-height:16px;margin:0px;margin-right:7.5px;' src='data:image/svg+xml;base64,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' > </img>\nCreated in <span style='font-weight:600;margin-left:4px;'>Deepnote</span></a>",
   "metadata": {
    "tags": [],
    "created_in_deepnote_cell": true,
    "deepnote_cell_type": "markdown"
   }
  }
 ],
 "nbformat": 4,
 "nbformat_minor": 0,
 "metadata": {
  "kernelspec": {
   "display_name": "Python [default]",
   "language": "python",
   "name": "python2"
  },
  "language_info": {
   "codemirror_mode": {
    "name": "ipython",
    "version": 2
   },
   "file_extension": ".py",
   "mimetype": "text/x-python",
   "name": "python",
   "nbconvert_exporter": "python",
   "pygments_lexer": "ipython2",
   "version": "2.7.12"
  },
  "colab": {
   "name": "Exercises.ipynb",
   "provenance": [],
   "collapsed_sections": []
  },
  "deepnote_notebook_id": "25e81887-ec13-490f-80e3-d7c9959f2ba6",
  "deepnote": {},
  "deepnote_execution_queue": []
 }
}
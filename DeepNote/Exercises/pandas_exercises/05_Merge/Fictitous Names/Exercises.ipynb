{
 "cells": [
  {
   "cell_type": "markdown",
   "source": "# Fictitious Names",
   "metadata": {
    "id": "8aWZW3_abGnY",
    "cell_id": "00000-c8fb23d7-82a0-409a-8779-342afea7363c",
    "deepnote_cell_type": "markdown"
   }
  },
  {
   "cell_type": "markdown",
   "source": "### Introduction:\n\nThis time you will create a data again \n\nSpecial thanks to [Chris Albon](http://chrisalbon.com/) for sharing the dataset and materials.\nAll the credits to this exercise belongs to him.  \n\nIn order to understand about it go [here](https://blog.codinghorror.com/a-visual-explanation-of-sql-joins/).\n\n### Step 1. Import the necessary libraries",
   "metadata": {
    "id": "9Noq_KpHbGna",
    "cell_id": "00001-b874bcdd-727d-4951-b65f-18ae8cb5058b",
    "deepnote_cell_type": "markdown"
   }
  },
  {
   "cell_type": "code",
   "metadata": {
    "id": "MzNkws4obGna",
    "executionInfo": {
     "status": "ok",
     "timestamp": 1623722951659,
     "user_tz": 240,
     "elapsed": 382,
     "user": {
      "displayName": "Andrés Sánchez",
      "photoUrl": "https://lh3.googleusercontent.com/a-/AOh14Gg69bZMv30ckb-T1MJy0nSxWIHUaP0p2uP6MYBuvQ=s64",
      "userId": "07985253921366566280"
     }
    },
    "cell_id": "00002-e5498982-9cf2-4a2f-bb97-07e3d860c904",
    "deepnote_to_be_reexecuted": false,
    "source_hash": "c76c7c51",
    "execution_start": 1630098221126,
    "execution_millis": 4,
    "deepnote_cell_type": "code"
   },
   "source": "import pandas as pd\nimport numpy as np",
   "execution_count": 1,
   "outputs": []
  },
  {
   "cell_type": "markdown",
   "source": "### Step 2. Create the 3 DataFrames based on the following raw data",
   "metadata": {
    "id": "RTNypy_WbGna",
    "cell_id": "00003-47d37335-2833-4902-b076-441d152f20ab",
    "deepnote_cell_type": "markdown"
   }
  },
  {
   "cell_type": "code",
   "metadata": {
    "collapsed": true,
    "id": "LIGSatw_bGnb",
    "executionInfo": {
     "status": "ok",
     "timestamp": 1623722951660,
     "user_tz": 240,
     "elapsed": 2,
     "user": {
      "displayName": "Andrés Sánchez",
      "photoUrl": "https://lh3.googleusercontent.com/a-/AOh14Gg69bZMv30ckb-T1MJy0nSxWIHUaP0p2uP6MYBuvQ=s64",
      "userId": "07985253921366566280"
     }
    },
    "cell_id": "00004-2dd7b00b-6c36-43da-81e7-19708593fb4d",
    "deepnote_to_be_reexecuted": false,
    "source_hash": "7b298b84",
    "execution_start": 1630098221134,
    "execution_millis": 3,
    "deepnote_cell_type": "code"
   },
   "source": "raw_data_1 = {\n        'subject_id': ['1', '2', '3', '4', '5'],\n        'first_name': ['Alex', 'Amy', 'Allen', 'Alice', 'Ayoung'], \n        'last_name': ['Anderson', 'Ackerman', 'Ali', 'Aoni', 'Atiches']}\n\nraw_data_2 = {\n        'subject_id': ['4', '5', '6', '7', '8'],\n        'first_name': ['Billy', 'Brian', 'Bran', 'Bryce', 'Betty'], \n        'last_name': ['Bonder', 'Black', 'Balwner', 'Brice', 'Btisan']}\n\nraw_data_3 = {\n        'subject_id': ['1', '2', '3', '4', '5', '7', '8', '9', '10', '11'],\n        'test_id': [51, 15, 15, 61, 16, 14, 15, 1, 61, 16]}",
   "execution_count": 2,
   "outputs": []
  },
  {
   "cell_type": "markdown",
   "source": "### Step 3. Assign each to a variable called data1, data2, data3",
   "metadata": {
    "id": "-a_JcvX7bGnb",
    "cell_id": "00005-55dc39ec-2e06-4273-9160-49dde3cafa9b",
    "deepnote_cell_type": "markdown"
   }
  },
  {
   "cell_type": "code",
   "metadata": {
    "id": "lXB5d1ddbGnb",
    "executionInfo": {
     "status": "ok",
     "timestamp": 1623722984216,
     "user_tz": 240,
     "elapsed": 206,
     "user": {
      "displayName": "Andrés Sánchez",
      "photoUrl": "https://lh3.googleusercontent.com/a-/AOh14Gg69bZMv30ckb-T1MJy0nSxWIHUaP0p2uP6MYBuvQ=s64",
      "userId": "07985253921366566280"
     }
    },
    "cell_id": "00006-9a154cdc-5f9c-4744-9464-695725a60a83",
    "deepnote_to_be_reexecuted": false,
    "source_hash": "76c08b4e",
    "execution_start": 1630098221143,
    "execution_millis": 2,
    "deepnote_cell_type": "code"
   },
   "source": "data1 = pd.DataFrame(raw_data_1)\ndata2 = pd.DataFrame(raw_data_2)\ndata3 = pd.DataFrame(raw_data_3)",
   "execution_count": 3,
   "outputs": []
  },
  {
   "cell_type": "markdown",
   "source": "### Step 4. Join the two dataframes along rows and assign all_data",
   "metadata": {
    "id": "9Qgt6_hJbGnb",
    "cell_id": "00007-01207a30-e5aa-4523-b724-1dcba96696b3",
    "deepnote_cell_type": "markdown"
   }
  },
  {
   "cell_type": "code",
   "metadata": {
    "colab": {
     "base_uri": "https://localhost:8080/",
     "height": 348
    },
    "id": "ic6Fhb5HbGnb",
    "executionInfo": {
     "status": "ok",
     "timestamp": 1623723122905,
     "user_tz": 240,
     "elapsed": 176,
     "user": {
      "displayName": "Andrés Sánchez",
      "photoUrl": "https://lh3.googleusercontent.com/a-/AOh14Gg69bZMv30ckb-T1MJy0nSxWIHUaP0p2uP6MYBuvQ=s64",
      "userId": "07985253921366566280"
     }
    },
    "outputId": "0d87113a-78a6-4324-e239-c90b695dbb2b",
    "cell_id": "00008-af91d791-b264-4ecb-af28-0e1ada734bcb",
    "deepnote_to_be_reexecuted": false,
    "source_hash": "b69cb7c5",
    "execution_start": 1630098221147,
    "execution_millis": 90,
    "deepnote_cell_type": "code"
   },
   "source": "all_data = data1.append(data2)\nall_data",
   "execution_count": 4,
   "outputs": [
    {
     "output_type": "execute_result",
     "execution_count": 4,
     "data": {
      "application/vnd.deepnote.dataframe.v2+json": {
       "row_count": 10,
       "column_count": 3,
       "columns": [
        {
         "name": "subject_id",
         "dtype": "object",
         "stats": {
          "unique_count": 8,
          "nan_count": 0,
          "categories": [
           {
            "name": "4",
            "count": 2
           },
           {
            "name": "5",
            "count": 2
           },
           {
            "name": "6 others",
            "count": 6
           }
          ]
         }
        },
        {
         "name": "first_name",
         "dtype": "object",
         "stats": {
          "unique_count": 10,
          "nan_count": 0,
          "categories": [
           {
            "name": "Alex",
            "count": 1
           },
           {
            "name": "Amy",
            "count": 1
           },
           {
            "name": "8 others",
            "count": 8
           }
          ]
         }
        },
        {
         "name": "last_name",
         "dtype": "object",
         "stats": {
          "unique_count": 10,
          "nan_count": 0,
          "categories": [
           {
            "name": "Anderson",
            "count": 1
           },
           {
            "name": "Ackerman",
            "count": 1
           },
           {
            "name": "8 others",
            "count": 8
           }
          ]
         }
        },
        {
         "name": "_deepnote_index_column",
         "dtype": "int64"
        }
       ],
       "rows_top": [
        {
         "subject_id": "1",
         "first_name": "Alex",
         "last_name": "Anderson",
         "_deepnote_index_column": "0"
        },
        {
         "subject_id": "2",
         "first_name": "Amy",
         "last_name": "Ackerman",
         "_deepnote_index_column": "1"
        },
        {
         "subject_id": "3",
         "first_name": "Allen",
         "last_name": "Ali",
         "_deepnote_index_column": "2"
        },
        {
         "subject_id": "4",
         "first_name": "Alice",
         "last_name": "Aoni",
         "_deepnote_index_column": "3"
        },
        {
         "subject_id": "5",
         "first_name": "Ayoung",
         "last_name": "Atiches",
         "_deepnote_index_column": "4"
        },
        {
         "subject_id": "4",
         "first_name": "Billy",
         "last_name": "Bonder",
         "_deepnote_index_column": "0"
        },
        {
         "subject_id": "5",
         "first_name": "Brian",
         "last_name": "Black",
         "_deepnote_index_column": "1"
        },
        {
         "subject_id": "6",
         "first_name": "Bran",
         "last_name": "Balwner",
         "_deepnote_index_column": "2"
        },
        {
         "subject_id": "7",
         "first_name": "Bryce",
         "last_name": "Brice",
         "_deepnote_index_column": "3"
        },
        {
         "subject_id": "8",
         "first_name": "Betty",
         "last_name": "Btisan",
         "_deepnote_index_column": "4"
        }
       ],
       "rows_bottom": null
      },
      "text/plain": "  subject_id first_name last_name\n0          1       Alex  Anderson\n1          2        Amy  Ackerman\n2          3      Allen       Ali\n3          4      Alice      Aoni\n4          5     Ayoung   Atiches\n0          4      Billy    Bonder\n1          5      Brian     Black\n2          6       Bran   Balwner\n3          7      Bryce     Brice\n4          8      Betty    Btisan",
      "text/html": "<div>\n<style scoped>\n    .dataframe tbody tr th:only-of-type {\n        vertical-align: middle;\n    }\n\n    .dataframe tbody tr th {\n        vertical-align: top;\n    }\n\n    .dataframe thead th {\n        text-align: right;\n    }\n</style>\n<table border=\"1\" class=\"dataframe\">\n  <thead>\n    <tr style=\"text-align: right;\">\n      <th></th>\n      <th>subject_id</th>\n      <th>first_name</th>\n      <th>last_name</th>\n    </tr>\n  </thead>\n  <tbody>\n    <tr>\n      <th>0</th>\n      <td>1</td>\n      <td>Alex</td>\n      <td>Anderson</td>\n    </tr>\n    <tr>\n      <th>1</th>\n      <td>2</td>\n      <td>Amy</td>\n      <td>Ackerman</td>\n    </tr>\n    <tr>\n      <th>2</th>\n      <td>3</td>\n      <td>Allen</td>\n      <td>Ali</td>\n    </tr>\n    <tr>\n      <th>3</th>\n      <td>4</td>\n      <td>Alice</td>\n      <td>Aoni</td>\n    </tr>\n    <tr>\n      <th>4</th>\n      <td>5</td>\n      <td>Ayoung</td>\n      <td>Atiches</td>\n    </tr>\n    <tr>\n      <th>0</th>\n      <td>4</td>\n      <td>Billy</td>\n      <td>Bonder</td>\n    </tr>\n    <tr>\n      <th>1</th>\n      <td>5</td>\n      <td>Brian</td>\n      <td>Black</td>\n    </tr>\n    <tr>\n      <th>2</th>\n      <td>6</td>\n      <td>Bran</td>\n      <td>Balwner</td>\n    </tr>\n    <tr>\n      <th>3</th>\n      <td>7</td>\n      <td>Bryce</td>\n      <td>Brice</td>\n    </tr>\n    <tr>\n      <th>4</th>\n      <td>8</td>\n      <td>Betty</td>\n      <td>Btisan</td>\n    </tr>\n  </tbody>\n</table>\n</div>"
     },
     "metadata": {}
    }
   ]
  },
  {
   "cell_type": "markdown",
   "source": "### Step 5. Join the two dataframes along columns and assing to all_data_col",
   "metadata": {
    "id": "eQGESBd7bGnc",
    "cell_id": "00009-b822fe73-6209-4cd2-8c1e-6b3e53e455f9",
    "deepnote_cell_type": "markdown"
   }
  },
  {
   "cell_type": "code",
   "metadata": {
    "colab": {
     "base_uri": "https://localhost:8080/",
     "height": 198
    },
    "id": "9Tmdq3IMbGnc",
    "executionInfo": {
     "status": "ok",
     "timestamp": 1623723199388,
     "user_tz": 240,
     "elapsed": 156,
     "user": {
      "displayName": "Andrés Sánchez",
      "photoUrl": "https://lh3.googleusercontent.com/a-/AOh14Gg69bZMv30ckb-T1MJy0nSxWIHUaP0p2uP6MYBuvQ=s64",
      "userId": "07985253921366566280"
     }
    },
    "outputId": "38fb5f84-9bac-425f-8865-ef47f905c380",
    "cell_id": "00010-cf3e6fe6-3b17-4e1c-a25b-748616d0cff4",
    "deepnote_to_be_reexecuted": false,
    "source_hash": "aad66ef3",
    "execution_start": 1630098221232,
    "execution_millis": 5,
    "deepnote_cell_type": "code"
   },
   "source": "all_data_col = pd.concat([data1, data2], axis = 1, join = 'inner')\nall_data_col",
   "execution_count": 5,
   "outputs": [
    {
     "output_type": "execute_result",
     "execution_count": 5,
     "data": {
      "application/vnd.deepnote.dataframe.v2+json": {
       "row_count": 5,
       "column_count": 6,
       "columns": [
        {
         "name": "subject_id",
         "dtype": "object",
         "stats": {
          "unique_count": 5,
          "nan_count": 0,
          "categories": [
           {
            "name": "1",
            "count": 1
           },
           {
            "name": "2",
            "count": 1
           },
           {
            "name": "3 others",
            "count": 3
           }
          ]
         }
        },
        {
         "name": "first_name",
         "dtype": "object",
         "stats": {
          "unique_count": 5,
          "nan_count": 0,
          "categories": [
           {
            "name": "Alex",
            "count": 1
           },
           {
            "name": "Amy",
            "count": 1
           },
           {
            "name": "3 others",
            "count": 3
           }
          ]
         }
        },
        {
         "name": "last_name",
         "dtype": "object",
         "stats": {
          "unique_count": 5,
          "nan_count": 0,
          "categories": [
           {
            "name": "Anderson",
            "count": 1
           },
           {
            "name": "Ackerman",
            "count": 1
           },
           {
            "name": "3 others",
            "count": 3
           }
          ]
         }
        },
        {
         "name": "subject_id.1",
         "dtype": "object",
         "stats": {
          "unique_count": 5,
          "nan_count": 0,
          "categories": [
           {
            "name": "4",
            "count": 1
           },
           {
            "name": "5",
            "count": 1
           },
           {
            "name": "3 others",
            "count": 3
           }
          ]
         }
        },
        {
         "name": "first_name.1",
         "dtype": "object",
         "stats": {
          "unique_count": 5,
          "nan_count": 0,
          "categories": [
           {
            "name": "Billy",
            "count": 1
           },
           {
            "name": "Brian",
            "count": 1
           },
           {
            "name": "3 others",
            "count": 3
           }
          ]
         }
        },
        {
         "name": "last_name.1",
         "dtype": "object",
         "stats": {
          "unique_count": 5,
          "nan_count": 0,
          "categories": [
           {
            "name": "Bonder",
            "count": 1
           },
           {
            "name": "Black",
            "count": 1
           },
           {
            "name": "3 others",
            "count": 3
           }
          ]
         }
        },
        {
         "name": "_deepnote_index_column",
         "dtype": "int64"
        }
       ],
       "rows_top": [
        {
         "subject_id": "1",
         "first_name": "Alex",
         "last_name": "Anderson",
         "subject_id.1": "4",
         "first_name.1": "Billy",
         "last_name.1": "Bonder",
         "_deepnote_index_column": 0
        },
        {
         "subject_id": "2",
         "first_name": "Amy",
         "last_name": "Ackerman",
         "subject_id.1": "5",
         "first_name.1": "Brian",
         "last_name.1": "Black",
         "_deepnote_index_column": 1
        },
        {
         "subject_id": "3",
         "first_name": "Allen",
         "last_name": "Ali",
         "subject_id.1": "6",
         "first_name.1": "Bran",
         "last_name.1": "Balwner",
         "_deepnote_index_column": 2
        },
        {
         "subject_id": "4",
         "first_name": "Alice",
         "last_name": "Aoni",
         "subject_id.1": "7",
         "first_name.1": "Bryce",
         "last_name.1": "Brice",
         "_deepnote_index_column": 3
        },
        {
         "subject_id": "5",
         "first_name": "Ayoung",
         "last_name": "Atiches",
         "subject_id.1": "8",
         "first_name.1": "Betty",
         "last_name.1": "Btisan",
         "_deepnote_index_column": 4
        }
       ],
       "rows_bottom": null
      },
      "text/plain": "  subject_id first_name last_name subject_id first_name last_name\n0          1       Alex  Anderson          4      Billy    Bonder\n1          2        Amy  Ackerman          5      Brian     Black\n2          3      Allen       Ali          6       Bran   Balwner\n3          4      Alice      Aoni          7      Bryce     Brice\n4          5     Ayoung   Atiches          8      Betty    Btisan",
      "text/html": "<div>\n<style scoped>\n    .dataframe tbody tr th:only-of-type {\n        vertical-align: middle;\n    }\n\n    .dataframe tbody tr th {\n        vertical-align: top;\n    }\n\n    .dataframe thead th {\n        text-align: right;\n    }\n</style>\n<table border=\"1\" class=\"dataframe\">\n  <thead>\n    <tr style=\"text-align: right;\">\n      <th></th>\n      <th>subject_id</th>\n      <th>first_name</th>\n      <th>last_name</th>\n      <th>subject_id</th>\n      <th>first_name</th>\n      <th>last_name</th>\n    </tr>\n  </thead>\n  <tbody>\n    <tr>\n      <th>0</th>\n      <td>1</td>\n      <td>Alex</td>\n      <td>Anderson</td>\n      <td>4</td>\n      <td>Billy</td>\n      <td>Bonder</td>\n    </tr>\n    <tr>\n      <th>1</th>\n      <td>2</td>\n      <td>Amy</td>\n      <td>Ackerman</td>\n      <td>5</td>\n      <td>Brian</td>\n      <td>Black</td>\n    </tr>\n    <tr>\n      <th>2</th>\n      <td>3</td>\n      <td>Allen</td>\n      <td>Ali</td>\n      <td>6</td>\n      <td>Bran</td>\n      <td>Balwner</td>\n    </tr>\n    <tr>\n      <th>3</th>\n      <td>4</td>\n      <td>Alice</td>\n      <td>Aoni</td>\n      <td>7</td>\n      <td>Bryce</td>\n      <td>Brice</td>\n    </tr>\n    <tr>\n      <th>4</th>\n      <td>5</td>\n      <td>Ayoung</td>\n      <td>Atiches</td>\n      <td>8</td>\n      <td>Betty</td>\n      <td>Btisan</td>\n    </tr>\n  </tbody>\n</table>\n</div>"
     },
     "metadata": {}
    }
   ]
  },
  {
   "cell_type": "markdown",
   "source": "### Step 6. Print data3",
   "metadata": {
    "id": "E4pI7XrcbGnc",
    "cell_id": "00011-016c925e-dd0d-43f6-9c89-55ab475c7ee7",
    "deepnote_cell_type": "markdown"
   }
  },
  {
   "cell_type": "code",
   "metadata": {
    "colab": {
     "base_uri": "https://localhost:8080/",
     "height": 348
    },
    "id": "3QtqLQ6obGnc",
    "executionInfo": {
     "status": "ok",
     "timestamp": 1623723216597,
     "user_tz": 240,
     "elapsed": 161,
     "user": {
      "displayName": "Andrés Sánchez",
      "photoUrl": "https://lh3.googleusercontent.com/a-/AOh14Gg69bZMv30ckb-T1MJy0nSxWIHUaP0p2uP6MYBuvQ=s64",
      "userId": "07985253921366566280"
     }
    },
    "outputId": "e38dcdc5-8b87-40dd-9fe7-92767da79832",
    "cell_id": "00012-369885e9-f2bc-4c11-a73b-f10135611c8c",
    "deepnote_to_be_reexecuted": false,
    "source_hash": "42ab7c10",
    "execution_start": 1630098221269,
    "execution_millis": 8,
    "deepnote_cell_type": "code"
   },
   "source": "data3",
   "execution_count": 6,
   "outputs": [
    {
     "output_type": "execute_result",
     "execution_count": 6,
     "data": {
      "application/vnd.deepnote.dataframe.v2+json": {
       "row_count": 10,
       "column_count": 2,
       "columns": [
        {
         "name": "subject_id",
         "dtype": "object",
         "stats": {
          "unique_count": 10,
          "nan_count": 0,
          "categories": [
           {
            "name": "1",
            "count": 1
           },
           {
            "name": "2",
            "count": 1
           },
           {
            "name": "8 others",
            "count": 8
           }
          ]
         }
        },
        {
         "name": "test_id",
         "dtype": "int64",
         "stats": {
          "unique_count": 6,
          "nan_count": 0,
          "min": "1",
          "max": "61",
          "histogram": [
           {
            "bin_start": 1,
            "bin_end": 7,
            "count": 1
           },
           {
            "bin_start": 7,
            "bin_end": 13,
            "count": 0
           },
           {
            "bin_start": 13,
            "bin_end": 19,
            "count": 6
           },
           {
            "bin_start": 19,
            "bin_end": 25,
            "count": 0
           },
           {
            "bin_start": 25,
            "bin_end": 31,
            "count": 0
           },
           {
            "bin_start": 31,
            "bin_end": 37,
            "count": 0
           },
           {
            "bin_start": 37,
            "bin_end": 43,
            "count": 0
           },
           {
            "bin_start": 43,
            "bin_end": 49,
            "count": 0
           },
           {
            "bin_start": 49,
            "bin_end": 55,
            "count": 1
           },
           {
            "bin_start": 55,
            "bin_end": 61,
            "count": 2
           }
          ]
         }
        },
        {
         "name": "_deepnote_index_column",
         "dtype": "int64"
        }
       ],
       "rows_top": [
        {
         "subject_id": "1",
         "test_id": 51,
         "_deepnote_index_column": 0
        },
        {
         "subject_id": "2",
         "test_id": 15,
         "_deepnote_index_column": 1
        },
        {
         "subject_id": "3",
         "test_id": 15,
         "_deepnote_index_column": 2
        },
        {
         "subject_id": "4",
         "test_id": 61,
         "_deepnote_index_column": 3
        },
        {
         "subject_id": "5",
         "test_id": 16,
         "_deepnote_index_column": 4
        },
        {
         "subject_id": "7",
         "test_id": 14,
         "_deepnote_index_column": 5
        },
        {
         "subject_id": "8",
         "test_id": 15,
         "_deepnote_index_column": 6
        },
        {
         "subject_id": "9",
         "test_id": 1,
         "_deepnote_index_column": 7
        },
        {
         "subject_id": "10",
         "test_id": 61,
         "_deepnote_index_column": 8
        },
        {
         "subject_id": "11",
         "test_id": 16,
         "_deepnote_index_column": 9
        }
       ],
       "rows_bottom": null
      },
      "text/plain": "  subject_id  test_id\n0          1       51\n1          2       15\n2          3       15\n3          4       61\n4          5       16\n5          7       14\n6          8       15\n7          9        1\n8         10       61\n9         11       16",
      "text/html": "<div>\n<style scoped>\n    .dataframe tbody tr th:only-of-type {\n        vertical-align: middle;\n    }\n\n    .dataframe tbody tr th {\n        vertical-align: top;\n    }\n\n    .dataframe thead th {\n        text-align: right;\n    }\n</style>\n<table border=\"1\" class=\"dataframe\">\n  <thead>\n    <tr style=\"text-align: right;\">\n      <th></th>\n      <th>subject_id</th>\n      <th>test_id</th>\n    </tr>\n  </thead>\n  <tbody>\n    <tr>\n      <th>0</th>\n      <td>1</td>\n      <td>51</td>\n    </tr>\n    <tr>\n      <th>1</th>\n      <td>2</td>\n      <td>15</td>\n    </tr>\n    <tr>\n      <th>2</th>\n      <td>3</td>\n      <td>15</td>\n    </tr>\n    <tr>\n      <th>3</th>\n      <td>4</td>\n      <td>61</td>\n    </tr>\n    <tr>\n      <th>4</th>\n      <td>5</td>\n      <td>16</td>\n    </tr>\n    <tr>\n      <th>5</th>\n      <td>7</td>\n      <td>14</td>\n    </tr>\n    <tr>\n      <th>6</th>\n      <td>8</td>\n      <td>15</td>\n    </tr>\n    <tr>\n      <th>7</th>\n      <td>9</td>\n      <td>1</td>\n    </tr>\n    <tr>\n      <th>8</th>\n      <td>10</td>\n      <td>61</td>\n    </tr>\n    <tr>\n      <th>9</th>\n      <td>11</td>\n      <td>16</td>\n    </tr>\n  </tbody>\n</table>\n</div>"
     },
     "metadata": {}
    }
   ]
  },
  {
   "cell_type": "markdown",
   "source": "### Step 7. Merge all_data and data3 along the subject_id value",
   "metadata": {
    "id": "NGx_H0fsbGnc",
    "cell_id": "00013-8ab62d0c-bc6e-4b16-aa70-a7e54531f395",
    "deepnote_cell_type": "markdown"
   }
  },
  {
   "cell_type": "code",
   "metadata": {
    "colab": {
     "base_uri": "https://localhost:8080/",
     "height": 318
    },
    "id": "njQrdGgybGnc",
    "executionInfo": {
     "status": "ok",
     "timestamp": 1623723761160,
     "user_tz": 240,
     "elapsed": 192,
     "user": {
      "displayName": "Andrés Sánchez",
      "photoUrl": "https://lh3.googleusercontent.com/a-/AOh14Gg69bZMv30ckb-T1MJy0nSxWIHUaP0p2uP6MYBuvQ=s64",
      "userId": "07985253921366566280"
     }
    },
    "outputId": "e08a2c04-1936-4602-dc39-e8e1fa3f0e7a",
    "cell_id": "00014-9654c914-3f3e-46a2-a84c-4aa0b9fcc71d",
    "deepnote_to_be_reexecuted": false,
    "source_hash": "cb69d9ae",
    "execution_start": 1630098221270,
    "execution_millis": 9,
    "deepnote_cell_type": "code"
   },
   "source": "pd.merge(all_data, data3, how = 'inner', on = 'subject_id')",
   "execution_count": 7,
   "outputs": [
    {
     "output_type": "execute_result",
     "execution_count": 7,
     "data": {
      "application/vnd.deepnote.dataframe.v2+json": {
       "row_count": 9,
       "column_count": 4,
       "columns": [
        {
         "name": "subject_id",
         "dtype": "object",
         "stats": {
          "unique_count": 7,
          "nan_count": 0,
          "categories": [
           {
            "name": "4",
            "count": 2
           },
           {
            "name": "5",
            "count": 2
           },
           {
            "name": "5 others",
            "count": 5
           }
          ]
         }
        },
        {
         "name": "first_name",
         "dtype": "object",
         "stats": {
          "unique_count": 9,
          "nan_count": 0,
          "categories": [
           {
            "name": "Alex",
            "count": 1
           },
           {
            "name": "Amy",
            "count": 1
           },
           {
            "name": "7 others",
            "count": 7
           }
          ]
         }
        },
        {
         "name": "last_name",
         "dtype": "object",
         "stats": {
          "unique_count": 9,
          "nan_count": 0,
          "categories": [
           {
            "name": "Anderson",
            "count": 1
           },
           {
            "name": "Ackerman",
            "count": 1
           },
           {
            "name": "7 others",
            "count": 7
           }
          ]
         }
        },
        {
         "name": "test_id",
         "dtype": "int64",
         "stats": {
          "unique_count": 5,
          "nan_count": 0,
          "min": "14",
          "max": "61",
          "histogram": [
           {
            "bin_start": 14,
            "bin_end": 18.7,
            "count": 6
           },
           {
            "bin_start": 18.7,
            "bin_end": 23.4,
            "count": 0
           },
           {
            "bin_start": 23.4,
            "bin_end": 28.1,
            "count": 0
           },
           {
            "bin_start": 28.1,
            "bin_end": 32.8,
            "count": 0
           },
           {
            "bin_start": 32.8,
            "bin_end": 37.5,
            "count": 0
           },
           {
            "bin_start": 37.5,
            "bin_end": 42.2,
            "count": 0
           },
           {
            "bin_start": 42.2,
            "bin_end": 46.9,
            "count": 0
           },
           {
            "bin_start": 46.9,
            "bin_end": 51.6,
            "count": 1
           },
           {
            "bin_start": 51.6,
            "bin_end": 56.300000000000004,
            "count": 0
           },
           {
            "bin_start": 56.300000000000004,
            "bin_end": 61,
            "count": 2
           }
          ]
         }
        },
        {
         "name": "_deepnote_index_column",
         "dtype": "int64"
        }
       ],
       "rows_top": [
        {
         "subject_id": "1",
         "first_name": "Alex",
         "last_name": "Anderson",
         "test_id": 51,
         "_deepnote_index_column": 0
        },
        {
         "subject_id": "2",
         "first_name": "Amy",
         "last_name": "Ackerman",
         "test_id": 15,
         "_deepnote_index_column": 1
        },
        {
         "subject_id": "3",
         "first_name": "Allen",
         "last_name": "Ali",
         "test_id": 15,
         "_deepnote_index_column": 2
        },
        {
         "subject_id": "4",
         "first_name": "Alice",
         "last_name": "Aoni",
         "test_id": 61,
         "_deepnote_index_column": 3
        },
        {
         "subject_id": "4",
         "first_name": "Billy",
         "last_name": "Bonder",
         "test_id": 61,
         "_deepnote_index_column": 4
        },
        {
         "subject_id": "5",
         "first_name": "Ayoung",
         "last_name": "Atiches",
         "test_id": 16,
         "_deepnote_index_column": 5
        },
        {
         "subject_id": "5",
         "first_name": "Brian",
         "last_name": "Black",
         "test_id": 16,
         "_deepnote_index_column": 6
        },
        {
         "subject_id": "7",
         "first_name": "Bryce",
         "last_name": "Brice",
         "test_id": 14,
         "_deepnote_index_column": 7
        },
        {
         "subject_id": "8",
         "first_name": "Betty",
         "last_name": "Btisan",
         "test_id": 15,
         "_deepnote_index_column": 8
        }
       ],
       "rows_bottom": null
      },
      "text/plain": "  subject_id first_name last_name  test_id\n0          1       Alex  Anderson       51\n1          2        Amy  Ackerman       15\n2          3      Allen       Ali       15\n3          4      Alice      Aoni       61\n4          4      Billy    Bonder       61\n5          5     Ayoung   Atiches       16\n6          5      Brian     Black       16\n7          7      Bryce     Brice       14\n8          8      Betty    Btisan       15",
      "text/html": "<div>\n<style scoped>\n    .dataframe tbody tr th:only-of-type {\n        vertical-align: middle;\n    }\n\n    .dataframe tbody tr th {\n        vertical-align: top;\n    }\n\n    .dataframe thead th {\n        text-align: right;\n    }\n</style>\n<table border=\"1\" class=\"dataframe\">\n  <thead>\n    <tr style=\"text-align: right;\">\n      <th></th>\n      <th>subject_id</th>\n      <th>first_name</th>\n      <th>last_name</th>\n      <th>test_id</th>\n    </tr>\n  </thead>\n  <tbody>\n    <tr>\n      <th>0</th>\n      <td>1</td>\n      <td>Alex</td>\n      <td>Anderson</td>\n      <td>51</td>\n    </tr>\n    <tr>\n      <th>1</th>\n      <td>2</td>\n      <td>Amy</td>\n      <td>Ackerman</td>\n      <td>15</td>\n    </tr>\n    <tr>\n      <th>2</th>\n      <td>3</td>\n      <td>Allen</td>\n      <td>Ali</td>\n      <td>15</td>\n    </tr>\n    <tr>\n      <th>3</th>\n      <td>4</td>\n      <td>Alice</td>\n      <td>Aoni</td>\n      <td>61</td>\n    </tr>\n    <tr>\n      <th>4</th>\n      <td>4</td>\n      <td>Billy</td>\n      <td>Bonder</td>\n      <td>61</td>\n    </tr>\n    <tr>\n      <th>5</th>\n      <td>5</td>\n      <td>Ayoung</td>\n      <td>Atiches</td>\n      <td>16</td>\n    </tr>\n    <tr>\n      <th>6</th>\n      <td>5</td>\n      <td>Brian</td>\n      <td>Black</td>\n      <td>16</td>\n    </tr>\n    <tr>\n      <th>7</th>\n      <td>7</td>\n      <td>Bryce</td>\n      <td>Brice</td>\n      <td>14</td>\n    </tr>\n    <tr>\n      <th>8</th>\n      <td>8</td>\n      <td>Betty</td>\n      <td>Btisan</td>\n      <td>15</td>\n    </tr>\n  </tbody>\n</table>\n</div>"
     },
     "metadata": {}
    }
   ]
  },
  {
   "cell_type": "markdown",
   "source": "### Step 8. Merge only the data that has the same 'subject_id' on both data1 and data2",
   "metadata": {
    "id": "X9qo31xqbGnc",
    "cell_id": "00015-cf336596-22ac-456a-bd36-cf3f7ac6036b",
    "deepnote_cell_type": "markdown"
   }
  },
  {
   "cell_type": "code",
   "metadata": {
    "colab": {
     "base_uri": "https://localhost:8080/",
     "height": 108
    },
    "id": "McLjQr6ybGnc",
    "executionInfo": {
     "status": "ok",
     "timestamp": 1623723795597,
     "user_tz": 240,
     "elapsed": 166,
     "user": {
      "displayName": "Andrés Sánchez",
      "photoUrl": "https://lh3.googleusercontent.com/a-/AOh14Gg69bZMv30ckb-T1MJy0nSxWIHUaP0p2uP6MYBuvQ=s64",
      "userId": "07985253921366566280"
     }
    },
    "outputId": "6f6a4ae7-8858-4696-d767-204d4d938682",
    "cell_id": "00016-f2da4eda-940a-4ec3-8405-7ca8b81cb24e",
    "deepnote_to_be_reexecuted": false,
    "source_hash": "cc6327a",
    "execution_start": 1630098221280,
    "execution_millis": 26,
    "deepnote_cell_type": "code"
   },
   "source": "pd.merge(data1, data2, how = 'inner', on = 'subject_id')",
   "execution_count": 8,
   "outputs": [
    {
     "output_type": "execute_result",
     "execution_count": 8,
     "data": {
      "application/vnd.deepnote.dataframe.v2+json": {
       "row_count": 2,
       "column_count": 5,
       "columns": [
        {
         "name": "subject_id",
         "dtype": "object",
         "stats": {
          "unique_count": 2,
          "nan_count": 0,
          "categories": [
           {
            "name": "4",
            "count": 1
           },
           {
            "name": "5",
            "count": 1
           }
          ]
         }
        },
        {
         "name": "first_name_x",
         "dtype": "object",
         "stats": {
          "unique_count": 2,
          "nan_count": 0,
          "categories": [
           {
            "name": "Alice",
            "count": 1
           },
           {
            "name": "Ayoung",
            "count": 1
           }
          ]
         }
        },
        {
         "name": "last_name_x",
         "dtype": "object",
         "stats": {
          "unique_count": 2,
          "nan_count": 0,
          "categories": [
           {
            "name": "Aoni",
            "count": 1
           },
           {
            "name": "Atiches",
            "count": 1
           }
          ]
         }
        },
        {
         "name": "first_name_y",
         "dtype": "object",
         "stats": {
          "unique_count": 2,
          "nan_count": 0,
          "categories": [
           {
            "name": "Billy",
            "count": 1
           },
           {
            "name": "Brian",
            "count": 1
           }
          ]
         }
        },
        {
         "name": "last_name_y",
         "dtype": "object",
         "stats": {
          "unique_count": 2,
          "nan_count": 0,
          "categories": [
           {
            "name": "Bonder",
            "count": 1
           },
           {
            "name": "Black",
            "count": 1
           }
          ]
         }
        },
        {
         "name": "_deepnote_index_column",
         "dtype": "int64"
        }
       ],
       "rows_top": [
        {
         "subject_id": "4",
         "first_name_x": "Alice",
         "last_name_x": "Aoni",
         "first_name_y": "Billy",
         "last_name_y": "Bonder",
         "_deepnote_index_column": 0
        },
        {
         "subject_id": "5",
         "first_name_x": "Ayoung",
         "last_name_x": "Atiches",
         "first_name_y": "Brian",
         "last_name_y": "Black",
         "_deepnote_index_column": 1
        }
       ],
       "rows_bottom": null
      },
      "text/plain": "  subject_id first_name_x last_name_x first_name_y last_name_y\n0          4        Alice        Aoni        Billy      Bonder\n1          5       Ayoung     Atiches        Brian       Black",
      "text/html": "<div>\n<style scoped>\n    .dataframe tbody tr th:only-of-type {\n        vertical-align: middle;\n    }\n\n    .dataframe tbody tr th {\n        vertical-align: top;\n    }\n\n    .dataframe thead th {\n        text-align: right;\n    }\n</style>\n<table border=\"1\" class=\"dataframe\">\n  <thead>\n    <tr style=\"text-align: right;\">\n      <th></th>\n      <th>subject_id</th>\n      <th>first_name_x</th>\n      <th>last_name_x</th>\n      <th>first_name_y</th>\n      <th>last_name_y</th>\n    </tr>\n  </thead>\n  <tbody>\n    <tr>\n      <th>0</th>\n      <td>4</td>\n      <td>Alice</td>\n      <td>Aoni</td>\n      <td>Billy</td>\n      <td>Bonder</td>\n    </tr>\n    <tr>\n      <th>1</th>\n      <td>5</td>\n      <td>Ayoung</td>\n      <td>Atiches</td>\n      <td>Brian</td>\n      <td>Black</td>\n    </tr>\n  </tbody>\n</table>\n</div>"
     },
     "metadata": {}
    }
   ]
  },
  {
   "cell_type": "markdown",
   "source": "### Step 9. Merge all values in data1 and data2, with matching records from both sides where available.",
   "metadata": {
    "id": "A9cU0HhdbGnc",
    "cell_id": "00017-5372f88e-d3a6-40be-af30-82acd12c6f8b",
    "deepnote_cell_type": "markdown"
   }
  },
  {
   "cell_type": "code",
   "metadata": {
    "colab": {
     "base_uri": "https://localhost:8080/",
     "height": 288
    },
    "id": "O9etZigSbGnd",
    "executionInfo": {
     "status": "ok",
     "timestamp": 1623723841911,
     "user_tz": 240,
     "elapsed": 163,
     "user": {
      "displayName": "Andrés Sánchez",
      "photoUrl": "https://lh3.googleusercontent.com/a-/AOh14Gg69bZMv30ckb-T1MJy0nSxWIHUaP0p2uP6MYBuvQ=s64",
      "userId": "07985253921366566280"
     }
    },
    "outputId": "d3e75a5e-51ef-4572-fba5-37e076d1169b",
    "cell_id": "00018-7b27957c-b0ee-4516-be07-98cd04b5bb04",
    "deepnote_to_be_reexecuted": false,
    "source_hash": "d11dabab",
    "execution_start": 1630098221309,
    "execution_millis": 27,
    "deepnote_cell_type": "code"
   },
   "source": "pd.merge(data1, data2, how = 'outer', on = 'subject_id')",
   "execution_count": 9,
   "outputs": [
    {
     "output_type": "execute_result",
     "execution_count": 9,
     "data": {
      "application/vnd.deepnote.dataframe.v2+json": {
       "row_count": 8,
       "column_count": 5,
       "columns": [
        {
         "name": "subject_id",
         "dtype": "object",
         "stats": {
          "unique_count": 8,
          "nan_count": 0,
          "categories": [
           {
            "name": "1",
            "count": 1
           },
           {
            "name": "2",
            "count": 1
           },
           {
            "name": "6 others",
            "count": 6
           }
          ]
         }
        },
        {
         "name": "first_name_x",
         "dtype": "object",
         "stats": {
          "unique_count": 5,
          "nan_count": 3,
          "categories": [
           {
            "name": "Alex",
            "count": 1
           },
           {
            "name": "4 others",
            "count": 4
           },
           {
            "name": "Missing",
            "count": 3
           }
          ]
         }
        },
        {
         "name": "last_name_x",
         "dtype": "object",
         "stats": {
          "unique_count": 5,
          "nan_count": 3,
          "categories": [
           {
            "name": "Anderson",
            "count": 1
           },
           {
            "name": "4 others",
            "count": 4
           },
           {
            "name": "Missing",
            "count": 3
           }
          ]
         }
        },
        {
         "name": "first_name_y",
         "dtype": "object",
         "stats": {
          "unique_count": 5,
          "nan_count": 3,
          "categories": [
           {
            "name": "Billy",
            "count": 1
           },
           {
            "name": "4 others",
            "count": 4
           },
           {
            "name": "Missing",
            "count": 3
           }
          ]
         }
        },
        {
         "name": "last_name_y",
         "dtype": "object",
         "stats": {
          "unique_count": 5,
          "nan_count": 3,
          "categories": [
           {
            "name": "Bonder",
            "count": 1
           },
           {
            "name": "4 others",
            "count": 4
           },
           {
            "name": "Missing",
            "count": 3
           }
          ]
         }
        },
        {
         "name": "_deepnote_index_column",
         "dtype": "int64"
        }
       ],
       "rows_top": [
        {
         "subject_id": "1",
         "first_name_x": "Alex",
         "last_name_x": "Anderson",
         "first_name_y": "nan",
         "last_name_y": "nan",
         "_deepnote_index_column": 0
        },
        {
         "subject_id": "2",
         "first_name_x": "Amy",
         "last_name_x": "Ackerman",
         "first_name_y": "nan",
         "last_name_y": "nan",
         "_deepnote_index_column": 1
        },
        {
         "subject_id": "3",
         "first_name_x": "Allen",
         "last_name_x": "Ali",
         "first_name_y": "nan",
         "last_name_y": "nan",
         "_deepnote_index_column": 2
        },
        {
         "subject_id": "4",
         "first_name_x": "Alice",
         "last_name_x": "Aoni",
         "first_name_y": "Billy",
         "last_name_y": "Bonder",
         "_deepnote_index_column": 3
        },
        {
         "subject_id": "5",
         "first_name_x": "Ayoung",
         "last_name_x": "Atiches",
         "first_name_y": "Brian",
         "last_name_y": "Black",
         "_deepnote_index_column": 4
        },
        {
         "subject_id": "6",
         "first_name_x": "nan",
         "last_name_x": "nan",
         "first_name_y": "Bran",
         "last_name_y": "Balwner",
         "_deepnote_index_column": 5
        },
        {
         "subject_id": "7",
         "first_name_x": "nan",
         "last_name_x": "nan",
         "first_name_y": "Bryce",
         "last_name_y": "Brice",
         "_deepnote_index_column": 6
        },
        {
         "subject_id": "8",
         "first_name_x": "nan",
         "last_name_x": "nan",
         "first_name_y": "Betty",
         "last_name_y": "Btisan",
         "_deepnote_index_column": 7
        }
       ],
       "rows_bottom": null
      },
      "text/plain": "  subject_id first_name_x last_name_x first_name_y last_name_y\n0          1         Alex    Anderson          NaN         NaN\n1          2          Amy    Ackerman          NaN         NaN\n2          3        Allen         Ali          NaN         NaN\n3          4        Alice        Aoni        Billy      Bonder\n4          5       Ayoung     Atiches        Brian       Black\n5          6          NaN         NaN         Bran     Balwner\n6          7          NaN         NaN        Bryce       Brice\n7          8          NaN         NaN        Betty      Btisan",
      "text/html": "<div>\n<style scoped>\n    .dataframe tbody tr th:only-of-type {\n        vertical-align: middle;\n    }\n\n    .dataframe tbody tr th {\n        vertical-align: top;\n    }\n\n    .dataframe thead th {\n        text-align: right;\n    }\n</style>\n<table border=\"1\" class=\"dataframe\">\n  <thead>\n    <tr style=\"text-align: right;\">\n      <th></th>\n      <th>subject_id</th>\n      <th>first_name_x</th>\n      <th>last_name_x</th>\n      <th>first_name_y</th>\n      <th>last_name_y</th>\n    </tr>\n  </thead>\n  <tbody>\n    <tr>\n      <th>0</th>\n      <td>1</td>\n      <td>Alex</td>\n      <td>Anderson</td>\n      <td>NaN</td>\n      <td>NaN</td>\n    </tr>\n    <tr>\n      <th>1</th>\n      <td>2</td>\n      <td>Amy</td>\n      <td>Ackerman</td>\n      <td>NaN</td>\n      <td>NaN</td>\n    </tr>\n    <tr>\n      <th>2</th>\n      <td>3</td>\n      <td>Allen</td>\n      <td>Ali</td>\n      <td>NaN</td>\n      <td>NaN</td>\n    </tr>\n    <tr>\n      <th>3</th>\n      <td>4</td>\n      <td>Alice</td>\n      <td>Aoni</td>\n      <td>Billy</td>\n      <td>Bonder</td>\n    </tr>\n    <tr>\n      <th>4</th>\n      <td>5</td>\n      <td>Ayoung</td>\n      <td>Atiches</td>\n      <td>Brian</td>\n      <td>Black</td>\n    </tr>\n    <tr>\n      <th>5</th>\n      <td>6</td>\n      <td>NaN</td>\n      <td>NaN</td>\n      <td>Bran</td>\n      <td>Balwner</td>\n    </tr>\n    <tr>\n      <th>6</th>\n      <td>7</td>\n      <td>NaN</td>\n      <td>NaN</td>\n      <td>Bryce</td>\n      <td>Brice</td>\n    </tr>\n    <tr>\n      <th>7</th>\n      <td>8</td>\n      <td>NaN</td>\n      <td>NaN</td>\n      <td>Betty</td>\n      <td>Btisan</td>\n    </tr>\n  </tbody>\n</table>\n</div>"
     },
     "metadata": {}
    }
   ]
  },
  {
   "cell_type": "code",
   "metadata": {
    "id": "9LW3S6DCe5gK",
    "cell_id": "00019-33ee5858-ce95-4c8d-ba00-dafad8b47953",
    "deepnote_to_be_reexecuted": false,
    "source_hash": "b623e53d",
    "execution_start": 1630098221331,
    "execution_millis": 1,
    "deepnote_cell_type": "code"
   },
   "source": "",
   "execution_count": 9,
   "outputs": []
  },
  {
   "cell_type": "markdown",
   "source": "<a style='text-decoration:none;line-height:16px;display:flex;color:#5B5B62;padding:10px;justify-content:end;' href='https://deepnote.com?utm_source=created-in-deepnote-cell&projectId=fe744348-fecc-4b7a-803c-44dba24ecb38' target=\"_blank\">\n<img alt='Created in deepnote.com' style='display:inline;max-height:16px;margin:0px;margin-right:7.5px;' src='data:image/svg+xml;base64,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' > </img>\nCreated in <span style='font-weight:600;margin-left:4px;'>Deepnote</span></a>",
   "metadata": {
    "tags": [],
    "created_in_deepnote_cell": true,
    "deepnote_cell_type": "markdown"
   }
  }
 ],
 "nbformat": 4,
 "nbformat_minor": 0,
 "metadata": {
  "kernelspec": {
   "display_name": "Python 2",
   "language": "python",
   "name": "python2"
  },
  "language_info": {
   "codemirror_mode": {
    "name": "ipython",
    "version": 2
   },
   "file_extension": ".py",
   "mimetype": "text/x-python",
   "name": "python",
   "nbconvert_exporter": "python",
   "pygments_lexer": "ipython2",
   "version": "2.7.11"
  },
  "colab": {
   "name": "Exercises.ipynb",
   "provenance": [],
   "collapsed_sections": []
  },
  "deepnote_notebook_id": "9332fa16-5d63-4e45-9c69-b6bc835f3d50",
  "deepnote": {},
  "deepnote_execution_queue": []
 }
}
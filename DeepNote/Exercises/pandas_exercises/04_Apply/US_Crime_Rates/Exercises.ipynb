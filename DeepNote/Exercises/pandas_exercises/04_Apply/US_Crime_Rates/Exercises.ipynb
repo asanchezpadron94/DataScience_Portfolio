{
 "cells": [
  {
   "cell_type": "markdown",
   "source": "# United States - Crime Rates - 1960 - 2014",
   "metadata": {
    "id": "qsR887I6oqHn",
    "cell_id": "00000-7f46b83c-ed37-4758-89d4-7c39f02e79f5",
    "deepnote_cell_type": "markdown"
   }
  },
  {
   "cell_type": "markdown",
   "source": "### Introduction:\n\nThis time you will create a data \n\nSpecial thanks to: https://github.com/justmarkham for sharing the dataset and materials.\n\n### Step 1. Import the necessary libraries",
   "metadata": {
    "id": "t8fDIBpCoqHn",
    "cell_id": "00001-c1bf6782-d96f-40ae-abcb-824a7e9a8a0e",
    "deepnote_cell_type": "markdown"
   }
  },
  {
   "cell_type": "code",
   "metadata": {
    "id": "W2Nn4gW9oqHo",
    "executionInfo": {
     "status": "ok",
     "timestamp": 1623721124550,
     "user_tz": 240,
     "elapsed": 730,
     "user": {
      "displayName": "Andrés Sánchez",
      "photoUrl": "https://lh3.googleusercontent.com/a-/AOh14Gg69bZMv30ckb-T1MJy0nSxWIHUaP0p2uP6MYBuvQ=s64",
      "userId": "07985253921366566280"
     }
    },
    "cell_id": "00002-a254e985-49f2-4c13-9972-207347e3709d",
    "deepnote_to_be_reexecuted": false,
    "source_hash": "c76c7c51",
    "execution_start": 1630097984125,
    "execution_millis": 7,
    "deepnote_cell_type": "code"
   },
   "source": "import pandas as pd\nimport numpy as np",
   "execution_count": 1,
   "outputs": []
  },
  {
   "cell_type": "code",
   "metadata": {
    "id": "iEK4QG4rpMgp",
    "executionInfo": {
     "status": "ok",
     "timestamp": 1623721124797,
     "user_tz": 240,
     "elapsed": 19,
     "user": {
      "displayName": "Andrés Sánchez",
      "photoUrl": "https://lh3.googleusercontent.com/a-/AOh14Gg69bZMv30ckb-T1MJy0nSxWIHUaP0p2uP6MYBuvQ=s64",
      "userId": "07985253921366566280"
     }
    },
    "cell_id": "00003-0e59110a-7bad-42ad-8b5e-3cbc71d71d45",
    "deepnote_to_be_reexecuted": false,
    "source_hash": "81c0e718",
    "execution_start": 1630097984135,
    "execution_millis": 1,
    "deepnote_cell_type": "code"
   },
   "source": "pd.options.display.float_format = '{:,.2f}'.format",
   "execution_count": 2,
   "outputs": []
  },
  {
   "cell_type": "markdown",
   "source": "### Step 2. Import the dataset from this [address](https://raw.githubusercontent.com/guipsamora/pandas_exercises/master/04_Apply/US_Crime_Rates/US_Crime_Rates_1960_2014.csv). ",
   "metadata": {
    "id": "5WqjdZxBoqHo",
    "cell_id": "00004-62f5f716-ccfe-4f8f-88a7-33bae0c262b0",
    "deepnote_cell_type": "markdown"
   }
  },
  {
   "cell_type": "markdown",
   "source": "### Step 3. Assign it to a variable called crime.",
   "metadata": {
    "id": "ULTlxRZNoqHo",
    "cell_id": "00005-b586ee9e-52b1-4867-9186-b483365cce39",
    "deepnote_cell_type": "markdown"
   }
  },
  {
   "cell_type": "code",
   "metadata": {
    "id": "GioRsi3KoqHp",
    "executionInfo": {
     "status": "ok",
     "timestamp": 1623721124797,
     "user_tz": 240,
     "elapsed": 18,
     "user": {
      "displayName": "Andrés Sánchez",
      "photoUrl": "https://lh3.googleusercontent.com/a-/AOh14Gg69bZMv30ckb-T1MJy0nSxWIHUaP0p2uP6MYBuvQ=s64",
      "userId": "07985253921366566280"
     }
    },
    "cell_id": "00006-f71f1b6b-d5ea-4e16-8ec8-446164b28650",
    "deepnote_to_be_reexecuted": false,
    "source_hash": "527ee7ee",
    "execution_start": 1630097984140,
    "execution_millis": 81,
    "deepnote_cell_type": "code"
   },
   "source": "crime = pd.read_csv('https://raw.githubusercontent.com/guipsamora/pandas_exercises/master/04_Apply/US_Crime_Rates/US_Crime_Rates_1960_2014.csv')",
   "execution_count": 3,
   "outputs": []
  },
  {
   "cell_type": "markdown",
   "source": "### Step 4. What is the type of the columns?",
   "metadata": {
    "id": "-hYnHlIBoqHp",
    "cell_id": "00007-c0b9e45d-8f0b-40d8-b3b0-5d988c3c4ed3",
    "deepnote_cell_type": "markdown"
   }
  },
  {
   "cell_type": "code",
   "metadata": {
    "colab": {
     "base_uri": "https://localhost:8080/"
    },
    "id": "KGBCOtQnoqHp",
    "executionInfo": {
     "status": "ok",
     "timestamp": 1623721124798,
     "user_tz": 240,
     "elapsed": 17,
     "user": {
      "displayName": "Andrés Sánchez",
      "photoUrl": "https://lh3.googleusercontent.com/a-/AOh14Gg69bZMv30ckb-T1MJy0nSxWIHUaP0p2uP6MYBuvQ=s64",
      "userId": "07985253921366566280"
     }
    },
    "outputId": "6402decf-3876-4e2b-bc14-bbeb537d3480",
    "cell_id": "00008-caaba711-a912-45f7-9d5d-38b2939c7867",
    "deepnote_to_be_reexecuted": false,
    "source_hash": "62a9be4b",
    "execution_start": 1630097984264,
    "execution_millis": 5,
    "deepnote_cell_type": "code"
   },
   "source": "crime.dtypes",
   "execution_count": 4,
   "outputs": [
    {
     "output_type": "execute_result",
     "execution_count": 4,
     "data": {
      "text/plain": "Year                  int64\nPopulation            int64\nTotal                 int64\nViolent               int64\nProperty              int64\nMurder                int64\nForcible_Rape         int64\nRobbery               int64\nAggravated_assault    int64\nBurglary              int64\nLarceny_Theft         int64\nVehicle_Theft         int64\ndtype: object"
     },
     "metadata": {}
    }
   ]
  },
  {
   "cell_type": "code",
   "metadata": {
    "colab": {
     "base_uri": "https://localhost:8080/",
     "height": 204
    },
    "id": "WWUmDj76uALS",
    "executionInfo": {
     "status": "ok",
     "timestamp": 1623721124799,
     "user_tz": 240,
     "elapsed": 17,
     "user": {
      "displayName": "Andrés Sánchez",
      "photoUrl": "https://lh3.googleusercontent.com/a-/AOh14Gg69bZMv30ckb-T1MJy0nSxWIHUaP0p2uP6MYBuvQ=s64",
      "userId": "07985253921366566280"
     }
    },
    "outputId": "395cd458-959c-4a9d-9316-4b0bb95c20f5",
    "cell_id": "00009-9acc1de4-d40a-4f63-8c33-e6c5d91e377c",
    "deepnote_to_be_reexecuted": false,
    "source_hash": "5500632f",
    "execution_start": 1630097984265,
    "execution_millis": 15,
    "deepnote_cell_type": "code"
   },
   "source": "crime.head(5)",
   "execution_count": 5,
   "outputs": [
    {
     "output_type": "execute_result",
     "execution_count": 5,
     "data": {
      "application/vnd.deepnote.dataframe.v2+json": {
       "row_count": 5,
       "column_count": 12,
       "columns": [
        {
         "name": "Year",
         "dtype": "int64",
         "stats": {
          "unique_count": 5,
          "nan_count": 0,
          "min": "1960",
          "max": "1964",
          "histogram": [
           {
            "bin_start": 1960,
            "bin_end": 1960.4,
            "count": 1
           },
           {
            "bin_start": 1960.4,
            "bin_end": 1960.8,
            "count": 0
           },
           {
            "bin_start": 1960.8,
            "bin_end": 1961.2,
            "count": 1
           },
           {
            "bin_start": 1961.2,
            "bin_end": 1961.6,
            "count": 0
           },
           {
            "bin_start": 1961.6,
            "bin_end": 1962,
            "count": 0
           },
           {
            "bin_start": 1962,
            "bin_end": 1962.4,
            "count": 1
           },
           {
            "bin_start": 1962.4,
            "bin_end": 1962.8,
            "count": 0
           },
           {
            "bin_start": 1962.8,
            "bin_end": 1963.2,
            "count": 1
           },
           {
            "bin_start": 1963.2,
            "bin_end": 1963.6,
            "count": 0
           },
           {
            "bin_start": 1963.6,
            "bin_end": 1964,
            "count": 1
           }
          ]
         }
        },
        {
         "name": "Population",
         "dtype": "int64",
         "stats": {
          "unique_count": 5,
          "nan_count": 0,
          "min": "179323175",
          "max": "191141000",
          "histogram": [
           {
            "bin_start": 179323175,
            "bin_end": 180504957.5,
            "count": 1
           },
           {
            "bin_start": 180504957.5,
            "bin_end": 181686740,
            "count": 0
           },
           {
            "bin_start": 181686740,
            "bin_end": 182868522.5,
            "count": 0
           },
           {
            "bin_start": 182868522.5,
            "bin_end": 184050305,
            "count": 1
           },
           {
            "bin_start": 184050305,
            "bin_end": 185232087.5,
            "count": 0
           },
           {
            "bin_start": 185232087.5,
            "bin_end": 186413870,
            "count": 1
           },
           {
            "bin_start": 186413870,
            "bin_end": 187595652.5,
            "count": 0
           },
           {
            "bin_start": 187595652.5,
            "bin_end": 188777435,
            "count": 1
           },
           {
            "bin_start": 188777435,
            "bin_end": 189959217.5,
            "count": 0
           },
           {
            "bin_start": 189959217.5,
            "bin_end": 191141000,
            "count": 1
           }
          ]
         }
        },
        {
         "name": "Total",
         "dtype": "int64",
         "stats": {
          "unique_count": 5,
          "nan_count": 0,
          "min": "3384200",
          "max": "4564600",
          "histogram": [
           {
            "bin_start": 3384200,
            "bin_end": 3502240,
            "count": 2
           },
           {
            "bin_start": 3502240,
            "bin_end": 3620280,
            "count": 0
           },
           {
            "bin_start": 3620280,
            "bin_end": 3738320,
            "count": 0
           },
           {
            "bin_start": 3738320,
            "bin_end": 3856360,
            "count": 1
           },
           {
            "bin_start": 3856360,
            "bin_end": 3974400,
            "count": 0
           },
           {
            "bin_start": 3974400,
            "bin_end": 4092440,
            "count": 0
           },
           {
            "bin_start": 4092440,
            "bin_end": 4210480,
            "count": 1
           },
           {
            "bin_start": 4210480,
            "bin_end": 4328520,
            "count": 0
           },
           {
            "bin_start": 4328520,
            "bin_end": 4446560,
            "count": 0
           },
           {
            "bin_start": 4446560,
            "bin_end": 4564600,
            "count": 1
           }
          ]
         }
        },
        {
         "name": "Violent",
         "dtype": "int64",
         "stats": {
          "unique_count": 5,
          "nan_count": 0,
          "min": "288460",
          "max": "364220",
          "histogram": [
           {
            "bin_start": 288460,
            "bin_end": 296036,
            "count": 2
           },
           {
            "bin_start": 296036,
            "bin_end": 303612,
            "count": 1
           },
           {
            "bin_start": 303612,
            "bin_end": 311188,
            "count": 0
           },
           {
            "bin_start": 311188,
            "bin_end": 318764,
            "count": 1
           },
           {
            "bin_start": 318764,
            "bin_end": 326340,
            "count": 0
           },
           {
            "bin_start": 326340,
            "bin_end": 333916,
            "count": 0
           },
           {
            "bin_start": 333916,
            "bin_end": 341492,
            "count": 0
           },
           {
            "bin_start": 341492,
            "bin_end": 349068,
            "count": 0
           },
           {
            "bin_start": 349068,
            "bin_end": 356644,
            "count": 0
           },
           {
            "bin_start": 356644,
            "bin_end": 364220,
            "count": 1
           }
          ]
         }
        },
        {
         "name": "Property",
         "dtype": "int64",
         "stats": {
          "unique_count": 5,
          "nan_count": 0,
          "min": "3095700",
          "max": "4200400",
          "histogram": [
           {
            "bin_start": 3095700,
            "bin_end": 3206170,
            "count": 2
           },
           {
            "bin_start": 3206170,
            "bin_end": 3316640,
            "count": 0
           },
           {
            "bin_start": 3316640,
            "bin_end": 3427110,
            "count": 0
           },
           {
            "bin_start": 3427110,
            "bin_end": 3537580,
            "count": 1
           },
           {
            "bin_start": 3537580,
            "bin_end": 3648050,
            "count": 0
           },
           {
            "bin_start": 3648050,
            "bin_end": 3758520,
            "count": 0
           },
           {
            "bin_start": 3758520,
            "bin_end": 3868990,
            "count": 1
           },
           {
            "bin_start": 3868990,
            "bin_end": 3979460,
            "count": 0
           },
           {
            "bin_start": 3979460,
            "bin_end": 4089930,
            "count": 0
           },
           {
            "bin_start": 4089930,
            "bin_end": 4200400,
            "count": 1
           }
          ]
         }
        },
        {
         "name": "Murder",
         "dtype": "int64",
         "stats": {
          "unique_count": 5,
          "nan_count": 0,
          "min": "8530",
          "max": "9360",
          "histogram": [
           {
            "bin_start": 8530,
            "bin_end": 8613,
            "count": 1
           },
           {
            "bin_start": 8613,
            "bin_end": 8696,
            "count": 1
           },
           {
            "bin_start": 8696,
            "bin_end": 8779,
            "count": 1
           },
           {
            "bin_start": 8779,
            "bin_end": 8862,
            "count": 0
           },
           {
            "bin_start": 8862,
            "bin_end": 8945,
            "count": 0
           },
           {
            "bin_start": 8945,
            "bin_end": 9028,
            "count": 0
           },
           {
            "bin_start": 9028,
            "bin_end": 9111,
            "count": 1
           },
           {
            "bin_start": 9111,
            "bin_end": 9194,
            "count": 0
           },
           {
            "bin_start": 9194,
            "bin_end": 9277,
            "count": 0
           },
           {
            "bin_start": 9277,
            "bin_end": 9360,
            "count": 1
           }
          ]
         }
        },
        {
         "name": "Forcible_Rape",
         "dtype": "int64",
         "stats": {
          "unique_count": 5,
          "nan_count": 0,
          "min": "17190",
          "max": "21420",
          "histogram": [
           {
            "bin_start": 17190,
            "bin_end": 17613,
            "count": 3
           },
           {
            "bin_start": 17613,
            "bin_end": 18036,
            "count": 1
           },
           {
            "bin_start": 18036,
            "bin_end": 18459,
            "count": 0
           },
           {
            "bin_start": 18459,
            "bin_end": 18882,
            "count": 0
           },
           {
            "bin_start": 18882,
            "bin_end": 19305,
            "count": 0
           },
           {
            "bin_start": 19305,
            "bin_end": 19728,
            "count": 0
           },
           {
            "bin_start": 19728,
            "bin_end": 20151,
            "count": 0
           },
           {
            "bin_start": 20151,
            "bin_end": 20574,
            "count": 0
           },
           {
            "bin_start": 20574,
            "bin_end": 20997,
            "count": 0
           },
           {
            "bin_start": 20997,
            "bin_end": 21420,
            "count": 1
           }
          ]
         }
        },
        {
         "name": "Robbery",
         "dtype": "int64",
         "stats": {
          "unique_count": 5,
          "nan_count": 0,
          "min": "106670",
          "max": "130390",
          "histogram": [
           {
            "bin_start": 106670,
            "bin_end": 109042,
            "count": 2
           },
           {
            "bin_start": 109042,
            "bin_end": 111414,
            "count": 1
           },
           {
            "bin_start": 111414,
            "bin_end": 113786,
            "count": 0
           },
           {
            "bin_start": 113786,
            "bin_end": 116158,
            "count": 0
           },
           {
            "bin_start": 116158,
            "bin_end": 118530,
            "count": 1
           },
           {
            "bin_start": 118530,
            "bin_end": 120902,
            "count": 0
           },
           {
            "bin_start": 120902,
            "bin_end": 123274,
            "count": 0
           },
           {
            "bin_start": 123274,
            "bin_end": 125646,
            "count": 0
           },
           {
            "bin_start": 125646,
            "bin_end": 128018,
            "count": 0
           },
           {
            "bin_start": 128018,
            "bin_end": 130390,
            "count": 1
           }
          ]
         }
        },
        {
         "name": "Aggravated_assault",
         "dtype": "int64",
         "stats": {
          "unique_count": 5,
          "nan_count": 0,
          "min": "154320",
          "max": "203050",
          "histogram": [
           {
            "bin_start": 154320,
            "bin_end": 159193,
            "count": 2
           },
           {
            "bin_start": 159193,
            "bin_end": 164066,
            "count": 0
           },
           {
            "bin_start": 164066,
            "bin_end": 168939,
            "count": 1
           },
           {
            "bin_start": 168939,
            "bin_end": 173812,
            "count": 0
           },
           {
            "bin_start": 173812,
            "bin_end": 178685,
            "count": 1
           },
           {
            "bin_start": 178685,
            "bin_end": 183558,
            "count": 0
           },
           {
            "bin_start": 183558,
            "bin_end": 188431,
            "count": 0
           },
           {
            "bin_start": 188431,
            "bin_end": 193304,
            "count": 0
           },
           {
            "bin_start": 193304,
            "bin_end": 198177,
            "count": 0
           },
           {
            "bin_start": 198177,
            "bin_end": 203050,
            "count": 1
           }
          ]
         }
        },
        {
         "name": "Burglary",
         "dtype": "int64",
         "stats": {
          "unique_count": 5,
          "nan_count": 0,
          "min": "912100",
          "max": "1213200",
          "histogram": [
           {
            "bin_start": 912100,
            "bin_end": 942210,
            "count": 1
           },
           {
            "bin_start": 942210,
            "bin_end": 972320,
            "count": 1
           },
           {
            "bin_start": 972320,
            "bin_end": 1002430,
            "count": 1
           },
           {
            "bin_start": 1002430,
            "bin_end": 1032540,
            "count": 0
           },
           {
            "bin_start": 1032540,
            "bin_end": 1062650,
            "count": 0
           },
           {
            "bin_start": 1062650,
            "bin_end": 1092760,
            "count": 1
           },
           {
            "bin_start": 1092760,
            "bin_end": 1122870,
            "count": 0
           },
           {
            "bin_start": 1122870,
            "bin_end": 1152980,
            "count": 0
           },
           {
            "bin_start": 1152980,
            "bin_end": 1183090,
            "count": 0
           },
           {
            "bin_start": 1183090,
            "bin_end": 1213200,
            "count": 1
           }
          ]
         }
        },
        {
         "name": "Larceny_Theft",
         "dtype": "int64",
         "stats": {
          "unique_count": 5,
          "nan_count": 0,
          "min": "1855400",
          "max": "2514400",
          "histogram": [
           {
            "bin_start": 1855400,
            "bin_end": 1921300,
            "count": 2
           },
           {
            "bin_start": 1921300,
            "bin_end": 1987200,
            "count": 0
           },
           {
            "bin_start": 1987200,
            "bin_end": 2053100,
            "count": 0
           },
           {
            "bin_start": 2053100,
            "bin_end": 2119000,
            "count": 1
           },
           {
            "bin_start": 2119000,
            "bin_end": 2184900,
            "count": 0
           },
           {
            "bin_start": 2184900,
            "bin_end": 2250800,
            "count": 0
           },
           {
            "bin_start": 2250800,
            "bin_end": 2316700,
            "count": 1
           },
           {
            "bin_start": 2316700,
            "bin_end": 2382600,
            "count": 0
           },
           {
            "bin_start": 2382600,
            "bin_end": 2448500,
            "count": 0
           },
           {
            "bin_start": 2448500,
            "bin_end": 2514400,
            "count": 1
           }
          ]
         }
        },
        {
         "name": "Vehicle_Theft",
         "dtype": "int64",
         "stats": {
          "unique_count": 5,
          "nan_count": 0,
          "min": "328200",
          "max": "472800",
          "histogram": [
           {
            "bin_start": 328200,
            "bin_end": 342660,
            "count": 2
           },
           {
            "bin_start": 342660,
            "bin_end": 357120,
            "count": 0
           },
           {
            "bin_start": 357120,
            "bin_end": 371580,
            "count": 1
           },
           {
            "bin_start": 371580,
            "bin_end": 386040,
            "count": 0
           },
           {
            "bin_start": 386040,
            "bin_end": 400500,
            "count": 0
           },
           {
            "bin_start": 400500,
            "bin_end": 414960,
            "count": 1
           },
           {
            "bin_start": 414960,
            "bin_end": 429420,
            "count": 0
           },
           {
            "bin_start": 429420,
            "bin_end": 443880,
            "count": 0
           },
           {
            "bin_start": 443880,
            "bin_end": 458340,
            "count": 0
           },
           {
            "bin_start": 458340,
            "bin_end": 472800,
            "count": 1
           }
          ]
         }
        },
        {
         "name": "_deepnote_index_column",
         "dtype": "int64"
        }
       ],
       "rows_top": [
        {
         "Year": 1960,
         "Population": 179323175,
         "Total": 3384200,
         "Violent": 288460,
         "Property": 3095700,
         "Murder": 9110,
         "Forcible_Rape": 17190,
         "Robbery": 107840,
         "Aggravated_assault": 154320,
         "Burglary": 912100,
         "Larceny_Theft": 1855400,
         "Vehicle_Theft": 328200,
         "_deepnote_index_column": 0
        },
        {
         "Year": 1961,
         "Population": 182992000,
         "Total": 3488000,
         "Violent": 289390,
         "Property": 3198600,
         "Murder": 8740,
         "Forcible_Rape": 17220,
         "Robbery": 106670,
         "Aggravated_assault": 156760,
         "Burglary": 949600,
         "Larceny_Theft": 1913000,
         "Vehicle_Theft": 336000,
         "_deepnote_index_column": 1
        },
        {
         "Year": 1962,
         "Population": 185771000,
         "Total": 3752200,
         "Violent": 301510,
         "Property": 3450700,
         "Murder": 8530,
         "Forcible_Rape": 17550,
         "Robbery": 110860,
         "Aggravated_assault": 164570,
         "Burglary": 994300,
         "Larceny_Theft": 2089600,
         "Vehicle_Theft": 366800,
         "_deepnote_index_column": 2
        },
        {
         "Year": 1963,
         "Population": 188483000,
         "Total": 4109500,
         "Violent": 316970,
         "Property": 3792500,
         "Murder": 8640,
         "Forcible_Rape": 17650,
         "Robbery": 116470,
         "Aggravated_assault": 174210,
         "Burglary": 1086400,
         "Larceny_Theft": 2297800,
         "Vehicle_Theft": 408300,
         "_deepnote_index_column": 3
        },
        {
         "Year": 1964,
         "Population": 191141000,
         "Total": 4564600,
         "Violent": 364220,
         "Property": 4200400,
         "Murder": 9360,
         "Forcible_Rape": 21420,
         "Robbery": 130390,
         "Aggravated_assault": 203050,
         "Burglary": 1213200,
         "Larceny_Theft": 2514400,
         "Vehicle_Theft": 472800,
         "_deepnote_index_column": 4
        }
       ],
       "rows_bottom": null
      },
      "text/plain": "   Year  Population    Total  Violent  Property  Murder  Forcible_Rape  \\\n0  1960   179323175  3384200   288460   3095700    9110          17190   \n1  1961   182992000  3488000   289390   3198600    8740          17220   \n2  1962   185771000  3752200   301510   3450700    8530          17550   \n3  1963   188483000  4109500   316970   3792500    8640          17650   \n4  1964   191141000  4564600   364220   4200400    9360          21420   \n\n   Robbery  Aggravated_assault  Burglary  Larceny_Theft  Vehicle_Theft  \n0   107840              154320    912100        1855400         328200  \n1   106670              156760    949600        1913000         336000  \n2   110860              164570    994300        2089600         366800  \n3   116470              174210   1086400        2297800         408300  \n4   130390              203050   1213200        2514400         472800  ",
      "text/html": "<div>\n<style scoped>\n    .dataframe tbody tr th:only-of-type {\n        vertical-align: middle;\n    }\n\n    .dataframe tbody tr th {\n        vertical-align: top;\n    }\n\n    .dataframe thead th {\n        text-align: right;\n    }\n</style>\n<table border=\"1\" class=\"dataframe\">\n  <thead>\n    <tr style=\"text-align: right;\">\n      <th></th>\n      <th>Year</th>\n      <th>Population</th>\n      <th>Total</th>\n      <th>Violent</th>\n      <th>Property</th>\n      <th>Murder</th>\n      <th>Forcible_Rape</th>\n      <th>Robbery</th>\n      <th>Aggravated_assault</th>\n      <th>Burglary</th>\n      <th>Larceny_Theft</th>\n      <th>Vehicle_Theft</th>\n    </tr>\n  </thead>\n  <tbody>\n    <tr>\n      <th>0</th>\n      <td>1960</td>\n      <td>179323175</td>\n      <td>3384200</td>\n      <td>288460</td>\n      <td>3095700</td>\n      <td>9110</td>\n      <td>17190</td>\n      <td>107840</td>\n      <td>154320</td>\n      <td>912100</td>\n      <td>1855400</td>\n      <td>328200</td>\n    </tr>\n    <tr>\n      <th>1</th>\n      <td>1961</td>\n      <td>182992000</td>\n      <td>3488000</td>\n      <td>289390</td>\n      <td>3198600</td>\n      <td>8740</td>\n      <td>17220</td>\n      <td>106670</td>\n      <td>156760</td>\n      <td>949600</td>\n      <td>1913000</td>\n      <td>336000</td>\n    </tr>\n    <tr>\n      <th>2</th>\n      <td>1962</td>\n      <td>185771000</td>\n      <td>3752200</td>\n      <td>301510</td>\n      <td>3450700</td>\n      <td>8530</td>\n      <td>17550</td>\n      <td>110860</td>\n      <td>164570</td>\n      <td>994300</td>\n      <td>2089600</td>\n      <td>366800</td>\n    </tr>\n    <tr>\n      <th>3</th>\n      <td>1963</td>\n      <td>188483000</td>\n      <td>4109500</td>\n      <td>316970</td>\n      <td>3792500</td>\n      <td>8640</td>\n      <td>17650</td>\n      <td>116470</td>\n      <td>174210</td>\n      <td>1086400</td>\n      <td>2297800</td>\n      <td>408300</td>\n    </tr>\n    <tr>\n      <th>4</th>\n      <td>1964</td>\n      <td>191141000</td>\n      <td>4564600</td>\n      <td>364220</td>\n      <td>4200400</td>\n      <td>9360</td>\n      <td>21420</td>\n      <td>130390</td>\n      <td>203050</td>\n      <td>1213200</td>\n      <td>2514400</td>\n      <td>472800</td>\n    </tr>\n  </tbody>\n</table>\n</div>"
     },
     "metadata": {}
    }
   ]
  },
  {
   "cell_type": "markdown",
   "source": "##### Have you noticed that the type of Year is int64. But pandas has a different type to work with Time Series. Let's see it now.\n\n### Step 5. Convert the type of the column Year to datetime64",
   "metadata": {
    "id": "lg4mbkKcoqHp",
    "cell_id": "00010-21bd1829-11d4-4ca4-8ecc-59b74a03d50d",
    "deepnote_cell_type": "markdown"
   }
  },
  {
   "cell_type": "code",
   "metadata": {
    "colab": {
     "base_uri": "https://localhost:8080/"
    },
    "id": "6Sa6rZxUoqHq",
    "executionInfo": {
     "status": "ok",
     "timestamp": 1623721124799,
     "user_tz": 240,
     "elapsed": 15,
     "user": {
      "displayName": "Andrés Sánchez",
      "photoUrl": "https://lh3.googleusercontent.com/a-/AOh14Gg69bZMv30ckb-T1MJy0nSxWIHUaP0p2uP6MYBuvQ=s64",
      "userId": "07985253921366566280"
     }
    },
    "outputId": "51eb3af5-79d6-4893-fff1-2d3c6bb73b29",
    "cell_id": "00011-1572ec79-04b6-4b11-a574-fea3ab4bd731",
    "deepnote_to_be_reexecuted": false,
    "source_hash": "d2dd8c76",
    "execution_start": 1630097984277,
    "execution_millis": 20,
    "deepnote_cell_type": "code"
   },
   "source": "crime['Year'] = pd.to_datetime(crime['Year'], format = '%Y')\ncrime.dtypes",
   "execution_count": 6,
   "outputs": [
    {
     "output_type": "execute_result",
     "execution_count": 6,
     "data": {
      "text/plain": "Year                  datetime64[ns]\nPopulation                     int64\nTotal                          int64\nViolent                        int64\nProperty                       int64\nMurder                         int64\nForcible_Rape                  int64\nRobbery                        int64\nAggravated_assault             int64\nBurglary                       int64\nLarceny_Theft                  int64\nVehicle_Theft                  int64\ndtype: object"
     },
     "metadata": {}
    }
   ]
  },
  {
   "cell_type": "markdown",
   "source": "### Step 6. Set the Year column as the index of the dataframe",
   "metadata": {
    "id": "vplxrEw6oqHq",
    "cell_id": "00012-2b1a895b-3986-49f3-a68f-11f9e80f322e",
    "deepnote_cell_type": "markdown"
   }
  },
  {
   "cell_type": "code",
   "metadata": {
    "id": "V_uXAclxoqHq",
    "executionInfo": {
     "status": "ok",
     "timestamp": 1623721124799,
     "user_tz": 240,
     "elapsed": 13,
     "user": {
      "displayName": "Andrés Sánchez",
      "photoUrl": "https://lh3.googleusercontent.com/a-/AOh14Gg69bZMv30ckb-T1MJy0nSxWIHUaP0p2uP6MYBuvQ=s64",
      "userId": "07985253921366566280"
     }
    },
    "cell_id": "00013-c14839dd-a48b-4995-8344-43b163fd49d7",
    "deepnote_to_be_reexecuted": false,
    "source_hash": "fbfb5616",
    "execution_start": 1630097984286,
    "execution_millis": 3,
    "deepnote_cell_type": "code"
   },
   "source": "crime = crime.set_index('Year', drop = True)",
   "execution_count": 7,
   "outputs": []
  },
  {
   "cell_type": "markdown",
   "source": "### Step 7. Delete the Total column",
   "metadata": {
    "id": "HCXBhTgooqHr",
    "cell_id": "00014-d6c07254-c7ac-46a3-8d0f-ba7f7e9bd040",
    "deepnote_cell_type": "markdown"
   }
  },
  {
   "cell_type": "code",
   "metadata": {
    "colab": {
     "base_uri": "https://localhost:8080/",
     "height": 235
    },
    "id": "8JKcfcZsoqHr",
    "executionInfo": {
     "status": "ok",
     "timestamp": 1623721124800,
     "user_tz": 240,
     "elapsed": 14,
     "user": {
      "displayName": "Andrés Sánchez",
      "photoUrl": "https://lh3.googleusercontent.com/a-/AOh14Gg69bZMv30ckb-T1MJy0nSxWIHUaP0p2uP6MYBuvQ=s64",
      "userId": "07985253921366566280"
     }
    },
    "outputId": "f0132b9c-1616-4007-ba4b-5abd8854e5a7",
    "cell_id": "00015-83db2575-8093-4014-acd1-07e037f64f28",
    "deepnote_to_be_reexecuted": false,
    "source_hash": "5500632f",
    "execution_start": 1630097984293,
    "execution_millis": 38,
    "deepnote_cell_type": "code"
   },
   "source": "crime.head(5)",
   "execution_count": 8,
   "outputs": [
    {
     "output_type": "execute_result",
     "execution_count": 8,
     "data": {
      "application/vnd.deepnote.dataframe.v2+json": {
       "row_count": 5,
       "column_count": 11,
       "columns": [
        {
         "name": "Population",
         "dtype": "int64",
         "stats": {
          "unique_count": 5,
          "nan_count": 0,
          "min": "179323175",
          "max": "191141000",
          "histogram": [
           {
            "bin_start": 179323175,
            "bin_end": 180504957.5,
            "count": 1
           },
           {
            "bin_start": 180504957.5,
            "bin_end": 181686740,
            "count": 0
           },
           {
            "bin_start": 181686740,
            "bin_end": 182868522.5,
            "count": 0
           },
           {
            "bin_start": 182868522.5,
            "bin_end": 184050305,
            "count": 1
           },
           {
            "bin_start": 184050305,
            "bin_end": 185232087.5,
            "count": 0
           },
           {
            "bin_start": 185232087.5,
            "bin_end": 186413870,
            "count": 1
           },
           {
            "bin_start": 186413870,
            "bin_end": 187595652.5,
            "count": 0
           },
           {
            "bin_start": 187595652.5,
            "bin_end": 188777435,
            "count": 1
           },
           {
            "bin_start": 188777435,
            "bin_end": 189959217.5,
            "count": 0
           },
           {
            "bin_start": 189959217.5,
            "bin_end": 191141000,
            "count": 1
           }
          ]
         }
        },
        {
         "name": "Total",
         "dtype": "int64",
         "stats": {
          "unique_count": 5,
          "nan_count": 0,
          "min": "3384200",
          "max": "4564600",
          "histogram": [
           {
            "bin_start": 3384200,
            "bin_end": 3502240,
            "count": 2
           },
           {
            "bin_start": 3502240,
            "bin_end": 3620280,
            "count": 0
           },
           {
            "bin_start": 3620280,
            "bin_end": 3738320,
            "count": 0
           },
           {
            "bin_start": 3738320,
            "bin_end": 3856360,
            "count": 1
           },
           {
            "bin_start": 3856360,
            "bin_end": 3974400,
            "count": 0
           },
           {
            "bin_start": 3974400,
            "bin_end": 4092440,
            "count": 0
           },
           {
            "bin_start": 4092440,
            "bin_end": 4210480,
            "count": 1
           },
           {
            "bin_start": 4210480,
            "bin_end": 4328520,
            "count": 0
           },
           {
            "bin_start": 4328520,
            "bin_end": 4446560,
            "count": 0
           },
           {
            "bin_start": 4446560,
            "bin_end": 4564600,
            "count": 1
           }
          ]
         }
        },
        {
         "name": "Violent",
         "dtype": "int64",
         "stats": {
          "unique_count": 5,
          "nan_count": 0,
          "min": "288460",
          "max": "364220",
          "histogram": [
           {
            "bin_start": 288460,
            "bin_end": 296036,
            "count": 2
           },
           {
            "bin_start": 296036,
            "bin_end": 303612,
            "count": 1
           },
           {
            "bin_start": 303612,
            "bin_end": 311188,
            "count": 0
           },
           {
            "bin_start": 311188,
            "bin_end": 318764,
            "count": 1
           },
           {
            "bin_start": 318764,
            "bin_end": 326340,
            "count": 0
           },
           {
            "bin_start": 326340,
            "bin_end": 333916,
            "count": 0
           },
           {
            "bin_start": 333916,
            "bin_end": 341492,
            "count": 0
           },
           {
            "bin_start": 341492,
            "bin_end": 349068,
            "count": 0
           },
           {
            "bin_start": 349068,
            "bin_end": 356644,
            "count": 0
           },
           {
            "bin_start": 356644,
            "bin_end": 364220,
            "count": 1
           }
          ]
         }
        },
        {
         "name": "Property",
         "dtype": "int64",
         "stats": {
          "unique_count": 5,
          "nan_count": 0,
          "min": "3095700",
          "max": "4200400",
          "histogram": [
           {
            "bin_start": 3095700,
            "bin_end": 3206170,
            "count": 2
           },
           {
            "bin_start": 3206170,
            "bin_end": 3316640,
            "count": 0
           },
           {
            "bin_start": 3316640,
            "bin_end": 3427110,
            "count": 0
           },
           {
            "bin_start": 3427110,
            "bin_end": 3537580,
            "count": 1
           },
           {
            "bin_start": 3537580,
            "bin_end": 3648050,
            "count": 0
           },
           {
            "bin_start": 3648050,
            "bin_end": 3758520,
            "count": 0
           },
           {
            "bin_start": 3758520,
            "bin_end": 3868990,
            "count": 1
           },
           {
            "bin_start": 3868990,
            "bin_end": 3979460,
            "count": 0
           },
           {
            "bin_start": 3979460,
            "bin_end": 4089930,
            "count": 0
           },
           {
            "bin_start": 4089930,
            "bin_end": 4200400,
            "count": 1
           }
          ]
         }
        },
        {
         "name": "Murder",
         "dtype": "int64",
         "stats": {
          "unique_count": 5,
          "nan_count": 0,
          "min": "8530",
          "max": "9360",
          "histogram": [
           {
            "bin_start": 8530,
            "bin_end": 8613,
            "count": 1
           },
           {
            "bin_start": 8613,
            "bin_end": 8696,
            "count": 1
           },
           {
            "bin_start": 8696,
            "bin_end": 8779,
            "count": 1
           },
           {
            "bin_start": 8779,
            "bin_end": 8862,
            "count": 0
           },
           {
            "bin_start": 8862,
            "bin_end": 8945,
            "count": 0
           },
           {
            "bin_start": 8945,
            "bin_end": 9028,
            "count": 0
           },
           {
            "bin_start": 9028,
            "bin_end": 9111,
            "count": 1
           },
           {
            "bin_start": 9111,
            "bin_end": 9194,
            "count": 0
           },
           {
            "bin_start": 9194,
            "bin_end": 9277,
            "count": 0
           },
           {
            "bin_start": 9277,
            "bin_end": 9360,
            "count": 1
           }
          ]
         }
        },
        {
         "name": "Forcible_Rape",
         "dtype": "int64",
         "stats": {
          "unique_count": 5,
          "nan_count": 0,
          "min": "17190",
          "max": "21420",
          "histogram": [
           {
            "bin_start": 17190,
            "bin_end": 17613,
            "count": 3
           },
           {
            "bin_start": 17613,
            "bin_end": 18036,
            "count": 1
           },
           {
            "bin_start": 18036,
            "bin_end": 18459,
            "count": 0
           },
           {
            "bin_start": 18459,
            "bin_end": 18882,
            "count": 0
           },
           {
            "bin_start": 18882,
            "bin_end": 19305,
            "count": 0
           },
           {
            "bin_start": 19305,
            "bin_end": 19728,
            "count": 0
           },
           {
            "bin_start": 19728,
            "bin_end": 20151,
            "count": 0
           },
           {
            "bin_start": 20151,
            "bin_end": 20574,
            "count": 0
           },
           {
            "bin_start": 20574,
            "bin_end": 20997,
            "count": 0
           },
           {
            "bin_start": 20997,
            "bin_end": 21420,
            "count": 1
           }
          ]
         }
        },
        {
         "name": "Robbery",
         "dtype": "int64",
         "stats": {
          "unique_count": 5,
          "nan_count": 0,
          "min": "106670",
          "max": "130390",
          "histogram": [
           {
            "bin_start": 106670,
            "bin_end": 109042,
            "count": 2
           },
           {
            "bin_start": 109042,
            "bin_end": 111414,
            "count": 1
           },
           {
            "bin_start": 111414,
            "bin_end": 113786,
            "count": 0
           },
           {
            "bin_start": 113786,
            "bin_end": 116158,
            "count": 0
           },
           {
            "bin_start": 116158,
            "bin_end": 118530,
            "count": 1
           },
           {
            "bin_start": 118530,
            "bin_end": 120902,
            "count": 0
           },
           {
            "bin_start": 120902,
            "bin_end": 123274,
            "count": 0
           },
           {
            "bin_start": 123274,
            "bin_end": 125646,
            "count": 0
           },
           {
            "bin_start": 125646,
            "bin_end": 128018,
            "count": 0
           },
           {
            "bin_start": 128018,
            "bin_end": 130390,
            "count": 1
           }
          ]
         }
        },
        {
         "name": "Aggravated_assault",
         "dtype": "int64",
         "stats": {
          "unique_count": 5,
          "nan_count": 0,
          "min": "154320",
          "max": "203050",
          "histogram": [
           {
            "bin_start": 154320,
            "bin_end": 159193,
            "count": 2
           },
           {
            "bin_start": 159193,
            "bin_end": 164066,
            "count": 0
           },
           {
            "bin_start": 164066,
            "bin_end": 168939,
            "count": 1
           },
           {
            "bin_start": 168939,
            "bin_end": 173812,
            "count": 0
           },
           {
            "bin_start": 173812,
            "bin_end": 178685,
            "count": 1
           },
           {
            "bin_start": 178685,
            "bin_end": 183558,
            "count": 0
           },
           {
            "bin_start": 183558,
            "bin_end": 188431,
            "count": 0
           },
           {
            "bin_start": 188431,
            "bin_end": 193304,
            "count": 0
           },
           {
            "bin_start": 193304,
            "bin_end": 198177,
            "count": 0
           },
           {
            "bin_start": 198177,
            "bin_end": 203050,
            "count": 1
           }
          ]
         }
        },
        {
         "name": "Burglary",
         "dtype": "int64",
         "stats": {
          "unique_count": 5,
          "nan_count": 0,
          "min": "912100",
          "max": "1213200",
          "histogram": [
           {
            "bin_start": 912100,
            "bin_end": 942210,
            "count": 1
           },
           {
            "bin_start": 942210,
            "bin_end": 972320,
            "count": 1
           },
           {
            "bin_start": 972320,
            "bin_end": 1002430,
            "count": 1
           },
           {
            "bin_start": 1002430,
            "bin_end": 1032540,
            "count": 0
           },
           {
            "bin_start": 1032540,
            "bin_end": 1062650,
            "count": 0
           },
           {
            "bin_start": 1062650,
            "bin_end": 1092760,
            "count": 1
           },
           {
            "bin_start": 1092760,
            "bin_end": 1122870,
            "count": 0
           },
           {
            "bin_start": 1122870,
            "bin_end": 1152980,
            "count": 0
           },
           {
            "bin_start": 1152980,
            "bin_end": 1183090,
            "count": 0
           },
           {
            "bin_start": 1183090,
            "bin_end": 1213200,
            "count": 1
           }
          ]
         }
        },
        {
         "name": "Larceny_Theft",
         "dtype": "int64",
         "stats": {
          "unique_count": 5,
          "nan_count": 0,
          "min": "1855400",
          "max": "2514400",
          "histogram": [
           {
            "bin_start": 1855400,
            "bin_end": 1921300,
            "count": 2
           },
           {
            "bin_start": 1921300,
            "bin_end": 1987200,
            "count": 0
           },
           {
            "bin_start": 1987200,
            "bin_end": 2053100,
            "count": 0
           },
           {
            "bin_start": 2053100,
            "bin_end": 2119000,
            "count": 1
           },
           {
            "bin_start": 2119000,
            "bin_end": 2184900,
            "count": 0
           },
           {
            "bin_start": 2184900,
            "bin_end": 2250800,
            "count": 0
           },
           {
            "bin_start": 2250800,
            "bin_end": 2316700,
            "count": 1
           },
           {
            "bin_start": 2316700,
            "bin_end": 2382600,
            "count": 0
           },
           {
            "bin_start": 2382600,
            "bin_end": 2448500,
            "count": 0
           },
           {
            "bin_start": 2448500,
            "bin_end": 2514400,
            "count": 1
           }
          ]
         }
        },
        {
         "name": "Vehicle_Theft",
         "dtype": "int64",
         "stats": {
          "unique_count": 5,
          "nan_count": 0,
          "min": "328200",
          "max": "472800",
          "histogram": [
           {
            "bin_start": 328200,
            "bin_end": 342660,
            "count": 2
           },
           {
            "bin_start": 342660,
            "bin_end": 357120,
            "count": 0
           },
           {
            "bin_start": 357120,
            "bin_end": 371580,
            "count": 1
           },
           {
            "bin_start": 371580,
            "bin_end": 386040,
            "count": 0
           },
           {
            "bin_start": 386040,
            "bin_end": 400500,
            "count": 0
           },
           {
            "bin_start": 400500,
            "bin_end": 414960,
            "count": 1
           },
           {
            "bin_start": 414960,
            "bin_end": 429420,
            "count": 0
           },
           {
            "bin_start": 429420,
            "bin_end": 443880,
            "count": 0
           },
           {
            "bin_start": 443880,
            "bin_end": 458340,
            "count": 0
           },
           {
            "bin_start": 458340,
            "bin_end": 472800,
            "count": 1
           }
          ]
         }
        },
        {
         "name": "_deepnote_index_column",
         "dtype": "datetime64[ns]"
        }
       ],
       "rows_top": [
        {
         "Population": 179323175,
         "Total": 3384200,
         "Violent": 288460,
         "Property": 3095700,
         "Murder": 9110,
         "Forcible_Rape": 17190,
         "Robbery": 107840,
         "Aggravated_assault": 154320,
         "Burglary": 912100,
         "Larceny_Theft": 1855400,
         "Vehicle_Theft": 328200,
         "_deepnote_index_column": "1960-01-01T00:00:00.000000"
        },
        {
         "Population": 182992000,
         "Total": 3488000,
         "Violent": 289390,
         "Property": 3198600,
         "Murder": 8740,
         "Forcible_Rape": 17220,
         "Robbery": 106670,
         "Aggravated_assault": 156760,
         "Burglary": 949600,
         "Larceny_Theft": 1913000,
         "Vehicle_Theft": 336000,
         "_deepnote_index_column": "1961-01-01T00:00:00.000000"
        },
        {
         "Population": 185771000,
         "Total": 3752200,
         "Violent": 301510,
         "Property": 3450700,
         "Murder": 8530,
         "Forcible_Rape": 17550,
         "Robbery": 110860,
         "Aggravated_assault": 164570,
         "Burglary": 994300,
         "Larceny_Theft": 2089600,
         "Vehicle_Theft": 366800,
         "_deepnote_index_column": "1962-01-01T00:00:00.000000"
        },
        {
         "Population": 188483000,
         "Total": 4109500,
         "Violent": 316970,
         "Property": 3792500,
         "Murder": 8640,
         "Forcible_Rape": 17650,
         "Robbery": 116470,
         "Aggravated_assault": 174210,
         "Burglary": 1086400,
         "Larceny_Theft": 2297800,
         "Vehicle_Theft": 408300,
         "_deepnote_index_column": "1963-01-01T00:00:00.000000"
        },
        {
         "Population": 191141000,
         "Total": 4564600,
         "Violent": 364220,
         "Property": 4200400,
         "Murder": 9360,
         "Forcible_Rape": 21420,
         "Robbery": 130390,
         "Aggravated_assault": 203050,
         "Burglary": 1213200,
         "Larceny_Theft": 2514400,
         "Vehicle_Theft": 472800,
         "_deepnote_index_column": "1964-01-01T00:00:00.000000"
        }
       ],
       "rows_bottom": null
      },
      "text/plain": "            Population    Total  Violent  Property  Murder  Forcible_Rape  \\\nYear                                                                        \n1960-01-01   179323175  3384200   288460   3095700    9110          17190   \n1961-01-01   182992000  3488000   289390   3198600    8740          17220   \n1962-01-01   185771000  3752200   301510   3450700    8530          17550   \n1963-01-01   188483000  4109500   316970   3792500    8640          17650   \n1964-01-01   191141000  4564600   364220   4200400    9360          21420   \n\n            Robbery  Aggravated_assault  Burglary  Larceny_Theft  \\\nYear                                                               \n1960-01-01   107840              154320    912100        1855400   \n1961-01-01   106670              156760    949600        1913000   \n1962-01-01   110860              164570    994300        2089600   \n1963-01-01   116470              174210   1086400        2297800   \n1964-01-01   130390              203050   1213200        2514400   \n\n            Vehicle_Theft  \nYear                       \n1960-01-01         328200  \n1961-01-01         336000  \n1962-01-01         366800  \n1963-01-01         408300  \n1964-01-01         472800  ",
      "text/html": "<div>\n<style scoped>\n    .dataframe tbody tr th:only-of-type {\n        vertical-align: middle;\n    }\n\n    .dataframe tbody tr th {\n        vertical-align: top;\n    }\n\n    .dataframe thead th {\n        text-align: right;\n    }\n</style>\n<table border=\"1\" class=\"dataframe\">\n  <thead>\n    <tr style=\"text-align: right;\">\n      <th></th>\n      <th>Population</th>\n      <th>Total</th>\n      <th>Violent</th>\n      <th>Property</th>\n      <th>Murder</th>\n      <th>Forcible_Rape</th>\n      <th>Robbery</th>\n      <th>Aggravated_assault</th>\n      <th>Burglary</th>\n      <th>Larceny_Theft</th>\n      <th>Vehicle_Theft</th>\n    </tr>\n    <tr>\n      <th>Year</th>\n      <th></th>\n      <th></th>\n      <th></th>\n      <th></th>\n      <th></th>\n      <th></th>\n      <th></th>\n      <th></th>\n      <th></th>\n      <th></th>\n      <th></th>\n    </tr>\n  </thead>\n  <tbody>\n    <tr>\n      <th>1960-01-01</th>\n      <td>179323175</td>\n      <td>3384200</td>\n      <td>288460</td>\n      <td>3095700</td>\n      <td>9110</td>\n      <td>17190</td>\n      <td>107840</td>\n      <td>154320</td>\n      <td>912100</td>\n      <td>1855400</td>\n      <td>328200</td>\n    </tr>\n    <tr>\n      <th>1961-01-01</th>\n      <td>182992000</td>\n      <td>3488000</td>\n      <td>289390</td>\n      <td>3198600</td>\n      <td>8740</td>\n      <td>17220</td>\n      <td>106670</td>\n      <td>156760</td>\n      <td>949600</td>\n      <td>1913000</td>\n      <td>336000</td>\n    </tr>\n    <tr>\n      <th>1962-01-01</th>\n      <td>185771000</td>\n      <td>3752200</td>\n      <td>301510</td>\n      <td>3450700</td>\n      <td>8530</td>\n      <td>17550</td>\n      <td>110860</td>\n      <td>164570</td>\n      <td>994300</td>\n      <td>2089600</td>\n      <td>366800</td>\n    </tr>\n    <tr>\n      <th>1963-01-01</th>\n      <td>188483000</td>\n      <td>4109500</td>\n      <td>316970</td>\n      <td>3792500</td>\n      <td>8640</td>\n      <td>17650</td>\n      <td>116470</td>\n      <td>174210</td>\n      <td>1086400</td>\n      <td>2297800</td>\n      <td>408300</td>\n    </tr>\n    <tr>\n      <th>1964-01-01</th>\n      <td>191141000</td>\n      <td>4564600</td>\n      <td>364220</td>\n      <td>4200400</td>\n      <td>9360</td>\n      <td>21420</td>\n      <td>130390</td>\n      <td>203050</td>\n      <td>1213200</td>\n      <td>2514400</td>\n      <td>472800</td>\n    </tr>\n  </tbody>\n</table>\n</div>"
     },
     "metadata": {}
    }
   ]
  },
  {
   "cell_type": "markdown",
   "source": "### Step 8. Group the year by decades and sum the values\n\n#### Pay attention to the Population column number, summing this column is a mistake",
   "metadata": {
    "id": "Uh5K4L9qoqHr",
    "cell_id": "00016-32d821c3-c387-4567-a53d-b13869702de6",
    "deepnote_cell_type": "markdown"
   }
  },
  {
   "cell_type": "code",
   "metadata": {
    "id": "eGt03Gc_wsru",
    "executionInfo": {
     "status": "ok",
     "timestamp": 1623721124800,
     "user_tz": 240,
     "elapsed": 13,
     "user": {
      "displayName": "Andrés Sánchez",
      "photoUrl": "https://lh3.googleusercontent.com/a-/AOh14Gg69bZMv30ckb-T1MJy0nSxWIHUaP0p2uP6MYBuvQ=s64",
      "userId": "07985253921366566280"
     }
    },
    "cell_id": "00017-8d5ae023-8d59-4d9f-9dd1-32ccd5d6677d",
    "deepnote_to_be_reexecuted": false,
    "source_hash": "2b4f0d21",
    "execution_start": 1630097984370,
    "execution_millis": 0,
    "deepnote_cell_type": "code"
   },
   "source": "crimex = crime.reset_index()",
   "execution_count": 9,
   "outputs": []
  },
  {
   "cell_type": "code",
   "metadata": {
    "scrolled": true,
    "colab": {
     "base_uri": "https://localhost:8080/",
     "height": 297
    },
    "id": "FqQGr4ynoqHr",
    "executionInfo": {
     "status": "ok",
     "timestamp": 1623721124800,
     "user_tz": 240,
     "elapsed": 13,
     "user": {
      "displayName": "Andrés Sánchez",
      "photoUrl": "https://lh3.googleusercontent.com/a-/AOh14Gg69bZMv30ckb-T1MJy0nSxWIHUaP0p2uP6MYBuvQ=s64",
      "userId": "07985253921366566280"
     }
    },
    "outputId": "6f7987c6-10d9-469e-b3f4-7f1c30c7a0ef",
    "cell_id": "00018-c7fbefa7-7747-4207-9d20-c48562d6df25",
    "deepnote_to_be_reexecuted": false,
    "source_hash": "b06e665f",
    "execution_start": 1630097984370,
    "execution_millis": 10,
    "deepnote_cell_type": "code"
   },
   "source": "pd.DataFrame(crimex.groupby([pd.Grouper(key = 'Year', freq = '10Y')]).agg(np.sum))",
   "execution_count": 10,
   "outputs": [
    {
     "output_type": "execute_result",
     "execution_count": 10,
     "data": {
      "application/vnd.deepnote.dataframe.v2+json": {
       "row_count": 7,
       "column_count": 11,
       "columns": [
        {
         "name": "Population",
         "dtype": "int64",
         "stats": {
          "unique_count": 7,
          "nan_count": 0,
          "min": "179323175",
          "max": "2975877430",
          "histogram": [
           {
            "bin_start": 179323175,
            "bin_end": 458978600.5,
            "count": 1
           },
           {
            "bin_start": 458978600.5,
            "bin_end": 738634026,
            "count": 0
           },
           {
            "bin_start": 738634026,
            "bin_end": 1018289451.5,
            "count": 0
           },
           {
            "bin_start": 1018289451.5,
            "bin_end": 1297944877,
            "count": 1
           },
           {
            "bin_start": 1297944877,
            "bin_end": 1577600302.5,
            "count": 0
           },
           {
            "bin_start": 1577600302.5,
            "bin_end": 1857255728,
            "count": 0
           },
           {
            "bin_start": 1857255728,
            "bin_end": 2136911153.5,
            "count": 1
           },
           {
            "bin_start": 2136911153.5,
            "bin_end": 2416566579,
            "count": 2
           },
           {
            "bin_start": 2416566579,
            "bin_end": 2696222004.5,
            "count": 1
           },
           {
            "bin_start": 2696222004.5,
            "bin_end": 2975877430,
            "count": 1
           }
          ]
         }
        },
        {
         "name": "Total",
         "dtype": "int64",
         "stats": {
          "unique_count": 7,
          "nan_count": 0,
          "min": "3384200",
          "max": "133714618",
          "histogram": [
           {
            "bin_start": 3384200,
            "bin_end": 16417241.8,
            "count": 1
           },
           {
            "bin_start": 16417241.8,
            "bin_end": 29450283.6,
            "count": 0
           },
           {
            "bin_start": 29450283.6,
            "bin_end": 42483325.400000006,
            "count": 1
           },
           {
            "bin_start": 42483325.400000006,
            "bin_end": 55516367.2,
            "count": 1
           },
           {
            "bin_start": 55516367.2,
            "bin_end": 68549409,
            "count": 0
           },
           {
            "bin_start": 68549409,
            "bin_end": 81582450.80000001,
            "count": 0
           },
           {
            "bin_start": 81582450.80000001,
            "bin_end": 94615492.60000001,
            "count": 0
           },
           {
            "bin_start": 94615492.60000001,
            "bin_end": 107648534.4,
            "count": 1
           },
           {
            "bin_start": 107648534.4,
            "bin_end": 120681576.2,
            "count": 1
           },
           {
            "bin_start": 120681576.2,
            "bin_end": 133714618,
            "count": 2
           }
          ]
         }
        },
        {
         "name": "Violent",
         "dtype": "int64",
         "stats": {
          "unique_count": 7,
          "nan_count": 0,
          "min": "288460",
          "max": "17132404",
          "histogram": [
           {
            "bin_start": 288460,
            "bin_end": 1972854.4,
            "count": 1
           },
           {
            "bin_start": 1972854.4,
            "bin_end": 3657248.8,
            "count": 0
           },
           {
            "bin_start": 3657248.8,
            "bin_end": 5341643.199999999,
            "count": 2
           },
           {
            "bin_start": 5341643.199999999,
            "bin_end": 7026037.6,
            "count": 0
           },
           {
            "bin_start": 7026037.6,
            "bin_end": 8710432,
            "count": 0
           },
           {
            "bin_start": 8710432,
            "bin_end": 10394826.399999999,
            "count": 1
           },
           {
            "bin_start": 10394826.399999999,
            "bin_end": 12079220.799999999,
            "count": 0
           },
           {
            "bin_start": 12079220.799999999,
            "bin_end": 13763615.2,
            "count": 0
           },
           {
            "bin_start": 13763615.2,
            "bin_end": 15448009.6,
            "count": 2
           },
           {
            "bin_start": 15448009.6,
            "bin_end": 17132404,
            "count": 1
           }
          ]
         }
        },
        {
         "name": "Property",
         "dtype": "int64",
         "stats": {
          "unique_count": 7,
          "nan_count": 0,
          "min": "3095700",
          "max": "117640700",
          "histogram": [
           {
            "bin_start": 3095700,
            "bin_end": 14550200,
            "count": 1
           },
           {
            "bin_start": 14550200,
            "bin_end": 26004700,
            "count": 0
           },
           {
            "bin_start": 26004700,
            "bin_end": 37459200,
            "count": 1
           },
           {
            "bin_start": 37459200,
            "bin_end": 48913700,
            "count": 0
           },
           {
            "bin_start": 48913700,
            "bin_end": 60368200,
            "count": 1
           },
           {
            "bin_start": 60368200,
            "bin_end": 71822700,
            "count": 0
           },
           {
            "bin_start": 71822700,
            "bin_end": 83277200,
            "count": 0
           },
           {
            "bin_start": 83277200,
            "bin_end": 94731700,
            "count": 0
           },
           {
            "bin_start": 94731700,
            "bin_end": 106186200,
            "count": 2
           },
           {
            "bin_start": 106186200,
            "bin_end": 117640700,
            "count": 2
           }
          ]
         }
        },
        {
         "name": "Murder",
         "dtype": "int64",
         "stats": {
          "unique_count": 7,
          "nan_count": 0,
          "min": "9110",
          "max": "206839",
          "histogram": [
           {
            "bin_start": 9110,
            "bin_end": 28882.9,
            "count": 1
           },
           {
            "bin_start": 28882.9,
            "bin_end": 48655.8,
            "count": 0
           },
           {
            "bin_start": 48655.8,
            "bin_end": 68428.70000000001,
            "count": 1
           },
           {
            "bin_start": 68428.70000000001,
            "bin_end": 88201.6,
            "count": 0
           },
           {
            "bin_start": 88201.6,
            "bin_end": 107974.5,
            "count": 0
           },
           {
            "bin_start": 107974.5,
            "bin_end": 127747.40000000001,
            "count": 1
           },
           {
            "bin_start": 127747.40000000001,
            "bin_end": 147520.30000000002,
            "count": 0
           },
           {
            "bin_start": 147520.30000000002,
            "bin_end": 167293.2,
            "count": 1
           },
           {
            "bin_start": 167293.2,
            "bin_end": 187066.1,
            "count": 0
           },
           {
            "bin_start": 187066.1,
            "bin_end": 206839,
            "count": 3
           }
          ]
         }
        },
        {
         "name": "Forcible_Rape",
         "dtype": "int64",
         "stats": {
          "unique_count": 7,
          "nan_count": 0,
          "min": "17190",
          "max": "986445",
          "histogram": [
           {
            "bin_start": 17190,
            "bin_end": 114115.5,
            "count": 1
           },
           {
            "bin_start": 114115.5,
            "bin_end": 211041,
            "count": 0
           },
           {
            "bin_start": 211041,
            "bin_end": 307966.5,
            "count": 1
           },
           {
            "bin_start": 307966.5,
            "bin_end": 404892,
            "count": 1
           },
           {
            "bin_start": 404892,
            "bin_end": 501817.5,
            "count": 0
           },
           {
            "bin_start": 501817.5,
            "bin_end": 598743,
            "count": 0
           },
           {
            "bin_start": 598743,
            "bin_end": 695668.5,
            "count": 1
           },
           {
            "bin_start": 695668.5,
            "bin_end": 792594,
            "count": 0
           },
           {
            "bin_start": 792594,
            "bin_end": 889519.5,
            "count": 1
           },
           {
            "bin_start": 889519.5,
            "bin_end": 986445,
            "count": 2
           }
          ]
         }
        },
        {
         "name": "Robbery",
         "dtype": "int64",
         "stats": {
          "unique_count": 7,
          "nan_count": 0,
          "min": "107840",
          "max": "5517676",
          "histogram": [
           {
            "bin_start": 107840,
            "bin_end": 648823.6,
            "count": 1
           },
           {
            "bin_start": 648823.6,
            "bin_end": 1189807.2,
            "count": 0
           },
           {
            "bin_start": 1189807.2,
            "bin_end": 1730790.7999999998,
            "count": 1
           },
           {
            "bin_start": 1730790.7999999998,
            "bin_end": 2271774.4,
            "count": 1
           },
           {
            "bin_start": 2271774.4,
            "bin_end": 2812758,
            "count": 0
           },
           {
            "bin_start": 2812758,
            "bin_end": 3353741.5999999996,
            "count": 0
           },
           {
            "bin_start": 3353741.5999999996,
            "bin_end": 3894725.1999999997,
            "count": 0
           },
           {
            "bin_start": 3894725.1999999997,
            "bin_end": 4435708.8,
            "count": 2
           },
           {
            "bin_start": 4435708.8,
            "bin_end": 4976692.399999999,
            "count": 0
           },
           {
            "bin_start": 4976692.399999999,
            "bin_end": 5517676,
            "count": 2
           }
          ]
         }
        },
        {
         "name": "Aggravated_assault",
         "dtype": "int64",
         "stats": {
          "unique_count": 7,
          "nan_count": 0,
          "min": "154320",
          "max": "10425809",
          "histogram": [
           {
            "bin_start": 154320,
            "bin_end": 1181468.9,
            "count": 1
           },
           {
            "bin_start": 1181468.9,
            "bin_end": 2208617.8,
            "count": 0
           },
           {
            "bin_start": 2208617.8,
            "bin_end": 3235766.7,
            "count": 2
           },
           {
            "bin_start": 3235766.7,
            "bin_end": 4262915.6,
            "count": 0
           },
           {
            "bin_start": 4262915.6,
            "bin_end": 5290064.5,
            "count": 1
           },
           {
            "bin_start": 5290064.5,
            "bin_end": 6317213.4,
            "count": 0
           },
           {
            "bin_start": 6317213.4,
            "bin_end": 7344362.3,
            "count": 0
           },
           {
            "bin_start": 7344362.3,
            "bin_end": 8371511.2,
            "count": 1
           },
           {
            "bin_start": 8371511.2,
            "bin_end": 9398660.1,
            "count": 1
           },
           {
            "bin_start": 9398660.1,
            "bin_end": 10425809,
            "count": 1
           }
          ]
         }
        },
        {
         "name": "Burglary",
         "dtype": "int64",
         "stats": {
          "unique_count": 7,
          "nan_count": 0,
          "min": "912100",
          "max": "32352194",
          "histogram": [
           {
            "bin_start": 912100,
            "bin_end": 4056109.4,
            "count": 1
           },
           {
            "bin_start": 4056109.4,
            "bin_end": 7200118.8,
            "count": 0
           },
           {
            "bin_start": 7200118.8,
            "bin_end": 10344128.2,
            "count": 1
           },
           {
            "bin_start": 10344128.2,
            "bin_end": 13488137.6,
            "count": 0
           },
           {
            "bin_start": 13488137.6,
            "bin_end": 16632147,
            "count": 1
           },
           {
            "bin_start": 16632147,
            "bin_end": 19776156.4,
            "count": 0
           },
           {
            "bin_start": 19776156.4,
            "bin_end": 22920165.8,
            "count": 1
           },
           {
            "bin_start": 22920165.8,
            "bin_end": 26064175.2,
            "count": 1
           },
           {
            "bin_start": 26064175.2,
            "bin_end": 29208184.599999998,
            "count": 0
           },
           {
            "bin_start": 29208184.599999998,
            "bin_end": 32352194,
            "count": 2
           }
          ]
         }
        },
        {
         "name": "Larceny_Theft",
         "dtype": "int64",
         "stats": {
          "unique_count": 7,
          "nan_count": 0,
          "min": "1855400",
          "max": "76705256",
          "histogram": [
           {
            "bin_start": 1855400,
            "bin_end": 9340385.6,
            "count": 1
           },
           {
            "bin_start": 9340385.6,
            "bin_end": 16825371.2,
            "count": 0
           },
           {
            "bin_start": 16825371.2,
            "bin_end": 24310356.799999997,
            "count": 1
           },
           {
            "bin_start": 24310356.799999997,
            "bin_end": 31795342.4,
            "count": 1
           },
           {
            "bin_start": 31795342.4,
            "bin_end": 39280328,
            "count": 0
           },
           {
            "bin_start": 39280328,
            "bin_end": 46765313.599999994,
            "count": 0
           },
           {
            "bin_start": 46765313.599999994,
            "bin_end": 54250299.199999996,
            "count": 0
           },
           {
            "bin_start": 54250299.199999996,
            "bin_end": 61735284.8,
            "count": 1
           },
           {
            "bin_start": 61735284.8,
            "bin_end": 69220270.39999999,
            "count": 1
           },
           {
            "bin_start": 69220270.39999999,
            "bin_end": 76705256,
            "count": 2
           }
          ]
         }
        },
        {
         "name": "Vehicle_Theft",
         "dtype": "int64",
         "stats": {
          "unique_count": 7,
          "nan_count": 0,
          "min": "328200",
          "max": "14148520",
          "histogram": [
           {
            "bin_start": 328200,
            "bin_end": 1710232,
            "count": 1
           },
           {
            "bin_start": 1710232,
            "bin_end": 3092264,
            "count": 1
           },
           {
            "bin_start": 3092264,
            "bin_end": 4474296,
            "count": 0
           },
           {
            "bin_start": 4474296,
            "bin_end": 5856328,
            "count": 0
           },
           {
            "bin_start": 5856328,
            "bin_end": 7238360,
            "count": 1
           },
           {
            "bin_start": 7238360,
            "bin_end": 8620392,
            "count": 0
           },
           {
            "bin_start": 8620392,
            "bin_end": 10002424,
            "count": 1
           },
           {
            "bin_start": 10002424,
            "bin_end": 11384456,
            "count": 1
           },
           {
            "bin_start": 11384456,
            "bin_end": 12766488,
            "count": 1
           },
           {
            "bin_start": 12766488,
            "bin_end": 14148520,
            "count": 1
           }
          ]
         }
        },
        {
         "name": "_deepnote_index_column",
         "dtype": "datetime64[ns]"
        }
       ],
       "rows_top": [
        {
         "Population": 179323175,
         "Total": 3384200,
         "Violent": 288460,
         "Property": 3095700,
         "Murder": 9110,
         "Forcible_Rape": 17190,
         "Robbery": 107840,
         "Aggravated_assault": 154320,
         "Burglary": 912100,
         "Larceny_Theft": 1855400,
         "Vehicle_Theft": 328200,
         "_deepnote_index_column": "1960-12-31T00:00:00.000000"
        },
        {
         "Population": 1938965298,
         "Total": 54009700,
         "Violent": 4585290,
         "Property": 49424400,
         "Murder": 113070,
         "Forcible_Rape": 257520,
         "Robbery": 1875530,
         "Aggravated_assault": 2339170,
         "Burglary": 14614000,
         "Larceny_Theft": 28918100,
         "Vehicle_Theft": 5892300,
         "_deepnote_index_column": "1970-12-31T00:00:00.000000"
        },
        {
         "Population": 2143307264,
         "Total": 106301900,
         "Violent": 10213630,
         "Property": 96088300,
         "Murder": 199270,
         "Forcible_Rape": 599570,
         "Robbery": 4375000,
         "Aggravated_assault": 5039800,
         "Burglary": 30076200,
         "Larceny_Theft": 56068900,
         "Vehicle_Theft": 9943200,
         "_deepnote_index_column": "1980-12-31T00:00:00.000000"
        },
        {
         "Population": 2394730678,
         "Total": 132190669,
         "Violent": 14549938,
         "Property": 117640700,
         "Murder": 206839,
         "Forcible_Rape": 885209,
         "Robbery": 5456539,
         "Aggravated_assault": 8001340,
         "Burglary": 32352194,
         "Larceny_Theft": 72849053,
         "Vehicle_Theft": 12439611,
         "_deepnote_index_column": "1990-12-31T00:00:00.000000"
        },
        {
         "Population": 2645537291,
         "Total": 133714618,
         "Violent": 17132404,
         "Property": 116580585,
         "Murder": 203810,
         "Forcible_Rape": 986445,
         "Robbery": 5517676,
         "Aggravated_assault": 10425809,
         "Burglary": 25727107,
         "Larceny_Theft": 76705256,
         "Vehicle_Theft": 14148520,
         "_deepnote_index_column": "2000-12-31T00:00:00.000000"
        },
        {
         "Population": 2975877430,
         "Total": 113767845,
         "Violent": 13793818,
         "Property": 99874408,
         "Murder": 162254,
         "Forcible_Rape": 917914,
         "Robbery": 4191439,
         "Aggravated_assault": 8522262,
         "Burglary": 21682641,
         "Larceny_Theft": 67203302,
         "Vehicle_Theft": 10992397,
         "_deepnote_index_column": "2010-12-31T00:00:00.000000"
        },
        {
         "Population": 1260816088,
         "Total": 39804094,
         "Violent": 4820769,
         "Property": 34983325,
         "Murder": 58095,
         "Forcible_Rape": 335466,
         "Robbery": 1380720,
         "Aggravated_assault": 2982298,
         "Burglary": 7956713,
         "Larceny_Theft": 24197097,
         "Vehicle_Theft": 2829515,
         "_deepnote_index_column": "2020-12-31T00:00:00.000000"
        }
       ],
       "rows_bottom": null
      },
      "text/plain": "            Population      Total   Violent   Property  Murder  Forcible_Rape  \\\nYear                                                                            \n1960-12-31   179323175    3384200    288460    3095700    9110          17190   \n1970-12-31  1938965298   54009700   4585290   49424400  113070         257520   \n1980-12-31  2143307264  106301900  10213630   96088300  199270         599570   \n1990-12-31  2394730678  132190669  14549938  117640700  206839         885209   \n2000-12-31  2645537291  133714618  17132404  116580585  203810         986445   \n2010-12-31  2975877430  113767845  13793818   99874408  162254         917914   \n2020-12-31  1260816088   39804094   4820769   34983325   58095         335466   \n\n            Robbery  Aggravated_assault  Burglary  Larceny_Theft  \\\nYear                                                               \n1960-12-31   107840              154320    912100        1855400   \n1970-12-31  1875530             2339170  14614000       28918100   \n1980-12-31  4375000             5039800  30076200       56068900   \n1990-12-31  5456539             8001340  32352194       72849053   \n2000-12-31  5517676            10425809  25727107       76705256   \n2010-12-31  4191439             8522262  21682641       67203302   \n2020-12-31  1380720             2982298   7956713       24197097   \n\n            Vehicle_Theft  \nYear                       \n1960-12-31         328200  \n1970-12-31        5892300  \n1980-12-31        9943200  \n1990-12-31       12439611  \n2000-12-31       14148520  \n2010-12-31       10992397  \n2020-12-31        2829515  ",
      "text/html": "<div>\n<style scoped>\n    .dataframe tbody tr th:only-of-type {\n        vertical-align: middle;\n    }\n\n    .dataframe tbody tr th {\n        vertical-align: top;\n    }\n\n    .dataframe thead th {\n        text-align: right;\n    }\n</style>\n<table border=\"1\" class=\"dataframe\">\n  <thead>\n    <tr style=\"text-align: right;\">\n      <th></th>\n      <th>Population</th>\n      <th>Total</th>\n      <th>Violent</th>\n      <th>Property</th>\n      <th>Murder</th>\n      <th>Forcible_Rape</th>\n      <th>Robbery</th>\n      <th>Aggravated_assault</th>\n      <th>Burglary</th>\n      <th>Larceny_Theft</th>\n      <th>Vehicle_Theft</th>\n    </tr>\n    <tr>\n      <th>Year</th>\n      <th></th>\n      <th></th>\n      <th></th>\n      <th></th>\n      <th></th>\n      <th></th>\n      <th></th>\n      <th></th>\n      <th></th>\n      <th></th>\n      <th></th>\n    </tr>\n  </thead>\n  <tbody>\n    <tr>\n      <th>1960-12-31</th>\n      <td>179323175</td>\n      <td>3384200</td>\n      <td>288460</td>\n      <td>3095700</td>\n      <td>9110</td>\n      <td>17190</td>\n      <td>107840</td>\n      <td>154320</td>\n      <td>912100</td>\n      <td>1855400</td>\n      <td>328200</td>\n    </tr>\n    <tr>\n      <th>1970-12-31</th>\n      <td>1938965298</td>\n      <td>54009700</td>\n      <td>4585290</td>\n      <td>49424400</td>\n      <td>113070</td>\n      <td>257520</td>\n      <td>1875530</td>\n      <td>2339170</td>\n      <td>14614000</td>\n      <td>28918100</td>\n      <td>5892300</td>\n    </tr>\n    <tr>\n      <th>1980-12-31</th>\n      <td>2143307264</td>\n      <td>106301900</td>\n      <td>10213630</td>\n      <td>96088300</td>\n      <td>199270</td>\n      <td>599570</td>\n      <td>4375000</td>\n      <td>5039800</td>\n      <td>30076200</td>\n      <td>56068900</td>\n      <td>9943200</td>\n    </tr>\n    <tr>\n      <th>1990-12-31</th>\n      <td>2394730678</td>\n      <td>132190669</td>\n      <td>14549938</td>\n      <td>117640700</td>\n      <td>206839</td>\n      <td>885209</td>\n      <td>5456539</td>\n      <td>8001340</td>\n      <td>32352194</td>\n      <td>72849053</td>\n      <td>12439611</td>\n    </tr>\n    <tr>\n      <th>2000-12-31</th>\n      <td>2645537291</td>\n      <td>133714618</td>\n      <td>17132404</td>\n      <td>116580585</td>\n      <td>203810</td>\n      <td>986445</td>\n      <td>5517676</td>\n      <td>10425809</td>\n      <td>25727107</td>\n      <td>76705256</td>\n      <td>14148520</td>\n    </tr>\n    <tr>\n      <th>2010-12-31</th>\n      <td>2975877430</td>\n      <td>113767845</td>\n      <td>13793818</td>\n      <td>99874408</td>\n      <td>162254</td>\n      <td>917914</td>\n      <td>4191439</td>\n      <td>8522262</td>\n      <td>21682641</td>\n      <td>67203302</td>\n      <td>10992397</td>\n    </tr>\n    <tr>\n      <th>2020-12-31</th>\n      <td>1260816088</td>\n      <td>39804094</td>\n      <td>4820769</td>\n      <td>34983325</td>\n      <td>58095</td>\n      <td>335466</td>\n      <td>1380720</td>\n      <td>2982298</td>\n      <td>7956713</td>\n      <td>24197097</td>\n      <td>2829515</td>\n    </tr>\n  </tbody>\n</table>\n</div>"
     },
     "metadata": {}
    }
   ]
  },
  {
   "cell_type": "code",
   "metadata": {
    "colab": {
     "base_uri": "https://localhost:8080/",
     "height": 266
    },
    "id": "sg4M0PfhyMmn",
    "executionInfo": {
     "status": "ok",
     "timestamp": 1623721124976,
     "user_tz": 240,
     "elapsed": 188,
     "user": {
      "displayName": "Andrés Sánchez",
      "photoUrl": "https://lh3.googleusercontent.com/a-/AOh14Gg69bZMv30ckb-T1MJy0nSxWIHUaP0p2uP6MYBuvQ=s64",
      "userId": "07985253921366566280"
     }
    },
    "outputId": "0a63d2c0-e27e-4f6b-f574-7e4d5687746f",
    "cell_id": "00019-ae31108d-5bee-4db6-9b03-4dbed173c832",
    "deepnote_to_be_reexecuted": false,
    "source_hash": "12a5ea65",
    "execution_start": 1630097984377,
    "execution_millis": 38,
    "deepnote_cell_type": "code"
   },
   "source": "crimes = crime.resample('10AS').sum()\npopulation = crime['Population'].resample('10AS').max()\ncrimes['Population'] = population\n\ncrimes",
   "execution_count": 11,
   "outputs": [
    {
     "output_type": "execute_result",
     "execution_count": 11,
     "data": {
      "application/vnd.deepnote.dataframe.v2+json": {
       "row_count": 6,
       "column_count": 11,
       "columns": [
        {
         "name": "Population",
         "dtype": "int64",
         "stats": {
          "unique_count": 6,
          "nan_count": 0,
          "min": "201385000",
          "max": "318857056",
          "histogram": [
           {
            "bin_start": 201385000,
            "bin_end": 213132205.6,
            "count": 1
           },
           {
            "bin_start": 213132205.6,
            "bin_end": 224879411.2,
            "count": 1
           },
           {
            "bin_start": 224879411.2,
            "bin_end": 236626616.8,
            "count": 0
           },
           {
            "bin_start": 236626616.8,
            "bin_end": 248373822.4,
            "count": 1
           },
           {
            "bin_start": 248373822.4,
            "bin_end": 260121028,
            "count": 0
           },
           {
            "bin_start": 260121028,
            "bin_end": 271868233.6,
            "count": 0
           },
           {
            "bin_start": 271868233.6,
            "bin_end": 283615439.2,
            "count": 1
           },
           {
            "bin_start": 283615439.2,
            "bin_end": 295362644.8,
            "count": 0
           },
           {
            "bin_start": 295362644.8,
            "bin_end": 307109850.4,
            "count": 1
           },
           {
            "bin_start": 307109850.4,
            "bin_end": 318857056,
            "count": 1
           }
          ]
         }
        },
        {
         "name": "Total",
         "dtype": "int64",
         "stats": {
          "unique_count": 6,
          "nan_count": 0,
          "min": "49295900",
          "max": "136582146",
          "histogram": [
           {
            "bin_start": 49295900,
            "bin_end": 58024524.6,
            "count": 2
           },
           {
            "bin_start": 58024524.6,
            "bin_end": 66753149.2,
            "count": 0
           },
           {
            "bin_start": 66753149.2,
            "bin_end": 75481773.8,
            "count": 0
           },
           {
            "bin_start": 75481773.8,
            "bin_end": 84210398.4,
            "count": 0
           },
           {
            "bin_start": 84210398.4,
            "bin_end": 92939023,
            "count": 0
           },
           {
            "bin_start": 92939023,
            "bin_end": 101667647.6,
            "count": 1
           },
           {
            "bin_start": 101667647.6,
            "bin_end": 110396272.19999999,
            "count": 0
           },
           {
            "bin_start": 110396272.19999999,
            "bin_end": 119124896.8,
            "count": 1
           },
           {
            "bin_start": 119124896.8,
            "bin_end": 127853521.39999999,
            "count": 0
           },
           {
            "bin_start": 127853521.39999999,
            "bin_end": 136582146,
            "count": 2
           }
          ]
         }
        },
        {
         "name": "Violent",
         "dtype": "int64",
         "stats": {
          "unique_count": 6,
          "nan_count": 0,
          "min": "4134930",
          "max": "17527048",
          "histogram": [
           {
            "bin_start": 4134930,
            "bin_end": 5474141.8,
            "count": 1
           },
           {
            "bin_start": 5474141.8,
            "bin_end": 6813353.6,
            "count": 1
           },
           {
            "bin_start": 6813353.6,
            "bin_end": 8152565.4,
            "count": 0
           },
           {
            "bin_start": 8152565.4,
            "bin_end": 9491777.2,
            "count": 0
           },
           {
            "bin_start": 9491777.2,
            "bin_end": 10830989,
            "count": 1
           },
           {
            "bin_start": 10830989,
            "bin_end": 12170200.8,
            "count": 0
           },
           {
            "bin_start": 12170200.8,
            "bin_end": 13509412.6,
            "count": 0
           },
           {
            "bin_start": 13509412.6,
            "bin_end": 14848624.4,
            "count": 2
           },
           {
            "bin_start": 14848624.4,
            "bin_end": 16187836.200000001,
            "count": 0
           },
           {
            "bin_start": 16187836.200000001,
            "bin_end": 17527048,
            "count": 1
           }
          ]
         }
        },
        {
         "name": "Property",
         "dtype": "int64",
         "stats": {
          "unique_count": 6,
          "nan_count": 0,
          "min": "44095950",
          "max": "119053499",
          "histogram": [
           {
            "bin_start": 44095950,
            "bin_end": 51591704.9,
            "count": 2
           },
           {
            "bin_start": 51591704.9,
            "bin_end": 59087459.8,
            "count": 0
           },
           {
            "bin_start": 59087459.8,
            "bin_end": 66583214.7,
            "count": 0
           },
           {
            "bin_start": 66583214.7,
            "bin_end": 74078969.6,
            "count": 0
           },
           {
            "bin_start": 74078969.6,
            "bin_end": 81574724.5,
            "count": 0
           },
           {
            "bin_start": 81574724.5,
            "bin_end": 89070479.4,
            "count": 0
           },
           {
            "bin_start": 89070479.4,
            "bin_end": 96566234.30000001,
            "count": 1
           },
           {
            "bin_start": 96566234.30000001,
            "bin_end": 104061989.2,
            "count": 1
           },
           {
            "bin_start": 104061989.2,
            "bin_end": 111557744.10000001,
            "count": 0
           },
           {
            "bin_start": 111557744.10000001,
            "bin_end": 119053499,
            "count": 2
           }
          ]
         }
        },
        {
         "name": "Murder",
         "dtype": "int64",
         "stats": {
          "unique_count": 6,
          "nan_count": 0,
          "min": "72867",
          "max": "211664",
          "histogram": [
           {
            "bin_start": 72867,
            "bin_end": 86746.7,
            "count": 1
           },
           {
            "bin_start": 86746.7,
            "bin_end": 100626.4,
            "count": 0
           },
           {
            "bin_start": 100626.4,
            "bin_end": 114506.1,
            "count": 1
           },
           {
            "bin_start": 114506.1,
            "bin_end": 128385.8,
            "count": 0
           },
           {
            "bin_start": 128385.8,
            "bin_end": 142265.5,
            "count": 0
           },
           {
            "bin_start": 142265.5,
            "bin_end": 156145.2,
            "count": 0
           },
           {
            "bin_start": 156145.2,
            "bin_end": 170024.90000000002,
            "count": 1
           },
           {
            "bin_start": 170024.90000000002,
            "bin_end": 183904.6,
            "count": 0
           },
           {
            "bin_start": 183904.6,
            "bin_end": 197784.3,
            "count": 1
           },
           {
            "bin_start": 197784.3,
            "bin_end": 211664,
            "count": 2
           }
          ]
         }
        },
        {
         "name": "Forcible_Rape",
         "dtype": "int64",
         "stats": {
          "unique_count": 6,
          "nan_count": 0,
          "min": "236720",
          "max": "998827",
          "histogram": [
           {
            "bin_start": 236720,
            "bin_end": 312930.7,
            "count": 1
           },
           {
            "bin_start": 312930.7,
            "bin_end": 389141.4,
            "count": 0
           },
           {
            "bin_start": 389141.4,
            "bin_end": 465352.1,
            "count": 1
           },
           {
            "bin_start": 465352.1,
            "bin_end": 541562.8,
            "count": 0
           },
           {
            "bin_start": 541562.8,
            "bin_end": 617773.5,
            "count": 1
           },
           {
            "bin_start": 617773.5,
            "bin_end": 693984.2,
            "count": 0
           },
           {
            "bin_start": 693984.2,
            "bin_end": 770194.9,
            "count": 0
           },
           {
            "bin_start": 770194.9,
            "bin_end": 846405.6,
            "count": 0
           },
           {
            "bin_start": 846405.6,
            "bin_end": 922616.2999999999,
            "count": 2
           },
           {
            "bin_start": 922616.2999999999,
            "bin_end": 998827,
            "count": 1
           }
          ]
         }
        },
        {
         "name": "Robbery",
         "dtype": "int64",
         "stats": {
          "unique_count": 6,
          "nan_count": 0,
          "min": "1633510",
          "max": "5748930",
          "histogram": [
           {
            "bin_start": 1633510,
            "bin_end": 2045052,
            "count": 2
           },
           {
            "bin_start": 2045052,
            "bin_end": 2456594,
            "count": 0
           },
           {
            "bin_start": 2456594,
            "bin_end": 2868136,
            "count": 0
           },
           {
            "bin_start": 2868136,
            "bin_end": 3279678,
            "count": 0
           },
           {
            "bin_start": 3279678,
            "bin_end": 3691220,
            "count": 0
           },
           {
            "bin_start": 3691220,
            "bin_end": 4102762,
            "count": 0
           },
           {
            "bin_start": 4102762,
            "bin_end": 4514304,
            "count": 2
           },
           {
            "bin_start": 4514304,
            "bin_end": 4925846,
            "count": 0
           },
           {
            "bin_start": 4925846,
            "bin_end": 5337388,
            "count": 0
           },
           {
            "bin_start": 5337388,
            "bin_end": 5748930,
            "count": 2
           }
          ]
         }
        },
        {
         "name": "Aggravated_assault",
         "dtype": "int64",
         "stats": {
          "unique_count": 6,
          "nan_count": 0,
          "min": "2158520",
          "max": "10568963",
          "histogram": [
           {
            "bin_start": 2158520,
            "bin_end": 2999564.3,
            "count": 1
           },
           {
            "bin_start": 2999564.3,
            "bin_end": 3840608.6,
            "count": 1
           },
           {
            "bin_start": 3840608.6,
            "bin_end": 4681652.9,
            "count": 0
           },
           {
            "bin_start": 4681652.9,
            "bin_end": 5522697.2,
            "count": 1
           },
           {
            "bin_start": 5522697.2,
            "bin_end": 6363741.5,
            "count": 0
           },
           {
            "bin_start": 6363741.5,
            "bin_end": 7204785.800000001,
            "count": 0
           },
           {
            "bin_start": 7204785.800000001,
            "bin_end": 8045830.100000001,
            "count": 1
           },
           {
            "bin_start": 8045830.100000001,
            "bin_end": 8886874.4,
            "count": 1
           },
           {
            "bin_start": 8886874.4,
            "bin_end": 9727918.7,
            "count": 0
           },
           {
            "bin_start": 9727918.7,
            "bin_end": 10568963,
            "count": 1
           }
          ]
         }
        },
        {
         "name": "Burglary",
         "dtype": "int64",
         "stats": {
          "unique_count": 6,
          "nan_count": 0,
          "min": "10125170",
          "max": "33073494",
          "histogram": [
           {
            "bin_start": 10125170,
            "bin_end": 12420002.4,
            "count": 1
           },
           {
            "bin_start": 12420002.4,
            "bin_end": 14714834.8,
            "count": 1
           },
           {
            "bin_start": 14714834.8,
            "bin_end": 17009667.2,
            "count": 0
           },
           {
            "bin_start": 17009667.2,
            "bin_end": 19304499.6,
            "count": 0
           },
           {
            "bin_start": 19304499.6,
            "bin_end": 21599332,
            "count": 1
           },
           {
            "bin_start": 21599332,
            "bin_end": 23894164.4,
            "count": 0
           },
           {
            "bin_start": 23894164.4,
            "bin_end": 26188996.799999997,
            "count": 0
           },
           {
            "bin_start": 26188996.799999997,
            "bin_end": 28483829.2,
            "count": 1
           },
           {
            "bin_start": 28483829.2,
            "bin_end": 30778661.599999998,
            "count": 1
           },
           {
            "bin_start": 30778661.599999998,
            "bin_end": 33073494,
            "count": 1
           }
          ]
         }
        },
        {
         "name": "Larceny_Theft",
         "dtype": "int64",
         "stats": {
          "unique_count": 6,
          "nan_count": 0,
          "min": "26547700",
          "max": "77679366",
          "histogram": [
           {
            "bin_start": 26547700,
            "bin_end": 31660866.6,
            "count": 2
           },
           {
            "bin_start": 31660866.6,
            "bin_end": 36774033.2,
            "count": 0
           },
           {
            "bin_start": 36774033.2,
            "bin_end": 41887199.8,
            "count": 0
           },
           {
            "bin_start": 41887199.8,
            "bin_end": 47000366.4,
            "count": 0
           },
           {
            "bin_start": 47000366.4,
            "bin_end": 52113533,
            "count": 0
           },
           {
            "bin_start": 52113533,
            "bin_end": 57226699.599999994,
            "count": 1
           },
           {
            "bin_start": 57226699.599999994,
            "bin_end": 62339866.199999996,
            "count": 0
           },
           {
            "bin_start": 62339866.199999996,
            "bin_end": 67453032.8,
            "count": 0
           },
           {
            "bin_start": 67453032.8,
            "bin_end": 72566199.4,
            "count": 2
           },
           {
            "bin_start": 72566199.4,
            "bin_end": 77679366,
            "count": 1
           }
          ]
         }
        },
        {
         "name": "Vehicle_Theft",
         "dtype": "int64",
         "stats": {
          "unique_count": 6,
          "nan_count": 0,
          "min": "3569080",
          "max": "14624418",
          "histogram": [
           {
            "bin_start": 3569080,
            "bin_end": 4674613.8,
            "count": 1
           },
           {
            "bin_start": 4674613.8,
            "bin_end": 5780147.6,
            "count": 1
           },
           {
            "bin_start": 5780147.6,
            "bin_end": 6885681.4,
            "count": 0
           },
           {
            "bin_start": 6885681.4,
            "bin_end": 7991215.2,
            "count": 0
           },
           {
            "bin_start": 7991215.2,
            "bin_end": 9096749,
            "count": 0
           },
           {
            "bin_start": 9096749,
            "bin_end": 10202282.8,
            "count": 1
           },
           {
            "bin_start": 10202282.8,
            "bin_end": 11307816.600000001,
            "count": 0
           },
           {
            "bin_start": 11307816.600000001,
            "bin_end": 12413350.4,
            "count": 2
           },
           {
            "bin_start": 12413350.4,
            "bin_end": 13518884.200000001,
            "count": 0
           },
           {
            "bin_start": 13518884.200000001,
            "bin_end": 14624418,
            "count": 1
           }
          ]
         }
        },
        {
         "name": "_deepnote_index_column",
         "dtype": "datetime64[ns]"
        }
       ],
       "rows_top": [
        {
         "Population": 201385000,
         "Total": 49295900,
         "Violent": 4134930,
         "Property": 45160900,
         "Murder": 106180,
         "Forcible_Rape": 236720,
         "Robbery": 1633510,
         "Aggravated_assault": 2158520,
         "Burglary": 13321100,
         "Larceny_Theft": 26547700,
         "Vehicle_Theft": 5292100,
         "_deepnote_index_column": "1960-01-01T00:00:00.000000"
        },
        {
         "Population": 220099000,
         "Total": 100991600,
         "Violent": 9607930,
         "Property": 91383800,
         "Murder": 192230,
         "Forcible_Rape": 554570,
         "Robbery": 4159020,
         "Aggravated_assault": 4702120,
         "Burglary": 28486000,
         "Larceny_Theft": 53157800,
         "Vehicle_Theft": 9739900,
         "_deepnote_index_column": "1970-01-01T00:00:00.000000"
        },
        {
         "Population": 248239000,
         "Total": 131123369,
         "Violent": 14074328,
         "Property": 117048900,
         "Murder": 206439,
         "Forcible_Rape": 865639,
         "Robbery": 5383109,
         "Aggravated_assault": 7619130,
         "Burglary": 33073494,
         "Larceny_Theft": 72040253,
         "Vehicle_Theft": 11935411,
         "_deepnote_index_column": "1980-01-01T00:00:00.000000"
        },
        {
         "Population": 272690813,
         "Total": 136582146,
         "Violent": 17527048,
         "Property": 119053499,
         "Murder": 211664,
         "Forcible_Rape": 998827,
         "Robbery": 5748930,
         "Aggravated_assault": 10568963,
         "Burglary": 26750015,
         "Larceny_Theft": 77679366,
         "Vehicle_Theft": 14624418,
         "_deepnote_index_column": "1990-01-01T00:00:00.000000"
        },
        {
         "Population": 307006550,
         "Total": 115012044,
         "Violent": 13968056,
         "Property": 100944369,
         "Murder": 163068,
         "Forcible_Rape": 922499,
         "Robbery": 4230366,
         "Aggravated_assault": 8652124,
         "Burglary": 21565176,
         "Larceny_Theft": 67970291,
         "Vehicle_Theft": 11412834,
         "_deepnote_index_column": "2000-01-01T00:00:00.000000"
        },
        {
         "Population": 318857056,
         "Total": 50167967,
         "Violent": 6072017,
         "Property": 44095950,
         "Murder": 72867,
         "Forcible_Rape": 421059,
         "Robbery": 1749809,
         "Aggravated_assault": 3764142,
         "Burglary": 10125170,
         "Larceny_Theft": 30401698,
         "Vehicle_Theft": 3569080,
         "_deepnote_index_column": "2010-01-01T00:00:00.000000"
        }
       ],
       "rows_bottom": null
      },
      "text/plain": "            Population      Total   Violent   Property  Murder  Forcible_Rape  \\\nYear                                                                            \n1960-01-01   201385000   49295900   4134930   45160900  106180         236720   \n1970-01-01   220099000  100991600   9607930   91383800  192230         554570   \n1980-01-01   248239000  131123369  14074328  117048900  206439         865639   \n1990-01-01   272690813  136582146  17527048  119053499  211664         998827   \n2000-01-01   307006550  115012044  13968056  100944369  163068         922499   \n2010-01-01   318857056   50167967   6072017   44095950   72867         421059   \n\n            Robbery  Aggravated_assault  Burglary  Larceny_Theft  \\\nYear                                                               \n1960-01-01  1633510             2158520  13321100       26547700   \n1970-01-01  4159020             4702120  28486000       53157800   \n1980-01-01  5383109             7619130  33073494       72040253   \n1990-01-01  5748930            10568963  26750015       77679366   \n2000-01-01  4230366             8652124  21565176       67970291   \n2010-01-01  1749809             3764142  10125170       30401698   \n\n            Vehicle_Theft  \nYear                       \n1960-01-01        5292100  \n1970-01-01        9739900  \n1980-01-01       11935411  \n1990-01-01       14624418  \n2000-01-01       11412834  \n2010-01-01        3569080  ",
      "text/html": "<div>\n<style scoped>\n    .dataframe tbody tr th:only-of-type {\n        vertical-align: middle;\n    }\n\n    .dataframe tbody tr th {\n        vertical-align: top;\n    }\n\n    .dataframe thead th {\n        text-align: right;\n    }\n</style>\n<table border=\"1\" class=\"dataframe\">\n  <thead>\n    <tr style=\"text-align: right;\">\n      <th></th>\n      <th>Population</th>\n      <th>Total</th>\n      <th>Violent</th>\n      <th>Property</th>\n      <th>Murder</th>\n      <th>Forcible_Rape</th>\n      <th>Robbery</th>\n      <th>Aggravated_assault</th>\n      <th>Burglary</th>\n      <th>Larceny_Theft</th>\n      <th>Vehicle_Theft</th>\n    </tr>\n    <tr>\n      <th>Year</th>\n      <th></th>\n      <th></th>\n      <th></th>\n      <th></th>\n      <th></th>\n      <th></th>\n      <th></th>\n      <th></th>\n      <th></th>\n      <th></th>\n      <th></th>\n    </tr>\n  </thead>\n  <tbody>\n    <tr>\n      <th>1960-01-01</th>\n      <td>201385000</td>\n      <td>49295900</td>\n      <td>4134930</td>\n      <td>45160900</td>\n      <td>106180</td>\n      <td>236720</td>\n      <td>1633510</td>\n      <td>2158520</td>\n      <td>13321100</td>\n      <td>26547700</td>\n      <td>5292100</td>\n    </tr>\n    <tr>\n      <th>1970-01-01</th>\n      <td>220099000</td>\n      <td>100991600</td>\n      <td>9607930</td>\n      <td>91383800</td>\n      <td>192230</td>\n      <td>554570</td>\n      <td>4159020</td>\n      <td>4702120</td>\n      <td>28486000</td>\n      <td>53157800</td>\n      <td>9739900</td>\n    </tr>\n    <tr>\n      <th>1980-01-01</th>\n      <td>248239000</td>\n      <td>131123369</td>\n      <td>14074328</td>\n      <td>117048900</td>\n      <td>206439</td>\n      <td>865639</td>\n      <td>5383109</td>\n      <td>7619130</td>\n      <td>33073494</td>\n      <td>72040253</td>\n      <td>11935411</td>\n    </tr>\n    <tr>\n      <th>1990-01-01</th>\n      <td>272690813</td>\n      <td>136582146</td>\n      <td>17527048</td>\n      <td>119053499</td>\n      <td>211664</td>\n      <td>998827</td>\n      <td>5748930</td>\n      <td>10568963</td>\n      <td>26750015</td>\n      <td>77679366</td>\n      <td>14624418</td>\n    </tr>\n    <tr>\n      <th>2000-01-01</th>\n      <td>307006550</td>\n      <td>115012044</td>\n      <td>13968056</td>\n      <td>100944369</td>\n      <td>163068</td>\n      <td>922499</td>\n      <td>4230366</td>\n      <td>8652124</td>\n      <td>21565176</td>\n      <td>67970291</td>\n      <td>11412834</td>\n    </tr>\n    <tr>\n      <th>2010-01-01</th>\n      <td>318857056</td>\n      <td>50167967</td>\n      <td>6072017</td>\n      <td>44095950</td>\n      <td>72867</td>\n      <td>421059</td>\n      <td>1749809</td>\n      <td>3764142</td>\n      <td>10125170</td>\n      <td>30401698</td>\n      <td>3569080</td>\n    </tr>\n  </tbody>\n</table>\n</div>"
     },
     "metadata": {}
    }
   ]
  },
  {
   "cell_type": "markdown",
   "source": "### Step 9. What is the most dangerous decade to live in the US?",
   "metadata": {
    "id": "GzrEstjUoqHr",
    "cell_id": "00020-7e7f9e32-b64f-4758-82a9-7a65914ac7b1",
    "deepnote_cell_type": "markdown"
   }
  },
  {
   "cell_type": "code",
   "metadata": {
    "id": "DkLEeRuMoqHs",
    "colab": {
     "base_uri": "https://localhost:8080/"
    },
    "executionInfo": {
     "status": "ok",
     "timestamp": 1623721281994,
     "user_tz": 240,
     "elapsed": 200,
     "user": {
      "displayName": "Andrés Sánchez",
      "photoUrl": "https://lh3.googleusercontent.com/a-/AOh14Gg69bZMv30ckb-T1MJy0nSxWIHUaP0p2uP6MYBuvQ=s64",
      "userId": "07985253921366566280"
     }
    },
    "outputId": "661c8963-1021-4b10-935c-d9308c930bcc",
    "cell_id": "00021-d8e1269e-d081-481c-a027-e5740f4f1262",
    "deepnote_to_be_reexecuted": false,
    "source_hash": "43629717",
    "execution_start": 1630097984411,
    "execution_millis": 10,
    "deepnote_cell_type": "code"
   },
   "source": "crime.idxmax(0)",
   "execution_count": 12,
   "outputs": [
    {
     "output_type": "execute_result",
     "execution_count": 12,
     "data": {
      "text/plain": "Population           2014-01-01\nTotal                1991-01-01\nViolent              1992-01-01\nProperty             1991-01-01\nMurder               1991-01-01\nForcible_Rape        1992-01-01\nRobbery              1991-01-01\nAggravated_assault   1993-01-01\nBurglary             1980-01-01\nLarceny_Theft        1991-01-01\nVehicle_Theft        1991-01-01\ndtype: datetime64[ns]"
     },
     "metadata": {}
    }
   ]
  },
  {
   "cell_type": "markdown",
   "source": "<a style='text-decoration:none;line-height:16px;display:flex;color:#5B5B62;padding:10px;justify-content:end;' href='https://deepnote.com?utm_source=created-in-deepnote-cell&projectId=fe744348-fecc-4b7a-803c-44dba24ecb38' target=\"_blank\">\n<img alt='Created in deepnote.com' style='display:inline;max-height:16px;margin:0px;margin-right:7.5px;' src='data:image/svg+xml;base64,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' > </img>\nCreated in <span style='font-weight:600;margin-left:4px;'>Deepnote</span></a>",
   "metadata": {
    "tags": [],
    "created_in_deepnote_cell": true,
    "deepnote_cell_type": "markdown"
   }
  }
 ],
 "nbformat": 4,
 "nbformat_minor": 0,
 "metadata": {
  "anaconda-cloud": {},
  "kernelspec": {
   "display_name": "Python [default]",
   "language": "python",
   "name": "python2"
  },
  "language_info": {
   "codemirror_mode": {
    "name": "ipython",
    "version": 2
   },
   "file_extension": ".py",
   "mimetype": "text/x-python",
   "name": "python",
   "nbconvert_exporter": "python",
   "pygments_lexer": "ipython2",
   "version": "2.7.12"
  },
  "colab": {
   "name": "Exercises.ipynb",
   "provenance": [],
   "collapsed_sections": []
  },
  "deepnote_notebook_id": "d74b8b4e-09ee-49a5-871f-3e7a90901748",
  "deepnote": {},
  "deepnote_execution_queue": []
 }
}
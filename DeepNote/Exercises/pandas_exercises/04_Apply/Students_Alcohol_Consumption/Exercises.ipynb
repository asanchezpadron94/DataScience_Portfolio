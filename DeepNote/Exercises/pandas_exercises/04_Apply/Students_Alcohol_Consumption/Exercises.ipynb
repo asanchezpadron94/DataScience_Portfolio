{
 "cells": [
  {
   "cell_type": "markdown",
   "source": "# Student Alcohol Consumption",
   "metadata": {
    "id": "Q2egi0wzTa3u",
    "cell_id": "00000-b7427faf-8ad0-431f-9063-0cfa42e9b05d",
    "deepnote_cell_type": "markdown"
   }
  },
  {
   "cell_type": "markdown",
   "source": "### Introduction:\n\nThis time you will download a dataset from the UCI.\n\n### Step 1. Import the necessary libraries",
   "metadata": {
    "id": "zCYO2DJnTa3u",
    "cell_id": "00001-402aee7a-1e34-4346-8a6c-f51d67f3a8c0",
    "deepnote_cell_type": "markdown"
   }
  },
  {
   "cell_type": "code",
   "metadata": {
    "id": "PVngZhS1Ta3u",
    "executionInfo": {
     "status": "ok",
     "timestamp": 1623624953650,
     "user_tz": 240,
     "elapsed": 462,
     "user": {
      "displayName": "Andrés Sánchez",
      "photoUrl": "https://lh3.googleusercontent.com/a-/AOh14Gg69bZMv30ckb-T1MJy0nSxWIHUaP0p2uP6MYBuvQ=s64",
      "userId": "07985253921366566280"
     }
    },
    "cell_id": "00002-3153dbff-1b4c-445a-9958-8cd1c2e11ec5",
    "deepnote_to_be_reexecuted": false,
    "source_hash": "c76c7c51",
    "execution_start": 1630097976810,
    "execution_millis": 5,
    "deepnote_cell_type": "code"
   },
   "source": "import pandas as pd\nimport numpy as np",
   "execution_count": 1,
   "outputs": []
  },
  {
   "cell_type": "markdown",
   "source": "### Step 2. Import the dataset from this [address](https://raw.githubusercontent.com/guipsamora/pandas_exercises/master/04_Apply/Students_Alcohol_Consumption/student-mat.csv).",
   "metadata": {
    "id": "-9Yz3pSZTa3u",
    "cell_id": "00003-00f0bad0-0893-4dcc-a9ab-d2c4200ab790",
    "deepnote_cell_type": "markdown"
   }
  },
  {
   "cell_type": "markdown",
   "source": "### Step 3. Assign it to a variable called df.",
   "metadata": {
    "id": "z1jXos_yTa3v",
    "cell_id": "00004-e54a190d-d4d6-4bc6-949e-e33167d32a2f",
    "deepnote_cell_type": "markdown"
   }
  },
  {
   "cell_type": "code",
   "metadata": {
    "colab": {
     "base_uri": "https://localhost:8080/"
    },
    "id": "BszOcMHJTa3v",
    "executionInfo": {
     "status": "ok",
     "timestamp": 1623624955056,
     "user_tz": 240,
     "elapsed": 359,
     "user": {
      "displayName": "Andrés Sánchez",
      "photoUrl": "https://lh3.googleusercontent.com/a-/AOh14Gg69bZMv30ckb-T1MJy0nSxWIHUaP0p2uP6MYBuvQ=s64",
      "userId": "07985253921366566280"
     }
    },
    "outputId": "ec967e72-5962-4d91-af7c-854e782b0540",
    "cell_id": "00005-d6d75483-25ca-4076-8930-6f939fe1febc",
    "deepnote_to_be_reexecuted": false,
    "source_hash": "e45e8726",
    "execution_start": 1630097976819,
    "execution_millis": 97,
    "deepnote_cell_type": "code"
   },
   "source": "df = pd.read_csv('https://raw.githubusercontent.com/guipsamora/pandas_exercises/master/04_Apply/Students_Alcohol_Consumption/student-mat.csv')\ndf.columns",
   "execution_count": 2,
   "outputs": [
    {
     "output_type": "execute_result",
     "execution_count": 2,
     "data": {
      "text/plain": "Index(['school', 'sex', 'age', 'address', 'famsize', 'Pstatus', 'Medu', 'Fedu',\n       'Mjob', 'Fjob', 'reason', 'guardian', 'traveltime', 'studytime',\n       'failures', 'schoolsup', 'famsup', 'paid', 'activities', 'nursery',\n       'higher', 'internet', 'romantic', 'famrel', 'freetime', 'goout', 'Dalc',\n       'Walc', 'health', 'absences', 'G1', 'G2', 'G3'],\n      dtype='object')"
     },
     "metadata": {}
    }
   ]
  },
  {
   "cell_type": "markdown",
   "source": "### Step 4. For the purpose of this exercise slice the dataframe from 'school' until the 'guardian' column",
   "metadata": {
    "id": "BxdLQVF-Ta3v",
    "cell_id": "00006-79e3181c-1d57-41a6-bda6-eae635c0620f",
    "deepnote_cell_type": "markdown"
   }
  },
  {
   "cell_type": "code",
   "metadata": {
    "colab": {
     "base_uri": "https://localhost:8080/",
     "height": 1000
    },
    "id": "izy4-1NPTa3v",
    "executionInfo": {
     "status": "ok",
     "timestamp": 1623624955057,
     "user_tz": 240,
     "elapsed": 16,
     "user": {
      "displayName": "Andrés Sánchez",
      "photoUrl": "https://lh3.googleusercontent.com/a-/AOh14Gg69bZMv30ckb-T1MJy0nSxWIHUaP0p2uP6MYBuvQ=s64",
      "userId": "07985253921366566280"
     }
    },
    "outputId": "03c4a626-35b5-42a5-9c1d-207dbbbded69",
    "cell_id": "00007-d2997a57-0938-4392-9e18-29401d29fee5",
    "deepnote_to_be_reexecuted": false,
    "source_hash": "f86e2e36",
    "execution_start": 1630097976920,
    "execution_millis": 55,
    "deepnote_cell_type": "code"
   },
   "source": "df = df.iloc[:,0:12]\ndf",
   "execution_count": 3,
   "outputs": [
    {
     "output_type": "execute_result",
     "execution_count": 3,
     "data": {
      "application/vnd.deepnote.dataframe.v2+json": {
       "row_count": 395,
       "column_count": 12,
       "columns": [
        {
         "name": "school",
         "dtype": "object",
         "stats": {
          "unique_count": 2,
          "nan_count": 0,
          "categories": [
           {
            "name": "GP",
            "count": 349
           },
           {
            "name": "MS",
            "count": 46
           }
          ]
         }
        },
        {
         "name": "sex",
         "dtype": "object",
         "stats": {
          "unique_count": 2,
          "nan_count": 0,
          "categories": [
           {
            "name": "F",
            "count": 208
           },
           {
            "name": "M",
            "count": 187
           }
          ]
         }
        },
        {
         "name": "age",
         "dtype": "int64",
         "stats": {
          "unique_count": 8,
          "nan_count": 0,
          "min": "15",
          "max": "22",
          "histogram": [
           {
            "bin_start": 15,
            "bin_end": 15.7,
            "count": 82
           },
           {
            "bin_start": 15.7,
            "bin_end": 16.4,
            "count": 104
           },
           {
            "bin_start": 16.4,
            "bin_end": 17.1,
            "count": 98
           },
           {
            "bin_start": 17.1,
            "bin_end": 17.8,
            "count": 0
           },
           {
            "bin_start": 17.8,
            "bin_end": 18.5,
            "count": 82
           },
           {
            "bin_start": 18.5,
            "bin_end": 19.2,
            "count": 24
           },
           {
            "bin_start": 19.2,
            "bin_end": 19.9,
            "count": 0
           },
           {
            "bin_start": 19.9,
            "bin_end": 20.6,
            "count": 3
           },
           {
            "bin_start": 20.6,
            "bin_end": 21.3,
            "count": 1
           },
           {
            "bin_start": 21.3,
            "bin_end": 22,
            "count": 1
           }
          ]
         }
        },
        {
         "name": "address",
         "dtype": "object",
         "stats": {
          "unique_count": 2,
          "nan_count": 0,
          "categories": [
           {
            "name": "U",
            "count": 307
           },
           {
            "name": "R",
            "count": 88
           }
          ]
         }
        },
        {
         "name": "famsize",
         "dtype": "object",
         "stats": {
          "unique_count": 2,
          "nan_count": 0,
          "categories": [
           {
            "name": "GT3",
            "count": 281
           },
           {
            "name": "LE3",
            "count": 114
           }
          ]
         }
        },
        {
         "name": "Pstatus",
         "dtype": "object",
         "stats": {
          "unique_count": 2,
          "nan_count": 0,
          "categories": [
           {
            "name": "T",
            "count": 354
           },
           {
            "name": "A",
            "count": 41
           }
          ]
         }
        },
        {
         "name": "Medu",
         "dtype": "int64",
         "stats": {
          "unique_count": 5,
          "nan_count": 0,
          "min": "0",
          "max": "4",
          "histogram": [
           {
            "bin_start": 0,
            "bin_end": 0.4,
            "count": 3
           },
           {
            "bin_start": 0.4,
            "bin_end": 0.8,
            "count": 0
           },
           {
            "bin_start": 0.8,
            "bin_end": 1.2000000000000002,
            "count": 59
           },
           {
            "bin_start": 1.2000000000000002,
            "bin_end": 1.6,
            "count": 0
           },
           {
            "bin_start": 1.6,
            "bin_end": 2,
            "count": 0
           },
           {
            "bin_start": 2,
            "bin_end": 2.4000000000000004,
            "count": 103
           },
           {
            "bin_start": 2.4000000000000004,
            "bin_end": 2.8000000000000003,
            "count": 0
           },
           {
            "bin_start": 2.8000000000000003,
            "bin_end": 3.2,
            "count": 99
           },
           {
            "bin_start": 3.2,
            "bin_end": 3.6,
            "count": 0
           },
           {
            "bin_start": 3.6,
            "bin_end": 4,
            "count": 131
           }
          ]
         }
        },
        {
         "name": "Fedu",
         "dtype": "int64",
         "stats": {
          "unique_count": 5,
          "nan_count": 0,
          "min": "0",
          "max": "4",
          "histogram": [
           {
            "bin_start": 0,
            "bin_end": 0.4,
            "count": 2
           },
           {
            "bin_start": 0.4,
            "bin_end": 0.8,
            "count": 0
           },
           {
            "bin_start": 0.8,
            "bin_end": 1.2000000000000002,
            "count": 82
           },
           {
            "bin_start": 1.2000000000000002,
            "bin_end": 1.6,
            "count": 0
           },
           {
            "bin_start": 1.6,
            "bin_end": 2,
            "count": 0
           },
           {
            "bin_start": 2,
            "bin_end": 2.4000000000000004,
            "count": 115
           },
           {
            "bin_start": 2.4000000000000004,
            "bin_end": 2.8000000000000003,
            "count": 0
           },
           {
            "bin_start": 2.8000000000000003,
            "bin_end": 3.2,
            "count": 100
           },
           {
            "bin_start": 3.2,
            "bin_end": 3.6,
            "count": 0
           },
           {
            "bin_start": 3.6,
            "bin_end": 4,
            "count": 96
           }
          ]
         }
        },
        {
         "name": "Mjob",
         "dtype": "object",
         "stats": {
          "unique_count": 5,
          "nan_count": 0,
          "categories": [
           {
            "name": "other",
            "count": 141
           },
           {
            "name": "services",
            "count": 103
           },
           {
            "name": "3 others",
            "count": 151
           }
          ]
         }
        },
        {
         "name": "Fjob",
         "dtype": "object",
         "stats": {
          "unique_count": 5,
          "nan_count": 0,
          "categories": [
           {
            "name": "other",
            "count": 217
           },
           {
            "name": "services",
            "count": 111
           },
           {
            "name": "3 others",
            "count": 67
           }
          ]
         }
        },
        {
         "name": "reason",
         "dtype": "object",
         "stats": {
          "unique_count": 4,
          "nan_count": 0,
          "categories": [
           {
            "name": "course",
            "count": 145
           },
           {
            "name": "home",
            "count": 109
           },
           {
            "name": "2 others",
            "count": 141
           }
          ]
         }
        },
        {
         "name": "guardian",
         "dtype": "object",
         "stats": {
          "unique_count": 3,
          "nan_count": 0,
          "categories": [
           {
            "name": "mother",
            "count": 273
           },
           {
            "name": "father",
            "count": 90
           },
           {
            "name": "other",
            "count": 32
           }
          ]
         }
        },
        {
         "name": "_deepnote_index_column",
         "dtype": "int64"
        }
       ],
       "rows_top": [
        {
         "school": "GP",
         "sex": "F",
         "age": 18,
         "address": "U",
         "famsize": "GT3",
         "Pstatus": "A",
         "Medu": 4,
         "Fedu": 4,
         "Mjob": "at_home",
         "Fjob": "teacher",
         "reason": "course",
         "guardian": "mother",
         "_deepnote_index_column": 0
        },
        {
         "school": "GP",
         "sex": "F",
         "age": 17,
         "address": "U",
         "famsize": "GT3",
         "Pstatus": "T",
         "Medu": 1,
         "Fedu": 1,
         "Mjob": "at_home",
         "Fjob": "other",
         "reason": "course",
         "guardian": "father",
         "_deepnote_index_column": 1
        },
        {
         "school": "GP",
         "sex": "F",
         "age": 15,
         "address": "U",
         "famsize": "LE3",
         "Pstatus": "T",
         "Medu": 1,
         "Fedu": 1,
         "Mjob": "at_home",
         "Fjob": "other",
         "reason": "other",
         "guardian": "mother",
         "_deepnote_index_column": 2
        },
        {
         "school": "GP",
         "sex": "F",
         "age": 15,
         "address": "U",
         "famsize": "GT3",
         "Pstatus": "T",
         "Medu": 4,
         "Fedu": 2,
         "Mjob": "health",
         "Fjob": "services",
         "reason": "home",
         "guardian": "mother",
         "_deepnote_index_column": 3
        },
        {
         "school": "GP",
         "sex": "F",
         "age": 16,
         "address": "U",
         "famsize": "GT3",
         "Pstatus": "T",
         "Medu": 3,
         "Fedu": 3,
         "Mjob": "other",
         "Fjob": "other",
         "reason": "home",
         "guardian": "father",
         "_deepnote_index_column": 4
        },
        {
         "school": "GP",
         "sex": "M",
         "age": 16,
         "address": "U",
         "famsize": "LE3",
         "Pstatus": "T",
         "Medu": 4,
         "Fedu": 3,
         "Mjob": "services",
         "Fjob": "other",
         "reason": "reputation",
         "guardian": "mother",
         "_deepnote_index_column": 5
        },
        {
         "school": "GP",
         "sex": "M",
         "age": 16,
         "address": "U",
         "famsize": "LE3",
         "Pstatus": "T",
         "Medu": 2,
         "Fedu": 2,
         "Mjob": "other",
         "Fjob": "other",
         "reason": "home",
         "guardian": "mother",
         "_deepnote_index_column": 6
        },
        {
         "school": "GP",
         "sex": "F",
         "age": 17,
         "address": "U",
         "famsize": "GT3",
         "Pstatus": "A",
         "Medu": 4,
         "Fedu": 4,
         "Mjob": "other",
         "Fjob": "teacher",
         "reason": "home",
         "guardian": "mother",
         "_deepnote_index_column": 7
        },
        {
         "school": "GP",
         "sex": "M",
         "age": 15,
         "address": "U",
         "famsize": "LE3",
         "Pstatus": "A",
         "Medu": 3,
         "Fedu": 2,
         "Mjob": "services",
         "Fjob": "other",
         "reason": "home",
         "guardian": "mother",
         "_deepnote_index_column": 8
        },
        {
         "school": "GP",
         "sex": "M",
         "age": 15,
         "address": "U",
         "famsize": "GT3",
         "Pstatus": "T",
         "Medu": 3,
         "Fedu": 4,
         "Mjob": "other",
         "Fjob": "other",
         "reason": "home",
         "guardian": "mother",
         "_deepnote_index_column": 9
        },
        {
         "school": "GP",
         "sex": "F",
         "age": 15,
         "address": "U",
         "famsize": "GT3",
         "Pstatus": "T",
         "Medu": 4,
         "Fedu": 4,
         "Mjob": "teacher",
         "Fjob": "health",
         "reason": "reputation",
         "guardian": "mother",
         "_deepnote_index_column": 10
        },
        {
         "school": "GP",
         "sex": "F",
         "age": 15,
         "address": "U",
         "famsize": "GT3",
         "Pstatus": "T",
         "Medu": 2,
         "Fedu": 1,
         "Mjob": "services",
         "Fjob": "other",
         "reason": "reputation",
         "guardian": "father",
         "_deepnote_index_column": 11
        },
        {
         "school": "GP",
         "sex": "M",
         "age": 15,
         "address": "U",
         "famsize": "LE3",
         "Pstatus": "T",
         "Medu": 4,
         "Fedu": 4,
         "Mjob": "health",
         "Fjob": "services",
         "reason": "course",
         "guardian": "father",
         "_deepnote_index_column": 12
        },
        {
         "school": "GP",
         "sex": "M",
         "age": 15,
         "address": "U",
         "famsize": "GT3",
         "Pstatus": "T",
         "Medu": 4,
         "Fedu": 3,
         "Mjob": "teacher",
         "Fjob": "other",
         "reason": "course",
         "guardian": "mother",
         "_deepnote_index_column": 13
        },
        {
         "school": "GP",
         "sex": "M",
         "age": 15,
         "address": "U",
         "famsize": "GT3",
         "Pstatus": "A",
         "Medu": 2,
         "Fedu": 2,
         "Mjob": "other",
         "Fjob": "other",
         "reason": "home",
         "guardian": "other",
         "_deepnote_index_column": 14
        },
        {
         "school": "GP",
         "sex": "F",
         "age": 16,
         "address": "U",
         "famsize": "GT3",
         "Pstatus": "T",
         "Medu": 4,
         "Fedu": 4,
         "Mjob": "health",
         "Fjob": "other",
         "reason": "home",
         "guardian": "mother",
         "_deepnote_index_column": 15
        },
        {
         "school": "GP",
         "sex": "F",
         "age": 16,
         "address": "U",
         "famsize": "GT3",
         "Pstatus": "T",
         "Medu": 4,
         "Fedu": 4,
         "Mjob": "services",
         "Fjob": "services",
         "reason": "reputation",
         "guardian": "mother",
         "_deepnote_index_column": 16
        },
        {
         "school": "GP",
         "sex": "F",
         "age": 16,
         "address": "U",
         "famsize": "GT3",
         "Pstatus": "T",
         "Medu": 3,
         "Fedu": 3,
         "Mjob": "other",
         "Fjob": "other",
         "reason": "reputation",
         "guardian": "mother",
         "_deepnote_index_column": 17
        },
        {
         "school": "GP",
         "sex": "M",
         "age": 17,
         "address": "U",
         "famsize": "GT3",
         "Pstatus": "T",
         "Medu": 3,
         "Fedu": 2,
         "Mjob": "services",
         "Fjob": "services",
         "reason": "course",
         "guardian": "mother",
         "_deepnote_index_column": 18
        },
        {
         "school": "GP",
         "sex": "M",
         "age": 16,
         "address": "U",
         "famsize": "LE3",
         "Pstatus": "T",
         "Medu": 4,
         "Fedu": 3,
         "Mjob": "health",
         "Fjob": "other",
         "reason": "home",
         "guardian": "father",
         "_deepnote_index_column": 19
        },
        {
         "school": "GP",
         "sex": "M",
         "age": 15,
         "address": "U",
         "famsize": "GT3",
         "Pstatus": "T",
         "Medu": 4,
         "Fedu": 3,
         "Mjob": "teacher",
         "Fjob": "other",
         "reason": "reputation",
         "guardian": "mother",
         "_deepnote_index_column": 20
        },
        {
         "school": "GP",
         "sex": "M",
         "age": 15,
         "address": "U",
         "famsize": "GT3",
         "Pstatus": "T",
         "Medu": 4,
         "Fedu": 4,
         "Mjob": "health",
         "Fjob": "health",
         "reason": "other",
         "guardian": "father",
         "_deepnote_index_column": 21
        },
        {
         "school": "GP",
         "sex": "M",
         "age": 16,
         "address": "U",
         "famsize": "LE3",
         "Pstatus": "T",
         "Medu": 4,
         "Fedu": 2,
         "Mjob": "teacher",
         "Fjob": "other",
         "reason": "course",
         "guardian": "mother",
         "_deepnote_index_column": 22
        },
        {
         "school": "GP",
         "sex": "M",
         "age": 16,
         "address": "U",
         "famsize": "LE3",
         "Pstatus": "T",
         "Medu": 2,
         "Fedu": 2,
         "Mjob": "other",
         "Fjob": "other",
         "reason": "reputation",
         "guardian": "mother",
         "_deepnote_index_column": 23
        },
        {
         "school": "GP",
         "sex": "F",
         "age": 15,
         "address": "R",
         "famsize": "GT3",
         "Pstatus": "T",
         "Medu": 2,
         "Fedu": 4,
         "Mjob": "services",
         "Fjob": "health",
         "reason": "course",
         "guardian": "mother",
         "_deepnote_index_column": 24
        },
        {
         "school": "GP",
         "sex": "F",
         "age": 16,
         "address": "U",
         "famsize": "GT3",
         "Pstatus": "T",
         "Medu": 2,
         "Fedu": 2,
         "Mjob": "services",
         "Fjob": "services",
         "reason": "home",
         "guardian": "mother",
         "_deepnote_index_column": 25
        },
        {
         "school": "GP",
         "sex": "M",
         "age": 15,
         "address": "U",
         "famsize": "GT3",
         "Pstatus": "T",
         "Medu": 2,
         "Fedu": 2,
         "Mjob": "other",
         "Fjob": "other",
         "reason": "home",
         "guardian": "mother",
         "_deepnote_index_column": 26
        },
        {
         "school": "GP",
         "sex": "M",
         "age": 15,
         "address": "U",
         "famsize": "GT3",
         "Pstatus": "T",
         "Medu": 4,
         "Fedu": 2,
         "Mjob": "health",
         "Fjob": "services",
         "reason": "other",
         "guardian": "mother",
         "_deepnote_index_column": 27
        },
        {
         "school": "GP",
         "sex": "M",
         "age": 16,
         "address": "U",
         "famsize": "LE3",
         "Pstatus": "A",
         "Medu": 3,
         "Fedu": 4,
         "Mjob": "services",
         "Fjob": "other",
         "reason": "home",
         "guardian": "mother",
         "_deepnote_index_column": 28
        },
        {
         "school": "GP",
         "sex": "M",
         "age": 16,
         "address": "U",
         "famsize": "GT3",
         "Pstatus": "T",
         "Medu": 4,
         "Fedu": 4,
         "Mjob": "teacher",
         "Fjob": "teacher",
         "reason": "home",
         "guardian": "mother",
         "_deepnote_index_column": 29
        },
        {
         "school": "GP",
         "sex": "M",
         "age": 15,
         "address": "U",
         "famsize": "GT3",
         "Pstatus": "T",
         "Medu": 4,
         "Fedu": 4,
         "Mjob": "health",
         "Fjob": "services",
         "reason": "home",
         "guardian": "mother",
         "_deepnote_index_column": 30
        },
        {
         "school": "GP",
         "sex": "M",
         "age": 15,
         "address": "U",
         "famsize": "GT3",
         "Pstatus": "T",
         "Medu": 4,
         "Fedu": 4,
         "Mjob": "services",
         "Fjob": "services",
         "reason": "reputation",
         "guardian": "mother",
         "_deepnote_index_column": 31
        },
        {
         "school": "GP",
         "sex": "M",
         "age": 15,
         "address": "R",
         "famsize": "GT3",
         "Pstatus": "T",
         "Medu": 4,
         "Fedu": 3,
         "Mjob": "teacher",
         "Fjob": "at_home",
         "reason": "course",
         "guardian": "mother",
         "_deepnote_index_column": 32
        },
        {
         "school": "GP",
         "sex": "M",
         "age": 15,
         "address": "U",
         "famsize": "LE3",
         "Pstatus": "T",
         "Medu": 3,
         "Fedu": 3,
         "Mjob": "other",
         "Fjob": "other",
         "reason": "course",
         "guardian": "mother",
         "_deepnote_index_column": 33
        },
        {
         "school": "GP",
         "sex": "M",
         "age": 16,
         "address": "U",
         "famsize": "GT3",
         "Pstatus": "T",
         "Medu": 3,
         "Fedu": 2,
         "Mjob": "other",
         "Fjob": "other",
         "reason": "home",
         "guardian": "mother",
         "_deepnote_index_column": 34
        },
        {
         "school": "GP",
         "sex": "F",
         "age": 15,
         "address": "U",
         "famsize": "GT3",
         "Pstatus": "T",
         "Medu": 2,
         "Fedu": 3,
         "Mjob": "other",
         "Fjob": "other",
         "reason": "other",
         "guardian": "father",
         "_deepnote_index_column": 35
        },
        {
         "school": "GP",
         "sex": "M",
         "age": 15,
         "address": "U",
         "famsize": "LE3",
         "Pstatus": "T",
         "Medu": 4,
         "Fedu": 3,
         "Mjob": "teacher",
         "Fjob": "services",
         "reason": "home",
         "guardian": "mother",
         "_deepnote_index_column": 36
        },
        {
         "school": "GP",
         "sex": "M",
         "age": 16,
         "address": "R",
         "famsize": "GT3",
         "Pstatus": "A",
         "Medu": 4,
         "Fedu": 4,
         "Mjob": "other",
         "Fjob": "teacher",
         "reason": "reputation",
         "guardian": "mother",
         "_deepnote_index_column": 37
        },
        {
         "school": "GP",
         "sex": "F",
         "age": 15,
         "address": "R",
         "famsize": "GT3",
         "Pstatus": "T",
         "Medu": 3,
         "Fedu": 4,
         "Mjob": "services",
         "Fjob": "health",
         "reason": "course",
         "guardian": "mother",
         "_deepnote_index_column": 38
        },
        {
         "school": "GP",
         "sex": "F",
         "age": 15,
         "address": "R",
         "famsize": "GT3",
         "Pstatus": "T",
         "Medu": 2,
         "Fedu": 2,
         "Mjob": "at_home",
         "Fjob": "other",
         "reason": "reputation",
         "guardian": "mother",
         "_deepnote_index_column": 39
        },
        {
         "school": "GP",
         "sex": "F",
         "age": 16,
         "address": "U",
         "famsize": "LE3",
         "Pstatus": "T",
         "Medu": 2,
         "Fedu": 2,
         "Mjob": "other",
         "Fjob": "other",
         "reason": "home",
         "guardian": "mother",
         "_deepnote_index_column": 40
        }
       ],
       "rows_bottom": [
        {
         "school": "MS",
         "sex": "M",
         "age": 19,
         "address": "R",
         "famsize": "GT3",
         "Pstatus": "T",
         "Medu": 1,
         "Fedu": 1,
         "Mjob": "other",
         "Fjob": "other",
         "reason": "home",
         "guardian": "other",
         "_deepnote_index_column": 353
        },
        {
         "school": "MS",
         "sex": "M",
         "age": 17,
         "address": "R",
         "famsize": "GT3",
         "Pstatus": "T",
         "Medu": 4,
         "Fedu": 3,
         "Mjob": "services",
         "Fjob": "other",
         "reason": "home",
         "guardian": "mother",
         "_deepnote_index_column": 354
        },
        {
         "school": "MS",
         "sex": "F",
         "age": 18,
         "address": "U",
         "famsize": "GT3",
         "Pstatus": "T",
         "Medu": 3,
         "Fedu": 3,
         "Mjob": "services",
         "Fjob": "services",
         "reason": "course",
         "guardian": "father",
         "_deepnote_index_column": 355
        },
        {
         "school": "MS",
         "sex": "F",
         "age": 17,
         "address": "R",
         "famsize": "GT3",
         "Pstatus": "T",
         "Medu": 4,
         "Fedu": 4,
         "Mjob": "teacher",
         "Fjob": "services",
         "reason": "other",
         "guardian": "father",
         "_deepnote_index_column": 356
        },
        {
         "school": "MS",
         "sex": "F",
         "age": 17,
         "address": "U",
         "famsize": "LE3",
         "Pstatus": "A",
         "Medu": 3,
         "Fedu": 2,
         "Mjob": "services",
         "Fjob": "other",
         "reason": "reputation",
         "guardian": "mother",
         "_deepnote_index_column": 357
        },
        {
         "school": "MS",
         "sex": "M",
         "age": 18,
         "address": "U",
         "famsize": "LE3",
         "Pstatus": "T",
         "Medu": 1,
         "Fedu": 1,
         "Mjob": "other",
         "Fjob": "services",
         "reason": "home",
         "guardian": "father",
         "_deepnote_index_column": 358
        },
        {
         "school": "MS",
         "sex": "F",
         "age": 18,
         "address": "U",
         "famsize": "LE3",
         "Pstatus": "T",
         "Medu": 1,
         "Fedu": 1,
         "Mjob": "at_home",
         "Fjob": "services",
         "reason": "course",
         "guardian": "father",
         "_deepnote_index_column": 359
        },
        {
         "school": "MS",
         "sex": "F",
         "age": 18,
         "address": "R",
         "famsize": "LE3",
         "Pstatus": "A",
         "Medu": 1,
         "Fedu": 4,
         "Mjob": "at_home",
         "Fjob": "other",
         "reason": "course",
         "guardian": "mother",
         "_deepnote_index_column": 360
        },
        {
         "school": "MS",
         "sex": "M",
         "age": 18,
         "address": "R",
         "famsize": "LE3",
         "Pstatus": "T",
         "Medu": 1,
         "Fedu": 1,
         "Mjob": "at_home",
         "Fjob": "other",
         "reason": "other",
         "guardian": "mother",
         "_deepnote_index_column": 361
        },
        {
         "school": "MS",
         "sex": "F",
         "age": 18,
         "address": "U",
         "famsize": "GT3",
         "Pstatus": "T",
         "Medu": 3,
         "Fedu": 3,
         "Mjob": "services",
         "Fjob": "services",
         "reason": "other",
         "guardian": "mother",
         "_deepnote_index_column": 362
        },
        {
         "school": "MS",
         "sex": "F",
         "age": 17,
         "address": "U",
         "famsize": "LE3",
         "Pstatus": "T",
         "Medu": 4,
         "Fedu": 4,
         "Mjob": "at_home",
         "Fjob": "at_home",
         "reason": "course",
         "guardian": "mother",
         "_deepnote_index_column": 363
        },
        {
         "school": "MS",
         "sex": "F",
         "age": 17,
         "address": "R",
         "famsize": "GT3",
         "Pstatus": "T",
         "Medu": 1,
         "Fedu": 2,
         "Mjob": "other",
         "Fjob": "services",
         "reason": "course",
         "guardian": "father",
         "_deepnote_index_column": 364
        },
        {
         "school": "MS",
         "sex": "M",
         "age": 18,
         "address": "R",
         "famsize": "GT3",
         "Pstatus": "T",
         "Medu": 1,
         "Fedu": 3,
         "Mjob": "at_home",
         "Fjob": "other",
         "reason": "course",
         "guardian": "mother",
         "_deepnote_index_column": 365
        },
        {
         "school": "MS",
         "sex": "M",
         "age": 18,
         "address": "U",
         "famsize": "LE3",
         "Pstatus": "T",
         "Medu": 4,
         "Fedu": 4,
         "Mjob": "teacher",
         "Fjob": "services",
         "reason": "other",
         "guardian": "mother",
         "_deepnote_index_column": 366
        },
        {
         "school": "MS",
         "sex": "F",
         "age": 17,
         "address": "R",
         "famsize": "GT3",
         "Pstatus": "T",
         "Medu": 1,
         "Fedu": 1,
         "Mjob": "other",
         "Fjob": "services",
         "reason": "reputation",
         "guardian": "mother",
         "_deepnote_index_column": 367
        },
        {
         "school": "MS",
         "sex": "F",
         "age": 18,
         "address": "U",
         "famsize": "GT3",
         "Pstatus": "T",
         "Medu": 2,
         "Fedu": 3,
         "Mjob": "at_home",
         "Fjob": "services",
         "reason": "course",
         "guardian": "father",
         "_deepnote_index_column": 368
        },
        {
         "school": "MS",
         "sex": "F",
         "age": 18,
         "address": "R",
         "famsize": "GT3",
         "Pstatus": "T",
         "Medu": 4,
         "Fedu": 4,
         "Mjob": "other",
         "Fjob": "teacher",
         "reason": "other",
         "guardian": "father",
         "_deepnote_index_column": 369
        },
        {
         "school": "MS",
         "sex": "F",
         "age": 19,
         "address": "U",
         "famsize": "LE3",
         "Pstatus": "T",
         "Medu": 3,
         "Fedu": 2,
         "Mjob": "services",
         "Fjob": "services",
         "reason": "home",
         "guardian": "other",
         "_deepnote_index_column": 370
        },
        {
         "school": "MS",
         "sex": "M",
         "age": 18,
         "address": "R",
         "famsize": "LE3",
         "Pstatus": "T",
         "Medu": 1,
         "Fedu": 2,
         "Mjob": "at_home",
         "Fjob": "services",
         "reason": "other",
         "guardian": "father",
         "_deepnote_index_column": 371
        },
        {
         "school": "MS",
         "sex": "F",
         "age": 17,
         "address": "U",
         "famsize": "GT3",
         "Pstatus": "T",
         "Medu": 2,
         "Fedu": 2,
         "Mjob": "other",
         "Fjob": "at_home",
         "reason": "home",
         "guardian": "mother",
         "_deepnote_index_column": 372
        },
        {
         "school": "MS",
         "sex": "F",
         "age": 17,
         "address": "R",
         "famsize": "GT3",
         "Pstatus": "T",
         "Medu": 1,
         "Fedu": 2,
         "Mjob": "other",
         "Fjob": "other",
         "reason": "course",
         "guardian": "mother",
         "_deepnote_index_column": 373
        },
        {
         "school": "MS",
         "sex": "F",
         "age": 18,
         "address": "R",
         "famsize": "LE3",
         "Pstatus": "T",
         "Medu": 4,
         "Fedu": 4,
         "Mjob": "other",
         "Fjob": "other",
         "reason": "reputation",
         "guardian": "mother",
         "_deepnote_index_column": 374
        },
        {
         "school": "MS",
         "sex": "F",
         "age": 18,
         "address": "R",
         "famsize": "GT3",
         "Pstatus": "T",
         "Medu": 1,
         "Fedu": 1,
         "Mjob": "other",
         "Fjob": "other",
         "reason": "home",
         "guardian": "mother",
         "_deepnote_index_column": 375
        },
        {
         "school": "MS",
         "sex": "F",
         "age": 20,
         "address": "U",
         "famsize": "GT3",
         "Pstatus": "T",
         "Medu": 4,
         "Fedu": 2,
         "Mjob": "health",
         "Fjob": "other",
         "reason": "course",
         "guardian": "other",
         "_deepnote_index_column": 376
        },
        {
         "school": "MS",
         "sex": "F",
         "age": 18,
         "address": "R",
         "famsize": "LE3",
         "Pstatus": "T",
         "Medu": 4,
         "Fedu": 4,
         "Mjob": "teacher",
         "Fjob": "services",
         "reason": "course",
         "guardian": "mother",
         "_deepnote_index_column": 377
        },
        {
         "school": "MS",
         "sex": "F",
         "age": 18,
         "address": "U",
         "famsize": "GT3",
         "Pstatus": "T",
         "Medu": 3,
         "Fedu": 3,
         "Mjob": "other",
         "Fjob": "other",
         "reason": "home",
         "guardian": "mother",
         "_deepnote_index_column": 378
        },
        {
         "school": "MS",
         "sex": "F",
         "age": 17,
         "address": "R",
         "famsize": "GT3",
         "Pstatus": "T",
         "Medu": 3,
         "Fedu": 1,
         "Mjob": "at_home",
         "Fjob": "other",
         "reason": "reputation",
         "guardian": "mother",
         "_deepnote_index_column": 379
        },
        {
         "school": "MS",
         "sex": "M",
         "age": 18,
         "address": "U",
         "famsize": "GT3",
         "Pstatus": "T",
         "Medu": 4,
         "Fedu": 4,
         "Mjob": "teacher",
         "Fjob": "teacher",
         "reason": "home",
         "guardian": "father",
         "_deepnote_index_column": 380
        },
        {
         "school": "MS",
         "sex": "M",
         "age": 18,
         "address": "R",
         "famsize": "GT3",
         "Pstatus": "T",
         "Medu": 2,
         "Fedu": 1,
         "Mjob": "other",
         "Fjob": "other",
         "reason": "other",
         "guardian": "mother",
         "_deepnote_index_column": 381
        },
        {
         "school": "MS",
         "sex": "M",
         "age": 17,
         "address": "U",
         "famsize": "GT3",
         "Pstatus": "T",
         "Medu": 2,
         "Fedu": 3,
         "Mjob": "other",
         "Fjob": "services",
         "reason": "home",
         "guardian": "father",
         "_deepnote_index_column": 382
        },
        {
         "school": "MS",
         "sex": "M",
         "age": 19,
         "address": "R",
         "famsize": "GT3",
         "Pstatus": "T",
         "Medu": 1,
         "Fedu": 1,
         "Mjob": "other",
         "Fjob": "services",
         "reason": "other",
         "guardian": "mother",
         "_deepnote_index_column": 383
        },
        {
         "school": "MS",
         "sex": "M",
         "age": 18,
         "address": "R",
         "famsize": "GT3",
         "Pstatus": "T",
         "Medu": 4,
         "Fedu": 2,
         "Mjob": "other",
         "Fjob": "other",
         "reason": "home",
         "guardian": "father",
         "_deepnote_index_column": 384
        },
        {
         "school": "MS",
         "sex": "F",
         "age": 18,
         "address": "R",
         "famsize": "GT3",
         "Pstatus": "T",
         "Medu": 2,
         "Fedu": 2,
         "Mjob": "at_home",
         "Fjob": "other",
         "reason": "other",
         "guardian": "mother",
         "_deepnote_index_column": 385
        },
        {
         "school": "MS",
         "sex": "F",
         "age": 18,
         "address": "R",
         "famsize": "GT3",
         "Pstatus": "T",
         "Medu": 4,
         "Fedu": 4,
         "Mjob": "teacher",
         "Fjob": "at_home",
         "reason": "reputation",
         "guardian": "mother",
         "_deepnote_index_column": 386
        },
        {
         "school": "MS",
         "sex": "F",
         "age": 19,
         "address": "R",
         "famsize": "GT3",
         "Pstatus": "T",
         "Medu": 2,
         "Fedu": 3,
         "Mjob": "services",
         "Fjob": "other",
         "reason": "course",
         "guardian": "mother",
         "_deepnote_index_column": 387
        },
        {
         "school": "MS",
         "sex": "F",
         "age": 18,
         "address": "U",
         "famsize": "LE3",
         "Pstatus": "T",
         "Medu": 3,
         "Fedu": 1,
         "Mjob": "teacher",
         "Fjob": "services",
         "reason": "course",
         "guardian": "mother",
         "_deepnote_index_column": 388
        },
        {
         "school": "MS",
         "sex": "F",
         "age": 18,
         "address": "U",
         "famsize": "GT3",
         "Pstatus": "T",
         "Medu": 1,
         "Fedu": 1,
         "Mjob": "other",
         "Fjob": "other",
         "reason": "course",
         "guardian": "mother",
         "_deepnote_index_column": 389
        },
        {
         "school": "MS",
         "sex": "M",
         "age": 20,
         "address": "U",
         "famsize": "LE3",
         "Pstatus": "A",
         "Medu": 2,
         "Fedu": 2,
         "Mjob": "services",
         "Fjob": "services",
         "reason": "course",
         "guardian": "other",
         "_deepnote_index_column": 390
        },
        {
         "school": "MS",
         "sex": "M",
         "age": 17,
         "address": "U",
         "famsize": "LE3",
         "Pstatus": "T",
         "Medu": 3,
         "Fedu": 1,
         "Mjob": "services",
         "Fjob": "services",
         "reason": "course",
         "guardian": "mother",
         "_deepnote_index_column": 391
        },
        {
         "school": "MS",
         "sex": "M",
         "age": 21,
         "address": "R",
         "famsize": "GT3",
         "Pstatus": "T",
         "Medu": 1,
         "Fedu": 1,
         "Mjob": "other",
         "Fjob": "other",
         "reason": "course",
         "guardian": "other",
         "_deepnote_index_column": 392
        },
        {
         "school": "MS",
         "sex": "M",
         "age": 18,
         "address": "R",
         "famsize": "LE3",
         "Pstatus": "T",
         "Medu": 3,
         "Fedu": 2,
         "Mjob": "services",
         "Fjob": "other",
         "reason": "course",
         "guardian": "mother",
         "_deepnote_index_column": 393
        },
        {
         "school": "MS",
         "sex": "M",
         "age": 19,
         "address": "U",
         "famsize": "LE3",
         "Pstatus": "T",
         "Medu": 1,
         "Fedu": 1,
         "Mjob": "other",
         "Fjob": "at_home",
         "reason": "course",
         "guardian": "father",
         "_deepnote_index_column": 394
        }
       ]
      },
      "text/plain": "    school sex  age address famsize Pstatus  Medu  Fedu      Mjob      Fjob  \\\n0       GP   F   18       U     GT3       A     4     4   at_home   teacher   \n1       GP   F   17       U     GT3       T     1     1   at_home     other   \n2       GP   F   15       U     LE3       T     1     1   at_home     other   \n3       GP   F   15       U     GT3       T     4     2    health  services   \n4       GP   F   16       U     GT3       T     3     3     other     other   \n..     ...  ..  ...     ...     ...     ...   ...   ...       ...       ...   \n390     MS   M   20       U     LE3       A     2     2  services  services   \n391     MS   M   17       U     LE3       T     3     1  services  services   \n392     MS   M   21       R     GT3       T     1     1     other     other   \n393     MS   M   18       R     LE3       T     3     2  services     other   \n394     MS   M   19       U     LE3       T     1     1     other   at_home   \n\n     reason guardian  \n0    course   mother  \n1    course   father  \n2     other   mother  \n3      home   mother  \n4      home   father  \n..      ...      ...  \n390  course    other  \n391  course   mother  \n392  course    other  \n393  course   mother  \n394  course   father  \n\n[395 rows x 12 columns]",
      "text/html": "<div>\n<style scoped>\n    .dataframe tbody tr th:only-of-type {\n        vertical-align: middle;\n    }\n\n    .dataframe tbody tr th {\n        vertical-align: top;\n    }\n\n    .dataframe thead th {\n        text-align: right;\n    }\n</style>\n<table border=\"1\" class=\"dataframe\">\n  <thead>\n    <tr style=\"text-align: right;\">\n      <th></th>\n      <th>school</th>\n      <th>sex</th>\n      <th>age</th>\n      <th>address</th>\n      <th>famsize</th>\n      <th>Pstatus</th>\n      <th>Medu</th>\n      <th>Fedu</th>\n      <th>Mjob</th>\n      <th>Fjob</th>\n      <th>reason</th>\n      <th>guardian</th>\n    </tr>\n  </thead>\n  <tbody>\n    <tr>\n      <th>0</th>\n      <td>GP</td>\n      <td>F</td>\n      <td>18</td>\n      <td>U</td>\n      <td>GT3</td>\n      <td>A</td>\n      <td>4</td>\n      <td>4</td>\n      <td>at_home</td>\n      <td>teacher</td>\n      <td>course</td>\n      <td>mother</td>\n    </tr>\n    <tr>\n      <th>1</th>\n      <td>GP</td>\n      <td>F</td>\n      <td>17</td>\n      <td>U</td>\n      <td>GT3</td>\n      <td>T</td>\n      <td>1</td>\n      <td>1</td>\n      <td>at_home</td>\n      <td>other</td>\n      <td>course</td>\n      <td>father</td>\n    </tr>\n    <tr>\n      <th>2</th>\n      <td>GP</td>\n      <td>F</td>\n      <td>15</td>\n      <td>U</td>\n      <td>LE3</td>\n      <td>T</td>\n      <td>1</td>\n      <td>1</td>\n      <td>at_home</td>\n      <td>other</td>\n      <td>other</td>\n      <td>mother</td>\n    </tr>\n    <tr>\n      <th>3</th>\n      <td>GP</td>\n      <td>F</td>\n      <td>15</td>\n      <td>U</td>\n      <td>GT3</td>\n      <td>T</td>\n      <td>4</td>\n      <td>2</td>\n      <td>health</td>\n      <td>services</td>\n      <td>home</td>\n      <td>mother</td>\n    </tr>\n    <tr>\n      <th>4</th>\n      <td>GP</td>\n      <td>F</td>\n      <td>16</td>\n      <td>U</td>\n      <td>GT3</td>\n      <td>T</td>\n      <td>3</td>\n      <td>3</td>\n      <td>other</td>\n      <td>other</td>\n      <td>home</td>\n      <td>father</td>\n    </tr>\n    <tr>\n      <th>...</th>\n      <td>...</td>\n      <td>...</td>\n      <td>...</td>\n      <td>...</td>\n      <td>...</td>\n      <td>...</td>\n      <td>...</td>\n      <td>...</td>\n      <td>...</td>\n      <td>...</td>\n      <td>...</td>\n      <td>...</td>\n    </tr>\n    <tr>\n      <th>390</th>\n      <td>MS</td>\n      <td>M</td>\n      <td>20</td>\n      <td>U</td>\n      <td>LE3</td>\n      <td>A</td>\n      <td>2</td>\n      <td>2</td>\n      <td>services</td>\n      <td>services</td>\n      <td>course</td>\n      <td>other</td>\n    </tr>\n    <tr>\n      <th>391</th>\n      <td>MS</td>\n      <td>M</td>\n      <td>17</td>\n      <td>U</td>\n      <td>LE3</td>\n      <td>T</td>\n      <td>3</td>\n      <td>1</td>\n      <td>services</td>\n      <td>services</td>\n      <td>course</td>\n      <td>mother</td>\n    </tr>\n    <tr>\n      <th>392</th>\n      <td>MS</td>\n      <td>M</td>\n      <td>21</td>\n      <td>R</td>\n      <td>GT3</td>\n      <td>T</td>\n      <td>1</td>\n      <td>1</td>\n      <td>other</td>\n      <td>other</td>\n      <td>course</td>\n      <td>other</td>\n    </tr>\n    <tr>\n      <th>393</th>\n      <td>MS</td>\n      <td>M</td>\n      <td>18</td>\n      <td>R</td>\n      <td>LE3</td>\n      <td>T</td>\n      <td>3</td>\n      <td>2</td>\n      <td>services</td>\n      <td>other</td>\n      <td>course</td>\n      <td>mother</td>\n    </tr>\n    <tr>\n      <th>394</th>\n      <td>MS</td>\n      <td>M</td>\n      <td>19</td>\n      <td>U</td>\n      <td>LE3</td>\n      <td>T</td>\n      <td>1</td>\n      <td>1</td>\n      <td>other</td>\n      <td>at_home</td>\n      <td>course</td>\n      <td>father</td>\n    </tr>\n  </tbody>\n</table>\n<p>395 rows × 12 columns</p>\n</div>"
     },
     "metadata": {}
    }
   ]
  },
  {
   "cell_type": "markdown",
   "source": "### Step 5. Create a lambda function that will capitalize strings.",
   "metadata": {
    "id": "A7kUDsocTa3v",
    "cell_id": "00008-0cb35b1f-be2e-42a5-bbe2-a4568cce8bab",
    "deepnote_cell_type": "markdown"
   }
  },
  {
   "cell_type": "code",
   "metadata": {
    "colab": {
     "base_uri": "https://localhost:8080/",
     "height": 1000
    },
    "id": "4pO9sFsdTa3v",
    "executionInfo": {
     "status": "ok",
     "timestamp": 1623624955058,
     "user_tz": 240,
     "elapsed": 14,
     "user": {
      "displayName": "Andrés Sánchez",
      "photoUrl": "https://lh3.googleusercontent.com/a-/AOh14Gg69bZMv30ckb-T1MJy0nSxWIHUaP0p2uP6MYBuvQ=s64",
      "userId": "07985253921366566280"
     }
    },
    "outputId": "7b76551a-1e6b-4a3e-f1ad-62e38602f94c",
    "cell_id": "00009-5a9ebdb2-02b9-4c61-b4c2-f4dd05ba8b86",
    "deepnote_to_be_reexecuted": false,
    "source_hash": "ec0ee356",
    "execution_start": 1630097976972,
    "execution_millis": 59,
    "deepnote_cell_type": "code"
   },
   "source": "cap = lambda x: x.str.capitalize()\ndf[['Mjob','Fjob','reason','guardian']] = df[['Mjob','Fjob','reason','guardian']].apply(cap)\ndf",
   "execution_count": 4,
   "outputs": [
    {
     "output_type": "execute_result",
     "execution_count": 4,
     "data": {
      "application/vnd.deepnote.dataframe.v2+json": {
       "row_count": 395,
       "column_count": 12,
       "columns": [
        {
         "name": "school",
         "dtype": "object",
         "stats": {
          "unique_count": 2,
          "nan_count": 0,
          "categories": [
           {
            "name": "GP",
            "count": 349
           },
           {
            "name": "MS",
            "count": 46
           }
          ]
         }
        },
        {
         "name": "sex",
         "dtype": "object",
         "stats": {
          "unique_count": 2,
          "nan_count": 0,
          "categories": [
           {
            "name": "F",
            "count": 208
           },
           {
            "name": "M",
            "count": 187
           }
          ]
         }
        },
        {
         "name": "age",
         "dtype": "int64",
         "stats": {
          "unique_count": 8,
          "nan_count": 0,
          "min": "15",
          "max": "22",
          "histogram": [
           {
            "bin_start": 15,
            "bin_end": 15.7,
            "count": 82
           },
           {
            "bin_start": 15.7,
            "bin_end": 16.4,
            "count": 104
           },
           {
            "bin_start": 16.4,
            "bin_end": 17.1,
            "count": 98
           },
           {
            "bin_start": 17.1,
            "bin_end": 17.8,
            "count": 0
           },
           {
            "bin_start": 17.8,
            "bin_end": 18.5,
            "count": 82
           },
           {
            "bin_start": 18.5,
            "bin_end": 19.2,
            "count": 24
           },
           {
            "bin_start": 19.2,
            "bin_end": 19.9,
            "count": 0
           },
           {
            "bin_start": 19.9,
            "bin_end": 20.6,
            "count": 3
           },
           {
            "bin_start": 20.6,
            "bin_end": 21.3,
            "count": 1
           },
           {
            "bin_start": 21.3,
            "bin_end": 22,
            "count": 1
           }
          ]
         }
        },
        {
         "name": "address",
         "dtype": "object",
         "stats": {
          "unique_count": 2,
          "nan_count": 0,
          "categories": [
           {
            "name": "U",
            "count": 307
           },
           {
            "name": "R",
            "count": 88
           }
          ]
         }
        },
        {
         "name": "famsize",
         "dtype": "object",
         "stats": {
          "unique_count": 2,
          "nan_count": 0,
          "categories": [
           {
            "name": "GT3",
            "count": 281
           },
           {
            "name": "LE3",
            "count": 114
           }
          ]
         }
        },
        {
         "name": "Pstatus",
         "dtype": "object",
         "stats": {
          "unique_count": 2,
          "nan_count": 0,
          "categories": [
           {
            "name": "T",
            "count": 354
           },
           {
            "name": "A",
            "count": 41
           }
          ]
         }
        },
        {
         "name": "Medu",
         "dtype": "int64",
         "stats": {
          "unique_count": 5,
          "nan_count": 0,
          "min": "0",
          "max": "4",
          "histogram": [
           {
            "bin_start": 0,
            "bin_end": 0.4,
            "count": 3
           },
           {
            "bin_start": 0.4,
            "bin_end": 0.8,
            "count": 0
           },
           {
            "bin_start": 0.8,
            "bin_end": 1.2000000000000002,
            "count": 59
           },
           {
            "bin_start": 1.2000000000000002,
            "bin_end": 1.6,
            "count": 0
           },
           {
            "bin_start": 1.6,
            "bin_end": 2,
            "count": 0
           },
           {
            "bin_start": 2,
            "bin_end": 2.4000000000000004,
            "count": 103
           },
           {
            "bin_start": 2.4000000000000004,
            "bin_end": 2.8000000000000003,
            "count": 0
           },
           {
            "bin_start": 2.8000000000000003,
            "bin_end": 3.2,
            "count": 99
           },
           {
            "bin_start": 3.2,
            "bin_end": 3.6,
            "count": 0
           },
           {
            "bin_start": 3.6,
            "bin_end": 4,
            "count": 131
           }
          ]
         }
        },
        {
         "name": "Fedu",
         "dtype": "int64",
         "stats": {
          "unique_count": 5,
          "nan_count": 0,
          "min": "0",
          "max": "4",
          "histogram": [
           {
            "bin_start": 0,
            "bin_end": 0.4,
            "count": 2
           },
           {
            "bin_start": 0.4,
            "bin_end": 0.8,
            "count": 0
           },
           {
            "bin_start": 0.8,
            "bin_end": 1.2000000000000002,
            "count": 82
           },
           {
            "bin_start": 1.2000000000000002,
            "bin_end": 1.6,
            "count": 0
           },
           {
            "bin_start": 1.6,
            "bin_end": 2,
            "count": 0
           },
           {
            "bin_start": 2,
            "bin_end": 2.4000000000000004,
            "count": 115
           },
           {
            "bin_start": 2.4000000000000004,
            "bin_end": 2.8000000000000003,
            "count": 0
           },
           {
            "bin_start": 2.8000000000000003,
            "bin_end": 3.2,
            "count": 100
           },
           {
            "bin_start": 3.2,
            "bin_end": 3.6,
            "count": 0
           },
           {
            "bin_start": 3.6,
            "bin_end": 4,
            "count": 96
           }
          ]
         }
        },
        {
         "name": "Mjob",
         "dtype": "object",
         "stats": {
          "unique_count": 5,
          "nan_count": 0,
          "categories": [
           {
            "name": "Other",
            "count": 141
           },
           {
            "name": "Services",
            "count": 103
           },
           {
            "name": "3 others",
            "count": 151
           }
          ]
         }
        },
        {
         "name": "Fjob",
         "dtype": "object",
         "stats": {
          "unique_count": 5,
          "nan_count": 0,
          "categories": [
           {
            "name": "Other",
            "count": 217
           },
           {
            "name": "Services",
            "count": 111
           },
           {
            "name": "3 others",
            "count": 67
           }
          ]
         }
        },
        {
         "name": "reason",
         "dtype": "object",
         "stats": {
          "unique_count": 4,
          "nan_count": 0,
          "categories": [
           {
            "name": "Course",
            "count": 145
           },
           {
            "name": "Home",
            "count": 109
           },
           {
            "name": "2 others",
            "count": 141
           }
          ]
         }
        },
        {
         "name": "guardian",
         "dtype": "object",
         "stats": {
          "unique_count": 3,
          "nan_count": 0,
          "categories": [
           {
            "name": "Mother",
            "count": 273
           },
           {
            "name": "Father",
            "count": 90
           },
           {
            "name": "Other",
            "count": 32
           }
          ]
         }
        },
        {
         "name": "_deepnote_index_column",
         "dtype": "int64"
        }
       ],
       "rows_top": [
        {
         "school": "GP",
         "sex": "F",
         "age": 18,
         "address": "U",
         "famsize": "GT3",
         "Pstatus": "A",
         "Medu": 4,
         "Fedu": 4,
         "Mjob": "At_home",
         "Fjob": "Teacher",
         "reason": "Course",
         "guardian": "Mother",
         "_deepnote_index_column": 0
        },
        {
         "school": "GP",
         "sex": "F",
         "age": 17,
         "address": "U",
         "famsize": "GT3",
         "Pstatus": "T",
         "Medu": 1,
         "Fedu": 1,
         "Mjob": "At_home",
         "Fjob": "Other",
         "reason": "Course",
         "guardian": "Father",
         "_deepnote_index_column": 1
        },
        {
         "school": "GP",
         "sex": "F",
         "age": 15,
         "address": "U",
         "famsize": "LE3",
         "Pstatus": "T",
         "Medu": 1,
         "Fedu": 1,
         "Mjob": "At_home",
         "Fjob": "Other",
         "reason": "Other",
         "guardian": "Mother",
         "_deepnote_index_column": 2
        },
        {
         "school": "GP",
         "sex": "F",
         "age": 15,
         "address": "U",
         "famsize": "GT3",
         "Pstatus": "T",
         "Medu": 4,
         "Fedu": 2,
         "Mjob": "Health",
         "Fjob": "Services",
         "reason": "Home",
         "guardian": "Mother",
         "_deepnote_index_column": 3
        },
        {
         "school": "GP",
         "sex": "F",
         "age": 16,
         "address": "U",
         "famsize": "GT3",
         "Pstatus": "T",
         "Medu": 3,
         "Fedu": 3,
         "Mjob": "Other",
         "Fjob": "Other",
         "reason": "Home",
         "guardian": "Father",
         "_deepnote_index_column": 4
        },
        {
         "school": "GP",
         "sex": "M",
         "age": 16,
         "address": "U",
         "famsize": "LE3",
         "Pstatus": "T",
         "Medu": 4,
         "Fedu": 3,
         "Mjob": "Services",
         "Fjob": "Other",
         "reason": "Reputation",
         "guardian": "Mother",
         "_deepnote_index_column": 5
        },
        {
         "school": "GP",
         "sex": "M",
         "age": 16,
         "address": "U",
         "famsize": "LE3",
         "Pstatus": "T",
         "Medu": 2,
         "Fedu": 2,
         "Mjob": "Other",
         "Fjob": "Other",
         "reason": "Home",
         "guardian": "Mother",
         "_deepnote_index_column": 6
        },
        {
         "school": "GP",
         "sex": "F",
         "age": 17,
         "address": "U",
         "famsize": "GT3",
         "Pstatus": "A",
         "Medu": 4,
         "Fedu": 4,
         "Mjob": "Other",
         "Fjob": "Teacher",
         "reason": "Home",
         "guardian": "Mother",
         "_deepnote_index_column": 7
        },
        {
         "school": "GP",
         "sex": "M",
         "age": 15,
         "address": "U",
         "famsize": "LE3",
         "Pstatus": "A",
         "Medu": 3,
         "Fedu": 2,
         "Mjob": "Services",
         "Fjob": "Other",
         "reason": "Home",
         "guardian": "Mother",
         "_deepnote_index_column": 8
        },
        {
         "school": "GP",
         "sex": "M",
         "age": 15,
         "address": "U",
         "famsize": "GT3",
         "Pstatus": "T",
         "Medu": 3,
         "Fedu": 4,
         "Mjob": "Other",
         "Fjob": "Other",
         "reason": "Home",
         "guardian": "Mother",
         "_deepnote_index_column": 9
        },
        {
         "school": "GP",
         "sex": "F",
         "age": 15,
         "address": "U",
         "famsize": "GT3",
         "Pstatus": "T",
         "Medu": 4,
         "Fedu": 4,
         "Mjob": "Teacher",
         "Fjob": "Health",
         "reason": "Reputation",
         "guardian": "Mother",
         "_deepnote_index_column": 10
        },
        {
         "school": "GP",
         "sex": "F",
         "age": 15,
         "address": "U",
         "famsize": "GT3",
         "Pstatus": "T",
         "Medu": 2,
         "Fedu": 1,
         "Mjob": "Services",
         "Fjob": "Other",
         "reason": "Reputation",
         "guardian": "Father",
         "_deepnote_index_column": 11
        },
        {
         "school": "GP",
         "sex": "M",
         "age": 15,
         "address": "U",
         "famsize": "LE3",
         "Pstatus": "T",
         "Medu": 4,
         "Fedu": 4,
         "Mjob": "Health",
         "Fjob": "Services",
         "reason": "Course",
         "guardian": "Father",
         "_deepnote_index_column": 12
        },
        {
         "school": "GP",
         "sex": "M",
         "age": 15,
         "address": "U",
         "famsize": "GT3",
         "Pstatus": "T",
         "Medu": 4,
         "Fedu": 3,
         "Mjob": "Teacher",
         "Fjob": "Other",
         "reason": "Course",
         "guardian": "Mother",
         "_deepnote_index_column": 13
        },
        {
         "school": "GP",
         "sex": "M",
         "age": 15,
         "address": "U",
         "famsize": "GT3",
         "Pstatus": "A",
         "Medu": 2,
         "Fedu": 2,
         "Mjob": "Other",
         "Fjob": "Other",
         "reason": "Home",
         "guardian": "Other",
         "_deepnote_index_column": 14
        },
        {
         "school": "GP",
         "sex": "F",
         "age": 16,
         "address": "U",
         "famsize": "GT3",
         "Pstatus": "T",
         "Medu": 4,
         "Fedu": 4,
         "Mjob": "Health",
         "Fjob": "Other",
         "reason": "Home",
         "guardian": "Mother",
         "_deepnote_index_column": 15
        },
        {
         "school": "GP",
         "sex": "F",
         "age": 16,
         "address": "U",
         "famsize": "GT3",
         "Pstatus": "T",
         "Medu": 4,
         "Fedu": 4,
         "Mjob": "Services",
         "Fjob": "Services",
         "reason": "Reputation",
         "guardian": "Mother",
         "_deepnote_index_column": 16
        },
        {
         "school": "GP",
         "sex": "F",
         "age": 16,
         "address": "U",
         "famsize": "GT3",
         "Pstatus": "T",
         "Medu": 3,
         "Fedu": 3,
         "Mjob": "Other",
         "Fjob": "Other",
         "reason": "Reputation",
         "guardian": "Mother",
         "_deepnote_index_column": 17
        },
        {
         "school": "GP",
         "sex": "M",
         "age": 17,
         "address": "U",
         "famsize": "GT3",
         "Pstatus": "T",
         "Medu": 3,
         "Fedu": 2,
         "Mjob": "Services",
         "Fjob": "Services",
         "reason": "Course",
         "guardian": "Mother",
         "_deepnote_index_column": 18
        },
        {
         "school": "GP",
         "sex": "M",
         "age": 16,
         "address": "U",
         "famsize": "LE3",
         "Pstatus": "T",
         "Medu": 4,
         "Fedu": 3,
         "Mjob": "Health",
         "Fjob": "Other",
         "reason": "Home",
         "guardian": "Father",
         "_deepnote_index_column": 19
        },
        {
         "school": "GP",
         "sex": "M",
         "age": 15,
         "address": "U",
         "famsize": "GT3",
         "Pstatus": "T",
         "Medu": 4,
         "Fedu": 3,
         "Mjob": "Teacher",
         "Fjob": "Other",
         "reason": "Reputation",
         "guardian": "Mother",
         "_deepnote_index_column": 20
        },
        {
         "school": "GP",
         "sex": "M",
         "age": 15,
         "address": "U",
         "famsize": "GT3",
         "Pstatus": "T",
         "Medu": 4,
         "Fedu": 4,
         "Mjob": "Health",
         "Fjob": "Health",
         "reason": "Other",
         "guardian": "Father",
         "_deepnote_index_column": 21
        },
        {
         "school": "GP",
         "sex": "M",
         "age": 16,
         "address": "U",
         "famsize": "LE3",
         "Pstatus": "T",
         "Medu": 4,
         "Fedu": 2,
         "Mjob": "Teacher",
         "Fjob": "Other",
         "reason": "Course",
         "guardian": "Mother",
         "_deepnote_index_column": 22
        },
        {
         "school": "GP",
         "sex": "M",
         "age": 16,
         "address": "U",
         "famsize": "LE3",
         "Pstatus": "T",
         "Medu": 2,
         "Fedu": 2,
         "Mjob": "Other",
         "Fjob": "Other",
         "reason": "Reputation",
         "guardian": "Mother",
         "_deepnote_index_column": 23
        },
        {
         "school": "GP",
         "sex": "F",
         "age": 15,
         "address": "R",
         "famsize": "GT3",
         "Pstatus": "T",
         "Medu": 2,
         "Fedu": 4,
         "Mjob": "Services",
         "Fjob": "Health",
         "reason": "Course",
         "guardian": "Mother",
         "_deepnote_index_column": 24
        },
        {
         "school": "GP",
         "sex": "F",
         "age": 16,
         "address": "U",
         "famsize": "GT3",
         "Pstatus": "T",
         "Medu": 2,
         "Fedu": 2,
         "Mjob": "Services",
         "Fjob": "Services",
         "reason": "Home",
         "guardian": "Mother",
         "_deepnote_index_column": 25
        },
        {
         "school": "GP",
         "sex": "M",
         "age": 15,
         "address": "U",
         "famsize": "GT3",
         "Pstatus": "T",
         "Medu": 2,
         "Fedu": 2,
         "Mjob": "Other",
         "Fjob": "Other",
         "reason": "Home",
         "guardian": "Mother",
         "_deepnote_index_column": 26
        },
        {
         "school": "GP",
         "sex": "M",
         "age": 15,
         "address": "U",
         "famsize": "GT3",
         "Pstatus": "T",
         "Medu": 4,
         "Fedu": 2,
         "Mjob": "Health",
         "Fjob": "Services",
         "reason": "Other",
         "guardian": "Mother",
         "_deepnote_index_column": 27
        },
        {
         "school": "GP",
         "sex": "M",
         "age": 16,
         "address": "U",
         "famsize": "LE3",
         "Pstatus": "A",
         "Medu": 3,
         "Fedu": 4,
         "Mjob": "Services",
         "Fjob": "Other",
         "reason": "Home",
         "guardian": "Mother",
         "_deepnote_index_column": 28
        },
        {
         "school": "GP",
         "sex": "M",
         "age": 16,
         "address": "U",
         "famsize": "GT3",
         "Pstatus": "T",
         "Medu": 4,
         "Fedu": 4,
         "Mjob": "Teacher",
         "Fjob": "Teacher",
         "reason": "Home",
         "guardian": "Mother",
         "_deepnote_index_column": 29
        },
        {
         "school": "GP",
         "sex": "M",
         "age": 15,
         "address": "U",
         "famsize": "GT3",
         "Pstatus": "T",
         "Medu": 4,
         "Fedu": 4,
         "Mjob": "Health",
         "Fjob": "Services",
         "reason": "Home",
         "guardian": "Mother",
         "_deepnote_index_column": 30
        },
        {
         "school": "GP",
         "sex": "M",
         "age": 15,
         "address": "U",
         "famsize": "GT3",
         "Pstatus": "T",
         "Medu": 4,
         "Fedu": 4,
         "Mjob": "Services",
         "Fjob": "Services",
         "reason": "Reputation",
         "guardian": "Mother",
         "_deepnote_index_column": 31
        },
        {
         "school": "GP",
         "sex": "M",
         "age": 15,
         "address": "R",
         "famsize": "GT3",
         "Pstatus": "T",
         "Medu": 4,
         "Fedu": 3,
         "Mjob": "Teacher",
         "Fjob": "At_home",
         "reason": "Course",
         "guardian": "Mother",
         "_deepnote_index_column": 32
        },
        {
         "school": "GP",
         "sex": "M",
         "age": 15,
         "address": "U",
         "famsize": "LE3",
         "Pstatus": "T",
         "Medu": 3,
         "Fedu": 3,
         "Mjob": "Other",
         "Fjob": "Other",
         "reason": "Course",
         "guardian": "Mother",
         "_deepnote_index_column": 33
        },
        {
         "school": "GP",
         "sex": "M",
         "age": 16,
         "address": "U",
         "famsize": "GT3",
         "Pstatus": "T",
         "Medu": 3,
         "Fedu": 2,
         "Mjob": "Other",
         "Fjob": "Other",
         "reason": "Home",
         "guardian": "Mother",
         "_deepnote_index_column": 34
        },
        {
         "school": "GP",
         "sex": "F",
         "age": 15,
         "address": "U",
         "famsize": "GT3",
         "Pstatus": "T",
         "Medu": 2,
         "Fedu": 3,
         "Mjob": "Other",
         "Fjob": "Other",
         "reason": "Other",
         "guardian": "Father",
         "_deepnote_index_column": 35
        },
        {
         "school": "GP",
         "sex": "M",
         "age": 15,
         "address": "U",
         "famsize": "LE3",
         "Pstatus": "T",
         "Medu": 4,
         "Fedu": 3,
         "Mjob": "Teacher",
         "Fjob": "Services",
         "reason": "Home",
         "guardian": "Mother",
         "_deepnote_index_column": 36
        },
        {
         "school": "GP",
         "sex": "M",
         "age": 16,
         "address": "R",
         "famsize": "GT3",
         "Pstatus": "A",
         "Medu": 4,
         "Fedu": 4,
         "Mjob": "Other",
         "Fjob": "Teacher",
         "reason": "Reputation",
         "guardian": "Mother",
         "_deepnote_index_column": 37
        },
        {
         "school": "GP",
         "sex": "F",
         "age": 15,
         "address": "R",
         "famsize": "GT3",
         "Pstatus": "T",
         "Medu": 3,
         "Fedu": 4,
         "Mjob": "Services",
         "Fjob": "Health",
         "reason": "Course",
         "guardian": "Mother",
         "_deepnote_index_column": 38
        },
        {
         "school": "GP",
         "sex": "F",
         "age": 15,
         "address": "R",
         "famsize": "GT3",
         "Pstatus": "T",
         "Medu": 2,
         "Fedu": 2,
         "Mjob": "At_home",
         "Fjob": "Other",
         "reason": "Reputation",
         "guardian": "Mother",
         "_deepnote_index_column": 39
        },
        {
         "school": "GP",
         "sex": "F",
         "age": 16,
         "address": "U",
         "famsize": "LE3",
         "Pstatus": "T",
         "Medu": 2,
         "Fedu": 2,
         "Mjob": "Other",
         "Fjob": "Other",
         "reason": "Home",
         "guardian": "Mother",
         "_deepnote_index_column": 40
        }
       ],
       "rows_bottom": [
        {
         "school": "MS",
         "sex": "M",
         "age": 19,
         "address": "R",
         "famsize": "GT3",
         "Pstatus": "T",
         "Medu": 1,
         "Fedu": 1,
         "Mjob": "Other",
         "Fjob": "Other",
         "reason": "Home",
         "guardian": "Other",
         "_deepnote_index_column": 353
        },
        {
         "school": "MS",
         "sex": "M",
         "age": 17,
         "address": "R",
         "famsize": "GT3",
         "Pstatus": "T",
         "Medu": 4,
         "Fedu": 3,
         "Mjob": "Services",
         "Fjob": "Other",
         "reason": "Home",
         "guardian": "Mother",
         "_deepnote_index_column": 354
        },
        {
         "school": "MS",
         "sex": "F",
         "age": 18,
         "address": "U",
         "famsize": "GT3",
         "Pstatus": "T",
         "Medu": 3,
         "Fedu": 3,
         "Mjob": "Services",
         "Fjob": "Services",
         "reason": "Course",
         "guardian": "Father",
         "_deepnote_index_column": 355
        },
        {
         "school": "MS",
         "sex": "F",
         "age": 17,
         "address": "R",
         "famsize": "GT3",
         "Pstatus": "T",
         "Medu": 4,
         "Fedu": 4,
         "Mjob": "Teacher",
         "Fjob": "Services",
         "reason": "Other",
         "guardian": "Father",
         "_deepnote_index_column": 356
        },
        {
         "school": "MS",
         "sex": "F",
         "age": 17,
         "address": "U",
         "famsize": "LE3",
         "Pstatus": "A",
         "Medu": 3,
         "Fedu": 2,
         "Mjob": "Services",
         "Fjob": "Other",
         "reason": "Reputation",
         "guardian": "Mother",
         "_deepnote_index_column": 357
        },
        {
         "school": "MS",
         "sex": "M",
         "age": 18,
         "address": "U",
         "famsize": "LE3",
         "Pstatus": "T",
         "Medu": 1,
         "Fedu": 1,
         "Mjob": "Other",
         "Fjob": "Services",
         "reason": "Home",
         "guardian": "Father",
         "_deepnote_index_column": 358
        },
        {
         "school": "MS",
         "sex": "F",
         "age": 18,
         "address": "U",
         "famsize": "LE3",
         "Pstatus": "T",
         "Medu": 1,
         "Fedu": 1,
         "Mjob": "At_home",
         "Fjob": "Services",
         "reason": "Course",
         "guardian": "Father",
         "_deepnote_index_column": 359
        },
        {
         "school": "MS",
         "sex": "F",
         "age": 18,
         "address": "R",
         "famsize": "LE3",
         "Pstatus": "A",
         "Medu": 1,
         "Fedu": 4,
         "Mjob": "At_home",
         "Fjob": "Other",
         "reason": "Course",
         "guardian": "Mother",
         "_deepnote_index_column": 360
        },
        {
         "school": "MS",
         "sex": "M",
         "age": 18,
         "address": "R",
         "famsize": "LE3",
         "Pstatus": "T",
         "Medu": 1,
         "Fedu": 1,
         "Mjob": "At_home",
         "Fjob": "Other",
         "reason": "Other",
         "guardian": "Mother",
         "_deepnote_index_column": 361
        },
        {
         "school": "MS",
         "sex": "F",
         "age": 18,
         "address": "U",
         "famsize": "GT3",
         "Pstatus": "T",
         "Medu": 3,
         "Fedu": 3,
         "Mjob": "Services",
         "Fjob": "Services",
         "reason": "Other",
         "guardian": "Mother",
         "_deepnote_index_column": 362
        },
        {
         "school": "MS",
         "sex": "F",
         "age": 17,
         "address": "U",
         "famsize": "LE3",
         "Pstatus": "T",
         "Medu": 4,
         "Fedu": 4,
         "Mjob": "At_home",
         "Fjob": "At_home",
         "reason": "Course",
         "guardian": "Mother",
         "_deepnote_index_column": 363
        },
        {
         "school": "MS",
         "sex": "F",
         "age": 17,
         "address": "R",
         "famsize": "GT3",
         "Pstatus": "T",
         "Medu": 1,
         "Fedu": 2,
         "Mjob": "Other",
         "Fjob": "Services",
         "reason": "Course",
         "guardian": "Father",
         "_deepnote_index_column": 364
        },
        {
         "school": "MS",
         "sex": "M",
         "age": 18,
         "address": "R",
         "famsize": "GT3",
         "Pstatus": "T",
         "Medu": 1,
         "Fedu": 3,
         "Mjob": "At_home",
         "Fjob": "Other",
         "reason": "Course",
         "guardian": "Mother",
         "_deepnote_index_column": 365
        },
        {
         "school": "MS",
         "sex": "M",
         "age": 18,
         "address": "U",
         "famsize": "LE3",
         "Pstatus": "T",
         "Medu": 4,
         "Fedu": 4,
         "Mjob": "Teacher",
         "Fjob": "Services",
         "reason": "Other",
         "guardian": "Mother",
         "_deepnote_index_column": 366
        },
        {
         "school": "MS",
         "sex": "F",
         "age": 17,
         "address": "R",
         "famsize": "GT3",
         "Pstatus": "T",
         "Medu": 1,
         "Fedu": 1,
         "Mjob": "Other",
         "Fjob": "Services",
         "reason": "Reputation",
         "guardian": "Mother",
         "_deepnote_index_column": 367
        },
        {
         "school": "MS",
         "sex": "F",
         "age": 18,
         "address": "U",
         "famsize": "GT3",
         "Pstatus": "T",
         "Medu": 2,
         "Fedu": 3,
         "Mjob": "At_home",
         "Fjob": "Services",
         "reason": "Course",
         "guardian": "Father",
         "_deepnote_index_column": 368
        },
        {
         "school": "MS",
         "sex": "F",
         "age": 18,
         "address": "R",
         "famsize": "GT3",
         "Pstatus": "T",
         "Medu": 4,
         "Fedu": 4,
         "Mjob": "Other",
         "Fjob": "Teacher",
         "reason": "Other",
         "guardian": "Father",
         "_deepnote_index_column": 369
        },
        {
         "school": "MS",
         "sex": "F",
         "age": 19,
         "address": "U",
         "famsize": "LE3",
         "Pstatus": "T",
         "Medu": 3,
         "Fedu": 2,
         "Mjob": "Services",
         "Fjob": "Services",
         "reason": "Home",
         "guardian": "Other",
         "_deepnote_index_column": 370
        },
        {
         "school": "MS",
         "sex": "M",
         "age": 18,
         "address": "R",
         "famsize": "LE3",
         "Pstatus": "T",
         "Medu": 1,
         "Fedu": 2,
         "Mjob": "At_home",
         "Fjob": "Services",
         "reason": "Other",
         "guardian": "Father",
         "_deepnote_index_column": 371
        },
        {
         "school": "MS",
         "sex": "F",
         "age": 17,
         "address": "U",
         "famsize": "GT3",
         "Pstatus": "T",
         "Medu": 2,
         "Fedu": 2,
         "Mjob": "Other",
         "Fjob": "At_home",
         "reason": "Home",
         "guardian": "Mother",
         "_deepnote_index_column": 372
        },
        {
         "school": "MS",
         "sex": "F",
         "age": 17,
         "address": "R",
         "famsize": "GT3",
         "Pstatus": "T",
         "Medu": 1,
         "Fedu": 2,
         "Mjob": "Other",
         "Fjob": "Other",
         "reason": "Course",
         "guardian": "Mother",
         "_deepnote_index_column": 373
        },
        {
         "school": "MS",
         "sex": "F",
         "age": 18,
         "address": "R",
         "famsize": "LE3",
         "Pstatus": "T",
         "Medu": 4,
         "Fedu": 4,
         "Mjob": "Other",
         "Fjob": "Other",
         "reason": "Reputation",
         "guardian": "Mother",
         "_deepnote_index_column": 374
        },
        {
         "school": "MS",
         "sex": "F",
         "age": 18,
         "address": "R",
         "famsize": "GT3",
         "Pstatus": "T",
         "Medu": 1,
         "Fedu": 1,
         "Mjob": "Other",
         "Fjob": "Other",
         "reason": "Home",
         "guardian": "Mother",
         "_deepnote_index_column": 375
        },
        {
         "school": "MS",
         "sex": "F",
         "age": 20,
         "address": "U",
         "famsize": "GT3",
         "Pstatus": "T",
         "Medu": 4,
         "Fedu": 2,
         "Mjob": "Health",
         "Fjob": "Other",
         "reason": "Course",
         "guardian": "Other",
         "_deepnote_index_column": 376
        },
        {
         "school": "MS",
         "sex": "F",
         "age": 18,
         "address": "R",
         "famsize": "LE3",
         "Pstatus": "T",
         "Medu": 4,
         "Fedu": 4,
         "Mjob": "Teacher",
         "Fjob": "Services",
         "reason": "Course",
         "guardian": "Mother",
         "_deepnote_index_column": 377
        },
        {
         "school": "MS",
         "sex": "F",
         "age": 18,
         "address": "U",
         "famsize": "GT3",
         "Pstatus": "T",
         "Medu": 3,
         "Fedu": 3,
         "Mjob": "Other",
         "Fjob": "Other",
         "reason": "Home",
         "guardian": "Mother",
         "_deepnote_index_column": 378
        },
        {
         "school": "MS",
         "sex": "F",
         "age": 17,
         "address": "R",
         "famsize": "GT3",
         "Pstatus": "T",
         "Medu": 3,
         "Fedu": 1,
         "Mjob": "At_home",
         "Fjob": "Other",
         "reason": "Reputation",
         "guardian": "Mother",
         "_deepnote_index_column": 379
        },
        {
         "school": "MS",
         "sex": "M",
         "age": 18,
         "address": "U",
         "famsize": "GT3",
         "Pstatus": "T",
         "Medu": 4,
         "Fedu": 4,
         "Mjob": "Teacher",
         "Fjob": "Teacher",
         "reason": "Home",
         "guardian": "Father",
         "_deepnote_index_column": 380
        },
        {
         "school": "MS",
         "sex": "M",
         "age": 18,
         "address": "R",
         "famsize": "GT3",
         "Pstatus": "T",
         "Medu": 2,
         "Fedu": 1,
         "Mjob": "Other",
         "Fjob": "Other",
         "reason": "Other",
         "guardian": "Mother",
         "_deepnote_index_column": 381
        },
        {
         "school": "MS",
         "sex": "M",
         "age": 17,
         "address": "U",
         "famsize": "GT3",
         "Pstatus": "T",
         "Medu": 2,
         "Fedu": 3,
         "Mjob": "Other",
         "Fjob": "Services",
         "reason": "Home",
         "guardian": "Father",
         "_deepnote_index_column": 382
        },
        {
         "school": "MS",
         "sex": "M",
         "age": 19,
         "address": "R",
         "famsize": "GT3",
         "Pstatus": "T",
         "Medu": 1,
         "Fedu": 1,
         "Mjob": "Other",
         "Fjob": "Services",
         "reason": "Other",
         "guardian": "Mother",
         "_deepnote_index_column": 383
        },
        {
         "school": "MS",
         "sex": "M",
         "age": 18,
         "address": "R",
         "famsize": "GT3",
         "Pstatus": "T",
         "Medu": 4,
         "Fedu": 2,
         "Mjob": "Other",
         "Fjob": "Other",
         "reason": "Home",
         "guardian": "Father",
         "_deepnote_index_column": 384
        },
        {
         "school": "MS",
         "sex": "F",
         "age": 18,
         "address": "R",
         "famsize": "GT3",
         "Pstatus": "T",
         "Medu": 2,
         "Fedu": 2,
         "Mjob": "At_home",
         "Fjob": "Other",
         "reason": "Other",
         "guardian": "Mother",
         "_deepnote_index_column": 385
        },
        {
         "school": "MS",
         "sex": "F",
         "age": 18,
         "address": "R",
         "famsize": "GT3",
         "Pstatus": "T",
         "Medu": 4,
         "Fedu": 4,
         "Mjob": "Teacher",
         "Fjob": "At_home",
         "reason": "Reputation",
         "guardian": "Mother",
         "_deepnote_index_column": 386
        },
        {
         "school": "MS",
         "sex": "F",
         "age": 19,
         "address": "R",
         "famsize": "GT3",
         "Pstatus": "T",
         "Medu": 2,
         "Fedu": 3,
         "Mjob": "Services",
         "Fjob": "Other",
         "reason": "Course",
         "guardian": "Mother",
         "_deepnote_index_column": 387
        },
        {
         "school": "MS",
         "sex": "F",
         "age": 18,
         "address": "U",
         "famsize": "LE3",
         "Pstatus": "T",
         "Medu": 3,
         "Fedu": 1,
         "Mjob": "Teacher",
         "Fjob": "Services",
         "reason": "Course",
         "guardian": "Mother",
         "_deepnote_index_column": 388
        },
        {
         "school": "MS",
         "sex": "F",
         "age": 18,
         "address": "U",
         "famsize": "GT3",
         "Pstatus": "T",
         "Medu": 1,
         "Fedu": 1,
         "Mjob": "Other",
         "Fjob": "Other",
         "reason": "Course",
         "guardian": "Mother",
         "_deepnote_index_column": 389
        },
        {
         "school": "MS",
         "sex": "M",
         "age": 20,
         "address": "U",
         "famsize": "LE3",
         "Pstatus": "A",
         "Medu": 2,
         "Fedu": 2,
         "Mjob": "Services",
         "Fjob": "Services",
         "reason": "Course",
         "guardian": "Other",
         "_deepnote_index_column": 390
        },
        {
         "school": "MS",
         "sex": "M",
         "age": 17,
         "address": "U",
         "famsize": "LE3",
         "Pstatus": "T",
         "Medu": 3,
         "Fedu": 1,
         "Mjob": "Services",
         "Fjob": "Services",
         "reason": "Course",
         "guardian": "Mother",
         "_deepnote_index_column": 391
        },
        {
         "school": "MS",
         "sex": "M",
         "age": 21,
         "address": "R",
         "famsize": "GT3",
         "Pstatus": "T",
         "Medu": 1,
         "Fedu": 1,
         "Mjob": "Other",
         "Fjob": "Other",
         "reason": "Course",
         "guardian": "Other",
         "_deepnote_index_column": 392
        },
        {
         "school": "MS",
         "sex": "M",
         "age": 18,
         "address": "R",
         "famsize": "LE3",
         "Pstatus": "T",
         "Medu": 3,
         "Fedu": 2,
         "Mjob": "Services",
         "Fjob": "Other",
         "reason": "Course",
         "guardian": "Mother",
         "_deepnote_index_column": 393
        },
        {
         "school": "MS",
         "sex": "M",
         "age": 19,
         "address": "U",
         "famsize": "LE3",
         "Pstatus": "T",
         "Medu": 1,
         "Fedu": 1,
         "Mjob": "Other",
         "Fjob": "At_home",
         "reason": "Course",
         "guardian": "Father",
         "_deepnote_index_column": 394
        }
       ]
      },
      "text/plain": "    school sex  age address famsize Pstatus  Medu  Fedu      Mjob      Fjob  \\\n0       GP   F   18       U     GT3       A     4     4   At_home   Teacher   \n1       GP   F   17       U     GT3       T     1     1   At_home     Other   \n2       GP   F   15       U     LE3       T     1     1   At_home     Other   \n3       GP   F   15       U     GT3       T     4     2    Health  Services   \n4       GP   F   16       U     GT3       T     3     3     Other     Other   \n..     ...  ..  ...     ...     ...     ...   ...   ...       ...       ...   \n390     MS   M   20       U     LE3       A     2     2  Services  Services   \n391     MS   M   17       U     LE3       T     3     1  Services  Services   \n392     MS   M   21       R     GT3       T     1     1     Other     Other   \n393     MS   M   18       R     LE3       T     3     2  Services     Other   \n394     MS   M   19       U     LE3       T     1     1     Other   At_home   \n\n     reason guardian  \n0    Course   Mother  \n1    Course   Father  \n2     Other   Mother  \n3      Home   Mother  \n4      Home   Father  \n..      ...      ...  \n390  Course    Other  \n391  Course   Mother  \n392  Course    Other  \n393  Course   Mother  \n394  Course   Father  \n\n[395 rows x 12 columns]",
      "text/html": "<div>\n<style scoped>\n    .dataframe tbody tr th:only-of-type {\n        vertical-align: middle;\n    }\n\n    .dataframe tbody tr th {\n        vertical-align: top;\n    }\n\n    .dataframe thead th {\n        text-align: right;\n    }\n</style>\n<table border=\"1\" class=\"dataframe\">\n  <thead>\n    <tr style=\"text-align: right;\">\n      <th></th>\n      <th>school</th>\n      <th>sex</th>\n      <th>age</th>\n      <th>address</th>\n      <th>famsize</th>\n      <th>Pstatus</th>\n      <th>Medu</th>\n      <th>Fedu</th>\n      <th>Mjob</th>\n      <th>Fjob</th>\n      <th>reason</th>\n      <th>guardian</th>\n    </tr>\n  </thead>\n  <tbody>\n    <tr>\n      <th>0</th>\n      <td>GP</td>\n      <td>F</td>\n      <td>18</td>\n      <td>U</td>\n      <td>GT3</td>\n      <td>A</td>\n      <td>4</td>\n      <td>4</td>\n      <td>At_home</td>\n      <td>Teacher</td>\n      <td>Course</td>\n      <td>Mother</td>\n    </tr>\n    <tr>\n      <th>1</th>\n      <td>GP</td>\n      <td>F</td>\n      <td>17</td>\n      <td>U</td>\n      <td>GT3</td>\n      <td>T</td>\n      <td>1</td>\n      <td>1</td>\n      <td>At_home</td>\n      <td>Other</td>\n      <td>Course</td>\n      <td>Father</td>\n    </tr>\n    <tr>\n      <th>2</th>\n      <td>GP</td>\n      <td>F</td>\n      <td>15</td>\n      <td>U</td>\n      <td>LE3</td>\n      <td>T</td>\n      <td>1</td>\n      <td>1</td>\n      <td>At_home</td>\n      <td>Other</td>\n      <td>Other</td>\n      <td>Mother</td>\n    </tr>\n    <tr>\n      <th>3</th>\n      <td>GP</td>\n      <td>F</td>\n      <td>15</td>\n      <td>U</td>\n      <td>GT3</td>\n      <td>T</td>\n      <td>4</td>\n      <td>2</td>\n      <td>Health</td>\n      <td>Services</td>\n      <td>Home</td>\n      <td>Mother</td>\n    </tr>\n    <tr>\n      <th>4</th>\n      <td>GP</td>\n      <td>F</td>\n      <td>16</td>\n      <td>U</td>\n      <td>GT3</td>\n      <td>T</td>\n      <td>3</td>\n      <td>3</td>\n      <td>Other</td>\n      <td>Other</td>\n      <td>Home</td>\n      <td>Father</td>\n    </tr>\n    <tr>\n      <th>...</th>\n      <td>...</td>\n      <td>...</td>\n      <td>...</td>\n      <td>...</td>\n      <td>...</td>\n      <td>...</td>\n      <td>...</td>\n      <td>...</td>\n      <td>...</td>\n      <td>...</td>\n      <td>...</td>\n      <td>...</td>\n    </tr>\n    <tr>\n      <th>390</th>\n      <td>MS</td>\n      <td>M</td>\n      <td>20</td>\n      <td>U</td>\n      <td>LE3</td>\n      <td>A</td>\n      <td>2</td>\n      <td>2</td>\n      <td>Services</td>\n      <td>Services</td>\n      <td>Course</td>\n      <td>Other</td>\n    </tr>\n    <tr>\n      <th>391</th>\n      <td>MS</td>\n      <td>M</td>\n      <td>17</td>\n      <td>U</td>\n      <td>LE3</td>\n      <td>T</td>\n      <td>3</td>\n      <td>1</td>\n      <td>Services</td>\n      <td>Services</td>\n      <td>Course</td>\n      <td>Mother</td>\n    </tr>\n    <tr>\n      <th>392</th>\n      <td>MS</td>\n      <td>M</td>\n      <td>21</td>\n      <td>R</td>\n      <td>GT3</td>\n      <td>T</td>\n      <td>1</td>\n      <td>1</td>\n      <td>Other</td>\n      <td>Other</td>\n      <td>Course</td>\n      <td>Other</td>\n    </tr>\n    <tr>\n      <th>393</th>\n      <td>MS</td>\n      <td>M</td>\n      <td>18</td>\n      <td>R</td>\n      <td>LE3</td>\n      <td>T</td>\n      <td>3</td>\n      <td>2</td>\n      <td>Services</td>\n      <td>Other</td>\n      <td>Course</td>\n      <td>Mother</td>\n    </tr>\n    <tr>\n      <th>394</th>\n      <td>MS</td>\n      <td>M</td>\n      <td>19</td>\n      <td>U</td>\n      <td>LE3</td>\n      <td>T</td>\n      <td>1</td>\n      <td>1</td>\n      <td>Other</td>\n      <td>At_home</td>\n      <td>Course</td>\n      <td>Father</td>\n    </tr>\n  </tbody>\n</table>\n<p>395 rows × 12 columns</p>\n</div>"
     },
     "metadata": {}
    }
   ]
  },
  {
   "cell_type": "markdown",
   "source": "### Step 7. Print the last elements of the data set.",
   "metadata": {
    "id": "HheDoLtVTa3w",
    "cell_id": "00010-0c3cf761-f267-49a4-a80c-5c3aacb025ff",
    "deepnote_cell_type": "markdown"
   }
  },
  {
   "cell_type": "code",
   "metadata": {
    "colab": {
     "base_uri": "https://localhost:8080/",
     "height": 343
    },
    "id": "OxPZdVndTa3w",
    "executionInfo": {
     "status": "ok",
     "timestamp": 1623624955058,
     "user_tz": 240,
     "elapsed": 13,
     "user": {
      "displayName": "Andrés Sánchez",
      "photoUrl": "https://lh3.googleusercontent.com/a-/AOh14Gg69bZMv30ckb-T1MJy0nSxWIHUaP0p2uP6MYBuvQ=s64",
      "userId": "07985253921366566280"
     }
    },
    "outputId": "29d93d84-ab9f-4d44-b7dc-5c497b0be9f1",
    "cell_id": "00011-90a8b1fd-c990-4853-b967-a25d977b5507",
    "deepnote_to_be_reexecuted": false,
    "source_hash": "3d8621c",
    "execution_start": 1630097977060,
    "execution_millis": 14,
    "deepnote_cell_type": "code"
   },
   "source": "df.iloc[-10:,:]\n# You can also use tail().",
   "execution_count": 5,
   "outputs": [
    {
     "output_type": "execute_result",
     "execution_count": 5,
     "data": {
      "application/vnd.deepnote.dataframe.v2+json": {
       "row_count": 10,
       "column_count": 12,
       "columns": [
        {
         "name": "school",
         "dtype": "object",
         "stats": {
          "unique_count": 1,
          "nan_count": 0,
          "categories": [
           {
            "name": "MS",
            "count": 10
           }
          ]
         }
        },
        {
         "name": "sex",
         "dtype": "object",
         "stats": {
          "unique_count": 2,
          "nan_count": 0,
          "categories": [
           {
            "name": "F",
            "count": 5
           },
           {
            "name": "M",
            "count": 5
           }
          ]
         }
        },
        {
         "name": "age",
         "dtype": "int64",
         "stats": {
          "unique_count": 5,
          "nan_count": 0,
          "min": "17",
          "max": "21",
          "histogram": [
           {
            "bin_start": 17,
            "bin_end": 17.4,
            "count": 1
           },
           {
            "bin_start": 17.4,
            "bin_end": 17.8,
            "count": 0
           },
           {
            "bin_start": 17.8,
            "bin_end": 18.2,
            "count": 5
           },
           {
            "bin_start": 18.2,
            "bin_end": 18.6,
            "count": 0
           },
           {
            "bin_start": 18.6,
            "bin_end": 19,
            "count": 0
           },
           {
            "bin_start": 19,
            "bin_end": 19.4,
            "count": 2
           },
           {
            "bin_start": 19.4,
            "bin_end": 19.8,
            "count": 0
           },
           {
            "bin_start": 19.8,
            "bin_end": 20.2,
            "count": 1
           },
           {
            "bin_start": 20.2,
            "bin_end": 20.6,
            "count": 0
           },
           {
            "bin_start": 20.6,
            "bin_end": 21,
            "count": 1
           }
          ]
         }
        },
        {
         "name": "address",
         "dtype": "object",
         "stats": {
          "unique_count": 2,
          "nan_count": 0,
          "categories": [
           {
            "name": "R",
            "count": 5
           },
           {
            "name": "U",
            "count": 5
           }
          ]
         }
        },
        {
         "name": "famsize",
         "dtype": "object",
         "stats": {
          "unique_count": 2,
          "nan_count": 0,
          "categories": [
           {
            "name": "GT3",
            "count": 5
           },
           {
            "name": "LE3",
            "count": 5
           }
          ]
         }
        },
        {
         "name": "Pstatus",
         "dtype": "object",
         "stats": {
          "unique_count": 2,
          "nan_count": 0,
          "categories": [
           {
            "name": "T",
            "count": 9
           },
           {
            "name": "A",
            "count": 1
           }
          ]
         }
        },
        {
         "name": "Medu",
         "dtype": "int64",
         "stats": {
          "unique_count": 4,
          "nan_count": 0,
          "min": "1",
          "max": "4",
          "histogram": [
           {
            "bin_start": 1,
            "bin_end": 1.3,
            "count": 3
           },
           {
            "bin_start": 1.3,
            "bin_end": 1.6,
            "count": 0
           },
           {
            "bin_start": 1.6,
            "bin_end": 1.9,
            "count": 0
           },
           {
            "bin_start": 1.9,
            "bin_end": 2.2,
            "count": 3
           },
           {
            "bin_start": 2.2,
            "bin_end": 2.5,
            "count": 0
           },
           {
            "bin_start": 2.5,
            "bin_end": 2.8,
            "count": 0
           },
           {
            "bin_start": 2.8,
            "bin_end": 3.1,
            "count": 3
           },
           {
            "bin_start": 3.1,
            "bin_end": 3.4,
            "count": 0
           },
           {
            "bin_start": 3.4,
            "bin_end": 3.6999999999999997,
            "count": 0
           },
           {
            "bin_start": 3.6999999999999997,
            "bin_end": 4,
            "count": 1
           }
          ]
         }
        },
        {
         "name": "Fedu",
         "dtype": "int64",
         "stats": {
          "unique_count": 4,
          "nan_count": 0,
          "min": "1",
          "max": "4",
          "histogram": [
           {
            "bin_start": 1,
            "bin_end": 1.3,
            "count": 5
           },
           {
            "bin_start": 1.3,
            "bin_end": 1.6,
            "count": 0
           },
           {
            "bin_start": 1.6,
            "bin_end": 1.9,
            "count": 0
           },
           {
            "bin_start": 1.9,
            "bin_end": 2.2,
            "count": 3
           },
           {
            "bin_start": 2.2,
            "bin_end": 2.5,
            "count": 0
           },
           {
            "bin_start": 2.5,
            "bin_end": 2.8,
            "count": 0
           },
           {
            "bin_start": 2.8,
            "bin_end": 3.1,
            "count": 1
           },
           {
            "bin_start": 3.1,
            "bin_end": 3.4,
            "count": 0
           },
           {
            "bin_start": 3.4,
            "bin_end": 3.6999999999999997,
            "count": 0
           },
           {
            "bin_start": 3.6999999999999997,
            "bin_end": 4,
            "count": 1
           }
          ]
         }
        },
        {
         "name": "Mjob",
         "dtype": "object",
         "stats": {
          "unique_count": 4,
          "nan_count": 0,
          "categories": [
           {
            "name": "Services",
            "count": 4
           },
           {
            "name": "Other",
            "count": 3
           },
           {
            "name": "2 others",
            "count": 3
           }
          ]
         }
        },
        {
         "name": "Fjob",
         "dtype": "object",
         "stats": {
          "unique_count": 3,
          "nan_count": 0,
          "categories": [
           {
            "name": "Other",
            "count": 5
           },
           {
            "name": "Services",
            "count": 3
           },
           {
            "name": "At_home",
            "count": 2
           }
          ]
         }
        },
        {
         "name": "reason",
         "dtype": "object",
         "stats": {
          "unique_count": 3,
          "nan_count": 0,
          "categories": [
           {
            "name": "Course",
            "count": 8
           },
           {
            "name": "Other",
            "count": 1
           },
           {
            "name": "Reputation",
            "count": 1
           }
          ]
         }
        },
        {
         "name": "guardian",
         "dtype": "object",
         "stats": {
          "unique_count": 3,
          "nan_count": 0,
          "categories": [
           {
            "name": "Mother",
            "count": 7
           },
           {
            "name": "Other",
            "count": 2
           },
           {
            "name": "Father",
            "count": 1
           }
          ]
         }
        },
        {
         "name": "_deepnote_index_column",
         "dtype": "int64"
        }
       ],
       "rows_top": [
        {
         "school": "MS",
         "sex": "F",
         "age": 18,
         "address": "R",
         "famsize": "GT3",
         "Pstatus": "T",
         "Medu": 2,
         "Fedu": 2,
         "Mjob": "At_home",
         "Fjob": "Other",
         "reason": "Other",
         "guardian": "Mother",
         "_deepnote_index_column": 385
        },
        {
         "school": "MS",
         "sex": "F",
         "age": 18,
         "address": "R",
         "famsize": "GT3",
         "Pstatus": "T",
         "Medu": 4,
         "Fedu": 4,
         "Mjob": "Teacher",
         "Fjob": "At_home",
         "reason": "Reputation",
         "guardian": "Mother",
         "_deepnote_index_column": 386
        },
        {
         "school": "MS",
         "sex": "F",
         "age": 19,
         "address": "R",
         "famsize": "GT3",
         "Pstatus": "T",
         "Medu": 2,
         "Fedu": 3,
         "Mjob": "Services",
         "Fjob": "Other",
         "reason": "Course",
         "guardian": "Mother",
         "_deepnote_index_column": 387
        },
        {
         "school": "MS",
         "sex": "F",
         "age": 18,
         "address": "U",
         "famsize": "LE3",
         "Pstatus": "T",
         "Medu": 3,
         "Fedu": 1,
         "Mjob": "Teacher",
         "Fjob": "Services",
         "reason": "Course",
         "guardian": "Mother",
         "_deepnote_index_column": 388
        },
        {
         "school": "MS",
         "sex": "F",
         "age": 18,
         "address": "U",
         "famsize": "GT3",
         "Pstatus": "T",
         "Medu": 1,
         "Fedu": 1,
         "Mjob": "Other",
         "Fjob": "Other",
         "reason": "Course",
         "guardian": "Mother",
         "_deepnote_index_column": 389
        },
        {
         "school": "MS",
         "sex": "M",
         "age": 20,
         "address": "U",
         "famsize": "LE3",
         "Pstatus": "A",
         "Medu": 2,
         "Fedu": 2,
         "Mjob": "Services",
         "Fjob": "Services",
         "reason": "Course",
         "guardian": "Other",
         "_deepnote_index_column": 390
        },
        {
         "school": "MS",
         "sex": "M",
         "age": 17,
         "address": "U",
         "famsize": "LE3",
         "Pstatus": "T",
         "Medu": 3,
         "Fedu": 1,
         "Mjob": "Services",
         "Fjob": "Services",
         "reason": "Course",
         "guardian": "Mother",
         "_deepnote_index_column": 391
        },
        {
         "school": "MS",
         "sex": "M",
         "age": 21,
         "address": "R",
         "famsize": "GT3",
         "Pstatus": "T",
         "Medu": 1,
         "Fedu": 1,
         "Mjob": "Other",
         "Fjob": "Other",
         "reason": "Course",
         "guardian": "Other",
         "_deepnote_index_column": 392
        },
        {
         "school": "MS",
         "sex": "M",
         "age": 18,
         "address": "R",
         "famsize": "LE3",
         "Pstatus": "T",
         "Medu": 3,
         "Fedu": 2,
         "Mjob": "Services",
         "Fjob": "Other",
         "reason": "Course",
         "guardian": "Mother",
         "_deepnote_index_column": 393
        },
        {
         "school": "MS",
         "sex": "M",
         "age": 19,
         "address": "U",
         "famsize": "LE3",
         "Pstatus": "T",
         "Medu": 1,
         "Fedu": 1,
         "Mjob": "Other",
         "Fjob": "At_home",
         "reason": "Course",
         "guardian": "Father",
         "_deepnote_index_column": 394
        }
       ],
       "rows_bottom": null
      },
      "text/plain": "    school sex  age address famsize Pstatus  Medu  Fedu      Mjob      Fjob  \\\n385     MS   F   18       R     GT3       T     2     2   At_home     Other   \n386     MS   F   18       R     GT3       T     4     4   Teacher   At_home   \n387     MS   F   19       R     GT3       T     2     3  Services     Other   \n388     MS   F   18       U     LE3       T     3     1   Teacher  Services   \n389     MS   F   18       U     GT3       T     1     1     Other     Other   \n390     MS   M   20       U     LE3       A     2     2  Services  Services   \n391     MS   M   17       U     LE3       T     3     1  Services  Services   \n392     MS   M   21       R     GT3       T     1     1     Other     Other   \n393     MS   M   18       R     LE3       T     3     2  Services     Other   \n394     MS   M   19       U     LE3       T     1     1     Other   At_home   \n\n         reason guardian  \n385       Other   Mother  \n386  Reputation   Mother  \n387      Course   Mother  \n388      Course   Mother  \n389      Course   Mother  \n390      Course    Other  \n391      Course   Mother  \n392      Course    Other  \n393      Course   Mother  \n394      Course   Father  ",
      "text/html": "<div>\n<style scoped>\n    .dataframe tbody tr th:only-of-type {\n        vertical-align: middle;\n    }\n\n    .dataframe tbody tr th {\n        vertical-align: top;\n    }\n\n    .dataframe thead th {\n        text-align: right;\n    }\n</style>\n<table border=\"1\" class=\"dataframe\">\n  <thead>\n    <tr style=\"text-align: right;\">\n      <th></th>\n      <th>school</th>\n      <th>sex</th>\n      <th>age</th>\n      <th>address</th>\n      <th>famsize</th>\n      <th>Pstatus</th>\n      <th>Medu</th>\n      <th>Fedu</th>\n      <th>Mjob</th>\n      <th>Fjob</th>\n      <th>reason</th>\n      <th>guardian</th>\n    </tr>\n  </thead>\n  <tbody>\n    <tr>\n      <th>385</th>\n      <td>MS</td>\n      <td>F</td>\n      <td>18</td>\n      <td>R</td>\n      <td>GT3</td>\n      <td>T</td>\n      <td>2</td>\n      <td>2</td>\n      <td>At_home</td>\n      <td>Other</td>\n      <td>Other</td>\n      <td>Mother</td>\n    </tr>\n    <tr>\n      <th>386</th>\n      <td>MS</td>\n      <td>F</td>\n      <td>18</td>\n      <td>R</td>\n      <td>GT3</td>\n      <td>T</td>\n      <td>4</td>\n      <td>4</td>\n      <td>Teacher</td>\n      <td>At_home</td>\n      <td>Reputation</td>\n      <td>Mother</td>\n    </tr>\n    <tr>\n      <th>387</th>\n      <td>MS</td>\n      <td>F</td>\n      <td>19</td>\n      <td>R</td>\n      <td>GT3</td>\n      <td>T</td>\n      <td>2</td>\n      <td>3</td>\n      <td>Services</td>\n      <td>Other</td>\n      <td>Course</td>\n      <td>Mother</td>\n    </tr>\n    <tr>\n      <th>388</th>\n      <td>MS</td>\n      <td>F</td>\n      <td>18</td>\n      <td>U</td>\n      <td>LE3</td>\n      <td>T</td>\n      <td>3</td>\n      <td>1</td>\n      <td>Teacher</td>\n      <td>Services</td>\n      <td>Course</td>\n      <td>Mother</td>\n    </tr>\n    <tr>\n      <th>389</th>\n      <td>MS</td>\n      <td>F</td>\n      <td>18</td>\n      <td>U</td>\n      <td>GT3</td>\n      <td>T</td>\n      <td>1</td>\n      <td>1</td>\n      <td>Other</td>\n      <td>Other</td>\n      <td>Course</td>\n      <td>Mother</td>\n    </tr>\n    <tr>\n      <th>390</th>\n      <td>MS</td>\n      <td>M</td>\n      <td>20</td>\n      <td>U</td>\n      <td>LE3</td>\n      <td>A</td>\n      <td>2</td>\n      <td>2</td>\n      <td>Services</td>\n      <td>Services</td>\n      <td>Course</td>\n      <td>Other</td>\n    </tr>\n    <tr>\n      <th>391</th>\n      <td>MS</td>\n      <td>M</td>\n      <td>17</td>\n      <td>U</td>\n      <td>LE3</td>\n      <td>T</td>\n      <td>3</td>\n      <td>1</td>\n      <td>Services</td>\n      <td>Services</td>\n      <td>Course</td>\n      <td>Mother</td>\n    </tr>\n    <tr>\n      <th>392</th>\n      <td>MS</td>\n      <td>M</td>\n      <td>21</td>\n      <td>R</td>\n      <td>GT3</td>\n      <td>T</td>\n      <td>1</td>\n      <td>1</td>\n      <td>Other</td>\n      <td>Other</td>\n      <td>Course</td>\n      <td>Other</td>\n    </tr>\n    <tr>\n      <th>393</th>\n      <td>MS</td>\n      <td>M</td>\n      <td>18</td>\n      <td>R</td>\n      <td>LE3</td>\n      <td>T</td>\n      <td>3</td>\n      <td>2</td>\n      <td>Services</td>\n      <td>Other</td>\n      <td>Course</td>\n      <td>Mother</td>\n    </tr>\n    <tr>\n      <th>394</th>\n      <td>MS</td>\n      <td>M</td>\n      <td>19</td>\n      <td>U</td>\n      <td>LE3</td>\n      <td>T</td>\n      <td>1</td>\n      <td>1</td>\n      <td>Other</td>\n      <td>At_home</td>\n      <td>Course</td>\n      <td>Father</td>\n    </tr>\n  </tbody>\n</table>\n</div>"
     },
     "metadata": {}
    }
   ]
  },
  {
   "cell_type": "markdown",
   "source": "### Step 9. Create a function called majority that returns a boolean value to a new column called legal_drinker (Consider majority as older than 17 years old)",
   "metadata": {
    "id": "-qIjywhxTa3w",
    "cell_id": "00012-3488b9a5-4493-44a7-ab9c-b10bc53de4a6",
    "deepnote_cell_type": "markdown"
   }
  },
  {
   "cell_type": "code",
   "metadata": {
    "colab": {
     "base_uri": "https://localhost:8080/",
     "height": 1000
    },
    "id": "ZtqjCG8LTa3w",
    "executionInfo": {
     "status": "ok",
     "timestamp": 1623624955704,
     "user_tz": 240,
     "elapsed": 658,
     "user": {
      "displayName": "Andrés Sánchez",
      "photoUrl": "https://lh3.googleusercontent.com/a-/AOh14Gg69bZMv30ckb-T1MJy0nSxWIHUaP0p2uP6MYBuvQ=s64",
      "userId": "07985253921366566280"
     }
    },
    "outputId": "953ca2ac-c420-47dd-e43d-1f5fa318b728",
    "cell_id": "00013-6dfb38a2-e5b7-47bc-b4e9-84e0c7bdcce2",
    "deepnote_to_be_reexecuted": false,
    "source_hash": "6e764816",
    "execution_start": 1630097977070,
    "execution_millis": 66,
    "deepnote_cell_type": "code"
   },
   "source": "df['legal_drinker'] = df['age'].apply(lambda x: True if x > 17 else False)\ndf\n",
   "execution_count": 6,
   "outputs": [
    {
     "output_type": "execute_result",
     "execution_count": 6,
     "data": {
      "application/vnd.deepnote.dataframe.v2+json": {
       "row_count": 395,
       "column_count": 13,
       "columns": [
        {
         "name": "school",
         "dtype": "object",
         "stats": {
          "unique_count": 2,
          "nan_count": 0,
          "categories": [
           {
            "name": "GP",
            "count": 349
           },
           {
            "name": "MS",
            "count": 46
           }
          ]
         }
        },
        {
         "name": "sex",
         "dtype": "object",
         "stats": {
          "unique_count": 2,
          "nan_count": 0,
          "categories": [
           {
            "name": "F",
            "count": 208
           },
           {
            "name": "M",
            "count": 187
           }
          ]
         }
        },
        {
         "name": "age",
         "dtype": "int64",
         "stats": {
          "unique_count": 8,
          "nan_count": 0,
          "min": "15",
          "max": "22",
          "histogram": [
           {
            "bin_start": 15,
            "bin_end": 15.7,
            "count": 82
           },
           {
            "bin_start": 15.7,
            "bin_end": 16.4,
            "count": 104
           },
           {
            "bin_start": 16.4,
            "bin_end": 17.1,
            "count": 98
           },
           {
            "bin_start": 17.1,
            "bin_end": 17.8,
            "count": 0
           },
           {
            "bin_start": 17.8,
            "bin_end": 18.5,
            "count": 82
           },
           {
            "bin_start": 18.5,
            "bin_end": 19.2,
            "count": 24
           },
           {
            "bin_start": 19.2,
            "bin_end": 19.9,
            "count": 0
           },
           {
            "bin_start": 19.9,
            "bin_end": 20.6,
            "count": 3
           },
           {
            "bin_start": 20.6,
            "bin_end": 21.3,
            "count": 1
           },
           {
            "bin_start": 21.3,
            "bin_end": 22,
            "count": 1
           }
          ]
         }
        },
        {
         "name": "address",
         "dtype": "object",
         "stats": {
          "unique_count": 2,
          "nan_count": 0,
          "categories": [
           {
            "name": "U",
            "count": 307
           },
           {
            "name": "R",
            "count": 88
           }
          ]
         }
        },
        {
         "name": "famsize",
         "dtype": "object",
         "stats": {
          "unique_count": 2,
          "nan_count": 0,
          "categories": [
           {
            "name": "GT3",
            "count": 281
           },
           {
            "name": "LE3",
            "count": 114
           }
          ]
         }
        },
        {
         "name": "Pstatus",
         "dtype": "object",
         "stats": {
          "unique_count": 2,
          "nan_count": 0,
          "categories": [
           {
            "name": "T",
            "count": 354
           },
           {
            "name": "A",
            "count": 41
           }
          ]
         }
        },
        {
         "name": "Medu",
         "dtype": "int64",
         "stats": {
          "unique_count": 5,
          "nan_count": 0,
          "min": "0",
          "max": "4",
          "histogram": [
           {
            "bin_start": 0,
            "bin_end": 0.4,
            "count": 3
           },
           {
            "bin_start": 0.4,
            "bin_end": 0.8,
            "count": 0
           },
           {
            "bin_start": 0.8,
            "bin_end": 1.2000000000000002,
            "count": 59
           },
           {
            "bin_start": 1.2000000000000002,
            "bin_end": 1.6,
            "count": 0
           },
           {
            "bin_start": 1.6,
            "bin_end": 2,
            "count": 0
           },
           {
            "bin_start": 2,
            "bin_end": 2.4000000000000004,
            "count": 103
           },
           {
            "bin_start": 2.4000000000000004,
            "bin_end": 2.8000000000000003,
            "count": 0
           },
           {
            "bin_start": 2.8000000000000003,
            "bin_end": 3.2,
            "count": 99
           },
           {
            "bin_start": 3.2,
            "bin_end": 3.6,
            "count": 0
           },
           {
            "bin_start": 3.6,
            "bin_end": 4,
            "count": 131
           }
          ]
         }
        },
        {
         "name": "Fedu",
         "dtype": "int64",
         "stats": {
          "unique_count": 5,
          "nan_count": 0,
          "min": "0",
          "max": "4",
          "histogram": [
           {
            "bin_start": 0,
            "bin_end": 0.4,
            "count": 2
           },
           {
            "bin_start": 0.4,
            "bin_end": 0.8,
            "count": 0
           },
           {
            "bin_start": 0.8,
            "bin_end": 1.2000000000000002,
            "count": 82
           },
           {
            "bin_start": 1.2000000000000002,
            "bin_end": 1.6,
            "count": 0
           },
           {
            "bin_start": 1.6,
            "bin_end": 2,
            "count": 0
           },
           {
            "bin_start": 2,
            "bin_end": 2.4000000000000004,
            "count": 115
           },
           {
            "bin_start": 2.4000000000000004,
            "bin_end": 2.8000000000000003,
            "count": 0
           },
           {
            "bin_start": 2.8000000000000003,
            "bin_end": 3.2,
            "count": 100
           },
           {
            "bin_start": 3.2,
            "bin_end": 3.6,
            "count": 0
           },
           {
            "bin_start": 3.6,
            "bin_end": 4,
            "count": 96
           }
          ]
         }
        },
        {
         "name": "Mjob",
         "dtype": "object",
         "stats": {
          "unique_count": 5,
          "nan_count": 0,
          "categories": [
           {
            "name": "Other",
            "count": 141
           },
           {
            "name": "Services",
            "count": 103
           },
           {
            "name": "3 others",
            "count": 151
           }
          ]
         }
        },
        {
         "name": "Fjob",
         "dtype": "object",
         "stats": {
          "unique_count": 5,
          "nan_count": 0,
          "categories": [
           {
            "name": "Other",
            "count": 217
           },
           {
            "name": "Services",
            "count": 111
           },
           {
            "name": "3 others",
            "count": 67
           }
          ]
         }
        },
        {
         "name": "reason",
         "dtype": "object",
         "stats": {
          "unique_count": 4,
          "nan_count": 0,
          "categories": [
           {
            "name": "Course",
            "count": 145
           },
           {
            "name": "Home",
            "count": 109
           },
           {
            "name": "2 others",
            "count": 141
           }
          ]
         }
        },
        {
         "name": "guardian",
         "dtype": "object",
         "stats": {
          "unique_count": 3,
          "nan_count": 0,
          "categories": [
           {
            "name": "Mother",
            "count": 273
           },
           {
            "name": "Father",
            "count": 90
           },
           {
            "name": "Other",
            "count": 32
           }
          ]
         }
        },
        {
         "name": "legal_drinker",
         "dtype": "bool",
         "stats": {
          "unique_count": 2,
          "nan_count": 0,
          "categories": [
           {
            "name": "False",
            "count": 284
           },
           {
            "name": "True",
            "count": 111
           }
          ]
         }
        },
        {
         "name": "_deepnote_index_column",
         "dtype": "int64"
        }
       ],
       "rows_top": [
        {
         "school": "GP",
         "sex": "F",
         "age": 18,
         "address": "U",
         "famsize": "GT3",
         "Pstatus": "A",
         "Medu": 4,
         "Fedu": 4,
         "Mjob": "At_home",
         "Fjob": "Teacher",
         "reason": "Course",
         "guardian": "Mother",
         "legal_drinker": "True",
         "_deepnote_index_column": 0
        },
        {
         "school": "GP",
         "sex": "F",
         "age": 17,
         "address": "U",
         "famsize": "GT3",
         "Pstatus": "T",
         "Medu": 1,
         "Fedu": 1,
         "Mjob": "At_home",
         "Fjob": "Other",
         "reason": "Course",
         "guardian": "Father",
         "legal_drinker": "False",
         "_deepnote_index_column": 1
        },
        {
         "school": "GP",
         "sex": "F",
         "age": 15,
         "address": "U",
         "famsize": "LE3",
         "Pstatus": "T",
         "Medu": 1,
         "Fedu": 1,
         "Mjob": "At_home",
         "Fjob": "Other",
         "reason": "Other",
         "guardian": "Mother",
         "legal_drinker": "False",
         "_deepnote_index_column": 2
        },
        {
         "school": "GP",
         "sex": "F",
         "age": 15,
         "address": "U",
         "famsize": "GT3",
         "Pstatus": "T",
         "Medu": 4,
         "Fedu": 2,
         "Mjob": "Health",
         "Fjob": "Services",
         "reason": "Home",
         "guardian": "Mother",
         "legal_drinker": "False",
         "_deepnote_index_column": 3
        },
        {
         "school": "GP",
         "sex": "F",
         "age": 16,
         "address": "U",
         "famsize": "GT3",
         "Pstatus": "T",
         "Medu": 3,
         "Fedu": 3,
         "Mjob": "Other",
         "Fjob": "Other",
         "reason": "Home",
         "guardian": "Father",
         "legal_drinker": "False",
         "_deepnote_index_column": 4
        },
        {
         "school": "GP",
         "sex": "M",
         "age": 16,
         "address": "U",
         "famsize": "LE3",
         "Pstatus": "T",
         "Medu": 4,
         "Fedu": 3,
         "Mjob": "Services",
         "Fjob": "Other",
         "reason": "Reputation",
         "guardian": "Mother",
         "legal_drinker": "False",
         "_deepnote_index_column": 5
        },
        {
         "school": "GP",
         "sex": "M",
         "age": 16,
         "address": "U",
         "famsize": "LE3",
         "Pstatus": "T",
         "Medu": 2,
         "Fedu": 2,
         "Mjob": "Other",
         "Fjob": "Other",
         "reason": "Home",
         "guardian": "Mother",
         "legal_drinker": "False",
         "_deepnote_index_column": 6
        },
        {
         "school": "GP",
         "sex": "F",
         "age": 17,
         "address": "U",
         "famsize": "GT3",
         "Pstatus": "A",
         "Medu": 4,
         "Fedu": 4,
         "Mjob": "Other",
         "Fjob": "Teacher",
         "reason": "Home",
         "guardian": "Mother",
         "legal_drinker": "False",
         "_deepnote_index_column": 7
        },
        {
         "school": "GP",
         "sex": "M",
         "age": 15,
         "address": "U",
         "famsize": "LE3",
         "Pstatus": "A",
         "Medu": 3,
         "Fedu": 2,
         "Mjob": "Services",
         "Fjob": "Other",
         "reason": "Home",
         "guardian": "Mother",
         "legal_drinker": "False",
         "_deepnote_index_column": 8
        },
        {
         "school": "GP",
         "sex": "M",
         "age": 15,
         "address": "U",
         "famsize": "GT3",
         "Pstatus": "T",
         "Medu": 3,
         "Fedu": 4,
         "Mjob": "Other",
         "Fjob": "Other",
         "reason": "Home",
         "guardian": "Mother",
         "legal_drinker": "False",
         "_deepnote_index_column": 9
        },
        {
         "school": "GP",
         "sex": "F",
         "age": 15,
         "address": "U",
         "famsize": "GT3",
         "Pstatus": "T",
         "Medu": 4,
         "Fedu": 4,
         "Mjob": "Teacher",
         "Fjob": "Health",
         "reason": "Reputation",
         "guardian": "Mother",
         "legal_drinker": "False",
         "_deepnote_index_column": 10
        },
        {
         "school": "GP",
         "sex": "F",
         "age": 15,
         "address": "U",
         "famsize": "GT3",
         "Pstatus": "T",
         "Medu": 2,
         "Fedu": 1,
         "Mjob": "Services",
         "Fjob": "Other",
         "reason": "Reputation",
         "guardian": "Father",
         "legal_drinker": "False",
         "_deepnote_index_column": 11
        },
        {
         "school": "GP",
         "sex": "M",
         "age": 15,
         "address": "U",
         "famsize": "LE3",
         "Pstatus": "T",
         "Medu": 4,
         "Fedu": 4,
         "Mjob": "Health",
         "Fjob": "Services",
         "reason": "Course",
         "guardian": "Father",
         "legal_drinker": "False",
         "_deepnote_index_column": 12
        },
        {
         "school": "GP",
         "sex": "M",
         "age": 15,
         "address": "U",
         "famsize": "GT3",
         "Pstatus": "T",
         "Medu": 4,
         "Fedu": 3,
         "Mjob": "Teacher",
         "Fjob": "Other",
         "reason": "Course",
         "guardian": "Mother",
         "legal_drinker": "False",
         "_deepnote_index_column": 13
        },
        {
         "school": "GP",
         "sex": "M",
         "age": 15,
         "address": "U",
         "famsize": "GT3",
         "Pstatus": "A",
         "Medu": 2,
         "Fedu": 2,
         "Mjob": "Other",
         "Fjob": "Other",
         "reason": "Home",
         "guardian": "Other",
         "legal_drinker": "False",
         "_deepnote_index_column": 14
        },
        {
         "school": "GP",
         "sex": "F",
         "age": 16,
         "address": "U",
         "famsize": "GT3",
         "Pstatus": "T",
         "Medu": 4,
         "Fedu": 4,
         "Mjob": "Health",
         "Fjob": "Other",
         "reason": "Home",
         "guardian": "Mother",
         "legal_drinker": "False",
         "_deepnote_index_column": 15
        },
        {
         "school": "GP",
         "sex": "F",
         "age": 16,
         "address": "U",
         "famsize": "GT3",
         "Pstatus": "T",
         "Medu": 4,
         "Fedu": 4,
         "Mjob": "Services",
         "Fjob": "Services",
         "reason": "Reputation",
         "guardian": "Mother",
         "legal_drinker": "False",
         "_deepnote_index_column": 16
        },
        {
         "school": "GP",
         "sex": "F",
         "age": 16,
         "address": "U",
         "famsize": "GT3",
         "Pstatus": "T",
         "Medu": 3,
         "Fedu": 3,
         "Mjob": "Other",
         "Fjob": "Other",
         "reason": "Reputation",
         "guardian": "Mother",
         "legal_drinker": "False",
         "_deepnote_index_column": 17
        },
        {
         "school": "GP",
         "sex": "M",
         "age": 17,
         "address": "U",
         "famsize": "GT3",
         "Pstatus": "T",
         "Medu": 3,
         "Fedu": 2,
         "Mjob": "Services",
         "Fjob": "Services",
         "reason": "Course",
         "guardian": "Mother",
         "legal_drinker": "False",
         "_deepnote_index_column": 18
        },
        {
         "school": "GP",
         "sex": "M",
         "age": 16,
         "address": "U",
         "famsize": "LE3",
         "Pstatus": "T",
         "Medu": 4,
         "Fedu": 3,
         "Mjob": "Health",
         "Fjob": "Other",
         "reason": "Home",
         "guardian": "Father",
         "legal_drinker": "False",
         "_deepnote_index_column": 19
        },
        {
         "school": "GP",
         "sex": "M",
         "age": 15,
         "address": "U",
         "famsize": "GT3",
         "Pstatus": "T",
         "Medu": 4,
         "Fedu": 3,
         "Mjob": "Teacher",
         "Fjob": "Other",
         "reason": "Reputation",
         "guardian": "Mother",
         "legal_drinker": "False",
         "_deepnote_index_column": 20
        },
        {
         "school": "GP",
         "sex": "M",
         "age": 15,
         "address": "U",
         "famsize": "GT3",
         "Pstatus": "T",
         "Medu": 4,
         "Fedu": 4,
         "Mjob": "Health",
         "Fjob": "Health",
         "reason": "Other",
         "guardian": "Father",
         "legal_drinker": "False",
         "_deepnote_index_column": 21
        },
        {
         "school": "GP",
         "sex": "M",
         "age": 16,
         "address": "U",
         "famsize": "LE3",
         "Pstatus": "T",
         "Medu": 4,
         "Fedu": 2,
         "Mjob": "Teacher",
         "Fjob": "Other",
         "reason": "Course",
         "guardian": "Mother",
         "legal_drinker": "False",
         "_deepnote_index_column": 22
        },
        {
         "school": "GP",
         "sex": "M",
         "age": 16,
         "address": "U",
         "famsize": "LE3",
         "Pstatus": "T",
         "Medu": 2,
         "Fedu": 2,
         "Mjob": "Other",
         "Fjob": "Other",
         "reason": "Reputation",
         "guardian": "Mother",
         "legal_drinker": "False",
         "_deepnote_index_column": 23
        },
        {
         "school": "GP",
         "sex": "F",
         "age": 15,
         "address": "R",
         "famsize": "GT3",
         "Pstatus": "T",
         "Medu": 2,
         "Fedu": 4,
         "Mjob": "Services",
         "Fjob": "Health",
         "reason": "Course",
         "guardian": "Mother",
         "legal_drinker": "False",
         "_deepnote_index_column": 24
        },
        {
         "school": "GP",
         "sex": "F",
         "age": 16,
         "address": "U",
         "famsize": "GT3",
         "Pstatus": "T",
         "Medu": 2,
         "Fedu": 2,
         "Mjob": "Services",
         "Fjob": "Services",
         "reason": "Home",
         "guardian": "Mother",
         "legal_drinker": "False",
         "_deepnote_index_column": 25
        },
        {
         "school": "GP",
         "sex": "M",
         "age": 15,
         "address": "U",
         "famsize": "GT3",
         "Pstatus": "T",
         "Medu": 2,
         "Fedu": 2,
         "Mjob": "Other",
         "Fjob": "Other",
         "reason": "Home",
         "guardian": "Mother",
         "legal_drinker": "False",
         "_deepnote_index_column": 26
        },
        {
         "school": "GP",
         "sex": "M",
         "age": 15,
         "address": "U",
         "famsize": "GT3",
         "Pstatus": "T",
         "Medu": 4,
         "Fedu": 2,
         "Mjob": "Health",
         "Fjob": "Services",
         "reason": "Other",
         "guardian": "Mother",
         "legal_drinker": "False",
         "_deepnote_index_column": 27
        },
        {
         "school": "GP",
         "sex": "M",
         "age": 16,
         "address": "U",
         "famsize": "LE3",
         "Pstatus": "A",
         "Medu": 3,
         "Fedu": 4,
         "Mjob": "Services",
         "Fjob": "Other",
         "reason": "Home",
         "guardian": "Mother",
         "legal_drinker": "False",
         "_deepnote_index_column": 28
        },
        {
         "school": "GP",
         "sex": "M",
         "age": 16,
         "address": "U",
         "famsize": "GT3",
         "Pstatus": "T",
         "Medu": 4,
         "Fedu": 4,
         "Mjob": "Teacher",
         "Fjob": "Teacher",
         "reason": "Home",
         "guardian": "Mother",
         "legal_drinker": "False",
         "_deepnote_index_column": 29
        },
        {
         "school": "GP",
         "sex": "M",
         "age": 15,
         "address": "U",
         "famsize": "GT3",
         "Pstatus": "T",
         "Medu": 4,
         "Fedu": 4,
         "Mjob": "Health",
         "Fjob": "Services",
         "reason": "Home",
         "guardian": "Mother",
         "legal_drinker": "False",
         "_deepnote_index_column": 30
        },
        {
         "school": "GP",
         "sex": "M",
         "age": 15,
         "address": "U",
         "famsize": "GT3",
         "Pstatus": "T",
         "Medu": 4,
         "Fedu": 4,
         "Mjob": "Services",
         "Fjob": "Services",
         "reason": "Reputation",
         "guardian": "Mother",
         "legal_drinker": "False",
         "_deepnote_index_column": 31
        },
        {
         "school": "GP",
         "sex": "M",
         "age": 15,
         "address": "R",
         "famsize": "GT3",
         "Pstatus": "T",
         "Medu": 4,
         "Fedu": 3,
         "Mjob": "Teacher",
         "Fjob": "At_home",
         "reason": "Course",
         "guardian": "Mother",
         "legal_drinker": "False",
         "_deepnote_index_column": 32
        },
        {
         "school": "GP",
         "sex": "M",
         "age": 15,
         "address": "U",
         "famsize": "LE3",
         "Pstatus": "T",
         "Medu": 3,
         "Fedu": 3,
         "Mjob": "Other",
         "Fjob": "Other",
         "reason": "Course",
         "guardian": "Mother",
         "legal_drinker": "False",
         "_deepnote_index_column": 33
        },
        {
         "school": "GP",
         "sex": "M",
         "age": 16,
         "address": "U",
         "famsize": "GT3",
         "Pstatus": "T",
         "Medu": 3,
         "Fedu": 2,
         "Mjob": "Other",
         "Fjob": "Other",
         "reason": "Home",
         "guardian": "Mother",
         "legal_drinker": "False",
         "_deepnote_index_column": 34
        },
        {
         "school": "GP",
         "sex": "F",
         "age": 15,
         "address": "U",
         "famsize": "GT3",
         "Pstatus": "T",
         "Medu": 2,
         "Fedu": 3,
         "Mjob": "Other",
         "Fjob": "Other",
         "reason": "Other",
         "guardian": "Father",
         "legal_drinker": "False",
         "_deepnote_index_column": 35
        },
        {
         "school": "GP",
         "sex": "M",
         "age": 15,
         "address": "U",
         "famsize": "LE3",
         "Pstatus": "T",
         "Medu": 4,
         "Fedu": 3,
         "Mjob": "Teacher",
         "Fjob": "Services",
         "reason": "Home",
         "guardian": "Mother",
         "legal_drinker": "False",
         "_deepnote_index_column": 36
        },
        {
         "school": "GP",
         "sex": "M",
         "age": 16,
         "address": "R",
         "famsize": "GT3",
         "Pstatus": "A",
         "Medu": 4,
         "Fedu": 4,
         "Mjob": "Other",
         "Fjob": "Teacher",
         "reason": "Reputation",
         "guardian": "Mother",
         "legal_drinker": "False",
         "_deepnote_index_column": 37
        }
       ],
       "rows_bottom": [
        {
         "school": "MS",
         "sex": "F",
         "age": 17,
         "address": "U",
         "famsize": "LE3",
         "Pstatus": "A",
         "Medu": 3,
         "Fedu": 2,
         "Mjob": "Services",
         "Fjob": "Other",
         "reason": "Reputation",
         "guardian": "Mother",
         "legal_drinker": "False",
         "_deepnote_index_column": 357
        },
        {
         "school": "MS",
         "sex": "M",
         "age": 18,
         "address": "U",
         "famsize": "LE3",
         "Pstatus": "T",
         "Medu": 1,
         "Fedu": 1,
         "Mjob": "Other",
         "Fjob": "Services",
         "reason": "Home",
         "guardian": "Father",
         "legal_drinker": "True",
         "_deepnote_index_column": 358
        },
        {
         "school": "MS",
         "sex": "F",
         "age": 18,
         "address": "U",
         "famsize": "LE3",
         "Pstatus": "T",
         "Medu": 1,
         "Fedu": 1,
         "Mjob": "At_home",
         "Fjob": "Services",
         "reason": "Course",
         "guardian": "Father",
         "legal_drinker": "True",
         "_deepnote_index_column": 359
        },
        {
         "school": "MS",
         "sex": "F",
         "age": 18,
         "address": "R",
         "famsize": "LE3",
         "Pstatus": "A",
         "Medu": 1,
         "Fedu": 4,
         "Mjob": "At_home",
         "Fjob": "Other",
         "reason": "Course",
         "guardian": "Mother",
         "legal_drinker": "True",
         "_deepnote_index_column": 360
        },
        {
         "school": "MS",
         "sex": "M",
         "age": 18,
         "address": "R",
         "famsize": "LE3",
         "Pstatus": "T",
         "Medu": 1,
         "Fedu": 1,
         "Mjob": "At_home",
         "Fjob": "Other",
         "reason": "Other",
         "guardian": "Mother",
         "legal_drinker": "True",
         "_deepnote_index_column": 361
        },
        {
         "school": "MS",
         "sex": "F",
         "age": 18,
         "address": "U",
         "famsize": "GT3",
         "Pstatus": "T",
         "Medu": 3,
         "Fedu": 3,
         "Mjob": "Services",
         "Fjob": "Services",
         "reason": "Other",
         "guardian": "Mother",
         "legal_drinker": "True",
         "_deepnote_index_column": 362
        },
        {
         "school": "MS",
         "sex": "F",
         "age": 17,
         "address": "U",
         "famsize": "LE3",
         "Pstatus": "T",
         "Medu": 4,
         "Fedu": 4,
         "Mjob": "At_home",
         "Fjob": "At_home",
         "reason": "Course",
         "guardian": "Mother",
         "legal_drinker": "False",
         "_deepnote_index_column": 363
        },
        {
         "school": "MS",
         "sex": "F",
         "age": 17,
         "address": "R",
         "famsize": "GT3",
         "Pstatus": "T",
         "Medu": 1,
         "Fedu": 2,
         "Mjob": "Other",
         "Fjob": "Services",
         "reason": "Course",
         "guardian": "Father",
         "legal_drinker": "False",
         "_deepnote_index_column": 364
        },
        {
         "school": "MS",
         "sex": "M",
         "age": 18,
         "address": "R",
         "famsize": "GT3",
         "Pstatus": "T",
         "Medu": 1,
         "Fedu": 3,
         "Mjob": "At_home",
         "Fjob": "Other",
         "reason": "Course",
         "guardian": "Mother",
         "legal_drinker": "True",
         "_deepnote_index_column": 365
        },
        {
         "school": "MS",
         "sex": "M",
         "age": 18,
         "address": "U",
         "famsize": "LE3",
         "Pstatus": "T",
         "Medu": 4,
         "Fedu": 4,
         "Mjob": "Teacher",
         "Fjob": "Services",
         "reason": "Other",
         "guardian": "Mother",
         "legal_drinker": "True",
         "_deepnote_index_column": 366
        },
        {
         "school": "MS",
         "sex": "F",
         "age": 17,
         "address": "R",
         "famsize": "GT3",
         "Pstatus": "T",
         "Medu": 1,
         "Fedu": 1,
         "Mjob": "Other",
         "Fjob": "Services",
         "reason": "Reputation",
         "guardian": "Mother",
         "legal_drinker": "False",
         "_deepnote_index_column": 367
        },
        {
         "school": "MS",
         "sex": "F",
         "age": 18,
         "address": "U",
         "famsize": "GT3",
         "Pstatus": "T",
         "Medu": 2,
         "Fedu": 3,
         "Mjob": "At_home",
         "Fjob": "Services",
         "reason": "Course",
         "guardian": "Father",
         "legal_drinker": "True",
         "_deepnote_index_column": 368
        },
        {
         "school": "MS",
         "sex": "F",
         "age": 18,
         "address": "R",
         "famsize": "GT3",
         "Pstatus": "T",
         "Medu": 4,
         "Fedu": 4,
         "Mjob": "Other",
         "Fjob": "Teacher",
         "reason": "Other",
         "guardian": "Father",
         "legal_drinker": "True",
         "_deepnote_index_column": 369
        },
        {
         "school": "MS",
         "sex": "F",
         "age": 19,
         "address": "U",
         "famsize": "LE3",
         "Pstatus": "T",
         "Medu": 3,
         "Fedu": 2,
         "Mjob": "Services",
         "Fjob": "Services",
         "reason": "Home",
         "guardian": "Other",
         "legal_drinker": "True",
         "_deepnote_index_column": 370
        },
        {
         "school": "MS",
         "sex": "M",
         "age": 18,
         "address": "R",
         "famsize": "LE3",
         "Pstatus": "T",
         "Medu": 1,
         "Fedu": 2,
         "Mjob": "At_home",
         "Fjob": "Services",
         "reason": "Other",
         "guardian": "Father",
         "legal_drinker": "True",
         "_deepnote_index_column": 371
        },
        {
         "school": "MS",
         "sex": "F",
         "age": 17,
         "address": "U",
         "famsize": "GT3",
         "Pstatus": "T",
         "Medu": 2,
         "Fedu": 2,
         "Mjob": "Other",
         "Fjob": "At_home",
         "reason": "Home",
         "guardian": "Mother",
         "legal_drinker": "False",
         "_deepnote_index_column": 372
        },
        {
         "school": "MS",
         "sex": "F",
         "age": 17,
         "address": "R",
         "famsize": "GT3",
         "Pstatus": "T",
         "Medu": 1,
         "Fedu": 2,
         "Mjob": "Other",
         "Fjob": "Other",
         "reason": "Course",
         "guardian": "Mother",
         "legal_drinker": "False",
         "_deepnote_index_column": 373
        },
        {
         "school": "MS",
         "sex": "F",
         "age": 18,
         "address": "R",
         "famsize": "LE3",
         "Pstatus": "T",
         "Medu": 4,
         "Fedu": 4,
         "Mjob": "Other",
         "Fjob": "Other",
         "reason": "Reputation",
         "guardian": "Mother",
         "legal_drinker": "True",
         "_deepnote_index_column": 374
        },
        {
         "school": "MS",
         "sex": "F",
         "age": 18,
         "address": "R",
         "famsize": "GT3",
         "Pstatus": "T",
         "Medu": 1,
         "Fedu": 1,
         "Mjob": "Other",
         "Fjob": "Other",
         "reason": "Home",
         "guardian": "Mother",
         "legal_drinker": "True",
         "_deepnote_index_column": 375
        },
        {
         "school": "MS",
         "sex": "F",
         "age": 20,
         "address": "U",
         "famsize": "GT3",
         "Pstatus": "T",
         "Medu": 4,
         "Fedu": 2,
         "Mjob": "Health",
         "Fjob": "Other",
         "reason": "Course",
         "guardian": "Other",
         "legal_drinker": "True",
         "_deepnote_index_column": 376
        },
        {
         "school": "MS",
         "sex": "F",
         "age": 18,
         "address": "R",
         "famsize": "LE3",
         "Pstatus": "T",
         "Medu": 4,
         "Fedu": 4,
         "Mjob": "Teacher",
         "Fjob": "Services",
         "reason": "Course",
         "guardian": "Mother",
         "legal_drinker": "True",
         "_deepnote_index_column": 377
        },
        {
         "school": "MS",
         "sex": "F",
         "age": 18,
         "address": "U",
         "famsize": "GT3",
         "Pstatus": "T",
         "Medu": 3,
         "Fedu": 3,
         "Mjob": "Other",
         "Fjob": "Other",
         "reason": "Home",
         "guardian": "Mother",
         "legal_drinker": "True",
         "_deepnote_index_column": 378
        },
        {
         "school": "MS",
         "sex": "F",
         "age": 17,
         "address": "R",
         "famsize": "GT3",
         "Pstatus": "T",
         "Medu": 3,
         "Fedu": 1,
         "Mjob": "At_home",
         "Fjob": "Other",
         "reason": "Reputation",
         "guardian": "Mother",
         "legal_drinker": "False",
         "_deepnote_index_column": 379
        },
        {
         "school": "MS",
         "sex": "M",
         "age": 18,
         "address": "U",
         "famsize": "GT3",
         "Pstatus": "T",
         "Medu": 4,
         "Fedu": 4,
         "Mjob": "Teacher",
         "Fjob": "Teacher",
         "reason": "Home",
         "guardian": "Father",
         "legal_drinker": "True",
         "_deepnote_index_column": 380
        },
        {
         "school": "MS",
         "sex": "M",
         "age": 18,
         "address": "R",
         "famsize": "GT3",
         "Pstatus": "T",
         "Medu": 2,
         "Fedu": 1,
         "Mjob": "Other",
         "Fjob": "Other",
         "reason": "Other",
         "guardian": "Mother",
         "legal_drinker": "True",
         "_deepnote_index_column": 381
        },
        {
         "school": "MS",
         "sex": "M",
         "age": 17,
         "address": "U",
         "famsize": "GT3",
         "Pstatus": "T",
         "Medu": 2,
         "Fedu": 3,
         "Mjob": "Other",
         "Fjob": "Services",
         "reason": "Home",
         "guardian": "Father",
         "legal_drinker": "False",
         "_deepnote_index_column": 382
        },
        {
         "school": "MS",
         "sex": "M",
         "age": 19,
         "address": "R",
         "famsize": "GT3",
         "Pstatus": "T",
         "Medu": 1,
         "Fedu": 1,
         "Mjob": "Other",
         "Fjob": "Services",
         "reason": "Other",
         "guardian": "Mother",
         "legal_drinker": "True",
         "_deepnote_index_column": 383
        },
        {
         "school": "MS",
         "sex": "M",
         "age": 18,
         "address": "R",
         "famsize": "GT3",
         "Pstatus": "T",
         "Medu": 4,
         "Fedu": 2,
         "Mjob": "Other",
         "Fjob": "Other",
         "reason": "Home",
         "guardian": "Father",
         "legal_drinker": "True",
         "_deepnote_index_column": 384
        },
        {
         "school": "MS",
         "sex": "F",
         "age": 18,
         "address": "R",
         "famsize": "GT3",
         "Pstatus": "T",
         "Medu": 2,
         "Fedu": 2,
         "Mjob": "At_home",
         "Fjob": "Other",
         "reason": "Other",
         "guardian": "Mother",
         "legal_drinker": "True",
         "_deepnote_index_column": 385
        },
        {
         "school": "MS",
         "sex": "F",
         "age": 18,
         "address": "R",
         "famsize": "GT3",
         "Pstatus": "T",
         "Medu": 4,
         "Fedu": 4,
         "Mjob": "Teacher",
         "Fjob": "At_home",
         "reason": "Reputation",
         "guardian": "Mother",
         "legal_drinker": "True",
         "_deepnote_index_column": 386
        },
        {
         "school": "MS",
         "sex": "F",
         "age": 19,
         "address": "R",
         "famsize": "GT3",
         "Pstatus": "T",
         "Medu": 2,
         "Fedu": 3,
         "Mjob": "Services",
         "Fjob": "Other",
         "reason": "Course",
         "guardian": "Mother",
         "legal_drinker": "True",
         "_deepnote_index_column": 387
        },
        {
         "school": "MS",
         "sex": "F",
         "age": 18,
         "address": "U",
         "famsize": "LE3",
         "Pstatus": "T",
         "Medu": 3,
         "Fedu": 1,
         "Mjob": "Teacher",
         "Fjob": "Services",
         "reason": "Course",
         "guardian": "Mother",
         "legal_drinker": "True",
         "_deepnote_index_column": 388
        },
        {
         "school": "MS",
         "sex": "F",
         "age": 18,
         "address": "U",
         "famsize": "GT3",
         "Pstatus": "T",
         "Medu": 1,
         "Fedu": 1,
         "Mjob": "Other",
         "Fjob": "Other",
         "reason": "Course",
         "guardian": "Mother",
         "legal_drinker": "True",
         "_deepnote_index_column": 389
        },
        {
         "school": "MS",
         "sex": "M",
         "age": 20,
         "address": "U",
         "famsize": "LE3",
         "Pstatus": "A",
         "Medu": 2,
         "Fedu": 2,
         "Mjob": "Services",
         "Fjob": "Services",
         "reason": "Course",
         "guardian": "Other",
         "legal_drinker": "True",
         "_deepnote_index_column": 390
        },
        {
         "school": "MS",
         "sex": "M",
         "age": 17,
         "address": "U",
         "famsize": "LE3",
         "Pstatus": "T",
         "Medu": 3,
         "Fedu": 1,
         "Mjob": "Services",
         "Fjob": "Services",
         "reason": "Course",
         "guardian": "Mother",
         "legal_drinker": "False",
         "_deepnote_index_column": 391
        },
        {
         "school": "MS",
         "sex": "M",
         "age": 21,
         "address": "R",
         "famsize": "GT3",
         "Pstatus": "T",
         "Medu": 1,
         "Fedu": 1,
         "Mjob": "Other",
         "Fjob": "Other",
         "reason": "Course",
         "guardian": "Other",
         "legal_drinker": "True",
         "_deepnote_index_column": 392
        },
        {
         "school": "MS",
         "sex": "M",
         "age": 18,
         "address": "R",
         "famsize": "LE3",
         "Pstatus": "T",
         "Medu": 3,
         "Fedu": 2,
         "Mjob": "Services",
         "Fjob": "Other",
         "reason": "Course",
         "guardian": "Mother",
         "legal_drinker": "True",
         "_deepnote_index_column": 393
        },
        {
         "school": "MS",
         "sex": "M",
         "age": 19,
         "address": "U",
         "famsize": "LE3",
         "Pstatus": "T",
         "Medu": 1,
         "Fedu": 1,
         "Mjob": "Other",
         "Fjob": "At_home",
         "reason": "Course",
         "guardian": "Father",
         "legal_drinker": "True",
         "_deepnote_index_column": 394
        }
       ]
      },
      "text/plain": "    school sex  age address famsize Pstatus  Medu  Fedu      Mjob      Fjob  \\\n0       GP   F   18       U     GT3       A     4     4   At_home   Teacher   \n1       GP   F   17       U     GT3       T     1     1   At_home     Other   \n2       GP   F   15       U     LE3       T     1     1   At_home     Other   \n3       GP   F   15       U     GT3       T     4     2    Health  Services   \n4       GP   F   16       U     GT3       T     3     3     Other     Other   \n..     ...  ..  ...     ...     ...     ...   ...   ...       ...       ...   \n390     MS   M   20       U     LE3       A     2     2  Services  Services   \n391     MS   M   17       U     LE3       T     3     1  Services  Services   \n392     MS   M   21       R     GT3       T     1     1     Other     Other   \n393     MS   M   18       R     LE3       T     3     2  Services     Other   \n394     MS   M   19       U     LE3       T     1     1     Other   At_home   \n\n     reason guardian  legal_drinker  \n0    Course   Mother           True  \n1    Course   Father          False  \n2     Other   Mother          False  \n3      Home   Mother          False  \n4      Home   Father          False  \n..      ...      ...            ...  \n390  Course    Other           True  \n391  Course   Mother          False  \n392  Course    Other           True  \n393  Course   Mother           True  \n394  Course   Father           True  \n\n[395 rows x 13 columns]",
      "text/html": "<div>\n<style scoped>\n    .dataframe tbody tr th:only-of-type {\n        vertical-align: middle;\n    }\n\n    .dataframe tbody tr th {\n        vertical-align: top;\n    }\n\n    .dataframe thead th {\n        text-align: right;\n    }\n</style>\n<table border=\"1\" class=\"dataframe\">\n  <thead>\n    <tr style=\"text-align: right;\">\n      <th></th>\n      <th>school</th>\n      <th>sex</th>\n      <th>age</th>\n      <th>address</th>\n      <th>famsize</th>\n      <th>Pstatus</th>\n      <th>Medu</th>\n      <th>Fedu</th>\n      <th>Mjob</th>\n      <th>Fjob</th>\n      <th>reason</th>\n      <th>guardian</th>\n      <th>legal_drinker</th>\n    </tr>\n  </thead>\n  <tbody>\n    <tr>\n      <th>0</th>\n      <td>GP</td>\n      <td>F</td>\n      <td>18</td>\n      <td>U</td>\n      <td>GT3</td>\n      <td>A</td>\n      <td>4</td>\n      <td>4</td>\n      <td>At_home</td>\n      <td>Teacher</td>\n      <td>Course</td>\n      <td>Mother</td>\n      <td>True</td>\n    </tr>\n    <tr>\n      <th>1</th>\n      <td>GP</td>\n      <td>F</td>\n      <td>17</td>\n      <td>U</td>\n      <td>GT3</td>\n      <td>T</td>\n      <td>1</td>\n      <td>1</td>\n      <td>At_home</td>\n      <td>Other</td>\n      <td>Course</td>\n      <td>Father</td>\n      <td>False</td>\n    </tr>\n    <tr>\n      <th>2</th>\n      <td>GP</td>\n      <td>F</td>\n      <td>15</td>\n      <td>U</td>\n      <td>LE3</td>\n      <td>T</td>\n      <td>1</td>\n      <td>1</td>\n      <td>At_home</td>\n      <td>Other</td>\n      <td>Other</td>\n      <td>Mother</td>\n      <td>False</td>\n    </tr>\n    <tr>\n      <th>3</th>\n      <td>GP</td>\n      <td>F</td>\n      <td>15</td>\n      <td>U</td>\n      <td>GT3</td>\n      <td>T</td>\n      <td>4</td>\n      <td>2</td>\n      <td>Health</td>\n      <td>Services</td>\n      <td>Home</td>\n      <td>Mother</td>\n      <td>False</td>\n    </tr>\n    <tr>\n      <th>4</th>\n      <td>GP</td>\n      <td>F</td>\n      <td>16</td>\n      <td>U</td>\n      <td>GT3</td>\n      <td>T</td>\n      <td>3</td>\n      <td>3</td>\n      <td>Other</td>\n      <td>Other</td>\n      <td>Home</td>\n      <td>Father</td>\n      <td>False</td>\n    </tr>\n    <tr>\n      <th>...</th>\n      <td>...</td>\n      <td>...</td>\n      <td>...</td>\n      <td>...</td>\n      <td>...</td>\n      <td>...</td>\n      <td>...</td>\n      <td>...</td>\n      <td>...</td>\n      <td>...</td>\n      <td>...</td>\n      <td>...</td>\n      <td>...</td>\n    </tr>\n    <tr>\n      <th>390</th>\n      <td>MS</td>\n      <td>M</td>\n      <td>20</td>\n      <td>U</td>\n      <td>LE3</td>\n      <td>A</td>\n      <td>2</td>\n      <td>2</td>\n      <td>Services</td>\n      <td>Services</td>\n      <td>Course</td>\n      <td>Other</td>\n      <td>True</td>\n    </tr>\n    <tr>\n      <th>391</th>\n      <td>MS</td>\n      <td>M</td>\n      <td>17</td>\n      <td>U</td>\n      <td>LE3</td>\n      <td>T</td>\n      <td>3</td>\n      <td>1</td>\n      <td>Services</td>\n      <td>Services</td>\n      <td>Course</td>\n      <td>Mother</td>\n      <td>False</td>\n    </tr>\n    <tr>\n      <th>392</th>\n      <td>MS</td>\n      <td>M</td>\n      <td>21</td>\n      <td>R</td>\n      <td>GT3</td>\n      <td>T</td>\n      <td>1</td>\n      <td>1</td>\n      <td>Other</td>\n      <td>Other</td>\n      <td>Course</td>\n      <td>Other</td>\n      <td>True</td>\n    </tr>\n    <tr>\n      <th>393</th>\n      <td>MS</td>\n      <td>M</td>\n      <td>18</td>\n      <td>R</td>\n      <td>LE3</td>\n      <td>T</td>\n      <td>3</td>\n      <td>2</td>\n      <td>Services</td>\n      <td>Other</td>\n      <td>Course</td>\n      <td>Mother</td>\n      <td>True</td>\n    </tr>\n    <tr>\n      <th>394</th>\n      <td>MS</td>\n      <td>M</td>\n      <td>19</td>\n      <td>U</td>\n      <td>LE3</td>\n      <td>T</td>\n      <td>1</td>\n      <td>1</td>\n      <td>Other</td>\n      <td>At_home</td>\n      <td>Course</td>\n      <td>Father</td>\n      <td>True</td>\n    </tr>\n  </tbody>\n</table>\n<p>395 rows × 13 columns</p>\n</div>"
     },
     "metadata": {}
    }
   ]
  },
  {
   "cell_type": "markdown",
   "source": "### Step 10. Multiply every number of the dataset by 10. \n##### I know this makes no sense, don't forget it is just an exercise",
   "metadata": {
    "id": "ao83636hTa3w",
    "cell_id": "00014-50558ccb-6b57-40b1-b6fc-a377a36c311e",
    "deepnote_cell_type": "markdown"
   }
  },
  {
   "cell_type": "code",
   "metadata": {
    "colab": {
     "base_uri": "https://localhost:8080/",
     "height": 1000
    },
    "id": "ppZ7JYiSkKhW",
    "executionInfo": {
     "status": "ok",
     "timestamp": 1623625478802,
     "user_tz": 240,
     "elapsed": 311,
     "user": {
      "displayName": "Andrés Sánchez",
      "photoUrl": "https://lh3.googleusercontent.com/a-/AOh14Gg69bZMv30ckb-T1MJy0nSxWIHUaP0p2uP6MYBuvQ=s64",
      "userId": "07985253921366566280"
     }
    },
    "outputId": "c0a1ec84-ac75-4bc1-bd5c-f90586129497",
    "cell_id": "00015-df3d57d6-f4bb-4c54-a9f9-16b6f39437f2",
    "deepnote_to_be_reexecuted": false,
    "source_hash": "2d0df09c",
    "execution_start": 1630097977140,
    "execution_millis": 53,
    "deepnote_cell_type": "code"
   },
   "source": "df.applymap(lambda x: x * 10 if x is int else x)\ndf",
   "execution_count": 7,
   "outputs": [
    {
     "output_type": "execute_result",
     "execution_count": 7,
     "data": {
      "application/vnd.deepnote.dataframe.v2+json": {
       "row_count": 395,
       "column_count": 13,
       "columns": [
        {
         "name": "school",
         "dtype": "object",
         "stats": {
          "unique_count": 2,
          "nan_count": 0,
          "categories": [
           {
            "name": "GP",
            "count": 349
           },
           {
            "name": "MS",
            "count": 46
           }
          ]
         }
        },
        {
         "name": "sex",
         "dtype": "object",
         "stats": {
          "unique_count": 2,
          "nan_count": 0,
          "categories": [
           {
            "name": "F",
            "count": 208
           },
           {
            "name": "M",
            "count": 187
           }
          ]
         }
        },
        {
         "name": "age",
         "dtype": "int64",
         "stats": {
          "unique_count": 8,
          "nan_count": 0,
          "min": "15",
          "max": "22",
          "histogram": [
           {
            "bin_start": 15,
            "bin_end": 15.7,
            "count": 82
           },
           {
            "bin_start": 15.7,
            "bin_end": 16.4,
            "count": 104
           },
           {
            "bin_start": 16.4,
            "bin_end": 17.1,
            "count": 98
           },
           {
            "bin_start": 17.1,
            "bin_end": 17.8,
            "count": 0
           },
           {
            "bin_start": 17.8,
            "bin_end": 18.5,
            "count": 82
           },
           {
            "bin_start": 18.5,
            "bin_end": 19.2,
            "count": 24
           },
           {
            "bin_start": 19.2,
            "bin_end": 19.9,
            "count": 0
           },
           {
            "bin_start": 19.9,
            "bin_end": 20.6,
            "count": 3
           },
           {
            "bin_start": 20.6,
            "bin_end": 21.3,
            "count": 1
           },
           {
            "bin_start": 21.3,
            "bin_end": 22,
            "count": 1
           }
          ]
         }
        },
        {
         "name": "address",
         "dtype": "object",
         "stats": {
          "unique_count": 2,
          "nan_count": 0,
          "categories": [
           {
            "name": "U",
            "count": 307
           },
           {
            "name": "R",
            "count": 88
           }
          ]
         }
        },
        {
         "name": "famsize",
         "dtype": "object",
         "stats": {
          "unique_count": 2,
          "nan_count": 0,
          "categories": [
           {
            "name": "GT3",
            "count": 281
           },
           {
            "name": "LE3",
            "count": 114
           }
          ]
         }
        },
        {
         "name": "Pstatus",
         "dtype": "object",
         "stats": {
          "unique_count": 2,
          "nan_count": 0,
          "categories": [
           {
            "name": "T",
            "count": 354
           },
           {
            "name": "A",
            "count": 41
           }
          ]
         }
        },
        {
         "name": "Medu",
         "dtype": "int64",
         "stats": {
          "unique_count": 5,
          "nan_count": 0,
          "min": "0",
          "max": "4",
          "histogram": [
           {
            "bin_start": 0,
            "bin_end": 0.4,
            "count": 3
           },
           {
            "bin_start": 0.4,
            "bin_end": 0.8,
            "count": 0
           },
           {
            "bin_start": 0.8,
            "bin_end": 1.2000000000000002,
            "count": 59
           },
           {
            "bin_start": 1.2000000000000002,
            "bin_end": 1.6,
            "count": 0
           },
           {
            "bin_start": 1.6,
            "bin_end": 2,
            "count": 0
           },
           {
            "bin_start": 2,
            "bin_end": 2.4000000000000004,
            "count": 103
           },
           {
            "bin_start": 2.4000000000000004,
            "bin_end": 2.8000000000000003,
            "count": 0
           },
           {
            "bin_start": 2.8000000000000003,
            "bin_end": 3.2,
            "count": 99
           },
           {
            "bin_start": 3.2,
            "bin_end": 3.6,
            "count": 0
           },
           {
            "bin_start": 3.6,
            "bin_end": 4,
            "count": 131
           }
          ]
         }
        },
        {
         "name": "Fedu",
         "dtype": "int64",
         "stats": {
          "unique_count": 5,
          "nan_count": 0,
          "min": "0",
          "max": "4",
          "histogram": [
           {
            "bin_start": 0,
            "bin_end": 0.4,
            "count": 2
           },
           {
            "bin_start": 0.4,
            "bin_end": 0.8,
            "count": 0
           },
           {
            "bin_start": 0.8,
            "bin_end": 1.2000000000000002,
            "count": 82
           },
           {
            "bin_start": 1.2000000000000002,
            "bin_end": 1.6,
            "count": 0
           },
           {
            "bin_start": 1.6,
            "bin_end": 2,
            "count": 0
           },
           {
            "bin_start": 2,
            "bin_end": 2.4000000000000004,
            "count": 115
           },
           {
            "bin_start": 2.4000000000000004,
            "bin_end": 2.8000000000000003,
            "count": 0
           },
           {
            "bin_start": 2.8000000000000003,
            "bin_end": 3.2,
            "count": 100
           },
           {
            "bin_start": 3.2,
            "bin_end": 3.6,
            "count": 0
           },
           {
            "bin_start": 3.6,
            "bin_end": 4,
            "count": 96
           }
          ]
         }
        },
        {
         "name": "Mjob",
         "dtype": "object",
         "stats": {
          "unique_count": 5,
          "nan_count": 0,
          "categories": [
           {
            "name": "Other",
            "count": 141
           },
           {
            "name": "Services",
            "count": 103
           },
           {
            "name": "3 others",
            "count": 151
           }
          ]
         }
        },
        {
         "name": "Fjob",
         "dtype": "object",
         "stats": {
          "unique_count": 5,
          "nan_count": 0,
          "categories": [
           {
            "name": "Other",
            "count": 217
           },
           {
            "name": "Services",
            "count": 111
           },
           {
            "name": "3 others",
            "count": 67
           }
          ]
         }
        },
        {
         "name": "reason",
         "dtype": "object",
         "stats": {
          "unique_count": 4,
          "nan_count": 0,
          "categories": [
           {
            "name": "Course",
            "count": 145
           },
           {
            "name": "Home",
            "count": 109
           },
           {
            "name": "2 others",
            "count": 141
           }
          ]
         }
        },
        {
         "name": "guardian",
         "dtype": "object",
         "stats": {
          "unique_count": 3,
          "nan_count": 0,
          "categories": [
           {
            "name": "Mother",
            "count": 273
           },
           {
            "name": "Father",
            "count": 90
           },
           {
            "name": "Other",
            "count": 32
           }
          ]
         }
        },
        {
         "name": "legal_drinker",
         "dtype": "bool",
         "stats": {
          "unique_count": 2,
          "nan_count": 0,
          "categories": [
           {
            "name": "False",
            "count": 284
           },
           {
            "name": "True",
            "count": 111
           }
          ]
         }
        },
        {
         "name": "_deepnote_index_column",
         "dtype": "int64"
        }
       ],
       "rows_top": [
        {
         "school": "GP",
         "sex": "F",
         "age": 18,
         "address": "U",
         "famsize": "GT3",
         "Pstatus": "A",
         "Medu": 4,
         "Fedu": 4,
         "Mjob": "At_home",
         "Fjob": "Teacher",
         "reason": "Course",
         "guardian": "Mother",
         "legal_drinker": "True",
         "_deepnote_index_column": 0
        },
        {
         "school": "GP",
         "sex": "F",
         "age": 17,
         "address": "U",
         "famsize": "GT3",
         "Pstatus": "T",
         "Medu": 1,
         "Fedu": 1,
         "Mjob": "At_home",
         "Fjob": "Other",
         "reason": "Course",
         "guardian": "Father",
         "legal_drinker": "False",
         "_deepnote_index_column": 1
        },
        {
         "school": "GP",
         "sex": "F",
         "age": 15,
         "address": "U",
         "famsize": "LE3",
         "Pstatus": "T",
         "Medu": 1,
         "Fedu": 1,
         "Mjob": "At_home",
         "Fjob": "Other",
         "reason": "Other",
         "guardian": "Mother",
         "legal_drinker": "False",
         "_deepnote_index_column": 2
        },
        {
         "school": "GP",
         "sex": "F",
         "age": 15,
         "address": "U",
         "famsize": "GT3",
         "Pstatus": "T",
         "Medu": 4,
         "Fedu": 2,
         "Mjob": "Health",
         "Fjob": "Services",
         "reason": "Home",
         "guardian": "Mother",
         "legal_drinker": "False",
         "_deepnote_index_column": 3
        },
        {
         "school": "GP",
         "sex": "F",
         "age": 16,
         "address": "U",
         "famsize": "GT3",
         "Pstatus": "T",
         "Medu": 3,
         "Fedu": 3,
         "Mjob": "Other",
         "Fjob": "Other",
         "reason": "Home",
         "guardian": "Father",
         "legal_drinker": "False",
         "_deepnote_index_column": 4
        },
        {
         "school": "GP",
         "sex": "M",
         "age": 16,
         "address": "U",
         "famsize": "LE3",
         "Pstatus": "T",
         "Medu": 4,
         "Fedu": 3,
         "Mjob": "Services",
         "Fjob": "Other",
         "reason": "Reputation",
         "guardian": "Mother",
         "legal_drinker": "False",
         "_deepnote_index_column": 5
        },
        {
         "school": "GP",
         "sex": "M",
         "age": 16,
         "address": "U",
         "famsize": "LE3",
         "Pstatus": "T",
         "Medu": 2,
         "Fedu": 2,
         "Mjob": "Other",
         "Fjob": "Other",
         "reason": "Home",
         "guardian": "Mother",
         "legal_drinker": "False",
         "_deepnote_index_column": 6
        },
        {
         "school": "GP",
         "sex": "F",
         "age": 17,
         "address": "U",
         "famsize": "GT3",
         "Pstatus": "A",
         "Medu": 4,
         "Fedu": 4,
         "Mjob": "Other",
         "Fjob": "Teacher",
         "reason": "Home",
         "guardian": "Mother",
         "legal_drinker": "False",
         "_deepnote_index_column": 7
        },
        {
         "school": "GP",
         "sex": "M",
         "age": 15,
         "address": "U",
         "famsize": "LE3",
         "Pstatus": "A",
         "Medu": 3,
         "Fedu": 2,
         "Mjob": "Services",
         "Fjob": "Other",
         "reason": "Home",
         "guardian": "Mother",
         "legal_drinker": "False",
         "_deepnote_index_column": 8
        },
        {
         "school": "GP",
         "sex": "M",
         "age": 15,
         "address": "U",
         "famsize": "GT3",
         "Pstatus": "T",
         "Medu": 3,
         "Fedu": 4,
         "Mjob": "Other",
         "Fjob": "Other",
         "reason": "Home",
         "guardian": "Mother",
         "legal_drinker": "False",
         "_deepnote_index_column": 9
        },
        {
         "school": "GP",
         "sex": "F",
         "age": 15,
         "address": "U",
         "famsize": "GT3",
         "Pstatus": "T",
         "Medu": 4,
         "Fedu": 4,
         "Mjob": "Teacher",
         "Fjob": "Health",
         "reason": "Reputation",
         "guardian": "Mother",
         "legal_drinker": "False",
         "_deepnote_index_column": 10
        },
        {
         "school": "GP",
         "sex": "F",
         "age": 15,
         "address": "U",
         "famsize": "GT3",
         "Pstatus": "T",
         "Medu": 2,
         "Fedu": 1,
         "Mjob": "Services",
         "Fjob": "Other",
         "reason": "Reputation",
         "guardian": "Father",
         "legal_drinker": "False",
         "_deepnote_index_column": 11
        },
        {
         "school": "GP",
         "sex": "M",
         "age": 15,
         "address": "U",
         "famsize": "LE3",
         "Pstatus": "T",
         "Medu": 4,
         "Fedu": 4,
         "Mjob": "Health",
         "Fjob": "Services",
         "reason": "Course",
         "guardian": "Father",
         "legal_drinker": "False",
         "_deepnote_index_column": 12
        },
        {
         "school": "GP",
         "sex": "M",
         "age": 15,
         "address": "U",
         "famsize": "GT3",
         "Pstatus": "T",
         "Medu": 4,
         "Fedu": 3,
         "Mjob": "Teacher",
         "Fjob": "Other",
         "reason": "Course",
         "guardian": "Mother",
         "legal_drinker": "False",
         "_deepnote_index_column": 13
        },
        {
         "school": "GP",
         "sex": "M",
         "age": 15,
         "address": "U",
         "famsize": "GT3",
         "Pstatus": "A",
         "Medu": 2,
         "Fedu": 2,
         "Mjob": "Other",
         "Fjob": "Other",
         "reason": "Home",
         "guardian": "Other",
         "legal_drinker": "False",
         "_deepnote_index_column": 14
        },
        {
         "school": "GP",
         "sex": "F",
         "age": 16,
         "address": "U",
         "famsize": "GT3",
         "Pstatus": "T",
         "Medu": 4,
         "Fedu": 4,
         "Mjob": "Health",
         "Fjob": "Other",
         "reason": "Home",
         "guardian": "Mother",
         "legal_drinker": "False",
         "_deepnote_index_column": 15
        },
        {
         "school": "GP",
         "sex": "F",
         "age": 16,
         "address": "U",
         "famsize": "GT3",
         "Pstatus": "T",
         "Medu": 4,
         "Fedu": 4,
         "Mjob": "Services",
         "Fjob": "Services",
         "reason": "Reputation",
         "guardian": "Mother",
         "legal_drinker": "False",
         "_deepnote_index_column": 16
        },
        {
         "school": "GP",
         "sex": "F",
         "age": 16,
         "address": "U",
         "famsize": "GT3",
         "Pstatus": "T",
         "Medu": 3,
         "Fedu": 3,
         "Mjob": "Other",
         "Fjob": "Other",
         "reason": "Reputation",
         "guardian": "Mother",
         "legal_drinker": "False",
         "_deepnote_index_column": 17
        },
        {
         "school": "GP",
         "sex": "M",
         "age": 17,
         "address": "U",
         "famsize": "GT3",
         "Pstatus": "T",
         "Medu": 3,
         "Fedu": 2,
         "Mjob": "Services",
         "Fjob": "Services",
         "reason": "Course",
         "guardian": "Mother",
         "legal_drinker": "False",
         "_deepnote_index_column": 18
        },
        {
         "school": "GP",
         "sex": "M",
         "age": 16,
         "address": "U",
         "famsize": "LE3",
         "Pstatus": "T",
         "Medu": 4,
         "Fedu": 3,
         "Mjob": "Health",
         "Fjob": "Other",
         "reason": "Home",
         "guardian": "Father",
         "legal_drinker": "False",
         "_deepnote_index_column": 19
        },
        {
         "school": "GP",
         "sex": "M",
         "age": 15,
         "address": "U",
         "famsize": "GT3",
         "Pstatus": "T",
         "Medu": 4,
         "Fedu": 3,
         "Mjob": "Teacher",
         "Fjob": "Other",
         "reason": "Reputation",
         "guardian": "Mother",
         "legal_drinker": "False",
         "_deepnote_index_column": 20
        },
        {
         "school": "GP",
         "sex": "M",
         "age": 15,
         "address": "U",
         "famsize": "GT3",
         "Pstatus": "T",
         "Medu": 4,
         "Fedu": 4,
         "Mjob": "Health",
         "Fjob": "Health",
         "reason": "Other",
         "guardian": "Father",
         "legal_drinker": "False",
         "_deepnote_index_column": 21
        },
        {
         "school": "GP",
         "sex": "M",
         "age": 16,
         "address": "U",
         "famsize": "LE3",
         "Pstatus": "T",
         "Medu": 4,
         "Fedu": 2,
         "Mjob": "Teacher",
         "Fjob": "Other",
         "reason": "Course",
         "guardian": "Mother",
         "legal_drinker": "False",
         "_deepnote_index_column": 22
        },
        {
         "school": "GP",
         "sex": "M",
         "age": 16,
         "address": "U",
         "famsize": "LE3",
         "Pstatus": "T",
         "Medu": 2,
         "Fedu": 2,
         "Mjob": "Other",
         "Fjob": "Other",
         "reason": "Reputation",
         "guardian": "Mother",
         "legal_drinker": "False",
         "_deepnote_index_column": 23
        },
        {
         "school": "GP",
         "sex": "F",
         "age": 15,
         "address": "R",
         "famsize": "GT3",
         "Pstatus": "T",
         "Medu": 2,
         "Fedu": 4,
         "Mjob": "Services",
         "Fjob": "Health",
         "reason": "Course",
         "guardian": "Mother",
         "legal_drinker": "False",
         "_deepnote_index_column": 24
        },
        {
         "school": "GP",
         "sex": "F",
         "age": 16,
         "address": "U",
         "famsize": "GT3",
         "Pstatus": "T",
         "Medu": 2,
         "Fedu": 2,
         "Mjob": "Services",
         "Fjob": "Services",
         "reason": "Home",
         "guardian": "Mother",
         "legal_drinker": "False",
         "_deepnote_index_column": 25
        },
        {
         "school": "GP",
         "sex": "M",
         "age": 15,
         "address": "U",
         "famsize": "GT3",
         "Pstatus": "T",
         "Medu": 2,
         "Fedu": 2,
         "Mjob": "Other",
         "Fjob": "Other",
         "reason": "Home",
         "guardian": "Mother",
         "legal_drinker": "False",
         "_deepnote_index_column": 26
        },
        {
         "school": "GP",
         "sex": "M",
         "age": 15,
         "address": "U",
         "famsize": "GT3",
         "Pstatus": "T",
         "Medu": 4,
         "Fedu": 2,
         "Mjob": "Health",
         "Fjob": "Services",
         "reason": "Other",
         "guardian": "Mother",
         "legal_drinker": "False",
         "_deepnote_index_column": 27
        },
        {
         "school": "GP",
         "sex": "M",
         "age": 16,
         "address": "U",
         "famsize": "LE3",
         "Pstatus": "A",
         "Medu": 3,
         "Fedu": 4,
         "Mjob": "Services",
         "Fjob": "Other",
         "reason": "Home",
         "guardian": "Mother",
         "legal_drinker": "False",
         "_deepnote_index_column": 28
        },
        {
         "school": "GP",
         "sex": "M",
         "age": 16,
         "address": "U",
         "famsize": "GT3",
         "Pstatus": "T",
         "Medu": 4,
         "Fedu": 4,
         "Mjob": "Teacher",
         "Fjob": "Teacher",
         "reason": "Home",
         "guardian": "Mother",
         "legal_drinker": "False",
         "_deepnote_index_column": 29
        },
        {
         "school": "GP",
         "sex": "M",
         "age": 15,
         "address": "U",
         "famsize": "GT3",
         "Pstatus": "T",
         "Medu": 4,
         "Fedu": 4,
         "Mjob": "Health",
         "Fjob": "Services",
         "reason": "Home",
         "guardian": "Mother",
         "legal_drinker": "False",
         "_deepnote_index_column": 30
        },
        {
         "school": "GP",
         "sex": "M",
         "age": 15,
         "address": "U",
         "famsize": "GT3",
         "Pstatus": "T",
         "Medu": 4,
         "Fedu": 4,
         "Mjob": "Services",
         "Fjob": "Services",
         "reason": "Reputation",
         "guardian": "Mother",
         "legal_drinker": "False",
         "_deepnote_index_column": 31
        },
        {
         "school": "GP",
         "sex": "M",
         "age": 15,
         "address": "R",
         "famsize": "GT3",
         "Pstatus": "T",
         "Medu": 4,
         "Fedu": 3,
         "Mjob": "Teacher",
         "Fjob": "At_home",
         "reason": "Course",
         "guardian": "Mother",
         "legal_drinker": "False",
         "_deepnote_index_column": 32
        },
        {
         "school": "GP",
         "sex": "M",
         "age": 15,
         "address": "U",
         "famsize": "LE3",
         "Pstatus": "T",
         "Medu": 3,
         "Fedu": 3,
         "Mjob": "Other",
         "Fjob": "Other",
         "reason": "Course",
         "guardian": "Mother",
         "legal_drinker": "False",
         "_deepnote_index_column": 33
        },
        {
         "school": "GP",
         "sex": "M",
         "age": 16,
         "address": "U",
         "famsize": "GT3",
         "Pstatus": "T",
         "Medu": 3,
         "Fedu": 2,
         "Mjob": "Other",
         "Fjob": "Other",
         "reason": "Home",
         "guardian": "Mother",
         "legal_drinker": "False",
         "_deepnote_index_column": 34
        },
        {
         "school": "GP",
         "sex": "F",
         "age": 15,
         "address": "U",
         "famsize": "GT3",
         "Pstatus": "T",
         "Medu": 2,
         "Fedu": 3,
         "Mjob": "Other",
         "Fjob": "Other",
         "reason": "Other",
         "guardian": "Father",
         "legal_drinker": "False",
         "_deepnote_index_column": 35
        },
        {
         "school": "GP",
         "sex": "M",
         "age": 15,
         "address": "U",
         "famsize": "LE3",
         "Pstatus": "T",
         "Medu": 4,
         "Fedu": 3,
         "Mjob": "Teacher",
         "Fjob": "Services",
         "reason": "Home",
         "guardian": "Mother",
         "legal_drinker": "False",
         "_deepnote_index_column": 36
        },
        {
         "school": "GP",
         "sex": "M",
         "age": 16,
         "address": "R",
         "famsize": "GT3",
         "Pstatus": "A",
         "Medu": 4,
         "Fedu": 4,
         "Mjob": "Other",
         "Fjob": "Teacher",
         "reason": "Reputation",
         "guardian": "Mother",
         "legal_drinker": "False",
         "_deepnote_index_column": 37
        }
       ],
       "rows_bottom": [
        {
         "school": "MS",
         "sex": "F",
         "age": 17,
         "address": "U",
         "famsize": "LE3",
         "Pstatus": "A",
         "Medu": 3,
         "Fedu": 2,
         "Mjob": "Services",
         "Fjob": "Other",
         "reason": "Reputation",
         "guardian": "Mother",
         "legal_drinker": "False",
         "_deepnote_index_column": 357
        },
        {
         "school": "MS",
         "sex": "M",
         "age": 18,
         "address": "U",
         "famsize": "LE3",
         "Pstatus": "T",
         "Medu": 1,
         "Fedu": 1,
         "Mjob": "Other",
         "Fjob": "Services",
         "reason": "Home",
         "guardian": "Father",
         "legal_drinker": "True",
         "_deepnote_index_column": 358
        },
        {
         "school": "MS",
         "sex": "F",
         "age": 18,
         "address": "U",
         "famsize": "LE3",
         "Pstatus": "T",
         "Medu": 1,
         "Fedu": 1,
         "Mjob": "At_home",
         "Fjob": "Services",
         "reason": "Course",
         "guardian": "Father",
         "legal_drinker": "True",
         "_deepnote_index_column": 359
        },
        {
         "school": "MS",
         "sex": "F",
         "age": 18,
         "address": "R",
         "famsize": "LE3",
         "Pstatus": "A",
         "Medu": 1,
         "Fedu": 4,
         "Mjob": "At_home",
         "Fjob": "Other",
         "reason": "Course",
         "guardian": "Mother",
         "legal_drinker": "True",
         "_deepnote_index_column": 360
        },
        {
         "school": "MS",
         "sex": "M",
         "age": 18,
         "address": "R",
         "famsize": "LE3",
         "Pstatus": "T",
         "Medu": 1,
         "Fedu": 1,
         "Mjob": "At_home",
         "Fjob": "Other",
         "reason": "Other",
         "guardian": "Mother",
         "legal_drinker": "True",
         "_deepnote_index_column": 361
        },
        {
         "school": "MS",
         "sex": "F",
         "age": 18,
         "address": "U",
         "famsize": "GT3",
         "Pstatus": "T",
         "Medu": 3,
         "Fedu": 3,
         "Mjob": "Services",
         "Fjob": "Services",
         "reason": "Other",
         "guardian": "Mother",
         "legal_drinker": "True",
         "_deepnote_index_column": 362
        },
        {
         "school": "MS",
         "sex": "F",
         "age": 17,
         "address": "U",
         "famsize": "LE3",
         "Pstatus": "T",
         "Medu": 4,
         "Fedu": 4,
         "Mjob": "At_home",
         "Fjob": "At_home",
         "reason": "Course",
         "guardian": "Mother",
         "legal_drinker": "False",
         "_deepnote_index_column": 363
        },
        {
         "school": "MS",
         "sex": "F",
         "age": 17,
         "address": "R",
         "famsize": "GT3",
         "Pstatus": "T",
         "Medu": 1,
         "Fedu": 2,
         "Mjob": "Other",
         "Fjob": "Services",
         "reason": "Course",
         "guardian": "Father",
         "legal_drinker": "False",
         "_deepnote_index_column": 364
        },
        {
         "school": "MS",
         "sex": "M",
         "age": 18,
         "address": "R",
         "famsize": "GT3",
         "Pstatus": "T",
         "Medu": 1,
         "Fedu": 3,
         "Mjob": "At_home",
         "Fjob": "Other",
         "reason": "Course",
         "guardian": "Mother",
         "legal_drinker": "True",
         "_deepnote_index_column": 365
        },
        {
         "school": "MS",
         "sex": "M",
         "age": 18,
         "address": "U",
         "famsize": "LE3",
         "Pstatus": "T",
         "Medu": 4,
         "Fedu": 4,
         "Mjob": "Teacher",
         "Fjob": "Services",
         "reason": "Other",
         "guardian": "Mother",
         "legal_drinker": "True",
         "_deepnote_index_column": 366
        },
        {
         "school": "MS",
         "sex": "F",
         "age": 17,
         "address": "R",
         "famsize": "GT3",
         "Pstatus": "T",
         "Medu": 1,
         "Fedu": 1,
         "Mjob": "Other",
         "Fjob": "Services",
         "reason": "Reputation",
         "guardian": "Mother",
         "legal_drinker": "False",
         "_deepnote_index_column": 367
        },
        {
         "school": "MS",
         "sex": "F",
         "age": 18,
         "address": "U",
         "famsize": "GT3",
         "Pstatus": "T",
         "Medu": 2,
         "Fedu": 3,
         "Mjob": "At_home",
         "Fjob": "Services",
         "reason": "Course",
         "guardian": "Father",
         "legal_drinker": "True",
         "_deepnote_index_column": 368
        },
        {
         "school": "MS",
         "sex": "F",
         "age": 18,
         "address": "R",
         "famsize": "GT3",
         "Pstatus": "T",
         "Medu": 4,
         "Fedu": 4,
         "Mjob": "Other",
         "Fjob": "Teacher",
         "reason": "Other",
         "guardian": "Father",
         "legal_drinker": "True",
         "_deepnote_index_column": 369
        },
        {
         "school": "MS",
         "sex": "F",
         "age": 19,
         "address": "U",
         "famsize": "LE3",
         "Pstatus": "T",
         "Medu": 3,
         "Fedu": 2,
         "Mjob": "Services",
         "Fjob": "Services",
         "reason": "Home",
         "guardian": "Other",
         "legal_drinker": "True",
         "_deepnote_index_column": 370
        },
        {
         "school": "MS",
         "sex": "M",
         "age": 18,
         "address": "R",
         "famsize": "LE3",
         "Pstatus": "T",
         "Medu": 1,
         "Fedu": 2,
         "Mjob": "At_home",
         "Fjob": "Services",
         "reason": "Other",
         "guardian": "Father",
         "legal_drinker": "True",
         "_deepnote_index_column": 371
        },
        {
         "school": "MS",
         "sex": "F",
         "age": 17,
         "address": "U",
         "famsize": "GT3",
         "Pstatus": "T",
         "Medu": 2,
         "Fedu": 2,
         "Mjob": "Other",
         "Fjob": "At_home",
         "reason": "Home",
         "guardian": "Mother",
         "legal_drinker": "False",
         "_deepnote_index_column": 372
        },
        {
         "school": "MS",
         "sex": "F",
         "age": 17,
         "address": "R",
         "famsize": "GT3",
         "Pstatus": "T",
         "Medu": 1,
         "Fedu": 2,
         "Mjob": "Other",
         "Fjob": "Other",
         "reason": "Course",
         "guardian": "Mother",
         "legal_drinker": "False",
         "_deepnote_index_column": 373
        },
        {
         "school": "MS",
         "sex": "F",
         "age": 18,
         "address": "R",
         "famsize": "LE3",
         "Pstatus": "T",
         "Medu": 4,
         "Fedu": 4,
         "Mjob": "Other",
         "Fjob": "Other",
         "reason": "Reputation",
         "guardian": "Mother",
         "legal_drinker": "True",
         "_deepnote_index_column": 374
        },
        {
         "school": "MS",
         "sex": "F",
         "age": 18,
         "address": "R",
         "famsize": "GT3",
         "Pstatus": "T",
         "Medu": 1,
         "Fedu": 1,
         "Mjob": "Other",
         "Fjob": "Other",
         "reason": "Home",
         "guardian": "Mother",
         "legal_drinker": "True",
         "_deepnote_index_column": 375
        },
        {
         "school": "MS",
         "sex": "F",
         "age": 20,
         "address": "U",
         "famsize": "GT3",
         "Pstatus": "T",
         "Medu": 4,
         "Fedu": 2,
         "Mjob": "Health",
         "Fjob": "Other",
         "reason": "Course",
         "guardian": "Other",
         "legal_drinker": "True",
         "_deepnote_index_column": 376
        },
        {
         "school": "MS",
         "sex": "F",
         "age": 18,
         "address": "R",
         "famsize": "LE3",
         "Pstatus": "T",
         "Medu": 4,
         "Fedu": 4,
         "Mjob": "Teacher",
         "Fjob": "Services",
         "reason": "Course",
         "guardian": "Mother",
         "legal_drinker": "True",
         "_deepnote_index_column": 377
        },
        {
         "school": "MS",
         "sex": "F",
         "age": 18,
         "address": "U",
         "famsize": "GT3",
         "Pstatus": "T",
         "Medu": 3,
         "Fedu": 3,
         "Mjob": "Other",
         "Fjob": "Other",
         "reason": "Home",
         "guardian": "Mother",
         "legal_drinker": "True",
         "_deepnote_index_column": 378
        },
        {
         "school": "MS",
         "sex": "F",
         "age": 17,
         "address": "R",
         "famsize": "GT3",
         "Pstatus": "T",
         "Medu": 3,
         "Fedu": 1,
         "Mjob": "At_home",
         "Fjob": "Other",
         "reason": "Reputation",
         "guardian": "Mother",
         "legal_drinker": "False",
         "_deepnote_index_column": 379
        },
        {
         "school": "MS",
         "sex": "M",
         "age": 18,
         "address": "U",
         "famsize": "GT3",
         "Pstatus": "T",
         "Medu": 4,
         "Fedu": 4,
         "Mjob": "Teacher",
         "Fjob": "Teacher",
         "reason": "Home",
         "guardian": "Father",
         "legal_drinker": "True",
         "_deepnote_index_column": 380
        },
        {
         "school": "MS",
         "sex": "M",
         "age": 18,
         "address": "R",
         "famsize": "GT3",
         "Pstatus": "T",
         "Medu": 2,
         "Fedu": 1,
         "Mjob": "Other",
         "Fjob": "Other",
         "reason": "Other",
         "guardian": "Mother",
         "legal_drinker": "True",
         "_deepnote_index_column": 381
        },
        {
         "school": "MS",
         "sex": "M",
         "age": 17,
         "address": "U",
         "famsize": "GT3",
         "Pstatus": "T",
         "Medu": 2,
         "Fedu": 3,
         "Mjob": "Other",
         "Fjob": "Services",
         "reason": "Home",
         "guardian": "Father",
         "legal_drinker": "False",
         "_deepnote_index_column": 382
        },
        {
         "school": "MS",
         "sex": "M",
         "age": 19,
         "address": "R",
         "famsize": "GT3",
         "Pstatus": "T",
         "Medu": 1,
         "Fedu": 1,
         "Mjob": "Other",
         "Fjob": "Services",
         "reason": "Other",
         "guardian": "Mother",
         "legal_drinker": "True",
         "_deepnote_index_column": 383
        },
        {
         "school": "MS",
         "sex": "M",
         "age": 18,
         "address": "R",
         "famsize": "GT3",
         "Pstatus": "T",
         "Medu": 4,
         "Fedu": 2,
         "Mjob": "Other",
         "Fjob": "Other",
         "reason": "Home",
         "guardian": "Father",
         "legal_drinker": "True",
         "_deepnote_index_column": 384
        },
        {
         "school": "MS",
         "sex": "F",
         "age": 18,
         "address": "R",
         "famsize": "GT3",
         "Pstatus": "T",
         "Medu": 2,
         "Fedu": 2,
         "Mjob": "At_home",
         "Fjob": "Other",
         "reason": "Other",
         "guardian": "Mother",
         "legal_drinker": "True",
         "_deepnote_index_column": 385
        },
        {
         "school": "MS",
         "sex": "F",
         "age": 18,
         "address": "R",
         "famsize": "GT3",
         "Pstatus": "T",
         "Medu": 4,
         "Fedu": 4,
         "Mjob": "Teacher",
         "Fjob": "At_home",
         "reason": "Reputation",
         "guardian": "Mother",
         "legal_drinker": "True",
         "_deepnote_index_column": 386
        },
        {
         "school": "MS",
         "sex": "F",
         "age": 19,
         "address": "R",
         "famsize": "GT3",
         "Pstatus": "T",
         "Medu": 2,
         "Fedu": 3,
         "Mjob": "Services",
         "Fjob": "Other",
         "reason": "Course",
         "guardian": "Mother",
         "legal_drinker": "True",
         "_deepnote_index_column": 387
        },
        {
         "school": "MS",
         "sex": "F",
         "age": 18,
         "address": "U",
         "famsize": "LE3",
         "Pstatus": "T",
         "Medu": 3,
         "Fedu": 1,
         "Mjob": "Teacher",
         "Fjob": "Services",
         "reason": "Course",
         "guardian": "Mother",
         "legal_drinker": "True",
         "_deepnote_index_column": 388
        },
        {
         "school": "MS",
         "sex": "F",
         "age": 18,
         "address": "U",
         "famsize": "GT3",
         "Pstatus": "T",
         "Medu": 1,
         "Fedu": 1,
         "Mjob": "Other",
         "Fjob": "Other",
         "reason": "Course",
         "guardian": "Mother",
         "legal_drinker": "True",
         "_deepnote_index_column": 389
        },
        {
         "school": "MS",
         "sex": "M",
         "age": 20,
         "address": "U",
         "famsize": "LE3",
         "Pstatus": "A",
         "Medu": 2,
         "Fedu": 2,
         "Mjob": "Services",
         "Fjob": "Services",
         "reason": "Course",
         "guardian": "Other",
         "legal_drinker": "True",
         "_deepnote_index_column": 390
        },
        {
         "school": "MS",
         "sex": "M",
         "age": 17,
         "address": "U",
         "famsize": "LE3",
         "Pstatus": "T",
         "Medu": 3,
         "Fedu": 1,
         "Mjob": "Services",
         "Fjob": "Services",
         "reason": "Course",
         "guardian": "Mother",
         "legal_drinker": "False",
         "_deepnote_index_column": 391
        },
        {
         "school": "MS",
         "sex": "M",
         "age": 21,
         "address": "R",
         "famsize": "GT3",
         "Pstatus": "T",
         "Medu": 1,
         "Fedu": 1,
         "Mjob": "Other",
         "Fjob": "Other",
         "reason": "Course",
         "guardian": "Other",
         "legal_drinker": "True",
         "_deepnote_index_column": 392
        },
        {
         "school": "MS",
         "sex": "M",
         "age": 18,
         "address": "R",
         "famsize": "LE3",
         "Pstatus": "T",
         "Medu": 3,
         "Fedu": 2,
         "Mjob": "Services",
         "Fjob": "Other",
         "reason": "Course",
         "guardian": "Mother",
         "legal_drinker": "True",
         "_deepnote_index_column": 393
        },
        {
         "school": "MS",
         "sex": "M",
         "age": 19,
         "address": "U",
         "famsize": "LE3",
         "Pstatus": "T",
         "Medu": 1,
         "Fedu": 1,
         "Mjob": "Other",
         "Fjob": "At_home",
         "reason": "Course",
         "guardian": "Father",
         "legal_drinker": "True",
         "_deepnote_index_column": 394
        }
       ]
      },
      "text/plain": "    school sex  age address famsize Pstatus  Medu  Fedu      Mjob      Fjob  \\\n0       GP   F   18       U     GT3       A     4     4   At_home   Teacher   \n1       GP   F   17       U     GT3       T     1     1   At_home     Other   \n2       GP   F   15       U     LE3       T     1     1   At_home     Other   \n3       GP   F   15       U     GT3       T     4     2    Health  Services   \n4       GP   F   16       U     GT3       T     3     3     Other     Other   \n..     ...  ..  ...     ...     ...     ...   ...   ...       ...       ...   \n390     MS   M   20       U     LE3       A     2     2  Services  Services   \n391     MS   M   17       U     LE3       T     3     1  Services  Services   \n392     MS   M   21       R     GT3       T     1     1     Other     Other   \n393     MS   M   18       R     LE3       T     3     2  Services     Other   \n394     MS   M   19       U     LE3       T     1     1     Other   At_home   \n\n     reason guardian  legal_drinker  \n0    Course   Mother           True  \n1    Course   Father          False  \n2     Other   Mother          False  \n3      Home   Mother          False  \n4      Home   Father          False  \n..      ...      ...            ...  \n390  Course    Other           True  \n391  Course   Mother          False  \n392  Course    Other           True  \n393  Course   Mother           True  \n394  Course   Father           True  \n\n[395 rows x 13 columns]",
      "text/html": "<div>\n<style scoped>\n    .dataframe tbody tr th:only-of-type {\n        vertical-align: middle;\n    }\n\n    .dataframe tbody tr th {\n        vertical-align: top;\n    }\n\n    .dataframe thead th {\n        text-align: right;\n    }\n</style>\n<table border=\"1\" class=\"dataframe\">\n  <thead>\n    <tr style=\"text-align: right;\">\n      <th></th>\n      <th>school</th>\n      <th>sex</th>\n      <th>age</th>\n      <th>address</th>\n      <th>famsize</th>\n      <th>Pstatus</th>\n      <th>Medu</th>\n      <th>Fedu</th>\n      <th>Mjob</th>\n      <th>Fjob</th>\n      <th>reason</th>\n      <th>guardian</th>\n      <th>legal_drinker</th>\n    </tr>\n  </thead>\n  <tbody>\n    <tr>\n      <th>0</th>\n      <td>GP</td>\n      <td>F</td>\n      <td>18</td>\n      <td>U</td>\n      <td>GT3</td>\n      <td>A</td>\n      <td>4</td>\n      <td>4</td>\n      <td>At_home</td>\n      <td>Teacher</td>\n      <td>Course</td>\n      <td>Mother</td>\n      <td>True</td>\n    </tr>\n    <tr>\n      <th>1</th>\n      <td>GP</td>\n      <td>F</td>\n      <td>17</td>\n      <td>U</td>\n      <td>GT3</td>\n      <td>T</td>\n      <td>1</td>\n      <td>1</td>\n      <td>At_home</td>\n      <td>Other</td>\n      <td>Course</td>\n      <td>Father</td>\n      <td>False</td>\n    </tr>\n    <tr>\n      <th>2</th>\n      <td>GP</td>\n      <td>F</td>\n      <td>15</td>\n      <td>U</td>\n      <td>LE3</td>\n      <td>T</td>\n      <td>1</td>\n      <td>1</td>\n      <td>At_home</td>\n      <td>Other</td>\n      <td>Other</td>\n      <td>Mother</td>\n      <td>False</td>\n    </tr>\n    <tr>\n      <th>3</th>\n      <td>GP</td>\n      <td>F</td>\n      <td>15</td>\n      <td>U</td>\n      <td>GT3</td>\n      <td>T</td>\n      <td>4</td>\n      <td>2</td>\n      <td>Health</td>\n      <td>Services</td>\n      <td>Home</td>\n      <td>Mother</td>\n      <td>False</td>\n    </tr>\n    <tr>\n      <th>4</th>\n      <td>GP</td>\n      <td>F</td>\n      <td>16</td>\n      <td>U</td>\n      <td>GT3</td>\n      <td>T</td>\n      <td>3</td>\n      <td>3</td>\n      <td>Other</td>\n      <td>Other</td>\n      <td>Home</td>\n      <td>Father</td>\n      <td>False</td>\n    </tr>\n    <tr>\n      <th>...</th>\n      <td>...</td>\n      <td>...</td>\n      <td>...</td>\n      <td>...</td>\n      <td>...</td>\n      <td>...</td>\n      <td>...</td>\n      <td>...</td>\n      <td>...</td>\n      <td>...</td>\n      <td>...</td>\n      <td>...</td>\n      <td>...</td>\n    </tr>\n    <tr>\n      <th>390</th>\n      <td>MS</td>\n      <td>M</td>\n      <td>20</td>\n      <td>U</td>\n      <td>LE3</td>\n      <td>A</td>\n      <td>2</td>\n      <td>2</td>\n      <td>Services</td>\n      <td>Services</td>\n      <td>Course</td>\n      <td>Other</td>\n      <td>True</td>\n    </tr>\n    <tr>\n      <th>391</th>\n      <td>MS</td>\n      <td>M</td>\n      <td>17</td>\n      <td>U</td>\n      <td>LE3</td>\n      <td>T</td>\n      <td>3</td>\n      <td>1</td>\n      <td>Services</td>\n      <td>Services</td>\n      <td>Course</td>\n      <td>Mother</td>\n      <td>False</td>\n    </tr>\n    <tr>\n      <th>392</th>\n      <td>MS</td>\n      <td>M</td>\n      <td>21</td>\n      <td>R</td>\n      <td>GT3</td>\n      <td>T</td>\n      <td>1</td>\n      <td>1</td>\n      <td>Other</td>\n      <td>Other</td>\n      <td>Course</td>\n      <td>Other</td>\n      <td>True</td>\n    </tr>\n    <tr>\n      <th>393</th>\n      <td>MS</td>\n      <td>M</td>\n      <td>18</td>\n      <td>R</td>\n      <td>LE3</td>\n      <td>T</td>\n      <td>3</td>\n      <td>2</td>\n      <td>Services</td>\n      <td>Other</td>\n      <td>Course</td>\n      <td>Mother</td>\n      <td>True</td>\n    </tr>\n    <tr>\n      <th>394</th>\n      <td>MS</td>\n      <td>M</td>\n      <td>19</td>\n      <td>U</td>\n      <td>LE3</td>\n      <td>T</td>\n      <td>1</td>\n      <td>1</td>\n      <td>Other</td>\n      <td>At_home</td>\n      <td>Course</td>\n      <td>Father</td>\n      <td>True</td>\n    </tr>\n  </tbody>\n</table>\n<p>395 rows × 13 columns</p>\n</div>"
     },
     "metadata": {}
    }
   ]
  },
  {
   "cell_type": "markdown",
   "source": "<a style='text-decoration:none;line-height:16px;display:flex;color:#5B5B62;padding:10px;justify-content:end;' href='https://deepnote.com?utm_source=created-in-deepnote-cell&projectId=fe744348-fecc-4b7a-803c-44dba24ecb38' target=\"_blank\">\n<img alt='Created in deepnote.com' style='display:inline;max-height:16px;margin:0px;margin-right:7.5px;' src='data:image/svg+xml;base64,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' > </img>\nCreated in <span style='font-weight:600;margin-left:4px;'>Deepnote</span></a>",
   "metadata": {
    "tags": [],
    "created_in_deepnote_cell": true,
    "deepnote_cell_type": "markdown"
   }
  }
 ],
 "nbformat": 4,
 "nbformat_minor": 0,
 "metadata": {
  "anaconda-cloud": {},
  "kernelspec": {
   "display_name": "Python [default]",
   "language": "python",
   "name": "python2"
  },
  "language_info": {
   "codemirror_mode": {
    "name": "ipython",
    "version": 2
   },
   "file_extension": ".py",
   "mimetype": "text/x-python",
   "name": "python",
   "nbconvert_exporter": "python",
   "pygments_lexer": "ipython2",
   "version": "2.7.12"
  },
  "colab": {
   "name": "Exercises.ipynb",
   "provenance": [],
   "collapsed_sections": []
  },
  "deepnote_notebook_id": "976cd80f-c4ab-4c66-8430-3eca74f6d599",
  "deepnote": {},
  "deepnote_execution_queue": []
 }
}
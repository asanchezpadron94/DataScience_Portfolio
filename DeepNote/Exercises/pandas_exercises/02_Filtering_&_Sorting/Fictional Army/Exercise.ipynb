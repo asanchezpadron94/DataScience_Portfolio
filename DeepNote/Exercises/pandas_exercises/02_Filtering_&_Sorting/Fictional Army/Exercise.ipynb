{
 "cells": [
  {
   "cell_type": "markdown",
   "source": "# Fictional Army - Filtering and Sorting",
   "metadata": {
    "id": "Ih9WTMzW67P9",
    "cell_id": "00000-5d5205b7-a849-44b2-be40-2637e646ce61",
    "deepnote_cell_type": "markdown"
   }
  },
  {
   "cell_type": "markdown",
   "source": "### Introduction:\n\nThis exercise was inspired by this [page](http://chrisalbon.com/python/)\n\nSpecial thanks to: https://github.com/chrisalbon for sharing the dataset and materials.\n\n### Step 1. Import the necessary libraries",
   "metadata": {
    "id": "Yk5zwQsD67P_",
    "cell_id": "00001-42d4c1ab-7a20-49ac-ab7c-567136673c46",
    "deepnote_cell_type": "markdown"
   }
  },
  {
   "cell_type": "code",
   "metadata": {
    "id": "-JOpXdDa67QA",
    "executionInfo": {
     "status": "ok",
     "timestamp": 1623295198515,
     "user_tz": 240,
     "elapsed": 134,
     "user": {
      "displayName": "Andrés Sánchez",
      "photoUrl": "https://lh3.googleusercontent.com/a-/AOh14Gg69bZMv30ckb-T1MJy0nSxWIHUaP0p2uP6MYBuvQ=s64",
      "userId": "07985253921366566280"
     }
    },
    "cell_id": "00002-da7e25ec-8257-4202-a41e-92f7470c7db2",
    "deepnote_to_be_reexecuted": false,
    "source_hash": "9b82ee11",
    "execution_start": 1630097913876,
    "execution_millis": 4,
    "deepnote_cell_type": "code"
   },
   "source": "import pandas as pd",
   "outputs": [],
   "execution_count": null
  },
  {
   "cell_type": "markdown",
   "source": "### Step 2. This is the data given as a dictionary",
   "metadata": {
    "id": "mrVtMSWv67QB",
    "cell_id": "00003-224937d6-9f4f-44c3-8705-4227b149a686",
    "deepnote_cell_type": "markdown"
   }
  },
  {
   "cell_type": "code",
   "metadata": {
    "collapsed": true,
    "id": "XB1HZis_67QB",
    "executionInfo": {
     "status": "ok",
     "timestamp": 1623295198698,
     "user_tz": 240,
     "elapsed": 2,
     "user": {
      "displayName": "Andrés Sánchez",
      "photoUrl": "https://lh3.googleusercontent.com/a-/AOh14Gg69bZMv30ckb-T1MJy0nSxWIHUaP0p2uP6MYBuvQ=s64",
      "userId": "07985253921366566280"
     }
    },
    "cell_id": "00004-cfbb4836-d8c0-4d66-a3a8-b99f5bb39d9d",
    "deepnote_to_be_reexecuted": false,
    "source_hash": "a44706ba",
    "execution_start": 1630097913882,
    "execution_millis": 7,
    "deepnote_cell_type": "code"
   },
   "source": "# Create an example dataframe about a fictional army\nraw_data = {'regiment': ['Nighthawks', 'Nighthawks', 'Nighthawks', 'Nighthawks', 'Dragoons', 'Dragoons', 'Dragoons', 'Dragoons', 'Scouts', 'Scouts', 'Scouts', 'Scouts'],\n            'company': ['1st', '1st', '2nd', '2nd', '1st', '1st', '2nd', '2nd','1st', '1st', '2nd', '2nd'],\n            'deaths': [523, 52, 25, 616, 43, 234, 523, 62, 62, 73, 37, 35],\n            'battles': [5, 42, 2, 2, 4, 7, 8, 3, 4, 7, 8, 9],\n            'size': [1045, 957, 1099, 1400, 1592, 1006, 987, 849, 973, 1005, 1099, 1523],\n            'veterans': [1, 5, 62, 26, 73, 37, 949, 48, 48, 435, 63, 345],\n            'readiness': [1, 2, 3, 3, 2, 1, 2, 3, 2, 1, 2, 3],\n            'armored': [1, 0, 1, 1, 0, 1, 0, 1, 0, 0, 1, 1],\n            'deserters': [4, 24, 31, 2, 3, 4, 24, 31, 2, 3, 2, 3],\n            'origin': ['Arizona', 'California', 'Texas', 'Florida', 'Maine', 'Iowa', 'Alaska', 'Washington', 'Oregon', 'Wyoming', 'Louisana', 'Georgia']}",
   "outputs": [],
   "execution_count": null
  },
  {
   "cell_type": "markdown",
   "source": "### Step 3. Create a dataframe and assign it to a variable called army. \n\n#### Don't forget to include the columns names in the order presented in the dictionary ('regiment', 'company', 'deaths'...) so that the column index order is consistent with the solutions. If omitted, pandas will order the columns alphabetically.",
   "metadata": {
    "id": "AfbnWbGh67QC",
    "cell_id": "00005-6f10bc17-ba11-438e-8224-22d3e4042a54",
    "deepnote_cell_type": "markdown"
   }
  },
  {
   "cell_type": "code",
   "metadata": {
    "id": "VfSUfadt67QC",
    "executionInfo": {
     "status": "ok",
     "timestamp": 1623295198876,
     "user_tz": 240,
     "elapsed": 17,
     "user": {
      "displayName": "Andrés Sánchez",
      "photoUrl": "https://lh3.googleusercontent.com/a-/AOh14Gg69bZMv30ckb-T1MJy0nSxWIHUaP0p2uP6MYBuvQ=s64",
      "userId": "07985253921366566280"
     }
    },
    "cell_id": "00006-4c0cf578-4957-4f5b-a009-24d42e4e8288",
    "deepnote_to_be_reexecuted": false,
    "source_hash": "6781d6f8",
    "execution_start": 1630097913891,
    "execution_millis": 4,
    "deepnote_cell_type": "code"
   },
   "source": "army = pd.DataFrame(raw_data)",
   "outputs": [],
   "execution_count": null
  },
  {
   "cell_type": "markdown",
   "source": "### Step 4. Set the 'origin' colum as the index of the dataframe",
   "metadata": {
    "id": "ez-WgIRE67QC",
    "cell_id": "00007-71888f3d-d6f8-41f0-9f9c-11a5ae6151bc",
    "deepnote_cell_type": "markdown"
   }
  },
  {
   "cell_type": "code",
   "metadata": {
    "id": "923MLQ4d67QC",
    "executionInfo": {
     "status": "ok",
     "timestamp": 1623295198877,
     "user_tz": 240,
     "elapsed": 17,
     "user": {
      "displayName": "Andrés Sánchez",
      "photoUrl": "https://lh3.googleusercontent.com/a-/AOh14Gg69bZMv30ckb-T1MJy0nSxWIHUaP0p2uP6MYBuvQ=s64",
      "userId": "07985253921366566280"
     }
    },
    "cell_id": "00008-2294be6f-93ce-4e5e-8285-fc7f1155ed5c",
    "deepnote_to_be_reexecuted": false,
    "source_hash": "af5a208",
    "execution_start": 1630097913899,
    "execution_millis": 2,
    "deepnote_cell_type": "code"
   },
   "source": "army = army.set_index('origin')",
   "outputs": [],
   "execution_count": null
  },
  {
   "cell_type": "markdown",
   "source": "### Step 5. Print only the column veterans",
   "metadata": {
    "id": "AtzBo3am67QD",
    "cell_id": "00009-ba8cff15-dc45-4976-a274-f3aac1e557d3",
    "deepnote_cell_type": "markdown"
   }
  },
  {
   "cell_type": "code",
   "metadata": {
    "colab": {
     "base_uri": "https://localhost:8080/"
    },
    "id": "OMCL3rQa67QD",
    "executionInfo": {
     "status": "ok",
     "timestamp": 1623295198877,
     "user_tz": 240,
     "elapsed": 17,
     "user": {
      "displayName": "Andrés Sánchez",
      "photoUrl": "https://lh3.googleusercontent.com/a-/AOh14Gg69bZMv30ckb-T1MJy0nSxWIHUaP0p2uP6MYBuvQ=s64",
      "userId": "07985253921366566280"
     }
    },
    "outputId": "d4cc034b-bc4e-4694-d7c4-0949e0542097",
    "cell_id": "00010-5bd9a1af-d4f3-47dd-9ad1-aff8c66dbfbf",
    "deepnote_to_be_reexecuted": false,
    "source_hash": "763c2701",
    "execution_start": 1630097913909,
    "execution_millis": 8,
    "deepnote_cell_type": "code"
   },
   "source": "army['veterans']",
   "outputs": [
    {
     "output_type": "execute_result",
     "execution_count": 5,
     "data": {
      "text/plain": "origin\nArizona         1\nCalifornia      5\nTexas          62\nFlorida        26\nMaine          73\nIowa           37\nAlaska        949\nWashington     48\nOregon         48\nWyoming       435\nLouisana       63\nGeorgia       345\nName: veterans, dtype: int64"
     },
     "metadata": {}
    }
   ],
   "execution_count": null
  },
  {
   "cell_type": "markdown",
   "source": "### Step 6. Print the columns 'veterans' and 'deaths'",
   "metadata": {
    "id": "AwHNAApn67QD",
    "cell_id": "00011-8f6a4c77-a511-4672-8cd2-c8d75754ebe4",
    "deepnote_cell_type": "markdown"
   }
  },
  {
   "cell_type": "code",
   "metadata": {
    "colab": {
     "base_uri": "https://localhost:8080/",
     "height": 432
    },
    "id": "8CmNR6xD67QD",
    "executionInfo": {
     "status": "ok",
     "timestamp": 1623295198878,
     "user_tz": 240,
     "elapsed": 16,
     "user": {
      "displayName": "Andrés Sánchez",
      "photoUrl": "https://lh3.googleusercontent.com/a-/AOh14Gg69bZMv30ckb-T1MJy0nSxWIHUaP0p2uP6MYBuvQ=s64",
      "userId": "07985253921366566280"
     }
    },
    "outputId": "8ff86c6e-a53d-47c0-84d0-048f504c4989",
    "cell_id": "00012-47aada53-5c11-4bd2-88d4-68c5b88b07aa",
    "deepnote_to_be_reexecuted": false,
    "source_hash": "97ddaaf1",
    "execution_start": 1630097913924,
    "execution_millis": 51,
    "deepnote_cell_type": "code"
   },
   "source": "army[['veterans','deaths']]",
   "outputs": [
    {
     "output_type": "execute_result",
     "execution_count": 6,
     "data": {
      "application/vnd.deepnote.dataframe.v2+json": {
       "row_count": 12,
       "column_count": 2,
       "columns": [
        {
         "name": "veterans",
         "dtype": "int64",
         "stats": {
          "unique_count": 11,
          "nan_count": 0,
          "min": "1",
          "max": "949",
          "histogram": [
           {
            "bin_start": 1,
            "bin_end": 95.8,
            "count": 9
           },
           {
            "bin_start": 95.8,
            "bin_end": 190.6,
            "count": 0
           },
           {
            "bin_start": 190.6,
            "bin_end": 285.4,
            "count": 0
           },
           {
            "bin_start": 285.4,
            "bin_end": 380.2,
            "count": 1
           },
           {
            "bin_start": 380.2,
            "bin_end": 475,
            "count": 1
           },
           {
            "bin_start": 475,
            "bin_end": 569.8,
            "count": 0
           },
           {
            "bin_start": 569.8,
            "bin_end": 664.6,
            "count": 0
           },
           {
            "bin_start": 664.6,
            "bin_end": 759.4,
            "count": 0
           },
           {
            "bin_start": 759.4,
            "bin_end": 854.1999999999999,
            "count": 0
           },
           {
            "bin_start": 854.1999999999999,
            "bin_end": 949,
            "count": 1
           }
          ]
         }
        },
        {
         "name": "deaths",
         "dtype": "int64",
         "stats": {
          "unique_count": 10,
          "nan_count": 0,
          "min": "25",
          "max": "616",
          "histogram": [
           {
            "bin_start": 25,
            "bin_end": 84.1,
            "count": 8
           },
           {
            "bin_start": 84.1,
            "bin_end": 143.2,
            "count": 0
           },
           {
            "bin_start": 143.2,
            "bin_end": 202.3,
            "count": 0
           },
           {
            "bin_start": 202.3,
            "bin_end": 261.4,
            "count": 1
           },
           {
            "bin_start": 261.4,
            "bin_end": 320.5,
            "count": 0
           },
           {
            "bin_start": 320.5,
            "bin_end": 379.6,
            "count": 0
           },
           {
            "bin_start": 379.6,
            "bin_end": 438.7,
            "count": 0
           },
           {
            "bin_start": 438.7,
            "bin_end": 497.8,
            "count": 0
           },
           {
            "bin_start": 497.8,
            "bin_end": 556.9,
            "count": 2
           },
           {
            "bin_start": 556.9,
            "bin_end": 616,
            "count": 1
           }
          ]
         }
        },
        {
         "name": "_deepnote_index_column",
         "dtype": "object"
        }
       ],
       "rows_top": [
        {
         "veterans": 1,
         "deaths": 523,
         "_deepnote_index_column": "Arizona"
        },
        {
         "veterans": 5,
         "deaths": 52,
         "_deepnote_index_column": "California"
        },
        {
         "veterans": 62,
         "deaths": 25,
         "_deepnote_index_column": "Texas"
        },
        {
         "veterans": 26,
         "deaths": 616,
         "_deepnote_index_column": "Florida"
        },
        {
         "veterans": 73,
         "deaths": 43,
         "_deepnote_index_column": "Maine"
        },
        {
         "veterans": 37,
         "deaths": 234,
         "_deepnote_index_column": "Iowa"
        },
        {
         "veterans": 949,
         "deaths": 523,
         "_deepnote_index_column": "Alaska"
        },
        {
         "veterans": 48,
         "deaths": 62,
         "_deepnote_index_column": "Washington"
        },
        {
         "veterans": 48,
         "deaths": 62,
         "_deepnote_index_column": "Oregon"
        },
        {
         "veterans": 435,
         "deaths": 73,
         "_deepnote_index_column": "Wyoming"
        },
        {
         "veterans": 63,
         "deaths": 37,
         "_deepnote_index_column": "Louisana"
        },
        {
         "veterans": 345,
         "deaths": 35,
         "_deepnote_index_column": "Georgia"
        }
       ],
       "rows_bottom": null
      },
      "text/plain": "            veterans  deaths\norigin                      \nArizona            1     523\nCalifornia         5      52\nTexas             62      25\nFlorida           26     616\nMaine             73      43\nIowa              37     234\nAlaska           949     523\nWashington        48      62\nOregon            48      62\nWyoming          435      73\nLouisana          63      37\nGeorgia          345      35",
      "text/html": "<div>\n<style scoped>\n    .dataframe tbody tr th:only-of-type {\n        vertical-align: middle;\n    }\n\n    .dataframe tbody tr th {\n        vertical-align: top;\n    }\n\n    .dataframe thead th {\n        text-align: right;\n    }\n</style>\n<table border=\"1\" class=\"dataframe\">\n  <thead>\n    <tr style=\"text-align: right;\">\n      <th></th>\n      <th>veterans</th>\n      <th>deaths</th>\n    </tr>\n    <tr>\n      <th>origin</th>\n      <th></th>\n      <th></th>\n    </tr>\n  </thead>\n  <tbody>\n    <tr>\n      <th>Arizona</th>\n      <td>1</td>\n      <td>523</td>\n    </tr>\n    <tr>\n      <th>California</th>\n      <td>5</td>\n      <td>52</td>\n    </tr>\n    <tr>\n      <th>Texas</th>\n      <td>62</td>\n      <td>25</td>\n    </tr>\n    <tr>\n      <th>Florida</th>\n      <td>26</td>\n      <td>616</td>\n    </tr>\n    <tr>\n      <th>Maine</th>\n      <td>73</td>\n      <td>43</td>\n    </tr>\n    <tr>\n      <th>Iowa</th>\n      <td>37</td>\n      <td>234</td>\n    </tr>\n    <tr>\n      <th>Alaska</th>\n      <td>949</td>\n      <td>523</td>\n    </tr>\n    <tr>\n      <th>Washington</th>\n      <td>48</td>\n      <td>62</td>\n    </tr>\n    <tr>\n      <th>Oregon</th>\n      <td>48</td>\n      <td>62</td>\n    </tr>\n    <tr>\n      <th>Wyoming</th>\n      <td>435</td>\n      <td>73</td>\n    </tr>\n    <tr>\n      <th>Louisana</th>\n      <td>63</td>\n      <td>37</td>\n    </tr>\n    <tr>\n      <th>Georgia</th>\n      <td>345</td>\n      <td>35</td>\n    </tr>\n  </tbody>\n</table>\n</div>"
     },
     "metadata": {}
    }
   ],
   "execution_count": null
  },
  {
   "cell_type": "markdown",
   "source": "### Step 7. Print the name of all the columns.",
   "metadata": {
    "id": "cvc5MdKA67QD",
    "cell_id": "00013-5d91b2bc-301e-4879-974c-1c826fa8732f",
    "deepnote_cell_type": "markdown"
   }
  },
  {
   "cell_type": "code",
   "metadata": {
    "colab": {
     "base_uri": "https://localhost:8080/"
    },
    "id": "5V0s0aGl67QE",
    "executionInfo": {
     "status": "ok",
     "timestamp": 1623295198878,
     "user_tz": 240,
     "elapsed": 14,
     "user": {
      "displayName": "Andrés Sánchez",
      "photoUrl": "https://lh3.googleusercontent.com/a-/AOh14Gg69bZMv30ckb-T1MJy0nSxWIHUaP0p2uP6MYBuvQ=s64",
      "userId": "07985253921366566280"
     }
    },
    "outputId": "45446c6c-f122-4d87-eaa4-89dab333fd4c",
    "cell_id": "00014-741f9c5e-5d01-41aa-89d8-d4627062f371",
    "deepnote_to_be_reexecuted": false,
    "source_hash": "452a6f94",
    "execution_start": 1630097913964,
    "execution_millis": 11,
    "deepnote_cell_type": "code"
   },
   "source": "list(army.columns)",
   "outputs": [
    {
     "output_type": "execute_result",
     "execution_count": 7,
     "data": {
      "text/plain": "['regiment',\n 'company',\n 'deaths',\n 'battles',\n 'size',\n 'veterans',\n 'readiness',\n 'armored',\n 'deserters']"
     },
     "metadata": {}
    }
   ],
   "execution_count": null
  },
  {
   "cell_type": "markdown",
   "source": "### Step 8. Select the 'deaths', 'size' and 'deserters' columns from Maine and Alaska",
   "metadata": {
    "id": "t7Id0hiz67QE",
    "cell_id": "00015-facb0bb3-15d5-4821-a715-5437cd36af83",
    "deepnote_cell_type": "markdown"
   }
  },
  {
   "cell_type": "code",
   "metadata": {
    "id": "gBQCKeIG3cqI",
    "executionInfo": {
     "status": "ok",
     "timestamp": 1623295198879,
     "user_tz": 240,
     "elapsed": 12,
     "user": {
      "displayName": "Andrés Sánchez",
      "photoUrl": "https://lh3.googleusercontent.com/a-/AOh14Gg69bZMv30ckb-T1MJy0nSxWIHUaP0p2uP6MYBuvQ=s64",
      "userId": "07985253921366566280"
     }
    },
    "cell_id": "00016-a33721ef-7e37-4c61-8ac2-d2083f671bf6",
    "deepnote_to_be_reexecuted": false,
    "source_hash": "76e2a4ef",
    "execution_start": 1630097913964,
    "execution_millis": 1,
    "deepnote_cell_type": "code"
   },
   "source": "army = army.reset_index()",
   "outputs": [],
   "execution_count": null
  },
  {
   "cell_type": "code",
   "metadata": {
    "colab": {
     "base_uri": "https://localhost:8080/",
     "height": 106
    },
    "id": "_SVnuNCt67QE",
    "executionInfo": {
     "status": "ok",
     "timestamp": 1623295198879,
     "user_tz": 240,
     "elapsed": 12,
     "user": {
      "displayName": "Andrés Sánchez",
      "photoUrl": "https://lh3.googleusercontent.com/a-/AOh14Gg69bZMv30ckb-T1MJy0nSxWIHUaP0p2uP6MYBuvQ=s64",
      "userId": "07985253921366566280"
     }
    },
    "outputId": "fc36f043-e80b-49bd-9f92-8f73d897e7a7",
    "cell_id": "00017-dcedbcd4-e8d1-4016-873c-6aed2a3b35ac",
    "deepnote_to_be_reexecuted": false,
    "source_hash": "afc639bf",
    "execution_start": 1630097913965,
    "execution_millis": 10,
    "deepnote_cell_type": "code"
   },
   "source": "army[['origin', 'deaths', 'size', 'deserters']].loc[(army['origin'] == 'Alaska') | (army['origin'] == 'Maine')]",
   "outputs": [
    {
     "output_type": "execute_result",
     "execution_count": 9,
     "data": {
      "application/vnd.deepnote.dataframe.v2+json": {
       "row_count": 2,
       "column_count": 4,
       "columns": [
        {
         "name": "origin",
         "dtype": "object",
         "stats": {
          "unique_count": 2,
          "nan_count": 0,
          "categories": [
           {
            "name": "Maine",
            "count": 1
           },
           {
            "name": "Alaska",
            "count": 1
           }
          ]
         }
        },
        {
         "name": "deaths",
         "dtype": "int64",
         "stats": {
          "unique_count": 2,
          "nan_count": 0,
          "min": "43",
          "max": "523",
          "histogram": [
           {
            "bin_start": 43,
            "bin_end": 91,
            "count": 1
           },
           {
            "bin_start": 91,
            "bin_end": 139,
            "count": 0
           },
           {
            "bin_start": 139,
            "bin_end": 187,
            "count": 0
           },
           {
            "bin_start": 187,
            "bin_end": 235,
            "count": 0
           },
           {
            "bin_start": 235,
            "bin_end": 283,
            "count": 0
           },
           {
            "bin_start": 283,
            "bin_end": 331,
            "count": 0
           },
           {
            "bin_start": 331,
            "bin_end": 379,
            "count": 0
           },
           {
            "bin_start": 379,
            "bin_end": 427,
            "count": 0
           },
           {
            "bin_start": 427,
            "bin_end": 475,
            "count": 0
           },
           {
            "bin_start": 475,
            "bin_end": 523,
            "count": 1
           }
          ]
         }
        },
        {
         "name": "size",
         "dtype": "int64",
         "stats": {
          "unique_count": 2,
          "nan_count": 0,
          "min": "987",
          "max": "1592",
          "histogram": [
           {
            "bin_start": 987,
            "bin_end": 1047.5,
            "count": 1
           },
           {
            "bin_start": 1047.5,
            "bin_end": 1108,
            "count": 0
           },
           {
            "bin_start": 1108,
            "bin_end": 1168.5,
            "count": 0
           },
           {
            "bin_start": 1168.5,
            "bin_end": 1229,
            "count": 0
           },
           {
            "bin_start": 1229,
            "bin_end": 1289.5,
            "count": 0
           },
           {
            "bin_start": 1289.5,
            "bin_end": 1350,
            "count": 0
           },
           {
            "bin_start": 1350,
            "bin_end": 1410.5,
            "count": 0
           },
           {
            "bin_start": 1410.5,
            "bin_end": 1471,
            "count": 0
           },
           {
            "bin_start": 1471,
            "bin_end": 1531.5,
            "count": 0
           },
           {
            "bin_start": 1531.5,
            "bin_end": 1592,
            "count": 1
           }
          ]
         }
        },
        {
         "name": "deserters",
         "dtype": "int64",
         "stats": {
          "unique_count": 2,
          "nan_count": 0,
          "min": "3",
          "max": "24",
          "histogram": [
           {
            "bin_start": 3,
            "bin_end": 5.1,
            "count": 1
           },
           {
            "bin_start": 5.1,
            "bin_end": 7.2,
            "count": 0
           },
           {
            "bin_start": 7.2,
            "bin_end": 9.3,
            "count": 0
           },
           {
            "bin_start": 9.3,
            "bin_end": 11.4,
            "count": 0
           },
           {
            "bin_start": 11.4,
            "bin_end": 13.5,
            "count": 0
           },
           {
            "bin_start": 13.5,
            "bin_end": 15.600000000000001,
            "count": 0
           },
           {
            "bin_start": 15.600000000000001,
            "bin_end": 17.700000000000003,
            "count": 0
           },
           {
            "bin_start": 17.700000000000003,
            "bin_end": 19.8,
            "count": 0
           },
           {
            "bin_start": 19.8,
            "bin_end": 21.900000000000002,
            "count": 0
           },
           {
            "bin_start": 21.900000000000002,
            "bin_end": 24,
            "count": 1
           }
          ]
         }
        },
        {
         "name": "_deepnote_index_column",
         "dtype": "int64"
        }
       ],
       "rows_top": [
        {
         "origin": "Maine",
         "deaths": 43,
         "size": 1592,
         "deserters": 3,
         "_deepnote_index_column": 4
        },
        {
         "origin": "Alaska",
         "deaths": 523,
         "size": 987,
         "deserters": 24,
         "_deepnote_index_column": 6
        }
       ],
       "rows_bottom": null
      },
      "text/plain": "   origin  deaths  size  deserters\n4   Maine      43  1592          3\n6  Alaska     523   987         24",
      "text/html": "<div>\n<style scoped>\n    .dataframe tbody tr th:only-of-type {\n        vertical-align: middle;\n    }\n\n    .dataframe tbody tr th {\n        vertical-align: top;\n    }\n\n    .dataframe thead th {\n        text-align: right;\n    }\n</style>\n<table border=\"1\" class=\"dataframe\">\n  <thead>\n    <tr style=\"text-align: right;\">\n      <th></th>\n      <th>origin</th>\n      <th>deaths</th>\n      <th>size</th>\n      <th>deserters</th>\n    </tr>\n  </thead>\n  <tbody>\n    <tr>\n      <th>4</th>\n      <td>Maine</td>\n      <td>43</td>\n      <td>1592</td>\n      <td>3</td>\n    </tr>\n    <tr>\n      <th>6</th>\n      <td>Alaska</td>\n      <td>523</td>\n      <td>987</td>\n      <td>24</td>\n    </tr>\n  </tbody>\n</table>\n</div>"
     },
     "metadata": {}
    }
   ],
   "execution_count": null
  },
  {
   "cell_type": "markdown",
   "source": "### Step 9. Select the rows 3 to 7 and the columns 3 to 6",
   "metadata": {
    "id": "M110uDVq67QE",
    "cell_id": "00018-ab5678d2-af15-49c7-ab51-7b779c7f7f2c",
    "deepnote_cell_type": "markdown"
   }
  },
  {
   "cell_type": "code",
   "metadata": {
    "id": "DQUYcUhQ5PHi",
    "executionInfo": {
     "status": "ok",
     "timestamp": 1623295198880,
     "user_tz": 240,
     "elapsed": 12,
     "user": {
      "displayName": "Andrés Sánchez",
      "photoUrl": "https://lh3.googleusercontent.com/a-/AOh14Gg69bZMv30ckb-T1MJy0nSxWIHUaP0p2uP6MYBuvQ=s64",
      "userId": "07985253921366566280"
     }
    },
    "cell_id": "00019-940858cc-205a-49ff-9931-ca8a5bece233",
    "deepnote_to_be_reexecuted": false,
    "source_hash": "af5a208",
    "execution_start": 1630097913969,
    "execution_millis": 1,
    "deepnote_cell_type": "code"
   },
   "source": "army = army.set_index('origin')",
   "outputs": [],
   "execution_count": null
  },
  {
   "cell_type": "code",
   "metadata": {
    "colab": {
     "base_uri": "https://localhost:8080/",
     "height": 195
    },
    "id": "IswYYEvf67QE",
    "executionInfo": {
     "status": "ok",
     "timestamp": 1623295198880,
     "user_tz": 240,
     "elapsed": 11,
     "user": {
      "displayName": "Andrés Sánchez",
      "photoUrl": "https://lh3.googleusercontent.com/a-/AOh14Gg69bZMv30ckb-T1MJy0nSxWIHUaP0p2uP6MYBuvQ=s64",
      "userId": "07985253921366566280"
     }
    },
    "outputId": "a2fb54e5-2593-4bdf-99cb-ae9d6e21877c",
    "cell_id": "00020-f151a24f-1cf1-4624-971a-b96c99fb8278",
    "deepnote_to_be_reexecuted": false,
    "source_hash": "7ad1c9e3",
    "execution_start": 1630097914021,
    "execution_millis": 15,
    "deepnote_cell_type": "code"
   },
   "source": "army.iloc[2:6,2:5]",
   "outputs": [
    {
     "output_type": "execute_result",
     "execution_count": 11,
     "data": {
      "application/vnd.deepnote.dataframe.v2+json": {
       "row_count": 4,
       "column_count": 3,
       "columns": [
        {
         "name": "deaths",
         "dtype": "int64",
         "stats": {
          "unique_count": 4,
          "nan_count": 0,
          "min": "25",
          "max": "616",
          "histogram": [
           {
            "bin_start": 25,
            "bin_end": 84.1,
            "count": 2
           },
           {
            "bin_start": 84.1,
            "bin_end": 143.2,
            "count": 0
           },
           {
            "bin_start": 143.2,
            "bin_end": 202.3,
            "count": 0
           },
           {
            "bin_start": 202.3,
            "bin_end": 261.4,
            "count": 1
           },
           {
            "bin_start": 261.4,
            "bin_end": 320.5,
            "count": 0
           },
           {
            "bin_start": 320.5,
            "bin_end": 379.6,
            "count": 0
           },
           {
            "bin_start": 379.6,
            "bin_end": 438.7,
            "count": 0
           },
           {
            "bin_start": 438.7,
            "bin_end": 497.8,
            "count": 0
           },
           {
            "bin_start": 497.8,
            "bin_end": 556.9,
            "count": 0
           },
           {
            "bin_start": 556.9,
            "bin_end": 616,
            "count": 1
           }
          ]
         }
        },
        {
         "name": "battles",
         "dtype": "int64",
         "stats": {
          "unique_count": 3,
          "nan_count": 0,
          "min": "2",
          "max": "7",
          "histogram": [
           {
            "bin_start": 2,
            "bin_end": 2.5,
            "count": 2
           },
           {
            "bin_start": 2.5,
            "bin_end": 3,
            "count": 0
           },
           {
            "bin_start": 3,
            "bin_end": 3.5,
            "count": 0
           },
           {
            "bin_start": 3.5,
            "bin_end": 4,
            "count": 0
           },
           {
            "bin_start": 4,
            "bin_end": 4.5,
            "count": 1
           },
           {
            "bin_start": 4.5,
            "bin_end": 5,
            "count": 0
           },
           {
            "bin_start": 5,
            "bin_end": 5.5,
            "count": 0
           },
           {
            "bin_start": 5.5,
            "bin_end": 6,
            "count": 0
           },
           {
            "bin_start": 6,
            "bin_end": 6.5,
            "count": 0
           },
           {
            "bin_start": 6.5,
            "bin_end": 7,
            "count": 1
           }
          ]
         }
        },
        {
         "name": "size",
         "dtype": "int64",
         "stats": {
          "unique_count": 4,
          "nan_count": 0,
          "min": "1006",
          "max": "1592",
          "histogram": [
           {
            "bin_start": 1006,
            "bin_end": 1064.6,
            "count": 1
           },
           {
            "bin_start": 1064.6,
            "bin_end": 1123.2,
            "count": 1
           },
           {
            "bin_start": 1123.2,
            "bin_end": 1181.8,
            "count": 0
           },
           {
            "bin_start": 1181.8,
            "bin_end": 1240.4,
            "count": 0
           },
           {
            "bin_start": 1240.4,
            "bin_end": 1299,
            "count": 0
           },
           {
            "bin_start": 1299,
            "bin_end": 1357.6,
            "count": 0
           },
           {
            "bin_start": 1357.6,
            "bin_end": 1416.2,
            "count": 1
           },
           {
            "bin_start": 1416.2,
            "bin_end": 1474.8,
            "count": 0
           },
           {
            "bin_start": 1474.8,
            "bin_end": 1533.4,
            "count": 0
           },
           {
            "bin_start": 1533.4,
            "bin_end": 1592,
            "count": 1
           }
          ]
         }
        },
        {
         "name": "_deepnote_index_column",
         "dtype": "object"
        }
       ],
       "rows_top": [
        {
         "deaths": 25,
         "battles": 2,
         "size": 1099,
         "_deepnote_index_column": "Texas"
        },
        {
         "deaths": 616,
         "battles": 2,
         "size": 1400,
         "_deepnote_index_column": "Florida"
        },
        {
         "deaths": 43,
         "battles": 4,
         "size": 1592,
         "_deepnote_index_column": "Maine"
        },
        {
         "deaths": 234,
         "battles": 7,
         "size": 1006,
         "_deepnote_index_column": "Iowa"
        }
       ],
       "rows_bottom": null
      },
      "text/plain": "         deaths  battles  size\norigin                        \nTexas        25        2  1099\nFlorida     616        2  1400\nMaine        43        4  1592\nIowa        234        7  1006",
      "text/html": "<div>\n<style scoped>\n    .dataframe tbody tr th:only-of-type {\n        vertical-align: middle;\n    }\n\n    .dataframe tbody tr th {\n        vertical-align: top;\n    }\n\n    .dataframe thead th {\n        text-align: right;\n    }\n</style>\n<table border=\"1\" class=\"dataframe\">\n  <thead>\n    <tr style=\"text-align: right;\">\n      <th></th>\n      <th>deaths</th>\n      <th>battles</th>\n      <th>size</th>\n    </tr>\n    <tr>\n      <th>origin</th>\n      <th></th>\n      <th></th>\n      <th></th>\n    </tr>\n  </thead>\n  <tbody>\n    <tr>\n      <th>Texas</th>\n      <td>25</td>\n      <td>2</td>\n      <td>1099</td>\n    </tr>\n    <tr>\n      <th>Florida</th>\n      <td>616</td>\n      <td>2</td>\n      <td>1400</td>\n    </tr>\n    <tr>\n      <th>Maine</th>\n      <td>43</td>\n      <td>4</td>\n      <td>1592</td>\n    </tr>\n    <tr>\n      <th>Iowa</th>\n      <td>234</td>\n      <td>7</td>\n      <td>1006</td>\n    </tr>\n  </tbody>\n</table>\n</div>"
     },
     "metadata": {}
    }
   ],
   "execution_count": null
  },
  {
   "cell_type": "markdown",
   "source": "### Step 10. Select every row after the fourth row and all columns",
   "metadata": {
    "id": "TGEdOvEu67QE",
    "cell_id": "00021-34512eff-0de4-4aa5-8ae2-fcf933ff0cc4",
    "deepnote_cell_type": "markdown"
   }
  },
  {
   "cell_type": "code",
   "metadata": {
    "colab": {
     "base_uri": "https://localhost:8080/",
     "height": 314
    },
    "id": "1DjgIgVr67QF",
    "executionInfo": {
     "status": "ok",
     "timestamp": 1623295199271,
     "user_tz": 240,
     "elapsed": 402,
     "user": {
      "displayName": "Andrés Sánchez",
      "photoUrl": "https://lh3.googleusercontent.com/a-/AOh14Gg69bZMv30ckb-T1MJy0nSxWIHUaP0p2uP6MYBuvQ=s64",
      "userId": "07985253921366566280"
     }
    },
    "outputId": "1e02bebf-c4d6-46e8-e244-d7883fd09527",
    "cell_id": "00022-b5032881-03dc-44a4-bc2f-e09196d43fea",
    "deepnote_to_be_reexecuted": false,
    "source_hash": "5afec8de",
    "execution_start": 1630097914022,
    "execution_millis": 14,
    "deepnote_cell_type": "code"
   },
   "source": "army.iloc[4:,:]",
   "outputs": [
    {
     "output_type": "execute_result",
     "execution_count": 12,
     "data": {
      "application/vnd.deepnote.dataframe.v2+json": {
       "row_count": 8,
       "column_count": 9,
       "columns": [
        {
         "name": "regiment",
         "dtype": "object",
         "stats": {
          "unique_count": 2,
          "nan_count": 0,
          "categories": [
           {
            "name": "Dragoons",
            "count": 4
           },
           {
            "name": "Scouts",
            "count": 4
           }
          ]
         }
        },
        {
         "name": "company",
         "dtype": "object",
         "stats": {
          "unique_count": 2,
          "nan_count": 0,
          "categories": [
           {
            "name": "1st",
            "count": 4
           },
           {
            "name": "2nd",
            "count": 4
           }
          ]
         }
        },
        {
         "name": "deaths",
         "dtype": "int64",
         "stats": {
          "unique_count": 7,
          "nan_count": 0,
          "min": "35",
          "max": "523",
          "histogram": [
           {
            "bin_start": 35,
            "bin_end": 83.8,
            "count": 6
           },
           {
            "bin_start": 83.8,
            "bin_end": 132.6,
            "count": 0
           },
           {
            "bin_start": 132.6,
            "bin_end": 181.39999999999998,
            "count": 0
           },
           {
            "bin_start": 181.39999999999998,
            "bin_end": 230.2,
            "count": 0
           },
           {
            "bin_start": 230.2,
            "bin_end": 279,
            "count": 1
           },
           {
            "bin_start": 279,
            "bin_end": 327.79999999999995,
            "count": 0
           },
           {
            "bin_start": 327.79999999999995,
            "bin_end": 376.59999999999997,
            "count": 0
           },
           {
            "bin_start": 376.59999999999997,
            "bin_end": 425.4,
            "count": 0
           },
           {
            "bin_start": 425.4,
            "bin_end": 474.2,
            "count": 0
           },
           {
            "bin_start": 474.2,
            "bin_end": 523,
            "count": 1
           }
          ]
         }
        },
        {
         "name": "battles",
         "dtype": "int64",
         "stats": {
          "unique_count": 5,
          "nan_count": 0,
          "min": "3",
          "max": "9",
          "histogram": [
           {
            "bin_start": 3,
            "bin_end": 3.6,
            "count": 1
           },
           {
            "bin_start": 3.6,
            "bin_end": 4.2,
            "count": 2
           },
           {
            "bin_start": 4.2,
            "bin_end": 4.8,
            "count": 0
           },
           {
            "bin_start": 4.8,
            "bin_end": 5.4,
            "count": 0
           },
           {
            "bin_start": 5.4,
            "bin_end": 6,
            "count": 0
           },
           {
            "bin_start": 6,
            "bin_end": 6.6,
            "count": 0
           },
           {
            "bin_start": 6.6,
            "bin_end": 7.2,
            "count": 2
           },
           {
            "bin_start": 7.2,
            "bin_end": 7.8,
            "count": 0
           },
           {
            "bin_start": 7.8,
            "bin_end": 8.399999999999999,
            "count": 2
           },
           {
            "bin_start": 8.399999999999999,
            "bin_end": 9,
            "count": 1
           }
          ]
         }
        },
        {
         "name": "size",
         "dtype": "int64",
         "stats": {
          "unique_count": 8,
          "nan_count": 0,
          "min": "849",
          "max": "1592",
          "histogram": [
           {
            "bin_start": 849,
            "bin_end": 923.3,
            "count": 1
           },
           {
            "bin_start": 923.3,
            "bin_end": 997.6,
            "count": 2
           },
           {
            "bin_start": 997.6,
            "bin_end": 1071.9,
            "count": 2
           },
           {
            "bin_start": 1071.9,
            "bin_end": 1146.2,
            "count": 1
           },
           {
            "bin_start": 1146.2,
            "bin_end": 1220.5,
            "count": 0
           },
           {
            "bin_start": 1220.5,
            "bin_end": 1294.8,
            "count": 0
           },
           {
            "bin_start": 1294.8,
            "bin_end": 1369.1,
            "count": 0
           },
           {
            "bin_start": 1369.1,
            "bin_end": 1443.4,
            "count": 0
           },
           {
            "bin_start": 1443.4,
            "bin_end": 1517.6999999999998,
            "count": 0
           },
           {
            "bin_start": 1517.6999999999998,
            "bin_end": 1592,
            "count": 2
           }
          ]
         }
        },
        {
         "name": "veterans",
         "dtype": "int64",
         "stats": {
          "unique_count": 7,
          "nan_count": 0,
          "min": "37",
          "max": "949",
          "histogram": [
           {
            "bin_start": 37,
            "bin_end": 128.2,
            "count": 5
           },
           {
            "bin_start": 128.2,
            "bin_end": 219.4,
            "count": 0
           },
           {
            "bin_start": 219.4,
            "bin_end": 310.6,
            "count": 0
           },
           {
            "bin_start": 310.6,
            "bin_end": 401.8,
            "count": 1
           },
           {
            "bin_start": 401.8,
            "bin_end": 493,
            "count": 1
           },
           {
            "bin_start": 493,
            "bin_end": 584.2,
            "count": 0
           },
           {
            "bin_start": 584.2,
            "bin_end": 675.4,
            "count": 0
           },
           {
            "bin_start": 675.4,
            "bin_end": 766.6,
            "count": 0
           },
           {
            "bin_start": 766.6,
            "bin_end": 857.8000000000001,
            "count": 0
           },
           {
            "bin_start": 857.8000000000001,
            "bin_end": 949,
            "count": 1
           }
          ]
         }
        },
        {
         "name": "readiness",
         "dtype": "int64",
         "stats": {
          "unique_count": 3,
          "nan_count": 0,
          "min": "1",
          "max": "3",
          "histogram": [
           {
            "bin_start": 1,
            "bin_end": 1.2,
            "count": 2
           },
           {
            "bin_start": 1.2,
            "bin_end": 1.4,
            "count": 0
           },
           {
            "bin_start": 1.4,
            "bin_end": 1.6,
            "count": 0
           },
           {
            "bin_start": 1.6,
            "bin_end": 1.8,
            "count": 0
           },
           {
            "bin_start": 1.8,
            "bin_end": 2,
            "count": 0
           },
           {
            "bin_start": 2,
            "bin_end": 2.2,
            "count": 4
           },
           {
            "bin_start": 2.2,
            "bin_end": 2.4000000000000004,
            "count": 0
           },
           {
            "bin_start": 2.4000000000000004,
            "bin_end": 2.6,
            "count": 0
           },
           {
            "bin_start": 2.6,
            "bin_end": 2.8,
            "count": 0
           },
           {
            "bin_start": 2.8,
            "bin_end": 3,
            "count": 2
           }
          ]
         }
        },
        {
         "name": "armored",
         "dtype": "int64",
         "stats": {
          "unique_count": 2,
          "nan_count": 0,
          "min": "0",
          "max": "1",
          "histogram": [
           {
            "bin_start": 0,
            "bin_end": 0.1,
            "count": 4
           },
           {
            "bin_start": 0.1,
            "bin_end": 0.2,
            "count": 0
           },
           {
            "bin_start": 0.2,
            "bin_end": 0.30000000000000004,
            "count": 0
           },
           {
            "bin_start": 0.30000000000000004,
            "bin_end": 0.4,
            "count": 0
           },
           {
            "bin_start": 0.4,
            "bin_end": 0.5,
            "count": 0
           },
           {
            "bin_start": 0.5,
            "bin_end": 0.6000000000000001,
            "count": 0
           },
           {
            "bin_start": 0.6000000000000001,
            "bin_end": 0.7000000000000001,
            "count": 0
           },
           {
            "bin_start": 0.7000000000000001,
            "bin_end": 0.8,
            "count": 0
           },
           {
            "bin_start": 0.8,
            "bin_end": 0.9,
            "count": 0
           },
           {
            "bin_start": 0.9,
            "bin_end": 1,
            "count": 4
           }
          ]
         }
        },
        {
         "name": "deserters",
         "dtype": "int64",
         "stats": {
          "unique_count": 5,
          "nan_count": 0,
          "min": "2",
          "max": "31",
          "histogram": [
           {
            "bin_start": 2,
            "bin_end": 4.9,
            "count": 6
           },
           {
            "bin_start": 4.9,
            "bin_end": 7.8,
            "count": 0
           },
           {
            "bin_start": 7.8,
            "bin_end": 10.7,
            "count": 0
           },
           {
            "bin_start": 10.7,
            "bin_end": 13.6,
            "count": 0
           },
           {
            "bin_start": 13.6,
            "bin_end": 16.5,
            "count": 0
           },
           {
            "bin_start": 16.5,
            "bin_end": 19.4,
            "count": 0
           },
           {
            "bin_start": 19.4,
            "bin_end": 22.3,
            "count": 0
           },
           {
            "bin_start": 22.3,
            "bin_end": 25.2,
            "count": 1
           },
           {
            "bin_start": 25.2,
            "bin_end": 28.099999999999998,
            "count": 0
           },
           {
            "bin_start": 28.099999999999998,
            "bin_end": 31,
            "count": 1
           }
          ]
         }
        },
        {
         "name": "_deepnote_index_column",
         "dtype": "object"
        }
       ],
       "rows_top": [
        {
         "regiment": "Dragoons",
         "company": "1st",
         "deaths": 43,
         "battles": 4,
         "size": 1592,
         "veterans": 73,
         "readiness": 2,
         "armored": 0,
         "deserters": 3,
         "_deepnote_index_column": "Maine"
        },
        {
         "regiment": "Dragoons",
         "company": "1st",
         "deaths": 234,
         "battles": 7,
         "size": 1006,
         "veterans": 37,
         "readiness": 1,
         "armored": 1,
         "deserters": 4,
         "_deepnote_index_column": "Iowa"
        },
        {
         "regiment": "Dragoons",
         "company": "2nd",
         "deaths": 523,
         "battles": 8,
         "size": 987,
         "veterans": 949,
         "readiness": 2,
         "armored": 0,
         "deserters": 24,
         "_deepnote_index_column": "Alaska"
        },
        {
         "regiment": "Dragoons",
         "company": "2nd",
         "deaths": 62,
         "battles": 3,
         "size": 849,
         "veterans": 48,
         "readiness": 3,
         "armored": 1,
         "deserters": 31,
         "_deepnote_index_column": "Washington"
        },
        {
         "regiment": "Scouts",
         "company": "1st",
         "deaths": 62,
         "battles": 4,
         "size": 973,
         "veterans": 48,
         "readiness": 2,
         "armored": 0,
         "deserters": 2,
         "_deepnote_index_column": "Oregon"
        },
        {
         "regiment": "Scouts",
         "company": "1st",
         "deaths": 73,
         "battles": 7,
         "size": 1005,
         "veterans": 435,
         "readiness": 1,
         "armored": 0,
         "deserters": 3,
         "_deepnote_index_column": "Wyoming"
        },
        {
         "regiment": "Scouts",
         "company": "2nd",
         "deaths": 37,
         "battles": 8,
         "size": 1099,
         "veterans": 63,
         "readiness": 2,
         "armored": 1,
         "deserters": 2,
         "_deepnote_index_column": "Louisana"
        },
        {
         "regiment": "Scouts",
         "company": "2nd",
         "deaths": 35,
         "battles": 9,
         "size": 1523,
         "veterans": 345,
         "readiness": 3,
         "armored": 1,
         "deserters": 3,
         "_deepnote_index_column": "Georgia"
        }
       ],
       "rows_bottom": null
      },
      "text/plain": "            regiment company  deaths  battles  size  veterans  readiness  \\\norigin                                                                     \nMaine       Dragoons     1st      43        4  1592        73          2   \nIowa        Dragoons     1st     234        7  1006        37          1   \nAlaska      Dragoons     2nd     523        8   987       949          2   \nWashington  Dragoons     2nd      62        3   849        48          3   \nOregon        Scouts     1st      62        4   973        48          2   \nWyoming       Scouts     1st      73        7  1005       435          1   \nLouisana      Scouts     2nd      37        8  1099        63          2   \nGeorgia       Scouts     2nd      35        9  1523       345          3   \n\n            armored  deserters  \norigin                          \nMaine             0          3  \nIowa              1          4  \nAlaska            0         24  \nWashington        1         31  \nOregon            0          2  \nWyoming           0          3  \nLouisana          1          2  \nGeorgia           1          3  ",
      "text/html": "<div>\n<style scoped>\n    .dataframe tbody tr th:only-of-type {\n        vertical-align: middle;\n    }\n\n    .dataframe tbody tr th {\n        vertical-align: top;\n    }\n\n    .dataframe thead th {\n        text-align: right;\n    }\n</style>\n<table border=\"1\" class=\"dataframe\">\n  <thead>\n    <tr style=\"text-align: right;\">\n      <th></th>\n      <th>regiment</th>\n      <th>company</th>\n      <th>deaths</th>\n      <th>battles</th>\n      <th>size</th>\n      <th>veterans</th>\n      <th>readiness</th>\n      <th>armored</th>\n      <th>deserters</th>\n    </tr>\n    <tr>\n      <th>origin</th>\n      <th></th>\n      <th></th>\n      <th></th>\n      <th></th>\n      <th></th>\n      <th></th>\n      <th></th>\n      <th></th>\n      <th></th>\n    </tr>\n  </thead>\n  <tbody>\n    <tr>\n      <th>Maine</th>\n      <td>Dragoons</td>\n      <td>1st</td>\n      <td>43</td>\n      <td>4</td>\n      <td>1592</td>\n      <td>73</td>\n      <td>2</td>\n      <td>0</td>\n      <td>3</td>\n    </tr>\n    <tr>\n      <th>Iowa</th>\n      <td>Dragoons</td>\n      <td>1st</td>\n      <td>234</td>\n      <td>7</td>\n      <td>1006</td>\n      <td>37</td>\n      <td>1</td>\n      <td>1</td>\n      <td>4</td>\n    </tr>\n    <tr>\n      <th>Alaska</th>\n      <td>Dragoons</td>\n      <td>2nd</td>\n      <td>523</td>\n      <td>8</td>\n      <td>987</td>\n      <td>949</td>\n      <td>2</td>\n      <td>0</td>\n      <td>24</td>\n    </tr>\n    <tr>\n      <th>Washington</th>\n      <td>Dragoons</td>\n      <td>2nd</td>\n      <td>62</td>\n      <td>3</td>\n      <td>849</td>\n      <td>48</td>\n      <td>3</td>\n      <td>1</td>\n      <td>31</td>\n    </tr>\n    <tr>\n      <th>Oregon</th>\n      <td>Scouts</td>\n      <td>1st</td>\n      <td>62</td>\n      <td>4</td>\n      <td>973</td>\n      <td>48</td>\n      <td>2</td>\n      <td>0</td>\n      <td>2</td>\n    </tr>\n    <tr>\n      <th>Wyoming</th>\n      <td>Scouts</td>\n      <td>1st</td>\n      <td>73</td>\n      <td>7</td>\n      <td>1005</td>\n      <td>435</td>\n      <td>1</td>\n      <td>0</td>\n      <td>3</td>\n    </tr>\n    <tr>\n      <th>Louisana</th>\n      <td>Scouts</td>\n      <td>2nd</td>\n      <td>37</td>\n      <td>8</td>\n      <td>1099</td>\n      <td>63</td>\n      <td>2</td>\n      <td>1</td>\n      <td>2</td>\n    </tr>\n    <tr>\n      <th>Georgia</th>\n      <td>Scouts</td>\n      <td>2nd</td>\n      <td>35</td>\n      <td>9</td>\n      <td>1523</td>\n      <td>345</td>\n      <td>3</td>\n      <td>1</td>\n      <td>3</td>\n    </tr>\n  </tbody>\n</table>\n</div>"
     },
     "metadata": {}
    }
   ],
   "execution_count": null
  },
  {
   "cell_type": "markdown",
   "source": "### Step 11. Select every row up to the 4th row and all columns",
   "metadata": {
    "id": "ldi6jsJ067QF",
    "cell_id": "00023-ffefd8bf-2d41-466e-b7b4-7b66bdfd3d82",
    "deepnote_cell_type": "markdown"
   }
  },
  {
   "cell_type": "code",
   "metadata": {
    "colab": {
     "base_uri": "https://localhost:8080/",
     "height": 195
    },
    "id": "0OJFJhto67QF",
    "executionInfo": {
     "status": "ok",
     "timestamp": 1623295199272,
     "user_tz": 240,
     "elapsed": 12,
     "user": {
      "displayName": "Andrés Sánchez",
      "photoUrl": "https://lh3.googleusercontent.com/a-/AOh14Gg69bZMv30ckb-T1MJy0nSxWIHUaP0p2uP6MYBuvQ=s64",
      "userId": "07985253921366566280"
     }
    },
    "outputId": "4cea6401-6c1a-4f96-919f-705b47eea1fa",
    "cell_id": "00024-93bb9214-2ae7-4f22-878c-996634721a83",
    "deepnote_to_be_reexecuted": false,
    "source_hash": "1565bc5e",
    "execution_start": 1630097914025,
    "execution_millis": 39,
    "deepnote_cell_type": "code"
   },
   "source": "army.iloc[:4,:]",
   "outputs": [
    {
     "output_type": "execute_result",
     "execution_count": 13,
     "data": {
      "application/vnd.deepnote.dataframe.v2+json": {
       "row_count": 4,
       "column_count": 9,
       "columns": [
        {
         "name": "regiment",
         "dtype": "object",
         "stats": {
          "unique_count": 1,
          "nan_count": 0,
          "categories": [
           {
            "name": "Nighthawks",
            "count": 4
           }
          ]
         }
        },
        {
         "name": "company",
         "dtype": "object",
         "stats": {
          "unique_count": 2,
          "nan_count": 0,
          "categories": [
           {
            "name": "1st",
            "count": 2
           },
           {
            "name": "2nd",
            "count": 2
           }
          ]
         }
        },
        {
         "name": "deaths",
         "dtype": "int64",
         "stats": {
          "unique_count": 4,
          "nan_count": 0,
          "min": "25",
          "max": "616",
          "histogram": [
           {
            "bin_start": 25,
            "bin_end": 84.1,
            "count": 2
           },
           {
            "bin_start": 84.1,
            "bin_end": 143.2,
            "count": 0
           },
           {
            "bin_start": 143.2,
            "bin_end": 202.3,
            "count": 0
           },
           {
            "bin_start": 202.3,
            "bin_end": 261.4,
            "count": 0
           },
           {
            "bin_start": 261.4,
            "bin_end": 320.5,
            "count": 0
           },
           {
            "bin_start": 320.5,
            "bin_end": 379.6,
            "count": 0
           },
           {
            "bin_start": 379.6,
            "bin_end": 438.7,
            "count": 0
           },
           {
            "bin_start": 438.7,
            "bin_end": 497.8,
            "count": 0
           },
           {
            "bin_start": 497.8,
            "bin_end": 556.9,
            "count": 1
           },
           {
            "bin_start": 556.9,
            "bin_end": 616,
            "count": 1
           }
          ]
         }
        },
        {
         "name": "battles",
         "dtype": "int64",
         "stats": {
          "unique_count": 3,
          "nan_count": 0,
          "min": "2",
          "max": "42",
          "histogram": [
           {
            "bin_start": 2,
            "bin_end": 6,
            "count": 3
           },
           {
            "bin_start": 6,
            "bin_end": 10,
            "count": 0
           },
           {
            "bin_start": 10,
            "bin_end": 14,
            "count": 0
           },
           {
            "bin_start": 14,
            "bin_end": 18,
            "count": 0
           },
           {
            "bin_start": 18,
            "bin_end": 22,
            "count": 0
           },
           {
            "bin_start": 22,
            "bin_end": 26,
            "count": 0
           },
           {
            "bin_start": 26,
            "bin_end": 30,
            "count": 0
           },
           {
            "bin_start": 30,
            "bin_end": 34,
            "count": 0
           },
           {
            "bin_start": 34,
            "bin_end": 38,
            "count": 0
           },
           {
            "bin_start": 38,
            "bin_end": 42,
            "count": 1
           }
          ]
         }
        },
        {
         "name": "size",
         "dtype": "int64",
         "stats": {
          "unique_count": 4,
          "nan_count": 0,
          "min": "957",
          "max": "1400",
          "histogram": [
           {
            "bin_start": 957,
            "bin_end": 1001.3,
            "count": 1
           },
           {
            "bin_start": 1001.3,
            "bin_end": 1045.6,
            "count": 1
           },
           {
            "bin_start": 1045.6,
            "bin_end": 1089.9,
            "count": 0
           },
           {
            "bin_start": 1089.9,
            "bin_end": 1134.2,
            "count": 1
           },
           {
            "bin_start": 1134.2,
            "bin_end": 1178.5,
            "count": 0
           },
           {
            "bin_start": 1178.5,
            "bin_end": 1222.8,
            "count": 0
           },
           {
            "bin_start": 1222.8,
            "bin_end": 1267.1,
            "count": 0
           },
           {
            "bin_start": 1267.1,
            "bin_end": 1311.4,
            "count": 0
           },
           {
            "bin_start": 1311.4,
            "bin_end": 1355.7,
            "count": 0
           },
           {
            "bin_start": 1355.7,
            "bin_end": 1400,
            "count": 1
           }
          ]
         }
        },
        {
         "name": "veterans",
         "dtype": "int64",
         "stats": {
          "unique_count": 4,
          "nan_count": 0,
          "min": "1",
          "max": "62",
          "histogram": [
           {
            "bin_start": 1,
            "bin_end": 7.1,
            "count": 2
           },
           {
            "bin_start": 7.1,
            "bin_end": 13.2,
            "count": 0
           },
           {
            "bin_start": 13.2,
            "bin_end": 19.299999999999997,
            "count": 0
           },
           {
            "bin_start": 19.299999999999997,
            "bin_end": 25.4,
            "count": 0
           },
           {
            "bin_start": 25.4,
            "bin_end": 31.5,
            "count": 1
           },
           {
            "bin_start": 31.5,
            "bin_end": 37.599999999999994,
            "count": 0
           },
           {
            "bin_start": 37.599999999999994,
            "bin_end": 43.699999999999996,
            "count": 0
           },
           {
            "bin_start": 43.699999999999996,
            "bin_end": 49.8,
            "count": 0
           },
           {
            "bin_start": 49.8,
            "bin_end": 55.9,
            "count": 0
           },
           {
            "bin_start": 55.9,
            "bin_end": 62,
            "count": 1
           }
          ]
         }
        },
        {
         "name": "readiness",
         "dtype": "int64",
         "stats": {
          "unique_count": 3,
          "nan_count": 0,
          "min": "1",
          "max": "3",
          "histogram": [
           {
            "bin_start": 1,
            "bin_end": 1.2,
            "count": 1
           },
           {
            "bin_start": 1.2,
            "bin_end": 1.4,
            "count": 0
           },
           {
            "bin_start": 1.4,
            "bin_end": 1.6,
            "count": 0
           },
           {
            "bin_start": 1.6,
            "bin_end": 1.8,
            "count": 0
           },
           {
            "bin_start": 1.8,
            "bin_end": 2,
            "count": 0
           },
           {
            "bin_start": 2,
            "bin_end": 2.2,
            "count": 1
           },
           {
            "bin_start": 2.2,
            "bin_end": 2.4000000000000004,
            "count": 0
           },
           {
            "bin_start": 2.4000000000000004,
            "bin_end": 2.6,
            "count": 0
           },
           {
            "bin_start": 2.6,
            "bin_end": 2.8,
            "count": 0
           },
           {
            "bin_start": 2.8,
            "bin_end": 3,
            "count": 2
           }
          ]
         }
        },
        {
         "name": "armored",
         "dtype": "int64",
         "stats": {
          "unique_count": 2,
          "nan_count": 0,
          "min": "0",
          "max": "1",
          "histogram": [
           {
            "bin_start": 0,
            "bin_end": 0.1,
            "count": 1
           },
           {
            "bin_start": 0.1,
            "bin_end": 0.2,
            "count": 0
           },
           {
            "bin_start": 0.2,
            "bin_end": 0.30000000000000004,
            "count": 0
           },
           {
            "bin_start": 0.30000000000000004,
            "bin_end": 0.4,
            "count": 0
           },
           {
            "bin_start": 0.4,
            "bin_end": 0.5,
            "count": 0
           },
           {
            "bin_start": 0.5,
            "bin_end": 0.6000000000000001,
            "count": 0
           },
           {
            "bin_start": 0.6000000000000001,
            "bin_end": 0.7000000000000001,
            "count": 0
           },
           {
            "bin_start": 0.7000000000000001,
            "bin_end": 0.8,
            "count": 0
           },
           {
            "bin_start": 0.8,
            "bin_end": 0.9,
            "count": 0
           },
           {
            "bin_start": 0.9,
            "bin_end": 1,
            "count": 3
           }
          ]
         }
        },
        {
         "name": "deserters",
         "dtype": "int64",
         "stats": {
          "unique_count": 4,
          "nan_count": 0,
          "min": "2",
          "max": "31",
          "histogram": [
           {
            "bin_start": 2,
            "bin_end": 4.9,
            "count": 2
           },
           {
            "bin_start": 4.9,
            "bin_end": 7.8,
            "count": 0
           },
           {
            "bin_start": 7.8,
            "bin_end": 10.7,
            "count": 0
           },
           {
            "bin_start": 10.7,
            "bin_end": 13.6,
            "count": 0
           },
           {
            "bin_start": 13.6,
            "bin_end": 16.5,
            "count": 0
           },
           {
            "bin_start": 16.5,
            "bin_end": 19.4,
            "count": 0
           },
           {
            "bin_start": 19.4,
            "bin_end": 22.3,
            "count": 0
           },
           {
            "bin_start": 22.3,
            "bin_end": 25.2,
            "count": 1
           },
           {
            "bin_start": 25.2,
            "bin_end": 28.099999999999998,
            "count": 0
           },
           {
            "bin_start": 28.099999999999998,
            "bin_end": 31,
            "count": 1
           }
          ]
         }
        },
        {
         "name": "_deepnote_index_column",
         "dtype": "object"
        }
       ],
       "rows_top": [
        {
         "regiment": "Nighthawks",
         "company": "1st",
         "deaths": 523,
         "battles": 5,
         "size": 1045,
         "veterans": 1,
         "readiness": 1,
         "armored": 1,
         "deserters": 4,
         "_deepnote_index_column": "Arizona"
        },
        {
         "regiment": "Nighthawks",
         "company": "1st",
         "deaths": 52,
         "battles": 42,
         "size": 957,
         "veterans": 5,
         "readiness": 2,
         "armored": 0,
         "deserters": 24,
         "_deepnote_index_column": "California"
        },
        {
         "regiment": "Nighthawks",
         "company": "2nd",
         "deaths": 25,
         "battles": 2,
         "size": 1099,
         "veterans": 62,
         "readiness": 3,
         "armored": 1,
         "deserters": 31,
         "_deepnote_index_column": "Texas"
        },
        {
         "regiment": "Nighthawks",
         "company": "2nd",
         "deaths": 616,
         "battles": 2,
         "size": 1400,
         "veterans": 26,
         "readiness": 3,
         "armored": 1,
         "deserters": 2,
         "_deepnote_index_column": "Florida"
        }
       ],
       "rows_bottom": null
      },
      "text/plain": "              regiment company  deaths  battles  size  veterans  readiness  \\\norigin                                                                       \nArizona     Nighthawks     1st     523        5  1045         1          1   \nCalifornia  Nighthawks     1st      52       42   957         5          2   \nTexas       Nighthawks     2nd      25        2  1099        62          3   \nFlorida     Nighthawks     2nd     616        2  1400        26          3   \n\n            armored  deserters  \norigin                          \nArizona           1          4  \nCalifornia        0         24  \nTexas             1         31  \nFlorida           1          2  ",
      "text/html": "<div>\n<style scoped>\n    .dataframe tbody tr th:only-of-type {\n        vertical-align: middle;\n    }\n\n    .dataframe tbody tr th {\n        vertical-align: top;\n    }\n\n    .dataframe thead th {\n        text-align: right;\n    }\n</style>\n<table border=\"1\" class=\"dataframe\">\n  <thead>\n    <tr style=\"text-align: right;\">\n      <th></th>\n      <th>regiment</th>\n      <th>company</th>\n      <th>deaths</th>\n      <th>battles</th>\n      <th>size</th>\n      <th>veterans</th>\n      <th>readiness</th>\n      <th>armored</th>\n      <th>deserters</th>\n    </tr>\n    <tr>\n      <th>origin</th>\n      <th></th>\n      <th></th>\n      <th></th>\n      <th></th>\n      <th></th>\n      <th></th>\n      <th></th>\n      <th></th>\n      <th></th>\n    </tr>\n  </thead>\n  <tbody>\n    <tr>\n      <th>Arizona</th>\n      <td>Nighthawks</td>\n      <td>1st</td>\n      <td>523</td>\n      <td>5</td>\n      <td>1045</td>\n      <td>1</td>\n      <td>1</td>\n      <td>1</td>\n      <td>4</td>\n    </tr>\n    <tr>\n      <th>California</th>\n      <td>Nighthawks</td>\n      <td>1st</td>\n      <td>52</td>\n      <td>42</td>\n      <td>957</td>\n      <td>5</td>\n      <td>2</td>\n      <td>0</td>\n      <td>24</td>\n    </tr>\n    <tr>\n      <th>Texas</th>\n      <td>Nighthawks</td>\n      <td>2nd</td>\n      <td>25</td>\n      <td>2</td>\n      <td>1099</td>\n      <td>62</td>\n      <td>3</td>\n      <td>1</td>\n      <td>31</td>\n    </tr>\n    <tr>\n      <th>Florida</th>\n      <td>Nighthawks</td>\n      <td>2nd</td>\n      <td>616</td>\n      <td>2</td>\n      <td>1400</td>\n      <td>26</td>\n      <td>3</td>\n      <td>1</td>\n      <td>2</td>\n    </tr>\n  </tbody>\n</table>\n</div>"
     },
     "metadata": {}
    }
   ],
   "execution_count": null
  },
  {
   "cell_type": "markdown",
   "source": "### Step 12. Select the 3rd column up to the 7th column",
   "metadata": {
    "id": "k6MFvwnz67QF",
    "cell_id": "00025-f6ee6b4a-63c6-4128-aa5e-5fe0a3e71205",
    "deepnote_cell_type": "markdown"
   }
  },
  {
   "cell_type": "code",
   "metadata": {
    "colab": {
     "base_uri": "https://localhost:8080/",
     "height": 432
    },
    "id": "6UG9TtTj67QF",
    "executionInfo": {
     "status": "ok",
     "timestamp": 1623295199272,
     "user_tz": 240,
     "elapsed": 11,
     "user": {
      "displayName": "Andrés Sánchez",
      "photoUrl": "https://lh3.googleusercontent.com/a-/AOh14Gg69bZMv30ckb-T1MJy0nSxWIHUaP0p2uP6MYBuvQ=s64",
      "userId": "07985253921366566280"
     }
    },
    "outputId": "82665dc2-933e-4b7b-9434-92f105ce42b6",
    "cell_id": "00026-be62b87e-90aa-415a-8bf2-f0ef46e907d8",
    "deepnote_to_be_reexecuted": false,
    "source_hash": "42d9c203",
    "execution_start": 1630097914079,
    "execution_millis": 10,
    "deepnote_cell_type": "code"
   },
   "source": "army.iloc[:,2:6]",
   "outputs": [
    {
     "output_type": "execute_result",
     "execution_count": 14,
     "data": {
      "application/vnd.deepnote.dataframe.v2+json": {
       "row_count": 12,
       "column_count": 4,
       "columns": [
        {
         "name": "deaths",
         "dtype": "int64",
         "stats": {
          "unique_count": 10,
          "nan_count": 0,
          "min": "25",
          "max": "616",
          "histogram": [
           {
            "bin_start": 25,
            "bin_end": 84.1,
            "count": 8
           },
           {
            "bin_start": 84.1,
            "bin_end": 143.2,
            "count": 0
           },
           {
            "bin_start": 143.2,
            "bin_end": 202.3,
            "count": 0
           },
           {
            "bin_start": 202.3,
            "bin_end": 261.4,
            "count": 1
           },
           {
            "bin_start": 261.4,
            "bin_end": 320.5,
            "count": 0
           },
           {
            "bin_start": 320.5,
            "bin_end": 379.6,
            "count": 0
           },
           {
            "bin_start": 379.6,
            "bin_end": 438.7,
            "count": 0
           },
           {
            "bin_start": 438.7,
            "bin_end": 497.8,
            "count": 0
           },
           {
            "bin_start": 497.8,
            "bin_end": 556.9,
            "count": 2
           },
           {
            "bin_start": 556.9,
            "bin_end": 616,
            "count": 1
           }
          ]
         }
        },
        {
         "name": "battles",
         "dtype": "int64",
         "stats": {
          "unique_count": 8,
          "nan_count": 0,
          "min": "2",
          "max": "42",
          "histogram": [
           {
            "bin_start": 2,
            "bin_end": 6,
            "count": 6
           },
           {
            "bin_start": 6,
            "bin_end": 10,
            "count": 5
           },
           {
            "bin_start": 10,
            "bin_end": 14,
            "count": 0
           },
           {
            "bin_start": 14,
            "bin_end": 18,
            "count": 0
           },
           {
            "bin_start": 18,
            "bin_end": 22,
            "count": 0
           },
           {
            "bin_start": 22,
            "bin_end": 26,
            "count": 0
           },
           {
            "bin_start": 26,
            "bin_end": 30,
            "count": 0
           },
           {
            "bin_start": 30,
            "bin_end": 34,
            "count": 0
           },
           {
            "bin_start": 34,
            "bin_end": 38,
            "count": 0
           },
           {
            "bin_start": 38,
            "bin_end": 42,
            "count": 1
           }
          ]
         }
        },
        {
         "name": "size",
         "dtype": "int64",
         "stats": {
          "unique_count": 11,
          "nan_count": 0,
          "min": "849",
          "max": "1592",
          "histogram": [
           {
            "bin_start": 849,
            "bin_end": 923.3,
            "count": 1
           },
           {
            "bin_start": 923.3,
            "bin_end": 997.6,
            "count": 3
           },
           {
            "bin_start": 997.6,
            "bin_end": 1071.9,
            "count": 3
           },
           {
            "bin_start": 1071.9,
            "bin_end": 1146.2,
            "count": 2
           },
           {
            "bin_start": 1146.2,
            "bin_end": 1220.5,
            "count": 0
           },
           {
            "bin_start": 1220.5,
            "bin_end": 1294.8,
            "count": 0
           },
           {
            "bin_start": 1294.8,
            "bin_end": 1369.1,
            "count": 0
           },
           {
            "bin_start": 1369.1,
            "bin_end": 1443.4,
            "count": 1
           },
           {
            "bin_start": 1443.4,
            "bin_end": 1517.6999999999998,
            "count": 0
           },
           {
            "bin_start": 1517.6999999999998,
            "bin_end": 1592,
            "count": 2
           }
          ]
         }
        },
        {
         "name": "veterans",
         "dtype": "int64",
         "stats": {
          "unique_count": 11,
          "nan_count": 0,
          "min": "1",
          "max": "949",
          "histogram": [
           {
            "bin_start": 1,
            "bin_end": 95.8,
            "count": 9
           },
           {
            "bin_start": 95.8,
            "bin_end": 190.6,
            "count": 0
           },
           {
            "bin_start": 190.6,
            "bin_end": 285.4,
            "count": 0
           },
           {
            "bin_start": 285.4,
            "bin_end": 380.2,
            "count": 1
           },
           {
            "bin_start": 380.2,
            "bin_end": 475,
            "count": 1
           },
           {
            "bin_start": 475,
            "bin_end": 569.8,
            "count": 0
           },
           {
            "bin_start": 569.8,
            "bin_end": 664.6,
            "count": 0
           },
           {
            "bin_start": 664.6,
            "bin_end": 759.4,
            "count": 0
           },
           {
            "bin_start": 759.4,
            "bin_end": 854.1999999999999,
            "count": 0
           },
           {
            "bin_start": 854.1999999999999,
            "bin_end": 949,
            "count": 1
           }
          ]
         }
        },
        {
         "name": "_deepnote_index_column",
         "dtype": "object"
        }
       ],
       "rows_top": [
        {
         "deaths": 523,
         "battles": 5,
         "size": 1045,
         "veterans": 1,
         "_deepnote_index_column": "Arizona"
        },
        {
         "deaths": 52,
         "battles": 42,
         "size": 957,
         "veterans": 5,
         "_deepnote_index_column": "California"
        },
        {
         "deaths": 25,
         "battles": 2,
         "size": 1099,
         "veterans": 62,
         "_deepnote_index_column": "Texas"
        },
        {
         "deaths": 616,
         "battles": 2,
         "size": 1400,
         "veterans": 26,
         "_deepnote_index_column": "Florida"
        },
        {
         "deaths": 43,
         "battles": 4,
         "size": 1592,
         "veterans": 73,
         "_deepnote_index_column": "Maine"
        },
        {
         "deaths": 234,
         "battles": 7,
         "size": 1006,
         "veterans": 37,
         "_deepnote_index_column": "Iowa"
        },
        {
         "deaths": 523,
         "battles": 8,
         "size": 987,
         "veterans": 949,
         "_deepnote_index_column": "Alaska"
        },
        {
         "deaths": 62,
         "battles": 3,
         "size": 849,
         "veterans": 48,
         "_deepnote_index_column": "Washington"
        },
        {
         "deaths": 62,
         "battles": 4,
         "size": 973,
         "veterans": 48,
         "_deepnote_index_column": "Oregon"
        },
        {
         "deaths": 73,
         "battles": 7,
         "size": 1005,
         "veterans": 435,
         "_deepnote_index_column": "Wyoming"
        },
        {
         "deaths": 37,
         "battles": 8,
         "size": 1099,
         "veterans": 63,
         "_deepnote_index_column": "Louisana"
        },
        {
         "deaths": 35,
         "battles": 9,
         "size": 1523,
         "veterans": 345,
         "_deepnote_index_column": "Georgia"
        }
       ],
       "rows_bottom": null
      },
      "text/plain": "            deaths  battles  size  veterans\norigin                                     \nArizona        523        5  1045         1\nCalifornia      52       42   957         5\nTexas           25        2  1099        62\nFlorida        616        2  1400        26\nMaine           43        4  1592        73\nIowa           234        7  1006        37\nAlaska         523        8   987       949\nWashington      62        3   849        48\nOregon          62        4   973        48\nWyoming         73        7  1005       435\nLouisana        37        8  1099        63\nGeorgia         35        9  1523       345",
      "text/html": "<div>\n<style scoped>\n    .dataframe tbody tr th:only-of-type {\n        vertical-align: middle;\n    }\n\n    .dataframe tbody tr th {\n        vertical-align: top;\n    }\n\n    .dataframe thead th {\n        text-align: right;\n    }\n</style>\n<table border=\"1\" class=\"dataframe\">\n  <thead>\n    <tr style=\"text-align: right;\">\n      <th></th>\n      <th>deaths</th>\n      <th>battles</th>\n      <th>size</th>\n      <th>veterans</th>\n    </tr>\n    <tr>\n      <th>origin</th>\n      <th></th>\n      <th></th>\n      <th></th>\n      <th></th>\n    </tr>\n  </thead>\n  <tbody>\n    <tr>\n      <th>Arizona</th>\n      <td>523</td>\n      <td>5</td>\n      <td>1045</td>\n      <td>1</td>\n    </tr>\n    <tr>\n      <th>California</th>\n      <td>52</td>\n      <td>42</td>\n      <td>957</td>\n      <td>5</td>\n    </tr>\n    <tr>\n      <th>Texas</th>\n      <td>25</td>\n      <td>2</td>\n      <td>1099</td>\n      <td>62</td>\n    </tr>\n    <tr>\n      <th>Florida</th>\n      <td>616</td>\n      <td>2</td>\n      <td>1400</td>\n      <td>26</td>\n    </tr>\n    <tr>\n      <th>Maine</th>\n      <td>43</td>\n      <td>4</td>\n      <td>1592</td>\n      <td>73</td>\n    </tr>\n    <tr>\n      <th>Iowa</th>\n      <td>234</td>\n      <td>7</td>\n      <td>1006</td>\n      <td>37</td>\n    </tr>\n    <tr>\n      <th>Alaska</th>\n      <td>523</td>\n      <td>8</td>\n      <td>987</td>\n      <td>949</td>\n    </tr>\n    <tr>\n      <th>Washington</th>\n      <td>62</td>\n      <td>3</td>\n      <td>849</td>\n      <td>48</td>\n    </tr>\n    <tr>\n      <th>Oregon</th>\n      <td>62</td>\n      <td>4</td>\n      <td>973</td>\n      <td>48</td>\n    </tr>\n    <tr>\n      <th>Wyoming</th>\n      <td>73</td>\n      <td>7</td>\n      <td>1005</td>\n      <td>435</td>\n    </tr>\n    <tr>\n      <th>Louisana</th>\n      <td>37</td>\n      <td>8</td>\n      <td>1099</td>\n      <td>63</td>\n    </tr>\n    <tr>\n      <th>Georgia</th>\n      <td>35</td>\n      <td>9</td>\n      <td>1523</td>\n      <td>345</td>\n    </tr>\n  </tbody>\n</table>\n</div>"
     },
     "metadata": {}
    }
   ],
   "execution_count": null
  },
  {
   "cell_type": "markdown",
   "source": "### Step 13. Select rows where df.deaths is greater than 50",
   "metadata": {
    "id": "GVyp-4z667QF",
    "cell_id": "00027-ce0f33d8-b12f-46cc-93cb-f8f0ef30aa88",
    "deepnote_cell_type": "markdown"
   }
  },
  {
   "cell_type": "code",
   "metadata": {
    "colab": {
     "base_uri": "https://localhost:8080/",
     "height": 314
    },
    "id": "HrYdzevl67QF",
    "executionInfo": {
     "status": "ok",
     "timestamp": 1623295199272,
     "user_tz": 240,
     "elapsed": 11,
     "user": {
      "displayName": "Andrés Sánchez",
      "photoUrl": "https://lh3.googleusercontent.com/a-/AOh14Gg69bZMv30ckb-T1MJy0nSxWIHUaP0p2uP6MYBuvQ=s64",
      "userId": "07985253921366566280"
     }
    },
    "outputId": "1bc11fbd-7316-4ac1-89e2-537469a71137",
    "cell_id": "00028-2712f532-940c-45cb-9f80-d9f43f262c7c",
    "deepnote_to_be_reexecuted": false,
    "source_hash": "819055e3",
    "execution_start": 1630097914118,
    "execution_millis": 7,
    "deepnote_cell_type": "code"
   },
   "source": "army.loc[army['deaths'] > 50]",
   "outputs": [
    {
     "output_type": "execute_result",
     "execution_count": 15,
     "data": {
      "application/vnd.deepnote.dataframe.v2+json": {
       "row_count": 8,
       "column_count": 9,
       "columns": [
        {
         "name": "regiment",
         "dtype": "object",
         "stats": {
          "unique_count": 3,
          "nan_count": 0,
          "categories": [
           {
            "name": "Nighthawks",
            "count": 3
           },
           {
            "name": "Dragoons",
            "count": 3
           },
           {
            "name": "Scouts",
            "count": 2
           }
          ]
         }
        },
        {
         "name": "company",
         "dtype": "object",
         "stats": {
          "unique_count": 2,
          "nan_count": 0,
          "categories": [
           {
            "name": "1st",
            "count": 5
           },
           {
            "name": "2nd",
            "count": 3
           }
          ]
         }
        },
        {
         "name": "deaths",
         "dtype": "int64",
         "stats": {
          "unique_count": 6,
          "nan_count": 0,
          "min": "52",
          "max": "616",
          "histogram": [
           {
            "bin_start": 52,
            "bin_end": 108.4,
            "count": 4
           },
           {
            "bin_start": 108.4,
            "bin_end": 164.8,
            "count": 0
           },
           {
            "bin_start": 164.8,
            "bin_end": 221.2,
            "count": 0
           },
           {
            "bin_start": 221.2,
            "bin_end": 277.6,
            "count": 1
           },
           {
            "bin_start": 277.6,
            "bin_end": 334,
            "count": 0
           },
           {
            "bin_start": 334,
            "bin_end": 390.4,
            "count": 0
           },
           {
            "bin_start": 390.4,
            "bin_end": 446.8,
            "count": 0
           },
           {
            "bin_start": 446.8,
            "bin_end": 503.2,
            "count": 0
           },
           {
            "bin_start": 503.2,
            "bin_end": 559.5999999999999,
            "count": 2
           },
           {
            "bin_start": 559.5999999999999,
            "bin_end": 616,
            "count": 1
           }
          ]
         }
        },
        {
         "name": "battles",
         "dtype": "int64",
         "stats": {
          "unique_count": 7,
          "nan_count": 0,
          "min": "2",
          "max": "42",
          "histogram": [
           {
            "bin_start": 2,
            "bin_end": 6,
            "count": 4
           },
           {
            "bin_start": 6,
            "bin_end": 10,
            "count": 3
           },
           {
            "bin_start": 10,
            "bin_end": 14,
            "count": 0
           },
           {
            "bin_start": 14,
            "bin_end": 18,
            "count": 0
           },
           {
            "bin_start": 18,
            "bin_end": 22,
            "count": 0
           },
           {
            "bin_start": 22,
            "bin_end": 26,
            "count": 0
           },
           {
            "bin_start": 26,
            "bin_end": 30,
            "count": 0
           },
           {
            "bin_start": 30,
            "bin_end": 34,
            "count": 0
           },
           {
            "bin_start": 34,
            "bin_end": 38,
            "count": 0
           },
           {
            "bin_start": 38,
            "bin_end": 42,
            "count": 1
           }
          ]
         }
        },
        {
         "name": "size",
         "dtype": "int64",
         "stats": {
          "unique_count": 8,
          "nan_count": 0,
          "min": "849",
          "max": "1400",
          "histogram": [
           {
            "bin_start": 849,
            "bin_end": 904.1,
            "count": 1
           },
           {
            "bin_start": 904.1,
            "bin_end": 959.2,
            "count": 1
           },
           {
            "bin_start": 959.2,
            "bin_end": 1014.3,
            "count": 4
           },
           {
            "bin_start": 1014.3,
            "bin_end": 1069.4,
            "count": 1
           },
           {
            "bin_start": 1069.4,
            "bin_end": 1124.5,
            "count": 0
           },
           {
            "bin_start": 1124.5,
            "bin_end": 1179.6,
            "count": 0
           },
           {
            "bin_start": 1179.6,
            "bin_end": 1234.7,
            "count": 0
           },
           {
            "bin_start": 1234.7,
            "bin_end": 1289.8,
            "count": 0
           },
           {
            "bin_start": 1289.8,
            "bin_end": 1344.9,
            "count": 0
           },
           {
            "bin_start": 1344.9,
            "bin_end": 1400,
            "count": 1
           }
          ]
         }
        },
        {
         "name": "veterans",
         "dtype": "int64",
         "stats": {
          "unique_count": 7,
          "nan_count": 0,
          "min": "1",
          "max": "949",
          "histogram": [
           {
            "bin_start": 1,
            "bin_end": 95.8,
            "count": 6
           },
           {
            "bin_start": 95.8,
            "bin_end": 190.6,
            "count": 0
           },
           {
            "bin_start": 190.6,
            "bin_end": 285.4,
            "count": 0
           },
           {
            "bin_start": 285.4,
            "bin_end": 380.2,
            "count": 0
           },
           {
            "bin_start": 380.2,
            "bin_end": 475,
            "count": 1
           },
           {
            "bin_start": 475,
            "bin_end": 569.8,
            "count": 0
           },
           {
            "bin_start": 569.8,
            "bin_end": 664.6,
            "count": 0
           },
           {
            "bin_start": 664.6,
            "bin_end": 759.4,
            "count": 0
           },
           {
            "bin_start": 759.4,
            "bin_end": 854.1999999999999,
            "count": 0
           },
           {
            "bin_start": 854.1999999999999,
            "bin_end": 949,
            "count": 1
           }
          ]
         }
        },
        {
         "name": "readiness",
         "dtype": "int64",
         "stats": {
          "unique_count": 3,
          "nan_count": 0,
          "min": "1",
          "max": "3",
          "histogram": [
           {
            "bin_start": 1,
            "bin_end": 1.2,
            "count": 3
           },
           {
            "bin_start": 1.2,
            "bin_end": 1.4,
            "count": 0
           },
           {
            "bin_start": 1.4,
            "bin_end": 1.6,
            "count": 0
           },
           {
            "bin_start": 1.6,
            "bin_end": 1.8,
            "count": 0
           },
           {
            "bin_start": 1.8,
            "bin_end": 2,
            "count": 0
           },
           {
            "bin_start": 2,
            "bin_end": 2.2,
            "count": 3
           },
           {
            "bin_start": 2.2,
            "bin_end": 2.4000000000000004,
            "count": 0
           },
           {
            "bin_start": 2.4000000000000004,
            "bin_end": 2.6,
            "count": 0
           },
           {
            "bin_start": 2.6,
            "bin_end": 2.8,
            "count": 0
           },
           {
            "bin_start": 2.8,
            "bin_end": 3,
            "count": 2
           }
          ]
         }
        },
        {
         "name": "armored",
         "dtype": "int64",
         "stats": {
          "unique_count": 2,
          "nan_count": 0,
          "min": "0",
          "max": "1",
          "histogram": [
           {
            "bin_start": 0,
            "bin_end": 0.1,
            "count": 4
           },
           {
            "bin_start": 0.1,
            "bin_end": 0.2,
            "count": 0
           },
           {
            "bin_start": 0.2,
            "bin_end": 0.30000000000000004,
            "count": 0
           },
           {
            "bin_start": 0.30000000000000004,
            "bin_end": 0.4,
            "count": 0
           },
           {
            "bin_start": 0.4,
            "bin_end": 0.5,
            "count": 0
           },
           {
            "bin_start": 0.5,
            "bin_end": 0.6000000000000001,
            "count": 0
           },
           {
            "bin_start": 0.6000000000000001,
            "bin_end": 0.7000000000000001,
            "count": 0
           },
           {
            "bin_start": 0.7000000000000001,
            "bin_end": 0.8,
            "count": 0
           },
           {
            "bin_start": 0.8,
            "bin_end": 0.9,
            "count": 0
           },
           {
            "bin_start": 0.9,
            "bin_end": 1,
            "count": 4
           }
          ]
         }
        },
        {
         "name": "deserters",
         "dtype": "int64",
         "stats": {
          "unique_count": 5,
          "nan_count": 0,
          "min": "2",
          "max": "31",
          "histogram": [
           {
            "bin_start": 2,
            "bin_end": 4.9,
            "count": 5
           },
           {
            "bin_start": 4.9,
            "bin_end": 7.8,
            "count": 0
           },
           {
            "bin_start": 7.8,
            "bin_end": 10.7,
            "count": 0
           },
           {
            "bin_start": 10.7,
            "bin_end": 13.6,
            "count": 0
           },
           {
            "bin_start": 13.6,
            "bin_end": 16.5,
            "count": 0
           },
           {
            "bin_start": 16.5,
            "bin_end": 19.4,
            "count": 0
           },
           {
            "bin_start": 19.4,
            "bin_end": 22.3,
            "count": 0
           },
           {
            "bin_start": 22.3,
            "bin_end": 25.2,
            "count": 2
           },
           {
            "bin_start": 25.2,
            "bin_end": 28.099999999999998,
            "count": 0
           },
           {
            "bin_start": 28.099999999999998,
            "bin_end": 31,
            "count": 1
           }
          ]
         }
        },
        {
         "name": "_deepnote_index_column",
         "dtype": "object"
        }
       ],
       "rows_top": [
        {
         "regiment": "Nighthawks",
         "company": "1st",
         "deaths": 523,
         "battles": 5,
         "size": 1045,
         "veterans": 1,
         "readiness": 1,
         "armored": 1,
         "deserters": 4,
         "_deepnote_index_column": "Arizona"
        },
        {
         "regiment": "Nighthawks",
         "company": "1st",
         "deaths": 52,
         "battles": 42,
         "size": 957,
         "veterans": 5,
         "readiness": 2,
         "armored": 0,
         "deserters": 24,
         "_deepnote_index_column": "California"
        },
        {
         "regiment": "Nighthawks",
         "company": "2nd",
         "deaths": 616,
         "battles": 2,
         "size": 1400,
         "veterans": 26,
         "readiness": 3,
         "armored": 1,
         "deserters": 2,
         "_deepnote_index_column": "Florida"
        },
        {
         "regiment": "Dragoons",
         "company": "1st",
         "deaths": 234,
         "battles": 7,
         "size": 1006,
         "veterans": 37,
         "readiness": 1,
         "armored": 1,
         "deserters": 4,
         "_deepnote_index_column": "Iowa"
        },
        {
         "regiment": "Dragoons",
         "company": "2nd",
         "deaths": 523,
         "battles": 8,
         "size": 987,
         "veterans": 949,
         "readiness": 2,
         "armored": 0,
         "deserters": 24,
         "_deepnote_index_column": "Alaska"
        },
        {
         "regiment": "Dragoons",
         "company": "2nd",
         "deaths": 62,
         "battles": 3,
         "size": 849,
         "veterans": 48,
         "readiness": 3,
         "armored": 1,
         "deserters": 31,
         "_deepnote_index_column": "Washington"
        },
        {
         "regiment": "Scouts",
         "company": "1st",
         "deaths": 62,
         "battles": 4,
         "size": 973,
         "veterans": 48,
         "readiness": 2,
         "armored": 0,
         "deserters": 2,
         "_deepnote_index_column": "Oregon"
        },
        {
         "regiment": "Scouts",
         "company": "1st",
         "deaths": 73,
         "battles": 7,
         "size": 1005,
         "veterans": 435,
         "readiness": 1,
         "armored": 0,
         "deserters": 3,
         "_deepnote_index_column": "Wyoming"
        }
       ],
       "rows_bottom": null
      },
      "text/plain": "              regiment company  deaths  battles  size  veterans  readiness  \\\norigin                                                                       \nArizona     Nighthawks     1st     523        5  1045         1          1   \nCalifornia  Nighthawks     1st      52       42   957         5          2   \nFlorida     Nighthawks     2nd     616        2  1400        26          3   \nIowa          Dragoons     1st     234        7  1006        37          1   \nAlaska        Dragoons     2nd     523        8   987       949          2   \nWashington    Dragoons     2nd      62        3   849        48          3   \nOregon          Scouts     1st      62        4   973        48          2   \nWyoming         Scouts     1st      73        7  1005       435          1   \n\n            armored  deserters  \norigin                          \nArizona           1          4  \nCalifornia        0         24  \nFlorida           1          2  \nIowa              1          4  \nAlaska            0         24  \nWashington        1         31  \nOregon            0          2  \nWyoming           0          3  ",
      "text/html": "<div>\n<style scoped>\n    .dataframe tbody tr th:only-of-type {\n        vertical-align: middle;\n    }\n\n    .dataframe tbody tr th {\n        vertical-align: top;\n    }\n\n    .dataframe thead th {\n        text-align: right;\n    }\n</style>\n<table border=\"1\" class=\"dataframe\">\n  <thead>\n    <tr style=\"text-align: right;\">\n      <th></th>\n      <th>regiment</th>\n      <th>company</th>\n      <th>deaths</th>\n      <th>battles</th>\n      <th>size</th>\n      <th>veterans</th>\n      <th>readiness</th>\n      <th>armored</th>\n      <th>deserters</th>\n    </tr>\n    <tr>\n      <th>origin</th>\n      <th></th>\n      <th></th>\n      <th></th>\n      <th></th>\n      <th></th>\n      <th></th>\n      <th></th>\n      <th></th>\n      <th></th>\n    </tr>\n  </thead>\n  <tbody>\n    <tr>\n      <th>Arizona</th>\n      <td>Nighthawks</td>\n      <td>1st</td>\n      <td>523</td>\n      <td>5</td>\n      <td>1045</td>\n      <td>1</td>\n      <td>1</td>\n      <td>1</td>\n      <td>4</td>\n    </tr>\n    <tr>\n      <th>California</th>\n      <td>Nighthawks</td>\n      <td>1st</td>\n      <td>52</td>\n      <td>42</td>\n      <td>957</td>\n      <td>5</td>\n      <td>2</td>\n      <td>0</td>\n      <td>24</td>\n    </tr>\n    <tr>\n      <th>Florida</th>\n      <td>Nighthawks</td>\n      <td>2nd</td>\n      <td>616</td>\n      <td>2</td>\n      <td>1400</td>\n      <td>26</td>\n      <td>3</td>\n      <td>1</td>\n      <td>2</td>\n    </tr>\n    <tr>\n      <th>Iowa</th>\n      <td>Dragoons</td>\n      <td>1st</td>\n      <td>234</td>\n      <td>7</td>\n      <td>1006</td>\n      <td>37</td>\n      <td>1</td>\n      <td>1</td>\n      <td>4</td>\n    </tr>\n    <tr>\n      <th>Alaska</th>\n      <td>Dragoons</td>\n      <td>2nd</td>\n      <td>523</td>\n      <td>8</td>\n      <td>987</td>\n      <td>949</td>\n      <td>2</td>\n      <td>0</td>\n      <td>24</td>\n    </tr>\n    <tr>\n      <th>Washington</th>\n      <td>Dragoons</td>\n      <td>2nd</td>\n      <td>62</td>\n      <td>3</td>\n      <td>849</td>\n      <td>48</td>\n      <td>3</td>\n      <td>1</td>\n      <td>31</td>\n    </tr>\n    <tr>\n      <th>Oregon</th>\n      <td>Scouts</td>\n      <td>1st</td>\n      <td>62</td>\n      <td>4</td>\n      <td>973</td>\n      <td>48</td>\n      <td>2</td>\n      <td>0</td>\n      <td>2</td>\n    </tr>\n    <tr>\n      <th>Wyoming</th>\n      <td>Scouts</td>\n      <td>1st</td>\n      <td>73</td>\n      <td>7</td>\n      <td>1005</td>\n      <td>435</td>\n      <td>1</td>\n      <td>0</td>\n      <td>3</td>\n    </tr>\n  </tbody>\n</table>\n</div>"
     },
     "metadata": {}
    }
   ],
   "execution_count": null
  },
  {
   "cell_type": "markdown",
   "source": "### Step 14. Select rows where df.deaths is greater than 500 or less than 50",
   "metadata": {
    "id": "7-RQDkdU67QF",
    "cell_id": "00029-36685676-79f5-45ef-8732-47d754c2efcf",
    "deepnote_cell_type": "markdown"
   }
  },
  {
   "cell_type": "code",
   "metadata": {
    "colab": {
     "base_uri": "https://localhost:8080/",
     "height": 284
    },
    "id": "GiFCKYNz67QG",
    "executionInfo": {
     "status": "ok",
     "timestamp": 1623295199274,
     "user_tz": 240,
     "elapsed": 12,
     "user": {
      "displayName": "Andrés Sánchez",
      "photoUrl": "https://lh3.googleusercontent.com/a-/AOh14Gg69bZMv30ckb-T1MJy0nSxWIHUaP0p2uP6MYBuvQ=s64",
      "userId": "07985253921366566280"
     }
    },
    "outputId": "364fe330-93ef-4e98-f0b4-9c6cf4fda3b0",
    "cell_id": "00030-ba0d2d5c-1a54-405c-8a6a-abf2fd9c02b1",
    "deepnote_to_be_reexecuted": false,
    "source_hash": "fa39d983",
    "execution_start": 1630097914148,
    "execution_millis": 17,
    "deepnote_cell_type": "code"
   },
   "source": "army.loc[(army['deaths'] > 500) | (army['deaths'] < 50)]",
   "outputs": [
    {
     "output_type": "execute_result",
     "execution_count": 16,
     "data": {
      "application/vnd.deepnote.dataframe.v2+json": {
       "row_count": 7,
       "column_count": 9,
       "columns": [
        {
         "name": "regiment",
         "dtype": "object",
         "stats": {
          "unique_count": 3,
          "nan_count": 0,
          "categories": [
           {
            "name": "Nighthawks",
            "count": 3
           },
           {
            "name": "Dragoons",
            "count": 2
           },
           {
            "name": "Scouts",
            "count": 2
           }
          ]
         }
        },
        {
         "name": "company",
         "dtype": "object",
         "stats": {
          "unique_count": 2,
          "nan_count": 0,
          "categories": [
           {
            "name": "2nd",
            "count": 5
           },
           {
            "name": "1st",
            "count": 2
           }
          ]
         }
        },
        {
         "name": "deaths",
         "dtype": "int64",
         "stats": {
          "unique_count": 6,
          "nan_count": 0,
          "min": "25",
          "max": "616",
          "histogram": [
           {
            "bin_start": 25,
            "bin_end": 84.1,
            "count": 4
           },
           {
            "bin_start": 84.1,
            "bin_end": 143.2,
            "count": 0
           },
           {
            "bin_start": 143.2,
            "bin_end": 202.3,
            "count": 0
           },
           {
            "bin_start": 202.3,
            "bin_end": 261.4,
            "count": 0
           },
           {
            "bin_start": 261.4,
            "bin_end": 320.5,
            "count": 0
           },
           {
            "bin_start": 320.5,
            "bin_end": 379.6,
            "count": 0
           },
           {
            "bin_start": 379.6,
            "bin_end": 438.7,
            "count": 0
           },
           {
            "bin_start": 438.7,
            "bin_end": 497.8,
            "count": 0
           },
           {
            "bin_start": 497.8,
            "bin_end": 556.9,
            "count": 2
           },
           {
            "bin_start": 556.9,
            "bin_end": 616,
            "count": 1
           }
          ]
         }
        },
        {
         "name": "battles",
         "dtype": "int64",
         "stats": {
          "unique_count": 5,
          "nan_count": 0,
          "min": "2",
          "max": "9",
          "histogram": [
           {
            "bin_start": 2,
            "bin_end": 2.7,
            "count": 2
           },
           {
            "bin_start": 2.7,
            "bin_end": 3.4,
            "count": 0
           },
           {
            "bin_start": 3.4,
            "bin_end": 4.1,
            "count": 1
           },
           {
            "bin_start": 4.1,
            "bin_end": 4.8,
            "count": 0
           },
           {
            "bin_start": 4.8,
            "bin_end": 5.5,
            "count": 1
           },
           {
            "bin_start": 5.5,
            "bin_end": 6.199999999999999,
            "count": 0
           },
           {
            "bin_start": 6.199999999999999,
            "bin_end": 6.8999999999999995,
            "count": 0
           },
           {
            "bin_start": 6.8999999999999995,
            "bin_end": 7.6,
            "count": 0
           },
           {
            "bin_start": 7.6,
            "bin_end": 8.3,
            "count": 2
           },
           {
            "bin_start": 8.3,
            "bin_end": 9,
            "count": 1
           }
          ]
         }
        },
        {
         "name": "size",
         "dtype": "int64",
         "stats": {
          "unique_count": 6,
          "nan_count": 0,
          "min": "987",
          "max": "1592",
          "histogram": [
           {
            "bin_start": 987,
            "bin_end": 1047.5,
            "count": 2
           },
           {
            "bin_start": 1047.5,
            "bin_end": 1108,
            "count": 2
           },
           {
            "bin_start": 1108,
            "bin_end": 1168.5,
            "count": 0
           },
           {
            "bin_start": 1168.5,
            "bin_end": 1229,
            "count": 0
           },
           {
            "bin_start": 1229,
            "bin_end": 1289.5,
            "count": 0
           },
           {
            "bin_start": 1289.5,
            "bin_end": 1350,
            "count": 0
           },
           {
            "bin_start": 1350,
            "bin_end": 1410.5,
            "count": 1
           },
           {
            "bin_start": 1410.5,
            "bin_end": 1471,
            "count": 0
           },
           {
            "bin_start": 1471,
            "bin_end": 1531.5,
            "count": 1
           },
           {
            "bin_start": 1531.5,
            "bin_end": 1592,
            "count": 1
           }
          ]
         }
        },
        {
         "name": "veterans",
         "dtype": "int64",
         "stats": {
          "unique_count": 7,
          "nan_count": 0,
          "min": "1",
          "max": "949",
          "histogram": [
           {
            "bin_start": 1,
            "bin_end": 95.8,
            "count": 5
           },
           {
            "bin_start": 95.8,
            "bin_end": 190.6,
            "count": 0
           },
           {
            "bin_start": 190.6,
            "bin_end": 285.4,
            "count": 0
           },
           {
            "bin_start": 285.4,
            "bin_end": 380.2,
            "count": 1
           },
           {
            "bin_start": 380.2,
            "bin_end": 475,
            "count": 0
           },
           {
            "bin_start": 475,
            "bin_end": 569.8,
            "count": 0
           },
           {
            "bin_start": 569.8,
            "bin_end": 664.6,
            "count": 0
           },
           {
            "bin_start": 664.6,
            "bin_end": 759.4,
            "count": 0
           },
           {
            "bin_start": 759.4,
            "bin_end": 854.1999999999999,
            "count": 0
           },
           {
            "bin_start": 854.1999999999999,
            "bin_end": 949,
            "count": 1
           }
          ]
         }
        },
        {
         "name": "readiness",
         "dtype": "int64",
         "stats": {
          "unique_count": 3,
          "nan_count": 0,
          "min": "1",
          "max": "3",
          "histogram": [
           {
            "bin_start": 1,
            "bin_end": 1.2,
            "count": 1
           },
           {
            "bin_start": 1.2,
            "bin_end": 1.4,
            "count": 0
           },
           {
            "bin_start": 1.4,
            "bin_end": 1.6,
            "count": 0
           },
           {
            "bin_start": 1.6,
            "bin_end": 1.8,
            "count": 0
           },
           {
            "bin_start": 1.8,
            "bin_end": 2,
            "count": 0
           },
           {
            "bin_start": 2,
            "bin_end": 2.2,
            "count": 3
           },
           {
            "bin_start": 2.2,
            "bin_end": 2.4000000000000004,
            "count": 0
           },
           {
            "bin_start": 2.4000000000000004,
            "bin_end": 2.6,
            "count": 0
           },
           {
            "bin_start": 2.6,
            "bin_end": 2.8,
            "count": 0
           },
           {
            "bin_start": 2.8,
            "bin_end": 3,
            "count": 3
           }
          ]
         }
        },
        {
         "name": "armored",
         "dtype": "int64",
         "stats": {
          "unique_count": 2,
          "nan_count": 0,
          "min": "0",
          "max": "1",
          "histogram": [
           {
            "bin_start": 0,
            "bin_end": 0.1,
            "count": 2
           },
           {
            "bin_start": 0.1,
            "bin_end": 0.2,
            "count": 0
           },
           {
            "bin_start": 0.2,
            "bin_end": 0.30000000000000004,
            "count": 0
           },
           {
            "bin_start": 0.30000000000000004,
            "bin_end": 0.4,
            "count": 0
           },
           {
            "bin_start": 0.4,
            "bin_end": 0.5,
            "count": 0
           },
           {
            "bin_start": 0.5,
            "bin_end": 0.6000000000000001,
            "count": 0
           },
           {
            "bin_start": 0.6000000000000001,
            "bin_end": 0.7000000000000001,
            "count": 0
           },
           {
            "bin_start": 0.7000000000000001,
            "bin_end": 0.8,
            "count": 0
           },
           {
            "bin_start": 0.8,
            "bin_end": 0.9,
            "count": 0
           },
           {
            "bin_start": 0.9,
            "bin_end": 1,
            "count": 5
           }
          ]
         }
        },
        {
         "name": "deserters",
         "dtype": "int64",
         "stats": {
          "unique_count": 5,
          "nan_count": 0,
          "min": "2",
          "max": "31",
          "histogram": [
           {
            "bin_start": 2,
            "bin_end": 4.9,
            "count": 5
           },
           {
            "bin_start": 4.9,
            "bin_end": 7.8,
            "count": 0
           },
           {
            "bin_start": 7.8,
            "bin_end": 10.7,
            "count": 0
           },
           {
            "bin_start": 10.7,
            "bin_end": 13.6,
            "count": 0
           },
           {
            "bin_start": 13.6,
            "bin_end": 16.5,
            "count": 0
           },
           {
            "bin_start": 16.5,
            "bin_end": 19.4,
            "count": 0
           },
           {
            "bin_start": 19.4,
            "bin_end": 22.3,
            "count": 0
           },
           {
            "bin_start": 22.3,
            "bin_end": 25.2,
            "count": 1
           },
           {
            "bin_start": 25.2,
            "bin_end": 28.099999999999998,
            "count": 0
           },
           {
            "bin_start": 28.099999999999998,
            "bin_end": 31,
            "count": 1
           }
          ]
         }
        },
        {
         "name": "_deepnote_index_column",
         "dtype": "object"
        }
       ],
       "rows_top": [
        {
         "regiment": "Nighthawks",
         "company": "1st",
         "deaths": 523,
         "battles": 5,
         "size": 1045,
         "veterans": 1,
         "readiness": 1,
         "armored": 1,
         "deserters": 4,
         "_deepnote_index_column": "Arizona"
        },
        {
         "regiment": "Nighthawks",
         "company": "2nd",
         "deaths": 25,
         "battles": 2,
         "size": 1099,
         "veterans": 62,
         "readiness": 3,
         "armored": 1,
         "deserters": 31,
         "_deepnote_index_column": "Texas"
        },
        {
         "regiment": "Nighthawks",
         "company": "2nd",
         "deaths": 616,
         "battles": 2,
         "size": 1400,
         "veterans": 26,
         "readiness": 3,
         "armored": 1,
         "deserters": 2,
         "_deepnote_index_column": "Florida"
        },
        {
         "regiment": "Dragoons",
         "company": "1st",
         "deaths": 43,
         "battles": 4,
         "size": 1592,
         "veterans": 73,
         "readiness": 2,
         "armored": 0,
         "deserters": 3,
         "_deepnote_index_column": "Maine"
        },
        {
         "regiment": "Dragoons",
         "company": "2nd",
         "deaths": 523,
         "battles": 8,
         "size": 987,
         "veterans": 949,
         "readiness": 2,
         "armored": 0,
         "deserters": 24,
         "_deepnote_index_column": "Alaska"
        },
        {
         "regiment": "Scouts",
         "company": "2nd",
         "deaths": 37,
         "battles": 8,
         "size": 1099,
         "veterans": 63,
         "readiness": 2,
         "armored": 1,
         "deserters": 2,
         "_deepnote_index_column": "Louisana"
        },
        {
         "regiment": "Scouts",
         "company": "2nd",
         "deaths": 35,
         "battles": 9,
         "size": 1523,
         "veterans": 345,
         "readiness": 3,
         "armored": 1,
         "deserters": 3,
         "_deepnote_index_column": "Georgia"
        }
       ],
       "rows_bottom": null
      },
      "text/plain": "            regiment company  deaths  battles  size  veterans  readiness  \\\norigin                                                                     \nArizona   Nighthawks     1st     523        5  1045         1          1   \nTexas     Nighthawks     2nd      25        2  1099        62          3   \nFlorida   Nighthawks     2nd     616        2  1400        26          3   \nMaine       Dragoons     1st      43        4  1592        73          2   \nAlaska      Dragoons     2nd     523        8   987       949          2   \nLouisana      Scouts     2nd      37        8  1099        63          2   \nGeorgia       Scouts     2nd      35        9  1523       345          3   \n\n          armored  deserters  \norigin                        \nArizona         1          4  \nTexas           1         31  \nFlorida         1          2  \nMaine           0          3  \nAlaska          0         24  \nLouisana        1          2  \nGeorgia         1          3  ",
      "text/html": "<div>\n<style scoped>\n    .dataframe tbody tr th:only-of-type {\n        vertical-align: middle;\n    }\n\n    .dataframe tbody tr th {\n        vertical-align: top;\n    }\n\n    .dataframe thead th {\n        text-align: right;\n    }\n</style>\n<table border=\"1\" class=\"dataframe\">\n  <thead>\n    <tr style=\"text-align: right;\">\n      <th></th>\n      <th>regiment</th>\n      <th>company</th>\n      <th>deaths</th>\n      <th>battles</th>\n      <th>size</th>\n      <th>veterans</th>\n      <th>readiness</th>\n      <th>armored</th>\n      <th>deserters</th>\n    </tr>\n    <tr>\n      <th>origin</th>\n      <th></th>\n      <th></th>\n      <th></th>\n      <th></th>\n      <th></th>\n      <th></th>\n      <th></th>\n      <th></th>\n      <th></th>\n    </tr>\n  </thead>\n  <tbody>\n    <tr>\n      <th>Arizona</th>\n      <td>Nighthawks</td>\n      <td>1st</td>\n      <td>523</td>\n      <td>5</td>\n      <td>1045</td>\n      <td>1</td>\n      <td>1</td>\n      <td>1</td>\n      <td>4</td>\n    </tr>\n    <tr>\n      <th>Texas</th>\n      <td>Nighthawks</td>\n      <td>2nd</td>\n      <td>25</td>\n      <td>2</td>\n      <td>1099</td>\n      <td>62</td>\n      <td>3</td>\n      <td>1</td>\n      <td>31</td>\n    </tr>\n    <tr>\n      <th>Florida</th>\n      <td>Nighthawks</td>\n      <td>2nd</td>\n      <td>616</td>\n      <td>2</td>\n      <td>1400</td>\n      <td>26</td>\n      <td>3</td>\n      <td>1</td>\n      <td>2</td>\n    </tr>\n    <tr>\n      <th>Maine</th>\n      <td>Dragoons</td>\n      <td>1st</td>\n      <td>43</td>\n      <td>4</td>\n      <td>1592</td>\n      <td>73</td>\n      <td>2</td>\n      <td>0</td>\n      <td>3</td>\n    </tr>\n    <tr>\n      <th>Alaska</th>\n      <td>Dragoons</td>\n      <td>2nd</td>\n      <td>523</td>\n      <td>8</td>\n      <td>987</td>\n      <td>949</td>\n      <td>2</td>\n      <td>0</td>\n      <td>24</td>\n    </tr>\n    <tr>\n      <th>Louisana</th>\n      <td>Scouts</td>\n      <td>2nd</td>\n      <td>37</td>\n      <td>8</td>\n      <td>1099</td>\n      <td>63</td>\n      <td>2</td>\n      <td>1</td>\n      <td>2</td>\n    </tr>\n    <tr>\n      <th>Georgia</th>\n      <td>Scouts</td>\n      <td>2nd</td>\n      <td>35</td>\n      <td>9</td>\n      <td>1523</td>\n      <td>345</td>\n      <td>3</td>\n      <td>1</td>\n      <td>3</td>\n    </tr>\n  </tbody>\n</table>\n</div>"
     },
     "metadata": {}
    }
   ],
   "execution_count": null
  },
  {
   "cell_type": "markdown",
   "source": "### Step 15. Select all the regiments not named \"Dragoons\"",
   "metadata": {
    "id": "FaCtzr5O67QG",
    "cell_id": "00031-4e5d39db-f8d3-4524-83eb-745d2616103d",
    "deepnote_cell_type": "markdown"
   }
  },
  {
   "cell_type": "code",
   "metadata": {
    "colab": {
     "base_uri": "https://localhost:8080/",
     "height": 314
    },
    "id": "_34GqKK867QG",
    "executionInfo": {
     "status": "ok",
     "timestamp": 1623295199274,
     "user_tz": 240,
     "elapsed": 12,
     "user": {
      "displayName": "Andrés Sánchez",
      "photoUrl": "https://lh3.googleusercontent.com/a-/AOh14Gg69bZMv30ckb-T1MJy0nSxWIHUaP0p2uP6MYBuvQ=s64",
      "userId": "07985253921366566280"
     }
    },
    "outputId": "2ed08769-e2b4-4971-bbde-01d50fbbf56d",
    "cell_id": "00032-b6c91e5c-6979-4a72-9aaf-f3745342aa86",
    "deepnote_to_be_reexecuted": false,
    "source_hash": "bce64e3",
    "execution_start": 1630097914187,
    "execution_millis": 3,
    "deepnote_cell_type": "code"
   },
   "source": "army.loc[army['regiment'] != 'Dragoons']",
   "outputs": [
    {
     "output_type": "execute_result",
     "execution_count": 17,
     "data": {
      "application/vnd.deepnote.dataframe.v2+json": {
       "row_count": 8,
       "column_count": 9,
       "columns": [
        {
         "name": "regiment",
         "dtype": "object",
         "stats": {
          "unique_count": 2,
          "nan_count": 0,
          "categories": [
           {
            "name": "Nighthawks",
            "count": 4
           },
           {
            "name": "Scouts",
            "count": 4
           }
          ]
         }
        },
        {
         "name": "company",
         "dtype": "object",
         "stats": {
          "unique_count": 2,
          "nan_count": 0,
          "categories": [
           {
            "name": "1st",
            "count": 4
           },
           {
            "name": "2nd",
            "count": 4
           }
          ]
         }
        },
        {
         "name": "deaths",
         "dtype": "int64",
         "stats": {
          "unique_count": 8,
          "nan_count": 0,
          "min": "25",
          "max": "616",
          "histogram": [
           {
            "bin_start": 25,
            "bin_end": 84.1,
            "count": 6
           },
           {
            "bin_start": 84.1,
            "bin_end": 143.2,
            "count": 0
           },
           {
            "bin_start": 143.2,
            "bin_end": 202.3,
            "count": 0
           },
           {
            "bin_start": 202.3,
            "bin_end": 261.4,
            "count": 0
           },
           {
            "bin_start": 261.4,
            "bin_end": 320.5,
            "count": 0
           },
           {
            "bin_start": 320.5,
            "bin_end": 379.6,
            "count": 0
           },
           {
            "bin_start": 379.6,
            "bin_end": 438.7,
            "count": 0
           },
           {
            "bin_start": 438.7,
            "bin_end": 497.8,
            "count": 0
           },
           {
            "bin_start": 497.8,
            "bin_end": 556.9,
            "count": 1
           },
           {
            "bin_start": 556.9,
            "bin_end": 616,
            "count": 1
           }
          ]
         }
        },
        {
         "name": "battles",
         "dtype": "int64",
         "stats": {
          "unique_count": 7,
          "nan_count": 0,
          "min": "2",
          "max": "42",
          "histogram": [
           {
            "bin_start": 2,
            "bin_end": 6,
            "count": 4
           },
           {
            "bin_start": 6,
            "bin_end": 10,
            "count": 3
           },
           {
            "bin_start": 10,
            "bin_end": 14,
            "count": 0
           },
           {
            "bin_start": 14,
            "bin_end": 18,
            "count": 0
           },
           {
            "bin_start": 18,
            "bin_end": 22,
            "count": 0
           },
           {
            "bin_start": 22,
            "bin_end": 26,
            "count": 0
           },
           {
            "bin_start": 26,
            "bin_end": 30,
            "count": 0
           },
           {
            "bin_start": 30,
            "bin_end": 34,
            "count": 0
           },
           {
            "bin_start": 34,
            "bin_end": 38,
            "count": 0
           },
           {
            "bin_start": 38,
            "bin_end": 42,
            "count": 1
           }
          ]
         }
        },
        {
         "name": "size",
         "dtype": "int64",
         "stats": {
          "unique_count": 7,
          "nan_count": 0,
          "min": "957",
          "max": "1523",
          "histogram": [
           {
            "bin_start": 957,
            "bin_end": 1013.6,
            "count": 3
           },
           {
            "bin_start": 1013.6,
            "bin_end": 1070.2,
            "count": 1
           },
           {
            "bin_start": 1070.2,
            "bin_end": 1126.8,
            "count": 2
           },
           {
            "bin_start": 1126.8,
            "bin_end": 1183.4,
            "count": 0
           },
           {
            "bin_start": 1183.4,
            "bin_end": 1240,
            "count": 0
           },
           {
            "bin_start": 1240,
            "bin_end": 1296.6,
            "count": 0
           },
           {
            "bin_start": 1296.6,
            "bin_end": 1353.2,
            "count": 0
           },
           {
            "bin_start": 1353.2,
            "bin_end": 1409.8,
            "count": 1
           },
           {
            "bin_start": 1409.8,
            "bin_end": 1466.4,
            "count": 0
           },
           {
            "bin_start": 1466.4,
            "bin_end": 1523,
            "count": 1
           }
          ]
         }
        },
        {
         "name": "veterans",
         "dtype": "int64",
         "stats": {
          "unique_count": 8,
          "nan_count": 0,
          "min": "1",
          "max": "435",
          "histogram": [
           {
            "bin_start": 1,
            "bin_end": 44.4,
            "count": 3
           },
           {
            "bin_start": 44.4,
            "bin_end": 87.8,
            "count": 3
           },
           {
            "bin_start": 87.8,
            "bin_end": 131.2,
            "count": 0
           },
           {
            "bin_start": 131.2,
            "bin_end": 174.6,
            "count": 0
           },
           {
            "bin_start": 174.6,
            "bin_end": 218,
            "count": 0
           },
           {
            "bin_start": 218,
            "bin_end": 261.4,
            "count": 0
           },
           {
            "bin_start": 261.4,
            "bin_end": 304.8,
            "count": 0
           },
           {
            "bin_start": 304.8,
            "bin_end": 348.2,
            "count": 1
           },
           {
            "bin_start": 348.2,
            "bin_end": 391.59999999999997,
            "count": 0
           },
           {
            "bin_start": 391.59999999999997,
            "bin_end": 435,
            "count": 1
           }
          ]
         }
        },
        {
         "name": "readiness",
         "dtype": "int64",
         "stats": {
          "unique_count": 3,
          "nan_count": 0,
          "min": "1",
          "max": "3",
          "histogram": [
           {
            "bin_start": 1,
            "bin_end": 1.2,
            "count": 2
           },
           {
            "bin_start": 1.2,
            "bin_end": 1.4,
            "count": 0
           },
           {
            "bin_start": 1.4,
            "bin_end": 1.6,
            "count": 0
           },
           {
            "bin_start": 1.6,
            "bin_end": 1.8,
            "count": 0
           },
           {
            "bin_start": 1.8,
            "bin_end": 2,
            "count": 0
           },
           {
            "bin_start": 2,
            "bin_end": 2.2,
            "count": 3
           },
           {
            "bin_start": 2.2,
            "bin_end": 2.4000000000000004,
            "count": 0
           },
           {
            "bin_start": 2.4000000000000004,
            "bin_end": 2.6,
            "count": 0
           },
           {
            "bin_start": 2.6,
            "bin_end": 2.8,
            "count": 0
           },
           {
            "bin_start": 2.8,
            "bin_end": 3,
            "count": 3
           }
          ]
         }
        },
        {
         "name": "armored",
         "dtype": "int64",
         "stats": {
          "unique_count": 2,
          "nan_count": 0,
          "min": "0",
          "max": "1",
          "histogram": [
           {
            "bin_start": 0,
            "bin_end": 0.1,
            "count": 3
           },
           {
            "bin_start": 0.1,
            "bin_end": 0.2,
            "count": 0
           },
           {
            "bin_start": 0.2,
            "bin_end": 0.30000000000000004,
            "count": 0
           },
           {
            "bin_start": 0.30000000000000004,
            "bin_end": 0.4,
            "count": 0
           },
           {
            "bin_start": 0.4,
            "bin_end": 0.5,
            "count": 0
           },
           {
            "bin_start": 0.5,
            "bin_end": 0.6000000000000001,
            "count": 0
           },
           {
            "bin_start": 0.6000000000000001,
            "bin_end": 0.7000000000000001,
            "count": 0
           },
           {
            "bin_start": 0.7000000000000001,
            "bin_end": 0.8,
            "count": 0
           },
           {
            "bin_start": 0.8,
            "bin_end": 0.9,
            "count": 0
           },
           {
            "bin_start": 0.9,
            "bin_end": 1,
            "count": 5
           }
          ]
         }
        },
        {
         "name": "deserters",
         "dtype": "int64",
         "stats": {
          "unique_count": 5,
          "nan_count": 0,
          "min": "2",
          "max": "31",
          "histogram": [
           {
            "bin_start": 2,
            "bin_end": 4.9,
            "count": 6
           },
           {
            "bin_start": 4.9,
            "bin_end": 7.8,
            "count": 0
           },
           {
            "bin_start": 7.8,
            "bin_end": 10.7,
            "count": 0
           },
           {
            "bin_start": 10.7,
            "bin_end": 13.6,
            "count": 0
           },
           {
            "bin_start": 13.6,
            "bin_end": 16.5,
            "count": 0
           },
           {
            "bin_start": 16.5,
            "bin_end": 19.4,
            "count": 0
           },
           {
            "bin_start": 19.4,
            "bin_end": 22.3,
            "count": 0
           },
           {
            "bin_start": 22.3,
            "bin_end": 25.2,
            "count": 1
           },
           {
            "bin_start": 25.2,
            "bin_end": 28.099999999999998,
            "count": 0
           },
           {
            "bin_start": 28.099999999999998,
            "bin_end": 31,
            "count": 1
           }
          ]
         }
        },
        {
         "name": "_deepnote_index_column",
         "dtype": "object"
        }
       ],
       "rows_top": [
        {
         "regiment": "Nighthawks",
         "company": "1st",
         "deaths": 523,
         "battles": 5,
         "size": 1045,
         "veterans": 1,
         "readiness": 1,
         "armored": 1,
         "deserters": 4,
         "_deepnote_index_column": "Arizona"
        },
        {
         "regiment": "Nighthawks",
         "company": "1st",
         "deaths": 52,
         "battles": 42,
         "size": 957,
         "veterans": 5,
         "readiness": 2,
         "armored": 0,
         "deserters": 24,
         "_deepnote_index_column": "California"
        },
        {
         "regiment": "Nighthawks",
         "company": "2nd",
         "deaths": 25,
         "battles": 2,
         "size": 1099,
         "veterans": 62,
         "readiness": 3,
         "armored": 1,
         "deserters": 31,
         "_deepnote_index_column": "Texas"
        },
        {
         "regiment": "Nighthawks",
         "company": "2nd",
         "deaths": 616,
         "battles": 2,
         "size": 1400,
         "veterans": 26,
         "readiness": 3,
         "armored": 1,
         "deserters": 2,
         "_deepnote_index_column": "Florida"
        },
        {
         "regiment": "Scouts",
         "company": "1st",
         "deaths": 62,
         "battles": 4,
         "size": 973,
         "veterans": 48,
         "readiness": 2,
         "armored": 0,
         "deserters": 2,
         "_deepnote_index_column": "Oregon"
        },
        {
         "regiment": "Scouts",
         "company": "1st",
         "deaths": 73,
         "battles": 7,
         "size": 1005,
         "veterans": 435,
         "readiness": 1,
         "armored": 0,
         "deserters": 3,
         "_deepnote_index_column": "Wyoming"
        },
        {
         "regiment": "Scouts",
         "company": "2nd",
         "deaths": 37,
         "battles": 8,
         "size": 1099,
         "veterans": 63,
         "readiness": 2,
         "armored": 1,
         "deserters": 2,
         "_deepnote_index_column": "Louisana"
        },
        {
         "regiment": "Scouts",
         "company": "2nd",
         "deaths": 35,
         "battles": 9,
         "size": 1523,
         "veterans": 345,
         "readiness": 3,
         "armored": 1,
         "deserters": 3,
         "_deepnote_index_column": "Georgia"
        }
       ],
       "rows_bottom": null
      },
      "text/plain": "              regiment company  deaths  battles  size  veterans  readiness  \\\norigin                                                                       \nArizona     Nighthawks     1st     523        5  1045         1          1   \nCalifornia  Nighthawks     1st      52       42   957         5          2   \nTexas       Nighthawks     2nd      25        2  1099        62          3   \nFlorida     Nighthawks     2nd     616        2  1400        26          3   \nOregon          Scouts     1st      62        4   973        48          2   \nWyoming         Scouts     1st      73        7  1005       435          1   \nLouisana        Scouts     2nd      37        8  1099        63          2   \nGeorgia         Scouts     2nd      35        9  1523       345          3   \n\n            armored  deserters  \norigin                          \nArizona           1          4  \nCalifornia        0         24  \nTexas             1         31  \nFlorida           1          2  \nOregon            0          2  \nWyoming           0          3  \nLouisana          1          2  \nGeorgia           1          3  ",
      "text/html": "<div>\n<style scoped>\n    .dataframe tbody tr th:only-of-type {\n        vertical-align: middle;\n    }\n\n    .dataframe tbody tr th {\n        vertical-align: top;\n    }\n\n    .dataframe thead th {\n        text-align: right;\n    }\n</style>\n<table border=\"1\" class=\"dataframe\">\n  <thead>\n    <tr style=\"text-align: right;\">\n      <th></th>\n      <th>regiment</th>\n      <th>company</th>\n      <th>deaths</th>\n      <th>battles</th>\n      <th>size</th>\n      <th>veterans</th>\n      <th>readiness</th>\n      <th>armored</th>\n      <th>deserters</th>\n    </tr>\n    <tr>\n      <th>origin</th>\n      <th></th>\n      <th></th>\n      <th></th>\n      <th></th>\n      <th></th>\n      <th></th>\n      <th></th>\n      <th></th>\n      <th></th>\n    </tr>\n  </thead>\n  <tbody>\n    <tr>\n      <th>Arizona</th>\n      <td>Nighthawks</td>\n      <td>1st</td>\n      <td>523</td>\n      <td>5</td>\n      <td>1045</td>\n      <td>1</td>\n      <td>1</td>\n      <td>1</td>\n      <td>4</td>\n    </tr>\n    <tr>\n      <th>California</th>\n      <td>Nighthawks</td>\n      <td>1st</td>\n      <td>52</td>\n      <td>42</td>\n      <td>957</td>\n      <td>5</td>\n      <td>2</td>\n      <td>0</td>\n      <td>24</td>\n    </tr>\n    <tr>\n      <th>Texas</th>\n      <td>Nighthawks</td>\n      <td>2nd</td>\n      <td>25</td>\n      <td>2</td>\n      <td>1099</td>\n      <td>62</td>\n      <td>3</td>\n      <td>1</td>\n      <td>31</td>\n    </tr>\n    <tr>\n      <th>Florida</th>\n      <td>Nighthawks</td>\n      <td>2nd</td>\n      <td>616</td>\n      <td>2</td>\n      <td>1400</td>\n      <td>26</td>\n      <td>3</td>\n      <td>1</td>\n      <td>2</td>\n    </tr>\n    <tr>\n      <th>Oregon</th>\n      <td>Scouts</td>\n      <td>1st</td>\n      <td>62</td>\n      <td>4</td>\n      <td>973</td>\n      <td>48</td>\n      <td>2</td>\n      <td>0</td>\n      <td>2</td>\n    </tr>\n    <tr>\n      <th>Wyoming</th>\n      <td>Scouts</td>\n      <td>1st</td>\n      <td>73</td>\n      <td>7</td>\n      <td>1005</td>\n      <td>435</td>\n      <td>1</td>\n      <td>0</td>\n      <td>3</td>\n    </tr>\n    <tr>\n      <th>Louisana</th>\n      <td>Scouts</td>\n      <td>2nd</td>\n      <td>37</td>\n      <td>8</td>\n      <td>1099</td>\n      <td>63</td>\n      <td>2</td>\n      <td>1</td>\n      <td>2</td>\n    </tr>\n    <tr>\n      <th>Georgia</th>\n      <td>Scouts</td>\n      <td>2nd</td>\n      <td>35</td>\n      <td>9</td>\n      <td>1523</td>\n      <td>345</td>\n      <td>3</td>\n      <td>1</td>\n      <td>3</td>\n    </tr>\n  </tbody>\n</table>\n</div>"
     },
     "metadata": {}
    }
   ],
   "execution_count": null
  },
  {
   "cell_type": "markdown",
   "source": "### Step 16. Select the rows called Texas and Arizona",
   "metadata": {
    "id": "U9ZubFfs67QG",
    "cell_id": "00033-5181382d-3088-415e-9013-87fa4b8a0a71",
    "deepnote_cell_type": "markdown"
   }
  },
  {
   "cell_type": "code",
   "metadata": {
    "colab": {
     "base_uri": "https://localhost:8080/",
     "height": 136
    },
    "id": "Jl9YP9Yu67QG",
    "executionInfo": {
     "status": "ok",
     "timestamp": 1623295317302,
     "user_tz": 240,
     "elapsed": 187,
     "user": {
      "displayName": "Andrés Sánchez",
      "photoUrl": "https://lh3.googleusercontent.com/a-/AOh14Gg69bZMv30ckb-T1MJy0nSxWIHUaP0p2uP6MYBuvQ=s64",
      "userId": "07985253921366566280"
     }
    },
    "outputId": "f5b6c8e5-e3a7-47e6-c428-ae724005e1ff",
    "cell_id": "00034-84a7ea71-2466-4950-8125-644b9064ac85",
    "deepnote_to_be_reexecuted": false,
    "source_hash": "3f16c630",
    "execution_start": 1630097914216,
    "execution_millis": 10,
    "deepnote_cell_type": "code"
   },
   "source": "army.loc[pd.IndexSlice['Texas','Arizona'],:]",
   "outputs": [
    {
     "output_type": "execute_result",
     "execution_count": 18,
     "data": {
      "application/vnd.deepnote.dataframe.v2+json": {
       "row_count": 2,
       "column_count": 9,
       "columns": [
        {
         "name": "regiment",
         "dtype": "object",
         "stats": {
          "unique_count": 1,
          "nan_count": 0,
          "categories": [
           {
            "name": "Nighthawks",
            "count": 2
           }
          ]
         }
        },
        {
         "name": "company",
         "dtype": "object",
         "stats": {
          "unique_count": 2,
          "nan_count": 0,
          "categories": [
           {
            "name": "2nd",
            "count": 1
           },
           {
            "name": "1st",
            "count": 1
           }
          ]
         }
        },
        {
         "name": "deaths",
         "dtype": "int64",
         "stats": {
          "unique_count": 2,
          "nan_count": 0,
          "min": "25",
          "max": "523",
          "histogram": [
           {
            "bin_start": 25,
            "bin_end": 74.8,
            "count": 1
           },
           {
            "bin_start": 74.8,
            "bin_end": 124.6,
            "count": 0
           },
           {
            "bin_start": 124.6,
            "bin_end": 174.39999999999998,
            "count": 0
           },
           {
            "bin_start": 174.39999999999998,
            "bin_end": 224.2,
            "count": 0
           },
           {
            "bin_start": 224.2,
            "bin_end": 274,
            "count": 0
           },
           {
            "bin_start": 274,
            "bin_end": 323.79999999999995,
            "count": 0
           },
           {
            "bin_start": 323.79999999999995,
            "bin_end": 373.59999999999997,
            "count": 0
           },
           {
            "bin_start": 373.59999999999997,
            "bin_end": 423.4,
            "count": 0
           },
           {
            "bin_start": 423.4,
            "bin_end": 473.2,
            "count": 0
           },
           {
            "bin_start": 473.2,
            "bin_end": 523,
            "count": 1
           }
          ]
         }
        },
        {
         "name": "battles",
         "dtype": "int64",
         "stats": {
          "unique_count": 2,
          "nan_count": 0,
          "min": "2",
          "max": "5",
          "histogram": [
           {
            "bin_start": 2,
            "bin_end": 2.3,
            "count": 1
           },
           {
            "bin_start": 2.3,
            "bin_end": 2.6,
            "count": 0
           },
           {
            "bin_start": 2.6,
            "bin_end": 2.9,
            "count": 0
           },
           {
            "bin_start": 2.9,
            "bin_end": 3.2,
            "count": 0
           },
           {
            "bin_start": 3.2,
            "bin_end": 3.5,
            "count": 0
           },
           {
            "bin_start": 3.5,
            "bin_end": 3.8,
            "count": 0
           },
           {
            "bin_start": 3.8,
            "bin_end": 4.1,
            "count": 0
           },
           {
            "bin_start": 4.1,
            "bin_end": 4.4,
            "count": 0
           },
           {
            "bin_start": 4.4,
            "bin_end": 4.699999999999999,
            "count": 0
           },
           {
            "bin_start": 4.699999999999999,
            "bin_end": 5,
            "count": 1
           }
          ]
         }
        },
        {
         "name": "size",
         "dtype": "int64",
         "stats": {
          "unique_count": 2,
          "nan_count": 0,
          "min": "1045",
          "max": "1099",
          "histogram": [
           {
            "bin_start": 1045,
            "bin_end": 1050.4,
            "count": 1
           },
           {
            "bin_start": 1050.4,
            "bin_end": 1055.8,
            "count": 0
           },
           {
            "bin_start": 1055.8,
            "bin_end": 1061.2,
            "count": 0
           },
           {
            "bin_start": 1061.2,
            "bin_end": 1066.6,
            "count": 0
           },
           {
            "bin_start": 1066.6,
            "bin_end": 1072,
            "count": 0
           },
           {
            "bin_start": 1072,
            "bin_end": 1077.4,
            "count": 0
           },
           {
            "bin_start": 1077.4,
            "bin_end": 1082.8,
            "count": 0
           },
           {
            "bin_start": 1082.8,
            "bin_end": 1088.2,
            "count": 0
           },
           {
            "bin_start": 1088.2,
            "bin_end": 1093.6,
            "count": 0
           },
           {
            "bin_start": 1093.6,
            "bin_end": 1099,
            "count": 1
           }
          ]
         }
        },
        {
         "name": "veterans",
         "dtype": "int64",
         "stats": {
          "unique_count": 2,
          "nan_count": 0,
          "min": "1",
          "max": "62",
          "histogram": [
           {
            "bin_start": 1,
            "bin_end": 7.1,
            "count": 1
           },
           {
            "bin_start": 7.1,
            "bin_end": 13.2,
            "count": 0
           },
           {
            "bin_start": 13.2,
            "bin_end": 19.299999999999997,
            "count": 0
           },
           {
            "bin_start": 19.299999999999997,
            "bin_end": 25.4,
            "count": 0
           },
           {
            "bin_start": 25.4,
            "bin_end": 31.5,
            "count": 0
           },
           {
            "bin_start": 31.5,
            "bin_end": 37.599999999999994,
            "count": 0
           },
           {
            "bin_start": 37.599999999999994,
            "bin_end": 43.699999999999996,
            "count": 0
           },
           {
            "bin_start": 43.699999999999996,
            "bin_end": 49.8,
            "count": 0
           },
           {
            "bin_start": 49.8,
            "bin_end": 55.9,
            "count": 0
           },
           {
            "bin_start": 55.9,
            "bin_end": 62,
            "count": 1
           }
          ]
         }
        },
        {
         "name": "readiness",
         "dtype": "int64",
         "stats": {
          "unique_count": 2,
          "nan_count": 0,
          "min": "1",
          "max": "3",
          "histogram": [
           {
            "bin_start": 1,
            "bin_end": 1.2,
            "count": 1
           },
           {
            "bin_start": 1.2,
            "bin_end": 1.4,
            "count": 0
           },
           {
            "bin_start": 1.4,
            "bin_end": 1.6,
            "count": 0
           },
           {
            "bin_start": 1.6,
            "bin_end": 1.8,
            "count": 0
           },
           {
            "bin_start": 1.8,
            "bin_end": 2,
            "count": 0
           },
           {
            "bin_start": 2,
            "bin_end": 2.2,
            "count": 0
           },
           {
            "bin_start": 2.2,
            "bin_end": 2.4000000000000004,
            "count": 0
           },
           {
            "bin_start": 2.4000000000000004,
            "bin_end": 2.6,
            "count": 0
           },
           {
            "bin_start": 2.6,
            "bin_end": 2.8,
            "count": 0
           },
           {
            "bin_start": 2.8,
            "bin_end": 3,
            "count": 1
           }
          ]
         }
        },
        {
         "name": "armored",
         "dtype": "int64",
         "stats": {
          "unique_count": 1,
          "nan_count": 0,
          "min": "1",
          "max": "1",
          "histogram": [
           {
            "bin_start": 0.5,
            "bin_end": 0.6,
            "count": 0
           },
           {
            "bin_start": 0.6,
            "bin_end": 0.7,
            "count": 0
           },
           {
            "bin_start": 0.7,
            "bin_end": 0.8,
            "count": 0
           },
           {
            "bin_start": 0.8,
            "bin_end": 0.9,
            "count": 0
           },
           {
            "bin_start": 0.9,
            "bin_end": 1,
            "count": 0
           },
           {
            "bin_start": 1,
            "bin_end": 1.1,
            "count": 2
           },
           {
            "bin_start": 1.1,
            "bin_end": 1.2000000000000002,
            "count": 0
           },
           {
            "bin_start": 1.2000000000000002,
            "bin_end": 1.3,
            "count": 0
           },
           {
            "bin_start": 1.3,
            "bin_end": 1.4,
            "count": 0
           },
           {
            "bin_start": 1.4,
            "bin_end": 1.5,
            "count": 0
           }
          ]
         }
        },
        {
         "name": "deserters",
         "dtype": "int64",
         "stats": {
          "unique_count": 2,
          "nan_count": 0,
          "min": "4",
          "max": "31",
          "histogram": [
           {
            "bin_start": 4,
            "bin_end": 6.7,
            "count": 1
           },
           {
            "bin_start": 6.7,
            "bin_end": 9.4,
            "count": 0
           },
           {
            "bin_start": 9.4,
            "bin_end": 12.100000000000001,
            "count": 0
           },
           {
            "bin_start": 12.100000000000001,
            "bin_end": 14.8,
            "count": 0
           },
           {
            "bin_start": 14.8,
            "bin_end": 17.5,
            "count": 0
           },
           {
            "bin_start": 17.5,
            "bin_end": 20.200000000000003,
            "count": 0
           },
           {
            "bin_start": 20.200000000000003,
            "bin_end": 22.900000000000002,
            "count": 0
           },
           {
            "bin_start": 22.900000000000002,
            "bin_end": 25.6,
            "count": 0
           },
           {
            "bin_start": 25.6,
            "bin_end": 28.3,
            "count": 0
           },
           {
            "bin_start": 28.3,
            "bin_end": 31,
            "count": 1
           }
          ]
         }
        },
        {
         "name": "_deepnote_index_column",
         "dtype": "object"
        }
       ],
       "rows_top": [
        {
         "regiment": "Nighthawks",
         "company": "2nd",
         "deaths": 25,
         "battles": 2,
         "size": 1099,
         "veterans": 62,
         "readiness": 3,
         "armored": 1,
         "deserters": 31,
         "_deepnote_index_column": "Texas"
        },
        {
         "regiment": "Nighthawks",
         "company": "1st",
         "deaths": 523,
         "battles": 5,
         "size": 1045,
         "veterans": 1,
         "readiness": 1,
         "armored": 1,
         "deserters": 4,
         "_deepnote_index_column": "Arizona"
        }
       ],
       "rows_bottom": null
      },
      "text/plain": "           regiment company  deaths  battles  size  veterans  readiness  \\\norigin                                                                    \nTexas    Nighthawks     2nd      25        2  1099        62          3   \nArizona  Nighthawks     1st     523        5  1045         1          1   \n\n         armored  deserters  \norigin                       \nTexas          1         31  \nArizona        1          4  ",
      "text/html": "<div>\n<style scoped>\n    .dataframe tbody tr th:only-of-type {\n        vertical-align: middle;\n    }\n\n    .dataframe tbody tr th {\n        vertical-align: top;\n    }\n\n    .dataframe thead th {\n        text-align: right;\n    }\n</style>\n<table border=\"1\" class=\"dataframe\">\n  <thead>\n    <tr style=\"text-align: right;\">\n      <th></th>\n      <th>regiment</th>\n      <th>company</th>\n      <th>deaths</th>\n      <th>battles</th>\n      <th>size</th>\n      <th>veterans</th>\n      <th>readiness</th>\n      <th>armored</th>\n      <th>deserters</th>\n    </tr>\n    <tr>\n      <th>origin</th>\n      <th></th>\n      <th></th>\n      <th></th>\n      <th></th>\n      <th></th>\n      <th></th>\n      <th></th>\n      <th></th>\n      <th></th>\n    </tr>\n  </thead>\n  <tbody>\n    <tr>\n      <th>Texas</th>\n      <td>Nighthawks</td>\n      <td>2nd</td>\n      <td>25</td>\n      <td>2</td>\n      <td>1099</td>\n      <td>62</td>\n      <td>3</td>\n      <td>1</td>\n      <td>31</td>\n    </tr>\n    <tr>\n      <th>Arizona</th>\n      <td>Nighthawks</td>\n      <td>1st</td>\n      <td>523</td>\n      <td>5</td>\n      <td>1045</td>\n      <td>1</td>\n      <td>1</td>\n      <td>1</td>\n      <td>4</td>\n    </tr>\n  </tbody>\n</table>\n</div>"
     },
     "metadata": {}
    }
   ],
   "execution_count": null
  },
  {
   "cell_type": "markdown",
   "source": "### Step 17. Select the third cell in the row named Arizona",
   "metadata": {
    "id": "4WsjTqMu67QG",
    "cell_id": "00035-e7d33d0b-ef61-46c6-b16d-922bce050bfe",
    "deepnote_cell_type": "markdown"
   }
  },
  {
   "cell_type": "code",
   "metadata": {
    "colab": {
     "base_uri": "https://localhost:8080/"
    },
    "id": "taDFzV6667QG",
    "executionInfo": {
     "status": "ok",
     "timestamp": 1623295488856,
     "user_tz": 240,
     "elapsed": 155,
     "user": {
      "displayName": "Andrés Sánchez",
      "photoUrl": "https://lh3.googleusercontent.com/a-/AOh14Gg69bZMv30ckb-T1MJy0nSxWIHUaP0p2uP6MYBuvQ=s64",
      "userId": "07985253921366566280"
     }
    },
    "outputId": "68c55144-b667-4fe0-aaa7-7e3d9597e4e5",
    "cell_id": "00036-c42601e8-f866-4719-84c4-cbf85291f012",
    "deepnote_to_be_reexecuted": false,
    "source_hash": "52986058",
    "execution_start": 1630097914242,
    "execution_millis": 1,
    "deepnote_cell_type": "code"
   },
   "source": "pd.DataFrame(army.loc['Arizona',:]).iloc[2,:]\n# or: army.loc[[\"Arizona\"]].iloc[:, 2]",
   "outputs": [
    {
     "output_type": "execute_result",
     "execution_count": 19,
     "data": {
      "text/plain": "Arizona    523\nName: deaths, dtype: object"
     },
     "metadata": {}
    }
   ],
   "execution_count": null
  },
  {
   "cell_type": "markdown",
   "source": "### Step 18. Select the third cell down in the column named deaths",
   "metadata": {
    "id": "Xya93HJ467QG",
    "cell_id": "00037-23e1269d-23db-4773-843c-7cda62cf527a",
    "deepnote_cell_type": "markdown"
   }
  },
  {
   "cell_type": "code",
   "metadata": {
    "colab": {
     "base_uri": "https://localhost:8080/"
    },
    "id": "GWSqA7S267QH",
    "executionInfo": {
     "status": "ok",
     "timestamp": 1623295662528,
     "user_tz": 240,
     "elapsed": 131,
     "user": {
      "displayName": "Andrés Sánchez",
      "photoUrl": "https://lh3.googleusercontent.com/a-/AOh14Gg69bZMv30ckb-T1MJy0nSxWIHUaP0p2uP6MYBuvQ=s64",
      "userId": "07985253921366566280"
     }
    },
    "outputId": "c64189a1-00db-4c1f-ada5-238b0079be55",
    "cell_id": "00038-3634a859-5133-4909-b283-73692e401691",
    "deepnote_to_be_reexecuted": false,
    "source_hash": "148f44a2",
    "execution_start": 1630097914291,
    "execution_millis": 5,
    "deepnote_cell_type": "code"
   },
   "source": "army.iloc[2,:].loc['deaths']",
   "outputs": [
    {
     "output_type": "execute_result",
     "execution_count": 20,
     "data": {
      "text/plain": "25"
     },
     "metadata": {}
    }
   ],
   "execution_count": null
  },
  {
   "cell_type": "markdown",
   "source": "<a style='text-decoration:none;line-height:16px;display:flex;color:#5B5B62;padding:10px;justify-content:end;' href='https://deepnote.com?utm_source=created-in-deepnote-cell&projectId=fe744348-fecc-4b7a-803c-44dba24ecb38' target=\"_blank\">\n<img alt='Created in deepnote.com' style='display:inline;max-height:16px;margin:0px;margin-right:7.5px;' src='data:image/svg+xml;base64,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' > </img>\nCreated in <span style='font-weight:600;margin-left:4px;'>Deepnote</span></a>",
   "metadata": {
    "tags": [],
    "created_in_deepnote_cell": true,
    "deepnote_cell_type": "markdown"
   }
  }
 ],
 "nbformat": 4,
 "nbformat_minor": 0,
 "metadata": {
  "kernelspec": {
   "display_name": "Python 3",
   "language": "python",
   "name": "python3"
  },
  "language_info": {
   "codemirror_mode": {
    "name": "ipython",
    "version": 3
   },
   "file_extension": ".py",
   "mimetype": "text/x-python",
   "name": "python",
   "nbconvert_exporter": "python",
   "pygments_lexer": "ipython3",
   "version": "3.7.3"
  },
  "colab": {
   "name": "Exercise.ipynb",
   "provenance": [],
   "collapsed_sections": []
  },
  "deepnote_notebook_id": "3a3acc06-fbac-430a-b60c-df4d14731c98",
  "deepnote": {},
  "deepnote_execution_queue": []
 }
}
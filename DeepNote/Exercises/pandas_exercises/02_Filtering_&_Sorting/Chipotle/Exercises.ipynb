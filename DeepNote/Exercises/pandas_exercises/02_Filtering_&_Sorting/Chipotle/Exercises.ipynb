{
 "cells": [
  {
   "cell_type": "markdown",
   "source": "# Ex1 - Filtering and Sorting Data",
   "metadata": {
    "id": "wtJad218wxpV",
    "cell_id": "00000-22607a26-d34d-4e4a-acc6-a2c7a8a43adb",
    "deepnote_cell_type": "markdown"
   }
  },
  {
   "cell_type": "markdown",
   "source": "This time we are going to pull data directly from the internet.\nSpecial thanks to: https://github.com/justmarkham for sharing the dataset and materials.\n\n### Step 1. Import the necessary libraries",
   "metadata": {
    "id": "hZdOm98vwxpX",
    "cell_id": "00001-ac955cd9-3618-41c4-99e5-5da5550122d9",
    "deepnote_cell_type": "markdown"
   }
  },
  {
   "cell_type": "code",
   "metadata": {
    "id": "Fpnsx3PfwxpX",
    "executionInfo": {
     "status": "ok",
     "timestamp": 1623205876303,
     "user_tz": 240,
     "elapsed": 162,
     "user": {
      "displayName": "Andrés Sánchez",
      "photoUrl": "https://lh3.googleusercontent.com/a-/AOh14Gg69bZMv30ckb-T1MJy0nSxWIHUaP0p2uP6MYBuvQ=s64",
      "userId": "07985253921366566280"
     }
    },
    "cell_id": "00002-edb38aff-71a0-4775-9a83-16dd230fd86c",
    "deepnote_to_be_reexecuted": false,
    "source_hash": "c76c7c51",
    "execution_start": 1630097890615,
    "execution_millis": 0,
    "deepnote_cell_type": "code"
   },
   "source": "import pandas as pd\nimport numpy as np",
   "outputs": [],
   "execution_count": null
  },
  {
   "cell_type": "markdown",
   "source": "### Step 2. Import the dataset from this [address](https://raw.githubusercontent.com/justmarkham/DAT8/master/data/chipotle.tsv). ",
   "metadata": {
    "id": "Ld14vlB4wxpY",
    "cell_id": "00003-ca0f4754-5bd8-4d89-a99a-d0caa8b851e4",
    "deepnote_cell_type": "markdown"
   }
  },
  {
   "cell_type": "markdown",
   "source": "### Step 3. Assign it to a variable called chipo.",
   "metadata": {
    "id": "CFbz2QOxwxpY",
    "cell_id": "00004-84f6dfcc-1ce7-41ef-bfee-567b37d2af76",
    "deepnote_cell_type": "markdown"
   }
  },
  {
   "cell_type": "code",
   "metadata": {
    "colab": {
     "base_uri": "https://localhost:8080/",
     "height": 136
    },
    "id": "g7ATbJuuwxpY",
    "executionInfo": {
     "status": "ok",
     "timestamp": 1623205876734,
     "user_tz": 240,
     "elapsed": 450,
     "user": {
      "displayName": "Andrés Sánchez",
      "photoUrl": "https://lh3.googleusercontent.com/a-/AOh14Gg69bZMv30ckb-T1MJy0nSxWIHUaP0p2uP6MYBuvQ=s64",
      "userId": "07985253921366566280"
     }
    },
    "outputId": "5528f8bd-7bc2-4017-adf7-eefcb032829d",
    "cell_id": "00005-535dd90d-30d8-4d5e-afdb-ebbf4411858d",
    "deepnote_to_be_reexecuted": false,
    "source_hash": "86d467a5",
    "execution_start": 1630097890620,
    "execution_millis": 158,
    "deepnote_cell_type": "code"
   },
   "source": "chipo = pd.read_csv('https://raw.githubusercontent.com/justmarkham/DAT8/master/data/chipotle.tsv', sep = '\\t')\nchipo.head(3)",
   "outputs": [
    {
     "output_type": "execute_result",
     "execution_count": 2,
     "data": {
      "application/vnd.deepnote.dataframe.v2+json": {
       "row_count": 3,
       "column_count": 5,
       "columns": [
        {
         "name": "order_id",
         "dtype": "int64",
         "stats": {
          "unique_count": 1,
          "nan_count": 0,
          "min": "1",
          "max": "1",
          "histogram": [
           {
            "bin_start": 0.5,
            "bin_end": 0.6,
            "count": 0
           },
           {
            "bin_start": 0.6,
            "bin_end": 0.7,
            "count": 0
           },
           {
            "bin_start": 0.7,
            "bin_end": 0.8,
            "count": 0
           },
           {
            "bin_start": 0.8,
            "bin_end": 0.9,
            "count": 0
           },
           {
            "bin_start": 0.9,
            "bin_end": 1,
            "count": 0
           },
           {
            "bin_start": 1,
            "bin_end": 1.1,
            "count": 3
           },
           {
            "bin_start": 1.1,
            "bin_end": 1.2000000000000002,
            "count": 0
           },
           {
            "bin_start": 1.2000000000000002,
            "bin_end": 1.3,
            "count": 0
           },
           {
            "bin_start": 1.3,
            "bin_end": 1.4,
            "count": 0
           },
           {
            "bin_start": 1.4,
            "bin_end": 1.5,
            "count": 0
           }
          ]
         }
        },
        {
         "name": "quantity",
         "dtype": "int64",
         "stats": {
          "unique_count": 1,
          "nan_count": 0,
          "min": "1",
          "max": "1",
          "histogram": [
           {
            "bin_start": 0.5,
            "bin_end": 0.6,
            "count": 0
           },
           {
            "bin_start": 0.6,
            "bin_end": 0.7,
            "count": 0
           },
           {
            "bin_start": 0.7,
            "bin_end": 0.8,
            "count": 0
           },
           {
            "bin_start": 0.8,
            "bin_end": 0.9,
            "count": 0
           },
           {
            "bin_start": 0.9,
            "bin_end": 1,
            "count": 0
           },
           {
            "bin_start": 1,
            "bin_end": 1.1,
            "count": 3
           },
           {
            "bin_start": 1.1,
            "bin_end": 1.2000000000000002,
            "count": 0
           },
           {
            "bin_start": 1.2000000000000002,
            "bin_end": 1.3,
            "count": 0
           },
           {
            "bin_start": 1.3,
            "bin_end": 1.4,
            "count": 0
           },
           {
            "bin_start": 1.4,
            "bin_end": 1.5,
            "count": 0
           }
          ]
         }
        },
        {
         "name": "item_name",
         "dtype": "object",
         "stats": {
          "unique_count": 3,
          "nan_count": 0,
          "categories": [
           {
            "name": "Chips and Fresh Tomato Salsa",
            "count": 1
           },
           {
            "name": "Izze",
            "count": 1
           },
           {
            "name": "Nantucket Nectar",
            "count": 1
           }
          ]
         }
        },
        {
         "name": "choice_description",
         "dtype": "object",
         "stats": {
          "unique_count": 2,
          "nan_count": 1,
          "categories": [
           {
            "name": "[Clementine]",
            "count": 1
           },
           {
            "name": "[Apple]",
            "count": 1
           },
           {
            "name": "Missing",
            "count": 1
           }
          ]
         }
        },
        {
         "name": "item_price",
         "dtype": "object",
         "stats": {
          "unique_count": 2,
          "nan_count": 0,
          "categories": [
           {
            "name": "$3.39 ",
            "count": 2
           },
           {
            "name": "$2.39 ",
            "count": 1
           }
          ]
         }
        },
        {
         "name": "_deepnote_index_column",
         "dtype": "int64"
        }
       ],
       "rows_top": [
        {
         "order_id": 1,
         "quantity": 1,
         "item_name": "Chips and Fresh Tomato Salsa",
         "choice_description": "nan",
         "item_price": "$2.39 ",
         "_deepnote_index_column": 0
        },
        {
         "order_id": 1,
         "quantity": 1,
         "item_name": "Izze",
         "choice_description": "[Clementine]",
         "item_price": "$3.39 ",
         "_deepnote_index_column": 1
        },
        {
         "order_id": 1,
         "quantity": 1,
         "item_name": "Nantucket Nectar",
         "choice_description": "[Apple]",
         "item_price": "$3.39 ",
         "_deepnote_index_column": 2
        }
       ],
       "rows_bottom": null
      },
      "text/plain": "   order_id  quantity                     item_name choice_description  \\\n0         1         1  Chips and Fresh Tomato Salsa                NaN   \n1         1         1                          Izze       [Clementine]   \n2         1         1              Nantucket Nectar            [Apple]   \n\n  item_price  \n0     $2.39   \n1     $3.39   \n2     $3.39   ",
      "text/html": "<div>\n<style scoped>\n    .dataframe tbody tr th:only-of-type {\n        vertical-align: middle;\n    }\n\n    .dataframe tbody tr th {\n        vertical-align: top;\n    }\n\n    .dataframe thead th {\n        text-align: right;\n    }\n</style>\n<table border=\"1\" class=\"dataframe\">\n  <thead>\n    <tr style=\"text-align: right;\">\n      <th></th>\n      <th>order_id</th>\n      <th>quantity</th>\n      <th>item_name</th>\n      <th>choice_description</th>\n      <th>item_price</th>\n    </tr>\n  </thead>\n  <tbody>\n    <tr>\n      <th>0</th>\n      <td>1</td>\n      <td>1</td>\n      <td>Chips and Fresh Tomato Salsa</td>\n      <td>NaN</td>\n      <td>$2.39</td>\n    </tr>\n    <tr>\n      <th>1</th>\n      <td>1</td>\n      <td>1</td>\n      <td>Izze</td>\n      <td>[Clementine]</td>\n      <td>$3.39</td>\n    </tr>\n    <tr>\n      <th>2</th>\n      <td>1</td>\n      <td>1</td>\n      <td>Nantucket Nectar</td>\n      <td>[Apple]</td>\n      <td>$3.39</td>\n    </tr>\n  </tbody>\n</table>\n</div>"
     },
     "metadata": {}
    }
   ],
   "execution_count": null
  },
  {
   "cell_type": "markdown",
   "source": "### Step 4. How many products cost more than $10.00?",
   "metadata": {
    "id": "uWh80QXRwxpY",
    "cell_id": "00006-0c015262-fea6-4b1c-bb09-39dc8135e0f0",
    "deepnote_cell_type": "markdown"
   }
  },
  {
   "cell_type": "code",
   "metadata": {
    "id": "bNqGxStyx5aV",
    "executionInfo": {
     "status": "ok",
     "timestamp": 1623205876734,
     "user_tz": 240,
     "elapsed": 7,
     "user": {
      "displayName": "Andrés Sánchez",
      "photoUrl": "https://lh3.googleusercontent.com/a-/AOh14Gg69bZMv30ckb-T1MJy0nSxWIHUaP0p2uP6MYBuvQ=s64",
      "userId": "07985253921366566280"
     }
    },
    "cell_id": "00007-64c1b62d-b0bf-4539-9f0f-7e98b1044ec3",
    "deepnote_to_be_reexecuted": false,
    "source_hash": "b8ea4b1",
    "execution_start": 1630097890774,
    "execution_millis": 13,
    "deepnote_cell_type": "code"
   },
   "source": "chipo['item_price'] = chipo['item_price'].str.replace('$','')",
   "outputs": [
    {
     "name": "stderr",
     "text": "/tmp/ipykernel_199/2056205547.py:1: FutureWarning: The default value of regex will change from True to False in a future version. In addition, single character regular expressions will*not* be treated as literal strings when regex=True.\n  chipo['item_price'] = chipo['item_price'].str.replace('$','')\n",
     "output_type": "stream"
    }
   ],
   "execution_count": null
  },
  {
   "cell_type": "code",
   "metadata": {
    "colab": {
     "base_uri": "https://localhost:8080/"
    },
    "id": "3VV3zJgNwxpY",
    "executionInfo": {
     "status": "ok",
     "timestamp": 1623205876734,
     "user_tz": 240,
     "elapsed": 7,
     "user": {
      "displayName": "Andrés Sánchez",
      "photoUrl": "https://lh3.googleusercontent.com/a-/AOh14Gg69bZMv30ckb-T1MJy0nSxWIHUaP0p2uP6MYBuvQ=s64",
      "userId": "07985253921366566280"
     }
    },
    "outputId": "5d76525b-ddad-4ad3-e941-041c3c116124",
    "cell_id": "00008-93585cf0-6288-42d9-9f50-049b6e2fcab2",
    "deepnote_to_be_reexecuted": false,
    "source_hash": "12526b0c",
    "execution_start": 1630097890789,
    "execution_millis": 12,
    "deepnote_cell_type": "code"
   },
   "source": "chipo['item_price'] = chipo['item_price'].apply(lambda row: float(row))\nchipo[chipo['item_price'] > 10]['item_price'].count()",
   "outputs": [
    {
     "output_type": "execute_result",
     "execution_count": 4,
     "data": {
      "text/plain": "1130"
     },
     "metadata": {}
    }
   ],
   "execution_count": null
  },
  {
   "cell_type": "markdown",
   "source": "### Step 5. What is the price of each item? \n###### print a data frame with only two columns item_name and item_price",
   "metadata": {
    "id": "vt-6Kj9owxpZ",
    "cell_id": "00009-bd61e070-6a39-4c1e-8cd4-9960e4c473a5",
    "deepnote_cell_type": "markdown"
   }
  },
  {
   "cell_type": "code",
   "metadata": {
    "colab": {
     "base_uri": "https://localhost:8080/",
     "height": 1000
    },
    "id": "Qu9SD3rKwxpZ",
    "executionInfo": {
     "status": "ok",
     "timestamp": 1623205876735,
     "user_tz": 240,
     "elapsed": 7,
     "user": {
      "displayName": "Andrés Sánchez",
      "photoUrl": "https://lh3.googleusercontent.com/a-/AOh14Gg69bZMv30ckb-T1MJy0nSxWIHUaP0p2uP6MYBuvQ=s64",
      "userId": "07985253921366566280"
     }
    },
    "outputId": "8c41f9ba-ac68-4404-ee16-f092aecd9830",
    "cell_id": "00010-258b1aca-5413-4124-8094-b4e2d683de56",
    "deepnote_to_be_reexecuted": false,
    "source_hash": "fed2e2c0",
    "execution_start": 1630097890807,
    "execution_millis": 39,
    "deepnote_cell_type": "code"
   },
   "source": "chipo[['item_name','item_price']]",
   "outputs": [
    {
     "output_type": "execute_result",
     "execution_count": 5,
     "data": {
      "application/vnd.deepnote.dataframe.v2+json": {
       "row_count": 4622,
       "column_count": 2,
       "columns": [
        {
         "name": "item_name",
         "dtype": "object",
         "stats": {
          "unique_count": 50,
          "nan_count": 0,
          "categories": [
           {
            "name": "Chicken Bowl",
            "count": 726
           },
           {
            "name": "Chicken Burrito",
            "count": 553
           },
           {
            "name": "48 others",
            "count": 3343
           }
          ]
         }
        },
        {
         "name": "item_price",
         "dtype": "float64",
         "stats": {
          "unique_count": 78,
          "nan_count": 0,
          "min": "1.09",
          "max": "44.25",
          "histogram": [
           {
            "bin_start": 1.09,
            "bin_end": 5.406,
            "count": 1653
           },
           {
            "bin_start": 5.406,
            "bin_end": 9.722,
            "count": 1839
           },
           {
            "bin_start": 9.722,
            "bin_end": 14.038,
            "count": 1002
           },
           {
            "bin_start": 14.038,
            "bin_end": 18.354,
            "count": 69
           },
           {
            "bin_start": 18.354,
            "bin_end": 22.669999999999998,
            "count": 38
           },
           {
            "bin_start": 22.669999999999998,
            "bin_end": 26.986,
            "count": 13
           },
           {
            "bin_start": 26.986,
            "bin_end": 31.302,
            "count": 2
           },
           {
            "bin_start": 31.302,
            "bin_end": 35.618,
            "count": 5
           },
           {
            "bin_start": 35.618,
            "bin_end": 39.934000000000005,
            "count": 0
           },
           {
            "bin_start": 39.934000000000005,
            "bin_end": 44.25,
            "count": 1
           }
          ]
         }
        },
        {
         "name": "_deepnote_index_column",
         "dtype": "int64"
        }
       ],
       "rows_top": [
        {
         "item_name": "Chips and Fresh Tomato Salsa",
         "item_price": 2.39,
         "_deepnote_index_column": 0
        },
        {
         "item_name": "Izze",
         "item_price": 3.39,
         "_deepnote_index_column": 1
        },
        {
         "item_name": "Nantucket Nectar",
         "item_price": 3.39,
         "_deepnote_index_column": 2
        },
        {
         "item_name": "Chips and Tomatillo-Green Chili Salsa",
         "item_price": 2.39,
         "_deepnote_index_column": 3
        },
        {
         "item_name": "Chicken Bowl",
         "item_price": 16.98,
         "_deepnote_index_column": 4
        },
        {
         "item_name": "Chicken Bowl",
         "item_price": 10.98,
         "_deepnote_index_column": 5
        },
        {
         "item_name": "Side of Chips",
         "item_price": 1.69,
         "_deepnote_index_column": 6
        },
        {
         "item_name": "Steak Burrito",
         "item_price": 11.75,
         "_deepnote_index_column": 7
        },
        {
         "item_name": "Steak Soft Tacos",
         "item_price": 9.25,
         "_deepnote_index_column": 8
        },
        {
         "item_name": "Steak Burrito",
         "item_price": 9.25,
         "_deepnote_index_column": 9
        },
        {
         "item_name": "Chips and Guacamole",
         "item_price": 4.45,
         "_deepnote_index_column": 10
        },
        {
         "item_name": "Chicken Crispy Tacos",
         "item_price": 8.75,
         "_deepnote_index_column": 11
        },
        {
         "item_name": "Chicken Soft Tacos",
         "item_price": 8.75,
         "_deepnote_index_column": 12
        },
        {
         "item_name": "Chicken Bowl",
         "item_price": 11.25,
         "_deepnote_index_column": 13
        },
        {
         "item_name": "Chips and Guacamole",
         "item_price": 4.45,
         "_deepnote_index_column": 14
        },
        {
         "item_name": "Chips and Tomatillo-Green Chili Salsa",
         "item_price": 2.39,
         "_deepnote_index_column": 15
        },
        {
         "item_name": "Chicken Burrito",
         "item_price": 8.49,
         "_deepnote_index_column": 16
        },
        {
         "item_name": "Chicken Burrito",
         "item_price": 8.49,
         "_deepnote_index_column": 17
        },
        {
         "item_name": "Canned Soda",
         "item_price": 2.18,
         "_deepnote_index_column": 18
        },
        {
         "item_name": "Chicken Bowl",
         "item_price": 8.75,
         "_deepnote_index_column": 19
        },
        {
         "item_name": "Chips and Guacamole",
         "item_price": 4.45,
         "_deepnote_index_column": 20
        },
        {
         "item_name": "Barbacoa Burrito",
         "item_price": 8.99,
         "_deepnote_index_column": 21
        },
        {
         "item_name": "Nantucket Nectar",
         "item_price": 3.39,
         "_deepnote_index_column": 22
        },
        {
         "item_name": "Chicken Burrito",
         "item_price": 10.98,
         "_deepnote_index_column": 23
        },
        {
         "item_name": "Izze",
         "item_price": 3.39,
         "_deepnote_index_column": 24
        },
        {
         "item_name": "Chips and Fresh Tomato Salsa",
         "item_price": 2.39,
         "_deepnote_index_column": 25
        },
        {
         "item_name": "Chicken Bowl",
         "item_price": 8.49,
         "_deepnote_index_column": 26
        },
        {
         "item_name": "Carnitas Burrito",
         "item_price": 8.99,
         "_deepnote_index_column": 27
        },
        {
         "item_name": "Canned Soda",
         "item_price": 1.09,
         "_deepnote_index_column": 28
        },
        {
         "item_name": "Chicken Burrito",
         "item_price": 8.49,
         "_deepnote_index_column": 29
        },
        {
         "item_name": "Chips and Tomatillo-Green Chili Salsa",
         "item_price": 2.39,
         "_deepnote_index_column": 30
        },
        {
         "item_name": "Steak Burrito",
         "item_price": 8.99,
         "_deepnote_index_column": 31
        },
        {
         "item_name": "Side of Chips",
         "item_price": 1.69,
         "_deepnote_index_column": 32
        },
        {
         "item_name": "Carnitas Bowl",
         "item_price": 8.99,
         "_deepnote_index_column": 33
        },
        {
         "item_name": "Bottled Water",
         "item_price": 1.09,
         "_deepnote_index_column": 34
        },
        {
         "item_name": "Chicken Soft Tacos",
         "item_price": 8.75,
         "_deepnote_index_column": 35
        },
        {
         "item_name": "Chicken Soft Tacos",
         "item_price": 8.75,
         "_deepnote_index_column": 36
        },
        {
         "item_name": "Chips and Guacamole",
         "item_price": 4.45,
         "_deepnote_index_column": 37
        },
        {
         "item_name": "Chips and Tomatillo Green Chili Salsa",
         "item_price": 2.95,
         "_deepnote_index_column": 38
        },
        {
         "item_name": "Barbacoa Bowl",
         "item_price": 11.75,
         "_deepnote_index_column": 39
        },
        {
         "item_name": "Chips",
         "item_price": 2.15,
         "_deepnote_index_column": 40
        },
        {
         "item_name": "Chips and Guacamole",
         "item_price": 4.45,
         "_deepnote_index_column": 41
        },
        {
         "item_name": "Chicken Bowl",
         "item_price": 11.25,
         "_deepnote_index_column": 42
        },
        {
         "item_name": "Steak Burrito",
         "item_price": 11.75,
         "_deepnote_index_column": 43
        },
        {
         "item_name": "Chicken Salad Bowl",
         "item_price": 8.75,
         "_deepnote_index_column": 44
        },
        {
         "item_name": "Chicken Burrito",
         "item_price": 10.98,
         "_deepnote_index_column": 45
        },
        {
         "item_name": "Steak Burrito",
         "item_price": 8.99,
         "_deepnote_index_column": 46
        },
        {
         "item_name": "Izze",
         "item_price": 3.39,
         "_deepnote_index_column": 47
        },
        {
         "item_name": "Steak Burrito",
         "item_price": 8.99,
         "_deepnote_index_column": 48
        },
        {
         "item_name": "Chips and Guacamole",
         "item_price": 3.99,
         "_deepnote_index_column": 49
        },
        {
         "item_name": "Steak Burrito",
         "item_price": 8.99,
         "_deepnote_index_column": 50
        },
        {
         "item_name": "Canned Soda",
         "item_price": 2.18,
         "_deepnote_index_column": 51
        },
        {
         "item_name": "Chicken Burrito",
         "item_price": 10.98,
         "_deepnote_index_column": 52
        },
        {
         "item_name": "Canned Soda",
         "item_price": 1.09,
         "_deepnote_index_column": 53
        },
        {
         "item_name": "Steak Bowl",
         "item_price": 8.99,
         "_deepnote_index_column": 54
        },
        {
         "item_name": "Chips and Fresh Tomato Salsa",
         "item_price": 2.39,
         "_deepnote_index_column": 55
        },
        {
         "item_name": "Barbacoa Soft Tacos",
         "item_price": 9.25,
         "_deepnote_index_column": 56
        },
        {
         "item_name": "Veggie Burrito",
         "item_price": 11.25,
         "_deepnote_index_column": 57
        },
        {
         "item_name": "Barbacoa Bowl",
         "item_price": 11.75,
         "_deepnote_index_column": 58
        },
        {
         "item_name": "Chips",
         "item_price": 2.15,
         "_deepnote_index_column": 59
        },
        {
         "item_name": "Chips and Guacamole",
         "item_price": 4.45,
         "_deepnote_index_column": 60
        },
        {
         "item_name": "Steak Soft Tacos",
         "item_price": 9.25,
         "_deepnote_index_column": 61
        },
        {
         "item_name": "Veggie Bowl",
         "item_price": 11.25,
         "_deepnote_index_column": 62
        },
        {
         "item_name": "Chicken Burrito",
         "item_price": 8.75,
         "_deepnote_index_column": 63
        },
        {
         "item_name": "Steak Burrito",
         "item_price": 8.99,
         "_deepnote_index_column": 64
        },
        {
         "item_name": "Steak Soft Tacos",
         "item_price": 8.99,
         "_deepnote_index_column": 65
        },
        {
         "item_name": "Izze",
         "item_price": 3.39,
         "_deepnote_index_column": 66
        },
        {
         "item_name": "Steak Burrito",
         "item_price": 8.99,
         "_deepnote_index_column": 67
        },
        {
         "item_name": "Chicken Burrito",
         "item_price": 10.98,
         "_deepnote_index_column": 68
        },
        {
         "item_name": "Steak Burrito",
         "item_price": 8.99,
         "_deepnote_index_column": 69
        },
        {
         "item_name": "Side of Chips",
         "item_price": 1.69,
         "_deepnote_index_column": 70
        },
        {
         "item_name": "Steak Burrito",
         "item_price": 8.99,
         "_deepnote_index_column": 71
        },
        {
         "item_name": "Chips and Guacamole",
         "item_price": 3.99,
         "_deepnote_index_column": 72
        },
        {
         "item_name": "Chicken Burrito",
         "item_price": 8.75,
         "_deepnote_index_column": 73
        },
        {
         "item_name": "Chips and Guacamole",
         "item_price": 4.45,
         "_deepnote_index_column": 74
        },
        {
         "item_name": "Chicken Soft Tacos",
         "item_price": 8.75,
         "_deepnote_index_column": 75
        },
        {
         "item_name": "Chicken Bowl",
         "item_price": 8.75,
         "_deepnote_index_column": 76
        },
        {
         "item_name": "Chips",
         "item_price": 2.15,
         "_deepnote_index_column": 77
        },
        {
         "item_name": "Chicken Bowl",
         "item_price": 8.75,
         "_deepnote_index_column": 78
        },
        {
         "item_name": "Chicken Soft Tacos",
         "item_price": 11.25,
         "_deepnote_index_column": 79
        },
        {
         "item_name": "Chips",
         "item_price": 2.15,
         "_deepnote_index_column": 80
        },
        {
         "item_name": "Barbacoa Burrito",
         "item_price": 9.25,
         "_deepnote_index_column": 81
        },
        {
         "item_name": "Chicken Burrito",
         "item_price": 8.75,
         "_deepnote_index_column": 82
        },
        {
         "item_name": "Chicken Burrito",
         "item_price": 8.75,
         "_deepnote_index_column": 83
        },
        {
         "item_name": "Steak Soft Tacos",
         "item_price": 9.25,
         "_deepnote_index_column": 84
        },
        {
         "item_name": "Veggie Bowl",
         "item_price": 8.49,
         "_deepnote_index_column": 85
        },
        {
         "item_name": "Steak Bowl",
         "item_price": 8.99,
         "_deepnote_index_column": 86
        },
        {
         "item_name": "Bottled Water",
         "item_price": 1.09,
         "_deepnote_index_column": 87
        },
        {
         "item_name": "Carnitas Burrito",
         "item_price": 9.25,
         "_deepnote_index_column": 88
        },
        {
         "item_name": "Chips and Fresh Tomato Salsa",
         "item_price": 2.95,
         "_deepnote_index_column": 89
        },
        {
         "item_name": "Steak Bowl",
         "item_price": 11.75,
         "_deepnote_index_column": 90
        },
        {
         "item_name": "Steak Bowl",
         "item_price": 11.75,
         "_deepnote_index_column": 91
        },
        {
         "item_name": "Steak Crispy Tacos",
         "item_price": 9.25,
         "_deepnote_index_column": 92
        },
        {
         "item_name": "Carnitas Burrito",
         "item_price": 11.75,
         "_deepnote_index_column": 93
        },
        {
         "item_name": "Chips and Guacamole",
         "item_price": 4.45,
         "_deepnote_index_column": 94
        },
        {
         "item_name": "Barbacoa Bowl",
         "item_price": 9.25,
         "_deepnote_index_column": 95
        },
        {
         "item_name": "Chips and Guacamole",
         "item_price": 4.45,
         "_deepnote_index_column": 96
        },
        {
         "item_name": "Carnitas Bowl",
         "item_price": 11.75,
         "_deepnote_index_column": 97
        },
        {
         "item_name": "Chicken Burrito",
         "item_price": 8.75,
         "_deepnote_index_column": 98
        },
        {
         "item_name": "Chicken Bowl",
         "item_price": 8.75,
         "_deepnote_index_column": 99
        },
        {
         "item_name": "Chips and Guacamole",
         "item_price": 4.45,
         "_deepnote_index_column": 100
        },
        {
         "item_name": "Steak Burrito",
         "item_price": 8.99,
         "_deepnote_index_column": 101
        },
        {
         "item_name": "Steak Bowl",
         "item_price": 8.99,
         "_deepnote_index_column": 102
        },
        {
         "item_name": "Chips and Guacamole",
         "item_price": 3.99,
         "_deepnote_index_column": 103
        },
        {
         "item_name": "Veggie Burrito",
         "item_price": 8.49,
         "_deepnote_index_column": 104
        },
        {
         "item_name": "Nantucket Nectar",
         "item_price": 3.39,
         "_deepnote_index_column": 105
        },
        {
         "item_name": "Steak Burrito",
         "item_price": 8.99,
         "_deepnote_index_column": 106
        },
        {
         "item_name": "Canned Soda",
         "item_price": 1.09,
         "_deepnote_index_column": 107
        },
        {
         "item_name": "Steak Burrito",
         "item_price": 9.25,
         "_deepnote_index_column": 108
        },
        {
         "item_name": "Chips and Guacamole",
         "item_price": 4.45,
         "_deepnote_index_column": 109
        },
        {
         "item_name": "Chicken Bowl",
         "item_price": 8.75,
         "_deepnote_index_column": 110
        },
        {
         "item_name": "Chips and Tomatillo Red Chili Salsa",
         "item_price": 2.95,
         "_deepnote_index_column": 111
        },
        {
         "item_name": "Chips and Guacamole",
         "item_price": 4.45,
         "_deepnote_index_column": 112
        },
        {
         "item_name": "Chips and Tomatillo-Green Chili Salsa",
         "item_price": 2.39,
         "_deepnote_index_column": 113
        },
        {
         "item_name": "Chicken Burrito",
         "item_price": 8.49,
         "_deepnote_index_column": 114
        },
        {
         "item_name": "Barbacoa Bowl",
         "item_price": 8.99,
         "_deepnote_index_column": 115
        },
        {
         "item_name": "Chicken Burrito",
         "item_price": 8.49,
         "_deepnote_index_column": 116
        },
        {
         "item_name": "Canned Soda",
         "item_price": 1.09,
         "_deepnote_index_column": 117
        },
        {
         "item_name": "Steak Soft Tacos",
         "item_price": 8.99,
         "_deepnote_index_column": 118
        },
        {
         "item_name": "Chips and Guacamole",
         "item_price": 3.99,
         "_deepnote_index_column": 119
        },
        {
         "item_name": "Chicken Burrito",
         "item_price": 8.75,
         "_deepnote_index_column": 120
        },
        {
         "item_name": "Barbacoa Burrito",
         "item_price": 9.25,
         "_deepnote_index_column": 121
        },
        {
         "item_name": "Chips and Guacamole",
         "item_price": 4.45,
         "_deepnote_index_column": 122
        },
        {
         "item_name": "Chicken Bowl",
         "item_price": 11.25,
         "_deepnote_index_column": 123
        },
        {
         "item_name": "Chips and Guacamole",
         "item_price": 4.45,
         "_deepnote_index_column": 124
        },
        {
         "item_name": "Steak Burrito",
         "item_price": 8.99,
         "_deepnote_index_column": 125
        },
        {
         "item_name": "Canned Soda",
         "item_price": 1.09,
         "_deepnote_index_column": 126
        },
        {
         "item_name": "Barbacoa Bowl",
         "item_price": 9.25,
         "_deepnote_index_column": 127
        },
        {
         "item_name": "Chips and Tomatillo Red Chili Salsa",
         "item_price": 2.95,
         "_deepnote_index_column": 128
        },
        {
         "item_name": "Chips and Guacamole",
         "item_price": 4.45,
         "_deepnote_index_column": 129
        },
        {
         "item_name": "Barbacoa Burrito",
         "item_price": 11.75,
         "_deepnote_index_column": 130
        },
        {
         "item_name": "Chips and Guacamole",
         "item_price": 4.45,
         "_deepnote_index_column": 131
        },
        {
         "item_name": "Chicken Burrito",
         "item_price": 8.49,
         "_deepnote_index_column": 132
        },
        {
         "item_name": "Chips and Tomatillo-Green Chili Salsa",
         "item_price": 2.39,
         "_deepnote_index_column": 133
        },
        {
         "item_name": "Chicken Burrito",
         "item_price": 10.98,
         "_deepnote_index_column": 134
        },
        {
         "item_name": "Chicken Salad Bowl",
         "item_price": 22.5,
         "_deepnote_index_column": 135
        },
        {
         "item_name": "Barbacoa Bowl",
         "item_price": 11.75,
         "_deepnote_index_column": 136
        },
        {
         "item_name": "Chips and Guacamole",
         "item_price": 4.45,
         "_deepnote_index_column": 137
        },
        {
         "item_name": "Chicken Bowl",
         "item_price": 11.25,
         "_deepnote_index_column": 138
        },
        {
         "item_name": "Chips and Guacamole",
         "item_price": 4.45,
         "_deepnote_index_column": 139
        },
        {
         "item_name": "Chicken Bowl",
         "item_price": 11.25,
         "_deepnote_index_column": 140
        },
        {
         "item_name": "Chips and Guacamole",
         "item_price": 4.45,
         "_deepnote_index_column": 141
        },
        {
         "item_name": "Chicken Bowl",
         "item_price": 11.25,
         "_deepnote_index_column": 142
        },
        {
         "item_name": "Veggie Bowl",
         "item_price": 11.25,
         "_deepnote_index_column": 143
        },
        {
         "item_name": "Barbacoa Burrito",
         "item_price": 11.75,
         "_deepnote_index_column": 144
        },
        {
         "item_name": "Carnitas Bowl",
         "item_price": 9.25,
         "_deepnote_index_column": 145
        },
        {
         "item_name": "Chips and Guacamole",
         "item_price": 4.45,
         "_deepnote_index_column": 146
        },
        {
         "item_name": "Steak Burrito",
         "item_price": 11.48,
         "_deepnote_index_column": 147
        },
        {
         "item_name": "Steak Burrito",
         "item_price": 17.98,
         "_deepnote_index_column": 148
        },
        {
         "item_name": "Side of Chips",
         "item_price": 1.69,
         "_deepnote_index_column": 149
        },
        {
         "item_name": "Chicken Burrito",
         "item_price": 17.5,
         "_deepnote_index_column": 150
        },
        {
         "item_name": "Chips and Guacamole",
         "item_price": 4.45,
         "_deepnote_index_column": 151
        },
        {
         "item_name": "Chicken Burrito",
         "item_price": 8.49,
         "_deepnote_index_column": 152
        },
        {
         "item_name": "Chips and Tomatillo-Green Chili Salsa",
         "item_price": 2.39,
         "_deepnote_index_column": 153
        },
        {
         "item_name": "Chicken Bowl",
         "item_price": 17.5,
         "_deepnote_index_column": 154
        },
        {
         "item_name": "Chips and Guacamole",
         "item_price": 4.45,
         "_deepnote_index_column": 155
        },
        {
         "item_name": "Chips and Guacamole",
         "item_price": 4.45,
         "_deepnote_index_column": 156
        },
        {
         "item_name": "Veggie Bowl",
         "item_price": 11.25,
         "_deepnote_index_column": 157
        },
        {
         "item_name": "Steak Burrito",
         "item_price": 11.75,
         "_deepnote_index_column": 158
        },
        {
         "item_name": "Chicken Burrito",
         "item_price": 10.98,
         "_deepnote_index_column": 159
        },
        {
         "item_name": "Chicken Bowl",
         "item_price": 8.49,
         "_deepnote_index_column": 160
        },
        {
         "item_name": "Chicken Burrito",
         "item_price": 10.98,
         "_deepnote_index_column": 161
        },
        {
         "item_name": "Canned Soda",
         "item_price": 2.18,
         "_deepnote_index_column": 162
        },
        {
         "item_name": "Carnitas Bowl",
         "item_price": 11.48,
         "_deepnote_index_column": 163
        },
        {
         "item_name": "Veggie Bowl",
         "item_price": 8.49,
         "_deepnote_index_column": 164
        },
        {
         "item_name": "Chips and Tomatillo-Green Chili Salsa",
         "item_price": 2.39,
         "_deepnote_index_column": 165
        },
        {
         "item_name": "Chips and Guacamole",
         "item_price": 4.45,
         "_deepnote_index_column": 166
        },
        {
         "item_name": "Chicken Burrito",
         "item_price": 11.25,
         "_deepnote_index_column": 167
        },
        {
         "item_name": "Barbacoa Crispy Tacos",
         "item_price": 11.75,
         "_deepnote_index_column": 168
        },
        {
         "item_name": "Chicken Burrito",
         "item_price": 8.75,
         "_deepnote_index_column": 169
        },
        {
         "item_name": "Chicken Burrito",
         "item_price": 8.49,
         "_deepnote_index_column": 170
        },
        {
         "item_name": "Canned Soda",
         "item_price": 2.18,
         "_deepnote_index_column": 171
        },
        {
         "item_name": "Chicken Burrito",
         "item_price": 8.49,
         "_deepnote_index_column": 172
        },
        {
         "item_name": "Nantucket Nectar",
         "item_price": 3.39,
         "_deepnote_index_column": 173
        },
        {
         "item_name": "Chicken Burrito",
         "item_price": 8.49,
         "_deepnote_index_column": 174
        },
        {
         "item_name": "Steak Soft Tacos",
         "item_price": 8.99,
         "_deepnote_index_column": 175
        },
        {
         "item_name": "Chicken Bowl",
         "item_price": 10.98,
         "_deepnote_index_column": 176
        },
        {
         "item_name": "Steak Burrito",
         "item_price": 11.48,
         "_deepnote_index_column": 177
        },
        {
         "item_name": "Chicken Burrito",
         "item_price": 8.49,
         "_deepnote_index_column": 178
        },
        {
         "item_name": "Canned Soda",
         "item_price": 1.09,
         "_deepnote_index_column": 179
        },
        {
         "item_name": "Canned Soda",
         "item_price": 1.09,
         "_deepnote_index_column": 180
        },
        {
         "item_name": "Barbacoa Soft Tacos",
         "item_price": 9.25,
         "_deepnote_index_column": 181
        },
        {
         "item_name": "Chicken Bowl",
         "item_price": 8.75,
         "_deepnote_index_column": 182
        },
        {
         "item_name": "Chips and Fresh Tomato Salsa",
         "item_price": 2.95,
         "_deepnote_index_column": 183
        },
        {
         "item_name": "Steak Soft Tacos",
         "item_price": 9.25,
         "_deepnote_index_column": 184
        },
        {
         "item_name": "Chips and Guacamole",
         "item_price": 4.45,
         "_deepnote_index_column": 185
        },
        {
         "item_name": "Veggie Salad Bowl",
         "item_price": 11.25,
         "_deepnote_index_column": 186
        },
        {
         "item_name": "Steak Bowl",
         "item_price": 11.48,
         "_deepnote_index_column": 187
        },
        {
         "item_name": "Chicken Burrito",
         "item_price": 8.49,
         "_deepnote_index_column": 188
        },
        {
         "item_name": "Chicken Burrito",
         "item_price": 8.49,
         "_deepnote_index_column": 189
        },
        {
         "item_name": "Steak Burrito",
         "item_price": 8.99,
         "_deepnote_index_column": 190
        },
        {
         "item_name": "Chips and Roasted Chili-Corn Salsa",
         "item_price": 2.39,
         "_deepnote_index_column": 191
        },
        {
         "item_name": "Veggie Bowl",
         "item_price": 11.25,
         "_deepnote_index_column": 192
        },
        {
         "item_name": "Chicken Bowl",
         "item_price": 8.75,
         "_deepnote_index_column": 193
        },
        {
         "item_name": "Chips and Fresh Tomato Salsa",
         "item_price": 2.95,
         "_deepnote_index_column": 194
        },
        {
         "item_name": "Canned Soda",
         "item_price": 1.09,
         "_deepnote_index_column": 195
        },
        {
         "item_name": "Steak Burrito",
         "item_price": 8.99,
         "_deepnote_index_column": 196
        },
        {
         "item_name": "Chicken Burrito",
         "item_price": 8.49,
         "_deepnote_index_column": 197
        },
        {
         "item_name": "Chips and Tomatillo-Green Chili Salsa",
         "item_price": 2.39,
         "_deepnote_index_column": 198
        },
        {
         "item_name": "Chicken Bowl",
         "item_price": 10.98,
         "_deepnote_index_column": 199
        },
        {
         "item_name": "Canned Soda",
         "item_price": 1.09,
         "_deepnote_index_column": 200
        },
        {
         "item_name": "Chips and Guacamole",
         "item_price": 3.99,
         "_deepnote_index_column": 201
        },
        {
         "item_name": "Chicken Burrito",
         "item_price": 11.25,
         "_deepnote_index_column": 202
        },
        {
         "item_name": "Chicken Burrito",
         "item_price": 8.75,
         "_deepnote_index_column": 203
        },
        {
         "item_name": "Chicken Burrito",
         "item_price": 8.49,
         "_deepnote_index_column": 204
        },
        {
         "item_name": "Nantucket Nectar",
         "item_price": 3.39,
         "_deepnote_index_column": 205
        },
        {
         "item_name": "Chicken Bowl",
         "item_price": 8.75,
         "_deepnote_index_column": 206
        },
        {
         "item_name": "Steak Bowl",
         "item_price": 9.25,
         "_deepnote_index_column": 207
        },
        {
         "item_name": "Chips",
         "item_price": 2.15,
         "_deepnote_index_column": 208
        },
        {
         "item_name": "Chicken Bowl",
         "item_price": 11.25,
         "_deepnote_index_column": 209
        },
        {
         "item_name": "Veggie Bowl",
         "item_price": 11.25,
         "_deepnote_index_column": 210
        },
        {
         "item_name": "Chicken Bowl",
         "item_price": 11.25,
         "_deepnote_index_column": 211
        },
        {
         "item_name": "Chips and Guacamole",
         "item_price": 4.45,
         "_deepnote_index_column": 212
        },
        {
         "item_name": "Chicken Salad Bowl",
         "item_price": 22.5,
         "_deepnote_index_column": 213
        },
        {
         "item_name": "Chips and Guacamole",
         "item_price": 4.45,
         "_deepnote_index_column": 214
        },
        {
         "item_name": "Steak Bowl",
         "item_price": 11.75,
         "_deepnote_index_column": 215
        },
        {
         "item_name": "Chicken Burrito",
         "item_price": 8.75,
         "_deepnote_index_column": 216
        },
        {
         "item_name": "Chicken Crispy Tacos",
         "item_price": 17.5,
         "_deepnote_index_column": 217
        },
        {
         "item_name": "Chicken Bowl",
         "item_price": 8.75,
         "_deepnote_index_column": 218
        },
        {
         "item_name": "Barbacoa Bowl",
         "item_price": 9.25,
         "_deepnote_index_column": 219
        },
        {
         "item_name": "Chicken Bowl",
         "item_price": 8.75,
         "_deepnote_index_column": 220
        },
        {
         "item_name": "Chips",
         "item_price": 2.15,
         "_deepnote_index_column": 221
        },
        {
         "item_name": "Barbacoa Burrito",
         "item_price": 9.25,
         "_deepnote_index_column": 222
        },
        {
         "item_name": "Chips",
         "item_price": 4.3,
         "_deepnote_index_column": 223
        },
        {
         "item_name": "Chicken Bowl",
         "item_price": 8.75,
         "_deepnote_index_column": 224
        },
        {
         "item_name": "Veggie Burrito",
         "item_price": 11.25,
         "_deepnote_index_column": 225
        },
        {
         "item_name": "Chips",
         "item_price": 2.15,
         "_deepnote_index_column": 226
        },
        {
         "item_name": "Steak Burrito",
         "item_price": 8.99,
         "_deepnote_index_column": 227
        },
        {
         "item_name": "Canned Soda",
         "item_price": 1.09,
         "_deepnote_index_column": 228
        },
        {
         "item_name": "Steak Burrito",
         "item_price": 8.99,
         "_deepnote_index_column": 229
        },
        {
         "item_name": "Chips and Guacamole",
         "item_price": 3.99,
         "_deepnote_index_column": 230
        },
        {
         "item_name": "Chicken Bowl",
         "item_price": 8.75,
         "_deepnote_index_column": 231
        },
        {
         "item_name": "Chips and Tomatillo Green Chili Salsa",
         "item_price": 2.95,
         "_deepnote_index_column": 232
        },
        {
         "item_name": "Chips and Roasted Chili Corn Salsa",
         "item_price": 2.95,
         "_deepnote_index_column": 233
        },
        {
         "item_name": "Steak Burrito",
         "item_price": 11.75,
         "_deepnote_index_column": 234
        },
        {
         "item_name": "Chips and Tomatillo Green Chili Salsa",
         "item_price": 5.9,
         "_deepnote_index_column": 235
        },
        {
         "item_name": "Steak Burrito",
         "item_price": 9.25,
         "_deepnote_index_column": 236
        },
        {
         "item_name": "Carnitas Soft Tacos",
         "item_price": 9.25,
         "_deepnote_index_column": 237
        },
        {
         "item_name": "Steak Burrito",
         "item_price": 11.75,
         "_deepnote_index_column": 238
        },
        {
         "item_name": "Carnitas Burrito",
         "item_price": 9.25,
         "_deepnote_index_column": 239
        },
        {
         "item_name": "Chips and Fresh Tomato Salsa",
         "item_price": 2.95,
         "_deepnote_index_column": 240
        },
        {
         "item_name": "Chicken Burrito",
         "item_price": 17.5,
         "_deepnote_index_column": 241
        },
        {
         "item_name": "Chicken Burrito",
         "item_price": 8.75,
         "_deepnote_index_column": 242
        },
        {
         "item_name": "Steak Bowl",
         "item_price": 9.25,
         "_deepnote_index_column": 243
        },
        {
         "item_name": "Chicken Burrito",
         "item_price": 10.98,
         "_deepnote_index_column": 244
        },
        {
         "item_name": "Steak Burrito",
         "item_price": 8.99,
         "_deepnote_index_column": 245
        },
        {
         "item_name": "Canned Soda",
         "item_price": 1.09,
         "_deepnote_index_column": 246
        },
        {
         "item_name": "Canned Soda",
         "item_price": 1.09,
         "_deepnote_index_column": 247
        },
        {
         "item_name": "Canned Soda",
         "item_price": 1.09,
         "_deepnote_index_column": 248
        },
        {
         "item_name": "Barbacoa Burrito",
         "item_price": 8.99,
         "_deepnote_index_column": 249
        }
       ],
       "rows_bottom": [
        {
         "item_name": "Chips and Guacamole",
         "item_price": 4.45,
         "_deepnote_index_column": 4372
        },
        {
         "item_name": "Chicken Burrito",
         "item_price": 8.75,
         "_deepnote_index_column": 4373
        },
        {
         "item_name": "Carnitas Bowl",
         "item_price": 9.25,
         "_deepnote_index_column": 4374
        },
        {
         "item_name": "Chips and Guacamole",
         "item_price": 4.45,
         "_deepnote_index_column": 4375
        },
        {
         "item_name": "Canned Soft Drink",
         "item_price": 1.25,
         "_deepnote_index_column": 4376
        },
        {
         "item_name": "Canned Soft Drink",
         "item_price": 1.25,
         "_deepnote_index_column": 4377
        },
        {
         "item_name": "Chicken Bowl",
         "item_price": 8.75,
         "_deepnote_index_column": 4378
        },
        {
         "item_name": "Chicken Burrito",
         "item_price": 11.25,
         "_deepnote_index_column": 4379
        },
        {
         "item_name": "Barbacoa Bowl",
         "item_price": 11.75,
         "_deepnote_index_column": 4380
        },
        {
         "item_name": "Chips",
         "item_price": 2.15,
         "_deepnote_index_column": 4381
        },
        {
         "item_name": "Steak Burrito",
         "item_price": 11.75,
         "_deepnote_index_column": 4382
        },
        {
         "item_name": "Chips and Guacamole",
         "item_price": 4.45,
         "_deepnote_index_column": 4383
        },
        {
         "item_name": "Steak Burrito",
         "item_price": 11.75,
         "_deepnote_index_column": 4384
        },
        {
         "item_name": "Canned Soft Drink",
         "item_price": 1.25,
         "_deepnote_index_column": 4385
        },
        {
         "item_name": "Carnitas Burrito",
         "item_price": 11.75,
         "_deepnote_index_column": 4386
        },
        {
         "item_name": "Steak Bowl",
         "item_price": 11.75,
         "_deepnote_index_column": 4387
        },
        {
         "item_name": "Chicken Salad Bowl",
         "item_price": 11.25,
         "_deepnote_index_column": 4388
        },
        {
         "item_name": "Chips",
         "item_price": 4.3,
         "_deepnote_index_column": 4389
        },
        {
         "item_name": "Barbacoa Salad Bowl",
         "item_price": 9.39,
         "_deepnote_index_column": 4390
        },
        {
         "item_name": "Steak Salad Bowl",
         "item_price": 9.39,
         "_deepnote_index_column": 4391
        },
        {
         "item_name": "Chicken Bowl",
         "item_price": 8.75,
         "_deepnote_index_column": 4392
        },
        {
         "item_name": "Canned Soft Drink",
         "item_price": 1.25,
         "_deepnote_index_column": 4393
        },
        {
         "item_name": "Steak Burrito",
         "item_price": 9.25,
         "_deepnote_index_column": 4394
        },
        {
         "item_name": "Chips and Guacamole",
         "item_price": 4.45,
         "_deepnote_index_column": 4395
        },
        {
         "item_name": "Chicken Bowl",
         "item_price": 11.25,
         "_deepnote_index_column": 4396
        },
        {
         "item_name": "Canned Soft Drink",
         "item_price": 1.25,
         "_deepnote_index_column": 4397
        },
        {
         "item_name": "Chicken Bowl",
         "item_price": 8.75,
         "_deepnote_index_column": 4398
        },
        {
         "item_name": "Canned Soft Drink",
         "item_price": 1.25,
         "_deepnote_index_column": 4399
        },
        {
         "item_name": "Chips and Tomatillo Green Chili Salsa",
         "item_price": 2.95,
         "_deepnote_index_column": 4400
        },
        {
         "item_name": "Chicken Bowl",
         "item_price": 11.25,
         "_deepnote_index_column": 4401
        },
        {
         "item_name": "Chips and Guacamole",
         "item_price": 4.45,
         "_deepnote_index_column": 4402
        },
        {
         "item_name": "Chicken Burrito",
         "item_price": 8.75,
         "_deepnote_index_column": 4403
        },
        {
         "item_name": "Bottled Water",
         "item_price": 1.5,
         "_deepnote_index_column": 4404
        },
        {
         "item_name": "Chips and Guacamole",
         "item_price": 4.45,
         "_deepnote_index_column": 4405
        },
        {
         "item_name": "Chips and Guacamole",
         "item_price": 4.45,
         "_deepnote_index_column": 4406
        },
        {
         "item_name": "Steak Burrito",
         "item_price": 9.25,
         "_deepnote_index_column": 4407
        },
        {
         "item_name": "Chicken Bowl",
         "item_price": 8.75,
         "_deepnote_index_column": 4408
        },
        {
         "item_name": "Chips and Tomatillo Red Chili Salsa",
         "item_price": 2.95,
         "_deepnote_index_column": 4409
        },
        {
         "item_name": "Canned Soft Drink",
         "item_price": 1.25,
         "_deepnote_index_column": 4410
        },
        {
         "item_name": "Chicken Bowl",
         "item_price": 11.25,
         "_deepnote_index_column": 4411
        },
        {
         "item_name": "Chips and Tomatillo Red Chili Salsa",
         "item_price": 2.95,
         "_deepnote_index_column": 4412
        },
        {
         "item_name": "Chicken Bowl",
         "item_price": 8.75,
         "_deepnote_index_column": 4413
        },
        {
         "item_name": "Chicken Burrito",
         "item_price": 8.75,
         "_deepnote_index_column": 4414
        },
        {
         "item_name": "Chicken Burrito",
         "item_price": 8.75,
         "_deepnote_index_column": 4415
        },
        {
         "item_name": "Chicken Burrito",
         "item_price": 8.75,
         "_deepnote_index_column": 4416
        },
        {
         "item_name": "Chips",
         "item_price": 4.3,
         "_deepnote_index_column": 4417
        },
        {
         "item_name": "Steak Burrito",
         "item_price": 9.25,
         "_deepnote_index_column": 4418
        },
        {
         "item_name": "Steak Salad Bowl",
         "item_price": 9.39,
         "_deepnote_index_column": 4419
        },
        {
         "item_name": "Chips and Guacamole",
         "item_price": 4.45,
         "_deepnote_index_column": 4420
        },
        {
         "item_name": "Carnitas Burrito",
         "item_price": 9.25,
         "_deepnote_index_column": 4421
        },
        {
         "item_name": "Canned Soft Drink",
         "item_price": 1.25,
         "_deepnote_index_column": 4422
        },
        {
         "item_name": "Chicken Bowl",
         "item_price": 22.5,
         "_deepnote_index_column": 4423
        },
        {
         "item_name": "Chips and Guacamole",
         "item_price": 4.45,
         "_deepnote_index_column": 4424
        },
        {
         "item_name": "Chips and Fresh Tomato Salsa",
         "item_price": 2.95,
         "_deepnote_index_column": 4425
        },
        {
         "item_name": "Chips",
         "item_price": 2.15,
         "_deepnote_index_column": 4426
        },
        {
         "item_name": "Steak Bowl",
         "item_price": 23.5,
         "_deepnote_index_column": 4427
        },
        {
         "item_name": "Carnitas Bowl",
         "item_price": 11.75,
         "_deepnote_index_column": 4428
        },
        {
         "item_name": "Chips",
         "item_price": 2.15,
         "_deepnote_index_column": 4429
        },
        {
         "item_name": "Canned Soft Drink",
         "item_price": 1.25,
         "_deepnote_index_column": 4430
        },
        {
         "item_name": "Steak Burrito",
         "item_price": 9.25,
         "_deepnote_index_column": 4431
        },
        {
         "item_name": "Chips and Guacamole",
         "item_price": 4.45,
         "_deepnote_index_column": 4432
        },
        {
         "item_name": "Chicken Bowl",
         "item_price": 11.25,
         "_deepnote_index_column": 4433
        },
        {
         "item_name": "Steak Burrito",
         "item_price": 11.75,
         "_deepnote_index_column": 4434
        },
        {
         "item_name": "Chicken Bowl",
         "item_price": 17.5,
         "_deepnote_index_column": 4435
        },
        {
         "item_name": "Chicken Bowl",
         "item_price": 8.75,
         "_deepnote_index_column": 4436
        },
        {
         "item_name": "Carnitas Burrito",
         "item_price": 11.75,
         "_deepnote_index_column": 4437
        },
        {
         "item_name": "Chicken Soft Tacos",
         "item_price": 11.25,
         "_deepnote_index_column": 4438
        },
        {
         "item_name": "Chicken Salad Bowl",
         "item_price": 8.75,
         "_deepnote_index_column": 4439
        },
        {
         "item_name": "Chips and Guacamole",
         "item_price": 4.45,
         "_deepnote_index_column": 4440
        },
        {
         "item_name": "Barbacoa Bowl",
         "item_price": 11.75,
         "_deepnote_index_column": 4441
        },
        {
         "item_name": "Bottled Water",
         "item_price": 1.5,
         "_deepnote_index_column": 4442
        },
        {
         "item_name": "Chicken Bowl",
         "item_price": 8.75,
         "_deepnote_index_column": 4443
        },
        {
         "item_name": "Chicken Bowl",
         "item_price": 8.75,
         "_deepnote_index_column": 4444
        },
        {
         "item_name": "Steak Burrito",
         "item_price": 11.75,
         "_deepnote_index_column": 4445
        },
        {
         "item_name": "Steak Burrito",
         "item_price": 9.25,
         "_deepnote_index_column": 4446
        },
        {
         "item_name": "Chicken Burrito",
         "item_price": 11.25,
         "_deepnote_index_column": 4447
        },
        {
         "item_name": "Chips and Guacamole",
         "item_price": 4.45,
         "_deepnote_index_column": 4448
        },
        {
         "item_name": "Steak Bowl",
         "item_price": 11.75,
         "_deepnote_index_column": 4449
        },
        {
         "item_name": "Carnitas Crispy Tacos",
         "item_price": 9.25,
         "_deepnote_index_column": 4450
        },
        {
         "item_name": "Chips and Guacamole",
         "item_price": 4.45,
         "_deepnote_index_column": 4451
        },
        {
         "item_name": "Veggie Bowl",
         "item_price": 11.25,
         "_deepnote_index_column": 4452
        },
        {
         "item_name": "Chicken Crispy Tacos",
         "item_price": 8.75,
         "_deepnote_index_column": 4453
        },
        {
         "item_name": "Chicken Burrito",
         "item_price": 8.75,
         "_deepnote_index_column": 4454
        },
        {
         "item_name": "Chips",
         "item_price": 2.15,
         "_deepnote_index_column": 4455
        },
        {
         "item_name": "Bottled Water",
         "item_price": 1.5,
         "_deepnote_index_column": 4456
        },
        {
         "item_name": "Chicken Burrito",
         "item_price": 8.75,
         "_deepnote_index_column": 4457
        },
        {
         "item_name": "Chips and Guacamole",
         "item_price": 4.45,
         "_deepnote_index_column": 4458
        },
        {
         "item_name": "Steak Bowl",
         "item_price": 9.25,
         "_deepnote_index_column": 4459
        },
        {
         "item_name": "Chicken Burrito",
         "item_price": 8.75,
         "_deepnote_index_column": 4460
        },
        {
         "item_name": "Bottled Water",
         "item_price": 1.5,
         "_deepnote_index_column": 4461
        },
        {
         "item_name": "Canned Soft Drink",
         "item_price": 1.25,
         "_deepnote_index_column": 4462
        },
        {
         "item_name": "Canned Soft Drink",
         "item_price": 1.25,
         "_deepnote_index_column": 4463
        },
        {
         "item_name": "Canned Soft Drink",
         "item_price": 1.25,
         "_deepnote_index_column": 4464
        },
        {
         "item_name": "Chicken Bowl",
         "item_price": 8.75,
         "_deepnote_index_column": 4465
        },
        {
         "item_name": "Chips and Tomatillo Red Chili Salsa",
         "item_price": 2.95,
         "_deepnote_index_column": 4466
        },
        {
         "item_name": "Chicken Salad Bowl",
         "item_price": 11.25,
         "_deepnote_index_column": 4467
        },
        {
         "item_name": "Veggie Bowl",
         "item_price": 11.25,
         "_deepnote_index_column": 4468
        },
        {
         "item_name": "Bottled Water",
         "item_price": 1.5,
         "_deepnote_index_column": 4469
        },
        {
         "item_name": "Steak Bowl",
         "item_price": 11.75,
         "_deepnote_index_column": 4470
        },
        {
         "item_name": "Veggie Burrito",
         "item_price": 11.25,
         "_deepnote_index_column": 4471
        },
        {
         "item_name": "Chips",
         "item_price": 2.15,
         "_deepnote_index_column": 4472
        },
        {
         "item_name": "Steak Burrito",
         "item_price": 9.25,
         "_deepnote_index_column": 4473
        },
        {
         "item_name": "Chicken Soft Tacos",
         "item_price": 8.75,
         "_deepnote_index_column": 4474
        },
        {
         "item_name": "Carnitas Bowl",
         "item_price": 11.75,
         "_deepnote_index_column": 4475
        },
        {
         "item_name": "Chips and Tomatillo Green Chili Salsa",
         "item_price": 2.95,
         "_deepnote_index_column": 4476
        },
        {
         "item_name": "Bottled Water",
         "item_price": 1.5,
         "_deepnote_index_column": 4477
        },
        {
         "item_name": "Chicken Burrito",
         "item_price": 8.75,
         "_deepnote_index_column": 4478
        },
        {
         "item_name": "Bottled Water",
         "item_price": 1.5,
         "_deepnote_index_column": 4479
        },
        {
         "item_name": "Canned Soft Drink",
         "item_price": 1.25,
         "_deepnote_index_column": 4480
        },
        {
         "item_name": "Chicken Bowl",
         "item_price": 8.75,
         "_deepnote_index_column": 4481
        },
        {
         "item_name": "Carnitas Burrito",
         "item_price": 11.75,
         "_deepnote_index_column": 4482
        },
        {
         "item_name": "Chicken Bowl",
         "item_price": 11.25,
         "_deepnote_index_column": 4483
        },
        {
         "item_name": "Chicken Bowl",
         "item_price": 11.25,
         "_deepnote_index_column": 4484
        },
        {
         "item_name": "Barbacoa Bowl",
         "item_price": 11.75,
         "_deepnote_index_column": 4485
        },
        {
         "item_name": "Chicken Bowl",
         "item_price": 11.25,
         "_deepnote_index_column": 4486
        },
        {
         "item_name": "Carnitas Burrito",
         "item_price": 11.75,
         "_deepnote_index_column": 4487
        },
        {
         "item_name": "Chicken Bowl",
         "item_price": 8.75,
         "_deepnote_index_column": 4488
        },
        {
         "item_name": "Chips and Guacamole",
         "item_price": 17.8,
         "_deepnote_index_column": 4489
        },
        {
         "item_name": "Canned Soft Drink",
         "item_price": 5,
         "_deepnote_index_column": 4490
        },
        {
         "item_name": "Canned Soft Drink",
         "item_price": 5,
         "_deepnote_index_column": 4491
        },
        {
         "item_name": "Chicken Burrito",
         "item_price": 8.75,
         "_deepnote_index_column": 4492
        },
        {
         "item_name": "Chips and Tomatillo Green Chili Salsa",
         "item_price": 2.95,
         "_deepnote_index_column": 4493
        },
        {
         "item_name": "Canned Soft Drink",
         "item_price": 1.25,
         "_deepnote_index_column": 4494
        },
        {
         "item_name": "Chicken Bowl",
         "item_price": 11.25,
         "_deepnote_index_column": 4495
        },
        {
         "item_name": "Canned Soft Drink",
         "item_price": 1.25,
         "_deepnote_index_column": 4496
        },
        {
         "item_name": "Chips",
         "item_price": 2.15,
         "_deepnote_index_column": 4497
        },
        {
         "item_name": "Chicken Bowl",
         "item_price": 11.25,
         "_deepnote_index_column": 4498
        },
        {
         "item_name": "Canned Soft Drink",
         "item_price": 2.5,
         "_deepnote_index_column": 4499
        },
        {
         "item_name": "Carnitas Bowl",
         "item_price": 9.25,
         "_deepnote_index_column": 4500
        },
        {
         "item_name": "Canned Soft Drink",
         "item_price": 1.25,
         "_deepnote_index_column": 4501
        },
        {
         "item_name": "Chicken Soft Tacos",
         "item_price": 11.25,
         "_deepnote_index_column": 4502
        },
        {
         "item_name": "Chips and Fresh Tomato Salsa",
         "item_price": 2.95,
         "_deepnote_index_column": 4503
        },
        {
         "item_name": "Carnitas Bowl",
         "item_price": 11.75,
         "_deepnote_index_column": 4504
        },
        {
         "item_name": "Chips",
         "item_price": 2.15,
         "_deepnote_index_column": 4505
        },
        {
         "item_name": "Chicken Bowl",
         "item_price": 11.25,
         "_deepnote_index_column": 4506
        },
        {
         "item_name": "Bottled Water",
         "item_price": 1.5,
         "_deepnote_index_column": 4507
        },
        {
         "item_name": "Steak Burrito",
         "item_price": 8.99,
         "_deepnote_index_column": 4508
        },
        {
         "item_name": "Chips",
         "item_price": 1.99,
         "_deepnote_index_column": 4509
        },
        {
         "item_name": "Barbacoa Bowl",
         "item_price": 11.49,
         "_deepnote_index_column": 4510
        },
        {
         "item_name": "Chicken Bowl",
         "item_price": 8.75,
         "_deepnote_index_column": 4511
        },
        {
         "item_name": "Chips and Guacamole",
         "item_price": 4.45,
         "_deepnote_index_column": 4512
        },
        {
         "item_name": "Canned Soft Drink",
         "item_price": 1.25,
         "_deepnote_index_column": 4513
        },
        {
         "item_name": "Chicken Soft Tacos",
         "item_price": 8.75,
         "_deepnote_index_column": 4514
        },
        {
         "item_name": "Chips and Guacamole",
         "item_price": 4.45,
         "_deepnote_index_column": 4515
        },
        {
         "item_name": "Canned Soft Drink",
         "item_price": 1.25,
         "_deepnote_index_column": 4516
        },
        {
         "item_name": "Bottled Water",
         "item_price": 1.5,
         "_deepnote_index_column": 4517
        },
        {
         "item_name": "Steak Bowl",
         "item_price": 11.75,
         "_deepnote_index_column": 4518
        },
        {
         "item_name": "Veggie Burrito",
         "item_price": 8.75,
         "_deepnote_index_column": 4519
        },
        {
         "item_name": "Chicken Salad Bowl",
         "item_price": 8.75,
         "_deepnote_index_column": 4520
        },
        {
         "item_name": "Chicken Burrito",
         "item_price": 11.25,
         "_deepnote_index_column": 4521
        },
        {
         "item_name": "6 Pack Soft Drink",
         "item_price": 6.49,
         "_deepnote_index_column": 4522
        },
        {
         "item_name": "Steak Crispy Tacos",
         "item_price": 11.75,
         "_deepnote_index_column": 4523
        },
        {
         "item_name": "Chicken Burrito",
         "item_price": 8.75,
         "_deepnote_index_column": 4524
        },
        {
         "item_name": "Chips",
         "item_price": 2.15,
         "_deepnote_index_column": 4525
        },
        {
         "item_name": "Canned Soft Drink",
         "item_price": 1.25,
         "_deepnote_index_column": 4526
        },
        {
         "item_name": "6 Pack Soft Drink",
         "item_price": 6.49,
         "_deepnote_index_column": 4527
        },
        {
         "item_name": "Chicken Burrito",
         "item_price": 8.75,
         "_deepnote_index_column": 4528
        },
        {
         "item_name": "Chips and Guacamole",
         "item_price": 4.45,
         "_deepnote_index_column": 4529
        },
        {
         "item_name": "Chicken Burrito",
         "item_price": 8.75,
         "_deepnote_index_column": 4530
        },
        {
         "item_name": "Chips and Guacamole",
         "item_price": 4.45,
         "_deepnote_index_column": 4531
        },
        {
         "item_name": "Chicken Bowl",
         "item_price": 8.75,
         "_deepnote_index_column": 4532
        },
        {
         "item_name": "Chicken Burrito",
         "item_price": 11.25,
         "_deepnote_index_column": 4533
        },
        {
         "item_name": "Chips and Guacamole",
         "item_price": 4.45,
         "_deepnote_index_column": 4534
        },
        {
         "item_name": "6 Pack Soft Drink",
         "item_price": 6.49,
         "_deepnote_index_column": 4535
        },
        {
         "item_name": "Steak Burrito",
         "item_price": 9.25,
         "_deepnote_index_column": 4536
        },
        {
         "item_name": "Chicken Bowl",
         "item_price": 8.75,
         "_deepnote_index_column": 4537
        },
        {
         "item_name": "Canned Soft Drink",
         "item_price": 1.25,
         "_deepnote_index_column": 4538
        },
        {
         "item_name": "Chips and Guacamole",
         "item_price": 4.45,
         "_deepnote_index_column": 4539
        },
        {
         "item_name": "Chicken Bowl",
         "item_price": 11.25,
         "_deepnote_index_column": 4540
        },
        {
         "item_name": "Veggie Salad Bowl",
         "item_price": 8.75,
         "_deepnote_index_column": 4541
        },
        {
         "item_name": "Bottled Water",
         "item_price": 1.5,
         "_deepnote_index_column": 4542
        },
        {
         "item_name": "Chicken Burrito",
         "item_price": 8.75,
         "_deepnote_index_column": 4543
        },
        {
         "item_name": "Bottled Water",
         "item_price": 1.5,
         "_deepnote_index_column": 4544
        },
        {
         "item_name": "Canned Soft Drink",
         "item_price": 1.25,
         "_deepnote_index_column": 4545
        },
        {
         "item_name": "Steak Burrito",
         "item_price": 9.25,
         "_deepnote_index_column": 4546
        },
        {
         "item_name": "Steak Salad Bowl",
         "item_price": 9.39,
         "_deepnote_index_column": 4547
        },
        {
         "item_name": "Chips and Guacamole",
         "item_price": 4.45,
         "_deepnote_index_column": 4548
        },
        {
         "item_name": "Steak Soft Tacos",
         "item_price": 9.25,
         "_deepnote_index_column": 4549
        },
        {
         "item_name": "Chicken Soft Tacos",
         "item_price": 8.75,
         "_deepnote_index_column": 4550
        },
        {
         "item_name": "Chips and Guacamole",
         "item_price": 4.45,
         "_deepnote_index_column": 4551
        },
        {
         "item_name": "Canned Soft Drink",
         "item_price": 1.25,
         "_deepnote_index_column": 4552
        },
        {
         "item_name": "Chicken Bowl",
         "item_price": 11.25,
         "_deepnote_index_column": 4553
        },
        {
         "item_name": "Steak Crispy Tacos",
         "item_price": 11.75,
         "_deepnote_index_column": 4554
        },
        {
         "item_name": "Chicken Bowl",
         "item_price": 8.75,
         "_deepnote_index_column": 4555
        },
        {
         "item_name": "Chicken Burrito",
         "item_price": 11.25,
         "_deepnote_index_column": 4556
        },
        {
         "item_name": "Carnitas Soft Tacos",
         "item_price": 9.25,
         "_deepnote_index_column": 4557
        },
        {
         "item_name": "Chicken Burrito",
         "item_price": 8.75,
         "_deepnote_index_column": 4558
        },
        {
         "item_name": "Chicken Burrito",
         "item_price": 11.25,
         "_deepnote_index_column": 4559
        },
        {
         "item_name": "Canned Soft Drink",
         "item_price": 2.5,
         "_deepnote_index_column": 4560
        },
        {
         "item_name": "Chicken Salad Bowl",
         "item_price": 17.5,
         "_deepnote_index_column": 4561
        },
        {
         "item_name": "Carnitas Bowl",
         "item_price": 9.25,
         "_deepnote_index_column": 4562
        },
        {
         "item_name": "Chips and Guacamole",
         "item_price": 4.45,
         "_deepnote_index_column": 4563
        },
        {
         "item_name": "Chicken Bowl",
         "item_price": 11.25,
         "_deepnote_index_column": 4564
        },
        {
         "item_name": "Canned Soft Drink",
         "item_price": 1.25,
         "_deepnote_index_column": 4565
        },
        {
         "item_name": "Chicken Burrito",
         "item_price": 8.75,
         "_deepnote_index_column": 4566
        },
        {
         "item_name": "Chips and Guacamole",
         "item_price": 4.45,
         "_deepnote_index_column": 4567
        },
        {
         "item_name": "Bottled Water",
         "item_price": 1.5,
         "_deepnote_index_column": 4568
        },
        {
         "item_name": "Chicken Burrito",
         "item_price": 8.75,
         "_deepnote_index_column": 4569
        },
        {
         "item_name": "Bottled Water",
         "item_price": 1.5,
         "_deepnote_index_column": 4570
        },
        {
         "item_name": "Canned Soft Drink",
         "item_price": 1.25,
         "_deepnote_index_column": 4571
        },
        {
         "item_name": "Steak Salad Bowl",
         "item_price": 9.39,
         "_deepnote_index_column": 4572
        },
        {
         "item_name": "Veggie Salad Bowl",
         "item_price": 8.75,
         "_deepnote_index_column": 4573
        },
        {
         "item_name": "Chicken Bowl",
         "item_price": 8.75,
         "_deepnote_index_column": 4574
        },
        {
         "item_name": "Chips and Guacamole",
         "item_price": 4.45,
         "_deepnote_index_column": 4575
        },
        {
         "item_name": "Chicken Bowl",
         "item_price": 11.25,
         "_deepnote_index_column": 4576
        },
        {
         "item_name": "Canned Soft Drink",
         "item_price": 1.25,
         "_deepnote_index_column": 4577
        },
        {
         "item_name": "Carnitas Burrito",
         "item_price": 9.25,
         "_deepnote_index_column": 4578
        },
        {
         "item_name": "Chips and Guacamole",
         "item_price": 4.45,
         "_deepnote_index_column": 4579
        },
        {
         "item_name": "Chicken Salad Bowl",
         "item_price": 11.25,
         "_deepnote_index_column": 4580
        },
        {
         "item_name": "Chicken Bowl",
         "item_price": 8.75,
         "_deepnote_index_column": 4581
        },
        {
         "item_name": "Bottled Water",
         "item_price": 3,
         "_deepnote_index_column": 4582
        },
        {
         "item_name": "Chicken Bowl",
         "item_price": 8.75,
         "_deepnote_index_column": 4583
        },
        {
         "item_name": "Chips",
         "item_price": 2.15,
         "_deepnote_index_column": 4584
        },
        {
         "item_name": "Canned Soft Drink",
         "item_price": 1.25,
         "_deepnote_index_column": 4585
        },
        {
         "item_name": "Chicken Bowl",
         "item_price": 11.25,
         "_deepnote_index_column": 4586
        },
        {
         "item_name": "Chicken Bowl",
         "item_price": 11.25,
         "_deepnote_index_column": 4587
        },
        {
         "item_name": "Chips and Guacamole",
         "item_price": 4.45,
         "_deepnote_index_column": 4588
        },
        {
         "item_name": "Chicken Bowl",
         "item_price": 11.25,
         "_deepnote_index_column": 4589
        },
        {
         "item_name": "Chicken Bowl",
         "item_price": 11.25,
         "_deepnote_index_column": 4590
        },
        {
         "item_name": "Chicken Bowl",
         "item_price": 8.75,
         "_deepnote_index_column": 4591
        },
        {
         "item_name": "Barbacoa Burrito",
         "item_price": 11.75,
         "_deepnote_index_column": 4592
        },
        {
         "item_name": "Carnitas Bowl",
         "item_price": 11.75,
         "_deepnote_index_column": 4593
        },
        {
         "item_name": "Barbacoa Bowl",
         "item_price": 11.75,
         "_deepnote_index_column": 4594
        },
        {
         "item_name": "Chicken Bowl",
         "item_price": 8.75,
         "_deepnote_index_column": 4595
        },
        {
         "item_name": "Chips and Guacamole",
         "item_price": 4.45,
         "_deepnote_index_column": 4596
        },
        {
         "item_name": "Canned Soft Drink",
         "item_price": 1.25,
         "_deepnote_index_column": 4597
        },
        {
         "item_name": "Bottled Water",
         "item_price": 1.5,
         "_deepnote_index_column": 4598
        },
        {
         "item_name": "Chicken Bowl",
         "item_price": 8.75,
         "_deepnote_index_column": 4599
        },
        {
         "item_name": "Chips and Guacamole",
         "item_price": 4.45,
         "_deepnote_index_column": 4600
        },
        {
         "item_name": "Canned Soft Drink",
         "item_price": 1.25,
         "_deepnote_index_column": 4601
        },
        {
         "item_name": "Barbacoa Burrito",
         "item_price": 9.25,
         "_deepnote_index_column": 4602
        },
        {
         "item_name": "Barbacoa Burrito",
         "item_price": 9.25,
         "_deepnote_index_column": 4603
        },
        {
         "item_name": "Chicken Bowl",
         "item_price": 8.75,
         "_deepnote_index_column": 4604
        },
        {
         "item_name": "Chips and Guacamole",
         "item_price": 4.45,
         "_deepnote_index_column": 4605
        },
        {
         "item_name": "Canned Soft Drink",
         "item_price": 1.25,
         "_deepnote_index_column": 4606
        },
        {
         "item_name": "Steak Burrito",
         "item_price": 11.75,
         "_deepnote_index_column": 4607
        },
        {
         "item_name": "Veggie Burrito",
         "item_price": 11.25,
         "_deepnote_index_column": 4608
        },
        {
         "item_name": "Canned Soft Drink",
         "item_price": 1.25,
         "_deepnote_index_column": 4609
        },
        {
         "item_name": "Steak Burrito",
         "item_price": 11.75,
         "_deepnote_index_column": 4610
        },
        {
         "item_name": "Veggie Burrito",
         "item_price": 11.25,
         "_deepnote_index_column": 4611
        },
        {
         "item_name": "Carnitas Bowl",
         "item_price": 9.25,
         "_deepnote_index_column": 4612
        },
        {
         "item_name": "Chips",
         "item_price": 2.15,
         "_deepnote_index_column": 4613
        },
        {
         "item_name": "Bottled Water",
         "item_price": 1.5,
         "_deepnote_index_column": 4614
        },
        {
         "item_name": "Chicken Soft Tacos",
         "item_price": 8.75,
         "_deepnote_index_column": 4615
        },
        {
         "item_name": "Chips and Guacamole",
         "item_price": 4.45,
         "_deepnote_index_column": 4616
        },
        {
         "item_name": "Steak Burrito",
         "item_price": 11.75,
         "_deepnote_index_column": 4617
        },
        {
         "item_name": "Steak Burrito",
         "item_price": 11.75,
         "_deepnote_index_column": 4618
        },
        {
         "item_name": "Chicken Salad Bowl",
         "item_price": 11.25,
         "_deepnote_index_column": 4619
        },
        {
         "item_name": "Chicken Salad Bowl",
         "item_price": 8.75,
         "_deepnote_index_column": 4620
        },
        {
         "item_name": "Chicken Salad Bowl",
         "item_price": 8.75,
         "_deepnote_index_column": 4621
        }
       ]
      },
      "text/plain": "                                  item_name  item_price\n0              Chips and Fresh Tomato Salsa        2.39\n1                                      Izze        3.39\n2                          Nantucket Nectar        3.39\n3     Chips and Tomatillo-Green Chili Salsa        2.39\n4                              Chicken Bowl       16.98\n...                                     ...         ...\n4617                          Steak Burrito       11.75\n4618                          Steak Burrito       11.75\n4619                     Chicken Salad Bowl       11.25\n4620                     Chicken Salad Bowl        8.75\n4621                     Chicken Salad Bowl        8.75\n\n[4622 rows x 2 columns]",
      "text/html": "<div>\n<style scoped>\n    .dataframe tbody tr th:only-of-type {\n        vertical-align: middle;\n    }\n\n    .dataframe tbody tr th {\n        vertical-align: top;\n    }\n\n    .dataframe thead th {\n        text-align: right;\n    }\n</style>\n<table border=\"1\" class=\"dataframe\">\n  <thead>\n    <tr style=\"text-align: right;\">\n      <th></th>\n      <th>item_name</th>\n      <th>item_price</th>\n    </tr>\n  </thead>\n  <tbody>\n    <tr>\n      <th>0</th>\n      <td>Chips and Fresh Tomato Salsa</td>\n      <td>2.39</td>\n    </tr>\n    <tr>\n      <th>1</th>\n      <td>Izze</td>\n      <td>3.39</td>\n    </tr>\n    <tr>\n      <th>2</th>\n      <td>Nantucket Nectar</td>\n      <td>3.39</td>\n    </tr>\n    <tr>\n      <th>3</th>\n      <td>Chips and Tomatillo-Green Chili Salsa</td>\n      <td>2.39</td>\n    </tr>\n    <tr>\n      <th>4</th>\n      <td>Chicken Bowl</td>\n      <td>16.98</td>\n    </tr>\n    <tr>\n      <th>...</th>\n      <td>...</td>\n      <td>...</td>\n    </tr>\n    <tr>\n      <th>4617</th>\n      <td>Steak Burrito</td>\n      <td>11.75</td>\n    </tr>\n    <tr>\n      <th>4618</th>\n      <td>Steak Burrito</td>\n      <td>11.75</td>\n    </tr>\n    <tr>\n      <th>4619</th>\n      <td>Chicken Salad Bowl</td>\n      <td>11.25</td>\n    </tr>\n    <tr>\n      <th>4620</th>\n      <td>Chicken Salad Bowl</td>\n      <td>8.75</td>\n    </tr>\n    <tr>\n      <th>4621</th>\n      <td>Chicken Salad Bowl</td>\n      <td>8.75</td>\n    </tr>\n  </tbody>\n</table>\n<p>4622 rows × 2 columns</p>\n</div>"
     },
     "metadata": {}
    }
   ],
   "execution_count": null
  },
  {
   "cell_type": "markdown",
   "source": "### Step 6. Sort by the name of the item",
   "metadata": {
    "id": "-dMDXZFWwxpZ",
    "cell_id": "00011-5dab0749-ccef-4e91-aae7-7556c1ca998e",
    "deepnote_cell_type": "markdown"
   }
  },
  {
   "cell_type": "code",
   "metadata": {
    "colab": {
     "base_uri": "https://localhost:8080/",
     "height": 1000
    },
    "id": "N-BBaZi2wxpZ",
    "executionInfo": {
     "status": "ok",
     "timestamp": 1623205876735,
     "user_tz": 240,
     "elapsed": 6,
     "user": {
      "displayName": "Andrés Sánchez",
      "photoUrl": "https://lh3.googleusercontent.com/a-/AOh14Gg69bZMv30ckb-T1MJy0nSxWIHUaP0p2uP6MYBuvQ=s64",
      "userId": "07985253921366566280"
     }
    },
    "outputId": "c0d16e8e-3931-40b3-e3b2-4fa796fa7b7e",
    "cell_id": "00012-c5c0d36c-17e4-4deb-90ae-26806e1c80c5",
    "deepnote_to_be_reexecuted": false,
    "source_hash": "147fff4a",
    "execution_start": 1630097890838,
    "execution_millis": 48,
    "deepnote_cell_type": "code"
   },
   "source": "chipo.sort_values(by = 'item_name')",
   "outputs": [
    {
     "output_type": "execute_result",
     "execution_count": 6,
     "data": {
      "application/vnd.deepnote.dataframe.v2+json": {
       "row_count": 4622,
       "column_count": 5,
       "columns": [
        {
         "name": "order_id",
         "dtype": "int64",
         "stats": {
          "unique_count": 1834,
          "nan_count": 0,
          "min": "1",
          "max": "1834",
          "histogram": [
           {
            "bin_start": 1,
            "bin_end": 184.3,
            "count": 426
           },
           {
            "bin_start": 184.3,
            "bin_end": 367.6,
            "count": 464
           },
           {
            "bin_start": 367.6,
            "bin_end": 550.9000000000001,
            "count": 459
           },
           {
            "bin_start": 550.9000000000001,
            "bin_end": 734.2,
            "count": 468
           },
           {
            "bin_start": 734.2,
            "bin_end": 917.5,
            "count": 469
           },
           {
            "bin_start": 917.5,
            "bin_end": 1100.8000000000002,
            "count": 486
           },
           {
            "bin_start": 1100.8000000000002,
            "bin_end": 1284.1000000000001,
            "count": 441
           },
           {
            "bin_start": 1284.1000000000001,
            "bin_end": 1467.4,
            "count": 455
           },
           {
            "bin_start": 1467.4,
            "bin_end": 1650.7,
            "count": 453
           },
           {
            "bin_start": 1650.7,
            "bin_end": 1834,
            "count": 501
           }
          ]
         }
        },
        {
         "name": "quantity",
         "dtype": "int64",
         "stats": {
          "unique_count": 9,
          "nan_count": 0,
          "min": "1",
          "max": "15",
          "histogram": [
           {
            "bin_start": 1,
            "bin_end": 2.4,
            "count": 4579
           },
           {
            "bin_start": 2.4,
            "bin_end": 3.8,
            "count": 28
           },
           {
            "bin_start": 3.8,
            "bin_end": 5.199999999999999,
            "count": 11
           },
           {
            "bin_start": 5.199999999999999,
            "bin_end": 6.6,
            "count": 0
           },
           {
            "bin_start": 6.6,
            "bin_end": 8,
            "count": 1
           },
           {
            "bin_start": 8,
            "bin_end": 9.399999999999999,
            "count": 1
           },
           {
            "bin_start": 9.399999999999999,
            "bin_end": 10.799999999999999,
            "count": 1
           },
           {
            "bin_start": 10.799999999999999,
            "bin_end": 12.2,
            "count": 0
           },
           {
            "bin_start": 12.2,
            "bin_end": 13.6,
            "count": 0
           },
           {
            "bin_start": 13.6,
            "bin_end": 15,
            "count": 1
           }
          ]
         }
        },
        {
         "name": "item_name",
         "dtype": "object",
         "stats": {
          "unique_count": 50,
          "nan_count": 0,
          "categories": [
           {
            "name": "Chicken Bowl",
            "count": 726
           },
           {
            "name": "Chicken Burrito",
            "count": 553
           },
           {
            "name": "48 others",
            "count": 3343
           }
          ]
         }
        },
        {
         "name": "choice_description",
         "dtype": "object",
         "stats": {
          "unique_count": 1043,
          "nan_count": 1246,
          "categories": [
           {
            "name": "[Diet Coke]",
            "count": 134
           },
           {
            "name": "1042 others",
            "count": 3242
           },
           {
            "name": "Missing",
            "count": 1246
           }
          ]
         }
        },
        {
         "name": "item_price",
         "dtype": "float64",
         "stats": {
          "unique_count": 78,
          "nan_count": 0,
          "min": "1.09",
          "max": "44.25",
          "histogram": [
           {
            "bin_start": 1.09,
            "bin_end": 5.406,
            "count": 1653
           },
           {
            "bin_start": 5.406,
            "bin_end": 9.722,
            "count": 1839
           },
           {
            "bin_start": 9.722,
            "bin_end": 14.038,
            "count": 1002
           },
           {
            "bin_start": 14.038,
            "bin_end": 18.354,
            "count": 69
           },
           {
            "bin_start": 18.354,
            "bin_end": 22.669999999999998,
            "count": 38
           },
           {
            "bin_start": 22.669999999999998,
            "bin_end": 26.986,
            "count": 13
           },
           {
            "bin_start": 26.986,
            "bin_end": 31.302,
            "count": 2
           },
           {
            "bin_start": 31.302,
            "bin_end": 35.618,
            "count": 5
           },
           {
            "bin_start": 35.618,
            "bin_end": 39.934000000000005,
            "count": 0
           },
           {
            "bin_start": 39.934000000000005,
            "bin_end": 44.25,
            "count": 1
           }
          ]
         }
        },
        {
         "name": "_deepnote_index_column",
         "dtype": "int64"
        }
       ],
       "rows_top": [
        {
         "order_id": 1360,
         "quantity": 2,
         "item_name": "6 Pack Soft Drink",
         "choice_description": "[Diet Coke]",
         "item_price": 12.98,
         "_deepnote_index_column": 3389
        },
        {
         "order_id": 148,
         "quantity": 1,
         "item_name": "6 Pack Soft Drink",
         "choice_description": "[Diet Coke]",
         "item_price": 6.49,
         "_deepnote_index_column": 341
        },
        {
         "order_id": 749,
         "quantity": 1,
         "item_name": "6 Pack Soft Drink",
         "choice_description": "[Coke]",
         "item_price": 6.49,
         "_deepnote_index_column": 1849
        },
        {
         "order_id": 754,
         "quantity": 1,
         "item_name": "6 Pack Soft Drink",
         "choice_description": "[Diet Coke]",
         "item_price": 6.49,
         "_deepnote_index_column": 1860
        },
        {
         "order_id": 1076,
         "quantity": 1,
         "item_name": "6 Pack Soft Drink",
         "choice_description": "[Coke]",
         "item_price": 6.49,
         "_deepnote_index_column": 2713
        },
        {
         "order_id": 1373,
         "quantity": 1,
         "item_name": "6 Pack Soft Drink",
         "choice_description": "[Coke]",
         "item_price": 6.49,
         "_deepnote_index_column": 3422
        },
        {
         "order_id": 230,
         "quantity": 1,
         "item_name": "6 Pack Soft Drink",
         "choice_description": "[Diet Coke]",
         "item_price": 6.49,
         "_deepnote_index_column": 553
        },
        {
         "order_id": 774,
         "quantity": 1,
         "item_name": "6 Pack Soft Drink",
         "choice_description": "[Diet Coke]",
         "item_price": 6.49,
         "_deepnote_index_column": 1916
        },
        {
         "order_id": 776,
         "quantity": 1,
         "item_name": "6 Pack Soft Drink",
         "choice_description": "[Coke]",
         "item_price": 6.49,
         "_deepnote_index_column": 1922
        },
        {
         "order_id": 784,
         "quantity": 1,
         "item_name": "6 Pack Soft Drink",
         "choice_description": "[Diet Coke]",
         "item_price": 6.49,
         "_deepnote_index_column": 1937
        },
        {
         "order_id": 1537,
         "quantity": 1,
         "item_name": "6 Pack Soft Drink",
         "choice_description": "[Coke]",
         "item_price": 6.49,
         "_deepnote_index_column": 3836
        },
        {
         "order_id": 129,
         "quantity": 1,
         "item_name": "6 Pack Soft Drink",
         "choice_description": "[Sprite]",
         "item_price": 6.49,
         "_deepnote_index_column": 298
        },
        {
         "order_id": 798,
         "quantity": 1,
         "item_name": "6 Pack Soft Drink",
         "choice_description": "[Diet Coke]",
         "item_price": 6.49,
         "_deepnote_index_column": 1976
        },
        {
         "order_id": 481,
         "quantity": 1,
         "item_name": "6 Pack Soft Drink",
         "choice_description": "[Coke]",
         "item_price": 6.49,
         "_deepnote_index_column": 1167
        },
        {
         "order_id": 1554,
         "quantity": 1,
         "item_name": "6 Pack Soft Drink",
         "choice_description": "[Diet Coke]",
         "item_price": 6.49,
         "_deepnote_index_column": 3875
        },
        {
         "order_id": 465,
         "quantity": 1,
         "item_name": "6 Pack Soft Drink",
         "choice_description": "[Coke]",
         "item_price": 6.49,
         "_deepnote_index_column": 1124
        },
        {
         "order_id": 1558,
         "quantity": 1,
         "item_name": "6 Pack Soft Drink",
         "choice_description": "[Diet Coke]",
         "item_price": 6.49,
         "_deepnote_index_column": 3886
        },
        {
         "order_id": 849,
         "quantity": 1,
         "item_name": "6 Pack Soft Drink",
         "choice_description": "[Coke]",
         "item_price": 6.49,
         "_deepnote_index_column": 2108
        },
        {
         "order_id": 1196,
         "quantity": 1,
         "item_name": "6 Pack Soft Drink",
         "choice_description": "[Diet Coke]",
         "item_price": 6.49,
         "_deepnote_index_column": 3010
        },
        {
         "order_id": 1803,
         "quantity": 1,
         "item_name": "6 Pack Soft Drink",
         "choice_description": "[Lemonade]",
         "item_price": 6.49,
         "_deepnote_index_column": 4535
        },
        {
         "order_id": 1664,
         "quantity": 1,
         "item_name": "6 Pack Soft Drink",
         "choice_description": "[Diet Coke]",
         "item_price": 6.49,
         "_deepnote_index_column": 4169
        },
        {
         "order_id": 1666,
         "quantity": 1,
         "item_name": "6 Pack Soft Drink",
         "choice_description": "[Coke]",
         "item_price": 6.49,
         "_deepnote_index_column": 4174
        },
        {
         "order_id": 1800,
         "quantity": 1,
         "item_name": "6 Pack Soft Drink",
         "choice_description": "[Diet Coke]",
         "item_price": 6.49,
         "_deepnote_index_column": 4527
        },
        {
         "order_id": 1798,
         "quantity": 1,
         "item_name": "6 Pack Soft Drink",
         "choice_description": "[Diet Coke]",
         "item_price": 6.49,
         "_deepnote_index_column": 4522
        },
        {
         "order_id": 1525,
         "quantity": 1,
         "item_name": "6 Pack Soft Drink",
         "choice_description": "[Sprite]",
         "item_price": 6.49,
         "_deepnote_index_column": 3806
        },
        {
         "order_id": 949,
         "quantity": 1,
         "item_name": "6 Pack Soft Drink",
         "choice_description": "[Coke]",
         "item_price": 6.49,
         "_deepnote_index_column": 2389
        },
        {
         "order_id": 1248,
         "quantity": 1,
         "item_name": "6 Pack Soft Drink",
         "choice_description": "[Diet Coke]",
         "item_price": 6.49,
         "_deepnote_index_column": 3132
        },
        {
         "order_id": 1253,
         "quantity": 1,
         "item_name": "6 Pack Soft Drink",
         "choice_description": "[Lemonade]",
         "item_price": 6.49,
         "_deepnote_index_column": 3141
        },
        {
         "order_id": 264,
         "quantity": 1,
         "item_name": "6 Pack Soft Drink",
         "choice_description": "[Diet Coke]",
         "item_price": 6.49,
         "_deepnote_index_column": 639
        },
        {
         "order_id": 422,
         "quantity": 1,
         "item_name": "6 Pack Soft Drink",
         "choice_description": "[Sprite]",
         "item_price": 6.49,
         "_deepnote_index_column": 1026
        },
        {
         "order_id": 432,
         "quantity": 1,
         "item_name": "6 Pack Soft Drink",
         "choice_description": "[Coke]",
         "item_price": 6.49,
         "_deepnote_index_column": 1051
        },
        {
         "order_id": 899,
         "quantity": 1,
         "item_name": "6 Pack Soft Drink",
         "choice_description": "[Coke]",
         "item_price": 6.49,
         "_deepnote_index_column": 2232
        },
        {
         "order_id": 945,
         "quantity": 1,
         "item_name": "6 Pack Soft Drink",
         "choice_description": "[Sprite]",
         "item_price": 6.49,
         "_deepnote_index_column": 2374
        },
        {
         "order_id": 511,
         "quantity": 1,
         "item_name": "6 Pack Soft Drink",
         "choice_description": "[Coke]",
         "item_price": 6.49,
         "_deepnote_index_column": 1260
        },
        {
         "order_id": 363,
         "quantity": 1,
         "item_name": "6 Pack Soft Drink",
         "choice_description": "[Coke]",
         "item_price": 6.49,
         "_deepnote_index_column": 879
        },
        {
         "order_id": 1480,
         "quantity": 1,
         "item_name": "6 Pack Soft Drink",
         "choice_description": "[Diet Coke]",
         "item_price": 6.49,
         "_deepnote_index_column": 3693
        },
        {
         "order_id": 1517,
         "quantity": 1,
         "item_name": "6 Pack Soft Drink",
         "choice_description": "[Diet Coke]",
         "item_price": 6.49,
         "_deepnote_index_column": 3789
        },
        {
         "order_id": 1109,
         "quantity": 1,
         "item_name": "6 Pack Soft Drink",
         "choice_description": "[Diet Coke]",
         "item_price": 6.49,
         "_deepnote_index_column": 2793
        },
        {
         "order_id": 1136,
         "quantity": 1,
         "item_name": "6 Pack Soft Drink",
         "choice_description": "[Diet Coke]",
         "item_price": 6.49,
         "_deepnote_index_column": 2860
        },
        {
         "order_id": 566,
         "quantity": 1,
         "item_name": "6 Pack Soft Drink",
         "choice_description": "[Diet Coke]",
         "item_price": 6.49,
         "_deepnote_index_column": 1392
        },
        {
         "order_id": 1443,
         "quantity": 1,
         "item_name": "6 Pack Soft Drink",
         "choice_description": "[Coke]",
         "item_price": 6.49,
         "_deepnote_index_column": 3600
        },
        {
         "order_id": 1448,
         "quantity": 1,
         "item_name": "6 Pack Soft Drink",
         "choice_description": "[Nestea]",
         "item_price": 6.49,
         "_deepnote_index_column": 3614
        },
        {
         "order_id": 1741,
         "quantity": 1,
         "item_name": "6 Pack Soft Drink",
         "choice_description": "[Coke]",
         "item_price": 6.49,
         "_deepnote_index_column": 4359
        },
        {
         "order_id": 1742,
         "quantity": 1,
         "item_name": "6 Pack Soft Drink",
         "choice_description": "[Diet Coke]",
         "item_price": 6.49,
         "_deepnote_index_column": 4363
        },
        {
         "order_id": 1454,
         "quantity": 1,
         "item_name": "6 Pack Soft Drink",
         "choice_description": "[Coke]",
         "item_price": 6.49,
         "_deepnote_index_column": 3633
        },
        {
         "order_id": 168,
         "quantity": 1,
         "item_name": "6 Pack Soft Drink",
         "choice_description": "[Diet Coke]",
         "item_price": 6.49,
         "_deepnote_index_column": 388
        },
        {
         "order_id": 298,
         "quantity": 1,
         "item_name": "6 Pack Soft Drink",
         "choice_description": "[Nestea]",
         "item_price": 6.49,
         "_deepnote_index_column": 721
        },
        {
         "order_id": 182,
         "quantity": 1,
         "item_name": "6 Pack Soft Drink",
         "choice_description": "[Diet Coke]",
         "item_price": 6.49,
         "_deepnote_index_column": 417
        },
        {
         "order_id": 709,
         "quantity": 1,
         "item_name": "6 Pack Soft Drink",
         "choice_description": "[Diet Coke]",
         "item_price": 6.49,
         "_deepnote_index_column": 1758
        },
        {
         "order_id": 1508,
         "quantity": 1,
         "item_name": "6 Pack Soft Drink",
         "choice_description": "[Coke]",
         "item_price": 6.49,
         "_deepnote_index_column": 3766
        },
        {
         "order_id": 306,
         "quantity": 1,
         "item_name": "6 Pack Soft Drink",
         "choice_description": "[Coke]",
         "item_price": 6.49,
         "_deepnote_index_column": 743
        },
        {
         "order_id": 154,
         "quantity": 1,
         "item_name": "6 Pack Soft Drink",
         "choice_description": "[Coke]",
         "item_price": 6.49,
         "_deepnote_index_column": 357
        },
        {
         "order_id": 708,
         "quantity": 1,
         "item_name": "6 Pack Soft Drink",
         "choice_description": "[Coke]",
         "item_price": 6.49,
         "_deepnote_index_column": 1755
        },
        {
         "order_id": 520,
         "quantity": 1,
         "item_name": "6 Pack Soft Drink",
         "choice_description": "[Sprite]",
         "item_price": 6.49,
         "_deepnote_index_column": 1279
        },
        {
         "order_id": 182,
         "quantity": 1,
         "item_name": "Barbacoa Bowl",
         "choice_description": "[Fresh Tomato Salsa, [Fajita Vegetables, Rice, Black Beans, Cheese]]",
         "item_price": 9.25,
         "_deepnote_index_column": 418
        },
        {
         "order_id": 907,
         "quantity": 1,
         "item_name": "Barbacoa Bowl",
         "choice_description": "[Fresh Tomato Salsa, [Rice, Fajita Vegetables, Black Beans, Sour Cream]]",
         "item_price": 9.25,
         "_deepnote_index_column": 2253
        },
        {
         "order_id": 1786,
         "quantity": 1,
         "item_name": "Barbacoa Bowl",
         "choice_description": "[Fresh Tomato Salsa, [Fajita Vegetables, Rice, Black Beans, Guacamole, Lettuce]]",
         "item_price": 11.75,
         "_deepnote_index_column": 4485
        },
        {
         "order_id": 425,
         "quantity": 1,
         "item_name": "Barbacoa Bowl",
         "choice_description": "[Fresh Tomato Salsa, [Fajita Vegetables, Rice, Cheese, Sour Cream]]",
         "item_price": 9.25,
         "_deepnote_index_column": 1032
        },
        {
         "order_id": 1200,
         "quantity": 1,
         "item_name": "Barbacoa Bowl",
         "choice_description": "[Fresh Tomato Salsa, [Fajita Vegetables, Rice, Black Beans, Cheese, Guacamole, Lettuce]]",
         "item_price": 11.75,
         "_deepnote_index_column": 3017
        },
        {
         "order_id": 562,
         "quantity": 1,
         "item_name": "Barbacoa Bowl",
         "choice_description": "[[Tomatillo-Green Chili Salsa (Medium), Roasted Chili Corn Salsa (Medium)], [Rice, Fajita Veggies, …",
         "item_price": 11.48,
         "_deepnote_index_column": 1383
        },
        {
         "order_id": 945,
         "quantity": 1,
         "item_name": "Barbacoa Bowl",
         "choice_description": "[Tomatillo Red Chili Salsa, [Rice, Cheese, Lettuce]]",
         "item_price": 9.25,
         "_deepnote_index_column": 2372
        },
        {
         "order_id": 1203,
         "quantity": 1,
         "item_name": "Barbacoa Bowl",
         "choice_description": "[Roasted Chili Corn Salsa, [Fajita Vegetables, Rice, Guacamole]]",
         "item_price": 11.75,
         "_deepnote_index_column": 3025
        },
        {
         "order_id": 576,
         "quantity": 1,
         "item_name": "Barbacoa Bowl",
         "choice_description": "[Roasted Chili Corn Salsa]",
         "item_price": 9.25,
         "_deepnote_index_column": 1420
        },
        {
         "order_id": 953,
         "quantity": 1,
         "item_name": "Barbacoa Bowl",
         "choice_description": "[Roasted Chili Corn Salsa, [Cheese, Lettuce]]",
         "item_price": 9.25,
         "_deepnote_index_column": 2399
        },
        {
         "order_id": 1793,
         "quantity": 1,
         "item_name": "Barbacoa Bowl",
         "choice_description": "[Guacamole]",
         "item_price": 11.49,
         "_deepnote_index_column": 4510
        },
        {
         "order_id": 380,
         "quantity": 1,
         "item_name": "Barbacoa Bowl",
         "choice_description": "[Tomatillo Red Chili Salsa, [Fajita Vegetables, Rice, Black Beans, Pinto Beans, Cheese, Sour Cream,…",
         "item_price": 11.75,
         "_deepnote_index_column": 919
        },
        {
         "order_id": 61,
         "quantity": 1,
         "item_name": "Barbacoa Bowl",
         "choice_description": "[Tomatillo Red Chili Salsa, [Fajita Vegetables, Rice, Black Beans, Cheese, Sour Cream, Guacamole, L…",
         "item_price": 11.75,
         "_deepnote_index_column": 136
        },
        {
         "order_id": 1278,
         "quantity": 1,
         "item_name": "Barbacoa Bowl",
         "choice_description": "[Fresh Tomato (Mild), [Lettuce, Black Beans, Rice]]",
         "item_price": 8.69,
         "_deepnote_index_column": 3195
        },
        {
         "order_id": 56,
         "quantity": 1,
         "item_name": "Barbacoa Bowl",
         "choice_description": "[Tomatillo Red Chili Salsa, [Rice, Pinto Beans, Cheese, Lettuce]]",
         "item_price": 9.25,
         "_deepnote_index_column": 127
        },
        {
         "order_id": 576,
         "quantity": 1,
         "item_name": "Barbacoa Bowl",
         "choice_description": "[Roasted Chili Corn Salsa]",
         "item_price": 9.25,
         "_deepnote_index_column": 1419
        },
        {
         "order_id": 202,
         "quantity": 1,
         "item_name": "Barbacoa Bowl",
         "choice_description": "[[Tomatillo-Green Chili Salsa (Medium), Roasted Chili Corn Salsa (Medium)], [Black Beans, Rice, Che…",
         "item_price": 11.48,
         "_deepnote_index_column": 471
        },
        {
         "order_id": 51,
         "quantity": 1,
         "item_name": "Barbacoa Bowl",
         "choice_description": "[[Tomatillo-Red Chili Salsa (Hot), Tomatillo-Green Chili Salsa (Medium)], [Rice, Pinto Beans, Fajit…",
         "item_price": 8.99,
         "_deepnote_index_column": 115
        },
        {
         "order_id": 576,
         "quantity": 1,
         "item_name": "Barbacoa Bowl",
         "choice_description": "[Tomatillo Red Chili Salsa]",
         "item_price": 9.25,
         "_deepnote_index_column": 1417
        },
        {
         "order_id": 514,
         "quantity": 1,
         "item_name": "Barbacoa Bowl",
         "choice_description": "[Tomatillo Red Chili Salsa, [Rice, Black Beans, Cheese, Lettuce]]",
         "item_price": 9.25,
         "_deepnote_index_column": 1264
        },
        {
         "order_id": 440,
         "quantity": 1,
         "item_name": "Barbacoa Bowl",
         "choice_description": "[Tomatillo Red Chili Salsa, [Rice, Cheese, Lettuce]]",
         "item_price": 9.25,
         "_deepnote_index_column": 1068
        },
        {
         "order_id": 730,
         "quantity": 1,
         "item_name": "Barbacoa Bowl",
         "choice_description": "[Fresh Tomato Salsa (Mild), [Rice, Cheese, Sour Cream, Lettuce]]",
         "item_price": 8.99,
         "_deepnote_index_column": 1804
        },
        {
         "order_id": 1748,
         "quantity": 1,
         "item_name": "Barbacoa Bowl",
         "choice_description": "[Fresh Tomato Salsa, [Fajita Vegetables, Rice, Black Beans, Cheese, Guacamole, Lettuce]]",
         "item_price": 11.75,
         "_deepnote_index_column": 4380
        },
        {
         "order_id": 504,
         "quantity": 1,
         "item_name": "Barbacoa Bowl",
         "choice_description": "[Fresh Tomato Salsa (Mild), [Black Beans, Rice, Cheese, Sour Cream, Guacamole, Lettuce]]",
         "item_price": 11.48,
         "_deepnote_index_column": 1236
        },
        {
         "order_id": 504,
         "quantity": 1,
         "item_name": "Barbacoa Bowl",
         "choice_description": "[Tomatillo-Green Chili Salsa (Medium), [Black Beans, Rice, Cheese, Guacamole]]",
         "item_price": 11.48,
         "_deepnote_index_column": 1235
        },
        {
         "order_id": 1533,
         "quantity": 1,
         "item_name": "Barbacoa Bowl",
         "choice_description": "[Fresh Tomato (Mild), [Lettuce, Rice, Cheese]]",
         "item_price": 8.69,
         "_deepnote_index_column": 3822
        },
        {
         "order_id": 676,
         "quantity": 1,
         "item_name": "Barbacoa Bowl",
         "choice_description": "[Fresh Tomato Salsa, [Rice, Black Beans, Cheese, Lettuce]]",
         "item_price": 9.25,
         "_deepnote_index_column": 1670
        },
        {
         "order_id": 1361,
         "quantity": 1,
         "item_name": "Barbacoa Bowl",
         "choice_description": "[Fresh Tomato Salsa, [Rice, Black Beans, Cheese, Sour Cream, Guacamole, Lettuce]]",
         "item_price": 11.75,
         "_deepnote_index_column": 3394
        },
        {
         "order_id": 1000,
         "quantity": 1,
         "item_name": "Barbacoa Bowl",
         "choice_description": "[Roasted Chili Corn Salsa, [Rice, Black Beans, Cheese, Sour Cream, Lettuce]]",
         "item_price": 9.25,
         "_deepnote_index_column": 2517
        },
        {
         "order_id": 550,
         "quantity": 1,
         "item_name": "Barbacoa Bowl",
         "choice_description": "[Fresh Tomato Salsa, [Rice, Black Beans, Cheese, Lettuce]]",
         "item_price": 9.25,
         "_deepnote_index_column": 1347
        },
        {
         "order_id": 1426,
         "quantity": 1,
         "item_name": "Barbacoa Bowl",
         "choice_description": "[Fresh Tomato Salsa, [Rice, Cheese, Sour Cream, Guacamole, Lettuce]]",
         "item_price": 11.75,
         "_deepnote_index_column": 3547
        },
        {
         "order_id": 1356,
         "quantity": 1,
         "item_name": "Barbacoa Bowl",
         "choice_description": "[Fresh Tomato Salsa, [Rice, Black Beans, Cheese]]",
         "item_price": 9.25,
         "_deepnote_index_column": 3376
        },
        {
         "order_id": 795,
         "quantity": 1,
         "item_name": "Barbacoa Bowl",
         "choice_description": "[Tomatillo Red Chili Salsa]",
         "item_price": 9.25,
         "_deepnote_index_column": 1970
        },
        {
         "order_id": 485,
         "quantity": 1,
         "item_name": "Barbacoa Bowl",
         "choice_description": "[[Roasted Chili Corn Salsa (Medium), Tomatillo-Red Chili Salsa (Hot)], [Pinto Beans, Rice, Fajita V…",
         "item_price": 8.99,
         "_deepnote_index_column": 1179
        },
        {
         "order_id": 483,
         "quantity": 1,
         "item_name": "Barbacoa Bowl",
         "choice_description": "[Fresh Tomato Salsa (Mild), [Black Beans, Rice, Cheese, Sour Cream, Guacamole, Lettuce]]",
         "item_price": 11.48,
         "_deepnote_index_column": 1175
        },
        {
         "order_id": 483,
         "quantity": 1,
         "item_name": "Barbacoa Bowl",
         "choice_description": "[Tomatillo-Green Chili Salsa (Medium), [Black Beans, Rice, Cheese, Guacamole]]",
         "item_price": 11.48,
         "_deepnote_index_column": 1174
        },
        {
         "order_id": 667,
         "quantity": 1,
         "item_name": "Barbacoa Bowl",
         "choice_description": "[[Tomatillo-Green Chili Salsa (Medium), Tomatillo-Red Chili Salsa (Hot)], [Black Beans, Rice, Chees…",
         "item_price": 8.99,
         "_deepnote_index_column": 1650
        },
        {
         "order_id": 812,
         "quantity": 1,
         "item_name": "Barbacoa Bowl",
         "choice_description": "[Tomatillo Red Chili Salsa, [Black Beans, Cheese, Sour Cream, Guacamole]]",
         "item_price": 11.75,
         "_deepnote_index_column": 2013
        },
        {
         "order_id": 1770,
         "quantity": 1,
         "item_name": "Barbacoa Bowl",
         "choice_description": "[Tomatillo Green Chili Salsa, [Rice, Cheese, Guacamole, Lettuce]]",
         "item_price": 11.75,
         "_deepnote_index_column": 4441
        },
        {
         "order_id": 836,
         "quantity": 1,
         "item_name": "Barbacoa Bowl",
         "choice_description": "[Tomatillo Green Chili Salsa, [Fajita Vegetables, Pinto Beans, Sour Cream, Guacamole, Lettuce]]",
         "item_price": 11.75,
         "_deepnote_index_column": 2073
        },
        {
         "order_id": 110,
         "quantity": 1,
         "item_name": "Barbacoa Bowl",
         "choice_description": "[Tomatillo Red Chili Salsa, [Rice, Cheese, Lettuce]]",
         "item_price": 9.25,
         "_deepnote_index_column": 254
        },
        {
         "order_id": 1426,
         "quantity": 1,
         "item_name": "Barbacoa Bowl",
         "choice_description": "[Fresh Tomato Salsa, [Rice, Black Beans, Cheese, Sour Cream, Lettuce]]",
         "item_price": 9.25,
         "_deepnote_index_column": 3549
        },
        {
         "order_id": 664,
         "quantity": 1,
         "item_name": "Barbacoa Bowl",
         "choice_description": "[Fresh Tomato Salsa, [Rice, Black Beans, Cheese, Sour Cream, Guacamole]]",
         "item_price": 11.75,
         "_deepnote_index_column": 1643
        },
        {
         "order_id": 554,
         "quantity": 1,
         "item_name": "Barbacoa Bowl",
         "choice_description": "[Fresh Tomato Salsa, [Rice, Black Beans, Pinto Beans, Cheese, Sour Cream, Lettuce]]",
         "item_price": 9.25,
         "_deepnote_index_column": 1357
        },
        {
         "order_id": 244,
         "quantity": 1,
         "item_name": "Barbacoa Bowl",
         "choice_description": "[Roasted Chili Corn Salsa, [Rice, Cheese, Lettuce]]",
         "item_price": 9.25,
         "_deepnote_index_column": 592
        },
        {
         "order_id": 1299,
         "quantity": 1,
         "item_name": "Barbacoa Bowl",
         "choice_description": "[[Tomatillo-Red Chili Salsa (Hot), Tomatillo-Green Chili Salsa (Medium)], [Rice, Pinto Beans, Fajit…",
         "item_price": 8.99,
         "_deepnote_index_column": 3245
        }
       ],
       "rows_bottom": [
        {
         "order_id": 1830,
         "quantity": 1,
         "item_name": "Veggie Burrito",
         "choice_description": "[Tomatillo Green Chili Salsa, [Rice, Fajita Vegetables, Black Beans, Guacamole]]",
         "item_price": 11.25,
         "_deepnote_index_column": 4611
        },
        {
         "order_id": 1829,
         "quantity": 1,
         "item_name": "Veggie Burrito",
         "choice_description": "[Tomatillo Red Chili Salsa, [Fajita Vegetables, Rice, Black Beans, Cheese, Guacamole, Lettuce]]",
         "item_price": 11.25,
         "_deepnote_index_column": 4608
        },
        {
         "order_id": 384,
         "quantity": 1,
         "item_name": "Veggie Burrito",
         "choice_description": "[Fresh Tomato Salsa, [Rice, Black Beans, Guacamole, Lettuce]]",
         "item_price": 11.25,
         "_deepnote_index_column": 931
        },
        {
         "order_id": 1132,
         "quantity": 1,
         "item_name": "Veggie Burrito",
         "choice_description": "[Roasted Chili Corn Salsa (Medium), [Black Beans, Rice, Fajita Veggies, Cheese, Sour Cream, Lettuce…",
         "item_price": 8.49,
         "_deepnote_index_column": 2849
        },
        {
         "order_id": 1395,
         "quantity": 1,
         "item_name": "Veggie Burrito",
         "choice_description": "[[Fresh Tomato Salsa (Mild), Roasted Chili Corn Salsa (Medium)], [Rice, Fajita Veggies, Sour Cream]]",
         "item_price": 8.49,
         "_deepnote_index_column": 3470
        },
        {
         "order_id": 1366,
         "quantity": 1,
         "item_name": "Veggie Burrito",
         "choice_description": "[Fresh Tomato Salsa, [Fajita Vegetables, Rice, Black Beans, Cheese, Guacamole, Lettuce]]",
         "item_price": 11.25,
         "_deepnote_index_column": 3404
        },
        {
         "order_id": 427,
         "quantity": 1,
         "item_name": "Veggie Burrito",
         "choice_description": "[Fresh Tomato Salsa (Mild), [Pinto Beans, Rice, Sour Cream, Cheese]]",
         "item_price": 8.49,
         "_deepnote_index_column": 1038
        },
        {
         "order_id": 1397,
         "quantity": 1,
         "item_name": "Veggie Burrito",
         "choice_description": "[Fresh Tomato Salsa, [Fajita Vegetables, Rice, Black Beans, Cheese, Sour Cream, Guacamole, Lettuce]]",
         "item_price": 11.25,
         "_deepnote_index_column": 3478
        },
        {
         "order_id": 171,
         "quantity": 1,
         "item_name": "Veggie Burrito",
         "choice_description": "[Tomatillo Green Chili Salsa, Guacamole]",
         "item_price": 11.25,
         "_deepnote_index_column": 394
        },
        {
         "order_id": 335,
         "quantity": 1,
         "item_name": "Veggie Burrito",
         "choice_description": "[Fresh Tomato Salsa (Mild), [Cheese, Rice, Pinto Beans, Sour Cream]]",
         "item_price": 8.49,
         "_deepnote_index_column": 813
        },
        {
         "order_id": 200,
         "quantity": 1,
         "item_name": "Veggie Burrito",
         "choice_description": "[Fresh Tomato Salsa (Mild), [Pinto Beans, Rice, Cheese, Sour Cream]]",
         "item_price": 8.49,
         "_deepnote_index_column": 467
        },
        {
         "order_id": 713,
         "quantity": 1,
         "item_name": "Veggie Burrito",
         "choice_description": "[[Fresh Tomato Salsa (Mild), Roasted Chili Corn Salsa (Medium)], [Black Beans, Rice, Cheese, Sour C…",
         "item_price": 10.98,
         "_deepnote_index_column": 1768
        },
        {
         "order_id": 1094,
         "quantity": 1,
         "item_name": "Veggie Burrito",
         "choice_description": "[[Tomatillo-Green Chili Salsa (Medium), Roasted Chili Corn Salsa (Medium), Tomatillo-Red Chili Sals…",
         "item_price": 8.49,
         "_deepnote_index_column": 2755
        },
        {
         "order_id": 201,
         "quantity": 1,
         "item_name": "Veggie Burrito",
         "choice_description": "[Fresh Tomato Salsa (Mild), [Pinto Beans, Rice, Sour Cream, Cheese]]",
         "item_price": 8.49,
         "_deepnote_index_column": 469
        },
        {
         "order_id": 399,
         "quantity": 1,
         "item_name": "Veggie Burrito",
         "choice_description": "[Fresh Tomato Salsa (Mild), [Rice, Pinto Beans, Cheese, Sour Cream]]",
         "item_price": 8.49,
         "_deepnote_index_column": 972
        },
        {
         "order_id": 668,
         "quantity": 1,
         "item_name": "Veggie Burrito",
         "choice_description": "[Fresh Tomato Salsa (Mild), [Pinto Beans, Rice, Cheese, Sour Cream]]",
         "item_price": 8.49,
         "_deepnote_index_column": 1652
        },
        {
         "order_id": 1723,
         "quantity": 1,
         "item_name": "Veggie Burrito",
         "choice_description": "[Roasted Chili Corn Salsa, [Fajita Vegetables, Rice, Black Beans, Sour Cream, Guacamole, Lettuce]]",
         "item_price": 11.25,
         "_deepnote_index_column": 4319
        },
        {
         "order_id": 400,
         "quantity": 1,
         "item_name": "Veggie Burrito",
         "choice_description": "[Tomatillo Green Chili Salsa, [Rice, Fajita Vegetables, Pinto Beans, Sour Cream, Cheese, Lettuce, G…",
         "item_price": 11.25,
         "_deepnote_index_column": 973
        },
        {
         "order_id": 1585,
         "quantity": 1,
         "item_name": "Veggie Burrito",
         "choice_description": "[[Fresh Tomato Salsa (Mild), Roasted Chili Corn Salsa (Medium)], [Black Beans, Rice, Fajita Veggies…",
         "item_price": 8.49,
         "_deepnote_index_column": 3954
        },
        {
         "order_id": 26,
         "quantity": 1,
         "item_name": "Veggie Burrito",
         "choice_description": "[Tomatillo Red Chili Salsa, [Fajita Vegetables, Rice, Black Beans, Cheese, Sour Cream, Guacamole, L…",
         "item_price": 11.25,
         "_deepnote_index_column": 57
        },
        {
         "order_id": 342,
         "quantity": 1,
         "item_name": "Veggie Burrito",
         "choice_description": "[Fresh Tomato Salsa (Mild), [Cheese, Pinto Beans, Sour Cream, Rice]]",
         "item_price": 8.49,
         "_deepnote_index_column": 827
        },
        {
         "order_id": 1635,
         "quantity": 1,
         "item_name": "Veggie Burrito",
         "choice_description": "[[Fresh Tomato Salsa (Mild), Roasted Chili Corn Salsa (Medium), Tomatillo-Red Chili Salsa (Hot)], […",
         "item_price": 8.49,
         "_deepnote_index_column": 4083
        },
        {
         "order_id": 719,
         "quantity": 1,
         "item_name": "Veggie Burrito",
         "choice_description": "[Fresh Tomato Salsa, [Fajita Vegetables, Rice, Black Beans, Cheese, Sour Cream, Guacamole]]",
         "item_price": 11.25,
         "_deepnote_index_column": 1778
        },
        {
         "order_id": 1503,
         "quantity": 1,
         "item_name": "Veggie Burrito",
         "choice_description": "[[Tomatillo-Green Chili Salsa (Medium), Roasted Chili Corn Salsa (Medium), Tomatillo-Red Chili Sals…",
         "item_price": 8.49,
         "_deepnote_index_column": 3755
        },
        {
         "order_id": 1797,
         "quantity": 1,
         "item_name": "Veggie Burrito",
         "choice_description": "[Fresh Tomato Salsa, [Rice, Pinto Beans, Cheese]]",
         "item_price": 8.75,
         "_deepnote_index_column": 4519
        },
        {
         "order_id": 511,
         "quantity": 1,
         "item_name": "Veggie Burrito",
         "choice_description": "[Fresh Tomato Salsa, [Fajita Vegetables, Rice, Black Beans, Cheese, Lettuce]]",
         "item_price": 8.75,
         "_deepnote_index_column": 1256
        },
        {
         "order_id": 1217,
         "quantity": 1,
         "item_name": "Veggie Burrito",
         "choice_description": "[Fresh Tomato Salsa (Mild), [Black Beans, Rice, Fajita Veggies, Cheese, Sour Cream]]",
         "item_price": 8.49,
         "_deepnote_index_column": 3056
        },
        {
         "order_id": 512,
         "quantity": 1,
         "item_name": "Veggie Burrito",
         "choice_description": "[Roasted Chili Corn Salsa (Medium), [Black Beans, Rice, Fajita Veggies, Cheese, Sour Cream, Guacamo…",
         "item_price": 10.98,
         "_deepnote_index_column": 1261
        },
        {
         "order_id": 846,
         "quantity": 1,
         "item_name": "Veggie Burrito",
         "choice_description": "[Fresh Tomato Salsa, [Rice, Pinto Beans, Cheese]]",
         "item_price": 8.75,
         "_deepnote_index_column": 2096
        },
        {
         "order_id": 658,
         "quantity": 1,
         "item_name": "Veggie Burrito",
         "choice_description": "[Fresh Tomato Salsa, [Fajita Vegetables, Rice, Black Beans, Sour Cream, Guacamole, Lettuce]]",
         "item_price": 11.25,
         "_deepnote_index_column": 1631
        },
        {
         "order_id": 1511,
         "quantity": 1,
         "item_name": "Veggie Burrito",
         "choice_description": "[Fresh Tomato Salsa, [Fajita Vegetables, Rice, Black Beans, Cheese, Sour Cream, Guacamole, Lettuce]]",
         "item_price": 11.25,
         "_deepnote_index_column": 3776
        },
        {
         "order_id": 275,
         "quantity": 1,
         "item_name": "Veggie Burrito",
         "choice_description": "[Fresh Tomato Salsa (Mild), [Pinto Beans, Rice, Cheese, Sour Cream]]",
         "item_price": 8.49,
         "_deepnote_index_column": 662
        },
        {
         "order_id": 1312,
         "quantity": 1,
         "item_name": "Veggie Burrito",
         "choice_description": "[Fresh Tomato Salsa, [Rice, Black Beans, Cheese, Lettuce]]",
         "item_price": 8.75,
         "_deepnote_index_column": 3274
        },
        {
         "order_id": 963,
         "quantity": 1,
         "item_name": "Veggie Burrito",
         "choice_description": "[Tomatillo Red Chili Salsa, [Fajita Vegetables, Rice, Black Beans, Cheese, Guacamole, Lettuce]]",
         "item_price": 11.25,
         "_deepnote_index_column": 2425
        },
        {
         "order_id": 46,
         "quantity": 1,
         "item_name": "Veggie Burrito",
         "choice_description": "[Fresh Tomato Salsa (Mild), [Black Beans, Rice, Fajita Veggies, Sour Cream, Lettuce]]",
         "item_price": 8.49,
         "_deepnote_index_column": 104
        },
        {
         "order_id": 224,
         "quantity": 1,
         "item_name": "Veggie Burrito",
         "choice_description": "[Fresh Tomato Salsa (Mild), [Pinto Beans, Rice, Cheese, Sour Cream]]",
         "item_price": 8.49,
         "_deepnote_index_column": 535
        },
        {
         "order_id": 894,
         "quantity": 1,
         "item_name": "Veggie Burrito",
         "choice_description": "[Fresh Tomato Salsa, [Fajita Vegetables, Rice, Pinto Beans, Cheese, Guacamole, Lettuce]]",
         "item_price": 11.25,
         "_deepnote_index_column": 2219
        },
        {
         "order_id": 1443,
         "quantity": 3,
         "item_name": "Veggie Burrito",
         "choice_description": "[Fresh Tomato Salsa, [Fajita Vegetables, Rice, Black Beans, Cheese, Sour Cream, Guacamole]]",
         "item_price": 33.75,
         "_deepnote_index_column": 3601
        },
        {
         "order_id": 879,
         "quantity": 1,
         "item_name": "Veggie Burrito",
         "choice_description": "[Fresh Tomato Salsa, [Fajita Vegetables, Rice, Black Beans, Cheese, Sour Cream]]",
         "item_price": 8.75,
         "_deepnote_index_column": 2177
        },
        {
         "order_id": 1294,
         "quantity": 1,
         "item_name": "Veggie Burrito",
         "choice_description": "[Fresh Tomato Salsa, [Fajita Vegetables, Rice, Black Beans, Cheese, Guacamole, Lettuce]]",
         "item_price": 11.25,
         "_deepnote_index_column": 3235
        },
        {
         "order_id": 1294,
         "quantity": 1,
         "item_name": "Veggie Burrito",
         "choice_description": "[Tomatillo Red Chili Salsa, [Fajita Vegetables, Rice, Pinto Beans, Cheese, Lettuce]]",
         "item_price": 8.75,
         "_deepnote_index_column": 3234
        },
        {
         "order_id": 608,
         "quantity": 1,
         "item_name": "Veggie Burrito",
         "choice_description": "[[Fresh Tomato Salsa (Mild), Roasted Chili Corn Salsa (Medium)], [Black Beans, Rice, Fajita Veggies…",
         "item_price": 8.49,
         "_deepnote_index_column": 1497
        },
        {
         "order_id": 260,
         "quantity": 1,
         "item_name": "Veggie Burrito",
         "choice_description": "[Fresh Tomato Salsa (Mild), [Pinto Beans, Rice, Cheese, Sour Cream]]",
         "item_price": 8.49,
         "_deepnote_index_column": 631
        },
        {
         "order_id": 1243,
         "quantity": 1,
         "item_name": "Veggie Burrito",
         "choice_description": "[Fresh Tomato Salsa, [Fajita Vegetables, Rice, Black Beans, Guacamole, Lettuce]]",
         "item_price": 11.25,
         "_deepnote_index_column": 3113
        },
        {
         "order_id": 894,
         "quantity": 1,
         "item_name": "Veggie Burrito",
         "choice_description": "[Tomatillo Red Chili Salsa, [Fajita Vegetables, Rice, Pinto Beans, Cheese, Lettuce]]",
         "item_price": 8.75,
         "_deepnote_index_column": 2218
        },
        {
         "order_id": 257,
         "quantity": 1,
         "item_name": "Veggie Burrito",
         "choice_description": "[Tomatillo Green Chili Salsa]",
         "item_price": 8.75,
         "_deepnote_index_column": 623
        },
        {
         "order_id": 584,
         "quantity": 1,
         "item_name": "Veggie Burrito",
         "choice_description": "[Fresh Tomato Salsa (Mild), [Pinto Beans, Rice, Cheese, Sour Cream]]",
         "item_price": 8.49,
         "_deepnote_index_column": 1440
        },
        {
         "order_id": 592,
         "quantity": 1,
         "item_name": "Veggie Burrito",
         "choice_description": "[Fresh Tomato Salsa, [Rice, Pinto Beans, Cheese]]",
         "item_price": 8.75,
         "_deepnote_index_column": 1459
        },
        {
         "order_id": 1208,
         "quantity": 1,
         "item_name": "Veggie Burrito",
         "choice_description": "[Fresh Tomato Salsa, [Fajita Vegetables, Rice, Black Beans, Cheese, Guacamole, Lettuce]]",
         "item_price": 11.25,
         "_deepnote_index_column": 3037
        },
        {
         "order_id": 472,
         "quantity": 1,
         "item_name": "Veggie Burrito",
         "choice_description": "[Tomatillo-Green Chili Salsa (Medium), [Black Beans, Rice, Fajita Veggies, Cheese, Sour Cream]]",
         "item_price": 8.49,
         "_deepnote_index_column": 1145
        },
        {
         "order_id": 1655,
         "quantity": 1,
         "item_name": "Veggie Burrito",
         "choice_description": "[Roasted Chili Corn Salsa, [Rice, Black Beans, Cheese, Sour Cream, Guacamole, Lettuce]]",
         "item_price": 11.25,
         "_deepnote_index_column": 4134
        },
        {
         "order_id": 1263,
         "quantity": 1,
         "item_name": "Veggie Burrito",
         "choice_description": "[[Fresh Tomato Salsa (Mild), Roasted Chili Corn Salsa (Medium), Tomatillo-Red Chili Salsa (Hot)], […",
         "item_price": 8.49,
         "_deepnote_index_column": 3164
        },
        {
         "order_id": 1541,
         "quantity": 1,
         "item_name": "Veggie Burrito",
         "choice_description": "[Roasted Chili Corn Salsa (Medium), [Black Beans, Rice, Cheese, Sour Cream, Lettuce]]",
         "item_price": 8.49,
         "_deepnote_index_column": 3847
        },
        {
         "order_id": 294,
         "quantity": 1,
         "item_name": "Veggie Burrito",
         "choice_description": "[Fresh Tomato Salsa (Mild), [Pinto Beans, Rice, Cheese, Sour Cream]]",
         "item_price": 8.49,
         "_deepnote_index_column": 714
        },
        {
         "order_id": 489,
         "quantity": 1,
         "item_name": "Veggie Burrito",
         "choice_description": "[Fresh Tomato Salsa (Mild), [Pinto Beans, Rice, Cheese, Sour Cream]]",
         "item_price": 8.49,
         "_deepnote_index_column": 1193
        },
        {
         "order_id": 292,
         "quantity": 1,
         "item_name": "Veggie Burrito",
         "choice_description": "[Fresh Tomato Salsa (Mild), [Pinto Beans, Rice, Cheese, Sour Cream]]",
         "item_price": 8.49,
         "_deepnote_index_column": 710
        },
        {
         "order_id": 841,
         "quantity": 1,
         "item_name": "Veggie Burrito",
         "choice_description": "[Roasted Chili Corn Salsa, [Fajita Vegetables, Rice, Black Beans, Pinto Beans, Cheese, Sour Cream, …",
         "item_price": 8.75,
         "_deepnote_index_column": 2084
        },
        {
         "order_id": 1532,
         "quantity": 1,
         "item_name": "Veggie Burrito",
         "choice_description": "[[Tomatillo-Green Chili Salsa (Medium), Roasted Chili Corn Salsa (Medium), Tomatillo-Red Chili Sals…",
         "item_price": 8.49,
         "_deepnote_index_column": 3821
        },
        {
         "order_id": 834,
         "quantity": 1,
         "item_name": "Veggie Burrito",
         "choice_description": "[Fresh Tomato Salsa, [Cheese, Rice, Pinto Beans]]",
         "item_price": 8.75,
         "_deepnote_index_column": 2067
        },
        {
         "order_id": 551,
         "quantity": 1,
         "item_name": "Veggie Burrito",
         "choice_description": "[Tomatillo Green Chili Salsa, [Fajita Vegetables, Rice, Black Beans, Cheese, Sour Cream, Lettuce]]",
         "item_price": 8.75,
         "_deepnote_index_column": 1349
        },
        {
         "order_id": 1208,
         "quantity": 1,
         "item_name": "Veggie Burrito",
         "choice_description": "[Tomatillo Red Chili Salsa, [Fajita Vegetables, Rice, Pinto Beans, Cheese, Lettuce]]",
         "item_price": 8.75,
         "_deepnote_index_column": 3036
        },
        {
         "order_id": 1782,
         "quantity": 1,
         "item_name": "Veggie Burrito",
         "choice_description": "[Roasted Chili Corn Salsa, [Rice, Black Beans, Cheese, Sour Cream, Guacamole, Lettuce]]",
         "item_price": 11.25,
         "_deepnote_index_column": 4471
        },
        {
         "order_id": 99,
         "quantity": 1,
         "item_name": "Veggie Burrito",
         "choice_description": "[Tomatillo Red Chili Salsa, [Black Beans, Cheese, Guacamole]]",
         "item_price": 11.25,
         "_deepnote_index_column": 225
        },
        {
         "order_id": 1205,
         "quantity": 1,
         "item_name": "Veggie Burrito",
         "choice_description": "[[Fresh Tomato Salsa (Mild), Roasted Chili Corn Salsa (Medium)], [Black Beans, Rice, Cheese, Sour C…",
         "item_price": 8.49,
         "_deepnote_index_column": 3029
        },
        {
         "order_id": 510,
         "quantity": 1,
         "item_name": "Veggie Burrito",
         "choice_description": "[Fresh Tomato Salsa (Mild), [Pinto Beans, Rice, Cheese, Sour Cream]]",
         "item_price": 8.49,
         "_deepnote_index_column": 1252
        },
        {
         "order_id": 985,
         "quantity": 1,
         "item_name": "Veggie Burrito",
         "choice_description": "[[Tomatillo-Green Chili Salsa (Medium), Roasted Chili Corn Salsa (Medium), Tomatillo-Red Chili Sals…",
         "item_price": 10.98,
         "_deepnote_index_column": 2482
        },
        {
         "order_id": 1706,
         "quantity": 1,
         "item_name": "Veggie Burrito",
         "choice_description": "[Fresh Tomato Salsa, [Fajita Vegetables, Rice, Black Beans, Pinto Beans, Cheese, Sour Cream, Guacam…",
         "item_price": 11.25,
         "_deepnote_index_column": 4278
        },
        {
         "order_id": 916,
         "quantity": 1,
         "item_name": "Veggie Burrito",
         "choice_description": "[Roasted Chili Corn Salsa, [Rice, Black Beans, Cheese, Sour Cream, Guacamole, Lettuce]]",
         "item_price": 11.25,
         "_deepnote_index_column": 2280
        },
        {
         "order_id": 668,
         "quantity": 1,
         "item_name": "Veggie Crispy Tacos",
         "choice_description": "[Fresh Tomato Salsa (Mild), [Pinto Beans, Rice, Cheese, Sour Cream]]",
         "item_price": 8.49,
         "_deepnote_index_column": 1653
        },
        {
         "order_id": 1395,
         "quantity": 1,
         "item_name": "Veggie Salad",
         "choice_description": "[[Tomatillo-Green Chili Salsa (Medium), Roasted Chili Corn Salsa (Medium), Tomatillo-Red Chili Sals…",
         "item_price": 8.49,
         "_deepnote_index_column": 3471
        },
        {
         "order_id": 1192,
         "quantity": 1,
         "item_name": "Veggie Salad",
         "choice_description": "[Roasted Chili Corn Salsa (Medium), [Black Beans, Rice, Cheese, Sour Cream, Lettuce]]",
         "item_price": 8.49,
         "_deepnote_index_column": 2996
        },
        {
         "order_id": 1263,
         "quantity": 1,
         "item_name": "Veggie Salad",
         "choice_description": "[[Fresh Tomato Salsa (Mild), Roasted Chili Corn Salsa (Medium), Tomatillo-Red Chili Salsa (Hot)], […",
         "item_price": 8.49,
         "_deepnote_index_column": 3163
        },
        {
         "order_id": 1635,
         "quantity": 1,
         "item_name": "Veggie Salad",
         "choice_description": "[[Fresh Tomato Salsa (Mild), Roasted Chili Corn Salsa (Medium), Tomatillo-Red Chili Salsa (Hot)], […",
         "item_price": 8.49,
         "_deepnote_index_column": 4084
        },
        {
         "order_id": 686,
         "quantity": 1,
         "item_name": "Veggie Salad",
         "choice_description": "[[Fresh Tomato Salsa (Mild), Roasted Chili Corn Salsa (Medium)], [Rice, Fajita Veggies, Lettuce]]",
         "item_price": 8.49,
         "_deepnote_index_column": 1694
        },
        {
         "order_id": 1094,
         "quantity": 1,
         "item_name": "Veggie Salad",
         "choice_description": "[[Tomatillo-Green Chili Salsa (Medium), Roasted Chili Corn Salsa (Medium), Tomatillo-Red Chili Sals…",
         "item_price": 8.49,
         "_deepnote_index_column": 2756
        },
        {
         "order_id": 1677,
         "quantity": 1,
         "item_name": "Veggie Salad Bowl",
         "choice_description": "[Fresh Tomato Salsa, [Fajita Vegetables, Black Beans, Guacamole]]",
         "item_price": 11.25,
         "_deepnote_index_column": 4201
        },
        {
         "order_id": 760,
         "quantity": 1,
         "item_name": "Veggie Salad Bowl",
         "choice_description": "[Fresh Tomato Salsa, [Fajita Vegetables, Rice, Black Beans, Cheese, Guacamole, Lettuce]]",
         "item_price": 11.25,
         "_deepnote_index_column": 1884
        },
        {
         "order_id": 195,
         "quantity": 1,
         "item_name": "Veggie Salad Bowl",
         "choice_description": "[Fresh Tomato Salsa, [Fajita Vegetables, Rice, Black Beans, Cheese, Guacamole, Lettuce]]",
         "item_price": 11.25,
         "_deepnote_index_column": 455
        },
        {
         "order_id": 1289,
         "quantity": 1,
         "item_name": "Veggie Salad Bowl",
         "choice_description": "[Tomatillo Red Chili Salsa, [Fajita Vegetables, Rice, Black Beans, Cheese, Guacamole]]",
         "item_price": 11.25,
         "_deepnote_index_column": 3223
        },
        {
         "order_id": 896,
         "quantity": 1,
         "item_name": "Veggie Salad Bowl",
         "choice_description": "[Roasted Chili Corn Salsa, Fajita Vegetables]",
         "item_price": 8.75,
         "_deepnote_index_column": 2223
        },
        {
         "order_id": 913,
         "quantity": 1,
         "item_name": "Veggie Salad Bowl",
         "choice_description": "[Fresh Tomato Salsa, [Fajita Vegetables, Rice, Pinto Beans, Cheese, Lettuce]]",
         "item_price": 8.75,
         "_deepnote_index_column": 2269
        },
        {
         "order_id": 1805,
         "quantity": 1,
         "item_name": "Veggie Salad Bowl",
         "choice_description": "[Tomatillo Green Chili Salsa, [Fajita Vegetables, Rice, Black Beans, Cheese, Sour Cream, Lettuce]]",
         "item_price": 8.75,
         "_deepnote_index_column": 4541
        },
        {
         "order_id": 1321,
         "quantity": 1,
         "item_name": "Veggie Salad Bowl",
         "choice_description": "[Fresh Tomato Salsa, [Rice, Black Beans, Cheese, Sour Cream]]",
         "item_price": 8.75,
         "_deepnote_index_column": 3293
        },
        {
         "order_id": 83,
         "quantity": 1,
         "item_name": "Veggie Salad Bowl",
         "choice_description": "[Fresh Tomato Salsa, [Fajita Vegetables, Rice, Black Beans, Cheese, Sour Cream, Guacamole, Lettuce]]",
         "item_price": 11.25,
         "_deepnote_index_column": 186
        },
        {
         "order_id": 394,
         "quantity": 1,
         "item_name": "Veggie Salad Bowl",
         "choice_description": "[Fresh Tomato Salsa, [Fajita Vegetables, Lettuce]]",
         "item_price": 8.75,
         "_deepnote_index_column": 960
        },
        {
         "order_id": 536,
         "quantity": 1,
         "item_name": "Veggie Salad Bowl",
         "choice_description": "[Fresh Tomato Salsa, [Fajita Vegetables, Rice, Black Beans, Cheese, Sour Cream]]",
         "item_price": 8.75,
         "_deepnote_index_column": 1316
        },
        {
         "order_id": 869,
         "quantity": 1,
         "item_name": "Veggie Salad Bowl",
         "choice_description": "[Tomatillo Red Chili Salsa, [Fajita Vegetables, Rice, Black Beans, Cheese, Guacamole]]",
         "item_price": 11.25,
         "_deepnote_index_column": 2156
        },
        {
         "order_id": 1700,
         "quantity": 1,
         "item_name": "Veggie Salad Bowl",
         "choice_description": "[Fresh Tomato Salsa, [Fajita Vegetables, Rice, Guacamole]]",
         "item_price": 11.25,
         "_deepnote_index_column": 4261
        },
        {
         "order_id": 128,
         "quantity": 1,
         "item_name": "Veggie Salad Bowl",
         "choice_description": "[Fresh Tomato Salsa, [Fajita Vegetables, Lettuce, Guacamole, Sour Cream, Cheese, Black Beans, Rice]]",
         "item_price": 11.25,
         "_deepnote_index_column": 295
        },
        {
         "order_id": 1818,
         "quantity": 1,
         "item_name": "Veggie Salad Bowl",
         "choice_description": "[Fresh Tomato Salsa, [Fajita Vegetables, Pinto Beans, Lettuce]]",
         "item_price": 8.75,
         "_deepnote_index_column": 4573
        },
        {
         "order_id": 1066,
         "quantity": 1,
         "item_name": "Veggie Salad Bowl",
         "choice_description": "[Roasted Chili Corn Salsa, [Fajita Vegetables, Rice, Black Beans, Lettuce]]",
         "item_price": 8.75,
         "_deepnote_index_column": 2683
        },
        {
         "order_id": 207,
         "quantity": 1,
         "item_name": "Veggie Salad Bowl",
         "choice_description": "[Fresh Tomato Salsa, [Rice, Lettuce, Guacamole, Fajita Vegetables, Cheese, Sour Cream, Black Beans]]",
         "item_price": 11.25,
         "_deepnote_index_column": 496
        },
        {
         "order_id": 1646,
         "quantity": 1,
         "item_name": "Veggie Salad Bowl",
         "choice_description": "[Tomatillo Red Chili Salsa, [Fajita Vegetables, Rice, Black Beans, Cheese, Guacamole, Lettuce]]",
         "item_price": 11.25,
         "_deepnote_index_column": 4109
        },
        {
         "order_id": 304,
         "quantity": 1,
         "item_name": "Veggie Soft Tacos",
         "choice_description": "[Tomatillo Red Chili Salsa, [Fajita Vegetables, Rice, Black Beans, Cheese, Guacamole, Lettuce]]",
         "item_price": 11.25,
         "_deepnote_index_column": 738
        },
        {
         "order_id": 1559,
         "quantity": 2,
         "item_name": "Veggie Soft Tacos",
         "choice_description": "[Fresh Tomato Salsa (Mild), [Black Beans, Rice, Cheese, Lettuce]]",
         "item_price": 16.98,
         "_deepnote_index_column": 3889
        },
        {
         "order_id": 948,
         "quantity": 1,
         "item_name": "Veggie Soft Tacos",
         "choice_description": "[Roasted Chili Corn Salsa, [Fajita Vegetables, Black Beans, Pinto Beans, Cheese, Lettuce]]",
         "item_price": 8.75,
         "_deepnote_index_column": 2384
        },
        {
         "order_id": 322,
         "quantity": 1,
         "item_name": "Veggie Soft Tacos",
         "choice_description": "[Fresh Tomato Salsa, [Black Beans, Cheese, Sour Cream, Lettuce]]",
         "item_price": 8.75,
         "_deepnote_index_column": 781
        },
        {
         "order_id": 1132,
         "quantity": 1,
         "item_name": "Veggie Soft Tacos",
         "choice_description": "[Roasted Chili Corn Salsa (Medium), [Black Beans, Fajita Veggies, Cheese, Sour Cream, Lettuce]]",
         "item_price": 8.49,
         "_deepnote_index_column": 2851
        },
        {
         "order_id": 688,
         "quantity": 1,
         "item_name": "Veggie Soft Tacos",
         "choice_description": "[Fresh Tomato Salsa, [Fajita Vegetables, Rice, Black Beans, Pinto Beans, Cheese, Sour Cream, Guacam…",
         "item_price": 11.25,
         "_deepnote_index_column": 1699
        },
        {
         "order_id": 567,
         "quantity": 1,
         "item_name": "Veggie Soft Tacos",
         "choice_description": "[Fresh Tomato Salsa (Mild), [Pinto Beans, Rice, Cheese, Sour Cream]]",
         "item_price": 8.49,
         "_deepnote_index_column": 1395
        }
       ]
      },
      "text/plain": "      order_id  quantity          item_name  \\\n3389      1360         2  6 Pack Soft Drink   \n341        148         1  6 Pack Soft Drink   \n1849       749         1  6 Pack Soft Drink   \n1860       754         1  6 Pack Soft Drink   \n2713      1076         1  6 Pack Soft Drink   \n...        ...       ...                ...   \n2384       948         1  Veggie Soft Tacos   \n781        322         1  Veggie Soft Tacos   \n2851      1132         1  Veggie Soft Tacos   \n1699       688         1  Veggie Soft Tacos   \n1395       567         1  Veggie Soft Tacos   \n\n                                     choice_description  item_price  \n3389                                        [Diet Coke]       12.98  \n341                                         [Diet Coke]        6.49  \n1849                                             [Coke]        6.49  \n1860                                        [Diet Coke]        6.49  \n2713                                             [Coke]        6.49  \n...                                                 ...         ...  \n2384  [Roasted Chili Corn Salsa, [Fajita Vegetables,...        8.75  \n781   [Fresh Tomato Salsa, [Black Beans, Cheese, Sou...        8.75  \n2851  [Roasted Chili Corn Salsa (Medium), [Black Bea...        8.49  \n1699  [Fresh Tomato Salsa, [Fajita Vegetables, Rice,...       11.25  \n1395  [Fresh Tomato Salsa (Mild), [Pinto Beans, Rice...        8.49  \n\n[4622 rows x 5 columns]",
      "text/html": "<div>\n<style scoped>\n    .dataframe tbody tr th:only-of-type {\n        vertical-align: middle;\n    }\n\n    .dataframe tbody tr th {\n        vertical-align: top;\n    }\n\n    .dataframe thead th {\n        text-align: right;\n    }\n</style>\n<table border=\"1\" class=\"dataframe\">\n  <thead>\n    <tr style=\"text-align: right;\">\n      <th></th>\n      <th>order_id</th>\n      <th>quantity</th>\n      <th>item_name</th>\n      <th>choice_description</th>\n      <th>item_price</th>\n    </tr>\n  </thead>\n  <tbody>\n    <tr>\n      <th>3389</th>\n      <td>1360</td>\n      <td>2</td>\n      <td>6 Pack Soft Drink</td>\n      <td>[Diet Coke]</td>\n      <td>12.98</td>\n    </tr>\n    <tr>\n      <th>341</th>\n      <td>148</td>\n      <td>1</td>\n      <td>6 Pack Soft Drink</td>\n      <td>[Diet Coke]</td>\n      <td>6.49</td>\n    </tr>\n    <tr>\n      <th>1849</th>\n      <td>749</td>\n      <td>1</td>\n      <td>6 Pack Soft Drink</td>\n      <td>[Coke]</td>\n      <td>6.49</td>\n    </tr>\n    <tr>\n      <th>1860</th>\n      <td>754</td>\n      <td>1</td>\n      <td>6 Pack Soft Drink</td>\n      <td>[Diet Coke]</td>\n      <td>6.49</td>\n    </tr>\n    <tr>\n      <th>2713</th>\n      <td>1076</td>\n      <td>1</td>\n      <td>6 Pack Soft Drink</td>\n      <td>[Coke]</td>\n      <td>6.49</td>\n    </tr>\n    <tr>\n      <th>...</th>\n      <td>...</td>\n      <td>...</td>\n      <td>...</td>\n      <td>...</td>\n      <td>...</td>\n    </tr>\n    <tr>\n      <th>2384</th>\n      <td>948</td>\n      <td>1</td>\n      <td>Veggie Soft Tacos</td>\n      <td>[Roasted Chili Corn Salsa, [Fajita Vegetables,...</td>\n      <td>8.75</td>\n    </tr>\n    <tr>\n      <th>781</th>\n      <td>322</td>\n      <td>1</td>\n      <td>Veggie Soft Tacos</td>\n      <td>[Fresh Tomato Salsa, [Black Beans, Cheese, Sou...</td>\n      <td>8.75</td>\n    </tr>\n    <tr>\n      <th>2851</th>\n      <td>1132</td>\n      <td>1</td>\n      <td>Veggie Soft Tacos</td>\n      <td>[Roasted Chili Corn Salsa (Medium), [Black Bea...</td>\n      <td>8.49</td>\n    </tr>\n    <tr>\n      <th>1699</th>\n      <td>688</td>\n      <td>1</td>\n      <td>Veggie Soft Tacos</td>\n      <td>[Fresh Tomato Salsa, [Fajita Vegetables, Rice,...</td>\n      <td>11.25</td>\n    </tr>\n    <tr>\n      <th>1395</th>\n      <td>567</td>\n      <td>1</td>\n      <td>Veggie Soft Tacos</td>\n      <td>[Fresh Tomato Salsa (Mild), [Pinto Beans, Rice...</td>\n      <td>8.49</td>\n    </tr>\n  </tbody>\n</table>\n<p>4622 rows × 5 columns</p>\n</div>"
     },
     "metadata": {}
    }
   ],
   "execution_count": null
  },
  {
   "cell_type": "markdown",
   "source": "### Step 7. What was the quantity of the most expensive item ordered?",
   "metadata": {
    "id": "OdVjSGlRwxpZ",
    "cell_id": "00013-875cd1ce-189d-426d-9d7c-ed300cbca959",
    "deepnote_cell_type": "markdown"
   }
  },
  {
   "cell_type": "code",
   "metadata": {
    "colab": {
     "base_uri": "https://localhost:8080/"
    },
    "id": "A7-8hs5jwxpZ",
    "executionInfo": {
     "status": "ok",
     "timestamp": 1623205876735,
     "user_tz": 240,
     "elapsed": 6,
     "user": {
      "displayName": "Andrés Sánchez",
      "photoUrl": "https://lh3.googleusercontent.com/a-/AOh14Gg69bZMv30ckb-T1MJy0nSxWIHUaP0p2uP6MYBuvQ=s64",
      "userId": "07985253921366566280"
     }
    },
    "outputId": "41350688-2000-46c7-a463-c3541998634f",
    "cell_id": "00014-e1553f0e-c85d-4851-86fd-bd224cfafe84",
    "deepnote_to_be_reexecuted": false,
    "source_hash": "e3c52e6c",
    "execution_start": 1630097890884,
    "execution_millis": 6,
    "deepnote_cell_type": "code"
   },
   "source": "chipo.sort_values(by = 'item_price', ascending = False).head(1)['quantity']",
   "outputs": [
    {
     "output_type": "execute_result",
     "execution_count": 7,
     "data": {
      "text/plain": "3598    15\nName: quantity, dtype: int64"
     },
     "metadata": {}
    }
   ],
   "execution_count": null
  },
  {
   "cell_type": "markdown",
   "source": "### Step 8. How many times was a Veggie Salad Bowl ordered?",
   "metadata": {
    "id": "6mVkTO5nwxpa",
    "cell_id": "00015-3dd78649-b23a-4a11-acc3-1e0ad46ba2eb",
    "deepnote_cell_type": "markdown"
   }
  },
  {
   "cell_type": "code",
   "metadata": {
    "colab": {
     "base_uri": "https://localhost:8080/"
    },
    "id": "k_RdqYtdwxpa",
    "executionInfo": {
     "status": "ok",
     "timestamp": 1623205876929,
     "user_tz": 240,
     "elapsed": 199,
     "user": {
      "displayName": "Andrés Sánchez",
      "photoUrl": "https://lh3.googleusercontent.com/a-/AOh14Gg69bZMv30ckb-T1MJy0nSxWIHUaP0p2uP6MYBuvQ=s64",
      "userId": "07985253921366566280"
     }
    },
    "outputId": "a00305dc-dc35-4e81-e05e-ab71ed28443a",
    "cell_id": "00016-51a0fdd0-fb4e-4c5f-b0d5-f8e8ce3c1015",
    "deepnote_to_be_reexecuted": false,
    "source_hash": "4645e384",
    "execution_start": 1630097890931,
    "execution_millis": 5,
    "deepnote_cell_type": "code"
   },
   "source": "chipo['item_name'].value_counts().to_frame().xs('Veggie Salad Bowl')",
   "outputs": [
    {
     "output_type": "execute_result",
     "execution_count": 8,
     "data": {
      "text/plain": "item_name    18\nName: Veggie Salad Bowl, dtype: int64"
     },
     "metadata": {}
    }
   ],
   "execution_count": null
  },
  {
   "cell_type": "markdown",
   "source": "### Step 9. How many times did someone order more than one Canned Soda?",
   "metadata": {
    "id": "S7aO6RsLwxpa",
    "cell_id": "00017-08af3367-57f0-438d-bdd2-58af327288d1",
    "deepnote_cell_type": "markdown"
   }
  },
  {
   "cell_type": "code",
   "metadata": {
    "colab": {
     "base_uri": "https://localhost:8080/"
    },
    "id": "OSyJmdcLlJEp",
    "executionInfo": {
     "status": "ok",
     "timestamp": 1623207210576,
     "user_tz": 240,
     "elapsed": 1062,
     "user": {
      "displayName": "Andrés Sánchez",
      "photoUrl": "https://lh3.googleusercontent.com/a-/AOh14Gg69bZMv30ckb-T1MJy0nSxWIHUaP0p2uP6MYBuvQ=s64",
      "userId": "07985253921366566280"
     }
    },
    "outputId": "5741d231-3ccf-493a-8def-0276c1c08527",
    "cell_id": "00018-402e56ef-8f6e-4b2e-8c4c-a9bcd0c85f78",
    "deepnote_to_be_reexecuted": false,
    "source_hash": "dc377228",
    "execution_start": 1630097890932,
    "execution_millis": 4,
    "deepnote_cell_type": "code"
   },
   "source": "chipo_cs = chipo.set_index('item_name')\nchipo_cs = chipo_cs.xs('Canned Soda')\nchipo_cs = chipo_cs.loc[chipo_cs['quantity'] != 1]\nlen(list(chipo_cs['order_id']))",
   "outputs": [
    {
     "output_type": "execute_result",
     "execution_count": 9,
     "data": {
      "text/plain": "20"
     },
     "metadata": {}
    }
   ],
   "execution_count": null
  },
  {
   "cell_type": "markdown",
   "source": "<a style='text-decoration:none;line-height:16px;display:flex;color:#5B5B62;padding:10px;justify-content:end;' href='https://deepnote.com?utm_source=created-in-deepnote-cell&projectId=fe744348-fecc-4b7a-803c-44dba24ecb38' target=\"_blank\">\n<img alt='Created in deepnote.com' style='display:inline;max-height:16px;margin:0px;margin-right:7.5px;' src='data:image/svg+xml;base64,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' > </img>\nCreated in <span style='font-weight:600;margin-left:4px;'>Deepnote</span></a>",
   "metadata": {
    "tags": [],
    "created_in_deepnote_cell": true,
    "deepnote_cell_type": "markdown"
   }
  }
 ],
 "nbformat": 4,
 "nbformat_minor": 0,
 "metadata": {
  "kernelspec": {
   "display_name": "Python 2",
   "language": "python",
   "name": "python2"
  },
  "language_info": {
   "codemirror_mode": {
    "name": "ipython",
    "version": 2
   },
   "file_extension": ".py",
   "mimetype": "text/x-python",
   "name": "python",
   "nbconvert_exporter": "python",
   "pygments_lexer": "ipython2",
   "version": "2.7.11"
  },
  "colab": {
   "name": "Exercises.ipynb",
   "provenance": [],
   "collapsed_sections": []
  },
  "deepnote_notebook_id": "8919a29b-c210-4915-9d87-4dac689a8b24",
  "deepnote": {},
  "deepnote_execution_queue": []
 }
}
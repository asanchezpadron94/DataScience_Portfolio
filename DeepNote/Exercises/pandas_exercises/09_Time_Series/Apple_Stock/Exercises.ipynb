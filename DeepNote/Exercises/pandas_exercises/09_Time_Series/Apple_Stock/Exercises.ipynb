{
 "cells": [
  {
   "cell_type": "markdown",
   "source": "# Apple Stock",
   "metadata": {
    "id": "iWCAjd7muZss",
    "cell_id": "00000-76cbb0ab-9329-430e-99c7-d4f4f6fbdc8c",
    "deepnote_cell_type": "markdown"
   }
  },
  {
   "cell_type": "markdown",
   "source": "### Introduction:\n\nWe are going to use Apple's stock price.\n\n\n### Step 1. Import the necessary libraries",
   "metadata": {
    "id": "W3RJSUJSuZsv",
    "cell_id": "00001-a1fc8372-5d8d-46d1-b6a0-1057bbd14d98",
    "deepnote_cell_type": "markdown"
   }
  },
  {
   "cell_type": "code",
   "metadata": {
    "id": "y5RT2nkouZsv",
    "executionInfo": {
     "status": "ok",
     "timestamp": 1624332926990,
     "user_tz": 240,
     "elapsed": 119,
     "user": {
      "displayName": "Andrés Sánchez",
      "photoUrl": "https://lh3.googleusercontent.com/a-/AOh14Gg69bZMv30ckb-T1MJy0nSxWIHUaP0p2uP6MYBuvQ=s64",
      "userId": "07985253921366566280"
     }
    },
    "cell_id": "00002-2c60ef72-8b66-40d1-82b4-5d04f5f38c0b",
    "deepnote_to_be_reexecuted": false,
    "source_hash": "d001db44",
    "execution_start": 1630098475069,
    "execution_millis": 268,
    "deepnote_cell_type": "code"
   },
   "source": "import pandas as pd\nimport numpy as np\nimport matplotlib.pyplot as plt\nfrom matplotlib import figure",
   "outputs": [],
   "execution_count": null
  },
  {
   "cell_type": "code",
   "metadata": {
    "id": "LRHgv-flxVNc",
    "executionInfo": {
     "status": "ok",
     "timestamp": 1624331391467,
     "user_tz": 240,
     "elapsed": 3,
     "user": {
      "displayName": "Andrés Sánchez",
      "photoUrl": "https://lh3.googleusercontent.com/a-/AOh14Gg69bZMv30ckb-T1MJy0nSxWIHUaP0p2uP6MYBuvQ=s64",
      "userId": "07985253921366566280"
     }
    },
    "cell_id": "00003-dae9eddc-1f26-465d-9e05-4d951be70791",
    "deepnote_to_be_reexecuted": false,
    "source_hash": "81c0e718",
    "execution_start": 1630098475341,
    "execution_millis": 3,
    "deepnote_cell_type": "code"
   },
   "source": "pd.options.display.float_format = '{:,.2f}'.format",
   "outputs": [],
   "execution_count": null
  },
  {
   "cell_type": "markdown",
   "source": "### Step 2. Import the dataset from this [address](https://raw.githubusercontent.com/guipsamora/pandas_exercises/master/09_Time_Series/Apple_Stock/appl_1980_2014.csv)",
   "metadata": {
    "id": "iFKHGopKuZsw",
    "cell_id": "00004-a984e3c0-e8ac-41ea-be08-2f697ef7d94d",
    "deepnote_cell_type": "markdown"
   }
  },
  {
   "cell_type": "code",
   "metadata": {
    "collapsed": true,
    "id": "j2v0_c7cuZsw",
    "executionInfo": {
     "status": "ok",
     "timestamp": 1624331391883,
     "user_tz": 240,
     "elapsed": 419,
     "user": {
      "displayName": "Andrés Sánchez",
      "photoUrl": "https://lh3.googleusercontent.com/a-/AOh14Gg69bZMv30ckb-T1MJy0nSxWIHUaP0p2uP6MYBuvQ=s64",
      "userId": "07985253921366566280"
     }
    },
    "cell_id": "00005-e20768fc-2b5e-4452-baae-689c5b5cd550",
    "deepnote_to_be_reexecuted": false,
    "source_hash": "aa275e01",
    "execution_start": 1630098475349,
    "execution_millis": 162,
    "deepnote_cell_type": "code"
   },
   "source": "apple = pd.read_csv('https://raw.githubusercontent.com/guipsamora/pandas_exercises/master/09_Time_Series/Apple_Stock/appl_1980_2014.csv')",
   "outputs": [],
   "execution_count": null
  },
  {
   "cell_type": "markdown",
   "source": "### Step 3. Assign it to a variable apple",
   "metadata": {
    "id": "OTMLvSg6uZsw",
    "cell_id": "00006-831d06eb-47fc-4224-9e32-510c55ae774c",
    "deepnote_cell_type": "markdown"
   }
  },
  {
   "cell_type": "code",
   "metadata": {
    "colab": {
     "base_uri": "https://localhost:8080/",
     "height": 198
    },
    "id": "l5QR07vLuZsx",
    "executionInfo": {
     "status": "ok",
     "timestamp": 1624331391884,
     "user_tz": 240,
     "elapsed": 12,
     "user": {
      "displayName": "Andrés Sánchez",
      "photoUrl": "https://lh3.googleusercontent.com/a-/AOh14Gg69bZMv30ckb-T1MJy0nSxWIHUaP0p2uP6MYBuvQ=s64",
      "userId": "07985253921366566280"
     }
    },
    "outputId": "484a2a68-84c3-4e6e-c3a0-4ca6fe9093e0",
    "cell_id": "00007-5708d633-e69d-45f8-b643-ca99441f59f4",
    "deepnote_to_be_reexecuted": false,
    "source_hash": "1e90050d",
    "execution_start": 1630098475517,
    "execution_millis": 49,
    "deepnote_cell_type": "code"
   },
   "source": "# I already did that.\napple.tail(5) # Just to see the data.",
   "outputs": [
    {
     "output_type": "execute_result",
     "execution_count": 4,
     "data": {
      "application/vnd.deepnote.dataframe.v2+json": {
       "row_count": 5,
       "column_count": 7,
       "columns": [
        {
         "name": "Date",
         "dtype": "object",
         "stats": {
          "unique_count": 5,
          "nan_count": 0,
          "categories": [
           {
            "name": "1980-12-18",
            "count": 1
           },
           {
            "name": "1980-12-17",
            "count": 1
           },
           {
            "name": "3 others",
            "count": 3
           }
          ]
         }
        },
        {
         "name": "Open",
         "dtype": "float64",
         "stats": {
          "unique_count": 5,
          "nan_count": 0,
          "min": "25.37",
          "max": "28.75",
          "histogram": [
           {
            "bin_start": 25.37,
            "bin_end": 25.708000000000002,
            "count": 1
           },
           {
            "bin_start": 25.708000000000002,
            "bin_end": 26.046,
            "count": 1
           },
           {
            "bin_start": 26.046,
            "bin_end": 26.384,
            "count": 0
           },
           {
            "bin_start": 26.384,
            "bin_end": 26.722,
            "count": 1
           },
           {
            "bin_start": 26.722,
            "bin_end": 27.060000000000002,
            "count": 0
           },
           {
            "bin_start": 27.060000000000002,
            "bin_end": 27.398,
            "count": 1
           },
           {
            "bin_start": 27.398,
            "bin_end": 27.736,
            "count": 0
           },
           {
            "bin_start": 27.736,
            "bin_end": 28.074,
            "count": 0
           },
           {
            "bin_start": 28.074,
            "bin_end": 28.412,
            "count": 0
           },
           {
            "bin_start": 28.412,
            "bin_end": 28.75,
            "count": 1
           }
          ]
         }
        },
        {
         "name": "High",
         "dtype": "float64",
         "stats": {
          "unique_count": 5,
          "nan_count": 0,
          "min": "25.37",
          "max": "28.87",
          "histogram": [
           {
            "bin_start": 25.37,
            "bin_end": 25.720000000000002,
            "count": 1
           },
           {
            "bin_start": 25.720000000000002,
            "bin_end": 26.07,
            "count": 1
           },
           {
            "bin_start": 26.07,
            "bin_end": 26.42,
            "count": 0
           },
           {
            "bin_start": 26.42,
            "bin_end": 26.77,
            "count": 1
           },
           {
            "bin_start": 26.77,
            "bin_end": 27.12,
            "count": 0
           },
           {
            "bin_start": 27.12,
            "bin_end": 27.47,
            "count": 1
           },
           {
            "bin_start": 27.47,
            "bin_end": 27.82,
            "count": 0
           },
           {
            "bin_start": 27.82,
            "bin_end": 28.17,
            "count": 0
           },
           {
            "bin_start": 28.17,
            "bin_end": 28.52,
            "count": 0
           },
           {
            "bin_start": 28.52,
            "bin_end": 28.87,
            "count": 1
           }
          ]
         }
        },
        {
         "name": "Low",
         "dtype": "float64",
         "stats": {
          "unique_count": 5,
          "nan_count": 0,
          "min": "25.25",
          "max": "28.75",
          "histogram": [
           {
            "bin_start": 25.25,
            "bin_end": 25.6,
            "count": 1
           },
           {
            "bin_start": 25.6,
            "bin_end": 25.95,
            "count": 1
           },
           {
            "bin_start": 25.95,
            "bin_end": 26.3,
            "count": 0
           },
           {
            "bin_start": 26.3,
            "bin_end": 26.65,
            "count": 1
           },
           {
            "bin_start": 26.65,
            "bin_end": 27,
            "count": 0
           },
           {
            "bin_start": 27,
            "bin_end": 27.35,
            "count": 1
           },
           {
            "bin_start": 27.35,
            "bin_end": 27.7,
            "count": 0
           },
           {
            "bin_start": 27.7,
            "bin_end": 28.05,
            "count": 0
           },
           {
            "bin_start": 28.05,
            "bin_end": 28.4,
            "count": 0
           },
           {
            "bin_start": 28.4,
            "bin_end": 28.75,
            "count": 1
           }
          ]
         }
        },
        {
         "name": "Close",
         "dtype": "float64",
         "stats": {
          "unique_count": 5,
          "nan_count": 0,
          "min": "25.25",
          "max": "28.75",
          "histogram": [
           {
            "bin_start": 25.25,
            "bin_end": 25.6,
            "count": 1
           },
           {
            "bin_start": 25.6,
            "bin_end": 25.95,
            "count": 1
           },
           {
            "bin_start": 25.95,
            "bin_end": 26.3,
            "count": 0
           },
           {
            "bin_start": 26.3,
            "bin_end": 26.65,
            "count": 1
           },
           {
            "bin_start": 26.65,
            "bin_end": 27,
            "count": 0
           },
           {
            "bin_start": 27,
            "bin_end": 27.35,
            "count": 1
           },
           {
            "bin_start": 27.35,
            "bin_end": 27.7,
            "count": 0
           },
           {
            "bin_start": 27.7,
            "bin_end": 28.05,
            "count": 0
           },
           {
            "bin_start": 28.05,
            "bin_end": 28.4,
            "count": 0
           },
           {
            "bin_start": 28.4,
            "bin_end": 28.75,
            "count": 1
           }
          ]
         }
        },
        {
         "name": "Volume",
         "dtype": "int64",
         "stats": {
          "unique_count": 5,
          "nan_count": 0,
          "min": "18362400",
          "max": "117258400",
          "histogram": [
           {
            "bin_start": 18362400,
            "bin_end": 28252000,
            "count": 3
           },
           {
            "bin_start": 28252000,
            "bin_end": 38141600,
            "count": 0
           },
           {
            "bin_start": 38141600,
            "bin_end": 48031200,
            "count": 1
           },
           {
            "bin_start": 48031200,
            "bin_end": 57920800,
            "count": 0
           },
           {
            "bin_start": 57920800,
            "bin_end": 67810400,
            "count": 0
           },
           {
            "bin_start": 67810400,
            "bin_end": 77700000,
            "count": 0
           },
           {
            "bin_start": 77700000,
            "bin_end": 87589600,
            "count": 0
           },
           {
            "bin_start": 87589600,
            "bin_end": 97479200,
            "count": 0
           },
           {
            "bin_start": 97479200,
            "bin_end": 107368800,
            "count": 0
           },
           {
            "bin_start": 107368800,
            "bin_end": 117258400,
            "count": 1
           }
          ]
         }
        },
        {
         "name": "Adj Close",
         "dtype": "float64",
         "stats": {
          "unique_count": 5,
          "nan_count": 0,
          "min": "0.39",
          "max": "0.45",
          "histogram": [
           {
            "bin_start": 0.39,
            "bin_end": 0.396,
            "count": 1
           },
           {
            "bin_start": 0.396,
            "bin_end": 0.402,
            "count": 1
           },
           {
            "bin_start": 0.402,
            "bin_end": 0.40800000000000003,
            "count": 0
           },
           {
            "bin_start": 0.40800000000000003,
            "bin_end": 0.41400000000000003,
            "count": 1
           },
           {
            "bin_start": 0.41400000000000003,
            "bin_end": 0.42000000000000004,
            "count": 1
           },
           {
            "bin_start": 0.42000000000000004,
            "bin_end": 0.42600000000000005,
            "count": 0
           },
           {
            "bin_start": 0.42600000000000005,
            "bin_end": 0.432,
            "count": 0
           },
           {
            "bin_start": 0.432,
            "bin_end": 0.438,
            "count": 0
           },
           {
            "bin_start": 0.438,
            "bin_end": 0.444,
            "count": 0
           },
           {
            "bin_start": 0.444,
            "bin_end": 0.45,
            "count": 1
           }
          ]
         }
        },
        {
         "name": "_deepnote_index_column",
         "dtype": "int64"
        }
       ],
       "rows_top": [
        {
         "Date": "1980-12-18",
         "Open": 26.63,
         "High": 26.75,
         "Low": 26.63,
         "Close": 26.63,
         "Volume": 18362400,
         "Adj Close": 0.41,
         "_deepnote_index_column": 8460
        },
        {
         "Date": "1980-12-17",
         "Open": 25.87,
         "High": 26,
         "Low": 25.87,
         "Close": 25.87,
         "Volume": 21610400,
         "Adj Close": 0.4,
         "_deepnote_index_column": 8461
        },
        {
         "Date": "1980-12-16",
         "Open": 25.37,
         "High": 25.37,
         "Low": 25.25,
         "Close": 25.25,
         "Volume": 26432000,
         "Adj Close": 0.39,
         "_deepnote_index_column": 8462
        },
        {
         "Date": "1980-12-15",
         "Open": 27.38,
         "High": 27.38,
         "Low": 27.25,
         "Close": 27.25,
         "Volume": 43971200,
         "Adj Close": 0.42,
         "_deepnote_index_column": 8463
        },
        {
         "Date": "1980-12-12",
         "Open": 28.75,
         "High": 28.87,
         "Low": 28.75,
         "Close": 28.75,
         "Volume": 117258400,
         "Adj Close": 0.45,
         "_deepnote_index_column": 8464
        }
       ],
       "rows_bottom": null
      },
      "text/plain": "            Date  Open  High   Low  Close     Volume  Adj Close\n8460  1980-12-18 26.63 26.75 26.63  26.63   18362400       0.41\n8461  1980-12-17 25.87 26.00 25.87  25.87   21610400       0.40\n8462  1980-12-16 25.37 25.37 25.25  25.25   26432000       0.39\n8463  1980-12-15 27.38 27.38 27.25  27.25   43971200       0.42\n8464  1980-12-12 28.75 28.87 28.75  28.75  117258400       0.45",
      "text/html": "<div>\n<style scoped>\n    .dataframe tbody tr th:only-of-type {\n        vertical-align: middle;\n    }\n\n    .dataframe tbody tr th {\n        vertical-align: top;\n    }\n\n    .dataframe thead th {\n        text-align: right;\n    }\n</style>\n<table border=\"1\" class=\"dataframe\">\n  <thead>\n    <tr style=\"text-align: right;\">\n      <th></th>\n      <th>Date</th>\n      <th>Open</th>\n      <th>High</th>\n      <th>Low</th>\n      <th>Close</th>\n      <th>Volume</th>\n      <th>Adj Close</th>\n    </tr>\n  </thead>\n  <tbody>\n    <tr>\n      <th>8460</th>\n      <td>1980-12-18</td>\n      <td>26.63</td>\n      <td>26.75</td>\n      <td>26.63</td>\n      <td>26.63</td>\n      <td>18362400</td>\n      <td>0.41</td>\n    </tr>\n    <tr>\n      <th>8461</th>\n      <td>1980-12-17</td>\n      <td>25.87</td>\n      <td>26.00</td>\n      <td>25.87</td>\n      <td>25.87</td>\n      <td>21610400</td>\n      <td>0.40</td>\n    </tr>\n    <tr>\n      <th>8462</th>\n      <td>1980-12-16</td>\n      <td>25.37</td>\n      <td>25.37</td>\n      <td>25.25</td>\n      <td>25.25</td>\n      <td>26432000</td>\n      <td>0.39</td>\n    </tr>\n    <tr>\n      <th>8463</th>\n      <td>1980-12-15</td>\n      <td>27.38</td>\n      <td>27.38</td>\n      <td>27.25</td>\n      <td>27.25</td>\n      <td>43971200</td>\n      <td>0.42</td>\n    </tr>\n    <tr>\n      <th>8464</th>\n      <td>1980-12-12</td>\n      <td>28.75</td>\n      <td>28.87</td>\n      <td>28.75</td>\n      <td>28.75</td>\n      <td>117258400</td>\n      <td>0.45</td>\n    </tr>\n  </tbody>\n</table>\n</div>"
     },
     "metadata": {}
    }
   ],
   "execution_count": null
  },
  {
   "cell_type": "markdown",
   "source": "### Step 4.  Check out the type of the columns",
   "metadata": {
    "id": "lc1tWxuEuZsx",
    "cell_id": "00008-2c22806f-c8dc-4010-8499-ce713a5a9344",
    "deepnote_cell_type": "markdown"
   }
  },
  {
   "cell_type": "code",
   "metadata": {
    "colab": {
     "base_uri": "https://localhost:8080/"
    },
    "id": "6tMu3o5IuZsx",
    "executionInfo": {
     "status": "ok",
     "timestamp": 1624331391884,
     "user_tz": 240,
     "elapsed": 10,
     "user": {
      "displayName": "Andrés Sánchez",
      "photoUrl": "https://lh3.googleusercontent.com/a-/AOh14Gg69bZMv30ckb-T1MJy0nSxWIHUaP0p2uP6MYBuvQ=s64",
      "userId": "07985253921366566280"
     }
    },
    "outputId": "81025e45-0c2a-4fe1-c00b-b09852cfbb02",
    "cell_id": "00009-92048009-74dc-4c9f-9ceb-f45211da46ab",
    "deepnote_to_be_reexecuted": false,
    "source_hash": "dc721249",
    "execution_start": 1630098475555,
    "execution_millis": 3,
    "deepnote_cell_type": "code"
   },
   "source": "apple.dtypes",
   "outputs": [
    {
     "output_type": "execute_result",
     "execution_count": 5,
     "data": {
      "text/plain": "Date          object\nOpen         float64\nHigh         float64\nLow          float64\nClose        float64\nVolume         int64\nAdj Close    float64\ndtype: object"
     },
     "metadata": {}
    }
   ],
   "execution_count": null
  },
  {
   "cell_type": "markdown",
   "source": "### Step 5. Transform the Date column as a datetime type",
   "metadata": {
    "id": "65grx6OEuZsy",
    "cell_id": "00010-eb7fa284-e220-43cf-9205-b669044bbada",
    "deepnote_cell_type": "markdown"
   }
  },
  {
   "cell_type": "code",
   "metadata": {
    "colab": {
     "base_uri": "https://localhost:8080/"
    },
    "id": "j03oibfvuZsy",
    "executionInfo": {
     "status": "ok",
     "timestamp": 1624331391884,
     "user_tz": 240,
     "elapsed": 7,
     "user": {
      "displayName": "Andrés Sánchez",
      "photoUrl": "https://lh3.googleusercontent.com/a-/AOh14Gg69bZMv30ckb-T1MJy0nSxWIHUaP0p2uP6MYBuvQ=s64",
      "userId": "07985253921366566280"
     }
    },
    "outputId": "a403b3fd-23a2-49dc-da43-3f5c771fab63",
    "cell_id": "00011-a057ac4f-fe00-4d65-a74b-10c7c93bd10f",
    "deepnote_to_be_reexecuted": false,
    "source_hash": "e92acfd2",
    "execution_start": 1630098475598,
    "execution_millis": 12,
    "deepnote_cell_type": "code"
   },
   "source": "apple['Date'] = pd.to_datetime(apple['Date'])\napple.dtypes",
   "outputs": [
    {
     "output_type": "execute_result",
     "execution_count": 6,
     "data": {
      "text/plain": "Date         datetime64[ns]\nOpen                float64\nHigh                float64\nLow                 float64\nClose               float64\nVolume                int64\nAdj Close           float64\ndtype: object"
     },
     "metadata": {}
    }
   ],
   "execution_count": null
  },
  {
   "cell_type": "markdown",
   "source": "### Step 6.  Set the date as the index",
   "metadata": {
    "id": "1AklPi4EuZsy",
    "cell_id": "00012-86d72cfe-53fe-4b31-9890-2aa1740c2686",
    "deepnote_cell_type": "markdown"
   }
  },
  {
   "cell_type": "code",
   "metadata": {
    "id": "uOL2HJluuZsy",
    "executionInfo": {
     "status": "ok",
     "timestamp": 1624331408586,
     "user_tz": 240,
     "elapsed": 151,
     "user": {
      "displayName": "Andrés Sánchez",
      "photoUrl": "https://lh3.googleusercontent.com/a-/AOh14Gg69bZMv30ckb-T1MJy0nSxWIHUaP0p2uP6MYBuvQ=s64",
      "userId": "07985253921366566280"
     }
    },
    "cell_id": "00013-79a307ca-d74b-4f9a-9b32-aa6e11e7b4b1",
    "deepnote_to_be_reexecuted": false,
    "source_hash": "754728ef",
    "execution_start": 1630098475599,
    "execution_millis": 0,
    "deepnote_cell_type": "code"
   },
   "source": "apple = apple.set_index('Date')",
   "outputs": [],
   "execution_count": null
  },
  {
   "cell_type": "markdown",
   "source": "### Step 7.  Is there any duplicate dates?",
   "metadata": {
    "id": "hJVVmWnTuZsz",
    "cell_id": "00014-875d7a5f-c1ca-4664-9f89-d624d01df516",
    "deepnote_cell_type": "markdown"
   }
  },
  {
   "cell_type": "code",
   "metadata": {
    "colab": {
     "base_uri": "https://localhost:8080/",
     "height": 78
    },
    "id": "ElsBnxHyuZsz",
    "executionInfo": {
     "status": "ok",
     "timestamp": 1624331476355,
     "user_tz": 240,
     "elapsed": 164,
     "user": {
      "displayName": "Andrés Sánchez",
      "photoUrl": "https://lh3.googleusercontent.com/a-/AOh14Gg69bZMv30ckb-T1MJy0nSxWIHUaP0p2uP6MYBuvQ=s64",
      "userId": "07985253921366566280"
     }
    },
    "outputId": "a7830c70-aa59-4956-b18e-c1c5e79631d5",
    "cell_id": "00015-f2257a19-75f8-46d5-ad12-0284351d76f3",
    "deepnote_to_be_reexecuted": false,
    "source_hash": "ec27ab69",
    "execution_start": 1630098475599,
    "execution_millis": 11,
    "deepnote_cell_type": "code"
   },
   "source": "apple.loc[apple.index.duplicated() == True]\n# The answer is no.",
   "outputs": [
    {
     "output_type": "execute_result",
     "execution_count": 8,
     "data": {
      "application/vnd.deepnote.dataframe.v2+json": {
       "row_count": 0,
       "column_count": 6,
       "columns": [
        {
         "name": "Open",
         "dtype": "float64",
         "stats": {
          "unique_count": 0,
          "nan_count": 0,
          "min": null,
          "max": null,
          "histogram": [
           {
            "bin_start": 0,
            "bin_end": 0.1,
            "count": 0
           },
           {
            "bin_start": 0.1,
            "bin_end": 0.2,
            "count": 0
           },
           {
            "bin_start": 0.2,
            "bin_end": 0.30000000000000004,
            "count": 0
           },
           {
            "bin_start": 0.30000000000000004,
            "bin_end": 0.4,
            "count": 0
           },
           {
            "bin_start": 0.4,
            "bin_end": 0.5,
            "count": 0
           },
           {
            "bin_start": 0.5,
            "bin_end": 0.6000000000000001,
            "count": 0
           },
           {
            "bin_start": 0.6000000000000001,
            "bin_end": 0.7000000000000001,
            "count": 0
           },
           {
            "bin_start": 0.7000000000000001,
            "bin_end": 0.8,
            "count": 0
           },
           {
            "bin_start": 0.8,
            "bin_end": 0.9,
            "count": 0
           },
           {
            "bin_start": 0.9,
            "bin_end": 1,
            "count": 0
           }
          ]
         }
        },
        {
         "name": "High",
         "dtype": "float64",
         "stats": {
          "unique_count": 0,
          "nan_count": 0,
          "min": null,
          "max": null,
          "histogram": [
           {
            "bin_start": 0,
            "bin_end": 0.1,
            "count": 0
           },
           {
            "bin_start": 0.1,
            "bin_end": 0.2,
            "count": 0
           },
           {
            "bin_start": 0.2,
            "bin_end": 0.30000000000000004,
            "count": 0
           },
           {
            "bin_start": 0.30000000000000004,
            "bin_end": 0.4,
            "count": 0
           },
           {
            "bin_start": 0.4,
            "bin_end": 0.5,
            "count": 0
           },
           {
            "bin_start": 0.5,
            "bin_end": 0.6000000000000001,
            "count": 0
           },
           {
            "bin_start": 0.6000000000000001,
            "bin_end": 0.7000000000000001,
            "count": 0
           },
           {
            "bin_start": 0.7000000000000001,
            "bin_end": 0.8,
            "count": 0
           },
           {
            "bin_start": 0.8,
            "bin_end": 0.9,
            "count": 0
           },
           {
            "bin_start": 0.9,
            "bin_end": 1,
            "count": 0
           }
          ]
         }
        },
        {
         "name": "Low",
         "dtype": "float64",
         "stats": {
          "unique_count": 0,
          "nan_count": 0,
          "min": null,
          "max": null,
          "histogram": [
           {
            "bin_start": 0,
            "bin_end": 0.1,
            "count": 0
           },
           {
            "bin_start": 0.1,
            "bin_end": 0.2,
            "count": 0
           },
           {
            "bin_start": 0.2,
            "bin_end": 0.30000000000000004,
            "count": 0
           },
           {
            "bin_start": 0.30000000000000004,
            "bin_end": 0.4,
            "count": 0
           },
           {
            "bin_start": 0.4,
            "bin_end": 0.5,
            "count": 0
           },
           {
            "bin_start": 0.5,
            "bin_end": 0.6000000000000001,
            "count": 0
           },
           {
            "bin_start": 0.6000000000000001,
            "bin_end": 0.7000000000000001,
            "count": 0
           },
           {
            "bin_start": 0.7000000000000001,
            "bin_end": 0.8,
            "count": 0
           },
           {
            "bin_start": 0.8,
            "bin_end": 0.9,
            "count": 0
           },
           {
            "bin_start": 0.9,
            "bin_end": 1,
            "count": 0
           }
          ]
         }
        },
        {
         "name": "Close",
         "dtype": "float64",
         "stats": {
          "unique_count": 0,
          "nan_count": 0,
          "min": null,
          "max": null,
          "histogram": [
           {
            "bin_start": 0,
            "bin_end": 0.1,
            "count": 0
           },
           {
            "bin_start": 0.1,
            "bin_end": 0.2,
            "count": 0
           },
           {
            "bin_start": 0.2,
            "bin_end": 0.30000000000000004,
            "count": 0
           },
           {
            "bin_start": 0.30000000000000004,
            "bin_end": 0.4,
            "count": 0
           },
           {
            "bin_start": 0.4,
            "bin_end": 0.5,
            "count": 0
           },
           {
            "bin_start": 0.5,
            "bin_end": 0.6000000000000001,
            "count": 0
           },
           {
            "bin_start": 0.6000000000000001,
            "bin_end": 0.7000000000000001,
            "count": 0
           },
           {
            "bin_start": 0.7000000000000001,
            "bin_end": 0.8,
            "count": 0
           },
           {
            "bin_start": 0.8,
            "bin_end": 0.9,
            "count": 0
           },
           {
            "bin_start": 0.9,
            "bin_end": 1,
            "count": 0
           }
          ]
         }
        },
        {
         "name": "Volume",
         "dtype": "int64",
         "stats": {
          "unique_count": 0,
          "nan_count": 0,
          "min": null,
          "max": null,
          "histogram": [
           {
            "bin_start": 0,
            "bin_end": 0.1,
            "count": 0
           },
           {
            "bin_start": 0.1,
            "bin_end": 0.2,
            "count": 0
           },
           {
            "bin_start": 0.2,
            "bin_end": 0.30000000000000004,
            "count": 0
           },
           {
            "bin_start": 0.30000000000000004,
            "bin_end": 0.4,
            "count": 0
           },
           {
            "bin_start": 0.4,
            "bin_end": 0.5,
            "count": 0
           },
           {
            "bin_start": 0.5,
            "bin_end": 0.6000000000000001,
            "count": 0
           },
           {
            "bin_start": 0.6000000000000001,
            "bin_end": 0.7000000000000001,
            "count": 0
           },
           {
            "bin_start": 0.7000000000000001,
            "bin_end": 0.8,
            "count": 0
           },
           {
            "bin_start": 0.8,
            "bin_end": 0.9,
            "count": 0
           },
           {
            "bin_start": 0.9,
            "bin_end": 1,
            "count": 0
           }
          ]
         }
        },
        {
         "name": "Adj Close",
         "dtype": "float64",
         "stats": {
          "unique_count": 0,
          "nan_count": 0,
          "min": null,
          "max": null,
          "histogram": [
           {
            "bin_start": 0,
            "bin_end": 0.1,
            "count": 0
           },
           {
            "bin_start": 0.1,
            "bin_end": 0.2,
            "count": 0
           },
           {
            "bin_start": 0.2,
            "bin_end": 0.30000000000000004,
            "count": 0
           },
           {
            "bin_start": 0.30000000000000004,
            "bin_end": 0.4,
            "count": 0
           },
           {
            "bin_start": 0.4,
            "bin_end": 0.5,
            "count": 0
           },
           {
            "bin_start": 0.5,
            "bin_end": 0.6000000000000001,
            "count": 0
           },
           {
            "bin_start": 0.6000000000000001,
            "bin_end": 0.7000000000000001,
            "count": 0
           },
           {
            "bin_start": 0.7000000000000001,
            "bin_end": 0.8,
            "count": 0
           },
           {
            "bin_start": 0.8,
            "bin_end": 0.9,
            "count": 0
           },
           {
            "bin_start": 0.9,
            "bin_end": 1,
            "count": 0
           }
          ]
         }
        },
        {
         "name": "_deepnote_index_column",
         "dtype": "datetime64[ns]"
        }
       ],
       "rows_top": [],
       "rows_bottom": null
      },
      "text/plain": "Empty DataFrame\nColumns: [Open, High, Low, Close, Volume, Adj Close]\nIndex: []",
      "text/html": "<div>\n<style scoped>\n    .dataframe tbody tr th:only-of-type {\n        vertical-align: middle;\n    }\n\n    .dataframe tbody tr th {\n        vertical-align: top;\n    }\n\n    .dataframe thead th {\n        text-align: right;\n    }\n</style>\n<table border=\"1\" class=\"dataframe\">\n  <thead>\n    <tr style=\"text-align: right;\">\n      <th></th>\n      <th>Open</th>\n      <th>High</th>\n      <th>Low</th>\n      <th>Close</th>\n      <th>Volume</th>\n      <th>Adj Close</th>\n    </tr>\n    <tr>\n      <th>Date</th>\n      <th></th>\n      <th></th>\n      <th></th>\n      <th></th>\n      <th></th>\n      <th></th>\n    </tr>\n  </thead>\n  <tbody>\n  </tbody>\n</table>\n</div>"
     },
     "metadata": {}
    }
   ],
   "execution_count": null
  },
  {
   "cell_type": "markdown",
   "source": "### Step 8.  Ops...it seems the index is from the most recent date. Make the first entry the oldest date.",
   "metadata": {
    "id": "tnoo4ya5uZsz",
    "cell_id": "00016-df004fa6-6859-4364-aa21-e843e6a80401",
    "deepnote_cell_type": "markdown"
   }
  },
  {
   "cell_type": "code",
   "metadata": {
    "colab": {
     "base_uri": "https://localhost:8080/",
     "height": 1000
    },
    "id": "OHKXI5KFuZsz",
    "executionInfo": {
     "status": "ok",
     "timestamp": 1624331656660,
     "user_tz": 240,
     "elapsed": 129,
     "user": {
      "displayName": "Andrés Sánchez",
      "photoUrl": "https://lh3.googleusercontent.com/a-/AOh14Gg69bZMv30ckb-T1MJy0nSxWIHUaP0p2uP6MYBuvQ=s64",
      "userId": "07985253921366566280"
     }
    },
    "outputId": "fc3db750-9625-4176-ea93-aaf7309856b1",
    "cell_id": "00017-228ca392-e7d5-4ebd-a67f-32282c229944",
    "deepnote_to_be_reexecuted": false,
    "source_hash": "72cafb60",
    "execution_start": 1630098475605,
    "execution_millis": 75,
    "deepnote_cell_type": "code"
   },
   "source": "apple.sort_index(ascending = False)",
   "outputs": [
    {
     "output_type": "execute_result",
     "execution_count": 9,
     "data": {
      "application/vnd.deepnote.dataframe.v2+json": {
       "row_count": 8465,
       "column_count": 6,
       "columns": [
        {
         "name": "Open",
         "dtype": "float64",
         "stats": {
          "unique_count": 3744,
          "nan_count": 0,
          "min": "11.12",
          "max": "702.41",
          "histogram": [
           {
            "bin_start": 11.12,
            "bin_end": 80.249,
            "count": 6357
           },
           {
            "bin_start": 80.249,
            "bin_end": 149.378,
            "count": 688
           },
           {
            "bin_start": 149.378,
            "bin_end": 218.50699999999998,
            "count": 350
           },
           {
            "bin_start": 218.50699999999998,
            "bin_end": 287.63599999999997,
            "count": 143
           },
           {
            "bin_start": 287.63599999999997,
            "bin_end": 356.765,
            "count": 188
           },
           {
            "bin_start": 356.765,
            "bin_end": 425.89399999999995,
            "count": 171
           },
           {
            "bin_start": 425.89399999999995,
            "bin_end": 495.0229999999999,
            "count": 155
           },
           {
            "bin_start": 495.0229999999999,
            "bin_end": 564.1519999999999,
            "count": 211
           },
           {
            "bin_start": 564.1519999999999,
            "bin_end": 633.281,
            "count": 153
           },
           {
            "bin_start": 633.281,
            "bin_end": 702.41,
            "count": 49
           }
          ]
         }
        },
        {
         "name": "High",
         "dtype": "float64",
         "stats": {
          "unique_count": 3666,
          "nan_count": 0,
          "min": "11.12",
          "max": "705.07",
          "histogram": [
           {
            "bin_start": 11.12,
            "bin_end": 80.51500000000001,
            "count": 6344
           },
           {
            "bin_start": 80.51500000000001,
            "bin_end": 149.91000000000003,
            "count": 694
           },
           {
            "bin_start": 149.91000000000003,
            "bin_end": 219.30500000000004,
            "count": 355
           },
           {
            "bin_start": 219.30500000000004,
            "bin_end": 288.70000000000005,
            "count": 142
           },
           {
            "bin_start": 288.70000000000005,
            "bin_end": 358.095,
            "count": 188
           },
           {
            "bin_start": 358.095,
            "bin_end": 427.49000000000007,
            "count": 167
           },
           {
            "bin_start": 427.49000000000007,
            "bin_end": 496.8850000000001,
            "count": 157
           },
           {
            "bin_start": 496.8850000000001,
            "bin_end": 566.2800000000001,
            "count": 205
           },
           {
            "bin_start": 566.2800000000001,
            "bin_end": 635.6750000000001,
            "count": 160
           },
           {
            "bin_start": 635.6750000000001,
            "bin_end": 705.07,
            "count": 53
           }
          ]
         }
        },
        {
         "name": "Low",
         "dtype": "float64",
         "stats": {
          "unique_count": 3652,
          "nan_count": 0,
          "min": "11.0",
          "max": "699.57",
          "histogram": [
           {
            "bin_start": 11,
            "bin_end": 79.857,
            "count": 6364
           },
           {
            "bin_start": 79.857,
            "bin_end": 148.714,
            "count": 684
           },
           {
            "bin_start": 148.714,
            "bin_end": 217.571,
            "count": 347
           },
           {
            "bin_start": 217.571,
            "bin_end": 286.428,
            "count": 146
           },
           {
            "bin_start": 286.428,
            "bin_end": 355.28499999999997,
            "count": 192
           },
           {
            "bin_start": 355.28499999999997,
            "bin_end": 424.142,
            "count": 172
           },
           {
            "bin_start": 424.142,
            "bin_end": 492.999,
            "count": 153
           },
           {
            "bin_start": 492.999,
            "bin_end": 561.856,
            "count": 219
           },
           {
            "bin_start": 561.856,
            "bin_end": 630.713,
            "count": 146
           },
           {
            "bin_start": 630.713,
            "bin_end": 699.57,
            "count": 42
           }
          ]
         }
        },
        {
         "name": "Close",
         "dtype": "float64",
         "stats": {
          "unique_count": 3834,
          "nan_count": 0,
          "min": "11.0",
          "max": "702.1",
          "histogram": [
           {
            "bin_start": 11,
            "bin_end": 80.11,
            "count": 6351
           },
           {
            "bin_start": 80.11,
            "bin_end": 149.22,
            "count": 690
           },
           {
            "bin_start": 149.22,
            "bin_end": 218.32999999999998,
            "count": 352
           },
           {
            "bin_start": 218.32999999999998,
            "bin_end": 287.44,
            "count": 144
           },
           {
            "bin_start": 287.44,
            "bin_end": 356.55,
            "count": 191
           },
           {
            "bin_start": 356.55,
            "bin_end": 425.65999999999997,
            "count": 167
           },
           {
            "bin_start": 425.65999999999997,
            "bin_end": 494.77,
            "count": 158
           },
           {
            "bin_start": 494.77,
            "bin_end": 563.88,
            "count": 210
           },
           {
            "bin_start": 563.88,
            "bin_end": 632.99,
            "count": 151
           },
           {
            "bin_start": 632.99,
            "bin_end": 702.1,
            "count": 51
           }
          ]
         }
        },
        {
         "name": "Volume",
         "dtype": "int64",
         "stats": {
          "unique_count": 7915,
          "nan_count": 0,
          "min": "250400",
          "max": "1855410200",
          "histogram": [
           {
            "bin_start": 250400,
            "bin_end": 185766380,
            "count": 7451
           },
           {
            "bin_start": 185766380,
            "bin_end": 371282360,
            "count": 864
           },
           {
            "bin_start": 371282360,
            "bin_end": 556798340,
            "count": 121
           },
           {
            "bin_start": 556798340,
            "bin_end": 742314320,
            "count": 22
           },
           {
            "bin_start": 742314320,
            "bin_end": 927830300,
            "count": 4
           },
           {
            "bin_start": 927830300,
            "bin_end": 1113346280,
            "count": 2
           },
           {
            "bin_start": 1113346280,
            "bin_end": 1298862260,
            "count": 0
           },
           {
            "bin_start": 1298862260,
            "bin_end": 1484378240,
            "count": 0
           },
           {
            "bin_start": 1484378240,
            "bin_end": 1669894220,
            "count": 0
           },
           {
            "bin_start": 1669894220,
            "bin_end": 1855410200,
            "count": 1
           }
          ]
         }
        },
        {
         "name": "Adj Close",
         "dtype": "float64",
         "stats": {
          "unique_count": 2325,
          "nan_count": 0,
          "min": "0.17",
          "max": "96.28",
          "histogram": [
           {
            "bin_start": 0.17,
            "bin_end": 9.781,
            "count": 6451
           },
           {
            "bin_start": 9.781,
            "bin_end": 19.392000000000003,
            "count": 543
           },
           {
            "bin_start": 19.392000000000003,
            "bin_end": 29.003000000000004,
            "count": 375
           },
           {
            "bin_start": 29.003000000000004,
            "bin_end": 38.614000000000004,
            "count": 142
           },
           {
            "bin_start": 38.614000000000004,
            "bin_end": 48.22500000000001,
            "count": 185
           },
           {
            "bin_start": 48.22500000000001,
            "bin_end": 57.836000000000006,
            "count": 164
           },
           {
            "bin_start": 57.836000000000006,
            "bin_end": 67.447,
            "count": 151
           },
           {
            "bin_start": 67.447,
            "bin_end": 77.058,
            "count": 202
           },
           {
            "bin_start": 77.058,
            "bin_end": 86.66900000000001,
            "count": 175
           },
           {
            "bin_start": 86.66900000000001,
            "bin_end": 96.28,
            "count": 77
           }
          ]
         }
        },
        {
         "name": "_deepnote_index_column",
         "dtype": "datetime64[ns]"
        }
       ],
       "rows_top": [
        {
         "Open": 96.27,
         "High": 96.8,
         "Low": 93.92,
         "Close": 95.35,
         "Volume": 65130000,
         "Adj Close": 95.35,
         "_deepnote_index_column": "2014-07-08T00:00:00.000000"
        },
        {
         "Open": 94.14,
         "High": 95.99,
         "Low": 94.1,
         "Close": 95.97,
         "Volume": 56305400,
         "Adj Close": 95.97,
         "_deepnote_index_column": "2014-07-07T00:00:00.000000"
        },
        {
         "Open": 93.67,
         "High": 94.1,
         "Low": 93.2,
         "Close": 94.03,
         "Volume": 22891800,
         "Adj Close": 94.03,
         "_deepnote_index_column": "2014-07-03T00:00:00.000000"
        },
        {
         "Open": 93.87,
         "High": 94.06,
         "Low": 93.09,
         "Close": 93.48,
         "Volume": 28420900,
         "Adj Close": 93.48,
         "_deepnote_index_column": "2014-07-02T00:00:00.000000"
        },
        {
         "Open": 93.52,
         "High": 94.07,
         "Low": 93.13,
         "Close": 93.52,
         "Volume": 38170200,
         "Adj Close": 93.52,
         "_deepnote_index_column": "2014-07-01T00:00:00.000000"
        },
        {
         "Open": 92.1,
         "High": 93.73,
         "Low": 92.09,
         "Close": 92.93,
         "Volume": 49482300,
         "Adj Close": 92.93,
         "_deepnote_index_column": "2014-06-30T00:00:00.000000"
        },
        {
         "Open": 90.82,
         "High": 92,
         "Low": 90.77,
         "Close": 91.98,
         "Volume": 64006800,
         "Adj Close": 91.98,
         "_deepnote_index_column": "2014-06-27T00:00:00.000000"
        },
        {
         "Open": 90.37,
         "High": 91.05,
         "Low": 89.8,
         "Close": 90.9,
         "Volume": 32595800,
         "Adj Close": 90.9,
         "_deepnote_index_column": "2014-06-26T00:00:00.000000"
        },
        {
         "Open": 90.21,
         "High": 90.7,
         "Low": 89.65,
         "Close": 90.36,
         "Volume": 36852200,
         "Adj Close": 90.36,
         "_deepnote_index_column": "2014-06-25T00:00:00.000000"
        },
        {
         "Open": 90.75,
         "High": 91.74,
         "Low": 90.19,
         "Close": 90.28,
         "Volume": 38988300,
         "Adj Close": 90.28,
         "_deepnote_index_column": "2014-06-24T00:00:00.000000"
        },
        {
         "Open": 91.32,
         "High": 91.62,
         "Low": 90.6,
         "Close": 90.83,
         "Volume": 43618200,
         "Adj Close": 90.83,
         "_deepnote_index_column": "2014-06-23T00:00:00.000000"
        },
        {
         "Open": 91.85,
         "High": 92.55,
         "Low": 90.9,
         "Close": 90.91,
         "Volume": 100813200,
         "Adj Close": 90.91,
         "_deepnote_index_column": "2014-06-20T00:00:00.000000"
        },
        {
         "Open": 92.29,
         "High": 92.3,
         "Low": 91.34,
         "Close": 91.86,
         "Volume": 35486400,
         "Adj Close": 91.86,
         "_deepnote_index_column": "2014-06-19T00:00:00.000000"
        },
        {
         "Open": 92.27,
         "High": 92.29,
         "Low": 91.35,
         "Close": 92.18,
         "Volume": 33493800,
         "Adj Close": 92.18,
         "_deepnote_index_column": "2014-06-18T00:00:00.000000"
        },
        {
         "Open": 92.31,
         "High": 92.7,
         "Low": 91.8,
         "Close": 92.08,
         "Volume": 29689800,
         "Adj Close": 92.08,
         "_deepnote_index_column": "2014-06-17T00:00:00.000000"
        },
        {
         "Open": 91.51,
         "High": 92.75,
         "Low": 91.45,
         "Close": 92.2,
         "Volume": 35561000,
         "Adj Close": 92.2,
         "_deepnote_index_column": "2014-06-16T00:00:00.000000"
        },
        {
         "Open": 92.2,
         "High": 92.44,
         "Low": 90.88,
         "Close": 91.28,
         "Volume": 54525000,
         "Adj Close": 91.28,
         "_deepnote_index_column": "2014-06-13T00:00:00.000000"
        },
        {
         "Open": 94.04,
         "High": 94.12,
         "Low": 91.9,
         "Close": 92.29,
         "Volume": 54749000,
         "Adj Close": 92.29,
         "_deepnote_index_column": "2014-06-12T00:00:00.000000"
        },
        {
         "Open": 94.13,
         "High": 94.76,
         "Low": 93.47,
         "Close": 93.86,
         "Volume": 45681000,
         "Adj Close": 93.86,
         "_deepnote_index_column": "2014-06-11T00:00:00.000000"
        },
        {
         "Open": 94.73,
         "High": 95.05,
         "Low": 93.57,
         "Close": 94.25,
         "Volume": 62777000,
         "Adj Close": 94.25,
         "_deepnote_index_column": "2014-06-10T00:00:00.000000"
        },
        {
         "Open": 92.7,
         "High": 93.88,
         "Low": 91.75,
         "Close": 93.7,
         "Volume": 75415000,
         "Adj Close": 93.7,
         "_deepnote_index_column": "2014-06-09T00:00:00.000000"
        },
        {
         "Open": 649.9,
         "High": 651.26,
         "Low": 644.47,
         "Close": 645.57,
         "Volume": 87484600,
         "Adj Close": 92.22,
         "_deepnote_index_column": "2014-06-06T00:00:00.000000"
        },
        {
         "Open": 646.2,
         "High": 649.37,
         "Low": 642.61,
         "Close": 647.35,
         "Volume": 75951400,
         "Adj Close": 92.48,
         "_deepnote_index_column": "2014-06-05T00:00:00.000000"
        },
        {
         "Open": 637.44,
         "High": 647.89,
         "Low": 636.11,
         "Close": 644.82,
         "Volume": 83870500,
         "Adj Close": 92.12,
         "_deepnote_index_column": "2014-06-04T00:00:00.000000"
        },
        {
         "Open": 628.46,
         "High": 638.74,
         "Low": 628.25,
         "Close": 637.54,
         "Volume": 73177300,
         "Adj Close": 91.08,
         "_deepnote_index_column": "2014-06-03T00:00:00.000000"
        },
        {
         "Open": 633.96,
         "High": 634.83,
         "Low": 622.5,
         "Close": 628.65,
         "Volume": 92337700,
         "Adj Close": 89.81,
         "_deepnote_index_column": "2014-06-02T00:00:00.000000"
        },
        {
         "Open": 637.98,
         "High": 644.17,
         "Low": 628.9,
         "Close": 633,
         "Volume": 141005200,
         "Adj Close": 90.43,
         "_deepnote_index_column": "2014-05-30T00:00:00.000000"
        },
        {
         "Open": 627.85,
         "High": 636.87,
         "Low": 627.77,
         "Close": 635.38,
         "Volume": 94118500,
         "Adj Close": 90.77,
         "_deepnote_index_column": "2014-05-29T00:00:00.000000"
        },
        {
         "Open": 626.02,
         "High": 629.83,
         "Low": 623.78,
         "Close": 624.01,
         "Volume": 78870400,
         "Adj Close": 89.14,
         "_deepnote_index_column": "2014-05-28T00:00:00.000000"
        },
        {
         "Open": 615.88,
         "High": 625.86,
         "Low": 615.63,
         "Close": 625.63,
         "Volume": 87216500,
         "Adj Close": 89.38,
         "_deepnote_index_column": "2014-05-27T00:00:00.000000"
        },
        {
         "Open": 607.25,
         "High": 614.73,
         "Low": 606.47,
         "Close": 614.13,
         "Volume": 58052400,
         "Adj Close": 87.73,
         "_deepnote_index_column": "2014-05-23T00:00:00.000000"
        },
        {
         "Open": 606.6,
         "High": 609.85,
         "Low": 604.1,
         "Close": 607.27,
         "Volume": 50190000,
         "Adj Close": 86.75,
         "_deepnote_index_column": "2014-05-22T00:00:00.000000"
        },
        {
         "Open": 603.83,
         "High": 606.7,
         "Low": 602.06,
         "Close": 606.31,
         "Volume": 49214900,
         "Adj Close": 86.62,
         "_deepnote_index_column": "2014-05-21T00:00:00.000000"
        },
        {
         "Open": 604.51,
         "High": 606.4,
         "Low": 600.73,
         "Close": 604.71,
         "Volume": 58709000,
         "Adj Close": 86.39,
         "_deepnote_index_column": "2014-05-20T00:00:00.000000"
        },
        {
         "Open": 597.85,
         "High": 607.33,
         "Low": 597.33,
         "Close": 604.59,
         "Volume": 79438800,
         "Adj Close": 86.37,
         "_deepnote_index_column": "2014-05-19T00:00:00.000000"
        },
        {
         "Open": 588.63,
         "High": 597.53,
         "Low": 585.4,
         "Close": 597.51,
         "Volume": 69064100,
         "Adj Close": 85.36,
         "_deepnote_index_column": "2014-05-16T00:00:00.000000"
        },
        {
         "Open": 594.7,
         "High": 596.6,
         "Low": 588.04,
         "Close": 588.82,
         "Volume": 57711500,
         "Adj Close": 84.12,
         "_deepnote_index_column": "2014-05-15T00:00:00.000000"
        },
        {
         "Open": 592.43,
         "High": 597.4,
         "Low": 591.74,
         "Close": 593.87,
         "Volume": 41601000,
         "Adj Close": 84.84,
         "_deepnote_index_column": "2014-05-14T00:00:00.000000"
        },
        {
         "Open": 592,
         "High": 594.54,
         "Low": 590.7,
         "Close": 593.76,
         "Volume": 39934300,
         "Adj Close": 84.82,
         "_deepnote_index_column": "2014-05-13T00:00:00.000000"
        },
        {
         "Open": 587.49,
         "High": 593.66,
         "Low": 587.4,
         "Close": 592.83,
         "Volume": 53302200,
         "Adj Close": 84.69,
         "_deepnote_index_column": "2014-05-12T00:00:00.000000"
        },
        {
         "Open": 584.54,
         "High": 586.25,
         "Low": 580.33,
         "Close": 585.54,
         "Volume": 72899400,
         "Adj Close": 83.65,
         "_deepnote_index_column": "2014-05-09T00:00:00.000000"
        },
        {
         "Open": 588.25,
         "High": 594.41,
         "Low": 586.4,
         "Close": 587.99,
         "Volume": 57574300,
         "Adj Close": 84,
         "_deepnote_index_column": "2014-05-08T00:00:00.000000"
        },
        {
         "Open": 595.25,
         "High": 597.29,
         "Low": 587.73,
         "Close": 592.33,
         "Volume": 70716100,
         "Adj Close": 84.15,
         "_deepnote_index_column": "2014-05-07T00:00:00.000000"
        },
        {
         "Open": 601.8,
         "High": 604.41,
         "Low": 594.41,
         "Close": 594.41,
         "Volume": 93641100,
         "Adj Close": 84.44,
         "_deepnote_index_column": "2014-05-06T00:00:00.000000"
        },
        {
         "Open": 590.14,
         "High": 601,
         "Low": 590,
         "Close": 600.96,
         "Volume": 71766800,
         "Adj Close": 85.37,
         "_deepnote_index_column": "2014-05-05T00:00:00.000000"
        },
        {
         "Open": 592.34,
         "High": 594.2,
         "Low": 589.71,
         "Close": 592.58,
         "Volume": 47878600,
         "Adj Close": 84.18,
         "_deepnote_index_column": "2014-05-02T00:00:00.000000"
        },
        {
         "Open": 592,
         "High": 594.8,
         "Low": 586.36,
         "Close": 591.48,
         "Volume": 61012000,
         "Adj Close": 84.03,
         "_deepnote_index_column": "2014-05-01T00:00:00.000000"
        },
        {
         "Open": 592.64,
         "High": 599.43,
         "Low": 589.8,
         "Close": 590.09,
         "Volume": 114160200,
         "Adj Close": 83.83,
         "_deepnote_index_column": "2014-04-30T00:00:00.000000"
        },
        {
         "Open": 593.74,
         "High": 595.98,
         "Low": 589.51,
         "Close": 592.33,
         "Volume": 84344400,
         "Adj Close": 84.15,
         "_deepnote_index_column": "2014-04-29T00:00:00.000000"
        },
        {
         "Open": 572.8,
         "High": 595.75,
         "Low": 572.55,
         "Close": 594.09,
         "Volume": 167371400,
         "Adj Close": 84.4,
         "_deepnote_index_column": "2014-04-28T00:00:00.000000"
        },
        {
         "Open": 564.53,
         "High": 571.99,
         "Low": 563.96,
         "Close": 571.94,
         "Volume": 97568800,
         "Adj Close": 81.25,
         "_deepnote_index_column": "2014-04-25T00:00:00.000000"
        },
        {
         "Open": 568.21,
         "High": 570,
         "Low": 560.73,
         "Close": 567.77,
         "Volume": 189977900,
         "Adj Close": 80.66,
         "_deepnote_index_column": "2014-04-24T00:00:00.000000"
        },
        {
         "Open": 529.06,
         "High": 531.13,
         "Low": 524.45,
         "Close": 524.75,
         "Volume": 98735000,
         "Adj Close": 74.55,
         "_deepnote_index_column": "2014-04-23T00:00:00.000000"
        },
        {
         "Open": 528.31,
         "High": 531.83,
         "Low": 526.5,
         "Close": 531.7,
         "Volume": 50640800,
         "Adj Close": 75.54,
         "_deepnote_index_column": "2014-04-22T00:00:00.000000"
        },
        {
         "Open": 525.34,
         "High": 532.14,
         "Low": 523.96,
         "Close": 531.17,
         "Volume": 45637200,
         "Adj Close": 75.46,
         "_deepnote_index_column": "2014-04-21T00:00:00.000000"
        },
        {
         "Open": 520,
         "High": 527.76,
         "Low": 519.2,
         "Close": 524.94,
         "Volume": 71083600,
         "Adj Close": 74.57,
         "_deepnote_index_column": "2014-04-17T00:00:00.000000"
        },
        {
         "Open": 518.05,
         "High": 521.09,
         "Low": 514.14,
         "Close": 519.01,
         "Volume": 53691400,
         "Adj Close": 73.73,
         "_deepnote_index_column": "2014-04-16T00:00:00.000000"
        },
        {
         "Open": 520.27,
         "High": 521.64,
         "Low": 511.33,
         "Close": 517.96,
         "Volume": 66622500,
         "Adj Close": 73.58,
         "_deepnote_index_column": "2014-04-15T00:00:00.000000"
        },
        {
         "Open": 521.9,
         "High": 522.16,
         "Low": 517.21,
         "Close": 521.68,
         "Volume": 51418500,
         "Adj Close": 74.11,
         "_deepnote_index_column": "2014-04-14T00:00:00.000000"
        },
        {
         "Open": 519,
         "High": 522.83,
         "Low": 517.14,
         "Close": 519.61,
         "Volume": 67929400,
         "Adj Close": 73.82,
         "_deepnote_index_column": "2014-04-11T00:00:00.000000"
        },
        {
         "Open": 530.68,
         "High": 532.24,
         "Low": 523.17,
         "Close": 523.48,
         "Volume": 59913000,
         "Adj Close": 74.37,
         "_deepnote_index_column": "2014-04-10T00:00:00.000000"
        },
        {
         "Open": 522.64,
         "High": 530.49,
         "Low": 522.02,
         "Close": 530.32,
         "Volume": 51542400,
         "Adj Close": 75.34,
         "_deepnote_index_column": "2014-04-09T00:00:00.000000"
        },
        {
         "Open": 525.19,
         "High": 526.12,
         "Low": 518.7,
         "Close": 523.44,
         "Volume": 60972100,
         "Adj Close": 74.36,
         "_deepnote_index_column": "2014-04-08T00:00:00.000000"
        },
        {
         "Open": 528.02,
         "High": 530.9,
         "Low": 521.89,
         "Close": 523.47,
         "Volume": 72462600,
         "Adj Close": 74.37,
         "_deepnote_index_column": "2014-04-07T00:00:00.000000"
        },
        {
         "Open": 539.81,
         "High": 540,
         "Low": 530.58,
         "Close": 531.82,
         "Volume": 68812800,
         "Adj Close": 75.55,
         "_deepnote_index_column": "2014-04-04T00:00:00.000000"
        },
        {
         "Open": 541.39,
         "High": 542.5,
         "Low": 537.64,
         "Close": 538.79,
         "Volume": 40586000,
         "Adj Close": 76.54,
         "_deepnote_index_column": "2014-04-03T00:00:00.000000"
        },
        {
         "Open": 542.38,
         "High": 543.48,
         "Low": 540.26,
         "Close": 542.55,
         "Volume": 45105200,
         "Adj Close": 77.08,
         "_deepnote_index_column": "2014-04-02T00:00:00.000000"
        },
        {
         "Open": 537.76,
         "High": 541.87,
         "Low": 536.77,
         "Close": 541.65,
         "Volume": 50190000,
         "Adj Close": 76.95,
         "_deepnote_index_column": "2014-04-01T00:00:00.000000"
        },
        {
         "Open": 539.23,
         "High": 540.81,
         "Low": 535.93,
         "Close": 536.74,
         "Volume": 42167300,
         "Adj Close": 76.25,
         "_deepnote_index_column": "2014-03-31T00:00:00.000000"
        },
        {
         "Open": 538.32,
         "High": 538.94,
         "Low": 534.25,
         "Close": 536.86,
         "Volume": 50141000,
         "Adj Close": 76.27,
         "_deepnote_index_column": "2014-03-28T00:00:00.000000"
        },
        {
         "Open": 540.02,
         "High": 541.5,
         "Low": 535.12,
         "Close": 537.46,
         "Volume": 55507900,
         "Adj Close": 76.35,
         "_deepnote_index_column": "2014-03-27T00:00:00.000000"
        },
        {
         "Open": 546.52,
         "High": 549,
         "Low": 538.86,
         "Close": 539.78,
         "Volume": 74942000,
         "Adj Close": 76.68,
         "_deepnote_index_column": "2014-03-26T00:00:00.000000"
        },
        {
         "Open": 541.5,
         "High": 545.75,
         "Low": 539.59,
         "Close": 544.99,
         "Volume": 70573300,
         "Adj Close": 77.42,
         "_deepnote_index_column": "2014-03-25T00:00:00.000000"
        },
        {
         "Open": 538.42,
         "High": 540.5,
         "Low": 535.06,
         "Close": 539.19,
         "Volume": 88925200,
         "Adj Close": 76.6,
         "_deepnote_index_column": "2014-03-24T00:00:00.000000"
        },
        {
         "Open": 531.93,
         "High": 533.75,
         "Low": 526.33,
         "Close": 532.87,
         "Volume": 93511600,
         "Adj Close": 75.7,
         "_deepnote_index_column": "2014-03-21T00:00:00.000000"
        },
        {
         "Open": 529.89,
         "High": 532.67,
         "Low": 527.35,
         "Close": 528.7,
         "Volume": 52099600,
         "Adj Close": 75.11,
         "_deepnote_index_column": "2014-03-20T00:00:00.000000"
        },
        {
         "Open": 532.26,
         "High": 536.24,
         "Low": 529,
         "Close": 531.26,
         "Volume": 56189000,
         "Adj Close": 75.47,
         "_deepnote_index_column": "2014-03-19T00:00:00.000000"
        },
        {
         "Open": 525.9,
         "High": 531.97,
         "Low": 525.2,
         "Close": 531.4,
         "Volume": 52411800,
         "Adj Close": 75.49,
         "_deepnote_index_column": "2014-03-18T00:00:00.000000"
        },
        {
         "Open": 527.7,
         "High": 529.97,
         "Low": 525.85,
         "Close": 526.74,
         "Volume": 49886200,
         "Adj Close": 74.83,
         "_deepnote_index_column": "2014-03-17T00:00:00.000000"
        },
        {
         "Open": 528.79,
         "High": 530.89,
         "Low": 523,
         "Close": 524.69,
         "Volume": 59299800,
         "Adj Close": 74.54,
         "_deepnote_index_column": "2014-03-14T00:00:00.000000"
        },
        {
         "Open": 537.44,
         "High": 539.66,
         "Low": 529.16,
         "Close": 530.65,
         "Volume": 64435700,
         "Adj Close": 75.39,
         "_deepnote_index_column": "2014-03-13T00:00:00.000000"
        },
        {
         "Open": 534.51,
         "High": 537.35,
         "Low": 532,
         "Close": 536.61,
         "Volume": 49831600,
         "Adj Close": 76.23,
         "_deepnote_index_column": "2014-03-12T00:00:00.000000"
        },
        {
         "Open": 535.45,
         "High": 538.74,
         "Low": 532.59,
         "Close": 536.09,
         "Volume": 69806100,
         "Adj Close": 76.16,
         "_deepnote_index_column": "2014-03-11T00:00:00.000000"
        }
       ],
       "rows_bottom": [
        {
         "Open": 27.88,
         "High": 28,
         "Low": 27.88,
         "Close": 27.88,
         "Volume": 8366400,
         "Adj Close": 0.43,
         "_deepnote_index_column": "1981-04-10T00:00:00.000000"
        },
        {
         "Open": 27.5,
         "High": 27.62,
         "Low": 27.5,
         "Close": 27.5,
         "Volume": 3124800,
         "Adj Close": 0.43,
         "_deepnote_index_column": "1981-04-09T00:00:00.000000"
        },
        {
         "Open": 27,
         "High": 27.25,
         "Low": 27,
         "Close": 27,
         "Volume": 5488000,
         "Adj Close": 0.42,
         "_deepnote_index_column": "1981-04-08T00:00:00.000000"
        },
        {
         "Open": 25.87,
         "High": 25.87,
         "Low": 25.75,
         "Close": 25.75,
         "Volume": 2671200,
         "Adj Close": 0.4,
         "_deepnote_index_column": "1981-04-07T00:00:00.000000"
        },
        {
         "Open": 26.13,
         "High": 26.13,
         "Low": 26,
         "Close": 26,
         "Volume": 5700800,
         "Adj Close": 0.41,
         "_deepnote_index_column": "1981-04-06T00:00:00.000000"
        },
        {
         "Open": 26.5,
         "High": 26.63,
         "Low": 26.5,
         "Close": 26.5,
         "Volume": 4121600,
         "Adj Close": 0.41,
         "_deepnote_index_column": "1981-04-03T00:00:00.000000"
        },
        {
         "Open": 26.37,
         "High": 26.5,
         "Low": 26.37,
         "Close": 26.37,
         "Volume": 7851200,
         "Adj Close": 0.41,
         "_deepnote_index_column": "1981-04-02T00:00:00.000000"
        },
        {
         "Open": 24.38,
         "High": 24.38,
         "Low": 24.25,
         "Close": 24.25,
         "Volume": 8517600,
         "Adj Close": 0.38,
         "_deepnote_index_column": "1981-04-01T00:00:00.000000"
        },
        {
         "Open": 24.75,
         "High": 24.75,
         "Low": 24.5,
         "Close": 24.5,
         "Volume": 3998400,
         "Adj Close": 0.38,
         "_deepnote_index_column": "1981-03-31T00:00:00.000000"
        },
        {
         "Open": 24.75,
         "High": 25,
         "Low": 24.75,
         "Close": 24.75,
         "Volume": 2475200,
         "Adj Close": 0.39,
         "_deepnote_index_column": "1981-03-30T00:00:00.000000"
        },
        {
         "Open": 24.88,
         "High": 24.88,
         "Low": 24.75,
         "Close": 24.75,
         "Volume": 3063200,
         "Adj Close": 0.39,
         "_deepnote_index_column": "1981-03-27T00:00:00.000000"
        },
        {
         "Open": 25.75,
         "High": 25.75,
         "Low": 25.63,
         "Close": 25.63,
         "Volume": 3068800,
         "Adj Close": 0.4,
         "_deepnote_index_column": "1981-03-26T00:00:00.000000"
        },
        {
         "Open": 26.37,
         "High": 26.37,
         "Low": 26.13,
         "Close": 26.13,
         "Volume": 1764000,
         "Adj Close": 0.41,
         "_deepnote_index_column": "1981-03-25T00:00:00.000000"
        },
        {
         "Open": 26.75,
         "High": 26.75,
         "Low": 26.63,
         "Close": 26.63,
         "Volume": 7039200,
         "Adj Close": 0.41,
         "_deepnote_index_column": "1981-03-24T00:00:00.000000"
        },
        {
         "Open": 26.75,
         "High": 27,
         "Low": 26.75,
         "Close": 26.75,
         "Volume": 5504800,
         "Adj Close": 0.42,
         "_deepnote_index_column": "1981-03-23T00:00:00.000000"
        },
        {
         "Open": 25.75,
         "High": 26,
         "Low": 25.75,
         "Close": 25.75,
         "Volume": 3651200,
         "Adj Close": 0.4,
         "_deepnote_index_column": "1981-03-20T00:00:00.000000"
        },
        {
         "Open": 25.63,
         "High": 25.63,
         "Low": 25.5,
         "Close": 25.5,
         "Volume": 9452800,
         "Adj Close": 0.4,
         "_deepnote_index_column": "1981-03-19T00:00:00.000000"
        },
        {
         "Open": 25.75,
         "High": 26,
         "Low": 25.75,
         "Close": 25.75,
         "Volume": 9234400,
         "Adj Close": 0.4,
         "_deepnote_index_column": "1981-03-18T00:00:00.000000"
        },
        {
         "Open": 24.25,
         "High": 24.5,
         "Low": 24.25,
         "Close": 24.25,
         "Volume": 10936800,
         "Adj Close": 0.38,
         "_deepnote_index_column": "1981-03-17T00:00:00.000000"
        },
        {
         "Open": 23.13,
         "High": 23.37,
         "Low": 23.13,
         "Close": 23.13,
         "Volume": 9307200,
         "Adj Close": 0.36,
         "_deepnote_index_column": "1981-03-16T00:00:00.000000"
        },
        {
         "Open": 22.37,
         "High": 22.37,
         "Low": 22.25,
         "Close": 22.25,
         "Volume": 57825600,
         "Adj Close": 0.35,
         "_deepnote_index_column": "1981-03-13T00:00:00.000000"
        },
        {
         "Open": 22.5,
         "High": 22.63,
         "Low": 22.5,
         "Close": 22.5,
         "Volume": 14812000,
         "Adj Close": 0.35,
         "_deepnote_index_column": "1981-03-12T00:00:00.000000"
        },
        {
         "Open": 21.87,
         "High": 21.87,
         "Low": 21.62,
         "Close": 21.62,
         "Volume": 7464800,
         "Adj Close": 0.34,
         "_deepnote_index_column": "1981-03-11T00:00:00.000000"
        },
        {
         "Open": 22.63,
         "High": 22.63,
         "Low": 22.5,
         "Close": 22.5,
         "Volume": 7095200,
         "Adj Close": 0.35,
         "_deepnote_index_column": "1981-03-10T00:00:00.000000"
        },
        {
         "Open": 23.75,
         "High": 23.75,
         "Low": 23.63,
         "Close": 23.63,
         "Volume": 3830400,
         "Adj Close": 0.37,
         "_deepnote_index_column": "1981-03-09T00:00:00.000000"
        },
        {
         "Open": 25.87,
         "High": 25.87,
         "Low": 25.63,
         "Close": 25.63,
         "Volume": 2900800,
         "Adj Close": 0.4,
         "_deepnote_index_column": "1981-03-06T00:00:00.000000"
        },
        {
         "Open": 26,
         "High": 26,
         "Low": 25.87,
         "Close": 25.87,
         "Volume": 1344000,
         "Adj Close": 0.4,
         "_deepnote_index_column": "1981-03-05T00:00:00.000000"
        },
        {
         "Open": 26.13,
         "High": 26.13,
         "Low": 26,
         "Close": 26,
         "Volume": 3427200,
         "Adj Close": 0.41,
         "_deepnote_index_column": "1981-03-04T00:00:00.000000"
        },
        {
         "Open": 26.37,
         "High": 26.37,
         "Low": 26.25,
         "Close": 26.25,
         "Volume": 4043200,
         "Adj Close": 0.41,
         "_deepnote_index_column": "1981-03-03T00:00:00.000000"
        },
        {
         "Open": 26.63,
         "High": 26.75,
         "Low": 26.63,
         "Close": 26.63,
         "Volume": 2940000,
         "Adj Close": 0.41,
         "_deepnote_index_column": "1981-03-02T00:00:00.000000"
        },
        {
         "Open": 26.5,
         "High": 26.75,
         "Low": 26.5,
         "Close": 26.5,
         "Volume": 3690400,
         "Adj Close": 0.41,
         "_deepnote_index_column": "1981-02-27T00:00:00.000000"
        },
        {
         "Open": 25.63,
         "High": 25.75,
         "Low": 25.63,
         "Close": 25.63,
         "Volume": 2710400,
         "Adj Close": 0.4,
         "_deepnote_index_column": "1981-02-26T00:00:00.000000"
        },
        {
         "Open": 25.25,
         "High": 25.37,
         "Low": 25.25,
         "Close": 25.25,
         "Volume": 4872000,
         "Adj Close": 0.39,
         "_deepnote_index_column": "1981-02-25T00:00:00.000000"
        },
        {
         "Open": 24,
         "High": 24,
         "Low": 23.75,
         "Close": 23.75,
         "Volume": 4244800,
         "Adj Close": 0.37,
         "_deepnote_index_column": "1981-02-24T00:00:00.000000"
        },
        {
         "Open": 24.62,
         "High": 24.75,
         "Low": 24.62,
         "Close": 24.62,
         "Volume": 3528000,
         "Adj Close": 0.38,
         "_deepnote_index_column": "1981-02-23T00:00:00.000000"
        },
        {
         "Open": 24.38,
         "High": 24.38,
         "Low": 24.25,
         "Close": 24.25,
         "Volume": 6092800,
         "Adj Close": 0.38,
         "_deepnote_index_column": "1981-02-20T00:00:00.000000"
        },
        {
         "Open": 25.75,
         "High": 25.75,
         "Low": 25.63,
         "Close": 25.63,
         "Volume": 5577600,
         "Adj Close": 0.4,
         "_deepnote_index_column": "1981-02-19T00:00:00.000000"
        },
        {
         "Open": 27.25,
         "High": 27.5,
         "Low": 27.25,
         "Close": 27.25,
         "Volume": 4810400,
         "Adj Close": 0.42,
         "_deepnote_index_column": "1981-02-18T00:00:00.000000"
        },
        {
         "Open": 26.13,
         "High": 26.25,
         "Low": 26.13,
         "Close": 26.13,
         "Volume": 3068800,
         "Adj Close": 0.41,
         "_deepnote_index_column": "1981-02-17T00:00:00.000000"
        },
        {
         "Open": 25.75,
         "High": 25.75,
         "Low": 25.5,
         "Close": 25.5,
         "Volume": 2788800,
         "Adj Close": 0.4,
         "_deepnote_index_column": "1981-02-13T00:00:00.000000"
        },
        {
         "Open": 26.25,
         "High": 26.25,
         "Low": 26.13,
         "Close": 26.13,
         "Volume": 3640000,
         "Adj Close": 0.41,
         "_deepnote_index_column": "1981-02-12T00:00:00.000000"
        },
        {
         "Open": 26.5,
         "High": 26.5,
         "Low": 26.37,
         "Close": 26.37,
         "Volume": 3460800,
         "Adj Close": 0.41,
         "_deepnote_index_column": "1981-02-11T00:00:00.000000"
        },
        {
         "Open": 27.25,
         "High": 27.38,
         "Low": 27.25,
         "Close": 27.25,
         "Volume": 4586400,
         "Adj Close": 0.42,
         "_deepnote_index_column": "1981-02-10T00:00:00.000000"
        },
        {
         "Open": 27.5,
         "High": 27.5,
         "Low": 27.25,
         "Close": 27.25,
         "Volume": 4188800,
         "Adj Close": 0.42,
         "_deepnote_index_column": "1981-02-09T00:00:00.000000"
        },
        {
         "Open": 28.75,
         "High": 28.87,
         "Low": 28.75,
         "Close": 28.75,
         "Volume": 3466400,
         "Adj Close": 0.45,
         "_deepnote_index_column": "1981-02-06T00:00:00.000000"
        },
        {
         "Open": 28.62,
         "High": 28.87,
         "Low": 28.62,
         "Close": 28.62,
         "Volume": 1982400,
         "Adj Close": 0.45,
         "_deepnote_index_column": "1981-02-05T00:00:00.000000"
        },
        {
         "Open": 28.62,
         "High": 28.75,
         "Low": 28.62,
         "Close": 28.62,
         "Volume": 6966400,
         "Adj Close": 0.45,
         "_deepnote_index_column": "1981-02-04T00:00:00.000000"
        },
        {
         "Open": 27.62,
         "High": 27.75,
         "Low": 27.62,
         "Close": 27.62,
         "Volume": 4788000,
         "Adj Close": 0.43,
         "_deepnote_index_column": "1981-02-03T00:00:00.000000"
        },
        {
         "Open": 26.75,
         "High": 26.75,
         "Low": 26.63,
         "Close": 26.63,
         "Volume": 5941600,
         "Adj Close": 0.41,
         "_deepnote_index_column": "1981-02-02T00:00:00.000000"
        },
        {
         "Open": 28.5,
         "High": 28.5,
         "Low": 28.25,
         "Close": 28.25,
         "Volume": 11547200,
         "Adj Close": 0.44,
         "_deepnote_index_column": "1981-01-30T00:00:00.000000"
        },
        {
         "Open": 30,
         "High": 30,
         "Low": 29.87,
         "Close": 29.87,
         "Volume": 10976000,
         "Adj Close": 0.47,
         "_deepnote_index_column": "1981-01-29T00:00:00.000000"
        },
        {
         "Open": 31.12,
         "High": 31.12,
         "Low": 31,
         "Close": 31,
         "Volume": 7039200,
         "Adj Close": 0.48,
         "_deepnote_index_column": "1981-01-28T00:00:00.000000"
        },
        {
         "Open": 32.25,
         "High": 32.25,
         "Low": 32,
         "Close": 32,
         "Volume": 5924800,
         "Adj Close": 0.5,
         "_deepnote_index_column": "1981-01-27T00:00:00.000000"
        },
        {
         "Open": 32.37,
         "High": 32.37,
         "Low": 32.25,
         "Close": 32.25,
         "Volume": 6160000,
         "Adj Close": 0.5,
         "_deepnote_index_column": "1981-01-26T00:00:00.000000"
        },
        {
         "Open": 32.87,
         "High": 33,
         "Low": 32.75,
         "Close": 32.75,
         "Volume": 2805600,
         "Adj Close": 0.51,
         "_deepnote_index_column": "1981-01-23T00:00:00.000000"
        },
        {
         "Open": 32.87,
         "High": 33.13,
         "Low": 32.87,
         "Close": 32.87,
         "Volume": 8887200,
         "Adj Close": 0.51,
         "_deepnote_index_column": "1981-01-22T00:00:00.000000"
        },
        {
         "Open": 32.5,
         "High": 32.75,
         "Low": 32.5,
         "Close": 32.5,
         "Volume": 3976000,
         "Adj Close": 0.51,
         "_deepnote_index_column": "1981-01-21T00:00:00.000000"
        },
        {
         "Open": 32,
         "High": 32,
         "Low": 31.88,
         "Close": 31.88,
         "Volume": 7520800,
         "Adj Close": 0.5,
         "_deepnote_index_column": "1981-01-20T00:00:00.000000"
        },
        {
         "Open": 32.87,
         "High": 33,
         "Low": 32.87,
         "Close": 32.87,
         "Volume": 10393600,
         "Adj Close": 0.51,
         "_deepnote_index_column": "1981-01-19T00:00:00.000000"
        },
        {
         "Open": 31.12,
         "High": 31.12,
         "Low": 31,
         "Close": 31,
         "Volume": 3348800,
         "Adj Close": 0.48,
         "_deepnote_index_column": "1981-01-16T00:00:00.000000"
        },
        {
         "Open": 31.25,
         "High": 31.5,
         "Low": 31.25,
         "Close": 31.25,
         "Volume": 3516800,
         "Adj Close": 0.49,
         "_deepnote_index_column": "1981-01-15T00:00:00.000000"
        },
        {
         "Open": 30.63,
         "High": 30.75,
         "Low": 30.63,
         "Close": 30.63,
         "Volume": 3572800,
         "Adj Close": 0.48,
         "_deepnote_index_column": "1981-01-14T00:00:00.000000"
        },
        {
         "Open": 30.63,
         "High": 30.63,
         "Low": 30.5,
         "Close": 30.5,
         "Volume": 5762400,
         "Adj Close": 0.48,
         "_deepnote_index_column": "1981-01-13T00:00:00.000000"
        },
        {
         "Open": 31.88,
         "High": 31.88,
         "Low": 31.62,
         "Close": 31.62,
         "Volume": 5924800,
         "Adj Close": 0.49,
         "_deepnote_index_column": "1981-01-12T00:00:00.000000"
        },
        {
         "Open": 31.88,
         "High": 32,
         "Low": 31.88,
         "Close": 31.88,
         "Volume": 5376000,
         "Adj Close": 0.5,
         "_deepnote_index_column": "1981-01-09T00:00:00.000000"
        },
        {
         "Open": 30.37,
         "High": 30.37,
         "Low": 30.25,
         "Close": 30.25,
         "Volume": 9956800,
         "Adj Close": 0.47,
         "_deepnote_index_column": "1981-01-08T00:00:00.000000"
        },
        {
         "Open": 31,
         "High": 31,
         "Low": 30.88,
         "Close": 30.88,
         "Volume": 13921600,
         "Adj Close": 0.48,
         "_deepnote_index_column": "1981-01-07T00:00:00.000000"
        },
        {
         "Open": 32.37,
         "High": 32.37,
         "Low": 32.25,
         "Close": 32.25,
         "Volume": 11289600,
         "Adj Close": 0.5,
         "_deepnote_index_column": "1981-01-06T00:00:00.000000"
        },
        {
         "Open": 33.87,
         "High": 33.87,
         "Low": 33.75,
         "Close": 33.75,
         "Volume": 8932000,
         "Adj Close": 0.53,
         "_deepnote_index_column": "1981-01-05T00:00:00.000000"
        },
        {
         "Open": 34.5,
         "High": 34.75,
         "Low": 34.5,
         "Close": 34.5,
         "Volume": 5415200,
         "Adj Close": 0.54,
         "_deepnote_index_column": "1981-01-02T00:00:00.000000"
        },
        {
         "Open": 34.25,
         "High": 34.25,
         "Low": 34.13,
         "Close": 34.13,
         "Volume": 8937600,
         "Adj Close": 0.53,
         "_deepnote_index_column": "1980-12-31T00:00:00.000000"
        },
        {
         "Open": 35.25,
         "High": 35.25,
         "Low": 35.12,
         "Close": 35.12,
         "Volume": 17220000,
         "Adj Close": 0.55,
         "_deepnote_index_column": "1980-12-30T00:00:00.000000"
        },
        {
         "Open": 36,
         "High": 36.13,
         "Low": 36,
         "Close": 36,
         "Volume": 23290400,
         "Adj Close": 0.56,
         "_deepnote_index_column": "1980-12-29T00:00:00.000000"
        },
        {
         "Open": 35.5,
         "High": 35.62,
         "Low": 35.5,
         "Close": 35.5,
         "Volume": 13893600,
         "Adj Close": 0.55,
         "_deepnote_index_column": "1980-12-26T00:00:00.000000"
        },
        {
         "Open": 32.5,
         "High": 32.63,
         "Low": 32.5,
         "Close": 32.5,
         "Volume": 12000800,
         "Adj Close": 0.51,
         "_deepnote_index_column": "1980-12-24T00:00:00.000000"
        },
        {
         "Open": 30.88,
         "High": 31,
         "Low": 30.88,
         "Close": 30.88,
         "Volume": 11737600,
         "Adj Close": 0.48,
         "_deepnote_index_column": "1980-12-23T00:00:00.000000"
        },
        {
         "Open": 29.63,
         "High": 29.75,
         "Low": 29.63,
         "Close": 29.63,
         "Volume": 9340800,
         "Adj Close": 0.46,
         "_deepnote_index_column": "1980-12-22T00:00:00.000000"
        },
        {
         "Open": 28.25,
         "High": 28.38,
         "Low": 28.25,
         "Close": 28.25,
         "Volume": 12157600,
         "Adj Close": 0.44,
         "_deepnote_index_column": "1980-12-19T00:00:00.000000"
        },
        {
         "Open": 26.63,
         "High": 26.75,
         "Low": 26.63,
         "Close": 26.63,
         "Volume": 18362400,
         "Adj Close": 0.41,
         "_deepnote_index_column": "1980-12-18T00:00:00.000000"
        },
        {
         "Open": 25.87,
         "High": 26,
         "Low": 25.87,
         "Close": 25.87,
         "Volume": 21610400,
         "Adj Close": 0.4,
         "_deepnote_index_column": "1980-12-17T00:00:00.000000"
        },
        {
         "Open": 25.37,
         "High": 25.37,
         "Low": 25.25,
         "Close": 25.25,
         "Volume": 26432000,
         "Adj Close": 0.39,
         "_deepnote_index_column": "1980-12-16T00:00:00.000000"
        },
        {
         "Open": 27.38,
         "High": 27.38,
         "Low": 27.25,
         "Close": 27.25,
         "Volume": 43971200,
         "Adj Close": 0.42,
         "_deepnote_index_column": "1980-12-15T00:00:00.000000"
        },
        {
         "Open": 28.75,
         "High": 28.87,
         "Low": 28.75,
         "Close": 28.75,
         "Volume": 117258400,
         "Adj Close": 0.45,
         "_deepnote_index_column": "1980-12-12T00:00:00.000000"
        }
       ]
      },
      "text/plain": "            Open  High   Low  Close     Volume  Adj Close\nDate                                                     \n2014-07-08 96.27 96.80 93.92  95.35   65130000      95.35\n2014-07-07 94.14 95.99 94.10  95.97   56305400      95.97\n2014-07-03 93.67 94.10 93.20  94.03   22891800      94.03\n2014-07-02 93.87 94.06 93.09  93.48   28420900      93.48\n2014-07-01 93.52 94.07 93.13  93.52   38170200      93.52\n...          ...   ...   ...    ...        ...        ...\n1980-12-18 26.63 26.75 26.63  26.63   18362400       0.41\n1980-12-17 25.87 26.00 25.87  25.87   21610400       0.40\n1980-12-16 25.37 25.37 25.25  25.25   26432000       0.39\n1980-12-15 27.38 27.38 27.25  27.25   43971200       0.42\n1980-12-12 28.75 28.87 28.75  28.75  117258400       0.45\n\n[8465 rows x 6 columns]",
      "text/html": "<div>\n<style scoped>\n    .dataframe tbody tr th:only-of-type {\n        vertical-align: middle;\n    }\n\n    .dataframe tbody tr th {\n        vertical-align: top;\n    }\n\n    .dataframe thead th {\n        text-align: right;\n    }\n</style>\n<table border=\"1\" class=\"dataframe\">\n  <thead>\n    <tr style=\"text-align: right;\">\n      <th></th>\n      <th>Open</th>\n      <th>High</th>\n      <th>Low</th>\n      <th>Close</th>\n      <th>Volume</th>\n      <th>Adj Close</th>\n    </tr>\n    <tr>\n      <th>Date</th>\n      <th></th>\n      <th></th>\n      <th></th>\n      <th></th>\n      <th></th>\n      <th></th>\n    </tr>\n  </thead>\n  <tbody>\n    <tr>\n      <th>2014-07-08</th>\n      <td>96.27</td>\n      <td>96.80</td>\n      <td>93.92</td>\n      <td>95.35</td>\n      <td>65130000</td>\n      <td>95.35</td>\n    </tr>\n    <tr>\n      <th>2014-07-07</th>\n      <td>94.14</td>\n      <td>95.99</td>\n      <td>94.10</td>\n      <td>95.97</td>\n      <td>56305400</td>\n      <td>95.97</td>\n    </tr>\n    <tr>\n      <th>2014-07-03</th>\n      <td>93.67</td>\n      <td>94.10</td>\n      <td>93.20</td>\n      <td>94.03</td>\n      <td>22891800</td>\n      <td>94.03</td>\n    </tr>\n    <tr>\n      <th>2014-07-02</th>\n      <td>93.87</td>\n      <td>94.06</td>\n      <td>93.09</td>\n      <td>93.48</td>\n      <td>28420900</td>\n      <td>93.48</td>\n    </tr>\n    <tr>\n      <th>2014-07-01</th>\n      <td>93.52</td>\n      <td>94.07</td>\n      <td>93.13</td>\n      <td>93.52</td>\n      <td>38170200</td>\n      <td>93.52</td>\n    </tr>\n    <tr>\n      <th>...</th>\n      <td>...</td>\n      <td>...</td>\n      <td>...</td>\n      <td>...</td>\n      <td>...</td>\n      <td>...</td>\n    </tr>\n    <tr>\n      <th>1980-12-18</th>\n      <td>26.63</td>\n      <td>26.75</td>\n      <td>26.63</td>\n      <td>26.63</td>\n      <td>18362400</td>\n      <td>0.41</td>\n    </tr>\n    <tr>\n      <th>1980-12-17</th>\n      <td>25.87</td>\n      <td>26.00</td>\n      <td>25.87</td>\n      <td>25.87</td>\n      <td>21610400</td>\n      <td>0.40</td>\n    </tr>\n    <tr>\n      <th>1980-12-16</th>\n      <td>25.37</td>\n      <td>25.37</td>\n      <td>25.25</td>\n      <td>25.25</td>\n      <td>26432000</td>\n      <td>0.39</td>\n    </tr>\n    <tr>\n      <th>1980-12-15</th>\n      <td>27.38</td>\n      <td>27.38</td>\n      <td>27.25</td>\n      <td>27.25</td>\n      <td>43971200</td>\n      <td>0.42</td>\n    </tr>\n    <tr>\n      <th>1980-12-12</th>\n      <td>28.75</td>\n      <td>28.87</td>\n      <td>28.75</td>\n      <td>28.75</td>\n      <td>117258400</td>\n      <td>0.45</td>\n    </tr>\n  </tbody>\n</table>\n<p>8465 rows × 6 columns</p>\n</div>"
     },
     "metadata": {}
    }
   ],
   "execution_count": null
  },
  {
   "cell_type": "markdown",
   "source": "### Step 9. Get the last business day of each month",
   "metadata": {
    "id": "J35CEHI4uZs0",
    "cell_id": "00018-1e587e81-d447-4a92-ae4a-a26196e72c46",
    "deepnote_cell_type": "markdown"
   }
  },
  {
   "cell_type": "code",
   "metadata": {
    "id": "a5TtuTrkuZs0",
    "executionInfo": {
     "status": "ok",
     "timestamp": 1624331936865,
     "user_tz": 240,
     "elapsed": 194,
     "user": {
      "displayName": "Andrés Sánchez",
      "photoUrl": "https://lh3.googleusercontent.com/a-/AOh14Gg69bZMv30ckb-T1MJy0nSxWIHUaP0p2uP6MYBuvQ=s64",
      "userId": "07985253921366566280"
     }
    },
    "cell_id": "00019-161e6e88-0194-4ec9-bfe0-2eb91898ac2f",
    "deepnote_to_be_reexecuted": false,
    "source_hash": "a05e8b8",
    "execution_start": 1630098475666,
    "execution_millis": 2,
    "deepnote_cell_type": "code"
   },
   "source": "# Create the column day_of_week.\napple['day_of_week'] = apple.index.dayofweek",
   "outputs": [],
   "execution_count": null
  },
  {
   "cell_type": "code",
   "metadata": {
    "id": "MqId6nXKunME",
    "executionInfo": {
     "status": "ok",
     "timestamp": 1624332026418,
     "user_tz": 240,
     "elapsed": 175,
     "user": {
      "displayName": "Andrés Sánchez",
      "photoUrl": "https://lh3.googleusercontent.com/a-/AOh14Gg69bZMv30ckb-T1MJy0nSxWIHUaP0p2uP6MYBuvQ=s64",
      "userId": "07985253921366566280"
     }
    },
    "cell_id": "00020-a064cfd2-d8e6-48a4-ab0f-8097f2523904",
    "deepnote_to_be_reexecuted": false,
    "source_hash": "55efbace",
    "execution_start": 1630098475675,
    "execution_millis": 1,
    "deepnote_cell_type": "code"
   },
   "source": "# Filter by weekdays.\napple = apple.loc[apple.day_of_week < 5]",
   "outputs": [],
   "execution_count": null
  },
  {
   "cell_type": "code",
   "metadata": {
    "colab": {
     "base_uri": "https://localhost:8080/",
     "height": 378
    },
    "id": "k6gh-8ueu80X",
    "executionInfo": {
     "status": "ok",
     "timestamp": 1624332436487,
     "user_tz": 240,
     "elapsed": 130,
     "user": {
      "displayName": "Andrés Sánchez",
      "photoUrl": "https://lh3.googleusercontent.com/a-/AOh14Gg69bZMv30ckb-T1MJy0nSxWIHUaP0p2uP6MYBuvQ=s64",
      "userId": "07985253921366566280"
     }
    },
    "outputId": "52d0aa13-5aff-48f3-d7b3-0d0870c470df",
    "cell_id": "00021-9de5b03b-ed40-4537-afaf-2e43c0b58432",
    "deepnote_to_be_reexecuted": false,
    "source_hash": "3ddfaf28",
    "execution_start": 1630098475716,
    "execution_millis": 39,
    "deepnote_cell_type": "code"
   },
   "source": "# Group by the YM of each date and apply the func head to each group to bring the last day of the month.\napple.groupby(apple.index.strftime('%Y-%m')).head(1).head(10)",
   "outputs": [
    {
     "output_type": "execute_result",
     "execution_count": 12,
     "data": {
      "application/vnd.deepnote.dataframe.v2+json": {
       "row_count": 10,
       "column_count": 7,
       "columns": [
        {
         "name": "Open",
         "dtype": "float64",
         "stats": {
          "unique_count": 10,
          "nan_count": 0,
          "min": "92.1",
          "max": "637.98",
          "histogram": [
           {
            "bin_start": 92.1,
            "bin_end": 146.688,
            "count": 2
           },
           {
            "bin_start": 146.688,
            "bin_end": 201.276,
            "count": 0
           },
           {
            "bin_start": 201.276,
            "bin_end": 255.864,
            "count": 0
           },
           {
            "bin_start": 255.864,
            "bin_end": 310.452,
            "count": 0
           },
           {
            "bin_start": 310.452,
            "bin_end": 365.03999999999996,
            "count": 0
           },
           {
            "bin_start": 365.03999999999996,
            "bin_end": 419.62800000000004,
            "count": 0
           },
           {
            "bin_start": 419.62800000000004,
            "bin_end": 474.216,
            "count": 0
           },
           {
            "bin_start": 474.216,
            "bin_end": 528.804,
            "count": 2
           },
           {
            "bin_start": 528.804,
            "bin_end": 583.392,
            "count": 4
           },
           {
            "bin_start": 583.392,
            "bin_end": 637.98,
            "count": 2
           }
          ]
         }
        },
        {
         "name": "High",
         "dtype": "float64",
         "stats": {
          "unique_count": 10,
          "nan_count": 0,
          "min": "93.73",
          "max": "644.17",
          "histogram": [
           {
            "bin_start": 93.73,
            "bin_end": 148.774,
            "count": 2
           },
           {
            "bin_start": 148.774,
            "bin_end": 203.81799999999998,
            "count": 0
           },
           {
            "bin_start": 203.81799999999998,
            "bin_end": 258.862,
            "count": 0
           },
           {
            "bin_start": 258.862,
            "bin_end": 313.906,
            "count": 0
           },
           {
            "bin_start": 313.906,
            "bin_end": 368.95,
            "count": 0
           },
           {
            "bin_start": 368.95,
            "bin_end": 423.994,
            "count": 0
           },
           {
            "bin_start": 423.994,
            "bin_end": 479.038,
            "count": 0
           },
           {
            "bin_start": 479.038,
            "bin_end": 534.082,
            "count": 3
           },
           {
            "bin_start": 534.082,
            "bin_end": 589.126,
            "count": 3
           },
           {
            "bin_start": 589.126,
            "bin_end": 644.17,
            "count": 2
           }
          ]
         }
        },
        {
         "name": "Low",
         "dtype": "float64",
         "stats": {
          "unique_count": 10,
          "nan_count": 0,
          "min": "92.09",
          "max": "628.9",
          "histogram": [
           {
            "bin_start": 92.09,
            "bin_end": 145.77100000000002,
            "count": 2
           },
           {
            "bin_start": 145.77100000000002,
            "bin_end": 199.452,
            "count": 0
           },
           {
            "bin_start": 199.452,
            "bin_end": 253.133,
            "count": 0
           },
           {
            "bin_start": 253.133,
            "bin_end": 306.81399999999996,
            "count": 0
           },
           {
            "bin_start": 306.81399999999996,
            "bin_end": 360.495,
            "count": 0
           },
           {
            "bin_start": 360.495,
            "bin_end": 414.17600000000004,
            "count": 0
           },
           {
            "bin_start": 414.17600000000004,
            "bin_end": 467.85699999999997,
            "count": 0
           },
           {
            "bin_start": 467.85699999999997,
            "bin_end": 521.538,
            "count": 2
           },
           {
            "bin_start": 521.538,
            "bin_end": 575.2189999999999,
            "count": 4
           },
           {
            "bin_start": 575.2189999999999,
            "bin_end": 628.9,
            "count": 2
           }
          ]
         }
        },
        {
         "name": "Close",
         "dtype": "float64",
         "stats": {
          "unique_count": 10,
          "nan_count": 0,
          "min": "92.93",
          "max": "633.0",
          "histogram": [
           {
            "bin_start": 92.93,
            "bin_end": 146.937,
            "count": 2
           },
           {
            "bin_start": 146.937,
            "bin_end": 200.944,
            "count": 0
           },
           {
            "bin_start": 200.944,
            "bin_end": 254.95099999999996,
            "count": 0
           },
           {
            "bin_start": 254.95099999999996,
            "bin_end": 308.95799999999997,
            "count": 0
           },
           {
            "bin_start": 308.95799999999997,
            "bin_end": 362.965,
            "count": 0
           },
           {
            "bin_start": 362.965,
            "bin_end": 416.9719999999999,
            "count": 0
           },
           {
            "bin_start": 416.9719999999999,
            "bin_end": 470.9789999999999,
            "count": 0
           },
           {
            "bin_start": 470.9789999999999,
            "bin_end": 524.9859999999999,
            "count": 2
           },
           {
            "bin_start": 524.9859999999999,
            "bin_end": 578.9929999999999,
            "count": 4
           },
           {
            "bin_start": 578.9929999999999,
            "bin_end": 633,
            "count": 2
           }
          ]
         }
        },
        {
         "name": "Volume",
         "dtype": "int64",
         "stats": {
          "unique_count": 10,
          "nan_count": 0,
          "min": "42167300",
          "max": "141005200",
          "histogram": [
           {
            "bin_start": 42167300,
            "bin_end": 52051090,
            "count": 2
           },
           {
            "bin_start": 52051090,
            "bin_end": 61934880,
            "count": 1
           },
           {
            "bin_start": 61934880,
            "bin_end": 71818670,
            "count": 2
           },
           {
            "bin_start": 71818670,
            "bin_end": 81702460,
            "count": 1
           },
           {
            "bin_start": 81702460,
            "bin_end": 91586250,
            "count": 0
           },
           {
            "bin_start": 91586250,
            "bin_end": 101470040,
            "count": 1
           },
           {
            "bin_start": 101470040,
            "bin_end": 111353830,
            "count": 0
           },
           {
            "bin_start": 111353830,
            "bin_end": 121237620,
            "count": 2
           },
           {
            "bin_start": 121237620,
            "bin_end": 131121410,
            "count": 0
           },
           {
            "bin_start": 131121410,
            "bin_end": 141005200,
            "count": 1
           }
          ]
         }
        },
        {
         "name": "Adj Close",
         "dtype": "float64",
         "stats": {
          "unique_count": 10,
          "nan_count": 0,
          "min": "70.69",
          "max": "95.35",
          "histogram": [
           {
            "bin_start": 70.69,
            "bin_end": 73.15599999999999,
            "count": 1
           },
           {
            "bin_start": 73.15599999999999,
            "bin_end": 75.622,
            "count": 2
           },
           {
            "bin_start": 75.622,
            "bin_end": 78.088,
            "count": 1
           },
           {
            "bin_start": 78.088,
            "bin_end": 80.554,
            "count": 2
           },
           {
            "bin_start": 80.554,
            "bin_end": 83.02,
            "count": 0
           },
           {
            "bin_start": 83.02,
            "bin_end": 85.48599999999999,
            "count": 1
           },
           {
            "bin_start": 85.48599999999999,
            "bin_end": 87.952,
            "count": 0
           },
           {
            "bin_start": 87.952,
            "bin_end": 90.41799999999999,
            "count": 0
           },
           {
            "bin_start": 90.41799999999999,
            "bin_end": 92.884,
            "count": 1
           },
           {
            "bin_start": 92.884,
            "bin_end": 95.35,
            "count": 2
           }
          ]
         }
        },
        {
         "name": "day_of_week",
         "dtype": "int64",
         "stats": {
          "unique_count": 5,
          "nan_count": 0,
          "min": "0",
          "max": "4",
          "histogram": [
           {
            "bin_start": 0,
            "bin_end": 0.4,
            "count": 2
           },
           {
            "bin_start": 0.4,
            "bin_end": 0.8,
            "count": 0
           },
           {
            "bin_start": 0.8,
            "bin_end": 1.2000000000000002,
            "count": 2
           },
           {
            "bin_start": 1.2000000000000002,
            "bin_end": 1.6,
            "count": 0
           },
           {
            "bin_start": 1.6,
            "bin_end": 2,
            "count": 0
           },
           {
            "bin_start": 2,
            "bin_end": 2.4000000000000004,
            "count": 1
           },
           {
            "bin_start": 2.4000000000000004,
            "bin_end": 2.8000000000000003,
            "count": 0
           },
           {
            "bin_start": 2.8000000000000003,
            "bin_end": 3.2,
            "count": 1
           },
           {
            "bin_start": 3.2,
            "bin_end": 3.6,
            "count": 0
           },
           {
            "bin_start": 3.6,
            "bin_end": 4,
            "count": 4
           }
          ]
         }
        },
        {
         "name": "_deepnote_index_column",
         "dtype": "datetime64[ns]"
        }
       ],
       "rows_top": [
        {
         "Open": 96.27,
         "High": 96.8,
         "Low": 93.92,
         "Close": 95.35,
         "Volume": 65130000,
         "Adj Close": 95.35,
         "day_of_week": 1,
         "_deepnote_index_column": "2014-07-08T00:00:00.000000"
        },
        {
         "Open": 92.1,
         "High": 93.73,
         "Low": 92.09,
         "Close": 92.93,
         "Volume": 49482300,
         "Adj Close": 92.93,
         "day_of_week": 0,
         "_deepnote_index_column": "2014-06-30T00:00:00.000000"
        },
        {
         "Open": 637.98,
         "High": 644.17,
         "Low": 628.9,
         "Close": 633,
         "Volume": 141005200,
         "Adj Close": 90.43,
         "day_of_week": 4,
         "_deepnote_index_column": "2014-05-30T00:00:00.000000"
        },
        {
         "Open": 592.64,
         "High": 599.43,
         "Low": 589.8,
         "Close": 590.09,
         "Volume": 114160200,
         "Adj Close": 83.83,
         "day_of_week": 2,
         "_deepnote_index_column": "2014-04-30T00:00:00.000000"
        },
        {
         "Open": 539.23,
         "High": 540.81,
         "Low": 535.93,
         "Close": 536.74,
         "Volume": 42167300,
         "Adj Close": 76.25,
         "day_of_week": 0,
         "_deepnote_index_column": "2014-03-31T00:00:00.000000"
        },
        {
         "Open": 529.08,
         "High": 532.75,
         "Low": 522.12,
         "Close": 526.24,
         "Volume": 92992200,
         "Adj Close": 74.76,
         "day_of_week": 4,
         "_deepnote_index_column": "2014-02-28T00:00:00.000000"
        },
        {
         "Open": 495.18,
         "High": 501.53,
         "Low": 493.55,
         "Close": 500.6,
         "Volume": 116199300,
         "Adj Close": 70.69,
         "day_of_week": 4,
         "_deepnote_index_column": "2014-01-31T00:00:00.000000"
        },
        {
         "Open": 554.17,
         "High": 561.28,
         "Low": 554,
         "Close": 561.02,
         "Volume": 55771100,
         "Adj Close": 79.23,
         "day_of_week": 1,
         "_deepnote_index_column": "2013-12-31T00:00:00.000000"
        },
        {
         "Open": 549.48,
         "High": 558.33,
         "Low": 547.81,
         "Close": 556.07,
         "Volume": 79531900,
         "Adj Close": 78.53,
         "day_of_week": 4,
         "_deepnote_index_column": "2013-11-29T00:00:00.000000"
        },
        {
         "Open": 525,
         "High": 527.49,
         "Low": 521.27,
         "Close": 522.7,
         "Volume": 68924100,
         "Adj Close": 73.39,
         "day_of_week": 3,
         "_deepnote_index_column": "2013-10-31T00:00:00.000000"
        }
       ],
       "rows_bottom": null
      },
      "text/plain": "             Open   High    Low  Close     Volume  Adj Close  day_of_week\nDate                                                                     \n2014-07-08  96.27  96.80  93.92  95.35   65130000      95.35            1\n2014-06-30  92.10  93.73  92.09  92.93   49482300      92.93            0\n2014-05-30 637.98 644.17 628.90 633.00  141005200      90.43            4\n2014-04-30 592.64 599.43 589.80 590.09  114160200      83.83            2\n2014-03-31 539.23 540.81 535.93 536.74   42167300      76.25            0\n2014-02-28 529.08 532.75 522.12 526.24   92992200      74.76            4\n2014-01-31 495.18 501.53 493.55 500.60  116199300      70.69            4\n2013-12-31 554.17 561.28 554.00 561.02   55771100      79.23            1\n2013-11-29 549.48 558.33 547.81 556.07   79531900      78.53            4\n2013-10-31 525.00 527.49 521.27 522.70   68924100      73.39            3",
      "text/html": "<div>\n<style scoped>\n    .dataframe tbody tr th:only-of-type {\n        vertical-align: middle;\n    }\n\n    .dataframe tbody tr th {\n        vertical-align: top;\n    }\n\n    .dataframe thead th {\n        text-align: right;\n    }\n</style>\n<table border=\"1\" class=\"dataframe\">\n  <thead>\n    <tr style=\"text-align: right;\">\n      <th></th>\n      <th>Open</th>\n      <th>High</th>\n      <th>Low</th>\n      <th>Close</th>\n      <th>Volume</th>\n      <th>Adj Close</th>\n      <th>day_of_week</th>\n    </tr>\n    <tr>\n      <th>Date</th>\n      <th></th>\n      <th></th>\n      <th></th>\n      <th></th>\n      <th></th>\n      <th></th>\n      <th></th>\n    </tr>\n  </thead>\n  <tbody>\n    <tr>\n      <th>2014-07-08</th>\n      <td>96.27</td>\n      <td>96.80</td>\n      <td>93.92</td>\n      <td>95.35</td>\n      <td>65130000</td>\n      <td>95.35</td>\n      <td>1</td>\n    </tr>\n    <tr>\n      <th>2014-06-30</th>\n      <td>92.10</td>\n      <td>93.73</td>\n      <td>92.09</td>\n      <td>92.93</td>\n      <td>49482300</td>\n      <td>92.93</td>\n      <td>0</td>\n    </tr>\n    <tr>\n      <th>2014-05-30</th>\n      <td>637.98</td>\n      <td>644.17</td>\n      <td>628.90</td>\n      <td>633.00</td>\n      <td>141005200</td>\n      <td>90.43</td>\n      <td>4</td>\n    </tr>\n    <tr>\n      <th>2014-04-30</th>\n      <td>592.64</td>\n      <td>599.43</td>\n      <td>589.80</td>\n      <td>590.09</td>\n      <td>114160200</td>\n      <td>83.83</td>\n      <td>2</td>\n    </tr>\n    <tr>\n      <th>2014-03-31</th>\n      <td>539.23</td>\n      <td>540.81</td>\n      <td>535.93</td>\n      <td>536.74</td>\n      <td>42167300</td>\n      <td>76.25</td>\n      <td>0</td>\n    </tr>\n    <tr>\n      <th>2014-02-28</th>\n      <td>529.08</td>\n      <td>532.75</td>\n      <td>522.12</td>\n      <td>526.24</td>\n      <td>92992200</td>\n      <td>74.76</td>\n      <td>4</td>\n    </tr>\n    <tr>\n      <th>2014-01-31</th>\n      <td>495.18</td>\n      <td>501.53</td>\n      <td>493.55</td>\n      <td>500.60</td>\n      <td>116199300</td>\n      <td>70.69</td>\n      <td>4</td>\n    </tr>\n    <tr>\n      <th>2013-12-31</th>\n      <td>554.17</td>\n      <td>561.28</td>\n      <td>554.00</td>\n      <td>561.02</td>\n      <td>55771100</td>\n      <td>79.23</td>\n      <td>1</td>\n    </tr>\n    <tr>\n      <th>2013-11-29</th>\n      <td>549.48</td>\n      <td>558.33</td>\n      <td>547.81</td>\n      <td>556.07</td>\n      <td>79531900</td>\n      <td>78.53</td>\n      <td>4</td>\n    </tr>\n    <tr>\n      <th>2013-10-31</th>\n      <td>525.00</td>\n      <td>527.49</td>\n      <td>521.27</td>\n      <td>522.70</td>\n      <td>68924100</td>\n      <td>73.39</td>\n      <td>3</td>\n    </tr>\n  </tbody>\n</table>\n</div>"
     },
     "metadata": {}
    }
   ],
   "execution_count": null
  },
  {
   "cell_type": "code",
   "metadata": {
    "colab": {
     "base_uri": "https://localhost:8080/",
     "height": 378
    },
    "id": "WjXmpRAYwRPM",
    "executionInfo": {
     "status": "ok",
     "timestamp": 1624332466887,
     "user_tz": 240,
     "elapsed": 207,
     "user": {
      "displayName": "Andrés Sánchez",
      "photoUrl": "https://lh3.googleusercontent.com/a-/AOh14Gg69bZMv30ckb-T1MJy0nSxWIHUaP0p2uP6MYBuvQ=s64",
      "userId": "07985253921366566280"
     }
    },
    "outputId": "d7148375-a636-499c-85d4-c2ec30326846",
    "cell_id": "00022-6745f66a-022e-47b6-93be-4cb79649c9c2",
    "deepnote_to_be_reexecuted": false,
    "source_hash": "5d29d1f4",
    "execution_start": 1630098475752,
    "execution_millis": 51,
    "deepnote_cell_type": "code"
   },
   "source": "# This is a simplified way:\n\napple_month = apple.resample('BM').mean()\n\napple_month.tail(10).sort_index(ascending = False)",
   "outputs": [
    {
     "output_type": "execute_result",
     "execution_count": 13,
     "data": {
      "application/vnd.deepnote.dataframe.v2+json": {
       "row_count": 10,
       "column_count": 7,
       "columns": [
        {
         "name": "Open",
         "dtype": "float64",
         "stats": {
          "unique_count": 10,
          "nan_count": 0,
          "min": "94.294",
          "max": "601.3019047619048",
          "histogram": [
           {
            "bin_start": 94.294,
            "bin_end": 144.99479047619047,
            "count": 1
           },
           {
            "bin_start": 144.99479047619047,
            "bin_end": 195.69558095238096,
            "count": 0
           },
           {
            "bin_start": 195.69558095238096,
            "bin_end": 246.3963714285714,
            "count": 1
           },
           {
            "bin_start": 246.3963714285714,
            "bin_end": 297.0971619047619,
            "count": 0
           },
           {
            "bin_start": 297.0971619047619,
            "bin_end": 347.7979523809524,
            "count": 0
           },
           {
            "bin_start": 347.7979523809524,
            "bin_end": 398.4987428571428,
            "count": 0
           },
           {
            "bin_start": 398.4987428571428,
            "bin_end": 449.1995333333333,
            "count": 0
           },
           {
            "bin_start": 449.1995333333333,
            "bin_end": 499.9003238095238,
            "count": 0
           },
           {
            "bin_start": 499.9003238095238,
            "bin_end": 550.6011142857143,
            "count": 6
           },
           {
            "bin_start": 550.6011142857143,
            "bin_end": 601.3019047619048,
            "count": 2
           }
          ]
         }
        },
        {
         "name": "High",
         "dtype": "float64",
         "stats": {
          "unique_count": 10,
          "nan_count": 0,
          "min": "95.004",
          "max": "606.3728571428572",
          "histogram": [
           {
            "bin_start": 95.004,
            "bin_end": 146.14088571428573,
            "count": 1
           },
           {
            "bin_start": 146.14088571428573,
            "bin_end": 197.27777142857144,
            "count": 0
           },
           {
            "bin_start": 197.27777142857144,
            "bin_end": 248.4146571428572,
            "count": 1
           },
           {
            "bin_start": 248.4146571428572,
            "bin_end": 299.5515428571429,
            "count": 0
           },
           {
            "bin_start": 299.5515428571429,
            "bin_end": 350.68842857142863,
            "count": 0
           },
           {
            "bin_start": 350.68842857142863,
            "bin_end": 401.8253142857144,
            "count": 0
           },
           {
            "bin_start": 401.8253142857144,
            "bin_end": 452.9622000000001,
            "count": 0
           },
           {
            "bin_start": 452.9622000000001,
            "bin_end": 504.0990857142858,
            "count": 0
           },
           {
            "bin_start": 504.0990857142858,
            "bin_end": 555.2359714285715,
            "count": 6
           },
           {
            "bin_start": 555.2359714285715,
            "bin_end": 606.3728571428572,
            "count": 2
           }
          ]
         }
        },
        {
         "name": "Low",
         "dtype": "float64",
         "stats": {
          "unique_count": 10,
          "nan_count": 0,
          "min": "93.488",
          "max": "598.332857142857",
          "histogram": [
           {
            "bin_start": 93.488,
            "bin_end": 143.9724857142857,
            "count": 1
           },
           {
            "bin_start": 143.9724857142857,
            "bin_end": 194.45697142857142,
            "count": 0
           },
           {
            "bin_start": 194.45697142857142,
            "bin_end": 244.9414571428571,
            "count": 1
           },
           {
            "bin_start": 244.9414571428571,
            "bin_end": 295.4259428571428,
            "count": 0
           },
           {
            "bin_start": 295.4259428571428,
            "bin_end": 345.9104285714285,
            "count": 0
           },
           {
            "bin_start": 345.9104285714285,
            "bin_end": 396.3949142857142,
            "count": 0
           },
           {
            "bin_start": 396.3949142857142,
            "bin_end": 446.8793999999999,
            "count": 0
           },
           {
            "bin_start": 446.8793999999999,
            "bin_end": 497.36388571428563,
            "count": 0
           },
           {
            "bin_start": 497.36388571428563,
            "bin_end": 547.8483714285713,
            "count": 6
           },
           {
            "bin_start": 547.8483714285713,
            "bin_end": 598.332857142857,
            "count": 2
           }
          ]
         }
        },
        {
         "name": "Close",
         "dtype": "float64",
         "stats": {
          "unique_count": 10,
          "nan_count": 0,
          "min": "94.47",
          "max": "603.1957142857142",
          "histogram": [
           {
            "bin_start": 94.47,
            "bin_end": 145.34257142857143,
            "count": 1
           },
           {
            "bin_start": 145.34257142857143,
            "bin_end": 196.21514285714284,
            "count": 0
           },
           {
            "bin_start": 196.21514285714284,
            "bin_end": 247.08771428571427,
            "count": 1
           },
           {
            "bin_start": 247.08771428571427,
            "bin_end": 297.96028571428565,
            "count": 0
           },
           {
            "bin_start": 297.96028571428565,
            "bin_end": 348.83285714285705,
            "count": 0
           },
           {
            "bin_start": 348.83285714285705,
            "bin_end": 399.70542857142857,
            "count": 0
           },
           {
            "bin_start": 399.70542857142857,
            "bin_end": 450.578,
            "count": 0
           },
           {
            "bin_start": 450.578,
            "bin_end": 501.4505714285714,
            "count": 0
           },
           {
            "bin_start": 501.4505714285714,
            "bin_end": 552.3231428571428,
            "count": 6
           },
           {
            "bin_start": 552.3231428571428,
            "bin_end": 603.1957142857142,
            "count": 2
           }
          ]
         }
        },
        {
         "name": "Volume",
         "dtype": "float64",
         "stats": {
          "unique_count": 10,
          "nan_count": 0,
          "min": "42183660.0",
          "max": "104356600.0",
          "histogram": [
           {
            "bin_start": 42183660,
            "bin_end": 48400954,
            "count": 1
           },
           {
            "bin_start": 48400954,
            "bin_end": 54618248,
            "count": 0
           },
           {
            "bin_start": 54618248,
            "bin_end": 60835542,
            "count": 2
           },
           {
            "bin_start": 60835542,
            "bin_end": 67052836,
            "count": 1
           },
           {
            "bin_start": 67052836,
            "bin_end": 73270130,
            "count": 1
           },
           {
            "bin_start": 73270130,
            "bin_end": 79487424,
            "count": 2
           },
           {
            "bin_start": 79487424,
            "bin_end": 85704718,
            "count": 2
           },
           {
            "bin_start": 85704718,
            "bin_end": 91922012,
            "count": 0
           },
           {
            "bin_start": 91922012,
            "bin_end": 98139306,
            "count": 0
           },
           {
            "bin_start": 98139306,
            "bin_end": 104356600,
            "count": 1
           }
          ]
         }
        },
        {
         "name": "Adj Close",
         "dtype": "float64",
         "stats": {
          "unique_count": 10,
          "nan_count": 0,
          "min": "70.86521739130436",
          "max": "94.47",
          "histogram": [
           {
            "bin_start": 70.86521739130436,
            "bin_end": 73.22569565217393,
            "count": 1
           },
           {
            "bin_start": 73.22569565217393,
            "bin_end": 75.58617391304348,
            "count": 2
           },
           {
            "bin_start": 75.58617391304348,
            "bin_end": 77.94665217391305,
            "count": 3
           },
           {
            "bin_start": 77.94665217391305,
            "bin_end": 80.30713043478261,
            "count": 1
           },
           {
            "bin_start": 80.30713043478261,
            "bin_end": 82.66760869565218,
            "count": 0
           },
           {
            "bin_start": 82.66760869565218,
            "bin_end": 85.02808695652175,
            "count": 0
           },
           {
            "bin_start": 85.02808695652175,
            "bin_end": 87.3885652173913,
            "count": 1
           },
           {
            "bin_start": 87.3885652173913,
            "bin_end": 89.74904347826087,
            "count": 0
           },
           {
            "bin_start": 89.74904347826087,
            "bin_end": 92.10952173913043,
            "count": 1
           },
           {
            "bin_start": 92.10952173913043,
            "bin_end": 94.47,
            "count": 1
           }
          ]
         }
        },
        {
         "name": "day_of_week",
         "dtype": "float64",
         "stats": {
          "unique_count": 7,
          "nan_count": 0,
          "min": "1.4",
          "max": "2.238095238095238",
          "histogram": [
           {
            "bin_start": 1.4,
            "bin_end": 1.4838095238095237,
            "count": 1
           },
           {
            "bin_start": 1.4838095238095237,
            "bin_end": 1.5676190476190475,
            "count": 0
           },
           {
            "bin_start": 1.5676190476190475,
            "bin_end": 1.6514285714285712,
            "count": 0
           },
           {
            "bin_start": 1.6514285714285712,
            "bin_end": 1.7352380952380952,
            "count": 0
           },
           {
            "bin_start": 1.7352380952380952,
            "bin_end": 1.819047619047619,
            "count": 0
           },
           {
            "bin_start": 1.819047619047619,
            "bin_end": 1.9028571428571428,
            "count": 2
           },
           {
            "bin_start": 1.9028571428571428,
            "bin_end": 1.9866666666666668,
            "count": 2
           },
           {
            "bin_start": 1.9866666666666668,
            "bin_end": 2.0704761904761906,
            "count": 2
           },
           {
            "bin_start": 2.0704761904761906,
            "bin_end": 2.1542857142857144,
            "count": 1
           },
           {
            "bin_start": 2.1542857142857144,
            "bin_end": 2.238095238095238,
            "count": 2
           }
          ]
         }
        },
        {
         "name": "_deepnote_index_column",
         "dtype": "datetime64[ns]"
        }
       ],
       "rows_top": [
        {
         "Open": 94.294,
         "High": 95.004,
         "Low": 93.488,
         "Close": 94.47,
         "Volume": 42183660,
         "Adj Close": 94.47,
         "day_of_week": 1.4,
         "_deepnote_index_column": "2014-07-31T00:00:00.000000"
        },
        {
         "Open": 222.36,
         "High": 224.0842857142857,
         "Low": 220.73571428571432,
         "Close": 222.65809523809517,
         "Volume": 57455061.9047619,
         "Adj Close": 91.88571428571429,
         "day_of_week": 1.9047619047619047,
         "_deepnote_index_column": "2014-06-30T00:00:00.000000"
        },
        {
         "Open": 601.3019047619048,
         "High": 606.3728571428572,
         "Low": 598.332857142857,
         "Close": 603.1957142857142,
         "Volume": 68281766.66666667,
         "Adj Close": 86.05857142857145,
         "day_of_week": 2.238095238095238,
         "_deepnote_index_column": "2014-05-30T00:00:00.000000"
        },
        {
         "Open": 540.0819047619046,
         "High": 544.3490476190476,
         "Low": 536.2623809523809,
         "Close": 541.0742857142858,
         "Volume": 76607866.66666667,
         "Adj Close": 76.86714285714287,
         "day_of_week": 1.8571428571428572,
         "_deepnote_index_column": "2014-04-30T00:00:00.000000"
        },
        {
         "Open": 533.5933333333334,
         "High": 536.4538095238096,
         "Low": 530.0709523809525,
         "Close": 533.2142857142858,
         "Volume": 59544033.333333336,
         "Adj Close": 75.75,
         "day_of_week": 1.9047619047619047,
         "_deepnote_index_column": "2014-03-31T00:00:00.000000"
        },
        {
         "Open": 525.7210526315789,
         "High": 530.7736842105264,
         "Low": 522.1263157894738,
         "Close": 526.58,
         "Volume": 77373247.36842105,
         "Adj Close": 74.74105263157895,
         "day_of_week": 2.1052631578947367,
         "_deepnote_index_column": "2014-02-28T00:00:00.000000"
        },
        {
         "Open": 538.1009523809524,
         "High": 542.844761904762,
         "Low": 533.0657142857142,
         "Close": 537.4457142857143,
         "Volume": 104356600,
         "Adj Close": 75.89714285714285,
         "day_of_week": 2.238095238095238,
         "_deepnote_index_column": "2014-01-31T00:00:00.000000"
        },
        {
         "Open": 560.6480952380952,
         "High": 564.3552380952381,
         "Low": 556.4057142857143,
         "Close": 559.657619047619,
         "Volume": 84016633.33333333,
         "Adj Close": 79.03476190476191,
         "day_of_week": 1.8571428571428572,
         "_deepnote_index_column": "2013-12-31T00:00:00.000000"
        },
        {
         "Open": 523.2180000000001,
         "High": 527.83,
         "Low": 520.223,
         "Close": 524.6164999999999,
         "Volume": 65314445,
         "Adj Close": 74.02099999999999,
         "day_of_week": 2.05,
         "_deepnote_index_column": "2013-11-29T00:00:00.000000"
        },
        {
         "Open": 504.148695652174,
         "High": 508.726956521739,
         "Low": 499.5426086956522,
         "Close": 504.7447826086957,
         "Volume": 85192739.13043478,
         "Adj Close": 70.86521739130436,
         "day_of_week": 2,
         "_deepnote_index_column": "2013-10-31T00:00:00.000000"
        }
       ],
       "rows_bottom": null
      },
      "text/plain": "             Open   High    Low  Close         Volume  Adj Close  day_of_week\nDate                                                                         \n2014-07-31  94.29  95.00  93.49  94.47  42,183,660.00      94.47         1.40\n2014-06-30 222.36 224.08 220.74 222.66  57,455,061.90      91.89         1.90\n2014-05-30 601.30 606.37 598.33 603.20  68,281,766.67      86.06         2.24\n2014-04-30 540.08 544.35 536.26 541.07  76,607,866.67      76.87         1.86\n2014-03-31 533.59 536.45 530.07 533.21  59,544,033.33      75.75         1.90\n2014-02-28 525.72 530.77 522.13 526.58  77,373,247.37      74.74         2.11\n2014-01-31 538.10 542.84 533.07 537.45 104,356,600.00      75.90         2.24\n2013-12-31 560.65 564.36 556.41 559.66  84,016,633.33      79.03         1.86\n2013-11-29 523.22 527.83 520.22 524.62  65,314,445.00      74.02         2.05\n2013-10-31 504.15 508.73 499.54 504.74  85,192,739.13      70.87         2.00",
      "text/html": "<div>\n<style scoped>\n    .dataframe tbody tr th:only-of-type {\n        vertical-align: middle;\n    }\n\n    .dataframe tbody tr th {\n        vertical-align: top;\n    }\n\n    .dataframe thead th {\n        text-align: right;\n    }\n</style>\n<table border=\"1\" class=\"dataframe\">\n  <thead>\n    <tr style=\"text-align: right;\">\n      <th></th>\n      <th>Open</th>\n      <th>High</th>\n      <th>Low</th>\n      <th>Close</th>\n      <th>Volume</th>\n      <th>Adj Close</th>\n      <th>day_of_week</th>\n    </tr>\n    <tr>\n      <th>Date</th>\n      <th></th>\n      <th></th>\n      <th></th>\n      <th></th>\n      <th></th>\n      <th></th>\n      <th></th>\n    </tr>\n  </thead>\n  <tbody>\n    <tr>\n      <th>2014-07-31</th>\n      <td>94.29</td>\n      <td>95.00</td>\n      <td>93.49</td>\n      <td>94.47</td>\n      <td>42,183,660.00</td>\n      <td>94.47</td>\n      <td>1.40</td>\n    </tr>\n    <tr>\n      <th>2014-06-30</th>\n      <td>222.36</td>\n      <td>224.08</td>\n      <td>220.74</td>\n      <td>222.66</td>\n      <td>57,455,061.90</td>\n      <td>91.89</td>\n      <td>1.90</td>\n    </tr>\n    <tr>\n      <th>2014-05-30</th>\n      <td>601.30</td>\n      <td>606.37</td>\n      <td>598.33</td>\n      <td>603.20</td>\n      <td>68,281,766.67</td>\n      <td>86.06</td>\n      <td>2.24</td>\n    </tr>\n    <tr>\n      <th>2014-04-30</th>\n      <td>540.08</td>\n      <td>544.35</td>\n      <td>536.26</td>\n      <td>541.07</td>\n      <td>76,607,866.67</td>\n      <td>76.87</td>\n      <td>1.86</td>\n    </tr>\n    <tr>\n      <th>2014-03-31</th>\n      <td>533.59</td>\n      <td>536.45</td>\n      <td>530.07</td>\n      <td>533.21</td>\n      <td>59,544,033.33</td>\n      <td>75.75</td>\n      <td>1.90</td>\n    </tr>\n    <tr>\n      <th>2014-02-28</th>\n      <td>525.72</td>\n      <td>530.77</td>\n      <td>522.13</td>\n      <td>526.58</td>\n      <td>77,373,247.37</td>\n      <td>74.74</td>\n      <td>2.11</td>\n    </tr>\n    <tr>\n      <th>2014-01-31</th>\n      <td>538.10</td>\n      <td>542.84</td>\n      <td>533.07</td>\n      <td>537.45</td>\n      <td>104,356,600.00</td>\n      <td>75.90</td>\n      <td>2.24</td>\n    </tr>\n    <tr>\n      <th>2013-12-31</th>\n      <td>560.65</td>\n      <td>564.36</td>\n      <td>556.41</td>\n      <td>559.66</td>\n      <td>84,016,633.33</td>\n      <td>79.03</td>\n      <td>1.86</td>\n    </tr>\n    <tr>\n      <th>2013-11-29</th>\n      <td>523.22</td>\n      <td>527.83</td>\n      <td>520.22</td>\n      <td>524.62</td>\n      <td>65,314,445.00</td>\n      <td>74.02</td>\n      <td>2.05</td>\n    </tr>\n    <tr>\n      <th>2013-10-31</th>\n      <td>504.15</td>\n      <td>508.73</td>\n      <td>499.54</td>\n      <td>504.74</td>\n      <td>85,192,739.13</td>\n      <td>70.87</td>\n      <td>2.00</td>\n    </tr>\n  </tbody>\n</table>\n</div>"
     },
     "metadata": {}
    }
   ],
   "execution_count": null
  },
  {
   "cell_type": "markdown",
   "source": "### Step 10.  What is the difference in days between the first day and the oldest",
   "metadata": {
    "id": "nx90x1G5uZs0",
    "cell_id": "00023-f321689d-2c91-4b52-bcf9-00ab5952d313",
    "deepnote_cell_type": "markdown"
   }
  },
  {
   "cell_type": "code",
   "metadata": {
    "colab": {
     "base_uri": "https://localhost:8080/"
    },
    "id": "N662RceKuZs0",
    "executionInfo": {
     "status": "ok",
     "timestamp": 1624332683089,
     "user_tz": 240,
     "elapsed": 149,
     "user": {
      "displayName": "Andrés Sánchez",
      "photoUrl": "https://lh3.googleusercontent.com/a-/AOh14Gg69bZMv30ckb-T1MJy0nSxWIHUaP0p2uP6MYBuvQ=s64",
      "userId": "07985253921366566280"
     }
    },
    "outputId": "706a7631-067e-4cb3-f1e8-ec354915c162",
    "cell_id": "00024-c28fd819-2703-4c5d-a76f-9db338e329b3",
    "deepnote_to_be_reexecuted": false,
    "source_hash": "3c61045d",
    "execution_start": 1630098475804,
    "execution_millis": 10,
    "deepnote_cell_type": "code"
   },
   "source": "(apple.index.max() - apple.index.min()).days",
   "outputs": [
    {
     "output_type": "execute_result",
     "execution_count": 14,
     "data": {
      "text/plain": "12261"
     },
     "metadata": {}
    }
   ],
   "execution_count": null
  },
  {
   "cell_type": "markdown",
   "source": "### Step 11.  How many months in the data we have?",
   "metadata": {
    "id": "CJhg7rAquZs0",
    "cell_id": "00025-4cbb2f11-f202-427e-a711-911dc19da066",
    "deepnote_cell_type": "markdown"
   }
  },
  {
   "cell_type": "code",
   "metadata": {
    "colab": {
     "base_uri": "https://localhost:8080/"
    },
    "id": "ofinMYjLuZs0",
    "executionInfo": {
     "status": "ok",
     "timestamp": 1624332824567,
     "user_tz": 240,
     "elapsed": 131,
     "user": {
      "displayName": "Andrés Sánchez",
      "photoUrl": "https://lh3.googleusercontent.com/a-/AOh14Gg69bZMv30ckb-T1MJy0nSxWIHUaP0p2uP6MYBuvQ=s64",
      "userId": "07985253921366566280"
     }
    },
    "outputId": "d6d66014-4432-451c-c5ea-74361c04c405",
    "cell_id": "00026-53610404-fa5b-478d-ba22-2ff10dd1381f",
    "deepnote_to_be_reexecuted": false,
    "source_hash": "583b6067",
    "execution_start": 1630098475855,
    "execution_millis": 5,
    "deepnote_cell_type": "code"
   },
   "source": "apple.resample('M').mean()['Open'].count()",
   "outputs": [
    {
     "output_type": "execute_result",
     "execution_count": 15,
     "data": {
      "text/plain": "404"
     },
     "metadata": {}
    }
   ],
   "execution_count": null
  },
  {
   "cell_type": "markdown",
   "source": "### Step 12. Plot the 'Adj Close' value. Set the size of the figure to 13.5 x 9 inches",
   "metadata": {
    "id": "1VLYsgkIuZs0",
    "cell_id": "00027-840e4ff5-97d1-46ad-8894-b45c7076f03d",
    "deepnote_cell_type": "markdown"
   }
  },
  {
   "cell_type": "code",
   "metadata": {
    "colab": {
     "base_uri": "https://localhost:8080/",
     "height": 567
    },
    "id": "HWPqeGBluZs1",
    "executionInfo": {
     "status": "ok",
     "timestamp": 1624333084845,
     "user_tz": 240,
     "elapsed": 707,
     "user": {
      "displayName": "Andrés Sánchez",
      "photoUrl": "https://lh3.googleusercontent.com/a-/AOh14Gg69bZMv30ckb-T1MJy0nSxWIHUaP0p2uP6MYBuvQ=s64",
      "userId": "07985253921366566280"
     }
    },
    "outputId": "416c4b5a-5d37-4a6e-b3e0-681de2b24e0f",
    "cell_id": "00028-8fbbc0ea-6ecb-4124-b6a9-16ab9e610daf",
    "deepnote_to_be_reexecuted": false,
    "source_hash": "28d3ccdb",
    "execution_start": 1630098475856,
    "execution_millis": 242,
    "deepnote_cell_type": "code"
   },
   "source": "fig, ax = plt.subplots(figsize = (13.5, 9))\nax.plot(apple['Adj Close'])\nplt.ylabel('Adj Close')\nplt.xlabel('Years')\nplt.title('Adj Close value per year')\nplt.grid()",
   "outputs": [
    {
     "data": {
      "text/plain": "<Figure size 972x648 with 1 Axes>",
      "image/png": "[encoded data removed]"
     },
     "metadata": {
      "needs_background": "light",
      "image/png": {
       "width": 816,
       "height": 550
      }
     },
     "output_type": "display_data"
    }
   ],
   "execution_count": null
  },
  {
   "cell_type": "markdown",
   "source": "<a style='text-decoration:none;line-height:16px;display:flex;color:#5B5B62;padding:10px;justify-content:end;' href='https://deepnote.com?utm_source=created-in-deepnote-cell&projectId=fe744348-fecc-4b7a-803c-44dba24ecb38' target=\"_blank\">\n<img alt='Created in deepnote.com' style='display:inline;max-height:16px;margin:0px;margin-right:7.5px;' src='data:image/svg+xml;base64,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' > </img>\nCreated in <span style='font-weight:600;margin-left:4px;'>Deepnote</span></a>",
   "metadata": {
    "tags": [],
    "created_in_deepnote_cell": true,
    "deepnote_cell_type": "markdown"
   }
  }
 ],
 "nbformat": 4,
 "nbformat_minor": 0,
 "metadata": {
  "anaconda-cloud": {},
  "kernelspec": {
   "display_name": "Python [default]",
   "language": "python",
   "name": "python2"
  },
  "language_info": {
   "codemirror_mode": {
    "name": "ipython",
    "version": 2
   },
   "file_extension": ".py",
   "mimetype": "text/x-python",
   "name": "python",
   "nbconvert_exporter": "python",
   "pygments_lexer": "ipython2",
   "version": "2.7.12"
  },
  "colab": {
   "name": "Exercises.ipynb",
   "provenance": [],
   "collapsed_sections": []
  },
  "deepnote_notebook_id": "47916c26-0981-4d00-a503-61d5a7fafbcb",
  "deepnote": {},
  "deepnote_execution_queue": []
 }
}
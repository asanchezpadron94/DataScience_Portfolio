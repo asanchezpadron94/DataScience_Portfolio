{
 "cells": [
  {
   "cell_type": "markdown",
   "source": "# Investor - Flow of Funds - US",
   "metadata": {
    "id": "GJAZJAo9G9kH",
    "cell_id": "00000-b3d8c353-b460-4170-b57b-7e2699ece7eb",
    "deepnote_cell_type": "markdown"
   }
  },
  {
   "cell_type": "markdown",
   "source": "### Introduction:\n\nSpecial thanks to: https://github.com/rgrp for sharing the dataset.\n\n### Step 1. Import the necessary libraries",
   "metadata": {
    "id": "vV6CJtx0G9kJ",
    "cell_id": "00001-3768e503-c636-46be-951b-0f7da59e0f72",
    "deepnote_cell_type": "markdown"
   }
  },
  {
   "cell_type": "code",
   "metadata": {
    "id": "tAKM361cG9kK",
    "executionInfo": {
     "status": "ok",
     "timestamp": 1624506451862,
     "user_tz": 240,
     "elapsed": 151,
     "user": {
      "displayName": "Andrés Sánchez",
      "photoUrl": "https://lh3.googleusercontent.com/a-/AOh14Gg69bZMv30ckb-T1MJy0nSxWIHUaP0p2uP6MYBuvQ=s64",
      "userId": "07985253921366566280"
     }
    },
    "cell_id": "00002-f67e9885-819f-47cb-9e8e-e8aea9570425",
    "deepnote_to_be_reexecuted": false,
    "source_hash": "9b82ee11",
    "execution_start": 1630098536944,
    "execution_millis": 4,
    "deepnote_cell_type": "code"
   },
   "source": "import pandas as pd",
   "execution_count": 1,
   "outputs": []
  },
  {
   "cell_type": "markdown",
   "source": "### Step 2. Import the dataset from this [address](https://raw.githubusercontent.com/datasets/investor-flow-of-funds-us/master/data/weekly.csv). ",
   "metadata": {
    "id": "KlXazFZDG9kK",
    "cell_id": "00003-5bc49eac-0e49-4f72-9a26-f864f92c5722",
    "deepnote_cell_type": "markdown"
   }
  },
  {
   "cell_type": "markdown",
   "source": "### Step 3. Assign it to a variable called ",
   "metadata": {
    "id": "Lwxw4h01G9kL",
    "cell_id": "00004-684c3cf8-4d12-453a-b928-78d14f2c115f",
    "deepnote_cell_type": "markdown"
   }
  },
  {
   "cell_type": "code",
   "metadata": {
    "id": "7NN1bSTIG9kL",
    "executionInfo": {
     "status": "ok",
     "timestamp": 1624506452176,
     "user_tz": 240,
     "elapsed": 162,
     "user": {
      "displayName": "Andrés Sánchez",
      "photoUrl": "https://lh3.googleusercontent.com/a-/AOh14Gg69bZMv30ckb-T1MJy0nSxWIHUaP0p2uP6MYBuvQ=s64",
      "userId": "07985253921366566280"
     }
    },
    "cell_id": "00005-4c0fb3fe-f2d3-448f-903c-0bfbf01c60d6",
    "deepnote_to_be_reexecuted": false,
    "source_hash": "fede71",
    "execution_start": 1630098536954,
    "execution_millis": 116,
    "deepnote_cell_type": "code"
   },
   "source": "df = pd.read_csv('https://raw.githubusercontent.com/datasets/investor-flow-of-funds-us/master/data/weekly.csv')",
   "execution_count": 2,
   "outputs": []
  },
  {
   "cell_type": "markdown",
   "source": "### Step 4.  What is the frequency of the dataset?",
   "metadata": {
    "id": "1jbxAd2WG9kL",
    "cell_id": "00006-7d3b723a-9983-4a12-82e0-0d0d316245ca",
    "deepnote_cell_type": "markdown"
   }
  },
  {
   "cell_type": "code",
   "metadata": {
    "id": "7R-GNKq8G9kL",
    "executionInfo": {
     "status": "ok",
     "timestamp": 1624506452181,
     "user_tz": 240,
     "elapsed": 13,
     "user": {
      "displayName": "Andrés Sánchez",
      "photoUrl": "https://lh3.googleusercontent.com/a-/AOh14Gg69bZMv30ckb-T1MJy0nSxWIHUaP0p2uP6MYBuvQ=s64",
      "userId": "07985253921366566280"
     }
    },
    "cell_id": "00007-68826853-ae2b-44cf-9143-18655956f2d1",
    "deepnote_to_be_reexecuted": false,
    "source_hash": "c28636b9",
    "execution_start": 1630098537076,
    "execution_millis": 1,
    "deepnote_cell_type": "code"
   },
   "source": "# It is by week.",
   "execution_count": 3,
   "outputs": []
  },
  {
   "cell_type": "markdown",
   "source": "### Step 5. Set the column Date as the index.",
   "metadata": {
    "id": "xF63grFyG9kM",
    "cell_id": "00008-b3f393f3-b120-42ec-ae9d-efca8824f1d9",
    "deepnote_cell_type": "markdown"
   }
  },
  {
   "cell_type": "code",
   "metadata": {
    "id": "nFbBGSsFG9kM",
    "executionInfo": {
     "status": "ok",
     "timestamp": 1624506452182,
     "user_tz": 240,
     "elapsed": 13,
     "user": {
      "displayName": "Andrés Sánchez",
      "photoUrl": "https://lh3.googleusercontent.com/a-/AOh14Gg69bZMv30ckb-T1MJy0nSxWIHUaP0p2uP6MYBuvQ=s64",
      "userId": "07985253921366566280"
     }
    },
    "cell_id": "00009-b2a33a02-7ec6-4ca9-a23f-7e4c4d57e9aa",
    "deepnote_to_be_reexecuted": false,
    "source_hash": "a8a99554",
    "execution_start": 1630098537079,
    "execution_millis": 4,
    "deepnote_cell_type": "code"
   },
   "source": "df = df.set_index('Date')",
   "execution_count": 4,
   "outputs": []
  },
  {
   "cell_type": "markdown",
   "source": "### Step 6. What is the type of the index?",
   "metadata": {
    "id": "rPkz0I5iG9kM",
    "cell_id": "00010-909f14e5-f3b9-43fe-bf04-e8fad8d8da99",
    "deepnote_cell_type": "markdown"
   }
  },
  {
   "cell_type": "code",
   "metadata": {
    "id": "Hlfdi5ZdG9kM",
    "executionInfo": {
     "status": "ok",
     "timestamp": 1624506452182,
     "user_tz": 240,
     "elapsed": 13,
     "user": {
      "displayName": "Andrés Sánchez",
      "photoUrl": "https://lh3.googleusercontent.com/a-/AOh14Gg69bZMv30ckb-T1MJy0nSxWIHUaP0p2uP6MYBuvQ=s64",
      "userId": "07985253921366566280"
     }
    },
    "cell_id": "00011-526e76c4-7759-4bf8-b9b1-09bd3b01df84",
    "deepnote_to_be_reexecuted": false,
    "source_hash": "9ee6d70f",
    "execution_start": 1630098537086,
    "execution_millis": 3,
    "deepnote_cell_type": "code"
   },
   "source": "# It is an object.",
   "execution_count": 5,
   "outputs": []
  },
  {
   "cell_type": "markdown",
   "source": "### Step 7. Set the index to a DatetimeIndex type",
   "metadata": {
    "id": "xx5eA246G9kN",
    "cell_id": "00012-5468081c-b6d4-480c-b80b-a6c30eced599",
    "deepnote_cell_type": "markdown"
   }
  },
  {
   "cell_type": "code",
   "metadata": {
    "id": "y1IkIMJ6G9kN",
    "executionInfo": {
     "status": "ok",
     "timestamp": 1624506452183,
     "user_tz": 240,
     "elapsed": 13,
     "user": {
      "displayName": "Andrés Sánchez",
      "photoUrl": "https://lh3.googleusercontent.com/a-/AOh14Gg69bZMv30ckb-T1MJy0nSxWIHUaP0p2uP6MYBuvQ=s64",
      "userId": "07985253921366566280"
     }
    },
    "cell_id": "00013-9c7eb285-8cce-42d5-a176-d7091d1e010f",
    "deepnote_to_be_reexecuted": false,
    "source_hash": "a094c922",
    "execution_start": 1630098537091,
    "execution_millis": 9,
    "deepnote_cell_type": "code"
   },
   "source": "df.index = pd.to_datetime(df.index)",
   "execution_count": 6,
   "outputs": []
  },
  {
   "cell_type": "markdown",
   "source": "### Step 8.  Change the frequency to monthly, sum the values and assign it to monthly.",
   "metadata": {
    "id": "KW7Fr4CNG9kN",
    "cell_id": "00014-3c2826ef-7b94-4770-9f2a-eaea571f6b53",
    "deepnote_cell_type": "markdown"
   }
  },
  {
   "cell_type": "code",
   "metadata": {
    "colab": {
     "base_uri": "https://localhost:8080/",
     "height": 948
    },
    "id": "n6_MYkttG9kN",
    "executionInfo": {
     "status": "ok",
     "timestamp": 1624506570456,
     "user_tz": 240,
     "elapsed": 157,
     "user": {
      "displayName": "Andrés Sánchez",
      "photoUrl": "https://lh3.googleusercontent.com/a-/AOh14Gg69bZMv30ckb-T1MJy0nSxWIHUaP0p2uP6MYBuvQ=s64",
      "userId": "07985253921366566280"
     }
    },
    "outputId": "6c0604b7-f4cc-480a-be1e-5d0f13cad62c",
    "cell_id": "00015-435203cb-8749-4dc6-be7d-f07dfa93d8b7",
    "deepnote_to_be_reexecuted": false,
    "source_hash": "9944e8ce",
    "execution_start": 1630098537105,
    "execution_millis": 80,
    "deepnote_cell_type": "code"
   },
   "source": "df = df.resample('1M').sum()\ndf",
   "execution_count": 7,
   "outputs": [
    {
     "output_type": "execute_result",
     "execution_count": 7,
     "data": {
      "application/vnd.deepnote.dataframe.v2+json": {
       "row_count": 29,
       "column_count": 8,
       "columns": [
        {
         "name": "Total Equity",
         "dtype": "int64",
         "stats": {
          "unique_count": 14,
          "nan_count": 0,
          "min": "-26156",
          "max": "10842",
          "histogram": [
           {
            "bin_start": -26156,
            "bin_end": -22456.2,
            "count": 1
           },
           {
            "bin_start": -22456.2,
            "bin_end": -18756.4,
            "count": 0
           },
           {
            "bin_start": -18756.4,
            "bin_end": -15056.599999999999,
            "count": 0
           },
           {
            "bin_start": -15056.599999999999,
            "bin_end": -11356.8,
            "count": 0
           },
           {
            "bin_start": -11356.8,
            "bin_end": -7657,
            "count": 0
           },
           {
            "bin_start": -7657,
            "bin_end": -3957.199999999997,
            "count": 1
           },
           {
            "bin_start": -3957.199999999997,
            "bin_end": -257.3999999999978,
            "count": 3
           },
           {
            "bin_start": -257.3999999999978,
            "bin_end": 3442.4000000000015,
            "count": 19
           },
           {
            "bin_start": 3442.4000000000015,
            "bin_end": 7142.200000000004,
            "count": 4
           },
           {
            "bin_start": 7142.200000000004,
            "bin_end": 10842,
            "count": 1
           }
          ]
         }
        },
        {
         "name": "Domestic Equity",
         "dtype": "int64",
         "stats": {
          "unique_count": 14,
          "nan_count": 0,
          "min": "-23126",
          "max": "3509",
          "histogram": [
           {
            "bin_start": -23126,
            "bin_end": -20462.5,
            "count": 1
           },
           {
            "bin_start": -20462.5,
            "bin_end": -17799,
            "count": 0
           },
           {
            "bin_start": -17799,
            "bin_end": -15135.5,
            "count": 0
           },
           {
            "bin_start": -15135.5,
            "bin_end": -12472,
            "count": 0
           },
           {
            "bin_start": -12472,
            "bin_end": -9808.5,
            "count": 1
           },
           {
            "bin_start": -9808.5,
            "bin_end": -7145,
            "count": 3
           },
           {
            "bin_start": -7145,
            "bin_end": -4481.5,
            "count": 4
           },
           {
            "bin_start": -4481.5,
            "bin_end": -1818,
            "count": 0
           },
           {
            "bin_start": -1818,
            "bin_end": 845.5,
            "count": 18
           },
           {
            "bin_start": 845.5,
            "bin_end": 3509,
            "count": 2
           }
          ]
         }
        },
        {
         "name": "World Equity",
         "dtype": "int64",
         "stats": {
          "unique_count": 14,
          "nan_count": 0,
          "min": "-3031",
          "max": "13867",
          "histogram": [
           {
            "bin_start": -3031,
            "bin_end": -1341.2,
            "count": 1
           },
           {
            "bin_start": -1341.2,
            "bin_end": 348.5999999999999,
            "count": 16
           },
           {
            "bin_start": 348.5999999999999,
            "bin_end": 2038.3999999999996,
            "count": 1
           },
           {
            "bin_start": 2038.3999999999996,
            "bin_end": 3728.2,
            "count": 0
           },
           {
            "bin_start": 3728.2,
            "bin_end": 5418,
            "count": 6
           },
           {
            "bin_start": 5418,
            "bin_end": 7107.799999999999,
            "count": 1
           },
           {
            "bin_start": 7107.799999999999,
            "bin_end": 8797.6,
            "count": 1
           },
           {
            "bin_start": 8797.6,
            "bin_end": 10487.4,
            "count": 2
           },
           {
            "bin_start": 10487.4,
            "bin_end": 12177.199999999999,
            "count": 0
           },
           {
            "bin_start": 12177.199999999999,
            "bin_end": 13867,
            "count": 1
           }
          ]
         }
        },
        {
         "name": "Hybrid",
         "dtype": "int64",
         "stats": {
          "unique_count": 14,
          "nan_count": 0,
          "min": "0",
          "max": "4931",
          "histogram": [
           {
            "bin_start": 0,
            "bin_end": 493.1,
            "count": 16
           },
           {
            "bin_start": 493.1,
            "bin_end": 986.2,
            "count": 3
           },
           {
            "bin_start": 986.2,
            "bin_end": 1479.3000000000002,
            "count": 0
           },
           {
            "bin_start": 1479.3000000000002,
            "bin_end": 1972.4,
            "count": 4
           },
           {
            "bin_start": 1972.4,
            "bin_end": 2465.5,
            "count": 0
           },
           {
            "bin_start": 2465.5,
            "bin_end": 2958.6000000000004,
            "count": 3
           },
           {
            "bin_start": 2958.6000000000004,
            "bin_end": 3451.7000000000003,
            "count": 1
           },
           {
            "bin_start": 3451.7000000000003,
            "bin_end": 3944.8,
            "count": 0
           },
           {
            "bin_start": 3944.8,
            "bin_end": 4437.900000000001,
            "count": 0
           },
           {
            "bin_start": 4437.900000000001,
            "bin_end": 4931,
            "count": 2
           }
          ]
         }
        },
        {
         "name": "Total Bond",
         "dtype": "int64",
         "stats": {
          "unique_count": 14,
          "nan_count": 0,
          "min": "0",
          "max": "14528",
          "histogram": [
           {
            "bin_start": 0,
            "bin_end": 1452.8,
            "count": 17
           },
           {
            "bin_start": 1452.8,
            "bin_end": 2905.6,
            "count": 1
           },
           {
            "bin_start": 2905.6,
            "bin_end": 4358.4,
            "count": 1
           },
           {
            "bin_start": 4358.4,
            "bin_end": 5811.2,
            "count": 0
           },
           {
            "bin_start": 5811.2,
            "bin_end": 7264,
            "count": 0
           },
           {
            "bin_start": 7264,
            "bin_end": 8716.8,
            "count": 3
           },
           {
            "bin_start": 8716.8,
            "bin_end": 10169.6,
            "count": 4
           },
           {
            "bin_start": 10169.6,
            "bin_end": 11622.4,
            "count": 0
           },
           {
            "bin_start": 11622.4,
            "bin_end": 13075.199999999999,
            "count": 1
           },
           {
            "bin_start": 13075.199999999999,
            "bin_end": 14528,
            "count": 2
           }
          ]
         }
        },
        {
         "name": "Taxable Bond",
         "dtype": "int64",
         "stats": {
          "unique_count": 14,
          "nan_count": 0,
          "min": "-1013",
          "max": "12613",
          "histogram": [
           {
            "bin_start": -1013,
            "bin_end": 349.5999999999999,
            "count": 17
           },
           {
            "bin_start": 349.5999999999999,
            "bin_end": 1712.1999999999998,
            "count": 1
           },
           {
            "bin_start": 1712.1999999999998,
            "bin_end": 3074.7999999999997,
            "count": 2
           },
           {
            "bin_start": 3074.7999999999997,
            "bin_end": 4437.4,
            "count": 0
           },
           {
            "bin_start": 4437.4,
            "bin_end": 5800,
            "count": 0
           },
           {
            "bin_start": 5800,
            "bin_end": 7162.599999999999,
            "count": 1
           },
           {
            "bin_start": 7162.599999999999,
            "bin_end": 8525.199999999999,
            "count": 4
           },
           {
            "bin_start": 8525.199999999999,
            "bin_end": 9887.8,
            "count": 1
           },
           {
            "bin_start": 9887.8,
            "bin_end": 11250.4,
            "count": 1
           },
           {
            "bin_start": 11250.4,
            "bin_end": 12613,
            "count": 2
           }
          ]
         }
        },
        {
         "name": "Municipal Bond",
         "dtype": "int64",
         "stats": {
          "unique_count": 14,
          "nan_count": 0,
          "min": "-2765",
          "max": "4606",
          "histogram": [
           {
            "bin_start": -2765,
            "bin_end": -2027.9,
            "count": 1
           },
           {
            "bin_start": -2027.9,
            "bin_end": -1290.8,
            "count": 0
           },
           {
            "bin_start": -1290.8,
            "bin_end": -553.6999999999998,
            "count": 0
           },
           {
            "bin_start": -553.6999999999998,
            "bin_end": 183.4000000000001,
            "count": 17
           },
           {
            "bin_start": 183.4000000000001,
            "bin_end": 920.5,
            "count": 1
           },
           {
            "bin_start": 920.5,
            "bin_end": 1657.6000000000004,
            "count": 3
           },
           {
            "bin_start": 1657.6000000000004,
            "bin_end": 2394.7,
            "count": 2
           },
           {
            "bin_start": 2394.7,
            "bin_end": 3131.8,
            "count": 3
           },
           {
            "bin_start": 3131.8,
            "bin_end": 3868.9000000000005,
            "count": 1
           },
           {
            "bin_start": 3868.9000000000005,
            "bin_end": 4606,
            "count": 1
           }
          ]
         }
        },
        {
         "name": "Total",
         "dtype": "int64",
         "stats": {
          "unique_count": 14,
          "nan_count": 0,
          "min": "-15782",
          "max": "24267",
          "histogram": [
           {
            "bin_start": -15782,
            "bin_end": -11777.1,
            "count": 1
           },
           {
            "bin_start": -11777.1,
            "bin_end": -7772.2,
            "count": 0
           },
           {
            "bin_start": -7772.2,
            "bin_end": -3767.2999999999993,
            "count": 0
           },
           {
            "bin_start": -3767.2999999999993,
            "bin_end": 237.60000000000036,
            "count": 16
           },
           {
            "bin_start": 237.60000000000036,
            "bin_end": 4242.5,
            "count": 3
           },
           {
            "bin_start": 4242.5,
            "bin_end": 8247.400000000001,
            "count": 1
           },
           {
            "bin_start": 8247.400000000001,
            "bin_end": 12252.3,
            "count": 0
           },
           {
            "bin_start": 12252.3,
            "bin_end": 16257.2,
            "count": 3
           },
           {
            "bin_start": 16257.2,
            "bin_end": 20262.1,
            "count": 4
           },
           {
            "bin_start": 20262.1,
            "bin_end": 24267,
            "count": 1
           }
          ]
         }
        },
        {
         "name": "_deepnote_index_column",
         "dtype": "datetime64[ns]"
        }
       ],
       "rows_top": [
        {
         "Total Equity": -26156,
         "Domestic Equity": -23126,
         "World Equity": -3031,
         "Hybrid": 526,
         "Total Bond": 9848,
         "Taxable Bond": 12613,
         "Municipal Bond": -2765,
         "Total": -15782,
         "_deepnote_index_column": "2012-12-31T00:00:00.000000"
        },
        {
         "Total Equity": 3661,
         "Domestic Equity": -1627,
         "World Equity": 5288,
         "Hybrid": 2730,
         "Total Bond": 12149,
         "Taxable Bond": 9414,
         "Municipal Bond": 2735,
         "Total": 18540,
         "_deepnote_index_column": "2013-01-31T00:00:00.000000"
        },
        {
         "Total Equity": 0,
         "Domestic Equity": 0,
         "World Equity": 0,
         "Hybrid": 0,
         "Total Bond": 0,
         "Taxable Bond": 0,
         "Municipal Bond": 0,
         "Total": 0,
         "_deepnote_index_column": "2013-02-28T00:00:00.000000"
        },
        {
         "Total Equity": 0,
         "Domestic Equity": 0,
         "World Equity": 0,
         "Hybrid": 0,
         "Total Bond": 0,
         "Taxable Bond": 0,
         "Municipal Bond": 0,
         "Total": 0,
         "_deepnote_index_column": "2013-03-31T00:00:00.000000"
        },
        {
         "Total Equity": 0,
         "Domestic Equity": 0,
         "World Equity": 0,
         "Hybrid": 0,
         "Total Bond": 0,
         "Taxable Bond": 0,
         "Municipal Bond": 0,
         "Total": 0,
         "_deepnote_index_column": "2013-04-30T00:00:00.000000"
        },
        {
         "Total Equity": 0,
         "Domestic Equity": 0,
         "World Equity": 0,
         "Hybrid": 0,
         "Total Bond": 0,
         "Taxable Bond": 0,
         "Municipal Bond": 0,
         "Total": 0,
         "_deepnote_index_column": "2013-05-31T00:00:00.000000"
        },
        {
         "Total Equity": 0,
         "Domestic Equity": 0,
         "World Equity": 0,
         "Hybrid": 0,
         "Total Bond": 0,
         "Taxable Bond": 0,
         "Municipal Bond": 0,
         "Total": 0,
         "_deepnote_index_column": "2013-06-30T00:00:00.000000"
        },
        {
         "Total Equity": 0,
         "Domestic Equity": 0,
         "World Equity": 0,
         "Hybrid": 0,
         "Total Bond": 0,
         "Taxable Bond": 0,
         "Municipal Bond": 0,
         "Total": 0,
         "_deepnote_index_column": "2013-07-31T00:00:00.000000"
        },
        {
         "Total Equity": 0,
         "Domestic Equity": 0,
         "World Equity": 0,
         "Hybrid": 0,
         "Total Bond": 0,
         "Taxable Bond": 0,
         "Municipal Bond": 0,
         "Total": 0,
         "_deepnote_index_column": "2013-08-31T00:00:00.000000"
        },
        {
         "Total Equity": 0,
         "Domestic Equity": 0,
         "World Equity": 0,
         "Hybrid": 0,
         "Total Bond": 0,
         "Taxable Bond": 0,
         "Municipal Bond": 0,
         "Total": 0,
         "_deepnote_index_column": "2013-09-30T00:00:00.000000"
        },
        {
         "Total Equity": 0,
         "Domestic Equity": 0,
         "World Equity": 0,
         "Hybrid": 0,
         "Total Bond": 0,
         "Taxable Bond": 0,
         "Municipal Bond": 0,
         "Total": 0,
         "_deepnote_index_column": "2013-10-31T00:00:00.000000"
        },
        {
         "Total Equity": 0,
         "Domestic Equity": 0,
         "World Equity": 0,
         "Hybrid": 0,
         "Total Bond": 0,
         "Taxable Bond": 0,
         "Municipal Bond": 0,
         "Total": 0,
         "_deepnote_index_column": "2013-11-30T00:00:00.000000"
        },
        {
         "Total Equity": 0,
         "Domestic Equity": 0,
         "World Equity": 0,
         "Hybrid": 0,
         "Total Bond": 0,
         "Taxable Bond": 0,
         "Municipal Bond": 0,
         "Total": 0,
         "_deepnote_index_column": "2013-12-31T00:00:00.000000"
        },
        {
         "Total Equity": 0,
         "Domestic Equity": 0,
         "World Equity": 0,
         "Hybrid": 0,
         "Total Bond": 0,
         "Taxable Bond": 0,
         "Municipal Bond": 0,
         "Total": 0,
         "_deepnote_index_column": "2014-01-31T00:00:00.000000"
        },
        {
         "Total Equity": 0,
         "Domestic Equity": 0,
         "World Equity": 0,
         "Hybrid": 0,
         "Total Bond": 0,
         "Taxable Bond": 0,
         "Municipal Bond": 0,
         "Total": 0,
         "_deepnote_index_column": "2014-02-28T00:00:00.000000"
        },
        {
         "Total Equity": 0,
         "Domestic Equity": 0,
         "World Equity": 0,
         "Hybrid": 0,
         "Total Bond": 0,
         "Taxable Bond": 0,
         "Municipal Bond": 0,
         "Total": 0,
         "_deepnote_index_column": "2014-03-31T00:00:00.000000"
        },
        {
         "Total Equity": 10842,
         "Domestic Equity": 1048,
         "World Equity": 9794,
         "Hybrid": 4931,
         "Total Bond": 8493,
         "Taxable Bond": 7193,
         "Municipal Bond": 1300,
         "Total": 24267,
         "_deepnote_index_column": "2014-04-30T00:00:00.000000"
        },
        {
         "Total Equity": -2203,
         "Domestic Equity": -8720,
         "World Equity": 6518,
         "Hybrid": 3172,
         "Total Bond": 13767,
         "Taxable Bond": 10192,
         "Municipal Bond": 3576,
         "Total": 14736,
         "_deepnote_index_column": "2014-05-31T00:00:00.000000"
        },
        {
         "Total Equity": 2319,
         "Domestic Equity": -6546,
         "World Equity": 8865,
         "Hybrid": 4588,
         "Total Bond": 9715,
         "Taxable Bond": 7551,
         "Municipal Bond": 2163,
         "Total": 16621,
         "_deepnote_index_column": "2014-06-30T00:00:00.000000"
        },
        {
         "Total Equity": -7051,
         "Domestic Equity": -11128,
         "World Equity": 4078,
         "Hybrid": 2666,
         "Total Bond": 7506,
         "Taxable Bond": 7026,
         "Municipal Bond": 481,
         "Total": 3122,
         "_deepnote_index_column": "2014-07-31T00:00:00.000000"
        },
        {
         "Total Equity": 1943,
         "Domestic Equity": -5508,
         "World Equity": 7452,
         "Hybrid": 1885,
         "Total Bond": 1897,
         "Taxable Bond": -1013,
         "Municipal Bond": 2910,
         "Total": 5723,
         "_deepnote_index_column": "2014-08-31T00:00:00.000000"
        },
        {
         "Total Equity": -2767,
         "Domestic Equity": -6596,
         "World Equity": 3829,
         "Hybrid": 1599,
         "Total Bond": 3984,
         "Taxable Bond": 2479,
         "Municipal Bond": 1504,
         "Total": 2816,
         "_deepnote_index_column": "2014-09-30T00:00:00.000000"
        },
        {
         "Total Equity": 0,
         "Domestic Equity": 0,
         "World Equity": 0,
         "Hybrid": 0,
         "Total Bond": 0,
         "Taxable Bond": 0,
         "Municipal Bond": 0,
         "Total": 0,
         "_deepnote_index_column": "2014-10-31T00:00:00.000000"
        },
        {
         "Total Equity": -2753,
         "Domestic Equity": -7239,
         "World Equity": 4485,
         "Hybrid": 729,
         "Total Bond": 14528,
         "Taxable Bond": 11566,
         "Municipal Bond": 2962,
         "Total": 12502,
         "_deepnote_index_column": "2014-11-30T00:00:00.000000"
        },
        {
         "Total Equity": 0,
         "Domestic Equity": 0,
         "World Equity": 0,
         "Hybrid": 0,
         "Total Bond": 0,
         "Taxable Bond": 0,
         "Municipal Bond": 0,
         "Total": 0,
         "_deepnote_index_column": "2014-12-31T00:00:00.000000"
        },
        {
         "Total Equity": 3471,
         "Domestic Equity": -1164,
         "World Equity": 4635,
         "Hybrid": 1729,
         "Total Bond": 7368,
         "Taxable Bond": 2762,
         "Municipal Bond": 4606,
         "Total": 12569,
         "_deepnote_index_column": "2015-01-31T00:00:00.000000"
        },
        {
         "Total Equity": 5508,
         "Domestic Equity": 3509,
         "World Equity": 1999,
         "Hybrid": 1752,
         "Total Bond": 9099,
         "Taxable Bond": 7443,
         "Municipal Bond": 1656,
         "Total": 16359,
         "_deepnote_index_column": "2015-02-28T00:00:00.000000"
        },
        {
         "Total Equity": 5691,
         "Domestic Equity": -8176,
         "World Equity": 13867,
         "Hybrid": 2829,
         "Total Bond": 9138,
         "Taxable Bond": 7267,
         "Municipal Bond": 1870,
         "Total": 17657,
         "_deepnote_index_column": "2015-03-31T00:00:00.000000"
        },
        {
         "Total Equity": 379,
         "Domestic Equity": -4628,
         "World Equity": 5007,
         "Hybrid": 970,
         "Total Bond": 423,
         "Taxable Bond": 514,
         "Municipal Bond": -91,
         "Total": 1772,
         "_deepnote_index_column": "2015-04-30T00:00:00.000000"
        }
       ],
       "rows_bottom": null
      },
      "text/plain": "            Total Equity  Domestic Equity  World Equity  Hybrid  Total Bond  \\\nDate                                                                          \n2012-12-31        -26156           -23126         -3031     526        9848   \n2013-01-31          3661            -1627          5288    2730       12149   \n2013-02-28             0                0             0       0           0   \n2013-03-31             0                0             0       0           0   \n2013-04-30             0                0             0       0           0   \n2013-05-31             0                0             0       0           0   \n2013-06-30             0                0             0       0           0   \n2013-07-31             0                0             0       0           0   \n2013-08-31             0                0             0       0           0   \n2013-09-30             0                0             0       0           0   \n2013-10-31             0                0             0       0           0   \n2013-11-30             0                0             0       0           0   \n2013-12-31             0                0             0       0           0   \n2014-01-31             0                0             0       0           0   \n2014-02-28             0                0             0       0           0   \n2014-03-31             0                0             0       0           0   \n2014-04-30         10842             1048          9794    4931        8493   \n2014-05-31         -2203            -8720          6518    3172       13767   \n2014-06-30          2319            -6546          8865    4588        9715   \n2014-07-31         -7051           -11128          4078    2666        7506   \n2014-08-31          1943            -5508          7452    1885        1897   \n2014-09-30         -2767            -6596          3829    1599        3984   \n2014-10-31             0                0             0       0           0   \n2014-11-30         -2753            -7239          4485     729       14528   \n2014-12-31             0                0             0       0           0   \n2015-01-31          3471            -1164          4635    1729        7368   \n2015-02-28          5508             3509          1999    1752        9099   \n2015-03-31          5691            -8176         13867    2829        9138   \n2015-04-30           379            -4628          5007     970         423   \n\n            Taxable Bond  Municipal Bond  Total  \nDate                                             \n2012-12-31         12613           -2765 -15782  \n2013-01-31          9414            2735  18540  \n2013-02-28             0               0      0  \n2013-03-31             0               0      0  \n2013-04-30             0               0      0  \n2013-05-31             0               0      0  \n2013-06-30             0               0      0  \n2013-07-31             0               0      0  \n2013-08-31             0               0      0  \n2013-09-30             0               0      0  \n2013-10-31             0               0      0  \n2013-11-30             0               0      0  \n2013-12-31             0               0      0  \n2014-01-31             0               0      0  \n2014-02-28             0               0      0  \n2014-03-31             0               0      0  \n2014-04-30          7193            1300  24267  \n2014-05-31         10192            3576  14736  \n2014-06-30          7551            2163  16621  \n2014-07-31          7026             481   3122  \n2014-08-31         -1013            2910   5723  \n2014-09-30          2479            1504   2816  \n2014-10-31             0               0      0  \n2014-11-30         11566            2962  12502  \n2014-12-31             0               0      0  \n2015-01-31          2762            4606  12569  \n2015-02-28          7443            1656  16359  \n2015-03-31          7267            1870  17657  \n2015-04-30           514             -91   1772  ",
      "text/html": "<div>\n<style scoped>\n    .dataframe tbody tr th:only-of-type {\n        vertical-align: middle;\n    }\n\n    .dataframe tbody tr th {\n        vertical-align: top;\n    }\n\n    .dataframe thead th {\n        text-align: right;\n    }\n</style>\n<table border=\"1\" class=\"dataframe\">\n  <thead>\n    <tr style=\"text-align: right;\">\n      <th></th>\n      <th>Total Equity</th>\n      <th>Domestic Equity</th>\n      <th>World Equity</th>\n      <th>Hybrid</th>\n      <th>Total Bond</th>\n      <th>Taxable Bond</th>\n      <th>Municipal Bond</th>\n      <th>Total</th>\n    </tr>\n    <tr>\n      <th>Date</th>\n      <th></th>\n      <th></th>\n      <th></th>\n      <th></th>\n      <th></th>\n      <th></th>\n      <th></th>\n      <th></th>\n    </tr>\n  </thead>\n  <tbody>\n    <tr>\n      <th>2012-12-31</th>\n      <td>-26156</td>\n      <td>-23126</td>\n      <td>-3031</td>\n      <td>526</td>\n      <td>9848</td>\n      <td>12613</td>\n      <td>-2765</td>\n      <td>-15782</td>\n    </tr>\n    <tr>\n      <th>2013-01-31</th>\n      <td>3661</td>\n      <td>-1627</td>\n      <td>5288</td>\n      <td>2730</td>\n      <td>12149</td>\n      <td>9414</td>\n      <td>2735</td>\n      <td>18540</td>\n    </tr>\n    <tr>\n      <th>2013-02-28</th>\n      <td>0</td>\n      <td>0</td>\n      <td>0</td>\n      <td>0</td>\n      <td>0</td>\n      <td>0</td>\n      <td>0</td>\n      <td>0</td>\n    </tr>\n    <tr>\n      <th>2013-03-31</th>\n      <td>0</td>\n      <td>0</td>\n      <td>0</td>\n      <td>0</td>\n      <td>0</td>\n      <td>0</td>\n      <td>0</td>\n      <td>0</td>\n    </tr>\n    <tr>\n      <th>2013-04-30</th>\n      <td>0</td>\n      <td>0</td>\n      <td>0</td>\n      <td>0</td>\n      <td>0</td>\n      <td>0</td>\n      <td>0</td>\n      <td>0</td>\n    </tr>\n    <tr>\n      <th>2013-05-31</th>\n      <td>0</td>\n      <td>0</td>\n      <td>0</td>\n      <td>0</td>\n      <td>0</td>\n      <td>0</td>\n      <td>0</td>\n      <td>0</td>\n    </tr>\n    <tr>\n      <th>2013-06-30</th>\n      <td>0</td>\n      <td>0</td>\n      <td>0</td>\n      <td>0</td>\n      <td>0</td>\n      <td>0</td>\n      <td>0</td>\n      <td>0</td>\n    </tr>\n    <tr>\n      <th>2013-07-31</th>\n      <td>0</td>\n      <td>0</td>\n      <td>0</td>\n      <td>0</td>\n      <td>0</td>\n      <td>0</td>\n      <td>0</td>\n      <td>0</td>\n    </tr>\n    <tr>\n      <th>2013-08-31</th>\n      <td>0</td>\n      <td>0</td>\n      <td>0</td>\n      <td>0</td>\n      <td>0</td>\n      <td>0</td>\n      <td>0</td>\n      <td>0</td>\n    </tr>\n    <tr>\n      <th>2013-09-30</th>\n      <td>0</td>\n      <td>0</td>\n      <td>0</td>\n      <td>0</td>\n      <td>0</td>\n      <td>0</td>\n      <td>0</td>\n      <td>0</td>\n    </tr>\n    <tr>\n      <th>2013-10-31</th>\n      <td>0</td>\n      <td>0</td>\n      <td>0</td>\n      <td>0</td>\n      <td>0</td>\n      <td>0</td>\n      <td>0</td>\n      <td>0</td>\n    </tr>\n    <tr>\n      <th>2013-11-30</th>\n      <td>0</td>\n      <td>0</td>\n      <td>0</td>\n      <td>0</td>\n      <td>0</td>\n      <td>0</td>\n      <td>0</td>\n      <td>0</td>\n    </tr>\n    <tr>\n      <th>2013-12-31</th>\n      <td>0</td>\n      <td>0</td>\n      <td>0</td>\n      <td>0</td>\n      <td>0</td>\n      <td>0</td>\n      <td>0</td>\n      <td>0</td>\n    </tr>\n    <tr>\n      <th>2014-01-31</th>\n      <td>0</td>\n      <td>0</td>\n      <td>0</td>\n      <td>0</td>\n      <td>0</td>\n      <td>0</td>\n      <td>0</td>\n      <td>0</td>\n    </tr>\n    <tr>\n      <th>2014-02-28</th>\n      <td>0</td>\n      <td>0</td>\n      <td>0</td>\n      <td>0</td>\n      <td>0</td>\n      <td>0</td>\n      <td>0</td>\n      <td>0</td>\n    </tr>\n    <tr>\n      <th>2014-03-31</th>\n      <td>0</td>\n      <td>0</td>\n      <td>0</td>\n      <td>0</td>\n      <td>0</td>\n      <td>0</td>\n      <td>0</td>\n      <td>0</td>\n    </tr>\n    <tr>\n      <th>2014-04-30</th>\n      <td>10842</td>\n      <td>1048</td>\n      <td>9794</td>\n      <td>4931</td>\n      <td>8493</td>\n      <td>7193</td>\n      <td>1300</td>\n      <td>24267</td>\n    </tr>\n    <tr>\n      <th>2014-05-31</th>\n      <td>-2203</td>\n      <td>-8720</td>\n      <td>6518</td>\n      <td>3172</td>\n      <td>13767</td>\n      <td>10192</td>\n      <td>3576</td>\n      <td>14736</td>\n    </tr>\n    <tr>\n      <th>2014-06-30</th>\n      <td>2319</td>\n      <td>-6546</td>\n      <td>8865</td>\n      <td>4588</td>\n      <td>9715</td>\n      <td>7551</td>\n      <td>2163</td>\n      <td>16621</td>\n    </tr>\n    <tr>\n      <th>2014-07-31</th>\n      <td>-7051</td>\n      <td>-11128</td>\n      <td>4078</td>\n      <td>2666</td>\n      <td>7506</td>\n      <td>7026</td>\n      <td>481</td>\n      <td>3122</td>\n    </tr>\n    <tr>\n      <th>2014-08-31</th>\n      <td>1943</td>\n      <td>-5508</td>\n      <td>7452</td>\n      <td>1885</td>\n      <td>1897</td>\n      <td>-1013</td>\n      <td>2910</td>\n      <td>5723</td>\n    </tr>\n    <tr>\n      <th>2014-09-30</th>\n      <td>-2767</td>\n      <td>-6596</td>\n      <td>3829</td>\n      <td>1599</td>\n      <td>3984</td>\n      <td>2479</td>\n      <td>1504</td>\n      <td>2816</td>\n    </tr>\n    <tr>\n      <th>2014-10-31</th>\n      <td>0</td>\n      <td>0</td>\n      <td>0</td>\n      <td>0</td>\n      <td>0</td>\n      <td>0</td>\n      <td>0</td>\n      <td>0</td>\n    </tr>\n    <tr>\n      <th>2014-11-30</th>\n      <td>-2753</td>\n      <td>-7239</td>\n      <td>4485</td>\n      <td>729</td>\n      <td>14528</td>\n      <td>11566</td>\n      <td>2962</td>\n      <td>12502</td>\n    </tr>\n    <tr>\n      <th>2014-12-31</th>\n      <td>0</td>\n      <td>0</td>\n      <td>0</td>\n      <td>0</td>\n      <td>0</td>\n      <td>0</td>\n      <td>0</td>\n      <td>0</td>\n    </tr>\n    <tr>\n      <th>2015-01-31</th>\n      <td>3471</td>\n      <td>-1164</td>\n      <td>4635</td>\n      <td>1729</td>\n      <td>7368</td>\n      <td>2762</td>\n      <td>4606</td>\n      <td>12569</td>\n    </tr>\n    <tr>\n      <th>2015-02-28</th>\n      <td>5508</td>\n      <td>3509</td>\n      <td>1999</td>\n      <td>1752</td>\n      <td>9099</td>\n      <td>7443</td>\n      <td>1656</td>\n      <td>16359</td>\n    </tr>\n    <tr>\n      <th>2015-03-31</th>\n      <td>5691</td>\n      <td>-8176</td>\n      <td>13867</td>\n      <td>2829</td>\n      <td>9138</td>\n      <td>7267</td>\n      <td>1870</td>\n      <td>17657</td>\n    </tr>\n    <tr>\n      <th>2015-04-30</th>\n      <td>379</td>\n      <td>-4628</td>\n      <td>5007</td>\n      <td>970</td>\n      <td>423</td>\n      <td>514</td>\n      <td>-91</td>\n      <td>1772</td>\n    </tr>\n  </tbody>\n</table>\n</div>"
     },
     "metadata": {}
    }
   ]
  },
  {
   "cell_type": "markdown",
   "source": "### Step 9. You will notice that it filled the dataFrame with months that don't have any data with NaN. Let's drop these rows.",
   "metadata": {
    "id": "FYpwRqoOG9kN",
    "cell_id": "00016-f4df24f5-de43-45ae-8293-8e6ce4722c5a",
    "deepnote_cell_type": "markdown"
   }
  },
  {
   "cell_type": "code",
   "metadata": {
    "colab": {
     "base_uri": "https://localhost:8080/",
     "height": 468
    },
    "id": "0P7yWg1dG9kO",
    "executionInfo": {
     "status": "ok",
     "timestamp": 1624506642069,
     "user_tz": 240,
     "elapsed": 164,
     "user": {
      "displayName": "Andrés Sánchez",
      "photoUrl": "https://lh3.googleusercontent.com/a-/AOh14Gg69bZMv30ckb-T1MJy0nSxWIHUaP0p2uP6MYBuvQ=s64",
      "userId": "07985253921366566280"
     }
    },
    "outputId": "4b9b11ad-a31a-429c-dc80-9e127321310a",
    "cell_id": "00017-0d804949-d487-40ea-b6da-4316acf54765",
    "deepnote_to_be_reexecuted": false,
    "source_hash": "5020b557",
    "execution_start": 1630098599220,
    "execution_millis": 42,
    "deepnote_cell_type": "code"
   },
   "source": "df.dropna()",
   "execution_count": 11,
   "outputs": [
    {
     "output_type": "execute_result",
     "execution_count": 11,
     "data": {
      "application/vnd.deepnote.dataframe.v2+json": {
       "row_count": 29,
       "column_count": 8,
       "columns": [
        {
         "name": "Total Equity",
         "dtype": "int64",
         "stats": {
          "unique_count": 14,
          "nan_count": 0,
          "min": "-26156",
          "max": "10842",
          "histogram": [
           {
            "bin_start": -26156,
            "bin_end": -22456.2,
            "count": 1
           },
           {
            "bin_start": -22456.2,
            "bin_end": -18756.4,
            "count": 0
           },
           {
            "bin_start": -18756.4,
            "bin_end": -15056.599999999999,
            "count": 0
           },
           {
            "bin_start": -15056.599999999999,
            "bin_end": -11356.8,
            "count": 0
           },
           {
            "bin_start": -11356.8,
            "bin_end": -7657,
            "count": 0
           },
           {
            "bin_start": -7657,
            "bin_end": -3957.199999999997,
            "count": 1
           },
           {
            "bin_start": -3957.199999999997,
            "bin_end": -257.3999999999978,
            "count": 3
           },
           {
            "bin_start": -257.3999999999978,
            "bin_end": 3442.4000000000015,
            "count": 19
           },
           {
            "bin_start": 3442.4000000000015,
            "bin_end": 7142.200000000004,
            "count": 4
           },
           {
            "bin_start": 7142.200000000004,
            "bin_end": 10842,
            "count": 1
           }
          ]
         }
        },
        {
         "name": "Domestic Equity",
         "dtype": "int64",
         "stats": {
          "unique_count": 14,
          "nan_count": 0,
          "min": "-23126",
          "max": "3509",
          "histogram": [
           {
            "bin_start": -23126,
            "bin_end": -20462.5,
            "count": 1
           },
           {
            "bin_start": -20462.5,
            "bin_end": -17799,
            "count": 0
           },
           {
            "bin_start": -17799,
            "bin_end": -15135.5,
            "count": 0
           },
           {
            "bin_start": -15135.5,
            "bin_end": -12472,
            "count": 0
           },
           {
            "bin_start": -12472,
            "bin_end": -9808.5,
            "count": 1
           },
           {
            "bin_start": -9808.5,
            "bin_end": -7145,
            "count": 3
           },
           {
            "bin_start": -7145,
            "bin_end": -4481.5,
            "count": 4
           },
           {
            "bin_start": -4481.5,
            "bin_end": -1818,
            "count": 0
           },
           {
            "bin_start": -1818,
            "bin_end": 845.5,
            "count": 18
           },
           {
            "bin_start": 845.5,
            "bin_end": 3509,
            "count": 2
           }
          ]
         }
        },
        {
         "name": "World Equity",
         "dtype": "int64",
         "stats": {
          "unique_count": 14,
          "nan_count": 0,
          "min": "-3031",
          "max": "13867",
          "histogram": [
           {
            "bin_start": -3031,
            "bin_end": -1341.2,
            "count": 1
           },
           {
            "bin_start": -1341.2,
            "bin_end": 348.5999999999999,
            "count": 16
           },
           {
            "bin_start": 348.5999999999999,
            "bin_end": 2038.3999999999996,
            "count": 1
           },
           {
            "bin_start": 2038.3999999999996,
            "bin_end": 3728.2,
            "count": 0
           },
           {
            "bin_start": 3728.2,
            "bin_end": 5418,
            "count": 6
           },
           {
            "bin_start": 5418,
            "bin_end": 7107.799999999999,
            "count": 1
           },
           {
            "bin_start": 7107.799999999999,
            "bin_end": 8797.6,
            "count": 1
           },
           {
            "bin_start": 8797.6,
            "bin_end": 10487.4,
            "count": 2
           },
           {
            "bin_start": 10487.4,
            "bin_end": 12177.199999999999,
            "count": 0
           },
           {
            "bin_start": 12177.199999999999,
            "bin_end": 13867,
            "count": 1
           }
          ]
         }
        },
        {
         "name": "Hybrid",
         "dtype": "int64",
         "stats": {
          "unique_count": 14,
          "nan_count": 0,
          "min": "0",
          "max": "4931",
          "histogram": [
           {
            "bin_start": 0,
            "bin_end": 493.1,
            "count": 16
           },
           {
            "bin_start": 493.1,
            "bin_end": 986.2,
            "count": 3
           },
           {
            "bin_start": 986.2,
            "bin_end": 1479.3000000000002,
            "count": 0
           },
           {
            "bin_start": 1479.3000000000002,
            "bin_end": 1972.4,
            "count": 4
           },
           {
            "bin_start": 1972.4,
            "bin_end": 2465.5,
            "count": 0
           },
           {
            "bin_start": 2465.5,
            "bin_end": 2958.6000000000004,
            "count": 3
           },
           {
            "bin_start": 2958.6000000000004,
            "bin_end": 3451.7000000000003,
            "count": 1
           },
           {
            "bin_start": 3451.7000000000003,
            "bin_end": 3944.8,
            "count": 0
           },
           {
            "bin_start": 3944.8,
            "bin_end": 4437.900000000001,
            "count": 0
           },
           {
            "bin_start": 4437.900000000001,
            "bin_end": 4931,
            "count": 2
           }
          ]
         }
        },
        {
         "name": "Total Bond",
         "dtype": "int64",
         "stats": {
          "unique_count": 14,
          "nan_count": 0,
          "min": "0",
          "max": "14528",
          "histogram": [
           {
            "bin_start": 0,
            "bin_end": 1452.8,
            "count": 17
           },
           {
            "bin_start": 1452.8,
            "bin_end": 2905.6,
            "count": 1
           },
           {
            "bin_start": 2905.6,
            "bin_end": 4358.4,
            "count": 1
           },
           {
            "bin_start": 4358.4,
            "bin_end": 5811.2,
            "count": 0
           },
           {
            "bin_start": 5811.2,
            "bin_end": 7264,
            "count": 0
           },
           {
            "bin_start": 7264,
            "bin_end": 8716.8,
            "count": 3
           },
           {
            "bin_start": 8716.8,
            "bin_end": 10169.6,
            "count": 4
           },
           {
            "bin_start": 10169.6,
            "bin_end": 11622.4,
            "count": 0
           },
           {
            "bin_start": 11622.4,
            "bin_end": 13075.199999999999,
            "count": 1
           },
           {
            "bin_start": 13075.199999999999,
            "bin_end": 14528,
            "count": 2
           }
          ]
         }
        },
        {
         "name": "Taxable Bond",
         "dtype": "int64",
         "stats": {
          "unique_count": 14,
          "nan_count": 0,
          "min": "-1013",
          "max": "12613",
          "histogram": [
           {
            "bin_start": -1013,
            "bin_end": 349.5999999999999,
            "count": 17
           },
           {
            "bin_start": 349.5999999999999,
            "bin_end": 1712.1999999999998,
            "count": 1
           },
           {
            "bin_start": 1712.1999999999998,
            "bin_end": 3074.7999999999997,
            "count": 2
           },
           {
            "bin_start": 3074.7999999999997,
            "bin_end": 4437.4,
            "count": 0
           },
           {
            "bin_start": 4437.4,
            "bin_end": 5800,
            "count": 0
           },
           {
            "bin_start": 5800,
            "bin_end": 7162.599999999999,
            "count": 1
           },
           {
            "bin_start": 7162.599999999999,
            "bin_end": 8525.199999999999,
            "count": 4
           },
           {
            "bin_start": 8525.199999999999,
            "bin_end": 9887.8,
            "count": 1
           },
           {
            "bin_start": 9887.8,
            "bin_end": 11250.4,
            "count": 1
           },
           {
            "bin_start": 11250.4,
            "bin_end": 12613,
            "count": 2
           }
          ]
         }
        },
        {
         "name": "Municipal Bond",
         "dtype": "int64",
         "stats": {
          "unique_count": 14,
          "nan_count": 0,
          "min": "-2765",
          "max": "4606",
          "histogram": [
           {
            "bin_start": -2765,
            "bin_end": -2027.9,
            "count": 1
           },
           {
            "bin_start": -2027.9,
            "bin_end": -1290.8,
            "count": 0
           },
           {
            "bin_start": -1290.8,
            "bin_end": -553.6999999999998,
            "count": 0
           },
           {
            "bin_start": -553.6999999999998,
            "bin_end": 183.4000000000001,
            "count": 17
           },
           {
            "bin_start": 183.4000000000001,
            "bin_end": 920.5,
            "count": 1
           },
           {
            "bin_start": 920.5,
            "bin_end": 1657.6000000000004,
            "count": 3
           },
           {
            "bin_start": 1657.6000000000004,
            "bin_end": 2394.7,
            "count": 2
           },
           {
            "bin_start": 2394.7,
            "bin_end": 3131.8,
            "count": 3
           },
           {
            "bin_start": 3131.8,
            "bin_end": 3868.9000000000005,
            "count": 1
           },
           {
            "bin_start": 3868.9000000000005,
            "bin_end": 4606,
            "count": 1
           }
          ]
         }
        },
        {
         "name": "Total",
         "dtype": "int64",
         "stats": {
          "unique_count": 14,
          "nan_count": 0,
          "min": "-15782",
          "max": "24267",
          "histogram": [
           {
            "bin_start": -15782,
            "bin_end": -11777.1,
            "count": 1
           },
           {
            "bin_start": -11777.1,
            "bin_end": -7772.2,
            "count": 0
           },
           {
            "bin_start": -7772.2,
            "bin_end": -3767.2999999999993,
            "count": 0
           },
           {
            "bin_start": -3767.2999999999993,
            "bin_end": 237.60000000000036,
            "count": 16
           },
           {
            "bin_start": 237.60000000000036,
            "bin_end": 4242.5,
            "count": 3
           },
           {
            "bin_start": 4242.5,
            "bin_end": 8247.400000000001,
            "count": 1
           },
           {
            "bin_start": 8247.400000000001,
            "bin_end": 12252.3,
            "count": 0
           },
           {
            "bin_start": 12252.3,
            "bin_end": 16257.2,
            "count": 3
           },
           {
            "bin_start": 16257.2,
            "bin_end": 20262.1,
            "count": 4
           },
           {
            "bin_start": 20262.1,
            "bin_end": 24267,
            "count": 1
           }
          ]
         }
        },
        {
         "name": "_deepnote_index_column",
         "dtype": "datetime64[ns]"
        }
       ],
       "rows_top": [
        {
         "Total Equity": -26156,
         "Domestic Equity": -23126,
         "World Equity": -3031,
         "Hybrid": 526,
         "Total Bond": 9848,
         "Taxable Bond": 12613,
         "Municipal Bond": -2765,
         "Total": -15782,
         "_deepnote_index_column": "2012-12-31T00:00:00.000000"
        },
        {
         "Total Equity": 3661,
         "Domestic Equity": -1627,
         "World Equity": 5288,
         "Hybrid": 2730,
         "Total Bond": 12149,
         "Taxable Bond": 9414,
         "Municipal Bond": 2735,
         "Total": 18540,
         "_deepnote_index_column": "2013-01-31T00:00:00.000000"
        },
        {
         "Total Equity": 0,
         "Domestic Equity": 0,
         "World Equity": 0,
         "Hybrid": 0,
         "Total Bond": 0,
         "Taxable Bond": 0,
         "Municipal Bond": 0,
         "Total": 0,
         "_deepnote_index_column": "2013-02-28T00:00:00.000000"
        },
        {
         "Total Equity": 0,
         "Domestic Equity": 0,
         "World Equity": 0,
         "Hybrid": 0,
         "Total Bond": 0,
         "Taxable Bond": 0,
         "Municipal Bond": 0,
         "Total": 0,
         "_deepnote_index_column": "2013-03-31T00:00:00.000000"
        },
        {
         "Total Equity": 0,
         "Domestic Equity": 0,
         "World Equity": 0,
         "Hybrid": 0,
         "Total Bond": 0,
         "Taxable Bond": 0,
         "Municipal Bond": 0,
         "Total": 0,
         "_deepnote_index_column": "2013-04-30T00:00:00.000000"
        },
        {
         "Total Equity": 0,
         "Domestic Equity": 0,
         "World Equity": 0,
         "Hybrid": 0,
         "Total Bond": 0,
         "Taxable Bond": 0,
         "Municipal Bond": 0,
         "Total": 0,
         "_deepnote_index_column": "2013-05-31T00:00:00.000000"
        },
        {
         "Total Equity": 0,
         "Domestic Equity": 0,
         "World Equity": 0,
         "Hybrid": 0,
         "Total Bond": 0,
         "Taxable Bond": 0,
         "Municipal Bond": 0,
         "Total": 0,
         "_deepnote_index_column": "2013-06-30T00:00:00.000000"
        },
        {
         "Total Equity": 0,
         "Domestic Equity": 0,
         "World Equity": 0,
         "Hybrid": 0,
         "Total Bond": 0,
         "Taxable Bond": 0,
         "Municipal Bond": 0,
         "Total": 0,
         "_deepnote_index_column": "2013-07-31T00:00:00.000000"
        },
        {
         "Total Equity": 0,
         "Domestic Equity": 0,
         "World Equity": 0,
         "Hybrid": 0,
         "Total Bond": 0,
         "Taxable Bond": 0,
         "Municipal Bond": 0,
         "Total": 0,
         "_deepnote_index_column": "2013-08-31T00:00:00.000000"
        },
        {
         "Total Equity": 0,
         "Domestic Equity": 0,
         "World Equity": 0,
         "Hybrid": 0,
         "Total Bond": 0,
         "Taxable Bond": 0,
         "Municipal Bond": 0,
         "Total": 0,
         "_deepnote_index_column": "2013-09-30T00:00:00.000000"
        },
        {
         "Total Equity": 0,
         "Domestic Equity": 0,
         "World Equity": 0,
         "Hybrid": 0,
         "Total Bond": 0,
         "Taxable Bond": 0,
         "Municipal Bond": 0,
         "Total": 0,
         "_deepnote_index_column": "2013-10-31T00:00:00.000000"
        },
        {
         "Total Equity": 0,
         "Domestic Equity": 0,
         "World Equity": 0,
         "Hybrid": 0,
         "Total Bond": 0,
         "Taxable Bond": 0,
         "Municipal Bond": 0,
         "Total": 0,
         "_deepnote_index_column": "2013-11-30T00:00:00.000000"
        },
        {
         "Total Equity": 0,
         "Domestic Equity": 0,
         "World Equity": 0,
         "Hybrid": 0,
         "Total Bond": 0,
         "Taxable Bond": 0,
         "Municipal Bond": 0,
         "Total": 0,
         "_deepnote_index_column": "2013-12-31T00:00:00.000000"
        },
        {
         "Total Equity": 0,
         "Domestic Equity": 0,
         "World Equity": 0,
         "Hybrid": 0,
         "Total Bond": 0,
         "Taxable Bond": 0,
         "Municipal Bond": 0,
         "Total": 0,
         "_deepnote_index_column": "2014-01-31T00:00:00.000000"
        },
        {
         "Total Equity": 0,
         "Domestic Equity": 0,
         "World Equity": 0,
         "Hybrid": 0,
         "Total Bond": 0,
         "Taxable Bond": 0,
         "Municipal Bond": 0,
         "Total": 0,
         "_deepnote_index_column": "2014-02-28T00:00:00.000000"
        },
        {
         "Total Equity": 0,
         "Domestic Equity": 0,
         "World Equity": 0,
         "Hybrid": 0,
         "Total Bond": 0,
         "Taxable Bond": 0,
         "Municipal Bond": 0,
         "Total": 0,
         "_deepnote_index_column": "2014-03-31T00:00:00.000000"
        },
        {
         "Total Equity": 10842,
         "Domestic Equity": 1048,
         "World Equity": 9794,
         "Hybrid": 4931,
         "Total Bond": 8493,
         "Taxable Bond": 7193,
         "Municipal Bond": 1300,
         "Total": 24267,
         "_deepnote_index_column": "2014-04-30T00:00:00.000000"
        },
        {
         "Total Equity": -2203,
         "Domestic Equity": -8720,
         "World Equity": 6518,
         "Hybrid": 3172,
         "Total Bond": 13767,
         "Taxable Bond": 10192,
         "Municipal Bond": 3576,
         "Total": 14736,
         "_deepnote_index_column": "2014-05-31T00:00:00.000000"
        },
        {
         "Total Equity": 2319,
         "Domestic Equity": -6546,
         "World Equity": 8865,
         "Hybrid": 4588,
         "Total Bond": 9715,
         "Taxable Bond": 7551,
         "Municipal Bond": 2163,
         "Total": 16621,
         "_deepnote_index_column": "2014-06-30T00:00:00.000000"
        },
        {
         "Total Equity": -7051,
         "Domestic Equity": -11128,
         "World Equity": 4078,
         "Hybrid": 2666,
         "Total Bond": 7506,
         "Taxable Bond": 7026,
         "Municipal Bond": 481,
         "Total": 3122,
         "_deepnote_index_column": "2014-07-31T00:00:00.000000"
        },
        {
         "Total Equity": 1943,
         "Domestic Equity": -5508,
         "World Equity": 7452,
         "Hybrid": 1885,
         "Total Bond": 1897,
         "Taxable Bond": -1013,
         "Municipal Bond": 2910,
         "Total": 5723,
         "_deepnote_index_column": "2014-08-31T00:00:00.000000"
        },
        {
         "Total Equity": -2767,
         "Domestic Equity": -6596,
         "World Equity": 3829,
         "Hybrid": 1599,
         "Total Bond": 3984,
         "Taxable Bond": 2479,
         "Municipal Bond": 1504,
         "Total": 2816,
         "_deepnote_index_column": "2014-09-30T00:00:00.000000"
        },
        {
         "Total Equity": 0,
         "Domestic Equity": 0,
         "World Equity": 0,
         "Hybrid": 0,
         "Total Bond": 0,
         "Taxable Bond": 0,
         "Municipal Bond": 0,
         "Total": 0,
         "_deepnote_index_column": "2014-10-31T00:00:00.000000"
        },
        {
         "Total Equity": -2753,
         "Domestic Equity": -7239,
         "World Equity": 4485,
         "Hybrid": 729,
         "Total Bond": 14528,
         "Taxable Bond": 11566,
         "Municipal Bond": 2962,
         "Total": 12502,
         "_deepnote_index_column": "2014-11-30T00:00:00.000000"
        },
        {
         "Total Equity": 0,
         "Domestic Equity": 0,
         "World Equity": 0,
         "Hybrid": 0,
         "Total Bond": 0,
         "Taxable Bond": 0,
         "Municipal Bond": 0,
         "Total": 0,
         "_deepnote_index_column": "2014-12-31T00:00:00.000000"
        },
        {
         "Total Equity": 3471,
         "Domestic Equity": -1164,
         "World Equity": 4635,
         "Hybrid": 1729,
         "Total Bond": 7368,
         "Taxable Bond": 2762,
         "Municipal Bond": 4606,
         "Total": 12569,
         "_deepnote_index_column": "2015-01-31T00:00:00.000000"
        },
        {
         "Total Equity": 5508,
         "Domestic Equity": 3509,
         "World Equity": 1999,
         "Hybrid": 1752,
         "Total Bond": 9099,
         "Taxable Bond": 7443,
         "Municipal Bond": 1656,
         "Total": 16359,
         "_deepnote_index_column": "2015-02-28T00:00:00.000000"
        },
        {
         "Total Equity": 5691,
         "Domestic Equity": -8176,
         "World Equity": 13867,
         "Hybrid": 2829,
         "Total Bond": 9138,
         "Taxable Bond": 7267,
         "Municipal Bond": 1870,
         "Total": 17657,
         "_deepnote_index_column": "2015-03-31T00:00:00.000000"
        },
        {
         "Total Equity": 379,
         "Domestic Equity": -4628,
         "World Equity": 5007,
         "Hybrid": 970,
         "Total Bond": 423,
         "Taxable Bond": 514,
         "Municipal Bond": -91,
         "Total": 1772,
         "_deepnote_index_column": "2015-04-30T00:00:00.000000"
        }
       ],
       "rows_bottom": null
      },
      "text/plain": "            Total Equity  Domestic Equity  World Equity  Hybrid  Total Bond  \\\nDate                                                                          \n2012-12-31        -26156           -23126         -3031     526        9848   \n2013-01-31          3661            -1627          5288    2730       12149   \n2013-02-28             0                0             0       0           0   \n2013-03-31             0                0             0       0           0   \n2013-04-30             0                0             0       0           0   \n2013-05-31             0                0             0       0           0   \n2013-06-30             0                0             0       0           0   \n2013-07-31             0                0             0       0           0   \n2013-08-31             0                0             0       0           0   \n2013-09-30             0                0             0       0           0   \n2013-10-31             0                0             0       0           0   \n2013-11-30             0                0             0       0           0   \n2013-12-31             0                0             0       0           0   \n2014-01-31             0                0             0       0           0   \n2014-02-28             0                0             0       0           0   \n2014-03-31             0                0             0       0           0   \n2014-04-30         10842             1048          9794    4931        8493   \n2014-05-31         -2203            -8720          6518    3172       13767   \n2014-06-30          2319            -6546          8865    4588        9715   \n2014-07-31         -7051           -11128          4078    2666        7506   \n2014-08-31          1943            -5508          7452    1885        1897   \n2014-09-30         -2767            -6596          3829    1599        3984   \n2014-10-31             0                0             0       0           0   \n2014-11-30         -2753            -7239          4485     729       14528   \n2014-12-31             0                0             0       0           0   \n2015-01-31          3471            -1164          4635    1729        7368   \n2015-02-28          5508             3509          1999    1752        9099   \n2015-03-31          5691            -8176         13867    2829        9138   \n2015-04-30           379            -4628          5007     970         423   \n\n            Taxable Bond  Municipal Bond  Total  \nDate                                             \n2012-12-31         12613           -2765 -15782  \n2013-01-31          9414            2735  18540  \n2013-02-28             0               0      0  \n2013-03-31             0               0      0  \n2013-04-30             0               0      0  \n2013-05-31             0               0      0  \n2013-06-30             0               0      0  \n2013-07-31             0               0      0  \n2013-08-31             0               0      0  \n2013-09-30             0               0      0  \n2013-10-31             0               0      0  \n2013-11-30             0               0      0  \n2013-12-31             0               0      0  \n2014-01-31             0               0      0  \n2014-02-28             0               0      0  \n2014-03-31             0               0      0  \n2014-04-30          7193            1300  24267  \n2014-05-31         10192            3576  14736  \n2014-06-30          7551            2163  16621  \n2014-07-31          7026             481   3122  \n2014-08-31         -1013            2910   5723  \n2014-09-30          2479            1504   2816  \n2014-10-31             0               0      0  \n2014-11-30         11566            2962  12502  \n2014-12-31             0               0      0  \n2015-01-31          2762            4606  12569  \n2015-02-28          7443            1656  16359  \n2015-03-31          7267            1870  17657  \n2015-04-30           514             -91   1772  ",
      "text/html": "<div>\n<style scoped>\n    .dataframe tbody tr th:only-of-type {\n        vertical-align: middle;\n    }\n\n    .dataframe tbody tr th {\n        vertical-align: top;\n    }\n\n    .dataframe thead th {\n        text-align: right;\n    }\n</style>\n<table border=\"1\" class=\"dataframe\">\n  <thead>\n    <tr style=\"text-align: right;\">\n      <th></th>\n      <th>Total Equity</th>\n      <th>Domestic Equity</th>\n      <th>World Equity</th>\n      <th>Hybrid</th>\n      <th>Total Bond</th>\n      <th>Taxable Bond</th>\n      <th>Municipal Bond</th>\n      <th>Total</th>\n    </tr>\n    <tr>\n      <th>Date</th>\n      <th></th>\n      <th></th>\n      <th></th>\n      <th></th>\n      <th></th>\n      <th></th>\n      <th></th>\n      <th></th>\n    </tr>\n  </thead>\n  <tbody>\n    <tr>\n      <th>2012-12-31</th>\n      <td>-26156</td>\n      <td>-23126</td>\n      <td>-3031</td>\n      <td>526</td>\n      <td>9848</td>\n      <td>12613</td>\n      <td>-2765</td>\n      <td>-15782</td>\n    </tr>\n    <tr>\n      <th>2013-01-31</th>\n      <td>3661</td>\n      <td>-1627</td>\n      <td>5288</td>\n      <td>2730</td>\n      <td>12149</td>\n      <td>9414</td>\n      <td>2735</td>\n      <td>18540</td>\n    </tr>\n    <tr>\n      <th>2013-02-28</th>\n      <td>0</td>\n      <td>0</td>\n      <td>0</td>\n      <td>0</td>\n      <td>0</td>\n      <td>0</td>\n      <td>0</td>\n      <td>0</td>\n    </tr>\n    <tr>\n      <th>2013-03-31</th>\n      <td>0</td>\n      <td>0</td>\n      <td>0</td>\n      <td>0</td>\n      <td>0</td>\n      <td>0</td>\n      <td>0</td>\n      <td>0</td>\n    </tr>\n    <tr>\n      <th>2013-04-30</th>\n      <td>0</td>\n      <td>0</td>\n      <td>0</td>\n      <td>0</td>\n      <td>0</td>\n      <td>0</td>\n      <td>0</td>\n      <td>0</td>\n    </tr>\n    <tr>\n      <th>2013-05-31</th>\n      <td>0</td>\n      <td>0</td>\n      <td>0</td>\n      <td>0</td>\n      <td>0</td>\n      <td>0</td>\n      <td>0</td>\n      <td>0</td>\n    </tr>\n    <tr>\n      <th>2013-06-30</th>\n      <td>0</td>\n      <td>0</td>\n      <td>0</td>\n      <td>0</td>\n      <td>0</td>\n      <td>0</td>\n      <td>0</td>\n      <td>0</td>\n    </tr>\n    <tr>\n      <th>2013-07-31</th>\n      <td>0</td>\n      <td>0</td>\n      <td>0</td>\n      <td>0</td>\n      <td>0</td>\n      <td>0</td>\n      <td>0</td>\n      <td>0</td>\n    </tr>\n    <tr>\n      <th>2013-08-31</th>\n      <td>0</td>\n      <td>0</td>\n      <td>0</td>\n      <td>0</td>\n      <td>0</td>\n      <td>0</td>\n      <td>0</td>\n      <td>0</td>\n    </tr>\n    <tr>\n      <th>2013-09-30</th>\n      <td>0</td>\n      <td>0</td>\n      <td>0</td>\n      <td>0</td>\n      <td>0</td>\n      <td>0</td>\n      <td>0</td>\n      <td>0</td>\n    </tr>\n    <tr>\n      <th>2013-10-31</th>\n      <td>0</td>\n      <td>0</td>\n      <td>0</td>\n      <td>0</td>\n      <td>0</td>\n      <td>0</td>\n      <td>0</td>\n      <td>0</td>\n    </tr>\n    <tr>\n      <th>2013-11-30</th>\n      <td>0</td>\n      <td>0</td>\n      <td>0</td>\n      <td>0</td>\n      <td>0</td>\n      <td>0</td>\n      <td>0</td>\n      <td>0</td>\n    </tr>\n    <tr>\n      <th>2013-12-31</th>\n      <td>0</td>\n      <td>0</td>\n      <td>0</td>\n      <td>0</td>\n      <td>0</td>\n      <td>0</td>\n      <td>0</td>\n      <td>0</td>\n    </tr>\n    <tr>\n      <th>2014-01-31</th>\n      <td>0</td>\n      <td>0</td>\n      <td>0</td>\n      <td>0</td>\n      <td>0</td>\n      <td>0</td>\n      <td>0</td>\n      <td>0</td>\n    </tr>\n    <tr>\n      <th>2014-02-28</th>\n      <td>0</td>\n      <td>0</td>\n      <td>0</td>\n      <td>0</td>\n      <td>0</td>\n      <td>0</td>\n      <td>0</td>\n      <td>0</td>\n    </tr>\n    <tr>\n      <th>2014-03-31</th>\n      <td>0</td>\n      <td>0</td>\n      <td>0</td>\n      <td>0</td>\n      <td>0</td>\n      <td>0</td>\n      <td>0</td>\n      <td>0</td>\n    </tr>\n    <tr>\n      <th>2014-04-30</th>\n      <td>10842</td>\n      <td>1048</td>\n      <td>9794</td>\n      <td>4931</td>\n      <td>8493</td>\n      <td>7193</td>\n      <td>1300</td>\n      <td>24267</td>\n    </tr>\n    <tr>\n      <th>2014-05-31</th>\n      <td>-2203</td>\n      <td>-8720</td>\n      <td>6518</td>\n      <td>3172</td>\n      <td>13767</td>\n      <td>10192</td>\n      <td>3576</td>\n      <td>14736</td>\n    </tr>\n    <tr>\n      <th>2014-06-30</th>\n      <td>2319</td>\n      <td>-6546</td>\n      <td>8865</td>\n      <td>4588</td>\n      <td>9715</td>\n      <td>7551</td>\n      <td>2163</td>\n      <td>16621</td>\n    </tr>\n    <tr>\n      <th>2014-07-31</th>\n      <td>-7051</td>\n      <td>-11128</td>\n      <td>4078</td>\n      <td>2666</td>\n      <td>7506</td>\n      <td>7026</td>\n      <td>481</td>\n      <td>3122</td>\n    </tr>\n    <tr>\n      <th>2014-08-31</th>\n      <td>1943</td>\n      <td>-5508</td>\n      <td>7452</td>\n      <td>1885</td>\n      <td>1897</td>\n      <td>-1013</td>\n      <td>2910</td>\n      <td>5723</td>\n    </tr>\n    <tr>\n      <th>2014-09-30</th>\n      <td>-2767</td>\n      <td>-6596</td>\n      <td>3829</td>\n      <td>1599</td>\n      <td>3984</td>\n      <td>2479</td>\n      <td>1504</td>\n      <td>2816</td>\n    </tr>\n    <tr>\n      <th>2014-10-31</th>\n      <td>0</td>\n      <td>0</td>\n      <td>0</td>\n      <td>0</td>\n      <td>0</td>\n      <td>0</td>\n      <td>0</td>\n      <td>0</td>\n    </tr>\n    <tr>\n      <th>2014-11-30</th>\n      <td>-2753</td>\n      <td>-7239</td>\n      <td>4485</td>\n      <td>729</td>\n      <td>14528</td>\n      <td>11566</td>\n      <td>2962</td>\n      <td>12502</td>\n    </tr>\n    <tr>\n      <th>2014-12-31</th>\n      <td>0</td>\n      <td>0</td>\n      <td>0</td>\n      <td>0</td>\n      <td>0</td>\n      <td>0</td>\n      <td>0</td>\n      <td>0</td>\n    </tr>\n    <tr>\n      <th>2015-01-31</th>\n      <td>3471</td>\n      <td>-1164</td>\n      <td>4635</td>\n      <td>1729</td>\n      <td>7368</td>\n      <td>2762</td>\n      <td>4606</td>\n      <td>12569</td>\n    </tr>\n    <tr>\n      <th>2015-02-28</th>\n      <td>5508</td>\n      <td>3509</td>\n      <td>1999</td>\n      <td>1752</td>\n      <td>9099</td>\n      <td>7443</td>\n      <td>1656</td>\n      <td>16359</td>\n    </tr>\n    <tr>\n      <th>2015-03-31</th>\n      <td>5691</td>\n      <td>-8176</td>\n      <td>13867</td>\n      <td>2829</td>\n      <td>9138</td>\n      <td>7267</td>\n      <td>1870</td>\n      <td>17657</td>\n    </tr>\n    <tr>\n      <th>2015-04-30</th>\n      <td>379</td>\n      <td>-4628</td>\n      <td>5007</td>\n      <td>970</td>\n      <td>423</td>\n      <td>514</td>\n      <td>-91</td>\n      <td>1772</td>\n    </tr>\n  </tbody>\n</table>\n</div>"
     },
     "metadata": {}
    }
   ]
  },
  {
   "cell_type": "markdown",
   "source": "### Step 10. Good, now we have the monthly data. Now change the frequency to year.",
   "metadata": {
    "id": "jhNPNVNKG9kO",
    "cell_id": "00018-177063a3-5690-4495-9877-ab9de45d52c1",
    "deepnote_cell_type": "markdown"
   }
  },
  {
   "cell_type": "code",
   "metadata": {
    "colab": {
     "base_uri": "https://localhost:8080/",
     "height": 198
    },
    "id": "6zZsuJURG9kO",
    "executionInfo": {
     "status": "ok",
     "timestamp": 1624506596104,
     "user_tz": 240,
     "elapsed": 185,
     "user": {
      "displayName": "Andrés Sánchez",
      "photoUrl": "https://lh3.googleusercontent.com/a-/AOh14Gg69bZMv30ckb-T1MJy0nSxWIHUaP0p2uP6MYBuvQ=s64",
      "userId": "07985253921366566280"
     }
    },
    "outputId": "80d45de1-b96b-4441-9f91-88a7d7e5eec8",
    "cell_id": "00019-13328234-271b-4645-83d1-6830a0c1de3b",
    "deepnote_to_be_reexecuted": false,
    "source_hash": "398ee244",
    "execution_start": 1630098602126,
    "execution_millis": 34,
    "deepnote_cell_type": "code"
   },
   "source": "df.resample('1Y').sum()",
   "execution_count": 12,
   "outputs": [
    {
     "output_type": "execute_result",
     "execution_count": 12,
     "data": {
      "application/vnd.deepnote.dataframe.v2+json": {
       "row_count": 4,
       "column_count": 8,
       "columns": [
        {
         "name": "Total Equity",
         "dtype": "int64",
         "stats": {
          "unique_count": 4,
          "nan_count": 0,
          "min": "-26156",
          "max": "15049",
          "histogram": [
           {
            "bin_start": -26156,
            "bin_end": -22035.5,
            "count": 1
           },
           {
            "bin_start": -22035.5,
            "bin_end": -17915,
            "count": 0
           },
           {
            "bin_start": -17915,
            "bin_end": -13794.5,
            "count": 0
           },
           {
            "bin_start": -13794.5,
            "bin_end": -9674,
            "count": 0
           },
           {
            "bin_start": -9674,
            "bin_end": -5553.5,
            "count": 0
           },
           {
            "bin_start": -5553.5,
            "bin_end": -1433,
            "count": 0
           },
           {
            "bin_start": -1433,
            "bin_end": 2687.5,
            "count": 1
           },
           {
            "bin_start": 2687.5,
            "bin_end": 6808,
            "count": 1
           },
           {
            "bin_start": 6808,
            "bin_end": 10928.5,
            "count": 0
           },
           {
            "bin_start": 10928.5,
            "bin_end": 15049,
            "count": 1
           }
          ]
         }
        },
        {
         "name": "Domestic Equity",
         "dtype": "int64",
         "stats": {
          "unique_count": 4,
          "nan_count": 0,
          "min": "-44689",
          "max": "-1627",
          "histogram": [
           {
            "bin_start": -44689,
            "bin_end": -40382.8,
            "count": 1
           },
           {
            "bin_start": -40382.8,
            "bin_end": -36076.6,
            "count": 0
           },
           {
            "bin_start": -36076.6,
            "bin_end": -31770.4,
            "count": 0
           },
           {
            "bin_start": -31770.4,
            "bin_end": -27464.2,
            "count": 0
           },
           {
            "bin_start": -27464.2,
            "bin_end": -23158,
            "count": 0
           },
           {
            "bin_start": -23158,
            "bin_end": -18851.800000000003,
            "count": 1
           },
           {
            "bin_start": -18851.800000000003,
            "bin_end": -14545.600000000002,
            "count": 0
           },
           {
            "bin_start": -14545.600000000002,
            "bin_end": -10239.400000000001,
            "count": 1
           },
           {
            "bin_start": -10239.400000000001,
            "bin_end": -5933.200000000004,
            "count": 0
           },
           {
            "bin_start": -5933.200000000004,
            "bin_end": -1627,
            "count": 1
           }
          ]
         }
        },
        {
         "name": "World Equity",
         "dtype": "int64",
         "stats": {
          "unique_count": 4,
          "nan_count": 0,
          "min": "-3031",
          "max": "45021",
          "histogram": [
           {
            "bin_start": -3031,
            "bin_end": 1774.1999999999998,
            "count": 1
           },
           {
            "bin_start": 1774.1999999999998,
            "bin_end": 6579.4,
            "count": 1
           },
           {
            "bin_start": 6579.4,
            "bin_end": 11384.599999999999,
            "count": 0
           },
           {
            "bin_start": 11384.599999999999,
            "bin_end": 16189.8,
            "count": 0
           },
           {
            "bin_start": 16189.8,
            "bin_end": 20995,
            "count": 0
           },
           {
            "bin_start": 20995,
            "bin_end": 25800.199999999997,
            "count": 1
           },
           {
            "bin_start": 25800.199999999997,
            "bin_end": 30605.4,
            "count": 0
           },
           {
            "bin_start": 30605.4,
            "bin_end": 35410.6,
            "count": 0
           },
           {
            "bin_start": 35410.6,
            "bin_end": 40215.799999999996,
            "count": 0
           },
           {
            "bin_start": 40215.799999999996,
            "bin_end": 45021,
            "count": 1
           }
          ]
         }
        },
        {
         "name": "Hybrid",
         "dtype": "int64",
         "stats": {
          "unique_count": 4,
          "nan_count": 0,
          "min": "526",
          "max": "19570",
          "histogram": [
           {
            "bin_start": 526,
            "bin_end": 2430.4,
            "count": 1
           },
           {
            "bin_start": 2430.4,
            "bin_end": 4334.8,
            "count": 1
           },
           {
            "bin_start": 4334.8,
            "bin_end": 6239.200000000001,
            "count": 0
           },
           {
            "bin_start": 6239.200000000001,
            "bin_end": 8143.6,
            "count": 1
           },
           {
            "bin_start": 8143.6,
            "bin_end": 10048,
            "count": 0
           },
           {
            "bin_start": 10048,
            "bin_end": 11952.400000000001,
            "count": 0
           },
           {
            "bin_start": 11952.400000000001,
            "bin_end": 13856.800000000001,
            "count": 0
           },
           {
            "bin_start": 13856.800000000001,
            "bin_end": 15761.2,
            "count": 0
           },
           {
            "bin_start": 15761.2,
            "bin_end": 17665.600000000002,
            "count": 0
           },
           {
            "bin_start": 17665.600000000002,
            "bin_end": 19570,
            "count": 1
           }
          ]
         }
        },
        {
         "name": "Total Bond",
         "dtype": "int64",
         "stats": {
          "unique_count": 4,
          "nan_count": 0,
          "min": "9848",
          "max": "59890",
          "histogram": [
           {
            "bin_start": 9848,
            "bin_end": 14852.2,
            "count": 2
           },
           {
            "bin_start": 14852.2,
            "bin_end": 19856.4,
            "count": 0
           },
           {
            "bin_start": 19856.4,
            "bin_end": 24860.6,
            "count": 0
           },
           {
            "bin_start": 24860.6,
            "bin_end": 29864.8,
            "count": 1
           },
           {
            "bin_start": 29864.8,
            "bin_end": 34869,
            "count": 0
           },
           {
            "bin_start": 34869,
            "bin_end": 39873.2,
            "count": 0
           },
           {
            "bin_start": 39873.2,
            "bin_end": 44877.4,
            "count": 0
           },
           {
            "bin_start": 44877.4,
            "bin_end": 49881.6,
            "count": 0
           },
           {
            "bin_start": 49881.6,
            "bin_end": 54885.799999999996,
            "count": 0
           },
           {
            "bin_start": 54885.799999999996,
            "bin_end": 59890,
            "count": 1
           }
          ]
         }
        },
        {
         "name": "Taxable Bond",
         "dtype": "int64",
         "stats": {
          "unique_count": 4,
          "nan_count": 0,
          "min": "9414",
          "max": "44994",
          "histogram": [
           {
            "bin_start": 9414,
            "bin_end": 12972,
            "count": 2
           },
           {
            "bin_start": 12972,
            "bin_end": 16530,
            "count": 0
           },
           {
            "bin_start": 16530,
            "bin_end": 20088,
            "count": 1
           },
           {
            "bin_start": 20088,
            "bin_end": 23646,
            "count": 0
           },
           {
            "bin_start": 23646,
            "bin_end": 27204,
            "count": 0
           },
           {
            "bin_start": 27204,
            "bin_end": 30762,
            "count": 0
           },
           {
            "bin_start": 30762,
            "bin_end": 34320,
            "count": 0
           },
           {
            "bin_start": 34320,
            "bin_end": 37878,
            "count": 0
           },
           {
            "bin_start": 37878,
            "bin_end": 41436,
            "count": 0
           },
           {
            "bin_start": 41436,
            "bin_end": 44994,
            "count": 1
           }
          ]
         }
        },
        {
         "name": "Municipal Bond",
         "dtype": "int64",
         "stats": {
          "unique_count": 4,
          "nan_count": 0,
          "min": "-2765",
          "max": "14896",
          "histogram": [
           {
            "bin_start": -2765,
            "bin_end": -998.9000000000001,
            "count": 1
           },
           {
            "bin_start": -998.9000000000001,
            "bin_end": 767.1999999999998,
            "count": 0
           },
           {
            "bin_start": 767.1999999999998,
            "bin_end": 2533.2999999999993,
            "count": 0
           },
           {
            "bin_start": 2533.2999999999993,
            "bin_end": 4299.4,
            "count": 1
           },
           {
            "bin_start": 4299.4,
            "bin_end": 6065.5,
            "count": 0
           },
           {
            "bin_start": 6065.5,
            "bin_end": 7831.5999999999985,
            "count": 0
           },
           {
            "bin_start": 7831.5999999999985,
            "bin_end": 9597.699999999999,
            "count": 1
           },
           {
            "bin_start": 9597.699999999999,
            "bin_end": 11363.8,
            "count": 0
           },
           {
            "bin_start": 11363.8,
            "bin_end": 13129.9,
            "count": 0
           },
           {
            "bin_start": 13129.9,
            "bin_end": 14896,
            "count": 1
           }
          ]
         }
        },
        {
         "name": "Total",
         "dtype": "int64",
         "stats": {
          "unique_count": 4,
          "nan_count": 0,
          "min": "-15782",
          "max": "79787",
          "histogram": [
           {
            "bin_start": -15782,
            "bin_end": -6225.1,
            "count": 1
           },
           {
            "bin_start": -6225.1,
            "bin_end": 3331.7999999999993,
            "count": 0
           },
           {
            "bin_start": 3331.7999999999993,
            "bin_end": 12888.699999999997,
            "count": 0
           },
           {
            "bin_start": 12888.699999999997,
            "bin_end": 22445.6,
            "count": 1
           },
           {
            "bin_start": 22445.6,
            "bin_end": 32002.5,
            "count": 0
           },
           {
            "bin_start": 32002.5,
            "bin_end": 41559.399999999994,
            "count": 0
           },
           {
            "bin_start": 41559.399999999994,
            "bin_end": 51116.3,
            "count": 1
           },
           {
            "bin_start": 51116.3,
            "bin_end": 60673.2,
            "count": 0
           },
           {
            "bin_start": 60673.2,
            "bin_end": 70230.09999999999,
            "count": 0
           },
           {
            "bin_start": 70230.09999999999,
            "bin_end": 79787,
            "count": 1
           }
          ]
         }
        },
        {
         "name": "_deepnote_index_column",
         "dtype": "datetime64[ns]"
        }
       ],
       "rows_top": [
        {
         "Total Equity": -26156,
         "Domestic Equity": -23126,
         "World Equity": -3031,
         "Hybrid": 526,
         "Total Bond": 9848,
         "Taxable Bond": 12613,
         "Municipal Bond": -2765,
         "Total": -15782,
         "_deepnote_index_column": "2012-12-31T00:00:00.000000"
        },
        {
         "Total Equity": 3661,
         "Domestic Equity": -1627,
         "World Equity": 5288,
         "Hybrid": 2730,
         "Total Bond": 12149,
         "Taxable Bond": 9414,
         "Municipal Bond": 2735,
         "Total": 18540,
         "_deepnote_index_column": "2013-12-31T00:00:00.000000"
        },
        {
         "Total Equity": 330,
         "Domestic Equity": -44689,
         "World Equity": 45021,
         "Hybrid": 19570,
         "Total Bond": 59890,
         "Taxable Bond": 44994,
         "Municipal Bond": 14896,
         "Total": 79787,
         "_deepnote_index_column": "2014-12-31T00:00:00.000000"
        },
        {
         "Total Equity": 15049,
         "Domestic Equity": -10459,
         "World Equity": 25508,
         "Hybrid": 7280,
         "Total Bond": 26028,
         "Taxable Bond": 17986,
         "Municipal Bond": 8041,
         "Total": 48357,
         "_deepnote_index_column": "2015-12-31T00:00:00.000000"
        }
       ],
       "rows_bottom": null
      },
      "text/plain": "            Total Equity  Domestic Equity  World Equity  Hybrid  Total Bond  \\\nDate                                                                          \n2012-12-31        -26156           -23126         -3031     526        9848   \n2013-12-31          3661            -1627          5288    2730       12149   \n2014-12-31           330           -44689         45021   19570       59890   \n2015-12-31         15049           -10459         25508    7280       26028   \n\n            Taxable Bond  Municipal Bond  Total  \nDate                                             \n2012-12-31         12613           -2765 -15782  \n2013-12-31          9414            2735  18540  \n2014-12-31         44994           14896  79787  \n2015-12-31         17986            8041  48357  ",
      "text/html": "<div>\n<style scoped>\n    .dataframe tbody tr th:only-of-type {\n        vertical-align: middle;\n    }\n\n    .dataframe tbody tr th {\n        vertical-align: top;\n    }\n\n    .dataframe thead th {\n        text-align: right;\n    }\n</style>\n<table border=\"1\" class=\"dataframe\">\n  <thead>\n    <tr style=\"text-align: right;\">\n      <th></th>\n      <th>Total Equity</th>\n      <th>Domestic Equity</th>\n      <th>World Equity</th>\n      <th>Hybrid</th>\n      <th>Total Bond</th>\n      <th>Taxable Bond</th>\n      <th>Municipal Bond</th>\n      <th>Total</th>\n    </tr>\n    <tr>\n      <th>Date</th>\n      <th></th>\n      <th></th>\n      <th></th>\n      <th></th>\n      <th></th>\n      <th></th>\n      <th></th>\n      <th></th>\n    </tr>\n  </thead>\n  <tbody>\n    <tr>\n      <th>2012-12-31</th>\n      <td>-26156</td>\n      <td>-23126</td>\n      <td>-3031</td>\n      <td>526</td>\n      <td>9848</td>\n      <td>12613</td>\n      <td>-2765</td>\n      <td>-15782</td>\n    </tr>\n    <tr>\n      <th>2013-12-31</th>\n      <td>3661</td>\n      <td>-1627</td>\n      <td>5288</td>\n      <td>2730</td>\n      <td>12149</td>\n      <td>9414</td>\n      <td>2735</td>\n      <td>18540</td>\n    </tr>\n    <tr>\n      <th>2014-12-31</th>\n      <td>330</td>\n      <td>-44689</td>\n      <td>45021</td>\n      <td>19570</td>\n      <td>59890</td>\n      <td>44994</td>\n      <td>14896</td>\n      <td>79787</td>\n    </tr>\n    <tr>\n      <th>2015-12-31</th>\n      <td>15049</td>\n      <td>-10459</td>\n      <td>25508</td>\n      <td>7280</td>\n      <td>26028</td>\n      <td>17986</td>\n      <td>8041</td>\n      <td>48357</td>\n    </tr>\n  </tbody>\n</table>\n</div>"
     },
     "metadata": {}
    }
   ]
  },
  {
   "cell_type": "markdown",
   "source": "<a style='text-decoration:none;line-height:16px;display:flex;color:#5B5B62;padding:10px;justify-content:end;' href='https://deepnote.com?utm_source=created-in-deepnote-cell&projectId=fe744348-fecc-4b7a-803c-44dba24ecb38' target=\"_blank\">\n<img alt='Created in deepnote.com' style='display:inline;max-height:16px;margin:0px;margin-right:7.5px;' src='data:image/svg+xml;base64,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' > </img>\nCreated in <span style='font-weight:600;margin-left:4px;'>Deepnote</span></a>",
   "metadata": {
    "tags": [],
    "created_in_deepnote_cell": true,
    "deepnote_cell_type": "markdown"
   }
  }
 ],
 "nbformat": 4,
 "nbformat_minor": 0,
 "metadata": {
  "kernelspec": {
   "display_name": "Python 2",
   "language": "python",
   "name": "python2"
  },
  "language_info": {
   "codemirror_mode": {
    "name": "ipython",
    "version": 2
   },
   "file_extension": ".py",
   "mimetype": "text/x-python",
   "name": "python",
   "nbconvert_exporter": "python",
   "pygments_lexer": "ipython2",
   "version": "2.7.11"
  },
  "colab": {
   "name": "Exercises.ipynb",
   "provenance": [],
   "collapsed_sections": []
  },
  "deepnote_notebook_id": "015553b8-3939-44cd-aa2c-8e795496ed6d",
  "deepnote": {},
  "deepnote_execution_queue": []
 }
}
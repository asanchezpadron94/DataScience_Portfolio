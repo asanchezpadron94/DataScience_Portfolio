{
 "cells": [
  {
   "cell_type": "markdown",
   "source": "# Ex - GroupBy",
   "metadata": {
    "id": "w_OAzuz4_djk",
    "cell_id": "00000-b575d67a-3759-4af8-bdaf-f84f391c4085",
    "deepnote_cell_type": "markdown"
   }
  },
  {
   "cell_type": "markdown",
   "source": "### Introduction:\n\nGroupBy can be summarized as Split-Apply-Combine.\n\nSpecial thanks to: https://github.com/justmarkham for sharing the dataset and materials.\n\nCheck out this [Diagram](http://i.imgur.com/yjNkiwL.png)  \n### Step 1. Import the necessary libraries",
   "metadata": {
    "id": "_tblEzzU_djm",
    "cell_id": "00001-aa6caa62-9962-4640-8f3b-7e56fb1f94af",
    "deepnote_cell_type": "markdown"
   }
  },
  {
   "cell_type": "code",
   "metadata": {
    "id": "xLjGzGOXGrE4",
    "executionInfo": {
     "status": "ok",
     "timestamp": 1623298905882,
     "user_tz": 240,
     "elapsed": 157,
     "user": {
      "displayName": "Andrés Sánchez",
      "photoUrl": "https://lh3.googleusercontent.com/a-/AOh14Gg69bZMv30ckb-T1MJy0nSxWIHUaP0p2uP6MYBuvQ=s64",
      "userId": "07985253921366566280"
     }
    },
    "cell_id": "00002-e61d09e3-4519-4f7e-acbf-42bbb9b90c23",
    "deepnote_to_be_reexecuted": false,
    "source_hash": "44b56a91",
    "execution_start": 1630097924062,
    "deepnote_cell_type": "code"
   },
   "source": "# pip install pandas",
   "execution_count": 1,
   "outputs": []
  },
  {
   "cell_type": "code",
   "metadata": {
    "id": "cWNlJeU0_djm",
    "executionInfo": {
     "status": "ok",
     "timestamp": 1623298906044,
     "user_tz": 240,
     "elapsed": 7,
     "user": {
      "displayName": "Andrés Sánchez",
      "photoUrl": "https://lh3.googleusercontent.com/a-/AOh14Gg69bZMv30ckb-T1MJy0nSxWIHUaP0p2uP6MYBuvQ=s64",
      "userId": "07985253921366566280"
     }
    },
    "cell_id": "00003-7214c6d1-dd1d-4660-95d3-251a693b2e55",
    "deepnote_to_be_reexecuted": false,
    "source_hash": "c76c7c51",
    "execution_start": 1630097924067,
    "execution_millis": 23,
    "deepnote_cell_type": "code"
   },
   "source": "import pandas as pd\nimport numpy as np",
   "execution_count": 2,
   "outputs": []
  },
  {
   "cell_type": "markdown",
   "source": "### Step 2. Import the dataset from this [address](https://raw.githubusercontent.com/justmarkham/DAT8/master/data/drinks.csv). ",
   "metadata": {
    "id": "q5l1QerD_djm",
    "cell_id": "00004-3864b3b2-3694-4877-b796-2ed42af6f4b0",
    "deepnote_cell_type": "markdown"
   }
  },
  {
   "cell_type": "markdown",
   "source": "### Step 3. Assign it to a variable called drinks.",
   "metadata": {
    "id": "zXyEoXE2_djm",
    "cell_id": "00005-4f635462-5262-4662-88ae-8a089609b7d4",
    "deepnote_cell_type": "markdown"
   }
  },
  {
   "cell_type": "code",
   "metadata": {
    "id": "1gLbksca_djm",
    "executionInfo": {
     "status": "ok",
     "timestamp": 1623298906357,
     "user_tz": 240,
     "elapsed": 319,
     "user": {
      "displayName": "Andrés Sánchez",
      "photoUrl": "https://lh3.googleusercontent.com/a-/AOh14Gg69bZMv30ckb-T1MJy0nSxWIHUaP0p2uP6MYBuvQ=s64",
      "userId": "07985253921366566280"
     }
    },
    "cell_id": "00006-18d61af0-3ed1-4d11-a6c5-38bc9580a40b",
    "deepnote_to_be_reexecuted": false,
    "source_hash": "b3ad5481",
    "execution_start": 1630097924097,
    "execution_millis": 94,
    "deepnote_cell_type": "code"
   },
   "source": "drinks = pd.read_csv('https://raw.githubusercontent.com/justmarkham/DAT8/master/data/drinks.csv')",
   "execution_count": 3,
   "outputs": []
  },
  {
   "cell_type": "markdown",
   "source": "### Step 4. Which continent drinks more beer on average?",
   "metadata": {
    "id": "6t2avsEX_djm",
    "cell_id": "00007-a9d1c49a-a2ef-4d11-b280-2f63c6b9e1a2",
    "deepnote_cell_type": "markdown"
   }
  },
  {
   "cell_type": "code",
   "metadata": {
    "id": "Xp5BrgfG_djn",
    "colab": {
     "base_uri": "https://localhost:8080/"
    },
    "executionInfo": {
     "status": "ok",
     "timestamp": 1623298906358,
     "user_tz": 240,
     "elapsed": 16,
     "user": {
      "displayName": "Andrés Sánchez",
      "photoUrl": "https://lh3.googleusercontent.com/a-/AOh14Gg69bZMv30ckb-T1MJy0nSxWIHUaP0p2uP6MYBuvQ=s64",
      "userId": "07985253921366566280"
     }
    },
    "outputId": "367f3a6a-adce-4336-fdeb-d9e30fc0b3bc",
    "cell_id": "00008-7e3c0727-9ad3-4ff1-9ac6-0c15f7637e86",
    "deepnote_to_be_reexecuted": false,
    "source_hash": "262f2c4c",
    "execution_start": 1630097924231,
    "execution_millis": 6,
    "deepnote_cell_type": "code"
   },
   "source": "drinks.groupby(by = ['continent'])[['beer_servings']].mean().reset_index().max()",
   "execution_count": 4,
   "outputs": [
    {
     "output_type": "execute_result",
     "execution_count": 4,
     "data": {
      "text/plain": "continent                SA\nbeer_servings    193.777778\ndtype: object"
     },
     "metadata": {}
    }
   ]
  },
  {
   "cell_type": "markdown",
   "source": "### Step 5. For each continent print the statistics for wine consumption.",
   "metadata": {
    "id": "5nKPyhru_djn",
    "cell_id": "00009-631188b4-640f-40b9-9277-3e8c3678e1d0",
    "deepnote_cell_type": "markdown"
   }
  },
  {
   "cell_type": "code",
   "metadata": {
    "id": "a7eopJaT_djn",
    "colab": {
     "base_uri": "https://localhost:8080/",
     "height": 254
    },
    "executionInfo": {
     "status": "ok",
     "timestamp": 1623298906358,
     "user_tz": 240,
     "elapsed": 13,
     "user": {
      "displayName": "Andrés Sánchez",
      "photoUrl": "https://lh3.googleusercontent.com/a-/AOh14Gg69bZMv30ckb-T1MJy0nSxWIHUaP0p2uP6MYBuvQ=s64",
      "userId": "07985253921366566280"
     }
    },
    "outputId": "ab7f6087-b7a5-4a31-f66e-0fd445d89d77",
    "cell_id": "00010-890bc278-f7be-4f68-b4e4-52a02c25fcb3",
    "deepnote_to_be_reexecuted": false,
    "source_hash": "f0cf7acf",
    "execution_start": 1630097924271,
    "execution_millis": 8,
    "deepnote_cell_type": "code"
   },
   "source": "drinks.groupby(by = ['continent'])[['wine_servings']].describe()",
   "execution_count": 5,
   "outputs": [
    {
     "output_type": "execute_result",
     "execution_count": 5,
     "data": {
      "application/vnd.deepnote.dataframe.v2+json": {
       "row_count": 5,
       "column_count": 8,
       "columns": [
        {
         "name": [
          "wine_servings",
          "count"
         ],
         "dtype": "float64",
         "stats": {
          "unique_count": 5,
          "nan_count": 0,
          "min": "12.0",
          "max": "53.0",
          "histogram": [
           {
            "bin_start": 12,
            "bin_end": 16.1,
            "count": 2
           },
           {
            "bin_start": 16.1,
            "bin_end": 20.2,
            "count": 0
           },
           {
            "bin_start": 20.2,
            "bin_end": 24.299999999999997,
            "count": 0
           },
           {
            "bin_start": 24.299999999999997,
            "bin_end": 28.4,
            "count": 0
           },
           {
            "bin_start": 28.4,
            "bin_end": 32.5,
            "count": 0
           },
           {
            "bin_start": 32.5,
            "bin_end": 36.599999999999994,
            "count": 0
           },
           {
            "bin_start": 36.599999999999994,
            "bin_end": 40.699999999999996,
            "count": 0
           },
           {
            "bin_start": 40.699999999999996,
            "bin_end": 44.8,
            "count": 1
           },
           {
            "bin_start": 44.8,
            "bin_end": 48.9,
            "count": 1
           },
           {
            "bin_start": 48.9,
            "bin_end": 53,
            "count": 1
           }
          ]
         }
        },
        {
         "name": [
          "wine_servings",
          "mean"
         ],
         "dtype": "float64",
         "stats": {
          "unique_count": 5,
          "nan_count": 0,
          "min": "9.068181818181818",
          "max": "142.22222222222223",
          "histogram": [
           {
            "bin_start": 9.068181818181818,
            "bin_end": 22.38358585858586,
            "count": 2
           },
           {
            "bin_start": 22.38358585858586,
            "bin_end": 35.6989898989899,
            "count": 1
           },
           {
            "bin_start": 35.6989898989899,
            "bin_end": 49.01439393939395,
            "count": 0
           },
           {
            "bin_start": 49.01439393939395,
            "bin_end": 62.32979797979799,
            "count": 0
           },
           {
            "bin_start": 62.32979797979799,
            "bin_end": 75.64520202020202,
            "count": 1
           },
           {
            "bin_start": 75.64520202020202,
            "bin_end": 88.96060606060607,
            "count": 0
           },
           {
            "bin_start": 88.96060606060607,
            "bin_end": 102.2760101010101,
            "count": 0
           },
           {
            "bin_start": 102.2760101010101,
            "bin_end": 115.59141414141415,
            "count": 0
           },
           {
            "bin_start": 115.59141414141415,
            "bin_end": 128.9068181818182,
            "count": 0
           },
           {
            "bin_start": 128.9068181818182,
            "bin_end": 142.22222222222223,
            "count": 1
           }
          ]
         }
        },
        {
         "name": [
          "wine_servings",
          "std"
         ],
         "dtype": "float64",
         "stats": {
          "unique_count": 5,
          "nan_count": 0,
          "min": "21.667033931944488",
          "max": "97.42173756146494",
          "histogram": [
           {
            "bin_start": 21.667033931944488,
            "bin_end": 29.242504294896534,
            "count": 1
           },
           {
            "bin_start": 29.242504294896534,
            "bin_end": 36.81797465784858,
            "count": 0
           },
           {
            "bin_start": 36.81797465784858,
            "bin_end": 44.39344502080062,
            "count": 1
           },
           {
            "bin_start": 44.39344502080062,
            "bin_end": 51.968915383752666,
            "count": 0
           },
           {
            "bin_start": 51.968915383752666,
            "bin_end": 59.54438574670471,
            "count": 0
           },
           {
            "bin_start": 59.54438574670471,
            "bin_end": 67.11985610965675,
            "count": 1
           },
           {
            "bin_start": 67.11985610965675,
            "bin_end": 74.6953264726088,
            "count": 0
           },
           {
            "bin_start": 74.6953264726088,
            "bin_end": 82.27079683556084,
            "count": 0
           },
           {
            "bin_start": 82.27079683556084,
            "bin_end": 89.84626719851289,
            "count": 1
           },
           {
            "bin_start": 89.84626719851289,
            "bin_end": 97.42173756146494,
            "count": 1
           }
          ]
         }
        },
        {
         "name": [
          "wine_servings",
          "min"
         ],
         "dtype": "float64",
         "stats": {
          "unique_count": 2,
          "nan_count": 0,
          "min": "0.0",
          "max": "1.0",
          "histogram": [
           {
            "bin_start": 0,
            "bin_end": 0.1,
            "count": 4
           },
           {
            "bin_start": 0.1,
            "bin_end": 0.2,
            "count": 0
           },
           {
            "bin_start": 0.2,
            "bin_end": 0.30000000000000004,
            "count": 0
           },
           {
            "bin_start": 0.30000000000000004,
            "bin_end": 0.4,
            "count": 0
           },
           {
            "bin_start": 0.4,
            "bin_end": 0.5,
            "count": 0
           },
           {
            "bin_start": 0.5,
            "bin_end": 0.6000000000000001,
            "count": 0
           },
           {
            "bin_start": 0.6000000000000001,
            "bin_end": 0.7000000000000001,
            "count": 0
           },
           {
            "bin_start": 0.7000000000000001,
            "bin_end": 0.8,
            "count": 0
           },
           {
            "bin_start": 0.8,
            "bin_end": 0.9,
            "count": 0
           },
           {
            "bin_start": 0.9,
            "bin_end": 1,
            "count": 1
           }
          ]
         }
        },
        {
         "name": [
          "wine_servings",
          "25%"
         ],
         "dtype": "float64",
         "stats": {
          "unique_count": 4,
          "nan_count": 0,
          "min": "0.0",
          "max": "59.0",
          "histogram": [
           {
            "bin_start": 0,
            "bin_end": 5.9,
            "count": 4
           },
           {
            "bin_start": 5.9,
            "bin_end": 11.8,
            "count": 0
           },
           {
            "bin_start": 11.8,
            "bin_end": 17.700000000000003,
            "count": 0
           },
           {
            "bin_start": 17.700000000000003,
            "bin_end": 23.6,
            "count": 0
           },
           {
            "bin_start": 23.6,
            "bin_end": 29.5,
            "count": 0
           },
           {
            "bin_start": 29.5,
            "bin_end": 35.400000000000006,
            "count": 0
           },
           {
            "bin_start": 35.400000000000006,
            "bin_end": 41.300000000000004,
            "count": 0
           },
           {
            "bin_start": 41.300000000000004,
            "bin_end": 47.2,
            "count": 0
           },
           {
            "bin_start": 47.2,
            "bin_end": 53.1,
            "count": 0
           },
           {
            "bin_start": 53.1,
            "bin_end": 59,
            "count": 1
           }
          ]
         }
        },
        {
         "name": [
          "wine_servings",
          "50%"
         ],
         "dtype": "float64",
         "stats": {
          "unique_count": 5,
          "nan_count": 0,
          "min": "1.0",
          "max": "128.0",
          "histogram": [
           {
            "bin_start": 1,
            "bin_end": 13.7,
            "count": 4
           },
           {
            "bin_start": 13.7,
            "bin_end": 26.4,
            "count": 0
           },
           {
            "bin_start": 26.4,
            "bin_end": 39.099999999999994,
            "count": 0
           },
           {
            "bin_start": 39.099999999999994,
            "bin_end": 51.8,
            "count": 0
           },
           {
            "bin_start": 51.8,
            "bin_end": 64.5,
            "count": 0
           },
           {
            "bin_start": 64.5,
            "bin_end": 77.19999999999999,
            "count": 0
           },
           {
            "bin_start": 77.19999999999999,
            "bin_end": 89.89999999999999,
            "count": 0
           },
           {
            "bin_start": 89.89999999999999,
            "bin_end": 102.6,
            "count": 0
           },
           {
            "bin_start": 102.6,
            "bin_end": 115.3,
            "count": 0
           },
           {
            "bin_start": 115.3,
            "bin_end": 128,
            "count": 1
           }
          ]
         }
        },
        {
         "name": [
          "wine_servings",
          "75%"
         ],
         "dtype": "float64",
         "stats": {
          "unique_count": 5,
          "nan_count": 0,
          "min": "8.0",
          "max": "195.0",
          "histogram": [
           {
            "bin_start": 8,
            "bin_end": 26.7,
            "count": 3
           },
           {
            "bin_start": 26.7,
            "bin_end": 45.4,
            "count": 0
           },
           {
            "bin_start": 45.4,
            "bin_end": 64.1,
            "count": 0
           },
           {
            "bin_start": 64.1,
            "bin_end": 82.8,
            "count": 0
           },
           {
            "bin_start": 82.8,
            "bin_end": 101.5,
            "count": 1
           },
           {
            "bin_start": 101.5,
            "bin_end": 120.19999999999999,
            "count": 0
           },
           {
            "bin_start": 120.19999999999999,
            "bin_end": 138.9,
            "count": 0
           },
           {
            "bin_start": 138.9,
            "bin_end": 157.6,
            "count": 0
           },
           {
            "bin_start": 157.6,
            "bin_end": 176.29999999999998,
            "count": 0
           },
           {
            "bin_start": 176.29999999999998,
            "bin_end": 195,
            "count": 1
           }
          ]
         }
        },
        {
         "name": [
          "wine_servings",
          "max"
         ],
         "dtype": "float64",
         "stats": {
          "unique_count": 5,
          "nan_count": 0,
          "min": "123.0",
          "max": "370.0",
          "histogram": [
           {
            "bin_start": 123,
            "bin_end": 147.7,
            "count": 1
           },
           {
            "bin_start": 147.7,
            "bin_end": 172.4,
            "count": 0
           },
           {
            "bin_start": 172.4,
            "bin_end": 197.1,
            "count": 0
           },
           {
            "bin_start": 197.1,
            "bin_end": 221.8,
            "count": 2
           },
           {
            "bin_start": 221.8,
            "bin_end": 246.5,
            "count": 1
           },
           {
            "bin_start": 246.5,
            "bin_end": 271.2,
            "count": 0
           },
           {
            "bin_start": 271.2,
            "bin_end": 295.9,
            "count": 0
           },
           {
            "bin_start": 295.9,
            "bin_end": 320.6,
            "count": 0
           },
           {
            "bin_start": 320.6,
            "bin_end": 345.29999999999995,
            "count": 0
           },
           {
            "bin_start": 345.29999999999995,
            "bin_end": 370,
            "count": 1
           }
          ]
         }
        },
        {
         "name": "_deepnote_index_column",
         "dtype": "object"
        }
       ],
       "rows_top": [
        {
         "('wine_servings', 'count')": 53,
         "('wine_servings', 'mean')": 16.264150943396228,
         "('wine_servings', 'std')": 38.84641897335842,
         "('wine_servings', 'min')": 0,
         "('wine_servings', '25%')": 1,
         "('wine_servings', '50%')": 2,
         "('wine_servings', '75%')": 13,
         "('wine_servings', 'max')": 233,
         "_deepnote_index_column": "AF"
        },
        {
         "('wine_servings', 'count')": 44,
         "('wine_servings', 'mean')": 9.068181818181818,
         "('wine_servings', 'std')": 21.667033931944488,
         "('wine_servings', 'min')": 0,
         "('wine_servings', '25%')": 0,
         "('wine_servings', '50%')": 1,
         "('wine_servings', '75%')": 8,
         "('wine_servings', 'max')": 123,
         "_deepnote_index_column": "AS"
        },
        {
         "('wine_servings', 'count')": 45,
         "('wine_servings', 'mean')": 142.22222222222223,
         "('wine_servings', 'std')": 97.42173756146494,
         "('wine_servings', 'min')": 0,
         "('wine_servings', '25%')": 59,
         "('wine_servings', '50%')": 128,
         "('wine_servings', '75%')": 195,
         "('wine_servings', 'max')": 370,
         "_deepnote_index_column": "EU"
        },
        {
         "('wine_servings', 'count')": 16,
         "('wine_servings', 'mean')": 35.625,
         "('wine_servings', 'std')": 64.55578982554547,
         "('wine_servings', 'min')": 0,
         "('wine_servings', '25%')": 1,
         "('wine_servings', '50%')": 8.5,
         "('wine_servings', '75%')": 23.25,
         "('wine_servings', 'max')": 212,
         "_deepnote_index_column": "OC"
        },
        {
         "('wine_servings', 'count')": 12,
         "('wine_servings', 'mean')": 62.416666666666664,
         "('wine_servings', 'std')": 88.62018888937148,
         "('wine_servings', 'min')": 1,
         "('wine_servings', '25%')": 3,
         "('wine_servings', '50%')": 12,
         "('wine_servings', '75%')": 98.5,
         "('wine_servings', 'max')": 221,
         "_deepnote_index_column": "SA"
        }
       ],
       "rows_bottom": null
      },
      "text/plain": "          wine_servings                                                   \\\n                  count        mean        std  min   25%    50%     75%   \ncontinent                                                                  \nAF                 53.0   16.264151  38.846419  0.0   1.0    2.0   13.00   \nAS                 44.0    9.068182  21.667034  0.0   0.0    1.0    8.00   \nEU                 45.0  142.222222  97.421738  0.0  59.0  128.0  195.00   \nOC                 16.0   35.625000  64.555790  0.0   1.0    8.5   23.25   \nSA                 12.0   62.416667  88.620189  1.0   3.0   12.0   98.50   \n\n                  \n             max  \ncontinent         \nAF         233.0  \nAS         123.0  \nEU         370.0  \nOC         212.0  \nSA         221.0  ",
      "text/html": "<div>\n<style scoped>\n    .dataframe tbody tr th:only-of-type {\n        vertical-align: middle;\n    }\n\n    .dataframe tbody tr th {\n        vertical-align: top;\n    }\n\n    .dataframe thead tr th {\n        text-align: left;\n    }\n\n    .dataframe thead tr:last-of-type th {\n        text-align: right;\n    }\n</style>\n<table border=\"1\" class=\"dataframe\">\n  <thead>\n    <tr>\n      <th></th>\n      <th colspan=\"8\" halign=\"left\">wine_servings</th>\n    </tr>\n    <tr>\n      <th></th>\n      <th>count</th>\n      <th>mean</th>\n      <th>std</th>\n      <th>min</th>\n      <th>25%</th>\n      <th>50%</th>\n      <th>75%</th>\n      <th>max</th>\n    </tr>\n    <tr>\n      <th>continent</th>\n      <th></th>\n      <th></th>\n      <th></th>\n      <th></th>\n      <th></th>\n      <th></th>\n      <th></th>\n      <th></th>\n    </tr>\n  </thead>\n  <tbody>\n    <tr>\n      <th>AF</th>\n      <td>53.0</td>\n      <td>16.264151</td>\n      <td>38.846419</td>\n      <td>0.0</td>\n      <td>1.0</td>\n      <td>2.0</td>\n      <td>13.00</td>\n      <td>233.0</td>\n    </tr>\n    <tr>\n      <th>AS</th>\n      <td>44.0</td>\n      <td>9.068182</td>\n      <td>21.667034</td>\n      <td>0.0</td>\n      <td>0.0</td>\n      <td>1.0</td>\n      <td>8.00</td>\n      <td>123.0</td>\n    </tr>\n    <tr>\n      <th>EU</th>\n      <td>45.0</td>\n      <td>142.222222</td>\n      <td>97.421738</td>\n      <td>0.0</td>\n      <td>59.0</td>\n      <td>128.0</td>\n      <td>195.00</td>\n      <td>370.0</td>\n    </tr>\n    <tr>\n      <th>OC</th>\n      <td>16.0</td>\n      <td>35.625000</td>\n      <td>64.555790</td>\n      <td>0.0</td>\n      <td>1.0</td>\n      <td>8.5</td>\n      <td>23.25</td>\n      <td>212.0</td>\n    </tr>\n    <tr>\n      <th>SA</th>\n      <td>12.0</td>\n      <td>62.416667</td>\n      <td>88.620189</td>\n      <td>1.0</td>\n      <td>3.0</td>\n      <td>12.0</td>\n      <td>98.50</td>\n      <td>221.0</td>\n    </tr>\n  </tbody>\n</table>\n</div>"
     },
     "metadata": {}
    }
   ]
  },
  {
   "cell_type": "markdown",
   "source": "### Step 6. Print the mean alcohol consumption per continent for every column",
   "metadata": {
    "id": "FAYMLBC9_djn",
    "cell_id": "00011-67333e21-bd0b-45ad-8fdc-d2c441501293",
    "deepnote_cell_type": "markdown"
   }
  },
  {
   "cell_type": "code",
   "metadata": {
    "id": "9eAe7ikn_djn",
    "colab": {
     "base_uri": "https://localhost:8080/",
     "height": 225
    },
    "executionInfo": {
     "status": "ok",
     "timestamp": 1623299012140,
     "user_tz": 240,
     "elapsed": 164,
     "user": {
      "displayName": "Andrés Sánchez",
      "photoUrl": "https://lh3.googleusercontent.com/a-/AOh14Gg69bZMv30ckb-T1MJy0nSxWIHUaP0p2uP6MYBuvQ=s64",
      "userId": "07985253921366566280"
     }
    },
    "outputId": "0a000f4c-8b2c-42c9-a4a9-d64a60cec056",
    "cell_id": "00012-ac5fdb79-04b3-4723-8eae-45348ee66418",
    "deepnote_to_be_reexecuted": false,
    "source_hash": "1282e56e",
    "execution_start": 1630097924309,
    "execution_millis": 4,
    "deepnote_cell_type": "code"
   },
   "source": "drinks.groupby(by = ['continent']).mean()",
   "execution_count": 6,
   "outputs": [
    {
     "output_type": "execute_result",
     "execution_count": 6,
     "data": {
      "application/vnd.deepnote.dataframe.v2+json": {
       "row_count": 5,
       "column_count": 4,
       "columns": [
        {
         "name": "beer_servings",
         "dtype": "float64",
         "stats": {
          "unique_count": 5,
          "nan_count": 0,
          "min": "37.04545454545455",
          "max": "193.77777777777777",
          "histogram": [
           {
            "bin_start": 37.04545454545455,
            "bin_end": 52.718686868686866,
            "count": 1
           },
           {
            "bin_start": 52.718686868686866,
            "bin_end": 68.39191919191919,
            "count": 1
           },
           {
            "bin_start": 68.39191919191919,
            "bin_end": 84.06515151515151,
            "count": 0
           },
           {
            "bin_start": 84.06515151515151,
            "bin_end": 99.73838383838384,
            "count": 1
           },
           {
            "bin_start": 99.73838383838384,
            "bin_end": 115.41161616161615,
            "count": 0
           },
           {
            "bin_start": 115.41161616161615,
            "bin_end": 131.08484848484846,
            "count": 0
           },
           {
            "bin_start": 131.08484848484846,
            "bin_end": 146.7580808080808,
            "count": 0
           },
           {
            "bin_start": 146.7580808080808,
            "bin_end": 162.43131313131312,
            "count": 0
           },
           {
            "bin_start": 162.43131313131312,
            "bin_end": 178.10454545454542,
            "count": 1
           },
           {
            "bin_start": 178.10454545454542,
            "bin_end": 193.77777777777777,
            "count": 1
           }
          ]
         }
        },
        {
         "name": "spirit_servings",
         "dtype": "float64",
         "stats": {
          "unique_count": 5,
          "nan_count": 0,
          "min": "16.339622641509433",
          "max": "132.55555555555554",
          "histogram": [
           {
            "bin_start": 16.339622641509433,
            "bin_end": 27.961215932914044,
            "count": 1
           },
           {
            "bin_start": 27.961215932914044,
            "bin_end": 39.58280922431865,
            "count": 0
           },
           {
            "bin_start": 39.58280922431865,
            "bin_end": 51.204402515723274,
            "count": 0
           },
           {
            "bin_start": 51.204402515723274,
            "bin_end": 62.82599580712788,
            "count": 2
           },
           {
            "bin_start": 62.82599580712788,
            "bin_end": 74.44758909853249,
            "count": 0
           },
           {
            "bin_start": 74.44758909853249,
            "bin_end": 86.06918238993711,
            "count": 0
           },
           {
            "bin_start": 86.06918238993711,
            "bin_end": 97.69077568134172,
            "count": 0
           },
           {
            "bin_start": 97.69077568134172,
            "bin_end": 109.31236897274633,
            "count": 0
           },
           {
            "bin_start": 109.31236897274633,
            "bin_end": 120.93396226415094,
            "count": 1
           },
           {
            "bin_start": 120.93396226415094,
            "bin_end": 132.55555555555554,
            "count": 1
           }
          ]
         }
        },
        {
         "name": "wine_servings",
         "dtype": "float64",
         "stats": {
          "unique_count": 5,
          "nan_count": 0,
          "min": "9.068181818181818",
          "max": "142.22222222222223",
          "histogram": [
           {
            "bin_start": 9.068181818181818,
            "bin_end": 22.38358585858586,
            "count": 2
           },
           {
            "bin_start": 22.38358585858586,
            "bin_end": 35.6989898989899,
            "count": 1
           },
           {
            "bin_start": 35.6989898989899,
            "bin_end": 49.01439393939395,
            "count": 0
           },
           {
            "bin_start": 49.01439393939395,
            "bin_end": 62.32979797979799,
            "count": 0
           },
           {
            "bin_start": 62.32979797979799,
            "bin_end": 75.64520202020202,
            "count": 1
           },
           {
            "bin_start": 75.64520202020202,
            "bin_end": 88.96060606060607,
            "count": 0
           },
           {
            "bin_start": 88.96060606060607,
            "bin_end": 102.2760101010101,
            "count": 0
           },
           {
            "bin_start": 102.2760101010101,
            "bin_end": 115.59141414141415,
            "count": 0
           },
           {
            "bin_start": 115.59141414141415,
            "bin_end": 128.9068181818182,
            "count": 0
           },
           {
            "bin_start": 128.9068181818182,
            "bin_end": 142.22222222222223,
            "count": 1
           }
          ]
         }
        },
        {
         "name": "total_litres_of_pure_alcohol",
         "dtype": "float64",
         "stats": {
          "unique_count": 5,
          "nan_count": 0,
          "min": "2.1704545454545454",
          "max": "8.617777777777777",
          "histogram": [
           {
            "bin_start": 2.1704545454545454,
            "bin_end": 2.815186868686869,
            "count": 1
           },
           {
            "bin_start": 2.815186868686869,
            "bin_end": 3.459919191919192,
            "count": 2
           },
           {
            "bin_start": 3.459919191919192,
            "bin_end": 4.104651515151515,
            "count": 0
           },
           {
            "bin_start": 4.104651515151515,
            "bin_end": 4.749383838383839,
            "count": 0
           },
           {
            "bin_start": 4.749383838383839,
            "bin_end": 5.394116161616161,
            "count": 0
           },
           {
            "bin_start": 5.394116161616161,
            "bin_end": 6.038848484848485,
            "count": 0
           },
           {
            "bin_start": 6.038848484848485,
            "bin_end": 6.683580808080809,
            "count": 1
           },
           {
            "bin_start": 6.683580808080809,
            "bin_end": 7.328313131313131,
            "count": 0
           },
           {
            "bin_start": 7.328313131313131,
            "bin_end": 7.9730454545454545,
            "count": 0
           },
           {
            "bin_start": 7.9730454545454545,
            "bin_end": 8.617777777777777,
            "count": 1
           }
          ]
         }
        },
        {
         "name": "_deepnote_index_column",
         "dtype": "object"
        }
       ],
       "rows_top": [
        {
         "beer_servings": 61.471698113207545,
         "spirit_servings": 16.339622641509433,
         "wine_servings": 16.264150943396228,
         "total_litres_of_pure_alcohol": 3.00754716981132,
         "_deepnote_index_column": "AF"
        },
        {
         "beer_servings": 37.04545454545455,
         "spirit_servings": 60.84090909090909,
         "wine_servings": 9.068181818181818,
         "total_litres_of_pure_alcohol": 2.1704545454545454,
         "_deepnote_index_column": "AS"
        },
        {
         "beer_servings": 193.77777777777777,
         "spirit_servings": 132.55555555555554,
         "wine_servings": 142.22222222222223,
         "total_litres_of_pure_alcohol": 8.617777777777777,
         "_deepnote_index_column": "EU"
        },
        {
         "beer_servings": 89.6875,
         "spirit_servings": 58.4375,
         "wine_servings": 35.625,
         "total_litres_of_pure_alcohol": 3.3812500000000005,
         "_deepnote_index_column": "OC"
        },
        {
         "beer_servings": 175.08333333333334,
         "spirit_servings": 114.75,
         "wine_servings": 62.416666666666664,
         "total_litres_of_pure_alcohol": 6.308333333333334,
         "_deepnote_index_column": "SA"
        }
       ],
       "rows_bottom": null
      },
      "text/plain": "           beer_servings  spirit_servings  wine_servings  \\\ncontinent                                                  \nAF             61.471698        16.339623      16.264151   \nAS             37.045455        60.840909       9.068182   \nEU            193.777778       132.555556     142.222222   \nOC             89.687500        58.437500      35.625000   \nSA            175.083333       114.750000      62.416667   \n\n           total_litres_of_pure_alcohol  \ncontinent                                \nAF                             3.007547  \nAS                             2.170455  \nEU                             8.617778  \nOC                             3.381250  \nSA                             6.308333  ",
      "text/html": "<div>\n<style scoped>\n    .dataframe tbody tr th:only-of-type {\n        vertical-align: middle;\n    }\n\n    .dataframe tbody tr th {\n        vertical-align: top;\n    }\n\n    .dataframe thead th {\n        text-align: right;\n    }\n</style>\n<table border=\"1\" class=\"dataframe\">\n  <thead>\n    <tr style=\"text-align: right;\">\n      <th></th>\n      <th>beer_servings</th>\n      <th>spirit_servings</th>\n      <th>wine_servings</th>\n      <th>total_litres_of_pure_alcohol</th>\n    </tr>\n    <tr>\n      <th>continent</th>\n      <th></th>\n      <th></th>\n      <th></th>\n      <th></th>\n    </tr>\n  </thead>\n  <tbody>\n    <tr>\n      <th>AF</th>\n      <td>61.471698</td>\n      <td>16.339623</td>\n      <td>16.264151</td>\n      <td>3.007547</td>\n    </tr>\n    <tr>\n      <th>AS</th>\n      <td>37.045455</td>\n      <td>60.840909</td>\n      <td>9.068182</td>\n      <td>2.170455</td>\n    </tr>\n    <tr>\n      <th>EU</th>\n      <td>193.777778</td>\n      <td>132.555556</td>\n      <td>142.222222</td>\n      <td>8.617778</td>\n    </tr>\n    <tr>\n      <th>OC</th>\n      <td>89.687500</td>\n      <td>58.437500</td>\n      <td>35.625000</td>\n      <td>3.381250</td>\n    </tr>\n    <tr>\n      <th>SA</th>\n      <td>175.083333</td>\n      <td>114.750000</td>\n      <td>62.416667</td>\n      <td>6.308333</td>\n    </tr>\n  </tbody>\n</table>\n</div>"
     },
     "metadata": {}
    }
   ]
  },
  {
   "cell_type": "markdown",
   "source": "### Step 7. Print the median alcohol consumption per continent for every column",
   "metadata": {
    "id": "NmoZjIti_djn",
    "cell_id": "00013-27949f60-befe-4b96-96f0-36c13f6d088f",
    "deepnote_cell_type": "markdown"
   }
  },
  {
   "cell_type": "code",
   "metadata": {
    "id": "REuuH39r_djn",
    "colab": {
     "base_uri": "https://localhost:8080/",
     "height": 225
    },
    "executionInfo": {
     "status": "ok",
     "timestamp": 1623299000792,
     "user_tz": 240,
     "elapsed": 159,
     "user": {
      "displayName": "Andrés Sánchez",
      "photoUrl": "https://lh3.googleusercontent.com/a-/AOh14Gg69bZMv30ckb-T1MJy0nSxWIHUaP0p2uP6MYBuvQ=s64",
      "userId": "07985253921366566280"
     }
    },
    "outputId": "ce9bec9d-5825-49b5-e272-1bc4e6b1dc91",
    "cell_id": "00014-2e50f7af-0711-46b5-b078-8bcd51d65b87",
    "deepnote_to_be_reexecuted": false,
    "source_hash": "371542e0",
    "execution_start": 1630097924315,
    "execution_millis": 36,
    "deepnote_cell_type": "code"
   },
   "source": "drinks.groupby(by = ['continent'])[['beer_servings','spirit_servings','wine_servings','total_litres_of_pure_alcohol',]].median()",
   "execution_count": 7,
   "outputs": [
    {
     "output_type": "execute_result",
     "execution_count": 7,
     "data": {
      "application/vnd.deepnote.dataframe.v2+json": {
       "row_count": 5,
       "column_count": 4,
       "columns": [
        {
         "name": "beer_servings",
         "dtype": "float64",
         "stats": {
          "unique_count": 5,
          "nan_count": 0,
          "min": "17.5",
          "max": "219.0",
          "histogram": [
           {
            "bin_start": 17.5,
            "bin_end": 37.65,
            "count": 2
           },
           {
            "bin_start": 37.65,
            "bin_end": 57.8,
            "count": 1
           },
           {
            "bin_start": 57.8,
            "bin_end": 77.94999999999999,
            "count": 0
           },
           {
            "bin_start": 77.94999999999999,
            "bin_end": 98.1,
            "count": 0
           },
           {
            "bin_start": 98.1,
            "bin_end": 118.25,
            "count": 0
           },
           {
            "bin_start": 118.25,
            "bin_end": 138.39999999999998,
            "count": 0
           },
           {
            "bin_start": 138.39999999999998,
            "bin_end": 158.54999999999998,
            "count": 0
           },
           {
            "bin_start": 158.54999999999998,
            "bin_end": 178.7,
            "count": 1
           },
           {
            "bin_start": 178.7,
            "bin_end": 198.85,
            "count": 0
           },
           {
            "bin_start": 198.85,
            "bin_end": 219,
            "count": 1
           }
          ]
         }
        },
        {
         "name": "spirit_servings",
         "dtype": "float64",
         "stats": {
          "unique_count": 5,
          "nan_count": 0,
          "min": "3.0",
          "max": "122.0",
          "histogram": [
           {
            "bin_start": 3,
            "bin_end": 14.9,
            "count": 1
           },
           {
            "bin_start": 14.9,
            "bin_end": 26.8,
            "count": 1
           },
           {
            "bin_start": 26.8,
            "bin_end": 38.7,
            "count": 1
           },
           {
            "bin_start": 38.7,
            "bin_end": 50.6,
            "count": 0
           },
           {
            "bin_start": 50.6,
            "bin_end": 62.5,
            "count": 0
           },
           {
            "bin_start": 62.5,
            "bin_end": 74.4,
            "count": 0
           },
           {
            "bin_start": 74.4,
            "bin_end": 86.3,
            "count": 0
           },
           {
            "bin_start": 86.3,
            "bin_end": 98.2,
            "count": 0
           },
           {
            "bin_start": 98.2,
            "bin_end": 110.10000000000001,
            "count": 1
           },
           {
            "bin_start": 110.10000000000001,
            "bin_end": 122,
            "count": 1
           }
          ]
         }
        },
        {
         "name": "wine_servings",
         "dtype": "float64",
         "stats": {
          "unique_count": 5,
          "nan_count": 0,
          "min": "1.0",
          "max": "128.0",
          "histogram": [
           {
            "bin_start": 1,
            "bin_end": 13.7,
            "count": 4
           },
           {
            "bin_start": 13.7,
            "bin_end": 26.4,
            "count": 0
           },
           {
            "bin_start": 26.4,
            "bin_end": 39.099999999999994,
            "count": 0
           },
           {
            "bin_start": 39.099999999999994,
            "bin_end": 51.8,
            "count": 0
           },
           {
            "bin_start": 51.8,
            "bin_end": 64.5,
            "count": 0
           },
           {
            "bin_start": 64.5,
            "bin_end": 77.19999999999999,
            "count": 0
           },
           {
            "bin_start": 77.19999999999999,
            "bin_end": 89.89999999999999,
            "count": 0
           },
           {
            "bin_start": 89.89999999999999,
            "bin_end": 102.6,
            "count": 0
           },
           {
            "bin_start": 102.6,
            "bin_end": 115.3,
            "count": 0
           },
           {
            "bin_start": 115.3,
            "bin_end": 128,
            "count": 1
           }
          ]
         }
        },
        {
         "name": "total_litres_of_pure_alcohol",
         "dtype": "float64",
         "stats": {
          "unique_count": 5,
          "nan_count": 0,
          "min": "1.2",
          "max": "10.0",
          "histogram": [
           {
            "bin_start": 1.2,
            "bin_end": 2.08,
            "count": 2
           },
           {
            "bin_start": 2.08,
            "bin_end": 2.96,
            "count": 1
           },
           {
            "bin_start": 2.96,
            "bin_end": 3.8400000000000007,
            "count": 0
           },
           {
            "bin_start": 3.8400000000000007,
            "bin_end": 4.720000000000001,
            "count": 0
           },
           {
            "bin_start": 4.720000000000001,
            "bin_end": 5.6000000000000005,
            "count": 0
           },
           {
            "bin_start": 5.6000000000000005,
            "bin_end": 6.480000000000001,
            "count": 0
           },
           {
            "bin_start": 6.480000000000001,
            "bin_end": 7.360000000000001,
            "count": 1
           },
           {
            "bin_start": 7.360000000000001,
            "bin_end": 8.24,
            "count": 0
           },
           {
            "bin_start": 8.24,
            "bin_end": 9.120000000000001,
            "count": 0
           },
           {
            "bin_start": 9.120000000000001,
            "bin_end": 10,
            "count": 1
           }
          ]
         }
        },
        {
         "name": "_deepnote_index_column",
         "dtype": "object"
        }
       ],
       "rows_top": [
        {
         "beer_servings": 32,
         "spirit_servings": 3,
         "wine_servings": 2,
         "total_litres_of_pure_alcohol": 2.3,
         "_deepnote_index_column": "AF"
        },
        {
         "beer_servings": 17.5,
         "spirit_servings": 16,
         "wine_servings": 1,
         "total_litres_of_pure_alcohol": 1.2,
         "_deepnote_index_column": "AS"
        },
        {
         "beer_servings": 219,
         "spirit_servings": 122,
         "wine_servings": 128,
         "total_litres_of_pure_alcohol": 10,
         "_deepnote_index_column": "EU"
        },
        {
         "beer_servings": 52.5,
         "spirit_servings": 37,
         "wine_servings": 8.5,
         "total_litres_of_pure_alcohol": 1.75,
         "_deepnote_index_column": "OC"
        },
        {
         "beer_servings": 162.5,
         "spirit_servings": 108.5,
         "wine_servings": 12,
         "total_litres_of_pure_alcohol": 6.85,
         "_deepnote_index_column": "SA"
        }
       ],
       "rows_bottom": null
      },
      "text/plain": "           beer_servings  spirit_servings  wine_servings  \\\ncontinent                                                  \nAF                  32.0              3.0            2.0   \nAS                  17.5             16.0            1.0   \nEU                 219.0            122.0          128.0   \nOC                  52.5             37.0            8.5   \nSA                 162.5            108.5           12.0   \n\n           total_litres_of_pure_alcohol  \ncontinent                                \nAF                                 2.30  \nAS                                 1.20  \nEU                                10.00  \nOC                                 1.75  \nSA                                 6.85  ",
      "text/html": "<div>\n<style scoped>\n    .dataframe tbody tr th:only-of-type {\n        vertical-align: middle;\n    }\n\n    .dataframe tbody tr th {\n        vertical-align: top;\n    }\n\n    .dataframe thead th {\n        text-align: right;\n    }\n</style>\n<table border=\"1\" class=\"dataframe\">\n  <thead>\n    <tr style=\"text-align: right;\">\n      <th></th>\n      <th>beer_servings</th>\n      <th>spirit_servings</th>\n      <th>wine_servings</th>\n      <th>total_litres_of_pure_alcohol</th>\n    </tr>\n    <tr>\n      <th>continent</th>\n      <th></th>\n      <th></th>\n      <th></th>\n      <th></th>\n    </tr>\n  </thead>\n  <tbody>\n    <tr>\n      <th>AF</th>\n      <td>32.0</td>\n      <td>3.0</td>\n      <td>2.0</td>\n      <td>2.30</td>\n    </tr>\n    <tr>\n      <th>AS</th>\n      <td>17.5</td>\n      <td>16.0</td>\n      <td>1.0</td>\n      <td>1.20</td>\n    </tr>\n    <tr>\n      <th>EU</th>\n      <td>219.0</td>\n      <td>122.0</td>\n      <td>128.0</td>\n      <td>10.00</td>\n    </tr>\n    <tr>\n      <th>OC</th>\n      <td>52.5</td>\n      <td>37.0</td>\n      <td>8.5</td>\n      <td>1.75</td>\n    </tr>\n    <tr>\n      <th>SA</th>\n      <td>162.5</td>\n      <td>108.5</td>\n      <td>12.0</td>\n      <td>6.85</td>\n    </tr>\n  </tbody>\n</table>\n</div>"
     },
     "metadata": {}
    }
   ]
  },
  {
   "cell_type": "markdown",
   "source": "### Step 8. Print the mean, min and max values for spirit consumption.\n#### This time output a DataFrame",
   "metadata": {
    "id": "n8lwuTHQ_djn",
    "cell_id": "00015-9bde1d38-7cbf-43d6-bf88-d44e2b9fed56",
    "deepnote_cell_type": "markdown"
   }
  },
  {
   "cell_type": "code",
   "metadata": {
    "id": "Vtg3r_Ho_djn",
    "colab": {
     "base_uri": "https://localhost:8080/",
     "height": 136
    },
    "executionInfo": {
     "status": "ok",
     "timestamp": 1623299149341,
     "user_tz": 240,
     "elapsed": 170,
     "user": {
      "displayName": "Andrés Sánchez",
      "photoUrl": "https://lh3.googleusercontent.com/a-/AOh14Gg69bZMv30ckb-T1MJy0nSxWIHUaP0p2uP6MYBuvQ=s64",
      "userId": "07985253921366566280"
     }
    },
    "outputId": "549388f7-83c3-4a55-d08f-ab675415e5e6",
    "cell_id": "00016-1fc27792-8451-4e10-8d27-e272e277f387",
    "deepnote_to_be_reexecuted": false,
    "source_hash": "240275d8",
    "execution_start": 1630097924360,
    "execution_millis": 6,
    "deepnote_cell_type": "code"
   },
   "source": "drinks[['spirit_servings']].agg(['mean', 'min', 'max'])",
   "execution_count": 8,
   "outputs": [
    {
     "output_type": "execute_result",
     "execution_count": 8,
     "data": {
      "application/vnd.deepnote.dataframe.v2+json": {
       "row_count": 3,
       "column_count": 1,
       "columns": [
        {
         "name": "spirit_servings",
         "dtype": "float64",
         "stats": {
          "unique_count": 3,
          "nan_count": 0,
          "min": "0.0",
          "max": "438.0",
          "histogram": [
           {
            "bin_start": 0,
            "bin_end": 43.8,
            "count": 1
           },
           {
            "bin_start": 43.8,
            "bin_end": 87.6,
            "count": 1
           },
           {
            "bin_start": 87.6,
            "bin_end": 131.39999999999998,
            "count": 0
           },
           {
            "bin_start": 131.39999999999998,
            "bin_end": 175.2,
            "count": 0
           },
           {
            "bin_start": 175.2,
            "bin_end": 219,
            "count": 0
           },
           {
            "bin_start": 219,
            "bin_end": 262.79999999999995,
            "count": 0
           },
           {
            "bin_start": 262.79999999999995,
            "bin_end": 306.59999999999997,
            "count": 0
           },
           {
            "bin_start": 306.59999999999997,
            "bin_end": 350.4,
            "count": 0
           },
           {
            "bin_start": 350.4,
            "bin_end": 394.2,
            "count": 0
           },
           {
            "bin_start": 394.2,
            "bin_end": 438,
            "count": 1
           }
          ]
         }
        },
        {
         "name": "_deepnote_index_column",
         "dtype": "object"
        }
       ],
       "rows_top": [
        {
         "spirit_servings": 80.99481865284974,
         "_deepnote_index_column": "mean"
        },
        {
         "spirit_servings": 0,
         "_deepnote_index_column": "min"
        },
        {
         "spirit_servings": 438,
         "_deepnote_index_column": "max"
        }
       ],
       "rows_bottom": null
      },
      "text/plain": "      spirit_servings\nmean        80.994819\nmin          0.000000\nmax        438.000000",
      "text/html": "<div>\n<style scoped>\n    .dataframe tbody tr th:only-of-type {\n        vertical-align: middle;\n    }\n\n    .dataframe tbody tr th {\n        vertical-align: top;\n    }\n\n    .dataframe thead th {\n        text-align: right;\n    }\n</style>\n<table border=\"1\" class=\"dataframe\">\n  <thead>\n    <tr style=\"text-align: right;\">\n      <th></th>\n      <th>spirit_servings</th>\n    </tr>\n  </thead>\n  <tbody>\n    <tr>\n      <th>mean</th>\n      <td>80.994819</td>\n    </tr>\n    <tr>\n      <th>min</th>\n      <td>0.000000</td>\n    </tr>\n    <tr>\n      <th>max</th>\n      <td>438.000000</td>\n    </tr>\n  </tbody>\n</table>\n</div>"
     },
     "metadata": {}
    }
   ]
  },
  {
   "cell_type": "markdown",
   "source": "<a style='text-decoration:none;line-height:16px;display:flex;color:#5B5B62;padding:10px;justify-content:end;' href='https://deepnote.com?utm_source=created-in-deepnote-cell&projectId=fe744348-fecc-4b7a-803c-44dba24ecb38' target=\"_blank\">\n<img alt='Created in deepnote.com' style='display:inline;max-height:16px;margin:0px;margin-right:7.5px;' src='data:image/svg+xml;base64,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' > </img>\nCreated in <span style='font-weight:600;margin-left:4px;'>Deepnote</span></a>",
   "metadata": {
    "tags": [],
    "created_in_deepnote_cell": true,
    "deepnote_cell_type": "markdown"
   }
  }
 ],
 "nbformat": 4,
 "nbformat_minor": 0,
 "metadata": {
  "kernelspec": {
   "display_name": "Python 2",
   "language": "python",
   "name": "python2"
  },
  "language_info": {
   "codemirror_mode": {
    "name": "ipython",
    "version": 2
   },
   "file_extension": ".py",
   "mimetype": "text/x-python",
   "name": "python",
   "nbconvert_exporter": "python",
   "pygments_lexer": "ipython2",
   "version": "2.7.16"
  },
  "colab": {
   "name": "Exercise.ipynb",
   "provenance": [],
   "collapsed_sections": []
  },
  "deepnote_notebook_id": "182430c5-921e-4354-afbb-d7916c00db33",
  "deepnote": {},
  "deepnote_execution_queue": []
 }
}
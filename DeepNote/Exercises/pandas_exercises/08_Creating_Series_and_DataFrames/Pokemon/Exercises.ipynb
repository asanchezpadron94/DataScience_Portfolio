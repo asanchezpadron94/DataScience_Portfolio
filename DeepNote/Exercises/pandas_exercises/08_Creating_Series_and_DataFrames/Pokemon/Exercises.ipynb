{
 "cells": [
  {
   "cell_type": "markdown",
   "source": "# Pokemon",
   "metadata": {
    "id": "CZrDth0GqA44",
    "cell_id": "00000-37de8844-c884-4e37-9859-1161840e8048",
    "deepnote_cell_type": "markdown"
   }
  },
  {
   "cell_type": "markdown",
   "source": "### Introduction:\n\nThis time you will create the data.\n\n\n\n### Step 1. Import the necessary libraries",
   "metadata": {
    "id": "AzLz9FPKqA47",
    "cell_id": "00001-8040d6a6-ea45-4556-a4c2-058d73fff9f6",
    "deepnote_cell_type": "markdown"
   }
  },
  {
   "cell_type": "code",
   "metadata": {
    "id": "FxUrrnsyqA47",
    "executionInfo": {
     "status": "ok",
     "timestamp": 1624247897247,
     "user_tz": 240,
     "elapsed": 218,
     "user": {
      "displayName": "Andrés Sánchez",
      "photoUrl": "https://lh3.googleusercontent.com/a-/AOh14Gg69bZMv30ckb-T1MJy0nSxWIHUaP0p2uP6MYBuvQ=s64",
      "userId": "07985253921366566280"
     }
    },
    "cell_id": "00002-16ded28a-e26a-4bca-a911-0a6b65c5ca53",
    "deepnote_to_be_reexecuted": false,
    "source_hash": "c76c7c51",
    "execution_start": 1630098432790,
    "execution_millis": 5,
    "deepnote_cell_type": "code"
   },
   "source": "import pandas as pd\nimport numpy as np",
   "execution_count": 1,
   "outputs": []
  },
  {
   "cell_type": "markdown",
   "source": "### Step 2. Create a data dictionary that looks like the DataFrame below",
   "metadata": {
    "id": "VA7R_yVMqA48",
    "cell_id": "00003-f4d46122-ff65-4f9a-8f9c-15c98e31e1cb",
    "deepnote_cell_type": "markdown"
   }
  },
  {
   "cell_type": "code",
   "metadata": {
    "collapsed": true,
    "id": "YctlquVxqA48",
    "executionInfo": {
     "status": "ok",
     "timestamp": 1624247897486,
     "user_tz": 240,
     "elapsed": 16,
     "user": {
      "displayName": "Andrés Sánchez",
      "photoUrl": "https://lh3.googleusercontent.com/a-/AOh14Gg69bZMv30ckb-T1MJy0nSxWIHUaP0p2uP6MYBuvQ=s64",
      "userId": "07985253921366566280"
     }
    },
    "cell_id": "00004-65967e9f-114c-4578-b0f6-26bc8d960dd7",
    "deepnote_to_be_reexecuted": false,
    "source_hash": "6073557f",
    "execution_start": 1630098432796,
    "execution_millis": 5,
    "deepnote_cell_type": "code"
   },
   "source": "raw_data = {\"name\": ['Bulbasaur', 'Charmander','Squirtle','Caterpie'],\n            \"evolution\": ['Ivysaur','Charmeleon','Wartortle','Metapod'],\n            \"type\": ['grass', 'fire', 'water', 'bug'],\n            \"hp\": [45, 39, 44, 45],\n            \"pokedex\": ['yes', 'no','yes','no']                        \n            }",
   "execution_count": 2,
   "outputs": []
  },
  {
   "cell_type": "markdown",
   "source": "### Step 3. Assign it to a variable called pokemon",
   "metadata": {
    "id": "RQjVRsAQqA48",
    "cell_id": "00005-724351b9-5c15-42e3-a0eb-63e106d285d2",
    "deepnote_cell_type": "markdown"
   }
  },
  {
   "cell_type": "code",
   "metadata": {
    "colab": {
     "base_uri": "https://localhost:8080/",
     "height": 168
    },
    "id": "SFUNRE1rqA49",
    "executionInfo": {
     "status": "ok",
     "timestamp": 1624247897487,
     "user_tz": 240,
     "elapsed": 16,
     "user": {
      "displayName": "Andrés Sánchez",
      "photoUrl": "https://lh3.googleusercontent.com/a-/AOh14Gg69bZMv30ckb-T1MJy0nSxWIHUaP0p2uP6MYBuvQ=s64",
      "userId": "07985253921366566280"
     }
    },
    "outputId": "740ee31a-5b3e-443a-f954-5074e6bb29b0",
    "cell_id": "00006-42cad2bc-5213-433a-8e8b-161057622607",
    "deepnote_to_be_reexecuted": false,
    "source_hash": "4f2bbdb4",
    "execution_start": 1630098432803,
    "execution_millis": 60,
    "deepnote_cell_type": "code"
   },
   "source": "pokemon = pd.DataFrame(raw_data)\npokemon.head()",
   "execution_count": 3,
   "outputs": [
    {
     "output_type": "execute_result",
     "execution_count": 3,
     "data": {
      "application/vnd.deepnote.dataframe.v2+json": {
       "row_count": 4,
       "column_count": 5,
       "columns": [
        {
         "name": "name",
         "dtype": "object",
         "stats": {
          "unique_count": 4,
          "nan_count": 0,
          "categories": [
           {
            "name": "Bulbasaur",
            "count": 1
           },
           {
            "name": "Charmander",
            "count": 1
           },
           {
            "name": "2 others",
            "count": 2
           }
          ]
         }
        },
        {
         "name": "evolution",
         "dtype": "object",
         "stats": {
          "unique_count": 4,
          "nan_count": 0,
          "categories": [
           {
            "name": "Ivysaur",
            "count": 1
           },
           {
            "name": "Charmeleon",
            "count": 1
           },
           {
            "name": "2 others",
            "count": 2
           }
          ]
         }
        },
        {
         "name": "type",
         "dtype": "object",
         "stats": {
          "unique_count": 4,
          "nan_count": 0,
          "categories": [
           {
            "name": "grass",
            "count": 1
           },
           {
            "name": "fire",
            "count": 1
           },
           {
            "name": "2 others",
            "count": 2
           }
          ]
         }
        },
        {
         "name": "hp",
         "dtype": "int64",
         "stats": {
          "unique_count": 3,
          "nan_count": 0,
          "min": "39",
          "max": "45",
          "histogram": [
           {
            "bin_start": 39,
            "bin_end": 39.6,
            "count": 1
           },
           {
            "bin_start": 39.6,
            "bin_end": 40.2,
            "count": 0
           },
           {
            "bin_start": 40.2,
            "bin_end": 40.8,
            "count": 0
           },
           {
            "bin_start": 40.8,
            "bin_end": 41.4,
            "count": 0
           },
           {
            "bin_start": 41.4,
            "bin_end": 42,
            "count": 0
           },
           {
            "bin_start": 42,
            "bin_end": 42.6,
            "count": 0
           },
           {
            "bin_start": 42.6,
            "bin_end": 43.2,
            "count": 0
           },
           {
            "bin_start": 43.2,
            "bin_end": 43.8,
            "count": 0
           },
           {
            "bin_start": 43.8,
            "bin_end": 44.4,
            "count": 1
           },
           {
            "bin_start": 44.4,
            "bin_end": 45,
            "count": 2
           }
          ]
         }
        },
        {
         "name": "pokedex",
         "dtype": "object",
         "stats": {
          "unique_count": 2,
          "nan_count": 0,
          "categories": [
           {
            "name": "yes",
            "count": 2
           },
           {
            "name": "no",
            "count": 2
           }
          ]
         }
        },
        {
         "name": "_deepnote_index_column",
         "dtype": "int64"
        }
       ],
       "rows_top": [
        {
         "name": "Bulbasaur",
         "evolution": "Ivysaur",
         "type": "grass",
         "hp": 45,
         "pokedex": "yes",
         "_deepnote_index_column": 0
        },
        {
         "name": "Charmander",
         "evolution": "Charmeleon",
         "type": "fire",
         "hp": 39,
         "pokedex": "no",
         "_deepnote_index_column": 1
        },
        {
         "name": "Squirtle",
         "evolution": "Wartortle",
         "type": "water",
         "hp": 44,
         "pokedex": "yes",
         "_deepnote_index_column": 2
        },
        {
         "name": "Caterpie",
         "evolution": "Metapod",
         "type": "bug",
         "hp": 45,
         "pokedex": "no",
         "_deepnote_index_column": 3
        }
       ],
       "rows_bottom": null
      },
      "text/plain": "         name   evolution   type  hp pokedex\n0   Bulbasaur     Ivysaur  grass  45     yes\n1  Charmander  Charmeleon   fire  39      no\n2    Squirtle   Wartortle  water  44     yes\n3    Caterpie     Metapod    bug  45      no",
      "text/html": "<div>\n<style scoped>\n    .dataframe tbody tr th:only-of-type {\n        vertical-align: middle;\n    }\n\n    .dataframe tbody tr th {\n        vertical-align: top;\n    }\n\n    .dataframe thead th {\n        text-align: right;\n    }\n</style>\n<table border=\"1\" class=\"dataframe\">\n  <thead>\n    <tr style=\"text-align: right;\">\n      <th></th>\n      <th>name</th>\n      <th>evolution</th>\n      <th>type</th>\n      <th>hp</th>\n      <th>pokedex</th>\n    </tr>\n  </thead>\n  <tbody>\n    <tr>\n      <th>0</th>\n      <td>Bulbasaur</td>\n      <td>Ivysaur</td>\n      <td>grass</td>\n      <td>45</td>\n      <td>yes</td>\n    </tr>\n    <tr>\n      <th>1</th>\n      <td>Charmander</td>\n      <td>Charmeleon</td>\n      <td>fire</td>\n      <td>39</td>\n      <td>no</td>\n    </tr>\n    <tr>\n      <th>2</th>\n      <td>Squirtle</td>\n      <td>Wartortle</td>\n      <td>water</td>\n      <td>44</td>\n      <td>yes</td>\n    </tr>\n    <tr>\n      <th>3</th>\n      <td>Caterpie</td>\n      <td>Metapod</td>\n      <td>bug</td>\n      <td>45</td>\n      <td>no</td>\n    </tr>\n  </tbody>\n</table>\n</div>"
     },
     "metadata": {}
    }
   ]
  },
  {
   "cell_type": "markdown",
   "source": "### Step 4. Ops...it seems the DataFrame columns are in alphabetical order. Place  the order of the columns as name, type, hp, evolution, pokedex",
   "metadata": {
    "id": "6cTsOtyDqA4-",
    "cell_id": "00007-96bc680d-8b6d-4782-8827-868fb2187a50",
    "deepnote_cell_type": "markdown"
   }
  },
  {
   "cell_type": "code",
   "metadata": {
    "colab": {
     "base_uri": "https://localhost:8080/",
     "height": 168
    },
    "id": "kmW7oJwvqA4-",
    "executionInfo": {
     "status": "ok",
     "timestamp": 1624247897488,
     "user_tz": 240,
     "elapsed": 14,
     "user": {
      "displayName": "Andrés Sánchez",
      "photoUrl": "https://lh3.googleusercontent.com/a-/AOh14Gg69bZMv30ckb-T1MJy0nSxWIHUaP0p2uP6MYBuvQ=s64",
      "userId": "07985253921366566280"
     }
    },
    "outputId": "5e8d8432-f15c-49f5-a93e-26a925f09edb",
    "cell_id": "00008-cb0d8c70-3978-4c45-85a0-5f5062d0052a",
    "deepnote_to_be_reexecuted": false,
    "source_hash": "f8d88fd8",
    "execution_start": 1630098432858,
    "execution_millis": 5,
    "deepnote_cell_type": "code"
   },
   "source": "pokemon = pokemon[['name','type','hp','evolution','pokedex']]\npokemon",
   "execution_count": 4,
   "outputs": [
    {
     "output_type": "execute_result",
     "execution_count": 4,
     "data": {
      "application/vnd.deepnote.dataframe.v2+json": {
       "row_count": 4,
       "column_count": 5,
       "columns": [
        {
         "name": "name",
         "dtype": "object",
         "stats": {
          "unique_count": 4,
          "nan_count": 0,
          "categories": [
           {
            "name": "Bulbasaur",
            "count": 1
           },
           {
            "name": "Charmander",
            "count": 1
           },
           {
            "name": "2 others",
            "count": 2
           }
          ]
         }
        },
        {
         "name": "type",
         "dtype": "object",
         "stats": {
          "unique_count": 4,
          "nan_count": 0,
          "categories": [
           {
            "name": "grass",
            "count": 1
           },
           {
            "name": "fire",
            "count": 1
           },
           {
            "name": "2 others",
            "count": 2
           }
          ]
         }
        },
        {
         "name": "hp",
         "dtype": "int64",
         "stats": {
          "unique_count": 3,
          "nan_count": 0,
          "min": "39",
          "max": "45",
          "histogram": [
           {
            "bin_start": 39,
            "bin_end": 39.6,
            "count": 1
           },
           {
            "bin_start": 39.6,
            "bin_end": 40.2,
            "count": 0
           },
           {
            "bin_start": 40.2,
            "bin_end": 40.8,
            "count": 0
           },
           {
            "bin_start": 40.8,
            "bin_end": 41.4,
            "count": 0
           },
           {
            "bin_start": 41.4,
            "bin_end": 42,
            "count": 0
           },
           {
            "bin_start": 42,
            "bin_end": 42.6,
            "count": 0
           },
           {
            "bin_start": 42.6,
            "bin_end": 43.2,
            "count": 0
           },
           {
            "bin_start": 43.2,
            "bin_end": 43.8,
            "count": 0
           },
           {
            "bin_start": 43.8,
            "bin_end": 44.4,
            "count": 1
           },
           {
            "bin_start": 44.4,
            "bin_end": 45,
            "count": 2
           }
          ]
         }
        },
        {
         "name": "evolution",
         "dtype": "object",
         "stats": {
          "unique_count": 4,
          "nan_count": 0,
          "categories": [
           {
            "name": "Ivysaur",
            "count": 1
           },
           {
            "name": "Charmeleon",
            "count": 1
           },
           {
            "name": "2 others",
            "count": 2
           }
          ]
         }
        },
        {
         "name": "pokedex",
         "dtype": "object",
         "stats": {
          "unique_count": 2,
          "nan_count": 0,
          "categories": [
           {
            "name": "yes",
            "count": 2
           },
           {
            "name": "no",
            "count": 2
           }
          ]
         }
        },
        {
         "name": "_deepnote_index_column",
         "dtype": "int64"
        }
       ],
       "rows_top": [
        {
         "name": "Bulbasaur",
         "type": "grass",
         "hp": 45,
         "evolution": "Ivysaur",
         "pokedex": "yes",
         "_deepnote_index_column": 0
        },
        {
         "name": "Charmander",
         "type": "fire",
         "hp": 39,
         "evolution": "Charmeleon",
         "pokedex": "no",
         "_deepnote_index_column": 1
        },
        {
         "name": "Squirtle",
         "type": "water",
         "hp": 44,
         "evolution": "Wartortle",
         "pokedex": "yes",
         "_deepnote_index_column": 2
        },
        {
         "name": "Caterpie",
         "type": "bug",
         "hp": 45,
         "evolution": "Metapod",
         "pokedex": "no",
         "_deepnote_index_column": 3
        }
       ],
       "rows_bottom": null
      },
      "text/plain": "         name   type  hp   evolution pokedex\n0   Bulbasaur  grass  45     Ivysaur     yes\n1  Charmander   fire  39  Charmeleon      no\n2    Squirtle  water  44   Wartortle     yes\n3    Caterpie    bug  45     Metapod      no",
      "text/html": "<div>\n<style scoped>\n    .dataframe tbody tr th:only-of-type {\n        vertical-align: middle;\n    }\n\n    .dataframe tbody tr th {\n        vertical-align: top;\n    }\n\n    .dataframe thead th {\n        text-align: right;\n    }\n</style>\n<table border=\"1\" class=\"dataframe\">\n  <thead>\n    <tr style=\"text-align: right;\">\n      <th></th>\n      <th>name</th>\n      <th>type</th>\n      <th>hp</th>\n      <th>evolution</th>\n      <th>pokedex</th>\n    </tr>\n  </thead>\n  <tbody>\n    <tr>\n      <th>0</th>\n      <td>Bulbasaur</td>\n      <td>grass</td>\n      <td>45</td>\n      <td>Ivysaur</td>\n      <td>yes</td>\n    </tr>\n    <tr>\n      <th>1</th>\n      <td>Charmander</td>\n      <td>fire</td>\n      <td>39</td>\n      <td>Charmeleon</td>\n      <td>no</td>\n    </tr>\n    <tr>\n      <th>2</th>\n      <td>Squirtle</td>\n      <td>water</td>\n      <td>44</td>\n      <td>Wartortle</td>\n      <td>yes</td>\n    </tr>\n    <tr>\n      <th>3</th>\n      <td>Caterpie</td>\n      <td>bug</td>\n      <td>45</td>\n      <td>Metapod</td>\n      <td>no</td>\n    </tr>\n  </tbody>\n</table>\n</div>"
     },
     "metadata": {}
    }
   ]
  },
  {
   "cell_type": "markdown",
   "source": "### Step 5. Add another column called place, and insert what you have in mind.",
   "metadata": {
    "id": "o_BEAAICqA4-",
    "cell_id": "00009-b2dae8ec-e3c8-402f-b706-7ab96f51d6e3",
    "deepnote_cell_type": "markdown"
   }
  },
  {
   "cell_type": "code",
   "metadata": {
    "colab": {
     "base_uri": "https://localhost:8080/",
     "height": 168
    },
    "id": "HanpC-_qqA4_",
    "executionInfo": {
     "status": "ok",
     "timestamp": 1624247897488,
     "user_tz": 240,
     "elapsed": 12,
     "user": {
      "displayName": "Andrés Sánchez",
      "photoUrl": "https://lh3.googleusercontent.com/a-/AOh14Gg69bZMv30ckb-T1MJy0nSxWIHUaP0p2uP6MYBuvQ=s64",
      "userId": "07985253921366566280"
     }
    },
    "outputId": "9768a1ad-6fb9-4fae-b98b-708c2549b61f",
    "cell_id": "00010-0ea5ea21-b2ca-40ba-ad83-669bd23795b2",
    "deepnote_to_be_reexecuted": false,
    "source_hash": "10a2bffb",
    "execution_start": 1630098432859,
    "execution_millis": 29,
    "deepnote_cell_type": "code"
   },
   "source": "pokemon['place'] = ['Palet Town','My house','Someplace','¿The Sea?']\npokemon",
   "execution_count": 5,
   "outputs": [
    {
     "output_type": "execute_result",
     "execution_count": 5,
     "data": {
      "application/vnd.deepnote.dataframe.v2+json": {
       "row_count": 4,
       "column_count": 6,
       "columns": [
        {
         "name": "name",
         "dtype": "object",
         "stats": {
          "unique_count": 4,
          "nan_count": 0,
          "categories": [
           {
            "name": "Bulbasaur",
            "count": 1
           },
           {
            "name": "Charmander",
            "count": 1
           },
           {
            "name": "2 others",
            "count": 2
           }
          ]
         }
        },
        {
         "name": "type",
         "dtype": "object",
         "stats": {
          "unique_count": 4,
          "nan_count": 0,
          "categories": [
           {
            "name": "grass",
            "count": 1
           },
           {
            "name": "fire",
            "count": 1
           },
           {
            "name": "2 others",
            "count": 2
           }
          ]
         }
        },
        {
         "name": "hp",
         "dtype": "int64",
         "stats": {
          "unique_count": 3,
          "nan_count": 0,
          "min": "39",
          "max": "45",
          "histogram": [
           {
            "bin_start": 39,
            "bin_end": 39.6,
            "count": 1
           },
           {
            "bin_start": 39.6,
            "bin_end": 40.2,
            "count": 0
           },
           {
            "bin_start": 40.2,
            "bin_end": 40.8,
            "count": 0
           },
           {
            "bin_start": 40.8,
            "bin_end": 41.4,
            "count": 0
           },
           {
            "bin_start": 41.4,
            "bin_end": 42,
            "count": 0
           },
           {
            "bin_start": 42,
            "bin_end": 42.6,
            "count": 0
           },
           {
            "bin_start": 42.6,
            "bin_end": 43.2,
            "count": 0
           },
           {
            "bin_start": 43.2,
            "bin_end": 43.8,
            "count": 0
           },
           {
            "bin_start": 43.8,
            "bin_end": 44.4,
            "count": 1
           },
           {
            "bin_start": 44.4,
            "bin_end": 45,
            "count": 2
           }
          ]
         }
        },
        {
         "name": "evolution",
         "dtype": "object",
         "stats": {
          "unique_count": 4,
          "nan_count": 0,
          "categories": [
           {
            "name": "Ivysaur",
            "count": 1
           },
           {
            "name": "Charmeleon",
            "count": 1
           },
           {
            "name": "2 others",
            "count": 2
           }
          ]
         }
        },
        {
         "name": "pokedex",
         "dtype": "object",
         "stats": {
          "unique_count": 2,
          "nan_count": 0,
          "categories": [
           {
            "name": "yes",
            "count": 2
           },
           {
            "name": "no",
            "count": 2
           }
          ]
         }
        },
        {
         "name": "place",
         "dtype": "object",
         "stats": {
          "unique_count": 4,
          "nan_count": 0,
          "categories": [
           {
            "name": "Palet Town",
            "count": 1
           },
           {
            "name": "My house",
            "count": 1
           },
           {
            "name": "2 others",
            "count": 2
           }
          ]
         }
        },
        {
         "name": "_deepnote_index_column",
         "dtype": "int64"
        }
       ],
       "rows_top": [
        {
         "name": "Bulbasaur",
         "type": "grass",
         "hp": 45,
         "evolution": "Ivysaur",
         "pokedex": "yes",
         "place": "Palet Town",
         "_deepnote_index_column": 0
        },
        {
         "name": "Charmander",
         "type": "fire",
         "hp": 39,
         "evolution": "Charmeleon",
         "pokedex": "no",
         "place": "My house",
         "_deepnote_index_column": 1
        },
        {
         "name": "Squirtle",
         "type": "water",
         "hp": 44,
         "evolution": "Wartortle",
         "pokedex": "yes",
         "place": "Someplace",
         "_deepnote_index_column": 2
        },
        {
         "name": "Caterpie",
         "type": "bug",
         "hp": 45,
         "evolution": "Metapod",
         "pokedex": "no",
         "place": "¿The Sea?",
         "_deepnote_index_column": 3
        }
       ],
       "rows_bottom": null
      },
      "text/plain": "         name   type  hp   evolution pokedex       place\n0   Bulbasaur  grass  45     Ivysaur     yes  Palet Town\n1  Charmander   fire  39  Charmeleon      no    My house\n2    Squirtle  water  44   Wartortle     yes   Someplace\n3    Caterpie    bug  45     Metapod      no   ¿The Sea?",
      "text/html": "<div>\n<style scoped>\n    .dataframe tbody tr th:only-of-type {\n        vertical-align: middle;\n    }\n\n    .dataframe tbody tr th {\n        vertical-align: top;\n    }\n\n    .dataframe thead th {\n        text-align: right;\n    }\n</style>\n<table border=\"1\" class=\"dataframe\">\n  <thead>\n    <tr style=\"text-align: right;\">\n      <th></th>\n      <th>name</th>\n      <th>type</th>\n      <th>hp</th>\n      <th>evolution</th>\n      <th>pokedex</th>\n      <th>place</th>\n    </tr>\n  </thead>\n  <tbody>\n    <tr>\n      <th>0</th>\n      <td>Bulbasaur</td>\n      <td>grass</td>\n      <td>45</td>\n      <td>Ivysaur</td>\n      <td>yes</td>\n      <td>Palet Town</td>\n    </tr>\n    <tr>\n      <th>1</th>\n      <td>Charmander</td>\n      <td>fire</td>\n      <td>39</td>\n      <td>Charmeleon</td>\n      <td>no</td>\n      <td>My house</td>\n    </tr>\n    <tr>\n      <th>2</th>\n      <td>Squirtle</td>\n      <td>water</td>\n      <td>44</td>\n      <td>Wartortle</td>\n      <td>yes</td>\n      <td>Someplace</td>\n    </tr>\n    <tr>\n      <th>3</th>\n      <td>Caterpie</td>\n      <td>bug</td>\n      <td>45</td>\n      <td>Metapod</td>\n      <td>no</td>\n      <td>¿The Sea?</td>\n    </tr>\n  </tbody>\n</table>\n</div>"
     },
     "metadata": {}
    }
   ]
  },
  {
   "cell_type": "markdown",
   "source": "### Step 6. Present the type of each column",
   "metadata": {
    "id": "dIzKv_BPqA4_",
    "cell_id": "00011-73e9f2b8-f223-4fcb-9d06-454c96fd3855",
    "deepnote_cell_type": "markdown"
   }
  },
  {
   "cell_type": "code",
   "metadata": {
    "colab": {
     "base_uri": "https://localhost:8080/"
    },
    "id": "ARUIpYTwqA4_",
    "executionInfo": {
     "status": "ok",
     "timestamp": 1624247897726,
     "user_tz": 240,
     "elapsed": 248,
     "user": {
      "displayName": "Andrés Sánchez",
      "photoUrl": "https://lh3.googleusercontent.com/a-/AOh14Gg69bZMv30ckb-T1MJy0nSxWIHUaP0p2uP6MYBuvQ=s64",
      "userId": "07985253921366566280"
     }
    },
    "outputId": "3e2c79bc-0f84-49d4-836f-7ddbad239366",
    "cell_id": "00012-a0b0d5a2-0884-4e46-8bfa-352c45af6cee",
    "deepnote_to_be_reexecuted": false,
    "source_hash": "ea89094",
    "execution_start": 1630098432882,
    "execution_millis": 8,
    "deepnote_cell_type": "code"
   },
   "source": "pokemon.dtypes",
   "execution_count": 6,
   "outputs": [
    {
     "output_type": "execute_result",
     "execution_count": 6,
     "data": {
      "text/plain": "name         object\ntype         object\nhp            int64\nevolution    object\npokedex      object\nplace        object\ndtype: object"
     },
     "metadata": {}
    }
   ]
  },
  {
   "cell_type": "markdown",
   "source": "<a style='text-decoration:none;line-height:16px;display:flex;color:#5B5B62;padding:10px;justify-content:end;' href='https://deepnote.com?utm_source=created-in-deepnote-cell&projectId=fe744348-fecc-4b7a-803c-44dba24ecb38' target=\"_blank\">\n<img alt='Created in deepnote.com' style='display:inline;max-height:16px;margin:0px;margin-right:7.5px;' src='data:image/svg+xml;base64,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' > </img>\nCreated in <span style='font-weight:600;margin-left:4px;'>Deepnote</span></a>",
   "metadata": {
    "tags": [],
    "created_in_deepnote_cell": true,
    "deepnote_cell_type": "markdown"
   }
  }
 ],
 "nbformat": 4,
 "nbformat_minor": 0,
 "metadata": {
  "kernelspec": {
   "display_name": "Python 2",
   "language": "python",
   "name": "python2"
  },
  "language_info": {
   "codemirror_mode": {
    "name": "ipython",
    "version": 2
   },
   "file_extension": ".py",
   "mimetype": "text/x-python",
   "name": "python",
   "nbconvert_exporter": "python",
   "pygments_lexer": "ipython2",
   "version": "2.7.11"
  },
  "colab": {
   "name": "Exercises.ipynb",
   "provenance": [],
   "collapsed_sections": []
  },
  "deepnote_notebook_id": "cb47e31a-a5fb-40c7-a809-b1df00539902",
  "deepnote": {},
  "deepnote_execution_queue": []
 }
}
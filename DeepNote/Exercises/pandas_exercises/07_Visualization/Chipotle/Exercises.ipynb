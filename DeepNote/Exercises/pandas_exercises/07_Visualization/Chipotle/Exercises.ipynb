{
 "cells": [
  {
   "cell_type": "markdown",
   "source": "# Visualizing Chipotle's Data",
   "metadata": {
    "id": "bBjFNDpE26Iz",
    "cell_id": "00000-d013133b-63a4-493e-a617-593a2fd1ed6d",
    "deepnote_cell_type": "markdown"
   }
  },
  {
   "cell_type": "markdown",
   "source": "This time we are going to pull data directly from the internet.\nSpecial thanks to: https://github.com/justmarkham for sharing the dataset and materials.\n\n### Step 1. Import the necessary libraries",
   "metadata": {
    "id": "IJ51x_U126I2",
    "cell_id": "00001-e144b4e4-fb6c-4ccf-9d6d-36efcf059d21",
    "deepnote_cell_type": "markdown"
   }
  },
  {
   "cell_type": "code",
   "metadata": {
    "id": "Yq-89nfW26I3",
    "executionInfo": {
     "status": "ok",
     "timestamp": 1624138038876,
     "user_tz": 240,
     "elapsed": 158,
     "user": {
      "displayName": "Andrés Sánchez",
      "photoUrl": "https://lh3.googleusercontent.com/a-/AOh14Gg69bZMv30ckb-T1MJy0nSxWIHUaP0p2uP6MYBuvQ=s64",
      "userId": "07985253921366566280"
     }
    },
    "cell_id": "00002-68e1ca4a-b0f0-47be-a743-54f4a8cd348b",
    "deepnote_to_be_reexecuted": false,
    "source_hash": "3ce55727",
    "execution_start": 1630098294162,
    "execution_millis": 810,
    "deepnote_cell_type": "code"
   },
   "source": "import pandas as pd\nimport matplotlib.pyplot as plt\nfrom matplotlib.pyplot import figure\nfrom collections import Counter\n\n# set this so the graphs open internally\n%matplotlib inline",
   "execution_count": 1,
   "outputs": []
  },
  {
   "cell_type": "code",
   "metadata": {
    "id": "1OPsUPABAmlS",
    "executionInfo": {
     "status": "ok",
     "timestamp": 1624138039443,
     "user_tz": 240,
     "elapsed": 5,
     "user": {
      "displayName": "Andrés Sánchez",
      "photoUrl": "https://lh3.googleusercontent.com/a-/AOh14Gg69bZMv30ckb-T1MJy0nSxWIHUaP0p2uP6MYBuvQ=s64",
      "userId": "07985253921366566280"
     }
    },
    "cell_id": "00003-adf51c1b-850a-4e3b-92ef-1763de423f3c",
    "deepnote_to_be_reexecuted": false,
    "source_hash": "81c0e718",
    "execution_start": 1630098294978,
    "execution_millis": 3,
    "deepnote_cell_type": "code"
   },
   "source": "pd.options.display.float_format = '{:,.2f}'.format",
   "execution_count": 2,
   "outputs": []
  },
  {
   "cell_type": "markdown",
   "source": "### Step 2. Import the dataset from this [address](https://raw.githubusercontent.com/justmarkham/DAT8/master/data/chipotle.tsv). ",
   "metadata": {
    "id": "51HnrlMD26I3",
    "cell_id": "00004-d5a85736-332d-4464-8788-ddfd86ce0cb5",
    "deepnote_cell_type": "markdown"
   }
  },
  {
   "cell_type": "markdown",
   "source": "### Step 3. Assign it to a variable called chipo.",
   "metadata": {
    "id": "i4EsXQYH26I4",
    "cell_id": "00005-59b61f6e-f142-48b8-8a73-b716c6cd129b",
    "deepnote_cell_type": "markdown"
   }
  },
  {
   "cell_type": "markdown",
   "source": "",
   "metadata": {
    "id": "lfTNdvRALEDZ",
    "cell_id": "00006-6182d701-831f-41ce-9113-2c358a2d1cd4",
    "deepnote_cell_type": "markdown"
   }
  },
  {
   "cell_type": "code",
   "metadata": {
    "colab": {
     "base_uri": "https://localhost:8080/",
     "height": 407
    },
    "id": "EUGEMsdT26I4",
    "executionInfo": {
     "status": "ok",
     "timestamp": 1624138039631,
     "user_tz": 240,
     "elapsed": 192,
     "user": {
      "displayName": "Andrés Sánchez",
      "photoUrl": "https://lh3.googleusercontent.com/a-/AOh14Gg69bZMv30ckb-T1MJy0nSxWIHUaP0p2uP6MYBuvQ=s64",
      "userId": "07985253921366566280"
     }
    },
    "outputId": "6eac9613-37ca-4eae-e960-8ec848e2c588",
    "cell_id": "00007-3365b1e1-cc09-437f-9cf8-9b07beb117d9",
    "deepnote_to_be_reexecuted": false,
    "source_hash": "64e07d34",
    "execution_start": 1630098294986,
    "execution_millis": 164,
    "deepnote_cell_type": "code"
   },
   "source": "chipo = pd.read_csv('https://raw.githubusercontent.com/justmarkham/DAT8/master/data/chipotle.tsv', sep = '\\t')\nchipo",
   "execution_count": 3,
   "outputs": [
    {
     "output_type": "execute_result",
     "execution_count": 3,
     "data": {
      "application/vnd.deepnote.dataframe.v2+json": {
       "row_count": 4622,
       "column_count": 5,
       "columns": [
        {
         "name": "order_id",
         "dtype": "int64",
         "stats": {
          "unique_count": 1834,
          "nan_count": 0,
          "min": "1",
          "max": "1834",
          "histogram": [
           {
            "bin_start": 1,
            "bin_end": 184.3,
            "count": 426
           },
           {
            "bin_start": 184.3,
            "bin_end": 367.6,
            "count": 464
           },
           {
            "bin_start": 367.6,
            "bin_end": 550.9000000000001,
            "count": 459
           },
           {
            "bin_start": 550.9000000000001,
            "bin_end": 734.2,
            "count": 468
           },
           {
            "bin_start": 734.2,
            "bin_end": 917.5,
            "count": 469
           },
           {
            "bin_start": 917.5,
            "bin_end": 1100.8000000000002,
            "count": 486
           },
           {
            "bin_start": 1100.8000000000002,
            "bin_end": 1284.1000000000001,
            "count": 441
           },
           {
            "bin_start": 1284.1000000000001,
            "bin_end": 1467.4,
            "count": 455
           },
           {
            "bin_start": 1467.4,
            "bin_end": 1650.7,
            "count": 453
           },
           {
            "bin_start": 1650.7,
            "bin_end": 1834,
            "count": 501
           }
          ]
         }
        },
        {
         "name": "quantity",
         "dtype": "int64",
         "stats": {
          "unique_count": 9,
          "nan_count": 0,
          "min": "1",
          "max": "15",
          "histogram": [
           {
            "bin_start": 1,
            "bin_end": 2.4,
            "count": 4579
           },
           {
            "bin_start": 2.4,
            "bin_end": 3.8,
            "count": 28
           },
           {
            "bin_start": 3.8,
            "bin_end": 5.199999999999999,
            "count": 11
           },
           {
            "bin_start": 5.199999999999999,
            "bin_end": 6.6,
            "count": 0
           },
           {
            "bin_start": 6.6,
            "bin_end": 8,
            "count": 1
           },
           {
            "bin_start": 8,
            "bin_end": 9.399999999999999,
            "count": 1
           },
           {
            "bin_start": 9.399999999999999,
            "bin_end": 10.799999999999999,
            "count": 1
           },
           {
            "bin_start": 10.799999999999999,
            "bin_end": 12.2,
            "count": 0
           },
           {
            "bin_start": 12.2,
            "bin_end": 13.6,
            "count": 0
           },
           {
            "bin_start": 13.6,
            "bin_end": 15,
            "count": 1
           }
          ]
         }
        },
        {
         "name": "item_name",
         "dtype": "object",
         "stats": {
          "unique_count": 50,
          "nan_count": 0,
          "categories": [
           {
            "name": "Chicken Bowl",
            "count": 726
           },
           {
            "name": "Chicken Burrito",
            "count": 553
           },
           {
            "name": "48 others",
            "count": 3343
           }
          ]
         }
        },
        {
         "name": "choice_description",
         "dtype": "object",
         "stats": {
          "unique_count": 1043,
          "nan_count": 1246,
          "categories": [
           {
            "name": "[Diet Coke]",
            "count": 134
           },
           {
            "name": "1042 others",
            "count": 3242
           },
           {
            "name": "Missing",
            "count": 1246
           }
          ]
         }
        },
        {
         "name": "item_price",
         "dtype": "object",
         "stats": {
          "unique_count": 78,
          "nan_count": 0,
          "categories": [
           {
            "name": "$8.75 ",
            "count": 730
           },
           {
            "name": "$11.25 ",
            "count": 521
           },
           {
            "name": "76 others",
            "count": 3371
           }
          ]
         }
        },
        {
         "name": "_deepnote_index_column",
         "dtype": "int64"
        }
       ],
       "rows_top": [
        {
         "order_id": 1,
         "quantity": 1,
         "item_name": "Chips and Fresh Tomato Salsa",
         "choice_description": "nan",
         "item_price": "$2.39 ",
         "_deepnote_index_column": 0
        },
        {
         "order_id": 1,
         "quantity": 1,
         "item_name": "Izze",
         "choice_description": "[Clementine]",
         "item_price": "$3.39 ",
         "_deepnote_index_column": 1
        },
        {
         "order_id": 1,
         "quantity": 1,
         "item_name": "Nantucket Nectar",
         "choice_description": "[Apple]",
         "item_price": "$3.39 ",
         "_deepnote_index_column": 2
        },
        {
         "order_id": 1,
         "quantity": 1,
         "item_name": "Chips and Tomatillo-Green Chili Salsa",
         "choice_description": "nan",
         "item_price": "$2.39 ",
         "_deepnote_index_column": 3
        },
        {
         "order_id": 2,
         "quantity": 2,
         "item_name": "Chicken Bowl",
         "choice_description": "[Tomatillo-Red Chili Salsa (Hot), [Black Beans, Rice, Cheese, Sour Cream]]",
         "item_price": "$16.98 ",
         "_deepnote_index_column": 4
        },
        {
         "order_id": 3,
         "quantity": 1,
         "item_name": "Chicken Bowl",
         "choice_description": "[Fresh Tomato Salsa (Mild), [Rice, Cheese, Sour Cream, Guacamole, Lettuce]]",
         "item_price": "$10.98 ",
         "_deepnote_index_column": 5
        },
        {
         "order_id": 3,
         "quantity": 1,
         "item_name": "Side of Chips",
         "choice_description": "nan",
         "item_price": "$1.69 ",
         "_deepnote_index_column": 6
        },
        {
         "order_id": 4,
         "quantity": 1,
         "item_name": "Steak Burrito",
         "choice_description": "[Tomatillo Red Chili Salsa, [Fajita Vegetables, Black Beans, Pinto Beans, Cheese, Sour Cream, Guaca…",
         "item_price": "$11.75 ",
         "_deepnote_index_column": 7
        },
        {
         "order_id": 4,
         "quantity": 1,
         "item_name": "Steak Soft Tacos",
         "choice_description": "[Tomatillo Green Chili Salsa, [Pinto Beans, Cheese, Sour Cream, Lettuce]]",
         "item_price": "$9.25 ",
         "_deepnote_index_column": 8
        },
        {
         "order_id": 5,
         "quantity": 1,
         "item_name": "Steak Burrito",
         "choice_description": "[Fresh Tomato Salsa, [Rice, Black Beans, Pinto Beans, Cheese, Sour Cream, Lettuce]]",
         "item_price": "$9.25 ",
         "_deepnote_index_column": 9
        },
        {
         "order_id": 5,
         "quantity": 1,
         "item_name": "Chips and Guacamole",
         "choice_description": "nan",
         "item_price": "$4.45 ",
         "_deepnote_index_column": 10
        },
        {
         "order_id": 6,
         "quantity": 1,
         "item_name": "Chicken Crispy Tacos",
         "choice_description": "[Roasted Chili Corn Salsa, [Fajita Vegetables, Rice, Black Beans, Cheese, Sour Cream]]",
         "item_price": "$8.75 ",
         "_deepnote_index_column": 11
        },
        {
         "order_id": 6,
         "quantity": 1,
         "item_name": "Chicken Soft Tacos",
         "choice_description": "[Roasted Chili Corn Salsa, [Rice, Black Beans, Cheese, Sour Cream]]",
         "item_price": "$8.75 ",
         "_deepnote_index_column": 12
        },
        {
         "order_id": 7,
         "quantity": 1,
         "item_name": "Chicken Bowl",
         "choice_description": "[Fresh Tomato Salsa, [Fajita Vegetables, Rice, Cheese, Sour Cream, Guacamole]]",
         "item_price": "$11.25 ",
         "_deepnote_index_column": 13
        },
        {
         "order_id": 7,
         "quantity": 1,
         "item_name": "Chips and Guacamole",
         "choice_description": "nan",
         "item_price": "$4.45 ",
         "_deepnote_index_column": 14
        },
        {
         "order_id": 8,
         "quantity": 1,
         "item_name": "Chips and Tomatillo-Green Chili Salsa",
         "choice_description": "nan",
         "item_price": "$2.39 ",
         "_deepnote_index_column": 15
        },
        {
         "order_id": 8,
         "quantity": 1,
         "item_name": "Chicken Burrito",
         "choice_description": "[Tomatillo-Green Chili Salsa (Medium), [Pinto Beans, Cheese, Sour Cream]]",
         "item_price": "$8.49 ",
         "_deepnote_index_column": 16
        },
        {
         "order_id": 9,
         "quantity": 1,
         "item_name": "Chicken Burrito",
         "choice_description": "[Fresh Tomato Salsa (Mild), [Black Beans, Rice, Cheese, Sour Cream, Lettuce]]",
         "item_price": "$8.49 ",
         "_deepnote_index_column": 17
        },
        {
         "order_id": 9,
         "quantity": 2,
         "item_name": "Canned Soda",
         "choice_description": "[Sprite]",
         "item_price": "$2.18 ",
         "_deepnote_index_column": 18
        },
        {
         "order_id": 10,
         "quantity": 1,
         "item_name": "Chicken Bowl",
         "choice_description": "[Tomatillo Red Chili Salsa, [Fajita Vegetables, Black Beans, Sour Cream, Cheese, Lettuce]]",
         "item_price": "$8.75 ",
         "_deepnote_index_column": 19
        },
        {
         "order_id": 10,
         "quantity": 1,
         "item_name": "Chips and Guacamole",
         "choice_description": "nan",
         "item_price": "$4.45 ",
         "_deepnote_index_column": 20
        },
        {
         "order_id": 11,
         "quantity": 1,
         "item_name": "Barbacoa Burrito",
         "choice_description": "[[Fresh Tomato Salsa (Mild), Tomatillo-Green Chili Salsa (Medium), Tomatillo-Red Chili Salsa (Hot)]…",
         "item_price": "$8.99 ",
         "_deepnote_index_column": 21
        },
        {
         "order_id": 11,
         "quantity": 1,
         "item_name": "Nantucket Nectar",
         "choice_description": "[Pomegranate Cherry]",
         "item_price": "$3.39 ",
         "_deepnote_index_column": 22
        },
        {
         "order_id": 12,
         "quantity": 1,
         "item_name": "Chicken Burrito",
         "choice_description": "[[Tomatillo-Green Chili Salsa (Medium), Tomatillo-Red Chili Salsa (Hot)], [Pinto Beans, Rice, Chees…",
         "item_price": "$10.98 ",
         "_deepnote_index_column": 23
        },
        {
         "order_id": 12,
         "quantity": 1,
         "item_name": "Izze",
         "choice_description": "[Grapefruit]",
         "item_price": "$3.39 ",
         "_deepnote_index_column": 24
        },
        {
         "order_id": 13,
         "quantity": 1,
         "item_name": "Chips and Fresh Tomato Salsa",
         "choice_description": "nan",
         "item_price": "$2.39 ",
         "_deepnote_index_column": 25
        },
        {
         "order_id": 13,
         "quantity": 1,
         "item_name": "Chicken Bowl",
         "choice_description": "[Roasted Chili Corn Salsa (Medium), [Pinto Beans, Rice, Fajita Veggies, Cheese, Sour Cream, Lettuce…",
         "item_price": "$8.49 ",
         "_deepnote_index_column": 26
        },
        {
         "order_id": 14,
         "quantity": 1,
         "item_name": "Carnitas Burrito",
         "choice_description": "[[Tomatillo-Green Chili Salsa (Medium), Roasted Chili Corn Salsa (Medium)], [Black Beans, Rice, Sou…",
         "item_price": "$8.99 ",
         "_deepnote_index_column": 27
        },
        {
         "order_id": 14,
         "quantity": 1,
         "item_name": "Canned Soda",
         "choice_description": "[Dr. Pepper]",
         "item_price": "$1.09 ",
         "_deepnote_index_column": 28
        },
        {
         "order_id": 15,
         "quantity": 1,
         "item_name": "Chicken Burrito",
         "choice_description": "[Tomatillo-Green Chili Salsa (Medium), [Pinto Beans, Rice, Cheese, Sour Cream]]",
         "item_price": "$8.49 ",
         "_deepnote_index_column": 29
        },
        {
         "order_id": 15,
         "quantity": 1,
         "item_name": "Chips and Tomatillo-Green Chili Salsa",
         "choice_description": "nan",
         "item_price": "$2.39 ",
         "_deepnote_index_column": 30
        },
        {
         "order_id": 16,
         "quantity": 1,
         "item_name": "Steak Burrito",
         "choice_description": "[[Roasted Chili Corn Salsa (Medium), Fresh Tomato Salsa (Mild)], [Rice, Black Beans, Sour Cream]]",
         "item_price": "$8.99 ",
         "_deepnote_index_column": 31
        },
        {
         "order_id": 16,
         "quantity": 1,
         "item_name": "Side of Chips",
         "choice_description": "nan",
         "item_price": "$1.69 ",
         "_deepnote_index_column": 32
        },
        {
         "order_id": 17,
         "quantity": 1,
         "item_name": "Carnitas Bowl",
         "choice_description": "[Tomatillo-Red Chili Salsa (Hot), [Black Beans, Rice, Fajita Veggies, Cheese, Sour Cream, Lettuce]]",
         "item_price": "$8.99 ",
         "_deepnote_index_column": 33
        },
        {
         "order_id": 17,
         "quantity": 1,
         "item_name": "Bottled Water",
         "choice_description": "nan",
         "item_price": "$1.09 ",
         "_deepnote_index_column": 34
        },
        {
         "order_id": 18,
         "quantity": 1,
         "item_name": "Chicken Soft Tacos",
         "choice_description": "[Roasted Chili Corn Salsa, Rice]",
         "item_price": "$8.75 ",
         "_deepnote_index_column": 35
        },
        {
         "order_id": 18,
         "quantity": 1,
         "item_name": "Chicken Soft Tacos",
         "choice_description": "[Roasted Chili Corn Salsa, [Cheese, Lettuce]]",
         "item_price": "$8.75 ",
         "_deepnote_index_column": 36
        },
        {
         "order_id": 18,
         "quantity": 1,
         "item_name": "Chips and Guacamole",
         "choice_description": "nan",
         "item_price": "$4.45 ",
         "_deepnote_index_column": 37
        },
        {
         "order_id": 18,
         "quantity": 1,
         "item_name": "Chips and Tomatillo Green Chili Salsa",
         "choice_description": "nan",
         "item_price": "$2.95 ",
         "_deepnote_index_column": 38
        },
        {
         "order_id": 19,
         "quantity": 1,
         "item_name": "Barbacoa Bowl",
         "choice_description": "[Roasted Chili Corn Salsa, [Fajita Vegetables, Rice, Black Beans, Cheese, Sour Cream, Guacamole, Le…",
         "item_price": "$11.75 ",
         "_deepnote_index_column": 39
        },
        {
         "order_id": 19,
         "quantity": 1,
         "item_name": "Chips",
         "choice_description": "nan",
         "item_price": "$2.15 ",
         "_deepnote_index_column": 40
        },
        {
         "order_id": 20,
         "quantity": 1,
         "item_name": "Chips and Guacamole",
         "choice_description": "nan",
         "item_price": "$4.45 ",
         "_deepnote_index_column": 41
        },
        {
         "order_id": 20,
         "quantity": 1,
         "item_name": "Chicken Bowl",
         "choice_description": "[Roasted Chili Corn Salsa, [Rice, Black Beans, Cheese, Sour Cream, Guacamole, Lettuce]]",
         "item_price": "$11.25 ",
         "_deepnote_index_column": 42
        },
        {
         "order_id": 20,
         "quantity": 1,
         "item_name": "Steak Burrito",
         "choice_description": "[Fresh Tomato Salsa, [Rice, Pinto Beans, Cheese, Sour Cream, Guacamole, Lettuce]]",
         "item_price": "$11.75 ",
         "_deepnote_index_column": 43
        },
        {
         "order_id": 20,
         "quantity": 1,
         "item_name": "Chicken Salad Bowl",
         "choice_description": "[Fresh Tomato Salsa, [Fajita Vegetables, Pinto Beans, Lettuce]]",
         "item_price": "$8.75 ",
         "_deepnote_index_column": 44
        },
        {
         "order_id": 21,
         "quantity": 1,
         "item_name": "Chicken Burrito",
         "choice_description": "[Tomatillo-Red Chili Salsa (Hot), [Black Beans, Fajita Veggies, Cheese, Sour Cream, Guacamole, Lett…",
         "item_price": "$10.98 ",
         "_deepnote_index_column": 45
        },
        {
         "order_id": 21,
         "quantity": 1,
         "item_name": "Steak Burrito",
         "choice_description": "[Tomatillo-Red Chili Salsa (Hot), [Rice, Fajita Veggies, Cheese]]",
         "item_price": "$8.99 ",
         "_deepnote_index_column": 46
        },
        {
         "order_id": 21,
         "quantity": 1,
         "item_name": "Izze",
         "choice_description": "[Blackberry]",
         "item_price": "$3.39 ",
         "_deepnote_index_column": 47
        },
        {
         "order_id": 22,
         "quantity": 1,
         "item_name": "Steak Burrito",
         "choice_description": "[[Fresh Tomato Salsa (Mild), Roasted Chili Corn Salsa (Medium), Tomatillo-Red Chili Salsa (Hot)], […",
         "item_price": "$8.99 ",
         "_deepnote_index_column": 48
        },
        {
         "order_id": 22,
         "quantity": 1,
         "item_name": "Chips and Guacamole",
         "choice_description": "nan",
         "item_price": "$3.99 ",
         "_deepnote_index_column": 49
        },
        {
         "order_id": 23,
         "quantity": 1,
         "item_name": "Steak Burrito",
         "choice_description": "[Roasted Chili Corn Salsa (Medium), [Rice, Fajita Veggies, Cheese, Sour Cream, Lettuce]]",
         "item_price": "$8.99 ",
         "_deepnote_index_column": 50
        },
        {
         "order_id": 23,
         "quantity": 2,
         "item_name": "Canned Soda",
         "choice_description": "[Mountain Dew]",
         "item_price": "$2.18 ",
         "_deepnote_index_column": 51
        },
        {
         "order_id": 24,
         "quantity": 1,
         "item_name": "Chicken Burrito",
         "choice_description": "[Roasted Chili Corn Salsa (Medium), [Black Beans, Rice, Fajita Veggies, Cheese, Sour Cream, Guacamo…",
         "item_price": "$10.98 ",
         "_deepnote_index_column": 52
        },
        {
         "order_id": 24,
         "quantity": 1,
         "item_name": "Canned Soda",
         "choice_description": "[Sprite]",
         "item_price": "$1.09 ",
         "_deepnote_index_column": 53
        },
        {
         "order_id": 25,
         "quantity": 1,
         "item_name": "Steak Bowl",
         "choice_description": "[Fresh Tomato Salsa (Mild), [Black Beans, Rice, Fajita Veggies, Cheese, Sour Cream]]",
         "item_price": "$8.99 ",
         "_deepnote_index_column": 54
        },
        {
         "order_id": 25,
         "quantity": 1,
         "item_name": "Chips and Fresh Tomato Salsa",
         "choice_description": "nan",
         "item_price": "$2.39 ",
         "_deepnote_index_column": 55
        },
        {
         "order_id": 26,
         "quantity": 1,
         "item_name": "Barbacoa Soft Tacos",
         "choice_description": "[Fresh Tomato Salsa, [Fajita Vegetables, Black Beans, Lettuce]]",
         "item_price": "$9.25 ",
         "_deepnote_index_column": 56
        },
        {
         "order_id": 26,
         "quantity": 1,
         "item_name": "Veggie Burrito",
         "choice_description": "[Tomatillo Red Chili Salsa, [Fajita Vegetables, Rice, Black Beans, Cheese, Sour Cream, Guacamole, L…",
         "item_price": "$11.25 ",
         "_deepnote_index_column": 57
        },
        {
         "order_id": 27,
         "quantity": 1,
         "item_name": "Barbacoa Bowl",
         "choice_description": "[Roasted Chili Corn Salsa, [Fajita Vegetables, Rice, Black Beans, Cheese, Sour Cream, Guacamole, Le…",
         "item_price": "$11.75 ",
         "_deepnote_index_column": 58
        },
        {
         "order_id": 27,
         "quantity": 1,
         "item_name": "Chips",
         "choice_description": "nan",
         "item_price": "$2.15 ",
         "_deepnote_index_column": 59
        },
        {
         "order_id": 28,
         "quantity": 1,
         "item_name": "Chips and Guacamole",
         "choice_description": "nan",
         "item_price": "$4.45 ",
         "_deepnote_index_column": 60
        },
        {
         "order_id": 28,
         "quantity": 1,
         "item_name": "Steak Soft Tacos",
         "choice_description": "[Fresh Tomato Salsa, Cheese]",
         "item_price": "$9.25 ",
         "_deepnote_index_column": 61
        },
        {
         "order_id": 28,
         "quantity": 1,
         "item_name": "Veggie Bowl",
         "choice_description": "[Fresh Tomato Salsa, [Fajita Vegetables, Rice, Black Beans, Cheese, Sour Cream, Guacamole, Lettuce]]",
         "item_price": "$11.25 ",
         "_deepnote_index_column": 62
        },
        {
         "order_id": 28,
         "quantity": 1,
         "item_name": "Chicken Burrito",
         "choice_description": "[Fresh Tomato Salsa, [Rice, Black Beans, Cheese]]",
         "item_price": "$8.75 ",
         "_deepnote_index_column": 63
        },
        {
         "order_id": 29,
         "quantity": 1,
         "item_name": "Steak Burrito",
         "choice_description": "[Tomatillo-Red Chili Salsa (Hot), [Black Beans, Rice, Fajita Veggies, Cheese, Sour Cream, Lettuce]]",
         "item_price": "$8.99 ",
         "_deepnote_index_column": 64
        },
        {
         "order_id": 29,
         "quantity": 1,
         "item_name": "Steak Soft Tacos",
         "choice_description": "[Tomatillo-Red Chili Salsa (Hot), [Rice, Cheese, Sour Cream, Lettuce]]",
         "item_price": "$8.99 ",
         "_deepnote_index_column": 65
        },
        {
         "order_id": 30,
         "quantity": 1,
         "item_name": "Izze",
         "choice_description": "[Blackberry]",
         "item_price": "$3.39 ",
         "_deepnote_index_column": 66
        },
        {
         "order_id": 30,
         "quantity": 1,
         "item_name": "Steak Burrito",
         "choice_description": "[Tomatillo-Red Chili Salsa (Hot), [Rice, Cheese]]",
         "item_price": "$8.99 ",
         "_deepnote_index_column": 67
        },
        {
         "order_id": 30,
         "quantity": 1,
         "item_name": "Chicken Burrito",
         "choice_description": "[Tomatillo-Red Chili Salsa (Hot), [Black Beans, Fajita Veggies, Cheese, Sour Cream, Guacamole, Lett…",
         "item_price": "$10.98 ",
         "_deepnote_index_column": 68
        },
        {
         "order_id": 31,
         "quantity": 1,
         "item_name": "Steak Burrito",
         "choice_description": "[Roasted Chili Corn Salsa (Medium), [Rice, Black Beans, Sour Cream]]",
         "item_price": "$8.99 ",
         "_deepnote_index_column": 69
        },
        {
         "order_id": 31,
         "quantity": 1,
         "item_name": "Side of Chips",
         "choice_description": "nan",
         "item_price": "$1.69 ",
         "_deepnote_index_column": 70
        },
        {
         "order_id": 32,
         "quantity": 1,
         "item_name": "Steak Burrito",
         "choice_description": "[Tomatillo-Red Chili Salsa (Hot), [Black Beans, Rice, Cheese, Sour Cream, Lettuce]]",
         "item_price": "$8.99 ",
         "_deepnote_index_column": 71
        },
        {
         "order_id": 32,
         "quantity": 1,
         "item_name": "Chips and Guacamole",
         "choice_description": "nan",
         "item_price": "$3.99 ",
         "_deepnote_index_column": 72
        },
        {
         "order_id": 33,
         "quantity": 1,
         "item_name": "Chicken Burrito",
         "choice_description": "[Tomatillo Red Chili Salsa, [Rice, Black Beans, Cheese, Sour Cream]]",
         "item_price": "$8.75 ",
         "_deepnote_index_column": 73
        },
        {
         "order_id": 33,
         "quantity": 1,
         "item_name": "Chips and Guacamole",
         "choice_description": "nan",
         "item_price": "$4.45 ",
         "_deepnote_index_column": 74
        },
        {
         "order_id": 34,
         "quantity": 1,
         "item_name": "Chicken Soft Tacos",
         "choice_description": "[Tomatillo Red Chili Salsa, [Rice, Cheese, Sour Cream, Lettuce]]",
         "item_price": "$8.75 ",
         "_deepnote_index_column": 75
        },
        {
         "order_id": 34,
         "quantity": 1,
         "item_name": "Chicken Bowl",
         "choice_description": "[Fresh Tomato Salsa, [Rice, Black Beans, Pinto Beans, Cheese, Lettuce]]",
         "item_price": "$8.75 ",
         "_deepnote_index_column": 76
        },
        {
         "order_id": 34,
         "quantity": 1,
         "item_name": "Chips",
         "choice_description": "nan",
         "item_price": "$2.15 ",
         "_deepnote_index_column": 77
        },
        {
         "order_id": 34,
         "quantity": 1,
         "item_name": "Chicken Bowl",
         "choice_description": "[Fresh Tomato Salsa, [Rice, Black Beans, Cheese, Sour Cream, Lettuce]]",
         "item_price": "$8.75 ",
         "_deepnote_index_column": 78
        },
        {
         "order_id": 35,
         "quantity": 1,
         "item_name": "Chicken Soft Tacos",
         "choice_description": "[Roasted Chili Corn Salsa, [Rice, Cheese, Lettuce, Guacamole]]",
         "item_price": "$11.25 ",
         "_deepnote_index_column": 79
        },
        {
         "order_id": 35,
         "quantity": 1,
         "item_name": "Chips",
         "choice_description": "nan",
         "item_price": "$2.15 ",
         "_deepnote_index_column": 80
        },
        {
         "order_id": 36,
         "quantity": 1,
         "item_name": "Barbacoa Burrito",
         "choice_description": "[Fresh Tomato Salsa, [Rice, Pinto Beans, Cheese, Sour Cream, Lettuce]]",
         "item_price": "$9.25 ",
         "_deepnote_index_column": 81
        },
        {
         "order_id": 36,
         "quantity": 1,
         "item_name": "Chicken Burrito",
         "choice_description": "[Fresh Tomato Salsa, [Rice, Black Beans, Cheese, Sour Cream, Lettuce]]",
         "item_price": "$8.75 ",
         "_deepnote_index_column": 82
        },
        {
         "order_id": 37,
         "quantity": 1,
         "item_name": "Chicken Burrito",
         "choice_description": "[Tomatillo Green Chili Salsa, [Rice, Black Beans, Sour Cream, Cheese]]",
         "item_price": "$8.75 ",
         "_deepnote_index_column": 83
        },
        {
         "order_id": 37,
         "quantity": 1,
         "item_name": "Steak Soft Tacos",
         "choice_description": "[Tomatillo Red Chili Salsa]",
         "item_price": "$9.25 ",
         "_deepnote_index_column": 84
        },
        {
         "order_id": 38,
         "quantity": 1,
         "item_name": "Veggie Bowl",
         "choice_description": "[Tomatillo-Red Chili Salsa (Hot), [Pinto Beans, Black Beans, Rice, Fajita Veggies, Lettuce]]",
         "item_price": "$8.49 ",
         "_deepnote_index_column": 85
        },
        {
         "order_id": 38,
         "quantity": 1,
         "item_name": "Steak Bowl",
         "choice_description": "[Tomatillo-Red Chili Salsa (Hot), [Pinto Beans, Rice, Fajita Veggies, Cheese, Lettuce]]",
         "item_price": "$8.99 ",
         "_deepnote_index_column": 86
        },
        {
         "order_id": 38,
         "quantity": 1,
         "item_name": "Bottled Water",
         "choice_description": "nan",
         "item_price": "$1.09 ",
         "_deepnote_index_column": 87
        },
        {
         "order_id": 39,
         "quantity": 1,
         "item_name": "Carnitas Burrito",
         "choice_description": "[Fresh Tomato Salsa, [Rice, Pinto Beans, Sour Cream, Cheese]]",
         "item_price": "$9.25 ",
         "_deepnote_index_column": 88
        },
        {
         "order_id": 39,
         "quantity": 1,
         "item_name": "Chips and Fresh Tomato Salsa",
         "choice_description": "nan",
         "item_price": "$2.95 ",
         "_deepnote_index_column": 89
        },
        {
         "order_id": 40,
         "quantity": 1,
         "item_name": "Steak Bowl",
         "choice_description": "[Fresh Tomato Salsa, [Rice, Black Beans, Cheese, Sour Cream, Guacamole]]",
         "item_price": "$11.75 ",
         "_deepnote_index_column": 90
        },
        {
         "order_id": 40,
         "quantity": 1,
         "item_name": "Steak Bowl",
         "choice_description": "[Fresh Tomato Salsa, [Fajita Vegetables, Cheese, Sour Cream, Guacamole]]",
         "item_price": "$11.75 ",
         "_deepnote_index_column": 91
        },
        {
         "order_id": 40,
         "quantity": 1,
         "item_name": "Steak Crispy Tacos",
         "choice_description": "[Fresh Tomato Salsa, Sour Cream]",
         "item_price": "$9.25 ",
         "_deepnote_index_column": 92
        },
        {
         "order_id": 41,
         "quantity": 1,
         "item_name": "Carnitas Burrito",
         "choice_description": "[Roasted Chili Corn Salsa, [Sour Cream, Guacamole]]",
         "item_price": "$11.75 ",
         "_deepnote_index_column": 93
        },
        {
         "order_id": 41,
         "quantity": 1,
         "item_name": "Chips and Guacamole",
         "choice_description": "nan",
         "item_price": "$4.45 ",
         "_deepnote_index_column": 94
        },
        {
         "order_id": 42,
         "quantity": 1,
         "item_name": "Barbacoa Bowl",
         "choice_description": "[Fresh Tomato Salsa, [Fajita Vegetables, Rice, Cheese, Sour Cream]]",
         "item_price": "$9.25 ",
         "_deepnote_index_column": 95
        },
        {
         "order_id": 42,
         "quantity": 1,
         "item_name": "Chips and Guacamole",
         "choice_description": "nan",
         "item_price": "$4.45 ",
         "_deepnote_index_column": 96
        },
        {
         "order_id": 43,
         "quantity": 1,
         "item_name": "Carnitas Bowl",
         "choice_description": "[Fresh Tomato Salsa, [Fajita Vegetables, Rice, Black Beans, Cheese, Guacamole, Lettuce]]",
         "item_price": "$11.75 ",
         "_deepnote_index_column": 97
        },
        {
         "order_id": 43,
         "quantity": 1,
         "item_name": "Chicken Burrito",
         "choice_description": "[Tomatillo Red Chili Salsa, [Rice, Black Beans, Cheese]]",
         "item_price": "$8.75 ",
         "_deepnote_index_column": 98
        },
        {
         "order_id": 44,
         "quantity": 1,
         "item_name": "Chicken Bowl",
         "choice_description": "[Tomatillo Red Chili Salsa, [Rice, Fajita Vegetables, Sour Cream, Lettuce]]",
         "item_price": "$8.75 ",
         "_deepnote_index_column": 99
        }
       ],
       "rows_bottom": [
        {
         "order_id": 1798,
         "quantity": 1,
         "item_name": "6 Pack Soft Drink",
         "choice_description": "[Diet Coke]",
         "item_price": "$6.49 ",
         "_deepnote_index_column": 4522
        },
        {
         "order_id": 1798,
         "quantity": 1,
         "item_name": "Steak Crispy Tacos",
         "choice_description": "[Tomatillo Green Chili Salsa, [Cheese, Sour Cream, Guacamole]]",
         "item_price": "$11.75 ",
         "_deepnote_index_column": 4523
        },
        {
         "order_id": 1799,
         "quantity": 1,
         "item_name": "Chicken Burrito",
         "choice_description": "[Roasted Chili Corn Salsa, [Rice, Black Beans, Cheese]]",
         "item_price": "$8.75 ",
         "_deepnote_index_column": 4524
        },
        {
         "order_id": 1799,
         "quantity": 1,
         "item_name": "Chips",
         "choice_description": "nan",
         "item_price": "$2.15 ",
         "_deepnote_index_column": 4525
        },
        {
         "order_id": 1799,
         "quantity": 1,
         "item_name": "Canned Soft Drink",
         "choice_description": "[Sprite]",
         "item_price": "$1.25 ",
         "_deepnote_index_column": 4526
        },
        {
         "order_id": 1800,
         "quantity": 1,
         "item_name": "6 Pack Soft Drink",
         "choice_description": "[Diet Coke]",
         "item_price": "$6.49 ",
         "_deepnote_index_column": 4527
        },
        {
         "order_id": 1800,
         "quantity": 1,
         "item_name": "Chicken Burrito",
         "choice_description": "[Fresh Tomato Salsa, [Rice, Black Beans, Sour Cream, Cheese, Lettuce]]",
         "item_price": "$8.75 ",
         "_deepnote_index_column": 4528
        },
        {
         "order_id": 1800,
         "quantity": 1,
         "item_name": "Chips and Guacamole",
         "choice_description": "nan",
         "item_price": "$4.45 ",
         "_deepnote_index_column": 4529
        },
        {
         "order_id": 1801,
         "quantity": 1,
         "item_name": "Chicken Burrito",
         "choice_description": "[Roasted Chili Corn Salsa, [Fajita Vegetables, Rice, Cheese, Lettuce]]",
         "item_price": "$8.75 ",
         "_deepnote_index_column": 4530
        },
        {
         "order_id": 1801,
         "quantity": 1,
         "item_name": "Chips and Guacamole",
         "choice_description": "nan",
         "item_price": "$4.45 ",
         "_deepnote_index_column": 4531
        },
        {
         "order_id": 1802,
         "quantity": 1,
         "item_name": "Chicken Bowl",
         "choice_description": "[Roasted Chili Corn Salsa, [Rice, Black Beans, Cheese, Sour Cream, Lettuce]]",
         "item_price": "$8.75 ",
         "_deepnote_index_column": 4532
        },
        {
         "order_id": 1802,
         "quantity": 1,
         "item_name": "Chicken Burrito",
         "choice_description": "[Tomatillo Red Chili Salsa, [Fajita Vegetables, Rice, Black Beans, Cheese, Sour Cream, Guacamole, L…",
         "item_price": "$11.25 ",
         "_deepnote_index_column": 4533
        },
        {
         "order_id": 1803,
         "quantity": 1,
         "item_name": "Chips and Guacamole",
         "choice_description": "nan",
         "item_price": "$4.45 ",
         "_deepnote_index_column": 4534
        },
        {
         "order_id": 1803,
         "quantity": 1,
         "item_name": "6 Pack Soft Drink",
         "choice_description": "[Lemonade]",
         "item_price": "$6.49 ",
         "_deepnote_index_column": 4535
        },
        {
         "order_id": 1803,
         "quantity": 1,
         "item_name": "Steak Burrito",
         "choice_description": "[Fresh Tomato Salsa, [Fajita Vegetables, Rice, Cheese]]",
         "item_price": "$9.25 ",
         "_deepnote_index_column": 4536
        },
        {
         "order_id": 1804,
         "quantity": 1,
         "item_name": "Chicken Bowl",
         "choice_description": "[Fresh Tomato Salsa, [Rice, Black Beans, Cheese, Sour Cream]]",
         "item_price": "$8.75 ",
         "_deepnote_index_column": 4537
        },
        {
         "order_id": 1804,
         "quantity": 1,
         "item_name": "Canned Soft Drink",
         "choice_description": "[Coke]",
         "item_price": "$1.25 ",
         "_deepnote_index_column": 4538
        },
        {
         "order_id": 1804,
         "quantity": 1,
         "item_name": "Chips and Guacamole",
         "choice_description": "nan",
         "item_price": "$4.45 ",
         "_deepnote_index_column": 4539
        },
        {
         "order_id": 1805,
         "quantity": 1,
         "item_name": "Chicken Bowl",
         "choice_description": "[Tomatillo Green Chili Salsa, [Fajita Vegetables, Rice, Pinto Beans, Cheese, Guacamole, Lettuce]]",
         "item_price": "$11.25 ",
         "_deepnote_index_column": 4540
        },
        {
         "order_id": 1805,
         "quantity": 1,
         "item_name": "Veggie Salad Bowl",
         "choice_description": "[Tomatillo Green Chili Salsa, [Fajita Vegetables, Rice, Black Beans, Cheese, Sour Cream, Lettuce]]",
         "item_price": "$8.75 ",
         "_deepnote_index_column": 4541
        },
        {
         "order_id": 1806,
         "quantity": 1,
         "item_name": "Bottled Water",
         "choice_description": "nan",
         "item_price": "$1.50 ",
         "_deepnote_index_column": 4542
        },
        {
         "order_id": 1806,
         "quantity": 1,
         "item_name": "Chicken Burrito",
         "choice_description": "[Fresh Tomato Salsa, [Fajita Vegetables, Rice]]",
         "item_price": "$8.75 ",
         "_deepnote_index_column": 4543
        },
        {
         "order_id": 1806,
         "quantity": 1,
         "item_name": "Bottled Water",
         "choice_description": "nan",
         "item_price": "$1.50 ",
         "_deepnote_index_column": 4544
        },
        {
         "order_id": 1806,
         "quantity": 1,
         "item_name": "Canned Soft Drink",
         "choice_description": "[Diet Coke]",
         "item_price": "$1.25 ",
         "_deepnote_index_column": 4545
        },
        {
         "order_id": 1807,
         "quantity": 1,
         "item_name": "Steak Burrito",
         "choice_description": "[Fresh Tomato Salsa, [Rice, Black Beans, Cheese]]",
         "item_price": "$9.25 ",
         "_deepnote_index_column": 4546
        },
        {
         "order_id": 1807,
         "quantity": 1,
         "item_name": "Steak Salad Bowl",
         "choice_description": "[Roasted Chili Corn Salsa, [Fajita Vegetables, Cheese]]",
         "item_price": "$9.39 ",
         "_deepnote_index_column": 4547
        },
        {
         "order_id": 1808,
         "quantity": 1,
         "item_name": "Chips and Guacamole",
         "choice_description": "nan",
         "item_price": "$4.45 ",
         "_deepnote_index_column": 4548
        },
        {
         "order_id": 1808,
         "quantity": 1,
         "item_name": "Steak Soft Tacos",
         "choice_description": "[Tomatillo Green Chili Salsa, [Rice, Pinto Beans, Cheese, Sour Cream]]",
         "item_price": "$9.25 ",
         "_deepnote_index_column": 4549
        },
        {
         "order_id": 1809,
         "quantity": 1,
         "item_name": "Chicken Soft Tacos",
         "choice_description": "[Fresh Tomato Salsa, [Fajita Vegetables, Cheese, Sour Cream]]",
         "item_price": "$8.75 ",
         "_deepnote_index_column": 4550
        },
        {
         "order_id": 1809,
         "quantity": 1,
         "item_name": "Chips and Guacamole",
         "choice_description": "nan",
         "item_price": "$4.45 ",
         "_deepnote_index_column": 4551
        },
        {
         "order_id": 1809,
         "quantity": 1,
         "item_name": "Canned Soft Drink",
         "choice_description": "[Sprite]",
         "item_price": "$1.25 ",
         "_deepnote_index_column": 4552
        },
        {
         "order_id": 1810,
         "quantity": 1,
         "item_name": "Chicken Bowl",
         "choice_description": "[Roasted Chili Corn Salsa, [Black Beans, Sour Cream, Cheese, Guacamole]]",
         "item_price": "$11.25 ",
         "_deepnote_index_column": 4553
        },
        {
         "order_id": 1810,
         "quantity": 1,
         "item_name": "Steak Crispy Tacos",
         "choice_description": "[Roasted Chili Corn Salsa, [Fajita Vegetables, Sour Cream, Cheese, Lettuce, Guacamole]]",
         "item_price": "$11.75 ",
         "_deepnote_index_column": 4554
        },
        {
         "order_id": 1811,
         "quantity": 1,
         "item_name": "Chicken Bowl",
         "choice_description": "[Roasted Chili Corn Salsa, [Fajita Vegetables, Rice, Cheese, Sour Cream, Lettuce]]",
         "item_price": "$8.75 ",
         "_deepnote_index_column": 4555
        },
        {
         "order_id": 1811,
         "quantity": 1,
         "item_name": "Chicken Burrito",
         "choice_description": "[Tomatillo Green Chili Salsa, [Fajita Vegetables, Rice, Black Beans, Cheese, Sour Cream, Guacamole,…",
         "item_price": "$11.25 ",
         "_deepnote_index_column": 4556
        },
        {
         "order_id": 1811,
         "quantity": 1,
         "item_name": "Carnitas Soft Tacos",
         "choice_description": "[Tomatillo Red Chili Salsa, [Fajita Vegetables, Rice, Black Beans, Cheese, Sour Cream, Lettuce]]",
         "item_price": "$9.25 ",
         "_deepnote_index_column": 4557
        },
        {
         "order_id": 1812,
         "quantity": 1,
         "item_name": "Chicken Burrito",
         "choice_description": "[Fresh Tomato Salsa, [Rice, Black Beans, Cheese, Sour Cream, Lettuce]]",
         "item_price": "$8.75 ",
         "_deepnote_index_column": 4558
        },
        {
         "order_id": 1812,
         "quantity": 1,
         "item_name": "Chicken Burrito",
         "choice_description": "[Tomatillo Red Chili Salsa, [Rice, Cheese, Guacamole, Lettuce]]",
         "item_price": "$11.25 ",
         "_deepnote_index_column": 4559
        },
        {
         "order_id": 1812,
         "quantity": 2,
         "item_name": "Canned Soft Drink",
         "choice_description": "[Coke]",
         "item_price": "$2.50 ",
         "_deepnote_index_column": 4560
        },
        {
         "order_id": 1813,
         "quantity": 2,
         "item_name": "Chicken Salad Bowl",
         "choice_description": "[Fresh Tomato Salsa, [Fajita Vegetables, Pinto Beans, Lettuce]]",
         "item_price": "$17.50 ",
         "_deepnote_index_column": 4561
        },
        {
         "order_id": 1814,
         "quantity": 1,
         "item_name": "Carnitas Bowl",
         "choice_description": "[Roasted Chili Corn Salsa, [Fajita Vegetables, Rice, Cheese, Sour Cream]]",
         "item_price": "$9.25 ",
         "_deepnote_index_column": 4562
        },
        {
         "order_id": 1814,
         "quantity": 1,
         "item_name": "Chips and Guacamole",
         "choice_description": "nan",
         "item_price": "$4.45 ",
         "_deepnote_index_column": 4563
        },
        {
         "order_id": 1815,
         "quantity": 1,
         "item_name": "Chicken Bowl",
         "choice_description": "[Fresh Tomato Salsa, [Fajita Vegetables, Rice, Pinto Beans, Cheese, Guacamole, Lettuce]]",
         "item_price": "$11.25 ",
         "_deepnote_index_column": 4564
        },
        {
         "order_id": 1815,
         "quantity": 1,
         "item_name": "Canned Soft Drink",
         "choice_description": "[Sprite]",
         "item_price": "$1.25 ",
         "_deepnote_index_column": 4565
        },
        {
         "order_id": 1816,
         "quantity": 1,
         "item_name": "Chicken Burrito",
         "choice_description": "[Roasted Chili Corn Salsa, [Pinto Beans, Cheese, Sour Cream]]",
         "item_price": "$8.75 ",
         "_deepnote_index_column": 4566
        },
        {
         "order_id": 1816,
         "quantity": 1,
         "item_name": "Chips and Guacamole",
         "choice_description": "nan",
         "item_price": "$4.45 ",
         "_deepnote_index_column": 4567
        },
        {
         "order_id": 1817,
         "quantity": 1,
         "item_name": "Bottled Water",
         "choice_description": "nan",
         "item_price": "$1.50 ",
         "_deepnote_index_column": 4568
        },
        {
         "order_id": 1817,
         "quantity": 1,
         "item_name": "Chicken Burrito",
         "choice_description": "[Fresh Tomato Salsa, [Fajita Vegetables, Rice]]",
         "item_price": "$8.75 ",
         "_deepnote_index_column": 4569
        },
        {
         "order_id": 1817,
         "quantity": 1,
         "item_name": "Bottled Water",
         "choice_description": "nan",
         "item_price": "$1.50 ",
         "_deepnote_index_column": 4570
        },
        {
         "order_id": 1817,
         "quantity": 1,
         "item_name": "Canned Soft Drink",
         "choice_description": "[Diet Coke]",
         "item_price": "$1.25 ",
         "_deepnote_index_column": 4571
        },
        {
         "order_id": 1818,
         "quantity": 1,
         "item_name": "Steak Salad Bowl",
         "choice_description": "[Fresh Tomato Salsa, [Fajita Vegetables, Lettuce]]",
         "item_price": "$9.39 ",
         "_deepnote_index_column": 4572
        },
        {
         "order_id": 1818,
         "quantity": 1,
         "item_name": "Veggie Salad Bowl",
         "choice_description": "[Fresh Tomato Salsa, [Fajita Vegetables, Pinto Beans, Lettuce]]",
         "item_price": "$8.75 ",
         "_deepnote_index_column": 4573
        },
        {
         "order_id": 1819,
         "quantity": 1,
         "item_name": "Chicken Bowl",
         "choice_description": "[Roasted Chili Corn Salsa, [Rice, Cheese, Lettuce]]",
         "item_price": "$8.75 ",
         "_deepnote_index_column": 4574
        },
        {
         "order_id": 1819,
         "quantity": 1,
         "item_name": "Chips and Guacamole",
         "choice_description": "nan",
         "item_price": "$4.45 ",
         "_deepnote_index_column": 4575
        },
        {
         "order_id": 1820,
         "quantity": 1,
         "item_name": "Chicken Bowl",
         "choice_description": "[Fresh Tomato Salsa, [Rice, Cheese, Sour Cream, Guacamole]]",
         "item_price": "$11.25 ",
         "_deepnote_index_column": 4576
        },
        {
         "order_id": 1820,
         "quantity": 1,
         "item_name": "Canned Soft Drink",
         "choice_description": "[Coke]",
         "item_price": "$1.25 ",
         "_deepnote_index_column": 4577
        },
        {
         "order_id": 1821,
         "quantity": 1,
         "item_name": "Carnitas Burrito",
         "choice_description": "[Tomatillo Green Chili Salsa, [Rice, Pinto Beans, Sour Cream]]",
         "item_price": "$9.25 ",
         "_deepnote_index_column": 4578
        },
        {
         "order_id": 1821,
         "quantity": 1,
         "item_name": "Chips and Guacamole",
         "choice_description": "nan",
         "item_price": "$4.45 ",
         "_deepnote_index_column": 4579
        },
        {
         "order_id": 1822,
         "quantity": 1,
         "item_name": "Chicken Salad Bowl",
         "choice_description": "[Fresh Tomato Salsa, [Black Beans, Cheese, Guacamole]]",
         "item_price": "$11.25 ",
         "_deepnote_index_column": 4580
        },
        {
         "order_id": 1822,
         "quantity": 1,
         "item_name": "Chicken Bowl",
         "choice_description": "[Tomatillo Red Chili Salsa, [Rice, Black Beans, Pinto Beans, Cheese, Sour Cream, Lettuce]]",
         "item_price": "$8.75 ",
         "_deepnote_index_column": 4581
        },
        {
         "order_id": 1822,
         "quantity": 2,
         "item_name": "Bottled Water",
         "choice_description": "nan",
         "item_price": "$3.00 ",
         "_deepnote_index_column": 4582
        },
        {
         "order_id": 1823,
         "quantity": 1,
         "item_name": "Chicken Bowl",
         "choice_description": "[Tomatillo Green Chili Salsa, [Rice, Black Beans, Sour Cream, Lettuce]]",
         "item_price": "$8.75 ",
         "_deepnote_index_column": 4583
        },
        {
         "order_id": 1823,
         "quantity": 1,
         "item_name": "Chips",
         "choice_description": "nan",
         "item_price": "$2.15 ",
         "_deepnote_index_column": 4584
        },
        {
         "order_id": 1823,
         "quantity": 1,
         "item_name": "Canned Soft Drink",
         "choice_description": "[Diet Coke]",
         "item_price": "$1.25 ",
         "_deepnote_index_column": 4585
        },
        {
         "order_id": 1824,
         "quantity": 1,
         "item_name": "Chicken Bowl",
         "choice_description": "[Fresh Tomato Salsa, [Rice, Black Beans, Cheese, Sour Cream, Guacamole, Lettuce]]",
         "item_price": "$11.25 ",
         "_deepnote_index_column": 4586
        },
        {
         "order_id": 1824,
         "quantity": 1,
         "item_name": "Chicken Bowl",
         "choice_description": "[Fresh Tomato Salsa, [Rice, Black Beans, Cheese, Sour Cream, Guacamole]]",
         "item_price": "$11.25 ",
         "_deepnote_index_column": 4587
        },
        {
         "order_id": 1824,
         "quantity": 1,
         "item_name": "Chips and Guacamole",
         "choice_description": "nan",
         "item_price": "$4.45 ",
         "_deepnote_index_column": 4588
        },
        {
         "order_id": 1825,
         "quantity": 1,
         "item_name": "Chicken Bowl",
         "choice_description": "[Fresh Tomato Salsa, [Rice, Black Beans, Sour Cream, Cheese, Lettuce, Guacamole]]",
         "item_price": "$11.25 ",
         "_deepnote_index_column": 4589
        },
        {
         "order_id": 1825,
         "quantity": 1,
         "item_name": "Chicken Bowl",
         "choice_description": "[Roasted Chili Corn Salsa, [Rice, Black Beans, Cheese, Lettuce, Guacamole]]",
         "item_price": "$11.25 ",
         "_deepnote_index_column": 4590
        },
        {
         "order_id": 1825,
         "quantity": 1,
         "item_name": "Chicken Bowl",
         "choice_description": "[Tomatillo Red Chili Salsa, [Rice, Black Beans, Sour Cream, Cheese, Lettuce]]",
         "item_price": "$8.75 ",
         "_deepnote_index_column": 4591
        },
        {
         "order_id": 1825,
         "quantity": 1,
         "item_name": "Barbacoa Burrito",
         "choice_description": "[Tomatillo Red Chili Salsa, [Rice, Fajita Vegetables, Black Beans, Sour Cream, Cheese, Guacamole]]",
         "item_price": "$11.75 ",
         "_deepnote_index_column": 4592
        },
        {
         "order_id": 1825,
         "quantity": 1,
         "item_name": "Carnitas Bowl",
         "choice_description": "[Roasted Chili Corn Salsa, [Rice, Sour Cream, Cheese, Lettuce, Guacamole]]",
         "item_price": "$11.75 ",
         "_deepnote_index_column": 4593
        },
        {
         "order_id": 1825,
         "quantity": 1,
         "item_name": "Barbacoa Bowl",
         "choice_description": "[Roasted Chili Corn Salsa, [Pinto Beans, Sour Cream, Cheese, Lettuce, Guacamole]]",
         "item_price": "$11.75 ",
         "_deepnote_index_column": 4594
        },
        {
         "order_id": 1826,
         "quantity": 1,
         "item_name": "Chicken Bowl",
         "choice_description": "[Tomatillo Green Chili Salsa, [Rice, Black Beans]]",
         "item_price": "$8.75 ",
         "_deepnote_index_column": 4595
        },
        {
         "order_id": 1826,
         "quantity": 1,
         "item_name": "Chips and Guacamole",
         "choice_description": "nan",
         "item_price": "$4.45 ",
         "_deepnote_index_column": 4596
        },
        {
         "order_id": 1826,
         "quantity": 1,
         "item_name": "Canned Soft Drink",
         "choice_description": "[Nestea]",
         "item_price": "$1.25 ",
         "_deepnote_index_column": 4597
        },
        {
         "order_id": 1826,
         "quantity": 1,
         "item_name": "Bottled Water",
         "choice_description": "nan",
         "item_price": "$1.50 ",
         "_deepnote_index_column": 4598
        },
        {
         "order_id": 1827,
         "quantity": 1,
         "item_name": "Chicken Bowl",
         "choice_description": "[Roasted Chili Corn Salsa, [Cheese, Lettuce]]",
         "item_price": "$8.75 ",
         "_deepnote_index_column": 4599
        },
        {
         "order_id": 1827,
         "quantity": 1,
         "item_name": "Chips and Guacamole",
         "choice_description": "nan",
         "item_price": "$4.45 ",
         "_deepnote_index_column": 4600
        },
        {
         "order_id": 1827,
         "quantity": 1,
         "item_name": "Canned Soft Drink",
         "choice_description": "[Diet Coke]",
         "item_price": "$1.25 ",
         "_deepnote_index_column": 4601
        },
        {
         "order_id": 1827,
         "quantity": 1,
         "item_name": "Barbacoa Burrito",
         "choice_description": "[Tomatillo Green Chili Salsa]",
         "item_price": "$9.25 ",
         "_deepnote_index_column": 4602
        },
        {
         "order_id": 1827,
         "quantity": 1,
         "item_name": "Barbacoa Burrito",
         "choice_description": "[Tomatillo Green Chili Salsa]",
         "item_price": "$9.25 ",
         "_deepnote_index_column": 4603
        },
        {
         "order_id": 1828,
         "quantity": 1,
         "item_name": "Chicken Bowl",
         "choice_description": "[Fresh Tomato Salsa, [Rice, Black Beans, Cheese, Sour Cream]]",
         "item_price": "$8.75 ",
         "_deepnote_index_column": 4604
        },
        {
         "order_id": 1828,
         "quantity": 1,
         "item_name": "Chips and Guacamole",
         "choice_description": "nan",
         "item_price": "$4.45 ",
         "_deepnote_index_column": 4605
        },
        {
         "order_id": 1828,
         "quantity": 1,
         "item_name": "Canned Soft Drink",
         "choice_description": "[Coke]",
         "item_price": "$1.25 ",
         "_deepnote_index_column": 4606
        },
        {
         "order_id": 1829,
         "quantity": 1,
         "item_name": "Steak Burrito",
         "choice_description": "[Tomatillo Green Chili Salsa, [Rice, Cheese, Sour Cream, Guacamole]]",
         "item_price": "$11.75 ",
         "_deepnote_index_column": 4607
        },
        {
         "order_id": 1829,
         "quantity": 1,
         "item_name": "Veggie Burrito",
         "choice_description": "[Tomatillo Red Chili Salsa, [Fajita Vegetables, Rice, Black Beans, Cheese, Guacamole, Lettuce]]",
         "item_price": "$11.25 ",
         "_deepnote_index_column": 4608
        },
        {
         "order_id": 1829,
         "quantity": 1,
         "item_name": "Canned Soft Drink",
         "choice_description": "[Sprite]",
         "item_price": "$1.25 ",
         "_deepnote_index_column": 4609
        },
        {
         "order_id": 1830,
         "quantity": 1,
         "item_name": "Steak Burrito",
         "choice_description": "[Fresh Tomato Salsa, [Rice, Sour Cream, Cheese, Lettuce, Guacamole]]",
         "item_price": "$11.75 ",
         "_deepnote_index_column": 4610
        },
        {
         "order_id": 1830,
         "quantity": 1,
         "item_name": "Veggie Burrito",
         "choice_description": "[Tomatillo Green Chili Salsa, [Rice, Fajita Vegetables, Black Beans, Guacamole]]",
         "item_price": "$11.25 ",
         "_deepnote_index_column": 4611
        },
        {
         "order_id": 1831,
         "quantity": 1,
         "item_name": "Carnitas Bowl",
         "choice_description": "[Fresh Tomato Salsa, [Fajita Vegetables, Rice, Black Beans, Cheese, Sour Cream, Lettuce]]",
         "item_price": "$9.25 ",
         "_deepnote_index_column": 4612
        },
        {
         "order_id": 1831,
         "quantity": 1,
         "item_name": "Chips",
         "choice_description": "nan",
         "item_price": "$2.15 ",
         "_deepnote_index_column": 4613
        },
        {
         "order_id": 1831,
         "quantity": 1,
         "item_name": "Bottled Water",
         "choice_description": "nan",
         "item_price": "$1.50 ",
         "_deepnote_index_column": 4614
        },
        {
         "order_id": 1832,
         "quantity": 1,
         "item_name": "Chicken Soft Tacos",
         "choice_description": "[Fresh Tomato Salsa, [Rice, Cheese, Sour Cream]]",
         "item_price": "$8.75 ",
         "_deepnote_index_column": 4615
        },
        {
         "order_id": 1832,
         "quantity": 1,
         "item_name": "Chips and Guacamole",
         "choice_description": "nan",
         "item_price": "$4.45 ",
         "_deepnote_index_column": 4616
        },
        {
         "order_id": 1833,
         "quantity": 1,
         "item_name": "Steak Burrito",
         "choice_description": "[Fresh Tomato Salsa, [Rice, Black Beans, Sour Cream, Cheese, Lettuce, Guacamole]]",
         "item_price": "$11.75 ",
         "_deepnote_index_column": 4617
        },
        {
         "order_id": 1833,
         "quantity": 1,
         "item_name": "Steak Burrito",
         "choice_description": "[Fresh Tomato Salsa, [Rice, Sour Cream, Cheese, Lettuce, Guacamole]]",
         "item_price": "$11.75 ",
         "_deepnote_index_column": 4618
        },
        {
         "order_id": 1834,
         "quantity": 1,
         "item_name": "Chicken Salad Bowl",
         "choice_description": "[Fresh Tomato Salsa, [Fajita Vegetables, Pinto Beans, Guacamole, Lettuce]]",
         "item_price": "$11.25 ",
         "_deepnote_index_column": 4619
        },
        {
         "order_id": 1834,
         "quantity": 1,
         "item_name": "Chicken Salad Bowl",
         "choice_description": "[Fresh Tomato Salsa, [Fajita Vegetables, Lettuce]]",
         "item_price": "$8.75 ",
         "_deepnote_index_column": 4620
        },
        {
         "order_id": 1834,
         "quantity": 1,
         "item_name": "Chicken Salad Bowl",
         "choice_description": "[Fresh Tomato Salsa, [Fajita Vegetables, Pinto Beans, Lettuce]]",
         "item_price": "$8.75 ",
         "_deepnote_index_column": 4621
        }
       ]
      },
      "text/plain": "      order_id  quantity                              item_name  \\\n0            1         1           Chips and Fresh Tomato Salsa   \n1            1         1                                   Izze   \n2            1         1                       Nantucket Nectar   \n3            1         1  Chips and Tomatillo-Green Chili Salsa   \n4            2         2                           Chicken Bowl   \n...        ...       ...                                    ...   \n4617      1833         1                          Steak Burrito   \n4618      1833         1                          Steak Burrito   \n4619      1834         1                     Chicken Salad Bowl   \n4620      1834         1                     Chicken Salad Bowl   \n4621      1834         1                     Chicken Salad Bowl   \n\n                                     choice_description item_price  \n0                                                   NaN     $2.39   \n1                                          [Clementine]     $3.39   \n2                                               [Apple]     $3.39   \n3                                                   NaN     $2.39   \n4     [Tomatillo-Red Chili Salsa (Hot), [Black Beans...    $16.98   \n...                                                 ...        ...  \n4617  [Fresh Tomato Salsa, [Rice, Black Beans, Sour ...    $11.75   \n4618  [Fresh Tomato Salsa, [Rice, Sour Cream, Cheese...    $11.75   \n4619  [Fresh Tomato Salsa, [Fajita Vegetables, Pinto...    $11.25   \n4620  [Fresh Tomato Salsa, [Fajita Vegetables, Lettu...     $8.75   \n4621  [Fresh Tomato Salsa, [Fajita Vegetables, Pinto...     $8.75   \n\n[4622 rows x 5 columns]",
      "text/html": "<div>\n<style scoped>\n    .dataframe tbody tr th:only-of-type {\n        vertical-align: middle;\n    }\n\n    .dataframe tbody tr th {\n        vertical-align: top;\n    }\n\n    .dataframe thead th {\n        text-align: right;\n    }\n</style>\n<table border=\"1\" class=\"dataframe\">\n  <thead>\n    <tr style=\"text-align: right;\">\n      <th></th>\n      <th>order_id</th>\n      <th>quantity</th>\n      <th>item_name</th>\n      <th>choice_description</th>\n      <th>item_price</th>\n    </tr>\n  </thead>\n  <tbody>\n    <tr>\n      <th>0</th>\n      <td>1</td>\n      <td>1</td>\n      <td>Chips and Fresh Tomato Salsa</td>\n      <td>NaN</td>\n      <td>$2.39</td>\n    </tr>\n    <tr>\n      <th>1</th>\n      <td>1</td>\n      <td>1</td>\n      <td>Izze</td>\n      <td>[Clementine]</td>\n      <td>$3.39</td>\n    </tr>\n    <tr>\n      <th>2</th>\n      <td>1</td>\n      <td>1</td>\n      <td>Nantucket Nectar</td>\n      <td>[Apple]</td>\n      <td>$3.39</td>\n    </tr>\n    <tr>\n      <th>3</th>\n      <td>1</td>\n      <td>1</td>\n      <td>Chips and Tomatillo-Green Chili Salsa</td>\n      <td>NaN</td>\n      <td>$2.39</td>\n    </tr>\n    <tr>\n      <th>4</th>\n      <td>2</td>\n      <td>2</td>\n      <td>Chicken Bowl</td>\n      <td>[Tomatillo-Red Chili Salsa (Hot), [Black Beans...</td>\n      <td>$16.98</td>\n    </tr>\n    <tr>\n      <th>...</th>\n      <td>...</td>\n      <td>...</td>\n      <td>...</td>\n      <td>...</td>\n      <td>...</td>\n    </tr>\n    <tr>\n      <th>4617</th>\n      <td>1833</td>\n      <td>1</td>\n      <td>Steak Burrito</td>\n      <td>[Fresh Tomato Salsa, [Rice, Black Beans, Sour ...</td>\n      <td>$11.75</td>\n    </tr>\n    <tr>\n      <th>4618</th>\n      <td>1833</td>\n      <td>1</td>\n      <td>Steak Burrito</td>\n      <td>[Fresh Tomato Salsa, [Rice, Sour Cream, Cheese...</td>\n      <td>$11.75</td>\n    </tr>\n    <tr>\n      <th>4619</th>\n      <td>1834</td>\n      <td>1</td>\n      <td>Chicken Salad Bowl</td>\n      <td>[Fresh Tomato Salsa, [Fajita Vegetables, Pinto...</td>\n      <td>$11.25</td>\n    </tr>\n    <tr>\n      <th>4620</th>\n      <td>1834</td>\n      <td>1</td>\n      <td>Chicken Salad Bowl</td>\n      <td>[Fresh Tomato Salsa, [Fajita Vegetables, Lettu...</td>\n      <td>$8.75</td>\n    </tr>\n    <tr>\n      <th>4621</th>\n      <td>1834</td>\n      <td>1</td>\n      <td>Chicken Salad Bowl</td>\n      <td>[Fresh Tomato Salsa, [Fajita Vegetables, Pinto...</td>\n      <td>$8.75</td>\n    </tr>\n  </tbody>\n</table>\n<p>4622 rows × 5 columns</p>\n</div>"
     },
     "metadata": {}
    }
   ]
  },
  {
   "cell_type": "markdown",
   "source": "### Step 4. See the first 10 entries",
   "metadata": {
    "id": "NOKDJOql26I4",
    "cell_id": "00008-bd9f87c6-1e00-4469-b865-10c82fc0efa0",
    "deepnote_cell_type": "markdown"
   }
  },
  {
   "cell_type": "code",
   "metadata": {
    "scrolled": false,
    "colab": {
     "base_uri": "https://localhost:8080/",
     "height": 348
    },
    "id": "xDkDsqU026I4",
    "executionInfo": {
     "status": "ok",
     "timestamp": 1624138039807,
     "user_tz": 240,
     "elapsed": 180,
     "user": {
      "displayName": "Andrés Sánchez",
      "photoUrl": "https://lh3.googleusercontent.com/a-/AOh14Gg69bZMv30ckb-T1MJy0nSxWIHUaP0p2uP6MYBuvQ=s64",
      "userId": "07985253921366566280"
     }
    },
    "outputId": "6f984bd2-dedc-4b6d-c9e2-a6bb6ae69f2a",
    "cell_id": "00009-e5c8eca2-da14-4849-8ddf-9c161ab3f3c9",
    "deepnote_to_be_reexecuted": false,
    "source_hash": "2f99c3d",
    "execution_start": 1630098295146,
    "execution_millis": 19,
    "deepnote_cell_type": "code"
   },
   "source": "chipo.head(10)",
   "execution_count": 4,
   "outputs": [
    {
     "output_type": "execute_result",
     "execution_count": 4,
     "data": {
      "application/vnd.deepnote.dataframe.v2+json": {
       "row_count": 10,
       "column_count": 5,
       "columns": [
        {
         "name": "order_id",
         "dtype": "int64",
         "stats": {
          "unique_count": 5,
          "nan_count": 0,
          "min": "1",
          "max": "5",
          "histogram": [
           {
            "bin_start": 1,
            "bin_end": 1.4,
            "count": 4
           },
           {
            "bin_start": 1.4,
            "bin_end": 1.8,
            "count": 0
           },
           {
            "bin_start": 1.8,
            "bin_end": 2.2,
            "count": 1
           },
           {
            "bin_start": 2.2,
            "bin_end": 2.6,
            "count": 0
           },
           {
            "bin_start": 2.6,
            "bin_end": 3,
            "count": 0
           },
           {
            "bin_start": 3,
            "bin_end": 3.4000000000000004,
            "count": 2
           },
           {
            "bin_start": 3.4000000000000004,
            "bin_end": 3.8000000000000003,
            "count": 0
           },
           {
            "bin_start": 3.8000000000000003,
            "bin_end": 4.2,
            "count": 2
           },
           {
            "bin_start": 4.2,
            "bin_end": 4.6,
            "count": 0
           },
           {
            "bin_start": 4.6,
            "bin_end": 5,
            "count": 1
           }
          ]
         }
        },
        {
         "name": "quantity",
         "dtype": "int64",
         "stats": {
          "unique_count": 2,
          "nan_count": 0,
          "min": "1",
          "max": "2",
          "histogram": [
           {
            "bin_start": 1,
            "bin_end": 1.1,
            "count": 9
           },
           {
            "bin_start": 1.1,
            "bin_end": 1.2,
            "count": 0
           },
           {
            "bin_start": 1.2,
            "bin_end": 1.3,
            "count": 0
           },
           {
            "bin_start": 1.3,
            "bin_end": 1.4,
            "count": 0
           },
           {
            "bin_start": 1.4,
            "bin_end": 1.5,
            "count": 0
           },
           {
            "bin_start": 1.5,
            "bin_end": 1.6,
            "count": 0
           },
           {
            "bin_start": 1.6,
            "bin_end": 1.7000000000000002,
            "count": 0
           },
           {
            "bin_start": 1.7000000000000002,
            "bin_end": 1.8,
            "count": 0
           },
           {
            "bin_start": 1.8,
            "bin_end": 1.9,
            "count": 0
           },
           {
            "bin_start": 1.9,
            "bin_end": 2,
            "count": 1
           }
          ]
         }
        },
        {
         "name": "item_name",
         "dtype": "object",
         "stats": {
          "unique_count": 8,
          "nan_count": 0,
          "categories": [
           {
            "name": "Chicken Bowl",
            "count": 2
           },
           {
            "name": "Steak Burrito",
            "count": 2
           },
           {
            "name": "6 others",
            "count": 6
           }
          ]
         }
        },
        {
         "name": "choice_description",
         "dtype": "object",
         "stats": {
          "unique_count": 7,
          "nan_count": 3,
          "categories": [
           {
            "name": "[Clementine]",
            "count": 1
           },
           {
            "name": "6 others",
            "count": 6
           },
           {
            "name": "Missing",
            "count": 3
           }
          ]
         }
        },
        {
         "name": "item_price",
         "dtype": "object",
         "stats": {
          "unique_count": 7,
          "nan_count": 0,
          "categories": [
           {
            "name": "$2.39 ",
            "count": 2
           },
           {
            "name": "$3.39 ",
            "count": 2
           },
           {
            "name": "5 others",
            "count": 6
           }
          ]
         }
        },
        {
         "name": "_deepnote_index_column",
         "dtype": "int64"
        }
       ],
       "rows_top": [
        {
         "order_id": 1,
         "quantity": 1,
         "item_name": "Chips and Fresh Tomato Salsa",
         "choice_description": "nan",
         "item_price": "$2.39 ",
         "_deepnote_index_column": 0
        },
        {
         "order_id": 1,
         "quantity": 1,
         "item_name": "Izze",
         "choice_description": "[Clementine]",
         "item_price": "$3.39 ",
         "_deepnote_index_column": 1
        },
        {
         "order_id": 1,
         "quantity": 1,
         "item_name": "Nantucket Nectar",
         "choice_description": "[Apple]",
         "item_price": "$3.39 ",
         "_deepnote_index_column": 2
        },
        {
         "order_id": 1,
         "quantity": 1,
         "item_name": "Chips and Tomatillo-Green Chili Salsa",
         "choice_description": "nan",
         "item_price": "$2.39 ",
         "_deepnote_index_column": 3
        },
        {
         "order_id": 2,
         "quantity": 2,
         "item_name": "Chicken Bowl",
         "choice_description": "[Tomatillo-Red Chili Salsa (Hot), [Black Beans, Rice, Cheese, Sour Cream]]",
         "item_price": "$16.98 ",
         "_deepnote_index_column": 4
        },
        {
         "order_id": 3,
         "quantity": 1,
         "item_name": "Chicken Bowl",
         "choice_description": "[Fresh Tomato Salsa (Mild), [Rice, Cheese, Sour Cream, Guacamole, Lettuce]]",
         "item_price": "$10.98 ",
         "_deepnote_index_column": 5
        },
        {
         "order_id": 3,
         "quantity": 1,
         "item_name": "Side of Chips",
         "choice_description": "nan",
         "item_price": "$1.69 ",
         "_deepnote_index_column": 6
        },
        {
         "order_id": 4,
         "quantity": 1,
         "item_name": "Steak Burrito",
         "choice_description": "[Tomatillo Red Chili Salsa, [Fajita Vegetables, Black Beans, Pinto Beans, Cheese, Sour Cream, Guaca…",
         "item_price": "$11.75 ",
         "_deepnote_index_column": 7
        },
        {
         "order_id": 4,
         "quantity": 1,
         "item_name": "Steak Soft Tacos",
         "choice_description": "[Tomatillo Green Chili Salsa, [Pinto Beans, Cheese, Sour Cream, Lettuce]]",
         "item_price": "$9.25 ",
         "_deepnote_index_column": 8
        },
        {
         "order_id": 5,
         "quantity": 1,
         "item_name": "Steak Burrito",
         "choice_description": "[Fresh Tomato Salsa, [Rice, Black Beans, Pinto Beans, Cheese, Sour Cream, Lettuce]]",
         "item_price": "$9.25 ",
         "_deepnote_index_column": 9
        }
       ],
       "rows_bottom": null
      },
      "text/plain": "   order_id  quantity                              item_name  \\\n0         1         1           Chips and Fresh Tomato Salsa   \n1         1         1                                   Izze   \n2         1         1                       Nantucket Nectar   \n3         1         1  Chips and Tomatillo-Green Chili Salsa   \n4         2         2                           Chicken Bowl   \n5         3         1                           Chicken Bowl   \n6         3         1                          Side of Chips   \n7         4         1                          Steak Burrito   \n8         4         1                       Steak Soft Tacos   \n9         5         1                          Steak Burrito   \n\n                                  choice_description item_price  \n0                                                NaN     $2.39   \n1                                       [Clementine]     $3.39   \n2                                            [Apple]     $3.39   \n3                                                NaN     $2.39   \n4  [Tomatillo-Red Chili Salsa (Hot), [Black Beans...    $16.98   \n5  [Fresh Tomato Salsa (Mild), [Rice, Cheese, Sou...    $10.98   \n6                                                NaN     $1.69   \n7  [Tomatillo Red Chili Salsa, [Fajita Vegetables...    $11.75   \n8  [Tomatillo Green Chili Salsa, [Pinto Beans, Ch...     $9.25   \n9  [Fresh Tomato Salsa, [Rice, Black Beans, Pinto...     $9.25   ",
      "text/html": "<div>\n<style scoped>\n    .dataframe tbody tr th:only-of-type {\n        vertical-align: middle;\n    }\n\n    .dataframe tbody tr th {\n        vertical-align: top;\n    }\n\n    .dataframe thead th {\n        text-align: right;\n    }\n</style>\n<table border=\"1\" class=\"dataframe\">\n  <thead>\n    <tr style=\"text-align: right;\">\n      <th></th>\n      <th>order_id</th>\n      <th>quantity</th>\n      <th>item_name</th>\n      <th>choice_description</th>\n      <th>item_price</th>\n    </tr>\n  </thead>\n  <tbody>\n    <tr>\n      <th>0</th>\n      <td>1</td>\n      <td>1</td>\n      <td>Chips and Fresh Tomato Salsa</td>\n      <td>NaN</td>\n      <td>$2.39</td>\n    </tr>\n    <tr>\n      <th>1</th>\n      <td>1</td>\n      <td>1</td>\n      <td>Izze</td>\n      <td>[Clementine]</td>\n      <td>$3.39</td>\n    </tr>\n    <tr>\n      <th>2</th>\n      <td>1</td>\n      <td>1</td>\n      <td>Nantucket Nectar</td>\n      <td>[Apple]</td>\n      <td>$3.39</td>\n    </tr>\n    <tr>\n      <th>3</th>\n      <td>1</td>\n      <td>1</td>\n      <td>Chips and Tomatillo-Green Chili Salsa</td>\n      <td>NaN</td>\n      <td>$2.39</td>\n    </tr>\n    <tr>\n      <th>4</th>\n      <td>2</td>\n      <td>2</td>\n      <td>Chicken Bowl</td>\n      <td>[Tomatillo-Red Chili Salsa (Hot), [Black Beans...</td>\n      <td>$16.98</td>\n    </tr>\n    <tr>\n      <th>5</th>\n      <td>3</td>\n      <td>1</td>\n      <td>Chicken Bowl</td>\n      <td>[Fresh Tomato Salsa (Mild), [Rice, Cheese, Sou...</td>\n      <td>$10.98</td>\n    </tr>\n    <tr>\n      <th>6</th>\n      <td>3</td>\n      <td>1</td>\n      <td>Side of Chips</td>\n      <td>NaN</td>\n      <td>$1.69</td>\n    </tr>\n    <tr>\n      <th>7</th>\n      <td>4</td>\n      <td>1</td>\n      <td>Steak Burrito</td>\n      <td>[Tomatillo Red Chili Salsa, [Fajita Vegetables...</td>\n      <td>$11.75</td>\n    </tr>\n    <tr>\n      <th>8</th>\n      <td>4</td>\n      <td>1</td>\n      <td>Steak Soft Tacos</td>\n      <td>[Tomatillo Green Chili Salsa, [Pinto Beans, Ch...</td>\n      <td>$9.25</td>\n    </tr>\n    <tr>\n      <th>9</th>\n      <td>5</td>\n      <td>1</td>\n      <td>Steak Burrito</td>\n      <td>[Fresh Tomato Salsa, [Rice, Black Beans, Pinto...</td>\n      <td>$9.25</td>\n    </tr>\n  </tbody>\n</table>\n</div>"
     },
     "metadata": {}
    }
   ]
  },
  {
   "cell_type": "markdown",
   "source": "### Step 5. Create a histogram of the top 5 items bought",
   "metadata": {
    "id": "moFdhS3U26I5",
    "cell_id": "00010-c7170f25-f491-45bb-b0a7-f39b23468066",
    "deepnote_cell_type": "markdown"
   }
  },
  {
   "cell_type": "code",
   "metadata": {
    "colab": {
     "base_uri": "https://localhost:8080/",
     "height": 367
    },
    "id": "r7kX6ynV4Dyl",
    "executionInfo": {
     "status": "ok",
     "timestamp": 1624138040006,
     "user_tz": 240,
     "elapsed": 204,
     "user": {
      "displayName": "Andrés Sánchez",
      "photoUrl": "https://lh3.googleusercontent.com/a-/AOh14Gg69bZMv30ckb-T1MJy0nSxWIHUaP0p2uP6MYBuvQ=s64",
      "userId": "07985253921366566280"
     }
    },
    "outputId": "2e98e775-4a1c-4a58-9f6f-b3e4bac9ee95",
    "cell_id": "00011-c4c166cc-7354-44ea-b554-852f4b8f4f86",
    "deepnote_to_be_reexecuted": false,
    "source_hash": "cf6b0c28",
    "execution_start": 1630098295168,
    "execution_millis": 189,
    "deepnote_cell_type": "code"
   },
   "source": "top_items = pd.DataFrame(chipo.groupby(['item_name'])['quantity'].sum().sort_values(ascending = False).head(5)).reset_index()\nfig, ax = plt.subplots(figsize=(10,5))\nax.bar(top_items['item_name'], top_items['quantity'], width = 0.5)\nax.grid()\nplt.title('Top 5 item bought')\nplt.xlabel('items name')\nplt.ylabel('quantity')",
   "execution_count": 5,
   "outputs": [
    {
     "output_type": "execute_result",
     "execution_count": 5,
     "data": {
      "text/plain": "Text(0, 0.5, 'quantity')"
     },
     "metadata": {}
    },
    {
     "data": {
      "text/plain": "<Figure size 720x360 with 1 Axes>",
      "image/png": "[encoded data removed]"
     },
     "metadata": {
      "needs_background": "light",
      "image/png": {
       "width": 612,
       "height": 333
      }
     },
     "output_type": "display_data"
    }
   ]
  },
  {
   "cell_type": "markdown",
   "source": "### Step 6. Create a scatterplot with the number of items orderered per order price\n#### Hint: Price should be in the X-axis and Items ordered in the Y-axis",
   "metadata": {
    "id": "g0m0pPZJ26I5",
    "cell_id": "00012-b0764059-4ebf-4146-bc59-09c3025b5e13",
    "deepnote_cell_type": "markdown"
   }
  },
  {
   "cell_type": "code",
   "metadata": {
    "id": "QTPysz6MApRC",
    "executionInfo": {
     "status": "ok",
     "timestamp": 1624138040007,
     "user_tz": 240,
     "elapsed": 4,
     "user": {
      "displayName": "Andrés Sánchez",
      "photoUrl": "https://lh3.googleusercontent.com/a-/AOh14Gg69bZMv30ckb-T1MJy0nSxWIHUaP0p2uP6MYBuvQ=s64",
      "userId": "07985253921366566280"
     }
    },
    "cell_id": "00013-8fb2d4fa-0185-41b0-8d8d-e0a7c5698960",
    "deepnote_to_be_reexecuted": false,
    "source_hash": "7fdf7ddf",
    "execution_start": 1630098295411,
    "execution_millis": 6,
    "deepnote_cell_type": "code"
   },
   "source": "chipo['item_price'] = chipo['item_price'].str.replace('$','')\nchipo['item_price'] = chipo['item_price'].str.replace(' ','')\nchipo['item_price'] = chipo['item_price'].apply(float)",
   "execution_count": 6,
   "outputs": [
    {
     "name": "stderr",
     "text": "/tmp/ipykernel_598/2146072271.py:1: FutureWarning: The default value of regex will change from True to False in a future version. In addition, single character regular expressions will*not* be treated as literal strings when regex=True.\n  chipo['item_price'] = chipo['item_price'].str.replace('$','')\n",
     "output_type": "stream"
    }
   ]
  },
  {
   "cell_type": "code",
   "metadata": {
    "id": "3i9Akun9GSkV",
    "executionInfo": {
     "status": "ok",
     "timestamp": 1624138040007,
     "user_tz": 240,
     "elapsed": 3,
     "user": {
      "displayName": "Andrés Sánchez",
      "photoUrl": "https://lh3.googleusercontent.com/a-/AOh14Gg69bZMv30ckb-T1MJy0nSxWIHUaP0p2uP6MYBuvQ=s64",
      "userId": "07985253921366566280"
     }
    },
    "cell_id": "00014-1bb55df0-3a08-46d3-901e-397d301a8f66",
    "deepnote_to_be_reexecuted": false,
    "source_hash": "216af8e4",
    "execution_start": 1630098295412,
    "execution_millis": 1,
    "deepnote_cell_type": "code"
   },
   "source": "chipo_group = chipo.groupby('order_id').sum()",
   "execution_count": 7,
   "outputs": []
  },
  {
   "cell_type": "code",
   "metadata": {
    "id": "moHIaJpi26I6",
    "colab": {
     "base_uri": "https://localhost:8080/",
     "height": 475
    },
    "executionInfo": {
     "status": "ok",
     "timestamp": 1624138040386,
     "user_tz": 240,
     "elapsed": 382,
     "user": {
      "displayName": "Andrés Sánchez",
      "photoUrl": "https://lh3.googleusercontent.com/a-/AOh14Gg69bZMv30ckb-T1MJy0nSxWIHUaP0p2uP6MYBuvQ=s64",
      "userId": "07985253921366566280"
     }
    },
    "outputId": "11671bf3-1efe-4d09-fa83-7d528323d852",
    "cell_id": "00015-cc154150-c6d4-4a51-ba9f-eb598197b487",
    "deepnote_to_be_reexecuted": false,
    "source_hash": "bbca5bd6",
    "execution_start": 1630098295455,
    "execution_millis": 202,
    "deepnote_cell_type": "code"
   },
   "source": "fig, ax2 = plt.subplots(figsize=(20,7))\nax2.scatter(chipo_group.item_price, chipo_group.quantity, c = 'red')\nax2.grid()\nplt.title('# of items ordered per order price')\nplt.xlabel('a')\nplt.ylabel('b')",
   "execution_count": 8,
   "outputs": [
    {
     "output_type": "execute_result",
     "execution_count": 8,
     "data": {
      "text/plain": "Text(0, 0.5, 'b')"
     },
     "metadata": {}
    },
    {
     "data": {
      "text/plain": "<Figure size 1440x504 with 1 Axes>",
      "image/png": "[encoded data removed]"
     },
     "metadata": {
      "needs_background": "light",
      "image/png": {
       "width": 1164,
       "height": 441
      }
     },
     "output_type": "display_data"
    }
   ]
  },
  {
   "cell_type": "markdown",
   "source": "### Step 7. BONUS: Create a question and a graph to answer your own question.",
   "metadata": {
    "id": "2lwC3sGX26I6",
    "cell_id": "00016-393e7eb3-2948-4e9c-a9e8-3e1b13978210",
    "deepnote_cell_type": "markdown"
   }
  },
  {
   "cell_type": "code",
   "metadata": {
    "id": "ottVMuZ826I6",
    "colab": {
     "base_uri": "https://localhost:8080/",
     "height": 367
    },
    "executionInfo": {
     "status": "ok",
     "timestamp": 1624139886920,
     "user_tz": 240,
     "elapsed": 653,
     "user": {
      "displayName": "Andrés Sánchez",
      "photoUrl": "https://lh3.googleusercontent.com/a-/AOh14Gg69bZMv30ckb-T1MJy0nSxWIHUaP0p2uP6MYBuvQ=s64",
      "userId": "07985253921366566280"
     }
    },
    "outputId": "1c4b8ce8-62c3-4985-fd21-f408e553db67",
    "cell_id": "00017-b88f252d-b003-48f7-a861-7d0e6ab14986",
    "deepnote_to_be_reexecuted": false,
    "source_hash": "fa26c1",
    "execution_start": 1630098295691,
    "execution_millis": 121,
    "deepnote_cell_type": "code"
   },
   "source": "# Which are the 5 items with the highest price on avg.\n\ntop_items2 = chipo.groupby('item_name')['item_price'].mean().sort_values(ascending = False).head(5)\ntop_items2 = top_items2.reset_index()\nfig, ax = plt.subplots(figsize=(10,5))\nax.bar(top_items2['item_name'], top_items2['item_price'], width = 0.5)\nax.grid()\nplt.title('Top 5 item price')\nplt.xlabel('items name')\nplt.ylabel('item price')",
   "execution_count": 9,
   "outputs": [
    {
     "output_type": "execute_result",
     "execution_count": 9,
     "data": {
      "text/plain": "Text(0, 0.5, 'item price')"
     },
     "metadata": {}
    },
    {
     "data": {
      "text/plain": "<Figure size 720x360 with 1 Axes>",
      "image/png": "[encoded data removed]"
     },
     "metadata": {
      "needs_background": "light",
      "image/png": {
       "width": 606,
       "height": 333
      }
     },
     "output_type": "display_data"
    }
   ]
  },
  {
   "cell_type": "markdown",
   "source": "<a style='text-decoration:none;line-height:16px;display:flex;color:#5B5B62;padding:10px;justify-content:end;' href='https://deepnote.com?utm_source=created-in-deepnote-cell&projectId=fe744348-fecc-4b7a-803c-44dba24ecb38' target=\"_blank\">\n<img alt='Created in deepnote.com' style='display:inline;max-height:16px;margin:0px;margin-right:7.5px;' src='data:image/svg+xml;base64,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' > </img>\nCreated in <span style='font-weight:600;margin-left:4px;'>Deepnote</span></a>",
   "metadata": {
    "tags": [],
    "created_in_deepnote_cell": true,
    "deepnote_cell_type": "markdown"
   }
  }
 ],
 "nbformat": 4,
 "nbformat_minor": 0,
 "metadata": {
  "kernelspec": {
   "display_name": "Python 3",
   "language": "python",
   "name": "python3"
  },
  "language_info": {
   "codemirror_mode": {
    "name": "ipython",
    "version": 3
   },
   "file_extension": ".py",
   "mimetype": "text/x-python",
   "name": "python",
   "nbconvert_exporter": "python",
   "pygments_lexer": "ipython3",
   "version": "3.7.3"
  },
  "colab": {
   "name": "Exercises.ipynb",
   "provenance": [],
   "collapsed_sections": []
  },
  "deepnote_notebook_id": "8b69dc58-150c-4305-ad85-2e09adb7cfb4",
  "deepnote": {},
  "deepnote_execution_queue": []
 }
}
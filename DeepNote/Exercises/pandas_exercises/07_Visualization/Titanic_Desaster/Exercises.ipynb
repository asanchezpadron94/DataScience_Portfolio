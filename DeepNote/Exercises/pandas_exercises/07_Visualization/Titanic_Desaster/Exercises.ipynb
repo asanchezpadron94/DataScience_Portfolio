{
 "cells": [
  {
   "cell_type": "markdown",
   "source": "# Visualizing the Titanic Disaster",
   "metadata": {
    "id": "ot1zIjkJI_nf",
    "cell_id": "00000-b3a86b77-7611-4b35-85b8-2745336a6771",
    "deepnote_cell_type": "markdown"
   }
  },
  {
   "cell_type": "markdown",
   "source": "### Introduction:\n\nThis exercise is based on the titanic Disaster dataset avaiable at [Kaggle](https://www.kaggle.com/c/titanic).  \nTo know more about the variables check [here](https://www.kaggle.com/c/titanic/data)\n\n\n### Step 1. Import the necessary libraries",
   "metadata": {
    "id": "YXQ8t3tlI_nh",
    "cell_id": "00001-c5d0a5a6-86c4-4c22-8215-9fd7d090ba29",
    "deepnote_cell_type": "markdown"
   }
  },
  {
   "cell_type": "code",
   "metadata": {
    "id": "p0588C3dI_ni",
    "executionInfo": {
     "status": "ok",
     "timestamp": 1624245334511,
     "user_tz": 240,
     "elapsed": 160,
     "user": {
      "displayName": "Andrés Sánchez",
      "photoUrl": "https://lh3.googleusercontent.com/a-/AOh14Gg69bZMv30ckb-T1MJy0nSxWIHUaP0p2uP6MYBuvQ=s64",
      "userId": "07985253921366566280"
     }
    },
    "cell_id": "00002-687b44f5-ae3d-41d2-b145-5d7810daf84f",
    "deepnote_to_be_reexecuted": false,
    "source_hash": "73492ea0",
    "execution_start": 1630098401965,
    "execution_millis": 703,
    "deepnote_cell_type": "code"
   },
   "source": "import pandas as pd\nimport numpy as np\nimport matplotlib.pyplot as plt\nimport seaborn as sns\nfrom matplotlib.pyplot import figure",
   "execution_count": 1,
   "outputs": []
  },
  {
   "cell_type": "code",
   "metadata": {
    "id": "1TtXvcwbJTna",
    "executionInfo": {
     "status": "ok",
     "timestamp": 1624245334660,
     "user_tz": 240,
     "elapsed": 5,
     "user": {
      "displayName": "Andrés Sánchez",
      "photoUrl": "https://lh3.googleusercontent.com/a-/AOh14Gg69bZMv30ckb-T1MJy0nSxWIHUaP0p2uP6MYBuvQ=s64",
      "userId": "07985253921366566280"
     }
    },
    "cell_id": "00003-9da8d1c5-61ba-438c-b4c0-06b3fadd427f",
    "deepnote_to_be_reexecuted": false,
    "source_hash": "ff9eac54",
    "execution_start": 1630098402671,
    "execution_millis": 2,
    "deepnote_cell_type": "code"
   },
   "source": "pd.options.display.float_format = '{:,.1f}'.format",
   "execution_count": 2,
   "outputs": []
  },
  {
   "cell_type": "markdown",
   "source": "### Step 2. Import the dataset from this [address](https://raw.githubusercontent.com/guipsamora/pandas_exercises/master/07_Visualization/Titanic_Desaster/train.csv)",
   "metadata": {
    "id": "im4TYzGkI_ni",
    "cell_id": "00004-fbeb9c74-651b-4c9d-97f1-b010b72ce613",
    "deepnote_cell_type": "markdown"
   }
  },
  {
   "cell_type": "markdown",
   "source": "### Step 3. Assign it to a variable titanic ",
   "metadata": {
    "id": "_4xY-0StI_nj",
    "cell_id": "00005-db2a29d9-7abc-4f7a-9e2c-7fac8a63e8d2",
    "deepnote_cell_type": "markdown"
   }
  },
  {
   "cell_type": "code",
   "metadata": {
    "colab": {
     "base_uri": "https://localhost:8080/",
     "height": 198
    },
    "id": "ul1wfFJdI_nj",
    "executionInfo": {
     "status": "ok",
     "timestamp": 1624245334935,
     "user_tz": 240,
     "elapsed": 279,
     "user": {
      "displayName": "Andrés Sánchez",
      "photoUrl": "https://lh3.googleusercontent.com/a-/AOh14Gg69bZMv30ckb-T1MJy0nSxWIHUaP0p2uP6MYBuvQ=s64",
      "userId": "07985253921366566280"
     }
    },
    "outputId": "225c4627-92ea-4297-b773-ce875334943e",
    "cell_id": "00006-10fd66ff-5b8a-4279-814c-84025916ea4d",
    "deepnote_to_be_reexecuted": false,
    "source_hash": "c038767e",
    "execution_start": 1630098402676,
    "execution_millis": 173,
    "deepnote_cell_type": "code"
   },
   "source": "titanic = pd.read_csv('https://raw.githubusercontent.com/guipsamora/pandas_exercises/master/07_Visualization/Titanic_Desaster/train.csv')\ntitanic.tail(5)",
   "execution_count": 3,
   "outputs": [
    {
     "output_type": "execute_result",
     "execution_count": 3,
     "data": {
      "application/vnd.deepnote.dataframe.v2+json": {
       "row_count": 5,
       "column_count": 12,
       "columns": [
        {
         "name": "PassengerId",
         "dtype": "int64",
         "stats": {
          "unique_count": 5,
          "nan_count": 0,
          "min": "887",
          "max": "891",
          "histogram": [
           {
            "bin_start": 887,
            "bin_end": 887.4,
            "count": 1
           },
           {
            "bin_start": 887.4,
            "bin_end": 887.8,
            "count": 0
           },
           {
            "bin_start": 887.8,
            "bin_end": 888.2,
            "count": 1
           },
           {
            "bin_start": 888.2,
            "bin_end": 888.6,
            "count": 0
           },
           {
            "bin_start": 888.6,
            "bin_end": 889,
            "count": 0
           },
           {
            "bin_start": 889,
            "bin_end": 889.4,
            "count": 1
           },
           {
            "bin_start": 889.4,
            "bin_end": 889.8,
            "count": 0
           },
           {
            "bin_start": 889.8,
            "bin_end": 890.2,
            "count": 1
           },
           {
            "bin_start": 890.2,
            "bin_end": 890.6,
            "count": 0
           },
           {
            "bin_start": 890.6,
            "bin_end": 891,
            "count": 1
           }
          ]
         }
        },
        {
         "name": "Survived",
         "dtype": "int64",
         "stats": {
          "unique_count": 2,
          "nan_count": 0,
          "min": "0",
          "max": "1",
          "histogram": [
           {
            "bin_start": 0,
            "bin_end": 0.1,
            "count": 3
           },
           {
            "bin_start": 0.1,
            "bin_end": 0.2,
            "count": 0
           },
           {
            "bin_start": 0.2,
            "bin_end": 0.30000000000000004,
            "count": 0
           },
           {
            "bin_start": 0.30000000000000004,
            "bin_end": 0.4,
            "count": 0
           },
           {
            "bin_start": 0.4,
            "bin_end": 0.5,
            "count": 0
           },
           {
            "bin_start": 0.5,
            "bin_end": 0.6000000000000001,
            "count": 0
           },
           {
            "bin_start": 0.6000000000000001,
            "bin_end": 0.7000000000000001,
            "count": 0
           },
           {
            "bin_start": 0.7000000000000001,
            "bin_end": 0.8,
            "count": 0
           },
           {
            "bin_start": 0.8,
            "bin_end": 0.9,
            "count": 0
           },
           {
            "bin_start": 0.9,
            "bin_end": 1,
            "count": 2
           }
          ]
         }
        },
        {
         "name": "Pclass",
         "dtype": "int64",
         "stats": {
          "unique_count": 3,
          "nan_count": 0,
          "min": "1",
          "max": "3",
          "histogram": [
           {
            "bin_start": 1,
            "bin_end": 1.2,
            "count": 2
           },
           {
            "bin_start": 1.2,
            "bin_end": 1.4,
            "count": 0
           },
           {
            "bin_start": 1.4,
            "bin_end": 1.6,
            "count": 0
           },
           {
            "bin_start": 1.6,
            "bin_end": 1.8,
            "count": 0
           },
           {
            "bin_start": 1.8,
            "bin_end": 2,
            "count": 0
           },
           {
            "bin_start": 2,
            "bin_end": 2.2,
            "count": 1
           },
           {
            "bin_start": 2.2,
            "bin_end": 2.4000000000000004,
            "count": 0
           },
           {
            "bin_start": 2.4000000000000004,
            "bin_end": 2.6,
            "count": 0
           },
           {
            "bin_start": 2.6,
            "bin_end": 2.8,
            "count": 0
           },
           {
            "bin_start": 2.8,
            "bin_end": 3,
            "count": 2
           }
          ]
         }
        },
        {
         "name": "Name",
         "dtype": "object",
         "stats": {
          "unique_count": 5,
          "nan_count": 0,
          "categories": [
           {
            "name": "Montvila, Rev. Juozas",
            "count": 1
           },
           {
            "name": "Graham, Miss. Margaret Edith",
            "count": 1
           },
           {
            "name": "3 others",
            "count": 3
           }
          ]
         }
        },
        {
         "name": "Sex",
         "dtype": "object",
         "stats": {
          "unique_count": 2,
          "nan_count": 0,
          "categories": [
           {
            "name": "male",
            "count": 3
           },
           {
            "name": "female",
            "count": 2
           }
          ]
         }
        },
        {
         "name": "Age",
         "dtype": "float64",
         "stats": {
          "unique_count": 4,
          "nan_count": 1,
          "min": "19.0",
          "max": "32.0",
          "histogram": [
           {
            "bin_start": 19,
            "bin_end": 20.3,
            "count": 1
           },
           {
            "bin_start": 20.3,
            "bin_end": 21.6,
            "count": 0
           },
           {
            "bin_start": 21.6,
            "bin_end": 22.9,
            "count": 0
           },
           {
            "bin_start": 22.9,
            "bin_end": 24.2,
            "count": 0
           },
           {
            "bin_start": 24.2,
            "bin_end": 25.5,
            "count": 0
           },
           {
            "bin_start": 25.5,
            "bin_end": 26.8,
            "count": 1
           },
           {
            "bin_start": 26.8,
            "bin_end": 28.1,
            "count": 1
           },
           {
            "bin_start": 28.1,
            "bin_end": 29.4,
            "count": 0
           },
           {
            "bin_start": 29.4,
            "bin_end": 30.700000000000003,
            "count": 0
           },
           {
            "bin_start": 30.700000000000003,
            "bin_end": 32,
            "count": 1
           }
          ]
         }
        },
        {
         "name": "SibSp",
         "dtype": "int64",
         "stats": {
          "unique_count": 2,
          "nan_count": 0,
          "min": "0",
          "max": "1",
          "histogram": [
           {
            "bin_start": 0,
            "bin_end": 0.1,
            "count": 4
           },
           {
            "bin_start": 0.1,
            "bin_end": 0.2,
            "count": 0
           },
           {
            "bin_start": 0.2,
            "bin_end": 0.30000000000000004,
            "count": 0
           },
           {
            "bin_start": 0.30000000000000004,
            "bin_end": 0.4,
            "count": 0
           },
           {
            "bin_start": 0.4,
            "bin_end": 0.5,
            "count": 0
           },
           {
            "bin_start": 0.5,
            "bin_end": 0.6000000000000001,
            "count": 0
           },
           {
            "bin_start": 0.6000000000000001,
            "bin_end": 0.7000000000000001,
            "count": 0
           },
           {
            "bin_start": 0.7000000000000001,
            "bin_end": 0.8,
            "count": 0
           },
           {
            "bin_start": 0.8,
            "bin_end": 0.9,
            "count": 0
           },
           {
            "bin_start": 0.9,
            "bin_end": 1,
            "count": 1
           }
          ]
         }
        },
        {
         "name": "Parch",
         "dtype": "int64",
         "stats": {
          "unique_count": 2,
          "nan_count": 0,
          "min": "0",
          "max": "2",
          "histogram": [
           {
            "bin_start": 0,
            "bin_end": 0.2,
            "count": 4
           },
           {
            "bin_start": 0.2,
            "bin_end": 0.4,
            "count": 0
           },
           {
            "bin_start": 0.4,
            "bin_end": 0.6000000000000001,
            "count": 0
           },
           {
            "bin_start": 0.6000000000000001,
            "bin_end": 0.8,
            "count": 0
           },
           {
            "bin_start": 0.8,
            "bin_end": 1,
            "count": 0
           },
           {
            "bin_start": 1,
            "bin_end": 1.2000000000000002,
            "count": 0
           },
           {
            "bin_start": 1.2000000000000002,
            "bin_end": 1.4000000000000001,
            "count": 0
           },
           {
            "bin_start": 1.4000000000000001,
            "bin_end": 1.6,
            "count": 0
           },
           {
            "bin_start": 1.6,
            "bin_end": 1.8,
            "count": 0
           },
           {
            "bin_start": 1.8,
            "bin_end": 2,
            "count": 1
           }
          ]
         }
        },
        {
         "name": "Ticket",
         "dtype": "object",
         "stats": {
          "unique_count": 5,
          "nan_count": 0,
          "categories": [
           {
            "name": "211536",
            "count": 1
           },
           {
            "name": "112053",
            "count": 1
           },
           {
            "name": "3 others",
            "count": 3
           }
          ]
         }
        },
        {
         "name": "Fare",
         "dtype": "float64",
         "stats": {
          "unique_count": 4,
          "nan_count": 0,
          "min": "7.75",
          "max": "30.0",
          "histogram": [
           {
            "bin_start": 7.75,
            "bin_end": 9.975,
            "count": 1
           },
           {
            "bin_start": 9.975,
            "bin_end": 12.2,
            "count": 0
           },
           {
            "bin_start": 12.2,
            "bin_end": 14.425,
            "count": 1
           },
           {
            "bin_start": 14.425,
            "bin_end": 16.65,
            "count": 0
           },
           {
            "bin_start": 16.65,
            "bin_end": 18.875,
            "count": 0
           },
           {
            "bin_start": 18.875,
            "bin_end": 21.1,
            "count": 0
           },
           {
            "bin_start": 21.1,
            "bin_end": 23.325000000000003,
            "count": 0
           },
           {
            "bin_start": 23.325000000000003,
            "bin_end": 25.55,
            "count": 1
           },
           {
            "bin_start": 25.55,
            "bin_end": 27.775000000000002,
            "count": 0
           },
           {
            "bin_start": 27.775000000000002,
            "bin_end": 30,
            "count": 2
           }
          ]
         }
        },
        {
         "name": "Cabin",
         "dtype": "object",
         "stats": {
          "unique_count": 2,
          "nan_count": 3,
          "categories": [
           {
            "name": "B42",
            "count": 1
           },
           {
            "name": "C148",
            "count": 1
           },
           {
            "name": "Missing",
            "count": 3
           }
          ]
         }
        },
        {
         "name": "Embarked",
         "dtype": "object",
         "stats": {
          "unique_count": 3,
          "nan_count": 0,
          "categories": [
           {
            "name": "S",
            "count": 3
           },
           {
            "name": "C",
            "count": 1
           },
           {
            "name": "Q",
            "count": 1
           }
          ]
         }
        },
        {
         "name": "_deepnote_index_column",
         "dtype": "int64"
        }
       ],
       "rows_top": [
        {
         "PassengerId": 887,
         "Survived": 0,
         "Pclass": 2,
         "Name": "Montvila, Rev. Juozas",
         "Sex": "male",
         "Age": 27,
         "SibSp": 0,
         "Parch": 0,
         "Ticket": "211536",
         "Fare": 13,
         "Cabin": "nan",
         "Embarked": "S",
         "_deepnote_index_column": 886
        },
        {
         "PassengerId": 888,
         "Survived": 1,
         "Pclass": 1,
         "Name": "Graham, Miss. Margaret Edith",
         "Sex": "female",
         "Age": 19,
         "SibSp": 0,
         "Parch": 0,
         "Ticket": "112053",
         "Fare": 30,
         "Cabin": "B42",
         "Embarked": "S",
         "_deepnote_index_column": 887
        },
        {
         "PassengerId": 889,
         "Survived": 0,
         "Pclass": 3,
         "Name": "Johnston, Miss. Catherine Helen \"Carrie\"",
         "Sex": "female",
         "Age": "nan",
         "SibSp": 1,
         "Parch": 2,
         "Ticket": "W./C. 6607",
         "Fare": 23.45,
         "Cabin": "nan",
         "Embarked": "S",
         "_deepnote_index_column": 888
        },
        {
         "PassengerId": 890,
         "Survived": 1,
         "Pclass": 1,
         "Name": "Behr, Mr. Karl Howell",
         "Sex": "male",
         "Age": 26,
         "SibSp": 0,
         "Parch": 0,
         "Ticket": "111369",
         "Fare": 30,
         "Cabin": "C148",
         "Embarked": "C",
         "_deepnote_index_column": 889
        },
        {
         "PassengerId": 891,
         "Survived": 0,
         "Pclass": 3,
         "Name": "Dooley, Mr. Patrick",
         "Sex": "male",
         "Age": 32,
         "SibSp": 0,
         "Parch": 0,
         "Ticket": "370376",
         "Fare": 7.75,
         "Cabin": "nan",
         "Embarked": "Q",
         "_deepnote_index_column": 890
        }
       ],
       "rows_bottom": null
      },
      "text/plain": "     PassengerId  Survived  Pclass                                      Name  \\\n886          887         0       2                     Montvila, Rev. Juozas   \n887          888         1       1              Graham, Miss. Margaret Edith   \n888          889         0       3  Johnston, Miss. Catherine Helen \"Carrie\"   \n889          890         1       1                     Behr, Mr. Karl Howell   \n890          891         0       3                       Dooley, Mr. Patrick   \n\n        Sex  Age  SibSp  Parch      Ticket  Fare Cabin Embarked  \n886    male 27.0      0      0      211536  13.0   NaN        S  \n887  female 19.0      0      0      112053  30.0   B42        S  \n888  female  NaN      1      2  W./C. 6607  23.4   NaN        S  \n889    male 26.0      0      0      111369  30.0  C148        C  \n890    male 32.0      0      0      370376   7.8   NaN        Q  ",
      "text/html": "<div>\n<style scoped>\n    .dataframe tbody tr th:only-of-type {\n        vertical-align: middle;\n    }\n\n    .dataframe tbody tr th {\n        vertical-align: top;\n    }\n\n    .dataframe thead th {\n        text-align: right;\n    }\n</style>\n<table border=\"1\" class=\"dataframe\">\n  <thead>\n    <tr style=\"text-align: right;\">\n      <th></th>\n      <th>PassengerId</th>\n      <th>Survived</th>\n      <th>Pclass</th>\n      <th>Name</th>\n      <th>Sex</th>\n      <th>Age</th>\n      <th>SibSp</th>\n      <th>Parch</th>\n      <th>Ticket</th>\n      <th>Fare</th>\n      <th>Cabin</th>\n      <th>Embarked</th>\n    </tr>\n  </thead>\n  <tbody>\n    <tr>\n      <th>886</th>\n      <td>887</td>\n      <td>0</td>\n      <td>2</td>\n      <td>Montvila, Rev. Juozas</td>\n      <td>male</td>\n      <td>27.0</td>\n      <td>0</td>\n      <td>0</td>\n      <td>211536</td>\n      <td>13.0</td>\n      <td>NaN</td>\n      <td>S</td>\n    </tr>\n    <tr>\n      <th>887</th>\n      <td>888</td>\n      <td>1</td>\n      <td>1</td>\n      <td>Graham, Miss. Margaret Edith</td>\n      <td>female</td>\n      <td>19.0</td>\n      <td>0</td>\n      <td>0</td>\n      <td>112053</td>\n      <td>30.0</td>\n      <td>B42</td>\n      <td>S</td>\n    </tr>\n    <tr>\n      <th>888</th>\n      <td>889</td>\n      <td>0</td>\n      <td>3</td>\n      <td>Johnston, Miss. Catherine Helen \"Carrie\"</td>\n      <td>female</td>\n      <td>NaN</td>\n      <td>1</td>\n      <td>2</td>\n      <td>W./C. 6607</td>\n      <td>23.4</td>\n      <td>NaN</td>\n      <td>S</td>\n    </tr>\n    <tr>\n      <th>889</th>\n      <td>890</td>\n      <td>1</td>\n      <td>1</td>\n      <td>Behr, Mr. Karl Howell</td>\n      <td>male</td>\n      <td>26.0</td>\n      <td>0</td>\n      <td>0</td>\n      <td>111369</td>\n      <td>30.0</td>\n      <td>C148</td>\n      <td>C</td>\n    </tr>\n    <tr>\n      <th>890</th>\n      <td>891</td>\n      <td>0</td>\n      <td>3</td>\n      <td>Dooley, Mr. Patrick</td>\n      <td>male</td>\n      <td>32.0</td>\n      <td>0</td>\n      <td>0</td>\n      <td>370376</td>\n      <td>7.8</td>\n      <td>NaN</td>\n      <td>Q</td>\n    </tr>\n  </tbody>\n</table>\n</div>"
     },
     "metadata": {}
    }
   ]
  },
  {
   "cell_type": "markdown",
   "source": "### Step 4. Set PassengerId as the index ",
   "metadata": {
    "id": "DXjRKalNI_nj",
    "cell_id": "00007-fca0a463-7826-48f3-82e7-067e1a2519db",
    "deepnote_cell_type": "markdown"
   }
  },
  {
   "cell_type": "code",
   "metadata": {
    "colab": {
     "base_uri": "https://localhost:8080/",
     "height": 228
    },
    "id": "ay2cr_twI_nk",
    "executionInfo": {
     "status": "ok",
     "timestamp": 1624245334936,
     "user_tz": 240,
     "elapsed": 9,
     "user": {
      "displayName": "Andrés Sánchez",
      "photoUrl": "https://lh3.googleusercontent.com/a-/AOh14Gg69bZMv30ckb-T1MJy0nSxWIHUaP0p2uP6MYBuvQ=s64",
      "userId": "07985253921366566280"
     }
    },
    "outputId": "ca515856-4a52-4177-96a1-6424e3b448f0",
    "cell_id": "00008-2bf23257-0e46-4a75-aa1e-f25a7bdf088f",
    "deepnote_to_be_reexecuted": false,
    "source_hash": "99c7c552",
    "execution_start": 1630098402828,
    "execution_millis": 44,
    "deepnote_cell_type": "code"
   },
   "source": "titanic = titanic.set_index(titanic['PassengerId'], drop = True)\ntitanic = titanic.drop(columns = ['PassengerId'])\ntitanic.tail(5)",
   "execution_count": 4,
   "outputs": [
    {
     "output_type": "execute_result",
     "execution_count": 4,
     "data": {
      "application/vnd.deepnote.dataframe.v2+json": {
       "row_count": 5,
       "column_count": 11,
       "columns": [
        {
         "name": "Survived",
         "dtype": "int64",
         "stats": {
          "unique_count": 2,
          "nan_count": 0,
          "min": "0",
          "max": "1",
          "histogram": [
           {
            "bin_start": 0,
            "bin_end": 0.1,
            "count": 3
           },
           {
            "bin_start": 0.1,
            "bin_end": 0.2,
            "count": 0
           },
           {
            "bin_start": 0.2,
            "bin_end": 0.30000000000000004,
            "count": 0
           },
           {
            "bin_start": 0.30000000000000004,
            "bin_end": 0.4,
            "count": 0
           },
           {
            "bin_start": 0.4,
            "bin_end": 0.5,
            "count": 0
           },
           {
            "bin_start": 0.5,
            "bin_end": 0.6000000000000001,
            "count": 0
           },
           {
            "bin_start": 0.6000000000000001,
            "bin_end": 0.7000000000000001,
            "count": 0
           },
           {
            "bin_start": 0.7000000000000001,
            "bin_end": 0.8,
            "count": 0
           },
           {
            "bin_start": 0.8,
            "bin_end": 0.9,
            "count": 0
           },
           {
            "bin_start": 0.9,
            "bin_end": 1,
            "count": 2
           }
          ]
         }
        },
        {
         "name": "Pclass",
         "dtype": "int64",
         "stats": {
          "unique_count": 3,
          "nan_count": 0,
          "min": "1",
          "max": "3",
          "histogram": [
           {
            "bin_start": 1,
            "bin_end": 1.2,
            "count": 2
           },
           {
            "bin_start": 1.2,
            "bin_end": 1.4,
            "count": 0
           },
           {
            "bin_start": 1.4,
            "bin_end": 1.6,
            "count": 0
           },
           {
            "bin_start": 1.6,
            "bin_end": 1.8,
            "count": 0
           },
           {
            "bin_start": 1.8,
            "bin_end": 2,
            "count": 0
           },
           {
            "bin_start": 2,
            "bin_end": 2.2,
            "count": 1
           },
           {
            "bin_start": 2.2,
            "bin_end": 2.4000000000000004,
            "count": 0
           },
           {
            "bin_start": 2.4000000000000004,
            "bin_end": 2.6,
            "count": 0
           },
           {
            "bin_start": 2.6,
            "bin_end": 2.8,
            "count": 0
           },
           {
            "bin_start": 2.8,
            "bin_end": 3,
            "count": 2
           }
          ]
         }
        },
        {
         "name": "Name",
         "dtype": "object",
         "stats": {
          "unique_count": 5,
          "nan_count": 0,
          "categories": [
           {
            "name": "Montvila, Rev. Juozas",
            "count": 1
           },
           {
            "name": "Graham, Miss. Margaret Edith",
            "count": 1
           },
           {
            "name": "3 others",
            "count": 3
           }
          ]
         }
        },
        {
         "name": "Sex",
         "dtype": "object",
         "stats": {
          "unique_count": 2,
          "nan_count": 0,
          "categories": [
           {
            "name": "male",
            "count": 3
           },
           {
            "name": "female",
            "count": 2
           }
          ]
         }
        },
        {
         "name": "Age",
         "dtype": "float64",
         "stats": {
          "unique_count": 4,
          "nan_count": 1,
          "min": "19.0",
          "max": "32.0",
          "histogram": [
           {
            "bin_start": 19,
            "bin_end": 20.3,
            "count": 1
           },
           {
            "bin_start": 20.3,
            "bin_end": 21.6,
            "count": 0
           },
           {
            "bin_start": 21.6,
            "bin_end": 22.9,
            "count": 0
           },
           {
            "bin_start": 22.9,
            "bin_end": 24.2,
            "count": 0
           },
           {
            "bin_start": 24.2,
            "bin_end": 25.5,
            "count": 0
           },
           {
            "bin_start": 25.5,
            "bin_end": 26.8,
            "count": 1
           },
           {
            "bin_start": 26.8,
            "bin_end": 28.1,
            "count": 1
           },
           {
            "bin_start": 28.1,
            "bin_end": 29.4,
            "count": 0
           },
           {
            "bin_start": 29.4,
            "bin_end": 30.700000000000003,
            "count": 0
           },
           {
            "bin_start": 30.700000000000003,
            "bin_end": 32,
            "count": 1
           }
          ]
         }
        },
        {
         "name": "SibSp",
         "dtype": "int64",
         "stats": {
          "unique_count": 2,
          "nan_count": 0,
          "min": "0",
          "max": "1",
          "histogram": [
           {
            "bin_start": 0,
            "bin_end": 0.1,
            "count": 4
           },
           {
            "bin_start": 0.1,
            "bin_end": 0.2,
            "count": 0
           },
           {
            "bin_start": 0.2,
            "bin_end": 0.30000000000000004,
            "count": 0
           },
           {
            "bin_start": 0.30000000000000004,
            "bin_end": 0.4,
            "count": 0
           },
           {
            "bin_start": 0.4,
            "bin_end": 0.5,
            "count": 0
           },
           {
            "bin_start": 0.5,
            "bin_end": 0.6000000000000001,
            "count": 0
           },
           {
            "bin_start": 0.6000000000000001,
            "bin_end": 0.7000000000000001,
            "count": 0
           },
           {
            "bin_start": 0.7000000000000001,
            "bin_end": 0.8,
            "count": 0
           },
           {
            "bin_start": 0.8,
            "bin_end": 0.9,
            "count": 0
           },
           {
            "bin_start": 0.9,
            "bin_end": 1,
            "count": 1
           }
          ]
         }
        },
        {
         "name": "Parch",
         "dtype": "int64",
         "stats": {
          "unique_count": 2,
          "nan_count": 0,
          "min": "0",
          "max": "2",
          "histogram": [
           {
            "bin_start": 0,
            "bin_end": 0.2,
            "count": 4
           },
           {
            "bin_start": 0.2,
            "bin_end": 0.4,
            "count": 0
           },
           {
            "bin_start": 0.4,
            "bin_end": 0.6000000000000001,
            "count": 0
           },
           {
            "bin_start": 0.6000000000000001,
            "bin_end": 0.8,
            "count": 0
           },
           {
            "bin_start": 0.8,
            "bin_end": 1,
            "count": 0
           },
           {
            "bin_start": 1,
            "bin_end": 1.2000000000000002,
            "count": 0
           },
           {
            "bin_start": 1.2000000000000002,
            "bin_end": 1.4000000000000001,
            "count": 0
           },
           {
            "bin_start": 1.4000000000000001,
            "bin_end": 1.6,
            "count": 0
           },
           {
            "bin_start": 1.6,
            "bin_end": 1.8,
            "count": 0
           },
           {
            "bin_start": 1.8,
            "bin_end": 2,
            "count": 1
           }
          ]
         }
        },
        {
         "name": "Ticket",
         "dtype": "object",
         "stats": {
          "unique_count": 5,
          "nan_count": 0,
          "categories": [
           {
            "name": "211536",
            "count": 1
           },
           {
            "name": "112053",
            "count": 1
           },
           {
            "name": "3 others",
            "count": 3
           }
          ]
         }
        },
        {
         "name": "Fare",
         "dtype": "float64",
         "stats": {
          "unique_count": 4,
          "nan_count": 0,
          "min": "7.75",
          "max": "30.0",
          "histogram": [
           {
            "bin_start": 7.75,
            "bin_end": 9.975,
            "count": 1
           },
           {
            "bin_start": 9.975,
            "bin_end": 12.2,
            "count": 0
           },
           {
            "bin_start": 12.2,
            "bin_end": 14.425,
            "count": 1
           },
           {
            "bin_start": 14.425,
            "bin_end": 16.65,
            "count": 0
           },
           {
            "bin_start": 16.65,
            "bin_end": 18.875,
            "count": 0
           },
           {
            "bin_start": 18.875,
            "bin_end": 21.1,
            "count": 0
           },
           {
            "bin_start": 21.1,
            "bin_end": 23.325000000000003,
            "count": 0
           },
           {
            "bin_start": 23.325000000000003,
            "bin_end": 25.55,
            "count": 1
           },
           {
            "bin_start": 25.55,
            "bin_end": 27.775000000000002,
            "count": 0
           },
           {
            "bin_start": 27.775000000000002,
            "bin_end": 30,
            "count": 2
           }
          ]
         }
        },
        {
         "name": "Cabin",
         "dtype": "object",
         "stats": {
          "unique_count": 2,
          "nan_count": 3,
          "categories": [
           {
            "name": "B42",
            "count": 1
           },
           {
            "name": "C148",
            "count": 1
           },
           {
            "name": "Missing",
            "count": 3
           }
          ]
         }
        },
        {
         "name": "Embarked",
         "dtype": "object",
         "stats": {
          "unique_count": 3,
          "nan_count": 0,
          "categories": [
           {
            "name": "S",
            "count": 3
           },
           {
            "name": "C",
            "count": 1
           },
           {
            "name": "Q",
            "count": 1
           }
          ]
         }
        },
        {
         "name": "_deepnote_index_column",
         "dtype": "int64"
        }
       ],
       "rows_top": [
        {
         "Survived": 0,
         "Pclass": 2,
         "Name": "Montvila, Rev. Juozas",
         "Sex": "male",
         "Age": 27,
         "SibSp": 0,
         "Parch": 0,
         "Ticket": "211536",
         "Fare": 13,
         "Cabin": "nan",
         "Embarked": "S",
         "_deepnote_index_column": 887
        },
        {
         "Survived": 1,
         "Pclass": 1,
         "Name": "Graham, Miss. Margaret Edith",
         "Sex": "female",
         "Age": 19,
         "SibSp": 0,
         "Parch": 0,
         "Ticket": "112053",
         "Fare": 30,
         "Cabin": "B42",
         "Embarked": "S",
         "_deepnote_index_column": 888
        },
        {
         "Survived": 0,
         "Pclass": 3,
         "Name": "Johnston, Miss. Catherine Helen \"Carrie\"",
         "Sex": "female",
         "Age": "nan",
         "SibSp": 1,
         "Parch": 2,
         "Ticket": "W./C. 6607",
         "Fare": 23.45,
         "Cabin": "nan",
         "Embarked": "S",
         "_deepnote_index_column": 889
        },
        {
         "Survived": 1,
         "Pclass": 1,
         "Name": "Behr, Mr. Karl Howell",
         "Sex": "male",
         "Age": 26,
         "SibSp": 0,
         "Parch": 0,
         "Ticket": "111369",
         "Fare": 30,
         "Cabin": "C148",
         "Embarked": "C",
         "_deepnote_index_column": 890
        },
        {
         "Survived": 0,
         "Pclass": 3,
         "Name": "Dooley, Mr. Patrick",
         "Sex": "male",
         "Age": 32,
         "SibSp": 0,
         "Parch": 0,
         "Ticket": "370376",
         "Fare": 7.75,
         "Cabin": "nan",
         "Embarked": "Q",
         "_deepnote_index_column": 891
        }
       ],
       "rows_bottom": null
      },
      "text/plain": "             Survived  Pclass                                      Name  \\\nPassengerId                                                               \n887                 0       2                     Montvila, Rev. Juozas   \n888                 1       1              Graham, Miss. Margaret Edith   \n889                 0       3  Johnston, Miss. Catherine Helen \"Carrie\"   \n890                 1       1                     Behr, Mr. Karl Howell   \n891                 0       3                       Dooley, Mr. Patrick   \n\n                Sex  Age  SibSp  Parch      Ticket  Fare Cabin Embarked  \nPassengerId                                                              \n887            male 27.0      0      0      211536  13.0   NaN        S  \n888          female 19.0      0      0      112053  30.0   B42        S  \n889          female  NaN      1      2  W./C. 6607  23.4   NaN        S  \n890            male 26.0      0      0      111369  30.0  C148        C  \n891            male 32.0      0      0      370376   7.8   NaN        Q  ",
      "text/html": "<div>\n<style scoped>\n    .dataframe tbody tr th:only-of-type {\n        vertical-align: middle;\n    }\n\n    .dataframe tbody tr th {\n        vertical-align: top;\n    }\n\n    .dataframe thead th {\n        text-align: right;\n    }\n</style>\n<table border=\"1\" class=\"dataframe\">\n  <thead>\n    <tr style=\"text-align: right;\">\n      <th></th>\n      <th>Survived</th>\n      <th>Pclass</th>\n      <th>Name</th>\n      <th>Sex</th>\n      <th>Age</th>\n      <th>SibSp</th>\n      <th>Parch</th>\n      <th>Ticket</th>\n      <th>Fare</th>\n      <th>Cabin</th>\n      <th>Embarked</th>\n    </tr>\n    <tr>\n      <th>PassengerId</th>\n      <th></th>\n      <th></th>\n      <th></th>\n      <th></th>\n      <th></th>\n      <th></th>\n      <th></th>\n      <th></th>\n      <th></th>\n      <th></th>\n      <th></th>\n    </tr>\n  </thead>\n  <tbody>\n    <tr>\n      <th>887</th>\n      <td>0</td>\n      <td>2</td>\n      <td>Montvila, Rev. Juozas</td>\n      <td>male</td>\n      <td>27.0</td>\n      <td>0</td>\n      <td>0</td>\n      <td>211536</td>\n      <td>13.0</td>\n      <td>NaN</td>\n      <td>S</td>\n    </tr>\n    <tr>\n      <th>888</th>\n      <td>1</td>\n      <td>1</td>\n      <td>Graham, Miss. Margaret Edith</td>\n      <td>female</td>\n      <td>19.0</td>\n      <td>0</td>\n      <td>0</td>\n      <td>112053</td>\n      <td>30.0</td>\n      <td>B42</td>\n      <td>S</td>\n    </tr>\n    <tr>\n      <th>889</th>\n      <td>0</td>\n      <td>3</td>\n      <td>Johnston, Miss. Catherine Helen \"Carrie\"</td>\n      <td>female</td>\n      <td>NaN</td>\n      <td>1</td>\n      <td>2</td>\n      <td>W./C. 6607</td>\n      <td>23.4</td>\n      <td>NaN</td>\n      <td>S</td>\n    </tr>\n    <tr>\n      <th>890</th>\n      <td>1</td>\n      <td>1</td>\n      <td>Behr, Mr. Karl Howell</td>\n      <td>male</td>\n      <td>26.0</td>\n      <td>0</td>\n      <td>0</td>\n      <td>111369</td>\n      <td>30.0</td>\n      <td>C148</td>\n      <td>C</td>\n    </tr>\n    <tr>\n      <th>891</th>\n      <td>0</td>\n      <td>3</td>\n      <td>Dooley, Mr. Patrick</td>\n      <td>male</td>\n      <td>32.0</td>\n      <td>0</td>\n      <td>0</td>\n      <td>370376</td>\n      <td>7.8</td>\n      <td>NaN</td>\n      <td>Q</td>\n    </tr>\n  </tbody>\n</table>\n</div>"
     },
     "metadata": {}
    }
   ]
  },
  {
   "cell_type": "markdown",
   "source": "### Step 5. Create a pie chart presenting the male/female proportion",
   "metadata": {
    "id": "54PjCn4MI_nk",
    "cell_id": "00009-6381c8c5-d4ff-4bf3-b29b-0ea90bb55730",
    "deepnote_cell_type": "markdown"
   }
  },
  {
   "cell_type": "code",
   "metadata": {
    "id": "zJXBWLxuKxpc",
    "executionInfo": {
     "status": "ok",
     "timestamp": 1624245334937,
     "user_tz": 240,
     "elapsed": 8,
     "user": {
      "displayName": "Andrés Sánchez",
      "photoUrl": "https://lh3.googleusercontent.com/a-/AOh14Gg69bZMv30ckb-T1MJy0nSxWIHUaP0p2uP6MYBuvQ=s64",
      "userId": "07985253921366566280"
     }
    },
    "cell_id": "00010-e9971cc5-11bd-48f0-9e90-096cadb0770b",
    "deepnote_to_be_reexecuted": false,
    "source_hash": "4bbbf93d",
    "execution_start": 1630098402863,
    "execution_millis": 3,
    "deepnote_cell_type": "code"
   },
   "source": "titanic['Sex'] = titanic['Sex'].apply(str)",
   "execution_count": 5,
   "outputs": []
  },
  {
   "cell_type": "code",
   "metadata": {
    "colab": {
     "base_uri": "https://localhost:8080/",
     "height": 502
    },
    "id": "Ny6OwkjbI_nk",
    "executionInfo": {
     "status": "ok",
     "timestamp": 1624245969337,
     "user_tz": 240,
     "elapsed": 513,
     "user": {
      "displayName": "Andrés Sánchez",
      "photoUrl": "https://lh3.googleusercontent.com/a-/AOh14Gg69bZMv30ckb-T1MJy0nSxWIHUaP0p2uP6MYBuvQ=s64",
      "userId": "07985253921366566280"
     }
    },
    "outputId": "5a7c0c76-5ead-4102-c38a-632b641cb815",
    "cell_id": "00011-696f11ac-6ce4-413a-8331-c634711bca1e",
    "deepnote_to_be_reexecuted": false,
    "source_hash": "c1e4eb48",
    "execution_start": 1630098402869,
    "execution_millis": 130,
    "deepnote_cell_type": "code"
   },
   "source": "fig, ax = plt.subplots(figsize = (8,8))\nax.pie(list(titanic.Sex.value_counts()), shadow=True, labels=['Male', 'Female'], explode = [0, 0.1], startangle=90, autopct='%1.1f%%')\nplt.title('Sex proportion')",
   "execution_count": 6,
   "outputs": [
    {
     "output_type": "execute_result",
     "execution_count": 6,
     "data": {
      "text/plain": "Text(0.5, 1.0, 'Sex proportion')"
     },
     "metadata": {}
    },
    {
     "data": {
      "text/plain": "<Figure size 576x576 with 1 Axes>",
      "image/png": "[encoded data removed]"
     },
     "metadata": {
      "image/png": {
       "width": 454,
       "height": 465
      }
     },
     "output_type": "display_data"
    }
   ]
  },
  {
   "cell_type": "markdown",
   "source": "### Step 6. Create a scatterplot with the Fare payed and the Age, differ the plot color by gender",
   "metadata": {
    "id": "vG4BQJpmI_nk",
    "cell_id": "00012-1bec5b40-0b55-4bb8-9aae-d71bcbfa9a4f",
    "deepnote_cell_type": "markdown"
   }
  },
  {
   "cell_type": "code",
   "metadata": {
    "colab": {
     "base_uri": "https://localhost:8080/",
     "height": 530
    },
    "id": "T7yy7YSzI_nl",
    "executionInfo": {
     "status": "ok",
     "timestamp": 1624246725297,
     "user_tz": 240,
     "elapsed": 587,
     "user": {
      "displayName": "Andrés Sánchez",
      "photoUrl": "https://lh3.googleusercontent.com/a-/AOh14Gg69bZMv30ckb-T1MJy0nSxWIHUaP0p2uP6MYBuvQ=s64",
      "userId": "07985253921366566280"
     }
    },
    "outputId": "febf5c25-bc55-441f-9894-3bc568c93be3",
    "cell_id": "00013-971879fa-60ee-4091-90dd-761db34822c8",
    "deepnote_to_be_reexecuted": false,
    "source_hash": "e16a5139",
    "execution_start": 1630098402997,
    "execution_millis": 202,
    "deepnote_cell_type": "code"
   },
   "source": "fig, ax2 = plt.subplots(figsize = (8, 8))\nax2.scatter(titanic.Age, titanic.Fare, c = titanic['Sex'].map({'male': 'green', 'female': 'red'}))\nplt.grid()\nplt.xlabel('Age')\nplt.ylabel('Fare')\nplt.title('Fare payed by Age')",
   "execution_count": 7,
   "outputs": [
    {
     "output_type": "execute_result",
     "execution_count": 7,
     "data": {
      "text/plain": "Text(0.5, 1.0, 'Fare payed by Age')"
     },
     "metadata": {}
    },
    {
     "data": {
      "text/plain": "<Figure size 576x576 with 1 Axes>",
      "image/png": "[encoded data removed]"
     },
     "metadata": {
      "needs_background": "light",
      "image/png": {
       "width": 500,
       "height": 496
      }
     },
     "output_type": "display_data"
    }
   ]
  },
  {
   "cell_type": "markdown",
   "source": "### Step 7. How many people survived?",
   "metadata": {
    "id": "4o0Mq2pGI_nl",
    "cell_id": "00014-ee30cbc9-d5fc-4ccf-b531-fe30a2050ba4",
    "deepnote_cell_type": "markdown"
   }
  },
  {
   "cell_type": "code",
   "metadata": {
    "colab": {
     "base_uri": "https://localhost:8080/"
    },
    "id": "oC0RWRqEI_nl",
    "executionInfo": {
     "status": "ok",
     "timestamp": 1624246466553,
     "user_tz": 240,
     "elapsed": 202,
     "user": {
      "displayName": "Andrés Sánchez",
      "photoUrl": "https://lh3.googleusercontent.com/a-/AOh14Gg69bZMv30ckb-T1MJy0nSxWIHUaP0p2uP6MYBuvQ=s64",
      "userId": "07985253921366566280"
     }
    },
    "outputId": "fa262f19-f945-419f-9e38-8791f6b1c956",
    "cell_id": "00015-d86393a0-f486-4fcf-bfea-185b48c67f8a",
    "deepnote_to_be_reexecuted": false,
    "source_hash": "215ab23",
    "execution_start": 1630098403195,
    "execution_millis": 8,
    "deepnote_cell_type": "code"
   },
   "source": "titanic.Survived.sum()",
   "execution_count": 8,
   "outputs": [
    {
     "output_type": "execute_result",
     "execution_count": 8,
     "data": {
      "text/plain": "342"
     },
     "metadata": {}
    }
   ]
  },
  {
   "cell_type": "markdown",
   "source": "### Step 8. Create a histogram with the Fare payed",
   "metadata": {
    "id": "34fIqMpVI_nl",
    "cell_id": "00016-44768e58-a861-4b74-822f-d9ca0cb16bde",
    "deepnote_cell_type": "markdown"
   }
  },
  {
   "cell_type": "code",
   "metadata": {
    "colab": {
     "base_uri": "https://localhost:8080/",
     "height": 530
    },
    "id": "pDCVls8GI_nm",
    "executionInfo": {
     "status": "ok",
     "timestamp": 1624246758583,
     "user_tz": 240,
     "elapsed": 568,
     "user": {
      "displayName": "Andrés Sánchez",
      "photoUrl": "https://lh3.googleusercontent.com/a-/AOh14Gg69bZMv30ckb-T1MJy0nSxWIHUaP0p2uP6MYBuvQ=s64",
      "userId": "07985253921366566280"
     }
    },
    "outputId": "1bcd7267-94b6-4b9c-db9e-dd5e431f7780",
    "cell_id": "00017-5a8af34b-c842-4a4d-b81d-e7194a82137e",
    "deepnote_to_be_reexecuted": false,
    "source_hash": "a843c81",
    "execution_start": 1630098403244,
    "execution_millis": 175,
    "deepnote_cell_type": "code"
   },
   "source": "fig, ax3 = plt.subplots(figsize = (15, 8))\nax3.hist(titanic.Fare, bins = 20)\nplt.grid()\nplt.xlabel('Fare.Counts')\nplt.ylabel('Fare')\nplt.title('Fare Counts')",
   "execution_count": 9,
   "outputs": [
    {
     "output_type": "execute_result",
     "execution_count": 9,
     "data": {
      "text/plain": "Text(0.5, 1.0, 'Fare Counts')"
     },
     "metadata": {}
    },
    {
     "data": {
      "text/plain": "<Figure size 1080x576 with 1 Axes>",
      "image/png": "[encoded data removed]"
     },
     "metadata": {
      "needs_background": "light",
      "image/png": {
       "width": 891,
       "height": 496
      }
     },
     "output_type": "display_data"
    }
   ]
  },
  {
   "cell_type": "code",
   "metadata": {
    "id": "WAL9d1RYpLhg",
    "cell_id": "00018-c54a4bb5-2b46-4500-83a7-068358633183",
    "deepnote_to_be_reexecuted": false,
    "source_hash": "b623e53d",
    "execution_start": 1630098403414,
    "execution_millis": 0,
    "deepnote_cell_type": "code"
   },
   "source": "",
   "execution_count": 9,
   "outputs": []
  },
  {
   "cell_type": "markdown",
   "source": "<a style='text-decoration:none;line-height:16px;display:flex;color:#5B5B62;padding:10px;justify-content:end;' href='https://deepnote.com?utm_source=created-in-deepnote-cell&projectId=fe744348-fecc-4b7a-803c-44dba24ecb38' target=\"_blank\">\n<img alt='Created in deepnote.com' style='display:inline;max-height:16px;margin:0px;margin-right:7.5px;' src='data:image/svg+xml;base64,PD94bWwgdmVyc2lvbj0iMS4wIiBlbmNvZGluZz0iVVRGLTgiPz4KPHN2ZyB3aWR0aD0iODBweCIgaGVpZ2h0PSI4MHB4IiB2aWV3Qm94PSIwIDAgODAgODAiIHZlcnNpb249IjEuMSIgeG1sbnM9Imh0dHA6Ly93d3cudzMub3JnLzIwMDAvc3ZnIiB4bWxuczp4bGluaz0iaHR0cDovL3d3dy53My5vcmcvMTk5OS94bGluayI+CiAgICA8IS0tIEdlbmVyYXRvcjogU2tldGNoIDU0LjEgKDc2NDkwKSAtIGh0dHBzOi8vc2tldGNoYXBwLmNvbSAtLT4KICAgIDx0aXRsZT5Hcm91cCAzPC90aXRsZT4KICAgIDxkZXNjPkNyZWF0ZWQgd2l0aCBTa2V0Y2guPC9kZXNjPgogICAgPGcgaWQ9IkxhbmRpbmciIHN0cm9rZT0ibm9uZSIgc3Ryb2tlLXdpZHRoPSIxIiBmaWxsPSJub25lIiBmaWxsLXJ1bGU9ImV2ZW5vZGQiPgogICAgICAgIDxnIGlkPSJBcnRib2FyZCIgdHJhbnNmb3JtPSJ0cmFuc2xhdGUoLTEyMzUuMDAwMDAwLCAtNzkuMDAwMDAwKSI+CiAgICAgICAgICAgIDxnIGlkPSJHcm91cC0zIiB0cmFuc2Zvcm09InRyYW5zbGF0ZSgxMjM1LjAwMDAwMCwgNzkuMDAwMDAwKSI+CiAgICAgICAgICAgICAgICA8cG9seWdvbiBpZD0iUGF0aC0yMCIgZmlsbD0iIzAyNjVCNCIgcG9pbnRzPSIyLjM3NjIzNzYyIDgwIDM4LjA0NzY2NjcgODAgNTcuODIxNzgyMiA3My44MDU3NTkyIDU3LjgyMTc4MjIgMzIuNzU5MjczOSAzOS4xNDAyMjc4IDMxLjY4MzE2ODMiPjwvcG9seWdvbj4KICAgICAgICAgICAgICAgIDxwYXRoIGQ9Ik0zNS4wMDc3MTgsODAgQzQyLjkwNjIwMDcsNzYuNDU0OTM1OCA0Ny41NjQ5MTY3LDcxLjU0MjI2NzEgNDguOTgzODY2LDY1LjI2MTk5MzkgQzUxLjExMjI4OTksNTUuODQxNTg0MiA0MS42NzcxNzk1LDQ5LjIxMjIyODQgMjUuNjIzOTg0Niw0OS4yMTIyMjg0IEMyNS40ODQ5Mjg5LDQ5LjEyNjg0NDggMjkuODI2MTI5Niw0My4yODM4MjQ4IDM4LjY0NzU4NjksMzEuNjgzMTY4MyBMNzIuODcxMjg3MSwzMi41NTQ0MjUgTDY1LjI4MDk3Myw2Ny42NzYzNDIxIEw1MS4xMTIyODk5LDc3LjM3NjE0NCBMMzUuMDA3NzE4LDgwIFoiIGlkPSJQYXRoLTIyIiBmaWxsPSIjMDAyODY4Ij48L3BhdGg+CiAgICAgICAgICAgICAgICA8cGF0aCBkPSJNMCwzNy43MzA0NDA1IEwyNy4xMTQ1MzcsMC4yNTcxMTE0MzYgQzYyLjM3MTUxMjMsLTEuOTkwNzE3MDEgODAsMTAuNTAwMzkyNyA4MCwzNy43MzA0NDA1IEM4MCw2NC45NjA0ODgyIDY0Ljc3NjUwMzgsNzkuMDUwMzQxNCAzNC4zMjk1MTEzLDgwIEM0Ny4wNTUzNDg5LDc3LjU2NzA4MDggNTMuNDE4MjY3Nyw3MC4zMTM2MTAzIDUzLjQxODI2NzcsNTguMjM5NTg4NSBDNTMuNDE4MjY3Nyw0MC4xMjg1NTU3IDM2LjMwMzk1NDQsMzcuNzMwNDQwNSAyNS4yMjc0MTcsMzcuNzMwNDQwNSBDMTcuODQzMDU4NiwzNy43MzA0NDA1IDkuNDMzOTE5NjYsMzcuNzMwNDQwNSAwLDM3LjczMDQ0MDUgWiIgaWQ9IlBhdGgtMTkiIGZpbGw9IiMzNzkzRUYiPjwvcGF0aD4KICAgICAgICAgICAgPC9nPgogICAgICAgIDwvZz4KICAgIDwvZz4KPC9zdmc+' > </img>\nCreated in <span style='font-weight:600;margin-left:4px;'>Deepnote</span></a>",
   "metadata": {
    "tags": [],
    "created_in_deepnote_cell": true,
    "deepnote_cell_type": "markdown"
   }
  }
 ],
 "nbformat": 4,
 "nbformat_minor": 0,
 "metadata": {
  "kernelspec": {
   "display_name": "Python 2",
   "language": "python",
   "name": "python2"
  },
  "language_info": {
   "codemirror_mode": {
    "name": "ipython",
    "version": 2
   },
   "file_extension": ".py",
   "mimetype": "text/x-python",
   "name": "python",
   "nbconvert_exporter": "python",
   "pygments_lexer": "ipython2",
   "version": "2.7.16"
  },
  "colab": {
   "name": "Exercises.ipynb",
   "provenance": [],
   "collapsed_sections": []
  },
  "deepnote_notebook_id": "50dba143-e250-433e-a603-d7aa47fcad20",
  "deepnote": {},
  "deepnote_execution_queue": []
 }
}